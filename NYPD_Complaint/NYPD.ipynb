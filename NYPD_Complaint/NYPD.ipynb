{
  "nbformat": 4,
  "nbformat_minor": 0,
  "metadata": {
    "kernelspec": {
      "display_name": "Python 3",
      "language": "python",
      "name": "python3"
    },
    "language_info": {
      "codemirror_mode": {
        "name": "ipython",
        "version": 3
      },
      "file_extension": ".py",
      "mimetype": "text/x-python",
      "name": "python",
      "nbconvert_exporter": "python",
      "pygments_lexer": "ipython3",
      "version": "3.6.9"
    },
    "colab": {
      "name": "NYPD.ipynb",
      "provenance": [],
      "toc_visible": true,
      "machine_shape": "hm",
      "include_colab_link": true
    }
  },
  "cells": [
    {
      "cell_type": "markdown",
      "metadata": {
        "id": "view-in-github",
        "colab_type": "text"
      },
      "source": [
        "<a href=\"https://colab.research.google.com/github/ipeirotis-org/datasets/blob/main/NYPD_Complaint/NYPD.ipynb\" target=\"_parent\"><img src=\"https://colab.research.google.com/assets/colab-badge.svg\" alt=\"Open In Colab\"/></a>"
      ]
    },
    {
      "cell_type": "markdown",
      "metadata": {
        "id": "GOZM1miw5mmu"
      },
      "source": [
        "## NYPD Dataset\n",
        "\n",
        "Dataset description at\n",
        "https://data.cityofnewyork.us/Public-Safety/NYPD-Complaint-Data-Historic/qgea-i56i\n"
      ]
    },
    {
      "cell_type": "markdown",
      "metadata": {
        "id": "3E6Bimj_5mmy"
      },
      "source": [
        "\n",
        "| Column | Description |\n",
        "|--------|-------------------|\n",
        "| CMPLNT_NUM |  Randomly generated persistent ID for each complaint  |  \n",
        "| ADDR_PCT_CD |  The precinct in which the incident occurred |  \n",
        "| BORO |  The name of the borough in which the incident occurred |  \n",
        "| CMPLNT_FR_DT |  Exact date of occurrence for the reported event (or starting date of occurrence, if CMPLNT_TO_DT exists) |  \n",
        "| CMPLNT_FR_TM |  Exact time of occurrence for the reported event (or starting time of occurrence, if CMPLNT_TO_TM exists) |  \n",
        "| CMPLNT_TO_DT |  Ending date of occurrence for the reported event, if exact time of occurrence is unknown |  \n",
        "| CMPLNT_TO_TM |  Ending time of occurrence for the reported event, if exact time of occurrence is unknown |  \n",
        "| CRM_ATPT_CPTD_CD |  Indicator of whether crime was successfully completed or attempted, but failed or was interrupted prematurely |  \n",
        "| HADEVELOPT |  Name of NYCHA housing development of occurrence, if applicable |  \n",
        "| HOUSING_PSA |  Development Level Code |  \n",
        "| JURISDICTION_CODE |  Jurisdiction responsible for incident. Either internal, like Police(0), Transit(1), and Housing(2); or external(3), like Correction, Port Authority, etc. |  \n",
        "| JURIS_DESC |  Description of the jurisdiction code |  \n",
        "| KY_CD |  Three digit offense classification code |  \n",
        "| LAW_CAT_CD |  Level of offense: felony, misdemeanor, violation  |  \n",
        "| LOC_OF_OCCUR_DESC |  Specific location of occurrence in or around the premises; inside, opposite of, front of, rear of |  \n",
        "| OFNS_DESC |  Description of offense corresponding with key code |  \n",
        "| PARKS_NM |  Name of NYC park, playground or greenspace of occurrence, if applicable (state parks are not included) |  \n",
        "| PATROL_BORO |  The name of the patrol borough in which the incident occurred |  \n",
        "| PD_CD |  Three digit internal classification code (more granular than Key Code) |  \n",
        "| PD_DESC |  Description of internal classification corresponding with PD code (more granular than Offense Description) |  \n",
        "| PREM_TYP_DESC |  Specific description of premises; grocery store, residence, street, etc. |  \n",
        "| RPT_DT |  Date event was reported to police  |  \n",
        "| STATION_NAME |  Transit station name |  \n",
        "| SUSP_AGE_GROUP |  Suspect’s Age Group |  \n",
        "| SUSP_RACE |  Suspect’s Race Description |  \n",
        "| SUSP_SEX |  Suspect’s Sex Description |  \n",
        "| TRANSIT_DISTRICT |  Transit district in which the offense occurred. |  \n",
        "| VIC_AGE_GROUP |  Victim’s Age Group |  \n",
        "| VIC_RACE |  Victim’s Race Description |  \n",
        "| VIC_SEX |  Victim’s Sex Description |  \n",
        "| X_COORD_CD |  X-coordinate for New York State Plane Coordinate System, Long Island Zone, NAD 83, units feet (FIPS 3104) |  \n",
        "| Y_COORD_CD |  Y-coordinate for New York State Plane Coordinate System, Long Island Zone, NAD 83, units feet (FIPS 3104) |  \n",
        "| Latitude |  Midblock Latitude coordinate for Global Coordinate System, WGS 1984, decimal degrees (EPSG 4326)  |  \n",
        "| Longitude |  Midblock Longitude coordinate for Global Coordinate System, WGS 1984, decimal degrees (EPSG 4326) |\n"
      ]
    },
    {
      "cell_type": "code",
      "source": [
        "!pip install -q google-cloud-secret-manager\n",
        "\n",
        "from google.colab import auth\n",
        "auth.authenticate_user()\n",
        "\n",
        "from google.cloud import secretmanager\n",
        "\n",
        "def access_secret_version(project_id, secret_id, version_id):\n",
        "    \"\"\"\n",
        "    Access the payload of the given secret version and return it.\n",
        "\n",
        "    Args:\n",
        "        project_id (str): Google Cloud project ID.\n",
        "        secret_id (str): ID of the secret to access.\n",
        "        version_id (str): ID of the version to access.\n",
        "    Returns:\n",
        "        str: The secret version's payload, or None if\n",
        "        the version does not exist.\n",
        "    \"\"\"\n",
        "    client = secretmanager.SecretManagerServiceClient()\n",
        "    name = f\"projects/{project_id}/secrets/{secret_id}/versions/{version_id}\"\n",
        "    response = client.access_secret_version(request={\"name\": name})\n",
        "    return response.payload.data.decode(\"UTF-8\")\n",
        "\n",
        "\n",
        "mysql_pass = access_secret_version(\"nyu-datasets\", \"MYSQL_PASSWORD\", \"latest\")"
      ],
      "metadata": {
        "id": "6oZ_15cE7Aw7",
        "colab": {
          "base_uri": "https://localhost:8080/"
        },
        "outputId": "52e55e97-360e-4fd6-b05a-7b123e1965ff"
      },
      "execution_count": 1,
      "outputs": [
        {
          "output_type": "stream",
          "name": "stdout",
          "text": [
            "\u001b[?25l   \u001b[90m━━━━━━━━━━━━━━━━━━━━━━━━━━━━━━━━━━━━━━━━\u001b[0m \u001b[32m0.0/218.1 kB\u001b[0m \u001b[31m?\u001b[0m eta \u001b[36m-:--:--\u001b[0m\r\u001b[2K   \u001b[91m━━━━━━━━━━━━━━━━━━━━━━━━━━\u001b[0m\u001b[90m╺\u001b[0m\u001b[90m━━━━━━━━━━━━━\u001b[0m \u001b[32m143.4/218.1 kB\u001b[0m \u001b[31m4.6 MB/s\u001b[0m eta \u001b[36m0:00:01\u001b[0m\r\u001b[2K   \u001b[90m━━━━━━━━━━━━━━━━━━━━━━━━━━━━━━━━━━━━━━━━\u001b[0m \u001b[32m218.1/218.1 kB\u001b[0m \u001b[31m3.9 MB/s\u001b[0m eta \u001b[36m0:00:00\u001b[0m\n",
            "\u001b[?25h"
          ]
        }
      ]
    },
    {
      "cell_type": "code",
      "metadata": {
        "id": "04SFECct5mm0"
      },
      "source": [
        "import pandas as pd\n",
        "import numpy as np"
      ],
      "execution_count": 2,
      "outputs": []
    },
    {
      "cell_type": "code",
      "metadata": {
        "id": "-XiIq4vd5mm1",
        "colab": {
          "base_uri": "https://localhost:8080/"
        },
        "outputId": "0bebda90-ba40-4f18-df1c-364c2f820b08"
      },
      "source": [
        "# We load everything as an object/string, because some data types (e.g., some IDs)\n",
        "# are recognized as decimals, and it is a mess to restore them back\n",
        "# So we will do all the conversions ourselves later on\n",
        "\n",
        "# From https://data.cityofnewyork.us/Public-Safety/NYPD-Complaint-Data-Historic/qgea-i56i/data\n",
        "!curl 'https://data.cityofnewyork.us/api/views/qgea-i56i/rows.csv?accessType=DOWNLOAD' -o nypd.csv\n"
      ],
      "execution_count": 3,
      "outputs": [
        {
          "output_type": "stream",
          "name": "stdout",
          "text": [
            "  % Total    % Received % Xferd  Average Speed   Time    Time     Time  Current\n",
            "                                 Dload  Upload   Total   Spent    Left  Speed\n",
            "100 3079M    0 3079M    0     0  5655k      0 --:--:--  0:09:17 --:--:-- 5367k\n"
          ]
        }
      ]
    },
    {
      "cell_type": "code",
      "metadata": {
        "id": "tOdfVrSVw5fz",
        "colab": {
          "base_uri": "https://localhost:8080/"
        },
        "outputId": "5dc7b0f4-c06c-414c-9641-5241a2fe8359"
      },
      "source": [
        "%%time\n",
        "df = pd.read_csv('nypd.csv', low_memory = True, dtype='object')"
      ],
      "execution_count": 4,
      "outputs": [
        {
          "output_type": "stream",
          "name": "stdout",
          "text": [
            "CPU times: user 30.2 s, sys: 3.15 s, total: 33.3 s\n",
            "Wall time: 33.3 s\n"
          ]
        }
      ]
    },
    {
      "cell_type": "code",
      "metadata": {
        "id": "VNdvd4kY5mm1",
        "outputId": "00714888-8068-40fa-c006-7cb92b2d3c32",
        "colab": {
          "base_uri": "https://localhost:8080/"
        }
      },
      "source": [
        "len(df)"
      ],
      "execution_count": 5,
      "outputs": [
        {
          "output_type": "execute_result",
          "data": {
            "text/plain": [
              "9491946"
            ]
          },
          "metadata": {},
          "execution_count": 5
        }
      ]
    },
    {
      "cell_type": "code",
      "source": [
        "df = df.replace(to_replace = '(null)', value=None)"
      ],
      "metadata": {
        "id": "8FQ9XtgLl2AD"
      },
      "execution_count": 6,
      "outputs": []
    },
    {
      "cell_type": "code",
      "source": [
        "df = df.replace(to_replace = 'UNKNOWN', value=None)"
      ],
      "metadata": {
        "id": "AA1tQdI8k9pq"
      },
      "execution_count": 7,
      "outputs": []
    },
    {
      "cell_type": "code",
      "metadata": {
        "id": "LEnqUtmb5mm3",
        "colab": {
          "base_uri": "https://localhost:8080/"
        },
        "outputId": "0f114f28-c00a-417f-f69e-58cb217035df"
      },
      "source": [
        "df.info()"
      ],
      "execution_count": 8,
      "outputs": [
        {
          "output_type": "stream",
          "name": "stdout",
          "text": [
            "<class 'pandas.core.frame.DataFrame'>\n",
            "RangeIndex: 9491946 entries, 0 to 9491945\n",
            "Data columns (total 35 columns):\n",
            " #   Column             Dtype \n",
            "---  ------             ----- \n",
            " 0   CMPLNT_NUM         object\n",
            " 1   CMPLNT_FR_DT       object\n",
            " 2   CMPLNT_FR_TM       object\n",
            " 3   CMPLNT_TO_DT       object\n",
            " 4   CMPLNT_TO_TM       object\n",
            " 5   ADDR_PCT_CD        object\n",
            " 6   RPT_DT             object\n",
            " 7   KY_CD              object\n",
            " 8   OFNS_DESC          object\n",
            " 9   PD_CD              object\n",
            " 10  PD_DESC            object\n",
            " 11  CRM_ATPT_CPTD_CD   object\n",
            " 12  LAW_CAT_CD         object\n",
            " 13  BORO_NM            object\n",
            " 14  LOC_OF_OCCUR_DESC  object\n",
            " 15  PREM_TYP_DESC      object\n",
            " 16  JURIS_DESC         object\n",
            " 17  JURISDICTION_CODE  object\n",
            " 18  PARKS_NM           object\n",
            " 19  HADEVELOPT         object\n",
            " 20  HOUSING_PSA        object\n",
            " 21  X_COORD_CD         object\n",
            " 22  Y_COORD_CD         object\n",
            " 23  SUSP_AGE_GROUP     object\n",
            " 24  SUSP_RACE          object\n",
            " 25  SUSP_SEX           object\n",
            " 26  TRANSIT_DISTRICT   object\n",
            " 27  Latitude           object\n",
            " 28  Longitude          object\n",
            " 29  Lat_Lon            object\n",
            " 30  PATROL_BORO        object\n",
            " 31  STATION_NAME       object\n",
            " 32  VIC_AGE_GROUP      object\n",
            " 33  VIC_RACE           object\n",
            " 34  VIC_SEX            object\n",
            "dtypes: object(35)\n",
            "memory usage: 2.5+ GB\n"
          ]
        }
      ]
    },
    {
      "cell_type": "markdown",
      "metadata": {
        "id": "iom7bUxU5mm4"
      },
      "source": [
        "## Data Cleaning"
      ]
    },
    {
      "cell_type": "code",
      "metadata": {
        "id": "_7AjsFKk_8O0"
      },
      "source": [
        "# These columns are redundant\n",
        "to_drop = ['Lat_Lon','X_COORD_CD','Y_COORD_CD']\n",
        "\n",
        "# We have the longitude and latitude so the other coordinates are not needed\n",
        "df = df.drop(to_drop, axis='columns')"
      ],
      "execution_count": 9,
      "outputs": []
    },
    {
      "cell_type": "markdown",
      "metadata": {
        "id": "cneciJ0ychcz"
      },
      "source": [
        "###  CMPLNT_NUM         object   "
      ]
    },
    {
      "cell_type": "code",
      "source": [
        "before = len(df)\n",
        "\n",
        "# Remove any non-numeric characters from the CMPLNT_NUM attribute\n",
        "df['CMPLNT_NUM'] = df['CMPLNT_NUM'].str.replace(r'\\D', '', regex=True)\n",
        "\n",
        "df['CMPLNT_NUM'] = pd.to_numeric(df['CMPLNT_NUM'], errors=\"coerce\")\n",
        "df['CMPLNT_NUM'] = np.abs(df['CMPLNT_NUM'].astype('Int64'))\n",
        "\n",
        "df = df[~df['CMPLNT_NUM'].isna()]\n",
        "# Drop cases with duplicated complaint numbers\n",
        "key_cnt = df['CMPLNT_NUM'].value_counts()\n",
        "key_cnt [ key_cnt>1 ]\n",
        "df = df[ ~df['CMPLNT_NUM'].isin( key_cnt [ key_cnt>1 ].index.values ) ]\n",
        "\n",
        "after = len(df)\n",
        "print(f'Removed {before - after} rows')"
      ],
      "metadata": {
        "id": "KZTxemglnQn5",
        "colab": {
          "base_uri": "https://localhost:8080/"
        },
        "outputId": "47ea1ec8-6c57-4a46-9cb0-661af71f7986"
      },
      "execution_count": 10,
      "outputs": [
        {
          "output_type": "stream",
          "name": "stdout",
          "text": [
            "Removed 2210 rows\n"
          ]
        }
      ]
    },
    {
      "cell_type": "markdown",
      "metadata": {
        "id": "FHn3_6rjcj0t"
      },
      "source": [
        "### CMPLNT_FR_DT       object\n",
        "### CMPLNT_FR_TM       object\n",
        "### CMPLNT_TO_DT       object\n",
        "### CMPLNT_TO_TM       object"
      ]
    },
    {
      "cell_type": "code",
      "source": [
        "# CMPLNT_FR_DT_mask = df.CMPLNT_FR_DT.str.match(r'(\\d\\d)/(\\d\\d)/10(\\d\\d)', na=False)\n",
        "\n",
        "# CMPLNT_TO_DT_mask = df.CMPLNT_TO_DT.str.match(r'(\\d\\d)/(\\d\\d)/10(\\d\\d)', na=False)\n",
        "\n",
        "# df[CMPLNT_TO_DT_mask]"
      ],
      "metadata": {
        "id": "3ZWfv2vWmNoE"
      },
      "execution_count": 11,
      "outputs": []
    },
    {
      "cell_type": "code",
      "metadata": {
        "id": "f2F3vSC_5mm5"
      },
      "source": [
        "# There are a few rows that contain year 1015, 1016, ... that trigger an error during date conversion\n",
        "# We replace all years written as 10XX with 20XX\n",
        "# Note the usage of regular expressions\n",
        "df.CMPLNT_FR_DT = df.CMPLNT_FR_DT.replace(to_replace = '(\\d\\d)/(\\d\\d)/10(\\d\\d)', value=r'\\1/\\2/20\\3', regex=True )\n",
        "df.CMPLNT_TO_DT = df.CMPLNT_TO_DT.replace(to_replace = '(\\d\\d)/(\\d\\d)/10(\\d\\d)', value=r'\\1/\\2/20\\3', regex=True )\n",
        "\n",
        "# Similarly, a few hours are written as 24:00:00, which also triggers errors.\n",
        "# We fix these hours\n",
        "df.CMPLNT_FR_TM = df.CMPLNT_FR_TM.replace(to_replace = '24:00:00', value='00:00:00')\n",
        "df.CMPLNT_TO_TM = df.CMPLNT_TO_TM.replace(to_replace = '24:00:00', value='00:00:00')\n",
        "\n",
        "# Convert the two separate date and time columns into single datetime columns\n",
        "df['CMPLNT_FR'] = pd.to_datetime(df.CMPLNT_FR_DT + ' ' + df.CMPLNT_FR_TM, format='%m/%d/%Y %H:%M:%S', cache=True, errors=\"coerce\")\n",
        "df['CMPLNT_TO'] = pd.to_datetime(df.CMPLNT_TO_DT + ' ' + df.CMPLNT_TO_TM, format='%m/%d/%Y %H:%M:%S', cache=True, errors=\"coerce\")\n",
        "\n",
        "# We created the CMPLNT_FR and CMPLNT_TO columns, these columns are redundant\n",
        "to_drop = ['CMPLNT_FR_DT','CMPLNT_TO_DT','CMPLNT_FR_TM','CMPLNT_TO_TM']\n",
        "df = df.drop(to_drop, axis='columns')"
      ],
      "execution_count": 12,
      "outputs": []
    },
    {
      "cell_type": "code",
      "source": [
        "len(df)"
      ],
      "metadata": {
        "colab": {
          "base_uri": "https://localhost:8080/"
        },
        "id": "pDHkQGIuom6P",
        "outputId": "b4e8ce85-8153-40f9-c465-f53d3a6862dc"
      },
      "execution_count": 13,
      "outputs": [
        {
          "output_type": "execute_result",
          "data": {
            "text/plain": [
              "9489736"
            ]
          },
          "metadata": {},
          "execution_count": 13
        }
      ]
    },
    {
      "cell_type": "code",
      "metadata": {
        "id": "W75-d3hf5mm6",
        "colab": {
          "base_uri": "https://localhost:8080/"
        },
        "outputId": "d03ddc5e-93aa-442d-d17e-c7fc04097afa"
      },
      "source": [
        "df.CMPLNT_FR.isnull().sum()"
      ],
      "execution_count": 14,
      "outputs": [
        {
          "output_type": "execute_result",
          "data": {
            "text/plain": [
              "np.int64(702)"
            ]
          },
          "metadata": {},
          "execution_count": 14
        }
      ]
    },
    {
      "cell_type": "code",
      "metadata": {
        "id": "y_L6v8D-5mm6",
        "colab": {
          "base_uri": "https://localhost:8080/"
        },
        "outputId": "d19abb78-dec1-45c9-ed93-78726bbc6e71"
      },
      "source": [
        "df.CMPLNT_TO.isnull().sum()"
      ],
      "execution_count": 15,
      "outputs": [
        {
          "output_type": "execute_result",
          "data": {
            "text/plain": [
              "np.int64(1849326)"
            ]
          },
          "metadata": {},
          "execution_count": 15
        }
      ]
    },
    {
      "cell_type": "code",
      "metadata": {
        "id": "Wew9yE3KEU4h",
        "colab": {
          "base_uri": "https://localhost:8080/"
        },
        "outputId": "0752f74f-2962-4a49-b537-ecbc2c7f74f7"
      },
      "source": [
        "before = len(df)\n",
        "# df = df [ ~df.CMPLNT_FR.isnull() ]\n",
        "after = len(df)\n",
        "print(f'Removed {before - after} rows')"
      ],
      "execution_count": 16,
      "outputs": [
        {
          "output_type": "stream",
          "name": "stdout",
          "text": [
            "Removed 0 rows\n"
          ]
        }
      ]
    },
    {
      "cell_type": "code",
      "source": [
        "len(df)"
      ],
      "metadata": {
        "id": "9yqOo6XPoxsa",
        "colab": {
          "base_uri": "https://localhost:8080/"
        },
        "outputId": "9c230106-fbdf-44f0-dee0-577ec833d033"
      },
      "execution_count": 17,
      "outputs": [
        {
          "output_type": "execute_result",
          "data": {
            "text/plain": [
              "9489736"
            ]
          },
          "metadata": {},
          "execution_count": 17
        }
      ]
    },
    {
      "cell_type": "markdown",
      "metadata": {
        "id": "9LWq_gxRcn5X"
      },
      "source": [
        "###  ADDR_PCT_CD        object"
      ]
    },
    {
      "cell_type": "code",
      "metadata": {
        "id": "icQPQRXI_S0s"
      },
      "source": [
        "df.ADDR_PCT_CD = df.ADDR_PCT_CD.replace(to_replace = '-99', value='99')\n",
        "# df = df [ ~df.ADDR_PCT_CD.isnull() ]\n",
        "# df.ADDR_PCT_CD = pd.Categorical(df.ADDR_PCT_CD)"
      ],
      "execution_count": 18,
      "outputs": []
    },
    {
      "cell_type": "markdown",
      "metadata": {
        "id": "jJy7ffBvcpUT"
      },
      "source": [
        "###  RPT_DT             object"
      ]
    },
    {
      "cell_type": "code",
      "metadata": {
        "id": "vSDFSmV__YsE"
      },
      "source": [
        "# Convert RPT_DT to date\n",
        "df.RPT_DT = pd.to_datetime(df.RPT_DT, format=\"%m/%d/%Y\", cache=True)"
      ],
      "execution_count": 19,
      "outputs": []
    },
    {
      "cell_type": "code",
      "source": [],
      "metadata": {
        "id": "OKKuuaoaldaH"
      },
      "execution_count": 19,
      "outputs": []
    },
    {
      "cell_type": "markdown",
      "metadata": {
        "id": "PMJyvnercqxR"
      },
      "source": [
        "###   KY_CD  &  OFNS_DESC"
      ]
    },
    {
      "cell_type": "code",
      "source": [
        "df.KY_CD.value_counts(dropna=False)"
      ],
      "metadata": {
        "id": "e6wNzscym0X-",
        "outputId": "e3dd0ffa-e788-481c-f57a-543a31980d91",
        "colab": {
          "base_uri": "https://localhost:8080/",
          "height": 490
        }
      },
      "execution_count": 20,
      "outputs": [
        {
          "output_type": "execute_result",
          "data": {
            "text/plain": [
              "KY_CD\n",
              "341    1666568\n",
              "578    1272986\n",
              "344     998256\n",
              "109     831595\n",
              "351     732787\n",
              "        ...   \n",
              "460         16\n",
              "357         15\n",
              "123          7\n",
              "362          5\n",
              "577          3\n",
              "Name: count, Length: 75, dtype: int64"
            ],
            "text/html": [
              "<div>\n",
              "<style scoped>\n",
              "    .dataframe tbody tr th:only-of-type {\n",
              "        vertical-align: middle;\n",
              "    }\n",
              "\n",
              "    .dataframe tbody tr th {\n",
              "        vertical-align: top;\n",
              "    }\n",
              "\n",
              "    .dataframe thead th {\n",
              "        text-align: right;\n",
              "    }\n",
              "</style>\n",
              "<table border=\"1\" class=\"dataframe\">\n",
              "  <thead>\n",
              "    <tr style=\"text-align: right;\">\n",
              "      <th></th>\n",
              "      <th>count</th>\n",
              "    </tr>\n",
              "    <tr>\n",
              "      <th>KY_CD</th>\n",
              "      <th></th>\n",
              "    </tr>\n",
              "  </thead>\n",
              "  <tbody>\n",
              "    <tr>\n",
              "      <th>341</th>\n",
              "      <td>1666568</td>\n",
              "    </tr>\n",
              "    <tr>\n",
              "      <th>578</th>\n",
              "      <td>1272986</td>\n",
              "    </tr>\n",
              "    <tr>\n",
              "      <th>344</th>\n",
              "      <td>998256</td>\n",
              "    </tr>\n",
              "    <tr>\n",
              "      <th>109</th>\n",
              "      <td>831595</td>\n",
              "    </tr>\n",
              "    <tr>\n",
              "      <th>351</th>\n",
              "      <td>732787</td>\n",
              "    </tr>\n",
              "    <tr>\n",
              "      <th>...</th>\n",
              "      <td>...</td>\n",
              "    </tr>\n",
              "    <tr>\n",
              "      <th>460</th>\n",
              "      <td>16</td>\n",
              "    </tr>\n",
              "    <tr>\n",
              "      <th>357</th>\n",
              "      <td>15</td>\n",
              "    </tr>\n",
              "    <tr>\n",
              "      <th>123</th>\n",
              "      <td>7</td>\n",
              "    </tr>\n",
              "    <tr>\n",
              "      <th>362</th>\n",
              "      <td>5</td>\n",
              "    </tr>\n",
              "    <tr>\n",
              "      <th>577</th>\n",
              "      <td>3</td>\n",
              "    </tr>\n",
              "  </tbody>\n",
              "</table>\n",
              "<p>75 rows × 1 columns</p>\n",
              "</div><br><label><b>dtype:</b> int64</label>"
            ]
          },
          "metadata": {},
          "execution_count": 20
        }
      ]
    },
    {
      "cell_type": "code",
      "metadata": {
        "id": "hqgAxM-F5mm7",
        "colab": {
          "base_uri": "https://localhost:8080/",
          "height": 424
        },
        "outputId": "1e44f10b-f3ad-4811-c278-2b1d512904b4"
      },
      "source": [
        "df.OFNS_DESC = df.OFNS_DESC.replace(to_replace = 'KIDNAPPING', value='KIDNAPPING & RELATED OFFENSES')\n",
        "df.OFNS_DESC = df.OFNS_DESC.replace(to_replace = 'KIDNAPPING AND RELATED OFFENSES', value='KIDNAPPING & RELATED OFFENSES')\n",
        "df.OFNS_DESC = df.OFNS_DESC.replace(to_replace = 'AGRICULTURE & MRKTS LAW-UNCLASSIFIED', value='OTHER STATE LAWS (NON PENAL LAW)')\n",
        "df.OFNS_DESC = df.OFNS_DESC.replace(to_replace = 'OTHER STATE LAWS (NON PENAL LA', value='OTHER STATE LAWS (NON PENAL LAW)')\n",
        "df.OFNS_DESC = df.OFNS_DESC.replace(to_replace = 'ENDAN WELFARE INCOMP', value='OFFENSES RELATED TO CHILDREN')\n",
        "df.OFNS_DESC = df.OFNS_DESC.replace(to_replace = 'THEFT OF SERVICES', value='OTHER OFFENSES RELATED TO THEF')\n",
        "df.OFNS_DESC = df.OFNS_DESC.replace(to_replace = 'NYS LAWS-UNCLASSIFIED VIOLATION', value='OTHER STATE LAWS')\n",
        "df.OFNS_DESC = df.OFNS_DESC.replace(to_replace = 'FELONY SEX CRIMES', value='SEX CRIMES')\n",
        "\n",
        "df.loc[df.KY_CD=='120','OFNS_DESC'] ='CHILD ABANDONMENT/NON SUPPORT'\n",
        "df.loc[df.KY_CD=='125','OFNS_DESC'] ='NYS LAWS-UNCLASSIFIED FELONY'\n",
        "\n",
        "offenses = df[ [\"KY_CD\", \"OFNS_DESC\"] ].drop_duplicates().dropna()\n",
        "# offenses['KY_CD'] = pd.Categorical(pd.to_numeric(offenses['KY_CD'] ).astype(int))\n",
        "offenses = offenses.set_index(\"KY_CD\")\n",
        "offenses = offenses.sort_index()\n",
        "offenses = offenses.reset_index()\n",
        "\n",
        "offenses = offenses[offenses.OFNS_DESC != \"(null)\"]\n",
        "offenses = offenses.groupby('KY_CD', observed=False).first()['OFNS_DESC']\n",
        "offenses = offenses.reset_index()\n",
        "\n",
        "display(offenses)\n"
      ],
      "execution_count": 21,
      "outputs": [
        {
          "output_type": "display_data",
          "data": {
            "text/plain": [
              "   KY_CD                        OFNS_DESC\n",
              "0    101  MURDER & NON-NEGL. MANSLAUGHTER\n",
              "1    102       HOMICIDE-NEGLIGENT-VEHICLE\n",
              "2    103   HOMICIDE-NEGLIGENT,UNCLASSIFIE\n",
              "3    104                             RAPE\n",
              "4    105                          ROBBERY\n",
              "..   ...                              ...\n",
              "70   676        NEW YORK CITY HEALTH CODE\n",
              "71   677                 OTHER STATE LAWS\n",
              "72   678          MISCELLANEOUS PENAL LAW\n",
              "73   685             ADMINISTRATIVE CODES\n",
              "74   881         OTHER TRAFFIC INFRACTION\n",
              "\n",
              "[75 rows x 2 columns]"
            ],
            "text/html": [
              "\n",
              "  <div id=\"df-e596a512-709a-4996-b259-eb0706283251\" class=\"colab-df-container\">\n",
              "    <div>\n",
              "<style scoped>\n",
              "    .dataframe tbody tr th:only-of-type {\n",
              "        vertical-align: middle;\n",
              "    }\n",
              "\n",
              "    .dataframe tbody tr th {\n",
              "        vertical-align: top;\n",
              "    }\n",
              "\n",
              "    .dataframe thead th {\n",
              "        text-align: right;\n",
              "    }\n",
              "</style>\n",
              "<table border=\"1\" class=\"dataframe\">\n",
              "  <thead>\n",
              "    <tr style=\"text-align: right;\">\n",
              "      <th></th>\n",
              "      <th>KY_CD</th>\n",
              "      <th>OFNS_DESC</th>\n",
              "    </tr>\n",
              "  </thead>\n",
              "  <tbody>\n",
              "    <tr>\n",
              "      <th>0</th>\n",
              "      <td>101</td>\n",
              "      <td>MURDER &amp; NON-NEGL. MANSLAUGHTER</td>\n",
              "    </tr>\n",
              "    <tr>\n",
              "      <th>1</th>\n",
              "      <td>102</td>\n",
              "      <td>HOMICIDE-NEGLIGENT-VEHICLE</td>\n",
              "    </tr>\n",
              "    <tr>\n",
              "      <th>2</th>\n",
              "      <td>103</td>\n",
              "      <td>HOMICIDE-NEGLIGENT,UNCLASSIFIE</td>\n",
              "    </tr>\n",
              "    <tr>\n",
              "      <th>3</th>\n",
              "      <td>104</td>\n",
              "      <td>RAPE</td>\n",
              "    </tr>\n",
              "    <tr>\n",
              "      <th>4</th>\n",
              "      <td>105</td>\n",
              "      <td>ROBBERY</td>\n",
              "    </tr>\n",
              "    <tr>\n",
              "      <th>...</th>\n",
              "      <td>...</td>\n",
              "      <td>...</td>\n",
              "    </tr>\n",
              "    <tr>\n",
              "      <th>70</th>\n",
              "      <td>676</td>\n",
              "      <td>NEW YORK CITY HEALTH CODE</td>\n",
              "    </tr>\n",
              "    <tr>\n",
              "      <th>71</th>\n",
              "      <td>677</td>\n",
              "      <td>OTHER STATE LAWS</td>\n",
              "    </tr>\n",
              "    <tr>\n",
              "      <th>72</th>\n",
              "      <td>678</td>\n",
              "      <td>MISCELLANEOUS PENAL LAW</td>\n",
              "    </tr>\n",
              "    <tr>\n",
              "      <th>73</th>\n",
              "      <td>685</td>\n",
              "      <td>ADMINISTRATIVE CODES</td>\n",
              "    </tr>\n",
              "    <tr>\n",
              "      <th>74</th>\n",
              "      <td>881</td>\n",
              "      <td>OTHER TRAFFIC INFRACTION</td>\n",
              "    </tr>\n",
              "  </tbody>\n",
              "</table>\n",
              "<p>75 rows × 2 columns</p>\n",
              "</div>\n",
              "    <div class=\"colab-df-buttons\">\n",
              "\n",
              "  <div class=\"colab-df-container\">\n",
              "    <button class=\"colab-df-convert\" onclick=\"convertToInteractive('df-e596a512-709a-4996-b259-eb0706283251')\"\n",
              "            title=\"Convert this dataframe to an interactive table.\"\n",
              "            style=\"display:none;\">\n",
              "\n",
              "  <svg xmlns=\"http://www.w3.org/2000/svg\" height=\"24px\" viewBox=\"0 -960 960 960\">\n",
              "    <path d=\"M120-120v-720h720v720H120Zm60-500h600v-160H180v160Zm220 220h160v-160H400v160Zm0 220h160v-160H400v160ZM180-400h160v-160H180v160Zm440 0h160v-160H620v160ZM180-180h160v-160H180v160Zm440 0h160v-160H620v160Z\"/>\n",
              "  </svg>\n",
              "    </button>\n",
              "\n",
              "  <style>\n",
              "    .colab-df-container {\n",
              "      display:flex;\n",
              "      gap: 12px;\n",
              "    }\n",
              "\n",
              "    .colab-df-convert {\n",
              "      background-color: #E8F0FE;\n",
              "      border: none;\n",
              "      border-radius: 50%;\n",
              "      cursor: pointer;\n",
              "      display: none;\n",
              "      fill: #1967D2;\n",
              "      height: 32px;\n",
              "      padding: 0 0 0 0;\n",
              "      width: 32px;\n",
              "    }\n",
              "\n",
              "    .colab-df-convert:hover {\n",
              "      background-color: #E2EBFA;\n",
              "      box-shadow: 0px 1px 2px rgba(60, 64, 67, 0.3), 0px 1px 3px 1px rgba(60, 64, 67, 0.15);\n",
              "      fill: #174EA6;\n",
              "    }\n",
              "\n",
              "    .colab-df-buttons div {\n",
              "      margin-bottom: 4px;\n",
              "    }\n",
              "\n",
              "    [theme=dark] .colab-df-convert {\n",
              "      background-color: #3B4455;\n",
              "      fill: #D2E3FC;\n",
              "    }\n",
              "\n",
              "    [theme=dark] .colab-df-convert:hover {\n",
              "      background-color: #434B5C;\n",
              "      box-shadow: 0px 1px 3px 1px rgba(0, 0, 0, 0.15);\n",
              "      filter: drop-shadow(0px 1px 2px rgba(0, 0, 0, 0.3));\n",
              "      fill: #FFFFFF;\n",
              "    }\n",
              "  </style>\n",
              "\n",
              "    <script>\n",
              "      const buttonEl =\n",
              "        document.querySelector('#df-e596a512-709a-4996-b259-eb0706283251 button.colab-df-convert');\n",
              "      buttonEl.style.display =\n",
              "        google.colab.kernel.accessAllowed ? 'block' : 'none';\n",
              "\n",
              "      async function convertToInteractive(key) {\n",
              "        const element = document.querySelector('#df-e596a512-709a-4996-b259-eb0706283251');\n",
              "        const dataTable =\n",
              "          await google.colab.kernel.invokeFunction('convertToInteractive',\n",
              "                                                    [key], {});\n",
              "        if (!dataTable) return;\n",
              "\n",
              "        const docLinkHtml = 'Like what you see? Visit the ' +\n",
              "          '<a target=\"_blank\" href=https://colab.research.google.com/notebooks/data_table.ipynb>data table notebook</a>'\n",
              "          + ' to learn more about interactive tables.';\n",
              "        element.innerHTML = '';\n",
              "        dataTable['output_type'] = 'display_data';\n",
              "        await google.colab.output.renderOutput(dataTable, element);\n",
              "        const docLink = document.createElement('div');\n",
              "        docLink.innerHTML = docLinkHtml;\n",
              "        element.appendChild(docLink);\n",
              "      }\n",
              "    </script>\n",
              "  </div>\n",
              "\n",
              "\n",
              "    <div id=\"df-bd5ba0be-9b5b-48da-aace-36888b9bdace\">\n",
              "      <button class=\"colab-df-quickchart\" onclick=\"quickchart('df-bd5ba0be-9b5b-48da-aace-36888b9bdace')\"\n",
              "                title=\"Suggest charts\"\n",
              "                style=\"display:none;\">\n",
              "\n",
              "<svg xmlns=\"http://www.w3.org/2000/svg\" height=\"24px\"viewBox=\"0 0 24 24\"\n",
              "     width=\"24px\">\n",
              "    <g>\n",
              "        <path d=\"M19 3H5c-1.1 0-2 .9-2 2v14c0 1.1.9 2 2 2h14c1.1 0 2-.9 2-2V5c0-1.1-.9-2-2-2zM9 17H7v-7h2v7zm4 0h-2V7h2v10zm4 0h-2v-4h2v4z\"/>\n",
              "    </g>\n",
              "</svg>\n",
              "      </button>\n",
              "\n",
              "<style>\n",
              "  .colab-df-quickchart {\n",
              "      --bg-color: #E8F0FE;\n",
              "      --fill-color: #1967D2;\n",
              "      --hover-bg-color: #E2EBFA;\n",
              "      --hover-fill-color: #174EA6;\n",
              "      --disabled-fill-color: #AAA;\n",
              "      --disabled-bg-color: #DDD;\n",
              "  }\n",
              "\n",
              "  [theme=dark] .colab-df-quickchart {\n",
              "      --bg-color: #3B4455;\n",
              "      --fill-color: #D2E3FC;\n",
              "      --hover-bg-color: #434B5C;\n",
              "      --hover-fill-color: #FFFFFF;\n",
              "      --disabled-bg-color: #3B4455;\n",
              "      --disabled-fill-color: #666;\n",
              "  }\n",
              "\n",
              "  .colab-df-quickchart {\n",
              "    background-color: var(--bg-color);\n",
              "    border: none;\n",
              "    border-radius: 50%;\n",
              "    cursor: pointer;\n",
              "    display: none;\n",
              "    fill: var(--fill-color);\n",
              "    height: 32px;\n",
              "    padding: 0;\n",
              "    width: 32px;\n",
              "  }\n",
              "\n",
              "  .colab-df-quickchart:hover {\n",
              "    background-color: var(--hover-bg-color);\n",
              "    box-shadow: 0 1px 2px rgba(60, 64, 67, 0.3), 0 1px 3px 1px rgba(60, 64, 67, 0.15);\n",
              "    fill: var(--button-hover-fill-color);\n",
              "  }\n",
              "\n",
              "  .colab-df-quickchart-complete:disabled,\n",
              "  .colab-df-quickchart-complete:disabled:hover {\n",
              "    background-color: var(--disabled-bg-color);\n",
              "    fill: var(--disabled-fill-color);\n",
              "    box-shadow: none;\n",
              "  }\n",
              "\n",
              "  .colab-df-spinner {\n",
              "    border: 2px solid var(--fill-color);\n",
              "    border-color: transparent;\n",
              "    border-bottom-color: var(--fill-color);\n",
              "    animation:\n",
              "      spin 1s steps(1) infinite;\n",
              "  }\n",
              "\n",
              "  @keyframes spin {\n",
              "    0% {\n",
              "      border-color: transparent;\n",
              "      border-bottom-color: var(--fill-color);\n",
              "      border-left-color: var(--fill-color);\n",
              "    }\n",
              "    20% {\n",
              "      border-color: transparent;\n",
              "      border-left-color: var(--fill-color);\n",
              "      border-top-color: var(--fill-color);\n",
              "    }\n",
              "    30% {\n",
              "      border-color: transparent;\n",
              "      border-left-color: var(--fill-color);\n",
              "      border-top-color: var(--fill-color);\n",
              "      border-right-color: var(--fill-color);\n",
              "    }\n",
              "    40% {\n",
              "      border-color: transparent;\n",
              "      border-right-color: var(--fill-color);\n",
              "      border-top-color: var(--fill-color);\n",
              "    }\n",
              "    60% {\n",
              "      border-color: transparent;\n",
              "      border-right-color: var(--fill-color);\n",
              "    }\n",
              "    80% {\n",
              "      border-color: transparent;\n",
              "      border-right-color: var(--fill-color);\n",
              "      border-bottom-color: var(--fill-color);\n",
              "    }\n",
              "    90% {\n",
              "      border-color: transparent;\n",
              "      border-bottom-color: var(--fill-color);\n",
              "    }\n",
              "  }\n",
              "</style>\n",
              "\n",
              "      <script>\n",
              "        async function quickchart(key) {\n",
              "          const quickchartButtonEl =\n",
              "            document.querySelector('#' + key + ' button');\n",
              "          quickchartButtonEl.disabled = true;  // To prevent multiple clicks.\n",
              "          quickchartButtonEl.classList.add('colab-df-spinner');\n",
              "          try {\n",
              "            const charts = await google.colab.kernel.invokeFunction(\n",
              "                'suggestCharts', [key], {});\n",
              "          } catch (error) {\n",
              "            console.error('Error during call to suggestCharts:', error);\n",
              "          }\n",
              "          quickchartButtonEl.classList.remove('colab-df-spinner');\n",
              "          quickchartButtonEl.classList.add('colab-df-quickchart-complete');\n",
              "        }\n",
              "        (() => {\n",
              "          let quickchartButtonEl =\n",
              "            document.querySelector('#df-bd5ba0be-9b5b-48da-aace-36888b9bdace button');\n",
              "          quickchartButtonEl.style.display =\n",
              "            google.colab.kernel.accessAllowed ? 'block' : 'none';\n",
              "        })();\n",
              "      </script>\n",
              "    </div>\n",
              "\n",
              "  <div id=\"id_3c4ebbf4-dcb4-40a4-bbfb-3055b0926a5d\">\n",
              "    <style>\n",
              "      .colab-df-generate {\n",
              "        background-color: #E8F0FE;\n",
              "        border: none;\n",
              "        border-radius: 50%;\n",
              "        cursor: pointer;\n",
              "        display: none;\n",
              "        fill: #1967D2;\n",
              "        height: 32px;\n",
              "        padding: 0 0 0 0;\n",
              "        width: 32px;\n",
              "      }\n",
              "\n",
              "      .colab-df-generate:hover {\n",
              "        background-color: #E2EBFA;\n",
              "        box-shadow: 0px 1px 2px rgba(60, 64, 67, 0.3), 0px 1px 3px 1px rgba(60, 64, 67, 0.15);\n",
              "        fill: #174EA6;\n",
              "      }\n",
              "\n",
              "      [theme=dark] .colab-df-generate {\n",
              "        background-color: #3B4455;\n",
              "        fill: #D2E3FC;\n",
              "      }\n",
              "\n",
              "      [theme=dark] .colab-df-generate:hover {\n",
              "        background-color: #434B5C;\n",
              "        box-shadow: 0px 1px 3px 1px rgba(0, 0, 0, 0.15);\n",
              "        filter: drop-shadow(0px 1px 2px rgba(0, 0, 0, 0.3));\n",
              "        fill: #FFFFFF;\n",
              "      }\n",
              "    </style>\n",
              "    <button class=\"colab-df-generate\" onclick=\"generateWithVariable('offenses')\"\n",
              "            title=\"Generate code using this dataframe.\"\n",
              "            style=\"display:none;\">\n",
              "\n",
              "  <svg xmlns=\"http://www.w3.org/2000/svg\" height=\"24px\"viewBox=\"0 0 24 24\"\n",
              "       width=\"24px\">\n",
              "    <path d=\"M7,19H8.4L18.45,9,17,7.55,7,17.6ZM5,21V16.75L18.45,3.32a2,2,0,0,1,2.83,0l1.4,1.43a1.91,1.91,0,0,1,.58,1.4,1.91,1.91,0,0,1-.58,1.4L9.25,21ZM18.45,9,17,7.55Zm-12,3A5.31,5.31,0,0,0,4.9,8.1,5.31,5.31,0,0,0,1,6.5,5.31,5.31,0,0,0,4.9,4.9,5.31,5.31,0,0,0,6.5,1,5.31,5.31,0,0,0,8.1,4.9,5.31,5.31,0,0,0,12,6.5,5.46,5.46,0,0,0,6.5,12Z\"/>\n",
              "  </svg>\n",
              "    </button>\n",
              "    <script>\n",
              "      (() => {\n",
              "      const buttonEl =\n",
              "        document.querySelector('#id_3c4ebbf4-dcb4-40a4-bbfb-3055b0926a5d button.colab-df-generate');\n",
              "      buttonEl.style.display =\n",
              "        google.colab.kernel.accessAllowed ? 'block' : 'none';\n",
              "\n",
              "      buttonEl.onclick = () => {\n",
              "        google.colab.notebook.generateWithVariable('offenses');\n",
              "      }\n",
              "      })();\n",
              "    </script>\n",
              "  </div>\n",
              "\n",
              "    </div>\n",
              "  </div>\n"
            ],
            "application/vnd.google.colaboratory.intrinsic+json": {
              "type": "dataframe",
              "variable_name": "offenses",
              "summary": "{\n  \"name\": \"offenses\",\n  \"rows\": 75,\n  \"fields\": [\n    {\n      \"column\": \"KY_CD\",\n      \"properties\": {\n        \"dtype\": \"string\",\n        \"num_unique_values\": 75,\n        \"samples\": [\n          \"105\",\n          \"460\",\n          \"112\"\n        ],\n        \"semantic_type\": \"\",\n        \"description\": \"\"\n      }\n    },\n    {\n      \"column\": \"OFNS_DESC\",\n      \"properties\": {\n        \"dtype\": \"string\",\n        \"num_unique_values\": 64,\n        \"samples\": [\n          \"ADMINISTRATIVE CODE\",\n          \"UNDER THE INFLUENCE OF DRUGS\",\n          \"MURDER & NON-NEGL. MANSLAUGHTER\"\n        ],\n        \"semantic_type\": \"\",\n        \"description\": \"\"\n      }\n    }\n  ]\n}"
            }
          },
          "metadata": {}
        }
      ]
    },
    {
      "cell_type": "code",
      "metadata": {
        "id": "5RYYeU3oGvoY"
      },
      "source": [
        "# df.KY_CD = pd.Categorical(df.KY_CD)"
      ],
      "execution_count": 22,
      "outputs": []
    },
    {
      "cell_type": "code",
      "metadata": {
        "id": "VfNKp2c4JThg"
      },
      "source": [
        "df = df.drop('OFNS_DESC', axis='columns')"
      ],
      "execution_count": 23,
      "outputs": []
    },
    {
      "cell_type": "markdown",
      "metadata": {
        "id": "211BiQHwc-Hi"
      },
      "source": [
        "### 9   PD_CD   &  PD_DESC           "
      ]
    },
    {
      "cell_type": "code",
      "metadata": {
        "id": "sSM0WJ2xFQKi",
        "colab": {
          "base_uri": "https://localhost:8080/",
          "height": 424
        },
        "outputId": "3c3101a3-d8d2-4998-b944-0865edf24ddb"
      },
      "source": [
        "df.loc[df.PD_CD=='694','PD_DESC'] ='INCEST'\n",
        "df.loc[df.PD_CD=='234','PD_DESC'] ='BURGLARY,UNKNOWN TIME'\n",
        "\n",
        "internal = df[ [\"PD_CD\", \"PD_DESC\"] ].drop_duplicates().dropna()\n",
        "# internal['PD_CD'] = pd.Categorical(pd.to_numeric(internal['PD_CD'] ).astype(int))\n",
        "internal = internal.set_index(\"PD_CD\")\n",
        "internal = internal.sort_index()\n",
        "internal = internal.reset_index()\n",
        "\n",
        "internal = internal.query(\"PD_DESC !=\t'CRIMINAL DISPOSAL FIREARM 1 &' \")\n",
        "internal = internal.query(\"PD_DESC !=\t'UNFINSH FRAME 2' \")\n",
        "internal = internal.query(\"PD_DESC !=\t'WEAPONS POSSESSION 1 & 2' \")\n",
        "internal = internal.query(\"PD_DESC !=\t'CRIM POS WEAP 4' \")\n",
        "\n",
        "display(internal)"
      ],
      "execution_count": 24,
      "outputs": [
        {
          "output_type": "display_data",
          "data": {
            "text/plain": [
              "    PD_CD                                 PD_DESC\n",
              "0     100             STALKING COMMIT SEX OFFENSE\n",
              "1     101                               ASSAULT 3\n",
              "2     102             ASSAULT SCHOOL SAFETY AGENT\n",
              "3     103                   ASSAULT TRAFFIC AGENT\n",
              "4     104          VEHICULAR ASSAULT (INTOX DRIVE\n",
              "..    ...                                     ...\n",
              "438   917  LEAVING THE SCENE OF AN ACCIDENT (SPI)\n",
              "439   918                        RECKLESS DRIVING\n",
              "440   922          TRAFFIC,UNCLASSIFIED MISDEMEAN\n",
              "441   969          TRAFFIC,UNCLASSIFIED INFRACTIO\n",
              "442   975             ENVIRONMENTAL CONTROL BOARD\n",
              "\n",
              "[443 rows x 2 columns]"
            ],
            "text/html": [
              "\n",
              "  <div id=\"df-eddff4a1-af76-4961-9071-8e32301ef219\" class=\"colab-df-container\">\n",
              "    <div>\n",
              "<style scoped>\n",
              "    .dataframe tbody tr th:only-of-type {\n",
              "        vertical-align: middle;\n",
              "    }\n",
              "\n",
              "    .dataframe tbody tr th {\n",
              "        vertical-align: top;\n",
              "    }\n",
              "\n",
              "    .dataframe thead th {\n",
              "        text-align: right;\n",
              "    }\n",
              "</style>\n",
              "<table border=\"1\" class=\"dataframe\">\n",
              "  <thead>\n",
              "    <tr style=\"text-align: right;\">\n",
              "      <th></th>\n",
              "      <th>PD_CD</th>\n",
              "      <th>PD_DESC</th>\n",
              "    </tr>\n",
              "  </thead>\n",
              "  <tbody>\n",
              "    <tr>\n",
              "      <th>0</th>\n",
              "      <td>100</td>\n",
              "      <td>STALKING COMMIT SEX OFFENSE</td>\n",
              "    </tr>\n",
              "    <tr>\n",
              "      <th>1</th>\n",
              "      <td>101</td>\n",
              "      <td>ASSAULT 3</td>\n",
              "    </tr>\n",
              "    <tr>\n",
              "      <th>2</th>\n",
              "      <td>102</td>\n",
              "      <td>ASSAULT SCHOOL SAFETY AGENT</td>\n",
              "    </tr>\n",
              "    <tr>\n",
              "      <th>3</th>\n",
              "      <td>103</td>\n",
              "      <td>ASSAULT TRAFFIC AGENT</td>\n",
              "    </tr>\n",
              "    <tr>\n",
              "      <th>4</th>\n",
              "      <td>104</td>\n",
              "      <td>VEHICULAR ASSAULT (INTOX DRIVE</td>\n",
              "    </tr>\n",
              "    <tr>\n",
              "      <th>...</th>\n",
              "      <td>...</td>\n",
              "      <td>...</td>\n",
              "    </tr>\n",
              "    <tr>\n",
              "      <th>438</th>\n",
              "      <td>917</td>\n",
              "      <td>LEAVING THE SCENE OF AN ACCIDENT (SPI)</td>\n",
              "    </tr>\n",
              "    <tr>\n",
              "      <th>439</th>\n",
              "      <td>918</td>\n",
              "      <td>RECKLESS DRIVING</td>\n",
              "    </tr>\n",
              "    <tr>\n",
              "      <th>440</th>\n",
              "      <td>922</td>\n",
              "      <td>TRAFFIC,UNCLASSIFIED MISDEMEAN</td>\n",
              "    </tr>\n",
              "    <tr>\n",
              "      <th>441</th>\n",
              "      <td>969</td>\n",
              "      <td>TRAFFIC,UNCLASSIFIED INFRACTIO</td>\n",
              "    </tr>\n",
              "    <tr>\n",
              "      <th>442</th>\n",
              "      <td>975</td>\n",
              "      <td>ENVIRONMENTAL CONTROL BOARD</td>\n",
              "    </tr>\n",
              "  </tbody>\n",
              "</table>\n",
              "<p>443 rows × 2 columns</p>\n",
              "</div>\n",
              "    <div class=\"colab-df-buttons\">\n",
              "\n",
              "  <div class=\"colab-df-container\">\n",
              "    <button class=\"colab-df-convert\" onclick=\"convertToInteractive('df-eddff4a1-af76-4961-9071-8e32301ef219')\"\n",
              "            title=\"Convert this dataframe to an interactive table.\"\n",
              "            style=\"display:none;\">\n",
              "\n",
              "  <svg xmlns=\"http://www.w3.org/2000/svg\" height=\"24px\" viewBox=\"0 -960 960 960\">\n",
              "    <path d=\"M120-120v-720h720v720H120Zm60-500h600v-160H180v160Zm220 220h160v-160H400v160Zm0 220h160v-160H400v160ZM180-400h160v-160H180v160Zm440 0h160v-160H620v160ZM180-180h160v-160H180v160Zm440 0h160v-160H620v160Z\"/>\n",
              "  </svg>\n",
              "    </button>\n",
              "\n",
              "  <style>\n",
              "    .colab-df-container {\n",
              "      display:flex;\n",
              "      gap: 12px;\n",
              "    }\n",
              "\n",
              "    .colab-df-convert {\n",
              "      background-color: #E8F0FE;\n",
              "      border: none;\n",
              "      border-radius: 50%;\n",
              "      cursor: pointer;\n",
              "      display: none;\n",
              "      fill: #1967D2;\n",
              "      height: 32px;\n",
              "      padding: 0 0 0 0;\n",
              "      width: 32px;\n",
              "    }\n",
              "\n",
              "    .colab-df-convert:hover {\n",
              "      background-color: #E2EBFA;\n",
              "      box-shadow: 0px 1px 2px rgba(60, 64, 67, 0.3), 0px 1px 3px 1px rgba(60, 64, 67, 0.15);\n",
              "      fill: #174EA6;\n",
              "    }\n",
              "\n",
              "    .colab-df-buttons div {\n",
              "      margin-bottom: 4px;\n",
              "    }\n",
              "\n",
              "    [theme=dark] .colab-df-convert {\n",
              "      background-color: #3B4455;\n",
              "      fill: #D2E3FC;\n",
              "    }\n",
              "\n",
              "    [theme=dark] .colab-df-convert:hover {\n",
              "      background-color: #434B5C;\n",
              "      box-shadow: 0px 1px 3px 1px rgba(0, 0, 0, 0.15);\n",
              "      filter: drop-shadow(0px 1px 2px rgba(0, 0, 0, 0.3));\n",
              "      fill: #FFFFFF;\n",
              "    }\n",
              "  </style>\n",
              "\n",
              "    <script>\n",
              "      const buttonEl =\n",
              "        document.querySelector('#df-eddff4a1-af76-4961-9071-8e32301ef219 button.colab-df-convert');\n",
              "      buttonEl.style.display =\n",
              "        google.colab.kernel.accessAllowed ? 'block' : 'none';\n",
              "\n",
              "      async function convertToInteractive(key) {\n",
              "        const element = document.querySelector('#df-eddff4a1-af76-4961-9071-8e32301ef219');\n",
              "        const dataTable =\n",
              "          await google.colab.kernel.invokeFunction('convertToInteractive',\n",
              "                                                    [key], {});\n",
              "        if (!dataTable) return;\n",
              "\n",
              "        const docLinkHtml = 'Like what you see? Visit the ' +\n",
              "          '<a target=\"_blank\" href=https://colab.research.google.com/notebooks/data_table.ipynb>data table notebook</a>'\n",
              "          + ' to learn more about interactive tables.';\n",
              "        element.innerHTML = '';\n",
              "        dataTable['output_type'] = 'display_data';\n",
              "        await google.colab.output.renderOutput(dataTable, element);\n",
              "        const docLink = document.createElement('div');\n",
              "        docLink.innerHTML = docLinkHtml;\n",
              "        element.appendChild(docLink);\n",
              "      }\n",
              "    </script>\n",
              "  </div>\n",
              "\n",
              "\n",
              "    <div id=\"df-334781c7-fa82-41f5-b1f9-6c62e97e5e07\">\n",
              "      <button class=\"colab-df-quickchart\" onclick=\"quickchart('df-334781c7-fa82-41f5-b1f9-6c62e97e5e07')\"\n",
              "                title=\"Suggest charts\"\n",
              "                style=\"display:none;\">\n",
              "\n",
              "<svg xmlns=\"http://www.w3.org/2000/svg\" height=\"24px\"viewBox=\"0 0 24 24\"\n",
              "     width=\"24px\">\n",
              "    <g>\n",
              "        <path d=\"M19 3H5c-1.1 0-2 .9-2 2v14c0 1.1.9 2 2 2h14c1.1 0 2-.9 2-2V5c0-1.1-.9-2-2-2zM9 17H7v-7h2v7zm4 0h-2V7h2v10zm4 0h-2v-4h2v4z\"/>\n",
              "    </g>\n",
              "</svg>\n",
              "      </button>\n",
              "\n",
              "<style>\n",
              "  .colab-df-quickchart {\n",
              "      --bg-color: #E8F0FE;\n",
              "      --fill-color: #1967D2;\n",
              "      --hover-bg-color: #E2EBFA;\n",
              "      --hover-fill-color: #174EA6;\n",
              "      --disabled-fill-color: #AAA;\n",
              "      --disabled-bg-color: #DDD;\n",
              "  }\n",
              "\n",
              "  [theme=dark] .colab-df-quickchart {\n",
              "      --bg-color: #3B4455;\n",
              "      --fill-color: #D2E3FC;\n",
              "      --hover-bg-color: #434B5C;\n",
              "      --hover-fill-color: #FFFFFF;\n",
              "      --disabled-bg-color: #3B4455;\n",
              "      --disabled-fill-color: #666;\n",
              "  }\n",
              "\n",
              "  .colab-df-quickchart {\n",
              "    background-color: var(--bg-color);\n",
              "    border: none;\n",
              "    border-radius: 50%;\n",
              "    cursor: pointer;\n",
              "    display: none;\n",
              "    fill: var(--fill-color);\n",
              "    height: 32px;\n",
              "    padding: 0;\n",
              "    width: 32px;\n",
              "  }\n",
              "\n",
              "  .colab-df-quickchart:hover {\n",
              "    background-color: var(--hover-bg-color);\n",
              "    box-shadow: 0 1px 2px rgba(60, 64, 67, 0.3), 0 1px 3px 1px rgba(60, 64, 67, 0.15);\n",
              "    fill: var(--button-hover-fill-color);\n",
              "  }\n",
              "\n",
              "  .colab-df-quickchart-complete:disabled,\n",
              "  .colab-df-quickchart-complete:disabled:hover {\n",
              "    background-color: var(--disabled-bg-color);\n",
              "    fill: var(--disabled-fill-color);\n",
              "    box-shadow: none;\n",
              "  }\n",
              "\n",
              "  .colab-df-spinner {\n",
              "    border: 2px solid var(--fill-color);\n",
              "    border-color: transparent;\n",
              "    border-bottom-color: var(--fill-color);\n",
              "    animation:\n",
              "      spin 1s steps(1) infinite;\n",
              "  }\n",
              "\n",
              "  @keyframes spin {\n",
              "    0% {\n",
              "      border-color: transparent;\n",
              "      border-bottom-color: var(--fill-color);\n",
              "      border-left-color: var(--fill-color);\n",
              "    }\n",
              "    20% {\n",
              "      border-color: transparent;\n",
              "      border-left-color: var(--fill-color);\n",
              "      border-top-color: var(--fill-color);\n",
              "    }\n",
              "    30% {\n",
              "      border-color: transparent;\n",
              "      border-left-color: var(--fill-color);\n",
              "      border-top-color: var(--fill-color);\n",
              "      border-right-color: var(--fill-color);\n",
              "    }\n",
              "    40% {\n",
              "      border-color: transparent;\n",
              "      border-right-color: var(--fill-color);\n",
              "      border-top-color: var(--fill-color);\n",
              "    }\n",
              "    60% {\n",
              "      border-color: transparent;\n",
              "      border-right-color: var(--fill-color);\n",
              "    }\n",
              "    80% {\n",
              "      border-color: transparent;\n",
              "      border-right-color: var(--fill-color);\n",
              "      border-bottom-color: var(--fill-color);\n",
              "    }\n",
              "    90% {\n",
              "      border-color: transparent;\n",
              "      border-bottom-color: var(--fill-color);\n",
              "    }\n",
              "  }\n",
              "</style>\n",
              "\n",
              "      <script>\n",
              "        async function quickchart(key) {\n",
              "          const quickchartButtonEl =\n",
              "            document.querySelector('#' + key + ' button');\n",
              "          quickchartButtonEl.disabled = true;  // To prevent multiple clicks.\n",
              "          quickchartButtonEl.classList.add('colab-df-spinner');\n",
              "          try {\n",
              "            const charts = await google.colab.kernel.invokeFunction(\n",
              "                'suggestCharts', [key], {});\n",
              "          } catch (error) {\n",
              "            console.error('Error during call to suggestCharts:', error);\n",
              "          }\n",
              "          quickchartButtonEl.classList.remove('colab-df-spinner');\n",
              "          quickchartButtonEl.classList.add('colab-df-quickchart-complete');\n",
              "        }\n",
              "        (() => {\n",
              "          let quickchartButtonEl =\n",
              "            document.querySelector('#df-334781c7-fa82-41f5-b1f9-6c62e97e5e07 button');\n",
              "          quickchartButtonEl.style.display =\n",
              "            google.colab.kernel.accessAllowed ? 'block' : 'none';\n",
              "        })();\n",
              "      </script>\n",
              "    </div>\n",
              "\n",
              "  <div id=\"id_989d2335-d7ac-493d-ba57-b7f8d275ee64\">\n",
              "    <style>\n",
              "      .colab-df-generate {\n",
              "        background-color: #E8F0FE;\n",
              "        border: none;\n",
              "        border-radius: 50%;\n",
              "        cursor: pointer;\n",
              "        display: none;\n",
              "        fill: #1967D2;\n",
              "        height: 32px;\n",
              "        padding: 0 0 0 0;\n",
              "        width: 32px;\n",
              "      }\n",
              "\n",
              "      .colab-df-generate:hover {\n",
              "        background-color: #E2EBFA;\n",
              "        box-shadow: 0px 1px 2px rgba(60, 64, 67, 0.3), 0px 1px 3px 1px rgba(60, 64, 67, 0.15);\n",
              "        fill: #174EA6;\n",
              "      }\n",
              "\n",
              "      [theme=dark] .colab-df-generate {\n",
              "        background-color: #3B4455;\n",
              "        fill: #D2E3FC;\n",
              "      }\n",
              "\n",
              "      [theme=dark] .colab-df-generate:hover {\n",
              "        background-color: #434B5C;\n",
              "        box-shadow: 0px 1px 3px 1px rgba(0, 0, 0, 0.15);\n",
              "        filter: drop-shadow(0px 1px 2px rgba(0, 0, 0, 0.3));\n",
              "        fill: #FFFFFF;\n",
              "      }\n",
              "    </style>\n",
              "    <button class=\"colab-df-generate\" onclick=\"generateWithVariable('internal')\"\n",
              "            title=\"Generate code using this dataframe.\"\n",
              "            style=\"display:none;\">\n",
              "\n",
              "  <svg xmlns=\"http://www.w3.org/2000/svg\" height=\"24px\"viewBox=\"0 0 24 24\"\n",
              "       width=\"24px\">\n",
              "    <path d=\"M7,19H8.4L18.45,9,17,7.55,7,17.6ZM5,21V16.75L18.45,3.32a2,2,0,0,1,2.83,0l1.4,1.43a1.91,1.91,0,0,1,.58,1.4,1.91,1.91,0,0,1-.58,1.4L9.25,21ZM18.45,9,17,7.55Zm-12,3A5.31,5.31,0,0,0,4.9,8.1,5.31,5.31,0,0,0,1,6.5,5.31,5.31,0,0,0,4.9,4.9,5.31,5.31,0,0,0,6.5,1,5.31,5.31,0,0,0,8.1,4.9,5.31,5.31,0,0,0,12,6.5,5.46,5.46,0,0,0,6.5,12Z\"/>\n",
              "  </svg>\n",
              "    </button>\n",
              "    <script>\n",
              "      (() => {\n",
              "      const buttonEl =\n",
              "        document.querySelector('#id_989d2335-d7ac-493d-ba57-b7f8d275ee64 button.colab-df-generate');\n",
              "      buttonEl.style.display =\n",
              "        google.colab.kernel.accessAllowed ? 'block' : 'none';\n",
              "\n",
              "      buttonEl.onclick = () => {\n",
              "        google.colab.notebook.generateWithVariable('internal');\n",
              "      }\n",
              "      })();\n",
              "    </script>\n",
              "  </div>\n",
              "\n",
              "    </div>\n",
              "  </div>\n"
            ],
            "application/vnd.google.colaboratory.intrinsic+json": {
              "type": "dataframe",
              "variable_name": "internal",
              "summary": "{\n  \"name\": \"internal\",\n  \"rows\": 443,\n  \"fields\": [\n    {\n      \"column\": \"PD_CD\",\n      \"properties\": {\n        \"dtype\": \"string\",\n        \"num_unique_values\": 443,\n        \"samples\": [\n          \"715\",\n          \"385\",\n          \"258\"\n        ],\n        \"semantic_type\": \"\",\n        \"description\": \"\"\n      }\n    },\n    {\n      \"column\": \"PD_DESC\",\n      \"properties\": {\n        \"dtype\": \"string\",\n        \"num_unique_values\": 433,\n        \"samples\": [\n          \"INTOXICATED DRIVING,ALCOHOL\",\n          \"ARSON 2,3,4\",\n          \"LARCENY,GRAND BY BANK ACCT COMPROMISE-UNCLASSIFIED\"\n        ],\n        \"semantic_type\": \"\",\n        \"description\": \"\"\n      }\n    }\n  ]\n}"
            }
          },
          "metadata": {}
        }
      ]
    },
    {
      "cell_type": "code",
      "metadata": {
        "id": "litXEQ4gHJbc",
        "colab": {
          "base_uri": "https://localhost:8080/"
        },
        "outputId": "17d070bd-315a-4580-f58e-c9a1498360fd"
      },
      "source": [
        "df.PD_CD.isnull().sum()"
      ],
      "execution_count": 25,
      "outputs": [
        {
          "output_type": "execute_result",
          "data": {
            "text/plain": [
              "np.int64(7975)"
            ]
          },
          "metadata": {},
          "execution_count": 25
        }
      ]
    },
    {
      "cell_type": "code",
      "metadata": {
        "id": "EoAB8vswHC_a"
      },
      "source": [
        "df = df[~df.PD_CD.isnull()]"
      ],
      "execution_count": 26,
      "outputs": []
    },
    {
      "cell_type": "code",
      "metadata": {
        "id": "9kwshtMxHAcL"
      },
      "source": [
        "# df.PD_CD = pd.Categorical(df.PD_CD)"
      ],
      "execution_count": 27,
      "outputs": []
    },
    {
      "cell_type": "code",
      "metadata": {
        "id": "3H3ZPPzwFYh9"
      },
      "source": [
        "df = df.drop('PD_DESC', axis='columns')"
      ],
      "execution_count": 28,
      "outputs": []
    },
    {
      "cell_type": "code",
      "metadata": {
        "id": "dv3xfTcjF8Qz"
      },
      "source": [],
      "execution_count": 28,
      "outputs": []
    },
    {
      "cell_type": "markdown",
      "metadata": {
        "id": "mCyBuyV2dALc"
      },
      "source": [
        "### 11  CRM_ATPT_CPTD_CD   object"
      ]
    },
    {
      "cell_type": "code",
      "metadata": {
        "id": "3qf5FO6XFaPn",
        "colab": {
          "base_uri": "https://localhost:8080/",
          "height": 210
        },
        "outputId": "a06b1086-c3e0-4b01-d15c-2304f36be849"
      },
      "source": [
        "df.CRM_ATPT_CPTD_CD.value_counts(dropna=False)"
      ],
      "execution_count": 29,
      "outputs": [
        {
          "output_type": "execute_result",
          "data": {
            "text/plain": [
              "CRM_ATPT_CPTD_CD\n",
              "COMPLETED    9325579\n",
              "ATTEMPTED     156014\n",
              "None             168\n",
              "Name: count, dtype: int64"
            ],
            "text/html": [
              "<div>\n",
              "<style scoped>\n",
              "    .dataframe tbody tr th:only-of-type {\n",
              "        vertical-align: middle;\n",
              "    }\n",
              "\n",
              "    .dataframe tbody tr th {\n",
              "        vertical-align: top;\n",
              "    }\n",
              "\n",
              "    .dataframe thead th {\n",
              "        text-align: right;\n",
              "    }\n",
              "</style>\n",
              "<table border=\"1\" class=\"dataframe\">\n",
              "  <thead>\n",
              "    <tr style=\"text-align: right;\">\n",
              "      <th></th>\n",
              "      <th>count</th>\n",
              "    </tr>\n",
              "    <tr>\n",
              "      <th>CRM_ATPT_CPTD_CD</th>\n",
              "      <th></th>\n",
              "    </tr>\n",
              "  </thead>\n",
              "  <tbody>\n",
              "    <tr>\n",
              "      <th>COMPLETED</th>\n",
              "      <td>9325579</td>\n",
              "    </tr>\n",
              "    <tr>\n",
              "      <th>ATTEMPTED</th>\n",
              "      <td>156014</td>\n",
              "    </tr>\n",
              "    <tr>\n",
              "      <th>None</th>\n",
              "      <td>168</td>\n",
              "    </tr>\n",
              "  </tbody>\n",
              "</table>\n",
              "</div><br><label><b>dtype:</b> int64</label>"
            ]
          },
          "metadata": {},
          "execution_count": 29
        }
      ]
    },
    {
      "cell_type": "code",
      "metadata": {
        "id": "wf1WmbD2FmaB"
      },
      "source": [
        "# df.CRM_ATPT_CPTD_CD = pd.Categorical(df.CRM_ATPT_CPTD_CD)"
      ],
      "execution_count": 30,
      "outputs": []
    },
    {
      "cell_type": "code",
      "metadata": {
        "id": "HMCKHHaSFtyF",
        "colab": {
          "base_uri": "https://localhost:8080/"
        },
        "outputId": "58e66018-4e29-4ff3-ffd7-503a010a5d5d"
      },
      "source": [
        "df.CRM_ATPT_CPTD_CD.isnull().sum()"
      ],
      "execution_count": 31,
      "outputs": [
        {
          "output_type": "execute_result",
          "data": {
            "text/plain": [
              "np.int64(168)"
            ]
          },
          "metadata": {},
          "execution_count": 31
        }
      ]
    },
    {
      "cell_type": "code",
      "metadata": {
        "id": "F8AKN07HF06g"
      },
      "source": [
        "df = df [ ~df.CRM_ATPT_CPTD_CD.isnull() ]\n"
      ],
      "execution_count": 32,
      "outputs": []
    },
    {
      "cell_type": "markdown",
      "metadata": {
        "id": "dxaDxHN5dDLH"
      },
      "source": [
        "### 12  LAW_CAT_CD         object"
      ]
    },
    {
      "cell_type": "code",
      "source": [
        "df.LAW_CAT_CD.isnull().sum()"
      ],
      "metadata": {
        "colab": {
          "base_uri": "https://localhost:8080/"
        },
        "id": "6C5x1rW2rk2N",
        "outputId": "93eec2af-d2a0-4549-855d-8e46467211a6"
      },
      "execution_count": 33,
      "outputs": [
        {
          "output_type": "execute_result",
          "data": {
            "text/plain": [
              "np.int64(0)"
            ]
          },
          "metadata": {},
          "execution_count": 33
        }
      ]
    },
    {
      "cell_type": "code",
      "metadata": {
        "id": "SNddZBFdGEmG",
        "colab": {
          "base_uri": "https://localhost:8080/",
          "height": 210
        },
        "outputId": "08712519-b2fd-41bf-bc69-04a94f309dad"
      },
      "source": [
        "df.LAW_CAT_CD.value_counts(dropna=False)"
      ],
      "execution_count": 34,
      "outputs": [
        {
          "output_type": "execute_result",
          "data": {
            "text/plain": [
              "LAW_CAT_CD\n",
              "MISDEMEANOR    5215413\n",
              "FELONY         2971784\n",
              "VIOLATION      1294396\n",
              "Name: count, dtype: int64"
            ],
            "text/html": [
              "<div>\n",
              "<style scoped>\n",
              "    .dataframe tbody tr th:only-of-type {\n",
              "        vertical-align: middle;\n",
              "    }\n",
              "\n",
              "    .dataframe tbody tr th {\n",
              "        vertical-align: top;\n",
              "    }\n",
              "\n",
              "    .dataframe thead th {\n",
              "        text-align: right;\n",
              "    }\n",
              "</style>\n",
              "<table border=\"1\" class=\"dataframe\">\n",
              "  <thead>\n",
              "    <tr style=\"text-align: right;\">\n",
              "      <th></th>\n",
              "      <th>count</th>\n",
              "    </tr>\n",
              "    <tr>\n",
              "      <th>LAW_CAT_CD</th>\n",
              "      <th></th>\n",
              "    </tr>\n",
              "  </thead>\n",
              "  <tbody>\n",
              "    <tr>\n",
              "      <th>MISDEMEANOR</th>\n",
              "      <td>5215413</td>\n",
              "    </tr>\n",
              "    <tr>\n",
              "      <th>FELONY</th>\n",
              "      <td>2971784</td>\n",
              "    </tr>\n",
              "    <tr>\n",
              "      <th>VIOLATION</th>\n",
              "      <td>1294396</td>\n",
              "    </tr>\n",
              "  </tbody>\n",
              "</table>\n",
              "</div><br><label><b>dtype:</b> int64</label>"
            ]
          },
          "metadata": {},
          "execution_count": 34
        }
      ]
    },
    {
      "cell_type": "code",
      "metadata": {
        "id": "ZGSY4h6T5mm7"
      },
      "source": [
        "# df.LAW_CAT_CD = pd.Categorical(df.LAW_CAT_CD)"
      ],
      "execution_count": 35,
      "outputs": []
    },
    {
      "cell_type": "markdown",
      "metadata": {
        "id": "ktDmEg1cdE_v"
      },
      "source": [
        "### 16  JURIS_DESC         object\n",
        "### 17  JURISDICTION_CODE  object"
      ]
    },
    {
      "cell_type": "code",
      "metadata": {
        "id": "Neev5NjGH4BN",
        "colab": {
          "base_uri": "https://localhost:8080/"
        },
        "outputId": "82001059-7d06-4730-b76e-a843adea27e4"
      },
      "source": [
        "df.JURISDICTION_CODE.isnull().sum()"
      ],
      "execution_count": 36,
      "outputs": [
        {
          "output_type": "execute_result",
          "data": {
            "text/plain": [
              "np.int64(0)"
            ]
          },
          "metadata": {},
          "execution_count": 36
        }
      ]
    },
    {
      "cell_type": "code",
      "metadata": {
        "id": "IgUqAQzUHWD3",
        "colab": {
          "base_uri": "https://localhost:8080/",
          "height": 927
        },
        "outputId": "66c26f3e-a1b5-4520-befa-80d4754fbf9b"
      },
      "source": [
        "# df = df[ ~df.JURISDICTION_CODE.isnull() ]\n",
        "\n",
        "jusridiction = df[ [\"JURISDICTION_CODE\", \"JURIS_DESC\", ] ].drop_duplicates().dropna()\n",
        "jusridiction['JURISDICTION_CODE'] = pd.to_numeric(jusridiction['JURISDICTION_CODE'] )\n",
        "jusridiction['JURISDICTION_CODE'] = jusridiction['JURISDICTION_CODE'].astype(int)\n",
        "jusridiction = jusridiction.set_index(\"JURISDICTION_CODE\")\n",
        "jusridiction = jusridiction.sort_index()\n",
        "jusridiction = jusridiction.reset_index()\n",
        "display(jusridiction)"
      ],
      "execution_count": 37,
      "outputs": [
        {
          "output_type": "display_data",
          "data": {
            "text/plain": [
              "    JURISDICTION_CODE                           JURIS_DESC\n",
              "0                   0                     N.Y. POLICE DEPT\n",
              "1                   1                  N.Y. TRANSIT POLICE\n",
              "2                   2                  N.Y. HOUSING POLICE\n",
              "3                   3                       PORT AUTHORITY\n",
              "4                   4                  TRI-BORO BRDG TUNNL\n",
              "5                   6                   LONG ISLAND RAILRD\n",
              "6                   7                              AMTRACK\n",
              "7                   8                              CONRAIL\n",
              "8                   9                 STATN IS RAPID TRANS\n",
              "9                  11                    N.Y. STATE POLICE\n",
              "10                 12                     N.Y. STATE PARKS\n",
              "11                 13                     U.S. PARK POLICE\n",
              "12                 14                   HEALTH & HOSP CORP\n",
              "13                 15                          METRO NORTH\n",
              "14                 16                 SEA GATE POLICE DEPT\n",
              "15                 17                      MTA POLICE DEPT\n",
              "16                 51     N.Y.C. DEPT OF HOMELESS SERVICES\n",
              "17                 52             N.Y.C. DEPT OF PROBATION\n",
              "18                 69                      POLICE DEPT NYC\n",
              "19                 71             FIRE DEPT (FIRE MARSHAL)\n",
              "20                 72                  DEPT OF CORRECTIONS\n",
              "21                 73             DISTRICT ATTORNEY OFFICE\n",
              "22                 76    NYC DEPT ENVIRONMENTAL PROTECTION\n",
              "23                 79  NYS DEPT ENVIRONMENTAL CONSERVATION\n",
              "24                 85             NYS DEPT TAX AND FINANCE\n",
              "25                 87         NEW YORK CITY SHERIFF OFFICE\n",
              "26                 88                            NYC PARKS\n",
              "27                 97                                OTHER"
            ],
            "text/html": [
              "\n",
              "  <div id=\"df-1e75d4aa-ca2d-4769-a66e-63518245191a\" class=\"colab-df-container\">\n",
              "    <div>\n",
              "<style scoped>\n",
              "    .dataframe tbody tr th:only-of-type {\n",
              "        vertical-align: middle;\n",
              "    }\n",
              "\n",
              "    .dataframe tbody tr th {\n",
              "        vertical-align: top;\n",
              "    }\n",
              "\n",
              "    .dataframe thead th {\n",
              "        text-align: right;\n",
              "    }\n",
              "</style>\n",
              "<table border=\"1\" class=\"dataframe\">\n",
              "  <thead>\n",
              "    <tr style=\"text-align: right;\">\n",
              "      <th></th>\n",
              "      <th>JURISDICTION_CODE</th>\n",
              "      <th>JURIS_DESC</th>\n",
              "    </tr>\n",
              "  </thead>\n",
              "  <tbody>\n",
              "    <tr>\n",
              "      <th>0</th>\n",
              "      <td>0</td>\n",
              "      <td>N.Y. POLICE DEPT</td>\n",
              "    </tr>\n",
              "    <tr>\n",
              "      <th>1</th>\n",
              "      <td>1</td>\n",
              "      <td>N.Y. TRANSIT POLICE</td>\n",
              "    </tr>\n",
              "    <tr>\n",
              "      <th>2</th>\n",
              "      <td>2</td>\n",
              "      <td>N.Y. HOUSING POLICE</td>\n",
              "    </tr>\n",
              "    <tr>\n",
              "      <th>3</th>\n",
              "      <td>3</td>\n",
              "      <td>PORT AUTHORITY</td>\n",
              "    </tr>\n",
              "    <tr>\n",
              "      <th>4</th>\n",
              "      <td>4</td>\n",
              "      <td>TRI-BORO BRDG TUNNL</td>\n",
              "    </tr>\n",
              "    <tr>\n",
              "      <th>5</th>\n",
              "      <td>6</td>\n",
              "      <td>LONG ISLAND RAILRD</td>\n",
              "    </tr>\n",
              "    <tr>\n",
              "      <th>6</th>\n",
              "      <td>7</td>\n",
              "      <td>AMTRACK</td>\n",
              "    </tr>\n",
              "    <tr>\n",
              "      <th>7</th>\n",
              "      <td>8</td>\n",
              "      <td>CONRAIL</td>\n",
              "    </tr>\n",
              "    <tr>\n",
              "      <th>8</th>\n",
              "      <td>9</td>\n",
              "      <td>STATN IS RAPID TRANS</td>\n",
              "    </tr>\n",
              "    <tr>\n",
              "      <th>9</th>\n",
              "      <td>11</td>\n",
              "      <td>N.Y. STATE POLICE</td>\n",
              "    </tr>\n",
              "    <tr>\n",
              "      <th>10</th>\n",
              "      <td>12</td>\n",
              "      <td>N.Y. STATE PARKS</td>\n",
              "    </tr>\n",
              "    <tr>\n",
              "      <th>11</th>\n",
              "      <td>13</td>\n",
              "      <td>U.S. PARK POLICE</td>\n",
              "    </tr>\n",
              "    <tr>\n",
              "      <th>12</th>\n",
              "      <td>14</td>\n",
              "      <td>HEALTH &amp; HOSP CORP</td>\n",
              "    </tr>\n",
              "    <tr>\n",
              "      <th>13</th>\n",
              "      <td>15</td>\n",
              "      <td>METRO NORTH</td>\n",
              "    </tr>\n",
              "    <tr>\n",
              "      <th>14</th>\n",
              "      <td>16</td>\n",
              "      <td>SEA GATE POLICE DEPT</td>\n",
              "    </tr>\n",
              "    <tr>\n",
              "      <th>15</th>\n",
              "      <td>17</td>\n",
              "      <td>MTA POLICE DEPT</td>\n",
              "    </tr>\n",
              "    <tr>\n",
              "      <th>16</th>\n",
              "      <td>51</td>\n",
              "      <td>N.Y.C. DEPT OF HOMELESS SERVICES</td>\n",
              "    </tr>\n",
              "    <tr>\n",
              "      <th>17</th>\n",
              "      <td>52</td>\n",
              "      <td>N.Y.C. DEPT OF PROBATION</td>\n",
              "    </tr>\n",
              "    <tr>\n",
              "      <th>18</th>\n",
              "      <td>69</td>\n",
              "      <td>POLICE DEPT NYC</td>\n",
              "    </tr>\n",
              "    <tr>\n",
              "      <th>19</th>\n",
              "      <td>71</td>\n",
              "      <td>FIRE DEPT (FIRE MARSHAL)</td>\n",
              "    </tr>\n",
              "    <tr>\n",
              "      <th>20</th>\n",
              "      <td>72</td>\n",
              "      <td>DEPT OF CORRECTIONS</td>\n",
              "    </tr>\n",
              "    <tr>\n",
              "      <th>21</th>\n",
              "      <td>73</td>\n",
              "      <td>DISTRICT ATTORNEY OFFICE</td>\n",
              "    </tr>\n",
              "    <tr>\n",
              "      <th>22</th>\n",
              "      <td>76</td>\n",
              "      <td>NYC DEPT ENVIRONMENTAL PROTECTION</td>\n",
              "    </tr>\n",
              "    <tr>\n",
              "      <th>23</th>\n",
              "      <td>79</td>\n",
              "      <td>NYS DEPT ENVIRONMENTAL CONSERVATION</td>\n",
              "    </tr>\n",
              "    <tr>\n",
              "      <th>24</th>\n",
              "      <td>85</td>\n",
              "      <td>NYS DEPT TAX AND FINANCE</td>\n",
              "    </tr>\n",
              "    <tr>\n",
              "      <th>25</th>\n",
              "      <td>87</td>\n",
              "      <td>NEW YORK CITY SHERIFF OFFICE</td>\n",
              "    </tr>\n",
              "    <tr>\n",
              "      <th>26</th>\n",
              "      <td>88</td>\n",
              "      <td>NYC PARKS</td>\n",
              "    </tr>\n",
              "    <tr>\n",
              "      <th>27</th>\n",
              "      <td>97</td>\n",
              "      <td>OTHER</td>\n",
              "    </tr>\n",
              "  </tbody>\n",
              "</table>\n",
              "</div>\n",
              "    <div class=\"colab-df-buttons\">\n",
              "\n",
              "  <div class=\"colab-df-container\">\n",
              "    <button class=\"colab-df-convert\" onclick=\"convertToInteractive('df-1e75d4aa-ca2d-4769-a66e-63518245191a')\"\n",
              "            title=\"Convert this dataframe to an interactive table.\"\n",
              "            style=\"display:none;\">\n",
              "\n",
              "  <svg xmlns=\"http://www.w3.org/2000/svg\" height=\"24px\" viewBox=\"0 -960 960 960\">\n",
              "    <path d=\"M120-120v-720h720v720H120Zm60-500h600v-160H180v160Zm220 220h160v-160H400v160Zm0 220h160v-160H400v160ZM180-400h160v-160H180v160Zm440 0h160v-160H620v160ZM180-180h160v-160H180v160Zm440 0h160v-160H620v160Z\"/>\n",
              "  </svg>\n",
              "    </button>\n",
              "\n",
              "  <style>\n",
              "    .colab-df-container {\n",
              "      display:flex;\n",
              "      gap: 12px;\n",
              "    }\n",
              "\n",
              "    .colab-df-convert {\n",
              "      background-color: #E8F0FE;\n",
              "      border: none;\n",
              "      border-radius: 50%;\n",
              "      cursor: pointer;\n",
              "      display: none;\n",
              "      fill: #1967D2;\n",
              "      height: 32px;\n",
              "      padding: 0 0 0 0;\n",
              "      width: 32px;\n",
              "    }\n",
              "\n",
              "    .colab-df-convert:hover {\n",
              "      background-color: #E2EBFA;\n",
              "      box-shadow: 0px 1px 2px rgba(60, 64, 67, 0.3), 0px 1px 3px 1px rgba(60, 64, 67, 0.15);\n",
              "      fill: #174EA6;\n",
              "    }\n",
              "\n",
              "    .colab-df-buttons div {\n",
              "      margin-bottom: 4px;\n",
              "    }\n",
              "\n",
              "    [theme=dark] .colab-df-convert {\n",
              "      background-color: #3B4455;\n",
              "      fill: #D2E3FC;\n",
              "    }\n",
              "\n",
              "    [theme=dark] .colab-df-convert:hover {\n",
              "      background-color: #434B5C;\n",
              "      box-shadow: 0px 1px 3px 1px rgba(0, 0, 0, 0.15);\n",
              "      filter: drop-shadow(0px 1px 2px rgba(0, 0, 0, 0.3));\n",
              "      fill: #FFFFFF;\n",
              "    }\n",
              "  </style>\n",
              "\n",
              "    <script>\n",
              "      const buttonEl =\n",
              "        document.querySelector('#df-1e75d4aa-ca2d-4769-a66e-63518245191a button.colab-df-convert');\n",
              "      buttonEl.style.display =\n",
              "        google.colab.kernel.accessAllowed ? 'block' : 'none';\n",
              "\n",
              "      async function convertToInteractive(key) {\n",
              "        const element = document.querySelector('#df-1e75d4aa-ca2d-4769-a66e-63518245191a');\n",
              "        const dataTable =\n",
              "          await google.colab.kernel.invokeFunction('convertToInteractive',\n",
              "                                                    [key], {});\n",
              "        if (!dataTable) return;\n",
              "\n",
              "        const docLinkHtml = 'Like what you see? Visit the ' +\n",
              "          '<a target=\"_blank\" href=https://colab.research.google.com/notebooks/data_table.ipynb>data table notebook</a>'\n",
              "          + ' to learn more about interactive tables.';\n",
              "        element.innerHTML = '';\n",
              "        dataTable['output_type'] = 'display_data';\n",
              "        await google.colab.output.renderOutput(dataTable, element);\n",
              "        const docLink = document.createElement('div');\n",
              "        docLink.innerHTML = docLinkHtml;\n",
              "        element.appendChild(docLink);\n",
              "      }\n",
              "    </script>\n",
              "  </div>\n",
              "\n",
              "\n",
              "    <div id=\"df-1c46fd4d-dda7-4624-979f-a7efd7a4bb1d\">\n",
              "      <button class=\"colab-df-quickchart\" onclick=\"quickchart('df-1c46fd4d-dda7-4624-979f-a7efd7a4bb1d')\"\n",
              "                title=\"Suggest charts\"\n",
              "                style=\"display:none;\">\n",
              "\n",
              "<svg xmlns=\"http://www.w3.org/2000/svg\" height=\"24px\"viewBox=\"0 0 24 24\"\n",
              "     width=\"24px\">\n",
              "    <g>\n",
              "        <path d=\"M19 3H5c-1.1 0-2 .9-2 2v14c0 1.1.9 2 2 2h14c1.1 0 2-.9 2-2V5c0-1.1-.9-2-2-2zM9 17H7v-7h2v7zm4 0h-2V7h2v10zm4 0h-2v-4h2v4z\"/>\n",
              "    </g>\n",
              "</svg>\n",
              "      </button>\n",
              "\n",
              "<style>\n",
              "  .colab-df-quickchart {\n",
              "      --bg-color: #E8F0FE;\n",
              "      --fill-color: #1967D2;\n",
              "      --hover-bg-color: #E2EBFA;\n",
              "      --hover-fill-color: #174EA6;\n",
              "      --disabled-fill-color: #AAA;\n",
              "      --disabled-bg-color: #DDD;\n",
              "  }\n",
              "\n",
              "  [theme=dark] .colab-df-quickchart {\n",
              "      --bg-color: #3B4455;\n",
              "      --fill-color: #D2E3FC;\n",
              "      --hover-bg-color: #434B5C;\n",
              "      --hover-fill-color: #FFFFFF;\n",
              "      --disabled-bg-color: #3B4455;\n",
              "      --disabled-fill-color: #666;\n",
              "  }\n",
              "\n",
              "  .colab-df-quickchart {\n",
              "    background-color: var(--bg-color);\n",
              "    border: none;\n",
              "    border-radius: 50%;\n",
              "    cursor: pointer;\n",
              "    display: none;\n",
              "    fill: var(--fill-color);\n",
              "    height: 32px;\n",
              "    padding: 0;\n",
              "    width: 32px;\n",
              "  }\n",
              "\n",
              "  .colab-df-quickchart:hover {\n",
              "    background-color: var(--hover-bg-color);\n",
              "    box-shadow: 0 1px 2px rgba(60, 64, 67, 0.3), 0 1px 3px 1px rgba(60, 64, 67, 0.15);\n",
              "    fill: var(--button-hover-fill-color);\n",
              "  }\n",
              "\n",
              "  .colab-df-quickchart-complete:disabled,\n",
              "  .colab-df-quickchart-complete:disabled:hover {\n",
              "    background-color: var(--disabled-bg-color);\n",
              "    fill: var(--disabled-fill-color);\n",
              "    box-shadow: none;\n",
              "  }\n",
              "\n",
              "  .colab-df-spinner {\n",
              "    border: 2px solid var(--fill-color);\n",
              "    border-color: transparent;\n",
              "    border-bottom-color: var(--fill-color);\n",
              "    animation:\n",
              "      spin 1s steps(1) infinite;\n",
              "  }\n",
              "\n",
              "  @keyframes spin {\n",
              "    0% {\n",
              "      border-color: transparent;\n",
              "      border-bottom-color: var(--fill-color);\n",
              "      border-left-color: var(--fill-color);\n",
              "    }\n",
              "    20% {\n",
              "      border-color: transparent;\n",
              "      border-left-color: var(--fill-color);\n",
              "      border-top-color: var(--fill-color);\n",
              "    }\n",
              "    30% {\n",
              "      border-color: transparent;\n",
              "      border-left-color: var(--fill-color);\n",
              "      border-top-color: var(--fill-color);\n",
              "      border-right-color: var(--fill-color);\n",
              "    }\n",
              "    40% {\n",
              "      border-color: transparent;\n",
              "      border-right-color: var(--fill-color);\n",
              "      border-top-color: var(--fill-color);\n",
              "    }\n",
              "    60% {\n",
              "      border-color: transparent;\n",
              "      border-right-color: var(--fill-color);\n",
              "    }\n",
              "    80% {\n",
              "      border-color: transparent;\n",
              "      border-right-color: var(--fill-color);\n",
              "      border-bottom-color: var(--fill-color);\n",
              "    }\n",
              "    90% {\n",
              "      border-color: transparent;\n",
              "      border-bottom-color: var(--fill-color);\n",
              "    }\n",
              "  }\n",
              "</style>\n",
              "\n",
              "      <script>\n",
              "        async function quickchart(key) {\n",
              "          const quickchartButtonEl =\n",
              "            document.querySelector('#' + key + ' button');\n",
              "          quickchartButtonEl.disabled = true;  // To prevent multiple clicks.\n",
              "          quickchartButtonEl.classList.add('colab-df-spinner');\n",
              "          try {\n",
              "            const charts = await google.colab.kernel.invokeFunction(\n",
              "                'suggestCharts', [key], {});\n",
              "          } catch (error) {\n",
              "            console.error('Error during call to suggestCharts:', error);\n",
              "          }\n",
              "          quickchartButtonEl.classList.remove('colab-df-spinner');\n",
              "          quickchartButtonEl.classList.add('colab-df-quickchart-complete');\n",
              "        }\n",
              "        (() => {\n",
              "          let quickchartButtonEl =\n",
              "            document.querySelector('#df-1c46fd4d-dda7-4624-979f-a7efd7a4bb1d button');\n",
              "          quickchartButtonEl.style.display =\n",
              "            google.colab.kernel.accessAllowed ? 'block' : 'none';\n",
              "        })();\n",
              "      </script>\n",
              "    </div>\n",
              "\n",
              "  <div id=\"id_60770075-71eb-4b91-9eeb-d8686e2928cf\">\n",
              "    <style>\n",
              "      .colab-df-generate {\n",
              "        background-color: #E8F0FE;\n",
              "        border: none;\n",
              "        border-radius: 50%;\n",
              "        cursor: pointer;\n",
              "        display: none;\n",
              "        fill: #1967D2;\n",
              "        height: 32px;\n",
              "        padding: 0 0 0 0;\n",
              "        width: 32px;\n",
              "      }\n",
              "\n",
              "      .colab-df-generate:hover {\n",
              "        background-color: #E2EBFA;\n",
              "        box-shadow: 0px 1px 2px rgba(60, 64, 67, 0.3), 0px 1px 3px 1px rgba(60, 64, 67, 0.15);\n",
              "        fill: #174EA6;\n",
              "      }\n",
              "\n",
              "      [theme=dark] .colab-df-generate {\n",
              "        background-color: #3B4455;\n",
              "        fill: #D2E3FC;\n",
              "      }\n",
              "\n",
              "      [theme=dark] .colab-df-generate:hover {\n",
              "        background-color: #434B5C;\n",
              "        box-shadow: 0px 1px 3px 1px rgba(0, 0, 0, 0.15);\n",
              "        filter: drop-shadow(0px 1px 2px rgba(0, 0, 0, 0.3));\n",
              "        fill: #FFFFFF;\n",
              "      }\n",
              "    </style>\n",
              "    <button class=\"colab-df-generate\" onclick=\"generateWithVariable('jusridiction')\"\n",
              "            title=\"Generate code using this dataframe.\"\n",
              "            style=\"display:none;\">\n",
              "\n",
              "  <svg xmlns=\"http://www.w3.org/2000/svg\" height=\"24px\"viewBox=\"0 0 24 24\"\n",
              "       width=\"24px\">\n",
              "    <path d=\"M7,19H8.4L18.45,9,17,7.55,7,17.6ZM5,21V16.75L18.45,3.32a2,2,0,0,1,2.83,0l1.4,1.43a1.91,1.91,0,0,1,.58,1.4,1.91,1.91,0,0,1-.58,1.4L9.25,21ZM18.45,9,17,7.55Zm-12,3A5.31,5.31,0,0,0,4.9,8.1,5.31,5.31,0,0,0,1,6.5,5.31,5.31,0,0,0,4.9,4.9,5.31,5.31,0,0,0,6.5,1,5.31,5.31,0,0,0,8.1,4.9,5.31,5.31,0,0,0,12,6.5,5.46,5.46,0,0,0,6.5,12Z\"/>\n",
              "  </svg>\n",
              "    </button>\n",
              "    <script>\n",
              "      (() => {\n",
              "      const buttonEl =\n",
              "        document.querySelector('#id_60770075-71eb-4b91-9eeb-d8686e2928cf button.colab-df-generate');\n",
              "      buttonEl.style.display =\n",
              "        google.colab.kernel.accessAllowed ? 'block' : 'none';\n",
              "\n",
              "      buttonEl.onclick = () => {\n",
              "        google.colab.notebook.generateWithVariable('jusridiction');\n",
              "      }\n",
              "      })();\n",
              "    </script>\n",
              "  </div>\n",
              "\n",
              "    </div>\n",
              "  </div>\n"
            ],
            "application/vnd.google.colaboratory.intrinsic+json": {
              "type": "dataframe",
              "variable_name": "jusridiction",
              "summary": "{\n  \"name\": \"jusridiction\",\n  \"rows\": 28,\n  \"fields\": [\n    {\n      \"column\": \"JURISDICTION_CODE\",\n      \"properties\": {\n        \"dtype\": \"number\",\n        \"std\": 34,\n        \"min\": 0,\n        \"max\": 97,\n        \"num_unique_values\": 28,\n        \"samples\": [\n          11,\n          87,\n          9\n        ],\n        \"semantic_type\": \"\",\n        \"description\": \"\"\n      }\n    },\n    {\n      \"column\": \"JURIS_DESC\",\n      \"properties\": {\n        \"dtype\": \"string\",\n        \"num_unique_values\": 28,\n        \"samples\": [\n          \"N.Y. STATE POLICE\",\n          \"NEW YORK CITY SHERIFF OFFICE\",\n          \"STATN IS RAPID TRANS\"\n        ],\n        \"semantic_type\": \"\",\n        \"description\": \"\"\n      }\n    }\n  ]\n}"
            }
          },
          "metadata": {}
        }
      ]
    },
    {
      "cell_type": "code",
      "metadata": {
        "id": "j1LMjSO4JzqC"
      },
      "source": [
        "# df.JURISDICTION_CODE = pd.Categorical(df.JURISDICTION_CODE)\n"
      ],
      "execution_count": 38,
      "outputs": []
    },
    {
      "cell_type": "code",
      "metadata": {
        "id": "7ZKEI7n2KP91"
      },
      "source": [
        "df = df.drop('JURIS_DESC', axis='columns')"
      ],
      "execution_count": 39,
      "outputs": []
    },
    {
      "cell_type": "markdown",
      "metadata": {
        "id": "lo9tm9godHgO"
      },
      "source": [
        "###  13  BORO_NM            object"
      ]
    },
    {
      "cell_type": "code",
      "metadata": {
        "id": "ENjhOe0dKmoY",
        "colab": {
          "base_uri": "https://localhost:8080/",
          "height": 304
        },
        "outputId": "e421d810-dc14-4711-a1d3-bb31e78fd2b1"
      },
      "source": [
        "df.BORO_NM.value_counts(dropna=False)"
      ],
      "execution_count": 40,
      "outputs": [
        {
          "output_type": "execute_result",
          "data": {
            "text/plain": [
              "BORO_NM\n",
              "BROOKLYN         2773953\n",
              "MANHATTAN        2286428\n",
              "BRONX            2051661\n",
              "QUEENS           1927001\n",
              "STATEN ISLAND     433889\n",
              "None                8661\n",
              "Name: count, dtype: int64"
            ],
            "text/html": [
              "<div>\n",
              "<style scoped>\n",
              "    .dataframe tbody tr th:only-of-type {\n",
              "        vertical-align: middle;\n",
              "    }\n",
              "\n",
              "    .dataframe tbody tr th {\n",
              "        vertical-align: top;\n",
              "    }\n",
              "\n",
              "    .dataframe thead th {\n",
              "        text-align: right;\n",
              "    }\n",
              "</style>\n",
              "<table border=\"1\" class=\"dataframe\">\n",
              "  <thead>\n",
              "    <tr style=\"text-align: right;\">\n",
              "      <th></th>\n",
              "      <th>count</th>\n",
              "    </tr>\n",
              "    <tr>\n",
              "      <th>BORO_NM</th>\n",
              "      <th></th>\n",
              "    </tr>\n",
              "  </thead>\n",
              "  <tbody>\n",
              "    <tr>\n",
              "      <th>BROOKLYN</th>\n",
              "      <td>2773953</td>\n",
              "    </tr>\n",
              "    <tr>\n",
              "      <th>MANHATTAN</th>\n",
              "      <td>2286428</td>\n",
              "    </tr>\n",
              "    <tr>\n",
              "      <th>BRONX</th>\n",
              "      <td>2051661</td>\n",
              "    </tr>\n",
              "    <tr>\n",
              "      <th>QUEENS</th>\n",
              "      <td>1927001</td>\n",
              "    </tr>\n",
              "    <tr>\n",
              "      <th>STATEN ISLAND</th>\n",
              "      <td>433889</td>\n",
              "    </tr>\n",
              "    <tr>\n",
              "      <th>None</th>\n",
              "      <td>8661</td>\n",
              "    </tr>\n",
              "  </tbody>\n",
              "</table>\n",
              "</div><br><label><b>dtype:</b> int64</label>"
            ]
          },
          "metadata": {},
          "execution_count": 40
        }
      ]
    },
    {
      "cell_type": "code",
      "source": [
        "# df.BORO_NM.replace(to_replace = '(null)', value=None, inplace = True)"
      ],
      "metadata": {
        "id": "5xj4Iz6nO2VS"
      },
      "execution_count": 41,
      "outputs": []
    },
    {
      "cell_type": "code",
      "metadata": {
        "id": "1k5gkaPcKyc3",
        "colab": {
          "base_uri": "https://localhost:8080/"
        },
        "outputId": "cae101f9-ba8e-4651-db10-2aa85c591be0"
      },
      "source": [
        "df.BORO_NM.isnull().sum()"
      ],
      "execution_count": 42,
      "outputs": [
        {
          "output_type": "execute_result",
          "data": {
            "text/plain": [
              "np.int64(8661)"
            ]
          },
          "metadata": {},
          "execution_count": 42
        }
      ]
    },
    {
      "cell_type": "code",
      "metadata": {
        "id": "QycD04zYKsYv"
      },
      "source": [
        "df = df[~df.BORO_NM.isnull()]"
      ],
      "execution_count": 43,
      "outputs": []
    },
    {
      "cell_type": "code",
      "metadata": {
        "id": "BOy4IDT-Kmqx"
      },
      "source": [
        "# df.BORO_NM = pd.Categorical(df.BORO_NM)"
      ],
      "execution_count": 44,
      "outputs": []
    },
    {
      "cell_type": "markdown",
      "metadata": {
        "id": "dYetoWeydJBI"
      },
      "source": [
        "### 23  SUSP_AGE_GROUP     object\n",
        "### 32  VIC_AGE_GROUP      object"
      ]
    },
    {
      "cell_type": "code",
      "source": [
        "df.SUSP_AGE_GROUP.value_counts(dropna=False).head(10)"
      ],
      "metadata": {
        "colab": {
          "base_uri": "https://localhost:8080/",
          "height": 429
        },
        "id": "wH9kd_8Vr7Te",
        "outputId": "89dfb257-6391-4658-fc37-0eda37b5a5b5"
      },
      "execution_count": 45,
      "outputs": [
        {
          "output_type": "execute_result",
          "data": {
            "text/plain": [
              "SUSP_AGE_GROUP\n",
              "None     6122945\n",
              "25-44    1799242\n",
              "18-24     648687\n",
              "45-64     626401\n",
              "<18       216034\n",
              "65+        58900\n",
              "1022          25\n",
              "1023          20\n",
              "2021          19\n",
              "2014          17\n",
              "Name: count, dtype: int64"
            ],
            "text/html": [
              "<div>\n",
              "<style scoped>\n",
              "    .dataframe tbody tr th:only-of-type {\n",
              "        vertical-align: middle;\n",
              "    }\n",
              "\n",
              "    .dataframe tbody tr th {\n",
              "        vertical-align: top;\n",
              "    }\n",
              "\n",
              "    .dataframe thead th {\n",
              "        text-align: right;\n",
              "    }\n",
              "</style>\n",
              "<table border=\"1\" class=\"dataframe\">\n",
              "  <thead>\n",
              "    <tr style=\"text-align: right;\">\n",
              "      <th></th>\n",
              "      <th>count</th>\n",
              "    </tr>\n",
              "    <tr>\n",
              "      <th>SUSP_AGE_GROUP</th>\n",
              "      <th></th>\n",
              "    </tr>\n",
              "  </thead>\n",
              "  <tbody>\n",
              "    <tr>\n",
              "      <th>None</th>\n",
              "      <td>6122945</td>\n",
              "    </tr>\n",
              "    <tr>\n",
              "      <th>25-44</th>\n",
              "      <td>1799242</td>\n",
              "    </tr>\n",
              "    <tr>\n",
              "      <th>18-24</th>\n",
              "      <td>648687</td>\n",
              "    </tr>\n",
              "    <tr>\n",
              "      <th>45-64</th>\n",
              "      <td>626401</td>\n",
              "    </tr>\n",
              "    <tr>\n",
              "      <th>&lt;18</th>\n",
              "      <td>216034</td>\n",
              "    </tr>\n",
              "    <tr>\n",
              "      <th>65+</th>\n",
              "      <td>58900</td>\n",
              "    </tr>\n",
              "    <tr>\n",
              "      <th>1022</th>\n",
              "      <td>25</td>\n",
              "    </tr>\n",
              "    <tr>\n",
              "      <th>1023</th>\n",
              "      <td>20</td>\n",
              "    </tr>\n",
              "    <tr>\n",
              "      <th>2021</th>\n",
              "      <td>19</td>\n",
              "    </tr>\n",
              "    <tr>\n",
              "      <th>2014</th>\n",
              "      <td>17</td>\n",
              "    </tr>\n",
              "  </tbody>\n",
              "</table>\n",
              "</div><br><label><b>dtype:</b> int64</label>"
            ]
          },
          "metadata": {},
          "execution_count": 45
        }
      ]
    },
    {
      "cell_type": "code",
      "source": [
        "df.VIC_AGE_GROUP.value_counts(dropna=False).head(10)"
      ],
      "metadata": {
        "colab": {
          "base_uri": "https://localhost:8080/",
          "height": 429
        },
        "id": "W1i9QBpgsIIf",
        "outputId": "fd51ab11-fc44-4b6c-8c74-e0db6982d1ea"
      },
      "execution_count": 46,
      "outputs": [
        {
          "output_type": "execute_result",
          "data": {
            "text/plain": [
              "VIC_AGE_GROUP\n",
              "25-44    3158192\n",
              "None     2937628\n",
              "45-64    1636934\n",
              "18-24     945130\n",
              "<18       438571\n",
              "65+       355732\n",
              "930           18\n",
              "936           17\n",
              "940           15\n",
              "935           14\n",
              "Name: count, dtype: int64"
            ],
            "text/html": [
              "<div>\n",
              "<style scoped>\n",
              "    .dataframe tbody tr th:only-of-type {\n",
              "        vertical-align: middle;\n",
              "    }\n",
              "\n",
              "    .dataframe tbody tr th {\n",
              "        vertical-align: top;\n",
              "    }\n",
              "\n",
              "    .dataframe thead th {\n",
              "        text-align: right;\n",
              "    }\n",
              "</style>\n",
              "<table border=\"1\" class=\"dataframe\">\n",
              "  <thead>\n",
              "    <tr style=\"text-align: right;\">\n",
              "      <th></th>\n",
              "      <th>count</th>\n",
              "    </tr>\n",
              "    <tr>\n",
              "      <th>VIC_AGE_GROUP</th>\n",
              "      <th></th>\n",
              "    </tr>\n",
              "  </thead>\n",
              "  <tbody>\n",
              "    <tr>\n",
              "      <th>25-44</th>\n",
              "      <td>3158192</td>\n",
              "    </tr>\n",
              "    <tr>\n",
              "      <th>None</th>\n",
              "      <td>2937628</td>\n",
              "    </tr>\n",
              "    <tr>\n",
              "      <th>45-64</th>\n",
              "      <td>1636934</td>\n",
              "    </tr>\n",
              "    <tr>\n",
              "      <th>18-24</th>\n",
              "      <td>945130</td>\n",
              "    </tr>\n",
              "    <tr>\n",
              "      <th>&lt;18</th>\n",
              "      <td>438571</td>\n",
              "    </tr>\n",
              "    <tr>\n",
              "      <th>65+</th>\n",
              "      <td>355732</td>\n",
              "    </tr>\n",
              "    <tr>\n",
              "      <th>930</th>\n",
              "      <td>18</td>\n",
              "    </tr>\n",
              "    <tr>\n",
              "      <th>936</th>\n",
              "      <td>17</td>\n",
              "    </tr>\n",
              "    <tr>\n",
              "      <th>940</th>\n",
              "      <td>15</td>\n",
              "    </tr>\n",
              "    <tr>\n",
              "      <th>935</th>\n",
              "      <td>14</td>\n",
              "    </tr>\n",
              "  </tbody>\n",
              "</table>\n",
              "</div><br><label><b>dtype:</b> int64</label>"
            ]
          },
          "metadata": {},
          "execution_count": 46
        }
      ]
    },
    {
      "cell_type": "code",
      "metadata": {
        "id": "uB6ZXLgxN9mv"
      },
      "source": [
        "# Both columns have a lot of noisy entries. We keep only the dominant groups,\n",
        "# and also define an order\n",
        "\n",
        "# Define the list of valid, ordered age groups\n",
        "valid_age_groups = ['<18', '18-24', '25-44', '45-64', '65+']\n",
        "\n",
        "# Iterate over the columns to apply the cleaning logic\n",
        "for col in ['SUSP_AGE_GROUP', 'VIC_AGE_GROUP']:\n",
        "  # The 'where' method keeps values that are in the valid_age_groups list.\n",
        "  # All other values are replaced with None.\n",
        "  df[col] = df[col].where(df[col].isin(valid_age_groups), None)"
      ],
      "execution_count": 47,
      "outputs": []
    },
    {
      "cell_type": "code",
      "source": [
        "df.VIC_AGE_GROUP.value_counts(dropna=False).head(10)"
      ],
      "metadata": {
        "colab": {
          "base_uri": "https://localhost:8080/",
          "height": 304
        },
        "id": "cEnFV-kK9q-N",
        "outputId": "136a8e7c-563f-4d70-95dd-18093cc39306"
      },
      "execution_count": 157,
      "outputs": [
        {
          "data": {
            "text/html": [
              "<div>\n",
              "<style scoped>\n",
              "    .dataframe tbody tr th:only-of-type {\n",
              "        vertical-align: middle;\n",
              "    }\n",
              "\n",
              "    .dataframe tbody tr th {\n",
              "        vertical-align: top;\n",
              "    }\n",
              "\n",
              "    .dataframe thead th {\n",
              "        text-align: right;\n",
              "    }\n",
              "</style>\n",
              "<table border=\"1\" class=\"dataframe\">\n",
              "  <thead>\n",
              "    <tr style=\"text-align: right;\">\n",
              "      <th></th>\n",
              "      <th>count</th>\n",
              "    </tr>\n",
              "    <tr>\n",
              "      <th>VIC_AGE_GROUP</th>\n",
              "      <th></th>\n",
              "    </tr>\n",
              "  </thead>\n",
              "  <tbody>\n",
              "    <tr>\n",
              "      <th>25-44</th>\n",
              "      <td>3143326</td>\n",
              "    </tr>\n",
              "    <tr>\n",
              "      <th>None</th>\n",
              "      <td>2909866</td>\n",
              "    </tr>\n",
              "    <tr>\n",
              "      <th>45-64</th>\n",
              "      <td>1629476</td>\n",
              "    </tr>\n",
              "    <tr>\n",
              "      <th>18-24</th>\n",
              "      <td>941080</td>\n",
              "    </tr>\n",
              "    <tr>\n",
              "      <th>&lt;18</th>\n",
              "      <td>436178</td>\n",
              "    </tr>\n",
              "    <tr>\n",
              "      <th>65+</th>\n",
              "      <td>354023</td>\n",
              "    </tr>\n",
              "  </tbody>\n",
              "</table>\n",
              "</div><br><label><b>dtype:</b> int64</label>"
            ],
            "text/plain": [
              "VIC_AGE_GROUP\n",
              "25-44    3143326\n",
              "None     2909866\n",
              "45-64    1629476\n",
              "18-24     941080\n",
              "<18       436178\n",
              "65+       354023\n",
              "Name: count, dtype: int64"
            ]
          },
          "execution_count": 157,
          "metadata": {},
          "output_type": "execute_result"
        }
      ]
    },
    {
      "cell_type": "code",
      "source": [
        "df.SUSP_AGE_GROUP.value_counts(dropna=False).head(10)"
      ],
      "metadata": {
        "colab": {
          "base_uri": "https://localhost:8080/",
          "height": 304
        },
        "id": "EtnbVK4Y9u36",
        "outputId": "92a85604-4316-4a0e-8537-2a38a1bad5e3"
      },
      "execution_count": 158,
      "outputs": [
        {
          "data": {
            "text/html": [
              "<div>\n",
              "<style scoped>\n",
              "    .dataframe tbody tr th:only-of-type {\n",
              "        vertical-align: middle;\n",
              "    }\n",
              "\n",
              "    .dataframe tbody tr th {\n",
              "        vertical-align: top;\n",
              "    }\n",
              "\n",
              "    .dataframe thead th {\n",
              "        text-align: right;\n",
              "    }\n",
              "</style>\n",
              "<table border=\"1\" class=\"dataframe\">\n",
              "  <thead>\n",
              "    <tr style=\"text-align: right;\">\n",
              "      <th></th>\n",
              "      <th>count</th>\n",
              "    </tr>\n",
              "    <tr>\n",
              "      <th>SUSP_AGE_GROUP</th>\n",
              "      <th></th>\n",
              "    </tr>\n",
              "  </thead>\n",
              "  <tbody>\n",
              "    <tr>\n",
              "      <th>None</th>\n",
              "      <td>6091955</td>\n",
              "    </tr>\n",
              "    <tr>\n",
              "      <th>25-44</th>\n",
              "      <td>1783817</td>\n",
              "    </tr>\n",
              "    <tr>\n",
              "      <th>18-24</th>\n",
              "      <td>643829</td>\n",
              "    </tr>\n",
              "    <tr>\n",
              "      <th>45-64</th>\n",
              "      <td>621052</td>\n",
              "    </tr>\n",
              "    <tr>\n",
              "      <th>&lt;18</th>\n",
              "      <td>214983</td>\n",
              "    </tr>\n",
              "    <tr>\n",
              "      <th>65+</th>\n",
              "      <td>58313</td>\n",
              "    </tr>\n",
              "  </tbody>\n",
              "</table>\n",
              "</div><br><label><b>dtype:</b> int64</label>"
            ],
            "text/plain": [
              "SUSP_AGE_GROUP\n",
              "None     6091955\n",
              "25-44    1783817\n",
              "18-24     643829\n",
              "45-64     621052\n",
              "<18       214983\n",
              "65+        58313\n",
              "Name: count, dtype: int64"
            ]
          },
          "execution_count": 158,
          "metadata": {},
          "output_type": "execute_result"
        }
      ]
    },
    {
      "cell_type": "markdown",
      "metadata": {
        "id": "dzbRUBNidLui"
      },
      "source": [
        "\n",
        "### 24  SUSP_RACE          object\n",
        "### 25  SUSP_SEX           object\n",
        "\n",
        "### 33  VIC_RACE           object\n",
        "### 34  VIC_SEX            object"
      ]
    },
    {
      "cell_type": "code",
      "source": [
        "df.VIC_SEX.value_counts(dropna=False)"
      ],
      "metadata": {
        "colab": {
          "base_uri": "https://localhost:8080/",
          "height": 304
        },
        "id": "l1fgnxzhsN2I",
        "outputId": "2f7cf9e5-0f4a-4fa8-820b-2d3517d23e1c"
      },
      "execution_count": 48,
      "outputs": [
        {
          "output_type": "execute_result",
          "data": {
            "text/plain": [
              "VIC_SEX\n",
              "F       3684981\n",
              "M       3148473\n",
              "E       1378406\n",
              "D       1250727\n",
              "L         10040\n",
              "None        305\n",
              "Name: count, dtype: int64"
            ],
            "text/html": [
              "<div>\n",
              "<style scoped>\n",
              "    .dataframe tbody tr th:only-of-type {\n",
              "        vertical-align: middle;\n",
              "    }\n",
              "\n",
              "    .dataframe tbody tr th {\n",
              "        vertical-align: top;\n",
              "    }\n",
              "\n",
              "    .dataframe thead th {\n",
              "        text-align: right;\n",
              "    }\n",
              "</style>\n",
              "<table border=\"1\" class=\"dataframe\">\n",
              "  <thead>\n",
              "    <tr style=\"text-align: right;\">\n",
              "      <th></th>\n",
              "      <th>count</th>\n",
              "    </tr>\n",
              "    <tr>\n",
              "      <th>VIC_SEX</th>\n",
              "      <th></th>\n",
              "    </tr>\n",
              "  </thead>\n",
              "  <tbody>\n",
              "    <tr>\n",
              "      <th>F</th>\n",
              "      <td>3684981</td>\n",
              "    </tr>\n",
              "    <tr>\n",
              "      <th>M</th>\n",
              "      <td>3148473</td>\n",
              "    </tr>\n",
              "    <tr>\n",
              "      <th>E</th>\n",
              "      <td>1378406</td>\n",
              "    </tr>\n",
              "    <tr>\n",
              "      <th>D</th>\n",
              "      <td>1250727</td>\n",
              "    </tr>\n",
              "    <tr>\n",
              "      <th>L</th>\n",
              "      <td>10040</td>\n",
              "    </tr>\n",
              "    <tr>\n",
              "      <th>None</th>\n",
              "      <td>305</td>\n",
              "    </tr>\n",
              "  </tbody>\n",
              "</table>\n",
              "</div><br><label><b>dtype:</b> int64</label>"
            ]
          },
          "metadata": {},
          "execution_count": 48
        }
      ]
    },
    {
      "cell_type": "code",
      "metadata": {
        "id": "AbvNhUSHLWyX"
      },
      "source": [
        "df.VIC_SEX = df.VIC_SEX.replace(to_replace = 'U', value=None)\n",
        "df = df[~df.VIC_SEX.isnull()]"
      ],
      "execution_count": 49,
      "outputs": []
    },
    {
      "cell_type": "code",
      "source": [],
      "metadata": {
        "id": "NsCLBR1usdnn"
      },
      "execution_count": 49,
      "outputs": []
    },
    {
      "cell_type": "code",
      "metadata": {
        "id": "90z-XtBmL7Y_",
        "colab": {
          "base_uri": "https://localhost:8080/",
          "height": 366
        },
        "outputId": "f071105e-fff5-4660-95eb-80bc2040ddda"
      },
      "source": [
        "df.VIC_RACE.value_counts(dropna=False)"
      ],
      "execution_count": 50,
      "outputs": [
        {
          "output_type": "execute_result",
          "data": {
            "text/plain": [
              "VIC_RACE\n",
              "None                              3092536\n",
              "BLACK                             2278257\n",
              "WHITE HISPANIC                    1562445\n",
              "WHITE                             1562024\n",
              "ASIAN / PACIFIC ISLANDER           593690\n",
              "BLACK HISPANIC                     341646\n",
              "AMERICAN INDIAN/ALASKAN NATIVE      41998\n",
              "OTHER                                  31\n",
              "Name: count, dtype: int64"
            ],
            "text/html": [
              "<div>\n",
              "<style scoped>\n",
              "    .dataframe tbody tr th:only-of-type {\n",
              "        vertical-align: middle;\n",
              "    }\n",
              "\n",
              "    .dataframe tbody tr th {\n",
              "        vertical-align: top;\n",
              "    }\n",
              "\n",
              "    .dataframe thead th {\n",
              "        text-align: right;\n",
              "    }\n",
              "</style>\n",
              "<table border=\"1\" class=\"dataframe\">\n",
              "  <thead>\n",
              "    <tr style=\"text-align: right;\">\n",
              "      <th></th>\n",
              "      <th>count</th>\n",
              "    </tr>\n",
              "    <tr>\n",
              "      <th>VIC_RACE</th>\n",
              "      <th></th>\n",
              "    </tr>\n",
              "  </thead>\n",
              "  <tbody>\n",
              "    <tr>\n",
              "      <th>None</th>\n",
              "      <td>3092536</td>\n",
              "    </tr>\n",
              "    <tr>\n",
              "      <th>BLACK</th>\n",
              "      <td>2278257</td>\n",
              "    </tr>\n",
              "    <tr>\n",
              "      <th>WHITE HISPANIC</th>\n",
              "      <td>1562445</td>\n",
              "    </tr>\n",
              "    <tr>\n",
              "      <th>WHITE</th>\n",
              "      <td>1562024</td>\n",
              "    </tr>\n",
              "    <tr>\n",
              "      <th>ASIAN / PACIFIC ISLANDER</th>\n",
              "      <td>593690</td>\n",
              "    </tr>\n",
              "    <tr>\n",
              "      <th>BLACK HISPANIC</th>\n",
              "      <td>341646</td>\n",
              "    </tr>\n",
              "    <tr>\n",
              "      <th>AMERICAN INDIAN/ALASKAN NATIVE</th>\n",
              "      <td>41998</td>\n",
              "    </tr>\n",
              "    <tr>\n",
              "      <th>OTHER</th>\n",
              "      <td>31</td>\n",
              "    </tr>\n",
              "  </tbody>\n",
              "</table>\n",
              "</div><br><label><b>dtype:</b> int64</label>"
            ]
          },
          "metadata": {},
          "execution_count": 50
        }
      ]
    },
    {
      "cell_type": "code",
      "metadata": {
        "id": "f90mE8bAMCbq"
      },
      "source": [
        "df.VIC_RACE = df.VIC_RACE.replace(to_replace = 'OTHER', value=None)"
      ],
      "execution_count": 51,
      "outputs": []
    },
    {
      "cell_type": "code",
      "metadata": {
        "id": "sXZiVydvLW7B",
        "colab": {
          "base_uri": "https://localhost:8080/",
          "height": 241
        },
        "outputId": "02c992d4-7a2e-473e-e814-9405ef6ac82e"
      },
      "source": [
        "df.SUSP_SEX.value_counts(dropna=False)"
      ],
      "execution_count": 52,
      "outputs": [
        {
          "output_type": "execute_result",
          "data": {
            "text/plain": [
              "SUSP_SEX\n",
              "None    3871948\n",
              "M       3445915\n",
              "U       1110664\n",
              "F       1044100\n",
              "Name: count, dtype: int64"
            ],
            "text/html": [
              "<div>\n",
              "<style scoped>\n",
              "    .dataframe tbody tr th:only-of-type {\n",
              "        vertical-align: middle;\n",
              "    }\n",
              "\n",
              "    .dataframe tbody tr th {\n",
              "        vertical-align: top;\n",
              "    }\n",
              "\n",
              "    .dataframe thead th {\n",
              "        text-align: right;\n",
              "    }\n",
              "</style>\n",
              "<table border=\"1\" class=\"dataframe\">\n",
              "  <thead>\n",
              "    <tr style=\"text-align: right;\">\n",
              "      <th></th>\n",
              "      <th>count</th>\n",
              "    </tr>\n",
              "    <tr>\n",
              "      <th>SUSP_SEX</th>\n",
              "      <th></th>\n",
              "    </tr>\n",
              "  </thead>\n",
              "  <tbody>\n",
              "    <tr>\n",
              "      <th>None</th>\n",
              "      <td>3871948</td>\n",
              "    </tr>\n",
              "    <tr>\n",
              "      <th>M</th>\n",
              "      <td>3445915</td>\n",
              "    </tr>\n",
              "    <tr>\n",
              "      <th>U</th>\n",
              "      <td>1110664</td>\n",
              "    </tr>\n",
              "    <tr>\n",
              "      <th>F</th>\n",
              "      <td>1044100</td>\n",
              "    </tr>\n",
              "  </tbody>\n",
              "</table>\n",
              "</div><br><label><b>dtype:</b> int64</label>"
            ]
          },
          "metadata": {},
          "execution_count": 52
        }
      ]
    },
    {
      "cell_type": "code",
      "source": [
        "# U is unknown, same is NULL.\n",
        "df.SUSP_SEX = df.SUSP_SEX.replace(to_replace = 'U', value=None)"
      ],
      "metadata": {
        "id": "Mh6PZC3kCTFf"
      },
      "execution_count": 53,
      "outputs": []
    },
    {
      "cell_type": "code",
      "metadata": {
        "id": "uqOaUJwGOY8A",
        "colab": {
          "base_uri": "https://localhost:8080/",
          "height": 366
        },
        "outputId": "3ae41926-40f7-402c-b665-609ab80879e0"
      },
      "source": [
        "df.SUSP_RACE.value_counts(dropna=False)"
      ],
      "execution_count": 54,
      "outputs": [
        {
          "output_type": "execute_result",
          "data": {
            "text/plain": [
              "SUSP_RACE\n",
              "None                              5310806\n",
              "BLACK                             2101671\n",
              "WHITE HISPANIC                     965386\n",
              "WHITE                              584800\n",
              "BLACK HISPANIC                     301590\n",
              "ASIAN / PACIFIC ISLANDER           192298\n",
              "AMERICAN INDIAN/ALASKAN NATIVE      16065\n",
              "OTHER                                  11\n",
              "Name: count, dtype: int64"
            ],
            "text/html": [
              "<div>\n",
              "<style scoped>\n",
              "    .dataframe tbody tr th:only-of-type {\n",
              "        vertical-align: middle;\n",
              "    }\n",
              "\n",
              "    .dataframe tbody tr th {\n",
              "        vertical-align: top;\n",
              "    }\n",
              "\n",
              "    .dataframe thead th {\n",
              "        text-align: right;\n",
              "    }\n",
              "</style>\n",
              "<table border=\"1\" class=\"dataframe\">\n",
              "  <thead>\n",
              "    <tr style=\"text-align: right;\">\n",
              "      <th></th>\n",
              "      <th>count</th>\n",
              "    </tr>\n",
              "    <tr>\n",
              "      <th>SUSP_RACE</th>\n",
              "      <th></th>\n",
              "    </tr>\n",
              "  </thead>\n",
              "  <tbody>\n",
              "    <tr>\n",
              "      <th>None</th>\n",
              "      <td>5310806</td>\n",
              "    </tr>\n",
              "    <tr>\n",
              "      <th>BLACK</th>\n",
              "      <td>2101671</td>\n",
              "    </tr>\n",
              "    <tr>\n",
              "      <th>WHITE HISPANIC</th>\n",
              "      <td>965386</td>\n",
              "    </tr>\n",
              "    <tr>\n",
              "      <th>WHITE</th>\n",
              "      <td>584800</td>\n",
              "    </tr>\n",
              "    <tr>\n",
              "      <th>BLACK HISPANIC</th>\n",
              "      <td>301590</td>\n",
              "    </tr>\n",
              "    <tr>\n",
              "      <th>ASIAN / PACIFIC ISLANDER</th>\n",
              "      <td>192298</td>\n",
              "    </tr>\n",
              "    <tr>\n",
              "      <th>AMERICAN INDIAN/ALASKAN NATIVE</th>\n",
              "      <td>16065</td>\n",
              "    </tr>\n",
              "    <tr>\n",
              "      <th>OTHER</th>\n",
              "      <td>11</td>\n",
              "    </tr>\n",
              "  </tbody>\n",
              "</table>\n",
              "</div><br><label><b>dtype:</b> int64</label>"
            ]
          },
          "metadata": {},
          "execution_count": 54
        }
      ]
    },
    {
      "cell_type": "code",
      "metadata": {
        "id": "uNrpuX5cO2jD"
      },
      "source": [
        "# Very small amount of OTHER values\n",
        "df.SUSP_RACE = df.SUSP_RACE.replace(to_replace = 'OTHER', value=None)"
      ],
      "execution_count": 55,
      "outputs": []
    },
    {
      "cell_type": "code",
      "metadata": {
        "id": "cnsudHdiminz"
      },
      "source": [
        "# df.SUSP_RACE = pd.Categorical(df.SUSP_RACE)\n",
        "# df.SUSP_SEX = pd.Categorical(df.SUSP_SEX)\n",
        "# df.VIC_RACE = pd.Categorical(df.VIC_RACE)\n",
        "# df.VIC_SEX = pd.Categorical(df.VIC_SEX)"
      ],
      "execution_count": 56,
      "outputs": []
    },
    {
      "cell_type": "code",
      "metadata": {
        "id": "oefs7ULfLq_3"
      },
      "source": [],
      "execution_count": 56,
      "outputs": []
    },
    {
      "cell_type": "markdown",
      "metadata": {
        "id": "hwqg7JDimsZL"
      },
      "source": [
        "###  14  LOC_OF_OCCUR_DESC  object"
      ]
    },
    {
      "cell_type": "code",
      "source": [
        "# df.LOC_OF_OCCUR_DESC = df.LOC_OF_OCCUR_DESC.astype(str)"
      ],
      "metadata": {
        "id": "V-lrLAOhn2qW"
      },
      "execution_count": 57,
      "outputs": []
    },
    {
      "cell_type": "code",
      "source": [
        "df['LOC_OF_OCCUR_DESC'] = df['LOC_OF_OCCUR_DESC'].replace({np.nan: None})"
      ],
      "metadata": {
        "id": "m0bp6w2XnneD"
      },
      "execution_count": 139,
      "outputs": []
    },
    {
      "cell_type": "code",
      "metadata": {
        "id": "FjndFTaaLrCz",
        "colab": {
          "base_uri": "https://localhost:8080/",
          "height": 272
        },
        "outputId": "18fa718c-8240-41c0-a1cf-971c57baad11"
      },
      "source": [
        "df.LOC_OF_OCCUR_DESC.value_counts(dropna=False)"
      ],
      "execution_count": 141,
      "outputs": [
        {
          "output_type": "execute_result",
          "data": {
            "text/plain": [
              "LOC_OF_OCCUR_DESC\n",
              "INSIDE         4826737\n",
              "FRONT OF       2237479\n",
              "None           1926120\n",
              "OPPOSITE OF     235013\n",
              "REAR OF         188600\n",
              "Name: count, dtype: int64"
            ],
            "text/html": [
              "<div>\n",
              "<style scoped>\n",
              "    .dataframe tbody tr th:only-of-type {\n",
              "        vertical-align: middle;\n",
              "    }\n",
              "\n",
              "    .dataframe tbody tr th {\n",
              "        vertical-align: top;\n",
              "    }\n",
              "\n",
              "    .dataframe thead th {\n",
              "        text-align: right;\n",
              "    }\n",
              "</style>\n",
              "<table border=\"1\" class=\"dataframe\">\n",
              "  <thead>\n",
              "    <tr style=\"text-align: right;\">\n",
              "      <th></th>\n",
              "      <th>count</th>\n",
              "    </tr>\n",
              "    <tr>\n",
              "      <th>LOC_OF_OCCUR_DESC</th>\n",
              "      <th></th>\n",
              "    </tr>\n",
              "  </thead>\n",
              "  <tbody>\n",
              "    <tr>\n",
              "      <th>INSIDE</th>\n",
              "      <td>4826737</td>\n",
              "    </tr>\n",
              "    <tr>\n",
              "      <th>FRONT OF</th>\n",
              "      <td>2237479</td>\n",
              "    </tr>\n",
              "    <tr>\n",
              "      <th>None</th>\n",
              "      <td>1926120</td>\n",
              "    </tr>\n",
              "    <tr>\n",
              "      <th>OPPOSITE OF</th>\n",
              "      <td>235013</td>\n",
              "    </tr>\n",
              "    <tr>\n",
              "      <th>REAR OF</th>\n",
              "      <td>188600</td>\n",
              "    </tr>\n",
              "  </tbody>\n",
              "</table>\n",
              "</div><br><label><b>dtype:</b> int64</label>"
            ]
          },
          "metadata": {},
          "execution_count": 141
        }
      ]
    },
    {
      "cell_type": "code",
      "metadata": {
        "id": "BYD6exvDURk0"
      },
      "source": [
        "# df.LOC_OF_OCCUR_DESC = pd.Categorical(df.LOC_OF_OCCUR_DESC)"
      ],
      "execution_count": 60,
      "outputs": []
    },
    {
      "cell_type": "markdown",
      "metadata": {
        "id": "aXmyNo52mz3j"
      },
      "source": [
        "### Latitude  & Longitude"
      ]
    },
    {
      "cell_type": "code",
      "source": [
        "import geopandas as gpd"
      ],
      "metadata": {
        "id": "90qOQIXADsB3"
      },
      "execution_count": 61,
      "outputs": []
    },
    {
      "cell_type": "code",
      "metadata": {
        "id": "U9no8KCH5mm9"
      },
      "source": [
        "df.Latitude = pd.to_numeric(df.Latitude)\n",
        "df.Longitude  = pd.to_numeric(df.Longitude)"
      ],
      "execution_count": 62,
      "outputs": []
    },
    {
      "cell_type": "code",
      "source": [
        "gdf = gpd.GeoDataFrame(df, geometry=gpd.points_from_xy(df.Longitude, df.Latitude))"
      ],
      "metadata": {
        "id": "7VohK2IPCKI5"
      },
      "execution_count": 63,
      "outputs": []
    },
    {
      "cell_type": "code",
      "source": [
        "# https://data.cityofnewyork.us/City-Government/2020-Neighborhood-Tabulation-Areas-NTAs-/9nt8-h7nd/about_data\n",
        "shapefile_url = 'https://data.cityofnewyork.us/resource/9nt8-h7nd.geojson'\n",
        "df_nyc = gpd.GeoDataFrame.from_file(shapefile_url)\n",
        "df_nyc = df_nyc.to_crs(4326)"
      ],
      "metadata": {
        "id": "IpqfpFphCOoz"
      },
      "execution_count": 64,
      "outputs": []
    },
    {
      "cell_type": "code",
      "source": [
        "df_nyc"
      ],
      "metadata": {
        "colab": {
          "base_uri": "https://localhost:8080/",
          "height": 982
        },
        "id": "OWAxQ_WtNB65",
        "outputId": "1508c6fc-fd53-4190-8ad5-07c82cf1f187"
      },
      "execution_count": 65,
      "outputs": [
        {
          "output_type": "execute_result",
          "data": {
            "text/plain": [
              "        shape_area                      ntaname  \\\n",
              "0    35321809.1041                   Greenpoint   \n",
              "1    28852852.7038                 Williamsburg   \n",
              "2    15208960.7339           South Williamsburg   \n",
              "3    52267407.9898            East Williamsburg   \n",
              "4    9982321.59069             Brooklyn Heights   \n",
              "..             ...                          ...   \n",
              "257  47758768.0799      Freshkills Park (South)   \n",
              "258    9867248.986               Fort Wadsworth   \n",
              "259  635701.967583  Hoffman & Swinburne Islands   \n",
              "260  10866804.1436                 Miller Field   \n",
              "261  23377914.8587             Great Kills Park   \n",
              "\n",
              "                                              cdtaname     shape_leng  \\\n",
              "0       BK01 Williamsburg-Greenpoint (CD 1 Equivalent)  28919.5608108   \n",
              "1       BK01 Williamsburg-Greenpoint (CD 1 Equivalent)  28134.0823238   \n",
              "2       BK01 Williamsburg-Greenpoint (CD 1 Equivalent)  18250.2805432   \n",
              "3       BK01 Williamsburg-Greenpoint (CD 1 Equivalent)  43184.7989883   \n",
              "4    BK02 Downtown Brooklyn-Fort Greene (CD 2 Appro...  14312.5049745   \n",
              "..                                                 ...            ...   \n",
              "257              SI03 South Shore (CD 3 Approximation)  33945.4204211   \n",
              "258  SI95 Great Kills Park-Fort Wadsworth (JIA 95 A...  14814.4147411   \n",
              "259  SI95 Great Kills Park-Fort Wadsworth (JIA 95 A...  4743.12812675   \n",
              "260  SI95 Great Kills Park-Fort Wadsworth (JIA 95 A...  19197.2009732   \n",
              "261  SI95 Great Kills Park-Fort Wadsworth (JIA 95 A...  41465.4301871   \n",
              "\n",
              "          boroname ntatype nta2020 borocode countyfips   ntaabbrev cdta2020  \\\n",
              "0         Brooklyn       0  BK0101        3        047       Grnpt     BK01   \n",
              "1         Brooklyn       0  BK0102        3        047    Wllmsbrg     BK01   \n",
              "2         Brooklyn       0  BK0103        3        047   SWllmsbrg     BK01   \n",
              "3         Brooklyn       0  BK0104        3        047   EWllmsbrg     BK01   \n",
              "4         Brooklyn       0  BK0201        3        047       BkHts     BK02   \n",
              "..             ...     ...     ...      ...        ...         ...      ...   \n",
              "257  Staten Island       9  SI0391        5        085  FrshklPK_S     SI03   \n",
              "258  Staten Island       6  SI9561        5        085   FtWdswrth     SI95   \n",
              "259  Staten Island       9  SI9591        5        085    HffmnIsl     SI95   \n",
              "260  Staten Island       9  SI9592        5        085     MllrFld     SI95   \n",
              "261  Staten Island       9  SI9593        5        085    GrtKlsPk     SI95   \n",
              "\n",
              "                                              geometry  \n",
              "0    MULTIPOLYGON (((-73.93213 40.72816, -73.93238 ...  \n",
              "1    MULTIPOLYGON (((-73.95814 40.7244, -73.95772 4...  \n",
              "2    MULTIPOLYGON (((-73.95024 40.70547, -73.94984 ...  \n",
              "3    MULTIPOLYGON (((-73.92406 40.71411, -73.92404 ...  \n",
              "4    MULTIPOLYGON (((-73.99236 40.68969, -73.99436 ...  \n",
              "..                                                 ...  \n",
              "257  MULTIPOLYGON (((-74.20058 40.57951, -74.19888 ...  \n",
              "258  MULTIPOLYGON (((-74.05975 40.59385, -74.06013 ...  \n",
              "259  MULTIPOLYGON (((-74.05051 40.56642, -74.05047 ...  \n",
              "260  MULTIPOLYGON (((-74.08469 40.57148, -74.08595 ...  \n",
              "261  MULTIPOLYGON (((-74.11338 40.54807, -74.11341 ...  \n",
              "\n",
              "[262 rows x 12 columns]"
            ],
            "text/html": [
              "\n",
              "  <div id=\"df-ed09a61a-1295-4f88-ae77-c1fd991d9c61\" class=\"colab-df-container\">\n",
              "    <div>\n",
              "<style scoped>\n",
              "    .dataframe tbody tr th:only-of-type {\n",
              "        vertical-align: middle;\n",
              "    }\n",
              "\n",
              "    .dataframe tbody tr th {\n",
              "        vertical-align: top;\n",
              "    }\n",
              "\n",
              "    .dataframe thead th {\n",
              "        text-align: right;\n",
              "    }\n",
              "</style>\n",
              "<table border=\"1\" class=\"dataframe\">\n",
              "  <thead>\n",
              "    <tr style=\"text-align: right;\">\n",
              "      <th></th>\n",
              "      <th>shape_area</th>\n",
              "      <th>ntaname</th>\n",
              "      <th>cdtaname</th>\n",
              "      <th>shape_leng</th>\n",
              "      <th>boroname</th>\n",
              "      <th>ntatype</th>\n",
              "      <th>nta2020</th>\n",
              "      <th>borocode</th>\n",
              "      <th>countyfips</th>\n",
              "      <th>ntaabbrev</th>\n",
              "      <th>cdta2020</th>\n",
              "      <th>geometry</th>\n",
              "    </tr>\n",
              "  </thead>\n",
              "  <tbody>\n",
              "    <tr>\n",
              "      <th>0</th>\n",
              "      <td>35321809.1041</td>\n",
              "      <td>Greenpoint</td>\n",
              "      <td>BK01 Williamsburg-Greenpoint (CD 1 Equivalent)</td>\n",
              "      <td>28919.5608108</td>\n",
              "      <td>Brooklyn</td>\n",
              "      <td>0</td>\n",
              "      <td>BK0101</td>\n",
              "      <td>3</td>\n",
              "      <td>047</td>\n",
              "      <td>Grnpt</td>\n",
              "      <td>BK01</td>\n",
              "      <td>MULTIPOLYGON (((-73.93213 40.72816, -73.93238 ...</td>\n",
              "    </tr>\n",
              "    <tr>\n",
              "      <th>1</th>\n",
              "      <td>28852852.7038</td>\n",
              "      <td>Williamsburg</td>\n",
              "      <td>BK01 Williamsburg-Greenpoint (CD 1 Equivalent)</td>\n",
              "      <td>28134.0823238</td>\n",
              "      <td>Brooklyn</td>\n",
              "      <td>0</td>\n",
              "      <td>BK0102</td>\n",
              "      <td>3</td>\n",
              "      <td>047</td>\n",
              "      <td>Wllmsbrg</td>\n",
              "      <td>BK01</td>\n",
              "      <td>MULTIPOLYGON (((-73.95814 40.7244, -73.95772 4...</td>\n",
              "    </tr>\n",
              "    <tr>\n",
              "      <th>2</th>\n",
              "      <td>15208960.7339</td>\n",
              "      <td>South Williamsburg</td>\n",
              "      <td>BK01 Williamsburg-Greenpoint (CD 1 Equivalent)</td>\n",
              "      <td>18250.2805432</td>\n",
              "      <td>Brooklyn</td>\n",
              "      <td>0</td>\n",
              "      <td>BK0103</td>\n",
              "      <td>3</td>\n",
              "      <td>047</td>\n",
              "      <td>SWllmsbrg</td>\n",
              "      <td>BK01</td>\n",
              "      <td>MULTIPOLYGON (((-73.95024 40.70547, -73.94984 ...</td>\n",
              "    </tr>\n",
              "    <tr>\n",
              "      <th>3</th>\n",
              "      <td>52267407.9898</td>\n",
              "      <td>East Williamsburg</td>\n",
              "      <td>BK01 Williamsburg-Greenpoint (CD 1 Equivalent)</td>\n",
              "      <td>43184.7989883</td>\n",
              "      <td>Brooklyn</td>\n",
              "      <td>0</td>\n",
              "      <td>BK0104</td>\n",
              "      <td>3</td>\n",
              "      <td>047</td>\n",
              "      <td>EWllmsbrg</td>\n",
              "      <td>BK01</td>\n",
              "      <td>MULTIPOLYGON (((-73.92406 40.71411, -73.92404 ...</td>\n",
              "    </tr>\n",
              "    <tr>\n",
              "      <th>4</th>\n",
              "      <td>9982321.59069</td>\n",
              "      <td>Brooklyn Heights</td>\n",
              "      <td>BK02 Downtown Brooklyn-Fort Greene (CD 2 Appro...</td>\n",
              "      <td>14312.5049745</td>\n",
              "      <td>Brooklyn</td>\n",
              "      <td>0</td>\n",
              "      <td>BK0201</td>\n",
              "      <td>3</td>\n",
              "      <td>047</td>\n",
              "      <td>BkHts</td>\n",
              "      <td>BK02</td>\n",
              "      <td>MULTIPOLYGON (((-73.99236 40.68969, -73.99436 ...</td>\n",
              "    </tr>\n",
              "    <tr>\n",
              "      <th>...</th>\n",
              "      <td>...</td>\n",
              "      <td>...</td>\n",
              "      <td>...</td>\n",
              "      <td>...</td>\n",
              "      <td>...</td>\n",
              "      <td>...</td>\n",
              "      <td>...</td>\n",
              "      <td>...</td>\n",
              "      <td>...</td>\n",
              "      <td>...</td>\n",
              "      <td>...</td>\n",
              "      <td>...</td>\n",
              "    </tr>\n",
              "    <tr>\n",
              "      <th>257</th>\n",
              "      <td>47758768.0799</td>\n",
              "      <td>Freshkills Park (South)</td>\n",
              "      <td>SI03 South Shore (CD 3 Approximation)</td>\n",
              "      <td>33945.4204211</td>\n",
              "      <td>Staten Island</td>\n",
              "      <td>9</td>\n",
              "      <td>SI0391</td>\n",
              "      <td>5</td>\n",
              "      <td>085</td>\n",
              "      <td>FrshklPK_S</td>\n",
              "      <td>SI03</td>\n",
              "      <td>MULTIPOLYGON (((-74.20058 40.57951, -74.19888 ...</td>\n",
              "    </tr>\n",
              "    <tr>\n",
              "      <th>258</th>\n",
              "      <td>9867248.986</td>\n",
              "      <td>Fort Wadsworth</td>\n",
              "      <td>SI95 Great Kills Park-Fort Wadsworth (JIA 95 A...</td>\n",
              "      <td>14814.4147411</td>\n",
              "      <td>Staten Island</td>\n",
              "      <td>6</td>\n",
              "      <td>SI9561</td>\n",
              "      <td>5</td>\n",
              "      <td>085</td>\n",
              "      <td>FtWdswrth</td>\n",
              "      <td>SI95</td>\n",
              "      <td>MULTIPOLYGON (((-74.05975 40.59385, -74.06013 ...</td>\n",
              "    </tr>\n",
              "    <tr>\n",
              "      <th>259</th>\n",
              "      <td>635701.967583</td>\n",
              "      <td>Hoffman &amp; Swinburne Islands</td>\n",
              "      <td>SI95 Great Kills Park-Fort Wadsworth (JIA 95 A...</td>\n",
              "      <td>4743.12812675</td>\n",
              "      <td>Staten Island</td>\n",
              "      <td>9</td>\n",
              "      <td>SI9591</td>\n",
              "      <td>5</td>\n",
              "      <td>085</td>\n",
              "      <td>HffmnIsl</td>\n",
              "      <td>SI95</td>\n",
              "      <td>MULTIPOLYGON (((-74.05051 40.56642, -74.05047 ...</td>\n",
              "    </tr>\n",
              "    <tr>\n",
              "      <th>260</th>\n",
              "      <td>10866804.1436</td>\n",
              "      <td>Miller Field</td>\n",
              "      <td>SI95 Great Kills Park-Fort Wadsworth (JIA 95 A...</td>\n",
              "      <td>19197.2009732</td>\n",
              "      <td>Staten Island</td>\n",
              "      <td>9</td>\n",
              "      <td>SI9592</td>\n",
              "      <td>5</td>\n",
              "      <td>085</td>\n",
              "      <td>MllrFld</td>\n",
              "      <td>SI95</td>\n",
              "      <td>MULTIPOLYGON (((-74.08469 40.57148, -74.08595 ...</td>\n",
              "    </tr>\n",
              "    <tr>\n",
              "      <th>261</th>\n",
              "      <td>23377914.8587</td>\n",
              "      <td>Great Kills Park</td>\n",
              "      <td>SI95 Great Kills Park-Fort Wadsworth (JIA 95 A...</td>\n",
              "      <td>41465.4301871</td>\n",
              "      <td>Staten Island</td>\n",
              "      <td>9</td>\n",
              "      <td>SI9593</td>\n",
              "      <td>5</td>\n",
              "      <td>085</td>\n",
              "      <td>GrtKlsPk</td>\n",
              "      <td>SI95</td>\n",
              "      <td>MULTIPOLYGON (((-74.11338 40.54807, -74.11341 ...</td>\n",
              "    </tr>\n",
              "  </tbody>\n",
              "</table>\n",
              "<p>262 rows × 12 columns</p>\n",
              "</div>\n",
              "    <div class=\"colab-df-buttons\">\n",
              "\n",
              "  <div class=\"colab-df-container\">\n",
              "    <button class=\"colab-df-convert\" onclick=\"convertToInteractive('df-ed09a61a-1295-4f88-ae77-c1fd991d9c61')\"\n",
              "            title=\"Convert this dataframe to an interactive table.\"\n",
              "            style=\"display:none;\">\n",
              "\n",
              "  <svg xmlns=\"http://www.w3.org/2000/svg\" height=\"24px\" viewBox=\"0 -960 960 960\">\n",
              "    <path d=\"M120-120v-720h720v720H120Zm60-500h600v-160H180v160Zm220 220h160v-160H400v160Zm0 220h160v-160H400v160ZM180-400h160v-160H180v160Zm440 0h160v-160H620v160ZM180-180h160v-160H180v160Zm440 0h160v-160H620v160Z\"/>\n",
              "  </svg>\n",
              "    </button>\n",
              "\n",
              "  <style>\n",
              "    .colab-df-container {\n",
              "      display:flex;\n",
              "      gap: 12px;\n",
              "    }\n",
              "\n",
              "    .colab-df-convert {\n",
              "      background-color: #E8F0FE;\n",
              "      border: none;\n",
              "      border-radius: 50%;\n",
              "      cursor: pointer;\n",
              "      display: none;\n",
              "      fill: #1967D2;\n",
              "      height: 32px;\n",
              "      padding: 0 0 0 0;\n",
              "      width: 32px;\n",
              "    }\n",
              "\n",
              "    .colab-df-convert:hover {\n",
              "      background-color: #E2EBFA;\n",
              "      box-shadow: 0px 1px 2px rgba(60, 64, 67, 0.3), 0px 1px 3px 1px rgba(60, 64, 67, 0.15);\n",
              "      fill: #174EA6;\n",
              "    }\n",
              "\n",
              "    .colab-df-buttons div {\n",
              "      margin-bottom: 4px;\n",
              "    }\n",
              "\n",
              "    [theme=dark] .colab-df-convert {\n",
              "      background-color: #3B4455;\n",
              "      fill: #D2E3FC;\n",
              "    }\n",
              "\n",
              "    [theme=dark] .colab-df-convert:hover {\n",
              "      background-color: #434B5C;\n",
              "      box-shadow: 0px 1px 3px 1px rgba(0, 0, 0, 0.15);\n",
              "      filter: drop-shadow(0px 1px 2px rgba(0, 0, 0, 0.3));\n",
              "      fill: #FFFFFF;\n",
              "    }\n",
              "  </style>\n",
              "\n",
              "    <script>\n",
              "      const buttonEl =\n",
              "        document.querySelector('#df-ed09a61a-1295-4f88-ae77-c1fd991d9c61 button.colab-df-convert');\n",
              "      buttonEl.style.display =\n",
              "        google.colab.kernel.accessAllowed ? 'block' : 'none';\n",
              "\n",
              "      async function convertToInteractive(key) {\n",
              "        const element = document.querySelector('#df-ed09a61a-1295-4f88-ae77-c1fd991d9c61');\n",
              "        const dataTable =\n",
              "          await google.colab.kernel.invokeFunction('convertToInteractive',\n",
              "                                                    [key], {});\n",
              "        if (!dataTable) return;\n",
              "\n",
              "        const docLinkHtml = 'Like what you see? Visit the ' +\n",
              "          '<a target=\"_blank\" href=https://colab.research.google.com/notebooks/data_table.ipynb>data table notebook</a>'\n",
              "          + ' to learn more about interactive tables.';\n",
              "        element.innerHTML = '';\n",
              "        dataTable['output_type'] = 'display_data';\n",
              "        await google.colab.output.renderOutput(dataTable, element);\n",
              "        const docLink = document.createElement('div');\n",
              "        docLink.innerHTML = docLinkHtml;\n",
              "        element.appendChild(docLink);\n",
              "      }\n",
              "    </script>\n",
              "  </div>\n",
              "\n",
              "\n",
              "    <div id=\"df-6ff7d0e7-e214-4b4d-9972-e2143608fae4\">\n",
              "      <button class=\"colab-df-quickchart\" onclick=\"quickchart('df-6ff7d0e7-e214-4b4d-9972-e2143608fae4')\"\n",
              "                title=\"Suggest charts\"\n",
              "                style=\"display:none;\">\n",
              "\n",
              "<svg xmlns=\"http://www.w3.org/2000/svg\" height=\"24px\"viewBox=\"0 0 24 24\"\n",
              "     width=\"24px\">\n",
              "    <g>\n",
              "        <path d=\"M19 3H5c-1.1 0-2 .9-2 2v14c0 1.1.9 2 2 2h14c1.1 0 2-.9 2-2V5c0-1.1-.9-2-2-2zM9 17H7v-7h2v7zm4 0h-2V7h2v10zm4 0h-2v-4h2v4z\"/>\n",
              "    </g>\n",
              "</svg>\n",
              "      </button>\n",
              "\n",
              "<style>\n",
              "  .colab-df-quickchart {\n",
              "      --bg-color: #E8F0FE;\n",
              "      --fill-color: #1967D2;\n",
              "      --hover-bg-color: #E2EBFA;\n",
              "      --hover-fill-color: #174EA6;\n",
              "      --disabled-fill-color: #AAA;\n",
              "      --disabled-bg-color: #DDD;\n",
              "  }\n",
              "\n",
              "  [theme=dark] .colab-df-quickchart {\n",
              "      --bg-color: #3B4455;\n",
              "      --fill-color: #D2E3FC;\n",
              "      --hover-bg-color: #434B5C;\n",
              "      --hover-fill-color: #FFFFFF;\n",
              "      --disabled-bg-color: #3B4455;\n",
              "      --disabled-fill-color: #666;\n",
              "  }\n",
              "\n",
              "  .colab-df-quickchart {\n",
              "    background-color: var(--bg-color);\n",
              "    border: none;\n",
              "    border-radius: 50%;\n",
              "    cursor: pointer;\n",
              "    display: none;\n",
              "    fill: var(--fill-color);\n",
              "    height: 32px;\n",
              "    padding: 0;\n",
              "    width: 32px;\n",
              "  }\n",
              "\n",
              "  .colab-df-quickchart:hover {\n",
              "    background-color: var(--hover-bg-color);\n",
              "    box-shadow: 0 1px 2px rgba(60, 64, 67, 0.3), 0 1px 3px 1px rgba(60, 64, 67, 0.15);\n",
              "    fill: var(--button-hover-fill-color);\n",
              "  }\n",
              "\n",
              "  .colab-df-quickchart-complete:disabled,\n",
              "  .colab-df-quickchart-complete:disabled:hover {\n",
              "    background-color: var(--disabled-bg-color);\n",
              "    fill: var(--disabled-fill-color);\n",
              "    box-shadow: none;\n",
              "  }\n",
              "\n",
              "  .colab-df-spinner {\n",
              "    border: 2px solid var(--fill-color);\n",
              "    border-color: transparent;\n",
              "    border-bottom-color: var(--fill-color);\n",
              "    animation:\n",
              "      spin 1s steps(1) infinite;\n",
              "  }\n",
              "\n",
              "  @keyframes spin {\n",
              "    0% {\n",
              "      border-color: transparent;\n",
              "      border-bottom-color: var(--fill-color);\n",
              "      border-left-color: var(--fill-color);\n",
              "    }\n",
              "    20% {\n",
              "      border-color: transparent;\n",
              "      border-left-color: var(--fill-color);\n",
              "      border-top-color: var(--fill-color);\n",
              "    }\n",
              "    30% {\n",
              "      border-color: transparent;\n",
              "      border-left-color: var(--fill-color);\n",
              "      border-top-color: var(--fill-color);\n",
              "      border-right-color: var(--fill-color);\n",
              "    }\n",
              "    40% {\n",
              "      border-color: transparent;\n",
              "      border-right-color: var(--fill-color);\n",
              "      border-top-color: var(--fill-color);\n",
              "    }\n",
              "    60% {\n",
              "      border-color: transparent;\n",
              "      border-right-color: var(--fill-color);\n",
              "    }\n",
              "    80% {\n",
              "      border-color: transparent;\n",
              "      border-right-color: var(--fill-color);\n",
              "      border-bottom-color: var(--fill-color);\n",
              "    }\n",
              "    90% {\n",
              "      border-color: transparent;\n",
              "      border-bottom-color: var(--fill-color);\n",
              "    }\n",
              "  }\n",
              "</style>\n",
              "\n",
              "      <script>\n",
              "        async function quickchart(key) {\n",
              "          const quickchartButtonEl =\n",
              "            document.querySelector('#' + key + ' button');\n",
              "          quickchartButtonEl.disabled = true;  // To prevent multiple clicks.\n",
              "          quickchartButtonEl.classList.add('colab-df-spinner');\n",
              "          try {\n",
              "            const charts = await google.colab.kernel.invokeFunction(\n",
              "                'suggestCharts', [key], {});\n",
              "          } catch (error) {\n",
              "            console.error('Error during call to suggestCharts:', error);\n",
              "          }\n",
              "          quickchartButtonEl.classList.remove('colab-df-spinner');\n",
              "          quickchartButtonEl.classList.add('colab-df-quickchart-complete');\n",
              "        }\n",
              "        (() => {\n",
              "          let quickchartButtonEl =\n",
              "            document.querySelector('#df-6ff7d0e7-e214-4b4d-9972-e2143608fae4 button');\n",
              "          quickchartButtonEl.style.display =\n",
              "            google.colab.kernel.accessAllowed ? 'block' : 'none';\n",
              "        })();\n",
              "      </script>\n",
              "    </div>\n",
              "\n",
              "  <div id=\"id_1e7cdb0b-5451-444e-9ff9-8bc6c862fb19\">\n",
              "    <style>\n",
              "      .colab-df-generate {\n",
              "        background-color: #E8F0FE;\n",
              "        border: none;\n",
              "        border-radius: 50%;\n",
              "        cursor: pointer;\n",
              "        display: none;\n",
              "        fill: #1967D2;\n",
              "        height: 32px;\n",
              "        padding: 0 0 0 0;\n",
              "        width: 32px;\n",
              "      }\n",
              "\n",
              "      .colab-df-generate:hover {\n",
              "        background-color: #E2EBFA;\n",
              "        box-shadow: 0px 1px 2px rgba(60, 64, 67, 0.3), 0px 1px 3px 1px rgba(60, 64, 67, 0.15);\n",
              "        fill: #174EA6;\n",
              "      }\n",
              "\n",
              "      [theme=dark] .colab-df-generate {\n",
              "        background-color: #3B4455;\n",
              "        fill: #D2E3FC;\n",
              "      }\n",
              "\n",
              "      [theme=dark] .colab-df-generate:hover {\n",
              "        background-color: #434B5C;\n",
              "        box-shadow: 0px 1px 3px 1px rgba(0, 0, 0, 0.15);\n",
              "        filter: drop-shadow(0px 1px 2px rgba(0, 0, 0, 0.3));\n",
              "        fill: #FFFFFF;\n",
              "      }\n",
              "    </style>\n",
              "    <button class=\"colab-df-generate\" onclick=\"generateWithVariable('df_nyc')\"\n",
              "            title=\"Generate code using this dataframe.\"\n",
              "            style=\"display:none;\">\n",
              "\n",
              "  <svg xmlns=\"http://www.w3.org/2000/svg\" height=\"24px\"viewBox=\"0 0 24 24\"\n",
              "       width=\"24px\">\n",
              "    <path d=\"M7,19H8.4L18.45,9,17,7.55,7,17.6ZM5,21V16.75L18.45,3.32a2,2,0,0,1,2.83,0l1.4,1.43a1.91,1.91,0,0,1,.58,1.4,1.91,1.91,0,0,1-.58,1.4L9.25,21ZM18.45,9,17,7.55Zm-12,3A5.31,5.31,0,0,0,4.9,8.1,5.31,5.31,0,0,0,1,6.5,5.31,5.31,0,0,0,4.9,4.9,5.31,5.31,0,0,0,6.5,1,5.31,5.31,0,0,0,8.1,4.9,5.31,5.31,0,0,0,12,6.5,5.46,5.46,0,0,0,6.5,12Z\"/>\n",
              "  </svg>\n",
              "    </button>\n",
              "    <script>\n",
              "      (() => {\n",
              "      const buttonEl =\n",
              "        document.querySelector('#id_1e7cdb0b-5451-444e-9ff9-8bc6c862fb19 button.colab-df-generate');\n",
              "      buttonEl.style.display =\n",
              "        google.colab.kernel.accessAllowed ? 'block' : 'none';\n",
              "\n",
              "      buttonEl.onclick = () => {\n",
              "        google.colab.notebook.generateWithVariable('df_nyc');\n",
              "      }\n",
              "      })();\n",
              "    </script>\n",
              "  </div>\n",
              "\n",
              "    </div>\n",
              "  </div>\n"
            ],
            "application/vnd.google.colaboratory.intrinsic+json": {
              "type": "dataframe",
              "variable_name": "df_nyc",
              "summary": "{\n  \"name\": \"df_nyc\",\n  \"rows\": 262,\n  \"fields\": [\n    {\n      \"column\": \"shape_area\",\n      \"properties\": {\n        \"dtype\": \"string\",\n        \"num_unique_values\": 262,\n        \"samples\": [\n          \"62182629.1423\",\n          \"46824594.5567\",\n          \"34304348.3345\"\n        ],\n        \"semantic_type\": \"\",\n        \"description\": \"\"\n      }\n    },\n    {\n      \"column\": \"ntaname\",\n      \"properties\": {\n        \"dtype\": \"string\",\n        \"num_unique_values\": 262,\n        \"samples\": [\n          \"New Dorp-Midland Beach\",\n          \"Jamaica\",\n          \"Kew Gardens Hills\"\n        ],\n        \"semantic_type\": \"\",\n        \"description\": \"\"\n      }\n    },\n    {\n      \"column\": \"cdtaname\",\n      \"properties\": {\n        \"dtype\": \"category\",\n        \"num_unique_values\": 71,\n        \"samples\": [\n          \"BX03 Morrisania-Crotona Park East (CD 3 Approximation)\",\n          \"BK01 Williamsburg-Greenpoint (CD 1 Equivalent)\",\n          \"QN02 Long Island City-Sunnyside-Woodside (CD 2 Approximation)\"\n        ],\n        \"semantic_type\": \"\",\n        \"description\": \"\"\n      }\n    },\n    {\n      \"column\": \"shape_leng\",\n      \"properties\": {\n        \"dtype\": \"string\",\n        \"num_unique_values\": 262,\n        \"samples\": [\n          \"49753.4735307\",\n          \"41771.9321179\",\n          \"28291.717768\"\n        ],\n        \"semantic_type\": \"\",\n        \"description\": \"\"\n      }\n    },\n    {\n      \"column\": \"boroname\",\n      \"properties\": {\n        \"dtype\": \"category\",\n        \"num_unique_values\": 5,\n        \"samples\": [\n          \"Bronx\",\n          \"Staten Island\",\n          \"Manhattan\"\n        ],\n        \"semantic_type\": \"\",\n        \"description\": \"\"\n      }\n    },\n    {\n      \"column\": \"ntatype\",\n      \"properties\": {\n        \"dtype\": \"category\",\n        \"num_unique_values\": 6,\n        \"samples\": [\n          \"0\",\n          \"6\",\n          \"8\"\n        ],\n        \"semantic_type\": \"\",\n        \"description\": \"\"\n      }\n    },\n    {\n      \"column\": \"nta2020\",\n      \"properties\": {\n        \"dtype\": \"string\",\n        \"num_unique_values\": 262,\n        \"samples\": [\n          \"SI0202\",\n          \"QN1201\",\n          \"QN0801\"\n        ],\n        \"semantic_type\": \"\",\n        \"description\": \"\"\n      }\n    },\n    {\n      \"column\": \"borocode\",\n      \"properties\": {\n        \"dtype\": \"category\",\n        \"num_unique_values\": 5,\n        \"samples\": [\n          \"2\",\n          \"5\",\n          \"1\"\n        ],\n        \"semantic_type\": \"\",\n        \"description\": \"\"\n      }\n    },\n    {\n      \"column\": \"countyfips\",\n      \"properties\": {\n        \"dtype\": \"category\",\n        \"num_unique_values\": 5,\n        \"samples\": [\n          \"005\",\n          \"085\",\n          \"061\"\n        ],\n        \"semantic_type\": \"\",\n        \"description\": \"\"\n      }\n    },\n    {\n      \"column\": \"ntaabbrev\",\n      \"properties\": {\n        \"dtype\": \"string\",\n        \"num_unique_values\": 262,\n        \"samples\": [\n          \"NwDrp_MBch\",\n          \"Jmca\",\n          \"KwGrdnsHls\"\n        ],\n        \"semantic_type\": \"\",\n        \"description\": \"\"\n      }\n    },\n    {\n      \"column\": \"cdta2020\",\n      \"properties\": {\n        \"dtype\": \"category\",\n        \"num_unique_values\": 71,\n        \"samples\": [\n          \"BX03\",\n          \"BK01\",\n          \"QN02\"\n        ],\n        \"semantic_type\": \"\",\n        \"description\": \"\"\n      }\n    },\n    {\n      \"column\": \"geometry\",\n      \"properties\": {\n        \"dtype\": \"geometry\",\n        \"num_unique_values\": 262,\n        \"samples\": [\n          \"MULTIPOLYGON (((-74.07601597043875 40.57824491279242, -74.07611008044665 40.578173861180005, -74.07620499324031 40.578126613398254, -74.076246763247 40.57810441582907, -74.07626037024005 40.578085008718894, -74.07628942409059 40.57806559252335, -74.07633845483518 40.578036462249564, -74.0763666041991 40.57802120220586, -74.07639928398461 40.577994854549964, -74.07640834714083 40.577975450946184, -74.07639844892995 40.577969774088906, -74.07630470430549 40.57792009669971, -74.07629015242489 40.5779076368044, -74.0762974101844 40.57789862509339, -74.07631467297801 40.57789861362757, -74.0764274802261 40.57795011964618, -74.07645491002772 40.57796294588583, -74.07649283077296 40.57796084612535, -74.07651642995233 40.5779400473643, -74.0765391125089 40.577911627954734, -74.07655452620622 40.57788252048225, -74.0765835626763 40.57784924735166, -74.07662183569536 40.57781853594669, -74.07672273866143 40.5777305454108, -74.07688226472081 40.57763678940894, -74.076915528964 40.57757950001263, -74.07673747616742 40.57737250932547, -74.07674837365101 40.57736695916296, -74.0768978737975 40.57751630829063, -74.07693881528702 40.57753434508877, -74.07737472522487 40.577282158905625, -74.07830169156928 40.57646471865804, -74.07877412894703 40.576010822245564, -74.07926321256909 40.57567129220572, -74.07867933938974 40.57508182572596, -74.078751853163 40.575042125637225, -74.07933640538258 40.57562720401692, -74.0801786744205 40.57518041825951, -74.08050289147509 40.574980458710655, -74.08090683283002 40.57468980424899, -74.08133770718663 40.57431998930679, -74.08173725351443 40.573938578523475, -74.08230682682282 40.573422503104055, -74.0825918520404 40.57314951590214, -74.08300620740235 40.572785570049604, -74.08359916061023 40.57237147537058, -74.08469075991493 40.57147791444237, -74.08597647495837 40.57223697088938, -74.08765791437604 40.57301266463168, -74.08769737595837 40.573061884040605, -74.08778171028295 40.573019174119906, -74.08791939165785 40.57294944518445, -74.08813355299472 40.572827720226755, -74.08833888007267 40.57269721992493, -74.08853447613126 40.57255850657654, -74.08871950277424 40.5724122347467, -74.088766266508 40.57237448501508, -74.08881407698244 40.57232494656573, -74.0891785702706 40.57194728904969, -74.08941764592073 40.57172078352537, -74.08946037717651 40.571680298374524, -74.08946252591987 40.57160934570851, -74.08970621316963 40.57136298773793, -74.09027760305806 40.5707810161172, -74.09107091185476 40.56992919585457, -74.09204451580803 40.56889233924309, -74.09275074305378 40.568096048887895, -74.09277058223982 40.56794341060308, -74.09387294850107 40.56840894290831, -74.09460596825299 40.568789623772645, -74.09534630960934 40.569181388867044, -74.09608851931057 40.56956030579805, -74.0968216678062 40.56994779873088, -74.09756635004224 40.57034244443861, -74.09832014934616 40.570731530768576, -74.09904954497776 40.571110782109535, -74.09978756583607 40.57150384469883, -74.10054051318497 40.571881912825916, -74.10127150714166 40.57227846551583, -74.10202930939963 40.572661679172526, -74.10277197148328 40.57304662240295, -74.10352244245159 40.57342828411318, -74.10426936968626 40.573811268286406, -74.10470979075865 40.57400593940534, -74.1052429037728 40.57309403989095, -74.10567170552915 40.57250783263223, -74.10604352648372 40.57206417962447, -74.10637577083321 40.57222437058383, -74.10649441729544 40.572112043735025, -74.10750627467485 40.57108775925427, -74.10813715509397 40.57049091441423, -74.10874017944533 40.56991649485112, -74.10660439393246 40.56877826927087, -74.10547294491406 40.56825534316956, -74.10466931614015 40.56787712745803, -74.10386985559657 40.5675006495187, -74.10307036662718 40.56712282563077, -74.10208938262923 40.56664840415715, -74.1015496156722 40.56638585702569, -74.10078650997899 40.56601481960151, -74.10002280975412 40.5656434882968, -74.0989520165496 40.565123993023654, -74.09763008130058 40.56448217104684, -74.09571351649025 40.563546277312135, -74.09543837238314 40.56341191466121, -74.09407071109428 40.5627316194612, -74.09511063361292 40.56317327343462, -74.09524145226949 40.56314838653875, -74.09542371796327 40.563154635568594, -74.09568304214088 40.56291939729115, -74.09566331996847 40.56281931767252, -74.09567198061373 40.56277559824541, -74.09571191999136 40.5627508694013, -74.09576141073522 40.5627321195933, -74.09582321827422 40.56272227341534, -74.09588687685206 40.562724916849284, -74.09611847135459 40.562587574490124, -74.09629202201873 40.56242083077324, -74.09661362272217 40.5620871455374, -74.09687036780427 40.56171797215015, -74.09698199431745 40.561476216670364, -74.09702483295516 40.561336438997024, -74.09708844300387 40.56125456802861, -74.09715495845653 40.561188307509944, -74.09723420757022 40.56111958671923, -74.09730732893384 40.56101581108998, -74.09741969570308 40.56088364770627, -74.09759824840415 40.56061292553595, -74.09788807970723 40.56016942673061, -74.09796392976409 40.560036550086714, -74.09797864152102 40.55999301361576, -74.09799348696802 40.55996710535796, -74.09804431644578 40.55991316544585, -74.09812034213039 40.55989295254353, -74.09819767261925 40.559836476804655, -74.09827265698341 40.55954880879488, -74.09829030823701 40.559332614156844, -74.09822154829865 40.55928358203837, -74.09808686320234 40.55920274335819, -74.09799902257583 40.55918570617146, -74.0978323030348 40.55912045436088, -74.09779665317961 40.55908724277527, -74.09782127024009 40.559053466217776, -74.09784815988272 40.5590336690917, -74.09793172715024 40.559041462891415, -74.09862204726856 40.55938798186033, -74.09865870468039 40.559407560418634, -74.09870617083808 40.55942360149757, -74.09876415480899 40.559423551650895, -74.09883262879092 40.559387308977776, -74.09892581152889 40.55935005689288, -74.09909547833864 40.559258790630885, -74.09932770361468 40.55909741373022, -74.09929593747896 40.55900497241417, -74.09938031432738 40.55896419336119, -74.09986924754335 40.559093501038085, -74.10009549232218 40.5589534456225, -74.10173732685867 40.559905578356094, -74.10199170415402 40.560014893039664, -74.10224304159401 40.56012822460049, -74.10249123014651 40.56024552388141, -74.10273616214353 40.56036674000411, -74.10297773132787 40.56049182039094, -74.10321583303525 40.56062071048781, -74.10345036383978 40.56075335469014, -74.1036812219905 40.5608896954624, -74.10390830732763 40.561029673665395, -74.10413152132607 40.56117322858165, -74.10484627058604 40.561595239413506, -74.10557645508744 40.56198997349252, -74.10617236982273 40.56229633282996, -74.10690692431896 40.562667046035514, -74.10710400861106 40.56276988389572, -74.10786795862475 40.56314558825756, -74.10861594087227 40.56352836334709, -74.10936214501805 40.563908937765305, -74.11013947171949 40.56431066683192, -74.11211239787434 40.56550555775858, -74.11369932873225 40.5664597445355, -74.1137616119522 40.566497189104155, -74.11430477314565 40.56594740157206, -74.11489902561797 40.56536698598113, -74.11546552886664 40.5648059587744, -74.11636336408694 40.56391563798591, -74.11641052729098 40.5639435159133, -74.11721290345169 40.56441776428341, -74.11804055353461 40.5649216420596, -74.11876038871961 40.5653552243262, -74.11948009742046 40.56577955271732, -74.12024008986363 40.566227466187364, -74.1216663634852 40.56708846008519, -74.12309281073965 40.56796636695779, -74.12329206152012 40.5680758638436, -74.12359663185327 40.568239981272875, -74.1239506369474 40.56843071915819, -74.12489904372397 40.568949142947105, -74.12418560387265 40.569424537728324, -74.12358401314435 40.56983252915218, -74.12345152970734 40.569920532932876, -74.12338018042826 40.56992568473623, -74.1231738939254 40.57007547837285, -74.1231349278997 40.57010679175795, -74.12309848397635 40.57016758766639, -74.12278967207527 40.570429844769606, -74.12259644862776 40.570596433666644, -74.12216856503926 40.57093949424355, -74.12162563934474 40.57150139386879, -74.12144535640003 40.57177561468111, -74.1213873134506 40.57209221157465, -74.1213881534412 40.57222366825427, -74.1213575435243 40.5723726119111, -74.12135751909844 40.57237271128205, -74.12135750783659 40.57237280075482, -74.12134254805527 40.57252387107913, -74.12134352003388 40.57267566220521, -74.12134352016565 40.57267573474543, -74.12136044698725 40.572826743739384, -74.12139299200975 40.57297554929282, -74.1216043910472 40.5735559198836, -74.12170075509479 40.57383202826159, -74.12183079763918 40.57421708946894, -74.12185333597442 40.57465318139658, -74.12172623919842 40.57490698558334, -74.12153728906142 40.575153252579454, -74.12125713856922 40.575254894031374, -74.1211208026458 40.5753068460743, -74.11978567428648 40.57581555699351, -74.11910954863369 40.57615725273162, -74.11849053403752 40.576626838035885, -74.11803358500752 40.57717040940838, -74.11792496188336 40.57730871717155, -74.11781158414287 40.57744478849195, -74.1176935312776 40.57757852838979, -74.1175708853141 40.5777098434814, -74.11749266626578 40.57780179903886, -74.1174082975797 40.5778905376923, -74.11731800632565 40.577975820585415, -74.11722203625865 40.578057417503786, -74.11712064498651 40.57813510950012, -74.11701410540708 40.57820868744987, -74.11692844372 40.578242452358666, -74.11683912776596 40.578270171328796, -74.11674689085241 40.578291617313994, -74.11665248795629 40.57830661440191, -74.11602124401955 40.57836179070994, -74.1159349014445 40.57837697249746, -74.11585062873704 40.57839784824526, -74.11576907045284 40.578424258286674, -74.11569085038859 40.57845600062623, -74.11561656698969 40.57849283264264, -74.1155467882566 40.57853447245831, -74.11548204789862 40.57858060159242, -74.11542284109224 40.578630867226984, -74.11481941529144 40.57917687459947, -74.11422746742953 40.57973390855994, -74.11397508196357 40.58001321310059, -74.11367299899226 40.58031293718778, -74.11306954399342 40.58076852292008, -74.11220998128736 40.58126623843299, -74.11127706578291 40.58179072929385, -74.1102871432888 40.58219874762394, -74.10924835542112 40.582678413036014, -74.10790851648575 40.583685637783255, -74.1072903107219 40.58422229829378, -74.10649465128465 40.58489534298545, -74.10588393204905 40.58540720828064, -74.10525775474818 40.58592143674002, -74.10278862905331 40.58422448803129, -74.10263321627558 40.58410694569342, -74.1024969603787 40.5840150329813, -74.10061310938735 40.58271119102472, -74.09844000868472 40.5812417060068, -74.09771889787355 40.5818128757654, -74.09712008497911 40.5822848611866, -74.09682732691442 40.582516994772355, -74.09616891309581 40.5830437864488, -74.09543804445043 40.58362355927176, -74.09471038940596 40.58420261275447, -74.09402416461535 40.58474638166682, -74.09340699380238 40.5852401124334, -74.09261596810609 40.58593981066926, -74.09164763989003 40.58544375036977, -74.0908931837396 40.58505665617701, -74.08912147995802 40.58414256119349, -74.08855998006314 40.58472232115163, -74.08849596561299 40.584788424160124, -74.08793925918046 40.58448796850655, -74.08654141644654 40.58373352673994, -74.08547721892522 40.58318989277988, -74.08435958126574 40.58261894068443, -74.08220709548668 40.58153143325779, -74.08107038261736 40.58094409932101, -74.07993370182561 40.580356754097735, -74.07900316419263 40.57987890545585, -74.07832806039372 40.579532215368374, -74.07785350497022 40.57928257030059, -74.07780237408421 40.57925021293546, -74.07774852897026 40.57920988766943, -74.07691859582955 40.578758997946004, -74.07680739091536 40.57869383818619, -74.07601597043875 40.57824491279242)))\",\n          \"MULTIPOLYGON (((-73.76844546450798 40.70963702715851, -73.76918606549442 40.70933634193657, -73.7709358513658 40.7086258965765, -73.77230141691683 40.708071422028816, -73.77265188953196 40.70799292360789, -73.77278262904787 40.70795789439835, -73.77299790109386 40.70790021501122, -73.7733379948227 40.707793515719615, -73.77367069055342 40.70767319562394, -73.77373764420588 40.70764560829343, -73.77399462538675 40.70753971867664, -73.77430843648855 40.70739366845841, -73.77461091483518 40.707235724689255, -73.77490093301229 40.7070666619114, -73.77505158098602 40.70692403556126, -73.77518799493681 40.70677011665488, -73.77530808871066 40.706606178568336, -73.77541010568217 40.70643377643433, -73.77549258356063 40.706254672351925, -73.77555451090386 40.70607083568823, -73.77559530110551 40.70588432005894, -73.77561486296848 40.70569722174948, -73.77561355964721 40.70551157811208, -73.77559218769973 40.70532930872316, -73.77507462296458 40.705239983801846, -73.77434779094273 40.70398639706131, -73.77394353600035 40.703311504961576, -73.77353391339513 40.70262042851533, -73.77331744799446 40.70226169556536, -73.77312771651141 40.7019472767249, -73.77272432593223 40.7012622167376, -73.77230768665234 40.700571507823675, -73.7727462224157 40.70037864655052, -73.77293506681083 40.70029492047127, -73.77318719051388 40.70018646420709, -73.77343832933391 40.700075322326775, -73.77359394912469 40.69999438309469, -73.77395659465941 40.69980578158966, -73.7744123011568 40.700280877336205, -73.774883186405 40.70074775236012, -73.77536886235075 40.70120598405158, -73.77586892894918 40.70165517071928, -73.77638291319609 40.70209492929486, -73.77691037812367 40.702524885327136, -73.77733989871172 40.702850036793016, -73.77791979959224 40.703291535887416, -73.77849131064606 40.703833225748994, -73.77916009841347 40.70438896666452, -73.77981827969886 40.70492789791018, -73.78034491174006 40.70541241670845, -73.78048687114007 40.7054032594798, -73.7806291873763 40.70539824898686, -73.78077165137928 40.7053973925903, -73.78091405386256 40.705400691548185, -73.78105618597851 40.705408140566206, -73.78119783860235 40.70541972915918, -73.78133880363913 40.70543544030295, -73.78147887400361 40.70545525091697, -73.78161441841502 40.70546968188776, -73.78175074370324 40.705478918152735, -73.7818875063122 40.705482936435416, -73.78202436158345 40.70548172660924, -73.78216096455614 40.705475291612515, -73.78229697103214 40.705463647751706, -73.78243203825589 40.70544682437105, -73.78256582583963 40.70542486386777, -73.78279775483675 40.70536113770465, -73.7830274286228 40.705292845322816, -73.78325469198846 40.705220032875005, -73.78347939135487 40.7051427495685, -73.78370137485864 40.7050610478547, -73.78392049251869 40.7049749827256, -73.78413659626597 40.704884612344195, -73.78434954006991 40.70478999778268, -73.78484876203372 40.70458557024042, -73.78597976427156 40.70418661636312, -73.78751690035786 40.70371508234023, -73.7880416149923 40.703555597485675, -73.78835413952247 40.70346023064841, -73.78919308979026 40.703204386250476, -73.78966391546204 40.7030394885222, -73.78977597260835 40.70297886361084, -73.78999405812054 40.702871416792036, -73.79055566937224 40.70256779606509, -73.7911556972667 40.70229407580129, -73.79126603284661 40.70225980545299, -73.7913819459393 40.70223594120522, -73.79150083658797 40.70222313872557, -73.79161998858307 40.70222157200692, -73.79187893539822 40.70222179408255, -73.79213732443536 40.70220336924171, -73.79239170314601 40.70216652965294, -73.79235282137122 40.702097939526794, -73.79186916556714 40.701366137188636, -73.79194372086772 40.7012717260558, -73.79201691195877 40.701117726662936, -73.79210582650062 40.700967789354, -73.79210595770796 40.70096757331276, -73.79210611202821 40.700967357313225, -73.79221016673698 40.70082285120797, -73.79221029717054 40.70082267135118, -73.79221043987614 40.70082250910694, -73.792328944646 40.70068447695209, -73.79232905182735 40.70068434161557, -73.79232917039714 40.70068422489518, -73.79246106872054 40.70055382470332, -73.7924611163779 40.70055378910584, -73.79260506717982 40.7004321004765, -73.79284356468972 40.700243683537686, -73.79357708734877 40.69975647169586, -73.7944992088149 40.69938577672113, -73.79572173793613 40.69901473511362, -73.79647606456403 40.69869308455888, -73.79722374730012 40.69835945788552, -73.79753672777423 40.69819892460309, -73.79786193446463 40.69799340427747, -73.7985464016822 40.697466532827654, -73.79876814887389 40.69725955139649, -73.79918226883795 40.69687147632482, -73.79985927555352 40.696347080176025, -73.80053204219229 40.695856692375436, -73.80104680026373 40.695453494341756, -73.80119617890713 40.6953364890647, -73.80211252615815 40.69454449894391, -73.80295940111618 40.69381747113181, -73.80381770566765 40.69307963156007, -73.80468793044425 40.692345571639436, -73.8055584983553 40.691608704952564, -73.80642479404877 40.69087385841379, -73.80723957222747 40.691431988390164, -73.80803640354955 40.69198289532297, -73.80828132375153 40.692147385699386, -73.80890216900741 40.69256434895528, -73.80971017159486 40.692199384927555, -73.81026958007322 40.6920452490003, -73.81054216697729 40.69197245927402, -73.8106329831089 40.69194738257676, -73.81072587521027 40.69192242230341, -73.8108408461296 40.69213108142467, -73.8109714317455 40.69236809217517, -73.81109973355632 40.692600954382755, -73.8114788342678 40.693298348177876, -73.81148147127826 40.69330286050236, -73.81176740213566 40.69379553749661, -73.81181808052025 40.69388286028718, -73.81186236003296 40.693964960302786, -73.81212412321833 40.69441018850826, -73.8121946779597 40.69453019874825, -73.81234146325713 40.694805131410554, -73.81246822323307 40.69503056265182, -73.81254756311158 40.69517166129677, -73.81309586054469 40.69608393715354, -73.81325187607492 40.69634351123636, -73.81325474700577 40.696348286246014, -73.81348150001412 40.696725548712884, -73.81372585817093 40.69713209523489, -73.81376639787524 40.69719827580721, -73.81380692749572 40.69726399748993, -73.81404165266886 40.697665947181356, -73.81416657482868 40.69787986416446, -73.8142444747496 40.69803728297984, -73.8144121901096 40.69833503809748, -73.81449870256824 40.69849734265618, -73.81474675168094 40.69895153871278, -73.81477393195648 40.699001307843965, -73.81499480332181 40.69940572382027, -73.81506362434236 40.69953174483589, -73.81521970568254 40.69982923743394, -73.81545562411235 40.700278882447435, -73.81548608411413 40.70034545465191, -73.81548756756887 40.70034869651135, -73.81554489139099 40.70047396803385, -73.81559396594285 40.700583064083865, -73.81601941671187 40.701484509959414, -73.81612523593955 40.7017087172029, -73.81622620028095 40.70192263475307, -73.81647531259662 40.70245042741943, -73.81637824492984 40.70245196446868, -73.8162891641841 40.7024540653498, -73.81594020637964 40.70245890241184, -73.8153159325601 40.70248733133302, -73.81496204632488 40.70249848704831, -73.8142941337173 40.70253110886879, -73.81398666737631 40.70254206742142, -73.81356470609941 40.70252849800177, -73.81314101274833 40.702499551893325, -73.8130188292005 40.70249515724169, -73.81193002304043 40.70234083607756, -73.811528569193 40.70227287488048, -73.81163157057074 40.70305216011712, -73.81171288999042 40.703662201697256, -73.81177296786338 40.70418095082532, -73.81180202659482 40.704366351644, -73.81190436190145 40.70512394067993, -73.81201248584306 40.70594494480843, -73.80934800437142 40.70668543950637, -73.80694856329364 40.70736710041373, -73.80728801011863 40.70806217128849, -73.80762188329243 40.70873059540968, -73.80804630832019 40.70935682763484, -73.80717925052495 40.70960291172155, -73.80632761570008 40.70984606188824, -73.80548241387304 40.71008885594099, -73.80501247652543 40.70947333468651, -73.80484079634434 40.70933798395958, -73.80416800562526 40.708983588942104, -73.80399334477438 40.708917175115786, -73.80399310837699 40.70891708525358, -73.80399288436459 40.70891697614683, -73.80390211479158 40.70887388459884, -73.80382593015474 40.70883771711911, -73.80382572898367 40.70883762664651, -73.8038255518601 40.708837518792, -73.80366830189843 40.70874604690133, -73.80352309598754 40.70864355428599, -73.80352301317777 40.7086434909868, -73.80352292970558 40.70864342835658, -73.8033917529021 40.70853142301622, -73.80327598183266 40.70841152851472, -73.80302414740676 40.70813965709433, -73.80278213549933 40.70827267149024, -73.80255069064843 40.70841720359437, -73.8023312003012 40.70857247132123, -73.80212493353972 40.70873760460453, -73.80193297056056 40.70891159585274, -73.8015959056396 40.7095484257566, -73.80151152607957 40.70962160840437, -73.80151145525078 40.70962166205854, -73.80151137209002 40.70962171686416, -73.80141430558285 40.70968677342279, -73.8014141632875 40.70968687302368, -73.80141399771443 40.709686952983695, -73.80130624995861 40.70974214928826, -73.80130615604304 40.70974219301836, -73.80130606127132 40.70974222853812, -73.80119037187256 40.709786163064926, -73.80119015874314 40.709786243947654, -73.80118994569567 40.70978629735603, -73.80106920317314 40.70981821081239, -73.7998578316007 40.71025256296907, -73.79870150679069 40.710663377114116, -73.79807226535452 40.70963987788991, -73.79776810133993 40.70914318884439, -73.7973140069755 40.709270198755455, -73.79639418103827 40.70953157941341, -73.79561668961856 40.70975307917508, -73.79473052352927 40.71001246196604, -73.79389609960624 40.710352329876464, -73.79303799986305 40.710711075424264, -73.7920285465051 40.7110693722012, -73.79101410711641 40.711432585598935, -73.79021544241489 40.71171704517943, -73.78941412124799 40.711997532001654, -73.78928335067607 40.71203172915113, -73.78914879714327 40.712056885639875, -73.78901209587958 40.71207270910075, -73.78891298005114 40.71207345008708, -73.78881412494155 40.712067933338886, -73.78871621172117 40.71205619686978, -73.78861991567726 40.71203832121335, -73.78852589977548 40.71201442991814, -73.78843481183715 40.711984687609025, -73.78784678413774 40.71181083366897, -73.78742040690555 40.71184767846015, -73.78699598708205 40.71190160924423, -73.78657528693576 40.711972493277955, -73.78616005924945 40.71206007134261, -73.78575198481906 40.7121639526009, -73.78535272198953 40.71228361703254, -73.78446144498825 40.712493904980484, -73.7835607566956 40.71271078885687, -73.78262547451314 40.71293754849094, -73.78247043307853 40.712976581029224, -73.78236650030844 40.713002743699455, -73.78227126570303 40.71302513057537, -73.78178273970633 40.713139993700686, -73.78058892801499 40.71342817616512, -73.78042034087265 40.7134687101548, -73.77998005181789 40.71357457127696, -73.77972553639779 40.71363576951917, -73.77957164742324 40.71367415973623, -73.77886957497945 40.713849297629494, -73.77800119633673 40.71405112413151, -73.77730633862923 40.7142093168187, -73.77712346906104 40.714261994083884, -73.77703830973856 40.71418493122526, -73.77683860020142 40.71388265405282, -73.7767460502028 40.71374257039612, -73.77615816428872 40.7128469190819, -73.77537421221967 40.71167750626334, -73.77450050283007 40.7119457809588, -73.77316891461447 40.709960603121466, -73.77314372398743 40.70992119237179, -73.77229773873896 40.71015623068643, -73.77211588105612 40.710206020538145, -73.77172444612691 40.71031681885413, -73.77169204852432 40.710263985257384, -73.77165155288668 40.71022237216558, -73.77147819658684 40.710222235722185, -73.77115938664711 40.71020522204553, -73.77084362929844 40.71017162648781, -73.76881217340242 40.709808124557306, -73.76865794804596 40.70973774512066, -73.76844546450798 40.70963702715851)))\",\n          \"MULTIPOLYGON (((-73.81497208257476 40.738560715568916, -73.81483960033167 40.737914413924784, -73.81476998387822 40.73754457759817, -73.81469391916038 40.73714048048532, -73.81469163038946 40.73594999352155, -73.81472294126706 40.73533803007132, -73.81474261079002 40.73490936926906, -73.81475217192641 40.734701018957736, -73.81475908335555 40.734550421267215, -73.814776215476 40.73424680591222, -73.81480147440557 40.733799160836, -73.81481416295394 40.733599598281046, -73.81481996307593 40.733510728407296, -73.81482699411363 40.7334029760452, -73.81483204804141 40.7333255247728, -73.81483811105304 40.73323261942767, -73.814845669 40.73311679830552, -73.81485170579971 40.73302427722153, -73.81485676261215 40.73294679746919, -73.81486255967793 40.73285795622764, -73.81486810644753 40.73277295597378, -73.81487391613271 40.73268392142383, -73.81487971543602 40.73259505103216, -73.81488551376525 40.73250620861459, -73.81489282060373 40.732394230308735, -73.81489836729286 40.732309231220654, -73.8149134198401 40.7320785896411, -73.81491646925565 40.7320376213157, -73.814920831686 40.73197983355657, -73.81492410800884 40.73193074757644, -73.81492830278017 40.731867904254855, -73.81493851816116 40.73171487060355, -73.81494260145286 40.731653699186545, -73.8149605836143 40.73138433911214, -73.81496454715207 40.73132495986968, -73.81497202702629 40.731212908777295, -73.81497572539999 40.73115749312901, -73.81502002695512 40.73049387220126, -73.8150212763819 40.73046566954086, -73.81504493617415 40.73039883531563, -73.81514620729315 40.72968596488781, -73.81523144845353 40.72879391255906, -73.81517739600294 40.72866695294261, -73.81517732644818 40.728666782120996, -73.81517723152135 40.72866662834638, -73.81510037004857 40.728543639491015, -73.81510024006167 40.72854342300495, -73.8151000761102 40.72854322505985, -73.81500114114722 40.72842749464581, -73.81500104700014 40.72842737756072, -73.81500091740143 40.728427259413486, -73.8148819484947 40.72832209580295, -73.81488183054027 40.72832198755842, -73.81488170020408 40.72832189721936, -73.81474600593575 40.72823021427716, -73.81474579272908 40.728230070028474, -73.81474555632504 40.72822995271429, -73.81459716372879 40.728153809741464, -73.81459693899984 40.72815369127307, -73.8145966794218 40.72815359268431, -73.81443976521534 40.72809402280104, -73.81394369285853 40.72785224593894, -73.8128016828792 40.727295644353326, -73.81246807503733 40.72713304524241, -73.81151613691011 40.726657993515985, -73.81114177123592 40.72644956865825, -73.81074306894067 40.7261896079421, -73.81069693718264 40.72619033137895, -73.81068797185283 40.72586616501984, -73.81068605567704 40.725801263058706, -73.81069116265303 40.725115784863796, -73.81062583783789 40.724419843138975, -73.81039897156533 40.72372352768867, -73.81012972011365 40.723032554463096, -73.80999372264873 40.722691828370536, -73.80985444712822 40.72234287445353, -73.80959384477595 40.721648680836836, -73.80948088275805 40.72133788922472, -73.80934252010692 40.72095724015191, -73.80915443077926 40.72030643671951, -73.80905662905877 40.71996803044936, -73.8090403273618 40.71991160454239, -73.80902609829 40.71986279216133, -73.80861284034185 40.718445600291716, -73.8082352953914 40.71723813287377, -73.8080985637396 40.71680213813164, -73.80784387577566 40.71599973406733, -73.8078223181083 40.715911466482574, -73.80858505836058 40.715920967645154, -73.8089279841403 40.7159309935532, -73.80943676011961 40.71594918764253, -73.8094589911946 40.7159499819973, -73.80993799796468 40.71596402001064, -73.81022313181212 40.715970822586904, -73.81052404100188 40.715977989664204, -73.81087696077032 40.715978020981844, -73.8111411193793 40.71597802207336, -73.81147871867505 40.71597801987894, -73.8115239819718 40.71597801994327, -73.81292220663238 40.715957355843, -73.81314805177446 40.71595401172279, -73.81352056339713 40.7159473256033, -73.8136478001353 40.71594504267851, -73.8152463239082 40.71590994171969, -73.81556026291251 40.71590304626291, -73.81596244497152 40.71589421287283, -73.81629254266888 40.71588695911973, -73.81636585045592 40.71588680602147, -73.81644095498237 40.71588700704597, -73.81643940214026 40.715831829801324, -73.81643902863067 40.715786695350715, -73.81680998201016 40.715770835211636, -73.81700098149427 40.71577471702502, -73.81710417079995 40.715776812762606, -73.81730551936514 40.715785580361526, -73.81758406643486 40.71581201944125, -73.81773825408054 40.715833110071344, -73.81782839500352 40.71585137316248, -73.81814437273218 40.715915393198664, -73.8184241186707 40.71598861395537, -73.81888793816385 40.7161745893218, -73.81893528055825 40.716190604844854, -73.81942598906808 40.71635659897298, -73.8201156575384 40.716514193983485, -73.81998230917037 40.716575510595675, -73.81986857948922 40.71665574611144, -73.81930469431796 40.71713608089447, -73.8195234386992 40.717339733202955, -73.81962622538029 40.717340443274765, -73.82085213562766 40.717348876742825, -73.82170479062088 40.71735988999441, -73.82165299298504 40.71738887791332, -73.82206360448318 40.71743836688386, -73.82247779725277 40.717471938460676, -73.82289397455641 40.717489401011214, -73.82331051401704 40.717490679485344, -73.82372578295998 40.71747584492427, -73.82488893620273 40.71736175197021, -73.82518900195237 40.717323161416694, -73.82525135387507 40.71732696646818, -73.8253122051768 40.717345012371, -73.82536340938331 40.71737583967042, -73.82539923959307 40.7174148559824, -73.82543616983092 40.71800224504211, -73.82548692542584 40.71869066248848, -73.82547347025779 40.718947468098314, -73.8254734583139 40.7189476568833, -73.82547346924311 40.718947855587096, -73.8254823202774 40.719206135567056, -73.8254823200879 40.71920620793849, -73.82551374126854 40.719464485763595, -73.82551374114925 40.719464531330814, -73.82551375402346 40.719464575912546, -73.82556762088717 40.719720870869494, -73.82556765662133 40.71972101466192, -73.8255677037788 40.71972116852328, -73.82564366775173 40.71997373324704, -73.82564372556237 40.71997393922541, -73.82564380871322 40.719974138038516, -73.8257413025287 40.72022165653869, -73.82585945748816 40.72046263176483, -73.82672635621184 40.72308159955833, -73.82702267038346 40.72394639187087, -73.8270666272274 40.724126082902195, -73.827129243295 40.72430364066231, -73.82712926557029 40.72430371206227, -73.82712930215557 40.72430378465639, -73.8272102860865 40.72447757880706, -73.82730900449444 40.724646077497724, -73.8274243940675 40.72480760465673, -73.82742443070326 40.724807657985224, -73.82742447748957 40.72480770312012, -73.8275552779525 40.72496095026687, -73.82770485115476 40.72509163065081, -73.8277049807695 40.725091748783775, -73.82770512252355 40.72509185604566, -73.8278708642922 40.72521361027358, -73.82805131153614 40.72532475998384, -73.82805145333664 40.72532484965502, -73.8280516068291 40.725324931134836, -73.82824491737368 40.7254239965923, -73.8284490918186 40.72550982283866, -73.8286615430078 40.725581422750956, -73.82887959600613 40.72563819205935, -73.8288797141644 40.72563822791819, -73.8288798440163 40.725638254915495, -73.82910097739983 40.72567999802741, -73.82933877603155 40.7257359206091, -73.82933887133396 40.725735938843265, -73.82957243863099 40.725808407341205, -73.82957252091917 40.7258084342673, -73.82957260296446 40.72580847007201, -73.82979903984936 40.72589722642235, -73.82979911046516 40.72589725400117, -73.82979916897095 40.725897281059495, -73.83001549343298 40.726001591321356, -73.83001569378837 40.72600169045807, -73.83001589409763 40.72600180768761, -73.83021940983218 40.726120624582926, -73.83021954023266 40.726120696141706, -73.83021964682568 40.72612077754945, -73.83040815557322 40.72625280007648, -73.83040820240606 40.726252828122476, -73.83040824921927 40.72625286387467, -73.83057943658808 40.726396197656875, -73.83057961456532 40.726396351541, -73.8305797678819 40.726396504383665, -73.83073214546047 40.72654932846906, -73.83086471478927 40.72670963399012, -73.83140452700809 40.727597622081284, -73.83170465866348 40.72804033224607, -73.8319820800798 40.7283299984191, -73.8322408802749 40.72863052083675, -73.83248002188995 40.728940854086574, -73.83269855362792 40.7292598615781, -73.83289570667183 40.72958633142781, -73.83307087957822 40.72991903138286, -73.83386267153111 40.73055318900903, -73.82893796459669 40.73159143837239, -73.82706708040988 40.731984426794924, -73.82566535417416 40.732279577876014, -73.82553129403023 40.73363428147953, -73.82546253368908 40.733640662078244, -73.82542281330774 40.73396614467356, -73.8253932158079 40.734048236186524, -73.82532707505337 40.73510179335176, -73.82487827400193 40.739572312262496, -73.82481178421759 40.739630959899564, -73.82485496215553 40.73982936393014, -73.82471271277598 40.739833730704724, -73.82435011103318 40.73975360608333, -73.82355883460073 40.73957874505898, -73.82266847321056 40.739384992554115, -73.82177826405619 40.73919364711288, -73.8208971651907 40.739002110761845, -73.82006431419832 40.73882814037882, -73.81837989571778 40.738593740985344, -73.81708075609814 40.73841473523034, -73.8169328369745 40.73838951089572, -73.81677959620488 40.73837979389664, -73.81662531616097 40.73838631139598, -73.81647443723296 40.73840887127661, -73.8163310936792 40.73844640177592, -73.8160767680076 40.73885793358997, -73.81518583114378 40.7385711715402, -73.81501663821457 40.73855854463222, -73.81497208257476 40.738560715568916)))\"\n        ],\n        \"semantic_type\": \"\",\n        \"description\": \"\"\n      }\n    }\n  ]\n}"
            }
          },
          "metadata": {},
          "execution_count": 65
        }
      ]
    },
    {
      "cell_type": "code",
      "source": [
        "%%time\n",
        "# Match each accident with a neighborhood.\n",
        "# Will take ~1 min to run\n",
        "# This is done with left join,\n",
        "# so we preserve all the data points\n",
        "# but we know which ones are not matching with the shapefile\n",
        "gdf.crs = df_nyc.crs\n",
        "gdf = gpd.sjoin(gdf, df_nyc, how='left')\n"
      ],
      "metadata": {
        "colab": {
          "base_uri": "https://localhost:8080/"
        },
        "id": "1bW8Y3pVCRQZ",
        "outputId": "9cb86067-aea5-4181-cac9-c5a3ea96fc06"
      },
      "execution_count": 66,
      "outputs": [
        {
          "output_type": "stream",
          "name": "stdout",
          "text": [
            "CPU times: user 53.5 s, sys: 2.42 s, total: 55.9 s\n",
            "Wall time: 55.7 s\n"
          ]
        }
      ]
    },
    {
      "cell_type": "code",
      "source": [
        "gdf.dtypes"
      ],
      "metadata": {
        "id": "SXfvj2LDOVjb",
        "outputId": "8148011d-fc60-4d62-f9cd-ff82a25c9b21",
        "colab": {
          "base_uri": "https://localhost:8080/",
          "height": 1000
        }
      },
      "execution_count": 67,
      "outputs": [
        {
          "output_type": "execute_result",
          "data": {
            "text/plain": [
              "CMPLNT_NUM                    Int64\n",
              "ADDR_PCT_CD                  object\n",
              "RPT_DT               datetime64[ns]\n",
              "KY_CD                        object\n",
              "PD_CD                        object\n",
              "CRM_ATPT_CPTD_CD             object\n",
              "LAW_CAT_CD                   object\n",
              "BORO_NM                      object\n",
              "LOC_OF_OCCUR_DESC            object\n",
              "PREM_TYP_DESC                object\n",
              "JURISDICTION_CODE            object\n",
              "PARKS_NM                     object\n",
              "HADEVELOPT                   object\n",
              "HOUSING_PSA                  object\n",
              "SUSP_AGE_GROUP               object\n",
              "SUSP_RACE                    object\n",
              "SUSP_SEX                     object\n",
              "TRANSIT_DISTRICT             object\n",
              "Latitude                    float64\n",
              "Longitude                   float64\n",
              "PATROL_BORO                  object\n",
              "STATION_NAME                 object\n",
              "VIC_AGE_GROUP                object\n",
              "VIC_RACE                     object\n",
              "VIC_SEX                      object\n",
              "CMPLNT_FR            datetime64[ns]\n",
              "CMPLNT_TO            datetime64[ns]\n",
              "geometry                   geometry\n",
              "index_right                 float64\n",
              "shape_area                   object\n",
              "ntaname                      object\n",
              "cdtaname                     object\n",
              "shape_leng                   object\n",
              "boroname                     object\n",
              "ntatype                      object\n",
              "nta2020                      object\n",
              "borocode                     object\n",
              "countyfips                   object\n",
              "ntaabbrev                    object\n",
              "cdta2020                     object\n",
              "dtype: object"
            ],
            "text/html": [
              "<div>\n",
              "<style scoped>\n",
              "    .dataframe tbody tr th:only-of-type {\n",
              "        vertical-align: middle;\n",
              "    }\n",
              "\n",
              "    .dataframe tbody tr th {\n",
              "        vertical-align: top;\n",
              "    }\n",
              "\n",
              "    .dataframe thead th {\n",
              "        text-align: right;\n",
              "    }\n",
              "</style>\n",
              "<table border=\"1\" class=\"dataframe\">\n",
              "  <thead>\n",
              "    <tr style=\"text-align: right;\">\n",
              "      <th></th>\n",
              "      <th>0</th>\n",
              "    </tr>\n",
              "  </thead>\n",
              "  <tbody>\n",
              "    <tr>\n",
              "      <th>CMPLNT_NUM</th>\n",
              "      <td>Int64</td>\n",
              "    </tr>\n",
              "    <tr>\n",
              "      <th>ADDR_PCT_CD</th>\n",
              "      <td>object</td>\n",
              "    </tr>\n",
              "    <tr>\n",
              "      <th>RPT_DT</th>\n",
              "      <td>datetime64[ns]</td>\n",
              "    </tr>\n",
              "    <tr>\n",
              "      <th>KY_CD</th>\n",
              "      <td>object</td>\n",
              "    </tr>\n",
              "    <tr>\n",
              "      <th>PD_CD</th>\n",
              "      <td>object</td>\n",
              "    </tr>\n",
              "    <tr>\n",
              "      <th>CRM_ATPT_CPTD_CD</th>\n",
              "      <td>object</td>\n",
              "    </tr>\n",
              "    <tr>\n",
              "      <th>LAW_CAT_CD</th>\n",
              "      <td>object</td>\n",
              "    </tr>\n",
              "    <tr>\n",
              "      <th>BORO_NM</th>\n",
              "      <td>object</td>\n",
              "    </tr>\n",
              "    <tr>\n",
              "      <th>LOC_OF_OCCUR_DESC</th>\n",
              "      <td>object</td>\n",
              "    </tr>\n",
              "    <tr>\n",
              "      <th>PREM_TYP_DESC</th>\n",
              "      <td>object</td>\n",
              "    </tr>\n",
              "    <tr>\n",
              "      <th>JURISDICTION_CODE</th>\n",
              "      <td>object</td>\n",
              "    </tr>\n",
              "    <tr>\n",
              "      <th>PARKS_NM</th>\n",
              "      <td>object</td>\n",
              "    </tr>\n",
              "    <tr>\n",
              "      <th>HADEVELOPT</th>\n",
              "      <td>object</td>\n",
              "    </tr>\n",
              "    <tr>\n",
              "      <th>HOUSING_PSA</th>\n",
              "      <td>object</td>\n",
              "    </tr>\n",
              "    <tr>\n",
              "      <th>SUSP_AGE_GROUP</th>\n",
              "      <td>object</td>\n",
              "    </tr>\n",
              "    <tr>\n",
              "      <th>SUSP_RACE</th>\n",
              "      <td>object</td>\n",
              "    </tr>\n",
              "    <tr>\n",
              "      <th>SUSP_SEX</th>\n",
              "      <td>object</td>\n",
              "    </tr>\n",
              "    <tr>\n",
              "      <th>TRANSIT_DISTRICT</th>\n",
              "      <td>object</td>\n",
              "    </tr>\n",
              "    <tr>\n",
              "      <th>Latitude</th>\n",
              "      <td>float64</td>\n",
              "    </tr>\n",
              "    <tr>\n",
              "      <th>Longitude</th>\n",
              "      <td>float64</td>\n",
              "    </tr>\n",
              "    <tr>\n",
              "      <th>PATROL_BORO</th>\n",
              "      <td>object</td>\n",
              "    </tr>\n",
              "    <tr>\n",
              "      <th>STATION_NAME</th>\n",
              "      <td>object</td>\n",
              "    </tr>\n",
              "    <tr>\n",
              "      <th>VIC_AGE_GROUP</th>\n",
              "      <td>object</td>\n",
              "    </tr>\n",
              "    <tr>\n",
              "      <th>VIC_RACE</th>\n",
              "      <td>object</td>\n",
              "    </tr>\n",
              "    <tr>\n",
              "      <th>VIC_SEX</th>\n",
              "      <td>object</td>\n",
              "    </tr>\n",
              "    <tr>\n",
              "      <th>CMPLNT_FR</th>\n",
              "      <td>datetime64[ns]</td>\n",
              "    </tr>\n",
              "    <tr>\n",
              "      <th>CMPLNT_TO</th>\n",
              "      <td>datetime64[ns]</td>\n",
              "    </tr>\n",
              "    <tr>\n",
              "      <th>geometry</th>\n",
              "      <td>geometry</td>\n",
              "    </tr>\n",
              "    <tr>\n",
              "      <th>index_right</th>\n",
              "      <td>float64</td>\n",
              "    </tr>\n",
              "    <tr>\n",
              "      <th>shape_area</th>\n",
              "      <td>object</td>\n",
              "    </tr>\n",
              "    <tr>\n",
              "      <th>ntaname</th>\n",
              "      <td>object</td>\n",
              "    </tr>\n",
              "    <tr>\n",
              "      <th>cdtaname</th>\n",
              "      <td>object</td>\n",
              "    </tr>\n",
              "    <tr>\n",
              "      <th>shape_leng</th>\n",
              "      <td>object</td>\n",
              "    </tr>\n",
              "    <tr>\n",
              "      <th>boroname</th>\n",
              "      <td>object</td>\n",
              "    </tr>\n",
              "    <tr>\n",
              "      <th>ntatype</th>\n",
              "      <td>object</td>\n",
              "    </tr>\n",
              "    <tr>\n",
              "      <th>nta2020</th>\n",
              "      <td>object</td>\n",
              "    </tr>\n",
              "    <tr>\n",
              "      <th>borocode</th>\n",
              "      <td>object</td>\n",
              "    </tr>\n",
              "    <tr>\n",
              "      <th>countyfips</th>\n",
              "      <td>object</td>\n",
              "    </tr>\n",
              "    <tr>\n",
              "      <th>ntaabbrev</th>\n",
              "      <td>object</td>\n",
              "    </tr>\n",
              "    <tr>\n",
              "      <th>cdta2020</th>\n",
              "      <td>object</td>\n",
              "    </tr>\n",
              "  </tbody>\n",
              "</table>\n",
              "</div><br><label><b>dtype:</b> object</label>"
            ]
          },
          "metadata": {},
          "execution_count": 67
        }
      ]
    },
    {
      "cell_type": "code",
      "source": [
        "# We keep only boro_name and ntaname\n",
        "todrop = [\n",
        "    'index_right', 'shape_area', 'cdtaname', 'borocode', 'countyfips',\n",
        "    'ntaabbrev', 'ntatype', 'cdta2020', 'shape_leng'\n",
        "]\n",
        "\n",
        "gdf = gdf.drop(todrop, axis='columns')\n",
        "\n",
        "# Rename the columns\n",
        "gdf = gdf.rename({\n",
        "    'boroname': 'BOROUGH',\n",
        "    'ntaname': 'NEIGHBORHOOD',\n",
        "    'nta2020': 'NEIGHBORHOOD_CODE',\n",
        "}, axis='columns')"
      ],
      "metadata": {
        "id": "CCqWvpbaGu4D"
      },
      "execution_count": 68,
      "outputs": []
    },
    {
      "cell_type": "code",
      "source": [
        "gdf['BOROUGH'] = gdf['BOROUGH'].str.upper()"
      ],
      "metadata": {
        "id": "lN6ZaE0IFG7I"
      },
      "execution_count": 69,
      "outputs": []
    },
    {
      "cell_type": "code",
      "source": [
        "print(\"Entries without a detected BOROUGH:\", gdf[gdf.BOROUGH.isnull()].shape[0])\n",
        "# Mark as NULL all the lon/lat entries outside the NYC area\n",
        "gdf.loc[gdf.BOROUGH.isnull(), 'Latitude'] = None\n",
        "gdf.loc[gdf.BOROUGH.isnull(), 'Longitude'] = None"
      ],
      "metadata": {
        "id": "knIKqyP0HMcO",
        "colab": {
          "base_uri": "https://localhost:8080/"
        },
        "outputId": "38c4660f-9e24-456b-c071-8eb5fb5c6689"
      },
      "execution_count": 70,
      "outputs": [
        {
          "output_type": "stream",
          "name": "stdout",
          "text": [
            "Entries without a detected BOROUGH: 1275\n"
          ]
        }
      ]
    },
    {
      "cell_type": "code",
      "source": [
        "mask = gdf.query('BOROUGH != BORO_NM and Latitude==Latitude and Longitude==Longitude').CMPLNT_NUM.values"
      ],
      "metadata": {
        "id": "1MyBeRWOwXiZ"
      },
      "execution_count": 71,
      "outputs": []
    },
    {
      "cell_type": "code",
      "source": [
        "inconsistent = gdf.query('BOROUGH != BORO_NM and Latitude==Latitude and Longitude==Longitude').shape[0]\n",
        "print(\"Entries where reported lon/lat is inconsistent with the reported borough:\", inconsistent)"
      ],
      "metadata": {
        "colab": {
          "base_uri": "https://localhost:8080/"
        },
        "id": "5mjIZHBlwYg9",
        "outputId": "658a1f36-b4f1-4218-f97c-b376e4b78c41"
      },
      "execution_count": 72,
      "outputs": [
        {
          "output_type": "stream",
          "name": "stdout",
          "text": [
            "Entries where reported lon/lat is inconsistent with the reported borough: 9098\n"
          ]
        }
      ]
    },
    {
      "cell_type": "code",
      "source": [
        "# Mark as NULL all the lon/lat entries that generate inconsistencies\n",
        "mask = gdf.query('BOROUGH != BORO_NM and Latitude==Latitude and Longitude==Longitude').CMPLNT_NUM.values\n",
        "condition = gdf.CMPLNT_NUM.isin(mask)\n",
        "\n",
        "gdf.loc[condition, 'Latitude'] = None\n",
        "gdf.loc[condition, 'Longitude'] = None"
      ],
      "metadata": {
        "id": "9iJ215de5lYi"
      },
      "execution_count": 73,
      "outputs": []
    },
    {
      "cell_type": "code",
      "source": [
        "# We do not need the geometry anymore\n",
        "gdf = gdf.drop('geometry', axis='columns')"
      ],
      "metadata": {
        "id": "jyXCFeDFKp4m"
      },
      "execution_count": 74,
      "outputs": []
    },
    {
      "cell_type": "code",
      "source": [
        "df = pd.DataFrame(gdf)"
      ],
      "metadata": {
        "id": "qrUNPxJlKzVa"
      },
      "execution_count": 75,
      "outputs": []
    },
    {
      "cell_type": "code",
      "source": [
        "df.BORO_NM.value_counts(dropna=False)"
      ],
      "metadata": {
        "id": "WbFHhYAii5rT",
        "outputId": "f6089355-2df9-4420-c244-0a42b9530503",
        "colab": {
          "base_uri": "https://localhost:8080/",
          "height": 272
        }
      },
      "execution_count": 76,
      "outputs": [
        {
          "output_type": "execute_result",
          "data": {
            "text/plain": [
              "BORO_NM\n",
              "BROOKLYN         2773846\n",
              "MANHATTAN        2286368\n",
              "BRONX            2051586\n",
              "QUEENS           1926949\n",
              "STATEN ISLAND     433878\n",
              "Name: count, dtype: int64"
            ],
            "text/html": [
              "<div>\n",
              "<style scoped>\n",
              "    .dataframe tbody tr th:only-of-type {\n",
              "        vertical-align: middle;\n",
              "    }\n",
              "\n",
              "    .dataframe tbody tr th {\n",
              "        vertical-align: top;\n",
              "    }\n",
              "\n",
              "    .dataframe thead th {\n",
              "        text-align: right;\n",
              "    }\n",
              "</style>\n",
              "<table border=\"1\" class=\"dataframe\">\n",
              "  <thead>\n",
              "    <tr style=\"text-align: right;\">\n",
              "      <th></th>\n",
              "      <th>count</th>\n",
              "    </tr>\n",
              "    <tr>\n",
              "      <th>BORO_NM</th>\n",
              "      <th></th>\n",
              "    </tr>\n",
              "  </thead>\n",
              "  <tbody>\n",
              "    <tr>\n",
              "      <th>BROOKLYN</th>\n",
              "      <td>2773846</td>\n",
              "    </tr>\n",
              "    <tr>\n",
              "      <th>MANHATTAN</th>\n",
              "      <td>2286368</td>\n",
              "    </tr>\n",
              "    <tr>\n",
              "      <th>BRONX</th>\n",
              "      <td>2051586</td>\n",
              "    </tr>\n",
              "    <tr>\n",
              "      <th>QUEENS</th>\n",
              "      <td>1926949</td>\n",
              "    </tr>\n",
              "    <tr>\n",
              "      <th>STATEN ISLAND</th>\n",
              "      <td>433878</td>\n",
              "    </tr>\n",
              "  </tbody>\n",
              "</table>\n",
              "</div><br><label><b>dtype:</b> int64</label>"
            ]
          },
          "metadata": {},
          "execution_count": 76
        }
      ]
    },
    {
      "cell_type": "code",
      "source": [
        "# Drop the cases where the reported borough\n",
        "# is different than the one detected through lon/lat\n",
        "df = df[df.BOROUGH == df.BORO_NM]"
      ],
      "metadata": {
        "id": "hSxWBIXSsGWV"
      },
      "execution_count": 77,
      "outputs": []
    },
    {
      "cell_type": "code",
      "source": [
        "df.drop(['BOROUGH'], axis='columns', inplace=True)"
      ],
      "metadata": {
        "id": "WvQQDCijzbSH"
      },
      "execution_count": 78,
      "outputs": []
    },
    {
      "cell_type": "code",
      "source": [
        "# We do this to allow for easier insertion to a database later on\n",
        "df['NEIGHBORHOOD'] = df['NEIGHBORHOOD'].str.replace('\\'', '’', regex=False)"
      ],
      "metadata": {
        "id": "2tgWA1qRzUWZ"
      },
      "execution_count": 79,
      "outputs": []
    },
    {
      "cell_type": "code",
      "source": [
        "# df.NEIGHBORHOOD_CODE = pd.Categorical(df.NEIGHBORHOOD_CODE)\n",
        "# df.NEIGHBORHOOD = pd.Categorical(df.NEIGHBORHOOD)"
      ],
      "metadata": {
        "id": "sj2waUaXpiv7"
      },
      "execution_count": 80,
      "outputs": []
    },
    {
      "cell_type": "code",
      "source": [],
      "metadata": {
        "id": "l7_ipgiWzTiZ"
      },
      "execution_count": 80,
      "outputs": []
    },
    {
      "cell_type": "markdown",
      "metadata": {
        "id": "SxPNYJESnn68"
      },
      "source": [
        "### TRANSIT_DISTRICT"
      ]
    },
    {
      "cell_type": "code",
      "metadata": {
        "id": "6Ctiw97bJqLO",
        "colab": {
          "base_uri": "https://localhost:8080/",
          "height": 523
        },
        "outputId": "50d18d30-9d7d-4ac2-c7ec-58bb345486c0"
      },
      "source": [
        "df.TRANSIT_DISTRICT.value_counts(dropna=False)\n"
      ],
      "execution_count": 81,
      "outputs": [
        {
          "output_type": "execute_result",
          "data": {
            "text/plain": [
              "TRANSIT_DISTRICT\n",
              "NaN    9238230\n",
              "4        34003\n",
              "2        26478\n",
              "1        22332\n",
              "33       21389\n",
              "3        20894\n",
              "20       20890\n",
              "12       18107\n",
              "11       16681\n",
              "32       15677\n",
              "30       14102\n",
              "34       10009\n",
              "23        3462\n",
              "Name: count, dtype: int64"
            ],
            "text/html": [
              "<div>\n",
              "<style scoped>\n",
              "    .dataframe tbody tr th:only-of-type {\n",
              "        vertical-align: middle;\n",
              "    }\n",
              "\n",
              "    .dataframe tbody tr th {\n",
              "        vertical-align: top;\n",
              "    }\n",
              "\n",
              "    .dataframe thead th {\n",
              "        text-align: right;\n",
              "    }\n",
              "</style>\n",
              "<table border=\"1\" class=\"dataframe\">\n",
              "  <thead>\n",
              "    <tr style=\"text-align: right;\">\n",
              "      <th></th>\n",
              "      <th>count</th>\n",
              "    </tr>\n",
              "    <tr>\n",
              "      <th>TRANSIT_DISTRICT</th>\n",
              "      <th></th>\n",
              "    </tr>\n",
              "  </thead>\n",
              "  <tbody>\n",
              "    <tr>\n",
              "      <th>NaN</th>\n",
              "      <td>9238230</td>\n",
              "    </tr>\n",
              "    <tr>\n",
              "      <th>4</th>\n",
              "      <td>34003</td>\n",
              "    </tr>\n",
              "    <tr>\n",
              "      <th>2</th>\n",
              "      <td>26478</td>\n",
              "    </tr>\n",
              "    <tr>\n",
              "      <th>1</th>\n",
              "      <td>22332</td>\n",
              "    </tr>\n",
              "    <tr>\n",
              "      <th>33</th>\n",
              "      <td>21389</td>\n",
              "    </tr>\n",
              "    <tr>\n",
              "      <th>3</th>\n",
              "      <td>20894</td>\n",
              "    </tr>\n",
              "    <tr>\n",
              "      <th>20</th>\n",
              "      <td>20890</td>\n",
              "    </tr>\n",
              "    <tr>\n",
              "      <th>12</th>\n",
              "      <td>18107</td>\n",
              "    </tr>\n",
              "    <tr>\n",
              "      <th>11</th>\n",
              "      <td>16681</td>\n",
              "    </tr>\n",
              "    <tr>\n",
              "      <th>32</th>\n",
              "      <td>15677</td>\n",
              "    </tr>\n",
              "    <tr>\n",
              "      <th>30</th>\n",
              "      <td>14102</td>\n",
              "    </tr>\n",
              "    <tr>\n",
              "      <th>34</th>\n",
              "      <td>10009</td>\n",
              "    </tr>\n",
              "    <tr>\n",
              "      <th>23</th>\n",
              "      <td>3462</td>\n",
              "    </tr>\n",
              "  </tbody>\n",
              "</table>\n",
              "</div><br><label><b>dtype:</b> int64</label>"
            ]
          },
          "metadata": {},
          "execution_count": 81
        }
      ]
    },
    {
      "cell_type": "code",
      "metadata": {
        "id": "9EPb-B-dnPQs"
      },
      "source": [
        "df.drop('TRANSIT_DISTRICT', axis='columns', inplace=True)\n"
      ],
      "execution_count": 82,
      "outputs": []
    },
    {
      "cell_type": "code",
      "metadata": {
        "id": "9lVv1_Bgn27Z"
      },
      "source": [],
      "execution_count": 82,
      "outputs": []
    },
    {
      "cell_type": "markdown",
      "metadata": {
        "id": "H7KUUobwoXxV"
      },
      "source": [
        "### PREM_TYP_DESC"
      ]
    },
    {
      "cell_type": "code",
      "metadata": {
        "id": "rq9toKCIn2-T",
        "colab": {
          "base_uri": "https://localhost:8080/",
          "height": 490
        },
        "outputId": "7752e8b8-bd27-450e-ec0c-9bd3c85be2c8"
      },
      "source": [
        "df.PREM_TYP_DESC.value_counts(dropna=False)"
      ],
      "execution_count": 83,
      "outputs": [
        {
          "output_type": "execute_result",
          "data": {
            "text/plain": [
              "PREM_TYP_DESC\n",
              "STREET                        2959965\n",
              "RESIDENCE - APT. HOUSE        2023353\n",
              "RESIDENCE-HOUSE                918025\n",
              "RESIDENCE - PUBLIC HOUSING     689696\n",
              "CHAIN STORE                    276101\n",
              "                               ...   \n",
              "SMOKE SHOP                       1037\n",
              "CEMETERY                         1005\n",
              "DAYCARE FACILITY                  582\n",
              "LOAN COMPANY                      569\n",
              "TRAMWAY                           188\n",
              "Name: count, Length: 79, dtype: int64"
            ],
            "text/html": [
              "<div>\n",
              "<style scoped>\n",
              "    .dataframe tbody tr th:only-of-type {\n",
              "        vertical-align: middle;\n",
              "    }\n",
              "\n",
              "    .dataframe tbody tr th {\n",
              "        vertical-align: top;\n",
              "    }\n",
              "\n",
              "    .dataframe thead th {\n",
              "        text-align: right;\n",
              "    }\n",
              "</style>\n",
              "<table border=\"1\" class=\"dataframe\">\n",
              "  <thead>\n",
              "    <tr style=\"text-align: right;\">\n",
              "      <th></th>\n",
              "      <th>count</th>\n",
              "    </tr>\n",
              "    <tr>\n",
              "      <th>PREM_TYP_DESC</th>\n",
              "      <th></th>\n",
              "    </tr>\n",
              "  </thead>\n",
              "  <tbody>\n",
              "    <tr>\n",
              "      <th>STREET</th>\n",
              "      <td>2959965</td>\n",
              "    </tr>\n",
              "    <tr>\n",
              "      <th>RESIDENCE - APT. HOUSE</th>\n",
              "      <td>2023353</td>\n",
              "    </tr>\n",
              "    <tr>\n",
              "      <th>RESIDENCE-HOUSE</th>\n",
              "      <td>918025</td>\n",
              "    </tr>\n",
              "    <tr>\n",
              "      <th>RESIDENCE - PUBLIC HOUSING</th>\n",
              "      <td>689696</td>\n",
              "    </tr>\n",
              "    <tr>\n",
              "      <th>CHAIN STORE</th>\n",
              "      <td>276101</td>\n",
              "    </tr>\n",
              "    <tr>\n",
              "      <th>...</th>\n",
              "      <td>...</td>\n",
              "    </tr>\n",
              "    <tr>\n",
              "      <th>SMOKE SHOP</th>\n",
              "      <td>1037</td>\n",
              "    </tr>\n",
              "    <tr>\n",
              "      <th>CEMETERY</th>\n",
              "      <td>1005</td>\n",
              "    </tr>\n",
              "    <tr>\n",
              "      <th>DAYCARE FACILITY</th>\n",
              "      <td>582</td>\n",
              "    </tr>\n",
              "    <tr>\n",
              "      <th>LOAN COMPANY</th>\n",
              "      <td>569</td>\n",
              "    </tr>\n",
              "    <tr>\n",
              "      <th>TRAMWAY</th>\n",
              "      <td>188</td>\n",
              "    </tr>\n",
              "  </tbody>\n",
              "</table>\n",
              "<p>79 rows × 1 columns</p>\n",
              "</div><br><label><b>dtype:</b> int64</label>"
            ]
          },
          "metadata": {},
          "execution_count": 83
        }
      ]
    },
    {
      "cell_type": "code",
      "metadata": {
        "id": "OgVlI2Bkoacb",
        "colab": {
          "base_uri": "https://localhost:8080/"
        },
        "outputId": "cbd2d5ae-a1bb-4d08-fce3-ff7d109b7d43"
      },
      "source": [
        "df.PREM_TYP_DESC.isnull().sum()"
      ],
      "execution_count": 84,
      "outputs": [
        {
          "output_type": "execute_result",
          "data": {
            "text/plain": [
              "np.int64(48229)"
            ]
          },
          "metadata": {},
          "execution_count": 84
        }
      ]
    },
    {
      "cell_type": "code",
      "metadata": {
        "id": "lDXJNcnmodu9"
      },
      "source": [
        "df = df [~df.PREM_TYP_DESC.isnull()]"
      ],
      "execution_count": 85,
      "outputs": []
    },
    {
      "cell_type": "code",
      "metadata": {
        "id": "NJ30D6uLogxw"
      },
      "source": [
        "# df.PREM_TYP_DESC = pd.Categorical(df.PREM_TYP_DESC)"
      ],
      "execution_count": 86,
      "outputs": []
    },
    {
      "cell_type": "code",
      "metadata": {
        "id": "RTVAo24bn6jc",
        "colab": {
          "base_uri": "https://localhost:8080/",
          "height": 490
        },
        "outputId": "24963261-6e98-4f38-c867-4ea8eae3ae4a"
      },
      "source": [
        "df.PARKS_NM.value_counts(dropna=False)"
      ],
      "execution_count": 87,
      "outputs": [
        {
          "output_type": "execute_result",
          "data": {
            "text/plain": [
              "PARKS_NM\n",
              "None                                   9373634\n",
              "CENTRAL PARK                              2539\n",
              "FLUSHING MEADOWS CORONA PARK              2187\n",
              "WASHINGTON SQUARE PARK                    1824\n",
              "CONEY ISLAND BEACH & BOARDWALK            1581\n",
              "                                        ...   \n",
              "COURT SQUARE PARK                            1\n",
              "ST. MARY'S PARK PLAYGROUND BROOKLYN          1\n",
              "VALENTINO PIER                               1\n",
              "AESOP PARK                                   1\n",
              "GARDEN AT BEACH 36TH STREET                  1\n",
              "Name: count, Length: 1292, dtype: int64"
            ],
            "text/html": [
              "<div>\n",
              "<style scoped>\n",
              "    .dataframe tbody tr th:only-of-type {\n",
              "        vertical-align: middle;\n",
              "    }\n",
              "\n",
              "    .dataframe tbody tr th {\n",
              "        vertical-align: top;\n",
              "    }\n",
              "\n",
              "    .dataframe thead th {\n",
              "        text-align: right;\n",
              "    }\n",
              "</style>\n",
              "<table border=\"1\" class=\"dataframe\">\n",
              "  <thead>\n",
              "    <tr style=\"text-align: right;\">\n",
              "      <th></th>\n",
              "      <th>count</th>\n",
              "    </tr>\n",
              "    <tr>\n",
              "      <th>PARKS_NM</th>\n",
              "      <th></th>\n",
              "    </tr>\n",
              "  </thead>\n",
              "  <tbody>\n",
              "    <tr>\n",
              "      <th>None</th>\n",
              "      <td>9373634</td>\n",
              "    </tr>\n",
              "    <tr>\n",
              "      <th>CENTRAL PARK</th>\n",
              "      <td>2539</td>\n",
              "    </tr>\n",
              "    <tr>\n",
              "      <th>FLUSHING MEADOWS CORONA PARK</th>\n",
              "      <td>2187</td>\n",
              "    </tr>\n",
              "    <tr>\n",
              "      <th>WASHINGTON SQUARE PARK</th>\n",
              "      <td>1824</td>\n",
              "    </tr>\n",
              "    <tr>\n",
              "      <th>CONEY ISLAND BEACH &amp; BOARDWALK</th>\n",
              "      <td>1581</td>\n",
              "    </tr>\n",
              "    <tr>\n",
              "      <th>...</th>\n",
              "      <td>...</td>\n",
              "    </tr>\n",
              "    <tr>\n",
              "      <th>COURT SQUARE PARK</th>\n",
              "      <td>1</td>\n",
              "    </tr>\n",
              "    <tr>\n",
              "      <th>ST. MARY'S PARK PLAYGROUND BROOKLYN</th>\n",
              "      <td>1</td>\n",
              "    </tr>\n",
              "    <tr>\n",
              "      <th>VALENTINO PIER</th>\n",
              "      <td>1</td>\n",
              "    </tr>\n",
              "    <tr>\n",
              "      <th>AESOP PARK</th>\n",
              "      <td>1</td>\n",
              "    </tr>\n",
              "    <tr>\n",
              "      <th>GARDEN AT BEACH 36TH STREET</th>\n",
              "      <td>1</td>\n",
              "    </tr>\n",
              "  </tbody>\n",
              "</table>\n",
              "<p>1292 rows × 1 columns</p>\n",
              "</div><br><label><b>dtype:</b> int64</label>"
            ]
          },
          "metadata": {},
          "execution_count": 87
        }
      ]
    },
    {
      "cell_type": "code",
      "metadata": {
        "id": "ww2KnUq3n6oV",
        "colab": {
          "base_uri": "https://localhost:8080/"
        },
        "outputId": "fbab9f19-d653-4963-fad9-704317f9fb21"
      },
      "source": [
        "df.PARKS_NM.value_counts().sum()"
      ],
      "execution_count": 88,
      "outputs": [
        {
          "output_type": "execute_result",
          "data": {
            "text/plain": [
              "np.int64(40391)"
            ]
          },
          "metadata": {},
          "execution_count": 88
        }
      ]
    },
    {
      "cell_type": "code",
      "metadata": {
        "id": "lHVCmdVjol2_"
      },
      "source": [
        "df.drop('PARKS_NM', axis='columns', inplace=True)\n"
      ],
      "execution_count": 89,
      "outputs": []
    },
    {
      "cell_type": "markdown",
      "metadata": {
        "id": "QYM6H0Cxoslu"
      },
      "source": [
        "\n",
        " 19  HADEVELOPT         object\n"
      ]
    },
    {
      "cell_type": "code",
      "metadata": {
        "id": "xAvDJEChowug",
        "colab": {
          "base_uri": "https://localhost:8080/",
          "height": 1000
        },
        "outputId": "8b6455ac-b131-4adb-887f-de08629d16a4"
      },
      "source": [
        "df.HADEVELOPT.value_counts(dropna=False)"
      ],
      "execution_count": 90,
      "outputs": [
        {
          "output_type": "execute_result",
          "data": {
            "text/plain": [
              "HADEVELOPT\n",
              "None                                     9380739\n",
              "INGERSOLL                                   4822\n",
              "WALD                                        2814\n",
              "NOSTRAND                                    2565\n",
              "WILLIAMSBURG                                2552\n",
              "RIIS                                        2100\n",
              "MARLBORO                                    2053\n",
              "MANHATTANVILLE                              2009\n",
              "GRANT                                       1992\n",
              "SHEEPSHEAD BAY                              1839\n",
              "MARBLE HILL                                 1731\n",
              "WHITMAN                                     1516\n",
              "WOODSIDE                                    1271\n",
              "RIIS II                                     1170\n",
              "SMITH                                       1167\n",
              "RED HOOK EAST                                947\n",
              "MARKHAM GARDENS                              648\n",
              "WEST BRIGHTON I                              490\n",
              "GLENWOOD                                     415\n",
              "CAMPOS PLAZA I                               407\n",
              "RED HOOK WEST                                249\n",
              "LOWER EAST SIDE REHAB (GROUP 5)              205\n",
              "FIRST HOUSES                                 143\n",
              "WEST BRIGHTON II                             108\n",
              "LOWER EAST SIDE II                            58\n",
              "BREUKELEN                                      7\n",
              "HAMMEL                                         3\n",
              "VLADECK                                        2\n",
              "ARMSTRONG I                                    1\n",
              "TWO BRIDGES URA (SITE 7)                       1\n",
              "BEACH 41ST STREET-BEACH CHANNEL DRIVE          1\n",
              "Name: count, dtype: int64"
            ],
            "text/html": [
              "<div>\n",
              "<style scoped>\n",
              "    .dataframe tbody tr th:only-of-type {\n",
              "        vertical-align: middle;\n",
              "    }\n",
              "\n",
              "    .dataframe tbody tr th {\n",
              "        vertical-align: top;\n",
              "    }\n",
              "\n",
              "    .dataframe thead th {\n",
              "        text-align: right;\n",
              "    }\n",
              "</style>\n",
              "<table border=\"1\" class=\"dataframe\">\n",
              "  <thead>\n",
              "    <tr style=\"text-align: right;\">\n",
              "      <th></th>\n",
              "      <th>count</th>\n",
              "    </tr>\n",
              "    <tr>\n",
              "      <th>HADEVELOPT</th>\n",
              "      <th></th>\n",
              "    </tr>\n",
              "  </thead>\n",
              "  <tbody>\n",
              "    <tr>\n",
              "      <th>None</th>\n",
              "      <td>9380739</td>\n",
              "    </tr>\n",
              "    <tr>\n",
              "      <th>INGERSOLL</th>\n",
              "      <td>4822</td>\n",
              "    </tr>\n",
              "    <tr>\n",
              "      <th>WALD</th>\n",
              "      <td>2814</td>\n",
              "    </tr>\n",
              "    <tr>\n",
              "      <th>NOSTRAND</th>\n",
              "      <td>2565</td>\n",
              "    </tr>\n",
              "    <tr>\n",
              "      <th>WILLIAMSBURG</th>\n",
              "      <td>2552</td>\n",
              "    </tr>\n",
              "    <tr>\n",
              "      <th>RIIS</th>\n",
              "      <td>2100</td>\n",
              "    </tr>\n",
              "    <tr>\n",
              "      <th>MARLBORO</th>\n",
              "      <td>2053</td>\n",
              "    </tr>\n",
              "    <tr>\n",
              "      <th>MANHATTANVILLE</th>\n",
              "      <td>2009</td>\n",
              "    </tr>\n",
              "    <tr>\n",
              "      <th>GRANT</th>\n",
              "      <td>1992</td>\n",
              "    </tr>\n",
              "    <tr>\n",
              "      <th>SHEEPSHEAD BAY</th>\n",
              "      <td>1839</td>\n",
              "    </tr>\n",
              "    <tr>\n",
              "      <th>MARBLE HILL</th>\n",
              "      <td>1731</td>\n",
              "    </tr>\n",
              "    <tr>\n",
              "      <th>WHITMAN</th>\n",
              "      <td>1516</td>\n",
              "    </tr>\n",
              "    <tr>\n",
              "      <th>WOODSIDE</th>\n",
              "      <td>1271</td>\n",
              "    </tr>\n",
              "    <tr>\n",
              "      <th>RIIS II</th>\n",
              "      <td>1170</td>\n",
              "    </tr>\n",
              "    <tr>\n",
              "      <th>SMITH</th>\n",
              "      <td>1167</td>\n",
              "    </tr>\n",
              "    <tr>\n",
              "      <th>RED HOOK EAST</th>\n",
              "      <td>947</td>\n",
              "    </tr>\n",
              "    <tr>\n",
              "      <th>MARKHAM GARDENS</th>\n",
              "      <td>648</td>\n",
              "    </tr>\n",
              "    <tr>\n",
              "      <th>WEST BRIGHTON I</th>\n",
              "      <td>490</td>\n",
              "    </tr>\n",
              "    <tr>\n",
              "      <th>GLENWOOD</th>\n",
              "      <td>415</td>\n",
              "    </tr>\n",
              "    <tr>\n",
              "      <th>CAMPOS PLAZA I</th>\n",
              "      <td>407</td>\n",
              "    </tr>\n",
              "    <tr>\n",
              "      <th>RED HOOK WEST</th>\n",
              "      <td>249</td>\n",
              "    </tr>\n",
              "    <tr>\n",
              "      <th>LOWER EAST SIDE REHAB (GROUP 5)</th>\n",
              "      <td>205</td>\n",
              "    </tr>\n",
              "    <tr>\n",
              "      <th>FIRST HOUSES</th>\n",
              "      <td>143</td>\n",
              "    </tr>\n",
              "    <tr>\n",
              "      <th>WEST BRIGHTON II</th>\n",
              "      <td>108</td>\n",
              "    </tr>\n",
              "    <tr>\n",
              "      <th>LOWER EAST SIDE II</th>\n",
              "      <td>58</td>\n",
              "    </tr>\n",
              "    <tr>\n",
              "      <th>BREUKELEN</th>\n",
              "      <td>7</td>\n",
              "    </tr>\n",
              "    <tr>\n",
              "      <th>HAMMEL</th>\n",
              "      <td>3</td>\n",
              "    </tr>\n",
              "    <tr>\n",
              "      <th>VLADECK</th>\n",
              "      <td>2</td>\n",
              "    </tr>\n",
              "    <tr>\n",
              "      <th>ARMSTRONG I</th>\n",
              "      <td>1</td>\n",
              "    </tr>\n",
              "    <tr>\n",
              "      <th>TWO BRIDGES URA (SITE 7)</th>\n",
              "      <td>1</td>\n",
              "    </tr>\n",
              "    <tr>\n",
              "      <th>BEACH 41ST STREET-BEACH CHANNEL DRIVE</th>\n",
              "      <td>1</td>\n",
              "    </tr>\n",
              "  </tbody>\n",
              "</table>\n",
              "</div><br><label><b>dtype:</b> int64</label>"
            ]
          },
          "metadata": {},
          "execution_count": 90
        }
      ]
    },
    {
      "cell_type": "code",
      "metadata": {
        "id": "t_7EV6nUpPdR"
      },
      "source": [
        "df.drop('HADEVELOPT', axis='columns', inplace=True)\n"
      ],
      "execution_count": 91,
      "outputs": []
    },
    {
      "cell_type": "markdown",
      "metadata": {
        "id": "tdTW65d2ospC"
      },
      "source": [
        " 20  HOUSING_PSA        object\n",
        "\n"
      ]
    },
    {
      "cell_type": "code",
      "metadata": {
        "id": "jUY6bR2xoxHV",
        "colab": {
          "base_uri": "https://localhost:8080/",
          "height": 490
        },
        "outputId": "6317d453-ad57-4bf6-d296-412d355cce9b"
      },
      "source": [
        "df.HOUSING_PSA.value_counts(dropna=False)"
      ],
      "execution_count": 92,
      "outputs": [
        {
          "output_type": "execute_result",
          "data": {
            "text/plain": [
              "HOUSING_PSA\n",
              "None     8184982\n",
              "NaN       526585\n",
              "670         9725\n",
              "887         9690\n",
              "720         8371\n",
              "          ...   \n",
              "73315          1\n",
              "73635          1\n",
              "50063          1\n",
              "73473          1\n",
              "73532          1\n",
              "Name: count, Length: 4626, dtype: int64"
            ],
            "text/html": [
              "<div>\n",
              "<style scoped>\n",
              "    .dataframe tbody tr th:only-of-type {\n",
              "        vertical-align: middle;\n",
              "    }\n",
              "\n",
              "    .dataframe tbody tr th {\n",
              "        vertical-align: top;\n",
              "    }\n",
              "\n",
              "    .dataframe thead th {\n",
              "        text-align: right;\n",
              "    }\n",
              "</style>\n",
              "<table border=\"1\" class=\"dataframe\">\n",
              "  <thead>\n",
              "    <tr style=\"text-align: right;\">\n",
              "      <th></th>\n",
              "      <th>count</th>\n",
              "    </tr>\n",
              "    <tr>\n",
              "      <th>HOUSING_PSA</th>\n",
              "      <th></th>\n",
              "    </tr>\n",
              "  </thead>\n",
              "  <tbody>\n",
              "    <tr>\n",
              "      <th>None</th>\n",
              "      <td>8184982</td>\n",
              "    </tr>\n",
              "    <tr>\n",
              "      <th>NaN</th>\n",
              "      <td>526585</td>\n",
              "    </tr>\n",
              "    <tr>\n",
              "      <th>670</th>\n",
              "      <td>9725</td>\n",
              "    </tr>\n",
              "    <tr>\n",
              "      <th>887</th>\n",
              "      <td>9690</td>\n",
              "    </tr>\n",
              "    <tr>\n",
              "      <th>720</th>\n",
              "      <td>8371</td>\n",
              "    </tr>\n",
              "    <tr>\n",
              "      <th>...</th>\n",
              "      <td>...</td>\n",
              "    </tr>\n",
              "    <tr>\n",
              "      <th>73315</th>\n",
              "      <td>1</td>\n",
              "    </tr>\n",
              "    <tr>\n",
              "      <th>73635</th>\n",
              "      <td>1</td>\n",
              "    </tr>\n",
              "    <tr>\n",
              "      <th>50063</th>\n",
              "      <td>1</td>\n",
              "    </tr>\n",
              "    <tr>\n",
              "      <th>73473</th>\n",
              "      <td>1</td>\n",
              "    </tr>\n",
              "    <tr>\n",
              "      <th>73532</th>\n",
              "      <td>1</td>\n",
              "    </tr>\n",
              "  </tbody>\n",
              "</table>\n",
              "<p>4626 rows × 1 columns</p>\n",
              "</div><br><label><b>dtype:</b> int64</label>"
            ]
          },
          "metadata": {},
          "execution_count": 92
        }
      ]
    },
    {
      "cell_type": "code",
      "metadata": {
        "id": "ltCXjSHFpVAx",
        "colab": {
          "base_uri": "https://localhost:8080/"
        },
        "outputId": "4a04cc41-3176-4356-a04d-2f16709a188b"
      },
      "source": [
        "df.HOUSING_PSA.value_counts().sum()"
      ],
      "execution_count": 93,
      "outputs": [
        {
          "output_type": "execute_result",
          "data": {
            "text/plain": [
              "np.int64(702458)"
            ]
          },
          "metadata": {},
          "execution_count": 93
        }
      ]
    },
    {
      "cell_type": "code",
      "metadata": {
        "id": "r79Mo80tpXoG"
      },
      "source": [
        "df.drop('HOUSING_PSA', axis='columns', inplace=True)"
      ],
      "execution_count": 94,
      "outputs": []
    },
    {
      "cell_type": "markdown",
      "metadata": {
        "id": "Zj3ZTvXIosrk"
      },
      "source": [
        " 30  PATROL_BORO        object\n"
      ]
    },
    {
      "cell_type": "code",
      "metadata": {
        "id": "qushxX_YoxiI",
        "colab": {
          "base_uri": "https://localhost:8080/",
          "height": 398
        },
        "outputId": "f2845cf5-6f4a-4dc0-f504-242f29524854"
      },
      "source": [
        "df.PATROL_BORO.value_counts(dropna=False)"
      ],
      "execution_count": 95,
      "outputs": [
        {
          "output_type": "execute_result",
          "data": {
            "text/plain": [
              "PATROL_BORO\n",
              "PATROL BORO BRONX            2036975\n",
              "PATROL BORO BKLYN SOUTH      1385061\n",
              "PATROL BORO BKLYN NORTH      1373567\n",
              "PATROL BORO MAN SOUTH        1156083\n",
              "PATROL BORO MAN NORTH        1117474\n",
              "PATROL BORO QUEENS NORTH      996540\n",
              "PATROL BORO QUEENS SOUTH      916530\n",
              "PATROL BORO STATEN ISLAND     431719\n",
              "None                              76\n",
              "Name: count, dtype: int64"
            ],
            "text/html": [
              "<div>\n",
              "<style scoped>\n",
              "    .dataframe tbody tr th:only-of-type {\n",
              "        vertical-align: middle;\n",
              "    }\n",
              "\n",
              "    .dataframe tbody tr th {\n",
              "        vertical-align: top;\n",
              "    }\n",
              "\n",
              "    .dataframe thead th {\n",
              "        text-align: right;\n",
              "    }\n",
              "</style>\n",
              "<table border=\"1\" class=\"dataframe\">\n",
              "  <thead>\n",
              "    <tr style=\"text-align: right;\">\n",
              "      <th></th>\n",
              "      <th>count</th>\n",
              "    </tr>\n",
              "    <tr>\n",
              "      <th>PATROL_BORO</th>\n",
              "      <th></th>\n",
              "    </tr>\n",
              "  </thead>\n",
              "  <tbody>\n",
              "    <tr>\n",
              "      <th>PATROL BORO BRONX</th>\n",
              "      <td>2036975</td>\n",
              "    </tr>\n",
              "    <tr>\n",
              "      <th>PATROL BORO BKLYN SOUTH</th>\n",
              "      <td>1385061</td>\n",
              "    </tr>\n",
              "    <tr>\n",
              "      <th>PATROL BORO BKLYN NORTH</th>\n",
              "      <td>1373567</td>\n",
              "    </tr>\n",
              "    <tr>\n",
              "      <th>PATROL BORO MAN SOUTH</th>\n",
              "      <td>1156083</td>\n",
              "    </tr>\n",
              "    <tr>\n",
              "      <th>PATROL BORO MAN NORTH</th>\n",
              "      <td>1117474</td>\n",
              "    </tr>\n",
              "    <tr>\n",
              "      <th>PATROL BORO QUEENS NORTH</th>\n",
              "      <td>996540</td>\n",
              "    </tr>\n",
              "    <tr>\n",
              "      <th>PATROL BORO QUEENS SOUTH</th>\n",
              "      <td>916530</td>\n",
              "    </tr>\n",
              "    <tr>\n",
              "      <th>PATROL BORO STATEN ISLAND</th>\n",
              "      <td>431719</td>\n",
              "    </tr>\n",
              "    <tr>\n",
              "      <th>None</th>\n",
              "      <td>76</td>\n",
              "    </tr>\n",
              "  </tbody>\n",
              "</table>\n",
              "</div><br><label><b>dtype:</b> int64</label>"
            ]
          },
          "metadata": {},
          "execution_count": 95
        }
      ]
    },
    {
      "cell_type": "code",
      "metadata": {
        "id": "UNPb3rYLpoNl"
      },
      "source": [
        "df = df[~df.PATROL_BORO.isnull()]"
      ],
      "execution_count": 96,
      "outputs": []
    },
    {
      "cell_type": "code",
      "metadata": {
        "id": "X5q3w0T1pcuI"
      },
      "source": [
        "# df.PATROL_BORO = pd.Categorical(df.PATROL_BORO)"
      ],
      "execution_count": 97,
      "outputs": []
    },
    {
      "cell_type": "markdown",
      "metadata": {
        "id": "MJHh-VXrosuV"
      },
      "source": [
        " 31  STATION_NAME       object"
      ]
    },
    {
      "cell_type": "code",
      "metadata": {
        "id": "ygz6QMTqoyBi",
        "colab": {
          "base_uri": "https://localhost:8080/",
          "height": 490
        },
        "outputId": "ed67eef9-e873-41e3-f81a-fba2ced0e239"
      },
      "source": [
        "df.STATION_NAME.value_counts(dropna=False)"
      ],
      "execution_count": 98,
      "outputs": [
        {
          "output_type": "execute_result",
          "data": {
            "text/plain": [
              "STATION_NAME\n",
              "None                              9192335\n",
              "125 STREET                           9799\n",
              "14 STREET                            5524\n",
              "42 ST.-PORT AUTHORITY BUS TERM       5373\n",
              "34 ST.-PENN STATION                  4780\n",
              "                                   ...   \n",
              "DISTRICT 30 OFFICE                     22\n",
              "DISTRICT 12 OFFICE                     21\n",
              "DISTRICT 34 OFFICE                     18\n",
              "OFF-SYSTEM                              8\n",
              "DISTRICT 23 OFFICE                      7\n",
              "Name: count, Length: 373, dtype: int64"
            ],
            "text/html": [
              "<div>\n",
              "<style scoped>\n",
              "    .dataframe tbody tr th:only-of-type {\n",
              "        vertical-align: middle;\n",
              "    }\n",
              "\n",
              "    .dataframe tbody tr th {\n",
              "        vertical-align: top;\n",
              "    }\n",
              "\n",
              "    .dataframe thead th {\n",
              "        text-align: right;\n",
              "    }\n",
              "</style>\n",
              "<table border=\"1\" class=\"dataframe\">\n",
              "  <thead>\n",
              "    <tr style=\"text-align: right;\">\n",
              "      <th></th>\n",
              "      <th>count</th>\n",
              "    </tr>\n",
              "    <tr>\n",
              "      <th>STATION_NAME</th>\n",
              "      <th></th>\n",
              "    </tr>\n",
              "  </thead>\n",
              "  <tbody>\n",
              "    <tr>\n",
              "      <th>None</th>\n",
              "      <td>9192335</td>\n",
              "    </tr>\n",
              "    <tr>\n",
              "      <th>125 STREET</th>\n",
              "      <td>9799</td>\n",
              "    </tr>\n",
              "    <tr>\n",
              "      <th>14 STREET</th>\n",
              "      <td>5524</td>\n",
              "    </tr>\n",
              "    <tr>\n",
              "      <th>42 ST.-PORT AUTHORITY BUS TERM</th>\n",
              "      <td>5373</td>\n",
              "    </tr>\n",
              "    <tr>\n",
              "      <th>34 ST.-PENN STATION</th>\n",
              "      <td>4780</td>\n",
              "    </tr>\n",
              "    <tr>\n",
              "      <th>...</th>\n",
              "      <td>...</td>\n",
              "    </tr>\n",
              "    <tr>\n",
              "      <th>DISTRICT 30 OFFICE</th>\n",
              "      <td>22</td>\n",
              "    </tr>\n",
              "    <tr>\n",
              "      <th>DISTRICT 12 OFFICE</th>\n",
              "      <td>21</td>\n",
              "    </tr>\n",
              "    <tr>\n",
              "      <th>DISTRICT 34 OFFICE</th>\n",
              "      <td>18</td>\n",
              "    </tr>\n",
              "    <tr>\n",
              "      <th>OFF-SYSTEM</th>\n",
              "      <td>8</td>\n",
              "    </tr>\n",
              "    <tr>\n",
              "      <th>DISTRICT 23 OFFICE</th>\n",
              "      <td>7</td>\n",
              "    </tr>\n",
              "  </tbody>\n",
              "</table>\n",
              "<p>373 rows × 1 columns</p>\n",
              "</div><br><label><b>dtype:</b> int64</label>"
            ]
          },
          "metadata": {},
          "execution_count": 98
        }
      ]
    },
    {
      "cell_type": "code",
      "metadata": {
        "id": "o5eP2Ha8pznx"
      },
      "source": [
        "df.drop('STATION_NAME', axis='columns', inplace=True)"
      ],
      "execution_count": 99,
      "outputs": []
    },
    {
      "cell_type": "code",
      "metadata": {
        "id": "zfCHXyE_5mm8",
        "colab": {
          "base_uri": "https://localhost:8080/"
        },
        "outputId": "4f386a15-d647-4e8d-d3fc-9ac316c1d0dd"
      },
      "source": [
        "df.info()"
      ],
      "execution_count": 100,
      "outputs": [
        {
          "output_type": "stream",
          "name": "stdout",
          "text": [
            "<class 'pandas.core.frame.DataFrame'>\n",
            "Index: 9413949 entries, 0 to 9491945\n",
            "Data columns (total 24 columns):\n",
            " #   Column             Dtype         \n",
            "---  ------             -----         \n",
            " 0   CMPLNT_NUM         Int64         \n",
            " 1   ADDR_PCT_CD        object        \n",
            " 2   RPT_DT             datetime64[ns]\n",
            " 3   KY_CD              object        \n",
            " 4   PD_CD              object        \n",
            " 5   CRM_ATPT_CPTD_CD   object        \n",
            " 6   LAW_CAT_CD         object        \n",
            " 7   BORO_NM            object        \n",
            " 8   LOC_OF_OCCUR_DESC  object        \n",
            " 9   PREM_TYP_DESC      object        \n",
            " 10  JURISDICTION_CODE  object        \n",
            " 11  SUSP_AGE_GROUP     object        \n",
            " 12  SUSP_RACE          object        \n",
            " 13  SUSP_SEX           object        \n",
            " 14  Latitude           float64       \n",
            " 15  Longitude          float64       \n",
            " 16  PATROL_BORO        object        \n",
            " 17  VIC_AGE_GROUP      object        \n",
            " 18  VIC_RACE           object        \n",
            " 19  VIC_SEX            object        \n",
            " 20  CMPLNT_FR          datetime64[ns]\n",
            " 21  CMPLNT_TO          datetime64[ns]\n",
            " 22  NEIGHBORHOOD       object        \n",
            " 23  NEIGHBORHOOD_CODE  object        \n",
            "dtypes: Int64(1), datetime64[ns](3), float64(2), object(18)\n",
            "memory usage: 1.8+ GB\n"
          ]
        }
      ]
    },
    {
      "cell_type": "code",
      "metadata": {
        "id": "rBJBYf9g5mm9"
      },
      "source": [],
      "execution_count": 100,
      "outputs": []
    },
    {
      "cell_type": "markdown",
      "metadata": {
        "id": "haa-38oP5mm9"
      },
      "source": [
        "## Data exploration\n",
        "\n",
        "In this part we check the different values that appear in the columns. When we detect noisy results, we delete the corresponding values. In fact, many of the operations that are performed above, in the 'data cleaning' section, are the result of observations that we make here."
      ]
    },
    {
      "cell_type": "code",
      "metadata": {
        "id": "69cO2qRn5mm-",
        "colab": {
          "base_uri": "https://localhost:8080/",
          "height": 837
        },
        "outputId": "275b443e-fecb-470e-ba1b-e437098d776c"
      },
      "source": [
        "# Find the unique values in each column\n",
        "#\n",
        "# df.describe(include = [np.object, 'category']).T['unique']\n",
        "unique = df.describe(include = 'all').T['unique'].sort_values()\n",
        "\n",
        "display(unique)"
      ],
      "execution_count": 101,
      "outputs": [
        {
          "output_type": "display_data",
          "data": {
            "text/plain": [
              "CRM_ATPT_CPTD_CD        2\n",
              "SUSP_SEX                2\n",
              "LAW_CAT_CD              3\n",
              "VIC_SEX                 5\n",
              "BORO_NM                 5\n",
              "VIC_AGE_GROUP           5\n",
              "SUSP_AGE_GROUP          5\n",
              "LOC_OF_OCCUR_DESC       6\n",
              "VIC_RACE                6\n",
              "SUSP_RACE               6\n",
              "PATROL_BORO             8\n",
              "JURISDICTION_CODE      28\n",
              "KY_CD                  74\n",
              "ADDR_PCT_CD            78\n",
              "PREM_TYP_DESC          78\n",
              "NEIGHBORHOOD          257\n",
              "NEIGHBORHOOD_CODE     257\n",
              "PD_CD                 443\n",
              "CMPLNT_NUM           <NA>\n",
              "RPT_DT                NaN\n",
              "Latitude              NaN\n",
              "Longitude             NaN\n",
              "CMPLNT_FR             NaN\n",
              "CMPLNT_TO             NaN\n",
              "Name: unique, dtype: object"
            ],
            "text/html": [
              "<div>\n",
              "<style scoped>\n",
              "    .dataframe tbody tr th:only-of-type {\n",
              "        vertical-align: middle;\n",
              "    }\n",
              "\n",
              "    .dataframe tbody tr th {\n",
              "        vertical-align: top;\n",
              "    }\n",
              "\n",
              "    .dataframe thead th {\n",
              "        text-align: right;\n",
              "    }\n",
              "</style>\n",
              "<table border=\"1\" class=\"dataframe\">\n",
              "  <thead>\n",
              "    <tr style=\"text-align: right;\">\n",
              "      <th></th>\n",
              "      <th>unique</th>\n",
              "    </tr>\n",
              "  </thead>\n",
              "  <tbody>\n",
              "    <tr>\n",
              "      <th>CRM_ATPT_CPTD_CD</th>\n",
              "      <td>2</td>\n",
              "    </tr>\n",
              "    <tr>\n",
              "      <th>SUSP_SEX</th>\n",
              "      <td>2</td>\n",
              "    </tr>\n",
              "    <tr>\n",
              "      <th>LAW_CAT_CD</th>\n",
              "      <td>3</td>\n",
              "    </tr>\n",
              "    <tr>\n",
              "      <th>VIC_SEX</th>\n",
              "      <td>5</td>\n",
              "    </tr>\n",
              "    <tr>\n",
              "      <th>BORO_NM</th>\n",
              "      <td>5</td>\n",
              "    </tr>\n",
              "    <tr>\n",
              "      <th>VIC_AGE_GROUP</th>\n",
              "      <td>5</td>\n",
              "    </tr>\n",
              "    <tr>\n",
              "      <th>SUSP_AGE_GROUP</th>\n",
              "      <td>5</td>\n",
              "    </tr>\n",
              "    <tr>\n",
              "      <th>LOC_OF_OCCUR_DESC</th>\n",
              "      <td>6</td>\n",
              "    </tr>\n",
              "    <tr>\n",
              "      <th>VIC_RACE</th>\n",
              "      <td>6</td>\n",
              "    </tr>\n",
              "    <tr>\n",
              "      <th>SUSP_RACE</th>\n",
              "      <td>6</td>\n",
              "    </tr>\n",
              "    <tr>\n",
              "      <th>PATROL_BORO</th>\n",
              "      <td>8</td>\n",
              "    </tr>\n",
              "    <tr>\n",
              "      <th>JURISDICTION_CODE</th>\n",
              "      <td>28</td>\n",
              "    </tr>\n",
              "    <tr>\n",
              "      <th>KY_CD</th>\n",
              "      <td>74</td>\n",
              "    </tr>\n",
              "    <tr>\n",
              "      <th>ADDR_PCT_CD</th>\n",
              "      <td>78</td>\n",
              "    </tr>\n",
              "    <tr>\n",
              "      <th>PREM_TYP_DESC</th>\n",
              "      <td>78</td>\n",
              "    </tr>\n",
              "    <tr>\n",
              "      <th>NEIGHBORHOOD</th>\n",
              "      <td>257</td>\n",
              "    </tr>\n",
              "    <tr>\n",
              "      <th>NEIGHBORHOOD_CODE</th>\n",
              "      <td>257</td>\n",
              "    </tr>\n",
              "    <tr>\n",
              "      <th>PD_CD</th>\n",
              "      <td>443</td>\n",
              "    </tr>\n",
              "    <tr>\n",
              "      <th>CMPLNT_NUM</th>\n",
              "      <td>&lt;NA&gt;</td>\n",
              "    </tr>\n",
              "    <tr>\n",
              "      <th>RPT_DT</th>\n",
              "      <td>NaN</td>\n",
              "    </tr>\n",
              "    <tr>\n",
              "      <th>Latitude</th>\n",
              "      <td>NaN</td>\n",
              "    </tr>\n",
              "    <tr>\n",
              "      <th>Longitude</th>\n",
              "      <td>NaN</td>\n",
              "    </tr>\n",
              "    <tr>\n",
              "      <th>CMPLNT_FR</th>\n",
              "      <td>NaN</td>\n",
              "    </tr>\n",
              "    <tr>\n",
              "      <th>CMPLNT_TO</th>\n",
              "      <td>NaN</td>\n",
              "    </tr>\n",
              "  </tbody>\n",
              "</table>\n",
              "</div><br><label><b>dtype:</b> object</label>"
            ]
          },
          "metadata": {}
        }
      ]
    },
    {
      "cell_type": "code",
      "metadata": {
        "id": "3LVJIEak5mnA",
        "colab": {
          "base_uri": "https://localhost:8080/",
          "height": 1000
        },
        "outputId": "772eac2b-21bf-40ec-8289-5fdf8e584667"
      },
      "source": [
        "#for column in unique.index:\n",
        "#    if unique[column] < 200:\n",
        "#        print(df[column].value_counts())\n",
        "#        print(\"=====\")"
      ],
      "execution_count": 102,
      "outputs": [
        {
          "output_type": "stream",
          "name": "stdout",
          "text": [
            "CRM_ATPT_CPTD_CD\n",
            "COMPLETED    9258828\n",
            "ATTEMPTED     155121\n",
            "Name: count, dtype: int64\n",
            "=====\n",
            "SUSP_SEX\n",
            "M    3420363\n",
            "F    1037576\n",
            "Name: count, dtype: int64\n",
            "=====\n",
            "LAW_CAT_CD\n",
            "MISDEMEANOR    5174805\n",
            "FELONY         2952025\n",
            "VIOLATION      1287119\n",
            "Name: count, dtype: int64\n",
            "=====\n",
            "VIC_SEX\n",
            "F    3668248\n",
            "M    3132552\n",
            "E    1359748\n",
            "D    1244007\n",
            "L       9394\n",
            "Name: count, dtype: int64\n",
            "=====\n",
            "BORO_NM\n",
            "BROOKLYN         2758617\n",
            "MANHATTAN        2274917\n",
            "BRONX            2036963\n",
            "QUEENS           1911732\n",
            "STATEN ISLAND     431720\n",
            "Name: count, dtype: int64\n",
            "=====\n",
            "VIC_AGE_GROUP\n",
            "25-44    3143326\n",
            "45-64    1629476\n",
            "18-24     941080\n",
            "<18       436178\n",
            "65+       354023\n",
            "Name: count, dtype: int64\n",
            "=====\n",
            "SUSP_AGE_GROUP\n",
            "25-44    1783817\n",
            "18-24     643829\n",
            "45-64     621052\n",
            "<18       214983\n",
            "65+        58313\n",
            "Name: count, dtype: int64\n",
            "=====\n",
            "LOC_OF_OCCUR_DESC\n",
            "INSIDE         4826737\n",
            "FRONT OF       2237479\n",
            "None           1925887\n",
            "OPPOSITE OF     235013\n",
            "REAR OF         188600\n",
            "nan                233\n",
            "Name: count, dtype: int64\n",
            "=====\n",
            "VIC_RACE\n",
            "BLACK                             2267447\n",
            "WHITE                             1556111\n",
            "WHITE HISPANIC                    1554486\n",
            "ASIAN / PACIFIC ISLANDER           590837\n",
            "BLACK HISPANIC                     339925\n",
            "AMERICAN INDIAN/ALASKAN NATIVE      41795\n",
            "Name: count, dtype: int64\n",
            "=====\n",
            "SUSP_RACE\n",
            "BLACK                             2086319\n",
            "WHITE HISPANIC                     957966\n",
            "WHITE                              581425\n",
            "BLACK HISPANIC                     298858\n",
            "ASIAN / PACIFIC ISLANDER           190861\n",
            "AMERICAN INDIAN/ALASKAN NATIVE      15943\n",
            "Name: count, dtype: int64\n",
            "=====\n",
            "PATROL_BORO\n",
            "PATROL BORO BRONX            2036975\n",
            "PATROL BORO BKLYN SOUTH      1385061\n",
            "PATROL BORO BKLYN NORTH      1373567\n",
            "PATROL BORO MAN SOUTH        1156083\n",
            "PATROL BORO MAN NORTH        1117474\n",
            "PATROL BORO QUEENS NORTH      996540\n",
            "PATROL BORO QUEENS SOUTH      916530\n",
            "PATROL BORO STATEN ISLAND     431719\n",
            "Name: count, dtype: int64\n",
            "=====\n",
            "JURISDICTION_CODE\n",
            "0     8385031\n",
            "2      695470\n",
            "1      222212\n",
            "3       42202\n",
            "97      27479\n",
            "72      10440\n",
            "69       8887\n",
            "4        5990\n",
            "14       4145\n",
            "11       2476\n",
            "17       2252\n",
            "88       1935\n",
            "15       1202\n",
            "6         603\n",
            "87        579\n",
            "12        532\n",
            "71        474\n",
            "9         463\n",
            "7         442\n",
            "13        326\n",
            "51        317\n",
            "73        265\n",
            "85        120\n",
            "52         39\n",
            "16         30\n",
            "76         20\n",
            "8          17\n",
            "79          1\n",
            "Name: count, dtype: int64\n",
            "=====\n",
            "KY_CD\n",
            "341    1654786\n",
            "578    1266067\n",
            "344     991562\n",
            "109     828043\n",
            "351     729517\n",
            "        ...   \n",
            "460         16\n",
            "357         15\n",
            "123          7\n",
            "362          5\n",
            "577          3\n",
            "Name: count, Length: 74, dtype: int64\n",
            "=====\n",
            "ADDR_PCT_CD\n",
            "75     300275\n",
            "43     236016\n",
            "44     233739\n",
            "40     227063\n",
            "14     219122\n",
            "        ...  \n",
            "123     56554\n",
            "76      51035\n",
            "100     49811\n",
            "22       6858\n",
            "116       220\n",
            "Name: count, Length: 78, dtype: int64\n",
            "=====\n",
            "PREM_TYP_DESC\n",
            "STREET                        2959949\n",
            "RESIDENCE - APT. HOUSE        2023348\n",
            "RESIDENCE-HOUSE                918007\n",
            "RESIDENCE - PUBLIC HOUSING     689696\n",
            "CHAIN STORE                    276101\n",
            "                               ...   \n",
            "SMOKE SHOP                       1037\n",
            "CEMETERY                         1005\n",
            "DAYCARE FACILITY                  582\n",
            "LOAN COMPANY                      569\n",
            "TRAMWAY                           188\n",
            "Name: count, Length: 78, dtype: int64\n",
            "=====\n"
          ]
        },
        {
          "output_type": "error",
          "ename": "TypeError",
          "evalue": "boolean value of NA is ambiguous",
          "traceback": [
            "\u001b[0;31m---------------------------------------------------------------------------\u001b[0m",
            "\u001b[0;31mTypeError\u001b[0m                                 Traceback (most recent call last)",
            "\u001b[0;32m<ipython-input-102-4269330466>\u001b[0m in \u001b[0;36m<cell line: 0>\u001b[0;34m()\u001b[0m\n\u001b[1;32m      1\u001b[0m \u001b[0;32mfor\u001b[0m \u001b[0mcolumn\u001b[0m \u001b[0;32min\u001b[0m \u001b[0munique\u001b[0m\u001b[0;34m.\u001b[0m\u001b[0mindex\u001b[0m\u001b[0;34m:\u001b[0m\u001b[0;34m\u001b[0m\u001b[0;34m\u001b[0m\u001b[0m\n\u001b[0;32m----> 2\u001b[0;31m     \u001b[0;32mif\u001b[0m \u001b[0munique\u001b[0m\u001b[0;34m[\u001b[0m\u001b[0mcolumn\u001b[0m\u001b[0;34m]\u001b[0m \u001b[0;34m<\u001b[0m \u001b[0;36m200\u001b[0m\u001b[0;34m:\u001b[0m\u001b[0;34m\u001b[0m\u001b[0;34m\u001b[0m\u001b[0m\n\u001b[0m\u001b[1;32m      3\u001b[0m         \u001b[0mprint\u001b[0m\u001b[0;34m(\u001b[0m\u001b[0mdf\u001b[0m\u001b[0;34m[\u001b[0m\u001b[0mcolumn\u001b[0m\u001b[0;34m]\u001b[0m\u001b[0;34m.\u001b[0m\u001b[0mvalue_counts\u001b[0m\u001b[0;34m(\u001b[0m\u001b[0;34m)\u001b[0m\u001b[0;34m)\u001b[0m\u001b[0;34m\u001b[0m\u001b[0;34m\u001b[0m\u001b[0m\n\u001b[1;32m      4\u001b[0m         \u001b[0mprint\u001b[0m\u001b[0;34m(\u001b[0m\u001b[0;34m\"=====\"\u001b[0m\u001b[0;34m)\u001b[0m\u001b[0;34m\u001b[0m\u001b[0;34m\u001b[0m\u001b[0m\n",
            "\u001b[0;32mmissing.pyx\u001b[0m in \u001b[0;36mpandas._libs.missing.NAType.__bool__\u001b[0;34m()\u001b[0m\n",
            "\u001b[0;31mTypeError\u001b[0m: boolean value of NA is ambiguous"
          ]
        }
      ]
    },
    {
      "cell_type": "code",
      "metadata": {
        "id": "FVGtbgdr5mnD",
        "colab": {
          "base_uri": "https://localhost:8080/"
        },
        "outputId": "0ccc3112-70bf-4c38-dc99-a0449b342d6b"
      },
      "source": [
        "# With all the proper data typing the dataset went down in size from 1.9Gb+ to 425Mb.\n",
        "df.info()"
      ],
      "execution_count": 105,
      "outputs": [
        {
          "output_type": "stream",
          "name": "stdout",
          "text": [
            "<class 'pandas.core.frame.DataFrame'>\n",
            "Index: 9413949 entries, 0 to 9491945\n",
            "Data columns (total 24 columns):\n",
            " #   Column             Dtype         \n",
            "---  ------             -----         \n",
            " 0   CMPLNT_NUM         Int64         \n",
            " 1   ADDR_PCT_CD        Int64         \n",
            " 2   RPT_DT             datetime64[ns]\n",
            " 3   KY_CD              Int64         \n",
            " 4   PD_CD              Int64         \n",
            " 5   CRM_ATPT_CPTD_CD   object        \n",
            " 6   LAW_CAT_CD         object        \n",
            " 7   BORO_NM            object        \n",
            " 8   LOC_OF_OCCUR_DESC  object        \n",
            " 9   PREM_TYP_DESC      object        \n",
            " 10  JURISDICTION_CODE  Int64         \n",
            " 11  SUSP_AGE_GROUP     object        \n",
            " 12  SUSP_RACE          object        \n",
            " 13  SUSP_SEX           object        \n",
            " 14  Latitude           float64       \n",
            " 15  Longitude          float64       \n",
            " 16  PATROL_BORO        object        \n",
            " 17  VIC_AGE_GROUP      object        \n",
            " 18  VIC_RACE           object        \n",
            " 19  VIC_SEX            object        \n",
            " 20  CMPLNT_FR          datetime64[ns]\n",
            " 21  CMPLNT_TO          datetime64[ns]\n",
            " 22  NEIGHBORHOOD       object        \n",
            " 23  NEIGHBORHOOD_CODE  object        \n",
            "dtypes: Int64(5), datetime64[ns](3), float64(2), object(14)\n",
            "memory usage: 1.8+ GB\n"
          ]
        }
      ]
    },
    {
      "cell_type": "code",
      "metadata": {
        "id": "3-DkWZbI5mnE"
      },
      "source": [
        "df.dtypes"
      ],
      "execution_count": null,
      "outputs": []
    },
    {
      "cell_type": "code",
      "source": [
        "# prompt: Convert all the category data types in the dataframe df into string\n",
        "\n",
        "#for col in df.select_dtypes(include='category').columns:\n",
        "#    df[col] = df[col].astype(str)\n",
        "\n",
        "# df = df.replace(to_replace = 'nan', value=None)\n",
        "\n",
        "df.KY_CD = pd.to_numeric(df.KY_CD, errors='coerce').astype('Int64')\n",
        "df.PD_CD = pd.to_numeric(df.PD_CD, errors='coerce').astype('Int64')\n",
        "df.ADDR_PCT_CD = pd.to_numeric(df.ADDR_PCT_CD, errors='coerce').astype('Int64')\n",
        "df.JURISDICTION_CODE = pd.to_numeric(df.JURISDICTION_CODE, errors='coerce').astype('Int64')"
      ],
      "metadata": {
        "id": "bulQeEod0bZk"
      },
      "execution_count": 104,
      "outputs": []
    },
    {
      "cell_type": "markdown",
      "metadata": {
        "id": "s4Nw6Q6J5mnK"
      },
      "source": [
        "## Storing in a MySQL database"
      ]
    },
    {
      "cell_type": "code",
      "metadata": {
        "id": "pIFdbm3zC1Qa",
        "colab": {
          "base_uri": "https://localhost:8080/"
        },
        "outputId": "abb7f8ae-3fbb-435b-abe6-d667e12e696e"
      },
      "source": [
        "!sudo pip3 install -U -q PyMySQL sqlalchemy"
      ],
      "execution_count": 106,
      "outputs": [
        {
          "output_type": "stream",
          "name": "stdout",
          "text": [
            "\u001b[?25l   \u001b[90m━━━━━━━━━━━━━━━━━━━━━━━━━━━━━━━━━━━━━━━━\u001b[0m \u001b[32m0.0/45.0 kB\u001b[0m \u001b[31m?\u001b[0m eta \u001b[36m-:--:--\u001b[0m\r\u001b[2K   \u001b[90m━━━━━━━━━━━━━━━━━━━━━━━━━━━━━━━━━━━━━━━━\u001b[0m \u001b[32m45.0/45.0 kB\u001b[0m \u001b[31m1.7 MB/s\u001b[0m eta \u001b[36m0:00:00\u001b[0m\n",
            "\u001b[?25h"
          ]
        }
      ]
    },
    {
      "cell_type": "code",
      "metadata": {
        "id": "XRRqVqrj5mnK"
      },
      "source": [
        "import os\n",
        "from sqlalchemy import create_engine\n",
        "from sqlalchemy import text\n",
        "\n",
        "conn_string = 'mysql+pymysql://{user}:{password}@{host}/?charset=utf8mb4'.format(\n",
        "    host = 'db.ipeirotis.org',\n",
        "    user = 'root',\n",
        "    password = mysql_pass,\n",
        "    encoding = 'utf8mb4')\n",
        "\n",
        "engine = create_engine(conn_string)\n"
      ],
      "execution_count": 107,
      "outputs": []
    },
    {
      "cell_type": "code",
      "metadata": {
        "id": "BME9Kw3I5mnL"
      },
      "source": [
        "# Query to create a database\n",
        "db_name = 'nypd'\n",
        "\n",
        "sql = f\"DROP DATABASE IF EXISTS {db_name}\"\n",
        "with engine.connect() as connection:\n",
        "  connection.execute(text(sql))\n",
        "\n",
        "# Create a database\n",
        "sql = f\"CREATE DATABASE IF NOT EXISTS {db_name} DEFAULT CHARACTER SET 'utf8mb4'\"\n",
        "with engine.connect() as connection:\n",
        "  connection.execute(text(sql))\n"
      ],
      "execution_count": 125,
      "outputs": []
    },
    {
      "cell_type": "code",
      "metadata": {
        "id": "M-_M6qS0Vhlv"
      },
      "source": [
        "# And lets switch to the database\n",
        "sql = f\"USE {db_name}\"\n",
        "with engine.connect() as connection:\n",
        "  connection.execute(text(sql))\n"
      ],
      "execution_count": 127,
      "outputs": []
    },
    {
      "cell_type": "code",
      "source": [],
      "metadata": {
        "id": "7TFHAgvkruEE"
      },
      "execution_count": null,
      "outputs": []
    },
    {
      "cell_type": "code",
      "source": [
        "NEIGHBORHOOD_enum = \"ENUM('\" + (\"','\".join(sorted(df.NEIGHBORHOOD.astype(str).unique()))) + \"')\"\n"
      ],
      "metadata": {
        "id": "N3ICigmiqdPr"
      },
      "execution_count": 128,
      "outputs": []
    },
    {
      "cell_type": "code",
      "source": [
        "print(NEIGHBORHOOD_enum)"
      ],
      "metadata": {
        "id": "Y5BrhbvWstAa",
        "colab": {
          "base_uri": "https://localhost:8080/"
        },
        "outputId": "bed9fb1d-5686-4d21-d5bb-c60f09be93e3"
      },
      "execution_count": 129,
      "outputs": [
        {
          "output_type": "stream",
          "name": "stdout",
          "text": [
            "ENUM('Allerton','Alley Pond Park','Annadale-Huguenot-Prince’s Bay-Woodrow','Arden Heights-Rossville','Astoria (Central)','Astoria (East)-Woodside (North)','Astoria (North)-Ditmars-Steinway','Astoria Park','Auburndale','Baisley Park','Barren Island-Floyd Bennett Field','Bath Beach','Bay Ridge','Bay Terrace-Clearview','Bayside','Bedford Park','Bedford-Stuyvesant (East)','Bedford-Stuyvesant (West)','Bellerose','Belmont','Bensonhurst','Borough Park','Breezy Point-Belle Harbor-Rockaway Park-Broad Channel','Brighton Beach','Bronx Park','Brooklyn Heights','Brooklyn Navy Yard','Brownsville','Bushwick (East)','Bushwick (West)','Calvary & Mount Zion Cemeteries','Calvert Vaux Park','Cambria Heights','Canarsie','Canarsie Park & Pier','Carroll Gardens-Cobble Hill-Gowanus-Red Hook','Castle Hill-Unionport','Central Park','Chelsea-Hudson Yards','Chinatown-Two Bridges','Claremont Park','Claremont Village-Claremont (East)','Clinton Hill','Co-op City','College Point','Concourse-Concourse Village','Coney Island-Sea Gate','Corona','Crotona Park','Crotona Park East','Crown Heights (North)','Crown Heights (South)','Cunningham Park','Cypress Hills','Douglaston-Little Neck','Downtown Brooklyn-DUMBO-Boerum Hill','Dyker Beach Park','Dyker Heights','East Elmhurst','East Flatbush-Erasmus','East Flatbush-Farragut','East Flatbush-Remsen Village','East Flatbush-Rugby','East Flushing','East Harlem (North)','East Harlem (South)','East Midtown-Turtle Bay','East New York (North)','East New York-City Line','East New York-New Lots','East Village','East Williamsburg','Eastchester-Edenwald-Baychester','Elmhurst','Far Rockaway-Bayswater','Ferry Point Park-St. Raymond Cemetery','Financial District-Battery Park City','Flatbush','Flatbush (West)-Ditmas Park-Parkville','Flatlands','Flushing Meadows-Corona Park','Flushing-Willets Point','Fordham Heights','Forest Hills','Forest Park','Fort Greene','Fort Hamilton','Fort Totten','Fort Wadsworth','Fresh Meadows-Utopia','Freshkills Park (North)','Freshkills Park (South)','Glen Oaks-Floral Park-New Hyde Park','Glendale','Gramercy','Grasmere-Arrochar-South Beach-Dongan Hills','Gravesend (East)-Homecrest','Gravesend (South)','Gravesend (West)','Great Kills Park','Great Kills-Eltingville','Green-Wood Cemetery','Greenpoint','Greenwich Village','Hamilton Heights-Sugar Hill','Harlem (North)','Harlem (South)','Hell’s Kitchen','Highbridge','Highbridge Park','Highland Park-Cypress Hills Cemeteries (North)','Highland Park-Cypress Hills Cemeteries (South)','Hollis','Holy Cross Cemetery','Howard Beach-Lindenwood','Hunts Point','Hutchinson Metro Center','Inwood','Inwood Hill Park','Jackson Heights','Jacob Riis Park-Fort Tilden-Breezy Point Tip','Jamaica','Jamaica Bay (East)','Jamaica Estates-Holliswood','Jamaica Hills-Briarwood','John F. Kennedy International Airport','Kensington','Kew Gardens','Kew Gardens Hills','Kingsbridge Heights-Van Cortlandt Village','Kingsbridge-Marble Hill','Kissena Park','LaGuardia Airport','Laurelton','Lincoln Terrace Park','Long Island City-Hunters Point','Longwood','Lower East Side','Madison','Manhattanville-West Harlem','Mapleton-Midwood (West)','Marine Park-Mill Basin-Bergen Beach','Marine Park-Plumb Island','Mariner’s Harbor-Arlington-Graniteville','Maspeth','McGuire Fields','Melrose','Middle Village','Middle Village Cemetery','Midtown South-Flatiron-Union Square','Midtown-Times Square','Midwood','Miller Field','Montefiore Cemetery','Morningside Heights','Morris Park','Morrisania','Mott Haven-Port Morris','Mount Eden-Claremont (West)','Mount Hope','Mount Olivet & All Faiths Cemeteries','Murray Hill-Broadway Flushing','Murray Hill-Kips Bay','New Dorp-Midland Beach','New Springville-Willowbrook-Bulls Head-Travis','North Corona','Norwood','Oakland Gardens-Hollis Hills','Oakwood-Richmondtown','Ocean Hill','Old Astoria-Hallets Point','Ozone Park','Ozone Park (North)','Park Slope','Parkchester','Pelham Bay Park','Pelham Bay-Country Club-City Island','Pelham Gardens','Pelham Parkway-Van Nest','Pomonok-Electchester-Hillcrest','Port Richmond','Prospect Heights','Prospect Lefferts Gardens-Wingate','Prospect Park','Queens Village','Queensboro Hill','Queensbridge-Ravenswood-Dutch Kills','Randall’s Island','Rego Park','Richmond Hill','Ridgewood','Rikers Island','Riverdale-Spuyten Duyvil','Rockaway Beach-Arverne-Edgemere','Rockaway Community Park','Rosebank-Shore Acres-Park Hill','Rosedale','Sheepshead Bay-Manhattan Beach-Gerritsen Beach','Shirley Chisholm State Park','Snug Harbor','SoHo-Little Italy-Hudson Square','Soundview Park','Soundview-Bruckner-Bronx River','Soundview-Clason Point','South Jamaica','South Ozone Park','South Richmond Hill','South Williamsburg','Spring Creek Park','Spring Creek-Starrett City','Springfield Gardens (North)-Rochdale Village','Springfield Gardens (South)-Brookville','St. Albans','St. George-New Brighton','St. John Cemetery','St. Michael’s Cemetery','Stuyvesant Town-Peter Cooper Village','Sunnyside','Sunnyside Yards (North)','Sunnyside Yards (South)','Sunset Park (Central)','Sunset Park (East)-Borough Park (West)','Sunset Park (West)','The Battery-Governors Island-Ellis Island-Liberty Island','The Evergreens Cemetery','Throgs Neck-Schuylerville','Todt Hill-Emerson Hill-Lighthouse Hill-Manor Heights','Tompkinsville-Stapleton-Clifton-Fox Hills','Tottenville-Charleston','Tremont','Tribeca-Civic Center','United Nations','University Heights (North)-Fordham','University Heights (South)-Morris Heights','Upper East Side-Carnegie Hill','Upper East Side-Lenox Hill-Roosevelt Island','Upper East Side-Yorkville','Upper West Side (Central)','Upper West Side-Lincoln Square','Upper West Side-Manhattan Valley','Van Cortlandt Park','Wakefield-Woodlawn','Washington Heights (North)','Washington Heights (South)','West Farms','West New Brighton-Silver Lake-Grymes Hill','West Village','Westchester Square','Westerleigh-Castleton Corners','Whitestone-Beechhurst','Williamsbridge-Olinville','Williamsburg','Windsor Terrace-South Slope','Woodhaven','Woodlawn Cemetery','Woodside','Yankee Stadium-Macombs Dam Park')\n"
          ]
        }
      ]
    },
    {
      "cell_type": "code",
      "source": [
        "NCODE_enum = \"ENUM('\" + (\"','\".join(sorted(df.NEIGHBORHOOD_CODE.astype(str).unique()))) + \"')\""
      ],
      "metadata": {
        "id": "lGMrzatsrL10"
      },
      "execution_count": 130,
      "outputs": []
    },
    {
      "cell_type": "code",
      "metadata": {
        "id": "10JrBGZ65mnL"
      },
      "source": [
        "# In principle, we can let Pandas create the table, but we want to be a bit more predise\n",
        "# with the data types, and we want to add documentation for each column\n",
        "# from https://data.cityofnewyork.us/Public-Safety/NYPD-Complaint-Data-Historic/qgea-i56i\n",
        "\n",
        "\n",
        "sql = f'''\n",
        "CREATE TABLE {db_name}.nypd (\n",
        "  CMPLNT_NUM int,\n",
        "  CMPLNT_FR datetime,\n",
        "  CMPLNT_TO datetime,\n",
        "  RPT_DT date,\n",
        "  KY_CD SMALLINT,\n",
        "  PD_CD SMALLINT,\n",
        "  CRM_ATPT_CPTD_CD enum('COMPLETED','ATTEMPTED'),\n",
        "  LAW_CAT_CD enum('FELONY','MISDEMEANOR','VIOLATION'),\n",
        "  JURISDICTION_CODE SMALLINT,\n",
        "  BORO_NM enum('BRONX','BROOKLYN','MANHATTAN','QUEENS','STATEN ISLAND'),\n",
        "  NEIGHBORHOOD {NEIGHBORHOOD_enum},\n",
        "  NEIGHBORHOOD_CODE {NCODE_enum},\n",
        "  ADDR_PCT_CD SMALLINT,\n",
        "  LOC_OF_OCCUR_DESC enum('FRONT OF','INSIDE','OPPOSITE OF','OUTSIDE','REAR OF'),\n",
        "  PATROL_BORO enum('PATROL BORO BRONX', 'PATROL BORO BKLYN SOUTH','PATROL BORO BKLYN NORTH','PATROL BORO MAN SOUTH','PATROL BORO MAN NORTH','PATROL BORO QUEENS NORTH','PATROL BORO QUEENS SOUTH','PATROL BORO STATEN ISLAND'),\n",
        "  PREM_TYP_DESC varchar(30),\n",
        "  SUSP_RACE enum('UNKNOWN', 'BLACK', 'WHITE', 'WHITE HISPANIC', 'ASIAN / PACIFIC ISLANDER', 'BLACK HISPANIC', 'AMERICAN INDIAN/ALASKAN NATIVE'),\n",
        "  VIC_RACE enum('UNKNOWN', 'BLACK', 'WHITE', 'WHITE HISPANIC', 'ASIAN / PACIFIC ISLANDER', 'BLACK HISPANIC', 'AMERICAN INDIAN/ALASKAN NATIVE'),\n",
        "  SUSP_AGE_GROUP enum('<18', '18-24',  '25-44', '45-64', '65+'),\n",
        "  VIC_AGE_GROUP enum('<18', '18-24',  '25-44', '45-64', '65+'),\n",
        "  SUSP_SEX enum('M', 'F'),\n",
        "  VIC_SEX enum('M', 'F', 'E', 'D', 'L'),\n",
        "  Latitude double,\n",
        "  Longitude double,\n",
        "  PRIMARY KEY (CMPLNT_NUM)\n",
        ") ENGINE=InnoDB DEFAULT CHARSET=utf8mb4;\n",
        "'''\n",
        "with engine.connect() as connection:\n",
        "  connection.execute(text(sql))"
      ],
      "execution_count": 131,
      "outputs": []
    },
    {
      "cell_type": "code",
      "metadata": {
        "id": "5fJuGS1e5mnM",
        "colab": {
          "base_uri": "https://localhost:8080/"
        },
        "outputId": "4d13e9b7-b8e4-421e-cd57-2d697434d4d4"
      },
      "source": [
        "# Create a table\n",
        "# See http://pandas.pydata.org/pandas-docs/stable/generated/pandas.DataFrame.to_sql.html for the documentation\n",
        "from tqdm import tqdm\n",
        "batchsize = 50000\n",
        "batches = len(df) // batchsize + 1\n",
        "\n",
        "t = tqdm(range(batches))\n",
        "\n",
        "for i in t:\n",
        "    # print(\"Batch:\",i)\n",
        "    # continue # Cannot execute this on Travis\n",
        "    start = batchsize * i\n",
        "    end = batchsize * (i+1)\n",
        "    df[start:end].to_sql(\n",
        "        name = 'nypd',\n",
        "        schema = db_name,\n",
        "        con = engine,\n",
        "        if_exists = 'append',\n",
        "        index = False,\n",
        "        chunksize = 1000)"
      ],
      "execution_count": 142,
      "outputs": [
        {
          "metadata": {
            "tags": null
          },
          "name": "stderr",
          "output_type": "stream",
          "text": [
            "100%|██████████| 189/189 [13:13<00:00,  4.20s/it]\n"
          ]
        }
      ]
    },
    {
      "cell_type": "code",
      "metadata": {
        "id": "m8ozy38lJmOt"
      },
      "source": [
        "sql = \"CREATE INDEX ix_lat ON nypd.nypd(Latitude)\"\n",
        "with engine.connect() as connection:\n",
        "  connection.execute(text(sql))"
      ],
      "execution_count": 143,
      "outputs": []
    },
    {
      "cell_type": "code",
      "metadata": {
        "id": "Up8_pRiYPn3X"
      },
      "source": [
        "sql = \"CREATE INDEX ix_lon ON nypd.nypd(Longitude)\"\n",
        "with engine.connect() as connection:\n",
        "  connection.execute(text(sql))"
      ],
      "execution_count": 144,
      "outputs": []
    },
    {
      "cell_type": "code",
      "metadata": {
        "id": "fRVAUTDsPn6N"
      },
      "source": [
        "sql = \"CREATE INDEX ix_LAW_CAT_CD ON nypd.nypd(LAW_CAT_CD)\"\n",
        "with engine.connect() as connection:\n",
        "  connection.execute(text(sql))"
      ],
      "execution_count": 145,
      "outputs": []
    },
    {
      "cell_type": "code",
      "metadata": {
        "id": "TcqQhh63PoAJ"
      },
      "source": [
        "sql = \"CREATE INDEX ix_BORO_NM ON nypd.nypd(BORO_NM)\"\n",
        "with engine.connect() as connection:\n",
        "  connection.execute(text(sql))"
      ],
      "execution_count": 146,
      "outputs": []
    },
    {
      "cell_type": "code",
      "metadata": {
        "id": "2-j9IWUtklbT"
      },
      "source": [
        "sql = \"CREATE INDEX ix_KY_CD ON nypd.nypd(KY_CD)\"\n",
        "with engine.connect() as connection:\n",
        "  connection.execute(text(sql))"
      ],
      "execution_count": 147,
      "outputs": []
    },
    {
      "cell_type": "code",
      "metadata": {
        "id": "fVLOoJXZP3IL"
      },
      "source": [
        "sql = \"CREATE INDEX ix_RPT_DT ON nypd.nypd(RPT_DT)\"\n",
        "with engine.connect() as connection:\n",
        "  connection.execute(text(sql))"
      ],
      "execution_count": 148,
      "outputs": []
    },
    {
      "cell_type": "code",
      "metadata": {
        "id": "_LMQyvt6P71C"
      },
      "source": [
        "sql = \"CREATE INDEX ix_CMPLNT_FR ON nypd.nypd(CMPLNT_FR)\"\n",
        "with engine.connect() as connection:\n",
        "  connection.execute(text(sql))"
      ],
      "execution_count": 149,
      "outputs": []
    },
    {
      "cell_type": "code",
      "source": [],
      "metadata": {
        "id": "mc5hOjV_jaIJ"
      },
      "execution_count": null,
      "outputs": []
    },
    {
      "cell_type": "code",
      "source": [],
      "metadata": {
        "id": "cBvLp2m7bR3V"
      },
      "execution_count": null,
      "outputs": []
    },
    {
      "cell_type": "code",
      "source": [],
      "metadata": {
        "id": "sK4362Ecb6iJ"
      },
      "execution_count": null,
      "outputs": []
    },
    {
      "cell_type": "code",
      "metadata": {
        "id": "hPGyBq5gvy2o",
        "colab": {
          "base_uri": "https://localhost:8080/"
        },
        "outputId": "7941f55f-9cb1-4e15-b541-f3bc0314c029"
      },
      "source": [
        "sql = \"DROP TABLE IF EXISTS offense_codes;\"\n",
        "with engine.connect() as connection:\n",
        "  connection.execute(text(sql))\n",
        "\n",
        "sql = '''\n",
        "CREATE TABLE offense_codes (\n",
        "  KY_CD smallint,\n",
        "  OFNS_DESC varchar(32),\n",
        "  PRIMARY KEY (KY_CD)\n",
        ") ENGINE=InnoDB DEFAULT CHARSET=utf8mb4;\n",
        "'''\n",
        "with engine.connect() as connection:\n",
        "  connection.execute(text(sql))\n",
        "\n",
        "offenses.to_sql(\n",
        "        name = 'offense_codes',\n",
        "        schema = db_name,\n",
        "        con = engine,\n",
        "        if_exists = 'append',\n",
        "        index = False)"
      ],
      "execution_count": 150,
      "outputs": [
        {
          "data": {
            "text/plain": [
              "75"
            ]
          },
          "execution_count": 150,
          "metadata": {},
          "output_type": "execute_result"
        }
      ]
    },
    {
      "cell_type": "code",
      "metadata": {
        "id": "--bCF3OXxVVq",
        "colab": {
          "base_uri": "https://localhost:8080/"
        },
        "outputId": "f2e90c28-e454-4fca-c9d4-7fc0c92affd7"
      },
      "source": [
        "sql = \"DROP TABLE IF EXISTS jurisdiction_codes;\"\n",
        "with engine.connect() as connection:\n",
        "  connection.execute(text(sql))\n",
        "\n",
        "sql = '''\n",
        "CREATE TABLE jurisdiction_codes (\n",
        "  JURISDICTION_CODE smallint,\n",
        "  JURIS_DESC varchar(40),\n",
        "  PRIMARY KEY (JURISDICTION_CODE)\n",
        ") ENGINE=InnoDB DEFAULT CHARSET=utf8mb4;\n",
        "'''\n",
        "with engine.connect() as connection:\n",
        "  connection.execute(text(sql))\n",
        "\n",
        "\n",
        "jusridiction.to_sql(\n",
        "        name = 'jurisdiction_codes',\n",
        "        schema = db_name,\n",
        "        con = engine,\n",
        "        if_exists = 'append',\n",
        "        index = False)"
      ],
      "execution_count": 151,
      "outputs": [
        {
          "data": {
            "text/plain": [
              "28"
            ]
          },
          "execution_count": 151,
          "metadata": {},
          "output_type": "execute_result"
        }
      ]
    },
    {
      "cell_type": "code",
      "metadata": {
        "id": "rFUrm2poxWFQ",
        "colab": {
          "base_uri": "https://localhost:8080/"
        },
        "outputId": "8a106cf9-972b-44fb-f533-3e13e8353f46"
      },
      "source": [
        "sql = \"DROP TABLE IF EXISTS penal_codes;\"\n",
        "with engine.connect() as connection:\n",
        "  connection.execute(text(sql))\n",
        "\n",
        "sql = '''\n",
        "CREATE TABLE penal_codes (\n",
        "  PD_CD smallint,\n",
        "  PD_DESC varchar(80),\n",
        "  PRIMARY KEY (PD_CD)\n",
        ") ENGINE=InnoDB DEFAULT CHARSET=utf8mb4;\n",
        "'''\n",
        "with engine.connect() as connection:\n",
        "  connection.execute(text(sql))\n",
        "\n",
        "\n",
        "internal.to_sql(\n",
        "        name = 'penal_codes',\n",
        "        schema = db_name,\n",
        "        con = engine,\n",
        "        if_exists = 'append',\n",
        "        index = False)"
      ],
      "execution_count": 153,
      "outputs": [
        {
          "data": {
            "text/plain": [
              "441"
            ]
          },
          "execution_count": 153,
          "metadata": {},
          "output_type": "execute_result"
        }
      ]
    },
    {
      "cell_type": "code",
      "source": [
        "!curl 'https://data.cityofnewyork.us/api/views/qgea-i56i/files/65f25845-1551-4d21-91dc-869c977cd93d?download=true&filename=PDCode_PenalLaw.xlsx' -o PDCode_PenalLaw.xlsx"
      ],
      "metadata": {
        "colab": {
          "base_uri": "https://localhost:8080/"
        },
        "id": "QMyhil5Rcpdz",
        "outputId": "a7684b29-0a4b-47b9-cf0c-e3fa67914b4f"
      },
      "execution_count": 154,
      "outputs": [
        {
          "metadata": {
            "tags": null
          },
          "name": "stdout",
          "output_type": "stream",
          "text": [
            "  % Total    % Received % Xferd  Average Speed   Time    Time     Time  Current\n",
            "                                 Dload  Upload   Total   Spent    Left  Speed\n",
            "100  233k    0  233k    0     0   541k      0 --:--:-- --:--:-- --:--:--  541k\n"
          ]
        }
      ]
    },
    {
      "cell_type": "code",
      "source": [
        "penal_code_df = pd.read_excel('PDCode_PenalLaw.xlsx')"
      ],
      "metadata": {
        "id": "-_zZKHY7csLJ"
      },
      "execution_count": 155,
      "outputs": []
    },
    {
      "cell_type": "code",
      "source": [
        "penal_code_df.to_sql(\n",
        "        name = 'pd_code_penal_law',\n",
        "        schema = db_name,\n",
        "        con = engine,\n",
        "        if_exists = 'replace',\n",
        "        index = False)"
      ],
      "metadata": {
        "id": "DoujK2mEct93",
        "colab": {
          "base_uri": "https://localhost:8080/"
        },
        "outputId": "8797974c-091d-4be8-f622-b288aa9627c2"
      },
      "execution_count": 156,
      "outputs": [
        {
          "data": {
            "text/plain": [
              "4671"
            ]
          },
          "execution_count": 156,
          "metadata": {},
          "output_type": "execute_result"
        }
      ]
    },
    {
      "cell_type": "code",
      "source": [],
      "metadata": {
        "id": "kd0QY0hu_m32"
      },
      "execution_count": null,
      "outputs": []
    },
    {
      "cell_type": "markdown",
      "source": [
        "# BigQuery"
      ],
      "metadata": {
        "id": "KWMbfaUY_nKA"
      }
    },
    {
      "cell_type": "markdown",
      "source": [],
      "metadata": {
        "id": "GYQFNmM40U18"
      }
    },
    {
      "cell_type": "code",
      "source": [
        "!pip install -q google-cloud-bigquery pandas-gbq\n",
        "\n",
        "from google.colab import auth\n",
        "auth.authenticate_user()"
      ],
      "metadata": {
        "id": "tJFRLAfA_og_"
      },
      "execution_count": 110,
      "outputs": []
    },
    {
      "cell_type": "code",
      "source": [
        "from google.cloud import bigquery\n",
        "import pandas_gbq"
      ],
      "metadata": {
        "id": "NVmCxWdB_uyK"
      },
      "execution_count": 111,
      "outputs": []
    },
    {
      "cell_type": "code",
      "source": [
        "# Add this section to write to BigQuery\n",
        "project_id = \"nyu-datasets\"\n",
        "dataset_id = \"nypd_complaints\"\n",
        "\n",
        "# Initialize BigQuery client\n",
        "client = bigquery.Client(project=project_id)\n",
        "\n",
        "# Create the dataset if it doesn't exist\n",
        "try:\n",
        "    client.get_dataset(dataset_id)\n",
        "    print(f\"Dataset {dataset_id} already exists.\")\n",
        "except:\n",
        "    dataset = bigquery.Dataset(f\"{project_id}.{dataset_id}\")\n",
        "    dataset.location = \"US\" # Or your preferred location\n",
        "    dataset = client.create_dataset(dataset, exists_ok=True)\n",
        "    print(f\"Dataset {dataset_id} created.\")\n"
      ],
      "metadata": {
        "colab": {
          "base_uri": "https://localhost:8080/"
        },
        "id": "qfsnbQXk_z2g",
        "outputId": "8a8b661e-c7d3-412f-dcb7-56c954d7f3aa"
      },
      "execution_count": 112,
      "outputs": [
        {
          "output_type": "stream",
          "name": "stdout",
          "text": [
            "Dataset nypd_complaints already exists.\n"
          ]
        }
      ]
    },
    {
      "cell_type": "code",
      "source": [
        "# prompt: I want to store to BigQuery (to the dataset above) the tables that were written in MySQL. I want to define first the scema for each table, with descriptions for each column, and then use pandas_gbq to store the data in BigQuery.\n",
        "# Then use SQL code that ALTERs the tables to assign descriptions to them and add (non enforced) PRIMARY and FOREIGN KEY designations in the tables.\n",
        "\n",
        "# Define schema for nypd table\n",
        "# The schema is defined as a list of bigquery.SchemaField objects.\n",
        "nypd_schema_fields = [\n",
        "    bigquery.SchemaField(\"CMPLNT_NUM\", \"INT64\", mode=\"NULLABLE\", description=\"Randomly generated persistent ID for each complaint\"),\n",
        "    bigquery.SchemaField(\"CMPLNT_FR\", \"TIMESTAMP\", mode=\"NULLABLE\", description=\"Exact date and time of occurrence for the reported event (or starting date and time of occurrence)\"),\n",
        "    bigquery.SchemaField(\"CMPLNT_TO\", \"TIMESTAMP\", mode=\"NULLABLE\", description=\"Ending date and time of occurrence for the reported event, if exact time of occurrence is unknown\"),\n",
        "    bigquery.SchemaField(\"RPT_DT\", \"DATE\", mode=\"NULLABLE\", description=\"Date event was reported to police\"),\n",
        "    bigquery.SchemaField(\"KY_CD\", \"INT64\", mode=\"NULLABLE\", description=\"Three digit offense classification code\"),\n",
        "    bigquery.SchemaField(\"PD_CD\", \"INT64\", mode=\"NULLABLE\", description=\"Three digit internal classification code (more granular than Key Code)\"),\n",
        "    bigquery.SchemaField(\"CRM_ATPT_CPTD_CD\", \"STRING\", mode=\"NULLABLE\", description=\"Indicator of whether crime was successfully completed or attempted, but failed or was interrupted prematurely\"),\n",
        "    bigquery.SchemaField(\"LAW_CAT_CD\", \"STRING\", mode=\"NULLABLE\", description=\"Level of offense: felony, misdemeanor, violation\"),\n",
        "    bigquery.SchemaField(\"JURISDICTION_CODE\", \"INT64\", mode=\"NULLABLE\", description=\"Jurisdiction responsible for incident. Either internal, like Police(0), Transit(1), and Housing(2); or external(3), like Correction, Port Authority, etc.\"),\n",
        "    bigquery.SchemaField(\"BORO_NM\", \"STRING\", mode=\"NULLABLE\", description=\"The name of the borough in which the incident occurred\"),\n",
        "    bigquery.SchemaField(\"NEIGHBORHOOD\", \"STRING\", mode=\"NULLABLE\", description=\"Name of the Neighborhood Tabulation Area (NTA)\"),\n",
        "    bigquery.SchemaField(\"NEIGHBORHOOD_CODE\", \"STRING\", mode=\"NULLABLE\", description=\"Code for the Neighborhood Tabulation Area (NTA)\"),\n",
        "    bigquery.SchemaField(\"ADDR_PCT_CD\", \"INT64\", mode=\"NULLABLE\", description=\"The precinct in which the incident occurred\"),\n",
        "    bigquery.SchemaField(\"LOC_OF_OCCUR_DESC\", \"STRING\", mode=\"NULLABLE\", description=\"Specific location of occurrence in or around the premises; inside, opposite of, front of, rear of\"),\n",
        "    bigquery.SchemaField(\"PATROL_BORO\", \"STRING\", mode=\"NULLABLE\", description=\"The name of the patrol borough in which the incident occurred\"),\n",
        "    bigquery.SchemaField(\"PREM_TYP_DESC\", \"STRING\", mode=\"NULLABLE\", description=\"Specific description of premises; grocery store, residence, street, etc.\"),\n",
        "    bigquery.SchemaField(\"SUSP_RACE\", \"STRING\", mode=\"NULLABLE\", description=\"Suspect’s Race Description\"),\n",
        "    bigquery.SchemaField(\"VIC_RACE\", \"STRING\", mode=\"NULLABLE\", description=\"Victim’s Race Description\"),\n",
        "    bigquery.SchemaField(\"SUSP_AGE_GROUP\", \"STRING\", mode=\"NULLABLE\", description=\"Suspect’s Age Group\"),\n",
        "    bigquery.SchemaField(\"VIC_AGE_GROUP\", \"STRING\", mode=\"NULLABLE\", description=\"Victim’s Age Group\"),\n",
        "    bigquery.SchemaField(\"SUSP_SEX\", \"STRING\", mode=\"NULLABLE\", description=\"Suspect’s Sex Description\"),\n",
        "    bigquery.SchemaField(\"VIC_SEX\", \"STRING\", mode=\"NULLABLE\", description=\"Victim’s Sex Description\"),\n",
        "    bigquery.SchemaField(\"Latitude\", \"FLOAT64\", mode=\"NULLABLE\", description=\"Midblock Latitude coordinate for Global Coordinate System, WGS 1984, decimal degrees (EPSG 4326)\"),\n",
        "    bigquery.SchemaField(\"Longitude\", \"FLOAT64\", mode=\"NULLABLE\", description=\"Midblock Longitude coordinate for Global Coordinate System, WGS 1984, decimal degrees (EPSG 4326)\"),\n",
        "]\n",
        "\n",
        "# Convert SchemaField objects to dictionaries for pandas_gbq\n",
        "nypd_schema = [field.to_api_repr() for field in nypd_schema_fields]\n",
        "\n",
        "\n",
        "# Define schema for offense_codes table\n",
        "offense_codes_schema_fields = [\n",
        "    bigquery.SchemaField(\"KY_CD\", \"INT64\", mode=\"NULLABLE\", description=\"Three digit offense classification code\"),\n",
        "    bigquery.SchemaField(\"OFNS_DESC\", \"STRING\", mode=\"NULLABLE\", description=\"Description of offense corresponding with key code\"),\n",
        "]\n",
        "offense_codes_schema = [field.to_api_repr() for field in offense_codes_schema_fields]\n",
        "\n",
        "\n",
        "# Define schema for jurisdiction_codes table\n",
        "jurisdiction_codes_schema_fields = [\n",
        "    bigquery.SchemaField(\"JURISDICTION_CODE\", \"INT64\", mode=\"NULLABLE\", description=\"Jurisdiction responsible for incident code\"),\n",
        "    bigquery.SchemaField(\"JURIS_DESC\", \"STRING\", mode=\"NULLABLE\", description=\"Description of the jurisdiction code\"),\n",
        "]\n",
        "jurisdiction_codes_schema = [field.to_api_repr() for field in jurisdiction_codes_schema_fields]\n",
        "\n",
        "\n",
        "# Define schema for penal_codes table\n",
        "penal_codes_schema_fields = [\n",
        "    bigquery.SchemaField(\"PD_CD\", \"INT64\", mode=\"NULLABLE\", description=\"Three digit internal classification code\"),\n",
        "    bigquery.SchemaField(\"PD_DESC\", \"STRING\", mode=\"NULLABLE\", description=\"Description of internal classification corresponding with PD code\"),\n",
        "]\n",
        "penal_codes_schema = [field.to_api_repr() for field in penal_codes_schema_fields]\n",
        "\n",
        "\n",
        "# Define schema for pd_code_penal_law table\n",
        "pd_code_penal_law_schema_fields = [\n",
        "    bigquery.SchemaField(\"PD_CD\", \"INT64\", mode=\"NULLABLE\"),\n",
        "    bigquery.SchemaField(\"PD_DESC\", \"STRING\", mode=\"NULLABLE\"),\n",
        "    bigquery.SchemaField(\"PENAL_LAW\", \"STRING\", mode=\"NULLABLE\"), # Assuming this column name from the excel file\n",
        "    bigquery.SchemaField(\"SECTION\", \"STRING\", mode=\"NULLABLE\"),\n",
        "    bigquery.SchemaField(\"SUBDIVISION\", \"STRING\", mode=\"NULLABLE\"),\n",
        "]\n",
        "pd_code_penal_law_schema = [field.to_api_repr() for field in pd_code_penal_law_schema_fields]\n",
        "\n"
      ],
      "metadata": {
        "id": "3U80iLmWDrKB"
      },
      "execution_count": 114,
      "outputs": []
    },
    {
      "cell_type": "code",
      "source": [
        "offenses.KY_CD = pd.to_numeric(offenses.KY_CD).astype('Int64')\n",
        "jusridiction.JURISDICTION_CODE = pd.to_numeric(jusridiction.JURISDICTION_CODE).astype('Int64')\n",
        "internal.PD_CD = pd.to_numeric(internal.PD_CD).astype('Int64')\n"
      ],
      "metadata": {
        "id": "Z5DJgeND43wA"
      },
      "execution_count": 117,
      "outputs": []
    },
    {
      "cell_type": "code",
      "source": [
        "\n",
        "# Store the dataframes to BigQuery\n",
        "# Ensure that the dataframes (df, offenses, jusridiction, internal, penal_code_df) are defined before running this cell.\n",
        "pandas_gbq.to_gbq(offenses, f\"{dataset_id}.offense_codes\", project_id=project_id, if_exists='replace', table_schema=offense_codes_schema)\n",
        "pandas_gbq.to_gbq(jusridiction, f\"{dataset_id}.jurisdiction_codes\", project_id=project_id, if_exists='replace', table_schema=jurisdiction_codes_schema)\n",
        "pandas_gbq.to_gbq(internal, f\"{dataset_id}.penal_codes\", project_id=project_id, if_exists='replace', table_schema=penal_codes_schema)\n",
        "pandas_gbq.to_gbq(penal_code_df, f\"{dataset_id}.pd_code_penal_law\", project_id=project_id, if_exists='replace', table_schema=pd_code_penal_law_schema)\n",
        "\n"
      ],
      "metadata": {
        "colab": {
          "base_uri": "https://localhost:8080/"
        },
        "id": "NKcegc8HWCjO",
        "outputId": "997e28ba-5291-4960-fabc-16f0bcf89eef"
      },
      "execution_count": 118,
      "outputs": [
        {
          "output_type": "stream",
          "name": "stderr",
          "text": [
            "100%|██████████| 1/1 [00:00<00:00, 15592.21it/s]\n",
            "100%|██████████| 1/1 [00:00<00:00, 18724.57it/s]\n",
            "100%|██████████| 1/1 [00:00<00:00, 16256.99it/s]\n",
            "100%|██████████| 1/1 [00:00<00:00, 18001.30it/s]\n"
          ]
        }
      ]
    },
    {
      "cell_type": "code",
      "source": [
        "%%time\n",
        "pandas_gbq.to_gbq(df, f\"{dataset_id}.nypd\", project_id=project_id, if_exists='replace', table_schema=nypd_schema)\n"
      ],
      "metadata": {
        "colab": {
          "base_uri": "https://localhost:8080/"
        },
        "id": "OEDsRpk8WG-I",
        "outputId": "9aebd09c-2f05-4295-c5be-d9b074d08fb2"
      },
      "execution_count": 119,
      "outputs": [
        {
          "output_type": "stream",
          "name": "stderr",
          "text": [
            "100%|██████████| 1/1 [00:00<00:00, 19418.07it/s]\n"
          ]
        }
      ]
    },
    {
      "cell_type": "code",
      "source": [
        "\n",
        "# Use SQL to ALTER tables and add descriptions and key designations\n",
        "\n",
        "# Add descriptions to tables\n",
        "client.query(f\"\"\"\n",
        "ALTER TABLE `{project_id}.{dataset_id}.nypd`\n",
        "SET OPTIONS(description='NYPD Complaint Data Historic');\n",
        "\n",
        "ALTER TABLE `{project_id}.{dataset_id}.offense_codes`\n",
        "SET OPTIONS(description='Mapping from Offense Code (KY_CD) to Offense Description');\n",
        "\n",
        "ALTER TABLE `{project_id}.{dataset_id}.jurisdiction_codes`\n",
        "SET OPTIONS(description='Mapping from Jurisdiction Code to Jurisdiction Description');\n",
        "\n",
        "ALTER TABLE `{project_id}.{dataset_id}.penal_codes`\n",
        "SET OPTIONS(description='Mapping from Penal Code (PD_CD) to Penal Description');\n",
        "\n",
        "ALTER TABLE `{project_id}.{dataset_id}.pd_code_penal_law`\n",
        "SET OPTIONS(description='Mapping from PD Code to Penal Law sections');\n",
        "\"\"\").result()\n",
        "\n",
        "print(\"Table descriptions added.\")\n"
      ],
      "metadata": {
        "colab": {
          "base_uri": "https://localhost:8080/"
        },
        "id": "q00Z5PYyWFO7",
        "outputId": "79dedc7f-f7d2-4937-cbe4-de1509fcbfd5"
      },
      "execution_count": 120,
      "outputs": [
        {
          "output_type": "stream",
          "name": "stdout",
          "text": [
            "Table descriptions added.\n"
          ]
        }
      ]
    },
    {
      "cell_type": "code",
      "source": [
        "# Add PRIMARY KEY designation (BigQuery does not enforce PRIMARY/FOREIGN KEY constraints, but you can add them for documentation/metadata)\n",
        "client.query(f\"\"\"\n",
        "ALTER TABLE `{project_id}.{dataset_id}.nypd`\n",
        "  ADD PRIMARY KEY (CMPLNT_NUM) NOT ENFORCED;\n",
        "\n",
        "ALTER TABLE `{project_id}.{dataset_id}.offense_codes`\n",
        "  ADD PRIMARY KEY (KY_CD) NOT ENFORCED;\n",
        "\n",
        "ALTER TABLE `{project_id}.{dataset_id}.jurisdiction_codes`\n",
        "  ADD PRIMARY KEY (JURISDICTION_CODE) NOT ENFORCED;\n",
        "\n",
        "ALTER TABLE `{project_id}.{dataset_id}.penal_codes`\n",
        "  ADD PRIMARY KEY (PD_CD) NOT ENFORCED;\n",
        "\"\"\").result()\n",
        "\n",
        "print(\"Primary Key added to tables.\")"
      ],
      "metadata": {
        "colab": {
          "base_uri": "https://localhost:8080/",
          "height": 478
        },
        "id": "-hHcgqdDbVI_",
        "outputId": "26c85099-6278-4084-b5a4-515f83619d7d"
      },
      "execution_count": 124,
      "outputs": [
        {
          "output_type": "error",
          "ename": "BadRequest",
          "evalue": "400 GET https://bigquery.googleapis.com/bigquery/v2/projects/nyu-datasets/queries/3937f31b-e31d-469f-90e5-901259c1a266?maxResults=0&location=US&prettyPrint=false: Already Exists: Constraint primary key at [2:1]\n\nLocation: US\nJob ID: 3937f31b-e31d-469f-90e5-901259c1a266\n",
          "traceback": [
            "\u001b[0;31m---------------------------------------------------------------------------\u001b[0m",
            "\u001b[0;31mBadRequest\u001b[0m                                Traceback (most recent call last)",
            "\u001b[0;32m<ipython-input-124-1875244506>\u001b[0m in \u001b[0;36m<cell line: 0>\u001b[0;34m()\u001b[0m\n\u001b[1;32m     12\u001b[0m \u001b[0mALTER\u001b[0m \u001b[0mTABLE\u001b[0m\u001b[0;31m \u001b[0m\u001b[0;31m`\u001b[0m\u001b[0;34m{\u001b[0m\u001b[0mproject_id\u001b[0m\u001b[0;34m}\u001b[0m\u001b[0;34m.\u001b[0m\u001b[0;34m{\u001b[0m\u001b[0mdataset_id\u001b[0m\u001b[0;34m}\u001b[0m\u001b[0;34m.\u001b[0m\u001b[0mpenal_codes\u001b[0m\u001b[0;31m`\u001b[0m\u001b[0;34m\u001b[0m\u001b[0;34m\u001b[0m\u001b[0m\n\u001b[1;32m     13\u001b[0m   \u001b[0mADD\u001b[0m \u001b[0mPRIMARY\u001b[0m \u001b[0mKEY\u001b[0m \u001b[0;34m(\u001b[0m\u001b[0mPD_CD\u001b[0m\u001b[0;34m)\u001b[0m \u001b[0mNOT\u001b[0m \u001b[0mENFORCED\u001b[0m\u001b[0;34m;\u001b[0m\u001b[0;34m\u001b[0m\u001b[0;34m\u001b[0m\u001b[0m\n\u001b[0;32m---> 14\u001b[0;31m \"\"\").result()\n\u001b[0m\u001b[1;32m     15\u001b[0m \u001b[0;34m\u001b[0m\u001b[0m\n\u001b[1;32m     16\u001b[0m \u001b[0mprint\u001b[0m\u001b[0;34m(\u001b[0m\u001b[0;34m\"Primary Key added to tables.\"\u001b[0m\u001b[0;34m)\u001b[0m\u001b[0;34m\u001b[0m\u001b[0;34m\u001b[0m\u001b[0m\n",
            "\u001b[0;32m/usr/local/lib/python3.11/dist-packages/google/cloud/bigquery/job/query.py\u001b[0m in \u001b[0;36mresult\u001b[0;34m(self, page_size, max_results, retry, timeout, start_index, job_retry)\u001b[0m\n\u001b[1;32m   1694\u001b[0m                 \u001b[0;31m# Since is_job_done() calls jobs.getQueryResults, which is a\u001b[0m\u001b[0;34m\u001b[0m\u001b[0;34m\u001b[0m\u001b[0m\n\u001b[1;32m   1695\u001b[0m                 \u001b[0;31m# long-running API, don't delay the next request at all.\u001b[0m\u001b[0;34m\u001b[0m\u001b[0;34m\u001b[0m\u001b[0m\n\u001b[0;32m-> 1696\u001b[0;31m                 \u001b[0;32mwhile\u001b[0m \u001b[0;32mnot\u001b[0m \u001b[0mis_job_done\u001b[0m\u001b[0;34m(\u001b[0m\u001b[0;34m)\u001b[0m\u001b[0;34m:\u001b[0m\u001b[0;34m\u001b[0m\u001b[0;34m\u001b[0m\u001b[0m\n\u001b[0m\u001b[1;32m   1697\u001b[0m                     \u001b[0;32mpass\u001b[0m\u001b[0;34m\u001b[0m\u001b[0;34m\u001b[0m\u001b[0m\n\u001b[1;32m   1698\u001b[0m             \u001b[0;32melse\u001b[0m\u001b[0;34m:\u001b[0m\u001b[0;34m\u001b[0m\u001b[0;34m\u001b[0m\u001b[0m\n",
            "\u001b[0;32m/usr/local/lib/python3.11/dist-packages/google/api_core/retry/retry_unary.py\u001b[0m in \u001b[0;36mretry_wrapped_func\u001b[0;34m(*args, **kwargs)\u001b[0m\n\u001b[1;32m    292\u001b[0m                 \u001b[0mself\u001b[0m\u001b[0;34m.\u001b[0m\u001b[0m_initial\u001b[0m\u001b[0;34m,\u001b[0m \u001b[0mself\u001b[0m\u001b[0;34m.\u001b[0m\u001b[0m_maximum\u001b[0m\u001b[0;34m,\u001b[0m \u001b[0mmultiplier\u001b[0m\u001b[0;34m=\u001b[0m\u001b[0mself\u001b[0m\u001b[0;34m.\u001b[0m\u001b[0m_multiplier\u001b[0m\u001b[0;34m\u001b[0m\u001b[0;34m\u001b[0m\u001b[0m\n\u001b[1;32m    293\u001b[0m             )\n\u001b[0;32m--> 294\u001b[0;31m             return retry_target(\n\u001b[0m\u001b[1;32m    295\u001b[0m                 \u001b[0mtarget\u001b[0m\u001b[0;34m,\u001b[0m\u001b[0;34m\u001b[0m\u001b[0;34m\u001b[0m\u001b[0m\n\u001b[1;32m    296\u001b[0m                 \u001b[0mself\u001b[0m\u001b[0;34m.\u001b[0m\u001b[0m_predicate\u001b[0m\u001b[0;34m,\u001b[0m\u001b[0;34m\u001b[0m\u001b[0;34m\u001b[0m\u001b[0m\n",
            "\u001b[0;32m/usr/local/lib/python3.11/dist-packages/google/api_core/retry/retry_unary.py\u001b[0m in \u001b[0;36mretry_target\u001b[0;34m(target, predicate, sleep_generator, timeout, on_error, exception_factory, **kwargs)\u001b[0m\n\u001b[1;32m    154\u001b[0m         \u001b[0;32mexcept\u001b[0m \u001b[0mException\u001b[0m \u001b[0;32mas\u001b[0m \u001b[0mexc\u001b[0m\u001b[0;34m:\u001b[0m\u001b[0;34m\u001b[0m\u001b[0;34m\u001b[0m\u001b[0m\n\u001b[1;32m    155\u001b[0m             \u001b[0;31m# defer to shared logic for handling errors\u001b[0m\u001b[0;34m\u001b[0m\u001b[0;34m\u001b[0m\u001b[0m\n\u001b[0;32m--> 156\u001b[0;31m             next_sleep = _retry_error_helper(\n\u001b[0m\u001b[1;32m    157\u001b[0m                 \u001b[0mexc\u001b[0m\u001b[0;34m,\u001b[0m\u001b[0;34m\u001b[0m\u001b[0;34m\u001b[0m\u001b[0m\n\u001b[1;32m    158\u001b[0m                 \u001b[0mdeadline\u001b[0m\u001b[0;34m,\u001b[0m\u001b[0;34m\u001b[0m\u001b[0;34m\u001b[0m\u001b[0m\n",
            "\u001b[0;32m/usr/local/lib/python3.11/dist-packages/google/api_core/retry/retry_base.py\u001b[0m in \u001b[0;36m_retry_error_helper\u001b[0;34m(exc, deadline, sleep_iterator, error_list, predicate_fn, on_error_fn, exc_factory_fn, original_timeout)\u001b[0m\n\u001b[1;32m    212\u001b[0m             \u001b[0moriginal_timeout\u001b[0m\u001b[0;34m,\u001b[0m\u001b[0;34m\u001b[0m\u001b[0;34m\u001b[0m\u001b[0m\n\u001b[1;32m    213\u001b[0m         )\n\u001b[0;32m--> 214\u001b[0;31m         \u001b[0;32mraise\u001b[0m \u001b[0mfinal_exc\u001b[0m \u001b[0;32mfrom\u001b[0m \u001b[0msource_exc\u001b[0m\u001b[0;34m\u001b[0m\u001b[0;34m\u001b[0m\u001b[0m\n\u001b[0m\u001b[1;32m    215\u001b[0m     \u001b[0;32mif\u001b[0m \u001b[0mon_error_fn\u001b[0m \u001b[0;32mis\u001b[0m \u001b[0;32mnot\u001b[0m \u001b[0;32mNone\u001b[0m\u001b[0;34m:\u001b[0m\u001b[0;34m\u001b[0m\u001b[0;34m\u001b[0m\u001b[0m\n\u001b[1;32m    216\u001b[0m         \u001b[0mon_error_fn\u001b[0m\u001b[0;34m(\u001b[0m\u001b[0mexc\u001b[0m\u001b[0;34m)\u001b[0m\u001b[0;34m\u001b[0m\u001b[0;34m\u001b[0m\u001b[0m\n",
            "\u001b[0;32m/usr/local/lib/python3.11/dist-packages/google/api_core/retry/retry_unary.py\u001b[0m in \u001b[0;36mretry_target\u001b[0;34m(target, predicate, sleep_generator, timeout, on_error, exception_factory, **kwargs)\u001b[0m\n\u001b[1;32m    145\u001b[0m     \u001b[0;32mwhile\u001b[0m \u001b[0;32mTrue\u001b[0m\u001b[0;34m:\u001b[0m\u001b[0;34m\u001b[0m\u001b[0;34m\u001b[0m\u001b[0m\n\u001b[1;32m    146\u001b[0m         \u001b[0;32mtry\u001b[0m\u001b[0;34m:\u001b[0m\u001b[0;34m\u001b[0m\u001b[0;34m\u001b[0m\u001b[0m\n\u001b[0;32m--> 147\u001b[0;31m             \u001b[0mresult\u001b[0m \u001b[0;34m=\u001b[0m \u001b[0mtarget\u001b[0m\u001b[0;34m(\u001b[0m\u001b[0;34m)\u001b[0m\u001b[0;34m\u001b[0m\u001b[0;34m\u001b[0m\u001b[0m\n\u001b[0m\u001b[1;32m    148\u001b[0m             \u001b[0;32mif\u001b[0m \u001b[0minspect\u001b[0m\u001b[0;34m.\u001b[0m\u001b[0misawaitable\u001b[0m\u001b[0;34m(\u001b[0m\u001b[0mresult\u001b[0m\u001b[0;34m)\u001b[0m\u001b[0;34m:\u001b[0m\u001b[0;34m\u001b[0m\u001b[0;34m\u001b[0m\u001b[0m\n\u001b[1;32m    149\u001b[0m                 \u001b[0mwarnings\u001b[0m\u001b[0;34m.\u001b[0m\u001b[0mwarn\u001b[0m\u001b[0;34m(\u001b[0m\u001b[0m_ASYNC_RETRY_WARNING\u001b[0m\u001b[0;34m)\u001b[0m\u001b[0;34m\u001b[0m\u001b[0;34m\u001b[0m\u001b[0m\n",
            "\u001b[0;32m/usr/local/lib/python3.11/dist-packages/google/cloud/bigquery/job/query.py\u001b[0m in \u001b[0;36mis_job_done\u001b[0;34m()\u001b[0m\n\u001b[1;32m   1663\u001b[0m                 \u001b[0;31m# jobs.getQueryResults hangs as long as it can to ensure we\u001b[0m\u001b[0;34m\u001b[0m\u001b[0;34m\u001b[0m\u001b[0m\n\u001b[1;32m   1664\u001b[0m                 \u001b[0;31m# know when the query has finished as soon as possible.\u001b[0m\u001b[0;34m\u001b[0m\u001b[0;34m\u001b[0m\u001b[0m\n\u001b[0;32m-> 1665\u001b[0;31m                 \u001b[0mself\u001b[0m\u001b[0;34m.\u001b[0m\u001b[0m_reload_query_results\u001b[0m\u001b[0;34m(\u001b[0m\u001b[0mretry\u001b[0m\u001b[0;34m=\u001b[0m\u001b[0mretry\u001b[0m\u001b[0;34m,\u001b[0m \u001b[0;34m**\u001b[0m\u001b[0mreload_query_results_kwargs\u001b[0m\u001b[0;34m)\u001b[0m\u001b[0;34m\u001b[0m\u001b[0;34m\u001b[0m\u001b[0m\n\u001b[0m\u001b[1;32m   1666\u001b[0m \u001b[0;34m\u001b[0m\u001b[0m\n\u001b[1;32m   1667\u001b[0m                 \u001b[0;31m# Even if the query is finished now according to\u001b[0m\u001b[0;34m\u001b[0m\u001b[0;34m\u001b[0m\u001b[0m\n",
            "\u001b[0;32m/usr/local/lib/python3.11/dist-packages/google/cloud/bigquery/job/query.py\u001b[0m in \u001b[0;36m_reload_query_results\u001b[0;34m(self, retry, timeout, page_size)\u001b[0m\n\u001b[1;32m   1461\u001b[0m                 \u001b[0mtransport_timeout\u001b[0m \u001b[0;34m=\u001b[0m \u001b[0;32mNone\u001b[0m\u001b[0;34m\u001b[0m\u001b[0;34m\u001b[0m\u001b[0m\n\u001b[1;32m   1462\u001b[0m \u001b[0;34m\u001b[0m\u001b[0m\n\u001b[0;32m-> 1463\u001b[0;31m         self._query_results = self._client._get_query_results(\n\u001b[0m\u001b[1;32m   1464\u001b[0m             \u001b[0mself\u001b[0m\u001b[0;34m.\u001b[0m\u001b[0mjob_id\u001b[0m\u001b[0;34m,\u001b[0m\u001b[0;34m\u001b[0m\u001b[0;34m\u001b[0m\u001b[0m\n\u001b[1;32m   1465\u001b[0m             \u001b[0mretry\u001b[0m\u001b[0;34m,\u001b[0m\u001b[0;34m\u001b[0m\u001b[0;34m\u001b[0m\u001b[0m\n",
            "\u001b[0;32m/usr/local/lib/python3.11/dist-packages/google/cloud/bigquery/client.py\u001b[0m in \u001b[0;36m_get_query_results\u001b[0;34m(self, job_id, retry, project, timeout_ms, location, timeout, page_size)\u001b[0m\n\u001b[1;32m   2058\u001b[0m         \u001b[0;31m# QueryJob.result()). So we don't need to poll here.\u001b[0m\u001b[0;34m\u001b[0m\u001b[0;34m\u001b[0m\u001b[0m\n\u001b[1;32m   2059\u001b[0m         \u001b[0mspan_attributes\u001b[0m \u001b[0;34m=\u001b[0m \u001b[0;34m{\u001b[0m\u001b[0;34m\"path\"\u001b[0m\u001b[0;34m:\u001b[0m \u001b[0mpath\u001b[0m\u001b[0;34m}\u001b[0m\u001b[0;34m\u001b[0m\u001b[0;34m\u001b[0m\u001b[0m\n\u001b[0;32m-> 2060\u001b[0;31m         resource = self._call_api(\n\u001b[0m\u001b[1;32m   2061\u001b[0m             \u001b[0mretry\u001b[0m\u001b[0;34m,\u001b[0m\u001b[0;34m\u001b[0m\u001b[0;34m\u001b[0m\u001b[0m\n\u001b[1;32m   2062\u001b[0m             \u001b[0mspan_name\u001b[0m\u001b[0;34m=\u001b[0m\u001b[0;34m\"BigQuery.getQueryResults\"\u001b[0m\u001b[0;34m,\u001b[0m\u001b[0;34m\u001b[0m\u001b[0;34m\u001b[0m\u001b[0m\n",
            "\u001b[0;32m/usr/local/lib/python3.11/dist-packages/google/cloud/bigquery/client.py\u001b[0m in \u001b[0;36m_call_api\u001b[0;34m(self, retry, span_name, span_attributes, job_ref, headers, **kwargs)\u001b[0m\n\u001b[1;32m    856\u001b[0m                 \u001b[0mname\u001b[0m\u001b[0;34m=\u001b[0m\u001b[0mspan_name\u001b[0m\u001b[0;34m,\u001b[0m \u001b[0mattributes\u001b[0m\u001b[0;34m=\u001b[0m\u001b[0mspan_attributes\u001b[0m\u001b[0;34m,\u001b[0m \u001b[0mclient\u001b[0m\u001b[0;34m=\u001b[0m\u001b[0mself\u001b[0m\u001b[0;34m,\u001b[0m \u001b[0mjob_ref\u001b[0m\u001b[0;34m=\u001b[0m\u001b[0mjob_ref\u001b[0m\u001b[0;34m\u001b[0m\u001b[0;34m\u001b[0m\u001b[0m\n\u001b[1;32m    857\u001b[0m             ):\n\u001b[0;32m--> 858\u001b[0;31m                 \u001b[0;32mreturn\u001b[0m \u001b[0mcall\u001b[0m\u001b[0;34m(\u001b[0m\u001b[0;34m)\u001b[0m\u001b[0;34m\u001b[0m\u001b[0;34m\u001b[0m\u001b[0m\n\u001b[0m\u001b[1;32m    859\u001b[0m \u001b[0;34m\u001b[0m\u001b[0m\n\u001b[1;32m    860\u001b[0m         \u001b[0;32mreturn\u001b[0m \u001b[0mcall\u001b[0m\u001b[0;34m(\u001b[0m\u001b[0;34m)\u001b[0m\u001b[0;34m\u001b[0m\u001b[0;34m\u001b[0m\u001b[0m\n",
            "\u001b[0;32m/usr/local/lib/python3.11/dist-packages/google/api_core/retry/retry_unary.py\u001b[0m in \u001b[0;36mretry_wrapped_func\u001b[0;34m(*args, **kwargs)\u001b[0m\n\u001b[1;32m    292\u001b[0m                 \u001b[0mself\u001b[0m\u001b[0;34m.\u001b[0m\u001b[0m_initial\u001b[0m\u001b[0;34m,\u001b[0m \u001b[0mself\u001b[0m\u001b[0;34m.\u001b[0m\u001b[0m_maximum\u001b[0m\u001b[0;34m,\u001b[0m \u001b[0mmultiplier\u001b[0m\u001b[0;34m=\u001b[0m\u001b[0mself\u001b[0m\u001b[0;34m.\u001b[0m\u001b[0m_multiplier\u001b[0m\u001b[0;34m\u001b[0m\u001b[0;34m\u001b[0m\u001b[0m\n\u001b[1;32m    293\u001b[0m             )\n\u001b[0;32m--> 294\u001b[0;31m             return retry_target(\n\u001b[0m\u001b[1;32m    295\u001b[0m                 \u001b[0mtarget\u001b[0m\u001b[0;34m,\u001b[0m\u001b[0;34m\u001b[0m\u001b[0;34m\u001b[0m\u001b[0m\n\u001b[1;32m    296\u001b[0m                 \u001b[0mself\u001b[0m\u001b[0;34m.\u001b[0m\u001b[0m_predicate\u001b[0m\u001b[0;34m,\u001b[0m\u001b[0;34m\u001b[0m\u001b[0;34m\u001b[0m\u001b[0m\n",
            "\u001b[0;32m/usr/local/lib/python3.11/dist-packages/google/api_core/retry/retry_unary.py\u001b[0m in \u001b[0;36mretry_target\u001b[0;34m(target, predicate, sleep_generator, timeout, on_error, exception_factory, **kwargs)\u001b[0m\n\u001b[1;32m    154\u001b[0m         \u001b[0;32mexcept\u001b[0m \u001b[0mException\u001b[0m \u001b[0;32mas\u001b[0m \u001b[0mexc\u001b[0m\u001b[0;34m:\u001b[0m\u001b[0;34m\u001b[0m\u001b[0;34m\u001b[0m\u001b[0m\n\u001b[1;32m    155\u001b[0m             \u001b[0;31m# defer to shared logic for handling errors\u001b[0m\u001b[0;34m\u001b[0m\u001b[0;34m\u001b[0m\u001b[0m\n\u001b[0;32m--> 156\u001b[0;31m             next_sleep = _retry_error_helper(\n\u001b[0m\u001b[1;32m    157\u001b[0m                 \u001b[0mexc\u001b[0m\u001b[0;34m,\u001b[0m\u001b[0;34m\u001b[0m\u001b[0;34m\u001b[0m\u001b[0m\n\u001b[1;32m    158\u001b[0m                 \u001b[0mdeadline\u001b[0m\u001b[0;34m,\u001b[0m\u001b[0;34m\u001b[0m\u001b[0;34m\u001b[0m\u001b[0m\n",
            "\u001b[0;32m/usr/local/lib/python3.11/dist-packages/google/api_core/retry/retry_base.py\u001b[0m in \u001b[0;36m_retry_error_helper\u001b[0;34m(exc, deadline, sleep_iterator, error_list, predicate_fn, on_error_fn, exc_factory_fn, original_timeout)\u001b[0m\n\u001b[1;32m    212\u001b[0m             \u001b[0moriginal_timeout\u001b[0m\u001b[0;34m,\u001b[0m\u001b[0;34m\u001b[0m\u001b[0;34m\u001b[0m\u001b[0m\n\u001b[1;32m    213\u001b[0m         )\n\u001b[0;32m--> 214\u001b[0;31m         \u001b[0;32mraise\u001b[0m \u001b[0mfinal_exc\u001b[0m \u001b[0;32mfrom\u001b[0m \u001b[0msource_exc\u001b[0m\u001b[0;34m\u001b[0m\u001b[0;34m\u001b[0m\u001b[0m\n\u001b[0m\u001b[1;32m    215\u001b[0m     \u001b[0;32mif\u001b[0m \u001b[0mon_error_fn\u001b[0m \u001b[0;32mis\u001b[0m \u001b[0;32mnot\u001b[0m \u001b[0;32mNone\u001b[0m\u001b[0;34m:\u001b[0m\u001b[0;34m\u001b[0m\u001b[0;34m\u001b[0m\u001b[0m\n\u001b[1;32m    216\u001b[0m         \u001b[0mon_error_fn\u001b[0m\u001b[0;34m(\u001b[0m\u001b[0mexc\u001b[0m\u001b[0;34m)\u001b[0m\u001b[0;34m\u001b[0m\u001b[0;34m\u001b[0m\u001b[0m\n",
            "\u001b[0;32m/usr/local/lib/python3.11/dist-packages/google/api_core/retry/retry_unary.py\u001b[0m in \u001b[0;36mretry_target\u001b[0;34m(target, predicate, sleep_generator, timeout, on_error, exception_factory, **kwargs)\u001b[0m\n\u001b[1;32m    145\u001b[0m     \u001b[0;32mwhile\u001b[0m \u001b[0;32mTrue\u001b[0m\u001b[0;34m:\u001b[0m\u001b[0;34m\u001b[0m\u001b[0;34m\u001b[0m\u001b[0m\n\u001b[1;32m    146\u001b[0m         \u001b[0;32mtry\u001b[0m\u001b[0;34m:\u001b[0m\u001b[0;34m\u001b[0m\u001b[0;34m\u001b[0m\u001b[0m\n\u001b[0;32m--> 147\u001b[0;31m             \u001b[0mresult\u001b[0m \u001b[0;34m=\u001b[0m \u001b[0mtarget\u001b[0m\u001b[0;34m(\u001b[0m\u001b[0;34m)\u001b[0m\u001b[0;34m\u001b[0m\u001b[0;34m\u001b[0m\u001b[0m\n\u001b[0m\u001b[1;32m    148\u001b[0m             \u001b[0;32mif\u001b[0m \u001b[0minspect\u001b[0m\u001b[0;34m.\u001b[0m\u001b[0misawaitable\u001b[0m\u001b[0;34m(\u001b[0m\u001b[0mresult\u001b[0m\u001b[0;34m)\u001b[0m\u001b[0;34m:\u001b[0m\u001b[0;34m\u001b[0m\u001b[0;34m\u001b[0m\u001b[0m\n\u001b[1;32m    149\u001b[0m                 \u001b[0mwarnings\u001b[0m\u001b[0;34m.\u001b[0m\u001b[0mwarn\u001b[0m\u001b[0;34m(\u001b[0m\u001b[0m_ASYNC_RETRY_WARNING\u001b[0m\u001b[0;34m)\u001b[0m\u001b[0;34m\u001b[0m\u001b[0;34m\u001b[0m\u001b[0m\n",
            "\u001b[0;32m/usr/local/lib/python3.11/dist-packages/google/cloud/_http/__init__.py\u001b[0m in \u001b[0;36mapi_request\u001b[0;34m(self, method, path, query_params, data, content_type, headers, api_base_url, api_version, expect_json, _target_object, timeout, extra_api_info)\u001b[0m\n\u001b[1;32m    492\u001b[0m \u001b[0;34m\u001b[0m\u001b[0m\n\u001b[1;32m    493\u001b[0m         \u001b[0;32mif\u001b[0m \u001b[0;32mnot\u001b[0m \u001b[0;36m200\u001b[0m \u001b[0;34m<=\u001b[0m \u001b[0mresponse\u001b[0m\u001b[0;34m.\u001b[0m\u001b[0mstatus_code\u001b[0m \u001b[0;34m<\u001b[0m \u001b[0;36m300\u001b[0m\u001b[0;34m:\u001b[0m\u001b[0;34m\u001b[0m\u001b[0;34m\u001b[0m\u001b[0m\n\u001b[0;32m--> 494\u001b[0;31m             \u001b[0;32mraise\u001b[0m \u001b[0mexceptions\u001b[0m\u001b[0;34m.\u001b[0m\u001b[0mfrom_http_response\u001b[0m\u001b[0;34m(\u001b[0m\u001b[0mresponse\u001b[0m\u001b[0;34m)\u001b[0m\u001b[0;34m\u001b[0m\u001b[0;34m\u001b[0m\u001b[0m\n\u001b[0m\u001b[1;32m    495\u001b[0m \u001b[0;34m\u001b[0m\u001b[0m\n\u001b[1;32m    496\u001b[0m         \u001b[0;32mif\u001b[0m \u001b[0mexpect_json\u001b[0m \u001b[0;32mand\u001b[0m \u001b[0mresponse\u001b[0m\u001b[0;34m.\u001b[0m\u001b[0mcontent\u001b[0m\u001b[0;34m:\u001b[0m\u001b[0;34m\u001b[0m\u001b[0;34m\u001b[0m\u001b[0m\n",
            "\u001b[0;31mBadRequest\u001b[0m: 400 GET https://bigquery.googleapis.com/bigquery/v2/projects/nyu-datasets/queries/3937f31b-e31d-469f-90e5-901259c1a266?maxResults=0&location=US&prettyPrint=false: Already Exists: Constraint primary key at [2:1]\n\nLocation: US\nJob ID: 3937f31b-e31d-469f-90e5-901259c1a266\n"
          ]
        }
      ]
    },
    {
      "cell_type": "code",
      "source": [
        "# prompt: Add (non enforced) FOREIGN KEYS in the nypd table\n",
        "\n",
        "# Add (non enforced) FOREIGN KEY designations in the nypd table\n",
        "client.query(f\"\"\"\n",
        "ALTER TABLE `{project_id}.{dataset_id}.nypd`\n",
        "  ADD CONSTRAINT fk_nypd_offense_codes\n",
        "  FOREIGN KEY (KY_CD) REFERENCES `{project_id}.{dataset_id}.offense_codes` (KY_CD) NOT ENFORCED;\n",
        "\n",
        "ALTER TABLE `{project_id}.{dataset_id}.nypd`\n",
        "  ADD CONSTRAINT fk_nypd_penal_codes\n",
        "  FOREIGN KEY (PD_CD) REFERENCES `{project_id}.{dataset_id}.penal_codes` (PD_CD) NOT ENFORCED;\n",
        "\n",
        "ALTER TABLE `{project_id}.{dataset_id}.nypd`\n",
        "  ADD CONSTRAINT fk_nypd_jurisdiction_codes\n",
        "  FOREIGN KEY (JURISDICTION_CODE) REFERENCES `{project_id}.{dataset_id}.jurisdiction_codes` (JURISDICTION_CODE) NOT ENFORCED;\n",
        "\"\"\").result()\n",
        "\n",
        "print(\"Foreign Keys added to nypd table.\")\n"
      ],
      "metadata": {
        "id": "8xbeidepeo7H",
        "colab": {
          "base_uri": "https://localhost:8080/"
        },
        "outputId": "f1ec0cba-ccce-43da-c7cc-ca7c68957972"
      },
      "execution_count": 123,
      "outputs": [
        {
          "output_type": "stream",
          "name": "stdout",
          "text": [
            "Foreign Keys added to nypd table.\n"
          ]
        }
      ]
    },
    {
      "cell_type": "code",
      "source": [
        "client.query(f\"\"\"\n",
        "-- Add column descriptions to the pd_code_penal_law table\n",
        "ALTER TABLE `{project_id}.{dataset_id}.pd_code_penal_law`\n",
        "  ALTER COLUMN PDCODE_VALUE SET OPTIONS (description=\"Three digit internal classification code\"),\n",
        "  ALTER COLUMN CATEGORY SET OPTIONS (description=\"Description of internal classification corresponding with PD code\"),\n",
        "  ALTER COLUMN LAW_NYS SET OPTIONS (description=\"The specific section of NYS Penal Law that the code maps to\"),\n",
        "  ALTER COLUMN LIT_LONG SET OPTIONS (description=\"The section number within the Penal Law\"),\n",
        "  ALTER COLUMN LIT_SHORT SET OPTIONS (description=\"The subdivision within the Penal Law section\");\n",
        "\"\"\").result()"
      ],
      "metadata": {
        "id": "0xPdQE9Qb4D_",
        "colab": {
          "base_uri": "https://localhost:8080/"
        },
        "outputId": "7bb704dc-310b-4db0-f042-0fe189173444"
      },
      "execution_count": 122,
      "outputs": [
        {
          "output_type": "execute_result",
          "data": {
            "text/plain": [
              "<google.cloud.bigquery.table._EmptyRowIterator at 0x78465874c910>"
            ]
          },
          "metadata": {},
          "execution_count": 122
        }
      ]
    }
  ]
}