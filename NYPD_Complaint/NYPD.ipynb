{
  "nbformat": 4,
  "nbformat_minor": 0,
  "metadata": {
    "kernelspec": {
      "display_name": "Python 3",
      "language": "python",
      "name": "python3"
    },
    "language_info": {
      "codemirror_mode": {
        "name": "ipython",
        "version": 3
      },
      "file_extension": ".py",
      "mimetype": "text/x-python",
      "name": "python",
      "nbconvert_exporter": "python",
      "pygments_lexer": "ipython3",
      "version": "3.6.9"
    },
    "colab": {
      "name": "NYPD.ipynb",
      "provenance": [],
      "toc_visible": true,
      "machine_shape": "hm",
      "include_colab_link": true
    }
  },
  "cells": [
    {
      "cell_type": "markdown",
      "metadata": {
        "id": "view-in-github",
        "colab_type": "text"
      },
      "source": [
        "<a href=\"https://colab.research.google.com/github/ipeirotis-org/datasets/blob/main/NYPD_Complaint/NYPD.ipynb\" target=\"_parent\"><img src=\"https://colab.research.google.com/assets/colab-badge.svg\" alt=\"Open In Colab\"/></a>"
      ]
    },
    {
      "cell_type": "markdown",
      "metadata": {
        "id": "GOZM1miw5mmu"
      },
      "source": [
        "## NYPD Dataset\n",
        "\n",
        "Dataset description at\n",
        "https://data.cityofnewyork.us/Public-Safety/NYPD-Complaint-Data-Historic/qgea-i56i\n"
      ]
    },
    {
      "cell_type": "markdown",
      "metadata": {
        "id": "3E6Bimj_5mmy"
      },
      "source": [
        "\n",
        "| Column | Description |\n",
        "|--------|-------------------|\n",
        "| CMPLNT_NUM |  Randomly generated persistent ID for each complaint  |  \n",
        "| ADDR_PCT_CD |  The precinct in which the incident occurred |  \n",
        "| BORO |  The name of the borough in which the incident occurred |  \n",
        "| CMPLNT_FR_DT |  Exact date of occurrence for the reported event (or starting date of occurrence, if CMPLNT_TO_DT exists) |  \n",
        "| CMPLNT_FR_TM |  Exact time of occurrence for the reported event (or starting time of occurrence, if CMPLNT_TO_TM exists) |  \n",
        "| CMPLNT_TO_DT |  Ending date of occurrence for the reported event, if exact time of occurrence is unknown |  \n",
        "| CMPLNT_TO_TM |  Ending time of occurrence for the reported event, if exact time of occurrence is unknown |  \n",
        "| CRM_ATPT_CPTD_CD |  Indicator of whether crime was successfully completed or attempted, but failed or was interrupted prematurely |  \n",
        "| HADEVELOPT |  Name of NYCHA housing development of occurrence, if applicable |  \n",
        "| HOUSING_PSA |  Development Level Code |  \n",
        "| JURISDICTION_CODE |  Jurisdiction responsible for incident. Either internal, like Police(0), Transit(1), and Housing(2); or external(3), like Correction, Port Authority, etc. |  \n",
        "| JURIS_DESC |  Description of the jurisdiction code |  \n",
        "| KY_CD |  Three digit offense classification code |  \n",
        "| LAW_CAT_CD |  Level of offense: felony, misdemeanor, violation  |  \n",
        "| LOC_OF_OCCUR_DESC |  Specific location of occurrence in or around the premises; inside, opposite of, front of, rear of |  \n",
        "| OFNS_DESC |  Description of offense corresponding with key code |  \n",
        "| PARKS_NM |  Name of NYC park, playground or greenspace of occurrence, if applicable (state parks are not included) |  \n",
        "| PATROL_BORO |  The name of the patrol borough in which the incident occurred |  \n",
        "| PD_CD |  Three digit internal classification code (more granular than Key Code) |  \n",
        "| PD_DESC |  Description of internal classification corresponding with PD code (more granular than Offense Description) |  \n",
        "| PREM_TYP_DESC |  Specific description of premises; grocery store, residence, street, etc. |  \n",
        "| RPT_DT |  Date event was reported to police  |  \n",
        "| STATION_NAME |  Transit station name |  \n",
        "| SUSP_AGE_GROUP |  Suspect’s Age Group |  \n",
        "| SUSP_RACE |  Suspect’s Race Description |  \n",
        "| SUSP_SEX |  Suspect’s Sex Description |  \n",
        "| TRANSIT_DISTRICT |  Transit district in which the offense occurred. |  \n",
        "| VIC_AGE_GROUP |  Victim’s Age Group |  \n",
        "| VIC_RACE |  Victim’s Race Description |  \n",
        "| VIC_SEX |  Victim’s Sex Description |  \n",
        "| X_COORD_CD |  X-coordinate for New York State Plane Coordinate System, Long Island Zone, NAD 83, units feet (FIPS 3104) |  \n",
        "| Y_COORD_CD |  Y-coordinate for New York State Plane Coordinate System, Long Island Zone, NAD 83, units feet (FIPS 3104) |  \n",
        "| Latitude |  Midblock Latitude coordinate for Global Coordinate System, WGS 1984, decimal degrees (EPSG 4326)  |  \n",
        "| Longitude |  Midblock Longitude coordinate for Global Coordinate System, WGS 1984, decimal degrees (EPSG 4326) |\n"
      ]
    },
    {
      "cell_type": "code",
      "source": [
        "!pip install -q google-cloud-secret-manager\n",
        "\n",
        "from google.colab import auth\n",
        "auth.authenticate_user()\n",
        "\n",
        "from google.cloud import secretmanager\n",
        "\n",
        "def access_secret_version(project_id, secret_id, version_id):\n",
        "    \"\"\"\n",
        "    Access the payload of the given secret version and return it.\n",
        "\n",
        "    Args:\n",
        "        project_id (str): Google Cloud project ID.\n",
        "        secret_id (str): ID of the secret to access.\n",
        "        version_id (str): ID of the version to access.\n",
        "    Returns:\n",
        "        str: The secret version's payload, or None if\n",
        "        the version does not exist.\n",
        "    \"\"\"\n",
        "    client = secretmanager.SecretManagerServiceClient()\n",
        "    name = f\"projects/{project_id}/secrets/{secret_id}/versions/{version_id}\"\n",
        "    response = client.access_secret_version(request={\"name\": name})\n",
        "    return response.payload.data.decode(\"UTF-8\")\n",
        "\n",
        "\n",
        "mysql_pass = access_secret_version(\"nyu-datasets\", \"MYSQL_PASSWORD\", \"latest\")"
      ],
      "metadata": {
        "id": "6oZ_15cE7Aw7",
        "outputId": "da0a7fd0-4f18-4abe-c494-4b2ef87692c3",
        "colab": {
          "base_uri": "https://localhost:8080/"
        }
      },
      "execution_count": 1,
      "outputs": [
        {
          "output_type": "stream",
          "name": "stdout",
          "text": [
            "\u001b[?25l   \u001b[90m━━━━━━━━━━━━━━━━━━━━━━━━━━━━━━━━━━━━━━━━\u001b[0m \u001b[32m0.0/218.1 kB\u001b[0m \u001b[31m?\u001b[0m eta \u001b[36m-:--:--\u001b[0m\r\u001b[2K   \u001b[91m━━━━━━━━━━━━━━━━━━━━\u001b[0m\u001b[91m╸\u001b[0m\u001b[90m━━━━━━━━━━━━━━━━━━━\u001b[0m \u001b[32m112.6/218.1 kB\u001b[0m \u001b[31m3.8 MB/s\u001b[0m eta \u001b[36m0:00:01\u001b[0m\r\u001b[2K   \u001b[91m━━━━━━━━━━━━━━━━━━━━━━━━━━━━━━━━━━━━━━━\u001b[0m\u001b[90m╺\u001b[0m \u001b[32m215.0/218.1 kB\u001b[0m \u001b[31m5.3 MB/s\u001b[0m eta \u001b[36m0:00:01\u001b[0m\r\u001b[2K   \u001b[90m━━━━━━━━━━━━━━━━━━━━━━━━━━━━━━━━━━━━━━━━\u001b[0m \u001b[32m218.1/218.1 kB\u001b[0m \u001b[31m2.2 MB/s\u001b[0m eta \u001b[36m0:00:00\u001b[0m\n",
            "\u001b[?25h"
          ]
        }
      ]
    },
    {
      "cell_type": "code",
      "metadata": {
        "id": "04SFECct5mm0"
      },
      "source": [
        "import pandas as pd\n",
        "import numpy as np"
      ],
      "execution_count": 2,
      "outputs": []
    },
    {
      "cell_type": "code",
      "metadata": {
        "id": "-XiIq4vd5mm1",
        "colab": {
          "base_uri": "https://localhost:8080/"
        },
        "outputId": "6969bd9a-7658-4d11-b55b-7c5391b65e11"
      },
      "source": [
        "# We load everything as an object/string, because some data types (e.g., some IDs)\n",
        "# are recognized as decimals, and it is a mess to restore them back\n",
        "# So we will do all the conversions ourselves later on\n",
        "\n",
        "# From https://data.cityofnewyork.us/Public-Safety/NYPD-Complaint-Data-Historic/qgea-i56i/data\n",
        "!curl 'https://data.cityofnewyork.us/api/views/qgea-i56i/rows.csv?accessType=DOWNLOAD' -o nypd.csv\n"
      ],
      "execution_count": 3,
      "outputs": [
        {
          "output_type": "stream",
          "name": "stdout",
          "text": [
            "  % Total    % Received % Xferd  Average Speed   Time    Time     Time  Current\n",
            "                                 Dload  Upload   Total   Spent    Left  Speed\n",
            "100 3079M    0 3079M    0     0  4794k      0 --:--:--  0:10:57 --:--:-- 4871k\n"
          ]
        }
      ]
    },
    {
      "cell_type": "code",
      "metadata": {
        "id": "tOdfVrSVw5fz",
        "colab": {
          "base_uri": "https://localhost:8080/"
        },
        "outputId": "1d740594-3bfd-4ce5-9dff-2ab5557230d4"
      },
      "source": [
        "%%time\n",
        "df = pd.read_csv('nypd.csv', low_memory = True, dtype='object')"
      ],
      "execution_count": 201,
      "outputs": [
        {
          "output_type": "stream",
          "name": "stdout",
          "text": [
            "CPU times: user 1min 31s, sys: 27.4 s, total: 1min 59s\n",
            "Wall time: 1min 49s\n"
          ]
        }
      ]
    },
    {
      "cell_type": "code",
      "metadata": {
        "id": "VNdvd4kY5mm1",
        "outputId": "6401cc96-5b3b-4313-efcf-dcf1554509b0",
        "colab": {
          "base_uri": "https://localhost:8080/"
        }
      },
      "source": [
        "len(df)"
      ],
      "execution_count": 202,
      "outputs": [
        {
          "output_type": "execute_result",
          "data": {
            "text/plain": [
              "9491946"
            ]
          },
          "metadata": {},
          "execution_count": 202
        }
      ]
    },
    {
      "cell_type": "code",
      "source": [
        "df = df.replace(to_replace = '(null)', value=np.nan)"
      ],
      "metadata": {
        "id": "8FQ9XtgLl2AD"
      },
      "execution_count": 203,
      "outputs": []
    },
    {
      "cell_type": "code",
      "source": [
        "df = df.replace(to_replace = 'UNKNOWN', value=np.nan)"
      ],
      "metadata": {
        "id": "AA1tQdI8k9pq"
      },
      "execution_count": 204,
      "outputs": []
    },
    {
      "cell_type": "code",
      "metadata": {
        "id": "LEnqUtmb5mm3",
        "colab": {
          "base_uri": "https://localhost:8080/"
        },
        "outputId": "c57f7ea7-a9ee-4a14-c3be-ef729ca40cff"
      },
      "source": [
        "df.info()"
      ],
      "execution_count": 205,
      "outputs": [
        {
          "output_type": "stream",
          "name": "stdout",
          "text": [
            "<class 'pandas.core.frame.DataFrame'>\n",
            "RangeIndex: 9491946 entries, 0 to 9491945\n",
            "Data columns (total 35 columns):\n",
            " #   Column             Dtype \n",
            "---  ------             ----- \n",
            " 0   CMPLNT_NUM         object\n",
            " 1   CMPLNT_FR_DT       object\n",
            " 2   CMPLNT_FR_TM       object\n",
            " 3   CMPLNT_TO_DT       object\n",
            " 4   CMPLNT_TO_TM       object\n",
            " 5   ADDR_PCT_CD        object\n",
            " 6   RPT_DT             object\n",
            " 7   KY_CD              object\n",
            " 8   OFNS_DESC          object\n",
            " 9   PD_CD              object\n",
            " 10  PD_DESC            object\n",
            " 11  CRM_ATPT_CPTD_CD   object\n",
            " 12  LAW_CAT_CD         object\n",
            " 13  BORO_NM            object\n",
            " 14  LOC_OF_OCCUR_DESC  object\n",
            " 15  PREM_TYP_DESC      object\n",
            " 16  JURIS_DESC         object\n",
            " 17  JURISDICTION_CODE  object\n",
            " 18  PARKS_NM           object\n",
            " 19  HADEVELOPT         object\n",
            " 20  HOUSING_PSA        object\n",
            " 21  X_COORD_CD         object\n",
            " 22  Y_COORD_CD         object\n",
            " 23  SUSP_AGE_GROUP     object\n",
            " 24  SUSP_RACE          object\n",
            " 25  SUSP_SEX           object\n",
            " 26  TRANSIT_DISTRICT   object\n",
            " 27  Latitude           object\n",
            " 28  Longitude          object\n",
            " 29  Lat_Lon            object\n",
            " 30  PATROL_BORO        object\n",
            " 31  STATION_NAME       object\n",
            " 32  VIC_AGE_GROUP      object\n",
            " 33  VIC_RACE           object\n",
            " 34  VIC_SEX            object\n",
            "dtypes: object(35)\n",
            "memory usage: 2.5+ GB\n"
          ]
        }
      ]
    },
    {
      "cell_type": "markdown",
      "metadata": {
        "id": "iom7bUxU5mm4"
      },
      "source": [
        "## Data Cleaning"
      ]
    },
    {
      "cell_type": "code",
      "metadata": {
        "id": "_7AjsFKk_8O0"
      },
      "source": [
        "# These columns are redundant\n",
        "to_drop = ['Lat_Lon','X_COORD_CD','Y_COORD_CD']\n",
        "\n",
        "# We have the longitude and latitude so the other coordinates are not needed\n",
        "df = df.drop(to_drop, axis='columns')"
      ],
      "execution_count": 206,
      "outputs": []
    },
    {
      "cell_type": "markdown",
      "metadata": {
        "id": "cneciJ0ychcz"
      },
      "source": [
        "###  CMPLNT_NUM         object   "
      ]
    },
    {
      "cell_type": "code",
      "source": [
        "before = len(df)\n",
        "\n",
        "# Remove any non-numeric characters from the CMPLNT_NUM attribute\n",
        "df['CMPLNT_NUM'] = df['CMPLNT_NUM'].str.replace(r'\\D', '', regex=True)\n",
        "\n",
        "df['CMPLNT_NUM'] = pd.to_numeric(df['CMPLNT_NUM'], errors=\"coerce\")\n",
        "df['CMPLNT_NUM'] = np.abs(df['CMPLNT_NUM'].astype('int32'))\n",
        "\n",
        "df = df[~df['CMPLNT_NUM'].isna()]\n",
        "# Drop cases with duplicated complaint numbers\n",
        "key_cnt = df['CMPLNT_NUM'].value_counts()\n",
        "key_cnt [ key_cnt>1 ]\n",
        "df = df[ ~df['CMPLNT_NUM'].isin( key_cnt [ key_cnt>1 ].index.values ) ]\n",
        "\n",
        "after = len(df)\n",
        "print(f'Removed {before - after} rows')"
      ],
      "metadata": {
        "id": "KZTxemglnQn5",
        "colab": {
          "base_uri": "https://localhost:8080/"
        },
        "outputId": "93575912-1042-486e-cec6-e31d873ee1d7"
      },
      "execution_count": 207,
      "outputs": [
        {
          "output_type": "stream",
          "name": "stdout",
          "text": [
            "Removed 2246 rows\n"
          ]
        }
      ]
    },
    {
      "cell_type": "markdown",
      "metadata": {
        "id": "FHn3_6rjcj0t"
      },
      "source": [
        "### CMPLNT_FR_DT       object\n",
        "### CMPLNT_FR_TM       object\n",
        "### CMPLNT_TO_DT       object\n",
        "### CMPLNT_TO_TM       object"
      ]
    },
    {
      "cell_type": "code",
      "source": [
        "# CMPLNT_FR_DT_mask = df.CMPLNT_FR_DT.str.match(r'(\\d\\d)/(\\d\\d)/10(\\d\\d)', na=False)\n",
        "\n",
        "# CMPLNT_TO_DT_mask = df.CMPLNT_TO_DT.str.match(r'(\\d\\d)/(\\d\\d)/10(\\d\\d)', na=False)\n",
        "\n",
        "# df[CMPLNT_TO_DT_mask]"
      ],
      "metadata": {
        "id": "3ZWfv2vWmNoE",
        "outputId": "3144b9ba-caf3-493b-9cfd-84bd154ae65d",
        "colab": {
          "base_uri": "https://localhost:8080/",
          "height": 561
        }
      },
      "execution_count": 186,
      "outputs": [
        {
          "output_type": "execute_result",
          "data": {
            "text/plain": [
              "         CMPLNT_NUM CMPLNT_FR_DT CMPLNT_FR_TM CMPLNT_TO_DT CMPLNT_TO_TM  \\\n",
              "4291950   170300670   10/10/2017     15:30:00   09/28/1017          NaN   \n",
              "4662866   172812947   12/08/1017     12:00:00   12/08/1017     12:30:00   \n",
              "4789336   188736598   09/28/1018     12:46:00   09/28/1018     12:56:00   \n",
              "5888082   219765984   10/27/2020     09:40:00   10/15/1010          NaN   \n",
              "7093917   271099041   06/28/1023     19:04:00   06/28/1023     19:15:00   \n",
              "7115480   274775227   08/29/1023     12:15:00   08/29/1023     12:19:00   \n",
              "9438812   295964434   11/05/2024     13:00:00   10/24/1024          NaN   \n",
              "\n",
              "        ADDR_PCT_CD      RPT_DT KY_CD                       OFNS_DESC PD_CD  \\\n",
              "4291950           1  10/11/2017   126         MISCELLANEOUS PENAL LAW   204   \n",
              "4662866          81  12/20/2017   578                   HARRASSMENT 2   638   \n",
              "4789336           1  10/13/2018   126         MISCELLANEOUS PENAL LAW   644   \n",
              "5888082          26  10/27/2020   578                   HARRASSMENT 2   638   \n",
              "7093917          72  07/10/2023   578                   HARRASSMENT 2   637   \n",
              "7115480          72  09/21/2023   121  CRIMINAL MISCHIEF & RELATED OF   269   \n",
              "9438812          48  11/05/2024   109                   GRAND LARCENY   414   \n",
              "\n",
              "         ...       SUSP_RACE SUSP_SEX TRANSIT_DISTRICT     Latitude  \\\n",
              "4291950  ...             NaN      NaN              NaN  40.71448787   \n",
              "4662866  ...           BLACK        M              NaN    40.686534   \n",
              "4789336  ...             NaN      NaN              NaN    40.703815   \n",
              "5888082  ...  BLACK HISPANIC        M              NaN    40.814367   \n",
              "7093917  ...  WHITE HISPANIC        M              NaN    40.643706   \n",
              "7115480  ...           BLACK        F              NaN    40.655237   \n",
              "9438812  ...             NaN        U              NaN      40.8466   \n",
              "\n",
              "            Longitude              PATROL_BORO STATION_NAME VIC_AGE_GROUP  \\\n",
              "4291950  -74.01358485    PATROL BORO MAN SOUTH          NaN           NaN   \n",
              "4662866    -73.928285  PATROL BORO BKLYN NORTH          NaN         45-64   \n",
              "4789336    -74.013151    PATROL BORO MAN SOUTH          NaN           NaN   \n",
              "5888082    -73.957138    PATROL BORO MAN NORTH          NaN         45-64   \n",
              "7093917    -74.011775  PATROL BORO BKLYN SOUTH          NaN           NaN   \n",
              "7115480    -74.006726  PATROL BORO BKLYN SOUTH          NaN         25-44   \n",
              "9438812    -73.887884        PATROL BORO BRONX          NaN           65+   \n",
              "\n",
              "               VIC_RACE VIC_SEX  \n",
              "4291950             NaN       D  \n",
              "4662866           BLACK       F  \n",
              "4789336             NaN       E  \n",
              "5888082  WHITE HISPANIC       F  \n",
              "7093917             NaN       F  \n",
              "7115480           BLACK       F  \n",
              "9438812           BLACK       M  \n",
              "\n",
              "[7 rows x 32 columns]"
            ],
            "text/html": [
              "\n",
              "  <div id=\"df-8d55b198-ab07-451d-8347-8ec552302714\" class=\"colab-df-container\">\n",
              "    <div>\n",
              "<style scoped>\n",
              "    .dataframe tbody tr th:only-of-type {\n",
              "        vertical-align: middle;\n",
              "    }\n",
              "\n",
              "    .dataframe tbody tr th {\n",
              "        vertical-align: top;\n",
              "    }\n",
              "\n",
              "    .dataframe thead th {\n",
              "        text-align: right;\n",
              "    }\n",
              "</style>\n",
              "<table border=\"1\" class=\"dataframe\">\n",
              "  <thead>\n",
              "    <tr style=\"text-align: right;\">\n",
              "      <th></th>\n",
              "      <th>CMPLNT_NUM</th>\n",
              "      <th>CMPLNT_FR_DT</th>\n",
              "      <th>CMPLNT_FR_TM</th>\n",
              "      <th>CMPLNT_TO_DT</th>\n",
              "      <th>CMPLNT_TO_TM</th>\n",
              "      <th>ADDR_PCT_CD</th>\n",
              "      <th>RPT_DT</th>\n",
              "      <th>KY_CD</th>\n",
              "      <th>OFNS_DESC</th>\n",
              "      <th>PD_CD</th>\n",
              "      <th>...</th>\n",
              "      <th>SUSP_RACE</th>\n",
              "      <th>SUSP_SEX</th>\n",
              "      <th>TRANSIT_DISTRICT</th>\n",
              "      <th>Latitude</th>\n",
              "      <th>Longitude</th>\n",
              "      <th>PATROL_BORO</th>\n",
              "      <th>STATION_NAME</th>\n",
              "      <th>VIC_AGE_GROUP</th>\n",
              "      <th>VIC_RACE</th>\n",
              "      <th>VIC_SEX</th>\n",
              "    </tr>\n",
              "  </thead>\n",
              "  <tbody>\n",
              "    <tr>\n",
              "      <th>4291950</th>\n",
              "      <td>170300670</td>\n",
              "      <td>10/10/2017</td>\n",
              "      <td>15:30:00</td>\n",
              "      <td>09/28/1017</td>\n",
              "      <td>NaN</td>\n",
              "      <td>1</td>\n",
              "      <td>10/11/2017</td>\n",
              "      <td>126</td>\n",
              "      <td>MISCELLANEOUS PENAL LAW</td>\n",
              "      <td>204</td>\n",
              "      <td>...</td>\n",
              "      <td>NaN</td>\n",
              "      <td>NaN</td>\n",
              "      <td>NaN</td>\n",
              "      <td>40.71448787</td>\n",
              "      <td>-74.01358485</td>\n",
              "      <td>PATROL BORO MAN SOUTH</td>\n",
              "      <td>NaN</td>\n",
              "      <td>NaN</td>\n",
              "      <td>NaN</td>\n",
              "      <td>D</td>\n",
              "    </tr>\n",
              "    <tr>\n",
              "      <th>4662866</th>\n",
              "      <td>172812947</td>\n",
              "      <td>12/08/1017</td>\n",
              "      <td>12:00:00</td>\n",
              "      <td>12/08/1017</td>\n",
              "      <td>12:30:00</td>\n",
              "      <td>81</td>\n",
              "      <td>12/20/2017</td>\n",
              "      <td>578</td>\n",
              "      <td>HARRASSMENT 2</td>\n",
              "      <td>638</td>\n",
              "      <td>...</td>\n",
              "      <td>BLACK</td>\n",
              "      <td>M</td>\n",
              "      <td>NaN</td>\n",
              "      <td>40.686534</td>\n",
              "      <td>-73.928285</td>\n",
              "      <td>PATROL BORO BKLYN NORTH</td>\n",
              "      <td>NaN</td>\n",
              "      <td>45-64</td>\n",
              "      <td>BLACK</td>\n",
              "      <td>F</td>\n",
              "    </tr>\n",
              "    <tr>\n",
              "      <th>4789336</th>\n",
              "      <td>188736598</td>\n",
              "      <td>09/28/1018</td>\n",
              "      <td>12:46:00</td>\n",
              "      <td>09/28/1018</td>\n",
              "      <td>12:56:00</td>\n",
              "      <td>1</td>\n",
              "      <td>10/13/2018</td>\n",
              "      <td>126</td>\n",
              "      <td>MISCELLANEOUS PENAL LAW</td>\n",
              "      <td>644</td>\n",
              "      <td>...</td>\n",
              "      <td>NaN</td>\n",
              "      <td>NaN</td>\n",
              "      <td>NaN</td>\n",
              "      <td>40.703815</td>\n",
              "      <td>-74.013151</td>\n",
              "      <td>PATROL BORO MAN SOUTH</td>\n",
              "      <td>NaN</td>\n",
              "      <td>NaN</td>\n",
              "      <td>NaN</td>\n",
              "      <td>E</td>\n",
              "    </tr>\n",
              "    <tr>\n",
              "      <th>5888082</th>\n",
              "      <td>219765984</td>\n",
              "      <td>10/27/2020</td>\n",
              "      <td>09:40:00</td>\n",
              "      <td>10/15/1010</td>\n",
              "      <td>NaN</td>\n",
              "      <td>26</td>\n",
              "      <td>10/27/2020</td>\n",
              "      <td>578</td>\n",
              "      <td>HARRASSMENT 2</td>\n",
              "      <td>638</td>\n",
              "      <td>...</td>\n",
              "      <td>BLACK HISPANIC</td>\n",
              "      <td>M</td>\n",
              "      <td>NaN</td>\n",
              "      <td>40.814367</td>\n",
              "      <td>-73.957138</td>\n",
              "      <td>PATROL BORO MAN NORTH</td>\n",
              "      <td>NaN</td>\n",
              "      <td>45-64</td>\n",
              "      <td>WHITE HISPANIC</td>\n",
              "      <td>F</td>\n",
              "    </tr>\n",
              "    <tr>\n",
              "      <th>7093917</th>\n",
              "      <td>271099041</td>\n",
              "      <td>06/28/1023</td>\n",
              "      <td>19:04:00</td>\n",
              "      <td>06/28/1023</td>\n",
              "      <td>19:15:00</td>\n",
              "      <td>72</td>\n",
              "      <td>07/10/2023</td>\n",
              "      <td>578</td>\n",
              "      <td>HARRASSMENT 2</td>\n",
              "      <td>637</td>\n",
              "      <td>...</td>\n",
              "      <td>WHITE HISPANIC</td>\n",
              "      <td>M</td>\n",
              "      <td>NaN</td>\n",
              "      <td>40.643706</td>\n",
              "      <td>-74.011775</td>\n",
              "      <td>PATROL BORO BKLYN SOUTH</td>\n",
              "      <td>NaN</td>\n",
              "      <td>NaN</td>\n",
              "      <td>NaN</td>\n",
              "      <td>F</td>\n",
              "    </tr>\n",
              "    <tr>\n",
              "      <th>7115480</th>\n",
              "      <td>274775227</td>\n",
              "      <td>08/29/1023</td>\n",
              "      <td>12:15:00</td>\n",
              "      <td>08/29/1023</td>\n",
              "      <td>12:19:00</td>\n",
              "      <td>72</td>\n",
              "      <td>09/21/2023</td>\n",
              "      <td>121</td>\n",
              "      <td>CRIMINAL MISCHIEF &amp; RELATED OF</td>\n",
              "      <td>269</td>\n",
              "      <td>...</td>\n",
              "      <td>BLACK</td>\n",
              "      <td>F</td>\n",
              "      <td>NaN</td>\n",
              "      <td>40.655237</td>\n",
              "      <td>-74.006726</td>\n",
              "      <td>PATROL BORO BKLYN SOUTH</td>\n",
              "      <td>NaN</td>\n",
              "      <td>25-44</td>\n",
              "      <td>BLACK</td>\n",
              "      <td>F</td>\n",
              "    </tr>\n",
              "    <tr>\n",
              "      <th>9438812</th>\n",
              "      <td>295964434</td>\n",
              "      <td>11/05/2024</td>\n",
              "      <td>13:00:00</td>\n",
              "      <td>10/24/1024</td>\n",
              "      <td>NaN</td>\n",
              "      <td>48</td>\n",
              "      <td>11/05/2024</td>\n",
              "      <td>109</td>\n",
              "      <td>GRAND LARCENY</td>\n",
              "      <td>414</td>\n",
              "      <td>...</td>\n",
              "      <td>NaN</td>\n",
              "      <td>U</td>\n",
              "      <td>NaN</td>\n",
              "      <td>40.8466</td>\n",
              "      <td>-73.887884</td>\n",
              "      <td>PATROL BORO BRONX</td>\n",
              "      <td>NaN</td>\n",
              "      <td>65+</td>\n",
              "      <td>BLACK</td>\n",
              "      <td>M</td>\n",
              "    </tr>\n",
              "  </tbody>\n",
              "</table>\n",
              "<p>7 rows × 32 columns</p>\n",
              "</div>\n",
              "    <div class=\"colab-df-buttons\">\n",
              "\n",
              "  <div class=\"colab-df-container\">\n",
              "    <button class=\"colab-df-convert\" onclick=\"convertToInteractive('df-8d55b198-ab07-451d-8347-8ec552302714')\"\n",
              "            title=\"Convert this dataframe to an interactive table.\"\n",
              "            style=\"display:none;\">\n",
              "\n",
              "  <svg xmlns=\"http://www.w3.org/2000/svg\" height=\"24px\" viewBox=\"0 -960 960 960\">\n",
              "    <path d=\"M120-120v-720h720v720H120Zm60-500h600v-160H180v160Zm220 220h160v-160H400v160Zm0 220h160v-160H400v160ZM180-400h160v-160H180v160Zm440 0h160v-160H620v160ZM180-180h160v-160H180v160Zm440 0h160v-160H620v160Z\"/>\n",
              "  </svg>\n",
              "    </button>\n",
              "\n",
              "  <style>\n",
              "    .colab-df-container {\n",
              "      display:flex;\n",
              "      gap: 12px;\n",
              "    }\n",
              "\n",
              "    .colab-df-convert {\n",
              "      background-color: #E8F0FE;\n",
              "      border: none;\n",
              "      border-radius: 50%;\n",
              "      cursor: pointer;\n",
              "      display: none;\n",
              "      fill: #1967D2;\n",
              "      height: 32px;\n",
              "      padding: 0 0 0 0;\n",
              "      width: 32px;\n",
              "    }\n",
              "\n",
              "    .colab-df-convert:hover {\n",
              "      background-color: #E2EBFA;\n",
              "      box-shadow: 0px 1px 2px rgba(60, 64, 67, 0.3), 0px 1px 3px 1px rgba(60, 64, 67, 0.15);\n",
              "      fill: #174EA6;\n",
              "    }\n",
              "\n",
              "    .colab-df-buttons div {\n",
              "      margin-bottom: 4px;\n",
              "    }\n",
              "\n",
              "    [theme=dark] .colab-df-convert {\n",
              "      background-color: #3B4455;\n",
              "      fill: #D2E3FC;\n",
              "    }\n",
              "\n",
              "    [theme=dark] .colab-df-convert:hover {\n",
              "      background-color: #434B5C;\n",
              "      box-shadow: 0px 1px 3px 1px rgba(0, 0, 0, 0.15);\n",
              "      filter: drop-shadow(0px 1px 2px rgba(0, 0, 0, 0.3));\n",
              "      fill: #FFFFFF;\n",
              "    }\n",
              "  </style>\n",
              "\n",
              "    <script>\n",
              "      const buttonEl =\n",
              "        document.querySelector('#df-8d55b198-ab07-451d-8347-8ec552302714 button.colab-df-convert');\n",
              "      buttonEl.style.display =\n",
              "        google.colab.kernel.accessAllowed ? 'block' : 'none';\n",
              "\n",
              "      async function convertToInteractive(key) {\n",
              "        const element = document.querySelector('#df-8d55b198-ab07-451d-8347-8ec552302714');\n",
              "        const dataTable =\n",
              "          await google.colab.kernel.invokeFunction('convertToInteractive',\n",
              "                                                    [key], {});\n",
              "        if (!dataTable) return;\n",
              "\n",
              "        const docLinkHtml = 'Like what you see? Visit the ' +\n",
              "          '<a target=\"_blank\" href=https://colab.research.google.com/notebooks/data_table.ipynb>data table notebook</a>'\n",
              "          + ' to learn more about interactive tables.';\n",
              "        element.innerHTML = '';\n",
              "        dataTable['output_type'] = 'display_data';\n",
              "        await google.colab.output.renderOutput(dataTable, element);\n",
              "        const docLink = document.createElement('div');\n",
              "        docLink.innerHTML = docLinkHtml;\n",
              "        element.appendChild(docLink);\n",
              "      }\n",
              "    </script>\n",
              "  </div>\n",
              "\n",
              "\n",
              "    <div id=\"df-fc84e493-7c50-4100-90d2-8dce312bdc45\">\n",
              "      <button class=\"colab-df-quickchart\" onclick=\"quickchart('df-fc84e493-7c50-4100-90d2-8dce312bdc45')\"\n",
              "                title=\"Suggest charts\"\n",
              "                style=\"display:none;\">\n",
              "\n",
              "<svg xmlns=\"http://www.w3.org/2000/svg\" height=\"24px\"viewBox=\"0 0 24 24\"\n",
              "     width=\"24px\">\n",
              "    <g>\n",
              "        <path d=\"M19 3H5c-1.1 0-2 .9-2 2v14c0 1.1.9 2 2 2h14c1.1 0 2-.9 2-2V5c0-1.1-.9-2-2-2zM9 17H7v-7h2v7zm4 0h-2V7h2v10zm4 0h-2v-4h2v4z\"/>\n",
              "    </g>\n",
              "</svg>\n",
              "      </button>\n",
              "\n",
              "<style>\n",
              "  .colab-df-quickchart {\n",
              "      --bg-color: #E8F0FE;\n",
              "      --fill-color: #1967D2;\n",
              "      --hover-bg-color: #E2EBFA;\n",
              "      --hover-fill-color: #174EA6;\n",
              "      --disabled-fill-color: #AAA;\n",
              "      --disabled-bg-color: #DDD;\n",
              "  }\n",
              "\n",
              "  [theme=dark] .colab-df-quickchart {\n",
              "      --bg-color: #3B4455;\n",
              "      --fill-color: #D2E3FC;\n",
              "      --hover-bg-color: #434B5C;\n",
              "      --hover-fill-color: #FFFFFF;\n",
              "      --disabled-bg-color: #3B4455;\n",
              "      --disabled-fill-color: #666;\n",
              "  }\n",
              "\n",
              "  .colab-df-quickchart {\n",
              "    background-color: var(--bg-color);\n",
              "    border: none;\n",
              "    border-radius: 50%;\n",
              "    cursor: pointer;\n",
              "    display: none;\n",
              "    fill: var(--fill-color);\n",
              "    height: 32px;\n",
              "    padding: 0;\n",
              "    width: 32px;\n",
              "  }\n",
              "\n",
              "  .colab-df-quickchart:hover {\n",
              "    background-color: var(--hover-bg-color);\n",
              "    box-shadow: 0 1px 2px rgba(60, 64, 67, 0.3), 0 1px 3px 1px rgba(60, 64, 67, 0.15);\n",
              "    fill: var(--button-hover-fill-color);\n",
              "  }\n",
              "\n",
              "  .colab-df-quickchart-complete:disabled,\n",
              "  .colab-df-quickchart-complete:disabled:hover {\n",
              "    background-color: var(--disabled-bg-color);\n",
              "    fill: var(--disabled-fill-color);\n",
              "    box-shadow: none;\n",
              "  }\n",
              "\n",
              "  .colab-df-spinner {\n",
              "    border: 2px solid var(--fill-color);\n",
              "    border-color: transparent;\n",
              "    border-bottom-color: var(--fill-color);\n",
              "    animation:\n",
              "      spin 1s steps(1) infinite;\n",
              "  }\n",
              "\n",
              "  @keyframes spin {\n",
              "    0% {\n",
              "      border-color: transparent;\n",
              "      border-bottom-color: var(--fill-color);\n",
              "      border-left-color: var(--fill-color);\n",
              "    }\n",
              "    20% {\n",
              "      border-color: transparent;\n",
              "      border-left-color: var(--fill-color);\n",
              "      border-top-color: var(--fill-color);\n",
              "    }\n",
              "    30% {\n",
              "      border-color: transparent;\n",
              "      border-left-color: var(--fill-color);\n",
              "      border-top-color: var(--fill-color);\n",
              "      border-right-color: var(--fill-color);\n",
              "    }\n",
              "    40% {\n",
              "      border-color: transparent;\n",
              "      border-right-color: var(--fill-color);\n",
              "      border-top-color: var(--fill-color);\n",
              "    }\n",
              "    60% {\n",
              "      border-color: transparent;\n",
              "      border-right-color: var(--fill-color);\n",
              "    }\n",
              "    80% {\n",
              "      border-color: transparent;\n",
              "      border-right-color: var(--fill-color);\n",
              "      border-bottom-color: var(--fill-color);\n",
              "    }\n",
              "    90% {\n",
              "      border-color: transparent;\n",
              "      border-bottom-color: var(--fill-color);\n",
              "    }\n",
              "  }\n",
              "</style>\n",
              "\n",
              "      <script>\n",
              "        async function quickchart(key) {\n",
              "          const quickchartButtonEl =\n",
              "            document.querySelector('#' + key + ' button');\n",
              "          quickchartButtonEl.disabled = true;  // To prevent multiple clicks.\n",
              "          quickchartButtonEl.classList.add('colab-df-spinner');\n",
              "          try {\n",
              "            const charts = await google.colab.kernel.invokeFunction(\n",
              "                'suggestCharts', [key], {});\n",
              "          } catch (error) {\n",
              "            console.error('Error during call to suggestCharts:', error);\n",
              "          }\n",
              "          quickchartButtonEl.classList.remove('colab-df-spinner');\n",
              "          quickchartButtonEl.classList.add('colab-df-quickchart-complete');\n",
              "        }\n",
              "        (() => {\n",
              "          let quickchartButtonEl =\n",
              "            document.querySelector('#df-fc84e493-7c50-4100-90d2-8dce312bdc45 button');\n",
              "          quickchartButtonEl.style.display =\n",
              "            google.colab.kernel.accessAllowed ? 'block' : 'none';\n",
              "        })();\n",
              "      </script>\n",
              "    </div>\n",
              "\n",
              "    </div>\n",
              "  </div>\n"
            ],
            "application/vnd.google.colaboratory.intrinsic+json": {
              "type": "dataframe"
            }
          },
          "metadata": {},
          "execution_count": 186
        }
      ]
    },
    {
      "cell_type": "code",
      "metadata": {
        "id": "f2F3vSC_5mm5"
      },
      "source": [
        "# There are a few rows that contain year 1015, 1016, ... that trigger an error during date conversion\n",
        "# We replace all years written as 10XX with 20XX\n",
        "# Note the usage of regular expressions\n",
        "df.CMPLNT_FR_DT = df.CMPLNT_FR_DT.replace(to_replace = '(\\d\\d)/(\\d\\d)/10(\\d\\d)', value=r'\\1/\\2/20\\3', regex=True )\n",
        "df.CMPLNT_TO_DT = df.CMPLNT_TO_DT.replace(to_replace = '(\\d\\d)/(\\d\\d)/10(\\d\\d)', value=r'\\1/\\2/20\\3', regex=True )\n",
        "\n",
        "# Similarly, a few hours are written as 24:00:00, which also triggers errors.\n",
        "# We fix these hours\n",
        "df.CMPLNT_FR_TM = df.CMPLNT_FR_TM.replace(to_replace = '24:00:00', value='00:00:00')\n",
        "df.CMPLNT_FR_TM = df.CMPLNT_TO_TM.replace(to_replace = '24:00:00', value='00:00:00')\n",
        "\n",
        "# Convert the two separate date and time columns into single datetime columns\n",
        "df['CMPLNT_FR'] = pd.to_datetime(df.CMPLNT_FR_DT + ' ' + df.CMPLNT_FR_TM, format='%m/%d/%Y %H:%M:%S', cache=True, errors=\"coerce\")\n",
        "df['CMPLNT_TO'] = pd.to_datetime(df.CMPLNT_TO_DT + ' ' + df.CMPLNT_TO_TM, format='%m/%d/%Y %H:%M:%S', cache=True, errors=\"coerce\")\n",
        "\n",
        "# We created the CMPLNT_FR and CMPLNT_TO columns, these columns are redundant\n",
        "to_drop = ['CMPLNT_FR_DT','CMPLNT_TO_DT','CMPLNT_FR_TM','CMPLNT_TO_TM']\n",
        "df = df.drop(to_drop, axis='columns')"
      ],
      "execution_count": 208,
      "outputs": []
    },
    {
      "cell_type": "code",
      "source": [
        "len(df)"
      ],
      "metadata": {
        "id": "pDHkQGIuom6P",
        "outputId": "0f946af3-a5a8-4e38-bcb2-e469e020cd95",
        "colab": {
          "base_uri": "https://localhost:8080/"
        }
      },
      "execution_count": 209,
      "outputs": [
        {
          "output_type": "execute_result",
          "data": {
            "text/plain": [
              "9489700"
            ]
          },
          "metadata": {},
          "execution_count": 209
        }
      ]
    },
    {
      "cell_type": "code",
      "metadata": {
        "id": "W75-d3hf5mm6",
        "colab": {
          "base_uri": "https://localhost:8080/"
        },
        "outputId": "5d6a965a-8ed1-4492-d3b9-a951b4e77f32"
      },
      "source": [
        "df.CMPLNT_FR.isnull().sum()"
      ],
      "execution_count": 210,
      "outputs": [
        {
          "output_type": "execute_result",
          "data": {
            "text/plain": [
              "np.int64(1842340)"
            ]
          },
          "metadata": {},
          "execution_count": 210
        }
      ]
    },
    {
      "cell_type": "code",
      "metadata": {
        "id": "y_L6v8D-5mm6",
        "colab": {
          "base_uri": "https://localhost:8080/"
        },
        "outputId": "cc1f808e-7040-46b2-e3ce-d2f395f49257"
      },
      "source": [
        "df.CMPLNT_TO.isnull().sum()"
      ],
      "execution_count": 211,
      "outputs": [
        {
          "output_type": "execute_result",
          "data": {
            "text/plain": [
              "np.int64(1849305)"
            ]
          },
          "metadata": {},
          "execution_count": 211
        }
      ]
    },
    {
      "cell_type": "code",
      "metadata": {
        "id": "Wew9yE3KEU4h",
        "colab": {
          "base_uri": "https://localhost:8080/"
        },
        "outputId": "75b0c4a4-f0da-4978-fc74-d6f50b940ea9"
      },
      "source": [
        "before = len(df)\n",
        "# df = df [ ~df.CMPLNT_FR.isnull() ]\n",
        "after = len(df)\n",
        "print(f'Removed {before - after} rows')"
      ],
      "execution_count": 212,
      "outputs": [
        {
          "output_type": "stream",
          "name": "stdout",
          "text": [
            "Removed 0 rows\n"
          ]
        }
      ]
    },
    {
      "cell_type": "code",
      "source": [
        "len(df)"
      ],
      "metadata": {
        "id": "9yqOo6XPoxsa",
        "outputId": "7e75021a-9546-4553-ea07-71871fe96f05",
        "colab": {
          "base_uri": "https://localhost:8080/"
        }
      },
      "execution_count": 213,
      "outputs": [
        {
          "output_type": "execute_result",
          "data": {
            "text/plain": [
              "9489700"
            ]
          },
          "metadata": {},
          "execution_count": 213
        }
      ]
    },
    {
      "cell_type": "markdown",
      "metadata": {
        "id": "9LWq_gxRcn5X"
      },
      "source": [
        "###  ADDR_PCT_CD        object"
      ]
    },
    {
      "cell_type": "code",
      "metadata": {
        "id": "icQPQRXI_S0s"
      },
      "source": [
        "df.ADDR_PCT_CD = df.ADDR_PCT_CD.replace(to_replace = '-99', value='99')\n",
        "# df = df [ ~df.ADDR_PCT_CD.isnull() ]\n",
        "df.ADDR_PCT_CD = pd.Categorical(df.ADDR_PCT_CD)"
      ],
      "execution_count": 214,
      "outputs": []
    },
    {
      "cell_type": "markdown",
      "metadata": {
        "id": "jJy7ffBvcpUT"
      },
      "source": [
        "###  RPT_DT             object"
      ]
    },
    {
      "cell_type": "code",
      "metadata": {
        "id": "vSDFSmV__YsE"
      },
      "source": [
        "# Convert RPT_DT to date\n",
        "df.RPT_DT = pd.to_datetime(df.RPT_DT, format=\"%m/%d/%Y\", cache=True)"
      ],
      "execution_count": 215,
      "outputs": []
    },
    {
      "cell_type": "code",
      "source": [],
      "metadata": {
        "id": "OKKuuaoaldaH"
      },
      "execution_count": 20,
      "outputs": []
    },
    {
      "cell_type": "markdown",
      "metadata": {
        "id": "PMJyvnercqxR"
      },
      "source": [
        "###   KY_CD  &  OFNS_DESC"
      ]
    },
    {
      "cell_type": "code",
      "source": [
        "df.KY_CD.value_counts()"
      ],
      "metadata": {
        "id": "e6wNzscym0X-",
        "outputId": "644a41e1-cad8-49d8-8b9e-ba31d251f716",
        "colab": {
          "base_uri": "https://localhost:8080/",
          "height": 489
        }
      },
      "execution_count": 216,
      "outputs": [
        {
          "output_type": "execute_result",
          "data": {
            "text/plain": [
              "KY_CD\n",
              "341    1666565\n",
              "578    1272983\n",
              "344     998253\n",
              "109     831594\n",
              "351     732786\n",
              "        ...   \n",
              "460         16\n",
              "357         15\n",
              "123          7\n",
              "362          5\n",
              "577          3\n",
              "Name: count, Length: 75, dtype: int64"
            ],
            "text/html": [
              "<div>\n",
              "<style scoped>\n",
              "    .dataframe tbody tr th:only-of-type {\n",
              "        vertical-align: middle;\n",
              "    }\n",
              "\n",
              "    .dataframe tbody tr th {\n",
              "        vertical-align: top;\n",
              "    }\n",
              "\n",
              "    .dataframe thead th {\n",
              "        text-align: right;\n",
              "    }\n",
              "</style>\n",
              "<table border=\"1\" class=\"dataframe\">\n",
              "  <thead>\n",
              "    <tr style=\"text-align: right;\">\n",
              "      <th></th>\n",
              "      <th>count</th>\n",
              "    </tr>\n",
              "    <tr>\n",
              "      <th>KY_CD</th>\n",
              "      <th></th>\n",
              "    </tr>\n",
              "  </thead>\n",
              "  <tbody>\n",
              "    <tr>\n",
              "      <th>341</th>\n",
              "      <td>1666565</td>\n",
              "    </tr>\n",
              "    <tr>\n",
              "      <th>578</th>\n",
              "      <td>1272983</td>\n",
              "    </tr>\n",
              "    <tr>\n",
              "      <th>344</th>\n",
              "      <td>998253</td>\n",
              "    </tr>\n",
              "    <tr>\n",
              "      <th>109</th>\n",
              "      <td>831594</td>\n",
              "    </tr>\n",
              "    <tr>\n",
              "      <th>351</th>\n",
              "      <td>732786</td>\n",
              "    </tr>\n",
              "    <tr>\n",
              "      <th>...</th>\n",
              "      <td>...</td>\n",
              "    </tr>\n",
              "    <tr>\n",
              "      <th>460</th>\n",
              "      <td>16</td>\n",
              "    </tr>\n",
              "    <tr>\n",
              "      <th>357</th>\n",
              "      <td>15</td>\n",
              "    </tr>\n",
              "    <tr>\n",
              "      <th>123</th>\n",
              "      <td>7</td>\n",
              "    </tr>\n",
              "    <tr>\n",
              "      <th>362</th>\n",
              "      <td>5</td>\n",
              "    </tr>\n",
              "    <tr>\n",
              "      <th>577</th>\n",
              "      <td>3</td>\n",
              "    </tr>\n",
              "  </tbody>\n",
              "</table>\n",
              "<p>75 rows × 1 columns</p>\n",
              "</div><br><label><b>dtype:</b> int64</label>"
            ]
          },
          "metadata": {},
          "execution_count": 216
        }
      ]
    },
    {
      "cell_type": "code",
      "metadata": {
        "id": "hqgAxM-F5mm7",
        "colab": {
          "base_uri": "https://localhost:8080/",
          "height": 423
        },
        "outputId": "97572f29-b460-4cbe-f167-407b3708c241"
      },
      "source": [
        "df.OFNS_DESC = df.OFNS_DESC.replace(to_replace = 'KIDNAPPING', value='KIDNAPPING & RELATED OFFENSES')\n",
        "df.OFNS_DESC = df.OFNS_DESC.replace(to_replace = 'KIDNAPPING AND RELATED OFFENSES', value='KIDNAPPING & RELATED OFFENSES')\n",
        "df.OFNS_DESC = df.OFNS_DESC.replace(to_replace = 'AGRICULTURE & MRKTS LAW-UNCLASSIFIED', value='OTHER STATE LAWS (NON PENAL LAW)')\n",
        "df.OFNS_DESC = df.OFNS_DESC.replace(to_replace = 'OTHER STATE LAWS (NON PENAL LA', value='OTHER STATE LAWS (NON PENAL LAW)')\n",
        "df.OFNS_DESC = df.OFNS_DESC.replace(to_replace = 'ENDAN WELFARE INCOMP', value='OFFENSES RELATED TO CHILDREN')\n",
        "df.OFNS_DESC = df.OFNS_DESC.replace(to_replace = 'THEFT OF SERVICES', value='OTHER OFFENSES RELATED TO THEF')\n",
        "df.OFNS_DESC = df.OFNS_DESC.replace(to_replace = 'NYS LAWS-UNCLASSIFIED VIOLATION', value='OTHER STATE LAWS')\n",
        "df.OFNS_DESC = df.OFNS_DESC.replace(to_replace = 'FELONY SEX CRIMES', value='SEX CRIMES')\n",
        "\n",
        "df.loc[df.KY_CD=='120','OFNS_DESC'] ='CHILD ABANDONMENT/NON SUPPORT'\n",
        "df.loc[df.KY_CD=='125','OFNS_DESC'] ='NYS LAWS-UNCLASSIFIED FELONY'\n",
        "\n",
        "offenses = df[ [\"KY_CD\", \"OFNS_DESC\"] ].drop_duplicates().dropna()\n",
        "offenses['KY_CD'] = pd.Categorical(pd.to_numeric(offenses['KY_CD'] ).astype(int))\n",
        "offenses = offenses.set_index(\"KY_CD\")\n",
        "offenses = offenses.sort_index()\n",
        "offenses = offenses.reset_index()\n",
        "display(offenses)\n"
      ],
      "execution_count": 217,
      "outputs": [
        {
          "output_type": "display_data",
          "data": {
            "text/plain": [
              "   KY_CD                        OFNS_DESC\n",
              "0    101  MURDER & NON-NEGL. MANSLAUGHTER\n",
              "1    102       HOMICIDE-NEGLIGENT-VEHICLE\n",
              "2    103   HOMICIDE-NEGLIGENT,UNCLASSIFIE\n",
              "3    104                             RAPE\n",
              "4    105                          ROBBERY\n",
              "..   ...                              ...\n",
              "71   676        NEW YORK CITY HEALTH CODE\n",
              "72   677                 OTHER STATE LAWS\n",
              "73   678          MISCELLANEOUS PENAL LAW\n",
              "74   685             ADMINISTRATIVE CODES\n",
              "75   881         OTHER TRAFFIC INFRACTION\n",
              "\n",
              "[76 rows x 2 columns]"
            ],
            "text/html": [
              "\n",
              "  <div id=\"df-e6a504e6-9d6f-4116-9ead-92b656612809\" class=\"colab-df-container\">\n",
              "    <div>\n",
              "<style scoped>\n",
              "    .dataframe tbody tr th:only-of-type {\n",
              "        vertical-align: middle;\n",
              "    }\n",
              "\n",
              "    .dataframe tbody tr th {\n",
              "        vertical-align: top;\n",
              "    }\n",
              "\n",
              "    .dataframe thead th {\n",
              "        text-align: right;\n",
              "    }\n",
              "</style>\n",
              "<table border=\"1\" class=\"dataframe\">\n",
              "  <thead>\n",
              "    <tr style=\"text-align: right;\">\n",
              "      <th></th>\n",
              "      <th>KY_CD</th>\n",
              "      <th>OFNS_DESC</th>\n",
              "    </tr>\n",
              "  </thead>\n",
              "  <tbody>\n",
              "    <tr>\n",
              "      <th>0</th>\n",
              "      <td>101</td>\n",
              "      <td>MURDER &amp; NON-NEGL. MANSLAUGHTER</td>\n",
              "    </tr>\n",
              "    <tr>\n",
              "      <th>1</th>\n",
              "      <td>102</td>\n",
              "      <td>HOMICIDE-NEGLIGENT-VEHICLE</td>\n",
              "    </tr>\n",
              "    <tr>\n",
              "      <th>2</th>\n",
              "      <td>103</td>\n",
              "      <td>HOMICIDE-NEGLIGENT,UNCLASSIFIE</td>\n",
              "    </tr>\n",
              "    <tr>\n",
              "      <th>3</th>\n",
              "      <td>104</td>\n",
              "      <td>RAPE</td>\n",
              "    </tr>\n",
              "    <tr>\n",
              "      <th>4</th>\n",
              "      <td>105</td>\n",
              "      <td>ROBBERY</td>\n",
              "    </tr>\n",
              "    <tr>\n",
              "      <th>...</th>\n",
              "      <td>...</td>\n",
              "      <td>...</td>\n",
              "    </tr>\n",
              "    <tr>\n",
              "      <th>71</th>\n",
              "      <td>676</td>\n",
              "      <td>NEW YORK CITY HEALTH CODE</td>\n",
              "    </tr>\n",
              "    <tr>\n",
              "      <th>72</th>\n",
              "      <td>677</td>\n",
              "      <td>OTHER STATE LAWS</td>\n",
              "    </tr>\n",
              "    <tr>\n",
              "      <th>73</th>\n",
              "      <td>678</td>\n",
              "      <td>MISCELLANEOUS PENAL LAW</td>\n",
              "    </tr>\n",
              "    <tr>\n",
              "      <th>74</th>\n",
              "      <td>685</td>\n",
              "      <td>ADMINISTRATIVE CODES</td>\n",
              "    </tr>\n",
              "    <tr>\n",
              "      <th>75</th>\n",
              "      <td>881</td>\n",
              "      <td>OTHER TRAFFIC INFRACTION</td>\n",
              "    </tr>\n",
              "  </tbody>\n",
              "</table>\n",
              "<p>76 rows × 2 columns</p>\n",
              "</div>\n",
              "    <div class=\"colab-df-buttons\">\n",
              "\n",
              "  <div class=\"colab-df-container\">\n",
              "    <button class=\"colab-df-convert\" onclick=\"convertToInteractive('df-e6a504e6-9d6f-4116-9ead-92b656612809')\"\n",
              "            title=\"Convert this dataframe to an interactive table.\"\n",
              "            style=\"display:none;\">\n",
              "\n",
              "  <svg xmlns=\"http://www.w3.org/2000/svg\" height=\"24px\" viewBox=\"0 -960 960 960\">\n",
              "    <path d=\"M120-120v-720h720v720H120Zm60-500h600v-160H180v160Zm220 220h160v-160H400v160Zm0 220h160v-160H400v160ZM180-400h160v-160H180v160Zm440 0h160v-160H620v160ZM180-180h160v-160H180v160Zm440 0h160v-160H620v160Z\"/>\n",
              "  </svg>\n",
              "    </button>\n",
              "\n",
              "  <style>\n",
              "    .colab-df-container {\n",
              "      display:flex;\n",
              "      gap: 12px;\n",
              "    }\n",
              "\n",
              "    .colab-df-convert {\n",
              "      background-color: #E8F0FE;\n",
              "      border: none;\n",
              "      border-radius: 50%;\n",
              "      cursor: pointer;\n",
              "      display: none;\n",
              "      fill: #1967D2;\n",
              "      height: 32px;\n",
              "      padding: 0 0 0 0;\n",
              "      width: 32px;\n",
              "    }\n",
              "\n",
              "    .colab-df-convert:hover {\n",
              "      background-color: #E2EBFA;\n",
              "      box-shadow: 0px 1px 2px rgba(60, 64, 67, 0.3), 0px 1px 3px 1px rgba(60, 64, 67, 0.15);\n",
              "      fill: #174EA6;\n",
              "    }\n",
              "\n",
              "    .colab-df-buttons div {\n",
              "      margin-bottom: 4px;\n",
              "    }\n",
              "\n",
              "    [theme=dark] .colab-df-convert {\n",
              "      background-color: #3B4455;\n",
              "      fill: #D2E3FC;\n",
              "    }\n",
              "\n",
              "    [theme=dark] .colab-df-convert:hover {\n",
              "      background-color: #434B5C;\n",
              "      box-shadow: 0px 1px 3px 1px rgba(0, 0, 0, 0.15);\n",
              "      filter: drop-shadow(0px 1px 2px rgba(0, 0, 0, 0.3));\n",
              "      fill: #FFFFFF;\n",
              "    }\n",
              "  </style>\n",
              "\n",
              "    <script>\n",
              "      const buttonEl =\n",
              "        document.querySelector('#df-e6a504e6-9d6f-4116-9ead-92b656612809 button.colab-df-convert');\n",
              "      buttonEl.style.display =\n",
              "        google.colab.kernel.accessAllowed ? 'block' : 'none';\n",
              "\n",
              "      async function convertToInteractive(key) {\n",
              "        const element = document.querySelector('#df-e6a504e6-9d6f-4116-9ead-92b656612809');\n",
              "        const dataTable =\n",
              "          await google.colab.kernel.invokeFunction('convertToInteractive',\n",
              "                                                    [key], {});\n",
              "        if (!dataTable) return;\n",
              "\n",
              "        const docLinkHtml = 'Like what you see? Visit the ' +\n",
              "          '<a target=\"_blank\" href=https://colab.research.google.com/notebooks/data_table.ipynb>data table notebook</a>'\n",
              "          + ' to learn more about interactive tables.';\n",
              "        element.innerHTML = '';\n",
              "        dataTable['output_type'] = 'display_data';\n",
              "        await google.colab.output.renderOutput(dataTable, element);\n",
              "        const docLink = document.createElement('div');\n",
              "        docLink.innerHTML = docLinkHtml;\n",
              "        element.appendChild(docLink);\n",
              "      }\n",
              "    </script>\n",
              "  </div>\n",
              "\n",
              "\n",
              "    <div id=\"df-4139ee54-5abb-4e6d-8d9e-cd2197b1a722\">\n",
              "      <button class=\"colab-df-quickchart\" onclick=\"quickchart('df-4139ee54-5abb-4e6d-8d9e-cd2197b1a722')\"\n",
              "                title=\"Suggest charts\"\n",
              "                style=\"display:none;\">\n",
              "\n",
              "<svg xmlns=\"http://www.w3.org/2000/svg\" height=\"24px\"viewBox=\"0 0 24 24\"\n",
              "     width=\"24px\">\n",
              "    <g>\n",
              "        <path d=\"M19 3H5c-1.1 0-2 .9-2 2v14c0 1.1.9 2 2 2h14c1.1 0 2-.9 2-2V5c0-1.1-.9-2-2-2zM9 17H7v-7h2v7zm4 0h-2V7h2v10zm4 0h-2v-4h2v4z\"/>\n",
              "    </g>\n",
              "</svg>\n",
              "      </button>\n",
              "\n",
              "<style>\n",
              "  .colab-df-quickchart {\n",
              "      --bg-color: #E8F0FE;\n",
              "      --fill-color: #1967D2;\n",
              "      --hover-bg-color: #E2EBFA;\n",
              "      --hover-fill-color: #174EA6;\n",
              "      --disabled-fill-color: #AAA;\n",
              "      --disabled-bg-color: #DDD;\n",
              "  }\n",
              "\n",
              "  [theme=dark] .colab-df-quickchart {\n",
              "      --bg-color: #3B4455;\n",
              "      --fill-color: #D2E3FC;\n",
              "      --hover-bg-color: #434B5C;\n",
              "      --hover-fill-color: #FFFFFF;\n",
              "      --disabled-bg-color: #3B4455;\n",
              "      --disabled-fill-color: #666;\n",
              "  }\n",
              "\n",
              "  .colab-df-quickchart {\n",
              "    background-color: var(--bg-color);\n",
              "    border: none;\n",
              "    border-radius: 50%;\n",
              "    cursor: pointer;\n",
              "    display: none;\n",
              "    fill: var(--fill-color);\n",
              "    height: 32px;\n",
              "    padding: 0;\n",
              "    width: 32px;\n",
              "  }\n",
              "\n",
              "  .colab-df-quickchart:hover {\n",
              "    background-color: var(--hover-bg-color);\n",
              "    box-shadow: 0 1px 2px rgba(60, 64, 67, 0.3), 0 1px 3px 1px rgba(60, 64, 67, 0.15);\n",
              "    fill: var(--button-hover-fill-color);\n",
              "  }\n",
              "\n",
              "  .colab-df-quickchart-complete:disabled,\n",
              "  .colab-df-quickchart-complete:disabled:hover {\n",
              "    background-color: var(--disabled-bg-color);\n",
              "    fill: var(--disabled-fill-color);\n",
              "    box-shadow: none;\n",
              "  }\n",
              "\n",
              "  .colab-df-spinner {\n",
              "    border: 2px solid var(--fill-color);\n",
              "    border-color: transparent;\n",
              "    border-bottom-color: var(--fill-color);\n",
              "    animation:\n",
              "      spin 1s steps(1) infinite;\n",
              "  }\n",
              "\n",
              "  @keyframes spin {\n",
              "    0% {\n",
              "      border-color: transparent;\n",
              "      border-bottom-color: var(--fill-color);\n",
              "      border-left-color: var(--fill-color);\n",
              "    }\n",
              "    20% {\n",
              "      border-color: transparent;\n",
              "      border-left-color: var(--fill-color);\n",
              "      border-top-color: var(--fill-color);\n",
              "    }\n",
              "    30% {\n",
              "      border-color: transparent;\n",
              "      border-left-color: var(--fill-color);\n",
              "      border-top-color: var(--fill-color);\n",
              "      border-right-color: var(--fill-color);\n",
              "    }\n",
              "    40% {\n",
              "      border-color: transparent;\n",
              "      border-right-color: var(--fill-color);\n",
              "      border-top-color: var(--fill-color);\n",
              "    }\n",
              "    60% {\n",
              "      border-color: transparent;\n",
              "      border-right-color: var(--fill-color);\n",
              "    }\n",
              "    80% {\n",
              "      border-color: transparent;\n",
              "      border-right-color: var(--fill-color);\n",
              "      border-bottom-color: var(--fill-color);\n",
              "    }\n",
              "    90% {\n",
              "      border-color: transparent;\n",
              "      border-bottom-color: var(--fill-color);\n",
              "    }\n",
              "  }\n",
              "</style>\n",
              "\n",
              "      <script>\n",
              "        async function quickchart(key) {\n",
              "          const quickchartButtonEl =\n",
              "            document.querySelector('#' + key + ' button');\n",
              "          quickchartButtonEl.disabled = true;  // To prevent multiple clicks.\n",
              "          quickchartButtonEl.classList.add('colab-df-spinner');\n",
              "          try {\n",
              "            const charts = await google.colab.kernel.invokeFunction(\n",
              "                'suggestCharts', [key], {});\n",
              "          } catch (error) {\n",
              "            console.error('Error during call to suggestCharts:', error);\n",
              "          }\n",
              "          quickchartButtonEl.classList.remove('colab-df-spinner');\n",
              "          quickchartButtonEl.classList.add('colab-df-quickchart-complete');\n",
              "        }\n",
              "        (() => {\n",
              "          let quickchartButtonEl =\n",
              "            document.querySelector('#df-4139ee54-5abb-4e6d-8d9e-cd2197b1a722 button');\n",
              "          quickchartButtonEl.style.display =\n",
              "            google.colab.kernel.accessAllowed ? 'block' : 'none';\n",
              "        })();\n",
              "      </script>\n",
              "    </div>\n",
              "\n",
              "  <div id=\"id_afd55281-b71d-4fd2-95e7-657a7881be25\">\n",
              "    <style>\n",
              "      .colab-df-generate {\n",
              "        background-color: #E8F0FE;\n",
              "        border: none;\n",
              "        border-radius: 50%;\n",
              "        cursor: pointer;\n",
              "        display: none;\n",
              "        fill: #1967D2;\n",
              "        height: 32px;\n",
              "        padding: 0 0 0 0;\n",
              "        width: 32px;\n",
              "      }\n",
              "\n",
              "      .colab-df-generate:hover {\n",
              "        background-color: #E2EBFA;\n",
              "        box-shadow: 0px 1px 2px rgba(60, 64, 67, 0.3), 0px 1px 3px 1px rgba(60, 64, 67, 0.15);\n",
              "        fill: #174EA6;\n",
              "      }\n",
              "\n",
              "      [theme=dark] .colab-df-generate {\n",
              "        background-color: #3B4455;\n",
              "        fill: #D2E3FC;\n",
              "      }\n",
              "\n",
              "      [theme=dark] .colab-df-generate:hover {\n",
              "        background-color: #434B5C;\n",
              "        box-shadow: 0px 1px 3px 1px rgba(0, 0, 0, 0.15);\n",
              "        filter: drop-shadow(0px 1px 2px rgba(0, 0, 0, 0.3));\n",
              "        fill: #FFFFFF;\n",
              "      }\n",
              "    </style>\n",
              "    <button class=\"colab-df-generate\" onclick=\"generateWithVariable('offenses')\"\n",
              "            title=\"Generate code using this dataframe.\"\n",
              "            style=\"display:none;\">\n",
              "\n",
              "  <svg xmlns=\"http://www.w3.org/2000/svg\" height=\"24px\"viewBox=\"0 0 24 24\"\n",
              "       width=\"24px\">\n",
              "    <path d=\"M7,19H8.4L18.45,9,17,7.55,7,17.6ZM5,21V16.75L18.45,3.32a2,2,0,0,1,2.83,0l1.4,1.43a1.91,1.91,0,0,1,.58,1.4,1.91,1.91,0,0,1-.58,1.4L9.25,21ZM18.45,9,17,7.55Zm-12,3A5.31,5.31,0,0,0,4.9,8.1,5.31,5.31,0,0,0,1,6.5,5.31,5.31,0,0,0,4.9,4.9,5.31,5.31,0,0,0,6.5,1,5.31,5.31,0,0,0,8.1,4.9,5.31,5.31,0,0,0,12,6.5,5.46,5.46,0,0,0,6.5,12Z\"/>\n",
              "  </svg>\n",
              "    </button>\n",
              "    <script>\n",
              "      (() => {\n",
              "      const buttonEl =\n",
              "        document.querySelector('#id_afd55281-b71d-4fd2-95e7-657a7881be25 button.colab-df-generate');\n",
              "      buttonEl.style.display =\n",
              "        google.colab.kernel.accessAllowed ? 'block' : 'none';\n",
              "\n",
              "      buttonEl.onclick = () => {\n",
              "        google.colab.notebook.generateWithVariable('offenses');\n",
              "      }\n",
              "      })();\n",
              "    </script>\n",
              "  </div>\n",
              "\n",
              "    </div>\n",
              "  </div>\n"
            ],
            "application/vnd.google.colaboratory.intrinsic+json": {
              "type": "dataframe",
              "variable_name": "offenses",
              "summary": "{\n  \"name\": \"offenses\",\n  \"rows\": 76,\n  \"fields\": [\n    {\n      \"column\": \"KY_CD\",\n      \"properties\": {\n        \"dtype\": \"category\",\n        \"num_unique_values\": 75,\n        \"samples\": [\n          105,\n          460,\n          112\n        ],\n        \"semantic_type\": \"\",\n        \"description\": \"\"\n      }\n    },\n    {\n      \"column\": \"OFNS_DESC\",\n      \"properties\": {\n        \"dtype\": \"string\",\n        \"num_unique_values\": 65,\n        \"samples\": [\n          \"ADMINISTRATIVE CODE\",\n          \"HARRASSMENT 2\",\n          \"MURDER & NON-NEGL. MANSLAUGHTER\"\n        ],\n        \"semantic_type\": \"\",\n        \"description\": \"\"\n      }\n    }\n  ]\n}"
            }
          },
          "metadata": {}
        }
      ]
    },
    {
      "cell_type": "code",
      "metadata": {
        "id": "5RYYeU3oGvoY"
      },
      "source": [
        "df.KY_CD = pd.Categorical(df.KY_CD)"
      ],
      "execution_count": 218,
      "outputs": []
    },
    {
      "cell_type": "code",
      "metadata": {
        "id": "VfNKp2c4JThg"
      },
      "source": [
        "df = df.drop('OFNS_DESC', axis='columns')"
      ],
      "execution_count": 219,
      "outputs": []
    },
    {
      "cell_type": "markdown",
      "metadata": {
        "id": "211BiQHwc-Hi"
      },
      "source": [
        "### 9   PD_CD   &  PD_DESC           "
      ]
    },
    {
      "cell_type": "code",
      "metadata": {
        "id": "sSM0WJ2xFQKi",
        "colab": {
          "base_uri": "https://localhost:8080/",
          "height": 423
        },
        "outputId": "83a8f5f0-a06c-40d0-e6d9-1760b0eb74bb"
      },
      "source": [
        "df.loc[df.PD_CD=='694','PD_DESC'] ='INCEST'\n",
        "df.loc[df.PD_CD=='234','PD_DESC'] ='BURGLARY,UNKNOWN TIME'\n",
        "\n",
        "internal = df[ [\"PD_CD\", \"PD_DESC\"] ].drop_duplicates().dropna()\n",
        "internal['PD_CD'] = pd.Categorical(pd.to_numeric(internal['PD_CD'] ).astype(int))\n",
        "internal = internal.set_index(\"PD_CD\")\n",
        "internal = internal.sort_index()\n",
        "internal = internal.reset_index()\n",
        "display(internal)"
      ],
      "execution_count": 220,
      "outputs": [
        {
          "output_type": "display_data",
          "data": {
            "text/plain": [
              "    PD_CD                                 PD_DESC\n",
              "0     100             STALKING COMMIT SEX OFFENSE\n",
              "1     101                               ASSAULT 3\n",
              "2     102             ASSAULT SCHOOL SAFETY AGENT\n",
              "3     103                   ASSAULT TRAFFIC AGENT\n",
              "4     104          VEHICULAR ASSAULT (INTOX DRIVE\n",
              "..    ...                                     ...\n",
              "438   917  LEAVING THE SCENE OF AN ACCIDENT (SPI)\n",
              "439   918                        RECKLESS DRIVING\n",
              "440   922          TRAFFIC,UNCLASSIFIED MISDEMEAN\n",
              "441   969          TRAFFIC,UNCLASSIFIED INFRACTIO\n",
              "442   975             ENVIRONMENTAL CONTROL BOARD\n",
              "\n",
              "[443 rows x 2 columns]"
            ],
            "text/html": [
              "\n",
              "  <div id=\"df-6b6f2540-0ddb-4cb2-9446-5471e72955a5\" class=\"colab-df-container\">\n",
              "    <div>\n",
              "<style scoped>\n",
              "    .dataframe tbody tr th:only-of-type {\n",
              "        vertical-align: middle;\n",
              "    }\n",
              "\n",
              "    .dataframe tbody tr th {\n",
              "        vertical-align: top;\n",
              "    }\n",
              "\n",
              "    .dataframe thead th {\n",
              "        text-align: right;\n",
              "    }\n",
              "</style>\n",
              "<table border=\"1\" class=\"dataframe\">\n",
              "  <thead>\n",
              "    <tr style=\"text-align: right;\">\n",
              "      <th></th>\n",
              "      <th>PD_CD</th>\n",
              "      <th>PD_DESC</th>\n",
              "    </tr>\n",
              "  </thead>\n",
              "  <tbody>\n",
              "    <tr>\n",
              "      <th>0</th>\n",
              "      <td>100</td>\n",
              "      <td>STALKING COMMIT SEX OFFENSE</td>\n",
              "    </tr>\n",
              "    <tr>\n",
              "      <th>1</th>\n",
              "      <td>101</td>\n",
              "      <td>ASSAULT 3</td>\n",
              "    </tr>\n",
              "    <tr>\n",
              "      <th>2</th>\n",
              "      <td>102</td>\n",
              "      <td>ASSAULT SCHOOL SAFETY AGENT</td>\n",
              "    </tr>\n",
              "    <tr>\n",
              "      <th>3</th>\n",
              "      <td>103</td>\n",
              "      <td>ASSAULT TRAFFIC AGENT</td>\n",
              "    </tr>\n",
              "    <tr>\n",
              "      <th>4</th>\n",
              "      <td>104</td>\n",
              "      <td>VEHICULAR ASSAULT (INTOX DRIVE</td>\n",
              "    </tr>\n",
              "    <tr>\n",
              "      <th>...</th>\n",
              "      <td>...</td>\n",
              "      <td>...</td>\n",
              "    </tr>\n",
              "    <tr>\n",
              "      <th>438</th>\n",
              "      <td>917</td>\n",
              "      <td>LEAVING THE SCENE OF AN ACCIDENT (SPI)</td>\n",
              "    </tr>\n",
              "    <tr>\n",
              "      <th>439</th>\n",
              "      <td>918</td>\n",
              "      <td>RECKLESS DRIVING</td>\n",
              "    </tr>\n",
              "    <tr>\n",
              "      <th>440</th>\n",
              "      <td>922</td>\n",
              "      <td>TRAFFIC,UNCLASSIFIED MISDEMEAN</td>\n",
              "    </tr>\n",
              "    <tr>\n",
              "      <th>441</th>\n",
              "      <td>969</td>\n",
              "      <td>TRAFFIC,UNCLASSIFIED INFRACTIO</td>\n",
              "    </tr>\n",
              "    <tr>\n",
              "      <th>442</th>\n",
              "      <td>975</td>\n",
              "      <td>ENVIRONMENTAL CONTROL BOARD</td>\n",
              "    </tr>\n",
              "  </tbody>\n",
              "</table>\n",
              "<p>443 rows × 2 columns</p>\n",
              "</div>\n",
              "    <div class=\"colab-df-buttons\">\n",
              "\n",
              "  <div class=\"colab-df-container\">\n",
              "    <button class=\"colab-df-convert\" onclick=\"convertToInteractive('df-6b6f2540-0ddb-4cb2-9446-5471e72955a5')\"\n",
              "            title=\"Convert this dataframe to an interactive table.\"\n",
              "            style=\"display:none;\">\n",
              "\n",
              "  <svg xmlns=\"http://www.w3.org/2000/svg\" height=\"24px\" viewBox=\"0 -960 960 960\">\n",
              "    <path d=\"M120-120v-720h720v720H120Zm60-500h600v-160H180v160Zm220 220h160v-160H400v160Zm0 220h160v-160H400v160ZM180-400h160v-160H180v160Zm440 0h160v-160H620v160ZM180-180h160v-160H180v160Zm440 0h160v-160H620v160Z\"/>\n",
              "  </svg>\n",
              "    </button>\n",
              "\n",
              "  <style>\n",
              "    .colab-df-container {\n",
              "      display:flex;\n",
              "      gap: 12px;\n",
              "    }\n",
              "\n",
              "    .colab-df-convert {\n",
              "      background-color: #E8F0FE;\n",
              "      border: none;\n",
              "      border-radius: 50%;\n",
              "      cursor: pointer;\n",
              "      display: none;\n",
              "      fill: #1967D2;\n",
              "      height: 32px;\n",
              "      padding: 0 0 0 0;\n",
              "      width: 32px;\n",
              "    }\n",
              "\n",
              "    .colab-df-convert:hover {\n",
              "      background-color: #E2EBFA;\n",
              "      box-shadow: 0px 1px 2px rgba(60, 64, 67, 0.3), 0px 1px 3px 1px rgba(60, 64, 67, 0.15);\n",
              "      fill: #174EA6;\n",
              "    }\n",
              "\n",
              "    .colab-df-buttons div {\n",
              "      margin-bottom: 4px;\n",
              "    }\n",
              "\n",
              "    [theme=dark] .colab-df-convert {\n",
              "      background-color: #3B4455;\n",
              "      fill: #D2E3FC;\n",
              "    }\n",
              "\n",
              "    [theme=dark] .colab-df-convert:hover {\n",
              "      background-color: #434B5C;\n",
              "      box-shadow: 0px 1px 3px 1px rgba(0, 0, 0, 0.15);\n",
              "      filter: drop-shadow(0px 1px 2px rgba(0, 0, 0, 0.3));\n",
              "      fill: #FFFFFF;\n",
              "    }\n",
              "  </style>\n",
              "\n",
              "    <script>\n",
              "      const buttonEl =\n",
              "        document.querySelector('#df-6b6f2540-0ddb-4cb2-9446-5471e72955a5 button.colab-df-convert');\n",
              "      buttonEl.style.display =\n",
              "        google.colab.kernel.accessAllowed ? 'block' : 'none';\n",
              "\n",
              "      async function convertToInteractive(key) {\n",
              "        const element = document.querySelector('#df-6b6f2540-0ddb-4cb2-9446-5471e72955a5');\n",
              "        const dataTable =\n",
              "          await google.colab.kernel.invokeFunction('convertToInteractive',\n",
              "                                                    [key], {});\n",
              "        if (!dataTable) return;\n",
              "\n",
              "        const docLinkHtml = 'Like what you see? Visit the ' +\n",
              "          '<a target=\"_blank\" href=https://colab.research.google.com/notebooks/data_table.ipynb>data table notebook</a>'\n",
              "          + ' to learn more about interactive tables.';\n",
              "        element.innerHTML = '';\n",
              "        dataTable['output_type'] = 'display_data';\n",
              "        await google.colab.output.renderOutput(dataTable, element);\n",
              "        const docLink = document.createElement('div');\n",
              "        docLink.innerHTML = docLinkHtml;\n",
              "        element.appendChild(docLink);\n",
              "      }\n",
              "    </script>\n",
              "  </div>\n",
              "\n",
              "\n",
              "    <div id=\"df-a31ec175-3435-4a38-93db-35c10718c82d\">\n",
              "      <button class=\"colab-df-quickchart\" onclick=\"quickchart('df-a31ec175-3435-4a38-93db-35c10718c82d')\"\n",
              "                title=\"Suggest charts\"\n",
              "                style=\"display:none;\">\n",
              "\n",
              "<svg xmlns=\"http://www.w3.org/2000/svg\" height=\"24px\"viewBox=\"0 0 24 24\"\n",
              "     width=\"24px\">\n",
              "    <g>\n",
              "        <path d=\"M19 3H5c-1.1 0-2 .9-2 2v14c0 1.1.9 2 2 2h14c1.1 0 2-.9 2-2V5c0-1.1-.9-2-2-2zM9 17H7v-7h2v7zm4 0h-2V7h2v10zm4 0h-2v-4h2v4z\"/>\n",
              "    </g>\n",
              "</svg>\n",
              "      </button>\n",
              "\n",
              "<style>\n",
              "  .colab-df-quickchart {\n",
              "      --bg-color: #E8F0FE;\n",
              "      --fill-color: #1967D2;\n",
              "      --hover-bg-color: #E2EBFA;\n",
              "      --hover-fill-color: #174EA6;\n",
              "      --disabled-fill-color: #AAA;\n",
              "      --disabled-bg-color: #DDD;\n",
              "  }\n",
              "\n",
              "  [theme=dark] .colab-df-quickchart {\n",
              "      --bg-color: #3B4455;\n",
              "      --fill-color: #D2E3FC;\n",
              "      --hover-bg-color: #434B5C;\n",
              "      --hover-fill-color: #FFFFFF;\n",
              "      --disabled-bg-color: #3B4455;\n",
              "      --disabled-fill-color: #666;\n",
              "  }\n",
              "\n",
              "  .colab-df-quickchart {\n",
              "    background-color: var(--bg-color);\n",
              "    border: none;\n",
              "    border-radius: 50%;\n",
              "    cursor: pointer;\n",
              "    display: none;\n",
              "    fill: var(--fill-color);\n",
              "    height: 32px;\n",
              "    padding: 0;\n",
              "    width: 32px;\n",
              "  }\n",
              "\n",
              "  .colab-df-quickchart:hover {\n",
              "    background-color: var(--hover-bg-color);\n",
              "    box-shadow: 0 1px 2px rgba(60, 64, 67, 0.3), 0 1px 3px 1px rgba(60, 64, 67, 0.15);\n",
              "    fill: var(--button-hover-fill-color);\n",
              "  }\n",
              "\n",
              "  .colab-df-quickchart-complete:disabled,\n",
              "  .colab-df-quickchart-complete:disabled:hover {\n",
              "    background-color: var(--disabled-bg-color);\n",
              "    fill: var(--disabled-fill-color);\n",
              "    box-shadow: none;\n",
              "  }\n",
              "\n",
              "  .colab-df-spinner {\n",
              "    border: 2px solid var(--fill-color);\n",
              "    border-color: transparent;\n",
              "    border-bottom-color: var(--fill-color);\n",
              "    animation:\n",
              "      spin 1s steps(1) infinite;\n",
              "  }\n",
              "\n",
              "  @keyframes spin {\n",
              "    0% {\n",
              "      border-color: transparent;\n",
              "      border-bottom-color: var(--fill-color);\n",
              "      border-left-color: var(--fill-color);\n",
              "    }\n",
              "    20% {\n",
              "      border-color: transparent;\n",
              "      border-left-color: var(--fill-color);\n",
              "      border-top-color: var(--fill-color);\n",
              "    }\n",
              "    30% {\n",
              "      border-color: transparent;\n",
              "      border-left-color: var(--fill-color);\n",
              "      border-top-color: var(--fill-color);\n",
              "      border-right-color: var(--fill-color);\n",
              "    }\n",
              "    40% {\n",
              "      border-color: transparent;\n",
              "      border-right-color: var(--fill-color);\n",
              "      border-top-color: var(--fill-color);\n",
              "    }\n",
              "    60% {\n",
              "      border-color: transparent;\n",
              "      border-right-color: var(--fill-color);\n",
              "    }\n",
              "    80% {\n",
              "      border-color: transparent;\n",
              "      border-right-color: var(--fill-color);\n",
              "      border-bottom-color: var(--fill-color);\n",
              "    }\n",
              "    90% {\n",
              "      border-color: transparent;\n",
              "      border-bottom-color: var(--fill-color);\n",
              "    }\n",
              "  }\n",
              "</style>\n",
              "\n",
              "      <script>\n",
              "        async function quickchart(key) {\n",
              "          const quickchartButtonEl =\n",
              "            document.querySelector('#' + key + ' button');\n",
              "          quickchartButtonEl.disabled = true;  // To prevent multiple clicks.\n",
              "          quickchartButtonEl.classList.add('colab-df-spinner');\n",
              "          try {\n",
              "            const charts = await google.colab.kernel.invokeFunction(\n",
              "                'suggestCharts', [key], {});\n",
              "          } catch (error) {\n",
              "            console.error('Error during call to suggestCharts:', error);\n",
              "          }\n",
              "          quickchartButtonEl.classList.remove('colab-df-spinner');\n",
              "          quickchartButtonEl.classList.add('colab-df-quickchart-complete');\n",
              "        }\n",
              "        (() => {\n",
              "          let quickchartButtonEl =\n",
              "            document.querySelector('#df-a31ec175-3435-4a38-93db-35c10718c82d button');\n",
              "          quickchartButtonEl.style.display =\n",
              "            google.colab.kernel.accessAllowed ? 'block' : 'none';\n",
              "        })();\n",
              "      </script>\n",
              "    </div>\n",
              "\n",
              "  <div id=\"id_f07ba49d-9ef4-419f-a994-77e03cd5caa9\">\n",
              "    <style>\n",
              "      .colab-df-generate {\n",
              "        background-color: #E8F0FE;\n",
              "        border: none;\n",
              "        border-radius: 50%;\n",
              "        cursor: pointer;\n",
              "        display: none;\n",
              "        fill: #1967D2;\n",
              "        height: 32px;\n",
              "        padding: 0 0 0 0;\n",
              "        width: 32px;\n",
              "      }\n",
              "\n",
              "      .colab-df-generate:hover {\n",
              "        background-color: #E2EBFA;\n",
              "        box-shadow: 0px 1px 2px rgba(60, 64, 67, 0.3), 0px 1px 3px 1px rgba(60, 64, 67, 0.15);\n",
              "        fill: #174EA6;\n",
              "      }\n",
              "\n",
              "      [theme=dark] .colab-df-generate {\n",
              "        background-color: #3B4455;\n",
              "        fill: #D2E3FC;\n",
              "      }\n",
              "\n",
              "      [theme=dark] .colab-df-generate:hover {\n",
              "        background-color: #434B5C;\n",
              "        box-shadow: 0px 1px 3px 1px rgba(0, 0, 0, 0.15);\n",
              "        filter: drop-shadow(0px 1px 2px rgba(0, 0, 0, 0.3));\n",
              "        fill: #FFFFFF;\n",
              "      }\n",
              "    </style>\n",
              "    <button class=\"colab-df-generate\" onclick=\"generateWithVariable('internal')\"\n",
              "            title=\"Generate code using this dataframe.\"\n",
              "            style=\"display:none;\">\n",
              "\n",
              "  <svg xmlns=\"http://www.w3.org/2000/svg\" height=\"24px\"viewBox=\"0 0 24 24\"\n",
              "       width=\"24px\">\n",
              "    <path d=\"M7,19H8.4L18.45,9,17,7.55,7,17.6ZM5,21V16.75L18.45,3.32a2,2,0,0,1,2.83,0l1.4,1.43a1.91,1.91,0,0,1,.58,1.4,1.91,1.91,0,0,1-.58,1.4L9.25,21ZM18.45,9,17,7.55Zm-12,3A5.31,5.31,0,0,0,4.9,8.1,5.31,5.31,0,0,0,1,6.5,5.31,5.31,0,0,0,4.9,4.9,5.31,5.31,0,0,0,6.5,1,5.31,5.31,0,0,0,8.1,4.9,5.31,5.31,0,0,0,12,6.5,5.46,5.46,0,0,0,6.5,12Z\"/>\n",
              "  </svg>\n",
              "    </button>\n",
              "    <script>\n",
              "      (() => {\n",
              "      const buttonEl =\n",
              "        document.querySelector('#id_f07ba49d-9ef4-419f-a994-77e03cd5caa9 button.colab-df-generate');\n",
              "      buttonEl.style.display =\n",
              "        google.colab.kernel.accessAllowed ? 'block' : 'none';\n",
              "\n",
              "      buttonEl.onclick = () => {\n",
              "        google.colab.notebook.generateWithVariable('internal');\n",
              "      }\n",
              "      })();\n",
              "    </script>\n",
              "  </div>\n",
              "\n",
              "    </div>\n",
              "  </div>\n"
            ],
            "application/vnd.google.colaboratory.intrinsic+json": {
              "type": "dataframe",
              "variable_name": "internal",
              "summary": "{\n  \"name\": \"internal\",\n  \"rows\": 443,\n  \"fields\": [\n    {\n      \"column\": \"PD_CD\",\n      \"properties\": {\n        \"dtype\": \"category\",\n        \"num_unique_values\": 443,\n        \"samples\": [\n          715,\n          385,\n          258\n        ],\n        \"semantic_type\": \"\",\n        \"description\": \"\"\n      }\n    },\n    {\n      \"column\": \"PD_DESC\",\n      \"properties\": {\n        \"dtype\": \"string\",\n        \"num_unique_values\": 433,\n        \"samples\": [\n          \"INTOXICATED DRIVING,ALCOHOL\",\n          \"ARSON 2,3,4\",\n          \"LARCENY,GRAND BY BANK ACCT COMPROMISE-UNCLASSIFIED\"\n        ],\n        \"semantic_type\": \"\",\n        \"description\": \"\"\n      }\n    }\n  ]\n}"
            }
          },
          "metadata": {}
        }
      ]
    },
    {
      "cell_type": "code",
      "metadata": {
        "id": "litXEQ4gHJbc",
        "colab": {
          "base_uri": "https://localhost:8080/"
        },
        "outputId": "006529cc-0457-4df7-926a-3e4e35690890"
      },
      "source": [
        "df.PD_CD.isnull().sum()"
      ],
      "execution_count": 221,
      "outputs": [
        {
          "output_type": "execute_result",
          "data": {
            "text/plain": [
              "np.int64(7957)"
            ]
          },
          "metadata": {},
          "execution_count": 221
        }
      ]
    },
    {
      "cell_type": "code",
      "metadata": {
        "id": "EoAB8vswHC_a"
      },
      "source": [
        "# df = df[~df.PD_CD.isnull()]"
      ],
      "execution_count": 27,
      "outputs": []
    },
    {
      "cell_type": "code",
      "metadata": {
        "id": "9kwshtMxHAcL"
      },
      "source": [
        "df.PD_CD = pd.Categorical(df.PD_CD)"
      ],
      "execution_count": 222,
      "outputs": []
    },
    {
      "cell_type": "code",
      "metadata": {
        "id": "3H3ZPPzwFYh9"
      },
      "source": [
        "df = df.drop('PD_DESC', axis='columns')"
      ],
      "execution_count": 223,
      "outputs": []
    },
    {
      "cell_type": "code",
      "metadata": {
        "id": "dv3xfTcjF8Qz"
      },
      "source": [],
      "execution_count": 29,
      "outputs": []
    },
    {
      "cell_type": "markdown",
      "metadata": {
        "id": "mCyBuyV2dALc"
      },
      "source": [
        "### 11  CRM_ATPT_CPTD_CD   object"
      ]
    },
    {
      "cell_type": "code",
      "metadata": {
        "id": "3qf5FO6XFaPn",
        "colab": {
          "base_uri": "https://localhost:8080/",
          "height": 178
        },
        "outputId": "61b8a703-cf36-483b-fde4-7affc8cc4c47"
      },
      "source": [
        "df.CRM_ATPT_CPTD_CD.value_counts(dropna=False)"
      ],
      "execution_count": 224,
      "outputs": [
        {
          "output_type": "execute_result",
          "data": {
            "text/plain": [
              "CRM_ATPT_CPTD_CD\n",
              "COMPLETED    9333518\n",
              "ATTEMPTED     156014\n",
              "Name: count, dtype: int64"
            ],
            "text/html": [
              "<div>\n",
              "<style scoped>\n",
              "    .dataframe tbody tr th:only-of-type {\n",
              "        vertical-align: middle;\n",
              "    }\n",
              "\n",
              "    .dataframe tbody tr th {\n",
              "        vertical-align: top;\n",
              "    }\n",
              "\n",
              "    .dataframe thead th {\n",
              "        text-align: right;\n",
              "    }\n",
              "</style>\n",
              "<table border=\"1\" class=\"dataframe\">\n",
              "  <thead>\n",
              "    <tr style=\"text-align: right;\">\n",
              "      <th></th>\n",
              "      <th>count</th>\n",
              "    </tr>\n",
              "    <tr>\n",
              "      <th>CRM_ATPT_CPTD_CD</th>\n",
              "      <th></th>\n",
              "    </tr>\n",
              "  </thead>\n",
              "  <tbody>\n",
              "    <tr>\n",
              "      <th>COMPLETED</th>\n",
              "      <td>9333518</td>\n",
              "    </tr>\n",
              "    <tr>\n",
              "      <th>ATTEMPTED</th>\n",
              "      <td>156014</td>\n",
              "    </tr>\n",
              "  </tbody>\n",
              "</table>\n",
              "</div><br><label><b>dtype:</b> int64</label>"
            ]
          },
          "metadata": {},
          "execution_count": 224
        }
      ]
    },
    {
      "cell_type": "code",
      "metadata": {
        "id": "wf1WmbD2FmaB"
      },
      "source": [
        "df.CRM_ATPT_CPTD_CD = pd.Categorical(df.CRM_ATPT_CPTD_CD)"
      ],
      "execution_count": 225,
      "outputs": []
    },
    {
      "cell_type": "code",
      "metadata": {
        "id": "HMCKHHaSFtyF",
        "colab": {
          "base_uri": "https://localhost:8080/"
        },
        "outputId": "b80c9b1f-2bce-40c8-ac0a-1efe231966d3"
      },
      "source": [
        "df.CRM_ATPT_CPTD_CD.isnull().sum()"
      ],
      "execution_count": 226,
      "outputs": [
        {
          "output_type": "execute_result",
          "data": {
            "text/plain": [
              "np.int64(168)"
            ]
          },
          "metadata": {},
          "execution_count": 226
        }
      ]
    },
    {
      "cell_type": "code",
      "metadata": {
        "id": "F8AKN07HF06g"
      },
      "source": [
        "df = df [ ~df.CRM_ATPT_CPTD_CD.isnull() ]\n"
      ],
      "execution_count": 227,
      "outputs": []
    },
    {
      "cell_type": "markdown",
      "metadata": {
        "id": "dxaDxHN5dDLH"
      },
      "source": [
        "### 12  LAW_CAT_CD         object"
      ]
    },
    {
      "cell_type": "code",
      "source": [
        "df.LAW_CAT_CD.isnull().sum()"
      ],
      "metadata": {
        "id": "6C5x1rW2rk2N",
        "outputId": "9bc8332f-a6cb-475d-a884-9a4151b54185",
        "colab": {
          "base_uri": "https://localhost:8080/"
        }
      },
      "execution_count": 229,
      "outputs": [
        {
          "output_type": "execute_result",
          "data": {
            "text/plain": [
              "np.int64(0)"
            ]
          },
          "metadata": {},
          "execution_count": 229
        }
      ]
    },
    {
      "cell_type": "code",
      "metadata": {
        "id": "SNddZBFdGEmG",
        "colab": {
          "base_uri": "https://localhost:8080/",
          "height": 209
        },
        "outputId": "c80839e6-051a-4b63-94e3-f46e5981bdae"
      },
      "source": [
        "df.LAW_CAT_CD.value_counts(dropna=False)"
      ],
      "execution_count": 228,
      "outputs": [
        {
          "output_type": "execute_result",
          "data": {
            "text/plain": [
              "LAW_CAT_CD\n",
              "MISDEMEANOR    5215402\n",
              "FELONY         2979737\n",
              "VIOLATION      1294393\n",
              "Name: count, dtype: int64"
            ],
            "text/html": [
              "<div>\n",
              "<style scoped>\n",
              "    .dataframe tbody tr th:only-of-type {\n",
              "        vertical-align: middle;\n",
              "    }\n",
              "\n",
              "    .dataframe tbody tr th {\n",
              "        vertical-align: top;\n",
              "    }\n",
              "\n",
              "    .dataframe thead th {\n",
              "        text-align: right;\n",
              "    }\n",
              "</style>\n",
              "<table border=\"1\" class=\"dataframe\">\n",
              "  <thead>\n",
              "    <tr style=\"text-align: right;\">\n",
              "      <th></th>\n",
              "      <th>count</th>\n",
              "    </tr>\n",
              "    <tr>\n",
              "      <th>LAW_CAT_CD</th>\n",
              "      <th></th>\n",
              "    </tr>\n",
              "  </thead>\n",
              "  <tbody>\n",
              "    <tr>\n",
              "      <th>MISDEMEANOR</th>\n",
              "      <td>5215402</td>\n",
              "    </tr>\n",
              "    <tr>\n",
              "      <th>FELONY</th>\n",
              "      <td>2979737</td>\n",
              "    </tr>\n",
              "    <tr>\n",
              "      <th>VIOLATION</th>\n",
              "      <td>1294393</td>\n",
              "    </tr>\n",
              "  </tbody>\n",
              "</table>\n",
              "</div><br><label><b>dtype:</b> int64</label>"
            ]
          },
          "metadata": {},
          "execution_count": 228
        }
      ]
    },
    {
      "cell_type": "code",
      "metadata": {
        "id": "ZGSY4h6T5mm7"
      },
      "source": [
        "df.LAW_CAT_CD = pd.Categorical(df.LAW_CAT_CD)"
      ],
      "execution_count": 230,
      "outputs": []
    },
    {
      "cell_type": "markdown",
      "metadata": {
        "id": "ktDmEg1cdE_v"
      },
      "source": [
        "### 16  JURIS_DESC         object\n",
        "### 17  JURISDICTION_CODE  object"
      ]
    },
    {
      "cell_type": "code",
      "metadata": {
        "id": "Neev5NjGH4BN",
        "colab": {
          "base_uri": "https://localhost:8080/"
        },
        "outputId": "1f9eed07-99c3-4a63-fb38-345f96f2f729"
      },
      "source": [
        "df.JURISDICTION_CODE.isnull().sum()"
      ],
      "execution_count": 231,
      "outputs": [
        {
          "output_type": "execute_result",
          "data": {
            "text/plain": [
              "np.int64(0)"
            ]
          },
          "metadata": {},
          "execution_count": 231
        }
      ]
    },
    {
      "cell_type": "code",
      "metadata": {
        "id": "IgUqAQzUHWD3",
        "colab": {
          "base_uri": "https://localhost:8080/",
          "height": 927
        },
        "outputId": "cc1e4400-64d8-4b1c-e41a-a8451a912b31"
      },
      "source": [
        "# df = df[ ~df.JURISDICTION_CODE.isnull() ]\n",
        "\n",
        "jusridiction = df[ [\"JURISDICTION_CODE\", \"JURIS_DESC\", ] ].drop_duplicates().dropna()\n",
        "jusridiction['JURISDICTION_CODE'] = pd.to_numeric(jusridiction['JURISDICTION_CODE'] )\n",
        "jusridiction['JURISDICTION_CODE'] = jusridiction['JURISDICTION_CODE'].astype(int)\n",
        "jusridiction = jusridiction.set_index(\"JURISDICTION_CODE\")\n",
        "jusridiction = jusridiction.sort_index()\n",
        "jusridiction = jusridiction.reset_index()\n",
        "display(jusridiction)"
      ],
      "execution_count": 232,
      "outputs": [
        {
          "output_type": "display_data",
          "data": {
            "text/plain": [
              "    JURISDICTION_CODE                           JURIS_DESC\n",
              "0                   0                     N.Y. POLICE DEPT\n",
              "1                   1                  N.Y. TRANSIT POLICE\n",
              "2                   2                  N.Y. HOUSING POLICE\n",
              "3                   3                       PORT AUTHORITY\n",
              "4                   4                  TRI-BORO BRDG TUNNL\n",
              "5                   6                   LONG ISLAND RAILRD\n",
              "6                   7                              AMTRACK\n",
              "7                   8                              CONRAIL\n",
              "8                   9                 STATN IS RAPID TRANS\n",
              "9                  11                    N.Y. STATE POLICE\n",
              "10                 12                     N.Y. STATE PARKS\n",
              "11                 13                     U.S. PARK POLICE\n",
              "12                 14                   HEALTH & HOSP CORP\n",
              "13                 15                          METRO NORTH\n",
              "14                 16                 SEA GATE POLICE DEPT\n",
              "15                 17                      MTA POLICE DEPT\n",
              "16                 51     N.Y.C. DEPT OF HOMELESS SERVICES\n",
              "17                 52             N.Y.C. DEPT OF PROBATION\n",
              "18                 69                      POLICE DEPT NYC\n",
              "19                 71             FIRE DEPT (FIRE MARSHAL)\n",
              "20                 72                  DEPT OF CORRECTIONS\n",
              "21                 73             DISTRICT ATTORNEY OFFICE\n",
              "22                 76    NYC DEPT ENVIRONMENTAL PROTECTION\n",
              "23                 79  NYS DEPT ENVIRONMENTAL CONSERVATION\n",
              "24                 85             NYS DEPT TAX AND FINANCE\n",
              "25                 87         NEW YORK CITY SHERIFF OFFICE\n",
              "26                 88                            NYC PARKS\n",
              "27                 97                                OTHER"
            ],
            "text/html": [
              "\n",
              "  <div id=\"df-14b3aa13-c00d-4aa3-a745-055089a4ab01\" class=\"colab-df-container\">\n",
              "    <div>\n",
              "<style scoped>\n",
              "    .dataframe tbody tr th:only-of-type {\n",
              "        vertical-align: middle;\n",
              "    }\n",
              "\n",
              "    .dataframe tbody tr th {\n",
              "        vertical-align: top;\n",
              "    }\n",
              "\n",
              "    .dataframe thead th {\n",
              "        text-align: right;\n",
              "    }\n",
              "</style>\n",
              "<table border=\"1\" class=\"dataframe\">\n",
              "  <thead>\n",
              "    <tr style=\"text-align: right;\">\n",
              "      <th></th>\n",
              "      <th>JURISDICTION_CODE</th>\n",
              "      <th>JURIS_DESC</th>\n",
              "    </tr>\n",
              "  </thead>\n",
              "  <tbody>\n",
              "    <tr>\n",
              "      <th>0</th>\n",
              "      <td>0</td>\n",
              "      <td>N.Y. POLICE DEPT</td>\n",
              "    </tr>\n",
              "    <tr>\n",
              "      <th>1</th>\n",
              "      <td>1</td>\n",
              "      <td>N.Y. TRANSIT POLICE</td>\n",
              "    </tr>\n",
              "    <tr>\n",
              "      <th>2</th>\n",
              "      <td>2</td>\n",
              "      <td>N.Y. HOUSING POLICE</td>\n",
              "    </tr>\n",
              "    <tr>\n",
              "      <th>3</th>\n",
              "      <td>3</td>\n",
              "      <td>PORT AUTHORITY</td>\n",
              "    </tr>\n",
              "    <tr>\n",
              "      <th>4</th>\n",
              "      <td>4</td>\n",
              "      <td>TRI-BORO BRDG TUNNL</td>\n",
              "    </tr>\n",
              "    <tr>\n",
              "      <th>5</th>\n",
              "      <td>6</td>\n",
              "      <td>LONG ISLAND RAILRD</td>\n",
              "    </tr>\n",
              "    <tr>\n",
              "      <th>6</th>\n",
              "      <td>7</td>\n",
              "      <td>AMTRACK</td>\n",
              "    </tr>\n",
              "    <tr>\n",
              "      <th>7</th>\n",
              "      <td>8</td>\n",
              "      <td>CONRAIL</td>\n",
              "    </tr>\n",
              "    <tr>\n",
              "      <th>8</th>\n",
              "      <td>9</td>\n",
              "      <td>STATN IS RAPID TRANS</td>\n",
              "    </tr>\n",
              "    <tr>\n",
              "      <th>9</th>\n",
              "      <td>11</td>\n",
              "      <td>N.Y. STATE POLICE</td>\n",
              "    </tr>\n",
              "    <tr>\n",
              "      <th>10</th>\n",
              "      <td>12</td>\n",
              "      <td>N.Y. STATE PARKS</td>\n",
              "    </tr>\n",
              "    <tr>\n",
              "      <th>11</th>\n",
              "      <td>13</td>\n",
              "      <td>U.S. PARK POLICE</td>\n",
              "    </tr>\n",
              "    <tr>\n",
              "      <th>12</th>\n",
              "      <td>14</td>\n",
              "      <td>HEALTH &amp; HOSP CORP</td>\n",
              "    </tr>\n",
              "    <tr>\n",
              "      <th>13</th>\n",
              "      <td>15</td>\n",
              "      <td>METRO NORTH</td>\n",
              "    </tr>\n",
              "    <tr>\n",
              "      <th>14</th>\n",
              "      <td>16</td>\n",
              "      <td>SEA GATE POLICE DEPT</td>\n",
              "    </tr>\n",
              "    <tr>\n",
              "      <th>15</th>\n",
              "      <td>17</td>\n",
              "      <td>MTA POLICE DEPT</td>\n",
              "    </tr>\n",
              "    <tr>\n",
              "      <th>16</th>\n",
              "      <td>51</td>\n",
              "      <td>N.Y.C. DEPT OF HOMELESS SERVICES</td>\n",
              "    </tr>\n",
              "    <tr>\n",
              "      <th>17</th>\n",
              "      <td>52</td>\n",
              "      <td>N.Y.C. DEPT OF PROBATION</td>\n",
              "    </tr>\n",
              "    <tr>\n",
              "      <th>18</th>\n",
              "      <td>69</td>\n",
              "      <td>POLICE DEPT NYC</td>\n",
              "    </tr>\n",
              "    <tr>\n",
              "      <th>19</th>\n",
              "      <td>71</td>\n",
              "      <td>FIRE DEPT (FIRE MARSHAL)</td>\n",
              "    </tr>\n",
              "    <tr>\n",
              "      <th>20</th>\n",
              "      <td>72</td>\n",
              "      <td>DEPT OF CORRECTIONS</td>\n",
              "    </tr>\n",
              "    <tr>\n",
              "      <th>21</th>\n",
              "      <td>73</td>\n",
              "      <td>DISTRICT ATTORNEY OFFICE</td>\n",
              "    </tr>\n",
              "    <tr>\n",
              "      <th>22</th>\n",
              "      <td>76</td>\n",
              "      <td>NYC DEPT ENVIRONMENTAL PROTECTION</td>\n",
              "    </tr>\n",
              "    <tr>\n",
              "      <th>23</th>\n",
              "      <td>79</td>\n",
              "      <td>NYS DEPT ENVIRONMENTAL CONSERVATION</td>\n",
              "    </tr>\n",
              "    <tr>\n",
              "      <th>24</th>\n",
              "      <td>85</td>\n",
              "      <td>NYS DEPT TAX AND FINANCE</td>\n",
              "    </tr>\n",
              "    <tr>\n",
              "      <th>25</th>\n",
              "      <td>87</td>\n",
              "      <td>NEW YORK CITY SHERIFF OFFICE</td>\n",
              "    </tr>\n",
              "    <tr>\n",
              "      <th>26</th>\n",
              "      <td>88</td>\n",
              "      <td>NYC PARKS</td>\n",
              "    </tr>\n",
              "    <tr>\n",
              "      <th>27</th>\n",
              "      <td>97</td>\n",
              "      <td>OTHER</td>\n",
              "    </tr>\n",
              "  </tbody>\n",
              "</table>\n",
              "</div>\n",
              "    <div class=\"colab-df-buttons\">\n",
              "\n",
              "  <div class=\"colab-df-container\">\n",
              "    <button class=\"colab-df-convert\" onclick=\"convertToInteractive('df-14b3aa13-c00d-4aa3-a745-055089a4ab01')\"\n",
              "            title=\"Convert this dataframe to an interactive table.\"\n",
              "            style=\"display:none;\">\n",
              "\n",
              "  <svg xmlns=\"http://www.w3.org/2000/svg\" height=\"24px\" viewBox=\"0 -960 960 960\">\n",
              "    <path d=\"M120-120v-720h720v720H120Zm60-500h600v-160H180v160Zm220 220h160v-160H400v160Zm0 220h160v-160H400v160ZM180-400h160v-160H180v160Zm440 0h160v-160H620v160ZM180-180h160v-160H180v160Zm440 0h160v-160H620v160Z\"/>\n",
              "  </svg>\n",
              "    </button>\n",
              "\n",
              "  <style>\n",
              "    .colab-df-container {\n",
              "      display:flex;\n",
              "      gap: 12px;\n",
              "    }\n",
              "\n",
              "    .colab-df-convert {\n",
              "      background-color: #E8F0FE;\n",
              "      border: none;\n",
              "      border-radius: 50%;\n",
              "      cursor: pointer;\n",
              "      display: none;\n",
              "      fill: #1967D2;\n",
              "      height: 32px;\n",
              "      padding: 0 0 0 0;\n",
              "      width: 32px;\n",
              "    }\n",
              "\n",
              "    .colab-df-convert:hover {\n",
              "      background-color: #E2EBFA;\n",
              "      box-shadow: 0px 1px 2px rgba(60, 64, 67, 0.3), 0px 1px 3px 1px rgba(60, 64, 67, 0.15);\n",
              "      fill: #174EA6;\n",
              "    }\n",
              "\n",
              "    .colab-df-buttons div {\n",
              "      margin-bottom: 4px;\n",
              "    }\n",
              "\n",
              "    [theme=dark] .colab-df-convert {\n",
              "      background-color: #3B4455;\n",
              "      fill: #D2E3FC;\n",
              "    }\n",
              "\n",
              "    [theme=dark] .colab-df-convert:hover {\n",
              "      background-color: #434B5C;\n",
              "      box-shadow: 0px 1px 3px 1px rgba(0, 0, 0, 0.15);\n",
              "      filter: drop-shadow(0px 1px 2px rgba(0, 0, 0, 0.3));\n",
              "      fill: #FFFFFF;\n",
              "    }\n",
              "  </style>\n",
              "\n",
              "    <script>\n",
              "      const buttonEl =\n",
              "        document.querySelector('#df-14b3aa13-c00d-4aa3-a745-055089a4ab01 button.colab-df-convert');\n",
              "      buttonEl.style.display =\n",
              "        google.colab.kernel.accessAllowed ? 'block' : 'none';\n",
              "\n",
              "      async function convertToInteractive(key) {\n",
              "        const element = document.querySelector('#df-14b3aa13-c00d-4aa3-a745-055089a4ab01');\n",
              "        const dataTable =\n",
              "          await google.colab.kernel.invokeFunction('convertToInteractive',\n",
              "                                                    [key], {});\n",
              "        if (!dataTable) return;\n",
              "\n",
              "        const docLinkHtml = 'Like what you see? Visit the ' +\n",
              "          '<a target=\"_blank\" href=https://colab.research.google.com/notebooks/data_table.ipynb>data table notebook</a>'\n",
              "          + ' to learn more about interactive tables.';\n",
              "        element.innerHTML = '';\n",
              "        dataTable['output_type'] = 'display_data';\n",
              "        await google.colab.output.renderOutput(dataTable, element);\n",
              "        const docLink = document.createElement('div');\n",
              "        docLink.innerHTML = docLinkHtml;\n",
              "        element.appendChild(docLink);\n",
              "      }\n",
              "    </script>\n",
              "  </div>\n",
              "\n",
              "\n",
              "    <div id=\"df-9a8e5cb7-9239-4160-9734-3345d6e4d89e\">\n",
              "      <button class=\"colab-df-quickchart\" onclick=\"quickchart('df-9a8e5cb7-9239-4160-9734-3345d6e4d89e')\"\n",
              "                title=\"Suggest charts\"\n",
              "                style=\"display:none;\">\n",
              "\n",
              "<svg xmlns=\"http://www.w3.org/2000/svg\" height=\"24px\"viewBox=\"0 0 24 24\"\n",
              "     width=\"24px\">\n",
              "    <g>\n",
              "        <path d=\"M19 3H5c-1.1 0-2 .9-2 2v14c0 1.1.9 2 2 2h14c1.1 0 2-.9 2-2V5c0-1.1-.9-2-2-2zM9 17H7v-7h2v7zm4 0h-2V7h2v10zm4 0h-2v-4h2v4z\"/>\n",
              "    </g>\n",
              "</svg>\n",
              "      </button>\n",
              "\n",
              "<style>\n",
              "  .colab-df-quickchart {\n",
              "      --bg-color: #E8F0FE;\n",
              "      --fill-color: #1967D2;\n",
              "      --hover-bg-color: #E2EBFA;\n",
              "      --hover-fill-color: #174EA6;\n",
              "      --disabled-fill-color: #AAA;\n",
              "      --disabled-bg-color: #DDD;\n",
              "  }\n",
              "\n",
              "  [theme=dark] .colab-df-quickchart {\n",
              "      --bg-color: #3B4455;\n",
              "      --fill-color: #D2E3FC;\n",
              "      --hover-bg-color: #434B5C;\n",
              "      --hover-fill-color: #FFFFFF;\n",
              "      --disabled-bg-color: #3B4455;\n",
              "      --disabled-fill-color: #666;\n",
              "  }\n",
              "\n",
              "  .colab-df-quickchart {\n",
              "    background-color: var(--bg-color);\n",
              "    border: none;\n",
              "    border-radius: 50%;\n",
              "    cursor: pointer;\n",
              "    display: none;\n",
              "    fill: var(--fill-color);\n",
              "    height: 32px;\n",
              "    padding: 0;\n",
              "    width: 32px;\n",
              "  }\n",
              "\n",
              "  .colab-df-quickchart:hover {\n",
              "    background-color: var(--hover-bg-color);\n",
              "    box-shadow: 0 1px 2px rgba(60, 64, 67, 0.3), 0 1px 3px 1px rgba(60, 64, 67, 0.15);\n",
              "    fill: var(--button-hover-fill-color);\n",
              "  }\n",
              "\n",
              "  .colab-df-quickchart-complete:disabled,\n",
              "  .colab-df-quickchart-complete:disabled:hover {\n",
              "    background-color: var(--disabled-bg-color);\n",
              "    fill: var(--disabled-fill-color);\n",
              "    box-shadow: none;\n",
              "  }\n",
              "\n",
              "  .colab-df-spinner {\n",
              "    border: 2px solid var(--fill-color);\n",
              "    border-color: transparent;\n",
              "    border-bottom-color: var(--fill-color);\n",
              "    animation:\n",
              "      spin 1s steps(1) infinite;\n",
              "  }\n",
              "\n",
              "  @keyframes spin {\n",
              "    0% {\n",
              "      border-color: transparent;\n",
              "      border-bottom-color: var(--fill-color);\n",
              "      border-left-color: var(--fill-color);\n",
              "    }\n",
              "    20% {\n",
              "      border-color: transparent;\n",
              "      border-left-color: var(--fill-color);\n",
              "      border-top-color: var(--fill-color);\n",
              "    }\n",
              "    30% {\n",
              "      border-color: transparent;\n",
              "      border-left-color: var(--fill-color);\n",
              "      border-top-color: var(--fill-color);\n",
              "      border-right-color: var(--fill-color);\n",
              "    }\n",
              "    40% {\n",
              "      border-color: transparent;\n",
              "      border-right-color: var(--fill-color);\n",
              "      border-top-color: var(--fill-color);\n",
              "    }\n",
              "    60% {\n",
              "      border-color: transparent;\n",
              "      border-right-color: var(--fill-color);\n",
              "    }\n",
              "    80% {\n",
              "      border-color: transparent;\n",
              "      border-right-color: var(--fill-color);\n",
              "      border-bottom-color: var(--fill-color);\n",
              "    }\n",
              "    90% {\n",
              "      border-color: transparent;\n",
              "      border-bottom-color: var(--fill-color);\n",
              "    }\n",
              "  }\n",
              "</style>\n",
              "\n",
              "      <script>\n",
              "        async function quickchart(key) {\n",
              "          const quickchartButtonEl =\n",
              "            document.querySelector('#' + key + ' button');\n",
              "          quickchartButtonEl.disabled = true;  // To prevent multiple clicks.\n",
              "          quickchartButtonEl.classList.add('colab-df-spinner');\n",
              "          try {\n",
              "            const charts = await google.colab.kernel.invokeFunction(\n",
              "                'suggestCharts', [key], {});\n",
              "          } catch (error) {\n",
              "            console.error('Error during call to suggestCharts:', error);\n",
              "          }\n",
              "          quickchartButtonEl.classList.remove('colab-df-spinner');\n",
              "          quickchartButtonEl.classList.add('colab-df-quickchart-complete');\n",
              "        }\n",
              "        (() => {\n",
              "          let quickchartButtonEl =\n",
              "            document.querySelector('#df-9a8e5cb7-9239-4160-9734-3345d6e4d89e button');\n",
              "          quickchartButtonEl.style.display =\n",
              "            google.colab.kernel.accessAllowed ? 'block' : 'none';\n",
              "        })();\n",
              "      </script>\n",
              "    </div>\n",
              "\n",
              "  <div id=\"id_392edfd2-d8c6-42f3-995f-45bcd43dbab4\">\n",
              "    <style>\n",
              "      .colab-df-generate {\n",
              "        background-color: #E8F0FE;\n",
              "        border: none;\n",
              "        border-radius: 50%;\n",
              "        cursor: pointer;\n",
              "        display: none;\n",
              "        fill: #1967D2;\n",
              "        height: 32px;\n",
              "        padding: 0 0 0 0;\n",
              "        width: 32px;\n",
              "      }\n",
              "\n",
              "      .colab-df-generate:hover {\n",
              "        background-color: #E2EBFA;\n",
              "        box-shadow: 0px 1px 2px rgba(60, 64, 67, 0.3), 0px 1px 3px 1px rgba(60, 64, 67, 0.15);\n",
              "        fill: #174EA6;\n",
              "      }\n",
              "\n",
              "      [theme=dark] .colab-df-generate {\n",
              "        background-color: #3B4455;\n",
              "        fill: #D2E3FC;\n",
              "      }\n",
              "\n",
              "      [theme=dark] .colab-df-generate:hover {\n",
              "        background-color: #434B5C;\n",
              "        box-shadow: 0px 1px 3px 1px rgba(0, 0, 0, 0.15);\n",
              "        filter: drop-shadow(0px 1px 2px rgba(0, 0, 0, 0.3));\n",
              "        fill: #FFFFFF;\n",
              "      }\n",
              "    </style>\n",
              "    <button class=\"colab-df-generate\" onclick=\"generateWithVariable('jusridiction')\"\n",
              "            title=\"Generate code using this dataframe.\"\n",
              "            style=\"display:none;\">\n",
              "\n",
              "  <svg xmlns=\"http://www.w3.org/2000/svg\" height=\"24px\"viewBox=\"0 0 24 24\"\n",
              "       width=\"24px\">\n",
              "    <path d=\"M7,19H8.4L18.45,9,17,7.55,7,17.6ZM5,21V16.75L18.45,3.32a2,2,0,0,1,2.83,0l1.4,1.43a1.91,1.91,0,0,1,.58,1.4,1.91,1.91,0,0,1-.58,1.4L9.25,21ZM18.45,9,17,7.55Zm-12,3A5.31,5.31,0,0,0,4.9,8.1,5.31,5.31,0,0,0,1,6.5,5.31,5.31,0,0,0,4.9,4.9,5.31,5.31,0,0,0,6.5,1,5.31,5.31,0,0,0,8.1,4.9,5.31,5.31,0,0,0,12,6.5,5.46,5.46,0,0,0,6.5,12Z\"/>\n",
              "  </svg>\n",
              "    </button>\n",
              "    <script>\n",
              "      (() => {\n",
              "      const buttonEl =\n",
              "        document.querySelector('#id_392edfd2-d8c6-42f3-995f-45bcd43dbab4 button.colab-df-generate');\n",
              "      buttonEl.style.display =\n",
              "        google.colab.kernel.accessAllowed ? 'block' : 'none';\n",
              "\n",
              "      buttonEl.onclick = () => {\n",
              "        google.colab.notebook.generateWithVariable('jusridiction');\n",
              "      }\n",
              "      })();\n",
              "    </script>\n",
              "  </div>\n",
              "\n",
              "    </div>\n",
              "  </div>\n"
            ],
            "application/vnd.google.colaboratory.intrinsic+json": {
              "type": "dataframe",
              "variable_name": "jusridiction",
              "summary": "{\n  \"name\": \"jusridiction\",\n  \"rows\": 28,\n  \"fields\": [\n    {\n      \"column\": \"JURISDICTION_CODE\",\n      \"properties\": {\n        \"dtype\": \"number\",\n        \"std\": 34,\n        \"min\": 0,\n        \"max\": 97,\n        \"num_unique_values\": 28,\n        \"samples\": [\n          11,\n          87,\n          9\n        ],\n        \"semantic_type\": \"\",\n        \"description\": \"\"\n      }\n    },\n    {\n      \"column\": \"JURIS_DESC\",\n      \"properties\": {\n        \"dtype\": \"string\",\n        \"num_unique_values\": 28,\n        \"samples\": [\n          \"N.Y. STATE POLICE\",\n          \"NEW YORK CITY SHERIFF OFFICE\",\n          \"STATN IS RAPID TRANS\"\n        ],\n        \"semantic_type\": \"\",\n        \"description\": \"\"\n      }\n    }\n  ]\n}"
            }
          },
          "metadata": {}
        }
      ]
    },
    {
      "cell_type": "code",
      "metadata": {
        "id": "j1LMjSO4JzqC"
      },
      "source": [
        "df.JURISDICTION_CODE = pd.Categorical(df.JURISDICTION_CODE)\n"
      ],
      "execution_count": 233,
      "outputs": []
    },
    {
      "cell_type": "code",
      "metadata": {
        "id": "7ZKEI7n2KP91"
      },
      "source": [
        "df = df.drop('JURIS_DESC', axis='columns')"
      ],
      "execution_count": 234,
      "outputs": []
    },
    {
      "cell_type": "markdown",
      "metadata": {
        "id": "lo9tm9godHgO"
      },
      "source": [
        "###  13  BORO_NM            object"
      ]
    },
    {
      "cell_type": "code",
      "metadata": {
        "id": "ENjhOe0dKmoY",
        "colab": {
          "base_uri": "https://localhost:8080/",
          "height": 303
        },
        "outputId": "f215a44f-66c0-429f-b35d-8d6349f620e9"
      },
      "source": [
        "df.BORO_NM.value_counts(dropna=False)"
      ],
      "execution_count": 235,
      "outputs": [
        {
          "output_type": "execute_result",
          "data": {
            "text/plain": [
              "BORO_NM\n",
              "BROOKLYN         2776925\n",
              "MANHATTAN        2287612\n",
              "BRONX            2053821\n",
              "QUEENS           1928347\n",
              "STATEN ISLAND     434166\n",
              "NaN                 8661\n",
              "Name: count, dtype: int64"
            ],
            "text/html": [
              "<div>\n",
              "<style scoped>\n",
              "    .dataframe tbody tr th:only-of-type {\n",
              "        vertical-align: middle;\n",
              "    }\n",
              "\n",
              "    .dataframe tbody tr th {\n",
              "        vertical-align: top;\n",
              "    }\n",
              "\n",
              "    .dataframe thead th {\n",
              "        text-align: right;\n",
              "    }\n",
              "</style>\n",
              "<table border=\"1\" class=\"dataframe\">\n",
              "  <thead>\n",
              "    <tr style=\"text-align: right;\">\n",
              "      <th></th>\n",
              "      <th>count</th>\n",
              "    </tr>\n",
              "    <tr>\n",
              "      <th>BORO_NM</th>\n",
              "      <th></th>\n",
              "    </tr>\n",
              "  </thead>\n",
              "  <tbody>\n",
              "    <tr>\n",
              "      <th>BROOKLYN</th>\n",
              "      <td>2776925</td>\n",
              "    </tr>\n",
              "    <tr>\n",
              "      <th>MANHATTAN</th>\n",
              "      <td>2287612</td>\n",
              "    </tr>\n",
              "    <tr>\n",
              "      <th>BRONX</th>\n",
              "      <td>2053821</td>\n",
              "    </tr>\n",
              "    <tr>\n",
              "      <th>QUEENS</th>\n",
              "      <td>1928347</td>\n",
              "    </tr>\n",
              "    <tr>\n",
              "      <th>STATEN ISLAND</th>\n",
              "      <td>434166</td>\n",
              "    </tr>\n",
              "    <tr>\n",
              "      <th>NaN</th>\n",
              "      <td>8661</td>\n",
              "    </tr>\n",
              "  </tbody>\n",
              "</table>\n",
              "</div><br><label><b>dtype:</b> int64</label>"
            ]
          },
          "metadata": {},
          "execution_count": 235
        }
      ]
    },
    {
      "cell_type": "code",
      "source": [
        "# df.BORO_NM.replace(to_replace = '(null)', value=np.nan, inplace = True)"
      ],
      "metadata": {
        "id": "5xj4Iz6nO2VS"
      },
      "execution_count": 41,
      "outputs": []
    },
    {
      "cell_type": "code",
      "metadata": {
        "id": "1k5gkaPcKyc3",
        "colab": {
          "base_uri": "https://localhost:8080/"
        },
        "outputId": "05c894e1-32ae-40cd-ff36-6a5ff2cf4b3a"
      },
      "source": [
        "df.BORO_NM.isnull().sum()"
      ],
      "execution_count": 236,
      "outputs": [
        {
          "output_type": "execute_result",
          "data": {
            "text/plain": [
              "np.int64(8661)"
            ]
          },
          "metadata": {},
          "execution_count": 236
        }
      ]
    },
    {
      "cell_type": "code",
      "metadata": {
        "id": "QycD04zYKsYv"
      },
      "source": [
        "df = df[~df.BORO_NM.isnull()]"
      ],
      "execution_count": 237,
      "outputs": []
    },
    {
      "cell_type": "code",
      "metadata": {
        "id": "BOy4IDT-Kmqx"
      },
      "source": [
        "df.BORO_NM = pd.Categorical(df.BORO_NM)"
      ],
      "execution_count": 238,
      "outputs": []
    },
    {
      "cell_type": "markdown",
      "metadata": {
        "id": "dYetoWeydJBI"
      },
      "source": [
        "### 23  SUSP_AGE_GROUP     object\n",
        "### 32  VIC_AGE_GROUP      object"
      ]
    },
    {
      "cell_type": "code",
      "source": [
        "df.SUSP_AGE_GROUP.value_counts(dropna=False).head(10)"
      ],
      "metadata": {
        "id": "wH9kd_8Vr7Te",
        "outputId": "1022829d-b656-4655-defa-d4c952060486",
        "colab": {
          "base_uri": "https://localhost:8080/",
          "height": 429
        }
      },
      "execution_count": 240,
      "outputs": [
        {
          "output_type": "execute_result",
          "data": {
            "text/plain": [
              "SUSP_AGE_GROUP\n",
              "NaN      6128929\n",
              "25-44    1800287\n",
              "18-24     649134\n",
              "45-64     626721\n",
              "<18       216145\n",
              "65+        58930\n",
              "1022          25\n",
              "1023          20\n",
              "2021          19\n",
              "2014          17\n",
              "Name: count, dtype: int64"
            ],
            "text/html": [
              "<div>\n",
              "<style scoped>\n",
              "    .dataframe tbody tr th:only-of-type {\n",
              "        vertical-align: middle;\n",
              "    }\n",
              "\n",
              "    .dataframe tbody tr th {\n",
              "        vertical-align: top;\n",
              "    }\n",
              "\n",
              "    .dataframe thead th {\n",
              "        text-align: right;\n",
              "    }\n",
              "</style>\n",
              "<table border=\"1\" class=\"dataframe\">\n",
              "  <thead>\n",
              "    <tr style=\"text-align: right;\">\n",
              "      <th></th>\n",
              "      <th>count</th>\n",
              "    </tr>\n",
              "    <tr>\n",
              "      <th>SUSP_AGE_GROUP</th>\n",
              "      <th></th>\n",
              "    </tr>\n",
              "  </thead>\n",
              "  <tbody>\n",
              "    <tr>\n",
              "      <th>NaN</th>\n",
              "      <td>6128929</td>\n",
              "    </tr>\n",
              "    <tr>\n",
              "      <th>25-44</th>\n",
              "      <td>1800287</td>\n",
              "    </tr>\n",
              "    <tr>\n",
              "      <th>18-24</th>\n",
              "      <td>649134</td>\n",
              "    </tr>\n",
              "    <tr>\n",
              "      <th>45-64</th>\n",
              "      <td>626721</td>\n",
              "    </tr>\n",
              "    <tr>\n",
              "      <th>&lt;18</th>\n",
              "      <td>216145</td>\n",
              "    </tr>\n",
              "    <tr>\n",
              "      <th>65+</th>\n",
              "      <td>58930</td>\n",
              "    </tr>\n",
              "    <tr>\n",
              "      <th>1022</th>\n",
              "      <td>25</td>\n",
              "    </tr>\n",
              "    <tr>\n",
              "      <th>1023</th>\n",
              "      <td>20</td>\n",
              "    </tr>\n",
              "    <tr>\n",
              "      <th>2021</th>\n",
              "      <td>19</td>\n",
              "    </tr>\n",
              "    <tr>\n",
              "      <th>2014</th>\n",
              "      <td>17</td>\n",
              "    </tr>\n",
              "  </tbody>\n",
              "</table>\n",
              "</div><br><label><b>dtype:</b> int64</label>"
            ]
          },
          "metadata": {},
          "execution_count": 240
        }
      ]
    },
    {
      "cell_type": "code",
      "source": [
        "df.VIC_AGE_GROUP.value_counts(dropna=False).head(10)"
      ],
      "metadata": {
        "id": "W1i9QBpgsIIf",
        "outputId": "f1d3d996-6059-46d8-ed6a-93dc432a4127",
        "colab": {
          "base_uri": "https://localhost:8080/",
          "height": 429
        }
      },
      "execution_count": 241,
      "outputs": [
        {
          "output_type": "execute_result",
          "data": {
            "text/plain": [
              "VIC_AGE_GROUP\n",
              "25-44    3161892\n",
              "NaN      2937747\n",
              "45-64    1638257\n",
              "18-24     946969\n",
              "<18       439154\n",
              "65+       356107\n",
              "930           18\n",
              "936           17\n",
              "940           15\n",
              "935           14\n",
              "Name: count, dtype: int64"
            ],
            "text/html": [
              "<div>\n",
              "<style scoped>\n",
              "    .dataframe tbody tr th:only-of-type {\n",
              "        vertical-align: middle;\n",
              "    }\n",
              "\n",
              "    .dataframe tbody tr th {\n",
              "        vertical-align: top;\n",
              "    }\n",
              "\n",
              "    .dataframe thead th {\n",
              "        text-align: right;\n",
              "    }\n",
              "</style>\n",
              "<table border=\"1\" class=\"dataframe\">\n",
              "  <thead>\n",
              "    <tr style=\"text-align: right;\">\n",
              "      <th></th>\n",
              "      <th>count</th>\n",
              "    </tr>\n",
              "    <tr>\n",
              "      <th>VIC_AGE_GROUP</th>\n",
              "      <th></th>\n",
              "    </tr>\n",
              "  </thead>\n",
              "  <tbody>\n",
              "    <tr>\n",
              "      <th>25-44</th>\n",
              "      <td>3161892</td>\n",
              "    </tr>\n",
              "    <tr>\n",
              "      <th>NaN</th>\n",
              "      <td>2937747</td>\n",
              "    </tr>\n",
              "    <tr>\n",
              "      <th>45-64</th>\n",
              "      <td>1638257</td>\n",
              "    </tr>\n",
              "    <tr>\n",
              "      <th>18-24</th>\n",
              "      <td>946969</td>\n",
              "    </tr>\n",
              "    <tr>\n",
              "      <th>&lt;18</th>\n",
              "      <td>439154</td>\n",
              "    </tr>\n",
              "    <tr>\n",
              "      <th>65+</th>\n",
              "      <td>356107</td>\n",
              "    </tr>\n",
              "    <tr>\n",
              "      <th>930</th>\n",
              "      <td>18</td>\n",
              "    </tr>\n",
              "    <tr>\n",
              "      <th>936</th>\n",
              "      <td>17</td>\n",
              "    </tr>\n",
              "    <tr>\n",
              "      <th>940</th>\n",
              "      <td>15</td>\n",
              "    </tr>\n",
              "    <tr>\n",
              "      <th>935</th>\n",
              "      <td>14</td>\n",
              "    </tr>\n",
              "  </tbody>\n",
              "</table>\n",
              "</div><br><label><b>dtype:</b> int64</label>"
            ]
          },
          "metadata": {},
          "execution_count": 241
        }
      ]
    },
    {
      "cell_type": "code",
      "metadata": {
        "id": "uB6ZXLgxN9mv"
      },
      "source": [
        "# Both columns have a lot of noisy entries. We keep only the dominant groups, and also define an order\n",
        "df.SUSP_AGE_GROUP = pd.Categorical(df.SUSP_AGE_GROUP, ordered=True, categories=['<18', '18-24',  '25-44', '45-64', '65+'])\n",
        "df.VIC_AGE_GROUP = pd.Categorical(df.VIC_AGE_GROUP, ordered=True, categories=['<18', '18-24',  '25-44', '45-64', '65+'])"
      ],
      "execution_count": 242,
      "outputs": []
    },
    {
      "cell_type": "markdown",
      "metadata": {
        "id": "dzbRUBNidLui"
      },
      "source": [
        "\n",
        "### 24  SUSP_RACE          object\n",
        "### 25  SUSP_SEX           object\n",
        "\n",
        "### 33  VIC_RACE           object\n",
        "### 34  VIC_SEX            object"
      ]
    },
    {
      "cell_type": "code",
      "source": [
        "df.VIC_SEX.value_counts(dropna=False)"
      ],
      "metadata": {
        "id": "l1fgnxzhsN2I",
        "outputId": "2f847748-e803-4d44-daf1-c69b79d8c06f",
        "colab": {
          "base_uri": "https://localhost:8080/",
          "height": 334
        }
      },
      "execution_count": 243,
      "outputs": [
        {
          "output_type": "execute_result",
          "data": {
            "text/plain": [
              "VIC_SEX\n",
              "F      3686282\n",
              "M      3155112\n",
              "E      1378403\n",
              "D      1250725\n",
              "L        10040\n",
              "NaN        305\n",
              "U            4\n",
              "Name: count, dtype: int64"
            ],
            "text/html": [
              "<div>\n",
              "<style scoped>\n",
              "    .dataframe tbody tr th:only-of-type {\n",
              "        vertical-align: middle;\n",
              "    }\n",
              "\n",
              "    .dataframe tbody tr th {\n",
              "        vertical-align: top;\n",
              "    }\n",
              "\n",
              "    .dataframe thead th {\n",
              "        text-align: right;\n",
              "    }\n",
              "</style>\n",
              "<table border=\"1\" class=\"dataframe\">\n",
              "  <thead>\n",
              "    <tr style=\"text-align: right;\">\n",
              "      <th></th>\n",
              "      <th>count</th>\n",
              "    </tr>\n",
              "    <tr>\n",
              "      <th>VIC_SEX</th>\n",
              "      <th></th>\n",
              "    </tr>\n",
              "  </thead>\n",
              "  <tbody>\n",
              "    <tr>\n",
              "      <th>F</th>\n",
              "      <td>3686282</td>\n",
              "    </tr>\n",
              "    <tr>\n",
              "      <th>M</th>\n",
              "      <td>3155112</td>\n",
              "    </tr>\n",
              "    <tr>\n",
              "      <th>E</th>\n",
              "      <td>1378403</td>\n",
              "    </tr>\n",
              "    <tr>\n",
              "      <th>D</th>\n",
              "      <td>1250725</td>\n",
              "    </tr>\n",
              "    <tr>\n",
              "      <th>L</th>\n",
              "      <td>10040</td>\n",
              "    </tr>\n",
              "    <tr>\n",
              "      <th>NaN</th>\n",
              "      <td>305</td>\n",
              "    </tr>\n",
              "    <tr>\n",
              "      <th>U</th>\n",
              "      <td>4</td>\n",
              "    </tr>\n",
              "  </tbody>\n",
              "</table>\n",
              "</div><br><label><b>dtype:</b> int64</label>"
            ]
          },
          "metadata": {},
          "execution_count": 243
        }
      ]
    },
    {
      "cell_type": "code",
      "metadata": {
        "id": "AbvNhUSHLWyX"
      },
      "source": [
        "df.VIC_SEX = df.VIC_SEX.replace(to_replace = 'U', value=np.nan)\n",
        "df = df[~df.VIC_SEX.isnull()]"
      ],
      "execution_count": 244,
      "outputs": []
    },
    {
      "cell_type": "code",
      "source": [],
      "metadata": {
        "id": "NsCLBR1usdnn"
      },
      "execution_count": 246,
      "outputs": []
    },
    {
      "cell_type": "code",
      "metadata": {
        "id": "90z-XtBmL7Y_",
        "colab": {
          "base_uri": "https://localhost:8080/",
          "height": 334
        },
        "outputId": "03365da3-58a1-4217-f646-32a7987a7821"
      },
      "source": [
        "df.VIC_RACE.value_counts(dropna=False)"
      ],
      "execution_count": 250,
      "outputs": [
        {
          "output_type": "execute_result",
          "data": {
            "text/plain": [
              "VIC_RACE\n",
              "NaN                               3092582\n",
              "BLACK                             2283097\n",
              "WHITE HISPANIC                    1564041\n",
              "WHITE                             1562616\n",
              "ASIAN / PACIFIC ISLANDER           594007\n",
              "BLACK HISPANIC                     342221\n",
              "AMERICAN INDIAN/ALASKAN NATIVE      41998\n",
              "Name: count, dtype: int64"
            ],
            "text/html": [
              "<div>\n",
              "<style scoped>\n",
              "    .dataframe tbody tr th:only-of-type {\n",
              "        vertical-align: middle;\n",
              "    }\n",
              "\n",
              "    .dataframe tbody tr th {\n",
              "        vertical-align: top;\n",
              "    }\n",
              "\n",
              "    .dataframe thead th {\n",
              "        text-align: right;\n",
              "    }\n",
              "</style>\n",
              "<table border=\"1\" class=\"dataframe\">\n",
              "  <thead>\n",
              "    <tr style=\"text-align: right;\">\n",
              "      <th></th>\n",
              "      <th>count</th>\n",
              "    </tr>\n",
              "    <tr>\n",
              "      <th>VIC_RACE</th>\n",
              "      <th></th>\n",
              "    </tr>\n",
              "  </thead>\n",
              "  <tbody>\n",
              "    <tr>\n",
              "      <th>NaN</th>\n",
              "      <td>3092582</td>\n",
              "    </tr>\n",
              "    <tr>\n",
              "      <th>BLACK</th>\n",
              "      <td>2283097</td>\n",
              "    </tr>\n",
              "    <tr>\n",
              "      <th>WHITE HISPANIC</th>\n",
              "      <td>1564041</td>\n",
              "    </tr>\n",
              "    <tr>\n",
              "      <th>WHITE</th>\n",
              "      <td>1562616</td>\n",
              "    </tr>\n",
              "    <tr>\n",
              "      <th>ASIAN / PACIFIC ISLANDER</th>\n",
              "      <td>594007</td>\n",
              "    </tr>\n",
              "    <tr>\n",
              "      <th>BLACK HISPANIC</th>\n",
              "      <td>342221</td>\n",
              "    </tr>\n",
              "    <tr>\n",
              "      <th>AMERICAN INDIAN/ALASKAN NATIVE</th>\n",
              "      <td>41998</td>\n",
              "    </tr>\n",
              "  </tbody>\n",
              "</table>\n",
              "</div><br><label><b>dtype:</b> int64</label>"
            ]
          },
          "metadata": {},
          "execution_count": 250
        }
      ]
    },
    {
      "cell_type": "code",
      "metadata": {
        "id": "f90mE8bAMCbq"
      },
      "source": [
        "df.VIC_RACE = df.VIC_RACE.replace(to_replace = 'OTHER', value=np.nan)"
      ],
      "execution_count": 249,
      "outputs": []
    },
    {
      "cell_type": "code",
      "metadata": {
        "id": "sXZiVydvLW7B",
        "colab": {
          "base_uri": "https://localhost:8080/",
          "height": 240
        },
        "outputId": "4d302a9b-6ea5-471f-81b3-6f23c132922e"
      },
      "source": [
        "df.SUSP_SEX.value_counts(dropna=False)"
      ],
      "execution_count": 253,
      "outputs": [
        {
          "output_type": "execute_result",
          "data": {
            "text/plain": [
              "SUSP_SEX\n",
              "NaN    3877927\n",
              "M      3447738\n",
              "U      1110664\n",
              "F      1044233\n",
              "Name: count, dtype: int64"
            ],
            "text/html": [
              "<div>\n",
              "<style scoped>\n",
              "    .dataframe tbody tr th:only-of-type {\n",
              "        vertical-align: middle;\n",
              "    }\n",
              "\n",
              "    .dataframe tbody tr th {\n",
              "        vertical-align: top;\n",
              "    }\n",
              "\n",
              "    .dataframe thead th {\n",
              "        text-align: right;\n",
              "    }\n",
              "</style>\n",
              "<table border=\"1\" class=\"dataframe\">\n",
              "  <thead>\n",
              "    <tr style=\"text-align: right;\">\n",
              "      <th></th>\n",
              "      <th>count</th>\n",
              "    </tr>\n",
              "    <tr>\n",
              "      <th>SUSP_SEX</th>\n",
              "      <th></th>\n",
              "    </tr>\n",
              "  </thead>\n",
              "  <tbody>\n",
              "    <tr>\n",
              "      <th>NaN</th>\n",
              "      <td>3877927</td>\n",
              "    </tr>\n",
              "    <tr>\n",
              "      <th>M</th>\n",
              "      <td>3447738</td>\n",
              "    </tr>\n",
              "    <tr>\n",
              "      <th>U</th>\n",
              "      <td>1110664</td>\n",
              "    </tr>\n",
              "    <tr>\n",
              "      <th>F</th>\n",
              "      <td>1044233</td>\n",
              "    </tr>\n",
              "  </tbody>\n",
              "</table>\n",
              "</div><br><label><b>dtype:</b> int64</label>"
            ]
          },
          "metadata": {},
          "execution_count": 253
        }
      ]
    },
    {
      "cell_type": "code",
      "metadata": {
        "id": "uqOaUJwGOY8A",
        "colab": {
          "base_uri": "https://localhost:8080/",
          "height": 366
        },
        "outputId": "7241deb7-9f34-4a0a-db73-698474c2d819"
      },
      "source": [
        "df.SUSP_RACE.value_counts(dropna=False)"
      ],
      "execution_count": 254,
      "outputs": [
        {
          "output_type": "execute_result",
          "data": {
            "text/plain": [
              "SUSP_RACE\n",
              "NaN                               5316792\n",
              "BLACK                             2102908\n",
              "WHITE HISPANIC                     965757\n",
              "WHITE                              584904\n",
              "BLACK HISPANIC                     301757\n",
              "ASIAN / PACIFIC ISLANDER           192368\n",
              "AMERICAN INDIAN/ALASKAN NATIVE      16065\n",
              "OTHER                                  11\n",
              "Name: count, dtype: int64"
            ],
            "text/html": [
              "<div>\n",
              "<style scoped>\n",
              "    .dataframe tbody tr th:only-of-type {\n",
              "        vertical-align: middle;\n",
              "    }\n",
              "\n",
              "    .dataframe tbody tr th {\n",
              "        vertical-align: top;\n",
              "    }\n",
              "\n",
              "    .dataframe thead th {\n",
              "        text-align: right;\n",
              "    }\n",
              "</style>\n",
              "<table border=\"1\" class=\"dataframe\">\n",
              "  <thead>\n",
              "    <tr style=\"text-align: right;\">\n",
              "      <th></th>\n",
              "      <th>count</th>\n",
              "    </tr>\n",
              "    <tr>\n",
              "      <th>SUSP_RACE</th>\n",
              "      <th></th>\n",
              "    </tr>\n",
              "  </thead>\n",
              "  <tbody>\n",
              "    <tr>\n",
              "      <th>NaN</th>\n",
              "      <td>5316792</td>\n",
              "    </tr>\n",
              "    <tr>\n",
              "      <th>BLACK</th>\n",
              "      <td>2102908</td>\n",
              "    </tr>\n",
              "    <tr>\n",
              "      <th>WHITE HISPANIC</th>\n",
              "      <td>965757</td>\n",
              "    </tr>\n",
              "    <tr>\n",
              "      <th>WHITE</th>\n",
              "      <td>584904</td>\n",
              "    </tr>\n",
              "    <tr>\n",
              "      <th>BLACK HISPANIC</th>\n",
              "      <td>301757</td>\n",
              "    </tr>\n",
              "    <tr>\n",
              "      <th>ASIAN / PACIFIC ISLANDER</th>\n",
              "      <td>192368</td>\n",
              "    </tr>\n",
              "    <tr>\n",
              "      <th>AMERICAN INDIAN/ALASKAN NATIVE</th>\n",
              "      <td>16065</td>\n",
              "    </tr>\n",
              "    <tr>\n",
              "      <th>OTHER</th>\n",
              "      <td>11</td>\n",
              "    </tr>\n",
              "  </tbody>\n",
              "</table>\n",
              "</div><br><label><b>dtype:</b> int64</label>"
            ]
          },
          "metadata": {},
          "execution_count": 254
        }
      ]
    },
    {
      "cell_type": "code",
      "metadata": {
        "id": "uNrpuX5cO2jD"
      },
      "source": [
        "# U is unknown, same is NULL.\n",
        "df.SUSP_SEX = df.SUSP_SEX.replace(to_replace = 'U', value=np.nan)\n",
        "# df.SUSP_SEX = df.SUSP_SEX.replace(to_replace = '(null)', value=np.nan)\n",
        "# df.SUSP_SEX = df.SUSP_SEX.replace(to_replace = 'UNKNOWN', value=np.nan)\n",
        "\n",
        "# Very small amount of OTHER values\n",
        "df.SUSP_RACE = df.SUSP_RACE.replace(to_replace = 'OTHER', value=np.nan)\n",
        "\n"
      ],
      "execution_count": 255,
      "outputs": []
    },
    {
      "cell_type": "code",
      "metadata": {
        "id": "cnsudHdiminz"
      },
      "source": [
        "df.SUSP_RACE = pd.Categorical(df.SUSP_RACE)\n",
        "df.SUSP_SEX = pd.Categorical(df.SUSP_SEX)\n",
        "df.VIC_RACE = pd.Categorical(df.VIC_RACE)\n",
        "df.VIC_SEX = pd.Categorical(df.VIC_SEX)"
      ],
      "execution_count": 257,
      "outputs": []
    },
    {
      "cell_type": "code",
      "metadata": {
        "id": "oefs7ULfLq_3"
      },
      "source": [],
      "execution_count": 58,
      "outputs": []
    },
    {
      "cell_type": "markdown",
      "metadata": {
        "id": "hwqg7JDimsZL"
      },
      "source": [
        "###  14  LOC_OF_OCCUR_DESC  object"
      ]
    },
    {
      "cell_type": "code",
      "metadata": {
        "id": "FjndFTaaLrCz",
        "colab": {
          "base_uri": "https://localhost:8080/",
          "height": 303
        },
        "outputId": "c3f030e0-f19d-46c0-e076-d4b3abf70083"
      },
      "source": [
        "df.LOC_OF_OCCUR_DESC.value_counts(dropna=False)"
      ],
      "execution_count": 259,
      "outputs": [
        {
          "output_type": "execute_result",
          "data": {
            "text/plain": [
              "LOC_OF_OCCUR_DESC\n",
              "INSIDE         4854935\n",
              "FRONT OF       2250910\n",
              "NaN            1944082\n",
              "OPPOSITE OF     236153\n",
              "REAR OF         189590\n",
              "OUTSIDE           4892\n",
              "Name: count, dtype: int64"
            ],
            "text/html": [
              "<div>\n",
              "<style scoped>\n",
              "    .dataframe tbody tr th:only-of-type {\n",
              "        vertical-align: middle;\n",
              "    }\n",
              "\n",
              "    .dataframe tbody tr th {\n",
              "        vertical-align: top;\n",
              "    }\n",
              "\n",
              "    .dataframe thead th {\n",
              "        text-align: right;\n",
              "    }\n",
              "</style>\n",
              "<table border=\"1\" class=\"dataframe\">\n",
              "  <thead>\n",
              "    <tr style=\"text-align: right;\">\n",
              "      <th></th>\n",
              "      <th>count</th>\n",
              "    </tr>\n",
              "    <tr>\n",
              "      <th>LOC_OF_OCCUR_DESC</th>\n",
              "      <th></th>\n",
              "    </tr>\n",
              "  </thead>\n",
              "  <tbody>\n",
              "    <tr>\n",
              "      <th>INSIDE</th>\n",
              "      <td>4854935</td>\n",
              "    </tr>\n",
              "    <tr>\n",
              "      <th>FRONT OF</th>\n",
              "      <td>2250910</td>\n",
              "    </tr>\n",
              "    <tr>\n",
              "      <th>NaN</th>\n",
              "      <td>1944082</td>\n",
              "    </tr>\n",
              "    <tr>\n",
              "      <th>OPPOSITE OF</th>\n",
              "      <td>236153</td>\n",
              "    </tr>\n",
              "    <tr>\n",
              "      <th>REAR OF</th>\n",
              "      <td>189590</td>\n",
              "    </tr>\n",
              "    <tr>\n",
              "      <th>OUTSIDE</th>\n",
              "      <td>4892</td>\n",
              "    </tr>\n",
              "  </tbody>\n",
              "</table>\n",
              "</div><br><label><b>dtype:</b> int64</label>"
            ]
          },
          "metadata": {},
          "execution_count": 259
        }
      ]
    },
    {
      "cell_type": "code",
      "metadata": {
        "id": "BYD6exvDURk0"
      },
      "source": [
        "df.LOC_OF_OCCUR_DESC = pd.Categorical(df.LOC_OF_OCCUR_DESC)"
      ],
      "execution_count": 260,
      "outputs": []
    },
    {
      "cell_type": "markdown",
      "metadata": {
        "id": "aXmyNo52mz3j"
      },
      "source": [
        "### Latitude  & Longitude"
      ]
    },
    {
      "cell_type": "code",
      "source": [
        "# !sudo apt-get update\n",
        "# !sudo apt-get install python3-rtree\n",
        "# !sudo pip3 install geopandas descartes shapely ngram # matplotlib==3.1.3"
      ],
      "metadata": {
        "id": "ZafKlm4KCB9C"
      },
      "execution_count": 166,
      "outputs": []
    },
    {
      "cell_type": "code",
      "source": [
        "import geopandas as gpd"
      ],
      "metadata": {
        "id": "90qOQIXADsB3"
      },
      "execution_count": 261,
      "outputs": []
    },
    {
      "cell_type": "code",
      "metadata": {
        "id": "U9no8KCH5mm9"
      },
      "source": [
        "df.Latitude = pd.to_numeric(df.Latitude)\n",
        "df.Longitude  = pd.to_numeric(df.Longitude)"
      ],
      "execution_count": 263,
      "outputs": []
    },
    {
      "cell_type": "code",
      "source": [
        "gdf = gpd.GeoDataFrame(df, geometry=gpd.points_from_xy(df.Longitude, df.Latitude))"
      ],
      "metadata": {
        "id": "7VohK2IPCKI5"
      },
      "execution_count": 264,
      "outputs": []
    },
    {
      "cell_type": "code",
      "source": [
        "# https://data.cityofnewyork.us/City-Government/2020-Neighborhood-Tabulation-Areas-NTAs-/9nt8-h7nd/about_data\n",
        "shapefile_url = 'https://data.cityofnewyork.us/resource/9nt8-h7nd.geojson'\n",
        "df_nyc = gpd.GeoDataFrame.from_file(shapefile_url)\n",
        "df_nyc = df_nyc.to_crs(4326)"
      ],
      "metadata": {
        "id": "IpqfpFphCOoz"
      },
      "execution_count": 265,
      "outputs": []
    },
    {
      "cell_type": "code",
      "source": [
        "df_nyc"
      ],
      "metadata": {
        "colab": {
          "base_uri": "https://localhost:8080/",
          "height": 1000
        },
        "id": "OWAxQ_WtNB65",
        "outputId": "b8511f7d-7438-4d68-b0c8-02b0b5545805"
      },
      "execution_count": 70,
      "outputs": [
        {
          "output_type": "execute_result",
          "data": {
            "text/plain": [
              "     OBJECTID  BoroCode       BoroName CountyFIPS NTA2020  \\\n",
              "0           1         3       Brooklyn        047  BK0101   \n",
              "1           2         3       Brooklyn        047  BK0102   \n",
              "2           3         3       Brooklyn        047  BK0103   \n",
              "3           4         3       Brooklyn        047  BK0104   \n",
              "4           5         3       Brooklyn        047  BK0201   \n",
              "..        ...       ...            ...        ...     ...   \n",
              "257       258         5  Staten Island        085  SI0391   \n",
              "258       259         5  Staten Island        085  SI9561   \n",
              "259       260         5  Staten Island        085  SI9591   \n",
              "260       261         5  Staten Island        085  SI9592   \n",
              "261       262         5  Staten Island        085  SI9593   \n",
              "\n",
              "                         NTAName   NTAAbbrev NTAType CDTA2020  \\\n",
              "0                     Greenpoint       Grnpt       0     BK01   \n",
              "1                   Williamsburg    Wllmsbrg       0     BK01   \n",
              "2             South Williamsburg   SWllmsbrg       0     BK01   \n",
              "3              East Williamsburg   EWllmsbrg       0     BK01   \n",
              "4               Brooklyn Heights       BkHts       0     BK02   \n",
              "..                           ...         ...     ...      ...   \n",
              "257      Freshkills Park (South)  FrshklPK_S       9     SI03   \n",
              "258               Fort Wadsworth   FtWdswrth       6     SI95   \n",
              "259  Hoffman & Swinburne Islands    HffmnIsl       9     SI95   \n",
              "260                 Miller Field     MllrFld       9     SI95   \n",
              "261             Great Kills Park    GrtKlsPk       9     SI95   \n",
              "\n",
              "                                              CDTAName   Shape__Area  \\\n",
              "0       BK01 Williamsburg-Greenpoint (CD 1 Equivalent)  3.532181e+07   \n",
              "1       BK01 Williamsburg-Greenpoint (CD 1 Equivalent)  2.885285e+07   \n",
              "2       BK01 Williamsburg-Greenpoint (CD 1 Equivalent)  1.520896e+07   \n",
              "3       BK01 Williamsburg-Greenpoint (CD 1 Equivalent)  5.226741e+07   \n",
              "4    BK02 Downtown Brooklyn-Fort Greene (CD 2 Appro...  9.982322e+06   \n",
              "..                                                 ...           ...   \n",
              "257              SI03 South Shore (CD 3 Approximation)  4.775877e+07   \n",
              "258  SI95 Great Kills Park-Fort Wadsworth (JIA 95 A...  9.867249e+06   \n",
              "259  SI95 Great Kills Park-Fort Wadsworth (JIA 95 A...  6.357020e+05   \n",
              "260  SI95 Great Kills Park-Fort Wadsworth (JIA 95 A...  1.086680e+07   \n",
              "261  SI95 Great Kills Park-Fort Wadsworth (JIA 95 A...  2.337791e+07   \n",
              "\n",
              "     Shape__Length                                           geometry  \n",
              "0     28919.560811  POLYGON ((-73.93214 40.72817, -73.93238 40.728...  \n",
              "1     28134.082324  POLYGON ((-73.95814 40.72441, -73.95772 40.724...  \n",
              "2     18250.280543  POLYGON ((-73.95024 40.70548, -73.94984 40.705...  \n",
              "3     43184.798988  POLYGON ((-73.92406 40.71412, -73.92404 40.714...  \n",
              "4     14312.504975  POLYGON ((-73.99237 40.6897, -73.99436 40.6902...  \n",
              "..             ...                                                ...  \n",
              "257   33945.420421  POLYGON ((-74.20059 40.57952, -74.19888 40.579...  \n",
              "258   14814.414741  POLYGON ((-74.05975 40.59386, -74.06014 40.594...  \n",
              "259    4743.128127  MULTIPOLYGON (((-74.05314 40.57771, -74.05406 ...  \n",
              "260   19197.200973  POLYGON ((-74.08469 40.57149, -74.08595 40.570...  \n",
              "261   41465.430187  POLYGON ((-74.11338 40.54808, -74.11341 40.548...  \n",
              "\n",
              "[262 rows x 13 columns]"
            ],
            "text/html": [
              "\n",
              "  <div id=\"df-2f69e46c-f845-42d8-afa3-71f2c4d934df\" class=\"colab-df-container\">\n",
              "    <div>\n",
              "<style scoped>\n",
              "    .dataframe tbody tr th:only-of-type {\n",
              "        vertical-align: middle;\n",
              "    }\n",
              "\n",
              "    .dataframe tbody tr th {\n",
              "        vertical-align: top;\n",
              "    }\n",
              "\n",
              "    .dataframe thead th {\n",
              "        text-align: right;\n",
              "    }\n",
              "</style>\n",
              "<table border=\"1\" class=\"dataframe\">\n",
              "  <thead>\n",
              "    <tr style=\"text-align: right;\">\n",
              "      <th></th>\n",
              "      <th>OBJECTID</th>\n",
              "      <th>BoroCode</th>\n",
              "      <th>BoroName</th>\n",
              "      <th>CountyFIPS</th>\n",
              "      <th>NTA2020</th>\n",
              "      <th>NTAName</th>\n",
              "      <th>NTAAbbrev</th>\n",
              "      <th>NTAType</th>\n",
              "      <th>CDTA2020</th>\n",
              "      <th>CDTAName</th>\n",
              "      <th>Shape__Area</th>\n",
              "      <th>Shape__Length</th>\n",
              "      <th>geometry</th>\n",
              "    </tr>\n",
              "  </thead>\n",
              "  <tbody>\n",
              "    <tr>\n",
              "      <th>0</th>\n",
              "      <td>1</td>\n",
              "      <td>3</td>\n",
              "      <td>Brooklyn</td>\n",
              "      <td>047</td>\n",
              "      <td>BK0101</td>\n",
              "      <td>Greenpoint</td>\n",
              "      <td>Grnpt</td>\n",
              "      <td>0</td>\n",
              "      <td>BK01</td>\n",
              "      <td>BK01 Williamsburg-Greenpoint (CD 1 Equivalent)</td>\n",
              "      <td>3.532181e+07</td>\n",
              "      <td>28919.560811</td>\n",
              "      <td>POLYGON ((-73.93214 40.72817, -73.93238 40.728...</td>\n",
              "    </tr>\n",
              "    <tr>\n",
              "      <th>1</th>\n",
              "      <td>2</td>\n",
              "      <td>3</td>\n",
              "      <td>Brooklyn</td>\n",
              "      <td>047</td>\n",
              "      <td>BK0102</td>\n",
              "      <td>Williamsburg</td>\n",
              "      <td>Wllmsbrg</td>\n",
              "      <td>0</td>\n",
              "      <td>BK01</td>\n",
              "      <td>BK01 Williamsburg-Greenpoint (CD 1 Equivalent)</td>\n",
              "      <td>2.885285e+07</td>\n",
              "      <td>28134.082324</td>\n",
              "      <td>POLYGON ((-73.95814 40.72441, -73.95772 40.724...</td>\n",
              "    </tr>\n",
              "    <tr>\n",
              "      <th>2</th>\n",
              "      <td>3</td>\n",
              "      <td>3</td>\n",
              "      <td>Brooklyn</td>\n",
              "      <td>047</td>\n",
              "      <td>BK0103</td>\n",
              "      <td>South Williamsburg</td>\n",
              "      <td>SWllmsbrg</td>\n",
              "      <td>0</td>\n",
              "      <td>BK01</td>\n",
              "      <td>BK01 Williamsburg-Greenpoint (CD 1 Equivalent)</td>\n",
              "      <td>1.520896e+07</td>\n",
              "      <td>18250.280543</td>\n",
              "      <td>POLYGON ((-73.95024 40.70548, -73.94984 40.705...</td>\n",
              "    </tr>\n",
              "    <tr>\n",
              "      <th>3</th>\n",
              "      <td>4</td>\n",
              "      <td>3</td>\n",
              "      <td>Brooklyn</td>\n",
              "      <td>047</td>\n",
              "      <td>BK0104</td>\n",
              "      <td>East Williamsburg</td>\n",
              "      <td>EWllmsbrg</td>\n",
              "      <td>0</td>\n",
              "      <td>BK01</td>\n",
              "      <td>BK01 Williamsburg-Greenpoint (CD 1 Equivalent)</td>\n",
              "      <td>5.226741e+07</td>\n",
              "      <td>43184.798988</td>\n",
              "      <td>POLYGON ((-73.92406 40.71412, -73.92404 40.714...</td>\n",
              "    </tr>\n",
              "    <tr>\n",
              "      <th>4</th>\n",
              "      <td>5</td>\n",
              "      <td>3</td>\n",
              "      <td>Brooklyn</td>\n",
              "      <td>047</td>\n",
              "      <td>BK0201</td>\n",
              "      <td>Brooklyn Heights</td>\n",
              "      <td>BkHts</td>\n",
              "      <td>0</td>\n",
              "      <td>BK02</td>\n",
              "      <td>BK02 Downtown Brooklyn-Fort Greene (CD 2 Appro...</td>\n",
              "      <td>9.982322e+06</td>\n",
              "      <td>14312.504975</td>\n",
              "      <td>POLYGON ((-73.99237 40.6897, -73.99436 40.6902...</td>\n",
              "    </tr>\n",
              "    <tr>\n",
              "      <th>...</th>\n",
              "      <td>...</td>\n",
              "      <td>...</td>\n",
              "      <td>...</td>\n",
              "      <td>...</td>\n",
              "      <td>...</td>\n",
              "      <td>...</td>\n",
              "      <td>...</td>\n",
              "      <td>...</td>\n",
              "      <td>...</td>\n",
              "      <td>...</td>\n",
              "      <td>...</td>\n",
              "      <td>...</td>\n",
              "      <td>...</td>\n",
              "    </tr>\n",
              "    <tr>\n",
              "      <th>257</th>\n",
              "      <td>258</td>\n",
              "      <td>5</td>\n",
              "      <td>Staten Island</td>\n",
              "      <td>085</td>\n",
              "      <td>SI0391</td>\n",
              "      <td>Freshkills Park (South)</td>\n",
              "      <td>FrshklPK_S</td>\n",
              "      <td>9</td>\n",
              "      <td>SI03</td>\n",
              "      <td>SI03 South Shore (CD 3 Approximation)</td>\n",
              "      <td>4.775877e+07</td>\n",
              "      <td>33945.420421</td>\n",
              "      <td>POLYGON ((-74.20059 40.57952, -74.19888 40.579...</td>\n",
              "    </tr>\n",
              "    <tr>\n",
              "      <th>258</th>\n",
              "      <td>259</td>\n",
              "      <td>5</td>\n",
              "      <td>Staten Island</td>\n",
              "      <td>085</td>\n",
              "      <td>SI9561</td>\n",
              "      <td>Fort Wadsworth</td>\n",
              "      <td>FtWdswrth</td>\n",
              "      <td>6</td>\n",
              "      <td>SI95</td>\n",
              "      <td>SI95 Great Kills Park-Fort Wadsworth (JIA 95 A...</td>\n",
              "      <td>9.867249e+06</td>\n",
              "      <td>14814.414741</td>\n",
              "      <td>POLYGON ((-74.05975 40.59386, -74.06014 40.594...</td>\n",
              "    </tr>\n",
              "    <tr>\n",
              "      <th>259</th>\n",
              "      <td>260</td>\n",
              "      <td>5</td>\n",
              "      <td>Staten Island</td>\n",
              "      <td>085</td>\n",
              "      <td>SI9591</td>\n",
              "      <td>Hoffman &amp; Swinburne Islands</td>\n",
              "      <td>HffmnIsl</td>\n",
              "      <td>9</td>\n",
              "      <td>SI95</td>\n",
              "      <td>SI95 Great Kills Park-Fort Wadsworth (JIA 95 A...</td>\n",
              "      <td>6.357020e+05</td>\n",
              "      <td>4743.128127</td>\n",
              "      <td>MULTIPOLYGON (((-74.05314 40.57771, -74.05406 ...</td>\n",
              "    </tr>\n",
              "    <tr>\n",
              "      <th>260</th>\n",
              "      <td>261</td>\n",
              "      <td>5</td>\n",
              "      <td>Staten Island</td>\n",
              "      <td>085</td>\n",
              "      <td>SI9592</td>\n",
              "      <td>Miller Field</td>\n",
              "      <td>MllrFld</td>\n",
              "      <td>9</td>\n",
              "      <td>SI95</td>\n",
              "      <td>SI95 Great Kills Park-Fort Wadsworth (JIA 95 A...</td>\n",
              "      <td>1.086680e+07</td>\n",
              "      <td>19197.200973</td>\n",
              "      <td>POLYGON ((-74.08469 40.57149, -74.08595 40.570...</td>\n",
              "    </tr>\n",
              "    <tr>\n",
              "      <th>261</th>\n",
              "      <td>262</td>\n",
              "      <td>5</td>\n",
              "      <td>Staten Island</td>\n",
              "      <td>085</td>\n",
              "      <td>SI9593</td>\n",
              "      <td>Great Kills Park</td>\n",
              "      <td>GrtKlsPk</td>\n",
              "      <td>9</td>\n",
              "      <td>SI95</td>\n",
              "      <td>SI95 Great Kills Park-Fort Wadsworth (JIA 95 A...</td>\n",
              "      <td>2.337791e+07</td>\n",
              "      <td>41465.430187</td>\n",
              "      <td>POLYGON ((-74.11338 40.54808, -74.11341 40.548...</td>\n",
              "    </tr>\n",
              "  </tbody>\n",
              "</table>\n",
              "<p>262 rows × 13 columns</p>\n",
              "</div>\n",
              "    <div class=\"colab-df-buttons\">\n",
              "\n",
              "  <div class=\"colab-df-container\">\n",
              "    <button class=\"colab-df-convert\" onclick=\"convertToInteractive('df-2f69e46c-f845-42d8-afa3-71f2c4d934df')\"\n",
              "            title=\"Convert this dataframe to an interactive table.\"\n",
              "            style=\"display:none;\">\n",
              "\n",
              "  <svg xmlns=\"http://www.w3.org/2000/svg\" height=\"24px\" viewBox=\"0 -960 960 960\">\n",
              "    <path d=\"M120-120v-720h720v720H120Zm60-500h600v-160H180v160Zm220 220h160v-160H400v160Zm0 220h160v-160H400v160ZM180-400h160v-160H180v160Zm440 0h160v-160H620v160ZM180-180h160v-160H180v160Zm440 0h160v-160H620v160Z\"/>\n",
              "  </svg>\n",
              "    </button>\n",
              "\n",
              "  <style>\n",
              "    .colab-df-container {\n",
              "      display:flex;\n",
              "      gap: 12px;\n",
              "    }\n",
              "\n",
              "    .colab-df-convert {\n",
              "      background-color: #E8F0FE;\n",
              "      border: none;\n",
              "      border-radius: 50%;\n",
              "      cursor: pointer;\n",
              "      display: none;\n",
              "      fill: #1967D2;\n",
              "      height: 32px;\n",
              "      padding: 0 0 0 0;\n",
              "      width: 32px;\n",
              "    }\n",
              "\n",
              "    .colab-df-convert:hover {\n",
              "      background-color: #E2EBFA;\n",
              "      box-shadow: 0px 1px 2px rgba(60, 64, 67, 0.3), 0px 1px 3px 1px rgba(60, 64, 67, 0.15);\n",
              "      fill: #174EA6;\n",
              "    }\n",
              "\n",
              "    .colab-df-buttons div {\n",
              "      margin-bottom: 4px;\n",
              "    }\n",
              "\n",
              "    [theme=dark] .colab-df-convert {\n",
              "      background-color: #3B4455;\n",
              "      fill: #D2E3FC;\n",
              "    }\n",
              "\n",
              "    [theme=dark] .colab-df-convert:hover {\n",
              "      background-color: #434B5C;\n",
              "      box-shadow: 0px 1px 3px 1px rgba(0, 0, 0, 0.15);\n",
              "      filter: drop-shadow(0px 1px 2px rgba(0, 0, 0, 0.3));\n",
              "      fill: #FFFFFF;\n",
              "    }\n",
              "  </style>\n",
              "\n",
              "    <script>\n",
              "      const buttonEl =\n",
              "        document.querySelector('#df-2f69e46c-f845-42d8-afa3-71f2c4d934df button.colab-df-convert');\n",
              "      buttonEl.style.display =\n",
              "        google.colab.kernel.accessAllowed ? 'block' : 'none';\n",
              "\n",
              "      async function convertToInteractive(key) {\n",
              "        const element = document.querySelector('#df-2f69e46c-f845-42d8-afa3-71f2c4d934df');\n",
              "        const dataTable =\n",
              "          await google.colab.kernel.invokeFunction('convertToInteractive',\n",
              "                                                    [key], {});\n",
              "        if (!dataTable) return;\n",
              "\n",
              "        const docLinkHtml = 'Like what you see? Visit the ' +\n",
              "          '<a target=\"_blank\" href=https://colab.research.google.com/notebooks/data_table.ipynb>data table notebook</a>'\n",
              "          + ' to learn more about interactive tables.';\n",
              "        element.innerHTML = '';\n",
              "        dataTable['output_type'] = 'display_data';\n",
              "        await google.colab.output.renderOutput(dataTable, element);\n",
              "        const docLink = document.createElement('div');\n",
              "        docLink.innerHTML = docLinkHtml;\n",
              "        element.appendChild(docLink);\n",
              "      }\n",
              "    </script>\n",
              "  </div>\n",
              "\n",
              "\n",
              "    <div id=\"df-66786b75-6631-4ef2-a0c1-c1334b2865df\">\n",
              "      <button class=\"colab-df-quickchart\" onclick=\"quickchart('df-66786b75-6631-4ef2-a0c1-c1334b2865df')\"\n",
              "                title=\"Suggest charts\"\n",
              "                style=\"display:none;\">\n",
              "\n",
              "<svg xmlns=\"http://www.w3.org/2000/svg\" height=\"24px\"viewBox=\"0 0 24 24\"\n",
              "     width=\"24px\">\n",
              "    <g>\n",
              "        <path d=\"M19 3H5c-1.1 0-2 .9-2 2v14c0 1.1.9 2 2 2h14c1.1 0 2-.9 2-2V5c0-1.1-.9-2-2-2zM9 17H7v-7h2v7zm4 0h-2V7h2v10zm4 0h-2v-4h2v4z\"/>\n",
              "    </g>\n",
              "</svg>\n",
              "      </button>\n",
              "\n",
              "<style>\n",
              "  .colab-df-quickchart {\n",
              "      --bg-color: #E8F0FE;\n",
              "      --fill-color: #1967D2;\n",
              "      --hover-bg-color: #E2EBFA;\n",
              "      --hover-fill-color: #174EA6;\n",
              "      --disabled-fill-color: #AAA;\n",
              "      --disabled-bg-color: #DDD;\n",
              "  }\n",
              "\n",
              "  [theme=dark] .colab-df-quickchart {\n",
              "      --bg-color: #3B4455;\n",
              "      --fill-color: #D2E3FC;\n",
              "      --hover-bg-color: #434B5C;\n",
              "      --hover-fill-color: #FFFFFF;\n",
              "      --disabled-bg-color: #3B4455;\n",
              "      --disabled-fill-color: #666;\n",
              "  }\n",
              "\n",
              "  .colab-df-quickchart {\n",
              "    background-color: var(--bg-color);\n",
              "    border: none;\n",
              "    border-radius: 50%;\n",
              "    cursor: pointer;\n",
              "    display: none;\n",
              "    fill: var(--fill-color);\n",
              "    height: 32px;\n",
              "    padding: 0;\n",
              "    width: 32px;\n",
              "  }\n",
              "\n",
              "  .colab-df-quickchart:hover {\n",
              "    background-color: var(--hover-bg-color);\n",
              "    box-shadow: 0 1px 2px rgba(60, 64, 67, 0.3), 0 1px 3px 1px rgba(60, 64, 67, 0.15);\n",
              "    fill: var(--button-hover-fill-color);\n",
              "  }\n",
              "\n",
              "  .colab-df-quickchart-complete:disabled,\n",
              "  .colab-df-quickchart-complete:disabled:hover {\n",
              "    background-color: var(--disabled-bg-color);\n",
              "    fill: var(--disabled-fill-color);\n",
              "    box-shadow: none;\n",
              "  }\n",
              "\n",
              "  .colab-df-spinner {\n",
              "    border: 2px solid var(--fill-color);\n",
              "    border-color: transparent;\n",
              "    border-bottom-color: var(--fill-color);\n",
              "    animation:\n",
              "      spin 1s steps(1) infinite;\n",
              "  }\n",
              "\n",
              "  @keyframes spin {\n",
              "    0% {\n",
              "      border-color: transparent;\n",
              "      border-bottom-color: var(--fill-color);\n",
              "      border-left-color: var(--fill-color);\n",
              "    }\n",
              "    20% {\n",
              "      border-color: transparent;\n",
              "      border-left-color: var(--fill-color);\n",
              "      border-top-color: var(--fill-color);\n",
              "    }\n",
              "    30% {\n",
              "      border-color: transparent;\n",
              "      border-left-color: var(--fill-color);\n",
              "      border-top-color: var(--fill-color);\n",
              "      border-right-color: var(--fill-color);\n",
              "    }\n",
              "    40% {\n",
              "      border-color: transparent;\n",
              "      border-right-color: var(--fill-color);\n",
              "      border-top-color: var(--fill-color);\n",
              "    }\n",
              "    60% {\n",
              "      border-color: transparent;\n",
              "      border-right-color: var(--fill-color);\n",
              "    }\n",
              "    80% {\n",
              "      border-color: transparent;\n",
              "      border-right-color: var(--fill-color);\n",
              "      border-bottom-color: var(--fill-color);\n",
              "    }\n",
              "    90% {\n",
              "      border-color: transparent;\n",
              "      border-bottom-color: var(--fill-color);\n",
              "    }\n",
              "  }\n",
              "</style>\n",
              "\n",
              "      <script>\n",
              "        async function quickchart(key) {\n",
              "          const quickchartButtonEl =\n",
              "            document.querySelector('#' + key + ' button');\n",
              "          quickchartButtonEl.disabled = true;  // To prevent multiple clicks.\n",
              "          quickchartButtonEl.classList.add('colab-df-spinner');\n",
              "          try {\n",
              "            const charts = await google.colab.kernel.invokeFunction(\n",
              "                'suggestCharts', [key], {});\n",
              "          } catch (error) {\n",
              "            console.error('Error during call to suggestCharts:', error);\n",
              "          }\n",
              "          quickchartButtonEl.classList.remove('colab-df-spinner');\n",
              "          quickchartButtonEl.classList.add('colab-df-quickchart-complete');\n",
              "        }\n",
              "        (() => {\n",
              "          let quickchartButtonEl =\n",
              "            document.querySelector('#df-66786b75-6631-4ef2-a0c1-c1334b2865df button');\n",
              "          quickchartButtonEl.style.display =\n",
              "            google.colab.kernel.accessAllowed ? 'block' : 'none';\n",
              "        })();\n",
              "      </script>\n",
              "    </div>\n",
              "\n",
              "  <div id=\"id_12676d2d-5228-4838-82ba-4476d0f3a976\">\n",
              "    <style>\n",
              "      .colab-df-generate {\n",
              "        background-color: #E8F0FE;\n",
              "        border: none;\n",
              "        border-radius: 50%;\n",
              "        cursor: pointer;\n",
              "        display: none;\n",
              "        fill: #1967D2;\n",
              "        height: 32px;\n",
              "        padding: 0 0 0 0;\n",
              "        width: 32px;\n",
              "      }\n",
              "\n",
              "      .colab-df-generate:hover {\n",
              "        background-color: #E2EBFA;\n",
              "        box-shadow: 0px 1px 2px rgba(60, 64, 67, 0.3), 0px 1px 3px 1px rgba(60, 64, 67, 0.15);\n",
              "        fill: #174EA6;\n",
              "      }\n",
              "\n",
              "      [theme=dark] .colab-df-generate {\n",
              "        background-color: #3B4455;\n",
              "        fill: #D2E3FC;\n",
              "      }\n",
              "\n",
              "      [theme=dark] .colab-df-generate:hover {\n",
              "        background-color: #434B5C;\n",
              "        box-shadow: 0px 1px 3px 1px rgba(0, 0, 0, 0.15);\n",
              "        filter: drop-shadow(0px 1px 2px rgba(0, 0, 0, 0.3));\n",
              "        fill: #FFFFFF;\n",
              "      }\n",
              "    </style>\n",
              "    <button class=\"colab-df-generate\" onclick=\"generateWithVariable('df_nyc')\"\n",
              "            title=\"Generate code using this dataframe.\"\n",
              "            style=\"display:none;\">\n",
              "\n",
              "  <svg xmlns=\"http://www.w3.org/2000/svg\" height=\"24px\"viewBox=\"0 0 24 24\"\n",
              "       width=\"24px\">\n",
              "    <path d=\"M7,19H8.4L18.45,9,17,7.55,7,17.6ZM5,21V16.75L18.45,3.32a2,2,0,0,1,2.83,0l1.4,1.43a1.91,1.91,0,0,1,.58,1.4,1.91,1.91,0,0,1-.58,1.4L9.25,21ZM18.45,9,17,7.55Zm-12,3A5.31,5.31,0,0,0,4.9,8.1,5.31,5.31,0,0,0,1,6.5,5.31,5.31,0,0,0,4.9,4.9,5.31,5.31,0,0,0,6.5,1,5.31,5.31,0,0,0,8.1,4.9,5.31,5.31,0,0,0,12,6.5,5.46,5.46,0,0,0,6.5,12Z\"/>\n",
              "  </svg>\n",
              "    </button>\n",
              "    <script>\n",
              "      (() => {\n",
              "      const buttonEl =\n",
              "        document.querySelector('#id_12676d2d-5228-4838-82ba-4476d0f3a976 button.colab-df-generate');\n",
              "      buttonEl.style.display =\n",
              "        google.colab.kernel.accessAllowed ? 'block' : 'none';\n",
              "\n",
              "      buttonEl.onclick = () => {\n",
              "        google.colab.notebook.generateWithVariable('df_nyc');\n",
              "      }\n",
              "      })();\n",
              "    </script>\n",
              "  </div>\n",
              "\n",
              "    </div>\n",
              "  </div>\n"
            ],
            "application/vnd.google.colaboratory.intrinsic+json": {
              "type": "dataframe",
              "variable_name": "df_nyc",
              "summary": "{\n  \"name\": \"df_nyc\",\n  \"rows\": 262,\n  \"fields\": [\n    {\n      \"column\": \"OBJECTID\",\n      \"properties\": {\n        \"dtype\": \"int32\",\n        \"num_unique_values\": 262,\n        \"samples\": [\n          249,\n          216,\n          195\n        ],\n        \"semantic_type\": \"\",\n        \"description\": \"\"\n      }\n    },\n    {\n      \"column\": \"BoroCode\",\n      \"properties\": {\n        \"dtype\": \"int32\",\n        \"num_unique_values\": 5,\n        \"samples\": [\n          2,\n          5,\n          1\n        ],\n        \"semantic_type\": \"\",\n        \"description\": \"\"\n      }\n    },\n    {\n      \"column\": \"BoroName\",\n      \"properties\": {\n        \"dtype\": \"category\",\n        \"num_unique_values\": 5,\n        \"samples\": [\n          \"Bronx\",\n          \"Staten Island\",\n          \"Manhattan\"\n        ],\n        \"semantic_type\": \"\",\n        \"description\": \"\"\n      }\n    },\n    {\n      \"column\": \"CountyFIPS\",\n      \"properties\": {\n        \"dtype\": \"category\",\n        \"num_unique_values\": 5,\n        \"samples\": [\n          \"005\",\n          \"085\",\n          \"061\"\n        ],\n        \"semantic_type\": \"\",\n        \"description\": \"\"\n      }\n    },\n    {\n      \"column\": \"NTA2020\",\n      \"properties\": {\n        \"dtype\": \"string\",\n        \"num_unique_values\": 262,\n        \"samples\": [\n          \"SI0202\",\n          \"QN1201\",\n          \"QN0801\"\n        ],\n        \"semantic_type\": \"\",\n        \"description\": \"\"\n      }\n    },\n    {\n      \"column\": \"NTAName\",\n      \"properties\": {\n        \"dtype\": \"string\",\n        \"num_unique_values\": 262,\n        \"samples\": [\n          \"New Dorp-Midland Beach\",\n          \"Jamaica\",\n          \"Kew Gardens Hills\"\n        ],\n        \"semantic_type\": \"\",\n        \"description\": \"\"\n      }\n    },\n    {\n      \"column\": \"NTAAbbrev\",\n      \"properties\": {\n        \"dtype\": \"string\",\n        \"num_unique_values\": 262,\n        \"samples\": [\n          \"NwDrp_MBch\",\n          \"Jmca\",\n          \"KwGrdnsHls\"\n        ],\n        \"semantic_type\": \"\",\n        \"description\": \"\"\n      }\n    },\n    {\n      \"column\": \"NTAType\",\n      \"properties\": {\n        \"dtype\": \"category\",\n        \"num_unique_values\": 6,\n        \"samples\": [\n          \"0\",\n          \"6\",\n          \"8\"\n        ],\n        \"semantic_type\": \"\",\n        \"description\": \"\"\n      }\n    },\n    {\n      \"column\": \"CDTA2020\",\n      \"properties\": {\n        \"dtype\": \"category\",\n        \"num_unique_values\": 71,\n        \"samples\": [\n          \"BX03\",\n          \"BK01\",\n          \"QN02\"\n        ],\n        \"semantic_type\": \"\",\n        \"description\": \"\"\n      }\n    },\n    {\n      \"column\": \"CDTAName\",\n      \"properties\": {\n        \"dtype\": \"category\",\n        \"num_unique_values\": 71,\n        \"samples\": [\n          \"BX03 Morrisania-Crotona Park East (CD 3 Approximation)\",\n          \"BK01 Williamsburg-Greenpoint (CD 1 Equivalent)\",\n          \"QN02 Long Island City-Sunnyside-Woodside (CD 2 Approximation)\"\n        ],\n        \"semantic_type\": \"\",\n        \"description\": \"\"\n      }\n    },\n    {\n      \"column\": \"Shape__Area\",\n      \"properties\": {\n        \"dtype\": \"number\",\n        \"std\": 29086225.718361672,\n        \"min\": 635701.9676361084,\n        \"max\": 209384910.5364647,\n        \"num_unique_values\": 262,\n        \"samples\": [\n          62182629.14221001,\n          46824594.556608796,\n          34304348.3344574\n        ],\n        \"semantic_type\": \"\",\n        \"description\": \"\"\n      }\n    },\n    {\n      \"column\": \"Shape__Length\",\n      \"properties\": {\n        \"dtype\": \"number\",\n        \"std\": 21103.754328018127,\n        \"min\": 4568.61695824208,\n        \"max\": 148864.81654510635,\n        \"num_unique_values\": 262,\n        \"samples\": [\n          49753.473530701944,\n          41771.93211785817,\n          28291.717767956517\n        ],\n        \"semantic_type\": \"\",\n        \"description\": \"\"\n      }\n    },\n    {\n      \"column\": \"geometry\",\n      \"properties\": {\n        \"dtype\": \"geometry\",\n        \"num_unique_values\": 262,\n        \"samples\": [\n          \"POLYGON ((-74.0760174332152 40.5782531403299, -74.0761115432489 40.5781820887002, -74.07620645607 40.5781348409059, -74.0762482260888 40.5781126433309, -74.076261833085 40.5780932362164, -74.0762908869436 40.578073820016, -74.0763399177022 40.5780446897348, -74.0763680670742 40.5780294296871, -74.0764007468685 40.5780030820249, -74.0764098100265 40.577983678417, -74.0763999118121 40.5779780015589, -74.0763061671546 40.5779283241632, -74.0762916152686 40.577915864266, -74.0762988730299 40.577906852553, -74.0763161358291 40.5779068410865, -74.0764289431163 40.5779583471113, -74.0764563729275 40.5779711733525, -74.0764942936847 40.5779690735903, -74.0765178928704 40.5779482748243, -74.0765405754325 40.5779198554084, -74.076555989133 40.5778907479296, -74.0765850256104 40.5778574747915, -74.0766232986398 40.5778267633791, -74.0767242016328 40.5777387728224, -74.0768837277376 40.5776450167965, -74.0769169919879 40.5775877273878, -74.0767389391219 40.5773807366662, -74.0767498366087 40.5773751865022, -74.076899336812 40.577524535654, -74.0769402783157 40.5775425724542, -74.0773761883777 40.5772903862062, -74.0783031549692 40.5764729457655, -74.0787755924706 40.5760190492472, -74.0792646762286 40.5756795191235, -74.078680802827 40.5750900525483, -74.078753316621 40.5750503524492, -74.0793378690628 40.5756354309234, -74.0801801383431 40.5751886450486, -74.0805043554893 40.5749886854492, -74.0809082969558 40.5746980309162, -74.0813391714279 40.5743282158861, -74.0817387178604 40.5739468050138, -74.0823082913198 40.573430729473, -74.082593316612 40.5731577422074, -74.0830076720845 40.5727937962688, -74.083600625457 40.5723797014876, -74.0846922250568 40.5714861403455, -74.0859779405571 40.5722451968966, -74.0876593805591 40.5730208907324, -74.087698842157 40.5730701101496, -74.087783176506 40.5730274002175, -74.0879208579207 40.5729576712636, -74.0881350193187 40.5728359462744, -74.0883403464544 40.5727054459397, -74.0885359425672 40.5725667325572, -74.0887209692605 40.5724204606921, -74.0887677330069 40.5723827109515, -74.0888155434937 40.5723331724907, -74.0891800368756 40.5719555148876, -74.0894191125885 40.5717290093104, -74.0894618438555 40.5716885241501, -74.0894639925953 40.57161757147, -74.0897076799081 40.5713712134425, -74.0902790699441 40.5707892416873, -74.091072378943 40.5699374212294, -74.092045983145 40.5689005643799, -74.0927522105685 40.5681042738434, -74.0927720497516 40.5679516355279, -74.0938744163934 40.568417167886, -74.0946074364026 40.5687978487994, -74.0953477780193 40.5691896139449, -74.0960899879807 40.5695685309244, -74.096823136734 40.5699560239076, -74.097567819232 40.5703506696668, -74.0983216188004 40.5707397560468, -74.0990510146881 40.5711190074367, -74.099789035806 40.5715120700774, -74.1005419834185 40.5718901382523, -74.1012729776328 40.5722866909946, -74.1020307801561 40.5726699047, -74.1027734425004 40.57305484798, -74.1035239137317 40.5734365097389, -74.1042708412283 40.5738194939612, -74.1047112624532 40.5740141651029, -74.1052443755828 40.5731022653906, -74.1056731774408 40.5725160580016, -74.1060449984875 40.5720724048936, -74.1063772429528 40.5722325958728, -74.1064958894462 40.5721202689977, -74.1075077470873 40.5710959842801, -74.108138627672 40.5704991393006, -74.1087416521815 40.5699247196034, -74.1066058659171 40.5687864938744, -74.1054744165055 40.56826356771, -74.1046707874518 40.5678853519523, -74.10387132663 40.5675088739671, -74.1030718373822 40.5671310500329, -74.102090853042 40.5666566285004, -74.1015510858966 40.5663940813363, -74.1007879799371 40.566023043866, -74.1000242794456 40.565651712515, -74.0989534858675 40.5651322171773, -74.0976315501571 40.5644903951207, -74.0957149846777 40.5635545012692, -74.0954398404745 40.5634201386015, -74.0940721787074 40.5627398433158, -74.0951121015851 40.5631814973395, -74.095242920282 40.5631566104342, -74.0954251860344 40.5631628594588, -74.0956845102807 40.5629276211261, -74.095664788096 40.5628275414885, -74.0956734487414 40.5627838220524, -74.0957133881303 40.5627590932021, -74.0957628788888 40.5627403433886, -74.095824686447 40.5627304972066, -74.0958883450454 40.5627331406388, -74.0961199396136 40.5625957982445, -74.0962934903232 40.5624290544888, -74.0966150911093 40.562095369176, -74.0968718362512 40.5617261957072, -74.0969834627855 40.561484440176, -74.0970263014285 40.5613446624736, -74.0970899114926 40.5612627914869, -74.0971564269625 40.5611965309529, -74.0972356760974 40.5611278101458, -74.0973087974781 40.5610240344936, -74.0974211642753 40.56089187108, -74.0975997170171 40.5606211488502, -74.0978895483861 40.5601776499474, -74.0979653984592 40.5600447732748, -74.0979801102182 40.5600012367948, -74.0979949556684 40.5599753285314, -74.0980457851592 40.5599213886068, -74.0981218108669 40.5599011756979, -74.098199141377 40.5598446999452, -74.0982741257478 40.5595570318762, -74.098291776994 40.5593408371951, -74.0982230170307 40.5592918050694, -74.0980883318865 40.559210966378, -74.0980004912309 40.559193929191, -74.0978337716326 40.5591286773734, -74.097798121764 40.5590954657826, -74.0978227388303 40.5590616892175, -74.0978496284804 40.5590418920866, -74.0979331957751 40.559049685885, -74.098623516135 40.5593962048978, -74.0986601735597 40.5594157834586, -74.0987076397335 40.5594318245391, -74.098765623723 40.5594317746903, -74.0988340977246 40.5593955320077, -74.0989272804901 40.5593582799122, -74.0990969473486 40.5592670136263, -74.0993291726891 40.5591056366858, -74.0992974065377 40.5590131953527, -74.0993817834106 40.5589724162887, -74.0998707167906 40.5591017239739, -74.1000969616334 40.5589616685228, -74.1017387967521 40.559913801386, -74.1023690063548 40.5601946044788, -74.1029792016532 40.5605000434926, -74.103567728828 40.5608292898097, -74.1041329920613 40.5611814517768, -74.1048477415752 40.5616034626666, -74.1055779263339 40.5619981967976, -74.1061738412781 40.5623045561743, -74.1069083960315 40.562675269427, -74.1071054803928 40.5627781073005, -74.1078694306734 40.5631538117094, -74.1086174131831 40.5635365868479, -74.1093636175904 40.5639171613148, -74.1101409445646 40.5643188904331, -74.1121138714222 40.5655137815253, -74.113700802845 40.5664679684342, -74.1137630860871 40.566505413008, -74.114306247421 40.5659556253488, -74.1149005000483 40.5653752096228, -74.1154670034441 40.5648141822859, -74.1163648388977 40.5639238612909, -74.1164120021185 40.5639517392221, -74.1172143785643 40.5644259876573, -74.1180420289422 40.5649298655035, -74.1187618643835 40.56536344783, -74.11948157334 40.5657877762793, -74.1202415660532 40.5662356898107, -74.1216678401827 40.5670966838277, -74.1230942879461 40.5679745908227, -74.1232935387968 40.5680840877231, -74.1235981092373 40.5682482051739, -74.1239521144561 40.5684389430843, -74.1249005215671 40.5689573669418, -74.1241870815165 40.5694327618415, -74.1235854906205 40.5698407533667, -74.1234530071465 40.5699287571693, -74.1233816578449 40.5699339089762, -74.1231753712851 40.5700837026495, -74.1231364052489 40.5701150160422, -74.1230999613175 40.5701758119638, -74.1227911493336 40.5704380691294, -74.1225979258344 40.570604658066, -74.1221700421298 40.5709477187254, -74.1216271162957 40.5715096184801, -74.1214468333099 40.5717838393527, -74.1213887903611 40.5721004363105, -74.1213896303599 40.5722318930159, -74.1213590204422 40.5723808367031, -74.1213589960163 40.572380936074, -74.1213589847545 40.5723810255468, -74.1213440249775 40.5725320959014, -74.1213449969656 40.5726838870572, -74.1213449970974 40.5726839595975, -74.1213619239335 40.5728349686205, -74.1213944689754 40.5729837742021, -74.1216058681155 40.5735641448995, -74.1217022322105 40.5738402533283, -74.1218322748198 40.5742253146068, -74.1218548131886 40.5746614066194, -74.1217277163873 40.5749152108605, -74.1215387662048 40.5751614779116, -74.1212586156291 40.5752631193933, -74.1211222796653 40.5753150714513, -74.1197871509099 40.5758237825174, -74.1191110250616 40.5761654783464, -74.1184920102959 40.5766350637647, -74.1180350611527 40.5771786352601, -74.1178130602336 40.5774530144053, -74.1175723613439 40.5777180694553, -74.1174527128165 40.5778548116227, -74.1173194822907 40.5779840466205, -74.1171734774764 40.5781049910046, -74.117015581289 40.5782169135414, -74.1168406035957 40.5782783974386, -74.1166539637286 40.5783148405254, -74.1160227195934 40.5783700168664, -74.1158521042585 40.5784060744148, -74.1156923258625 40.5784642268129, -74.1155482636891 40.5785426986654, -74.115424316491 40.5786390934574, -74.1148208905303 40.5791851009584, -74.1142289425128 40.5797421350491, -74.113976556983 40.5800214396535, -74.1136744739332 40.5803211638102, -74.113071018769 40.5807767496532, -74.1122114558182 40.5812744652941, -74.1112785400472 40.5817989562908, -74.1102886172612 40.5822069747358, -74.1092498290904 40.5826866402787, -74.1079099897876 40.5836938652709, -74.1072917838585 40.5842305259086, -74.1064961242075 40.5849035707604, -74.1058854048076 40.5854154361776, -74.1052592273376 40.58592966476, -74.1027901007508 40.5842327158046, -74.1026346879163 40.584115173449, -74.1024984319702 40.5840232607236, -74.1006145802979 40.582719418577, -74.0984414788117 40.5812499333466, -74.0977203678044 40.5818211032428, -74.097121554747 40.5822930887777, -74.0968287966028 40.5825252224194, -74.0961703826055 40.5830520142224, -74.0954395137614 40.583631787185, -74.0947118585193 40.584210840807, -74.0940256335421 40.5847546098503, -74.0934084625616 40.5852483407356, -74.0926174366546 40.5859480391367, -74.091649108099 40.5854519787737, -74.090894651684 40.5850648845313, -74.0891229472807 40.5841507894304, -74.0885614472413 40.5847305495222, -74.0884974327747 40.5847966525459, -74.087940726146 40.5844961968528, -74.0865428829196 40.583741754987, -74.0854786850252 40.5831981209574, -74.0843610469739 40.582627168789, -74.082208560441 40.5815396612241, -74.0810718471728 40.5809523272118, -74.0799351659821 40.5803649819129, -74.0790046280228 40.5798871332098, -74.0783295239871 40.5795404430778, -74.0778549683968 40.5792907979776, -74.0778038374925 40.5792584406079, -74.0777499923589 40.5792181153358, -74.0769200589256 40.5787672255529, -74.0768088539719 40.5787020657842, -74.0760174332152 40.5782531403299))\",\n          \"POLYGON ((-73.7684468367285 40.7096452912339, -73.7691874379343 40.7093446059272, -73.7709372243238 40.708634160367, -73.7723027902792 40.7080796856631, -73.772653263002 40.7080011872146, -73.7727840025577 40.7079661579937, -73.7729992746692 40.7079084785877, -73.7733393685006 40.7078017792633, -73.7736720643308 40.7076814591325, -73.773739018003 40.7076538717942, -73.7739959992599 40.7075479821478, -73.7743098104535 40.70740193189, -73.7746122888876 40.7072439880793, -73.7749023071475 40.7070749252582, -73.775052955161 40.7069322988748, -73.7751893691463 40.7067783799336, -73.7753094629487 40.7066144418107, -73.7754114799426 40.7064420396393, -73.7754939578367 40.7062629355189, -73.7755558851888 40.706079098817, -73.7755966753923 40.7058925831497, -73.7756162372503 40.7057054848028, -73.7756149339175 40.705519841129, -73.7755935619522 40.7053375717051, -73.7750759970459 40.7052482467842, -73.7743491647159 40.703994659823, -73.7739449096034 40.7033197676049, -73.7735352868255 40.7026286910373, -73.7733188213339 40.7022699580245, -73.7731290897712 40.7019555391289, -73.7727256990217 40.7012704790212, -73.7723090595668 40.7005797699862, -73.7727475954592 40.7003869086599, -73.7729364399098 40.7003031825577, -73.7731885636871 40.7001947262635, -73.773439702581 40.7000835843526, -73.7735953224168 40.7000026450993, -73.7739579680564 40.6998140435446, -73.7744136747283 40.7002891393686, -73.7748845601554 40.7007560144677, -73.7753702362843 40.7012142462322, -73.7758703030699 40.7016634329707, -73.776384287508 40.7021031916147, -73.7769117526304 40.702533147713, -73.7773412733756 40.7028582992278, -73.7779211744684 40.7032997983886, -73.7784926857379 40.7038414883366, -73.779161473753 40.704397229338, -73.7798196552817 40.7049361606665, -73.7803462875207 40.7054206795415, -73.7806305632472 40.7054065118073, -73.7809154298249 40.7054089543592, -73.7811992146568 40.705427991964, -73.7814802501502 40.705463513719, -73.7817521199384 40.70548718095, -73.7820257379065 40.7054899893975, -73.7822983474414 40.705471910527, -73.7825672023328 40.705433126626, -73.7830288052559 40.7053011080392, -73.7834807681238 40.7051510122397, -73.783921869419 40.7049832453486, -73.7843509170966 40.7047982603544, -73.7848501392081 40.7045938327547, -73.7859811417844 40.7041948787598, -73.787518278335 40.7037233445909, -73.788042993128 40.7035638596869, -73.7883555177526 40.70346849282, -73.7891944682739 40.7032126483427, -73.7896652940867 40.7030477505657, -73.7897773512653 40.7029871256386, -73.7899954368409 40.7028796787911, -73.7905570482543 40.702576057985, -73.7911570763246 40.7023023376467, -73.7912674119379 40.7022680672878, -73.7913833250662 40.7022442030313, -73.7915022157522 40.7022314005451, -73.7916213677854 40.702229833822, -73.7918803146836 40.7022300558886, -73.7921387038024 40.7022116310352, -73.7923930825923 40.7021747914303, -73.792354200801 40.7021062012921, -73.791870544798 40.7013743988272, -73.7919451001168 40.7012799876732, -73.792018291222 40.7011259882476, -73.7921072057834 40.7009760509062, -73.7921073369908 40.7009758348649, -73.792107491311 40.7009756188653, -73.7922115460445 40.7008311127281, -73.7922116764781 40.7008309328712, -73.7922118191837 40.700830770627, -73.7923303239833 40.7006927384409, -73.7923304311646 40.7006926031043, -73.7923305497345 40.7006924863839, -73.7924624480923 40.7005620861619, -73.7924624957497 40.7005620505644, -73.7926064465904 40.7004403619062, -73.7928449441654 40.7002519449221, -73.7935784670303 40.6997647329592, -73.7945005887697 40.6993940378796, -73.7957231182604 40.6990229961568, -73.7964774451107 40.6987013455127, -73.7972251280663 40.6983677187479, -73.7975381086311 40.6982071854231, -73.7978633154133 40.6980016650458, -73.7985477828186 40.6974747934688, -73.7987695300689 40.6972678119894, -73.7991836501424 40.6968797368271, -73.7998606570434 40.6963553405519, -73.8005334238683 40.6958649526317, -73.8010481820805 40.695461754501, -73.8011975607647 40.6953447491958, -73.8021139082618 40.6945527588877, -73.8029607834475 40.6938257309035, -73.8038190882297 40.6930878911571, -73.8046893132411 40.6923538310622, -73.8055598813868 40.6916169642004, -73.8064261773137 40.6908821174873, -73.807240955787 40.6914402475449, -73.8080377873975 40.691991154558, -73.8082827076878 40.6921556449582, -73.8089035531676 40.6925726082743, -73.8097115559921 40.6922076441469, -73.8102709646404 40.6920535081699, -73.8105435516274 40.6919807184199, -73.8106343677866 40.6919556417145, -73.8107272599163 40.691930681433, -73.810842230885 40.6921393405913, -73.8109728165569 40.6923763513837, -73.8111011184228 40.6926092136325, -73.8114802192977 40.6933066075513, -73.8114828563092 40.6933111198766, -73.8117687872878 40.6938037969576, -73.8118194656939 40.6938911197635, -73.8118637452257 40.6939732197937, -73.8121255085217 40.6944184480774, -73.8121960632929 40.6945384583385, -73.8123428486539 40.6948133910497, -73.812469608684 40.6950388223308, -73.8125489485964 40.6951799210006, -73.81309724626 40.6960921970173, -73.8132532618558 40.6963517711456, -73.8132561327878 40.6963565461561, -73.8134828858915 40.6967338086891, -73.813727244151 40.6971403552824, -73.8137677838723 40.6972065358663, -73.8138083135097 40.6972722575605, -73.8140430387822 40.6976742073226, -73.8141679609949 40.6978881243434, -73.8142458609502 40.6980455431869, -73.8144135763819 40.6983432983571, -73.814500088878 40.6985056029447, -73.8147481380975 40.6989597990817, -73.8147753183847 40.6990095682217, -73.8149961898451 40.6994139842697, -73.8150650108953 40.6995400053077, -73.8152210923033 40.6998374979586, -73.8154570108357 40.7002871430522, -73.8154874708513 40.7003537152686, -73.8154889543067 40.7003569571286, -73.8155462781547 40.7004822286737, -73.8155953527288 40.7005913247434, -73.8160208036883 40.701492770781, -73.8161266229634 40.7017169780648, -73.81622758735 40.7019308956534, -73.8164766997772 40.7024586884147, -73.8163796320794 40.7024602254676, -73.8162905513053 40.7024623263522, -73.8159415933893 40.7024671634274, -73.8153173193714 40.7024955923759, -73.8149634330235 40.7025067481056, -73.8142955202039 40.7025393699558, -73.813988053765 40.7025503285213, -73.8135660923521 40.7025367591136, -73.8131423988635 40.7025078130143, -73.8130202152763 40.702503418366, -73.811931408758 40.7023490972095, -73.8115299547779 40.7022811360131, -73.8116329562355 40.703060421399, -73.8117142757179 40.703670463096, -73.8117743536412 40.7041892123237, -73.8118034123931 40.7043746131777, -73.8119057477781 40.7051322023588, -73.8120138718037 40.7059532066445, -73.8093493895227 40.7066937015805, -73.8069499477171 40.707375362705, -73.8072893946925 40.7080704337043, -73.8076232680135 40.708738857945, -73.8080476932149 40.7093650902782, -73.8071806351566 40.7096111744434, -73.8063290000735 40.7098543246874, -73.8054837979902 40.7100971188172, -73.805013860455 40.7094815974584, -73.8048421802107 40.7093462467109, -73.8041693892548 40.7089918516473, -73.8039947283439 40.708925437814, -73.8039944919465 40.7089253479518, -73.803994267934 40.708925238845, -73.8039034983293 40.7088821472917, -73.8038273136659 40.7088459798075, -73.8038271124947 40.708845889335, -73.8038269353711 40.7088457814804, -73.8036696853535 40.7087543095773, -73.80352447939 40.7086518169469, -73.8035243965802 40.7086517536477, -73.8035243131079 40.7086516910174, -73.8033931362557 40.7085396856597, -73.803277365142 40.7084197911387, -73.803025530619 40.7081479196737, -73.802783518642 40.7082809341042, -73.8025520737256 40.7084254662447, -73.8023325833174 40.7085807340097, -73.8021263164998 40.7087458673325, -73.8019343534695 40.7089198586215, -73.8015972884788 40.709556688662, -73.8015129088961 40.7096298713271, -73.8015128380673 40.7096299249813, -73.8015127549066 40.7096299797869, -73.8014156883722 40.7096950363617, -73.8014155460768 40.7096951359626, -73.8014153805037 40.7096952159227, -73.8013076327166 40.7097504122418, -73.801307538801 40.7097504559719, -73.8013074440293 40.7097504914917, -73.8011917545961 40.7097944260311, -73.8011915414666 40.7097945069139, -73.8011913284191 40.7097945603223, -73.8010705858598 40.7098264737891, -73.7998592139253 40.7102608260731, -73.7987028887694 40.710671640339, -73.7980736470701 40.7096481409359, -73.7977694829282 40.7091514518035, -73.7973153884258 40.7092784617553, -73.7963955622095 40.7095398424965, -73.795618070554 40.7097613423287, -73.7947319041963 40.7100207252013, -73.7938974800263 40.7103605932075, -73.7930393800296 40.7107193388555, -73.7920299263697 40.7110776357378, -73.7910154866777 40.7114408492421, -73.7902168217373 40.7117253089061, -73.7894155003305 40.7120057958112, -73.7892847297187 40.712039992972, -73.7891501761443 40.7120651494703, -73.7890134748377 40.7120809729391, -73.7888648561465 40.7120797364062, -73.7887175905835 40.7120644607151, -73.7885739606131 40.7120353820358, -73.788436190605 40.7119929514501, -73.7878481627067 40.7118190974964, -73.7874217853401 40.7118559423097, -73.7869973653838 40.7119098731191, -73.7865766651069 40.7119807571814, -73.7861614372928 40.7120683352776, -73.7857533627379 40.7121722165705, -73.7853540997876 40.7122918810395, -73.7844628225133 40.7125021690597, -73.783562133945 40.7127190530099, -73.7826268514764 40.712945812721, -73.7824718099945 40.7129848452723, -73.7823678771926 40.7130110079513, -73.782272642558 40.7130333948349, -73.7817841164117 40.7131482579997, -73.780590304355 40.7134364405622, -73.7804217171611 40.7134769745657, -73.7799814279716 40.7135828357239, -73.7797269124736 40.713644033987, -73.779573023452 40.7136824242169, -73.7788709507937 40.713857562169, -73.7780025718848 40.7140593887407, -73.7773077139641 40.7142175814831, -73.7771248443405 40.714270258765, -73.7770396849861 40.7141931958942, -73.7768399753668 40.7138909186694, -73.7767474253301 40.7137508349885, -73.7761595391738 40.712855183519, -73.7753755867833 40.7116857704983, -73.7745018771298 40.7119540452767, -73.7731702883683 40.7099688670962, -73.7731450977308 40.7099294563397, -73.7722991122253 40.7101644947298, -73.7721172544872 40.7102142845976, -73.7717258194391 40.7103250829489, -73.771693421823 40.710272249343, -73.7716529261699 40.7102306362444, -73.7714795698145 40.710230499807, -73.7711607597715 40.7102134861381, -73.7708450023196 40.7101798905848, -73.7688135457507 40.7098163886535, -73.7686593203406 40.7097460092084, -73.7684468367285 40.7096452912339))\",\n          \"POLYGON ((-73.8149734714458 40.7385689836974, -73.8148409891214 40.7379226819312, -73.8147713726233 40.7375528455345, -73.8146953078568 40.7371487483451, -73.8146930190135 40.7359582611481, -73.8147243298642 40.7353462975768, -73.8147439993677 40.7349176366898, -73.8147535604946 40.7347092863374, -73.8147604719169 40.734558688617, -73.8147776040246 40.734255073202, -73.8148028629353 40.7338074280371, -73.8148155514757 40.7336078654426, -73.8148213515942 40.7335189955512, -73.8148283826277 40.7334112431677, -73.8148334365524 40.73333379188, -73.8148394995604 40.7332408865165, -73.8148470575028 40.7331250653713, -73.8148530942989 40.733032544269, -73.8148581511083 40.7329550645013, -73.8148639481706 40.7328662232421, -73.8148694949368 40.7327812229714, -73.8148753046185 40.7326921884038, -73.8148811039183 40.7326033179945, -73.8148869022441 40.7325144755593, -73.8148942090781 40.7324024972313, -73.8148997557639 40.7323174981263, -73.8149148083021 40.732086856501, -73.8149178577162 40.7320458881675, -73.8149222201445 40.7319881003969, -73.8149254964654 40.731939014407, -73.8149296912343 40.731876171073, -73.8149399066093 40.7317231373913, -73.8149439898987 40.7316619659621, -73.8149619720497 40.7313926058343, -73.8149659355851 40.7313332265801, -73.814973415455 40.7312211754655, -73.8149771138265 40.7311657598062, -73.8150214153559 40.7305021387468, -73.8150226647814 40.7304739360808, -73.8150463245772 40.7304071018417, -73.8151475956858 40.7296942312706, -73.8152328368198 40.728802178764, -73.8151787843442 40.7286752191245, -73.8151787147895 40.7286750483029, -73.8151786198626 40.7286748945282, -73.8151017583578 40.7285519056514, -73.8151016283708 40.7285516891653, -73.8151014644193 40.7285514912202, -73.8150025294176 40.7284357607869, -73.8150024352705 40.7284356437018, -73.8150023056717 40.7284355255546, -73.8148833367206 40.7283303619275, -73.8148832187661 40.728330253683, -73.8148830884299 40.7283301633439, -73.8147473941125 40.7282384803885, -73.8147471809058 40.7282383361397, -73.8147469445016 40.7282382188256, -73.8145985518533 40.728162075843, -73.8145983271242 40.7281619573746, -73.8145980675461 40.7281618587858, -73.8144411532858 40.7281022888963, -73.8139450807554 40.7278605120041, -73.8128030703766 40.7273039103491, -73.812469462418 40.7271413112179, -73.8115175239571 40.7266662594315, -73.8111431581505 40.726457834546, -73.8107444557118 40.7261978737927, -73.810698323939 40.7261985972313, -73.8106893585868 40.7258744308089, -73.8106874424065 40.7258095288352, -73.8106925493429 40.7251240505056, -73.810627224465 40.7244281086467, -73.8104003580778 40.7237317930677, -73.8101311064983 40.7230408197161, -73.8099951089693 40.7227000935614, -73.8098558333831 40.7223511395808, -73.8095952309056 40.7216569458371, -73.8094822688328 40.7213461541679, -73.8093439061145 40.7209655050253, -73.8091558166874 40.7203147014719, -73.8090580149152 40.7199762951387, -73.8090417132096 40.7199198692213, -73.8090274841303 40.7198710568311, -73.8086142259645 40.718453864698, -73.8082366808205 40.7172463970564, -73.8080999490986 40.7168104022335, -73.8078452610048 40.7160079980207, -73.8078237033252 40.7159197304194, -73.8085864438225 40.7159292315573, -73.8089293697127 40.7159392574553, -73.8094381458562 40.7159574515305, -73.8094603769384 40.7159582458847, -73.8099393838628 40.7159722838841, -73.810224517802 40.7159790864518, -73.8105254270886 40.71598625352, -73.8108783469702 40.7159862848254, -73.8111425056638 40.7159862859077, -73.8114801050677 40.7159862837015, -73.811525368379 40.7159862837643, -73.8129235934864 40.7159656196113, -73.8131494387006 40.7159622754825, -73.8135219504423 40.7159555893488, -73.8136491872211 40.7159533064191, -73.8152477115041 40.7159182053978, -73.8155616506086 40.7159113099287, -73.815963832796 40.7159024765229, -73.8162939305987 40.7158952227568, -73.8163672384092 40.715895069656, -73.8164423429597 40.715895270678, -73.8164407901138 40.7158400934225, -73.8164404166014 40.7157949589631, -73.8168113700988 40.715779098808, -73.8170023696444 40.7157829806155, -73.8171055589832 40.7157850763499, -73.8173069076135 40.7157938439435, -73.817585454774 40.7158202830187, -73.8177396424704 40.7158413736476, -73.8178297834233 40.7158596367392, -73.8181457612571 40.7159236567769, -73.8184255072897 40.7159968775382, -73.8188893269427 40.7161828529249, -73.8189366693532 40.7161988684495, -73.8194273780302 40.7163648625931, -73.8201170467311 40.7165224576105, -73.819983698324 40.7165837742394, -73.8198699686112 40.7166640097749, -73.8193060832881 40.7171443446717, -73.8195248277517 40.7173479970125, -73.8196276144658 40.7173487070809, -73.8208535251065 40.7173571405079, -73.8217061803737 40.7173681537319, -73.8216543827229 40.7173971416583, -73.8220649943556 40.7174466306243, -73.82247918726 40.7174802021933, -73.822895364698 40.7174976647327, -73.8233119042922 40.7174989431926, -73.8237271733673 40.7174841086141, -73.8248903269759 40.7173700155972, -73.8251903928194 40.7173314250257, -73.8252527447623 40.7173352300757, -73.8253135960846 40.71735327598, -73.8253648003094 40.7173841032836, -73.825400630533 40.717423119602, -73.825437560818 40.7180105087756, -73.8254883164706 40.7186989263552, -73.8254748613137 40.7189557320159, -73.8254748493698 40.7189559208009, -73.8254748602991 40.7189561195047, -73.8254837113517 40.719214399535, -73.8254837111622 40.7192144719065, -73.8255151323685 40.7194727497812, -73.8255151322492 40.7194727953484, -73.8255151451234 40.7194728399301, -73.8255690120198 40.7197291349354, -73.825569047754 40.7197292787279, -73.8255690949115 40.7197294325893, -73.825645058924 40.7199819973599, -73.8256451167346 40.7199822033383, -73.8256451998855 40.7199824021515, -73.8257426937471 40.7202299206968, -73.825860848759 40.720470895966, -73.8267277479181 40.7230898642429, -73.8270240622367 40.7239546567146, -73.8270680191055 40.7241343477797, -73.8271306352039 40.7243119055724, -73.8271306574792 40.7243119769724, -73.8271306940645 40.7243120495665, -73.8272116780318 40.7244858437484, -73.8273103964816 40.7246543424687, -73.8274257861013 40.7248158696553, -73.8274258227371 40.7248159229839, -73.8274258695234 40.7248159681188, -73.8275566700375 40.724969215291, -73.8277062432956 40.7250998956954, -73.8277063729103 40.7251000138284, -73.8277065146644 40.7251001210902, -73.8278722564935 40.7252218753362, -73.828052703802 40.725333025062, -73.8280528456025 40.7253331147332, -73.828052999095 40.725333196213, -73.8282463097075 40.7254322616832, -73.828450484223 40.7255180879393, -73.8286629354847 40.7255896878582, -73.8288809885563 40.7256464571701, -73.8288811067146 40.725646493029, -73.8288812365665 40.7256465200263, -73.8291023700234 40.7256882631387, -73.8293401687347 40.725744185723, -73.8293402640372 40.7257442039572, -73.8295738314134 40.7258166724612, -73.8295739137016 40.7258166993873, -73.8295739957469 40.725816735192, -73.8298004327097 40.7259054915519, -73.8298005033256 40.7259055191307, -73.8298005618314 40.725905546189, -73.830016886369 40.7260098564638, -73.8300170867245 40.7260099556005, -73.8300172870338 40.7260100728301, -73.8302208028407 40.7261288897416, -73.8302209332413 40.7261289613004, -73.8302210398343 40.7261290427081, -73.8304095486502 40.7262610652545, -73.830409595483 40.7262610933005, -73.8304096422963 40.7262611290527, -73.8305808297286 40.726404462857, -73.8305810077059 40.7264046167411, -73.8305811610225 40.7264047695838, -73.8307335386591 40.7265575936939, -73.8308661080401 40.7267178992418, -73.8314059204853 40.7276058874882, -73.8317060522636 40.7280485977293, -73.8319834737862 40.7283382639495, -73.8322422740824 40.728638786417, -73.8324814157927 40.7289491197193, -73.83269994762 40.7292681272658, -73.8328971007467 40.7295945971726, -73.8330722737293 40.7299272971868, -73.8338640659741 40.7305614549096, -73.828939357524 40.7315997046482, -73.8270684727613 40.731992693213, -73.8256667460941 40.7322878444008, -73.8255326859888 40.7336425482745, -73.825463925626 40.7336489288768, -73.8254242052516 40.7339744115373, -73.8253946077472 40.7340565030674, -73.8253284670349 40.7351100604415, -73.8248796661089 40.7395805802441, -73.8248131763068 40.739639227895, -73.8248563542705 40.7398376319629, -73.8247141048456 40.7398419987433, -73.8243515029818 40.7397618741188, -73.8235602262852 40.7395870130878, -73.822669864598 40.739393260576, -73.8217796551468 40.7392019151283, -73.8208985559874 40.7390103787705, -73.8200657047176 40.7388364083823, -73.8183812856831 40.7386020090016, -73.8170821456363 40.7384230032568, -73.8169342264637 40.7383977789224, -73.8167809856444 40.7383880619267, -73.8166267055514 40.7383945794327, -73.8164758265764 40.738417139323, -73.8163324829789 40.7384546698347, -73.8160781572506 40.7388662017382, -73.815187220084 40.7385794396633, -73.8150180270998 40.7385668127588, -73.8149734714458 40.7385689836974))\"\n        ],\n        \"semantic_type\": \"\",\n        \"description\": \"\"\n      }\n    }\n  ]\n}"
            }
          },
          "metadata": {},
          "execution_count": 70
        }
      ]
    },
    {
      "cell_type": "code",
      "source": [
        "%%time\n",
        "# Match each accident with a neighborhood.\n",
        "# Will take ~1 min to run\n",
        "# This is done with left join,\n",
        "# so we preserve all the data points\n",
        "# but we know which ones are not matching with the shapefile\n",
        "gdf.crs = df_nyc.crs\n",
        "gdf = gpd.sjoin(gdf, df_nyc, how='left')\n"
      ],
      "metadata": {
        "colab": {
          "base_uri": "https://localhost:8080/"
        },
        "id": "1bW8Y3pVCRQZ",
        "outputId": "7a6ad3e5-0816-4f48-c166-01769db90dd0"
      },
      "execution_count": 266,
      "outputs": [
        {
          "output_type": "stream",
          "name": "stdout",
          "text": [
            "CPU times: user 1min 29s, sys: 20.5 s, total: 1min 50s\n",
            "Wall time: 1min 9s\n"
          ]
        }
      ]
    },
    {
      "cell_type": "code",
      "source": [
        "gdf.dtypes"
      ],
      "metadata": {
        "id": "SXfvj2LDOVjb",
        "outputId": "ced8dcf9-e8f0-4114-b19d-0996d4530b2a",
        "colab": {
          "base_uri": "https://localhost:8080/",
          "height": 1000
        }
      },
      "execution_count": 267,
      "outputs": [
        {
          "output_type": "execute_result",
          "data": {
            "text/plain": [
              "CMPLNT_NUM                    int32\n",
              "ADDR_PCT_CD                category\n",
              "RPT_DT               datetime64[ns]\n",
              "KY_CD                      category\n",
              "PD_CD                      category\n",
              "CRM_ATPT_CPTD_CD           category\n",
              "LAW_CAT_CD                 category\n",
              "BORO_NM                    category\n",
              "LOC_OF_OCCUR_DESC          category\n",
              "PREM_TYP_DESC                object\n",
              "JURISDICTION_CODE          category\n",
              "PARKS_NM                     object\n",
              "HADEVELOPT                   object\n",
              "HOUSING_PSA                  object\n",
              "SUSP_AGE_GROUP             category\n",
              "SUSP_RACE                  category\n",
              "SUSP_SEX                   category\n",
              "TRANSIT_DISTRICT             object\n",
              "Latitude                    float64\n",
              "Longitude                   float64\n",
              "PATROL_BORO                  object\n",
              "STATION_NAME                 object\n",
              "VIC_AGE_GROUP              category\n",
              "VIC_RACE                   category\n",
              "VIC_SEX                    category\n",
              "CMPLNT_FR            datetime64[ns]\n",
              "CMPLNT_TO            datetime64[ns]\n",
              "geometry                   geometry\n",
              "index_right                 float64\n",
              "shape_area                   object\n",
              "ntaname                      object\n",
              "cdtaname                     object\n",
              "shape_leng                   object\n",
              "boroname                     object\n",
              "ntatype                      object\n",
              "nta2020                      object\n",
              "borocode                     object\n",
              "countyfips                   object\n",
              "ntaabbrev                    object\n",
              "cdta2020                     object\n",
              "dtype: object"
            ],
            "text/html": [
              "<div>\n",
              "<style scoped>\n",
              "    .dataframe tbody tr th:only-of-type {\n",
              "        vertical-align: middle;\n",
              "    }\n",
              "\n",
              "    .dataframe tbody tr th {\n",
              "        vertical-align: top;\n",
              "    }\n",
              "\n",
              "    .dataframe thead th {\n",
              "        text-align: right;\n",
              "    }\n",
              "</style>\n",
              "<table border=\"1\" class=\"dataframe\">\n",
              "  <thead>\n",
              "    <tr style=\"text-align: right;\">\n",
              "      <th></th>\n",
              "      <th>0</th>\n",
              "    </tr>\n",
              "  </thead>\n",
              "  <tbody>\n",
              "    <tr>\n",
              "      <th>CMPLNT_NUM</th>\n",
              "      <td>int32</td>\n",
              "    </tr>\n",
              "    <tr>\n",
              "      <th>ADDR_PCT_CD</th>\n",
              "      <td>category</td>\n",
              "    </tr>\n",
              "    <tr>\n",
              "      <th>RPT_DT</th>\n",
              "      <td>datetime64[ns]</td>\n",
              "    </tr>\n",
              "    <tr>\n",
              "      <th>KY_CD</th>\n",
              "      <td>category</td>\n",
              "    </tr>\n",
              "    <tr>\n",
              "      <th>PD_CD</th>\n",
              "      <td>category</td>\n",
              "    </tr>\n",
              "    <tr>\n",
              "      <th>CRM_ATPT_CPTD_CD</th>\n",
              "      <td>category</td>\n",
              "    </tr>\n",
              "    <tr>\n",
              "      <th>LAW_CAT_CD</th>\n",
              "      <td>category</td>\n",
              "    </tr>\n",
              "    <tr>\n",
              "      <th>BORO_NM</th>\n",
              "      <td>category</td>\n",
              "    </tr>\n",
              "    <tr>\n",
              "      <th>LOC_OF_OCCUR_DESC</th>\n",
              "      <td>category</td>\n",
              "    </tr>\n",
              "    <tr>\n",
              "      <th>PREM_TYP_DESC</th>\n",
              "      <td>object</td>\n",
              "    </tr>\n",
              "    <tr>\n",
              "      <th>JURISDICTION_CODE</th>\n",
              "      <td>category</td>\n",
              "    </tr>\n",
              "    <tr>\n",
              "      <th>PARKS_NM</th>\n",
              "      <td>object</td>\n",
              "    </tr>\n",
              "    <tr>\n",
              "      <th>HADEVELOPT</th>\n",
              "      <td>object</td>\n",
              "    </tr>\n",
              "    <tr>\n",
              "      <th>HOUSING_PSA</th>\n",
              "      <td>object</td>\n",
              "    </tr>\n",
              "    <tr>\n",
              "      <th>SUSP_AGE_GROUP</th>\n",
              "      <td>category</td>\n",
              "    </tr>\n",
              "    <tr>\n",
              "      <th>SUSP_RACE</th>\n",
              "      <td>category</td>\n",
              "    </tr>\n",
              "    <tr>\n",
              "      <th>SUSP_SEX</th>\n",
              "      <td>category</td>\n",
              "    </tr>\n",
              "    <tr>\n",
              "      <th>TRANSIT_DISTRICT</th>\n",
              "      <td>object</td>\n",
              "    </tr>\n",
              "    <tr>\n",
              "      <th>Latitude</th>\n",
              "      <td>float64</td>\n",
              "    </tr>\n",
              "    <tr>\n",
              "      <th>Longitude</th>\n",
              "      <td>float64</td>\n",
              "    </tr>\n",
              "    <tr>\n",
              "      <th>PATROL_BORO</th>\n",
              "      <td>object</td>\n",
              "    </tr>\n",
              "    <tr>\n",
              "      <th>STATION_NAME</th>\n",
              "      <td>object</td>\n",
              "    </tr>\n",
              "    <tr>\n",
              "      <th>VIC_AGE_GROUP</th>\n",
              "      <td>category</td>\n",
              "    </tr>\n",
              "    <tr>\n",
              "      <th>VIC_RACE</th>\n",
              "      <td>category</td>\n",
              "    </tr>\n",
              "    <tr>\n",
              "      <th>VIC_SEX</th>\n",
              "      <td>category</td>\n",
              "    </tr>\n",
              "    <tr>\n",
              "      <th>CMPLNT_FR</th>\n",
              "      <td>datetime64[ns]</td>\n",
              "    </tr>\n",
              "    <tr>\n",
              "      <th>CMPLNT_TO</th>\n",
              "      <td>datetime64[ns]</td>\n",
              "    </tr>\n",
              "    <tr>\n",
              "      <th>geometry</th>\n",
              "      <td>geometry</td>\n",
              "    </tr>\n",
              "    <tr>\n",
              "      <th>index_right</th>\n",
              "      <td>float64</td>\n",
              "    </tr>\n",
              "    <tr>\n",
              "      <th>shape_area</th>\n",
              "      <td>object</td>\n",
              "    </tr>\n",
              "    <tr>\n",
              "      <th>ntaname</th>\n",
              "      <td>object</td>\n",
              "    </tr>\n",
              "    <tr>\n",
              "      <th>cdtaname</th>\n",
              "      <td>object</td>\n",
              "    </tr>\n",
              "    <tr>\n",
              "      <th>shape_leng</th>\n",
              "      <td>object</td>\n",
              "    </tr>\n",
              "    <tr>\n",
              "      <th>boroname</th>\n",
              "      <td>object</td>\n",
              "    </tr>\n",
              "    <tr>\n",
              "      <th>ntatype</th>\n",
              "      <td>object</td>\n",
              "    </tr>\n",
              "    <tr>\n",
              "      <th>nta2020</th>\n",
              "      <td>object</td>\n",
              "    </tr>\n",
              "    <tr>\n",
              "      <th>borocode</th>\n",
              "      <td>object</td>\n",
              "    </tr>\n",
              "    <tr>\n",
              "      <th>countyfips</th>\n",
              "      <td>object</td>\n",
              "    </tr>\n",
              "    <tr>\n",
              "      <th>ntaabbrev</th>\n",
              "      <td>object</td>\n",
              "    </tr>\n",
              "    <tr>\n",
              "      <th>cdta2020</th>\n",
              "      <td>object</td>\n",
              "    </tr>\n",
              "  </tbody>\n",
              "</table>\n",
              "</div><br><label><b>dtype:</b> object</label>"
            ]
          },
          "metadata": {},
          "execution_count": 267
        }
      ]
    },
    {
      "cell_type": "code",
      "source": [
        "# We keep only boro_name and ntaname\n",
        "todrop = [\n",
        "    'index_right', 'shape_area', 'cdtaname', 'borocode', 'countyfips',\n",
        "    'ntaabbrev', 'ntatype', 'cdta2020', 'shape_leng'\n",
        "]\n",
        "\n",
        "gdf = gdf.drop(todrop, axis='columns')\n",
        "\n",
        "# Rename the columns\n",
        "gdf = gdf.rename({\n",
        "    'boroname': 'BOROUGH',\n",
        "    'ntaname': 'NEIGHBORHOOD',\n",
        "    'nta2020': 'NEIGHBORHOOD_CODE',\n",
        "}, axis='columns')"
      ],
      "metadata": {
        "id": "CCqWvpbaGu4D"
      },
      "execution_count": 270,
      "outputs": []
    },
    {
      "cell_type": "code",
      "source": [
        "gdf['BOROUGH'] = gdf['BOROUGH'].str.upper()"
      ],
      "metadata": {
        "id": "lN6ZaE0IFG7I"
      },
      "execution_count": 271,
      "outputs": []
    },
    {
      "cell_type": "code",
      "source": [
        "print(\"Entries without a detected BOROUGH:\", gdf[gdf.BOROUGH.isnull()].shape[0])\n",
        "# Mark as NULL all the lon/lat entries outside the NYC area\n",
        "gdf.loc[gdf.BOROUGH.isnull(), 'Latitude'] = None\n",
        "gdf.loc[gdf.BOROUGH.isnull(), 'Longitude'] = None"
      ],
      "metadata": {
        "id": "knIKqyP0HMcO",
        "colab": {
          "base_uri": "https://localhost:8080/"
        },
        "outputId": "d6499ea2-ae34-4b8b-ffe1-253c46261226"
      },
      "execution_count": 286,
      "outputs": [
        {
          "output_type": "stream",
          "name": "stdout",
          "text": [
            "Entries without a detected BOROUGH: 1367\n"
          ]
        }
      ]
    },
    {
      "cell_type": "code",
      "source": [
        "mask = gdf.query('BOROUGH != BORO_NM and Latitude==Latitude and Longitude==Longitude').CMPLNT_NUM.values"
      ],
      "metadata": {
        "id": "1MyBeRWOwXiZ"
      },
      "execution_count": 277,
      "outputs": []
    },
    {
      "cell_type": "code",
      "source": [
        "inconsistent = gdf.query('BOROUGH != BORO_NM and Latitude==Latitude and Longitude==Longitude').shape[0]\n",
        "print(\"Entries where reported lon/lat is inconsistent with the reported borough:\", inconsistent)"
      ],
      "metadata": {
        "id": "5mjIZHBlwYg9",
        "outputId": "d69c6794-a8f5-411f-fb81-1db201a76f1e",
        "colab": {
          "base_uri": "https://localhost:8080/"
        }
      },
      "execution_count": 287,
      "outputs": [
        {
          "output_type": "stream",
          "name": "stdout",
          "text": [
            "Entries where reported lon/lat is inconsistent with the reported borough: 9098\n"
          ]
        }
      ]
    },
    {
      "cell_type": "code",
      "source": [
        "# Mark as NULL all the lon/lat entries that generate inconsistencies\n",
        "mask = gdf.query('BOROUGH != BORO_NM and Latitude==Latitude and Longitude==Longitude').CMPLNT_NUM.values\n",
        "condition = gdf.CMPLNT_NUM.isin(mask)\n",
        "\n",
        "gdf.loc[condition, 'Latitude'] = None\n",
        "gdf.loc[condition, 'Longitude'] = None"
      ],
      "metadata": {
        "id": "9iJ215de5lYi"
      },
      "execution_count": 288,
      "outputs": []
    },
    {
      "cell_type": "code",
      "source": [
        "# We do not need the geometry anymore\n",
        "gdf = gdf.drop('geometry', axis='columns')"
      ],
      "metadata": {
        "id": "jyXCFeDFKp4m"
      },
      "execution_count": 290,
      "outputs": []
    },
    {
      "cell_type": "code",
      "source": [
        "df = pd.DataFrame(gdf)"
      ],
      "metadata": {
        "id": "qrUNPxJlKzVa"
      },
      "execution_count": 291,
      "outputs": []
    },
    {
      "cell_type": "code",
      "source": [
        "df.BORO_NM.value_counts(dropna=False)"
      ],
      "metadata": {
        "id": "WbFHhYAii5rT",
        "outputId": "90a943b3-a2f2-468c-cf25-9f2451831b57",
        "colab": {
          "base_uri": "https://localhost:8080/",
          "height": 272
        }
      },
      "execution_count": 293,
      "outputs": [
        {
          "output_type": "execute_result",
          "data": {
            "text/plain": [
              "BORO_NM\n",
              "BROOKLYN         2776816\n",
              "MANHATTAN        2287552\n",
              "BRONX            2053745\n",
              "QUEENS           1928294\n",
              "STATEN ISLAND     434155\n",
              "Name: count, dtype: int64"
            ],
            "text/html": [
              "<div>\n",
              "<style scoped>\n",
              "    .dataframe tbody tr th:only-of-type {\n",
              "        vertical-align: middle;\n",
              "    }\n",
              "\n",
              "    .dataframe tbody tr th {\n",
              "        vertical-align: top;\n",
              "    }\n",
              "\n",
              "    .dataframe thead th {\n",
              "        text-align: right;\n",
              "    }\n",
              "</style>\n",
              "<table border=\"1\" class=\"dataframe\">\n",
              "  <thead>\n",
              "    <tr style=\"text-align: right;\">\n",
              "      <th></th>\n",
              "      <th>count</th>\n",
              "    </tr>\n",
              "    <tr>\n",
              "      <th>BORO_NM</th>\n",
              "      <th></th>\n",
              "    </tr>\n",
              "  </thead>\n",
              "  <tbody>\n",
              "    <tr>\n",
              "      <th>BROOKLYN</th>\n",
              "      <td>2776816</td>\n",
              "    </tr>\n",
              "    <tr>\n",
              "      <th>MANHATTAN</th>\n",
              "      <td>2287552</td>\n",
              "    </tr>\n",
              "    <tr>\n",
              "      <th>BRONX</th>\n",
              "      <td>2053745</td>\n",
              "    </tr>\n",
              "    <tr>\n",
              "      <th>QUEENS</th>\n",
              "      <td>1928294</td>\n",
              "    </tr>\n",
              "    <tr>\n",
              "      <th>STATEN ISLAND</th>\n",
              "      <td>434155</td>\n",
              "    </tr>\n",
              "  </tbody>\n",
              "</table>\n",
              "</div><br><label><b>dtype:</b> int64</label>"
            ]
          },
          "metadata": {},
          "execution_count": 293
        }
      ]
    },
    {
      "cell_type": "code",
      "source": [
        "# Drop the cases where the reported borough\n",
        "# is different than the one detected through lon/lat\n",
        "df = df[df.BOROUGH == df.BORO_NM]"
      ],
      "metadata": {
        "id": "hSxWBIXSsGWV"
      },
      "execution_count": 294,
      "outputs": []
    },
    {
      "cell_type": "code",
      "source": [
        "df.drop(['BOROUGH'], axis='columns', inplace=True)"
      ],
      "metadata": {
        "id": "WvQQDCijzbSH"
      },
      "execution_count": null,
      "outputs": []
    },
    {
      "cell_type": "code",
      "source": [
        "# We do this to allow for easier insertion to a database later on\n",
        "df['NEIGHBORHOOD'] = df['NEIGHBORHOOD'].str.replace('\\'', '’', regex=False)"
      ],
      "metadata": {
        "id": "2tgWA1qRzUWZ"
      },
      "execution_count": 324,
      "outputs": []
    },
    {
      "cell_type": "code",
      "source": [
        "df.NEIGHBORHOOD_CODE = pd.Categorical(df.NEIGHBORHOOD_CODE)\n",
        "df.NEIGHBORHOOD = pd.Categorical(df.NEIGHBORHOOD)"
      ],
      "metadata": {
        "id": "sj2waUaXpiv7"
      },
      "execution_count": 325,
      "outputs": []
    },
    {
      "cell_type": "code",
      "source": [],
      "metadata": {
        "id": "l7_ipgiWzTiZ"
      },
      "execution_count": null,
      "outputs": []
    },
    {
      "cell_type": "markdown",
      "metadata": {
        "id": "SxPNYJESnn68"
      },
      "source": [
        "### TRANSIT_DISTRICT"
      ]
    },
    {
      "cell_type": "code",
      "metadata": {
        "id": "6Ctiw97bJqLO",
        "colab": {
          "base_uri": "https://localhost:8080/",
          "height": 523
        },
        "outputId": "3d1cba49-2907-481e-dd8a-21b9977052fb"
      },
      "source": [
        "df.TRANSIT_DISTRICT.value_counts(dropna=False)\n"
      ],
      "execution_count": 296,
      "outputs": [
        {
          "output_type": "execute_result",
          "data": {
            "text/plain": [
              "TRANSIT_DISTRICT\n",
              "NaN    9246073\n",
              "4        34003\n",
              "2        26478\n",
              "1        22332\n",
              "33       21389\n",
              "3        20894\n",
              "20       20890\n",
              "12       18107\n",
              "11       16681\n",
              "32       15677\n",
              "30       14102\n",
              "34       10009\n",
              "23        3462\n",
              "Name: count, dtype: int64"
            ],
            "text/html": [
              "<div>\n",
              "<style scoped>\n",
              "    .dataframe tbody tr th:only-of-type {\n",
              "        vertical-align: middle;\n",
              "    }\n",
              "\n",
              "    .dataframe tbody tr th {\n",
              "        vertical-align: top;\n",
              "    }\n",
              "\n",
              "    .dataframe thead th {\n",
              "        text-align: right;\n",
              "    }\n",
              "</style>\n",
              "<table border=\"1\" class=\"dataframe\">\n",
              "  <thead>\n",
              "    <tr style=\"text-align: right;\">\n",
              "      <th></th>\n",
              "      <th>count</th>\n",
              "    </tr>\n",
              "    <tr>\n",
              "      <th>TRANSIT_DISTRICT</th>\n",
              "      <th></th>\n",
              "    </tr>\n",
              "  </thead>\n",
              "  <tbody>\n",
              "    <tr>\n",
              "      <th>NaN</th>\n",
              "      <td>9246073</td>\n",
              "    </tr>\n",
              "    <tr>\n",
              "      <th>4</th>\n",
              "      <td>34003</td>\n",
              "    </tr>\n",
              "    <tr>\n",
              "      <th>2</th>\n",
              "      <td>26478</td>\n",
              "    </tr>\n",
              "    <tr>\n",
              "      <th>1</th>\n",
              "      <td>22332</td>\n",
              "    </tr>\n",
              "    <tr>\n",
              "      <th>33</th>\n",
              "      <td>21389</td>\n",
              "    </tr>\n",
              "    <tr>\n",
              "      <th>3</th>\n",
              "      <td>20894</td>\n",
              "    </tr>\n",
              "    <tr>\n",
              "      <th>20</th>\n",
              "      <td>20890</td>\n",
              "    </tr>\n",
              "    <tr>\n",
              "      <th>12</th>\n",
              "      <td>18107</td>\n",
              "    </tr>\n",
              "    <tr>\n",
              "      <th>11</th>\n",
              "      <td>16681</td>\n",
              "    </tr>\n",
              "    <tr>\n",
              "      <th>32</th>\n",
              "      <td>15677</td>\n",
              "    </tr>\n",
              "    <tr>\n",
              "      <th>30</th>\n",
              "      <td>14102</td>\n",
              "    </tr>\n",
              "    <tr>\n",
              "      <th>34</th>\n",
              "      <td>10009</td>\n",
              "    </tr>\n",
              "    <tr>\n",
              "      <th>23</th>\n",
              "      <td>3462</td>\n",
              "    </tr>\n",
              "  </tbody>\n",
              "</table>\n",
              "</div><br><label><b>dtype:</b> int64</label>"
            ]
          },
          "metadata": {},
          "execution_count": 296
        }
      ]
    },
    {
      "cell_type": "code",
      "metadata": {
        "id": "9EPb-B-dnPQs"
      },
      "source": [
        "df.drop('TRANSIT_DISTRICT', axis='columns', inplace=True)\n"
      ],
      "execution_count": 297,
      "outputs": []
    },
    {
      "cell_type": "code",
      "metadata": {
        "id": "9lVv1_Bgn27Z"
      },
      "source": [],
      "execution_count": 86,
      "outputs": []
    },
    {
      "cell_type": "markdown",
      "metadata": {
        "id": "H7KUUobwoXxV"
      },
      "source": [
        "### PREM_TYP_DESC"
      ]
    },
    {
      "cell_type": "code",
      "metadata": {
        "id": "rq9toKCIn2-T",
        "colab": {
          "base_uri": "https://localhost:8080/",
          "height": 489
        },
        "outputId": "5148f1d2-8356-4424-ef56-f4ff21c3287e"
      },
      "source": [
        "df.PREM_TYP_DESC.value_counts(dropna=False)"
      ],
      "execution_count": 299,
      "outputs": [
        {
          "output_type": "execute_result",
          "data": {
            "text/plain": [
              "PREM_TYP_DESC\n",
              "STREET                        2959961\n",
              "RESIDENCE - APT. HOUSE        2023347\n",
              "RESIDENCE-HOUSE                918023\n",
              "RESIDENCE - PUBLIC HOUSING     689694\n",
              "CHAIN STORE                    276106\n",
              "                               ...   \n",
              "CLOTHING BOUTIQUE                   4\n",
              "DOCTOR/DENTIST                      2\n",
              "PHOTO/COPY STORE                    2\n",
              "CHECK CASH                          1\n",
              "SCHOOL                              1\n",
              "Name: count, Length: 95, dtype: int64"
            ],
            "text/html": [
              "<div>\n",
              "<style scoped>\n",
              "    .dataframe tbody tr th:only-of-type {\n",
              "        vertical-align: middle;\n",
              "    }\n",
              "\n",
              "    .dataframe tbody tr th {\n",
              "        vertical-align: top;\n",
              "    }\n",
              "\n",
              "    .dataframe thead th {\n",
              "        text-align: right;\n",
              "    }\n",
              "</style>\n",
              "<table border=\"1\" class=\"dataframe\">\n",
              "  <thead>\n",
              "    <tr style=\"text-align: right;\">\n",
              "      <th></th>\n",
              "      <th>count</th>\n",
              "    </tr>\n",
              "    <tr>\n",
              "      <th>PREM_TYP_DESC</th>\n",
              "      <th></th>\n",
              "    </tr>\n",
              "  </thead>\n",
              "  <tbody>\n",
              "    <tr>\n",
              "      <th>STREET</th>\n",
              "      <td>2959961</td>\n",
              "    </tr>\n",
              "    <tr>\n",
              "      <th>RESIDENCE - APT. HOUSE</th>\n",
              "      <td>2023347</td>\n",
              "    </tr>\n",
              "    <tr>\n",
              "      <th>RESIDENCE-HOUSE</th>\n",
              "      <td>918023</td>\n",
              "    </tr>\n",
              "    <tr>\n",
              "      <th>RESIDENCE - PUBLIC HOUSING</th>\n",
              "      <td>689694</td>\n",
              "    </tr>\n",
              "    <tr>\n",
              "      <th>CHAIN STORE</th>\n",
              "      <td>276106</td>\n",
              "    </tr>\n",
              "    <tr>\n",
              "      <th>...</th>\n",
              "      <td>...</td>\n",
              "    </tr>\n",
              "    <tr>\n",
              "      <th>CLOTHING BOUTIQUE</th>\n",
              "      <td>4</td>\n",
              "    </tr>\n",
              "    <tr>\n",
              "      <th>DOCTOR/DENTIST</th>\n",
              "      <td>2</td>\n",
              "    </tr>\n",
              "    <tr>\n",
              "      <th>PHOTO/COPY STORE</th>\n",
              "      <td>2</td>\n",
              "    </tr>\n",
              "    <tr>\n",
              "      <th>CHECK CASH</th>\n",
              "      <td>1</td>\n",
              "    </tr>\n",
              "    <tr>\n",
              "      <th>SCHOOL</th>\n",
              "      <td>1</td>\n",
              "    </tr>\n",
              "  </tbody>\n",
              "</table>\n",
              "<p>95 rows × 1 columns</p>\n",
              "</div><br><label><b>dtype:</b> int64</label>"
            ]
          },
          "metadata": {},
          "execution_count": 299
        }
      ]
    },
    {
      "cell_type": "code",
      "metadata": {
        "id": "OgVlI2Bkoacb",
        "colab": {
          "base_uri": "https://localhost:8080/"
        },
        "outputId": "01eed773-9e06-4670-c32f-7c595bd8acf6"
      },
      "source": [
        "df.PREM_TYP_DESC.isnull().sum()"
      ],
      "execution_count": 300,
      "outputs": [
        {
          "output_type": "execute_result",
          "data": {
            "text/plain": [
              "np.int64(51791)"
            ]
          },
          "metadata": {},
          "execution_count": 300
        }
      ]
    },
    {
      "cell_type": "code",
      "metadata": {
        "id": "lDXJNcnmodu9"
      },
      "source": [
        "df = df [~df.PREM_TYP_DESC.isnull()]"
      ],
      "execution_count": 301,
      "outputs": []
    },
    {
      "cell_type": "code",
      "metadata": {
        "id": "NJ30D6uLogxw"
      },
      "source": [
        "df.PREM_TYP_DESC = pd.Categorical(df.PREM_TYP_DESC)"
      ],
      "execution_count": 302,
      "outputs": []
    },
    {
      "cell_type": "code",
      "metadata": {
        "id": "RTVAo24bn6jc",
        "colab": {
          "base_uri": "https://localhost:8080/",
          "height": 489
        },
        "outputId": "c1e28be7-9401-4c0d-ba1f-a9b64156ead6"
      },
      "source": [
        "df.PARKS_NM.value_counts(dropna=False)"
      ],
      "execution_count": 304,
      "outputs": [
        {
          "output_type": "execute_result",
          "data": {
            "text/plain": [
              "PARKS_NM\n",
              "NaN                                    9377915\n",
              "CENTRAL PARK                              2539\n",
              "FLUSHING MEADOWS CORONA PARK              2187\n",
              "WASHINGTON SQUARE PARK                    1824\n",
              "CONEY ISLAND BEACH & BOARDWALK            1581\n",
              "                                        ...   \n",
              "COURT SQUARE PARK                            1\n",
              "ST. MARY'S PARK PLAYGROUND BROOKLYN          1\n",
              "VALENTINO PIER                               1\n",
              "AESOP PARK                                   1\n",
              "GARDEN AT BEACH 36TH STREET                  1\n",
              "Name: count, Length: 1292, dtype: int64"
            ],
            "text/html": [
              "<div>\n",
              "<style scoped>\n",
              "    .dataframe tbody tr th:only-of-type {\n",
              "        vertical-align: middle;\n",
              "    }\n",
              "\n",
              "    .dataframe tbody tr th {\n",
              "        vertical-align: top;\n",
              "    }\n",
              "\n",
              "    .dataframe thead th {\n",
              "        text-align: right;\n",
              "    }\n",
              "</style>\n",
              "<table border=\"1\" class=\"dataframe\">\n",
              "  <thead>\n",
              "    <tr style=\"text-align: right;\">\n",
              "      <th></th>\n",
              "      <th>count</th>\n",
              "    </tr>\n",
              "    <tr>\n",
              "      <th>PARKS_NM</th>\n",
              "      <th></th>\n",
              "    </tr>\n",
              "  </thead>\n",
              "  <tbody>\n",
              "    <tr>\n",
              "      <th>NaN</th>\n",
              "      <td>9377915</td>\n",
              "    </tr>\n",
              "    <tr>\n",
              "      <th>CENTRAL PARK</th>\n",
              "      <td>2539</td>\n",
              "    </tr>\n",
              "    <tr>\n",
              "      <th>FLUSHING MEADOWS CORONA PARK</th>\n",
              "      <td>2187</td>\n",
              "    </tr>\n",
              "    <tr>\n",
              "      <th>WASHINGTON SQUARE PARK</th>\n",
              "      <td>1824</td>\n",
              "    </tr>\n",
              "    <tr>\n",
              "      <th>CONEY ISLAND BEACH &amp; BOARDWALK</th>\n",
              "      <td>1581</td>\n",
              "    </tr>\n",
              "    <tr>\n",
              "      <th>...</th>\n",
              "      <td>...</td>\n",
              "    </tr>\n",
              "    <tr>\n",
              "      <th>COURT SQUARE PARK</th>\n",
              "      <td>1</td>\n",
              "    </tr>\n",
              "    <tr>\n",
              "      <th>ST. MARY'S PARK PLAYGROUND BROOKLYN</th>\n",
              "      <td>1</td>\n",
              "    </tr>\n",
              "    <tr>\n",
              "      <th>VALENTINO PIER</th>\n",
              "      <td>1</td>\n",
              "    </tr>\n",
              "    <tr>\n",
              "      <th>AESOP PARK</th>\n",
              "      <td>1</td>\n",
              "    </tr>\n",
              "    <tr>\n",
              "      <th>GARDEN AT BEACH 36TH STREET</th>\n",
              "      <td>1</td>\n",
              "    </tr>\n",
              "  </tbody>\n",
              "</table>\n",
              "<p>1292 rows × 1 columns</p>\n",
              "</div><br><label><b>dtype:</b> int64</label>"
            ]
          },
          "metadata": {},
          "execution_count": 304
        }
      ]
    },
    {
      "cell_type": "code",
      "metadata": {
        "id": "ww2KnUq3n6oV",
        "colab": {
          "base_uri": "https://localhost:8080/"
        },
        "outputId": "58c6b3c6-e83d-4076-be73-3a21f3ce0afc"
      },
      "source": [
        "df.PARKS_NM.value_counts().sum()"
      ],
      "execution_count": 305,
      "outputs": [
        {
          "output_type": "execute_result",
          "data": {
            "text/plain": [
              "np.int64(40391)"
            ]
          },
          "metadata": {},
          "execution_count": 305
        }
      ]
    },
    {
      "cell_type": "code",
      "metadata": {
        "id": "lHVCmdVjol2_"
      },
      "source": [
        "df.drop('PARKS_NM', axis='columns', inplace=True)\n"
      ],
      "execution_count": 306,
      "outputs": []
    },
    {
      "cell_type": "markdown",
      "metadata": {
        "id": "QYM6H0Cxoslu"
      },
      "source": [
        "\n",
        " 19  HADEVELOPT         object\n"
      ]
    },
    {
      "cell_type": "code",
      "metadata": {
        "id": "xAvDJEChowug",
        "colab": {
          "base_uri": "https://localhost:8080/",
          "height": 1000
        },
        "outputId": "74ab738b-ce13-4983-f315-a5d731f1135a"
      },
      "source": [
        "df.HADEVELOPT.value_counts(dropna=False)"
      ],
      "execution_count": 308,
      "outputs": [
        {
          "output_type": "execute_result",
          "data": {
            "text/plain": [
              "HADEVELOPT\n",
              "NaN                                      9384972\n",
              "INGERSOLL                                   4839\n",
              "WALD                                        2818\n",
              "NOSTRAND                                    2567\n",
              "WILLIAMSBURG                                2557\n",
              "RIIS                                        2102\n",
              "MARLBORO                                    2055\n",
              "MANHATTANVILLE                              2010\n",
              "GRANT                                       1993\n",
              "SHEEPSHEAD BAY                              1842\n",
              "MARBLE HILL                                 1733\n",
              "WHITMAN                                     1519\n",
              "WOODSIDE                                    1272\n",
              "RIIS II                                     1170\n",
              "SMITH                                       1169\n",
              "RED HOOK EAST                                948\n",
              "MARKHAM GARDENS                              648\n",
              "WEST BRIGHTON I                              490\n",
              "GLENWOOD                                     415\n",
              "CAMPOS PLAZA I                               408\n",
              "RED HOOK WEST                                250\n",
              "LOWER EAST SIDE REHAB (GROUP 5)              205\n",
              "FIRST HOUSES                                 143\n",
              "WEST BRIGHTON II                             108\n",
              "LOWER EAST SIDE II                            58\n",
              "BREUKELEN                                      7\n",
              "HAMMEL                                         3\n",
              "VLADECK                                        2\n",
              "ARMSTRONG I                                    1\n",
              "TWO BRIDGES URA (SITE 7)                       1\n",
              "BEACH 41ST STREET-BEACH CHANNEL DRIVE          1\n",
              "Name: count, dtype: int64"
            ],
            "text/html": [
              "<div>\n",
              "<style scoped>\n",
              "    .dataframe tbody tr th:only-of-type {\n",
              "        vertical-align: middle;\n",
              "    }\n",
              "\n",
              "    .dataframe tbody tr th {\n",
              "        vertical-align: top;\n",
              "    }\n",
              "\n",
              "    .dataframe thead th {\n",
              "        text-align: right;\n",
              "    }\n",
              "</style>\n",
              "<table border=\"1\" class=\"dataframe\">\n",
              "  <thead>\n",
              "    <tr style=\"text-align: right;\">\n",
              "      <th></th>\n",
              "      <th>count</th>\n",
              "    </tr>\n",
              "    <tr>\n",
              "      <th>HADEVELOPT</th>\n",
              "      <th></th>\n",
              "    </tr>\n",
              "  </thead>\n",
              "  <tbody>\n",
              "    <tr>\n",
              "      <th>NaN</th>\n",
              "      <td>9384972</td>\n",
              "    </tr>\n",
              "    <tr>\n",
              "      <th>INGERSOLL</th>\n",
              "      <td>4839</td>\n",
              "    </tr>\n",
              "    <tr>\n",
              "      <th>WALD</th>\n",
              "      <td>2818</td>\n",
              "    </tr>\n",
              "    <tr>\n",
              "      <th>NOSTRAND</th>\n",
              "      <td>2567</td>\n",
              "    </tr>\n",
              "    <tr>\n",
              "      <th>WILLIAMSBURG</th>\n",
              "      <td>2557</td>\n",
              "    </tr>\n",
              "    <tr>\n",
              "      <th>RIIS</th>\n",
              "      <td>2102</td>\n",
              "    </tr>\n",
              "    <tr>\n",
              "      <th>MARLBORO</th>\n",
              "      <td>2055</td>\n",
              "    </tr>\n",
              "    <tr>\n",
              "      <th>MANHATTANVILLE</th>\n",
              "      <td>2010</td>\n",
              "    </tr>\n",
              "    <tr>\n",
              "      <th>GRANT</th>\n",
              "      <td>1993</td>\n",
              "    </tr>\n",
              "    <tr>\n",
              "      <th>SHEEPSHEAD BAY</th>\n",
              "      <td>1842</td>\n",
              "    </tr>\n",
              "    <tr>\n",
              "      <th>MARBLE HILL</th>\n",
              "      <td>1733</td>\n",
              "    </tr>\n",
              "    <tr>\n",
              "      <th>WHITMAN</th>\n",
              "      <td>1519</td>\n",
              "    </tr>\n",
              "    <tr>\n",
              "      <th>WOODSIDE</th>\n",
              "      <td>1272</td>\n",
              "    </tr>\n",
              "    <tr>\n",
              "      <th>RIIS II</th>\n",
              "      <td>1170</td>\n",
              "    </tr>\n",
              "    <tr>\n",
              "      <th>SMITH</th>\n",
              "      <td>1169</td>\n",
              "    </tr>\n",
              "    <tr>\n",
              "      <th>RED HOOK EAST</th>\n",
              "      <td>948</td>\n",
              "    </tr>\n",
              "    <tr>\n",
              "      <th>MARKHAM GARDENS</th>\n",
              "      <td>648</td>\n",
              "    </tr>\n",
              "    <tr>\n",
              "      <th>WEST BRIGHTON I</th>\n",
              "      <td>490</td>\n",
              "    </tr>\n",
              "    <tr>\n",
              "      <th>GLENWOOD</th>\n",
              "      <td>415</td>\n",
              "    </tr>\n",
              "    <tr>\n",
              "      <th>CAMPOS PLAZA I</th>\n",
              "      <td>408</td>\n",
              "    </tr>\n",
              "    <tr>\n",
              "      <th>RED HOOK WEST</th>\n",
              "      <td>250</td>\n",
              "    </tr>\n",
              "    <tr>\n",
              "      <th>LOWER EAST SIDE REHAB (GROUP 5)</th>\n",
              "      <td>205</td>\n",
              "    </tr>\n",
              "    <tr>\n",
              "      <th>FIRST HOUSES</th>\n",
              "      <td>143</td>\n",
              "    </tr>\n",
              "    <tr>\n",
              "      <th>WEST BRIGHTON II</th>\n",
              "      <td>108</td>\n",
              "    </tr>\n",
              "    <tr>\n",
              "      <th>LOWER EAST SIDE II</th>\n",
              "      <td>58</td>\n",
              "    </tr>\n",
              "    <tr>\n",
              "      <th>BREUKELEN</th>\n",
              "      <td>7</td>\n",
              "    </tr>\n",
              "    <tr>\n",
              "      <th>HAMMEL</th>\n",
              "      <td>3</td>\n",
              "    </tr>\n",
              "    <tr>\n",
              "      <th>VLADECK</th>\n",
              "      <td>2</td>\n",
              "    </tr>\n",
              "    <tr>\n",
              "      <th>ARMSTRONG I</th>\n",
              "      <td>1</td>\n",
              "    </tr>\n",
              "    <tr>\n",
              "      <th>TWO BRIDGES URA (SITE 7)</th>\n",
              "      <td>1</td>\n",
              "    </tr>\n",
              "    <tr>\n",
              "      <th>BEACH 41ST STREET-BEACH CHANNEL DRIVE</th>\n",
              "      <td>1</td>\n",
              "    </tr>\n",
              "  </tbody>\n",
              "</table>\n",
              "</div><br><label><b>dtype:</b> int64</label>"
            ]
          },
          "metadata": {},
          "execution_count": 308
        }
      ]
    },
    {
      "cell_type": "code",
      "metadata": {
        "id": "t_7EV6nUpPdR"
      },
      "source": [
        "df.drop('HADEVELOPT', axis='columns', inplace=True)\n"
      ],
      "execution_count": 309,
      "outputs": []
    },
    {
      "cell_type": "markdown",
      "metadata": {
        "id": "tdTW65d2ospC"
      },
      "source": [
        " 20  HOUSING_PSA        object\n",
        "\n"
      ]
    },
    {
      "cell_type": "code",
      "metadata": {
        "id": "jUY6bR2xoxHV",
        "colab": {
          "base_uri": "https://localhost:8080/",
          "height": 489
        },
        "outputId": "24aaf7fa-9ebe-4248-bd2e-ec1af971c253"
      },
      "source": [
        "df.HOUSING_PSA.value_counts(dropna=False)"
      ],
      "execution_count": 310,
      "outputs": [
        {
          "output_type": "execute_result",
          "data": {
            "text/plain": [
              "HOUSING_PSA\n",
              "NaN      8714765\n",
              "670         9725\n",
              "887         9690\n",
              "720         8371\n",
              "845         8288\n",
              "          ...   \n",
              "73629          1\n",
              "64975          1\n",
              "55645          1\n",
              "63783          1\n",
              "8403           1\n",
              "Name: count, Length: 4722, dtype: int64"
            ],
            "text/html": [
              "<div>\n",
              "<style scoped>\n",
              "    .dataframe tbody tr th:only-of-type {\n",
              "        vertical-align: middle;\n",
              "    }\n",
              "\n",
              "    .dataframe tbody tr th {\n",
              "        vertical-align: top;\n",
              "    }\n",
              "\n",
              "    .dataframe thead th {\n",
              "        text-align: right;\n",
              "    }\n",
              "</style>\n",
              "<table border=\"1\" class=\"dataframe\">\n",
              "  <thead>\n",
              "    <tr style=\"text-align: right;\">\n",
              "      <th></th>\n",
              "      <th>count</th>\n",
              "    </tr>\n",
              "    <tr>\n",
              "      <th>HOUSING_PSA</th>\n",
              "      <th></th>\n",
              "    </tr>\n",
              "  </thead>\n",
              "  <tbody>\n",
              "    <tr>\n",
              "      <th>NaN</th>\n",
              "      <td>8714765</td>\n",
              "    </tr>\n",
              "    <tr>\n",
              "      <th>670</th>\n",
              "      <td>9725</td>\n",
              "    </tr>\n",
              "    <tr>\n",
              "      <th>887</th>\n",
              "      <td>9690</td>\n",
              "    </tr>\n",
              "    <tr>\n",
              "      <th>720</th>\n",
              "      <td>8371</td>\n",
              "    </tr>\n",
              "    <tr>\n",
              "      <th>845</th>\n",
              "      <td>8288</td>\n",
              "    </tr>\n",
              "    <tr>\n",
              "      <th>...</th>\n",
              "      <td>...</td>\n",
              "    </tr>\n",
              "    <tr>\n",
              "      <th>73629</th>\n",
              "      <td>1</td>\n",
              "    </tr>\n",
              "    <tr>\n",
              "      <th>64975</th>\n",
              "      <td>1</td>\n",
              "    </tr>\n",
              "    <tr>\n",
              "      <th>55645</th>\n",
              "      <td>1</td>\n",
              "    </tr>\n",
              "    <tr>\n",
              "      <th>63783</th>\n",
              "      <td>1</td>\n",
              "    </tr>\n",
              "    <tr>\n",
              "      <th>8403</th>\n",
              "      <td>1</td>\n",
              "    </tr>\n",
              "  </tbody>\n",
              "</table>\n",
              "<p>4722 rows × 1 columns</p>\n",
              "</div><br><label><b>dtype:</b> int64</label>"
            ]
          },
          "metadata": {},
          "execution_count": 310
        }
      ]
    },
    {
      "cell_type": "code",
      "metadata": {
        "id": "ltCXjSHFpVAx",
        "colab": {
          "base_uri": "https://localhost:8080/"
        },
        "outputId": "30ee7c66-6a86-4a39-cc70-65cdb6b6e7c2"
      },
      "source": [
        "df.HOUSING_PSA.value_counts().sum()"
      ],
      "execution_count": 311,
      "outputs": [
        {
          "output_type": "execute_result",
          "data": {
            "text/plain": [
              "np.int64(703541)"
            ]
          },
          "metadata": {},
          "execution_count": 311
        }
      ]
    },
    {
      "cell_type": "code",
      "metadata": {
        "id": "r79Mo80tpXoG"
      },
      "source": [
        "df.drop('HOUSING_PSA', axis='columns', inplace=True)"
      ],
      "execution_count": 312,
      "outputs": []
    },
    {
      "cell_type": "markdown",
      "metadata": {
        "id": "Zj3ZTvXIosrk"
      },
      "source": [
        " 30  PATROL_BORO        object\n"
      ]
    },
    {
      "cell_type": "code",
      "metadata": {
        "id": "qushxX_YoxiI",
        "colab": {
          "base_uri": "https://localhost:8080/",
          "height": 397
        },
        "outputId": "086c2d37-8619-439e-fe6f-1939de06b1a0"
      },
      "source": [
        "df.PATROL_BORO.value_counts(dropna=False)"
      ],
      "execution_count": 314,
      "outputs": [
        {
          "output_type": "execute_result",
          "data": {
            "text/plain": [
              "PATROL_BORO\n",
              "PATROL BORO BRONX            2038116\n",
              "PATROL BORO BKLYN SOUTH      1385720\n",
              "PATROL BORO BKLYN NORTH      1374503\n",
              "PATROL BORO MAN SOUTH        1156248\n",
              "PATROL BORO MAN NORTH        1117927\n",
              "PATROL BORO QUEENS NORTH      996785\n",
              "PATROL BORO QUEENS SOUTH      916961\n",
              "PATROL BORO STATEN ISLAND     431887\n",
              "NaN                              159\n",
              "Name: count, dtype: int64"
            ],
            "text/html": [
              "<div>\n",
              "<style scoped>\n",
              "    .dataframe tbody tr th:only-of-type {\n",
              "        vertical-align: middle;\n",
              "    }\n",
              "\n",
              "    .dataframe tbody tr th {\n",
              "        vertical-align: top;\n",
              "    }\n",
              "\n",
              "    .dataframe thead th {\n",
              "        text-align: right;\n",
              "    }\n",
              "</style>\n",
              "<table border=\"1\" class=\"dataframe\">\n",
              "  <thead>\n",
              "    <tr style=\"text-align: right;\">\n",
              "      <th></th>\n",
              "      <th>count</th>\n",
              "    </tr>\n",
              "    <tr>\n",
              "      <th>PATROL_BORO</th>\n",
              "      <th></th>\n",
              "    </tr>\n",
              "  </thead>\n",
              "  <tbody>\n",
              "    <tr>\n",
              "      <th>PATROL BORO BRONX</th>\n",
              "      <td>2038116</td>\n",
              "    </tr>\n",
              "    <tr>\n",
              "      <th>PATROL BORO BKLYN SOUTH</th>\n",
              "      <td>1385720</td>\n",
              "    </tr>\n",
              "    <tr>\n",
              "      <th>PATROL BORO BKLYN NORTH</th>\n",
              "      <td>1374503</td>\n",
              "    </tr>\n",
              "    <tr>\n",
              "      <th>PATROL BORO MAN SOUTH</th>\n",
              "      <td>1156248</td>\n",
              "    </tr>\n",
              "    <tr>\n",
              "      <th>PATROL BORO MAN NORTH</th>\n",
              "      <td>1117927</td>\n",
              "    </tr>\n",
              "    <tr>\n",
              "      <th>PATROL BORO QUEENS NORTH</th>\n",
              "      <td>996785</td>\n",
              "    </tr>\n",
              "    <tr>\n",
              "      <th>PATROL BORO QUEENS SOUTH</th>\n",
              "      <td>916961</td>\n",
              "    </tr>\n",
              "    <tr>\n",
              "      <th>PATROL BORO STATEN ISLAND</th>\n",
              "      <td>431887</td>\n",
              "    </tr>\n",
              "    <tr>\n",
              "      <th>NaN</th>\n",
              "      <td>159</td>\n",
              "    </tr>\n",
              "  </tbody>\n",
              "</table>\n",
              "</div><br><label><b>dtype:</b> int64</label>"
            ]
          },
          "metadata": {},
          "execution_count": 314
        }
      ]
    },
    {
      "cell_type": "code",
      "metadata": {
        "id": "UNPb3rYLpoNl"
      },
      "source": [
        "df = df[~df.PATROL_BORO.isnull()]"
      ],
      "execution_count": 315,
      "outputs": []
    },
    {
      "cell_type": "code",
      "metadata": {
        "id": "X5q3w0T1pcuI"
      },
      "source": [
        "df.PATROL_BORO = pd.Categorical(df.PATROL_BORO)"
      ],
      "execution_count": 316,
      "outputs": []
    },
    {
      "cell_type": "markdown",
      "metadata": {
        "id": "MJHh-VXrosuV"
      },
      "source": [
        " 31  STATION_NAME       object"
      ]
    },
    {
      "cell_type": "code",
      "metadata": {
        "id": "ygz6QMTqoyBi",
        "colab": {
          "base_uri": "https://localhost:8080/",
          "height": 489
        },
        "outputId": "dbfb407b-5aa0-4a35-bd7a-ced56200fc40"
      },
      "source": [
        "df.STATION_NAME.value_counts(dropna=False)"
      ],
      "execution_count": 318,
      "outputs": [
        {
          "output_type": "execute_result",
          "data": {
            "text/plain": [
              "STATION_NAME\n",
              "NaN                               9196533\n",
              "125 STREET                           9799\n",
              "14 STREET                            5524\n",
              "42 ST.-PORT AUTHORITY BUS TERM       5373\n",
              "34 ST.-PENN STATION                  4780\n",
              "                                   ...   \n",
              "DISTRICT 30 OFFICE                     22\n",
              "DISTRICT 12 OFFICE                     21\n",
              "DISTRICT 34 OFFICE                     18\n",
              "OFF-SYSTEM                              8\n",
              "DISTRICT 23 OFFICE                      7\n",
              "Name: count, Length: 373, dtype: int64"
            ],
            "text/html": [
              "<div>\n",
              "<style scoped>\n",
              "    .dataframe tbody tr th:only-of-type {\n",
              "        vertical-align: middle;\n",
              "    }\n",
              "\n",
              "    .dataframe tbody tr th {\n",
              "        vertical-align: top;\n",
              "    }\n",
              "\n",
              "    .dataframe thead th {\n",
              "        text-align: right;\n",
              "    }\n",
              "</style>\n",
              "<table border=\"1\" class=\"dataframe\">\n",
              "  <thead>\n",
              "    <tr style=\"text-align: right;\">\n",
              "      <th></th>\n",
              "      <th>count</th>\n",
              "    </tr>\n",
              "    <tr>\n",
              "      <th>STATION_NAME</th>\n",
              "      <th></th>\n",
              "    </tr>\n",
              "  </thead>\n",
              "  <tbody>\n",
              "    <tr>\n",
              "      <th>NaN</th>\n",
              "      <td>9196533</td>\n",
              "    </tr>\n",
              "    <tr>\n",
              "      <th>125 STREET</th>\n",
              "      <td>9799</td>\n",
              "    </tr>\n",
              "    <tr>\n",
              "      <th>14 STREET</th>\n",
              "      <td>5524</td>\n",
              "    </tr>\n",
              "    <tr>\n",
              "      <th>42 ST.-PORT AUTHORITY BUS TERM</th>\n",
              "      <td>5373</td>\n",
              "    </tr>\n",
              "    <tr>\n",
              "      <th>34 ST.-PENN STATION</th>\n",
              "      <td>4780</td>\n",
              "    </tr>\n",
              "    <tr>\n",
              "      <th>...</th>\n",
              "      <td>...</td>\n",
              "    </tr>\n",
              "    <tr>\n",
              "      <th>DISTRICT 30 OFFICE</th>\n",
              "      <td>22</td>\n",
              "    </tr>\n",
              "    <tr>\n",
              "      <th>DISTRICT 12 OFFICE</th>\n",
              "      <td>21</td>\n",
              "    </tr>\n",
              "    <tr>\n",
              "      <th>DISTRICT 34 OFFICE</th>\n",
              "      <td>18</td>\n",
              "    </tr>\n",
              "    <tr>\n",
              "      <th>OFF-SYSTEM</th>\n",
              "      <td>8</td>\n",
              "    </tr>\n",
              "    <tr>\n",
              "      <th>DISTRICT 23 OFFICE</th>\n",
              "      <td>7</td>\n",
              "    </tr>\n",
              "  </tbody>\n",
              "</table>\n",
              "<p>373 rows × 1 columns</p>\n",
              "</div><br><label><b>dtype:</b> int64</label>"
            ]
          },
          "metadata": {},
          "execution_count": 318
        }
      ]
    },
    {
      "cell_type": "code",
      "metadata": {
        "id": "o5eP2Ha8pznx"
      },
      "source": [
        "df.drop('STATION_NAME', axis='columns', inplace=True)"
      ],
      "execution_count": 319,
      "outputs": []
    },
    {
      "cell_type": "code",
      "metadata": {
        "id": "zfCHXyE_5mm8",
        "colab": {
          "base_uri": "https://localhost:8080/"
        },
        "outputId": "5ec80a46-a206-4211-81db-e0e0a684b549"
      },
      "source": [
        "df.info()"
      ],
      "execution_count": 320,
      "outputs": [
        {
          "output_type": "stream",
          "name": "stdout",
          "text": [
            "<class 'pandas.core.frame.DataFrame'>\n",
            "Index: 9418147 entries, 0 to 9491945\n",
            "Data columns (total 24 columns):\n",
            " #   Column             Dtype         \n",
            "---  ------             -----         \n",
            " 0   CMPLNT_NUM         int32         \n",
            " 1   ADDR_PCT_CD        category      \n",
            " 2   RPT_DT             datetime64[ns]\n",
            " 3   KY_CD              category      \n",
            " 4   PD_CD              category      \n",
            " 5   CRM_ATPT_CPTD_CD   category      \n",
            " 6   LAW_CAT_CD         category      \n",
            " 7   BORO_NM            category      \n",
            " 8   LOC_OF_OCCUR_DESC  category      \n",
            " 9   PREM_TYP_DESC      category      \n",
            " 10  JURISDICTION_CODE  category      \n",
            " 11  SUSP_AGE_GROUP     category      \n",
            " 12  SUSP_RACE          category      \n",
            " 13  SUSP_SEX           category      \n",
            " 14  Latitude           float64       \n",
            " 15  Longitude          float64       \n",
            " 16  PATROL_BORO        category      \n",
            " 17  VIC_AGE_GROUP      category      \n",
            " 18  VIC_RACE           category      \n",
            " 19  VIC_SEX            category      \n",
            " 20  CMPLNT_FR          datetime64[ns]\n",
            " 21  CMPLNT_TO          datetime64[ns]\n",
            " 22  NEIGHBORHOOD       category      \n",
            " 23  NEIGHBORHOOD_CODE  category      \n",
            "dtypes: category(18), datetime64[ns](3), float64(2), int32(1)\n",
            "memory usage: 655.7 MB\n"
          ]
        }
      ]
    },
    {
      "cell_type": "code",
      "metadata": {
        "id": "rBJBYf9g5mm9"
      },
      "source": [],
      "execution_count": 107,
      "outputs": []
    },
    {
      "cell_type": "markdown",
      "metadata": {
        "id": "haa-38oP5mm9"
      },
      "source": [
        "## Data exploration\n",
        "\n",
        "In this part we check the different values that appear in the columns. When we detect noisy results, we delete the corresponding values. In fact, many of the operations that are performed above, in the 'data cleaning' section, are the result of observations that we make here."
      ]
    },
    {
      "cell_type": "code",
      "metadata": {
        "id": "69cO2qRn5mm-",
        "colab": {
          "base_uri": "https://localhost:8080/",
          "height": 836
        },
        "outputId": "ad3e97d7-f712-47f7-f235-6e35852def6c"
      },
      "source": [
        "# Find the unique values in each column\n",
        "#\n",
        "# df.describe(include = [np.object, 'category']).T['unique']\n",
        "unique = df.describe(include = 'all').T['unique'].sort_values()\n",
        "\n",
        "display(unique)"
      ],
      "execution_count": 321,
      "outputs": [
        {
          "output_type": "display_data",
          "data": {
            "text/plain": [
              "CRM_ATPT_CPTD_CD       2\n",
              "SUSP_SEX               2\n",
              "LAW_CAT_CD             3\n",
              "VIC_SEX                5\n",
              "BORO_NM                5\n",
              "LOC_OF_OCCUR_DESC      5\n",
              "VIC_AGE_GROUP          5\n",
              "SUSP_AGE_GROUP         5\n",
              "VIC_RACE               6\n",
              "SUSP_RACE              6\n",
              "PATROL_BORO            8\n",
              "JURISDICTION_CODE     28\n",
              "KY_CD                 75\n",
              "ADDR_PCT_CD           78\n",
              "PREM_TYP_DESC         94\n",
              "NEIGHBORHOOD         257\n",
              "NEIGHBORHOOD_CODE    257\n",
              "PD_CD                443\n",
              "CMPLNT_NUM           NaN\n",
              "RPT_DT               NaN\n",
              "Latitude             NaN\n",
              "Longitude            NaN\n",
              "CMPLNT_FR            NaN\n",
              "CMPLNT_TO            NaN\n",
              "Name: unique, dtype: object"
            ],
            "text/html": [
              "<div>\n",
              "<style scoped>\n",
              "    .dataframe tbody tr th:only-of-type {\n",
              "        vertical-align: middle;\n",
              "    }\n",
              "\n",
              "    .dataframe tbody tr th {\n",
              "        vertical-align: top;\n",
              "    }\n",
              "\n",
              "    .dataframe thead th {\n",
              "        text-align: right;\n",
              "    }\n",
              "</style>\n",
              "<table border=\"1\" class=\"dataframe\">\n",
              "  <thead>\n",
              "    <tr style=\"text-align: right;\">\n",
              "      <th></th>\n",
              "      <th>unique</th>\n",
              "    </tr>\n",
              "  </thead>\n",
              "  <tbody>\n",
              "    <tr>\n",
              "      <th>CRM_ATPT_CPTD_CD</th>\n",
              "      <td>2</td>\n",
              "    </tr>\n",
              "    <tr>\n",
              "      <th>SUSP_SEX</th>\n",
              "      <td>2</td>\n",
              "    </tr>\n",
              "    <tr>\n",
              "      <th>LAW_CAT_CD</th>\n",
              "      <td>3</td>\n",
              "    </tr>\n",
              "    <tr>\n",
              "      <th>VIC_SEX</th>\n",
              "      <td>5</td>\n",
              "    </tr>\n",
              "    <tr>\n",
              "      <th>BORO_NM</th>\n",
              "      <td>5</td>\n",
              "    </tr>\n",
              "    <tr>\n",
              "      <th>LOC_OF_OCCUR_DESC</th>\n",
              "      <td>5</td>\n",
              "    </tr>\n",
              "    <tr>\n",
              "      <th>VIC_AGE_GROUP</th>\n",
              "      <td>5</td>\n",
              "    </tr>\n",
              "    <tr>\n",
              "      <th>SUSP_AGE_GROUP</th>\n",
              "      <td>5</td>\n",
              "    </tr>\n",
              "    <tr>\n",
              "      <th>VIC_RACE</th>\n",
              "      <td>6</td>\n",
              "    </tr>\n",
              "    <tr>\n",
              "      <th>SUSP_RACE</th>\n",
              "      <td>6</td>\n",
              "    </tr>\n",
              "    <tr>\n",
              "      <th>PATROL_BORO</th>\n",
              "      <td>8</td>\n",
              "    </tr>\n",
              "    <tr>\n",
              "      <th>JURISDICTION_CODE</th>\n",
              "      <td>28</td>\n",
              "    </tr>\n",
              "    <tr>\n",
              "      <th>KY_CD</th>\n",
              "      <td>75</td>\n",
              "    </tr>\n",
              "    <tr>\n",
              "      <th>ADDR_PCT_CD</th>\n",
              "      <td>78</td>\n",
              "    </tr>\n",
              "    <tr>\n",
              "      <th>PREM_TYP_DESC</th>\n",
              "      <td>94</td>\n",
              "    </tr>\n",
              "    <tr>\n",
              "      <th>NEIGHBORHOOD</th>\n",
              "      <td>257</td>\n",
              "    </tr>\n",
              "    <tr>\n",
              "      <th>NEIGHBORHOOD_CODE</th>\n",
              "      <td>257</td>\n",
              "    </tr>\n",
              "    <tr>\n",
              "      <th>PD_CD</th>\n",
              "      <td>443</td>\n",
              "    </tr>\n",
              "    <tr>\n",
              "      <th>CMPLNT_NUM</th>\n",
              "      <td>NaN</td>\n",
              "    </tr>\n",
              "    <tr>\n",
              "      <th>RPT_DT</th>\n",
              "      <td>NaN</td>\n",
              "    </tr>\n",
              "    <tr>\n",
              "      <th>Latitude</th>\n",
              "      <td>NaN</td>\n",
              "    </tr>\n",
              "    <tr>\n",
              "      <th>Longitude</th>\n",
              "      <td>NaN</td>\n",
              "    </tr>\n",
              "    <tr>\n",
              "      <th>CMPLNT_FR</th>\n",
              "      <td>NaN</td>\n",
              "    </tr>\n",
              "    <tr>\n",
              "      <th>CMPLNT_TO</th>\n",
              "      <td>NaN</td>\n",
              "    </tr>\n",
              "  </tbody>\n",
              "</table>\n",
              "</div><br><label><b>dtype:</b> object</label>"
            ]
          },
          "metadata": {}
        }
      ]
    },
    {
      "cell_type": "code",
      "metadata": {
        "id": "3LVJIEak5mnA",
        "colab": {
          "base_uri": "https://localhost:8080/"
        },
        "outputId": "242c8c4a-52ca-4ed6-e144-99569a8923b8"
      },
      "source": [
        "for column in unique.index:\n",
        "    if unique[column] < 200:\n",
        "        print(df[column].value_counts())\n",
        "        print(\"=====\")"
      ],
      "execution_count": 322,
      "outputs": [
        {
          "output_type": "stream",
          "name": "stdout",
          "text": [
            "CRM_ATPT_CPTD_CD\n",
            "COMPLETED    9263026\n",
            "ATTEMPTED     155121\n",
            "Name: count, dtype: int64\n",
            "=====\n",
            "SUSP_SEX\n",
            "M    3421192\n",
            "F    1037663\n",
            "Name: count, dtype: int64\n",
            "=====\n",
            "LAW_CAT_CD\n",
            "MISDEMEANOR    5174794\n",
            "FELONY         2956237\n",
            "VIOLATION      1287116\n",
            "Name: count, dtype: int64\n",
            "=====\n",
            "VIC_SEX\n",
            "F    3669216\n",
            "M    3135787\n",
            "E    1359745\n",
            "D    1244005\n",
            "L       9394\n",
            "Name: count, dtype: int64\n",
            "=====\n",
            "BORO_NM\n",
            "BROOKLYN         2760214\n",
            "MANHATTAN        2275535\n",
            "BRONX            2038102\n",
            "QUEENS           1912408\n",
            "STATEN ISLAND     431888\n",
            "Name: count, dtype: int64\n",
            "=====\n",
            "LOC_OF_OCCUR_DESC\n",
            "INSIDE         4829483\n",
            "FRONT OF       2237476\n",
            "OPPOSITE OF     235013\n",
            "REAR OF         188600\n",
            "OUTSIDE           1459\n",
            "Name: count, dtype: int64\n",
            "=====\n",
            "VIC_AGE_GROUP\n",
            "25-44    3145184\n",
            "45-64    1630270\n",
            "18-24     941933\n",
            "<18       436530\n",
            "65+       354272\n",
            "Name: count, dtype: int64\n",
            "=====\n",
            "SUSP_AGE_GROUP\n",
            "25-44    1784297\n",
            "18-24     644021\n",
            "45-64     621236\n",
            "<18       215022\n",
            "65+        58333\n",
            "Name: count, dtype: int64\n",
            "=====\n",
            "VIC_RACE\n",
            "BLACK                             2270008\n",
            "WHITE                             1556486\n",
            "WHITE HISPANIC                    1555291\n",
            "ASIAN / PACIFIC ISLANDER           591011\n",
            "BLACK HISPANIC                     340202\n",
            "AMERICAN INDIAN/ALASKAN NATIVE      41795\n",
            "Name: count, dtype: int64\n",
            "=====\n",
            "SUSP_RACE\n",
            "BLACK                             2086901\n",
            "WHITE HISPANIC                     958137\n",
            "WHITE                              581475\n",
            "BLACK HISPANIC                     298925\n",
            "ASIAN / PACIFIC ISLANDER           190904\n",
            "AMERICAN INDIAN/ALASKAN NATIVE      15943\n",
            "Name: count, dtype: int64\n",
            "=====\n",
            "PATROL_BORO\n",
            "PATROL BORO BRONX            2038116\n",
            "PATROL BORO BKLYN SOUTH      1385720\n",
            "PATROL BORO BKLYN NORTH      1374503\n",
            "PATROL BORO MAN SOUTH        1156248\n",
            "PATROL BORO MAN NORTH        1117927\n",
            "PATROL BORO QUEENS NORTH      996785\n",
            "PATROL BORO QUEENS SOUTH      916961\n",
            "PATROL BORO STATEN ISLAND     431887\n",
            "Name: count, dtype: int64\n",
            "=====\n",
            "JURISDICTION_CODE\n",
            "0     8388433\n",
            "2      696266\n",
            "1      222212\n",
            "3       42202\n",
            "97      27479\n",
            "72      10440\n",
            "69       8887\n",
            "4        5990\n",
            "14       4145\n",
            "11       2476\n",
            "17       2252\n",
            "88       1935\n",
            "15       1202\n",
            "6         603\n",
            "87        579\n",
            "12        532\n",
            "71        474\n",
            "9         463\n",
            "7         442\n",
            "13        326\n",
            "51        317\n",
            "73        265\n",
            "85        120\n",
            "52         39\n",
            "16         30\n",
            "76         20\n",
            "8          17\n",
            "79          1\n",
            "Name: count, dtype: int64\n",
            "=====\n",
            "KY_CD\n",
            "341    1654783\n",
            "578    1266064\n",
            "344     991559\n",
            "109     828042\n",
            "351     729516\n",
            "        ...   \n",
            "460         16\n",
            "357         15\n",
            "123          7\n",
            "362          5\n",
            "577          3\n",
            "Name: count, Length: 75, dtype: int64\n",
            "=====\n",
            "ADDR_PCT_CD\n",
            "75     300478\n",
            "43     236133\n",
            "44     233879\n",
            "40     227211\n",
            "14     219143\n",
            "        ...  \n",
            "123     56571\n",
            "76      51073\n",
            "100     49834\n",
            "22       6858\n",
            "116       220\n",
            "Name: count, Length: 78, dtype: int64\n",
            "=====\n",
            "PREM_TYP_DESC\n",
            "STREET                        2959945\n",
            "RESIDENCE - APT. HOUSE        2023342\n",
            "RESIDENCE-HOUSE                918005\n",
            "RESIDENCE - PUBLIC HOUSING     689694\n",
            "CHAIN STORE                    276106\n",
            "                               ...   \n",
            "SHOE STORE                          3\n",
            "PHOTO/COPY STORE                    2\n",
            "DOCTOR/DENTIST                      2\n",
            "CHECK CASH                          1\n",
            "SCHOOL                              1\n",
            "Name: count, Length: 94, dtype: int64\n",
            "=====\n"
          ]
        }
      ]
    },
    {
      "cell_type": "code",
      "metadata": {
        "id": "FVGtbgdr5mnD",
        "colab": {
          "base_uri": "https://localhost:8080/"
        },
        "outputId": "6bf7da95-399a-4b12-fabb-1de0cd1da706"
      },
      "source": [
        "# With all the proper data typing the dataset went down in size from 1.9Gb+ to 425Mb.\n",
        "df.info()"
      ],
      "execution_count": 114,
      "outputs": [
        {
          "output_type": "stream",
          "name": "stdout",
          "text": [
            "<class 'pandas.core.frame.DataFrame'>\n",
            "Index: 9417224 entries, 0 to 9491945\n",
            "Data columns (total 24 columns):\n",
            " #   Column             Dtype         \n",
            "---  ------             -----         \n",
            " 0   CMPLNT_NUM         int32         \n",
            " 1   ADDR_PCT_CD        category      \n",
            " 2   RPT_DT             datetime64[ns]\n",
            " 3   KY_CD              category      \n",
            " 4   PD_CD              category      \n",
            " 5   CRM_ATPT_CPTD_CD   category      \n",
            " 6   LAW_CAT_CD         category      \n",
            " 7   BORO_NM            category      \n",
            " 8   LOC_OF_OCCUR_DESC  category      \n",
            " 9   PREM_TYP_DESC      category      \n",
            " 10  JURISDICTION_CODE  category      \n",
            " 11  SUSP_AGE_GROUP     category      \n",
            " 12  SUSP_RACE          category      \n",
            " 13  SUSP_SEX           category      \n",
            " 14  Latitude           float32       \n",
            " 15  Longitude          float32       \n",
            " 16  PATROL_BORO        category      \n",
            " 17  VIC_AGE_GROUP      category      \n",
            " 18  VIC_RACE           category      \n",
            " 19  VIC_SEX            category      \n",
            " 20  CMPLNT_FR          datetime64[ns]\n",
            " 21  CMPLNT_TO          datetime64[ns]\n",
            " 22  NEIGHBORHOOD_CODE  category      \n",
            " 23  NEIGHBORHOOD       category      \n",
            "dtypes: category(18), datetime64[ns](3), float32(2), int32(1)\n",
            "memory usage: 583.8 MB\n"
          ]
        }
      ]
    },
    {
      "cell_type": "code",
      "metadata": {
        "id": "3-DkWZbI5mnE",
        "outputId": "b4b8829f-6fff-4ed5-9681-2e02c08b07a8",
        "colab": {
          "base_uri": "https://localhost:8080/",
          "height": 836
        }
      },
      "source": [
        "df.dtypes"
      ],
      "execution_count": 116,
      "outputs": [
        {
          "output_type": "execute_result",
          "data": {
            "text/plain": [
              "CMPLNT_NUM                    int32\n",
              "ADDR_PCT_CD                category\n",
              "RPT_DT               datetime64[ns]\n",
              "KY_CD                      category\n",
              "PD_CD                      category\n",
              "CRM_ATPT_CPTD_CD           category\n",
              "LAW_CAT_CD                 category\n",
              "BORO_NM                    category\n",
              "LOC_OF_OCCUR_DESC          category\n",
              "PREM_TYP_DESC              category\n",
              "JURISDICTION_CODE          category\n",
              "SUSP_AGE_GROUP             category\n",
              "SUSP_RACE                  category\n",
              "SUSP_SEX                   category\n",
              "Latitude                    float32\n",
              "Longitude                   float32\n",
              "PATROL_BORO                category\n",
              "VIC_AGE_GROUP              category\n",
              "VIC_RACE                   category\n",
              "VIC_SEX                    category\n",
              "CMPLNT_FR            datetime64[ns]\n",
              "CMPLNT_TO            datetime64[ns]\n",
              "NEIGHBORHOOD_CODE          category\n",
              "NEIGHBORHOOD               category\n",
              "dtype: object"
            ],
            "text/html": [
              "<div>\n",
              "<style scoped>\n",
              "    .dataframe tbody tr th:only-of-type {\n",
              "        vertical-align: middle;\n",
              "    }\n",
              "\n",
              "    .dataframe tbody tr th {\n",
              "        vertical-align: top;\n",
              "    }\n",
              "\n",
              "    .dataframe thead th {\n",
              "        text-align: right;\n",
              "    }\n",
              "</style>\n",
              "<table border=\"1\" class=\"dataframe\">\n",
              "  <thead>\n",
              "    <tr style=\"text-align: right;\">\n",
              "      <th></th>\n",
              "      <th>0</th>\n",
              "    </tr>\n",
              "  </thead>\n",
              "  <tbody>\n",
              "    <tr>\n",
              "      <th>CMPLNT_NUM</th>\n",
              "      <td>int32</td>\n",
              "    </tr>\n",
              "    <tr>\n",
              "      <th>ADDR_PCT_CD</th>\n",
              "      <td>category</td>\n",
              "    </tr>\n",
              "    <tr>\n",
              "      <th>RPT_DT</th>\n",
              "      <td>datetime64[ns]</td>\n",
              "    </tr>\n",
              "    <tr>\n",
              "      <th>KY_CD</th>\n",
              "      <td>category</td>\n",
              "    </tr>\n",
              "    <tr>\n",
              "      <th>PD_CD</th>\n",
              "      <td>category</td>\n",
              "    </tr>\n",
              "    <tr>\n",
              "      <th>CRM_ATPT_CPTD_CD</th>\n",
              "      <td>category</td>\n",
              "    </tr>\n",
              "    <tr>\n",
              "      <th>LAW_CAT_CD</th>\n",
              "      <td>category</td>\n",
              "    </tr>\n",
              "    <tr>\n",
              "      <th>BORO_NM</th>\n",
              "      <td>category</td>\n",
              "    </tr>\n",
              "    <tr>\n",
              "      <th>LOC_OF_OCCUR_DESC</th>\n",
              "      <td>category</td>\n",
              "    </tr>\n",
              "    <tr>\n",
              "      <th>PREM_TYP_DESC</th>\n",
              "      <td>category</td>\n",
              "    </tr>\n",
              "    <tr>\n",
              "      <th>JURISDICTION_CODE</th>\n",
              "      <td>category</td>\n",
              "    </tr>\n",
              "    <tr>\n",
              "      <th>SUSP_AGE_GROUP</th>\n",
              "      <td>category</td>\n",
              "    </tr>\n",
              "    <tr>\n",
              "      <th>SUSP_RACE</th>\n",
              "      <td>category</td>\n",
              "    </tr>\n",
              "    <tr>\n",
              "      <th>SUSP_SEX</th>\n",
              "      <td>category</td>\n",
              "    </tr>\n",
              "    <tr>\n",
              "      <th>Latitude</th>\n",
              "      <td>float32</td>\n",
              "    </tr>\n",
              "    <tr>\n",
              "      <th>Longitude</th>\n",
              "      <td>float32</td>\n",
              "    </tr>\n",
              "    <tr>\n",
              "      <th>PATROL_BORO</th>\n",
              "      <td>category</td>\n",
              "    </tr>\n",
              "    <tr>\n",
              "      <th>VIC_AGE_GROUP</th>\n",
              "      <td>category</td>\n",
              "    </tr>\n",
              "    <tr>\n",
              "      <th>VIC_RACE</th>\n",
              "      <td>category</td>\n",
              "    </tr>\n",
              "    <tr>\n",
              "      <th>VIC_SEX</th>\n",
              "      <td>category</td>\n",
              "    </tr>\n",
              "    <tr>\n",
              "      <th>CMPLNT_FR</th>\n",
              "      <td>datetime64[ns]</td>\n",
              "    </tr>\n",
              "    <tr>\n",
              "      <th>CMPLNT_TO</th>\n",
              "      <td>datetime64[ns]</td>\n",
              "    </tr>\n",
              "    <tr>\n",
              "      <th>NEIGHBORHOOD_CODE</th>\n",
              "      <td>category</td>\n",
              "    </tr>\n",
              "    <tr>\n",
              "      <th>NEIGHBORHOOD</th>\n",
              "      <td>category</td>\n",
              "    </tr>\n",
              "  </tbody>\n",
              "</table>\n",
              "</div><br><label><b>dtype:</b> object</label>"
            ]
          },
          "metadata": {},
          "execution_count": 116
        }
      ]
    },
    {
      "cell_type": "markdown",
      "metadata": {
        "id": "s4Nw6Q6J5mnK"
      },
      "source": [
        "## Storing in a MySQL database"
      ]
    },
    {
      "cell_type": "code",
      "metadata": {
        "id": "pIFdbm3zC1Qa"
      },
      "source": [
        "!sudo pip3 install -U -q PyMySQL sqlalchemy"
      ],
      "execution_count": 323,
      "outputs": []
    },
    {
      "cell_type": "code",
      "metadata": {
        "id": "XRRqVqrj5mnK"
      },
      "source": [
        "import os\n",
        "from sqlalchemy import create_engine\n",
        "from sqlalchemy import text\n",
        "\n",
        "conn_string = 'mysql+pymysql://{user}:{password}@{host}/?charset=utf8mb4'.format(\n",
        "    host = 'db.ipeirotis.org',\n",
        "    user = 'root',\n",
        "    password = mysql_pass,\n",
        "    encoding = 'utf8mb4')\n",
        "\n",
        "engine = create_engine(conn_string)\n"
      ],
      "execution_count": 326,
      "outputs": []
    },
    {
      "cell_type": "code",
      "metadata": {
        "id": "BME9Kw3I5mnL"
      },
      "source": [
        "# Query to create a database\n",
        "db_name = 'nypd'\n",
        "\n",
        "sql = f\"DROP DATABASE IF EXISTS {db_name}\"\n",
        "with engine.connect() as connection:\n",
        "  connection.execute(text(sql))\n",
        "\n",
        "# Create a database\n",
        "sql = f\"CREATE DATABASE IF NOT EXISTS {db_name} DEFAULT CHARACTER SET 'utf8mb4'\"\n",
        "with engine.connect() as connection:\n",
        "  connection.execute(text(sql))\n"
      ],
      "execution_count": 327,
      "outputs": []
    },
    {
      "cell_type": "code",
      "metadata": {
        "id": "M-_M6qS0Vhlv"
      },
      "source": [
        "# And lets switch to the database\n",
        "sql = f\"USE {db_name}\"\n",
        "with engine.connect() as connection:\n",
        "  connection.execute(text(sql))\n"
      ],
      "execution_count": 332,
      "outputs": []
    },
    {
      "cell_type": "code",
      "source": [],
      "metadata": {
        "id": "7TFHAgvkruEE"
      },
      "execution_count": 121,
      "outputs": []
    },
    {
      "cell_type": "code",
      "source": [
        "NEIGHBORHOOD_enum = \"ENUM('\" + (\"','\".join(sorted(df.NEIGHBORHOOD.astype(str).unique()))) + \"')\"\n"
      ],
      "metadata": {
        "id": "N3ICigmiqdPr"
      },
      "execution_count": 328,
      "outputs": []
    },
    {
      "cell_type": "code",
      "source": [
        "print(NEIGHBORHOOD_enum)"
      ],
      "metadata": {
        "id": "Y5BrhbvWstAa",
        "outputId": "b8cfac44-9a7a-4427-ee70-d9ac4f3b7b93",
        "colab": {
          "base_uri": "https://localhost:8080/"
        }
      },
      "execution_count": 329,
      "outputs": [
        {
          "output_type": "stream",
          "name": "stdout",
          "text": [
            "ENUM('Allerton','Alley Pond Park','Annadale-Huguenot-Prince’s Bay-Woodrow','Arden Heights-Rossville','Astoria (Central)','Astoria (East)-Woodside (North)','Astoria (North)-Ditmars-Steinway','Astoria Park','Auburndale','Baisley Park','Barren Island-Floyd Bennett Field','Bath Beach','Bay Ridge','Bay Terrace-Clearview','Bayside','Bedford Park','Bedford-Stuyvesant (East)','Bedford-Stuyvesant (West)','Bellerose','Belmont','Bensonhurst','Borough Park','Breezy Point-Belle Harbor-Rockaway Park-Broad Channel','Brighton Beach','Bronx Park','Brooklyn Heights','Brooklyn Navy Yard','Brownsville','Bushwick (East)','Bushwick (West)','Calvary & Mount Zion Cemeteries','Calvert Vaux Park','Cambria Heights','Canarsie','Canarsie Park & Pier','Carroll Gardens-Cobble Hill-Gowanus-Red Hook','Castle Hill-Unionport','Central Park','Chelsea-Hudson Yards','Chinatown-Two Bridges','Claremont Park','Claremont Village-Claremont (East)','Clinton Hill','Co-op City','College Point','Concourse-Concourse Village','Coney Island-Sea Gate','Corona','Crotona Park','Crotona Park East','Crown Heights (North)','Crown Heights (South)','Cunningham Park','Cypress Hills','Douglaston-Little Neck','Downtown Brooklyn-DUMBO-Boerum Hill','Dyker Beach Park','Dyker Heights','East Elmhurst','East Flatbush-Erasmus','East Flatbush-Farragut','East Flatbush-Remsen Village','East Flatbush-Rugby','East Flushing','East Harlem (North)','East Harlem (South)','East Midtown-Turtle Bay','East New York (North)','East New York-City Line','East New York-New Lots','East Village','East Williamsburg','Eastchester-Edenwald-Baychester','Elmhurst','Far Rockaway-Bayswater','Ferry Point Park-St. Raymond Cemetery','Financial District-Battery Park City','Flatbush','Flatbush (West)-Ditmas Park-Parkville','Flatlands','Flushing Meadows-Corona Park','Flushing-Willets Point','Fordham Heights','Forest Hills','Forest Park','Fort Greene','Fort Hamilton','Fort Totten','Fort Wadsworth','Fresh Meadows-Utopia','Freshkills Park (North)','Freshkills Park (South)','Glen Oaks-Floral Park-New Hyde Park','Glendale','Gramercy','Grasmere-Arrochar-South Beach-Dongan Hills','Gravesend (East)-Homecrest','Gravesend (South)','Gravesend (West)','Great Kills Park','Great Kills-Eltingville','Green-Wood Cemetery','Greenpoint','Greenwich Village','Hamilton Heights-Sugar Hill','Harlem (North)','Harlem (South)','Hell’s Kitchen','Highbridge','Highbridge Park','Highland Park-Cypress Hills Cemeteries (North)','Highland Park-Cypress Hills Cemeteries (South)','Hollis','Holy Cross Cemetery','Howard Beach-Lindenwood','Hunts Point','Hutchinson Metro Center','Inwood','Inwood Hill Park','Jackson Heights','Jacob Riis Park-Fort Tilden-Breezy Point Tip','Jamaica','Jamaica Bay (East)','Jamaica Estates-Holliswood','Jamaica Hills-Briarwood','John F. Kennedy International Airport','Kensington','Kew Gardens','Kew Gardens Hills','Kingsbridge Heights-Van Cortlandt Village','Kingsbridge-Marble Hill','Kissena Park','LaGuardia Airport','Laurelton','Lincoln Terrace Park','Long Island City-Hunters Point','Longwood','Lower East Side','Madison','Manhattanville-West Harlem','Mapleton-Midwood (West)','Marine Park-Mill Basin-Bergen Beach','Marine Park-Plumb Island','Mariner’s Harbor-Arlington-Graniteville','Maspeth','McGuire Fields','Melrose','Middle Village','Middle Village Cemetery','Midtown South-Flatiron-Union Square','Midtown-Times Square','Midwood','Miller Field','Montefiore Cemetery','Morningside Heights','Morris Park','Morrisania','Mott Haven-Port Morris','Mount Eden-Claremont (West)','Mount Hope','Mount Olivet & All Faiths Cemeteries','Murray Hill-Broadway Flushing','Murray Hill-Kips Bay','New Dorp-Midland Beach','New Springville-Willowbrook-Bulls Head-Travis','North Corona','Norwood','Oakland Gardens-Hollis Hills','Oakwood-Richmondtown','Ocean Hill','Old Astoria-Hallets Point','Ozone Park','Ozone Park (North)','Park Slope','Parkchester','Pelham Bay Park','Pelham Bay-Country Club-City Island','Pelham Gardens','Pelham Parkway-Van Nest','Pomonok-Electchester-Hillcrest','Port Richmond','Prospect Heights','Prospect Lefferts Gardens-Wingate','Prospect Park','Queens Village','Queensboro Hill','Queensbridge-Ravenswood-Dutch Kills','Randall’s Island','Rego Park','Richmond Hill','Ridgewood','Rikers Island','Riverdale-Spuyten Duyvil','Rockaway Beach-Arverne-Edgemere','Rockaway Community Park','Rosebank-Shore Acres-Park Hill','Rosedale','Sheepshead Bay-Manhattan Beach-Gerritsen Beach','Shirley Chisholm State Park','Snug Harbor','SoHo-Little Italy-Hudson Square','Soundview Park','Soundview-Bruckner-Bronx River','Soundview-Clason Point','South Jamaica','South Ozone Park','South Richmond Hill','South Williamsburg','Spring Creek Park','Spring Creek-Starrett City','Springfield Gardens (North)-Rochdale Village','Springfield Gardens (South)-Brookville','St. Albans','St. George-New Brighton','St. John Cemetery','St. Michael’s Cemetery','Stuyvesant Town-Peter Cooper Village','Sunnyside','Sunnyside Yards (North)','Sunnyside Yards (South)','Sunset Park (Central)','Sunset Park (East)-Borough Park (West)','Sunset Park (West)','The Battery-Governors Island-Ellis Island-Liberty Island','The Evergreens Cemetery','Throgs Neck-Schuylerville','Todt Hill-Emerson Hill-Lighthouse Hill-Manor Heights','Tompkinsville-Stapleton-Clifton-Fox Hills','Tottenville-Charleston','Tremont','Tribeca-Civic Center','United Nations','University Heights (North)-Fordham','University Heights (South)-Morris Heights','Upper East Side-Carnegie Hill','Upper East Side-Lenox Hill-Roosevelt Island','Upper East Side-Yorkville','Upper West Side (Central)','Upper West Side-Lincoln Square','Upper West Side-Manhattan Valley','Van Cortlandt Park','Wakefield-Woodlawn','Washington Heights (North)','Washington Heights (South)','West Farms','West New Brighton-Silver Lake-Grymes Hill','West Village','Westchester Square','Westerleigh-Castleton Corners','Whitestone-Beechhurst','Williamsbridge-Olinville','Williamsburg','Windsor Terrace-South Slope','Woodhaven','Woodlawn Cemetery','Woodside','Yankee Stadium-Macombs Dam Park')\n"
          ]
        }
      ]
    },
    {
      "cell_type": "code",
      "source": [
        "NCODE_enum = \"ENUM('\" + (\"','\".join(sorted(df.NEIGHBORHOOD_CODE.astype(str).unique()))) + \"')\""
      ],
      "metadata": {
        "id": "lGMrzatsrL10"
      },
      "execution_count": 330,
      "outputs": []
    },
    {
      "cell_type": "code",
      "metadata": {
        "id": "10JrBGZ65mnL"
      },
      "source": [
        "# In principle, we can let Pandas create the table, but we want to be a bit more predise\n",
        "# with the data types, and we want to add documentation for each column\n",
        "# from https://data.cityofnewyork.us/Public-Safety/NYPD-Complaint-Data-Historic/qgea-i56i\n",
        "\n",
        "\n",
        "sql = f'''\n",
        "CREATE TABLE {db_name}.nypd (\n",
        "  CMPLNT_NUM int,\n",
        "  CMPLNT_FR datetime,\n",
        "  CMPLNT_TO datetime,\n",
        "  RPT_DT date,\n",
        "  KY_CD SMALLINT,\n",
        "  PD_CD SMALLINT,\n",
        "  CRM_ATPT_CPTD_CD enum('COMPLETED','ATTEMPTED'),\n",
        "  LAW_CAT_CD enum('FELONY','MISDEMEANOR','VIOLATION'),\n",
        "  JURISDICTION_CODE SMALLINT,\n",
        "  BORO_NM enum('BRONX','BROOKLYN','MANHATTAN','QUEENS','STATEN ISLAND'),\n",
        "  NEIGHBORHOOD {NEIGHBORHOOD_enum},\n",
        "  NEIGHBORHOOD_CODE {NCODE_enum},\n",
        "  ADDR_PCT_CD SMALLINT,\n",
        "  LOC_OF_OCCUR_DESC enum('FRONT OF','INSIDE','OPPOSITE OF','OUTSIDE','REAR OF'),\n",
        "  PATROL_BORO enum('PATROL BORO BRONX', 'PATROL BORO BKLYN SOUTH','PATROL BORO BKLYN NORTH','PATROL BORO MAN SOUTH','PATROL BORO MAN NORTH','PATROL BORO QUEENS NORTH','PATROL BORO QUEENS SOUTH','PATROL BORO STATEN ISLAND'),\n",
        "  PREM_TYP_DESC varchar(30),\n",
        "  SUSP_RACE enum('UNKNOWN', 'BLACK', 'WHITE', 'WHITE HISPANIC', 'ASIAN / PACIFIC ISLANDER', 'BLACK HISPANIC', 'AMERICAN INDIAN/ALASKAN NATIVE'),\n",
        "  VIC_RACE enum('UNKNOWN', 'BLACK', 'WHITE', 'WHITE HISPANIC', 'ASIAN / PACIFIC ISLANDER', 'BLACK HISPANIC', 'AMERICAN INDIAN/ALASKAN NATIVE'),\n",
        "  SUSP_AGE_GROUP enum('<18', '18-24',  '25-44', '45-64', '65+'),\n",
        "  VIC_AGE_GROUP enum('<18', '18-24',  '25-44', '45-64', '65+'),\n",
        "  SUSP_SEX enum('M', 'F'),\n",
        "  VIC_SEX enum('M', 'F', 'E', 'D', 'L'),\n",
        "  Latitude double,\n",
        "  Longitude double,\n",
        "  PRIMARY KEY (CMPLNT_NUM)\n",
        ") ENGINE=InnoDB DEFAULT CHARSET=utf8mb4;\n",
        "'''\n",
        "with engine.connect() as connection:\n",
        "  connection.execute(text(sql))"
      ],
      "execution_count": 333,
      "outputs": []
    },
    {
      "cell_type": "code",
      "metadata": {
        "id": "5fJuGS1e5mnM",
        "colab": {
          "base_uri": "https://localhost:8080/"
        },
        "outputId": "b7f73949-8101-4545-e8b2-59139701804c"
      },
      "source": [
        "# Create a table\n",
        "# See http://pandas.pydata.org/pandas-docs/stable/generated/pandas.DataFrame.to_sql.html for the documentation\n",
        "from tqdm import tqdm\n",
        "batchsize = 50000\n",
        "batches = len(df) // batchsize + 1\n",
        "\n",
        "t = tqdm(range(batches))\n",
        "\n",
        "for i in t:\n",
        "    # print(\"Batch:\",i)\n",
        "    # continue # Cannot execute this on Travis\n",
        "    start = batchsize * i\n",
        "    end = batchsize * (i+1)\n",
        "    df[start:end].to_sql(\n",
        "        name = 'nypd',\n",
        "        schema = db_name,\n",
        "        con = engine,\n",
        "        if_exists = 'append',\n",
        "        index = False,\n",
        "        chunksize = 1000)"
      ],
      "execution_count": null,
      "outputs": [
        {
          "output_type": "stream",
          "name": "stderr",
          "text": [
            "  3%|▎         | 5/189 [01:25<52:05, 16.99s/it]"
          ]
        }
      ]
    },
    {
      "cell_type": "code",
      "metadata": {
        "id": "m8ozy38lJmOt"
      },
      "source": [
        "sql = \"CREATE INDEX ix_lat ON nypd.nypd(Latitude)\"\n",
        "with engine.connect() as connection:\n",
        "  connection.execute(text(sql))"
      ],
      "execution_count": null,
      "outputs": []
    },
    {
      "cell_type": "code",
      "metadata": {
        "id": "Up8_pRiYPn3X"
      },
      "source": [
        "sql = \"CREATE INDEX ix_lon ON nypd.nypd(Longitude)\"\n",
        "with engine.connect() as connection:\n",
        "  connection.execute(text(sql))"
      ],
      "execution_count": null,
      "outputs": []
    },
    {
      "cell_type": "code",
      "metadata": {
        "id": "fRVAUTDsPn6N"
      },
      "source": [
        "sql = \"CREATE INDEX ix_LAW_CAT_CD ON nypd.nypd(LAW_CAT_CD)\"\n",
        "with engine.connect() as connection:\n",
        "  connection.execute(text(sql))"
      ],
      "execution_count": null,
      "outputs": []
    },
    {
      "cell_type": "code",
      "metadata": {
        "id": "TcqQhh63PoAJ"
      },
      "source": [
        "sql = \"CREATE INDEX ix_BORO_NM ON nypd.nypd(BORO_NM)\"\n",
        "with engine.connect() as connection:\n",
        "  connection.execute(text(sql))"
      ],
      "execution_count": null,
      "outputs": []
    },
    {
      "cell_type": "code",
      "metadata": {
        "id": "2-j9IWUtklbT"
      },
      "source": [
        "sql = \"CREATE INDEX ix_KY_CD ON nypd.nypd(KY_CD)\"\n",
        "with engine.connect() as connection:\n",
        "  connection.execute(text(sql))"
      ],
      "execution_count": null,
      "outputs": []
    },
    {
      "cell_type": "code",
      "metadata": {
        "id": "fVLOoJXZP3IL"
      },
      "source": [
        "sql = \"CREATE INDEX ix_RPT_DT ON nypd.nypd(RPT_DT)\"\n",
        "with engine.connect() as connection:\n",
        "  connection.execute(text(sql))"
      ],
      "execution_count": null,
      "outputs": []
    },
    {
      "cell_type": "code",
      "metadata": {
        "id": "_LMQyvt6P71C"
      },
      "source": [
        "sql = \"CREATE INDEX ix_CMPLNT_FR ON nypd.nypd(CMPLNT_FR)\"\n",
        "with engine.connect() as connection:\n",
        "  connection.execute(text(sql))"
      ],
      "execution_count": null,
      "outputs": []
    },
    {
      "cell_type": "code",
      "source": [
        "offenses = offenses[offenses.OFNS_DESC != \"(null)\"]"
      ],
      "metadata": {
        "id": "mc5hOjV_jaIJ"
      },
      "execution_count": null,
      "outputs": []
    },
    {
      "cell_type": "code",
      "source": [
        "offenses = offenses.groupby('KY_CD', observed=False).first()['OFNS_DESC']"
      ],
      "metadata": {
        "id": "cBvLp2m7bR3V"
      },
      "execution_count": null,
      "outputs": []
    },
    {
      "cell_type": "code",
      "source": [
        "offenses = offenses.reset_index()"
      ],
      "metadata": {
        "id": "sK4362Ecb6iJ"
      },
      "execution_count": null,
      "outputs": []
    },
    {
      "cell_type": "code",
      "source": [
        "# offenses.drop(39,inplace=True)"
      ],
      "metadata": {
        "id": "hoi25ZMHjvkV"
      },
      "execution_count": 153,
      "outputs": []
    },
    {
      "cell_type": "code",
      "metadata": {
        "id": "hPGyBq5gvy2o"
      },
      "source": [
        "sql = \"DROP TABLE IF EXISTS offense_codes;\"\n",
        "with engine.connect() as connection:\n",
        "  connection.execute(text(sql))\n",
        "\n",
        "sql = '''\n",
        "CREATE TABLE offense_codes (\n",
        "  KY_CD smallint,\n",
        "  OFNS_DESC varchar(32),\n",
        "  PRIMARY KEY (KY_CD)\n",
        ") ENGINE=InnoDB DEFAULT CHARSET=utf8mb4;\n",
        "'''\n",
        "with engine.connect() as connection:\n",
        "  connection.execute(text(sql))\n",
        "\n",
        "offenses.to_sql(\n",
        "        name = 'offense_codes',\n",
        "        schema = db_name,\n",
        "        con = engine,\n",
        "        if_exists = 'append',\n",
        "        index = False)"
      ],
      "execution_count": null,
      "outputs": []
    },
    {
      "cell_type": "code",
      "metadata": {
        "id": "--bCF3OXxVVq"
      },
      "source": [
        "sql = \"DROP TABLE IF EXISTS jurisdiction_codes;\"\n",
        "with engine.connect() as connection:\n",
        "  connection.execute(text(sql))\n",
        "\n",
        "sql = '''\n",
        "CREATE TABLE jurisdiction_codes (\n",
        "  JURISDICTION_CODE smallint,\n",
        "  JURIS_DESC varchar(40),\n",
        "  PRIMARY KEY (JURISDICTION_CODE)\n",
        ") ENGINE=InnoDB DEFAULT CHARSET=utf8mb4;\n",
        "'''\n",
        "with engine.connect() as connection:\n",
        "  connection.execute(text(sql))\n",
        "\n",
        "\n",
        "jusridiction.to_sql(\n",
        "        name = 'jurisdiction_codes',\n",
        "        schema = db_name,\n",
        "        con = engine,\n",
        "        if_exists = 'append',\n",
        "        index = False)"
      ],
      "execution_count": null,
      "outputs": []
    },
    {
      "cell_type": "code",
      "metadata": {
        "id": "lm6SIPHz3wXU"
      },
      "source": [
        "internal.PD_DESC.str.len().max()\n"
      ],
      "execution_count": null,
      "outputs": []
    },
    {
      "cell_type": "code",
      "source": [
        "internal = internal.query(\"PD_DESC !=\t'CRIMINAL DISPOSAL FIREARM 1 &' \")\n",
        "internal = internal.query(\"PD_DESC !=\t'UNFINSH FRAME 2' \")\n",
        "internal = internal.query(\"PD_DESC !=\t'WEAPONS POSSESSION 1 & 2' \")\n",
        "internal = internal.query(\"PD_DESC !=\t'CRIM POS WEAP 4' \")\n"
      ],
      "metadata": {
        "id": "M4AhYz7wkKB1"
      },
      "execution_count": null,
      "outputs": []
    },
    {
      "cell_type": "code",
      "source": [
        "internal"
      ],
      "metadata": {
        "id": "7OquBAjUkcOk"
      },
      "execution_count": null,
      "outputs": []
    },
    {
      "cell_type": "code",
      "metadata": {
        "id": "rFUrm2poxWFQ"
      },
      "source": [
        "sql = \"DROP TABLE IF EXISTS penal_codes;\"\n",
        "with engine.connect() as connection:\n",
        "  connection.execute(text(sql))\n",
        "\n",
        "sql = '''\n",
        "CREATE TABLE penal_codes (\n",
        "  PD_CD smallint,\n",
        "  PD_DESC varchar(80),\n",
        "  PRIMARY KEY (PD_CD)\n",
        ") ENGINE=InnoDB DEFAULT CHARSET=utf8mb4;\n",
        "'''\n",
        "with engine.connect() as connection:\n",
        "  connection.execute(text(sql))\n",
        "\n",
        "\n",
        "internal.to_sql(\n",
        "        name = 'penal_codes',\n",
        "        schema = db_name,\n",
        "        con = engine,\n",
        "        if_exists = 'append',\n",
        "        index = False)"
      ],
      "execution_count": null,
      "outputs": []
    },
    {
      "cell_type": "code",
      "source": [
        "internal"
      ],
      "metadata": {
        "id": "BH70s3Xdgw61"
      },
      "execution_count": null,
      "outputs": []
    },
    {
      "cell_type": "code",
      "source": [
        "!curl 'https://data.cityofnewyork.us/api/views/qgea-i56i/files/65f25845-1551-4d21-91dc-869c977cd93d?download=true&filename=PDCode_PenalLaw.xlsx' -o PDCode_PenalLaw.xlsx"
      ],
      "metadata": {
        "id": "QMyhil5Rcpdz"
      },
      "execution_count": null,
      "outputs": []
    },
    {
      "cell_type": "code",
      "source": [
        "penal_code_df = pd.read_excel('PDCode_PenalLaw.xlsx')"
      ],
      "metadata": {
        "id": "-_zZKHY7csLJ"
      },
      "execution_count": null,
      "outputs": []
    },
    {
      "cell_type": "code",
      "source": [
        "penal_code_df.to_sql(\n",
        "        name = 'pd_code_penal_law',\n",
        "        schema = db_name,\n",
        "        con = engine,\n",
        "        if_exists = 'replace',\n",
        "        index = False)"
      ],
      "metadata": {
        "id": "DoujK2mEct93"
      },
      "execution_count": null,
      "outputs": []
    }
  ]
}