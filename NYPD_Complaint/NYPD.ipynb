{
  "nbformat": 4,
  "nbformat_minor": 0,
  "metadata": {
    "kernelspec": {
      "display_name": "Python 3",
      "language": "python",
      "name": "python3"
    },
    "language_info": {
      "codemirror_mode": {
        "name": "ipython",
        "version": 3
      },
      "file_extension": ".py",
      "mimetype": "text/x-python",
      "name": "python",
      "nbconvert_exporter": "python",
      "pygments_lexer": "ipython3",
      "version": "3.6.9"
    },
    "colab": {
      "name": "NYPD.ipynb",
      "provenance": [],
      "toc_visible": true,
      "machine_shape": "hm",
      "include_colab_link": true
    }
  },
  "cells": [
    {
      "cell_type": "markdown",
      "metadata": {
        "id": "view-in-github",
        "colab_type": "text"
      },
      "source": [
        "<a href=\"https://colab.research.google.com/github/ipeirotis-org/datasets/blob/main/NYPD_Complaint/NYPD.ipynb\" target=\"_parent\"><img src=\"https://colab.research.google.com/assets/colab-badge.svg\" alt=\"Open In Colab\"/></a>"
      ]
    },
    {
      "cell_type": "markdown",
      "metadata": {
        "id": "GOZM1miw5mmu"
      },
      "source": [
        "## NYPD Dataset\n",
        "\n",
        "Dataset description at\n",
        "https://data.cityofnewyork.us/Public-Safety/NYPD-Complaint-Data-Historic/qgea-i56i\n"
      ]
    },
    {
      "cell_type": "markdown",
      "metadata": {
        "id": "3E6Bimj_5mmy"
      },
      "source": [
        "\n",
        "| Column | Description |\n",
        "|--------|-------------------|\n",
        "| CMPLNT_NUM |  Randomly generated persistent ID for each complaint  |  \n",
        "| ADDR_PCT_CD |  The precinct in which the incident occurred |  \n",
        "| BORO |  The name of the borough in which the incident occurred |  \n",
        "| CMPLNT_FR_DT |  Exact date of occurrence for the reported event (or starting date of occurrence, if CMPLNT_TO_DT exists) |  \n",
        "| CMPLNT_FR_TM |  Exact time of occurrence for the reported event (or starting time of occurrence, if CMPLNT_TO_TM exists) |  \n",
        "| CMPLNT_TO_DT |  Ending date of occurrence for the reported event, if exact time of occurrence is unknown |  \n",
        "| CMPLNT_TO_TM |  Ending time of occurrence for the reported event, if exact time of occurrence is unknown |  \n",
        "| CRM_ATPT_CPTD_CD |  Indicator of whether crime was successfully completed or attempted, but failed or was interrupted prematurely |  \n",
        "| HADEVELOPT |  Name of NYCHA housing development of occurrence, if applicable |  \n",
        "| HOUSING_PSA |  Development Level Code |  \n",
        "| JURISDICTION_CODE |  Jurisdiction responsible for incident. Either internal, like Police(0), Transit(1), and Housing(2); or external(3), like Correction, Port Authority, etc. |  \n",
        "| JURIS_DESC |  Description of the jurisdiction code |  \n",
        "| KY_CD |  Three digit offense classification code |  \n",
        "| LAW_CAT_CD |  Level of offense: felony, misdemeanor, violation  |  \n",
        "| LOC_OF_OCCUR_DESC |  Specific location of occurrence in or around the premises; inside, opposite of, front of, rear of |  \n",
        "| OFNS_DESC |  Description of offense corresponding with key code |  \n",
        "| PARKS_NM |  Name of NYC park, playground or greenspace of occurrence, if applicable (state parks are not included) |  \n",
        "| PATROL_BORO |  The name of the patrol borough in which the incident occurred |  \n",
        "| PD_CD |  Three digit internal classification code (more granular than Key Code) |  \n",
        "| PD_DESC |  Description of internal classification corresponding with PD code (more granular than Offense Description) |  \n",
        "| PREM_TYP_DESC |  Specific description of premises; grocery store, residence, street, etc. |  \n",
        "| RPT_DT |  Date event was reported to police  |  \n",
        "| STATION_NAME |  Transit station name |  \n",
        "| SUSP_AGE_GROUP |  Suspect’s Age Group |  \n",
        "| SUSP_RACE |  Suspect’s Race Description |  \n",
        "| SUSP_SEX |  Suspect’s Sex Description |  \n",
        "| TRANSIT_DISTRICT |  Transit district in which the offense occurred. |  \n",
        "| VIC_AGE_GROUP |  Victim’s Age Group |  \n",
        "| VIC_RACE |  Victim’s Race Description |  \n",
        "| VIC_SEX |  Victim’s Sex Description |  \n",
        "| X_COORD_CD |  X-coordinate for New York State Plane Coordinate System, Long Island Zone, NAD 83, units feet (FIPS 3104) |  \n",
        "| Y_COORD_CD |  Y-coordinate for New York State Plane Coordinate System, Long Island Zone, NAD 83, units feet (FIPS 3104) |  \n",
        "| Latitude |  Midblock Latitude coordinate for Global Coordinate System, WGS 1984, decimal degrees (EPSG 4326)  |  \n",
        "| Longitude |  Midblock Longitude coordinate for Global Coordinate System, WGS 1984, decimal degrees (EPSG 4326) |\n"
      ]
    },
    {
      "cell_type": "code",
      "source": [
        "!pip install -q google-cloud-secret-manager\n",
        "\n",
        "from google.colab import auth\n",
        "auth.authenticate_user()\n",
        "\n",
        "from google.cloud import secretmanager\n",
        "\n",
        "def access_secret_version(project_id, secret_id, version_id):\n",
        "    \"\"\"\n",
        "    Access the payload of the given secret version and return it.\n",
        "\n",
        "    Args:\n",
        "        project_id (str): Google Cloud project ID.\n",
        "        secret_id (str): ID of the secret to access.\n",
        "        version_id (str): ID of the version to access.\n",
        "    Returns:\n",
        "        str: The secret version's payload, or None if\n",
        "        the version does not exist.\n",
        "    \"\"\"\n",
        "    client = secretmanager.SecretManagerServiceClient()\n",
        "    name = f\"projects/{project_id}/secrets/{secret_id}/versions/{version_id}\"\n",
        "    response = client.access_secret_version(request={\"name\": name})\n",
        "    return response.payload.data.decode(\"UTF-8\")\n",
        "\n",
        "\n",
        "mysql_pass = access_secret_version(\"nyu-datasets\", \"MYSQL_PASSWORD\", \"latest\")"
      ],
      "metadata": {
        "id": "6oZ_15cE7Aw7",
        "outputId": "163b7bb2-218f-4332-ee4e-0bebd043eda2",
        "colab": {
          "base_uri": "https://localhost:8080/"
        }
      },
      "execution_count": 1,
      "outputs": [
        {
          "output_type": "stream",
          "name": "stdout",
          "text": [
            "\u001b[?25l     \u001b[90m━━━━━━━━━━━━━━━━━━━━━━━━━━━━━━━━━━━━━━━━\u001b[0m \u001b[32m0.0/180.7 kB\u001b[0m \u001b[31m?\u001b[0m eta \u001b[36m-:--:--\u001b[0m\r\u001b[2K     \u001b[91m━━━━━━\u001b[0m\u001b[91m╸\u001b[0m\u001b[90m━━━━━━━━━━━━━━━━━━━━━━━━━━━━━━━━━\u001b[0m \u001b[32m30.7/180.7 kB\u001b[0m \u001b[31m744.7 kB/s\u001b[0m eta \u001b[36m0:00:01\u001b[0m\r\u001b[2K     \u001b[91m━━━━━━━━━━━━━━━\u001b[0m\u001b[91m╸\u001b[0m\u001b[90m━━━━━━━━━━━━━━━━━━━━━━━━\u001b[0m \u001b[32m71.7/180.7 kB\u001b[0m \u001b[31m923.0 kB/s\u001b[0m eta \u001b[36m0:00:01\u001b[0m\r\u001b[2K     \u001b[91m━━━━━━━━━━━━━━━━━━━━━━━━━━━━━━━━━━━━━━\u001b[0m\u001b[91m╸\u001b[0m\u001b[90m━\u001b[0m \u001b[32m174.1/180.7 kB\u001b[0m \u001b[31m1.7 MB/s\u001b[0m eta \u001b[36m0:00:01\u001b[0m\r\u001b[2K     \u001b[90m━━━━━━━━━━━━━━━━━━━━━━━━━━━━━━━━━━━━━━━━\u001b[0m \u001b[32m180.7/180.7 kB\u001b[0m \u001b[31m1.5 MB/s\u001b[0m eta \u001b[36m0:00:00\u001b[0m\n",
            "\u001b[?25h"
          ]
        }
      ]
    },
    {
      "cell_type": "code",
      "metadata": {
        "id": "04SFECct5mm0"
      },
      "source": [
        "import pandas as pd\n",
        "import numpy as np"
      ],
      "execution_count": 2,
      "outputs": []
    },
    {
      "cell_type": "code",
      "metadata": {
        "id": "-XiIq4vd5mm1",
        "colab": {
          "base_uri": "https://localhost:8080/"
        },
        "outputId": "5ec9da11-54c4-4413-e800-ae516b3745b2"
      },
      "source": [
        "# We load everything as an object/string, because some data types (e.g., some IDs)\n",
        "# are recognized as decimals, and it is a mess to restore them back\n",
        "# So we will do all the conversions ourselves later on\n",
        "\n",
        "# From https://data.cityofnewyork.us/Public-Safety/NYPD-Complaint-Data-Historic/qgea-i56i/data\n",
        "!curl 'https://data.cityofnewyork.us/api/views/qgea-i56i/rows.csv?accessType=DOWNLOAD' -o nypd.csv\n"
      ],
      "execution_count": 3,
      "outputs": [
        {
          "output_type": "stream",
          "name": "stdout",
          "text": [
            "  % Total    % Received % Xferd  Average Speed   Time    Time     Time  Current\n",
            "                                 Dload  Upload   Total   Spent    Left  Speed\n",
            "100 2891M    0 2891M    0     0  5508k      0 --:--:--  0:08:57 --:--:-- 5693k\n"
          ]
        }
      ]
    },
    {
      "cell_type": "code",
      "metadata": {
        "id": "tOdfVrSVw5fz",
        "colab": {
          "base_uri": "https://localhost:8080/"
        },
        "outputId": "01083bd0-a363-44ce-be08-1c1a52aac188"
      },
      "source": [
        "%%time\n",
        "df = pd.read_csv('nypd.csv', low_memory = True, dtype='object')"
      ],
      "execution_count": 23,
      "outputs": [
        {
          "output_type": "stream",
          "name": "stdout",
          "text": [
            "CPU times: user 1min, sys: 5.92 s, total: 1min 6s\n",
            "Wall time: 1min 6s\n"
          ]
        }
      ]
    },
    {
      "cell_type": "code",
      "metadata": {
        "id": "VNdvd4kY5mm1",
        "outputId": "8211c60e-4cf8-4d5d-9a28-9aafc898527f",
        "colab": {
          "base_uri": "https://localhost:8080/"
        }
      },
      "source": [
        "len(df)"
      ],
      "execution_count": 24,
      "outputs": [
        {
          "output_type": "execute_result",
          "data": {
            "text/plain": [
              "8914838"
            ]
          },
          "metadata": {},
          "execution_count": 24
        }
      ]
    },
    {
      "cell_type": "code",
      "source": [
        "df.query(\"KY_CD == '101'\")"
      ],
      "metadata": {
        "id": "69QkhBhJl178",
        "outputId": "1b4eec7f-9f54-4b61-8945-a12cc160b30a",
        "colab": {
          "base_uri": "https://localhost:8080/",
          "height": 877
        }
      },
      "execution_count": 25,
      "outputs": [
        {
          "output_type": "execute_result",
          "data": {
            "text/plain": [
              "             CMPLNT_NUM CMPLNT_FR_DT CMPLNT_FR_TM CMPLNT_TO_DT CMPLNT_TO_TM  \\\n",
              "0        25640826H10611   12/05/2006     10:38:00          NaN       (null)   \n",
              "1         16631501H8965   08/25/1973     12:15:00          NaN       (null)   \n",
              "2         11118212H8714   04/22/2006     16:50:00          NaN       (null)   \n",
              "3         23471265H9399   07/20/2006     22:37:00          NaN       (null)   \n",
              "4        24565927H10142   04/14/2006     02:37:00          NaN       (null)   \n",
              "...                 ...          ...          ...          ...          ...   \n",
              "8912596     270206142H1   06/21/2023     16:25:00          NaN       (null)   \n",
              "8913795     276327599H1   10/19/2023     12:02:00          NaN       (null)   \n",
              "8913847     278433670H2   12/03/2023     04:50:00          NaN       (null)   \n",
              "8914235     278433670H1   12/03/2023     04:50:00          NaN       (null)   \n",
              "8914519     267879648H1   05/06/2023     05:24:00          NaN       (null)   \n",
              "\n",
              "        ADDR_PCT_CD      RPT_DT KY_CD                        OFNS_DESC PD_CD  \\\n",
              "0               NaN  12/05/2006   101  MURDER & NON-NEGL. MANSLAUGHTER   NaN   \n",
              "1               NaN  05/29/2006   101  MURDER & NON-NEGL. MANSLAUGHTER   NaN   \n",
              "2               NaN  04/22/2006   101  MURDER & NON-NEGL. MANSLAUGHTER   NaN   \n",
              "3               NaN  07/20/2006   101  MURDER & NON-NEGL. MANSLAUGHTER   NaN   \n",
              "4               NaN  04/14/2006   101  MURDER & NON-NEGL. MANSLAUGHTER   NaN   \n",
              "...             ...         ...   ...                              ...   ...   \n",
              "8912596         NaN  06/21/2023   101  MURDER & NON-NEGL. MANSLAUGHTER   NaN   \n",
              "8913795         NaN  10/19/2023   101  MURDER & NON-NEGL. MANSLAUGHTER   NaN   \n",
              "8913847         101  12/03/2023   101  MURDER & NON-NEGL. MANSLAUGHTER   NaN   \n",
              "8914235         101  12/03/2023   101  MURDER & NON-NEGL. MANSLAUGHTER   NaN   \n",
              "8914519         105  05/06/2023   101  MURDER & NON-NEGL. MANSLAUGHTER   NaN   \n",
              "\n",
              "         ... SUSP_SEX TRANSIT_DISTRICT   Latitude   Longitude  \\\n",
              "0        ...   (null)              NaN        NaN         NaN   \n",
              "1        ...   (null)              NaN        NaN         NaN   \n",
              "2        ...   (null)              NaN        NaN         NaN   \n",
              "3        ...   (null)              NaN        NaN         NaN   \n",
              "4        ...   (null)              NaN        NaN         NaN   \n",
              "...      ...      ...              ...        ...         ...   \n",
              "8912596  ...        M              NaN        NaN         NaN   \n",
              "8913795  ...        M              NaN        NaN         NaN   \n",
              "8913847  ...        M              NaN  40.599583   -73.75619   \n",
              "8914235  ...        M              NaN  40.599583   -73.75619   \n",
              "8914519  ...        M              NaN  40.716735  -73.742308   \n",
              "\n",
              "                         Lat_Lon               PATROL_BORO STATION_NAME  \\\n",
              "0                            NaN  PATROL BORO QUEENS NORTH       (null)   \n",
              "1                            NaN     PATROL BORO MAN NORTH       (null)   \n",
              "2                            NaN   PATROL BORO BKLYN SOUTH       (null)   \n",
              "3                            NaN   PATROL BORO BKLYN SOUTH       (null)   \n",
              "4                            NaN   PATROL BORO BKLYN NORTH       (null)   \n",
              "...                          ...                       ...          ...   \n",
              "8912596                      NaN     PATROL BORO MAN SOUTH       (null)   \n",
              "8913795                      NaN  PATROL BORO QUEENS SOUTH       (null)   \n",
              "8913847   (40.599583, -73.75619)  PATROL BORO QUEENS SOUTH       (null)   \n",
              "8914235   (40.599583, -73.75619)  PATROL BORO QUEENS SOUTH       (null)   \n",
              "8914519  (40.716735, -73.742308)  PATROL BORO QUEENS SOUTH       (null)   \n",
              "\n",
              "        VIC_AGE_GROUP                  VIC_RACE VIC_SEX  \n",
              "0               25-44            WHITE HISPANIC       M  \n",
              "1               45-64                     BLACK       F  \n",
              "2               45-64                     BLACK       M  \n",
              "3               18-24                     BLACK       M  \n",
              "4               45-64                     BLACK       M  \n",
              "...               ...                       ...     ...  \n",
              "8912596         25-44                     BLACK       M  \n",
              "8913795           65+  ASIAN / PACIFIC ISLANDER       M  \n",
              "8913847           <18                     BLACK       M  \n",
              "8914235         25-44                     BLACK       F  \n",
              "8914519         25-44                     BLACK       M  \n",
              "\n",
              "[7593 rows x 35 columns]"
            ],
            "text/html": [
              "\n",
              "  <div id=\"df-7da6aa36-4358-46ba-b508-030cb4d20242\" class=\"colab-df-container\">\n",
              "    <div>\n",
              "<style scoped>\n",
              "    .dataframe tbody tr th:only-of-type {\n",
              "        vertical-align: middle;\n",
              "    }\n",
              "\n",
              "    .dataframe tbody tr th {\n",
              "        vertical-align: top;\n",
              "    }\n",
              "\n",
              "    .dataframe thead th {\n",
              "        text-align: right;\n",
              "    }\n",
              "</style>\n",
              "<table border=\"1\" class=\"dataframe\">\n",
              "  <thead>\n",
              "    <tr style=\"text-align: right;\">\n",
              "      <th></th>\n",
              "      <th>CMPLNT_NUM</th>\n",
              "      <th>CMPLNT_FR_DT</th>\n",
              "      <th>CMPLNT_FR_TM</th>\n",
              "      <th>CMPLNT_TO_DT</th>\n",
              "      <th>CMPLNT_TO_TM</th>\n",
              "      <th>ADDR_PCT_CD</th>\n",
              "      <th>RPT_DT</th>\n",
              "      <th>KY_CD</th>\n",
              "      <th>OFNS_DESC</th>\n",
              "      <th>PD_CD</th>\n",
              "      <th>...</th>\n",
              "      <th>SUSP_SEX</th>\n",
              "      <th>TRANSIT_DISTRICT</th>\n",
              "      <th>Latitude</th>\n",
              "      <th>Longitude</th>\n",
              "      <th>Lat_Lon</th>\n",
              "      <th>PATROL_BORO</th>\n",
              "      <th>STATION_NAME</th>\n",
              "      <th>VIC_AGE_GROUP</th>\n",
              "      <th>VIC_RACE</th>\n",
              "      <th>VIC_SEX</th>\n",
              "    </tr>\n",
              "  </thead>\n",
              "  <tbody>\n",
              "    <tr>\n",
              "      <th>0</th>\n",
              "      <td>25640826H10611</td>\n",
              "      <td>12/05/2006</td>\n",
              "      <td>10:38:00</td>\n",
              "      <td>NaN</td>\n",
              "      <td>(null)</td>\n",
              "      <td>NaN</td>\n",
              "      <td>12/05/2006</td>\n",
              "      <td>101</td>\n",
              "      <td>MURDER &amp; NON-NEGL. MANSLAUGHTER</td>\n",
              "      <td>NaN</td>\n",
              "      <td>...</td>\n",
              "      <td>(null)</td>\n",
              "      <td>NaN</td>\n",
              "      <td>NaN</td>\n",
              "      <td>NaN</td>\n",
              "      <td>NaN</td>\n",
              "      <td>PATROL BORO QUEENS NORTH</td>\n",
              "      <td>(null)</td>\n",
              "      <td>25-44</td>\n",
              "      <td>WHITE HISPANIC</td>\n",
              "      <td>M</td>\n",
              "    </tr>\n",
              "    <tr>\n",
              "      <th>1</th>\n",
              "      <td>16631501H8965</td>\n",
              "      <td>08/25/1973</td>\n",
              "      <td>12:15:00</td>\n",
              "      <td>NaN</td>\n",
              "      <td>(null)</td>\n",
              "      <td>NaN</td>\n",
              "      <td>05/29/2006</td>\n",
              "      <td>101</td>\n",
              "      <td>MURDER &amp; NON-NEGL. MANSLAUGHTER</td>\n",
              "      <td>NaN</td>\n",
              "      <td>...</td>\n",
              "      <td>(null)</td>\n",
              "      <td>NaN</td>\n",
              "      <td>NaN</td>\n",
              "      <td>NaN</td>\n",
              "      <td>NaN</td>\n",
              "      <td>PATROL BORO MAN NORTH</td>\n",
              "      <td>(null)</td>\n",
              "      <td>45-64</td>\n",
              "      <td>BLACK</td>\n",
              "      <td>F</td>\n",
              "    </tr>\n",
              "    <tr>\n",
              "      <th>2</th>\n",
              "      <td>11118212H8714</td>\n",
              "      <td>04/22/2006</td>\n",
              "      <td>16:50:00</td>\n",
              "      <td>NaN</td>\n",
              "      <td>(null)</td>\n",
              "      <td>NaN</td>\n",
              "      <td>04/22/2006</td>\n",
              "      <td>101</td>\n",
              "      <td>MURDER &amp; NON-NEGL. MANSLAUGHTER</td>\n",
              "      <td>NaN</td>\n",
              "      <td>...</td>\n",
              "      <td>(null)</td>\n",
              "      <td>NaN</td>\n",
              "      <td>NaN</td>\n",
              "      <td>NaN</td>\n",
              "      <td>NaN</td>\n",
              "      <td>PATROL BORO BKLYN SOUTH</td>\n",
              "      <td>(null)</td>\n",
              "      <td>45-64</td>\n",
              "      <td>BLACK</td>\n",
              "      <td>M</td>\n",
              "    </tr>\n",
              "    <tr>\n",
              "      <th>3</th>\n",
              "      <td>23471265H9399</td>\n",
              "      <td>07/20/2006</td>\n",
              "      <td>22:37:00</td>\n",
              "      <td>NaN</td>\n",
              "      <td>(null)</td>\n",
              "      <td>NaN</td>\n",
              "      <td>07/20/2006</td>\n",
              "      <td>101</td>\n",
              "      <td>MURDER &amp; NON-NEGL. MANSLAUGHTER</td>\n",
              "      <td>NaN</td>\n",
              "      <td>...</td>\n",
              "      <td>(null)</td>\n",
              "      <td>NaN</td>\n",
              "      <td>NaN</td>\n",
              "      <td>NaN</td>\n",
              "      <td>NaN</td>\n",
              "      <td>PATROL BORO BKLYN SOUTH</td>\n",
              "      <td>(null)</td>\n",
              "      <td>18-24</td>\n",
              "      <td>BLACK</td>\n",
              "      <td>M</td>\n",
              "    </tr>\n",
              "    <tr>\n",
              "      <th>4</th>\n",
              "      <td>24565927H10142</td>\n",
              "      <td>04/14/2006</td>\n",
              "      <td>02:37:00</td>\n",
              "      <td>NaN</td>\n",
              "      <td>(null)</td>\n",
              "      <td>NaN</td>\n",
              "      <td>04/14/2006</td>\n",
              "      <td>101</td>\n",
              "      <td>MURDER &amp; NON-NEGL. MANSLAUGHTER</td>\n",
              "      <td>NaN</td>\n",
              "      <td>...</td>\n",
              "      <td>(null)</td>\n",
              "      <td>NaN</td>\n",
              "      <td>NaN</td>\n",
              "      <td>NaN</td>\n",
              "      <td>NaN</td>\n",
              "      <td>PATROL BORO BKLYN NORTH</td>\n",
              "      <td>(null)</td>\n",
              "      <td>45-64</td>\n",
              "      <td>BLACK</td>\n",
              "      <td>M</td>\n",
              "    </tr>\n",
              "    <tr>\n",
              "      <th>...</th>\n",
              "      <td>...</td>\n",
              "      <td>...</td>\n",
              "      <td>...</td>\n",
              "      <td>...</td>\n",
              "      <td>...</td>\n",
              "      <td>...</td>\n",
              "      <td>...</td>\n",
              "      <td>...</td>\n",
              "      <td>...</td>\n",
              "      <td>...</td>\n",
              "      <td>...</td>\n",
              "      <td>...</td>\n",
              "      <td>...</td>\n",
              "      <td>...</td>\n",
              "      <td>...</td>\n",
              "      <td>...</td>\n",
              "      <td>...</td>\n",
              "      <td>...</td>\n",
              "      <td>...</td>\n",
              "      <td>...</td>\n",
              "      <td>...</td>\n",
              "    </tr>\n",
              "    <tr>\n",
              "      <th>8912596</th>\n",
              "      <td>270206142H1</td>\n",
              "      <td>06/21/2023</td>\n",
              "      <td>16:25:00</td>\n",
              "      <td>NaN</td>\n",
              "      <td>(null)</td>\n",
              "      <td>NaN</td>\n",
              "      <td>06/21/2023</td>\n",
              "      <td>101</td>\n",
              "      <td>MURDER &amp; NON-NEGL. MANSLAUGHTER</td>\n",
              "      <td>NaN</td>\n",
              "      <td>...</td>\n",
              "      <td>M</td>\n",
              "      <td>NaN</td>\n",
              "      <td>NaN</td>\n",
              "      <td>NaN</td>\n",
              "      <td>NaN</td>\n",
              "      <td>PATROL BORO MAN SOUTH</td>\n",
              "      <td>(null)</td>\n",
              "      <td>25-44</td>\n",
              "      <td>BLACK</td>\n",
              "      <td>M</td>\n",
              "    </tr>\n",
              "    <tr>\n",
              "      <th>8913795</th>\n",
              "      <td>276327599H1</td>\n",
              "      <td>10/19/2023</td>\n",
              "      <td>12:02:00</td>\n",
              "      <td>NaN</td>\n",
              "      <td>(null)</td>\n",
              "      <td>NaN</td>\n",
              "      <td>10/19/2023</td>\n",
              "      <td>101</td>\n",
              "      <td>MURDER &amp; NON-NEGL. MANSLAUGHTER</td>\n",
              "      <td>NaN</td>\n",
              "      <td>...</td>\n",
              "      <td>M</td>\n",
              "      <td>NaN</td>\n",
              "      <td>NaN</td>\n",
              "      <td>NaN</td>\n",
              "      <td>NaN</td>\n",
              "      <td>PATROL BORO QUEENS SOUTH</td>\n",
              "      <td>(null)</td>\n",
              "      <td>65+</td>\n",
              "      <td>ASIAN / PACIFIC ISLANDER</td>\n",
              "      <td>M</td>\n",
              "    </tr>\n",
              "    <tr>\n",
              "      <th>8913847</th>\n",
              "      <td>278433670H2</td>\n",
              "      <td>12/03/2023</td>\n",
              "      <td>04:50:00</td>\n",
              "      <td>NaN</td>\n",
              "      <td>(null)</td>\n",
              "      <td>101</td>\n",
              "      <td>12/03/2023</td>\n",
              "      <td>101</td>\n",
              "      <td>MURDER &amp; NON-NEGL. MANSLAUGHTER</td>\n",
              "      <td>NaN</td>\n",
              "      <td>...</td>\n",
              "      <td>M</td>\n",
              "      <td>NaN</td>\n",
              "      <td>40.599583</td>\n",
              "      <td>-73.75619</td>\n",
              "      <td>(40.599583, -73.75619)</td>\n",
              "      <td>PATROL BORO QUEENS SOUTH</td>\n",
              "      <td>(null)</td>\n",
              "      <td>&lt;18</td>\n",
              "      <td>BLACK</td>\n",
              "      <td>M</td>\n",
              "    </tr>\n",
              "    <tr>\n",
              "      <th>8914235</th>\n",
              "      <td>278433670H1</td>\n",
              "      <td>12/03/2023</td>\n",
              "      <td>04:50:00</td>\n",
              "      <td>NaN</td>\n",
              "      <td>(null)</td>\n",
              "      <td>101</td>\n",
              "      <td>12/03/2023</td>\n",
              "      <td>101</td>\n",
              "      <td>MURDER &amp; NON-NEGL. MANSLAUGHTER</td>\n",
              "      <td>NaN</td>\n",
              "      <td>...</td>\n",
              "      <td>M</td>\n",
              "      <td>NaN</td>\n",
              "      <td>40.599583</td>\n",
              "      <td>-73.75619</td>\n",
              "      <td>(40.599583, -73.75619)</td>\n",
              "      <td>PATROL BORO QUEENS SOUTH</td>\n",
              "      <td>(null)</td>\n",
              "      <td>25-44</td>\n",
              "      <td>BLACK</td>\n",
              "      <td>F</td>\n",
              "    </tr>\n",
              "    <tr>\n",
              "      <th>8914519</th>\n",
              "      <td>267879648H1</td>\n",
              "      <td>05/06/2023</td>\n",
              "      <td>05:24:00</td>\n",
              "      <td>NaN</td>\n",
              "      <td>(null)</td>\n",
              "      <td>105</td>\n",
              "      <td>05/06/2023</td>\n",
              "      <td>101</td>\n",
              "      <td>MURDER &amp; NON-NEGL. MANSLAUGHTER</td>\n",
              "      <td>NaN</td>\n",
              "      <td>...</td>\n",
              "      <td>M</td>\n",
              "      <td>NaN</td>\n",
              "      <td>40.716735</td>\n",
              "      <td>-73.742308</td>\n",
              "      <td>(40.716735, -73.742308)</td>\n",
              "      <td>PATROL BORO QUEENS SOUTH</td>\n",
              "      <td>(null)</td>\n",
              "      <td>25-44</td>\n",
              "      <td>BLACK</td>\n",
              "      <td>M</td>\n",
              "    </tr>\n",
              "  </tbody>\n",
              "</table>\n",
              "<p>7593 rows × 35 columns</p>\n",
              "</div>\n",
              "    <div class=\"colab-df-buttons\">\n",
              "\n",
              "  <div class=\"colab-df-container\">\n",
              "    <button class=\"colab-df-convert\" onclick=\"convertToInteractive('df-7da6aa36-4358-46ba-b508-030cb4d20242')\"\n",
              "            title=\"Convert this dataframe to an interactive table.\"\n",
              "            style=\"display:none;\">\n",
              "\n",
              "  <svg xmlns=\"http://www.w3.org/2000/svg\" height=\"24px\" viewBox=\"0 -960 960 960\">\n",
              "    <path d=\"M120-120v-720h720v720H120Zm60-500h600v-160H180v160Zm220 220h160v-160H400v160Zm0 220h160v-160H400v160ZM180-400h160v-160H180v160Zm440 0h160v-160H620v160ZM180-180h160v-160H180v160Zm440 0h160v-160H620v160Z\"/>\n",
              "  </svg>\n",
              "    </button>\n",
              "\n",
              "  <style>\n",
              "    .colab-df-container {\n",
              "      display:flex;\n",
              "      gap: 12px;\n",
              "    }\n",
              "\n",
              "    .colab-df-convert {\n",
              "      background-color: #E8F0FE;\n",
              "      border: none;\n",
              "      border-radius: 50%;\n",
              "      cursor: pointer;\n",
              "      display: none;\n",
              "      fill: #1967D2;\n",
              "      height: 32px;\n",
              "      padding: 0 0 0 0;\n",
              "      width: 32px;\n",
              "    }\n",
              "\n",
              "    .colab-df-convert:hover {\n",
              "      background-color: #E2EBFA;\n",
              "      box-shadow: 0px 1px 2px rgba(60, 64, 67, 0.3), 0px 1px 3px 1px rgba(60, 64, 67, 0.15);\n",
              "      fill: #174EA6;\n",
              "    }\n",
              "\n",
              "    .colab-df-buttons div {\n",
              "      margin-bottom: 4px;\n",
              "    }\n",
              "\n",
              "    [theme=dark] .colab-df-convert {\n",
              "      background-color: #3B4455;\n",
              "      fill: #D2E3FC;\n",
              "    }\n",
              "\n",
              "    [theme=dark] .colab-df-convert:hover {\n",
              "      background-color: #434B5C;\n",
              "      box-shadow: 0px 1px 3px 1px rgba(0, 0, 0, 0.15);\n",
              "      filter: drop-shadow(0px 1px 2px rgba(0, 0, 0, 0.3));\n",
              "      fill: #FFFFFF;\n",
              "    }\n",
              "  </style>\n",
              "\n",
              "    <script>\n",
              "      const buttonEl =\n",
              "        document.querySelector('#df-7da6aa36-4358-46ba-b508-030cb4d20242 button.colab-df-convert');\n",
              "      buttonEl.style.display =\n",
              "        google.colab.kernel.accessAllowed ? 'block' : 'none';\n",
              "\n",
              "      async function convertToInteractive(key) {\n",
              "        const element = document.querySelector('#df-7da6aa36-4358-46ba-b508-030cb4d20242');\n",
              "        const dataTable =\n",
              "          await google.colab.kernel.invokeFunction('convertToInteractive',\n",
              "                                                    [key], {});\n",
              "        if (!dataTable) return;\n",
              "\n",
              "        const docLinkHtml = 'Like what you see? Visit the ' +\n",
              "          '<a target=\"_blank\" href=https://colab.research.google.com/notebooks/data_table.ipynb>data table notebook</a>'\n",
              "          + ' to learn more about interactive tables.';\n",
              "        element.innerHTML = '';\n",
              "        dataTable['output_type'] = 'display_data';\n",
              "        await google.colab.output.renderOutput(dataTable, element);\n",
              "        const docLink = document.createElement('div');\n",
              "        docLink.innerHTML = docLinkHtml;\n",
              "        element.appendChild(docLink);\n",
              "      }\n",
              "    </script>\n",
              "  </div>\n",
              "\n",
              "\n",
              "<div id=\"df-34c8864b-315d-4038-b729-23d4991e347b\">\n",
              "  <button class=\"colab-df-quickchart\" onclick=\"quickchart('df-34c8864b-315d-4038-b729-23d4991e347b')\"\n",
              "            title=\"Suggest charts\"\n",
              "            style=\"display:none;\">\n",
              "\n",
              "<svg xmlns=\"http://www.w3.org/2000/svg\" height=\"24px\"viewBox=\"0 0 24 24\"\n",
              "     width=\"24px\">\n",
              "    <g>\n",
              "        <path d=\"M19 3H5c-1.1 0-2 .9-2 2v14c0 1.1.9 2 2 2h14c1.1 0 2-.9 2-2V5c0-1.1-.9-2-2-2zM9 17H7v-7h2v7zm4 0h-2V7h2v10zm4 0h-2v-4h2v4z\"/>\n",
              "    </g>\n",
              "</svg>\n",
              "  </button>\n",
              "\n",
              "<style>\n",
              "  .colab-df-quickchart {\n",
              "      --bg-color: #E8F0FE;\n",
              "      --fill-color: #1967D2;\n",
              "      --hover-bg-color: #E2EBFA;\n",
              "      --hover-fill-color: #174EA6;\n",
              "      --disabled-fill-color: #AAA;\n",
              "      --disabled-bg-color: #DDD;\n",
              "  }\n",
              "\n",
              "  [theme=dark] .colab-df-quickchart {\n",
              "      --bg-color: #3B4455;\n",
              "      --fill-color: #D2E3FC;\n",
              "      --hover-bg-color: #434B5C;\n",
              "      --hover-fill-color: #FFFFFF;\n",
              "      --disabled-bg-color: #3B4455;\n",
              "      --disabled-fill-color: #666;\n",
              "  }\n",
              "\n",
              "  .colab-df-quickchart {\n",
              "    background-color: var(--bg-color);\n",
              "    border: none;\n",
              "    border-radius: 50%;\n",
              "    cursor: pointer;\n",
              "    display: none;\n",
              "    fill: var(--fill-color);\n",
              "    height: 32px;\n",
              "    padding: 0;\n",
              "    width: 32px;\n",
              "  }\n",
              "\n",
              "  .colab-df-quickchart:hover {\n",
              "    background-color: var(--hover-bg-color);\n",
              "    box-shadow: 0 1px 2px rgba(60, 64, 67, 0.3), 0 1px 3px 1px rgba(60, 64, 67, 0.15);\n",
              "    fill: var(--button-hover-fill-color);\n",
              "  }\n",
              "\n",
              "  .colab-df-quickchart-complete:disabled,\n",
              "  .colab-df-quickchart-complete:disabled:hover {\n",
              "    background-color: var(--disabled-bg-color);\n",
              "    fill: var(--disabled-fill-color);\n",
              "    box-shadow: none;\n",
              "  }\n",
              "\n",
              "  .colab-df-spinner {\n",
              "    border: 2px solid var(--fill-color);\n",
              "    border-color: transparent;\n",
              "    border-bottom-color: var(--fill-color);\n",
              "    animation:\n",
              "      spin 1s steps(1) infinite;\n",
              "  }\n",
              "\n",
              "  @keyframes spin {\n",
              "    0% {\n",
              "      border-color: transparent;\n",
              "      border-bottom-color: var(--fill-color);\n",
              "      border-left-color: var(--fill-color);\n",
              "    }\n",
              "    20% {\n",
              "      border-color: transparent;\n",
              "      border-left-color: var(--fill-color);\n",
              "      border-top-color: var(--fill-color);\n",
              "    }\n",
              "    30% {\n",
              "      border-color: transparent;\n",
              "      border-left-color: var(--fill-color);\n",
              "      border-top-color: var(--fill-color);\n",
              "      border-right-color: var(--fill-color);\n",
              "    }\n",
              "    40% {\n",
              "      border-color: transparent;\n",
              "      border-right-color: var(--fill-color);\n",
              "      border-top-color: var(--fill-color);\n",
              "    }\n",
              "    60% {\n",
              "      border-color: transparent;\n",
              "      border-right-color: var(--fill-color);\n",
              "    }\n",
              "    80% {\n",
              "      border-color: transparent;\n",
              "      border-right-color: var(--fill-color);\n",
              "      border-bottom-color: var(--fill-color);\n",
              "    }\n",
              "    90% {\n",
              "      border-color: transparent;\n",
              "      border-bottom-color: var(--fill-color);\n",
              "    }\n",
              "  }\n",
              "</style>\n",
              "\n",
              "  <script>\n",
              "    async function quickchart(key) {\n",
              "      const quickchartButtonEl =\n",
              "        document.querySelector('#' + key + ' button');\n",
              "      quickchartButtonEl.disabled = true;  // To prevent multiple clicks.\n",
              "      quickchartButtonEl.classList.add('colab-df-spinner');\n",
              "      try {\n",
              "        const charts = await google.colab.kernel.invokeFunction(\n",
              "            'suggestCharts', [key], {});\n",
              "      } catch (error) {\n",
              "        console.error('Error during call to suggestCharts:', error);\n",
              "      }\n",
              "      quickchartButtonEl.classList.remove('colab-df-spinner');\n",
              "      quickchartButtonEl.classList.add('colab-df-quickchart-complete');\n",
              "    }\n",
              "    (() => {\n",
              "      let quickchartButtonEl =\n",
              "        document.querySelector('#df-34c8864b-315d-4038-b729-23d4991e347b button');\n",
              "      quickchartButtonEl.style.display =\n",
              "        google.colab.kernel.accessAllowed ? 'block' : 'none';\n",
              "    })();\n",
              "  </script>\n",
              "</div>\n",
              "\n",
              "    </div>\n",
              "  </div>\n"
            ],
            "application/vnd.google.colaboratory.intrinsic+json": {
              "type": "dataframe"
            }
          },
          "metadata": {},
          "execution_count": 25
        }
      ]
    },
    {
      "cell_type": "code",
      "source": [
        "df.replace(to_replace = '(null)', value=np.nan, inplace = True)"
      ],
      "metadata": {
        "id": "8FQ9XtgLl2AD"
      },
      "execution_count": 26,
      "outputs": []
    },
    {
      "cell_type": "code",
      "metadata": {
        "id": "RmxhWjIz5mm2",
        "colab": {
          "base_uri": "https://localhost:8080/"
        },
        "outputId": "95e5c930-6d6b-444d-cc4c-b523a0b1e7a6"
      },
      "source": [
        "len(df)"
      ],
      "execution_count": 27,
      "outputs": [
        {
          "output_type": "execute_result",
          "data": {
            "text/plain": [
              "8914838"
            ]
          },
          "metadata": {},
          "execution_count": 27
        }
      ]
    },
    {
      "cell_type": "code",
      "source": [
        "df.query(\"KY_CD == '101'\")"
      ],
      "metadata": {
        "id": "f7NXqSiQm_Fb",
        "outputId": "3a6f0a4f-2e37-463d-8fa0-ef8f67e99185",
        "colab": {
          "base_uri": "https://localhost:8080/",
          "height": 877
        }
      },
      "execution_count": 28,
      "outputs": [
        {
          "output_type": "execute_result",
          "data": {
            "text/plain": [
              "             CMPLNT_NUM CMPLNT_FR_DT CMPLNT_FR_TM CMPLNT_TO_DT CMPLNT_TO_TM  \\\n",
              "0        25640826H10611   12/05/2006     10:38:00          NaN          NaN   \n",
              "1         16631501H8965   08/25/1973     12:15:00          NaN          NaN   \n",
              "2         11118212H8714   04/22/2006     16:50:00          NaN          NaN   \n",
              "3         23471265H9399   07/20/2006     22:37:00          NaN          NaN   \n",
              "4        24565927H10142   04/14/2006     02:37:00          NaN          NaN   \n",
              "...                 ...          ...          ...          ...          ...   \n",
              "8912596     270206142H1   06/21/2023     16:25:00          NaN          NaN   \n",
              "8913795     276327599H1   10/19/2023     12:02:00          NaN          NaN   \n",
              "8913847     278433670H2   12/03/2023     04:50:00          NaN          NaN   \n",
              "8914235     278433670H1   12/03/2023     04:50:00          NaN          NaN   \n",
              "8914519     267879648H1   05/06/2023     05:24:00          NaN          NaN   \n",
              "\n",
              "        ADDR_PCT_CD      RPT_DT KY_CD                        OFNS_DESC PD_CD  \\\n",
              "0               NaN  12/05/2006   101  MURDER & NON-NEGL. MANSLAUGHTER   NaN   \n",
              "1               NaN  05/29/2006   101  MURDER & NON-NEGL. MANSLAUGHTER   NaN   \n",
              "2               NaN  04/22/2006   101  MURDER & NON-NEGL. MANSLAUGHTER   NaN   \n",
              "3               NaN  07/20/2006   101  MURDER & NON-NEGL. MANSLAUGHTER   NaN   \n",
              "4               NaN  04/14/2006   101  MURDER & NON-NEGL. MANSLAUGHTER   NaN   \n",
              "...             ...         ...   ...                              ...   ...   \n",
              "8912596         NaN  06/21/2023   101  MURDER & NON-NEGL. MANSLAUGHTER   NaN   \n",
              "8913795         NaN  10/19/2023   101  MURDER & NON-NEGL. MANSLAUGHTER   NaN   \n",
              "8913847         101  12/03/2023   101  MURDER & NON-NEGL. MANSLAUGHTER   NaN   \n",
              "8914235         101  12/03/2023   101  MURDER & NON-NEGL. MANSLAUGHTER   NaN   \n",
              "8914519         105  05/06/2023   101  MURDER & NON-NEGL. MANSLAUGHTER   NaN   \n",
              "\n",
              "         ... SUSP_SEX TRANSIT_DISTRICT   Latitude   Longitude  \\\n",
              "0        ...      NaN              NaN        NaN         NaN   \n",
              "1        ...      NaN              NaN        NaN         NaN   \n",
              "2        ...      NaN              NaN        NaN         NaN   \n",
              "3        ...      NaN              NaN        NaN         NaN   \n",
              "4        ...      NaN              NaN        NaN         NaN   \n",
              "...      ...      ...              ...        ...         ...   \n",
              "8912596  ...        M              NaN        NaN         NaN   \n",
              "8913795  ...        M              NaN        NaN         NaN   \n",
              "8913847  ...        M              NaN  40.599583   -73.75619   \n",
              "8914235  ...        M              NaN  40.599583   -73.75619   \n",
              "8914519  ...        M              NaN  40.716735  -73.742308   \n",
              "\n",
              "                         Lat_Lon               PATROL_BORO STATION_NAME  \\\n",
              "0                            NaN  PATROL BORO QUEENS NORTH          NaN   \n",
              "1                            NaN     PATROL BORO MAN NORTH          NaN   \n",
              "2                            NaN   PATROL BORO BKLYN SOUTH          NaN   \n",
              "3                            NaN   PATROL BORO BKLYN SOUTH          NaN   \n",
              "4                            NaN   PATROL BORO BKLYN NORTH          NaN   \n",
              "...                          ...                       ...          ...   \n",
              "8912596                      NaN     PATROL BORO MAN SOUTH          NaN   \n",
              "8913795                      NaN  PATROL BORO QUEENS SOUTH          NaN   \n",
              "8913847   (40.599583, -73.75619)  PATROL BORO QUEENS SOUTH          NaN   \n",
              "8914235   (40.599583, -73.75619)  PATROL BORO QUEENS SOUTH          NaN   \n",
              "8914519  (40.716735, -73.742308)  PATROL BORO QUEENS SOUTH          NaN   \n",
              "\n",
              "        VIC_AGE_GROUP                  VIC_RACE VIC_SEX  \n",
              "0               25-44            WHITE HISPANIC       M  \n",
              "1               45-64                     BLACK       F  \n",
              "2               45-64                     BLACK       M  \n",
              "3               18-24                     BLACK       M  \n",
              "4               45-64                     BLACK       M  \n",
              "...               ...                       ...     ...  \n",
              "8912596         25-44                     BLACK       M  \n",
              "8913795           65+  ASIAN / PACIFIC ISLANDER       M  \n",
              "8913847           <18                     BLACK       M  \n",
              "8914235         25-44                     BLACK       F  \n",
              "8914519         25-44                     BLACK       M  \n",
              "\n",
              "[7593 rows x 35 columns]"
            ],
            "text/html": [
              "\n",
              "  <div id=\"df-3dab8c90-bd07-4558-a7ff-3656e385619c\" class=\"colab-df-container\">\n",
              "    <div>\n",
              "<style scoped>\n",
              "    .dataframe tbody tr th:only-of-type {\n",
              "        vertical-align: middle;\n",
              "    }\n",
              "\n",
              "    .dataframe tbody tr th {\n",
              "        vertical-align: top;\n",
              "    }\n",
              "\n",
              "    .dataframe thead th {\n",
              "        text-align: right;\n",
              "    }\n",
              "</style>\n",
              "<table border=\"1\" class=\"dataframe\">\n",
              "  <thead>\n",
              "    <tr style=\"text-align: right;\">\n",
              "      <th></th>\n",
              "      <th>CMPLNT_NUM</th>\n",
              "      <th>CMPLNT_FR_DT</th>\n",
              "      <th>CMPLNT_FR_TM</th>\n",
              "      <th>CMPLNT_TO_DT</th>\n",
              "      <th>CMPLNT_TO_TM</th>\n",
              "      <th>ADDR_PCT_CD</th>\n",
              "      <th>RPT_DT</th>\n",
              "      <th>KY_CD</th>\n",
              "      <th>OFNS_DESC</th>\n",
              "      <th>PD_CD</th>\n",
              "      <th>...</th>\n",
              "      <th>SUSP_SEX</th>\n",
              "      <th>TRANSIT_DISTRICT</th>\n",
              "      <th>Latitude</th>\n",
              "      <th>Longitude</th>\n",
              "      <th>Lat_Lon</th>\n",
              "      <th>PATROL_BORO</th>\n",
              "      <th>STATION_NAME</th>\n",
              "      <th>VIC_AGE_GROUP</th>\n",
              "      <th>VIC_RACE</th>\n",
              "      <th>VIC_SEX</th>\n",
              "    </tr>\n",
              "  </thead>\n",
              "  <tbody>\n",
              "    <tr>\n",
              "      <th>0</th>\n",
              "      <td>25640826H10611</td>\n",
              "      <td>12/05/2006</td>\n",
              "      <td>10:38:00</td>\n",
              "      <td>NaN</td>\n",
              "      <td>NaN</td>\n",
              "      <td>NaN</td>\n",
              "      <td>12/05/2006</td>\n",
              "      <td>101</td>\n",
              "      <td>MURDER &amp; NON-NEGL. MANSLAUGHTER</td>\n",
              "      <td>NaN</td>\n",
              "      <td>...</td>\n",
              "      <td>NaN</td>\n",
              "      <td>NaN</td>\n",
              "      <td>NaN</td>\n",
              "      <td>NaN</td>\n",
              "      <td>NaN</td>\n",
              "      <td>PATROL BORO QUEENS NORTH</td>\n",
              "      <td>NaN</td>\n",
              "      <td>25-44</td>\n",
              "      <td>WHITE HISPANIC</td>\n",
              "      <td>M</td>\n",
              "    </tr>\n",
              "    <tr>\n",
              "      <th>1</th>\n",
              "      <td>16631501H8965</td>\n",
              "      <td>08/25/1973</td>\n",
              "      <td>12:15:00</td>\n",
              "      <td>NaN</td>\n",
              "      <td>NaN</td>\n",
              "      <td>NaN</td>\n",
              "      <td>05/29/2006</td>\n",
              "      <td>101</td>\n",
              "      <td>MURDER &amp; NON-NEGL. MANSLAUGHTER</td>\n",
              "      <td>NaN</td>\n",
              "      <td>...</td>\n",
              "      <td>NaN</td>\n",
              "      <td>NaN</td>\n",
              "      <td>NaN</td>\n",
              "      <td>NaN</td>\n",
              "      <td>NaN</td>\n",
              "      <td>PATROL BORO MAN NORTH</td>\n",
              "      <td>NaN</td>\n",
              "      <td>45-64</td>\n",
              "      <td>BLACK</td>\n",
              "      <td>F</td>\n",
              "    </tr>\n",
              "    <tr>\n",
              "      <th>2</th>\n",
              "      <td>11118212H8714</td>\n",
              "      <td>04/22/2006</td>\n",
              "      <td>16:50:00</td>\n",
              "      <td>NaN</td>\n",
              "      <td>NaN</td>\n",
              "      <td>NaN</td>\n",
              "      <td>04/22/2006</td>\n",
              "      <td>101</td>\n",
              "      <td>MURDER &amp; NON-NEGL. MANSLAUGHTER</td>\n",
              "      <td>NaN</td>\n",
              "      <td>...</td>\n",
              "      <td>NaN</td>\n",
              "      <td>NaN</td>\n",
              "      <td>NaN</td>\n",
              "      <td>NaN</td>\n",
              "      <td>NaN</td>\n",
              "      <td>PATROL BORO BKLYN SOUTH</td>\n",
              "      <td>NaN</td>\n",
              "      <td>45-64</td>\n",
              "      <td>BLACK</td>\n",
              "      <td>M</td>\n",
              "    </tr>\n",
              "    <tr>\n",
              "      <th>3</th>\n",
              "      <td>23471265H9399</td>\n",
              "      <td>07/20/2006</td>\n",
              "      <td>22:37:00</td>\n",
              "      <td>NaN</td>\n",
              "      <td>NaN</td>\n",
              "      <td>NaN</td>\n",
              "      <td>07/20/2006</td>\n",
              "      <td>101</td>\n",
              "      <td>MURDER &amp; NON-NEGL. MANSLAUGHTER</td>\n",
              "      <td>NaN</td>\n",
              "      <td>...</td>\n",
              "      <td>NaN</td>\n",
              "      <td>NaN</td>\n",
              "      <td>NaN</td>\n",
              "      <td>NaN</td>\n",
              "      <td>NaN</td>\n",
              "      <td>PATROL BORO BKLYN SOUTH</td>\n",
              "      <td>NaN</td>\n",
              "      <td>18-24</td>\n",
              "      <td>BLACK</td>\n",
              "      <td>M</td>\n",
              "    </tr>\n",
              "    <tr>\n",
              "      <th>4</th>\n",
              "      <td>24565927H10142</td>\n",
              "      <td>04/14/2006</td>\n",
              "      <td>02:37:00</td>\n",
              "      <td>NaN</td>\n",
              "      <td>NaN</td>\n",
              "      <td>NaN</td>\n",
              "      <td>04/14/2006</td>\n",
              "      <td>101</td>\n",
              "      <td>MURDER &amp; NON-NEGL. MANSLAUGHTER</td>\n",
              "      <td>NaN</td>\n",
              "      <td>...</td>\n",
              "      <td>NaN</td>\n",
              "      <td>NaN</td>\n",
              "      <td>NaN</td>\n",
              "      <td>NaN</td>\n",
              "      <td>NaN</td>\n",
              "      <td>PATROL BORO BKLYN NORTH</td>\n",
              "      <td>NaN</td>\n",
              "      <td>45-64</td>\n",
              "      <td>BLACK</td>\n",
              "      <td>M</td>\n",
              "    </tr>\n",
              "    <tr>\n",
              "      <th>...</th>\n",
              "      <td>...</td>\n",
              "      <td>...</td>\n",
              "      <td>...</td>\n",
              "      <td>...</td>\n",
              "      <td>...</td>\n",
              "      <td>...</td>\n",
              "      <td>...</td>\n",
              "      <td>...</td>\n",
              "      <td>...</td>\n",
              "      <td>...</td>\n",
              "      <td>...</td>\n",
              "      <td>...</td>\n",
              "      <td>...</td>\n",
              "      <td>...</td>\n",
              "      <td>...</td>\n",
              "      <td>...</td>\n",
              "      <td>...</td>\n",
              "      <td>...</td>\n",
              "      <td>...</td>\n",
              "      <td>...</td>\n",
              "      <td>...</td>\n",
              "    </tr>\n",
              "    <tr>\n",
              "      <th>8912596</th>\n",
              "      <td>270206142H1</td>\n",
              "      <td>06/21/2023</td>\n",
              "      <td>16:25:00</td>\n",
              "      <td>NaN</td>\n",
              "      <td>NaN</td>\n",
              "      <td>NaN</td>\n",
              "      <td>06/21/2023</td>\n",
              "      <td>101</td>\n",
              "      <td>MURDER &amp; NON-NEGL. MANSLAUGHTER</td>\n",
              "      <td>NaN</td>\n",
              "      <td>...</td>\n",
              "      <td>M</td>\n",
              "      <td>NaN</td>\n",
              "      <td>NaN</td>\n",
              "      <td>NaN</td>\n",
              "      <td>NaN</td>\n",
              "      <td>PATROL BORO MAN SOUTH</td>\n",
              "      <td>NaN</td>\n",
              "      <td>25-44</td>\n",
              "      <td>BLACK</td>\n",
              "      <td>M</td>\n",
              "    </tr>\n",
              "    <tr>\n",
              "      <th>8913795</th>\n",
              "      <td>276327599H1</td>\n",
              "      <td>10/19/2023</td>\n",
              "      <td>12:02:00</td>\n",
              "      <td>NaN</td>\n",
              "      <td>NaN</td>\n",
              "      <td>NaN</td>\n",
              "      <td>10/19/2023</td>\n",
              "      <td>101</td>\n",
              "      <td>MURDER &amp; NON-NEGL. MANSLAUGHTER</td>\n",
              "      <td>NaN</td>\n",
              "      <td>...</td>\n",
              "      <td>M</td>\n",
              "      <td>NaN</td>\n",
              "      <td>NaN</td>\n",
              "      <td>NaN</td>\n",
              "      <td>NaN</td>\n",
              "      <td>PATROL BORO QUEENS SOUTH</td>\n",
              "      <td>NaN</td>\n",
              "      <td>65+</td>\n",
              "      <td>ASIAN / PACIFIC ISLANDER</td>\n",
              "      <td>M</td>\n",
              "    </tr>\n",
              "    <tr>\n",
              "      <th>8913847</th>\n",
              "      <td>278433670H2</td>\n",
              "      <td>12/03/2023</td>\n",
              "      <td>04:50:00</td>\n",
              "      <td>NaN</td>\n",
              "      <td>NaN</td>\n",
              "      <td>101</td>\n",
              "      <td>12/03/2023</td>\n",
              "      <td>101</td>\n",
              "      <td>MURDER &amp; NON-NEGL. MANSLAUGHTER</td>\n",
              "      <td>NaN</td>\n",
              "      <td>...</td>\n",
              "      <td>M</td>\n",
              "      <td>NaN</td>\n",
              "      <td>40.599583</td>\n",
              "      <td>-73.75619</td>\n",
              "      <td>(40.599583, -73.75619)</td>\n",
              "      <td>PATROL BORO QUEENS SOUTH</td>\n",
              "      <td>NaN</td>\n",
              "      <td>&lt;18</td>\n",
              "      <td>BLACK</td>\n",
              "      <td>M</td>\n",
              "    </tr>\n",
              "    <tr>\n",
              "      <th>8914235</th>\n",
              "      <td>278433670H1</td>\n",
              "      <td>12/03/2023</td>\n",
              "      <td>04:50:00</td>\n",
              "      <td>NaN</td>\n",
              "      <td>NaN</td>\n",
              "      <td>101</td>\n",
              "      <td>12/03/2023</td>\n",
              "      <td>101</td>\n",
              "      <td>MURDER &amp; NON-NEGL. MANSLAUGHTER</td>\n",
              "      <td>NaN</td>\n",
              "      <td>...</td>\n",
              "      <td>M</td>\n",
              "      <td>NaN</td>\n",
              "      <td>40.599583</td>\n",
              "      <td>-73.75619</td>\n",
              "      <td>(40.599583, -73.75619)</td>\n",
              "      <td>PATROL BORO QUEENS SOUTH</td>\n",
              "      <td>NaN</td>\n",
              "      <td>25-44</td>\n",
              "      <td>BLACK</td>\n",
              "      <td>F</td>\n",
              "    </tr>\n",
              "    <tr>\n",
              "      <th>8914519</th>\n",
              "      <td>267879648H1</td>\n",
              "      <td>05/06/2023</td>\n",
              "      <td>05:24:00</td>\n",
              "      <td>NaN</td>\n",
              "      <td>NaN</td>\n",
              "      <td>105</td>\n",
              "      <td>05/06/2023</td>\n",
              "      <td>101</td>\n",
              "      <td>MURDER &amp; NON-NEGL. MANSLAUGHTER</td>\n",
              "      <td>NaN</td>\n",
              "      <td>...</td>\n",
              "      <td>M</td>\n",
              "      <td>NaN</td>\n",
              "      <td>40.716735</td>\n",
              "      <td>-73.742308</td>\n",
              "      <td>(40.716735, -73.742308)</td>\n",
              "      <td>PATROL BORO QUEENS SOUTH</td>\n",
              "      <td>NaN</td>\n",
              "      <td>25-44</td>\n",
              "      <td>BLACK</td>\n",
              "      <td>M</td>\n",
              "    </tr>\n",
              "  </tbody>\n",
              "</table>\n",
              "<p>7593 rows × 35 columns</p>\n",
              "</div>\n",
              "    <div class=\"colab-df-buttons\">\n",
              "\n",
              "  <div class=\"colab-df-container\">\n",
              "    <button class=\"colab-df-convert\" onclick=\"convertToInteractive('df-3dab8c90-bd07-4558-a7ff-3656e385619c')\"\n",
              "            title=\"Convert this dataframe to an interactive table.\"\n",
              "            style=\"display:none;\">\n",
              "\n",
              "  <svg xmlns=\"http://www.w3.org/2000/svg\" height=\"24px\" viewBox=\"0 -960 960 960\">\n",
              "    <path d=\"M120-120v-720h720v720H120Zm60-500h600v-160H180v160Zm220 220h160v-160H400v160Zm0 220h160v-160H400v160ZM180-400h160v-160H180v160Zm440 0h160v-160H620v160ZM180-180h160v-160H180v160Zm440 0h160v-160H620v160Z\"/>\n",
              "  </svg>\n",
              "    </button>\n",
              "\n",
              "  <style>\n",
              "    .colab-df-container {\n",
              "      display:flex;\n",
              "      gap: 12px;\n",
              "    }\n",
              "\n",
              "    .colab-df-convert {\n",
              "      background-color: #E8F0FE;\n",
              "      border: none;\n",
              "      border-radius: 50%;\n",
              "      cursor: pointer;\n",
              "      display: none;\n",
              "      fill: #1967D2;\n",
              "      height: 32px;\n",
              "      padding: 0 0 0 0;\n",
              "      width: 32px;\n",
              "    }\n",
              "\n",
              "    .colab-df-convert:hover {\n",
              "      background-color: #E2EBFA;\n",
              "      box-shadow: 0px 1px 2px rgba(60, 64, 67, 0.3), 0px 1px 3px 1px rgba(60, 64, 67, 0.15);\n",
              "      fill: #174EA6;\n",
              "    }\n",
              "\n",
              "    .colab-df-buttons div {\n",
              "      margin-bottom: 4px;\n",
              "    }\n",
              "\n",
              "    [theme=dark] .colab-df-convert {\n",
              "      background-color: #3B4455;\n",
              "      fill: #D2E3FC;\n",
              "    }\n",
              "\n",
              "    [theme=dark] .colab-df-convert:hover {\n",
              "      background-color: #434B5C;\n",
              "      box-shadow: 0px 1px 3px 1px rgba(0, 0, 0, 0.15);\n",
              "      filter: drop-shadow(0px 1px 2px rgba(0, 0, 0, 0.3));\n",
              "      fill: #FFFFFF;\n",
              "    }\n",
              "  </style>\n",
              "\n",
              "    <script>\n",
              "      const buttonEl =\n",
              "        document.querySelector('#df-3dab8c90-bd07-4558-a7ff-3656e385619c button.colab-df-convert');\n",
              "      buttonEl.style.display =\n",
              "        google.colab.kernel.accessAllowed ? 'block' : 'none';\n",
              "\n",
              "      async function convertToInteractive(key) {\n",
              "        const element = document.querySelector('#df-3dab8c90-bd07-4558-a7ff-3656e385619c');\n",
              "        const dataTable =\n",
              "          await google.colab.kernel.invokeFunction('convertToInteractive',\n",
              "                                                    [key], {});\n",
              "        if (!dataTable) return;\n",
              "\n",
              "        const docLinkHtml = 'Like what you see? Visit the ' +\n",
              "          '<a target=\"_blank\" href=https://colab.research.google.com/notebooks/data_table.ipynb>data table notebook</a>'\n",
              "          + ' to learn more about interactive tables.';\n",
              "        element.innerHTML = '';\n",
              "        dataTable['output_type'] = 'display_data';\n",
              "        await google.colab.output.renderOutput(dataTable, element);\n",
              "        const docLink = document.createElement('div');\n",
              "        docLink.innerHTML = docLinkHtml;\n",
              "        element.appendChild(docLink);\n",
              "      }\n",
              "    </script>\n",
              "  </div>\n",
              "\n",
              "\n",
              "<div id=\"df-1cb866c6-6656-433b-a208-85fd05822941\">\n",
              "  <button class=\"colab-df-quickchart\" onclick=\"quickchart('df-1cb866c6-6656-433b-a208-85fd05822941')\"\n",
              "            title=\"Suggest charts\"\n",
              "            style=\"display:none;\">\n",
              "\n",
              "<svg xmlns=\"http://www.w3.org/2000/svg\" height=\"24px\"viewBox=\"0 0 24 24\"\n",
              "     width=\"24px\">\n",
              "    <g>\n",
              "        <path d=\"M19 3H5c-1.1 0-2 .9-2 2v14c0 1.1.9 2 2 2h14c1.1 0 2-.9 2-2V5c0-1.1-.9-2-2-2zM9 17H7v-7h2v7zm4 0h-2V7h2v10zm4 0h-2v-4h2v4z\"/>\n",
              "    </g>\n",
              "</svg>\n",
              "  </button>\n",
              "\n",
              "<style>\n",
              "  .colab-df-quickchart {\n",
              "      --bg-color: #E8F0FE;\n",
              "      --fill-color: #1967D2;\n",
              "      --hover-bg-color: #E2EBFA;\n",
              "      --hover-fill-color: #174EA6;\n",
              "      --disabled-fill-color: #AAA;\n",
              "      --disabled-bg-color: #DDD;\n",
              "  }\n",
              "\n",
              "  [theme=dark] .colab-df-quickchart {\n",
              "      --bg-color: #3B4455;\n",
              "      --fill-color: #D2E3FC;\n",
              "      --hover-bg-color: #434B5C;\n",
              "      --hover-fill-color: #FFFFFF;\n",
              "      --disabled-bg-color: #3B4455;\n",
              "      --disabled-fill-color: #666;\n",
              "  }\n",
              "\n",
              "  .colab-df-quickchart {\n",
              "    background-color: var(--bg-color);\n",
              "    border: none;\n",
              "    border-radius: 50%;\n",
              "    cursor: pointer;\n",
              "    display: none;\n",
              "    fill: var(--fill-color);\n",
              "    height: 32px;\n",
              "    padding: 0;\n",
              "    width: 32px;\n",
              "  }\n",
              "\n",
              "  .colab-df-quickchart:hover {\n",
              "    background-color: var(--hover-bg-color);\n",
              "    box-shadow: 0 1px 2px rgba(60, 64, 67, 0.3), 0 1px 3px 1px rgba(60, 64, 67, 0.15);\n",
              "    fill: var(--button-hover-fill-color);\n",
              "  }\n",
              "\n",
              "  .colab-df-quickchart-complete:disabled,\n",
              "  .colab-df-quickchart-complete:disabled:hover {\n",
              "    background-color: var(--disabled-bg-color);\n",
              "    fill: var(--disabled-fill-color);\n",
              "    box-shadow: none;\n",
              "  }\n",
              "\n",
              "  .colab-df-spinner {\n",
              "    border: 2px solid var(--fill-color);\n",
              "    border-color: transparent;\n",
              "    border-bottom-color: var(--fill-color);\n",
              "    animation:\n",
              "      spin 1s steps(1) infinite;\n",
              "  }\n",
              "\n",
              "  @keyframes spin {\n",
              "    0% {\n",
              "      border-color: transparent;\n",
              "      border-bottom-color: var(--fill-color);\n",
              "      border-left-color: var(--fill-color);\n",
              "    }\n",
              "    20% {\n",
              "      border-color: transparent;\n",
              "      border-left-color: var(--fill-color);\n",
              "      border-top-color: var(--fill-color);\n",
              "    }\n",
              "    30% {\n",
              "      border-color: transparent;\n",
              "      border-left-color: var(--fill-color);\n",
              "      border-top-color: var(--fill-color);\n",
              "      border-right-color: var(--fill-color);\n",
              "    }\n",
              "    40% {\n",
              "      border-color: transparent;\n",
              "      border-right-color: var(--fill-color);\n",
              "      border-top-color: var(--fill-color);\n",
              "    }\n",
              "    60% {\n",
              "      border-color: transparent;\n",
              "      border-right-color: var(--fill-color);\n",
              "    }\n",
              "    80% {\n",
              "      border-color: transparent;\n",
              "      border-right-color: var(--fill-color);\n",
              "      border-bottom-color: var(--fill-color);\n",
              "    }\n",
              "    90% {\n",
              "      border-color: transparent;\n",
              "      border-bottom-color: var(--fill-color);\n",
              "    }\n",
              "  }\n",
              "</style>\n",
              "\n",
              "  <script>\n",
              "    async function quickchart(key) {\n",
              "      const quickchartButtonEl =\n",
              "        document.querySelector('#' + key + ' button');\n",
              "      quickchartButtonEl.disabled = true;  // To prevent multiple clicks.\n",
              "      quickchartButtonEl.classList.add('colab-df-spinner');\n",
              "      try {\n",
              "        const charts = await google.colab.kernel.invokeFunction(\n",
              "            'suggestCharts', [key], {});\n",
              "      } catch (error) {\n",
              "        console.error('Error during call to suggestCharts:', error);\n",
              "      }\n",
              "      quickchartButtonEl.classList.remove('colab-df-spinner');\n",
              "      quickchartButtonEl.classList.add('colab-df-quickchart-complete');\n",
              "    }\n",
              "    (() => {\n",
              "      let quickchartButtonEl =\n",
              "        document.querySelector('#df-1cb866c6-6656-433b-a208-85fd05822941 button');\n",
              "      quickchartButtonEl.style.display =\n",
              "        google.colab.kernel.accessAllowed ? 'block' : 'none';\n",
              "    })();\n",
              "  </script>\n",
              "</div>\n",
              "\n",
              "    </div>\n",
              "  </div>\n"
            ],
            "application/vnd.google.colaboratory.intrinsic+json": {
              "type": "dataframe"
            }
          },
          "metadata": {},
          "execution_count": 28
        }
      ]
    },
    {
      "cell_type": "code",
      "metadata": {
        "id": "LEnqUtmb5mm3",
        "colab": {
          "base_uri": "https://localhost:8080/"
        },
        "outputId": "b6192752-df1c-434a-898f-2a96e5c0dd8e"
      },
      "source": [
        "df.info()"
      ],
      "execution_count": 7,
      "outputs": [
        {
          "output_type": "stream",
          "name": "stdout",
          "text": [
            "<class 'pandas.core.frame.DataFrame'>\n",
            "RangeIndex: 8914838 entries, 0 to 8914837\n",
            "Data columns (total 35 columns):\n",
            " #   Column             Dtype \n",
            "---  ------             ----- \n",
            " 0   CMPLNT_NUM         object\n",
            " 1   CMPLNT_FR_DT       object\n",
            " 2   CMPLNT_FR_TM       object\n",
            " 3   CMPLNT_TO_DT       object\n",
            " 4   CMPLNT_TO_TM       object\n",
            " 5   ADDR_PCT_CD        object\n",
            " 6   RPT_DT             object\n",
            " 7   KY_CD              object\n",
            " 8   OFNS_DESC          object\n",
            " 9   PD_CD              object\n",
            " 10  PD_DESC            object\n",
            " 11  CRM_ATPT_CPTD_CD   object\n",
            " 12  LAW_CAT_CD         object\n",
            " 13  BORO_NM            object\n",
            " 14  LOC_OF_OCCUR_DESC  object\n",
            " 15  PREM_TYP_DESC      object\n",
            " 16  JURIS_DESC         object\n",
            " 17  JURISDICTION_CODE  object\n",
            " 18  PARKS_NM           object\n",
            " 19  HADEVELOPT         object\n",
            " 20  HOUSING_PSA        object\n",
            " 21  X_COORD_CD         object\n",
            " 22  Y_COORD_CD         object\n",
            " 23  SUSP_AGE_GROUP     object\n",
            " 24  SUSP_RACE          object\n",
            " 25  SUSP_SEX           object\n",
            " 26  TRANSIT_DISTRICT   object\n",
            " 27  Latitude           object\n",
            " 28  Longitude          object\n",
            " 29  Lat_Lon            object\n",
            " 30  PATROL_BORO        object\n",
            " 31  STATION_NAME       object\n",
            " 32  VIC_AGE_GROUP      object\n",
            " 33  VIC_RACE           object\n",
            " 34  VIC_SEX            object\n",
            "dtypes: object(35)\n",
            "memory usage: 2.3+ GB\n"
          ]
        }
      ]
    },
    {
      "cell_type": "markdown",
      "metadata": {
        "id": "iom7bUxU5mm4"
      },
      "source": [
        "## Data Cleaning"
      ]
    },
    {
      "cell_type": "code",
      "metadata": {
        "id": "_7AjsFKk_8O0"
      },
      "source": [
        "# These columns are redundant\n",
        "to_drop = ['Lat_Lon','X_COORD_CD','Y_COORD_CD']\n",
        "# We created the CMPLNT_FR and CMPLNT_TO columns\n",
        "# We have the longitude and latitude so the other coordinates are not needed\n",
        "df = df.drop(to_drop, axis='columns')"
      ],
      "execution_count": 29,
      "outputs": []
    },
    {
      "cell_type": "markdown",
      "metadata": {
        "id": "cneciJ0ychcz"
      },
      "source": [
        "###  CMPLNT_NUM         object   "
      ]
    },
    {
      "cell_type": "code",
      "source": [
        "# Remove any non-numeric characters from the CMPLNT_NUM attribute\n",
        "df['CMPLNT_NUM'] = df['CMPLNT_NUM'].str.replace(r'\\D', '', regex=True)"
      ],
      "metadata": {
        "id": "KZTxemglnQn5"
      },
      "execution_count": 33,
      "outputs": []
    },
    {
      "cell_type": "code",
      "metadata": {
        "id": "4AnVkOfw-8Ul"
      },
      "source": [
        "df['CMPLNT_NUM'] = pd.to_numeric(df['CMPLNT_NUM'], errors=\"coerce\")\n",
        "df['CMPLNT_NUM'] = np.abs(df['CMPLNT_NUM'].astype('int32'))\n",
        "df = df[~df['CMPLNT_NUM'].isna()]\n",
        "# Drop cases with duplicated complaint numbers\n",
        "key_cnt = df['CMPLNT_NUM'].value_counts()\n",
        "key_cnt [ key_cnt>1 ]\n",
        "df = df[ ~df['CMPLNT_NUM'].isin( key_cnt [ key_cnt>1 ].index.values ) ]"
      ],
      "execution_count": 143,
      "outputs": []
    },
    {
      "cell_type": "code",
      "source": [
        "len(df)"
      ],
      "metadata": {
        "colab": {
          "base_uri": "https://localhost:8080/"
        },
        "id": "OqhkwR-EJ8qy",
        "outputId": "9c10b5c8-6c44-4985-d9b5-f99dc2d1c372"
      },
      "execution_count": 144,
      "outputs": [
        {
          "output_type": "execute_result",
          "data": {
            "text/plain": [
              "8841059"
            ]
          },
          "metadata": {},
          "execution_count": 144
        }
      ]
    },
    {
      "cell_type": "code",
      "metadata": {
        "id": "TGaUJ382IYGM"
      },
      "source": [],
      "execution_count": 40,
      "outputs": []
    },
    {
      "cell_type": "markdown",
      "metadata": {
        "id": "FHn3_6rjcj0t"
      },
      "source": [
        "### CMPLNT_FR_DT       object\n",
        "### CMPLNT_FR_TM       object\n",
        "### CMPLNT_TO_DT       object\n",
        "### CMPLNT_TO_TM       object"
      ]
    },
    {
      "cell_type": "code",
      "metadata": {
        "id": "f2F3vSC_5mm5"
      },
      "source": [
        "# There are a few rows that contain year 1015, 1016, ... that trigger an error during date conversion\n",
        "# We replace all years written as 10XX with 20XX\n",
        "# Note the usage of regular expressions\n",
        "df.CMPLNT_FR_DT.replace(to_replace = '(\\d\\d)/(\\d\\d)/10(\\d\\d)', value=r'\\1/\\2/20\\3', inplace = True, regex=True )\n",
        "df.CMPLNT_TO_DT.replace(to_replace = '(\\d\\d)/(\\d\\d)/10(\\d\\d)', value=r'\\1/\\2/20\\3', inplace = True, regex=True )\n",
        "\n",
        "# Similarly, a few hours are written as 24:00:00, which also triggers errors.\n",
        "# We fix these hours\n",
        "df.CMPLNT_FR_TM.replace(to_replace = '24:00:00', value='00:00:00', inplace = True)\n",
        "df.CMPLNT_TO_TM.replace(to_replace = '24:00:00', value='00:00:00', inplace = True)\n",
        "\n",
        "# Convert the two separate date and time columns into single datetime columns\n",
        "df['CMPLNT_FR'] = pd.to_datetime(df.CMPLNT_FR_DT + ' ' + df.CMPLNT_FR_TM, format='%m/%d/%Y %H:%M:%S', cache=True, errors=\"coerce\")\n",
        "df['CMPLNT_TO'] = pd.to_datetime(df.CMPLNT_TO_DT + ' ' + df.CMPLNT_TO_TM, format='%m/%d/%Y %H:%M:%S', cache=True, errors=\"coerce\")\n",
        "\n",
        "# These columns are redundant\n",
        "to_drop = ['CMPLNT_FR_DT','CMPLNT_TO_DT','CMPLNT_FR_TM','CMPLNT_TO_TM']\n",
        "# We created the CMPLNT_FR and CMPLNT_TO columns\n",
        "# We have the longitude and latitude so the other coordinates are not needed\n",
        "df = df.drop(to_drop, axis='columns')"
      ],
      "execution_count": 42,
      "outputs": []
    },
    {
      "cell_type": "code",
      "metadata": {
        "id": "W75-d3hf5mm6",
        "colab": {
          "base_uri": "https://localhost:8080/"
        },
        "outputId": "cad9e483-b9e9-4a3a-e688-c8a524f726b4"
      },
      "source": [
        "df.CMPLNT_FR.isnull().sum()"
      ],
      "execution_count": 43,
      "outputs": [
        {
          "output_type": "execute_result",
          "data": {
            "text/plain": [
              "702"
            ]
          },
          "metadata": {},
          "execution_count": 43
        }
      ]
    },
    {
      "cell_type": "code",
      "metadata": {
        "id": "y_L6v8D-5mm6",
        "colab": {
          "base_uri": "https://localhost:8080/"
        },
        "outputId": "e67765c9-e8b3-41b6-a644-dd912188c932"
      },
      "source": [
        "df.CMPLNT_TO.isnull().sum()"
      ],
      "execution_count": 44,
      "outputs": [
        {
          "output_type": "execute_result",
          "data": {
            "text/plain": [
              "1819707"
            ]
          },
          "metadata": {},
          "execution_count": 44
        }
      ]
    },
    {
      "cell_type": "code",
      "metadata": {
        "id": "Wew9yE3KEU4h"
      },
      "source": [
        "df = df [ ~df.CMPLNT_FR.isnull() ]"
      ],
      "execution_count": 45,
      "outputs": []
    },
    {
      "cell_type": "markdown",
      "metadata": {
        "id": "9LWq_gxRcn5X"
      },
      "source": [
        "###  ADDR_PCT_CD        object"
      ]
    },
    {
      "cell_type": "code",
      "metadata": {
        "id": "icQPQRXI_S0s"
      },
      "source": [
        "\n",
        "df.ADDR_PCT_CD.replace(to_replace = '-99', value='99', inplace = True)\n",
        "# df = df [ ~df.ADDR_PCT_CD.isnull() ]\n",
        "df.ADDR_PCT_CD = pd.Categorical(df.ADDR_PCT_CD)"
      ],
      "execution_count": 46,
      "outputs": []
    },
    {
      "cell_type": "markdown",
      "metadata": {
        "id": "jJy7ffBvcpUT"
      },
      "source": [
        "###  RPT_DT             object"
      ]
    },
    {
      "cell_type": "code",
      "metadata": {
        "id": "vSDFSmV__YsE"
      },
      "source": [
        "\n",
        "\n",
        "# Convert RPT_DT to date\n",
        "df.RPT_DT = pd.to_datetime(df.RPT_DT, format=\"%m/%d/%Y\", cache=True)"
      ],
      "execution_count": 47,
      "outputs": []
    },
    {
      "cell_type": "code",
      "source": [],
      "metadata": {
        "id": "OKKuuaoaldaH",
        "outputId": "0c087308-98df-4053-dab9-a0dac40547a1",
        "colab": {
          "base_uri": "https://localhost:8080/",
          "height": 99
        }
      },
      "execution_count": 22,
      "outputs": [
        {
          "output_type": "execute_result",
          "data": {
            "text/plain": [
              "Empty DataFrame\n",
              "Columns: [CMPLNT_NUM, ADDR_PCT_CD, RPT_DT, KY_CD, OFNS_DESC, PD_CD, PD_DESC, CRM_ATPT_CPTD_CD, LAW_CAT_CD, BORO_NM, LOC_OF_OCCUR_DESC, PREM_TYP_DESC, JURIS_DESC, JURISDICTION_CODE, PARKS_NM, HADEVELOPT, HOUSING_PSA, SUSP_AGE_GROUP, SUSP_RACE, SUSP_SEX, TRANSIT_DISTRICT, Latitude, Longitude, PATROL_BORO, STATION_NAME, VIC_AGE_GROUP, VIC_RACE, VIC_SEX, CMPLNT_FR, CMPLNT_TO]\n",
              "Index: []\n",
              "\n",
              "[0 rows x 30 columns]"
            ],
            "text/html": [
              "\n",
              "  <div id=\"df-297e6feb-c527-46ae-b9d7-3837a8bf04a0\" class=\"colab-df-container\">\n",
              "    <div>\n",
              "<style scoped>\n",
              "    .dataframe tbody tr th:only-of-type {\n",
              "        vertical-align: middle;\n",
              "    }\n",
              "\n",
              "    .dataframe tbody tr th {\n",
              "        vertical-align: top;\n",
              "    }\n",
              "\n",
              "    .dataframe thead th {\n",
              "        text-align: right;\n",
              "    }\n",
              "</style>\n",
              "<table border=\"1\" class=\"dataframe\">\n",
              "  <thead>\n",
              "    <tr style=\"text-align: right;\">\n",
              "      <th></th>\n",
              "      <th>CMPLNT_NUM</th>\n",
              "      <th>ADDR_PCT_CD</th>\n",
              "      <th>RPT_DT</th>\n",
              "      <th>KY_CD</th>\n",
              "      <th>OFNS_DESC</th>\n",
              "      <th>PD_CD</th>\n",
              "      <th>PD_DESC</th>\n",
              "      <th>CRM_ATPT_CPTD_CD</th>\n",
              "      <th>LAW_CAT_CD</th>\n",
              "      <th>BORO_NM</th>\n",
              "      <th>...</th>\n",
              "      <th>TRANSIT_DISTRICT</th>\n",
              "      <th>Latitude</th>\n",
              "      <th>Longitude</th>\n",
              "      <th>PATROL_BORO</th>\n",
              "      <th>STATION_NAME</th>\n",
              "      <th>VIC_AGE_GROUP</th>\n",
              "      <th>VIC_RACE</th>\n",
              "      <th>VIC_SEX</th>\n",
              "      <th>CMPLNT_FR</th>\n",
              "      <th>CMPLNT_TO</th>\n",
              "    </tr>\n",
              "  </thead>\n",
              "  <tbody>\n",
              "  </tbody>\n",
              "</table>\n",
              "<p>0 rows × 30 columns</p>\n",
              "</div>\n",
              "    <div class=\"colab-df-buttons\">\n",
              "\n",
              "  <div class=\"colab-df-container\">\n",
              "    <button class=\"colab-df-convert\" onclick=\"convertToInteractive('df-297e6feb-c527-46ae-b9d7-3837a8bf04a0')\"\n",
              "            title=\"Convert this dataframe to an interactive table.\"\n",
              "            style=\"display:none;\">\n",
              "\n",
              "  <svg xmlns=\"http://www.w3.org/2000/svg\" height=\"24px\" viewBox=\"0 -960 960 960\">\n",
              "    <path d=\"M120-120v-720h720v720H120Zm60-500h600v-160H180v160Zm220 220h160v-160H400v160Zm0 220h160v-160H400v160ZM180-400h160v-160H180v160Zm440 0h160v-160H620v160ZM180-180h160v-160H180v160Zm440 0h160v-160H620v160Z\"/>\n",
              "  </svg>\n",
              "    </button>\n",
              "\n",
              "  <style>\n",
              "    .colab-df-container {\n",
              "      display:flex;\n",
              "      gap: 12px;\n",
              "    }\n",
              "\n",
              "    .colab-df-convert {\n",
              "      background-color: #E8F0FE;\n",
              "      border: none;\n",
              "      border-radius: 50%;\n",
              "      cursor: pointer;\n",
              "      display: none;\n",
              "      fill: #1967D2;\n",
              "      height: 32px;\n",
              "      padding: 0 0 0 0;\n",
              "      width: 32px;\n",
              "    }\n",
              "\n",
              "    .colab-df-convert:hover {\n",
              "      background-color: #E2EBFA;\n",
              "      box-shadow: 0px 1px 2px rgba(60, 64, 67, 0.3), 0px 1px 3px 1px rgba(60, 64, 67, 0.15);\n",
              "      fill: #174EA6;\n",
              "    }\n",
              "\n",
              "    .colab-df-buttons div {\n",
              "      margin-bottom: 4px;\n",
              "    }\n",
              "\n",
              "    [theme=dark] .colab-df-convert {\n",
              "      background-color: #3B4455;\n",
              "      fill: #D2E3FC;\n",
              "    }\n",
              "\n",
              "    [theme=dark] .colab-df-convert:hover {\n",
              "      background-color: #434B5C;\n",
              "      box-shadow: 0px 1px 3px 1px rgba(0, 0, 0, 0.15);\n",
              "      filter: drop-shadow(0px 1px 2px rgba(0, 0, 0, 0.3));\n",
              "      fill: #FFFFFF;\n",
              "    }\n",
              "  </style>\n",
              "\n",
              "    <script>\n",
              "      const buttonEl =\n",
              "        document.querySelector('#df-297e6feb-c527-46ae-b9d7-3837a8bf04a0 button.colab-df-convert');\n",
              "      buttonEl.style.display =\n",
              "        google.colab.kernel.accessAllowed ? 'block' : 'none';\n",
              "\n",
              "      async function convertToInteractive(key) {\n",
              "        const element = document.querySelector('#df-297e6feb-c527-46ae-b9d7-3837a8bf04a0');\n",
              "        const dataTable =\n",
              "          await google.colab.kernel.invokeFunction('convertToInteractive',\n",
              "                                                    [key], {});\n",
              "        if (!dataTable) return;\n",
              "\n",
              "        const docLinkHtml = 'Like what you see? Visit the ' +\n",
              "          '<a target=\"_blank\" href=https://colab.research.google.com/notebooks/data_table.ipynb>data table notebook</a>'\n",
              "          + ' to learn more about interactive tables.';\n",
              "        element.innerHTML = '';\n",
              "        dataTable['output_type'] = 'display_data';\n",
              "        await google.colab.output.renderOutput(dataTable, element);\n",
              "        const docLink = document.createElement('div');\n",
              "        docLink.innerHTML = docLinkHtml;\n",
              "        element.appendChild(docLink);\n",
              "      }\n",
              "    </script>\n",
              "  </div>\n",
              "\n",
              "\n",
              "    </div>\n",
              "  </div>\n"
            ],
            "application/vnd.google.colaboratory.intrinsic+json": {
              "type": "dataframe"
            }
          },
          "metadata": {},
          "execution_count": 22
        }
      ]
    },
    {
      "cell_type": "markdown",
      "metadata": {
        "id": "PMJyvnercqxR"
      },
      "source": [
        "### 7   KY_CD              object\n",
        "### 8   OFNS_DESC          object"
      ]
    },
    {
      "cell_type": "code",
      "source": [
        "df.KY_CD.value_counts()"
      ],
      "metadata": {
        "id": "e6wNzscym0X-",
        "outputId": "23e86170-b762-47f9-d50c-88cef04df983",
        "colab": {
          "base_uri": "https://localhost:8080/"
        }
      },
      "execution_count": 48,
      "outputs": [
        {
          "output_type": "execute_result",
          "data": {
            "text/plain": [
              "KY_CD\n",
              "341    1556642\n",
              "578    1187258\n",
              "344     935220\n",
              "109     783051\n",
              "351     709197\n",
              "        ...   \n",
              "460         16\n",
              "357         13\n",
              "123          7\n",
              "362          5\n",
              "577          3\n",
              "Name: count, Length: 75, dtype: int64"
            ]
          },
          "metadata": {},
          "execution_count": 48
        }
      ]
    },
    {
      "cell_type": "code",
      "metadata": {
        "id": "hqgAxM-F5mm7",
        "colab": {
          "base_uri": "https://localhost:8080/",
          "height": 424
        },
        "outputId": "4a9d0bce-9506-42ab-dd5d-43de1eb95527"
      },
      "source": [
        "df.OFNS_DESC.replace(to_replace = 'KIDNAPPING', value='KIDNAPPING & RELATED OFFENSES', inplace = True)\n",
        "df.OFNS_DESC.replace(to_replace = 'KIDNAPPING AND RELATED OFFENSES', value='KIDNAPPING & RELATED OFFENSES', inplace = True)\n",
        "\n",
        "df.OFNS_DESC.replace(to_replace = 'AGRICULTURE & MRKTS LAW-UNCLASSIFIED', value='OTHER STATE LAWS (NON PENAL LAW)', inplace = True)\n",
        "df.OFNS_DESC.replace(to_replace = 'OTHER STATE LAWS (NON PENAL LA', value='OTHER STATE LAWS (NON PENAL LAW)', inplace = True)\n",
        "\n",
        "df.OFNS_DESC.replace(to_replace = 'ENDAN WELFARE INCOMP', value='OFFENSES RELATED TO CHILDREN', inplace = True)\n",
        "\n",
        "df.OFNS_DESC.replace(to_replace = 'THEFT OF SERVICES', value='OTHER OFFENSES RELATED TO THEF', inplace = True)\n",
        "\n",
        "df.OFNS_DESC.replace(to_replace = 'NYS LAWS-UNCLASSIFIED VIOLATION', value='OTHER STATE LAWS', inplace = True)\n",
        "\n",
        "df.OFNS_DESC.replace(to_replace = 'FELONY SEX CRIMES', value='SEX CRIMES', inplace = True)\n",
        "\n",
        "df.loc[df.KY_CD=='120','OFNS_DESC'] ='CHILD ABANDONMENT/NON SUPPORT'\n",
        "\n",
        "df.loc[df.KY_CD=='125','OFNS_DESC'] ='NYS LAWS-UNCLASSIFIED FELONY'\n",
        "\n",
        "offenses = df[ [\"KY_CD\", \"OFNS_DESC\"] ].drop_duplicates().dropna()\n",
        "offenses['KY_CD'] = pd.Categorical(pd.to_numeric(offenses['KY_CD'] ).astype(int))\n",
        "offenses = offenses.set_index(\"KY_CD\")\n",
        "offenses = offenses.sort_index()\n",
        "offenses = offenses.reset_index()\n",
        "offenses\n"
      ],
      "execution_count": 49,
      "outputs": [
        {
          "output_type": "execute_result",
          "data": {
            "text/plain": [
              "   KY_CD                        OFNS_DESC\n",
              "0    101  MURDER & NON-NEGL. MANSLAUGHTER\n",
              "1    102       HOMICIDE-NEGLIGENT-VEHICLE\n",
              "2    103   HOMICIDE-NEGLIGENT,UNCLASSIFIE\n",
              "3    104                             RAPE\n",
              "4    105                          ROBBERY\n",
              "..   ...                              ...\n",
              "70   676        NEW YORK CITY HEALTH CODE\n",
              "71   677                 OTHER STATE LAWS\n",
              "72   678          MISCELLANEOUS PENAL LAW\n",
              "73   685             ADMINISTRATIVE CODES\n",
              "74   881         OTHER TRAFFIC INFRACTION\n",
              "\n",
              "[75 rows x 2 columns]"
            ],
            "text/html": [
              "\n",
              "  <div id=\"df-4ad7da02-2919-4989-b0a3-5e23fe323979\" class=\"colab-df-container\">\n",
              "    <div>\n",
              "<style scoped>\n",
              "    .dataframe tbody tr th:only-of-type {\n",
              "        vertical-align: middle;\n",
              "    }\n",
              "\n",
              "    .dataframe tbody tr th {\n",
              "        vertical-align: top;\n",
              "    }\n",
              "\n",
              "    .dataframe thead th {\n",
              "        text-align: right;\n",
              "    }\n",
              "</style>\n",
              "<table border=\"1\" class=\"dataframe\">\n",
              "  <thead>\n",
              "    <tr style=\"text-align: right;\">\n",
              "      <th></th>\n",
              "      <th>KY_CD</th>\n",
              "      <th>OFNS_DESC</th>\n",
              "    </tr>\n",
              "  </thead>\n",
              "  <tbody>\n",
              "    <tr>\n",
              "      <th>0</th>\n",
              "      <td>101</td>\n",
              "      <td>MURDER &amp; NON-NEGL. MANSLAUGHTER</td>\n",
              "    </tr>\n",
              "    <tr>\n",
              "      <th>1</th>\n",
              "      <td>102</td>\n",
              "      <td>HOMICIDE-NEGLIGENT-VEHICLE</td>\n",
              "    </tr>\n",
              "    <tr>\n",
              "      <th>2</th>\n",
              "      <td>103</td>\n",
              "      <td>HOMICIDE-NEGLIGENT,UNCLASSIFIE</td>\n",
              "    </tr>\n",
              "    <tr>\n",
              "      <th>3</th>\n",
              "      <td>104</td>\n",
              "      <td>RAPE</td>\n",
              "    </tr>\n",
              "    <tr>\n",
              "      <th>4</th>\n",
              "      <td>105</td>\n",
              "      <td>ROBBERY</td>\n",
              "    </tr>\n",
              "    <tr>\n",
              "      <th>...</th>\n",
              "      <td>...</td>\n",
              "      <td>...</td>\n",
              "    </tr>\n",
              "    <tr>\n",
              "      <th>70</th>\n",
              "      <td>676</td>\n",
              "      <td>NEW YORK CITY HEALTH CODE</td>\n",
              "    </tr>\n",
              "    <tr>\n",
              "      <th>71</th>\n",
              "      <td>677</td>\n",
              "      <td>OTHER STATE LAWS</td>\n",
              "    </tr>\n",
              "    <tr>\n",
              "      <th>72</th>\n",
              "      <td>678</td>\n",
              "      <td>MISCELLANEOUS PENAL LAW</td>\n",
              "    </tr>\n",
              "    <tr>\n",
              "      <th>73</th>\n",
              "      <td>685</td>\n",
              "      <td>ADMINISTRATIVE CODES</td>\n",
              "    </tr>\n",
              "    <tr>\n",
              "      <th>74</th>\n",
              "      <td>881</td>\n",
              "      <td>OTHER TRAFFIC INFRACTION</td>\n",
              "    </tr>\n",
              "  </tbody>\n",
              "</table>\n",
              "<p>75 rows × 2 columns</p>\n",
              "</div>\n",
              "    <div class=\"colab-df-buttons\">\n",
              "\n",
              "  <div class=\"colab-df-container\">\n",
              "    <button class=\"colab-df-convert\" onclick=\"convertToInteractive('df-4ad7da02-2919-4989-b0a3-5e23fe323979')\"\n",
              "            title=\"Convert this dataframe to an interactive table.\"\n",
              "            style=\"display:none;\">\n",
              "\n",
              "  <svg xmlns=\"http://www.w3.org/2000/svg\" height=\"24px\" viewBox=\"0 -960 960 960\">\n",
              "    <path d=\"M120-120v-720h720v720H120Zm60-500h600v-160H180v160Zm220 220h160v-160H400v160Zm0 220h160v-160H400v160ZM180-400h160v-160H180v160Zm440 0h160v-160H620v160ZM180-180h160v-160H180v160Zm440 0h160v-160H620v160Z\"/>\n",
              "  </svg>\n",
              "    </button>\n",
              "\n",
              "  <style>\n",
              "    .colab-df-container {\n",
              "      display:flex;\n",
              "      gap: 12px;\n",
              "    }\n",
              "\n",
              "    .colab-df-convert {\n",
              "      background-color: #E8F0FE;\n",
              "      border: none;\n",
              "      border-radius: 50%;\n",
              "      cursor: pointer;\n",
              "      display: none;\n",
              "      fill: #1967D2;\n",
              "      height: 32px;\n",
              "      padding: 0 0 0 0;\n",
              "      width: 32px;\n",
              "    }\n",
              "\n",
              "    .colab-df-convert:hover {\n",
              "      background-color: #E2EBFA;\n",
              "      box-shadow: 0px 1px 2px rgba(60, 64, 67, 0.3), 0px 1px 3px 1px rgba(60, 64, 67, 0.15);\n",
              "      fill: #174EA6;\n",
              "    }\n",
              "\n",
              "    .colab-df-buttons div {\n",
              "      margin-bottom: 4px;\n",
              "    }\n",
              "\n",
              "    [theme=dark] .colab-df-convert {\n",
              "      background-color: #3B4455;\n",
              "      fill: #D2E3FC;\n",
              "    }\n",
              "\n",
              "    [theme=dark] .colab-df-convert:hover {\n",
              "      background-color: #434B5C;\n",
              "      box-shadow: 0px 1px 3px 1px rgba(0, 0, 0, 0.15);\n",
              "      filter: drop-shadow(0px 1px 2px rgba(0, 0, 0, 0.3));\n",
              "      fill: #FFFFFF;\n",
              "    }\n",
              "  </style>\n",
              "\n",
              "    <script>\n",
              "      const buttonEl =\n",
              "        document.querySelector('#df-4ad7da02-2919-4989-b0a3-5e23fe323979 button.colab-df-convert');\n",
              "      buttonEl.style.display =\n",
              "        google.colab.kernel.accessAllowed ? 'block' : 'none';\n",
              "\n",
              "      async function convertToInteractive(key) {\n",
              "        const element = document.querySelector('#df-4ad7da02-2919-4989-b0a3-5e23fe323979');\n",
              "        const dataTable =\n",
              "          await google.colab.kernel.invokeFunction('convertToInteractive',\n",
              "                                                    [key], {});\n",
              "        if (!dataTable) return;\n",
              "\n",
              "        const docLinkHtml = 'Like what you see? Visit the ' +\n",
              "          '<a target=\"_blank\" href=https://colab.research.google.com/notebooks/data_table.ipynb>data table notebook</a>'\n",
              "          + ' to learn more about interactive tables.';\n",
              "        element.innerHTML = '';\n",
              "        dataTable['output_type'] = 'display_data';\n",
              "        await google.colab.output.renderOutput(dataTable, element);\n",
              "        const docLink = document.createElement('div');\n",
              "        docLink.innerHTML = docLinkHtml;\n",
              "        element.appendChild(docLink);\n",
              "      }\n",
              "    </script>\n",
              "  </div>\n",
              "\n",
              "\n",
              "<div id=\"df-9f968b77-3e89-42f7-9e2c-d79d2d948cce\">\n",
              "  <button class=\"colab-df-quickchart\" onclick=\"quickchart('df-9f968b77-3e89-42f7-9e2c-d79d2d948cce')\"\n",
              "            title=\"Suggest charts\"\n",
              "            style=\"display:none;\">\n",
              "\n",
              "<svg xmlns=\"http://www.w3.org/2000/svg\" height=\"24px\"viewBox=\"0 0 24 24\"\n",
              "     width=\"24px\">\n",
              "    <g>\n",
              "        <path d=\"M19 3H5c-1.1 0-2 .9-2 2v14c0 1.1.9 2 2 2h14c1.1 0 2-.9 2-2V5c0-1.1-.9-2-2-2zM9 17H7v-7h2v7zm4 0h-2V7h2v10zm4 0h-2v-4h2v4z\"/>\n",
              "    </g>\n",
              "</svg>\n",
              "  </button>\n",
              "\n",
              "<style>\n",
              "  .colab-df-quickchart {\n",
              "      --bg-color: #E8F0FE;\n",
              "      --fill-color: #1967D2;\n",
              "      --hover-bg-color: #E2EBFA;\n",
              "      --hover-fill-color: #174EA6;\n",
              "      --disabled-fill-color: #AAA;\n",
              "      --disabled-bg-color: #DDD;\n",
              "  }\n",
              "\n",
              "  [theme=dark] .colab-df-quickchart {\n",
              "      --bg-color: #3B4455;\n",
              "      --fill-color: #D2E3FC;\n",
              "      --hover-bg-color: #434B5C;\n",
              "      --hover-fill-color: #FFFFFF;\n",
              "      --disabled-bg-color: #3B4455;\n",
              "      --disabled-fill-color: #666;\n",
              "  }\n",
              "\n",
              "  .colab-df-quickchart {\n",
              "    background-color: var(--bg-color);\n",
              "    border: none;\n",
              "    border-radius: 50%;\n",
              "    cursor: pointer;\n",
              "    display: none;\n",
              "    fill: var(--fill-color);\n",
              "    height: 32px;\n",
              "    padding: 0;\n",
              "    width: 32px;\n",
              "  }\n",
              "\n",
              "  .colab-df-quickchart:hover {\n",
              "    background-color: var(--hover-bg-color);\n",
              "    box-shadow: 0 1px 2px rgba(60, 64, 67, 0.3), 0 1px 3px 1px rgba(60, 64, 67, 0.15);\n",
              "    fill: var(--button-hover-fill-color);\n",
              "  }\n",
              "\n",
              "  .colab-df-quickchart-complete:disabled,\n",
              "  .colab-df-quickchart-complete:disabled:hover {\n",
              "    background-color: var(--disabled-bg-color);\n",
              "    fill: var(--disabled-fill-color);\n",
              "    box-shadow: none;\n",
              "  }\n",
              "\n",
              "  .colab-df-spinner {\n",
              "    border: 2px solid var(--fill-color);\n",
              "    border-color: transparent;\n",
              "    border-bottom-color: var(--fill-color);\n",
              "    animation:\n",
              "      spin 1s steps(1) infinite;\n",
              "  }\n",
              "\n",
              "  @keyframes spin {\n",
              "    0% {\n",
              "      border-color: transparent;\n",
              "      border-bottom-color: var(--fill-color);\n",
              "      border-left-color: var(--fill-color);\n",
              "    }\n",
              "    20% {\n",
              "      border-color: transparent;\n",
              "      border-left-color: var(--fill-color);\n",
              "      border-top-color: var(--fill-color);\n",
              "    }\n",
              "    30% {\n",
              "      border-color: transparent;\n",
              "      border-left-color: var(--fill-color);\n",
              "      border-top-color: var(--fill-color);\n",
              "      border-right-color: var(--fill-color);\n",
              "    }\n",
              "    40% {\n",
              "      border-color: transparent;\n",
              "      border-right-color: var(--fill-color);\n",
              "      border-top-color: var(--fill-color);\n",
              "    }\n",
              "    60% {\n",
              "      border-color: transparent;\n",
              "      border-right-color: var(--fill-color);\n",
              "    }\n",
              "    80% {\n",
              "      border-color: transparent;\n",
              "      border-right-color: var(--fill-color);\n",
              "      border-bottom-color: var(--fill-color);\n",
              "    }\n",
              "    90% {\n",
              "      border-color: transparent;\n",
              "      border-bottom-color: var(--fill-color);\n",
              "    }\n",
              "  }\n",
              "</style>\n",
              "\n",
              "  <script>\n",
              "    async function quickchart(key) {\n",
              "      const quickchartButtonEl =\n",
              "        document.querySelector('#' + key + ' button');\n",
              "      quickchartButtonEl.disabled = true;  // To prevent multiple clicks.\n",
              "      quickchartButtonEl.classList.add('colab-df-spinner');\n",
              "      try {\n",
              "        const charts = await google.colab.kernel.invokeFunction(\n",
              "            'suggestCharts', [key], {});\n",
              "      } catch (error) {\n",
              "        console.error('Error during call to suggestCharts:', error);\n",
              "      }\n",
              "      quickchartButtonEl.classList.remove('colab-df-spinner');\n",
              "      quickchartButtonEl.classList.add('colab-df-quickchart-complete');\n",
              "    }\n",
              "    (() => {\n",
              "      let quickchartButtonEl =\n",
              "        document.querySelector('#df-9f968b77-3e89-42f7-9e2c-d79d2d948cce button');\n",
              "      quickchartButtonEl.style.display =\n",
              "        google.colab.kernel.accessAllowed ? 'block' : 'none';\n",
              "    })();\n",
              "  </script>\n",
              "</div>\n",
              "\n",
              "  <div id=\"id_55d6baf2-1864-472b-953b-4d9d57e8cb3e\">\n",
              "    <style>\n",
              "      .colab-df-generate {\n",
              "        background-color: #E8F0FE;\n",
              "        border: none;\n",
              "        border-radius: 50%;\n",
              "        cursor: pointer;\n",
              "        display: none;\n",
              "        fill: #1967D2;\n",
              "        height: 32px;\n",
              "        padding: 0 0 0 0;\n",
              "        width: 32px;\n",
              "      }\n",
              "\n",
              "      .colab-df-generate:hover {\n",
              "        background-color: #E2EBFA;\n",
              "        box-shadow: 0px 1px 2px rgba(60, 64, 67, 0.3), 0px 1px 3px 1px rgba(60, 64, 67, 0.15);\n",
              "        fill: #174EA6;\n",
              "      }\n",
              "\n",
              "      [theme=dark] .colab-df-generate {\n",
              "        background-color: #3B4455;\n",
              "        fill: #D2E3FC;\n",
              "      }\n",
              "\n",
              "      [theme=dark] .colab-df-generate:hover {\n",
              "        background-color: #434B5C;\n",
              "        box-shadow: 0px 1px 3px 1px rgba(0, 0, 0, 0.15);\n",
              "        filter: drop-shadow(0px 1px 2px rgba(0, 0, 0, 0.3));\n",
              "        fill: #FFFFFF;\n",
              "      }\n",
              "    </style>\n",
              "    <button class=\"colab-df-generate\" onclick=\"generateWithVariable('offenses')\"\n",
              "            title=\"Generate code using this dataframe.\"\n",
              "            style=\"display:none;\">\n",
              "\n",
              "  <svg xmlns=\"http://www.w3.org/2000/svg\" height=\"24px\"viewBox=\"0 0 24 24\"\n",
              "       width=\"24px\">\n",
              "    <path d=\"M7,19H8.4L18.45,9,17,7.55,7,17.6ZM5,21V16.75L18.45,3.32a2,2,0,0,1,2.83,0l1.4,1.43a1.91,1.91,0,0,1,.58,1.4,1.91,1.91,0,0,1-.58,1.4L9.25,21ZM18.45,9,17,7.55Zm-12,3A5.31,5.31,0,0,0,4.9,8.1,5.31,5.31,0,0,0,1,6.5,5.31,5.31,0,0,0,4.9,4.9,5.31,5.31,0,0,0,6.5,1,5.31,5.31,0,0,0,8.1,4.9,5.31,5.31,0,0,0,12,6.5,5.46,5.46,0,0,0,6.5,12Z\"/>\n",
              "  </svg>\n",
              "    </button>\n",
              "    <script>\n",
              "      (() => {\n",
              "      const buttonEl =\n",
              "        document.querySelector('#id_55d6baf2-1864-472b-953b-4d9d57e8cb3e button.colab-df-generate');\n",
              "      buttonEl.style.display =\n",
              "        google.colab.kernel.accessAllowed ? 'block' : 'none';\n",
              "\n",
              "      buttonEl.onclick = () => {\n",
              "        google.colab.notebook.generateWithVariable('offenses');\n",
              "      }\n",
              "      })();\n",
              "    </script>\n",
              "  </div>\n",
              "\n",
              "    </div>\n",
              "  </div>\n"
            ],
            "application/vnd.google.colaboratory.intrinsic+json": {
              "type": "dataframe",
              "variable_name": "offenses",
              "summary": "{\n  \"name\": \"offenses\",\n  \"rows\": 75,\n  \"fields\": [\n    {\n      \"column\": \"KY_CD\",\n      \"properties\": {\n        \"dtype\": \"category\",\n        \"num_unique_values\": 75,\n        \"samples\": [\n          105,\n          460,\n          112\n        ],\n        \"semantic_type\": \"\",\n        \"description\": \"\"\n      }\n    },\n    {\n      \"column\": \"OFNS_DESC\",\n      \"properties\": {\n        \"dtype\": \"string\",\n        \"num_unique_values\": 64,\n        \"samples\": [\n          \"ADMINISTRATIVE CODE\",\n          \"UNDER THE INFLUENCE OF DRUGS\",\n          \"MURDER & NON-NEGL. MANSLAUGHTER\"\n        ],\n        \"semantic_type\": \"\",\n        \"description\": \"\"\n      }\n    }\n  ]\n}"
            }
          },
          "metadata": {},
          "execution_count": 49
        }
      ]
    },
    {
      "cell_type": "code",
      "metadata": {
        "id": "5RYYeU3oGvoY"
      },
      "source": [
        "df.KY_CD = pd.Categorical(df.KY_CD)"
      ],
      "execution_count": 50,
      "outputs": []
    },
    {
      "cell_type": "code",
      "metadata": {
        "id": "VfNKp2c4JThg"
      },
      "source": [
        "df = df.drop('OFNS_DESC', axis='columns')"
      ],
      "execution_count": 51,
      "outputs": []
    },
    {
      "cell_type": "markdown",
      "metadata": {
        "id": "211BiQHwc-Hi"
      },
      "source": [
        "### 9   PD_CD              object\n",
        "### 10  PD_DESC            object"
      ]
    },
    {
      "cell_type": "code",
      "metadata": {
        "id": "sSM0WJ2xFQKi",
        "colab": {
          "base_uri": "https://localhost:8080/",
          "height": 424
        },
        "outputId": "364e100e-8228-45fb-95ba-222a64dc386e"
      },
      "source": [
        "\n",
        "\n",
        "\n",
        "df.loc[df.PD_CD=='694','PD_DESC'] ='INCEST'\n",
        "\n",
        "df.loc[df.PD_CD=='234','PD_DESC'] ='BURGLARY,UNKNOWN TIME'\n",
        "\n",
        "internal = df[ [\"PD_CD\", \"PD_DESC\"] ].drop_duplicates().dropna()\n",
        "internal['PD_CD'] = pd.Categorical(pd.to_numeric(internal['PD_CD'] ).astype(int))\n",
        "internal = internal.set_index(\"PD_CD\")\n",
        "internal = internal.sort_index()\n",
        "internal = internal.reset_index()\n",
        "internal"
      ],
      "execution_count": 52,
      "outputs": [
        {
          "output_type": "execute_result",
          "data": {
            "text/plain": [
              "    PD_CD                                 PD_DESC\n",
              "0     100             STALKING COMMIT SEX OFFENSE\n",
              "1     101                               ASSAULT 3\n",
              "2     102             ASSAULT SCHOOL SAFETY AGENT\n",
              "3     103                   ASSAULT TRAFFIC AGENT\n",
              "4     104          VEHICULAR ASSAULT (INTOX DRIVE\n",
              "..    ...                                     ...\n",
              "437   917  LEAVING THE SCENE OF AN ACCIDENT (SPI)\n",
              "438   918                        RECKLESS DRIVING\n",
              "439   922          TRAFFIC,UNCLASSIFIED MISDEMEAN\n",
              "440   969          TRAFFIC,UNCLASSIFIED INFRACTIO\n",
              "441   975             ENVIRONMENTAL CONTROL BOARD\n",
              "\n",
              "[442 rows x 2 columns]"
            ],
            "text/html": [
              "\n",
              "  <div id=\"df-7e25caa4-05df-496b-9fd8-b56ca014df9d\" class=\"colab-df-container\">\n",
              "    <div>\n",
              "<style scoped>\n",
              "    .dataframe tbody tr th:only-of-type {\n",
              "        vertical-align: middle;\n",
              "    }\n",
              "\n",
              "    .dataframe tbody tr th {\n",
              "        vertical-align: top;\n",
              "    }\n",
              "\n",
              "    .dataframe thead th {\n",
              "        text-align: right;\n",
              "    }\n",
              "</style>\n",
              "<table border=\"1\" class=\"dataframe\">\n",
              "  <thead>\n",
              "    <tr style=\"text-align: right;\">\n",
              "      <th></th>\n",
              "      <th>PD_CD</th>\n",
              "      <th>PD_DESC</th>\n",
              "    </tr>\n",
              "  </thead>\n",
              "  <tbody>\n",
              "    <tr>\n",
              "      <th>0</th>\n",
              "      <td>100</td>\n",
              "      <td>STALKING COMMIT SEX OFFENSE</td>\n",
              "    </tr>\n",
              "    <tr>\n",
              "      <th>1</th>\n",
              "      <td>101</td>\n",
              "      <td>ASSAULT 3</td>\n",
              "    </tr>\n",
              "    <tr>\n",
              "      <th>2</th>\n",
              "      <td>102</td>\n",
              "      <td>ASSAULT SCHOOL SAFETY AGENT</td>\n",
              "    </tr>\n",
              "    <tr>\n",
              "      <th>3</th>\n",
              "      <td>103</td>\n",
              "      <td>ASSAULT TRAFFIC AGENT</td>\n",
              "    </tr>\n",
              "    <tr>\n",
              "      <th>4</th>\n",
              "      <td>104</td>\n",
              "      <td>VEHICULAR ASSAULT (INTOX DRIVE</td>\n",
              "    </tr>\n",
              "    <tr>\n",
              "      <th>...</th>\n",
              "      <td>...</td>\n",
              "      <td>...</td>\n",
              "    </tr>\n",
              "    <tr>\n",
              "      <th>437</th>\n",
              "      <td>917</td>\n",
              "      <td>LEAVING THE SCENE OF AN ACCIDENT (SPI)</td>\n",
              "    </tr>\n",
              "    <tr>\n",
              "      <th>438</th>\n",
              "      <td>918</td>\n",
              "      <td>RECKLESS DRIVING</td>\n",
              "    </tr>\n",
              "    <tr>\n",
              "      <th>439</th>\n",
              "      <td>922</td>\n",
              "      <td>TRAFFIC,UNCLASSIFIED MISDEMEAN</td>\n",
              "    </tr>\n",
              "    <tr>\n",
              "      <th>440</th>\n",
              "      <td>969</td>\n",
              "      <td>TRAFFIC,UNCLASSIFIED INFRACTIO</td>\n",
              "    </tr>\n",
              "    <tr>\n",
              "      <th>441</th>\n",
              "      <td>975</td>\n",
              "      <td>ENVIRONMENTAL CONTROL BOARD</td>\n",
              "    </tr>\n",
              "  </tbody>\n",
              "</table>\n",
              "<p>442 rows × 2 columns</p>\n",
              "</div>\n",
              "    <div class=\"colab-df-buttons\">\n",
              "\n",
              "  <div class=\"colab-df-container\">\n",
              "    <button class=\"colab-df-convert\" onclick=\"convertToInteractive('df-7e25caa4-05df-496b-9fd8-b56ca014df9d')\"\n",
              "            title=\"Convert this dataframe to an interactive table.\"\n",
              "            style=\"display:none;\">\n",
              "\n",
              "  <svg xmlns=\"http://www.w3.org/2000/svg\" height=\"24px\" viewBox=\"0 -960 960 960\">\n",
              "    <path d=\"M120-120v-720h720v720H120Zm60-500h600v-160H180v160Zm220 220h160v-160H400v160Zm0 220h160v-160H400v160ZM180-400h160v-160H180v160Zm440 0h160v-160H620v160ZM180-180h160v-160H180v160Zm440 0h160v-160H620v160Z\"/>\n",
              "  </svg>\n",
              "    </button>\n",
              "\n",
              "  <style>\n",
              "    .colab-df-container {\n",
              "      display:flex;\n",
              "      gap: 12px;\n",
              "    }\n",
              "\n",
              "    .colab-df-convert {\n",
              "      background-color: #E8F0FE;\n",
              "      border: none;\n",
              "      border-radius: 50%;\n",
              "      cursor: pointer;\n",
              "      display: none;\n",
              "      fill: #1967D2;\n",
              "      height: 32px;\n",
              "      padding: 0 0 0 0;\n",
              "      width: 32px;\n",
              "    }\n",
              "\n",
              "    .colab-df-convert:hover {\n",
              "      background-color: #E2EBFA;\n",
              "      box-shadow: 0px 1px 2px rgba(60, 64, 67, 0.3), 0px 1px 3px 1px rgba(60, 64, 67, 0.15);\n",
              "      fill: #174EA6;\n",
              "    }\n",
              "\n",
              "    .colab-df-buttons div {\n",
              "      margin-bottom: 4px;\n",
              "    }\n",
              "\n",
              "    [theme=dark] .colab-df-convert {\n",
              "      background-color: #3B4455;\n",
              "      fill: #D2E3FC;\n",
              "    }\n",
              "\n",
              "    [theme=dark] .colab-df-convert:hover {\n",
              "      background-color: #434B5C;\n",
              "      box-shadow: 0px 1px 3px 1px rgba(0, 0, 0, 0.15);\n",
              "      filter: drop-shadow(0px 1px 2px rgba(0, 0, 0, 0.3));\n",
              "      fill: #FFFFFF;\n",
              "    }\n",
              "  </style>\n",
              "\n",
              "    <script>\n",
              "      const buttonEl =\n",
              "        document.querySelector('#df-7e25caa4-05df-496b-9fd8-b56ca014df9d button.colab-df-convert');\n",
              "      buttonEl.style.display =\n",
              "        google.colab.kernel.accessAllowed ? 'block' : 'none';\n",
              "\n",
              "      async function convertToInteractive(key) {\n",
              "        const element = document.querySelector('#df-7e25caa4-05df-496b-9fd8-b56ca014df9d');\n",
              "        const dataTable =\n",
              "          await google.colab.kernel.invokeFunction('convertToInteractive',\n",
              "                                                    [key], {});\n",
              "        if (!dataTable) return;\n",
              "\n",
              "        const docLinkHtml = 'Like what you see? Visit the ' +\n",
              "          '<a target=\"_blank\" href=https://colab.research.google.com/notebooks/data_table.ipynb>data table notebook</a>'\n",
              "          + ' to learn more about interactive tables.';\n",
              "        element.innerHTML = '';\n",
              "        dataTable['output_type'] = 'display_data';\n",
              "        await google.colab.output.renderOutput(dataTable, element);\n",
              "        const docLink = document.createElement('div');\n",
              "        docLink.innerHTML = docLinkHtml;\n",
              "        element.appendChild(docLink);\n",
              "      }\n",
              "    </script>\n",
              "  </div>\n",
              "\n",
              "\n",
              "<div id=\"df-bd690b33-bb88-434c-b6e0-30d87b3e7de2\">\n",
              "  <button class=\"colab-df-quickchart\" onclick=\"quickchart('df-bd690b33-bb88-434c-b6e0-30d87b3e7de2')\"\n",
              "            title=\"Suggest charts\"\n",
              "            style=\"display:none;\">\n",
              "\n",
              "<svg xmlns=\"http://www.w3.org/2000/svg\" height=\"24px\"viewBox=\"0 0 24 24\"\n",
              "     width=\"24px\">\n",
              "    <g>\n",
              "        <path d=\"M19 3H5c-1.1 0-2 .9-2 2v14c0 1.1.9 2 2 2h14c1.1 0 2-.9 2-2V5c0-1.1-.9-2-2-2zM9 17H7v-7h2v7zm4 0h-2V7h2v10zm4 0h-2v-4h2v4z\"/>\n",
              "    </g>\n",
              "</svg>\n",
              "  </button>\n",
              "\n",
              "<style>\n",
              "  .colab-df-quickchart {\n",
              "      --bg-color: #E8F0FE;\n",
              "      --fill-color: #1967D2;\n",
              "      --hover-bg-color: #E2EBFA;\n",
              "      --hover-fill-color: #174EA6;\n",
              "      --disabled-fill-color: #AAA;\n",
              "      --disabled-bg-color: #DDD;\n",
              "  }\n",
              "\n",
              "  [theme=dark] .colab-df-quickchart {\n",
              "      --bg-color: #3B4455;\n",
              "      --fill-color: #D2E3FC;\n",
              "      --hover-bg-color: #434B5C;\n",
              "      --hover-fill-color: #FFFFFF;\n",
              "      --disabled-bg-color: #3B4455;\n",
              "      --disabled-fill-color: #666;\n",
              "  }\n",
              "\n",
              "  .colab-df-quickchart {\n",
              "    background-color: var(--bg-color);\n",
              "    border: none;\n",
              "    border-radius: 50%;\n",
              "    cursor: pointer;\n",
              "    display: none;\n",
              "    fill: var(--fill-color);\n",
              "    height: 32px;\n",
              "    padding: 0;\n",
              "    width: 32px;\n",
              "  }\n",
              "\n",
              "  .colab-df-quickchart:hover {\n",
              "    background-color: var(--hover-bg-color);\n",
              "    box-shadow: 0 1px 2px rgba(60, 64, 67, 0.3), 0 1px 3px 1px rgba(60, 64, 67, 0.15);\n",
              "    fill: var(--button-hover-fill-color);\n",
              "  }\n",
              "\n",
              "  .colab-df-quickchart-complete:disabled,\n",
              "  .colab-df-quickchart-complete:disabled:hover {\n",
              "    background-color: var(--disabled-bg-color);\n",
              "    fill: var(--disabled-fill-color);\n",
              "    box-shadow: none;\n",
              "  }\n",
              "\n",
              "  .colab-df-spinner {\n",
              "    border: 2px solid var(--fill-color);\n",
              "    border-color: transparent;\n",
              "    border-bottom-color: var(--fill-color);\n",
              "    animation:\n",
              "      spin 1s steps(1) infinite;\n",
              "  }\n",
              "\n",
              "  @keyframes spin {\n",
              "    0% {\n",
              "      border-color: transparent;\n",
              "      border-bottom-color: var(--fill-color);\n",
              "      border-left-color: var(--fill-color);\n",
              "    }\n",
              "    20% {\n",
              "      border-color: transparent;\n",
              "      border-left-color: var(--fill-color);\n",
              "      border-top-color: var(--fill-color);\n",
              "    }\n",
              "    30% {\n",
              "      border-color: transparent;\n",
              "      border-left-color: var(--fill-color);\n",
              "      border-top-color: var(--fill-color);\n",
              "      border-right-color: var(--fill-color);\n",
              "    }\n",
              "    40% {\n",
              "      border-color: transparent;\n",
              "      border-right-color: var(--fill-color);\n",
              "      border-top-color: var(--fill-color);\n",
              "    }\n",
              "    60% {\n",
              "      border-color: transparent;\n",
              "      border-right-color: var(--fill-color);\n",
              "    }\n",
              "    80% {\n",
              "      border-color: transparent;\n",
              "      border-right-color: var(--fill-color);\n",
              "      border-bottom-color: var(--fill-color);\n",
              "    }\n",
              "    90% {\n",
              "      border-color: transparent;\n",
              "      border-bottom-color: var(--fill-color);\n",
              "    }\n",
              "  }\n",
              "</style>\n",
              "\n",
              "  <script>\n",
              "    async function quickchart(key) {\n",
              "      const quickchartButtonEl =\n",
              "        document.querySelector('#' + key + ' button');\n",
              "      quickchartButtonEl.disabled = true;  // To prevent multiple clicks.\n",
              "      quickchartButtonEl.classList.add('colab-df-spinner');\n",
              "      try {\n",
              "        const charts = await google.colab.kernel.invokeFunction(\n",
              "            'suggestCharts', [key], {});\n",
              "      } catch (error) {\n",
              "        console.error('Error during call to suggestCharts:', error);\n",
              "      }\n",
              "      quickchartButtonEl.classList.remove('colab-df-spinner');\n",
              "      quickchartButtonEl.classList.add('colab-df-quickchart-complete');\n",
              "    }\n",
              "    (() => {\n",
              "      let quickchartButtonEl =\n",
              "        document.querySelector('#df-bd690b33-bb88-434c-b6e0-30d87b3e7de2 button');\n",
              "      quickchartButtonEl.style.display =\n",
              "        google.colab.kernel.accessAllowed ? 'block' : 'none';\n",
              "    })();\n",
              "  </script>\n",
              "</div>\n",
              "\n",
              "  <div id=\"id_bacb1b7d-2f13-4e2b-8901-be21a513126b\">\n",
              "    <style>\n",
              "      .colab-df-generate {\n",
              "        background-color: #E8F0FE;\n",
              "        border: none;\n",
              "        border-radius: 50%;\n",
              "        cursor: pointer;\n",
              "        display: none;\n",
              "        fill: #1967D2;\n",
              "        height: 32px;\n",
              "        padding: 0 0 0 0;\n",
              "        width: 32px;\n",
              "      }\n",
              "\n",
              "      .colab-df-generate:hover {\n",
              "        background-color: #E2EBFA;\n",
              "        box-shadow: 0px 1px 2px rgba(60, 64, 67, 0.3), 0px 1px 3px 1px rgba(60, 64, 67, 0.15);\n",
              "        fill: #174EA6;\n",
              "      }\n",
              "\n",
              "      [theme=dark] .colab-df-generate {\n",
              "        background-color: #3B4455;\n",
              "        fill: #D2E3FC;\n",
              "      }\n",
              "\n",
              "      [theme=dark] .colab-df-generate:hover {\n",
              "        background-color: #434B5C;\n",
              "        box-shadow: 0px 1px 3px 1px rgba(0, 0, 0, 0.15);\n",
              "        filter: drop-shadow(0px 1px 2px rgba(0, 0, 0, 0.3));\n",
              "        fill: #FFFFFF;\n",
              "      }\n",
              "    </style>\n",
              "    <button class=\"colab-df-generate\" onclick=\"generateWithVariable('internal')\"\n",
              "            title=\"Generate code using this dataframe.\"\n",
              "            style=\"display:none;\">\n",
              "\n",
              "  <svg xmlns=\"http://www.w3.org/2000/svg\" height=\"24px\"viewBox=\"0 0 24 24\"\n",
              "       width=\"24px\">\n",
              "    <path d=\"M7,19H8.4L18.45,9,17,7.55,7,17.6ZM5,21V16.75L18.45,3.32a2,2,0,0,1,2.83,0l1.4,1.43a1.91,1.91,0,0,1,.58,1.4,1.91,1.91,0,0,1-.58,1.4L9.25,21ZM18.45,9,17,7.55Zm-12,3A5.31,5.31,0,0,0,4.9,8.1,5.31,5.31,0,0,0,1,6.5,5.31,5.31,0,0,0,4.9,4.9,5.31,5.31,0,0,0,6.5,1,5.31,5.31,0,0,0,8.1,4.9,5.31,5.31,0,0,0,12,6.5,5.46,5.46,0,0,0,6.5,12Z\"/>\n",
              "  </svg>\n",
              "    </button>\n",
              "    <script>\n",
              "      (() => {\n",
              "      const buttonEl =\n",
              "        document.querySelector('#id_bacb1b7d-2f13-4e2b-8901-be21a513126b button.colab-df-generate');\n",
              "      buttonEl.style.display =\n",
              "        google.colab.kernel.accessAllowed ? 'block' : 'none';\n",
              "\n",
              "      buttonEl.onclick = () => {\n",
              "        google.colab.notebook.generateWithVariable('internal');\n",
              "      }\n",
              "      })();\n",
              "    </script>\n",
              "  </div>\n",
              "\n",
              "    </div>\n",
              "  </div>\n"
            ],
            "application/vnd.google.colaboratory.intrinsic+json": {
              "type": "dataframe",
              "variable_name": "internal",
              "summary": "{\n  \"name\": \"internal\",\n  \"rows\": 442,\n  \"fields\": [\n    {\n      \"column\": \"PD_CD\",\n      \"properties\": {\n        \"dtype\": \"category\",\n        \"num_unique_values\": 442,\n        \"samples\": [\n          631,\n          478,\n          258\n        ],\n        \"semantic_type\": \"\",\n        \"description\": \"\"\n      }\n    },\n    {\n      \"column\": \"PD_DESC\",\n      \"properties\": {\n        \"dtype\": \"string\",\n        \"num_unique_values\": 432,\n        \"samples\": [\n          \"INTOXICATED DRIVING,ALCOHOL\",\n          \"ARSON 2,3,4\",\n          \"LARCENY,GRAND FROM COIN MACHIN\"\n        ],\n        \"semantic_type\": \"\",\n        \"description\": \"\"\n      }\n    }\n  ]\n}"
            }
          },
          "metadata": {},
          "execution_count": 52
        }
      ]
    },
    {
      "cell_type": "code",
      "metadata": {
        "id": "litXEQ4gHJbc",
        "colab": {
          "base_uri": "https://localhost:8080/"
        },
        "outputId": "ec189b4d-f663-444e-9261-837f6c36d19e"
      },
      "source": [
        "df.PD_CD.isnull().sum()"
      ],
      "execution_count": 53,
      "outputs": [
        {
          "output_type": "execute_result",
          "data": {
            "text/plain": [
              "7593"
            ]
          },
          "metadata": {},
          "execution_count": 53
        }
      ]
    },
    {
      "cell_type": "code",
      "metadata": {
        "id": "EoAB8vswHC_a"
      },
      "source": [
        "# df = df[~df.PD_CD.isnull()]"
      ],
      "execution_count": null,
      "outputs": []
    },
    {
      "cell_type": "code",
      "metadata": {
        "id": "9kwshtMxHAcL"
      },
      "source": [
        "df.PD_CD = pd.Categorical(df.PD_CD)"
      ],
      "execution_count": 54,
      "outputs": []
    },
    {
      "cell_type": "code",
      "metadata": {
        "id": "3H3ZPPzwFYh9"
      },
      "source": [
        "df = df.drop('PD_DESC', axis='columns')"
      ],
      "execution_count": 55,
      "outputs": []
    },
    {
      "cell_type": "code",
      "metadata": {
        "id": "dv3xfTcjF8Qz"
      },
      "source": [],
      "execution_count": null,
      "outputs": []
    },
    {
      "cell_type": "markdown",
      "metadata": {
        "id": "mCyBuyV2dALc"
      },
      "source": [
        "### 11  CRM_ATPT_CPTD_CD   object"
      ]
    },
    {
      "cell_type": "code",
      "metadata": {
        "id": "3qf5FO6XFaPn",
        "colab": {
          "base_uri": "https://localhost:8080/"
        },
        "outputId": "3515772e-5ed3-46cd-c300-09817a7352d0"
      },
      "source": [
        "df.CRM_ATPT_CPTD_CD.value_counts()"
      ],
      "execution_count": 56,
      "outputs": [
        {
          "output_type": "execute_result",
          "data": {
            "text/plain": [
              "CRM_ATPT_CPTD_CD\n",
              "COMPLETED    8763338\n",
              "ATTEMPTED     148422\n",
              "Name: count, dtype: int64"
            ]
          },
          "metadata": {},
          "execution_count": 56
        }
      ]
    },
    {
      "cell_type": "code",
      "metadata": {
        "id": "wf1WmbD2FmaB"
      },
      "source": [
        "df.CRM_ATPT_CPTD_CD = pd.Categorical(df.CRM_ATPT_CPTD_CD)"
      ],
      "execution_count": 57,
      "outputs": []
    },
    {
      "cell_type": "code",
      "metadata": {
        "id": "HMCKHHaSFtyF",
        "colab": {
          "base_uri": "https://localhost:8080/"
        },
        "outputId": "6bcc3f21-056f-4546-8269-79479afe641c"
      },
      "source": [
        "df.CRM_ATPT_CPTD_CD.isnull().sum()"
      ],
      "execution_count": 58,
      "outputs": [
        {
          "output_type": "execute_result",
          "data": {
            "text/plain": [
              "168"
            ]
          },
          "metadata": {},
          "execution_count": 58
        }
      ]
    },
    {
      "cell_type": "code",
      "metadata": {
        "id": "F8AKN07HF06g"
      },
      "source": [
        "df = df [ ~df.CRM_ATPT_CPTD_CD.isnull() ]\n"
      ],
      "execution_count": 59,
      "outputs": []
    },
    {
      "cell_type": "markdown",
      "metadata": {
        "id": "dxaDxHN5dDLH"
      },
      "source": [
        "### 12  LAW_CAT_CD         object"
      ]
    },
    {
      "cell_type": "code",
      "metadata": {
        "id": "kmXlgdSeGBMm"
      },
      "source": [],
      "execution_count": null,
      "outputs": []
    },
    {
      "cell_type": "code",
      "metadata": {
        "id": "SNddZBFdGEmG",
        "colab": {
          "base_uri": "https://localhost:8080/"
        },
        "outputId": "868a7f3a-7097-4423-fe67-b414265348f2"
      },
      "source": [
        "df.LAW_CAT_CD.value_counts()"
      ],
      "execution_count": 60,
      "outputs": [
        {
          "output_type": "execute_result",
          "data": {
            "text/plain": [
              "LAW_CAT_CD\n",
              "MISDEMEANOR    4915109\n",
              "FELONY         2791112\n",
              "VIOLATION      1205539\n",
              "Name: count, dtype: int64"
            ]
          },
          "metadata": {},
          "execution_count": 60
        }
      ]
    },
    {
      "cell_type": "code",
      "metadata": {
        "id": "ZGSY4h6T5mm7"
      },
      "source": [
        "df.LAW_CAT_CD = pd.Categorical(df.LAW_CAT_CD)"
      ],
      "execution_count": 61,
      "outputs": []
    },
    {
      "cell_type": "markdown",
      "metadata": {
        "id": "ktDmEg1cdE_v"
      },
      "source": [
        "### 16  JURIS_DESC         object\n",
        "### 17  JURISDICTION_CODE  object"
      ]
    },
    {
      "cell_type": "code",
      "metadata": {
        "id": "Neev5NjGH4BN",
        "colab": {
          "base_uri": "https://localhost:8080/"
        },
        "outputId": "55c788f2-43ab-4528-9385-7475329a4986"
      },
      "source": [
        "df.JURISDICTION_CODE.isnull().sum()"
      ],
      "execution_count": 62,
      "outputs": [
        {
          "output_type": "execute_result",
          "data": {
            "text/plain": [
              "0"
            ]
          },
          "metadata": {},
          "execution_count": 62
        }
      ]
    },
    {
      "cell_type": "code",
      "metadata": {
        "id": "IgUqAQzUHWD3",
        "colab": {
          "base_uri": "https://localhost:8080/",
          "height": 927
        },
        "outputId": "2b7a856a-6d40-46ec-d6e3-0397e132f2d5"
      },
      "source": [
        "# df = df[ ~df.JURISDICTION_CODE.isnull() ]\n",
        "\n",
        "jusridiction = df[ [\"JURISDICTION_CODE\", \"JURIS_DESC\", ] ].drop_duplicates().dropna()\n",
        "jusridiction['JURISDICTION_CODE'] = pd.to_numeric(jusridiction['JURISDICTION_CODE'] )\n",
        "jusridiction['JURISDICTION_CODE'] = jusridiction['JURISDICTION_CODE'].astype(int)\n",
        "jusridiction = jusridiction.set_index(\"JURISDICTION_CODE\")\n",
        "jusridiction = jusridiction.sort_index()\n",
        "jusridiction = jusridiction.reset_index()\n",
        "jusridiction"
      ],
      "execution_count": 63,
      "outputs": [
        {
          "output_type": "execute_result",
          "data": {
            "text/plain": [
              "    JURISDICTION_CODE                           JURIS_DESC\n",
              "0                   0                     N.Y. POLICE DEPT\n",
              "1                   1                  N.Y. TRANSIT POLICE\n",
              "2                   2                  N.Y. HOUSING POLICE\n",
              "3                   3                       PORT AUTHORITY\n",
              "4                   4                  TRI-BORO BRDG TUNNL\n",
              "5                   6                   LONG ISLAND RAILRD\n",
              "6                   7                              AMTRACK\n",
              "7                   8                              CONRAIL\n",
              "8                   9                 STATN IS RAPID TRANS\n",
              "9                  11                    N.Y. STATE POLICE\n",
              "10                 12                     N.Y. STATE PARKS\n",
              "11                 13                     U.S. PARK POLICE\n",
              "12                 14                   HEALTH & HOSP CORP\n",
              "13                 15                          METRO NORTH\n",
              "14                 16                 SEA GATE POLICE DEPT\n",
              "15                 17                      MTA POLICE DEPT\n",
              "16                 51     N.Y.C. DEPT OF HOMELESS SERVICES\n",
              "17                 52             N.Y.C. DEPT OF PROBATION\n",
              "18                 69                      POLICE DEPT NYC\n",
              "19                 71             FIRE DEPT (FIRE MARSHAL)\n",
              "20                 72                  DEPT OF CORRECTIONS\n",
              "21                 73             DISTRICT ATTORNEY OFFICE\n",
              "22                 76    NYC DEPT ENVIRONMENTAL PROTECTION\n",
              "23                 79  NYS DEPT ENVIRONMENTAL CONSERVATION\n",
              "24                 85             NYS DEPT TAX AND FINANCE\n",
              "25                 87         NEW YORK CITY SHERIFF OFFICE\n",
              "26                 88                            NYC PARKS\n",
              "27                 97                                OTHER"
            ],
            "text/html": [
              "\n",
              "  <div id=\"df-ce5be814-f175-4515-9a07-907db1eae5ff\" class=\"colab-df-container\">\n",
              "    <div>\n",
              "<style scoped>\n",
              "    .dataframe tbody tr th:only-of-type {\n",
              "        vertical-align: middle;\n",
              "    }\n",
              "\n",
              "    .dataframe tbody tr th {\n",
              "        vertical-align: top;\n",
              "    }\n",
              "\n",
              "    .dataframe thead th {\n",
              "        text-align: right;\n",
              "    }\n",
              "</style>\n",
              "<table border=\"1\" class=\"dataframe\">\n",
              "  <thead>\n",
              "    <tr style=\"text-align: right;\">\n",
              "      <th></th>\n",
              "      <th>JURISDICTION_CODE</th>\n",
              "      <th>JURIS_DESC</th>\n",
              "    </tr>\n",
              "  </thead>\n",
              "  <tbody>\n",
              "    <tr>\n",
              "      <th>0</th>\n",
              "      <td>0</td>\n",
              "      <td>N.Y. POLICE DEPT</td>\n",
              "    </tr>\n",
              "    <tr>\n",
              "      <th>1</th>\n",
              "      <td>1</td>\n",
              "      <td>N.Y. TRANSIT POLICE</td>\n",
              "    </tr>\n",
              "    <tr>\n",
              "      <th>2</th>\n",
              "      <td>2</td>\n",
              "      <td>N.Y. HOUSING POLICE</td>\n",
              "    </tr>\n",
              "    <tr>\n",
              "      <th>3</th>\n",
              "      <td>3</td>\n",
              "      <td>PORT AUTHORITY</td>\n",
              "    </tr>\n",
              "    <tr>\n",
              "      <th>4</th>\n",
              "      <td>4</td>\n",
              "      <td>TRI-BORO BRDG TUNNL</td>\n",
              "    </tr>\n",
              "    <tr>\n",
              "      <th>5</th>\n",
              "      <td>6</td>\n",
              "      <td>LONG ISLAND RAILRD</td>\n",
              "    </tr>\n",
              "    <tr>\n",
              "      <th>6</th>\n",
              "      <td>7</td>\n",
              "      <td>AMTRACK</td>\n",
              "    </tr>\n",
              "    <tr>\n",
              "      <th>7</th>\n",
              "      <td>8</td>\n",
              "      <td>CONRAIL</td>\n",
              "    </tr>\n",
              "    <tr>\n",
              "      <th>8</th>\n",
              "      <td>9</td>\n",
              "      <td>STATN IS RAPID TRANS</td>\n",
              "    </tr>\n",
              "    <tr>\n",
              "      <th>9</th>\n",
              "      <td>11</td>\n",
              "      <td>N.Y. STATE POLICE</td>\n",
              "    </tr>\n",
              "    <tr>\n",
              "      <th>10</th>\n",
              "      <td>12</td>\n",
              "      <td>N.Y. STATE PARKS</td>\n",
              "    </tr>\n",
              "    <tr>\n",
              "      <th>11</th>\n",
              "      <td>13</td>\n",
              "      <td>U.S. PARK POLICE</td>\n",
              "    </tr>\n",
              "    <tr>\n",
              "      <th>12</th>\n",
              "      <td>14</td>\n",
              "      <td>HEALTH &amp; HOSP CORP</td>\n",
              "    </tr>\n",
              "    <tr>\n",
              "      <th>13</th>\n",
              "      <td>15</td>\n",
              "      <td>METRO NORTH</td>\n",
              "    </tr>\n",
              "    <tr>\n",
              "      <th>14</th>\n",
              "      <td>16</td>\n",
              "      <td>SEA GATE POLICE DEPT</td>\n",
              "    </tr>\n",
              "    <tr>\n",
              "      <th>15</th>\n",
              "      <td>17</td>\n",
              "      <td>MTA POLICE DEPT</td>\n",
              "    </tr>\n",
              "    <tr>\n",
              "      <th>16</th>\n",
              "      <td>51</td>\n",
              "      <td>N.Y.C. DEPT OF HOMELESS SERVICES</td>\n",
              "    </tr>\n",
              "    <tr>\n",
              "      <th>17</th>\n",
              "      <td>52</td>\n",
              "      <td>N.Y.C. DEPT OF PROBATION</td>\n",
              "    </tr>\n",
              "    <tr>\n",
              "      <th>18</th>\n",
              "      <td>69</td>\n",
              "      <td>POLICE DEPT NYC</td>\n",
              "    </tr>\n",
              "    <tr>\n",
              "      <th>19</th>\n",
              "      <td>71</td>\n",
              "      <td>FIRE DEPT (FIRE MARSHAL)</td>\n",
              "    </tr>\n",
              "    <tr>\n",
              "      <th>20</th>\n",
              "      <td>72</td>\n",
              "      <td>DEPT OF CORRECTIONS</td>\n",
              "    </tr>\n",
              "    <tr>\n",
              "      <th>21</th>\n",
              "      <td>73</td>\n",
              "      <td>DISTRICT ATTORNEY OFFICE</td>\n",
              "    </tr>\n",
              "    <tr>\n",
              "      <th>22</th>\n",
              "      <td>76</td>\n",
              "      <td>NYC DEPT ENVIRONMENTAL PROTECTION</td>\n",
              "    </tr>\n",
              "    <tr>\n",
              "      <th>23</th>\n",
              "      <td>79</td>\n",
              "      <td>NYS DEPT ENVIRONMENTAL CONSERVATION</td>\n",
              "    </tr>\n",
              "    <tr>\n",
              "      <th>24</th>\n",
              "      <td>85</td>\n",
              "      <td>NYS DEPT TAX AND FINANCE</td>\n",
              "    </tr>\n",
              "    <tr>\n",
              "      <th>25</th>\n",
              "      <td>87</td>\n",
              "      <td>NEW YORK CITY SHERIFF OFFICE</td>\n",
              "    </tr>\n",
              "    <tr>\n",
              "      <th>26</th>\n",
              "      <td>88</td>\n",
              "      <td>NYC PARKS</td>\n",
              "    </tr>\n",
              "    <tr>\n",
              "      <th>27</th>\n",
              "      <td>97</td>\n",
              "      <td>OTHER</td>\n",
              "    </tr>\n",
              "  </tbody>\n",
              "</table>\n",
              "</div>\n",
              "    <div class=\"colab-df-buttons\">\n",
              "\n",
              "  <div class=\"colab-df-container\">\n",
              "    <button class=\"colab-df-convert\" onclick=\"convertToInteractive('df-ce5be814-f175-4515-9a07-907db1eae5ff')\"\n",
              "            title=\"Convert this dataframe to an interactive table.\"\n",
              "            style=\"display:none;\">\n",
              "\n",
              "  <svg xmlns=\"http://www.w3.org/2000/svg\" height=\"24px\" viewBox=\"0 -960 960 960\">\n",
              "    <path d=\"M120-120v-720h720v720H120Zm60-500h600v-160H180v160Zm220 220h160v-160H400v160Zm0 220h160v-160H400v160ZM180-400h160v-160H180v160Zm440 0h160v-160H620v160ZM180-180h160v-160H180v160Zm440 0h160v-160H620v160Z\"/>\n",
              "  </svg>\n",
              "    </button>\n",
              "\n",
              "  <style>\n",
              "    .colab-df-container {\n",
              "      display:flex;\n",
              "      gap: 12px;\n",
              "    }\n",
              "\n",
              "    .colab-df-convert {\n",
              "      background-color: #E8F0FE;\n",
              "      border: none;\n",
              "      border-radius: 50%;\n",
              "      cursor: pointer;\n",
              "      display: none;\n",
              "      fill: #1967D2;\n",
              "      height: 32px;\n",
              "      padding: 0 0 0 0;\n",
              "      width: 32px;\n",
              "    }\n",
              "\n",
              "    .colab-df-convert:hover {\n",
              "      background-color: #E2EBFA;\n",
              "      box-shadow: 0px 1px 2px rgba(60, 64, 67, 0.3), 0px 1px 3px 1px rgba(60, 64, 67, 0.15);\n",
              "      fill: #174EA6;\n",
              "    }\n",
              "\n",
              "    .colab-df-buttons div {\n",
              "      margin-bottom: 4px;\n",
              "    }\n",
              "\n",
              "    [theme=dark] .colab-df-convert {\n",
              "      background-color: #3B4455;\n",
              "      fill: #D2E3FC;\n",
              "    }\n",
              "\n",
              "    [theme=dark] .colab-df-convert:hover {\n",
              "      background-color: #434B5C;\n",
              "      box-shadow: 0px 1px 3px 1px rgba(0, 0, 0, 0.15);\n",
              "      filter: drop-shadow(0px 1px 2px rgba(0, 0, 0, 0.3));\n",
              "      fill: #FFFFFF;\n",
              "    }\n",
              "  </style>\n",
              "\n",
              "    <script>\n",
              "      const buttonEl =\n",
              "        document.querySelector('#df-ce5be814-f175-4515-9a07-907db1eae5ff button.colab-df-convert');\n",
              "      buttonEl.style.display =\n",
              "        google.colab.kernel.accessAllowed ? 'block' : 'none';\n",
              "\n",
              "      async function convertToInteractive(key) {\n",
              "        const element = document.querySelector('#df-ce5be814-f175-4515-9a07-907db1eae5ff');\n",
              "        const dataTable =\n",
              "          await google.colab.kernel.invokeFunction('convertToInteractive',\n",
              "                                                    [key], {});\n",
              "        if (!dataTable) return;\n",
              "\n",
              "        const docLinkHtml = 'Like what you see? Visit the ' +\n",
              "          '<a target=\"_blank\" href=https://colab.research.google.com/notebooks/data_table.ipynb>data table notebook</a>'\n",
              "          + ' to learn more about interactive tables.';\n",
              "        element.innerHTML = '';\n",
              "        dataTable['output_type'] = 'display_data';\n",
              "        await google.colab.output.renderOutput(dataTable, element);\n",
              "        const docLink = document.createElement('div');\n",
              "        docLink.innerHTML = docLinkHtml;\n",
              "        element.appendChild(docLink);\n",
              "      }\n",
              "    </script>\n",
              "  </div>\n",
              "\n",
              "\n",
              "<div id=\"df-e8f6009f-5188-4517-a4d2-afad5b491fb6\">\n",
              "  <button class=\"colab-df-quickchart\" onclick=\"quickchart('df-e8f6009f-5188-4517-a4d2-afad5b491fb6')\"\n",
              "            title=\"Suggest charts\"\n",
              "            style=\"display:none;\">\n",
              "\n",
              "<svg xmlns=\"http://www.w3.org/2000/svg\" height=\"24px\"viewBox=\"0 0 24 24\"\n",
              "     width=\"24px\">\n",
              "    <g>\n",
              "        <path d=\"M19 3H5c-1.1 0-2 .9-2 2v14c0 1.1.9 2 2 2h14c1.1 0 2-.9 2-2V5c0-1.1-.9-2-2-2zM9 17H7v-7h2v7zm4 0h-2V7h2v10zm4 0h-2v-4h2v4z\"/>\n",
              "    </g>\n",
              "</svg>\n",
              "  </button>\n",
              "\n",
              "<style>\n",
              "  .colab-df-quickchart {\n",
              "      --bg-color: #E8F0FE;\n",
              "      --fill-color: #1967D2;\n",
              "      --hover-bg-color: #E2EBFA;\n",
              "      --hover-fill-color: #174EA6;\n",
              "      --disabled-fill-color: #AAA;\n",
              "      --disabled-bg-color: #DDD;\n",
              "  }\n",
              "\n",
              "  [theme=dark] .colab-df-quickchart {\n",
              "      --bg-color: #3B4455;\n",
              "      --fill-color: #D2E3FC;\n",
              "      --hover-bg-color: #434B5C;\n",
              "      --hover-fill-color: #FFFFFF;\n",
              "      --disabled-bg-color: #3B4455;\n",
              "      --disabled-fill-color: #666;\n",
              "  }\n",
              "\n",
              "  .colab-df-quickchart {\n",
              "    background-color: var(--bg-color);\n",
              "    border: none;\n",
              "    border-radius: 50%;\n",
              "    cursor: pointer;\n",
              "    display: none;\n",
              "    fill: var(--fill-color);\n",
              "    height: 32px;\n",
              "    padding: 0;\n",
              "    width: 32px;\n",
              "  }\n",
              "\n",
              "  .colab-df-quickchart:hover {\n",
              "    background-color: var(--hover-bg-color);\n",
              "    box-shadow: 0 1px 2px rgba(60, 64, 67, 0.3), 0 1px 3px 1px rgba(60, 64, 67, 0.15);\n",
              "    fill: var(--button-hover-fill-color);\n",
              "  }\n",
              "\n",
              "  .colab-df-quickchart-complete:disabled,\n",
              "  .colab-df-quickchart-complete:disabled:hover {\n",
              "    background-color: var(--disabled-bg-color);\n",
              "    fill: var(--disabled-fill-color);\n",
              "    box-shadow: none;\n",
              "  }\n",
              "\n",
              "  .colab-df-spinner {\n",
              "    border: 2px solid var(--fill-color);\n",
              "    border-color: transparent;\n",
              "    border-bottom-color: var(--fill-color);\n",
              "    animation:\n",
              "      spin 1s steps(1) infinite;\n",
              "  }\n",
              "\n",
              "  @keyframes spin {\n",
              "    0% {\n",
              "      border-color: transparent;\n",
              "      border-bottom-color: var(--fill-color);\n",
              "      border-left-color: var(--fill-color);\n",
              "    }\n",
              "    20% {\n",
              "      border-color: transparent;\n",
              "      border-left-color: var(--fill-color);\n",
              "      border-top-color: var(--fill-color);\n",
              "    }\n",
              "    30% {\n",
              "      border-color: transparent;\n",
              "      border-left-color: var(--fill-color);\n",
              "      border-top-color: var(--fill-color);\n",
              "      border-right-color: var(--fill-color);\n",
              "    }\n",
              "    40% {\n",
              "      border-color: transparent;\n",
              "      border-right-color: var(--fill-color);\n",
              "      border-top-color: var(--fill-color);\n",
              "    }\n",
              "    60% {\n",
              "      border-color: transparent;\n",
              "      border-right-color: var(--fill-color);\n",
              "    }\n",
              "    80% {\n",
              "      border-color: transparent;\n",
              "      border-right-color: var(--fill-color);\n",
              "      border-bottom-color: var(--fill-color);\n",
              "    }\n",
              "    90% {\n",
              "      border-color: transparent;\n",
              "      border-bottom-color: var(--fill-color);\n",
              "    }\n",
              "  }\n",
              "</style>\n",
              "\n",
              "  <script>\n",
              "    async function quickchart(key) {\n",
              "      const quickchartButtonEl =\n",
              "        document.querySelector('#' + key + ' button');\n",
              "      quickchartButtonEl.disabled = true;  // To prevent multiple clicks.\n",
              "      quickchartButtonEl.classList.add('colab-df-spinner');\n",
              "      try {\n",
              "        const charts = await google.colab.kernel.invokeFunction(\n",
              "            'suggestCharts', [key], {});\n",
              "      } catch (error) {\n",
              "        console.error('Error during call to suggestCharts:', error);\n",
              "      }\n",
              "      quickchartButtonEl.classList.remove('colab-df-spinner');\n",
              "      quickchartButtonEl.classList.add('colab-df-quickchart-complete');\n",
              "    }\n",
              "    (() => {\n",
              "      let quickchartButtonEl =\n",
              "        document.querySelector('#df-e8f6009f-5188-4517-a4d2-afad5b491fb6 button');\n",
              "      quickchartButtonEl.style.display =\n",
              "        google.colab.kernel.accessAllowed ? 'block' : 'none';\n",
              "    })();\n",
              "  </script>\n",
              "</div>\n",
              "\n",
              "  <div id=\"id_d42a56fe-4825-47dc-a074-08b2f0cc292c\">\n",
              "    <style>\n",
              "      .colab-df-generate {\n",
              "        background-color: #E8F0FE;\n",
              "        border: none;\n",
              "        border-radius: 50%;\n",
              "        cursor: pointer;\n",
              "        display: none;\n",
              "        fill: #1967D2;\n",
              "        height: 32px;\n",
              "        padding: 0 0 0 0;\n",
              "        width: 32px;\n",
              "      }\n",
              "\n",
              "      .colab-df-generate:hover {\n",
              "        background-color: #E2EBFA;\n",
              "        box-shadow: 0px 1px 2px rgba(60, 64, 67, 0.3), 0px 1px 3px 1px rgba(60, 64, 67, 0.15);\n",
              "        fill: #174EA6;\n",
              "      }\n",
              "\n",
              "      [theme=dark] .colab-df-generate {\n",
              "        background-color: #3B4455;\n",
              "        fill: #D2E3FC;\n",
              "      }\n",
              "\n",
              "      [theme=dark] .colab-df-generate:hover {\n",
              "        background-color: #434B5C;\n",
              "        box-shadow: 0px 1px 3px 1px rgba(0, 0, 0, 0.15);\n",
              "        filter: drop-shadow(0px 1px 2px rgba(0, 0, 0, 0.3));\n",
              "        fill: #FFFFFF;\n",
              "      }\n",
              "    </style>\n",
              "    <button class=\"colab-df-generate\" onclick=\"generateWithVariable('jusridiction')\"\n",
              "            title=\"Generate code using this dataframe.\"\n",
              "            style=\"display:none;\">\n",
              "\n",
              "  <svg xmlns=\"http://www.w3.org/2000/svg\" height=\"24px\"viewBox=\"0 0 24 24\"\n",
              "       width=\"24px\">\n",
              "    <path d=\"M7,19H8.4L18.45,9,17,7.55,7,17.6ZM5,21V16.75L18.45,3.32a2,2,0,0,1,2.83,0l1.4,1.43a1.91,1.91,0,0,1,.58,1.4,1.91,1.91,0,0,1-.58,1.4L9.25,21ZM18.45,9,17,7.55Zm-12,3A5.31,5.31,0,0,0,4.9,8.1,5.31,5.31,0,0,0,1,6.5,5.31,5.31,0,0,0,4.9,4.9,5.31,5.31,0,0,0,6.5,1,5.31,5.31,0,0,0,8.1,4.9,5.31,5.31,0,0,0,12,6.5,5.46,5.46,0,0,0,6.5,12Z\"/>\n",
              "  </svg>\n",
              "    </button>\n",
              "    <script>\n",
              "      (() => {\n",
              "      const buttonEl =\n",
              "        document.querySelector('#id_d42a56fe-4825-47dc-a074-08b2f0cc292c button.colab-df-generate');\n",
              "      buttonEl.style.display =\n",
              "        google.colab.kernel.accessAllowed ? 'block' : 'none';\n",
              "\n",
              "      buttonEl.onclick = () => {\n",
              "        google.colab.notebook.generateWithVariable('jusridiction');\n",
              "      }\n",
              "      })();\n",
              "    </script>\n",
              "  </div>\n",
              "\n",
              "    </div>\n",
              "  </div>\n"
            ],
            "application/vnd.google.colaboratory.intrinsic+json": {
              "type": "dataframe",
              "variable_name": "jusridiction",
              "summary": "{\n  \"name\": \"jusridiction\",\n  \"rows\": 28,\n  \"fields\": [\n    {\n      \"column\": \"JURISDICTION_CODE\",\n      \"properties\": {\n        \"dtype\": \"number\",\n        \"std\": 34,\n        \"min\": 0,\n        \"max\": 97,\n        \"num_unique_values\": 28,\n        \"samples\": [\n          11,\n          87,\n          9\n        ],\n        \"semantic_type\": \"\",\n        \"description\": \"\"\n      }\n    },\n    {\n      \"column\": \"JURIS_DESC\",\n      \"properties\": {\n        \"dtype\": \"string\",\n        \"num_unique_values\": 28,\n        \"samples\": [\n          \"N.Y. STATE POLICE\",\n          \"NEW YORK CITY SHERIFF OFFICE\",\n          \"STATN IS RAPID TRANS\"\n        ],\n        \"semantic_type\": \"\",\n        \"description\": \"\"\n      }\n    }\n  ]\n}"
            }
          },
          "metadata": {},
          "execution_count": 63
        }
      ]
    },
    {
      "cell_type": "code",
      "metadata": {
        "id": "j1LMjSO4JzqC"
      },
      "source": [
        "df.JURISDICTION_CODE = pd.Categorical(df.JURISDICTION_CODE)\n"
      ],
      "execution_count": 64,
      "outputs": []
    },
    {
      "cell_type": "code",
      "metadata": {
        "id": "7ZKEI7n2KP91"
      },
      "source": [
        "df = df.drop('JURIS_DESC', axis='columns')"
      ],
      "execution_count": 65,
      "outputs": []
    },
    {
      "cell_type": "markdown",
      "metadata": {
        "id": "lo9tm9godHgO"
      },
      "source": [
        "###  13  BORO_NM            object"
      ]
    },
    {
      "cell_type": "code",
      "metadata": {
        "id": "ENjhOe0dKmoY",
        "colab": {
          "base_uri": "https://localhost:8080/"
        },
        "outputId": "73fdbe59-5dee-4133-acfb-b75fe000b71c"
      },
      "source": [
        "df.BORO_NM.value_counts()"
      ],
      "execution_count": 66,
      "outputs": [
        {
          "output_type": "execute_result",
          "data": {
            "text/plain": [
              "BORO_NM\n",
              "BROOKLYN         2617509\n",
              "MANHATTAN        2148821\n",
              "BRONX            1928040\n",
              "QUEENS           1800014\n",
              "STATEN ISLAND     409551\n",
              "Name: count, dtype: int64"
            ]
          },
          "metadata": {},
          "execution_count": 66
        }
      ]
    },
    {
      "cell_type": "code",
      "source": [
        "# df.BORO_NM.replace(to_replace = '(null)', value=np.nan, inplace = True)"
      ],
      "metadata": {
        "id": "5xj4Iz6nO2VS"
      },
      "execution_count": null,
      "outputs": []
    },
    {
      "cell_type": "code",
      "metadata": {
        "id": "1k5gkaPcKyc3",
        "colab": {
          "base_uri": "https://localhost:8080/"
        },
        "outputId": "b58d60d8-342a-424e-efc6-4a6d968ac627"
      },
      "source": [
        "df.BORO_NM.isnull().sum()"
      ],
      "execution_count": 67,
      "outputs": [
        {
          "output_type": "execute_result",
          "data": {
            "text/plain": [
              "7825"
            ]
          },
          "metadata": {},
          "execution_count": 67
        }
      ]
    },
    {
      "cell_type": "code",
      "metadata": {
        "id": "QycD04zYKsYv"
      },
      "source": [
        "df = df[~df.BORO_NM.isnull()]"
      ],
      "execution_count": 68,
      "outputs": []
    },
    {
      "cell_type": "code",
      "metadata": {
        "id": "BOy4IDT-Kmqx"
      },
      "source": [
        "df.BORO_NM = pd.Categorical(df.BORO_NM)"
      ],
      "execution_count": 69,
      "outputs": []
    },
    {
      "cell_type": "markdown",
      "metadata": {
        "id": "dYetoWeydJBI"
      },
      "source": [
        "### 23  SUSP_AGE_GROUP     object\n",
        "### 32  VIC_AGE_GROUP      object"
      ]
    },
    {
      "cell_type": "code",
      "metadata": {
        "id": "uB6ZXLgxN9mv"
      },
      "source": [
        "# Both columns have a lot of noisy entries. We keep only the dominant groups, and also define an order\n",
        "df.SUSP_AGE_GROUP = pd.Categorical(df.SUSP_AGE_GROUP, ordered=True, categories=['<18', '18-24',  '25-44', '45-64', '65+'])\n",
        "df.VIC_AGE_GROUP = pd.Categorical(df.VIC_AGE_GROUP, ordered=True, categories=['<18', '18-24',  '25-44', '45-64', '65+'])"
      ],
      "execution_count": 70,
      "outputs": []
    },
    {
      "cell_type": "markdown",
      "metadata": {
        "id": "dzbRUBNidLui"
      },
      "source": [
        "\n",
        "### 24  SUSP_RACE          object\n",
        "### 25  SUSP_SEX           object\n",
        "\n",
        "### 33  VIC_RACE           object\n",
        "### 34  VIC_SEX            object"
      ]
    },
    {
      "cell_type": "code",
      "metadata": {
        "id": "AbvNhUSHLWyX",
        "colab": {
          "base_uri": "https://localhost:8080/"
        },
        "outputId": "bc3ae1ce-0cd2-403d-8ad6-e981efc0bc0b"
      },
      "source": [
        "df.VIC_SEX.isnull().sum()"
      ],
      "execution_count": 71,
      "outputs": [
        {
          "output_type": "execute_result",
          "data": {
            "text/plain": [
              "305"
            ]
          },
          "metadata": {},
          "execution_count": 71
        }
      ]
    },
    {
      "cell_type": "code",
      "metadata": {
        "id": "90z-XtBmL7Y_",
        "colab": {
          "base_uri": "https://localhost:8080/"
        },
        "outputId": "9dfa2ea4-80ca-4410-b243-d0214e4f8c9f"
      },
      "source": [
        "df.VIC_SEX.value_counts()"
      ],
      "execution_count": 72,
      "outputs": [
        {
          "output_type": "execute_result",
          "data": {
            "text/plain": [
              "VIC_SEX\n",
              "F    3480495\n",
              "M    2966705\n",
              "E    1291412\n",
              "D    1158952\n",
              "L       6062\n",
              "U          4\n",
              "Name: count, dtype: int64"
            ]
          },
          "metadata": {},
          "execution_count": 72
        }
      ]
    },
    {
      "cell_type": "code",
      "metadata": {
        "id": "f90mE8bAMCbq"
      },
      "source": [
        "df = df[~df.VIC_SEX.isnull()]\n",
        "\n",
        "df.VIC_SEX.replace(to_replace = 'U', value=np.nan, inplace = True)"
      ],
      "execution_count": 73,
      "outputs": []
    },
    {
      "cell_type": "code",
      "metadata": {
        "id": "A6-wR3QDLW1k",
        "colab": {
          "base_uri": "https://localhost:8080/"
        },
        "outputId": "bca1494b-6a0e-419f-cdc2-b426c116f501"
      },
      "source": [
        "df.VIC_RACE.isnull().sum()"
      ],
      "execution_count": 74,
      "outputs": [
        {
          "output_type": "execute_result",
          "data": {
            "text/plain": [
              "265"
            ]
          },
          "metadata": {},
          "execution_count": 74
        }
      ]
    },
    {
      "cell_type": "code",
      "metadata": {
        "id": "646VVWqpLv3m",
        "colab": {
          "base_uri": "https://localhost:8080/"
        },
        "outputId": "e740364d-50be-4583-c2d9-e481574ecedf"
      },
      "source": [
        "df.VIC_RACE.value_counts()"
      ],
      "execution_count": 75,
      "outputs": [
        {
          "output_type": "execute_result",
          "data": {
            "text/plain": [
              "VIC_RACE\n",
              "UNKNOWN                           2891284\n",
              "BLACK                             2151130\n",
              "WHITE                             1489355\n",
              "WHITE HISPANIC                    1464952\n",
              "ASIAN / PACIFIC ISLANDER           550638\n",
              "BLACK HISPANIC                     316542\n",
              "AMERICAN INDIAN/ALASKAN NATIVE      39433\n",
              "OTHER                                  31\n",
              "Name: count, dtype: int64"
            ]
          },
          "metadata": {},
          "execution_count": 75
        }
      ]
    },
    {
      "cell_type": "code",
      "metadata": {
        "id": "U-JOiwNLNnwA"
      },
      "source": [
        "df.VIC_RACE.replace(to_replace = 'OTHER', value='UNKNOWN', inplace = True)"
      ],
      "execution_count": 76,
      "outputs": []
    },
    {
      "cell_type": "code",
      "source": [
        "df.VIC_RACE.replace(to_replace = np.nan, value='UNKNOWN', inplace = True)"
      ],
      "metadata": {
        "id": "R-3Q-aLOMPX8"
      },
      "execution_count": 77,
      "outputs": []
    },
    {
      "cell_type": "code",
      "metadata": {
        "id": "CIc279r6LzH2"
      },
      "source": [
        "# df = df[~df.VIC_RACE.isnull()]"
      ],
      "execution_count": null,
      "outputs": []
    },
    {
      "cell_type": "code",
      "metadata": {
        "id": "sXZiVydvLW7B",
        "colab": {
          "base_uri": "https://localhost:8080/"
        },
        "outputId": "79f543bc-8c8e-4f3d-d396-0a77f1278a32"
      },
      "source": [
        "df.SUSP_SEX.value_counts()"
      ],
      "execution_count": 78,
      "outputs": [
        {
          "output_type": "execute_result",
          "data": {
            "text/plain": [
              "SUSP_SEX\n",
              "M    3136392\n",
              "U     996041\n",
              "F     958789\n",
              "Name: count, dtype: int64"
            ]
          },
          "metadata": {},
          "execution_count": 78
        }
      ]
    },
    {
      "cell_type": "code",
      "metadata": {
        "id": "uqOaUJwGOY8A"
      },
      "source": [
        "# U is unknown, same is NULL.\n",
        "df.SUSP_SEX.replace(to_replace = 'U', value=np.nan, inplace = True)\n",
        "df.SUSP_SEX.replace(to_replace = '(null)', value=np.nan, inplace = True)"
      ],
      "execution_count": 79,
      "outputs": []
    },
    {
      "cell_type": "code",
      "metadata": {
        "id": "GT09OkMvLf0s",
        "colab": {
          "base_uri": "https://localhost:8080/"
        },
        "outputId": "808a36cd-9224-4c31-919b-6224838146f8"
      },
      "source": [
        "df.SUSP_RACE.value_counts()"
      ],
      "execution_count": 80,
      "outputs": [
        {
          "output_type": "execute_result",
          "data": {
            "text/plain": [
              "SUSP_RACE\n",
              "BLACK                             1923565\n",
              "UNKNOWN                           1426964\n",
              "WHITE HISPANIC                     874931\n",
              "WHITE                              541187\n",
              "BLACK HISPANIC                     270534\n",
              "ASIAN / PACIFIC ISLANDER           172272\n",
              "AMERICAN INDIAN/ALASKAN NATIVE      14752\n",
              "OTHER                                  11\n",
              "Name: count, dtype: int64"
            ]
          },
          "metadata": {},
          "execution_count": 80
        }
      ]
    },
    {
      "cell_type": "code",
      "metadata": {
        "id": "uNrpuX5cO2jD"
      },
      "source": [
        "# Very small amount of OTHER values\n",
        "df.SUSP_RACE.replace(to_replace = 'OTHER', value='UNKNOWN', inplace = True)\n",
        "df.SUSP_RACE.replace(to_replace = np.nan, value='UNKNOWN', inplace = True)\n"
      ],
      "execution_count": 81,
      "outputs": []
    },
    {
      "cell_type": "code",
      "metadata": {
        "id": "cnsudHdiminz"
      },
      "source": [
        "df.SUSP_RACE = pd.Categorical(df.SUSP_RACE)\n",
        "df.SUSP_SEX = pd.Categorical(df.SUSP_SEX)\n",
        "df.VIC_RACE = pd.Categorical(df.VIC_RACE)\n",
        "df.VIC_SEX = pd.Categorical(df.VIC_SEX)"
      ],
      "execution_count": 82,
      "outputs": []
    },
    {
      "cell_type": "code",
      "metadata": {
        "id": "QHtE9IhgmM4r",
        "colab": {
          "base_uri": "https://localhost:8080/"
        },
        "outputId": "d34db3c8-b8f3-4514-b3c0-c6950a803e6d"
      },
      "source": [
        "df.dtypes"
      ],
      "execution_count": 83,
      "outputs": [
        {
          "output_type": "execute_result",
          "data": {
            "text/plain": [
              "CMPLNT_NUM                    int32\n",
              "ADDR_PCT_CD                category\n",
              "RPT_DT               datetime64[ns]\n",
              "KY_CD                      category\n",
              "PD_CD                      category\n",
              "CRM_ATPT_CPTD_CD           category\n",
              "LAW_CAT_CD                 category\n",
              "BORO_NM                    category\n",
              "LOC_OF_OCCUR_DESC            object\n",
              "PREM_TYP_DESC                object\n",
              "JURISDICTION_CODE          category\n",
              "PARKS_NM                     object\n",
              "HADEVELOPT                   object\n",
              "HOUSING_PSA                  object\n",
              "SUSP_AGE_GROUP             category\n",
              "SUSP_RACE                  category\n",
              "SUSP_SEX                   category\n",
              "TRANSIT_DISTRICT             object\n",
              "Latitude                     object\n",
              "Longitude                    object\n",
              "PATROL_BORO                  object\n",
              "STATION_NAME                 object\n",
              "VIC_AGE_GROUP              category\n",
              "VIC_RACE                   category\n",
              "VIC_SEX                    category\n",
              "CMPLNT_FR            datetime64[ns]\n",
              "CMPLNT_TO            datetime64[ns]\n",
              "dtype: object"
            ]
          },
          "metadata": {},
          "execution_count": 83
        }
      ]
    },
    {
      "cell_type": "code",
      "metadata": {
        "id": "oefs7ULfLq_3"
      },
      "source": [],
      "execution_count": null,
      "outputs": []
    },
    {
      "cell_type": "markdown",
      "metadata": {
        "id": "hwqg7JDimsZL"
      },
      "source": [
        "###  14  LOC_OF_OCCUR_DESC  object"
      ]
    },
    {
      "cell_type": "code",
      "metadata": {
        "id": "FjndFTaaLrCz",
        "colab": {
          "base_uri": "https://localhost:8080/"
        },
        "outputId": "90cbd7b0-09ff-49d9-da2e-9efa8cfdd10c"
      },
      "source": [
        "df.LOC_OF_OCCUR_DESC.value_counts()"
      ],
      "execution_count": 84,
      "outputs": [
        {
          "output_type": "execute_result",
          "data": {
            "text/plain": [
              "LOC_OF_OCCUR_DESC\n",
              "INSIDE         4560888\n",
              "FRONT OF       2113038\n",
              "OPPOSITE OF     225848\n",
              "REAR OF         181727\n",
              "OUTSIDE           4672\n",
              "Name: count, dtype: int64"
            ]
          },
          "metadata": {},
          "execution_count": 84
        }
      ]
    },
    {
      "cell_type": "code",
      "source": [
        "df.LOC_OF_OCCUR_DESC.replace(to_replace = '(null)', value=np.nan, inplace = True)"
      ],
      "metadata": {
        "id": "8-k5I9HtMvKI"
      },
      "execution_count": 85,
      "outputs": []
    },
    {
      "cell_type": "code",
      "metadata": {
        "id": "uwyM4dbHUNZ4",
        "colab": {
          "base_uri": "https://localhost:8080/"
        },
        "outputId": "e300c413-439a-417b-e9f9-2ccf41c332a5"
      },
      "source": [
        "df.LOC_OF_OCCUR_DESC.isnull().sum()"
      ],
      "execution_count": 86,
      "outputs": [
        {
          "output_type": "execute_result",
          "data": {
            "text/plain": [
              "1817457"
            ]
          },
          "metadata": {},
          "execution_count": 86
        }
      ]
    },
    {
      "cell_type": "code",
      "metadata": {
        "id": "BYD6exvDURk0"
      },
      "source": [
        "df.LOC_OF_OCCUR_DESC = pd.Categorical(df.LOC_OF_OCCUR_DESC)"
      ],
      "execution_count": 87,
      "outputs": []
    },
    {
      "cell_type": "markdown",
      "metadata": {
        "id": "aXmyNo52mz3j"
      },
      "source": [
        "### Latitude                     object\n",
        "### Longitude                    object"
      ]
    },
    {
      "cell_type": "code",
      "source": [
        "# !sudo apt-get update\n",
        "!sudo apt-get install python3-rtree\n",
        "!sudo pip3 install geopandas descartes shapely ngram # matplotlib==3.1.3"
      ],
      "metadata": {
        "colab": {
          "base_uri": "https://localhost:8080/"
        },
        "id": "ZafKlm4KCB9C",
        "outputId": "6ce78460-8511-40be-a676-49e1d8208588"
      },
      "execution_count": null,
      "outputs": [
        {
          "output_type": "stream",
          "name": "stdout",
          "text": [
            "Reading package lists... Done\n",
            "Building dependency tree... Done\n",
            "Reading state information... Done\n",
            "python3-rtree is already the newest version (0.9.7-1).\n",
            "0 upgraded, 0 newly installed, 0 to remove and 19 not upgraded.\n",
            "Requirement already satisfied: geopandas in /usr/local/lib/python3.10/dist-packages (0.13.2)\n",
            "Requirement already satisfied: descartes in /usr/local/lib/python3.10/dist-packages (1.1.0)\n",
            "Requirement already satisfied: shapely in /usr/local/lib/python3.10/dist-packages (2.0.2)\n",
            "Requirement already satisfied: ngram in /usr/local/lib/python3.10/dist-packages (4.0.3)\n",
            "Requirement already satisfied: fiona>=1.8.19 in /usr/local/lib/python3.10/dist-packages (from geopandas) (1.9.5)\n",
            "Requirement already satisfied: packaging in /usr/local/lib/python3.10/dist-packages (from geopandas) (23.2)\n",
            "Requirement already satisfied: pandas>=1.1.0 in /usr/local/lib/python3.10/dist-packages (from geopandas) (1.5.3)\n",
            "Requirement already satisfied: pyproj>=3.0.1 in /usr/local/lib/python3.10/dist-packages (from geopandas) (3.6.1)\n",
            "Requirement already satisfied: matplotlib in /usr/local/lib/python3.10/dist-packages (from descartes) (3.7.1)\n",
            "Requirement already satisfied: numpy>=1.14 in /usr/local/lib/python3.10/dist-packages (from shapely) (1.23.5)\n",
            "Requirement already satisfied: attrs>=19.2.0 in /usr/local/lib/python3.10/dist-packages (from fiona>=1.8.19->geopandas) (23.1.0)\n",
            "Requirement already satisfied: certifi in /usr/local/lib/python3.10/dist-packages (from fiona>=1.8.19->geopandas) (2023.7.22)\n",
            "Requirement already satisfied: click~=8.0 in /usr/local/lib/python3.10/dist-packages (from fiona>=1.8.19->geopandas) (8.1.7)\n",
            "Requirement already satisfied: click-plugins>=1.0 in /usr/local/lib/python3.10/dist-packages (from fiona>=1.8.19->geopandas) (1.1.1)\n",
            "Requirement already satisfied: cligj>=0.5 in /usr/local/lib/python3.10/dist-packages (from fiona>=1.8.19->geopandas) (0.7.2)\n",
            "Requirement already satisfied: six in /usr/local/lib/python3.10/dist-packages (from fiona>=1.8.19->geopandas) (1.16.0)\n",
            "Requirement already satisfied: setuptools in /usr/local/lib/python3.10/dist-packages (from fiona>=1.8.19->geopandas) (67.7.2)\n",
            "Requirement already satisfied: python-dateutil>=2.8.1 in /usr/local/lib/python3.10/dist-packages (from pandas>=1.1.0->geopandas) (2.8.2)\n",
            "Requirement already satisfied: pytz>=2020.1 in /usr/local/lib/python3.10/dist-packages (from pandas>=1.1.0->geopandas) (2023.3.post1)\n",
            "Requirement already satisfied: contourpy>=1.0.1 in /usr/local/lib/python3.10/dist-packages (from matplotlib->descartes) (1.1.1)\n",
            "Requirement already satisfied: cycler>=0.10 in /usr/local/lib/python3.10/dist-packages (from matplotlib->descartes) (0.12.1)\n",
            "Requirement already satisfied: fonttools>=4.22.0 in /usr/local/lib/python3.10/dist-packages (from matplotlib->descartes) (4.43.1)\n",
            "Requirement already satisfied: kiwisolver>=1.0.1 in /usr/local/lib/python3.10/dist-packages (from matplotlib->descartes) (1.4.5)\n",
            "Requirement already satisfied: pillow>=6.2.0 in /usr/local/lib/python3.10/dist-packages (from matplotlib->descartes) (9.4.0)\n",
            "Requirement already satisfied: pyparsing>=2.3.1 in /usr/local/lib/python3.10/dist-packages (from matplotlib->descartes) (3.1.1)\n"
          ]
        }
      ]
    },
    {
      "cell_type": "code",
      "source": [
        "import geopandas as gpd"
      ],
      "metadata": {
        "id": "90qOQIXADsB3"
      },
      "execution_count": 88,
      "outputs": []
    },
    {
      "cell_type": "code",
      "metadata": {
        "id": "U9no8KCH5mm9"
      },
      "source": [
        "df.Latitude = pd.to_numeric(df.Latitude, downcast='float')\n",
        "df.Longitude  = pd.to_numeric(df.Longitude, downcast='float')"
      ],
      "execution_count": 89,
      "outputs": []
    },
    {
      "cell_type": "code",
      "source": [
        "%%time\n",
        "gdf = gpd.GeoDataFrame(df, geometry=gpd.points_from_xy(df.Longitude, df.Latitude))"
      ],
      "metadata": {
        "colab": {
          "base_uri": "https://localhost:8080/"
        },
        "id": "7VohK2IPCKI5",
        "outputId": "3be0f64b-c612-4498-c80a-fddb84fe8e1c"
      },
      "execution_count": 90,
      "outputs": [
        {
          "output_type": "stream",
          "name": "stdout",
          "text": [
            "CPU times: user 10.2 s, sys: 1.96 s, total: 12.2 s\n",
            "Wall time: 12 s\n"
          ]
        }
      ]
    },
    {
      "cell_type": "code",
      "source": [
        "shapefile_url = 'https://data.cityofnewyork.us/api/geospatial/cpf4-rkhq?method=export&format=Shapefile'\n",
        "df_nyc = gpd.GeoDataFrame.from_file(shapefile_url)"
      ],
      "metadata": {
        "id": "IpqfpFphCOoz"
      },
      "execution_count": 91,
      "outputs": []
    },
    {
      "cell_type": "code",
      "source": [
        "!mkdir -p maps\n",
        "!curl -s https://s-media.nyc.gov/agencies/dcp/assets/files/zip/data-tools/bytes/nynta2010_23a.zip  -o maps/nynta2010_23a.zip\n",
        "!cd maps && unzip -o nynta2010_23a.zip\n",
        "shapefile = f\"maps/nynta2010_23a/nynta2010.shp\"\n",
        "df_nyc = gpd.GeoDataFrame.from_file(shapefile)\n",
        "df_nyc = df_nyc.to_crs(4326)"
      ],
      "metadata": {
        "colab": {
          "base_uri": "https://localhost:8080/"
        },
        "id": "wCtzCuvZNX-z",
        "outputId": "07a89b74-bf2f-467e-dcff-48070f4236ba"
      },
      "execution_count": 92,
      "outputs": [
        {
          "output_type": "stream",
          "name": "stdout",
          "text": [
            "Archive:  nynta2010_23a.zip\n",
            "  inflating: nynta2010_23a/nynta2010.shp  \n",
            "  inflating: nynta2010_23a/nynta2010.dbf  \n",
            "  inflating: nynta2010_23a/nynta2010.shx  \n",
            "  inflating: nynta2010_23a/nynta2010.prj  \n",
            "  inflating: nynta2010_23a/nynta2010.shp.xml  \n"
          ]
        }
      ]
    },
    {
      "cell_type": "code",
      "source": [
        "df_nyc"
      ],
      "metadata": {
        "colab": {
          "base_uri": "https://localhost:8080/",
          "height": 597
        },
        "id": "OWAxQ_WtNB65",
        "outputId": "2c53049d-bb41-4e53-b71b-5885ea9e093c"
      },
      "execution_count": 93,
      "outputs": [
        {
          "output_type": "execute_result",
          "data": {
            "text/plain": [
              "     BoroCode       BoroName CountyFIPS NTACode  \\\n",
              "0           4         Queens        081    QN08   \n",
              "1           2          Bronx        005    BX28   \n",
              "2           4         Queens        081    QN55   \n",
              "3           3       Brooklyn        047    BK40   \n",
              "4           3       Brooklyn        047    BK50   \n",
              "..        ...            ...        ...     ...   \n",
              "190         2          Bronx        005    BX34   \n",
              "191         2          Bronx        005    BX39   \n",
              "192         2          Bronx        005    BX63   \n",
              "193         5  Staten Island        085    SI22   \n",
              "194         5  Staten Island        085    SI35   \n",
              "\n",
              "                                       NTAName    Shape_Leng    Shape_Area  \\\n",
              "0                                   St. Albans  45401.316803  7.741275e+07   \n",
              "1                        Van Cortlandt Village  21945.719299  2.566612e+07   \n",
              "2                             South Ozone Park  36708.169305  8.246139e+07   \n",
              "3                              Windsor Terrace  19033.672066  1.404167e+07   \n",
              "4                                     Canarsie  43703.609666  8.208968e+07   \n",
              "..                                         ...           ...           ...   \n",
              "190             Melrose South-Mott Haven North  19589.196431  1.727176e+07   \n",
              "191                     Mott Haven-Port Morris  35604.790810  4.189861e+07   \n",
              "192                             West Concourse  28571.879354  1.936642e+07   \n",
              "193  West New Brighton-New Brighton-St. George  66052.593065  5.602857e+07   \n",
              "194                   New Brighton-Silver Lake  30321.267417  4.713631e+07   \n",
              "\n",
              "                                              geometry  \n",
              "0    POLYGON ((-73.75205 40.70523, -73.75174 40.704...  \n",
              "1    POLYGON ((-73.88705 40.88435, -73.88705 40.884...  \n",
              "2    POLYGON ((-73.80577 40.68293, -73.80552 40.682...  \n",
              "3    POLYGON ((-73.98017 40.66115, -73.98021 40.661...  \n",
              "4    MULTIPOLYGON (((-73.88834 40.64671, -73.88835 ...  \n",
              "..                                                 ...  \n",
              "190  POLYGON ((-73.90129 40.82048, -73.90160 40.819...  \n",
              "191  MULTIPOLYGON (((-73.89681 40.79581, -73.89694 ...  \n",
              "192  POLYGON ((-73.91192 40.84326, -73.91195 40.843...  \n",
              "193  POLYGON ((-74.07258 40.63794, -74.07330 40.637...  \n",
              "194  POLYGON ((-74.08373 40.63574, -74.08395 40.635...  \n",
              "\n",
              "[195 rows x 8 columns]"
            ],
            "text/html": [
              "\n",
              "  <div id=\"df-bd9a53e0-4bd5-4c17-910a-7b5de477131a\" class=\"colab-df-container\">\n",
              "    <div>\n",
              "<style scoped>\n",
              "    .dataframe tbody tr th:only-of-type {\n",
              "        vertical-align: middle;\n",
              "    }\n",
              "\n",
              "    .dataframe tbody tr th {\n",
              "        vertical-align: top;\n",
              "    }\n",
              "\n",
              "    .dataframe thead th {\n",
              "        text-align: right;\n",
              "    }\n",
              "</style>\n",
              "<table border=\"1\" class=\"dataframe\">\n",
              "  <thead>\n",
              "    <tr style=\"text-align: right;\">\n",
              "      <th></th>\n",
              "      <th>BoroCode</th>\n",
              "      <th>BoroName</th>\n",
              "      <th>CountyFIPS</th>\n",
              "      <th>NTACode</th>\n",
              "      <th>NTAName</th>\n",
              "      <th>Shape_Leng</th>\n",
              "      <th>Shape_Area</th>\n",
              "      <th>geometry</th>\n",
              "    </tr>\n",
              "  </thead>\n",
              "  <tbody>\n",
              "    <tr>\n",
              "      <th>0</th>\n",
              "      <td>4</td>\n",
              "      <td>Queens</td>\n",
              "      <td>081</td>\n",
              "      <td>QN08</td>\n",
              "      <td>St. Albans</td>\n",
              "      <td>45401.316803</td>\n",
              "      <td>7.741275e+07</td>\n",
              "      <td>POLYGON ((-73.75205 40.70523, -73.75174 40.704...</td>\n",
              "    </tr>\n",
              "    <tr>\n",
              "      <th>1</th>\n",
              "      <td>2</td>\n",
              "      <td>Bronx</td>\n",
              "      <td>005</td>\n",
              "      <td>BX28</td>\n",
              "      <td>Van Cortlandt Village</td>\n",
              "      <td>21945.719299</td>\n",
              "      <td>2.566612e+07</td>\n",
              "      <td>POLYGON ((-73.88705 40.88435, -73.88705 40.884...</td>\n",
              "    </tr>\n",
              "    <tr>\n",
              "      <th>2</th>\n",
              "      <td>4</td>\n",
              "      <td>Queens</td>\n",
              "      <td>081</td>\n",
              "      <td>QN55</td>\n",
              "      <td>South Ozone Park</td>\n",
              "      <td>36708.169305</td>\n",
              "      <td>8.246139e+07</td>\n",
              "      <td>POLYGON ((-73.80577 40.68293, -73.80552 40.682...</td>\n",
              "    </tr>\n",
              "    <tr>\n",
              "      <th>3</th>\n",
              "      <td>3</td>\n",
              "      <td>Brooklyn</td>\n",
              "      <td>047</td>\n",
              "      <td>BK40</td>\n",
              "      <td>Windsor Terrace</td>\n",
              "      <td>19033.672066</td>\n",
              "      <td>1.404167e+07</td>\n",
              "      <td>POLYGON ((-73.98017 40.66115, -73.98021 40.661...</td>\n",
              "    </tr>\n",
              "    <tr>\n",
              "      <th>4</th>\n",
              "      <td>3</td>\n",
              "      <td>Brooklyn</td>\n",
              "      <td>047</td>\n",
              "      <td>BK50</td>\n",
              "      <td>Canarsie</td>\n",
              "      <td>43703.609666</td>\n",
              "      <td>8.208968e+07</td>\n",
              "      <td>MULTIPOLYGON (((-73.88834 40.64671, -73.88835 ...</td>\n",
              "    </tr>\n",
              "    <tr>\n",
              "      <th>...</th>\n",
              "      <td>...</td>\n",
              "      <td>...</td>\n",
              "      <td>...</td>\n",
              "      <td>...</td>\n",
              "      <td>...</td>\n",
              "      <td>...</td>\n",
              "      <td>...</td>\n",
              "      <td>...</td>\n",
              "    </tr>\n",
              "    <tr>\n",
              "      <th>190</th>\n",
              "      <td>2</td>\n",
              "      <td>Bronx</td>\n",
              "      <td>005</td>\n",
              "      <td>BX34</td>\n",
              "      <td>Melrose South-Mott Haven North</td>\n",
              "      <td>19589.196431</td>\n",
              "      <td>1.727176e+07</td>\n",
              "      <td>POLYGON ((-73.90129 40.82048, -73.90160 40.819...</td>\n",
              "    </tr>\n",
              "    <tr>\n",
              "      <th>191</th>\n",
              "      <td>2</td>\n",
              "      <td>Bronx</td>\n",
              "      <td>005</td>\n",
              "      <td>BX39</td>\n",
              "      <td>Mott Haven-Port Morris</td>\n",
              "      <td>35604.790810</td>\n",
              "      <td>4.189861e+07</td>\n",
              "      <td>MULTIPOLYGON (((-73.89681 40.79581, -73.89694 ...</td>\n",
              "    </tr>\n",
              "    <tr>\n",
              "      <th>192</th>\n",
              "      <td>2</td>\n",
              "      <td>Bronx</td>\n",
              "      <td>005</td>\n",
              "      <td>BX63</td>\n",
              "      <td>West Concourse</td>\n",
              "      <td>28571.879354</td>\n",
              "      <td>1.936642e+07</td>\n",
              "      <td>POLYGON ((-73.91192 40.84326, -73.91195 40.843...</td>\n",
              "    </tr>\n",
              "    <tr>\n",
              "      <th>193</th>\n",
              "      <td>5</td>\n",
              "      <td>Staten Island</td>\n",
              "      <td>085</td>\n",
              "      <td>SI22</td>\n",
              "      <td>West New Brighton-New Brighton-St. George</td>\n",
              "      <td>66052.593065</td>\n",
              "      <td>5.602857e+07</td>\n",
              "      <td>POLYGON ((-74.07258 40.63794, -74.07330 40.637...</td>\n",
              "    </tr>\n",
              "    <tr>\n",
              "      <th>194</th>\n",
              "      <td>5</td>\n",
              "      <td>Staten Island</td>\n",
              "      <td>085</td>\n",
              "      <td>SI35</td>\n",
              "      <td>New Brighton-Silver Lake</td>\n",
              "      <td>30321.267417</td>\n",
              "      <td>4.713631e+07</td>\n",
              "      <td>POLYGON ((-74.08373 40.63574, -74.08395 40.635...</td>\n",
              "    </tr>\n",
              "  </tbody>\n",
              "</table>\n",
              "<p>195 rows × 8 columns</p>\n",
              "</div>\n",
              "    <div class=\"colab-df-buttons\">\n",
              "\n",
              "  <div class=\"colab-df-container\">\n",
              "    <button class=\"colab-df-convert\" onclick=\"convertToInteractive('df-bd9a53e0-4bd5-4c17-910a-7b5de477131a')\"\n",
              "            title=\"Convert this dataframe to an interactive table.\"\n",
              "            style=\"display:none;\">\n",
              "\n",
              "  <svg xmlns=\"http://www.w3.org/2000/svg\" height=\"24px\" viewBox=\"0 -960 960 960\">\n",
              "    <path d=\"M120-120v-720h720v720H120Zm60-500h600v-160H180v160Zm220 220h160v-160H400v160Zm0 220h160v-160H400v160ZM180-400h160v-160H180v160Zm440 0h160v-160H620v160ZM180-180h160v-160H180v160Zm440 0h160v-160H620v160Z\"/>\n",
              "  </svg>\n",
              "    </button>\n",
              "\n",
              "  <style>\n",
              "    .colab-df-container {\n",
              "      display:flex;\n",
              "      gap: 12px;\n",
              "    }\n",
              "\n",
              "    .colab-df-convert {\n",
              "      background-color: #E8F0FE;\n",
              "      border: none;\n",
              "      border-radius: 50%;\n",
              "      cursor: pointer;\n",
              "      display: none;\n",
              "      fill: #1967D2;\n",
              "      height: 32px;\n",
              "      padding: 0 0 0 0;\n",
              "      width: 32px;\n",
              "    }\n",
              "\n",
              "    .colab-df-convert:hover {\n",
              "      background-color: #E2EBFA;\n",
              "      box-shadow: 0px 1px 2px rgba(60, 64, 67, 0.3), 0px 1px 3px 1px rgba(60, 64, 67, 0.15);\n",
              "      fill: #174EA6;\n",
              "    }\n",
              "\n",
              "    .colab-df-buttons div {\n",
              "      margin-bottom: 4px;\n",
              "    }\n",
              "\n",
              "    [theme=dark] .colab-df-convert {\n",
              "      background-color: #3B4455;\n",
              "      fill: #D2E3FC;\n",
              "    }\n",
              "\n",
              "    [theme=dark] .colab-df-convert:hover {\n",
              "      background-color: #434B5C;\n",
              "      box-shadow: 0px 1px 3px 1px rgba(0, 0, 0, 0.15);\n",
              "      filter: drop-shadow(0px 1px 2px rgba(0, 0, 0, 0.3));\n",
              "      fill: #FFFFFF;\n",
              "    }\n",
              "  </style>\n",
              "\n",
              "    <script>\n",
              "      const buttonEl =\n",
              "        document.querySelector('#df-bd9a53e0-4bd5-4c17-910a-7b5de477131a button.colab-df-convert');\n",
              "      buttonEl.style.display =\n",
              "        google.colab.kernel.accessAllowed ? 'block' : 'none';\n",
              "\n",
              "      async function convertToInteractive(key) {\n",
              "        const element = document.querySelector('#df-bd9a53e0-4bd5-4c17-910a-7b5de477131a');\n",
              "        const dataTable =\n",
              "          await google.colab.kernel.invokeFunction('convertToInteractive',\n",
              "                                                    [key], {});\n",
              "        if (!dataTable) return;\n",
              "\n",
              "        const docLinkHtml = 'Like what you see? Visit the ' +\n",
              "          '<a target=\"_blank\" href=https://colab.research.google.com/notebooks/data_table.ipynb>data table notebook</a>'\n",
              "          + ' to learn more about interactive tables.';\n",
              "        element.innerHTML = '';\n",
              "        dataTable['output_type'] = 'display_data';\n",
              "        await google.colab.output.renderOutput(dataTable, element);\n",
              "        const docLink = document.createElement('div');\n",
              "        docLink.innerHTML = docLinkHtml;\n",
              "        element.appendChild(docLink);\n",
              "      }\n",
              "    </script>\n",
              "  </div>\n",
              "\n",
              "\n",
              "<div id=\"df-a37ad973-832e-4b18-8d20-2e996cf88fae\">\n",
              "  <button class=\"colab-df-quickchart\" onclick=\"quickchart('df-a37ad973-832e-4b18-8d20-2e996cf88fae')\"\n",
              "            title=\"Suggest charts\"\n",
              "            style=\"display:none;\">\n",
              "\n",
              "<svg xmlns=\"http://www.w3.org/2000/svg\" height=\"24px\"viewBox=\"0 0 24 24\"\n",
              "     width=\"24px\">\n",
              "    <g>\n",
              "        <path d=\"M19 3H5c-1.1 0-2 .9-2 2v14c0 1.1.9 2 2 2h14c1.1 0 2-.9 2-2V5c0-1.1-.9-2-2-2zM9 17H7v-7h2v7zm4 0h-2V7h2v10zm4 0h-2v-4h2v4z\"/>\n",
              "    </g>\n",
              "</svg>\n",
              "  </button>\n",
              "\n",
              "<style>\n",
              "  .colab-df-quickchart {\n",
              "      --bg-color: #E8F0FE;\n",
              "      --fill-color: #1967D2;\n",
              "      --hover-bg-color: #E2EBFA;\n",
              "      --hover-fill-color: #174EA6;\n",
              "      --disabled-fill-color: #AAA;\n",
              "      --disabled-bg-color: #DDD;\n",
              "  }\n",
              "\n",
              "  [theme=dark] .colab-df-quickchart {\n",
              "      --bg-color: #3B4455;\n",
              "      --fill-color: #D2E3FC;\n",
              "      --hover-bg-color: #434B5C;\n",
              "      --hover-fill-color: #FFFFFF;\n",
              "      --disabled-bg-color: #3B4455;\n",
              "      --disabled-fill-color: #666;\n",
              "  }\n",
              "\n",
              "  .colab-df-quickchart {\n",
              "    background-color: var(--bg-color);\n",
              "    border: none;\n",
              "    border-radius: 50%;\n",
              "    cursor: pointer;\n",
              "    display: none;\n",
              "    fill: var(--fill-color);\n",
              "    height: 32px;\n",
              "    padding: 0;\n",
              "    width: 32px;\n",
              "  }\n",
              "\n",
              "  .colab-df-quickchart:hover {\n",
              "    background-color: var(--hover-bg-color);\n",
              "    box-shadow: 0 1px 2px rgba(60, 64, 67, 0.3), 0 1px 3px 1px rgba(60, 64, 67, 0.15);\n",
              "    fill: var(--button-hover-fill-color);\n",
              "  }\n",
              "\n",
              "  .colab-df-quickchart-complete:disabled,\n",
              "  .colab-df-quickchart-complete:disabled:hover {\n",
              "    background-color: var(--disabled-bg-color);\n",
              "    fill: var(--disabled-fill-color);\n",
              "    box-shadow: none;\n",
              "  }\n",
              "\n",
              "  .colab-df-spinner {\n",
              "    border: 2px solid var(--fill-color);\n",
              "    border-color: transparent;\n",
              "    border-bottom-color: var(--fill-color);\n",
              "    animation:\n",
              "      spin 1s steps(1) infinite;\n",
              "  }\n",
              "\n",
              "  @keyframes spin {\n",
              "    0% {\n",
              "      border-color: transparent;\n",
              "      border-bottom-color: var(--fill-color);\n",
              "      border-left-color: var(--fill-color);\n",
              "    }\n",
              "    20% {\n",
              "      border-color: transparent;\n",
              "      border-left-color: var(--fill-color);\n",
              "      border-top-color: var(--fill-color);\n",
              "    }\n",
              "    30% {\n",
              "      border-color: transparent;\n",
              "      border-left-color: var(--fill-color);\n",
              "      border-top-color: var(--fill-color);\n",
              "      border-right-color: var(--fill-color);\n",
              "    }\n",
              "    40% {\n",
              "      border-color: transparent;\n",
              "      border-right-color: var(--fill-color);\n",
              "      border-top-color: var(--fill-color);\n",
              "    }\n",
              "    60% {\n",
              "      border-color: transparent;\n",
              "      border-right-color: var(--fill-color);\n",
              "    }\n",
              "    80% {\n",
              "      border-color: transparent;\n",
              "      border-right-color: var(--fill-color);\n",
              "      border-bottom-color: var(--fill-color);\n",
              "    }\n",
              "    90% {\n",
              "      border-color: transparent;\n",
              "      border-bottom-color: var(--fill-color);\n",
              "    }\n",
              "  }\n",
              "</style>\n",
              "\n",
              "  <script>\n",
              "    async function quickchart(key) {\n",
              "      const quickchartButtonEl =\n",
              "        document.querySelector('#' + key + ' button');\n",
              "      quickchartButtonEl.disabled = true;  // To prevent multiple clicks.\n",
              "      quickchartButtonEl.classList.add('colab-df-spinner');\n",
              "      try {\n",
              "        const charts = await google.colab.kernel.invokeFunction(\n",
              "            'suggestCharts', [key], {});\n",
              "      } catch (error) {\n",
              "        console.error('Error during call to suggestCharts:', error);\n",
              "      }\n",
              "      quickchartButtonEl.classList.remove('colab-df-spinner');\n",
              "      quickchartButtonEl.classList.add('colab-df-quickchart-complete');\n",
              "    }\n",
              "    (() => {\n",
              "      let quickchartButtonEl =\n",
              "        document.querySelector('#df-a37ad973-832e-4b18-8d20-2e996cf88fae button');\n",
              "      quickchartButtonEl.style.display =\n",
              "        google.colab.kernel.accessAllowed ? 'block' : 'none';\n",
              "    })();\n",
              "  </script>\n",
              "</div>\n",
              "\n",
              "  <div id=\"id_2914d7ba-4c63-418a-a385-68eaa8a2136d\">\n",
              "    <style>\n",
              "      .colab-df-generate {\n",
              "        background-color: #E8F0FE;\n",
              "        border: none;\n",
              "        border-radius: 50%;\n",
              "        cursor: pointer;\n",
              "        display: none;\n",
              "        fill: #1967D2;\n",
              "        height: 32px;\n",
              "        padding: 0 0 0 0;\n",
              "        width: 32px;\n",
              "      }\n",
              "\n",
              "      .colab-df-generate:hover {\n",
              "        background-color: #E2EBFA;\n",
              "        box-shadow: 0px 1px 2px rgba(60, 64, 67, 0.3), 0px 1px 3px 1px rgba(60, 64, 67, 0.15);\n",
              "        fill: #174EA6;\n",
              "      }\n",
              "\n",
              "      [theme=dark] .colab-df-generate {\n",
              "        background-color: #3B4455;\n",
              "        fill: #D2E3FC;\n",
              "      }\n",
              "\n",
              "      [theme=dark] .colab-df-generate:hover {\n",
              "        background-color: #434B5C;\n",
              "        box-shadow: 0px 1px 3px 1px rgba(0, 0, 0, 0.15);\n",
              "        filter: drop-shadow(0px 1px 2px rgba(0, 0, 0, 0.3));\n",
              "        fill: #FFFFFF;\n",
              "      }\n",
              "    </style>\n",
              "    <button class=\"colab-df-generate\" onclick=\"generateWithVariable('df_nyc')\"\n",
              "            title=\"Generate code using this dataframe.\"\n",
              "            style=\"display:none;\">\n",
              "\n",
              "  <svg xmlns=\"http://www.w3.org/2000/svg\" height=\"24px\"viewBox=\"0 0 24 24\"\n",
              "       width=\"24px\">\n",
              "    <path d=\"M7,19H8.4L18.45,9,17,7.55,7,17.6ZM5,21V16.75L18.45,3.32a2,2,0,0,1,2.83,0l1.4,1.43a1.91,1.91,0,0,1,.58,1.4,1.91,1.91,0,0,1-.58,1.4L9.25,21ZM18.45,9,17,7.55Zm-12,3A5.31,5.31,0,0,0,4.9,8.1,5.31,5.31,0,0,0,1,6.5,5.31,5.31,0,0,0,4.9,4.9,5.31,5.31,0,0,0,6.5,1,5.31,5.31,0,0,0,8.1,4.9,5.31,5.31,0,0,0,12,6.5,5.46,5.46,0,0,0,6.5,12Z\"/>\n",
              "  </svg>\n",
              "    </button>\n",
              "    <script>\n",
              "      (() => {\n",
              "      const buttonEl =\n",
              "        document.querySelector('#id_2914d7ba-4c63-418a-a385-68eaa8a2136d button.colab-df-generate');\n",
              "      buttonEl.style.display =\n",
              "        google.colab.kernel.accessAllowed ? 'block' : 'none';\n",
              "\n",
              "      buttonEl.onclick = () => {\n",
              "        google.colab.notebook.generateWithVariable('df_nyc');\n",
              "      }\n",
              "      })();\n",
              "    </script>\n",
              "  </div>\n",
              "\n",
              "    </div>\n",
              "  </div>\n"
            ],
            "application/vnd.google.colaboratory.intrinsic+json": {
              "type": "dataframe",
              "variable_name": "df_nyc",
              "summary": "{\n  \"name\": \"df_nyc\",\n  \"rows\": 195,\n  \"fields\": [\n    {\n      \"column\": \"BoroCode\",\n      \"properties\": {\n        \"dtype\": \"number\",\n        \"std\": 1,\n        \"min\": 1,\n        \"max\": 5,\n        \"num_unique_values\": 5,\n        \"samples\": [\n          2,\n          5,\n          3\n        ],\n        \"semantic_type\": \"\",\n        \"description\": \"\"\n      }\n    },\n    {\n      \"column\": \"BoroName\",\n      \"properties\": {\n        \"dtype\": \"category\",\n        \"num_unique_values\": 5,\n        \"samples\": [\n          \"Bronx\",\n          \"Staten Island\",\n          \"Brooklyn\"\n        ],\n        \"semantic_type\": \"\",\n        \"description\": \"\"\n      }\n    },\n    {\n      \"column\": \"CountyFIPS\",\n      \"properties\": {\n        \"dtype\": \"category\",\n        \"num_unique_values\": 5,\n        \"samples\": [\n          \"005\",\n          \"085\",\n          \"047\"\n        ],\n        \"semantic_type\": \"\",\n        \"description\": \"\"\n      }\n    },\n    {\n      \"column\": \"NTACode\",\n      \"properties\": {\n        \"dtype\": \"string\",\n        \"num_unique_values\": 195,\n        \"samples\": [\n          \"BK82\",\n          \"BK77\",\n          \"SI54\"\n        ],\n        \"semantic_type\": \"\",\n        \"description\": \"\"\n      }\n    },\n    {\n      \"column\": \"NTAName\",\n      \"properties\": {\n        \"dtype\": \"string\",\n        \"num_unique_values\": 195,\n        \"samples\": [\n          \"East New York\",\n          \"Bushwick North\",\n          \"Great Kills\"\n        ],\n        \"semantic_type\": \"\",\n        \"description\": \"\"\n      }\n    },\n    {\n      \"column\": \"Shape_Leng\",\n      \"properties\": {\n        \"dtype\": \"number\",\n        \"std\": 47712.5171498967,\n        \"min\": 11061.8189573,\n        \"max\": 473341.624323,\n        \"num_unique_values\": 195,\n        \"samples\": [\n          87935.2254945,\n          26321.6271006,\n          66104.6558589\n        ],\n        \"semantic_type\": \"\",\n        \"description\": \"\"\n      }\n    },\n    {\n      \"column\": \"Shape_Area\",\n      \"properties\": {\n        \"dtype\": \"number\",\n        \"std\": 44484248.94416271,\n        \"min\": 5575563.24864,\n        \"max\": 327194482.41,\n        \"num_unique_values\": 195,\n        \"samples\": [\n          117030179.243,\n          24927927.3355,\n          89611143.7384\n        ],\n        \"semantic_type\": \"\",\n        \"description\": \"\"\n      }\n    },\n    {\n      \"column\": \"geometry\",\n      \"properties\": {\n        \"dtype\": \"geometry\",\n        \"num_unique_values\": 195,\n        \"samples\": [\n          \"POLYGON ((-73.86114396036497 40.67433014744938, -73.86107192565032 40.67401981439811, -73.86077512791373 40.6728056227411, -73.86038519920734 40.67125171099069, -73.85947416458082 40.67138053153496, -73.85855466688884 40.67151814610316, -73.85763323108364 40.671656194038206, -73.8573094780505 40.67041623336579, -73.8572848668308 40.67032198990502, -73.8572674460264 40.67025529429499, -73.85724675781796 40.67017405168216, -73.85722693696151 40.67009621263657, -73.85684676228357 40.66860293533315, -73.85670509094247 40.66802643960385, -73.85667995639089 40.667924159176046, -73.8564631194297 40.667041763891696, -73.85618809660056 40.665846555129626, -73.85611740229734 40.665509380106435, -73.85568461155036 40.663867492874864, -73.85611710208975 40.663808402134755, -73.85659075119855 40.663747159599325, -73.85753563345148 40.663597862514024, -73.85842950857302 40.66345336093203, -73.85811779269261 40.66203657079249, -73.85802504298093 40.66172105009271, -73.85793640911963 40.66137443712406, -73.8576153718558 40.660118933154, -73.85851436393638 40.659898942468786, -73.85938691846947 40.659772715382196, -73.86030494564054 40.659634655304124, -73.861188754815 40.659254625888416, -73.86174759025212 40.65893835651109, -73.86317083274409 40.658276512948255, -73.86269778299533 40.657618309012555, -73.86300202201289 40.65748811662746, -73.86300994210133 40.657476093037204, -73.86301532163742 40.65746328042173, -73.86301803082362 40.65744998792766, -73.86301800429355 40.65743653627999, -73.86301524268896 40.657423250043614, -73.86300981264414 40.6574104497922, -73.86300184517799 40.657398444373264, -73.86301297536065 40.657349024043825, -73.86300267139127 40.65733403625674, -73.862994891143 40.6573181900078, -73.86298975506251 40.65730173061783, -73.86299451832421 40.657282556529516, -73.86300321585041 40.65726420084885, -73.86301562730313 40.65724712858115, -73.86303143826 40.65723177221863, -73.8630502481797 40.65721852078412, -73.8630715805491 40.65720770997616, -73.86307775806851 40.65721242298824, -73.86308485456749 40.657216313692864, -73.8630926834548 40.65721927979009, -73.86310103888212 40.65722124329099, -73.86310970115656 40.65722215256837, -73.86311844251706 40.65722198371419, -73.86312343187535 40.65721921414491, -73.86312777534762 40.65721587249959, -73.86313136110317 40.65721204481511, -73.86313409682026 40.65720782964226, -73.86313591206293 40.65720333550852, -73.86313676009462 40.65719867812358, -73.86313661908142 40.65719397740043, -73.86313549265412 40.6571893543678, -73.86313340981488 40.657184928054086, -73.8631304241904 40.65718081242285, -73.86312661265113 40.657177113438436, -73.8631220733322 40.65717392633794, -73.86312086314443 40.65716786598093, -73.86312096520498 40.65716173643792, -73.86312237678797 40.65715570139936, -73.86312506019651 40.65714992203193, -73.8631289437694 40.657144552674545, -73.86313392379503 40.65713973671667, -73.86313986728086 40.65713560276918, -73.86314661550513 40.65713226122965, -73.86315398825552 40.65712980133439, -73.8631581097421 40.65708778410382, -73.86321868203987 40.65704187934281, -73.86321606215739 40.65703782729077, -73.86321439486383 40.65703349281, -73.86321372969203 40.65702900467209, -73.86321408640318 40.65702449621353, -73.86321545439962 40.65702010137453, -73.86321779303991 40.65701595071971, -73.86322103284601 40.65701216755938, -73.86322507756766 40.65700886428602, -73.8632298070416 40.65700613903533, -73.86323508076168 40.657004072770704, -73.86324074205291 40.65700272687804, -73.8632466227262 40.6570021413419, -73.86326056956021 40.656983073453624, -73.86327051712142 40.656962603778304, -73.86327623068608 40.65694121532833, -73.8632498848914 40.656900408904725, -73.86321767415544 40.65686212079666, -73.86318000805923 40.65682683785152, -73.86313736554848 40.656795008704236, -73.86309028884337 40.656767038072836, -73.86303937654394 40.65674328161262, -73.86300171715266 40.65665375737041, -73.86303117341605 40.6565081806782, -73.86303820081108 40.656503749794865, -73.8630441940657 40.656498511244266, -73.86304899519024 40.65649260312137, -73.86305247762125 40.656486181171836, -73.86305454955782 40.65647941468645, -73.86305515638148 40.65647248203831, -73.86305428209607 40.65646556598074, -73.86305194974932 40.65645884882968, -73.86304822082518 40.65645250765752, -73.86304319362307 40.65644670962545, -73.86303700066654 40.656441607576646, -73.86302980520972 40.65643733600738, -73.86301307870002 40.6564176096087, -73.86299992600786 40.65639637134129, -73.86299057835198 40.6563739945705, -73.86299398134413 40.656365389922414, -73.8629992094046 40.65635733363588, -73.86300611799828 40.65635004843433, -73.86301451613036 40.65634373572369, -73.86302417162658 40.6563385700245, -73.86303481755195 40.65633469414709, -73.86304615959034 40.656332215243516, -73.8630578841811 40.65633120184521, -73.86306966718766 40.65633168196845, -73.86312378925443 40.65638993902953, -73.86313059625894 40.656395242828445, -73.86313849697578 40.65639957878344, -73.86314725720176 40.65640281836247, -73.8631566172549 40.65640486553371, -73.86316629967219 40.656405659612204, -73.86317601743468 40.65640517705884, -73.86318487963273 40.65639753529692, -73.86319206184427 40.65638893123503, -73.86319738698428 40.65637957701625, -73.8632007237561 40.65636970327958, -73.86320198988872 40.656359553473266, -73.86320115416518 40.656349377852166, -73.86319823719211 40.65633942730758, -73.8631933108916 40.656329947181185, -73.86318649672782 40.65632117121585, -73.86312264257502 40.656212273760765, -73.86305132211189 40.65610609804449, -73.8629727346431 40.656002940722374, -73.86288709977435 40.65590309001498, -73.86279465679858 40.65580682490296, -73.86269566402707 40.65571441434774, -73.86264117343165 40.655667537007865, -73.86173355547592 40.6552952217742, -73.86158297119444 40.655288294271976, -73.86143294285304 40.65527625600814, -73.86128376936983 40.65525913096787, -73.86113574795915 40.65523695327128, -73.86098917353912 40.65520976710536, -73.86086853824901 40.655077806240016, -73.86061323156355 40.654719470737874, -73.86057836136494 40.65467532914275, -73.86054077882481 40.65462399661064, -73.86049595788757 40.65455882498151, -73.86001322825105 40.65397342535885, -73.85991265091515 40.65384023778105, -73.85902154958852 40.652660176367256, -73.85722330984366 40.65027867054156, -73.85743249419721 40.65015828507925, -73.8575526806712 40.64993257596552, -73.85759335427856 40.64939728589305, -73.85770542077626 40.648745971467434, -73.85783469416437 40.64830233778527, -73.85837605317673 40.64727441531365, -73.85716978298213 40.64367855888618, -73.85741343142917 40.643593496567625, -73.85766067129516 40.643514676537805, -73.85791122704873 40.64344218663234, -73.85816481946613 40.64337610763241, -73.85842116594229 40.64331651317484, -73.85867998080549 40.64326346966995, -73.85894097563549 40.6432170362278, -73.85920385958477 40.64317726459229, -73.85946833970223 40.64314419908347, -73.8597341212596 40.643117876548345, -73.86000090807948 40.6430983263197, -73.86026840286522 40.64308557018353, -73.86052841363177 40.64307059457516, -73.86078784560203 40.643050627241486, -73.86104653362096 40.64302568089378, -73.86130431300762 40.642995771412984, -73.86156101966009 40.642960917839474, -73.86178755734915 40.64292590435886, -73.86201301027852 40.6428870405177, -73.86289463224388 40.642550679682635, -73.86331138939124 40.64229912902874, -73.86379865777613 40.64179957716677, -73.86439393961577 40.64141360621658, -73.86509362394409 40.64093967569434, -73.86531173665126 40.640751191443975, -73.86670411973779 40.640021763495604, -73.86619928074248 40.63953683330397, -73.8662847677717 40.63947288319071, -73.8668152820135 40.63996352716432, -73.86702994403164 40.63985106851892, -73.86732291072713 40.63987198395302, -73.86867282895088 40.64092507920359, -73.86991239339434 40.64327820299375, -73.87001708273581 40.64407137240563, -73.87061492461159 40.64485674138435, -73.87117108941523 40.64528930356124, -73.87119172949642 40.64530535631265, -73.87157174183791 40.645414961832486, -73.87198476733924 40.64544587181577, -73.8721220285791 40.64542370386465, -73.87257043102987 40.64557561185723, -73.87337828287802 40.64671520526767, -73.8734250885653 40.646781230516005, -73.87346558258625 40.64681663296939, -73.87352036861589 40.64687620940509, -73.87623339658154 40.65055427482445, -73.87629452527887 40.65063714033356, -73.87921513909619 40.65458913139029, -73.87921658230898 40.654591083773184, -73.87926863785947 40.654569130732774, -73.8793321168056 40.65462201684999, -73.8796386550232 40.65449909180442, -73.87971979034303 40.65437592977651, -73.87924124622322 40.65373718643216, -73.87910837392923 40.65370623553977, -73.87676193956312 40.65056095449532, -73.87672243382222 40.65037540309055, -73.87672192491897 40.65032322196803, -73.87656024945194 40.65009665434291, -73.87395425313406 40.646444434115985, -73.87390127736101 40.64636836786144, -73.87386034009197 40.646314405596605, -73.87382160378145 40.64625653142832, -73.8737570902775 40.646160143301145, -73.87367284956419 40.646067979143425, -73.87360265286914 40.64596662919109, -73.87352462463146 40.64587122906834, -73.87345352818079 40.64575281441666, -73.87342337082686 40.6456507035951, -73.87335740212747 40.64559447591435, -73.87330678000768 40.6455826795918, -73.87318593330954 40.6454450133618, -73.8733137831294 40.64522208871285, -73.87335638175688 40.64511471453374, -73.87339074846531 40.645005642058834, -73.87341676802944 40.64489523711684, -73.87343435322177 40.6447838700038, -73.87344344510453 40.64467191424093, -73.8734440132268 40.64455974532199, -73.87343605572609 40.64444773945367, -73.87341959933397 40.64433627229398, -73.87339469928591 40.644225717692265, -73.87336143913538 40.64411644643546, -73.87331993047313 40.64400882500444, -73.8732703125524 40.6439032143451, -73.87309815600756 40.64393468354109, -73.8729732073257 40.64383923106545, -73.87275635704988 40.643248964654966, -73.87194880116554 40.64239408453892, -73.87189439830121 40.642248236727696, -73.87117897318359 40.64120590675863, -73.87088107173639 40.64077187075265, -73.87084503422274 40.64055662018335, -73.87061752711536 40.64038627866406, -73.87043578304258 40.64029080737953, -73.87008544224524 40.63984418086386, -73.87007958407015 40.639211694017185, -73.86989583386247 40.638934528919734, -73.86977753759143 40.638844145658645, -73.86952435189363 40.63864570191887, -73.86859780095361 40.63834956657846, -73.86808857108022 40.63818561428043, -73.86799709668229 40.63811526470724, -73.86860673985522 40.637743362595124, -73.86926691693795 40.63731148130972, -73.86960972136565 40.63708553460891, -73.86961569339263 40.63709056489568, -73.86962489466703 40.63708319183716, -73.86969549818953 40.63714738961524, -73.8692084611064 40.637465809261194, -73.86955902490303 40.6379474843277, -73.86976333666651 40.63786528027399, -73.8699705906323 40.63778746809595, -73.87018062416205 40.637714108851476, -73.87025308570806 40.63769004523176, -73.87042969304095 40.63763400150573, -73.87060795904956 40.637581093279316, -73.87118649602061 40.63730898655583, -73.87167244300342 40.637080424393176, -73.87243460834043 40.636548519200346, -73.87255337118336 40.636493365055664, -73.87267660145524 40.636444226819535, -73.87280377480077 40.63640131357579, -73.87293435009012 40.636364807920394, -73.87306777172113 40.636334865184764, -73.87320347198299 40.636311612774946, -73.87334087347143 40.63629514962956, -73.87347939154502 40.636285545798984, -73.87368012187828 40.636349316202626, -73.87387767294649 40.63641860954179, -73.87407178301558 40.63649333401366, -73.87426219490773 40.63657339061977, -73.87444865634201 40.636658673296985, -73.87463092026846 40.63674906905795, -73.87480874519532 40.63684445814083, -73.87498189550895 40.636944714167704, -73.87515014178582 40.6370497043121, -73.87531326109658 40.637159289474745, -73.87547103730128 40.63727332446785, -73.87562313521916 40.63743700289369, -73.87578238169964 40.63759668722071, -73.87594859619475 40.637752196353986, -73.87612159025026 40.637903353932316, -73.87630116771935 40.6380499885284, -73.87692618918689 40.638496784599354, -73.87698302570838 40.63854930810635, -73.87704589800164 40.63859767576576, -73.87711428484626 40.63864148659316, -73.8771876193009 40.638680377381036, -73.87726529340341 40.638714025710144, -73.87734666321128 40.63874215262284, -73.8774310541404 40.638764524935766, -73.87751776655797 40.63878095717326, -73.87760608158327 40.6387913131053, -73.87772813904063 40.63878832367653, -73.87785022682745 40.63879047764117, -73.87797197174653 40.63879776841503, -73.8780930016485 40.63881017371168, -73.8782129465692 40.63882765561062, -73.87835076562651 40.63887161374529, -73.87841589414062 40.63891218870172, -73.87832995480686 40.63908600473968, -73.87797341334353 40.639807117721546, -73.87752894550076 40.640716800105466, -73.87734248337159 40.641082680481524, -73.87709627128196 40.64160295452842, -73.87683349023656 40.64211858933702, -73.87654860036383 40.64263892828154, -73.87621912599305 40.64322213469803, -73.87619933098898 40.643257173093765, -73.87617767126598 40.64328965902362, -73.8761608741758 40.64332052800694, -73.87596309005474 40.64364448375169, -73.87545861945253 40.64442693087854, -73.87530646431499 40.644655669102335, -73.87495357807644 40.64514158369796, -73.87458081009025 40.645610105985995, -73.87468212953848 40.64565446792024, -73.87610397950503 40.64621478892489, -73.87680854487495 40.64715529330569, -73.87774634675112 40.64840707054885, -73.87845026080912 40.649346797455856, -73.87992598596041 40.651334759896315, -73.88141998000859 40.65334717597747, -73.88172188057682 40.65375382732245, -73.88220052985359 40.654441576366, -73.88221364854395 40.654518638085285, -73.88404688438503 40.653716503606, -73.88465215906854 40.65345165419576, -73.88551222104998 40.65309253232405, -73.88621116644354 40.65280058375147, -73.88628975382382 40.65276890044607, -73.88637373813367 40.65273440358692, -73.88713098908813 40.652393915410414, -73.88794902727668 40.65204097448338, -73.88876540986571 40.65169059149282, -73.88959044326212 40.65133754596554, -73.89000589190584 40.651148697131276, -73.89003782518749 40.651178177477675, -73.89136543587246 40.652364719447114, -73.89245737415155 40.65371093908072, -73.89354677139839 40.655202714084446, -73.89441114043049 40.65483294916842, -73.89520540354786 40.65448793002934, -73.89546427259653 40.65437757715919, -73.89558884464421 40.65432447226951, -73.89594442756818 40.65417288840248, -73.89667745494121 40.653854957159005, -73.89678213307093 40.65380955582197, -73.89741344662622 40.65353832071909, -73.89761013242362 40.65345381612079, -73.89746257719827 40.6533210572028, -73.89684143460035 40.652762192401354, -73.89676845053238 40.652696525509285, -73.89663417850639 40.65257571516871, -73.89654981308269 40.652499805779634, -73.89619634416363 40.65218176816292, -73.89610981547655 40.65210391216056, -73.8958615493588 40.65188052733352, -73.89621590671868 40.65164801859915, -73.89627957580495 40.65160624219776, -73.89655685899558 40.65142430250551, -73.89661390716098 40.651386871009414, -73.8967527226386 40.65129578657691, -73.89680700310416 40.651260169512504, -73.89721054793009 40.650995379743435, -73.89727504481266 40.65095316276175, -73.89736588001435 40.65089370729681, -73.89742477796517 40.65085501170611, -73.89757174797231 40.65075888692996, -73.89771516057101 40.65066508912101, -73.89779457103765 40.65061310982982, -73.89797649417171 40.65049403187292, -73.8987280870686 40.650024606868136, -73.89946894263524 40.64954176946945, -73.90019369833337 40.64908881846673, -73.90027087943915 40.649037771003584, -73.90056999892235 40.64884760718539, -73.90074707802192 40.648735444590876, -73.90089120754438 40.648641710940424, -73.90165833730063 40.64814221211617, -73.90235538504646 40.64768960236325, -73.90309943838028 40.64719961118607, -73.90398200553061 40.64662856757732, -73.9050958028116 40.647606851980036, -73.9057998371168 40.64826507856779, -73.90588893978038 40.64834514497735, -73.90637218779626 40.64877938177656, -73.90754641322083 40.64983425379514, -73.90761503322305 40.6498958942002, -73.90827570599564 40.65049857380647, -73.90849084284731 40.65058641812027, -73.90868769478008 40.65072148112222, -73.909448463794 40.65152159879041, -73.90855790522765 40.6520959377947, -73.9082160688995 40.65231208677936, -73.90740035728817 40.652843990143026, -73.90780156982456 40.65443894928927, -73.9078253825773 40.65453360358137, -73.90784346442042 40.654591530244105, -73.90692334306377 40.65473842009093, -73.9060678317493 40.654863851769036, -73.90556272808053 40.654937910163824, -73.90507059775317 40.65501006119572, -73.90489261828188 40.65503619985092, -73.90446144027064 40.65509953574628, -73.90414221392963 40.65514642113875, -73.90317858413407 40.65531163383759, -73.9030230660005 40.65537893845886, -73.90287104946366 40.65545073353305, -73.90272275795823 40.655526913540776, -73.90257840915245 40.65560736655655, -73.90243821535422 40.65569197415373, -73.90230238261348 40.65578061198989, -73.90118559908636 40.65651455160414, -73.90064904766776 40.657041558237765, -73.90057491535642 40.6570999469576, -73.90048767226398 40.65714867935241, -73.90039486678833 40.65718420530514, -73.90029426200181 40.657208882666005, -73.90002679348592 40.65725384827858, -73.89988986836593 40.6572745209476, -73.89968548031172 40.657297937551945, -73.89948109212968 40.65732134340632, -73.89904180388906 40.65737165757108, -73.89888601745132 40.657394883711945, -73.89880698433511 40.65740666180467, -73.89796594400636 40.657532036071395, -73.8970421535533 40.657663588836314, -73.8961258728635 40.65781466453668, -73.89613759295503 40.65788224947049, -73.89616756045214 40.65797845162836, -73.89571848160548 40.658159959567584, -73.89491382043487 40.65852644892105, -73.89409845021302 40.65887791979059, -73.89327894253923 40.659230174281305, -73.89246408790068 40.65958027537749, -73.89164919956768 40.65993257633943, -73.89083184286315 40.660283968380504, -73.89001492663942 40.66063583315408, -73.88919997579814 40.66098808100314, -73.88838556471791 40.6613377381338, -73.88756863519609 40.66168908090826, -73.88681373136542 40.66201382334943, -73.88593574026191 40.66239371275007, -73.88511751844221 40.66274563975167, -73.8842857509278 40.6631024356061, -73.88386974264208 40.663282268457735, -73.88348380185728 40.663449043466514, -73.88309163111568 40.6636170912654, -73.8826694422321 40.663797953505146, -73.88185557278848 40.664149988037096, -73.8820882583468 40.66446414667958, -73.88330883390573 40.66611200544834, -73.88391264573167 40.66585179856831, -73.88412169962623 40.66576074221212, -73.88474247383917 40.66549489364889, -73.88493743678782 40.66540710875874, -73.8855636451942 40.66514048671259, -73.88641344683663 40.66478080712055, -73.88657767927934 40.664708037479876, -73.88726131274228 40.66441357421646, -73.88739217285966 40.66435345676709, -73.88810817419629 40.66404741245796, -73.88898470696255 40.66391661475831, -73.88990669497632 40.66377828999829, -73.89029917759751 40.66531175985686, -73.89069385391343 40.66685223484973, -73.88976988627573 40.666989914672065, -73.89016521925032 40.66852437687806, -73.89055868980275 40.67006023116508, -73.89087805060534 40.67131808766198, -73.8917995209573 40.67118041268965, -73.89271090669844 40.671045828410215, -73.89302801266578 40.67231449157927, -73.89335128347997 40.6735816459377, -73.89367036426613 40.674821770884584, -73.89459383972236 40.67468410488788, -73.89549943478332 40.67455074432932, -73.89650977887958 40.67439704758825, -73.89748422770526 40.67425548525488, -73.89838655947369 40.67412124433986, -73.89930675442255 40.67398204176669, -73.89970899475234 40.67549425078487, -73.89971755925659 40.67556426479309, -73.89972239711241 40.675603737903636, -73.89973501104467 40.675654871363506, -73.89974568870537 40.67571196377568, -73.9000225492494 40.67679972795488, -73.900046261425 40.67689308953794, -73.89992296422372 40.676949273386946, -73.89965805219337 40.677070000603536, -73.89912562824593 40.67731263752437, -73.89883201599372 40.6774464395191, -73.89836229241634 40.67765827642703, -73.89819892491448 40.677762171634356, -73.89784150705067 40.67799457008252, -73.8977565556112 40.67806072105049, -73.89761600414093 40.67811198757081, -73.897475452452 40.6781632555944, -73.8969552187153 40.67840924320191, -73.89653676543693 40.67859358116544, -73.89621773666615 40.67735818427264, -73.89531770443226 40.677496038411554, -73.89438881436192 40.677629888784246, -73.89348405381874 40.67776206163346, -73.89257905376304 40.677900123622756, -73.8916712108276 40.67803172097108, -73.8907731915616 40.678164588669354, -73.88987439166343 40.67830215044887, -73.8890056975244 40.67855704427478, -73.88815634486824 40.678827835498616, -73.88730460904789 40.67909753722682, -73.88643790512361 40.67937347604493, -73.88555502383082 40.679656597111425, -73.88467046559735 40.679940285178354, -73.88489254672105 40.68081111619026, -73.8839719377404 40.68094711519552, -73.88303083264556 40.68108517540964, -73.88210725266063 40.6812174906357, -73.88116730337693 40.68135366366742, -73.88109834151783 40.68107447671993, -73.88063900644732 40.679176985704885, -73.88061377809606 40.679110032496176, -73.88015110587044 40.679242062667946, -73.87974063257421 40.679360961945214, -73.87926692511282 40.67949108530263, -73.87862924163149 40.67967653331642, -73.87838855876093 40.67973905437541, -73.87742686156626 40.68001443724371, -73.87696887776933 40.6801427696447, -73.87660305186299 40.68024458729791, -73.8765749528911 40.68016700182972, -73.87644391236051 40.680180338555665, -73.87631233325614 40.680190131225885, -73.87618038091277 40.680196367535494, -73.87604822137872 40.68019903945644, -73.8759160204831 40.68019814383699, -73.87578394434163 40.68019368180253, -73.87549654095065 40.68013737667619, -73.87521462352133 40.68006122322513, -73.87494168148407 40.679965800739595, -73.87468106938589 40.67985212882499, -73.87443586180747 40.67972169488104, -73.8742086671835 40.67957633913486, -73.87404657381951 40.67942964849256, -73.873896928371 40.67927472202282, -73.87376075777323 40.67911249738118, -73.87363895953976 40.67894403102629, -73.87353219496748 40.67877042020018, -73.87342767060193 40.678618847345234, -73.87331183108834 40.678471800766395, -73.87318521752735 40.67833000173094, -73.87304845606526 40.67819410743618, -73.87267313321613 40.677900209665395, -73.87250636099716 40.67781991164914, -73.87225481519741 40.67773160836537, -73.87199999838943 40.67764892014507, -73.87174212638229 40.677571916659645, -73.87148141830147 40.67750066371789, -73.87110906105855 40.67739938987544, -73.87045821462688 40.67722236782271, -73.86977606761172 40.67702720895364, -73.86942312878571 40.67691222756593, -73.86838105917352 40.676530598721776, -73.86712598437862 40.67609542246958, -73.86627349406486 40.675764045409736, -73.86521514219655 40.67538657499556, -73.86455313173745 40.67515112221228, -73.86413333494173 40.6749972523765, -73.86310050982969 40.674647212897554, -73.86176409662285 40.674232260103665, -73.86114396036497 40.67433014744938))\",\n          \"POLYGON ((-73.9013984066204 40.69158999203796, -73.90188776254817 40.691077720576025, -73.9025039748051 40.69047246501941, -73.90270979725935 40.69026473072868, -73.90291065297637 40.690054198792566, -73.90310647637901 40.689840937996784, -73.90329720353613 40.689625018018006, -73.90417976564504 40.688580083328844, -73.9041968635635 40.68858474394184, -73.90447269752764 40.68868459905112, -73.90482499670759 40.68880856987032, -73.90504399343075 40.68893224139038, -73.9057928681407 40.68936475049468, -73.90654394358135 40.689790937007196, -73.90729183111033 40.690219069725295, -73.90804254478043 40.69064700162554, -73.9087965331596 40.691074751101134, -73.90955061508035 40.69150297330063, -73.91029860251041 40.6919299517705, -73.91105300980686 40.69235724593224, -73.91180565427092 40.6927850822522, -73.91255469973726 40.693212020308856, -73.91331306228413 40.69363224245964, -73.91405670859827 40.69406846823979, -73.91480825343996 40.69449685206592, -73.91502132211853 40.69461706745662, -73.91506798842843 40.69464339617322, -73.91556201290929 40.69492212544757, -73.91631325673524 40.695351246336664, -73.91655004806171 40.695485915147835, -73.91661144267633 40.69552083098169, -73.91670957662276 40.69557664159638, -73.91677235158907 40.695612342706184, -73.91686074355148 40.695662612882934, -73.91691887420782 40.69569567216805, -73.9170716303827 40.69578254612319, -73.91728545099429 40.6959043525318, -73.91736166599597 40.69594776856711, -73.91743326144247 40.69598855407293, -73.91750809577519 40.69603118398677, -73.91760570498232 40.69608678656021, -73.9176986704814 40.696139745330406, -73.91781824895689 40.69620786264977, -73.91800959385769 40.696316141909236, -73.91812143899853 40.69637943246638, -73.91824631872963 40.69645009868831, -73.91835160543692 40.696509677147894, -73.91842289822198 40.696550020384926, -73.91848765661173 40.696586664468306, -73.91856440692271 40.69663009499134, -73.91932072862139 40.697060396872025, -73.91956944214998 40.69720230748528, -73.91960508400958 40.69722264323856, -73.92007372353262 40.69749003439959, -73.92043053949844 40.6976934120823, -73.92049620427183 40.697730839013204, -73.92082397449292 40.697917657602524, -73.9215740208508 40.69834550961366, -73.92175647222575 40.698453317017844, -73.92232801992668 40.69877209772615, -73.9226894486804 40.698977622359266, -73.92285227439461 40.69907021273118, -73.92308169375654 40.69920067188172, -73.92383266991749 40.699627798216945, -73.92458241318437 40.70005525202644, -73.9253295998091 40.700481194533616, -73.92608301619079 40.700910145119224, -73.92683805761749 40.701334209863965, -73.92758774301241 40.7017625809216, -73.92833850293482 40.70219164012573, -73.92909071610815 40.70261967790554, -73.92984252714331 40.70304681087355, -73.93059386241822 40.70347330787469, -73.93115533858264 40.703772334869974, -73.9317287178306 40.7035459911244, -73.9326978492492 40.70317039122274, -73.9328149496271 40.703577112019524, -73.93293503423756 40.70399456101309, -73.93301076511224 40.70427708596117, -73.93312548709345 40.704700862113086, -73.93320124142491 40.70497168983973, -73.93331989661885 40.70539302683478, -73.93340041785201 40.70566828775734, -73.9335189992096 40.70609531000152, -73.93359321431706 40.70637065389993, -73.93371088010947 40.70679153148733, -73.93379054211782 40.70706657581523, -73.9339187075482 40.7074870266343, -73.93229708542631 40.707749446647966, -73.9320728494902 40.7077857858691, -73.92902566127111 40.70827681485908, -73.92740683758585 40.70854132176681, -73.92576502456095 40.708803764341674, -73.92418647456469 40.709064729332134, -73.92248241741407 40.70933248799817, -73.92189184632709 40.70939609620797, -73.9214347597289 40.70912876570642, -73.92070065852832 40.708694630123674, -73.91995952930917 40.70825728802127, -73.91956473351316 40.70802397890008, -73.91922162603291 40.7078151343451, -73.91884342572222 40.70759799840202, -73.91847670867045 40.7073815632392, -73.91810299645118 40.70715996945832, -73.91808167605814 40.70714732960831, -73.91773662839532 40.70694273892913, -73.91736520255174 40.70672246900804, -73.91699506801969 40.70650296457828, -73.91664948112542 40.70629938812462, -73.91660892379083 40.70627549467024, -73.91625251965175 40.70606554297925, -73.91589738629857 40.705854816627664, -73.91551250506066 40.705626444653696, -73.91477063847702 40.70518943727275, -73.9140309747051 40.70474911303525, -73.91329162431975 40.704312638547336, -73.91254913842347 40.7038734198361, -73.91180710069368 40.703434952529385, -73.91290404121894 40.70236189179943, -73.9121616973797 40.7019231646053, -73.91142242657304 40.701486588519465, -73.91067882671383 40.70104596906377, -73.91180820104421 40.69993800312461, -73.91103489578799 40.69953211397085, -73.90953273138557 40.69867510512563, -73.90877366036932 40.69825522669406, -73.90802249245729 40.69782540863499, -73.90756985160587 40.697571749970756, -73.90727452392139 40.69739919022614, -73.9068458346055 40.69716354931183, -73.90652350712153 40.69697614411985, -73.90611626069254 40.69675055713216, -73.90576535954321 40.69654855562754, -73.90540127664273 40.69635030638571, -73.90500484768293 40.69611874678603, -73.90466384753614 40.695932247030335, -73.90426018345657 40.695700371442825, -73.90480435382129 40.69514816908227, -73.904914241938 40.69507357133054, -73.9057959700928 40.69412715501119, -73.90504295295504 40.69370400676037, -73.90428792710972 40.69327806874734, -73.90386600409033 40.69303571222851, -73.90354057071892 40.692848781796094, -73.90278824707006 40.69241833920625, -73.90207277364983 40.69199923130436, -73.90176096608872 40.69180731089212, -73.90155390238843 40.69167985893367, -73.90143958673724 40.691612105766005, -73.9013984066204 40.69158999203796))\",\n          \"POLYGON ((-74.144387450267 40.569706101170006, -74.14287311236824 40.56908188403546, -74.14256245261669 40.568952983542964, -74.14151969425892 40.56852030867496, -74.14131233629854 40.56843334774905, -74.14026824343009 40.56795018993652, -74.13976413500733 40.567712245922095, -74.13889993751425 40.56729303699374, -74.13768351013148 40.56671786706908, -74.13651149229386 40.56616662159781, -74.13622008483732 40.565986599034034, -74.135915924958 40.565817960905015, -74.13560020762657 40.56566145556288, -74.13527417288599 40.565517760618484, -74.13493920022051 40.56538743625887, -74.13459671279753 40.56527093390681, -74.13329816279847 40.564973974471975, -74.13240280430777 40.56476099984524, -74.13173622949365 40.56453951863202, -74.13264384036233 40.56350333491165, -74.13310979223087 40.562867691363316, -74.13340740148242 40.562129805700714, -74.13367116381902 40.56184093394666, -74.1339683385466 40.56158699297414, -74.1348097343113 40.560828618231255, -74.1351937962552 40.55974841803011, -74.13523859445905 40.55958551343943, -74.1353036351682 40.55942508938912, -74.13538846163506 40.55926934219834, -74.13549208729256 40.55912034483025, -74.13561300319121 40.558980026280544, -74.13574932448066 40.558850045426595, -74.13660029409272 40.5583889391839, -74.13739437880426 40.5580209371381, -74.13818001022909 40.55759386549145, -74.13885092749412 40.55695117886453, -74.13769985106883 40.55602734624631, -74.13754790987586 40.55590657818217, -74.13743125496396 40.555817582819884, -74.13609817929829 40.55472144759183, -74.13498726177015 40.55381088437522, -74.13436896456183 40.55330608035547, -74.13376647035942 40.55281273291175, -74.13321002528623 40.55238387637882, -74.13316825933344 40.552356179160235, -74.13455868225849 40.551255078203695, -74.13528075978444 40.55086323895359, -74.1360734337118 40.550433300274214, -74.13738988100248 40.549592369520454, -74.1376973159297 40.54938354642962, -74.13841193723815 40.54869183148499, -74.13865265843295 40.548485816777564, -74.13860741601225 40.54844147909507, -74.13820193893244 40.54803179591606, -74.13745743530222 40.54730960516931, -74.13711185633785 40.54702348180513, -74.13695992469835 40.54698044318642, -74.13585712566037 40.54645169570982, -74.13641153119032 40.546252350042046, -74.1364906305002 40.54607322445261, -74.13645912181917 40.5459750074769, -74.13651613439171 40.54591474713272, -74.13658511342427 40.54592318116624, -74.13680622121552 40.54597049752435, -74.13697129151102 40.54597498790291, -74.13706446059666 40.54595749648309, -74.1370089477201 40.54589465599608, -74.13702342911232 40.54588496435287, -74.13709627808753 40.545952217654566, -74.13713259013673 40.54593097435976, -74.13706316638005 40.54586400799248, -74.1371798712987 40.54579286466078, -74.1371561953721 40.5457731067933, -74.13714270440825 40.54577409776453, -74.13712777420878 40.54576037175589, -74.13707821344498 40.54571480392397, -74.13706259040484 40.54570044027645, -74.13701068974426 40.545652721608036, -74.13699494197706 40.54563824283933, -74.13694478446448 40.545592127167815, -74.13692680169484 40.545575592444564, -74.13687689400862 40.54552970763699, -74.13685874691492 40.545513022656834, -74.13681049369201 40.54546865702224, -74.13679269845133 40.54545229494562, -74.13674365036569 40.54540719896057, -74.13672532379812 40.54539034898824, -74.1366792756231 40.545348010803224, -74.1366605805461 40.545330821843045, -74.13661515336315 40.54528905484111, -74.13658821554424 40.54526428756429, -74.13652810778225 40.54520902182333, -74.13650122481515 40.545184305557484, -74.13644289212732 40.54513067191836, -74.13626085280931 40.54496329743614, -74.13613448258252 40.54503946882664, -74.1361154072406 40.545019845680024, -74.13623953961766 40.54494453120183, -74.13638379801961 40.54485467150644, -74.13640287317463 40.54487429511162, -74.13628433241061 40.54494704058949, -74.1363651085338 40.54502381925869, -74.13643522519202 40.54508823692612, -74.13643917174414 40.54509186194543, -74.13660795667728 40.54524692772434, -74.13661259610635 40.545251190370834, -74.13717031824078 40.54575674886457, -74.13717281968366 40.545765869736336, -74.13719287519716 40.545784294700226, -74.13750833508851 40.54557755723887, -74.13748941991942 40.545559095783005, -74.13747958603662 40.545564917335504, -74.13746656856809 40.54555051879243, -74.13745005439308 40.545532250968606, -74.13742976155733 40.545509803934095, -74.1374154359189 40.545495315814414, -74.13735634623878 40.545435551773934, -74.13734181068475 40.54542085046267, -74.13731811323332 40.545396882453296, -74.13730652265443 40.545385159485136, -74.137245360787 40.54532329971725, -74.13724077148187 40.545318657077985, -74.13684436011359 40.54491771650754, -74.13684118434949 40.54491450555576, -74.1368158856198 40.54488891682076, -74.13680670009067 40.54487962598725, -74.13674461047269 40.54481682570454, -74.1367337016138 40.544803742024015, -74.13671451130507 40.544803653968685, -74.13661187110704 40.544862075452286, -74.13658907071057 40.544845486096115, -74.13663388681587 40.54482118663954, -74.13683300071425 40.54470532323363, -74.13687348630864 40.54468259391021, -74.13689095294764 40.544699442706964, -74.13674888757026 40.54478258448071, -74.13742434617807 40.54546624754723, -74.13743335928 40.54546124000563, -74.13741558802177 40.545442623543245, -74.13747166103315 40.54541147405351, -74.1374878628649 40.545428445564916, -74.13750289960264 40.54542009226432, -74.1375299444234 40.545448423570335, -74.13744723484227 40.54549436974297, -74.13750293136609 40.545552713960916, -74.13750022510571 40.54555421626139, -74.13751799428792 40.545571798046794, -74.1375287784891 40.54556547209221, -74.13754932972272 40.54558486589754, -74.1378845693202 40.54589401852893, -74.13794966050548 40.54600033657565, -74.1380660822677 40.54591334131492, -74.13822493781772 40.5457946363545, -74.13829297544638 40.545705858941844, -74.13841060885531 40.54560641421068, -74.13848768316605 40.54557219702308, -74.13855976550462 40.54553214564881, -74.1386260998263 40.54548668017707, -74.13868599038004 40.54543627748331, -74.13873880900601 40.54538146622708, -74.13878400172389 40.545322821306726, -74.13882109454298 40.54526095782917, -74.13884969843312 40.545196524658, -74.13886951340419 40.54513019760744, -74.13869488246425 40.544991070305244, -74.13874315086908 40.54494542351619, -74.13872158725741 40.54492928692776, -74.13870784432628 40.54492845599432, -74.13868781593528 40.54491418299355, -74.13865026247518 40.54488741966298, -74.13862752649028 40.544871216455185, -74.13858503290798 40.54484093272452, -74.13856177219037 40.54482435520447, -74.13852070494274 40.54479508847979, -74.1384965123955 40.54477784664073, -74.1384582025146 40.54475054353968, -74.1384337707142 40.54473313243534, -74.13842126769464 40.54472422200285, -74.138368939088 40.54468692869028, -74.13834296955683 40.544668420421615, -74.13817812268094 40.54455093817406, -74.13816047836565 40.54453836398377, -74.13812198137671 40.54451092713888, -74.138104041929 40.544498990579676, -74.13809284654715 40.544499857777694, -74.13804143918787 40.54454775280531, -74.1376243074514 40.54425356641846, -74.1377562075567 40.54414492877836, -74.13777975695123 40.544162837980544, -74.13767915494259 40.54424495880744, -74.13767918310066 40.54425862571818, -74.1377049727256 40.54427653157935, -74.13773987886333 40.54430132539224, -74.13781048758295 40.54435147844977, -74.13784400515927 40.544375285804406, -74.13786250173467 40.54438842326179, -74.1380279169009 40.544505916169186, -74.13804694766434 40.54450418431644, -74.13810064050065 40.544458651896036, -74.13811742545273 40.54447334940153, -74.13817085058378 40.544510694784165, -74.13819352235129 40.54452654182316, -74.13824880814681 40.544565187644785, -74.13827073483878 40.544580513541526, -74.13832768600857 40.54462032215709, -74.13834812163294 40.54463460679236, -74.1384066939789 40.54467554809728, -74.13842530203983 40.54468855532614, -74.13848461013947 40.54473001119462, -74.13850257186337 40.54474256685895, -74.13856268411445 40.54478458394841, -74.13858052996498 40.54479705832066, -74.13864197640305 40.544840009246826, -74.13865724010041 40.54485067790152, -74.13871819443608 40.544893284603965, -74.1387350968491 40.54490509918536, -74.13873484040191 40.544917820061265, -74.1387553470346 40.544933958427016, -74.13901965079312 40.54471556103011, -74.13899095203585 40.54469601970277, -74.13896956674552 40.54468187906682, -74.13891755659166 40.54464345914549, -74.13889454402843 40.54462752051995, -74.13884074587877 40.54458919319279, -74.13881594374033 40.544573350029594, -74.13876268535793 40.54453602283855, -74.13874002777966 40.54451903786215, -74.13868849706843 40.544480934559715, -74.13854051357738 40.54437671961531, -74.13853352313345 40.544371797803485, -74.1384801032694 40.54433417716307, -74.13845692519638 40.544317854670155, -74.13843350741404 40.54430136409367, -74.13837770363979 40.54426206477913, -74.13835673677619 40.544247299809754, -74.13828211671824 40.54419475020545, -74.13825826576176 40.544177953199544, -74.13818669932958 40.544127552954215, -74.13816260914273 40.54411058868613, -74.13808561197811 40.54405636416679, -74.13806166435309 40.544039499219, -74.13804820788751 40.54403011879708, -74.13800194989805 40.54399832356207, -74.1379899016432 40.543990043286925, -74.13797997082938 40.543998349975055, -74.13789377550263 40.544070451122096, -74.13786798524539 40.54405254413111, -74.1379321825399 40.54399840738929, -74.13804346897703 40.54390456196136, -74.13806589615416 40.54391991024768, -74.13801001828881 40.5439712269147, -74.13804967625846 40.543998266193256, -74.1380750508895 40.544015565341226, -74.13809952422086 40.54403316092326, -74.1381081262648 40.544039344503396, -74.13903307178522 40.54470490979764, -74.13953937915745 40.54429514087233, -74.13943253002648 40.544217217516355, -74.13942231998017 40.544225401198574, -74.13941436189047 40.54423163443979, -74.13942091245107 40.5442361065786, -74.13937093607665 40.54427398199384, -74.13936463648464 40.54427875587352, -74.13931996946157 40.54431260795111, -74.13931281145463 40.544318032719005, -74.1392930274949 40.5443330263795, -74.13928593613913 40.54433840063825, -74.13924473709943 40.544369624454355, -74.13923613063531 40.54437614611869, -74.13919652382972 40.5444061632771, -74.1391880796118 40.544412562779144, -74.13915187461555 40.544440001529686, -74.13914525114242 40.544445021053896, -74.13910838810352 40.54447295798512, -74.1391510849762 40.544505211599116, -74.13914541346126 40.54450958012011, -74.13910271724839 40.544477327005794, -74.13910029753156 40.544479191364864, -74.13903265990318 40.54442809733328, -74.13904134663568 40.5444214053764, -74.13909334926196 40.54446068886943, -74.13911264176718 40.544445669369225, -74.13922660687237 40.54435695167134, -74.13926952681008 40.54432353917057, -74.13927673844888 40.54431792452865, -74.13932514949839 40.54428023701245, -74.13933178866631 40.54427507036723, -74.13937774534976 40.54423929246777, -74.13938357415111 40.54423475437122, -74.13940497441422 40.544218096330674, -74.13941007968164 40.544214121174946, -74.13942069337882 40.544205943537385, -74.13933895032075 40.544152596944315, -74.1392876729529 40.54411658940478, -74.13897454226765 40.54437610181987, -74.13890743048373 40.54432897553286, -74.13891817604905 40.544320069863765, -74.13895983828971 40.54434932366506, -74.13897193186777 40.54434889623483, -74.13901051803714 40.54431878992314, -74.13915675876315 40.544198110506805, -74.13915565164535 40.54418584043002, -74.13916396309394 40.54417854882535, -74.13920592451963 40.544141732793456, -74.13921398233339 40.5441346628, -74.13922249824203 40.54414055607135, -74.13924591987258 40.54412151869123, -74.13919553562482 40.544085465129406, -74.13922032859708 40.54406669966882, -74.1392094720653 40.544060565981106, -74.13912214559907 40.543996971814686, -74.13908266855015 40.543968224884125, -74.13905919087381 40.543985337042166, -74.13906669135486 40.54399115683638, -74.13900724995092 40.54403876583607, -74.13896631072421 40.54407155598086, -74.1389553685813 40.54408031965945, -74.13891491404729 40.54411272119929, -74.13890291514453 40.54412233167613, -74.13889225032638 40.54413087320322, -74.13883900358998 40.5441735200842, -74.13883902133703 40.54418206192424, -74.13889733667764 40.54422555377053, -74.1388757038836 40.54424355793502, -74.13886309560391 40.54423385928059, -74.13881357204208 40.54419575963738, -74.13875374875188 40.5441497356767, -74.13874816730315 40.544145442256266, -74.1387281244596 40.54413002253523, -74.13874595001218 40.54411554950912, -74.13880747279151 40.54416325744335, -74.13882839412128 40.54415924074427, -74.13904165578944 40.543974712235666, -74.13905058643817 40.543980048314786, -74.13907750658645 40.54396015316582, -74.13895116445248 40.54387744904119, -74.13883460585515 40.54379135838805, -74.13880325724105 40.54381268384538, -74.13881019318313 40.54382320841895, -74.13878904068682 40.54383789237656, -74.13872880510174 40.54388665379503, -74.13872431510796 40.543890288426034, -74.13865437747432 40.54394690344647, -74.1386286421722 40.54396773640743, -74.13854381696066 40.544036403695884, -74.1385375337886 40.54404148861396, -74.13853867546942 40.5440517369008, -74.13859811050901 40.544096081784616, -74.1385858115911 40.544104638490474, -74.13844151523685 40.5439977944385, -74.1384153583861 40.54397842681391, -74.13842317799862 40.54396987653128, -74.13846102593133 40.543997770913634, -74.13849606962964 40.54402360084074, -74.13851174337039 40.54402358193508, -74.13852286706916 40.54401455438723, -74.13858568155615 40.5439635765563, -74.13860340384765 40.54394919380801, -74.13862979916564 40.543927772695, -74.1386857614523 40.54388235536671, -74.13870808504869 40.54386423899533, -74.13872636239435 40.543849405236244, -74.13874890783573 40.5438311084939, -74.13876624485734 40.54381703795943, -74.13878541161911 40.54380148189852, -74.13879713301604 40.543802712312555, -74.13882325461661 40.54378405489602, -74.13853996268223 40.54358792768774, -74.13852077238346 40.54360399252553, -74.13852347275913 40.543614532110325, -74.13846115296437 40.54366427629027, -74.13844809117653 40.54367865239268, -74.13844876639854 40.54368614654415, -74.13847431012209 40.543705146669495, -74.13846183951551 40.54371528689728, -74.13837773022577 40.54365047218325, -74.13835645886172 40.543652205785854, -74.13829833483886 40.54370010902565, -74.13826592078284 40.54372748144895, -74.13820667266971 40.54377367785766, -74.1382055862372 40.543789054415754, -74.13829305440528 40.543853865712464, -74.13827964456064 40.54386669457071, -74.13815068621103 40.543772036757325, -74.13836531286421 40.543601799188, -74.13841801795566 40.54364102702432, -74.13843929330494 40.54364185561224, -74.13845605241477 40.54362389912075, -74.13846595774667 40.54362910406671, -74.13852649744582 40.54357854230625, -74.13850743751846 40.54356575258965, -74.13850743574893 40.543564898857916, -74.13844819325456 40.54361365725712, -74.1384414872676 40.54361964466249, -74.13841121199927 40.543598327594694, -74.13848274781854 40.54353930304922, -74.1384467162899 40.54351555168278, -74.13837491744677 40.54357651886792, -74.13834151288614 40.543551827809026, -74.13852282835141 40.543401550749465, -74.13855597756981 40.543424155475435, -74.13845971967875 40.5435062859917, -74.13849280865536 40.543530749555885, -74.13859005306276 40.543450340366796, -74.13862033031373 40.54347251212433, -74.13853314542554 40.543544367341056, -74.13872959207075 40.54368233939205, -74.1388170234484 40.54374374545153, -74.13903348161216 40.54389577085188, -74.13908167507373 40.54392961808559, -74.13910166037842 40.543943655020726, -74.13915570620223 40.543981612355466, -74.13918578603192 40.544002737306585, -74.1392274114775 40.544031971790076, -74.13928076576927 40.544069444066785, -74.13930377144257 40.54408560192089, -74.13931136009417 40.54409093123127, -74.13931717941944 40.54409501894377, -74.13942349832635 40.544169688274806, -74.13945300079138 40.54419040826625, -74.13945826107069 40.54419410245198, -74.13947061254818 40.5442027774086, -74.13953345753424 40.54424691411768, -74.13956971698569 40.544272274830696, -74.139836977861 40.54405246234099, -74.13894632773301 40.54340739868283, -74.13891041386145 40.543432264581604, -74.13870632397281 40.543291410834584, -74.13890636539452 40.543131777602504, -74.13893037818062 40.54315004000084, -74.13877140226839 40.54329133220313, -74.13886061078244 40.5433656938735, -74.13903671922964 40.54322699394082, -74.13906073296191 40.54324525530553, -74.13894447378168 40.5433394629088, -74.13899592102277 40.54337336940108, -74.13898355608603 40.54338441137309, -74.13902553215638 40.543413938684104, -74.1396764048069 40.543888995858815, -74.13986496495076 40.543736823321616, -74.1398889740626 40.543752471885114, -74.13970350694184 40.54390877718643, -74.13986527264345 40.54402684400967, -74.14004115970629 40.543883999623986, -74.13999383559151 40.54384582593534, -74.14001283835925 40.54383042684496, -74.14005310716966 40.54385885033016, -74.14031078013873 40.54405040205589, -74.14035904817837 40.5440166170601, -74.14038573073621 40.544033185008026, -74.14041765335297 40.544002725173215, -74.14039544536473 40.543989016695626, -74.14046054656268 40.54393201735678, -74.14030865805952 40.5438253117536, -74.14032945189237 40.54380783807367, -74.1403284869439 40.543802086768686, -74.14031433118924 40.5437939557339, -74.14029681353321 40.54379316796782, -74.14024817472747 40.54383428652264, -74.14023491179564 40.54382610831681, -74.14028491492424 40.54378525983474, -74.14028458104868 40.54377162512771, -74.14024350665551 40.54374204004779, -74.14021461687786 40.54372123189219, -74.14019945499585 40.54371031068373, -74.14014813068857 40.5436733424636, -74.14012372242281 40.54365576198044, -74.14008209744817 40.543625780132935, -74.14005970538261 40.543609651003486, -74.14001232514602 40.54357552374709, -74.14000281637698 40.543568674309526, -74.13994566703626 40.54352751027082, -74.13989283556381 40.54348945633475, -74.13986402298183 40.5434687032817, -74.13982300152605 40.54343915601597, -74.13978359729651 40.54341077311206, -74.13974757593661 40.543384826825026, -74.13970183036307 40.54335187719845, -74.1396943683802 40.543346502023766, -74.13943438036887 40.54315923245224, -74.13934994841908 40.54309608509433, -74.1392418163462 40.54318196207996, -74.13921993485886 40.54316608513805, -74.13923987000206 40.54315066309782, -74.13926620242248 40.54313029048433, -74.13929760323849 40.543105998210756, -74.13940810077389 40.543016584082835, -74.1394335677836 40.54303606758115, -74.13938445465186 40.54307686904645, -74.13938508033546 40.54308878186206, -74.13942485990455 40.543117459803014, -74.13945177529892 40.543136863636946, -74.13947791081848 40.543155704672756, -74.13948893219914 40.54316365014176, -74.13954690313821 40.54320544198311, -74.1395574303407 40.54321303120679, -74.13961721033517 40.543256126879285, -74.13962652306864 40.54326284038518, -74.13968226733108 40.543303027916, -74.13969380758668 40.543311346158916, -74.13974850481074 40.54335077735974, -74.13976177422556 40.543360343936754, -74.1398181529452 40.543400987484084, -74.13985313210587 40.543426203749064, -74.13988439282312 40.54344874069959, -74.13991412345705 40.54347017330412, -74.1399522746247 40.54349767648165, -74.13996556411067 40.54350725674805, -74.14002080798198 40.54354708252387, -74.14003465964625 40.54355706718477, -74.14022641531268 40.54369606282578, -74.14029571947168 40.54364045715569, -74.14020937569505 40.54357906228419, -74.1402138440372 40.54357478598068, -74.14012638219604 40.54351339341705, -74.14028734539116 40.5433850711193, -74.14020997730151 40.54333220714331, -74.1401968563254 40.543322661880644, -74.14012345022556 40.543269256744615, -74.1401109294879 40.5432601471558, -74.14003694970403 40.54320632484408, -74.14002606731887 40.54319840723562, -74.13995038908214 40.54314334905857, -74.13993952959204 40.54313544850211, -74.13986504774196 40.54308125946507, -74.13985410183545 40.54307329567935, -74.13977902783283 40.54301867692256, -74.13976927269164 40.543011579150566, -74.13969250376587 40.54295572669743, -74.13968218054629 40.54294821681472, -74.13960709890746 40.54289359242612, -74.13959620562687 40.542885666581135, -74.13955102413223 40.542852794109464, -74.13951023746557 40.54282312063061, -74.13945753440692 40.54278560209865, -74.13938711756549 40.542843770657, -74.13936132804032 40.54282586399885, -74.1395368154802 40.542682150869965, -74.13956372474725 40.5427000561279, -74.13947877205682 40.54276849257787, -74.13953259730951 40.54280686447557, -74.13956044589747 40.54282699238867, -74.13961652514588 40.54286752180936, -74.13962918175775 40.542876670154, -74.13970048414518 40.542928201325296, -74.13987173067653 40.54305196469985, -74.1398769801203 40.54305575973304, -74.13989432782361 40.54306829616054, -74.13996485006807 40.543119264881334, -74.13998476182942 40.54313365473938, -74.14005110782219 40.54318160424313, -74.14014720421113 40.54325105541887, -74.14022188806456 40.54330502941977, -74.14023345086989 40.543313386950615, -74.14030634258137 40.543367110114566, -74.14062715566955 40.54311302969269, -74.14053648767502 40.543047277874294, -74.14052328363451 40.543037702427405, -74.14043317228979 40.542972354431505, -74.14042171459107 40.542964045543336, -74.14035319257152 40.54291435274531, -74.14031895744444 40.54288952590037, -74.14023059544267 40.542825445821435, -74.14022024715861 40.5428179410435, -74.14013887318977 40.542758928525316, -74.14011692170477 40.54274300911894, -74.14005800038085 40.542700279381236, -74.14001586512853 40.54266972232928, -74.13999673966629 40.54265585236898, -74.13975584890447 40.54248115565538, -74.13965860486509 40.54256071110189, -74.13963169074167 40.54254109756638, -74.13985859891679 40.542357175129325, -74.13988550839117 40.54237593505116, -74.13977484776484 40.5424640477989, -74.14064614869822 40.543094214902304, -74.14084520303737 40.542938844476645, -74.1408723827923 40.54295994171945, -74.14104442644137 40.54308698562652, -74.14109069897195 40.54305205535603, -74.14096661369906 40.54296326479901, -74.14098421950682 40.5429489975875, -74.14110542112012 40.543041720587695, -74.14125673409742 40.543150146888884, -74.14132426794245 40.54309413383039, -74.1412880791593 40.543069596322844, -74.1412833162767 40.5430736957839, -74.1403850058994 40.542420770864105, -74.14040508359234 40.542403819062464, -74.1404089750761 40.54240650081843, -74.14043778311083 40.542382175047166, -74.14040685334777 40.542360855450625, -74.14028673369373 40.542455788016476, -74.14016510037463 40.54236621843368, -74.14028096291975 40.54227225901748, -74.14032683633256 40.54223505799773, -74.14033528229646 40.542228208757116, -74.14035874187907 40.54224548494886, -74.14020723606578 40.54236522429853, -74.14024073040932 40.54238932952444, -74.14028630244326 40.542422126530354, -74.14040656300695 40.54232708255226, -74.14048119210136 40.5423820375114, -74.140430953861 40.54242174113604, -74.1404271920767 40.54242466294026, -74.14120934288353 40.542986458307794, -74.14130461980236 40.543054891778866, -74.14129718766439 40.54306128818133, -74.1413338750065 40.5430861653262, -74.14141073560408 40.54302241508055, -74.14107892119061 40.542791171851775, -74.1411614790294 40.542718673715015, -74.14106663613966 40.54265404570972, -74.141084368047 40.54263891370406, -74.14117879550514 40.54270346648188, -74.14118693183593 40.542696321701186, -74.14129511846846 40.542768770753845, -74.14132653105818 40.54274704748751, -74.1412282081432 40.542678053035544, -74.14112375946446 40.54260461374531, -74.14114311299073 40.54258765885154, -74.14124949366257 40.542660340856536, -74.14133547192978 40.54258879247042, -74.14131554422724 40.542574506064, -74.14128619376275 40.54259912975394, -74.14121958022263 40.542555553158685, -74.14125011203608 40.542531498472854, -74.14119811780665 40.542495248069756, -74.1411865365772 40.54248709923332, -74.1411269185514 40.542445151590144, -74.14111435667954 40.5424363132246, -74.14104399349506 40.5423868041996, -74.1410303146288 40.54237717896727, -74.14095350746899 40.542323136224645, -74.14094279413207 40.54231559728088, -74.14085915441285 40.5422567462004, -74.14084801466024 40.5422489080593, -74.14075996557574 40.542186954127025, -74.1407479289836 40.542178484146476, -74.14065797552469 40.54211519088818, -74.14064549734758 40.54210641066926, -74.14056897693314 40.542052568689115, -74.14054086217554 40.542058216874395, -74.14046378256693 40.542127442536106, -74.14041261732395 40.54209062752634, -74.14040510349558 40.54206053639282, -74.14026290400702 40.54196151152279, -74.1402951165258 40.54193423041511, -74.14047503718429 40.5420597877725, -74.14049581011314 40.542060855324124, -74.14053729713812 40.542026555848764, -74.14057844981332 40.541992533527576, -74.14059741115035 40.54197685762815, -74.14062821467108 40.54195139082914, -74.14065864856764 40.54192623038476, -74.14067998093046 40.54190859297123, -74.14070353028875 40.54192481773081, -74.14059472343253 40.54201650661035, -74.14063417283222 40.54204226666514, -74.14061919911958 40.54205602164403, -74.1407910422767 40.54217700008048, -74.14082098556531 40.54219808037785, -74.14089718575622 40.54225172539976, -74.14099109268017 40.542317834824914, -74.14100375613089 40.542326749808076, -74.14101543299071 40.54233497158873, -74.14111038150897 40.54240181358687, -74.14121924204687 40.54248021825308, -74.1413432013884 40.54256413942923, -74.141337584972 40.542568871364786, -74.141349013796 40.54257752313177, -74.14146151585443 40.542483902224085, -74.14127657503218 40.542353079241224, -74.14129442123695 40.54233587588589, -74.14148097474451 40.542467709070664, -74.14153109439731 40.54242600080072, -74.14134854694552 40.54229046487107, -74.14136330837675 40.54227845136765, -74.14154957905978 40.542410617504736, -74.14164911303182 40.542321521640396, -74.14179719957052 40.54220041538257, -74.14177252532787 40.54218162852114, -74.14089451090516 40.54157111018772, -74.1408870279018 40.54158404784461, -74.14084633142177 40.541555506728635, -74.14066095220986 40.541709346456386, -74.14063984172134 40.54169454203745, -74.14095816832892 40.541432077965176, -74.14098048586828 40.541447682308444, -74.14089578688181 40.54151658339708, -74.14089477583406 40.5415370948607, -74.14181267772769 40.54218676935925, -74.14185192891296 40.54215177993499, -74.14187307971929 40.54216665812959, -74.14167226243084 40.542335464095395, -74.14169237098815 40.54234783819462, -74.1417256964483 40.54235635206944, -74.14176037717458 40.54236069328376, -74.14181145947695 40.54236206343603, -74.14186208108545 40.542356664729006, -74.14191071251975 40.542344660279184, -74.14195588443235 40.542326412788654, -74.1420382920603 40.542287175317306, -74.14207724336217 40.54226454824212, -74.14210526713335 40.54225176066053, -74.14211981397976 40.5422460975582, -74.14213467745492 40.54224093497742, -74.14215267174198 40.54224370409027, -74.14216834260951 40.542250995204725, -74.14217981082432 40.54226193128262, -74.14220714462111 40.54229002458464, -74.14223354913703 40.54230689450653, -74.14224494014178 40.542301768881245, -74.1422557582943 40.5422959629542, -74.14225730330142 40.5422949843389, -74.14226380161556 40.54229110935529, -74.14227096090451 40.54228608848329, -74.14227757028857 40.542280644440766, -74.14228358438895 40.54227481414072, -74.14228896748925 40.54226863448408, -74.14229297366653 40.542263372086204, -74.14229632246163 40.54225784915571, -74.14229898630242 40.54225211146256, -74.14230094334175 40.542246211973456, -74.14230217237983 40.542240198293285, -74.14230266760147 40.54223412387139, -74.14230242077262 40.54222804065238, -74.14230143508065 40.54222200157184, -74.14229972051798 40.54221605838421, -74.14229743316875 40.5422090520895, -74.14229423382952 40.542202257677936, -74.14229015339546 40.54219574597641, -74.14228523416593 40.542189580761494, -74.14227952634583 40.54218382579986, -74.14227308935789 40.5421785423338, -74.14226289372449 40.54217121479721, -74.1422532871972 40.54216343470089, -74.14224430585031 40.54215523014534, -74.14223598422805 40.542146632583616, -74.14222835050184 40.54213767146628, -74.14218927208891 40.54206778253082, -74.14218623118089 40.54205968470239, -74.14218400576321 40.542051433746614, -74.14218260779379 40.54204307655722, -74.14218204748155 40.542034663715704, -74.14218232602435 40.54202624229659, -74.14218344286574 40.542017860549294, -74.14218539130579 40.54200956924369, -74.1421881587051 40.5420014142987, -74.14218946471736 40.541992252128814, -74.14219151688192 40.54198317028705, -74.14219430868641 40.54197420446538, -74.14219782944363 40.541965389188235, -74.14220206539267 40.54195675931887, -74.14220699969687 40.541948349054195, -74.14221261309865 40.5419401900812, -74.1422188826151 40.54193231777714, -74.14223740154235 40.541892933611926, -74.142242047358 40.541881257031186, -74.14224742417298 40.541869764833116, -74.1422535208409 40.54185848216089, -74.14226032117033 40.54184743684452, -74.14226781138115 40.54183665470061, -74.1422759715399 40.54182615937547, -74.1423143853146 40.54176948571661, -74.1423176270807 40.541755995850416, -74.14232174995557 40.54174264544984, -74.14232674237347 40.54172946904037, -74.1423325923288 40.54171650081292, -74.14233928539396 40.54170377194589, -74.14234350622402 40.54169857629195, -74.14234702765576 40.541693083468644, -74.14234981467342 40.54168734980957, -74.14235183775378 40.541681432814286, -74.1423530783546 40.54167539047128, -74.14235352145512 40.54166928445027, -74.14235316674555 40.541663175397666, -74.14235201260314 40.54165712613926, -74.14235007650022 40.541651194786375, -74.14232447297823 40.54159034654254, -74.14232408777535 40.541579095019664, -74.1423244768684 40.541567839018896, -74.14232564230689 40.54155661304888, -74.14232757734995 40.541545448613704, -74.14233027811329 40.541534378051416, -74.14233373829781 40.5415234340382, -74.14233794435442 40.541512647751354, -74.14234288668828 40.5415020510335, -74.1423518133812 40.541489272823064, -74.14236150914972 40.5414768250332, -74.14237195252865 40.541464733825045, -74.14238312051103 40.54145302318371, -74.14239498834314 40.54144172178738, -74.14240753323452 40.541430852113145, -74.14241662864939 40.54142636073878, -74.14242524863009 40.54142135295515, -74.14243334426872 40.541415858140766, -74.14244086644035 40.54140990684724, -74.14244777218309 40.541403536319635, -74.14245402116497 40.54139678128691, -74.14245957614196 40.54138968284025, -74.14246440689688 40.541382281894634, -74.1424684827766 40.541374620873356, -74.14247178257858 40.54136674587359, -74.14247428246301 40.54135870199062, -74.14247597330855 40.54135053681441, -74.14247692280708 40.54134495436652, -74.14247713962867 40.54133932608682, -74.14247662235955 40.541333709774996, -74.14247537660664 40.541328160206504, -74.14247341412697 40.54132273281921, -74.14247075501662 40.54131748036016, -74.14246742486112 40.54131245540208, -74.14246345780752 40.54130770916677, -74.14245889128634 40.54130328801361, -74.14245377216544 40.541299235777316, -74.14244654535769 40.54128972952834, -74.14244022799673 40.54127985341665, -74.14243485400593 40.54126965698927, -74.14243045094848 40.541259193654305, -74.14242704046056 40.54124851783234, -74.14242392017428 40.54123830671425, -74.14241999563222 40.54122825943302, -74.14241528096466 40.54121841148742, -74.1424097931572 40.54120879870783, -74.14240355315114 40.54119945825984, -74.14239658429324 40.541190422615216, -74.14238890927427 40.54118172558684, -74.14238055824558 40.54117339829779, -74.14237156377686 40.5411654732084, -74.1423605126077 40.54115571470443, -74.14235009040398 40.541145560383356, -74.14234032115449 40.541135035010065, -74.1423312292857 40.541124162678805, -74.14232283461499 40.54111296866225, -74.14231515674082 40.54110147856834, -74.14230389486332 40.54108536673587, -74.14229185500199 40.54106958472825, -74.1422790563085 40.54105415430042, -74.14226551705248 40.541039095533144, -74.14225199022498 40.54102584925849, -74.14223905010503 40.54101226484956, -74.14222671276296 40.540998361049965, -74.14221499316105 40.54098415191398, -74.14220933064996 40.540973323071526, -74.14220447533509 40.540962267398335, -74.14220044485789 40.54095101971897, -74.14219724939785 40.54093961687748, -74.1421949013318 40.54092809638549, -74.1421934073192 40.54091649207582, -74.14219638266215 40.5409049463954, -74.14220025847172 40.540893561098855, -74.1422050205657 40.54088237942644, -74.14221065102096 40.54087144093743, -74.14221712687548 40.54086079072576, -74.14222442361728 40.540850467856174, -74.14224031268577 40.5408420869072, -74.142260540763 40.54082628234118, -74.14227115484996 40.54081395923562, -74.14226793838115 40.540807544299874, -74.1422640596357 40.5408013474713, -74.14225954394682 40.54079540607772, -74.14225441994762 40.54078976029084, -74.14224871911526 40.54078444525293, -74.14224247995426 40.54077949626507, -74.1422357400829 40.54077494494379, -74.1422261946573 40.54076606258744, -74.14221610188633 40.540757539255395, -74.14220549101726 40.54074939417732, -74.14219438448198 40.54074164290555, -74.14218280538182 40.54073430601757, -74.14217078229836 40.54072739956075, -74.14215834381527 40.54072094058767, -74.1421367387072 40.54071147239073, -74.14211552890467 40.54070150043958, -74.14209473837131 40.54069103760467, -74.14207439083933 40.54068009122814, -74.14206665867117 40.54067483347703, -74.14205946666851 40.540669142996585, -74.14205285596474 40.54066305223691, -74.14204686264571 40.54065659516208, -74.14204152478361 40.540649810424604, -74.14203687057119 40.54064273786189, -74.14203292556503 40.54063541681196, -74.14202971532558 40.54062788845579, -74.14202725883248 40.54062019733297, -74.14202556716033 40.54061238816042, -74.14202465094446 40.54060450565557, -74.14202501079663 40.54059806869859, -74.14202611672226 40.540591682250536, -74.14202796289642 40.540585395404946, -74.14203053383376 40.54057925810498, -74.14203380943745 40.54057332029942, -74.14203776301363 40.5405676275895, -74.14204236545184 40.54056222507679, -74.14204757731923 40.54055715720549, -74.14205331996206 40.54055364553581, -74.14205850822272 40.540549662954156, -74.14206307962885 40.54054526230984, -74.14206697390732 40.54054049795734, -74.14207014221711 40.54053543043557, -74.14207254362803 40.54053012278662, -74.14207415018065 40.540524644905226, -74.14207493786431 40.540519064838406, -74.14207489936221 40.54051345279044, -74.1420674056872 40.54049920507138, -74.14205923897904 40.54048517480112, -74.14205041288535 40.54047137720785, -74.14204093755265 40.54045783338774, -74.14203082663242 40.540444560411814, -74.1420200926767 40.540431574682316, -74.14200874977747 40.54041889393987, -74.14200146000348 40.540410890319045, -74.14199339052256 40.54040333446512, -74.14198458886325 40.54039627155237, -74.14197510562022 40.54038974289802, -74.14196499796982 40.540383786963176, -74.14195309963945 40.54038088296184, -74.14194144744997 40.540377449762026, -74.14193008007082 40.540373497032725, -74.14191903816062 40.54036904047163, -74.14190836281284 40.54036409376556, -74.14190517802103 40.54035623048136, -74.14190281657854 40.54034820166482, -74.14190129022528 40.54034005521511, -74.14190060873091 40.54033184188191, -74.14190077967085 40.540323613255126, -74.14190179788412 40.54031542094047, -74.14190366018249 40.5403073148659, -74.14190635459865 40.540299347148036, -74.14190870883779 40.54028909289515, -74.1419103404395 40.540278758283165, -74.14191124880504 40.540268371457934, -74.14191142741137 40.54025796275056, -74.1419108785163 40.540247561140916, -74.14190960174714 40.540237197790105, -74.14190760177618 40.540226901172474, -74.14190488240087 40.540216701438744, -74.14189926617178 40.540205173084516, -74.14189276029084 40.54019391856864, -74.14188538527208 40.54018298092097, -74.1418771699633 40.54017239813495, -74.14186814079494 40.540162207369534, -74.14185605092118 40.54014911758826, -74.1418432286935 40.54013643580889, -74.14182970578898 40.540124188126846, -74.14181550751326 40.540112399137506, -74.14180974566293 40.540111607469676, -74.1418041589966 40.540110273792386, -74.14179883385661 40.54010841776758, -74.14179385529071 40.54010606994833, -74.14178930023029 40.54010326491842, -74.1417852379461 40.54010004916579, -74.14178173397718 40.540096469853076, -74.14177884532401 40.54009258621567, -74.1417766138326 40.540088456334914, -74.14177507411904 40.54008414617505, -74.14177425312002 40.540079724725295, -74.14177416085604 40.54007525747763, -74.14177458284506 40.54007066981085, -74.14177573470064 40.54006615579381, -74.14177759987503 40.540061782123985, -74.14178014842206 40.54005761400754, -74.14178334489904 40.54005371347443, -74.14178713892315 40.54005013888732, -74.14179147614934 40.54004694409047, -74.14179629277618 40.54004417640614, -74.1418015148865 40.54004187630036, -74.14180706394137 40.54004007938648, -74.14181285874544 40.54003881122933, -74.14181881523446 40.54003809069611, -74.14182484120643 40.540037930632934, -74.14183084684544 40.54003832997811, -74.14183674496527 40.5400392851536, -74.14184244637892 40.54004078102437, -74.14184957452497 40.54003711888626, -74.14185622819146 40.54003296931832, -74.14186234838103 40.540028366904714, -74.14186788489327 40.54002335241741, -74.1418727888489 40.54001796830209, -74.14187701708526 40.54001226034786, -74.14188053676914 40.54000627835188, -74.14188331243473 40.54000007328724, -74.14188532465046 40.53999369795002, -74.14188655355451 40.539987209325105, -74.14188699003839 40.53998066120098, -74.14188663004954 40.53997410987282, -74.14188667786374 40.539963429760306, -74.14188595801134 40.53995276483647, -74.14188446901959 40.5399421452586, -74.14188221952341 40.53993160418695, -74.14187921266681 40.53992117428601, -74.14187546059206 40.53991088586369, -74.14187097346588 40.53990076956538, -74.14186576585067 40.539890857873864, -74.14185898274593 40.53987747154089, -74.14185288744427 40.53986389454599, -74.14184748745377 40.53985014681607, -74.14184279226171 40.53983624961589, -74.14183880849812 40.53982222304096, -74.141835543235 40.5398080885265, -74.1418329998135 40.53979386851746, -74.14183237875206 40.53978577321767, -74.14183251854904 40.53977766324054, -74.14183342170928 40.5397695808006, -74.14183508130014 40.539761570469395, -74.14183749015515 40.53975367011763, -74.1418406347504 40.53974592264971, -74.14184449781997 40.53973836678636, -74.14184906363555 40.53973104141398, -74.14185430505034 40.53972398560057, -74.1418601955679 40.53971723439258, -74.14186670473984 40.539710823176456, -74.1418738012359 40.539704785664355, -74.14188144756518 40.53969914988006, -74.14188967926009 40.53969410307836, -74.14195889835926 40.53967817719832, -74.14198428949601 40.53966199035768, -74.14200666356268 40.53962065542318, -74.14200459282479 40.539567959164536, -74.14198181354396 40.53953597330829, -74.14192932905019 40.53949978314195, -74.14187458672494 40.53946264098653, -74.14182589311278 40.5394221864643, -74.14176721342454 40.53938732786761, -74.14174158756585 40.5393655031727, -74.14172892651298 40.53933948409721, -74.14173698496204 40.539309712734536, -74.14176433199538 40.539275656425424, -74.14188783577485 40.53920974740655, -74.14203045817288 40.539175233398694, -74.14209894139941 40.539157705916175, -74.14217195100242 40.53915400391899, -74.14221934705733 40.5391392494672, -74.14227296511635 40.53910289983916, -74.14230351275852 40.53906997528984, -74.14223700269807 40.53903065424897, -74.14225638639391 40.5390129140769, -74.1423383157749 40.53894919040854, -74.1421518306091 40.53881655318708, -74.14176587793767 40.53854204099995, -74.14226513007999 40.538140353664886, -74.14224928389078 40.53812968335891, -74.1422082492579 40.538164620359936, -74.142213223178 40.53816752905853, -74.14186762291462 40.53844409071939, -74.14183789388265 40.53842162042696, -74.14220052571478 40.53812644173466, -74.14220665211595 40.53813197219524, -74.14222992294656 40.53811445287484, -74.14219794712278 40.53809105449257, -74.14207893644112 40.538003964285274, -74.14216718019145 40.53793276106834, -74.14214752525183 40.53791658053499, -74.14213937737513 40.53792148518672, -74.14121865335552 40.537253998432654, -74.1411977050378 40.5372540241965, -74.14106736882478 40.537365643645316, -74.1410415791634 40.537346884462266, -74.14120322536776 40.53721597312288, -74.14129825471825 40.537138177948535, -74.14132073591662 40.53715352068069, -74.14123742490058 40.53721561760888, -74.14124113051591 40.53723469173426, -74.14217576939245 40.53789459909756, -74.14216240779166 40.53790214964647, -74.1421857484167 40.537917777286474, -74.142389636896 40.5377532600024, -74.14158287690893 40.53708757795259, -74.14173410572278 40.53703951087494, -74.143051626138 40.537239873856635, -74.14383385685339 40.537136911849785, -74.1439151265721 40.53707560486867, -74.14399097096762 40.53701037677643, -74.1440610657712 40.53694150646636, -74.14412511130016 40.536869288403814, -74.14418283373912 40.53679403136692, -74.14423398631044 40.53671605712632, -74.1442783503291 40.53663569906928, -74.14428108600727 40.53656740307659, -74.14429650123263 40.536528092654514, -74.1443739905684 40.5363948706351, -74.1443887449075 40.536358373362255, -74.14455507323936 40.535946931272264, -74.14474069813582 40.535801044211354, -74.14478850976519 40.53579095120631, -74.14488929109955 40.535802757922454, -74.14509771567857 40.53582927208424, -74.14543374382966 40.53582307282711, -74.14558654458659 40.53574772019208, -74.14573534090704 40.53566783894008, -74.14580277253106 40.535647654546935, -74.14585476375564 40.53564186617715, -74.1460200828466 40.53555352772049, -74.14594981064474 40.535432319758414, -74.14599669615093 40.53539039281204, -74.14619247423201 40.53536153939511, -74.14669647685278 40.53541430804622, -74.14701853176335 40.53524325842091, -74.14794320046134 40.534923016993126, -74.14851051812346 40.53461081365697, -74.14870158909103 40.53451100305939, -74.1492173326397 40.53424158776107, -74.14977717489235 40.53388786880172, -74.14977824913622 40.53382618188566, -74.14971830290304 40.5334919100226, -74.14975846489824 40.53342430275562, -74.14980633823848 40.533359684356256, -74.1498615444959 40.533298565588844, -74.14992364728451 40.533241429554245, -74.14999215570981 40.53318872787135, -74.15001653727077 40.53317059720724, -74.15012879899228 40.5330871178431, -74.15030045304574 40.5329227218661, -74.15026251512954 40.532902851830336, -74.15024247803049 40.53291819300985, -74.15021506106478 40.532897345219965, -74.15026788636533 40.53285690093647, -74.15029347623546 40.53287635892827, -74.1502789130223 40.53289169244567, -74.15031544439398 40.53290835175523, -74.15046524073799 40.53273433020655, -74.15069553618278 40.532545838937274, -74.15102434722694 40.532706674791676, -74.1511039228103 40.53274222306221, -74.15112025690526 40.53274138250684, -74.1512500770393 40.53268303076525, -74.15145035861133 40.53259535089099, -74.15175798831618 40.532401794028225, -74.15176169984892 40.53239766893509, -74.15176442261654 40.53239311699762, -74.15176607490643 40.532388274823695, -74.1517666071321 40.532383287731406, -74.15176600332121 40.532378305388036, -74.15176428159494 40.532373477318174, -74.15176149362405 40.53236894841666, -74.15175772307832 40.53236485459985, -74.15173360926008 40.53234535444019, -74.15171021697002 40.53232644001337, -74.15170239070758 40.532322286709565, -74.15169553528662 40.53231723221746, -74.1516898270363 40.532311406544494, -74.15168541277909 40.53230495953372, -74.1516824060544 40.53229805700966, -74.15168088419817 40.532290876513116, -74.15168088635377 40.532283602734594, -74.15168241246529 40.532276422763864, -74.15168542327893 40.53226952127782, -74.15168984135279 40.53226307579034, -74.15169555304877 40.53225725208643, -74.15177191992906 40.53220812808485, -74.15185337744485 40.532164021023505, -74.15188502884315 40.53215606183977, -74.15191797942097 40.53215225562524, -74.15195130015528 40.53215270969395, -74.1519840515869 40.532157411243716, -74.15201531030749 40.532166227716964, -74.15204419499408 40.532178910538136, -74.15206850327937 40.53217896516317, -74.15209256802532 40.532176345745185, -74.15211588660087 40.53217110699498, -74.15214916734715 40.53215784956314, -74.15218061639439 40.532142203974345, -74.15222493612089 40.53212160670132, -74.15227294939261 40.53210658318694, -74.15232346155298 40.53209750724268, -74.15235197206381 40.532096098175465, -74.15238852515434 40.532090637088615, -74.15242365225605 40.53208118563559, -74.15245660936688 40.53206794400108, -74.15277081604007 40.53181305921686, -74.15328968186701 40.53139214959228, -74.15341430695396 40.53130796327642, -74.1535087770206 40.53123845176777, -74.15364287151687 40.53111898973522, -74.15383174308536 40.53096119356464, -74.15400107666713 40.53083155281908, -74.15400810095817 40.53081002344513, -74.1539913543875 40.53079209703625, -74.15390254938657 40.53071031234547, -74.15389025238369 40.530689363906745, -74.1538983168261 40.5306737729357, -74.15391402619248 40.53066178936669, -74.15394245266462 40.530663543660445, -74.15409526916704 40.530752866895575, -74.15410381534751 40.53076082199774, -74.15411827394034 40.53075249793875, -74.15413961431061 40.53073303860879, -74.15421587090995 40.530670842391864, -74.15429254260012 40.53061341884244, -74.1543106878642 40.53059332263554, -74.15428601936009 40.53056860685764, -74.15426760526098 40.53054956664212, -74.15426413350826 40.530533762802364, -74.15449818893731 40.530317742762946, -74.15454356894793 40.53033980876546, -74.15458700273685 40.53035757954541, -74.1546149415534 40.5303597580136, -74.15462807870682 40.530354296251524, -74.15464490270176 40.53033107112984, -74.154697948992 40.53024888010396, -74.15449652366432 40.53010216686129, -74.15454357374344 40.53006213580123, -74.154928948494 40.53022548357583, -74.15504649891903 40.53015381451767, -74.1551594972906 40.53007800262304, -74.15526769307316 40.529998215989764, -74.1553708463825 40.529914631528094, -74.15546872851758 40.52982743456868, -74.15556112246763 40.529736818451184, -74.15564782339318 40.52964298409583, -74.1554708552025 40.529477505471014, -74.1555035725126 40.529438026337886, -74.15573153434924 40.52960090403002, -74.15586370784004 40.52951269279641, -74.15599000320289 40.529419602713844, -74.15611011148468 40.52932186152462, -74.15622373887268 40.52921970834893, -74.15633060741324 40.52911339309951, -74.1564304556916 40.52900317587023, -74.15644868150018 40.52893184170152, -74.15613437434128 40.5286493688206, -74.15618731852335 40.528611371091856, -74.15667105208163 40.52899331160738, -74.15676917912978 40.52902316325297, -74.15701861946272 40.52897765580974, -74.15720948462642 40.528841505123175, -74.15760975710916 40.52865910433018, -74.15789753570571 40.52852881414144, -74.15826103107301 40.52830049916311, -74.15794886622446 40.52808510395389, -74.15797239457906 40.5280670858446, -74.15832645126989 40.52827842678331, -74.1584868712747 40.52819722941271, -74.15864056291043 40.528117072097466, -74.15867696304034 40.5280980880005, -74.15890180648705 40.52793590856382, -74.15917092406274 40.52766975150691, -74.15928316159182 40.52751172483505, -74.15939460542255 40.52742775214459, -74.15970134520087 40.52729599232913, -74.15988277051045 40.52736935854908, -74.16005732698014 40.52763504212075, -74.16042481118043 40.52811848197297, -74.16085825833613 40.52871854670165, -74.16134961674123 40.52937342427568, -74.16122606776823 40.52942442307442, -74.16037397420205 40.52978317262837, -74.15851066957806 40.530565690358976, -74.15730358562197 40.53107601421928, -74.15716510222467 40.53112831757076, -74.15703269710616 40.53119055470081, -74.15690813828239 40.53126202880028, -74.15679305188637 40.531341829156226, -74.15668876914384 40.53142883571464, -74.15602014091493 40.53211509444696, -74.15553157379962 40.53263083291198, -74.15502905638304 40.53316020413729, -74.15449460648982 40.53372522602661, -74.15438619502476 40.53383715181111, -74.15418341696596 40.53404873354976, -74.15397419819314 40.534268148068705, -74.1540469376636 40.53430845747662, -74.15593326515946 40.535353757623916, -74.15704288111978 40.535967071743606, -74.15721860034347 40.53607598695759, -74.15738901857344 40.53618970002845, -74.15755391087164 40.53630806088262, -74.1577130595895 40.53643091331174, -74.15786625465512 40.536558095178755, -74.15801329406118 40.536689438641766, -74.1581539834996 40.53682477035146, -74.1582881372504 40.53696391169797, -74.15841557821597 40.53710667904231, -74.15853613815506 40.53725288395876, -74.15914106361461 40.53789864516972, -74.15955749166822 40.538334282871375, -74.1610239916325 40.53989775936181, -74.16252750206955 40.54150270696239, -74.16359221522823 40.54264214595165, -74.16426953128186 40.54333550220088, -74.164787489725 40.543802109540415, -74.16526055247171 40.544239608788814, -74.16540080744943 40.544432723040366, -74.16548821130228 40.54465254190002, -74.16574238458435 40.54539770524368, -74.16619699714917 40.54711041082142, -74.16629209447046 40.547326548145264, -74.16637022023968 40.547409754531415, -74.16645338150299 40.54749007086909, -74.16654139483066 40.54756731998652, -74.16663406574122 40.54764133139594, -74.16673119016433 40.54771194192642, -74.16683255386238 40.5477789958149, -74.16688793552477 40.54783668828171, -74.16693751501195 40.547897374353084, -74.16698101546085 40.54796071516397, -74.16701819395104 40.54802635702464, -74.16704884286146 40.548093933395336, -74.1670727912225 40.5481630669225, -74.16708990509558 40.54823337158835, -74.16710008889545 40.54830445481286, -74.1671032857336 40.5483759196672, -74.16709947773641 40.54844736709032, -74.16710928376969 40.54849168818563, -74.16725863220502 40.54916666627196, -74.16741722331244 40.549881346371336, -74.1675722334474 40.55057473483423, -74.16773525206598 40.5512914605399, -74.16774634564406 40.55134229812285, -74.1678657336632 40.55188942700564, -74.16789463131346 40.55200100592817, -74.1680522261124 40.55271771156325, -74.16810265756034 40.55294619245344, -74.16820548384898 40.55343190314036, -74.168367067828 40.55413159325645, -74.16852396213297 40.554851938247545, -74.16868441279793 40.55556758524325, -74.16884272896051 40.556269106964784, -74.16900580612418 40.55699036602124, -74.16916695359923 40.5577008470877, -74.16931680969597 40.5584097823186, -74.16947257292988 40.55912652119726, -74.16973650591434 40.56025020142969, -74.16977469861737 40.56038818774329, -74.16980364431954 40.56052747645692, -74.1698232681065 40.56066770735668, -74.1698335198515 40.56080851793835, -74.16983437229177 40.560949543925865, -74.16982582316331 40.561090420605716, -74.16688971956475 40.560476604864014, -74.16591981647925 40.56029041027075, -74.16494149359352 40.560111796632796, -74.16377941590186 40.56031697962214, -74.1627212355826 40.56077419452138, -74.16193293231304 40.56111113296374, -74.1615313008338 40.56126935448012, -74.16096801899167 40.56146020205612, -74.16005640646905 40.561705500244734, -74.15915791685175 40.561935833512, -74.15825784169333 40.562201977322026, -74.15741136739643 40.56249856675777, -74.15725989471525 40.562553264381194, -74.15725974151655 40.56255331937326, -74.1572596120628 40.5625533832119, -74.15711551437285 40.56262064166149, -74.15711540794135 40.562620687375244, -74.15711531383053 40.562620741281094, -74.1569812195498 40.562699594197355, -74.15698100830791 40.562699721306274, -74.15698080699 40.56269986498708, -74.15685893456136 40.56278902157198, -74.15685888785588 40.562789057319634, -74.15685884115395 40.562789094575066, -74.15675090994661 40.56288697489139, -74.15585090370446 40.5637744442177, -74.15511310427365 40.564940545239466, -74.15502927887161 40.565093413717236, -74.15492589723794 40.56524125748242, -74.15480383017025 40.56538194097733, -74.15466447730945 40.56551344318717, -74.15450973579652 40.56563397964899, -74.15434186890778 40.565742097120776, -74.15416347354659 40.56583667597563, -74.15357985531242 40.566253185634096, -74.15295627749487 40.5667760167779, -74.15228114592077 40.5673929468862, -74.15171497164665 40.56788728420549, -74.15075081647721 40.56858755560101, -74.1503313164002 40.56891285867925, -74.14983519298148 40.56935734409398, -74.14936002584392 40.569736054343025, -74.14790142236842 40.57088958110763, -74.14720574297489 40.57053278108783, -74.14715604994949 40.57051317887625, -74.14710342926436 40.57049868528291, -74.14704877948222 40.5704895478033, -74.1469930338136 40.570485922470695, -74.14693714372213 40.570487871185875, -74.14688206405181 40.57049536072397, -74.14682873535375 40.570508263192224, -74.14677806828031 40.570526358265575, -74.1467178961426 40.57054077161484, -74.14665601643654 40.57055007508022, -74.14659317301883 40.570554156824585, -74.14653012133168 40.57055296778119, -74.14646761919411 40.57054652221722, -74.14640641807462 40.57053489763325, -74.14634725367135 40.570518233768546, -74.14629083719771 40.5704967309393, -74.14559994096574 40.57021110657506, -74.14489975749792 40.56991516993312, -74.144387450267 40.569706101170006))\"\n        ],\n        \"semantic_type\": \"\",\n        \"description\": \"\"\n      }\n    }\n  ]\n}"
            }
          },
          "metadata": {},
          "execution_count": 93
        }
      ]
    },
    {
      "cell_type": "code",
      "source": [
        "%%time\n",
        "# Match each accident with a neighborhood.\n",
        "# Will take ~30 mins to run\n",
        "# This is done with left join,\n",
        "# so we preserve all the data points\n",
        "# but we know which ones are not matching with the shapefile\n",
        "gdf.crs = df_nyc.crs\n",
        "gdf = gpd.sjoin(gdf, df_nyc, how='left')\n"
      ],
      "metadata": {
        "colab": {
          "base_uri": "https://localhost:8080/"
        },
        "id": "1bW8Y3pVCRQZ",
        "outputId": "f50f7c9d-f89b-4d43-f48b-f7ec0b2d7ce3"
      },
      "execution_count": 94,
      "outputs": [
        {
          "output_type": "stream",
          "name": "stdout",
          "text": [
            "CPU times: user 2min 10s, sys: 6.83 s, total: 2min 16s\n",
            "Wall time: 2min 16s\n"
          ]
        }
      ]
    },
    {
      "cell_type": "code",
      "source": [
        "gdf.dtypes"
      ],
      "metadata": {
        "id": "SXfvj2LDOVjb",
        "outputId": "49e65dcb-3676-498c-d26c-219596da6afa",
        "colab": {
          "base_uri": "https://localhost:8080/"
        }
      },
      "execution_count": 95,
      "outputs": [
        {
          "output_type": "execute_result",
          "data": {
            "text/plain": [
              "CMPLNT_NUM                    int32\n",
              "ADDR_PCT_CD                category\n",
              "RPT_DT               datetime64[ns]\n",
              "KY_CD                      category\n",
              "PD_CD                      category\n",
              "CRM_ATPT_CPTD_CD           category\n",
              "LAW_CAT_CD                 category\n",
              "BORO_NM                    category\n",
              "LOC_OF_OCCUR_DESC          category\n",
              "PREM_TYP_DESC                object\n",
              "JURISDICTION_CODE          category\n",
              "PARKS_NM                     object\n",
              "HADEVELOPT                   object\n",
              "HOUSING_PSA                  object\n",
              "SUSP_AGE_GROUP             category\n",
              "SUSP_RACE                  category\n",
              "SUSP_SEX                   category\n",
              "TRANSIT_DISTRICT             object\n",
              "Latitude                    float32\n",
              "Longitude                   float32\n",
              "PATROL_BORO                  object\n",
              "STATION_NAME                 object\n",
              "VIC_AGE_GROUP              category\n",
              "VIC_RACE                   category\n",
              "VIC_SEX                    category\n",
              "CMPLNT_FR            datetime64[ns]\n",
              "CMPLNT_TO            datetime64[ns]\n",
              "geometry                   geometry\n",
              "index_right                 float64\n",
              "BoroCode                    float64\n",
              "BoroName                     object\n",
              "CountyFIPS                   object\n",
              "NTACode                      object\n",
              "NTAName                      object\n",
              "Shape_Leng                  float64\n",
              "Shape_Area                  float64\n",
              "dtype: object"
            ]
          },
          "metadata": {},
          "execution_count": 95
        }
      ]
    },
    {
      "cell_type": "code",
      "source": [
        "# We keep only boro_name and ntaname\n",
        "todrop = [\n",
        "    'index_right', 'BoroCode', 'CountyFIPS',\n",
        "    'Shape_Area', 'Shape_Leng'\n",
        "]\n",
        "\n",
        "gdf = gdf.drop(todrop, axis='columns')\n",
        "\n",
        "# Rename the columns\n",
        "gdf = gdf.rename({\n",
        "    'BoroName': 'BOROUGH',\n",
        "    'NTAName': 'NEIGHBORHOOD',\n",
        "    'NTACode': 'NEIGHBORHOOD_CODE',\n",
        "}, axis='columns')"
      ],
      "metadata": {
        "id": "CCqWvpbaGu4D"
      },
      "execution_count": 96,
      "outputs": []
    },
    {
      "cell_type": "code",
      "source": [
        "gdf['BOROUGH'] = gdf['BOROUGH'].str.upper()"
      ],
      "metadata": {
        "id": "lN6ZaE0IFG7I"
      },
      "execution_count": 97,
      "outputs": []
    },
    {
      "cell_type": "code",
      "source": [
        "# Mark as NULL all the lon/lat entries outside the NYC area\n",
        "gdf.loc[gdf.BOROUGH.isnull(), 'Latitude'] = None\n",
        "gdf.loc[gdf.BOROUGH.isnull(), 'Longitude'] = None"
      ],
      "metadata": {
        "id": "knIKqyP0HMcO"
      },
      "execution_count": 98,
      "outputs": []
    },
    {
      "cell_type": "code",
      "source": [
        "# Mark as NULL all the lon/lat entries that generate inconsistencies\n",
        "mask = gdf.query('BOROUGH != BORO_NM and Latitude==Latitude and Longitude==Longitude').CMPLNT_NUM.values\n",
        "condition = gdf.CMPLNT_NUM.isin(mask)\n",
        "\n",
        "gdf.loc[condition, 'Latitude'] = None\n",
        "gdf.loc[condition, 'Longitude'] = None"
      ],
      "metadata": {
        "id": "9iJ215de5lYi"
      },
      "execution_count": 99,
      "outputs": []
    },
    {
      "cell_type": "code",
      "source": [
        "# Delete the cases where the reported and detected boroughs are different\n",
        "# to_delete = sorted(set(to_delete))\n",
        "# gdf = gdf [ ~gdf.CMPLNT_NUM.isin(to_delete) ]"
      ],
      "metadata": {
        "id": "2YMwMU8WGdXL"
      },
      "execution_count": null,
      "outputs": []
    },
    {
      "cell_type": "code",
      "source": [
        "gdf = gdf.drop('geometry', axis='columns')"
      ],
      "metadata": {
        "id": "jyXCFeDFKp4m"
      },
      "execution_count": 100,
      "outputs": []
    },
    {
      "cell_type": "code",
      "source": [
        "df = pd.DataFrame(gdf)"
      ],
      "metadata": {
        "id": "qrUNPxJlKzVa"
      },
      "execution_count": 101,
      "outputs": []
    },
    {
      "cell_type": "code",
      "source": [
        "df.BORO_NM.value_counts()"
      ],
      "metadata": {
        "id": "WbFHhYAii5rT",
        "outputId": "40cc54a1-a2da-42de-c653-70d5b1817344",
        "colab": {
          "base_uri": "https://localhost:8080/"
        }
      },
      "execution_count": 102,
      "outputs": [
        {
          "output_type": "execute_result",
          "data": {
            "text/plain": [
              "BORO_NM\n",
              "BROOKLYN         2617402\n",
              "MANHATTAN        2148761\n",
              "BRONX            1927965\n",
              "QUEENS           1799962\n",
              "STATEN ISLAND     409540\n",
              "Name: count, dtype: int64"
            ]
          },
          "metadata": {},
          "execution_count": 102
        }
      ]
    },
    {
      "cell_type": "code",
      "source": [
        "#Temporarily, we drop these. We will add them back in the future\n",
        "# df.drop(['BOROUGH','NEIGHBORHOOD','NEIGHBORHOOD_CODE'], axis='columns', inplace=True)"
      ],
      "metadata": {
        "id": "c1jv6wFrK6IH"
      },
      "execution_count": null,
      "outputs": []
    },
    {
      "cell_type": "code",
      "source": [
        "df = df[df.BOROUGH == df.BORO_NM]"
      ],
      "metadata": {
        "id": "hSxWBIXSsGWV"
      },
      "execution_count": 103,
      "outputs": []
    },
    {
      "cell_type": "code",
      "source": [
        "df.drop(['BOROUGH'], axis='columns', inplace=True)\n",
        "df.NEIGHBORHOOD_CODE = pd.Categorical(df.NEIGHBORHOOD_CODE)\n",
        "df.NEIGHBORHOOD = pd.Categorical(df.NEIGHBORHOOD)"
      ],
      "metadata": {
        "id": "sj2waUaXpiv7"
      },
      "execution_count": 104,
      "outputs": []
    },
    {
      "cell_type": "markdown",
      "metadata": {
        "id": "SxPNYJESnn68"
      },
      "source": [
        "### TRANSIT_DISTRICT"
      ]
    },
    {
      "cell_type": "code",
      "metadata": {
        "id": "6Ctiw97bJqLO",
        "colab": {
          "base_uri": "https://localhost:8080/"
        },
        "outputId": "fbac8c75-954b-4103-9591-8c8819769e84"
      },
      "source": [
        "df.TRANSIT_DISTRICT.value_counts()\n"
      ],
      "execution_count": 105,
      "outputs": [
        {
          "output_type": "execute_result",
          "data": {
            "text/plain": [
              "TRANSIT_DISTRICT\n",
              "4     31451\n",
              "2     24022\n",
              "1     19622\n",
              "3     19010\n",
              "33    18343\n",
              "20    18086\n",
              "12    14933\n",
              "11    13997\n",
              "32    13471\n",
              "30    12562\n",
              "34     8790\n",
              "23     3174\n",
              "Name: count, dtype: int64"
            ]
          },
          "metadata": {},
          "execution_count": 105
        }
      ]
    },
    {
      "cell_type": "code",
      "metadata": {
        "id": "emgAO7T_nVqt",
        "colab": {
          "base_uri": "https://localhost:8080/"
        },
        "outputId": "6096783c-ae0a-4567-a138-be34e9e9ce77"
      },
      "source": [
        "len(df) - df.TRANSIT_DISTRICT.isnull().sum()"
      ],
      "execution_count": 106,
      "outputs": [
        {
          "output_type": "execute_result",
          "data": {
            "text/plain": [
              "197461"
            ]
          },
          "metadata": {},
          "execution_count": 106
        }
      ]
    },
    {
      "cell_type": "code",
      "metadata": {
        "id": "9EPb-B-dnPQs"
      },
      "source": [
        "df.drop('TRANSIT_DISTRICT', axis='columns', inplace=True)\n"
      ],
      "execution_count": 107,
      "outputs": []
    },
    {
      "cell_type": "code",
      "metadata": {
        "id": "9lVv1_Bgn27Z"
      },
      "source": [],
      "execution_count": null,
      "outputs": []
    },
    {
      "cell_type": "markdown",
      "metadata": {
        "id": "H7KUUobwoXxV"
      },
      "source": [
        "### PREM_TYP_DESC"
      ]
    },
    {
      "cell_type": "code",
      "metadata": {
        "id": "rq9toKCIn2-T",
        "colab": {
          "base_uri": "https://localhost:8080/"
        },
        "outputId": "6ac27636-8aa0-4dd6-c374-2b20f7a10c13"
      },
      "source": [
        "df.PREM_TYP_DESC.value_counts()"
      ],
      "execution_count": 108,
      "outputs": [
        {
          "output_type": "execute_result",
          "data": {
            "text/plain": [
              "PREM_TYP_DESC\n",
              "STREET                        2787962\n",
              "RESIDENCE - APT. HOUSE        1901512\n",
              "RESIDENCE-HOUSE                869009\n",
              "RESIDENCE - PUBLIC HOUSING     651955\n",
              "CHAIN STORE                    242605\n",
              "                               ...   \n",
              "CLOTHING BOUTIQUE                   4\n",
              "SHOE STORE                          4\n",
              "DOCTOR/DENTIST                      2\n",
              "SCHOOL                              1\n",
              "CHECK CASH                          1\n",
              "Name: count, Length: 93, dtype: int64"
            ]
          },
          "metadata": {},
          "execution_count": 108
        }
      ]
    },
    {
      "cell_type": "code",
      "metadata": {
        "id": "OgVlI2Bkoacb",
        "colab": {
          "base_uri": "https://localhost:8080/"
        },
        "outputId": "24f281b3-6e9b-4185-89ac-a3848886660b"
      },
      "source": [
        "df.PREM_TYP_DESC.isnull().sum()"
      ],
      "execution_count": 109,
      "outputs": [
        {
          "output_type": "execute_result",
          "data": {
            "text/plain": [
              "38263"
            ]
          },
          "metadata": {},
          "execution_count": 109
        }
      ]
    },
    {
      "cell_type": "code",
      "metadata": {
        "id": "lDXJNcnmodu9"
      },
      "source": [
        "df = df [~df.PREM_TYP_DESC.isnull()]"
      ],
      "execution_count": 110,
      "outputs": []
    },
    {
      "cell_type": "code",
      "metadata": {
        "id": "NJ30D6uLogxw"
      },
      "source": [
        "df.PREM_TYP_DESC = pd.Categorical(df.PREM_TYP_DESC)"
      ],
      "execution_count": 111,
      "outputs": []
    },
    {
      "cell_type": "code",
      "metadata": {
        "id": "RTVAo24bn6jc",
        "colab": {
          "base_uri": "https://localhost:8080/"
        },
        "outputId": "c29bc5f6-0132-4c4a-b550-5d088d993e82"
      },
      "source": [
        "df.PARKS_NM.value_counts()"
      ],
      "execution_count": 112,
      "outputs": [
        {
          "output_type": "execute_result",
          "data": {
            "text/plain": [
              "PARKS_NM\n",
              "CENTRAL PARK                      2300\n",
              "FLUSHING MEADOWS CORONA PARK      1953\n",
              "WASHINGTON SQUARE PARK            1552\n",
              "CONEY ISLAND BEACH & BOARDWALK    1428\n",
              "RIVERSIDE PARK                     753\n",
              "                                  ... \n",
              "ARSENAL NORTH                        1\n",
              "UNNAMED PARK ON KEAP STREET          1\n",
              "SPORTS PARK                          1\n",
              "GRAND ARMY PLAZA MANHATTAN           1\n",
              "GARDEN AT BEACH 36TH STREET          1\n",
              "Name: count, Length: 1276, dtype: int64"
            ]
          },
          "metadata": {},
          "execution_count": 112
        }
      ]
    },
    {
      "cell_type": "code",
      "metadata": {
        "id": "ww2KnUq3n6oV",
        "colab": {
          "base_uri": "https://localhost:8080/"
        },
        "outputId": "595316a7-6ec4-4892-ac1a-56e0d6046aa7"
      },
      "source": [
        "df.PARKS_NM.value_counts().sum()"
      ],
      "execution_count": 113,
      "outputs": [
        {
          "output_type": "execute_result",
          "data": {
            "text/plain": [
              "37152"
            ]
          },
          "metadata": {},
          "execution_count": 113
        }
      ]
    },
    {
      "cell_type": "code",
      "metadata": {
        "id": "lHVCmdVjol2_"
      },
      "source": [
        "df.drop('PARKS_NM', axis='columns', inplace=True)\n"
      ],
      "execution_count": 114,
      "outputs": []
    },
    {
      "cell_type": "markdown",
      "metadata": {
        "id": "QYM6H0Cxoslu"
      },
      "source": [
        "\n",
        " 19  HADEVELOPT         object\n"
      ]
    },
    {
      "cell_type": "code",
      "metadata": {
        "id": "xAvDJEChowug",
        "colab": {
          "base_uri": "https://localhost:8080/"
        },
        "outputId": "16e143cd-0600-4945-e745-ffa6b587ed39"
      },
      "source": [
        "df.HADEVELOPT.value_counts()"
      ],
      "execution_count": 115,
      "outputs": [
        {
          "output_type": "execute_result",
          "data": {
            "text/plain": [
              "HADEVELOPT\n",
              "INGERSOLL                                4553\n",
              "WALD                                     2655\n",
              "WILLIAMSBURG                             2457\n",
              "NOSTRAND                                 2365\n",
              "RIIS                                     2026\n",
              "MARLBORO                                 1952\n",
              "GRANT                                    1911\n",
              "MANHATTANVILLE                           1910\n",
              "SHEEPSHEAD BAY                           1719\n",
              "WHITMAN                                  1415\n",
              "WOODSIDE                                 1216\n",
              "RIIS II                                  1121\n",
              "SMITH                                    1095\n",
              "RED HOOK EAST                             902\n",
              "MARKHAM GARDENS                           624\n",
              "WEST BRIGHTON I                           473\n",
              "GLENWOOD                                  406\n",
              "CAMPOS PLAZA I                            400\n",
              "RED HOOK WEST                             234\n",
              "LOWER EAST SIDE REHAB (GROUP 5)           195\n",
              "FIRST HOUSES                              141\n",
              "WEST BRIGHTON II                           98\n",
              "LOWER EAST SIDE II                         53\n",
              "MARBLE HILL                                38\n",
              "BREUKELEN                                   7\n",
              "HAMMEL                                      3\n",
              "VLADECK                                     2\n",
              "TWO BRIDGES URA (SITE 7)                    1\n",
              "BEACH 41ST STREET-BEACH CHANNEL DRIVE       1\n",
              "ARMSTRONG I                                 1\n",
              "Name: count, dtype: int64"
            ]
          },
          "metadata": {},
          "execution_count": 115
        }
      ]
    },
    {
      "cell_type": "code",
      "metadata": {
        "id": "t_7EV6nUpPdR"
      },
      "source": [
        "df.drop('HADEVELOPT', axis='columns', inplace=True)\n"
      ],
      "execution_count": 116,
      "outputs": []
    },
    {
      "cell_type": "markdown",
      "metadata": {
        "id": "tdTW65d2ospC"
      },
      "source": [
        " 20  HOUSING_PSA        object\n",
        "\n"
      ]
    },
    {
      "cell_type": "code",
      "metadata": {
        "id": "jUY6bR2xoxHV",
        "colab": {
          "base_uri": "https://localhost:8080/"
        },
        "outputId": "ff30df94-6d0b-4652-900c-1e0bded6cf9f"
      },
      "source": [
        "df.HOUSING_PSA.value_counts()"
      ],
      "execution_count": 117,
      "outputs": [
        {
          "output_type": "execute_result",
          "data": {
            "text/plain": [
              "HOUSING_PSA\n",
              "670      9244\n",
              "887      9169\n",
              "720      7985\n",
              "845      7960\n",
              "632      7586\n",
              "         ... \n",
              "32388       1\n",
              "14168       1\n",
              "5061        1\n",
              "26215       1\n",
              "8455        1\n",
              "Name: count, Length: 4625, dtype: int64"
            ]
          },
          "metadata": {},
          "execution_count": 117
        }
      ]
    },
    {
      "cell_type": "code",
      "metadata": {
        "id": "ltCXjSHFpVAx",
        "colab": {
          "base_uri": "https://localhost:8080/"
        },
        "outputId": "69f940e1-a49e-444e-c1df-7d1ad108b4a5"
      },
      "source": [
        "df.HOUSING_PSA.value_counts().sum()"
      ],
      "execution_count": 118,
      "outputs": [
        {
          "output_type": "execute_result",
          "data": {
            "text/plain": [
              "665380"
            ]
          },
          "metadata": {},
          "execution_count": 118
        }
      ]
    },
    {
      "cell_type": "code",
      "metadata": {
        "id": "r79Mo80tpXoG"
      },
      "source": [
        "df.drop('HOUSING_PSA', axis='columns', inplace=True)"
      ],
      "execution_count": 119,
      "outputs": []
    },
    {
      "cell_type": "markdown",
      "metadata": {
        "id": "Zj3ZTvXIosrk"
      },
      "source": [
        " 30  PATROL_BORO        object\n"
      ]
    },
    {
      "cell_type": "code",
      "metadata": {
        "id": "qushxX_YoxiI",
        "colab": {
          "base_uri": "https://localhost:8080/"
        },
        "outputId": "9c9ab4d9-a682-4c5e-9c83-bda6da2883b0"
      },
      "source": [
        "df.PATROL_BORO.value_counts()"
      ],
      "execution_count": 120,
      "outputs": [
        {
          "output_type": "execute_result",
          "data": {
            "text/plain": [
              "PATROL_BORO\n",
              "PATROL BORO BRONX            1901409\n",
              "PATROL BORO BKLYN SOUTH      1307331\n",
              "PATROL BORO BKLYN NORTH      1296858\n",
              "PATROL BORO MAN SOUTH        1082775\n",
              "PATROL BORO MAN NORTH        1055502\n",
              "PATROL BORO QUEENS NORTH      930470\n",
              "PATROL BORO QUEENS SOUTH      858884\n",
              "PATROL BORO STATEN ISLAND     407844\n",
              "Name: count, dtype: int64"
            ]
          },
          "metadata": {},
          "execution_count": 120
        }
      ]
    },
    {
      "cell_type": "code",
      "metadata": {
        "id": "X5q3w0T1pcuI"
      },
      "source": [
        "df.PATROL_BORO = pd.Categorical(df.PATROL_BORO)"
      ],
      "execution_count": 121,
      "outputs": []
    },
    {
      "cell_type": "code",
      "metadata": {
        "id": "K1YegskOpjTj",
        "colab": {
          "base_uri": "https://localhost:8080/"
        },
        "outputId": "f378e152-d7c3-464b-b1ab-53d97b8d3cc5"
      },
      "source": [
        "df.PATROL_BORO.isnull().sum()"
      ],
      "execution_count": 122,
      "outputs": [
        {
          "output_type": "execute_result",
          "data": {
            "text/plain": [
              "159"
            ]
          },
          "metadata": {},
          "execution_count": 122
        }
      ]
    },
    {
      "cell_type": "code",
      "metadata": {
        "id": "UNPb3rYLpoNl"
      },
      "source": [
        "df = df[~df.PATROL_BORO.isnull()]"
      ],
      "execution_count": 123,
      "outputs": []
    },
    {
      "cell_type": "markdown",
      "metadata": {
        "id": "MJHh-VXrosuV"
      },
      "source": [
        " 31  STATION_NAME       object"
      ]
    },
    {
      "cell_type": "code",
      "metadata": {
        "id": "ygz6QMTqoyBi",
        "colab": {
          "base_uri": "https://localhost:8080/"
        },
        "outputId": "ee2f67e6-d114-4af0-f0b7-2476cb5e1daf"
      },
      "source": [
        "df.STATION_NAME.value_counts()"
      ],
      "execution_count": 124,
      "outputs": [
        {
          "output_type": "execute_result",
          "data": {
            "text/plain": [
              "STATION_NAME\n",
              "125 STREET                        9163\n",
              "14 STREET                         5100\n",
              "42 ST.-PORT AUTHORITY BUS TERM    4772\n",
              "34 ST.-PENN STATION               4358\n",
              "42 ST.-TIMES SQUARE               3888\n",
              "                                  ... \n",
              "DISTRICT 12 OFFICE                  16\n",
              "DISTRICT 34 OFFICE                  15\n",
              "OFF-SYSTEM                           8\n",
              "WYCKOFF AVENUE                       6\n",
              "DISTRICT 23 OFFICE                   6\n",
              "Name: count, Length: 372, dtype: int64"
            ]
          },
          "metadata": {},
          "execution_count": 124
        }
      ]
    },
    {
      "cell_type": "code",
      "source": [
        "df.STATION_NAME.replace(to_replace = '(null)', value=np.nan, inplace = True)"
      ],
      "metadata": {
        "id": "nfwEbdxoPcaT"
      },
      "execution_count": 125,
      "outputs": []
    },
    {
      "cell_type": "code",
      "metadata": {
        "id": "dXsnUC56pvuI",
        "colab": {
          "base_uri": "https://localhost:8080/"
        },
        "outputId": "0fc56618-b7af-4bd0-badf-b024e9fd353c"
      },
      "source": [
        "df.STATION_NAME.isnull().sum()\n",
        "\n"
      ],
      "execution_count": 126,
      "outputs": [
        {
          "output_type": "execute_result",
          "data": {
            "text/plain": [
              "8645378"
            ]
          },
          "metadata": {},
          "execution_count": 126
        }
      ]
    },
    {
      "cell_type": "code",
      "metadata": {
        "id": "o5eP2Ha8pznx"
      },
      "source": [
        "df.drop('STATION_NAME', axis='columns', inplace=True)"
      ],
      "execution_count": 127,
      "outputs": []
    },
    {
      "cell_type": "code",
      "metadata": {
        "id": "zfCHXyE_5mm8",
        "colab": {
          "base_uri": "https://localhost:8080/"
        },
        "outputId": "c7558183-c497-42de-d80e-b9e9c15c0ab0"
      },
      "source": [
        "df.info()"
      ],
      "execution_count": null,
      "outputs": [
        {
          "output_type": "stream",
          "name": "stdout",
          "text": [
            "<class 'pandas.core.frame.DataFrame'>\n",
            "Int64Index: 8329781 entries, 17 to 8353048\n",
            "Data columns (total 25 columns):\n",
            " #   Column             Dtype         \n",
            "---  ------             -----         \n",
            " 0   CMPLNT_NUM         int32         \n",
            " 1   ADDR_PCT_CD        category      \n",
            " 2   RPT_DT             datetime64[ns]\n",
            " 3   KY_CD              category      \n",
            " 4   PD_CD              category      \n",
            " 5   CRM_ATPT_CPTD_CD   category      \n",
            " 6   LAW_CAT_CD         category      \n",
            " 7   BORO_NM            category      \n",
            " 8   LOC_OF_OCCUR_DESC  category      \n",
            " 9   PREM_TYP_DESC      category      \n",
            " 10  JURISDICTION_CODE  category      \n",
            " 11  SUSP_AGE_GROUP     category      \n",
            " 12  SUSP_RACE          category      \n",
            " 13  SUSP_SEX           category      \n",
            " 14  Latitude           float32       \n",
            " 15  Longitude          float32       \n",
            " 16  PATROL_BORO        category      \n",
            " 17  VIC_AGE_GROUP      category      \n",
            " 18  VIC_RACE           category      \n",
            " 19  VIC_SEX            category      \n",
            " 20  CMPLNT_FR          datetime64[ns]\n",
            " 21  CMPLNT_TO          datetime64[ns]\n",
            " 22  BOROUGH            category      \n",
            " 23  NEIGHBORHOOD_CODE  category      \n",
            " 24  NEIGHBORHOOD       category      \n",
            "dtypes: category(19), datetime64[ns](3), float32(2), int32(1)\n",
            "memory usage: 524.3 MB\n"
          ]
        }
      ]
    },
    {
      "cell_type": "code",
      "metadata": {
        "id": "rBJBYf9g5mm9"
      },
      "source": [],
      "execution_count": null,
      "outputs": []
    },
    {
      "cell_type": "markdown",
      "metadata": {
        "id": "haa-38oP5mm9"
      },
      "source": [
        "## Data exploration\n",
        "\n",
        "In this part we check the different values that appear in the columns. When we detect noisy results, we delete the corresponding values. In fact, many of the operations that are performed above, in the 'data cleaning' section, are the result of observations that we make here."
      ]
    },
    {
      "cell_type": "code",
      "metadata": {
        "id": "69cO2qRn5mm-"
      },
      "source": [
        "# Find the unique values in each column\n",
        "#\n",
        "# df.describe(include = [np.object, 'category']).T['unique']\n",
        "unique = df.describe(include = 'all').T['unique'].sort_values()"
      ],
      "execution_count": 128,
      "outputs": []
    },
    {
      "cell_type": "code",
      "metadata": {
        "id": "dO8EETzo5mm-",
        "colab": {
          "base_uri": "https://localhost:8080/"
        },
        "outputId": "6196c5f0-4a87-447d-d12e-5effa56116c9"
      },
      "source": [
        "unique"
      ],
      "execution_count": 129,
      "outputs": [
        {
          "output_type": "execute_result",
          "data": {
            "text/plain": [
              "CRM_ATPT_CPTD_CD       2\n",
              "SUSP_SEX               2\n",
              "LAW_CAT_CD             3\n",
              "VIC_SEX                5\n",
              "BORO_NM                5\n",
              "LOC_OF_OCCUR_DESC      5\n",
              "VIC_AGE_GROUP          5\n",
              "SUSP_AGE_GROUP         5\n",
              "VIC_RACE               7\n",
              "SUSP_RACE              7\n",
              "PATROL_BORO            8\n",
              "JURISDICTION_CODE     28\n",
              "KY_CD                 75\n",
              "ADDR_PCT_CD           77\n",
              "PREM_TYP_DESC         93\n",
              "NEIGHBORHOOD_CODE    195\n",
              "NEIGHBORHOOD         195\n",
              "PD_CD                442\n",
              "CMPLNT_NUM           NaN\n",
              "RPT_DT               NaN\n",
              "Latitude             NaN\n",
              "Longitude            NaN\n",
              "CMPLNT_FR            NaN\n",
              "CMPLNT_TO            NaN\n",
              "Name: unique, dtype: object"
            ]
          },
          "metadata": {},
          "execution_count": 129
        }
      ]
    },
    {
      "cell_type": "code",
      "metadata": {
        "id": "_M4Bc4GlHs1F"
      },
      "source": [],
      "execution_count": null,
      "outputs": []
    },
    {
      "cell_type": "code",
      "metadata": {
        "id": "3LVJIEak5mnA",
        "colab": {
          "base_uri": "https://localhost:8080/"
        },
        "outputId": "fa889bd7-fa6b-4a34-fc8c-1df1e397c844"
      },
      "source": [
        "for column in unique.index:\n",
        "    if unique[column] < 200:\n",
        "        print(df[column].value_counts())\n",
        "        print(\"=====\")"
      ],
      "execution_count": 130,
      "outputs": [
        {
          "output_type": "stream",
          "name": "stdout",
          "text": [
            "CRM_ATPT_CPTD_CD\n",
            "COMPLETED    8693653\n",
            "ATTEMPTED     147420\n",
            "Name: count, dtype: int64\n",
            "=====\n",
            "SUSP_SEX\n",
            "M    3113775\n",
            "F     951834\n",
            "Name: count, dtype: int64\n",
            "=====\n",
            "LAW_CAT_CD\n",
            "MISDEMEANOR    4873147\n",
            "FELONY         2769373\n",
            "VIOLATION      1198553\n",
            "Name: count, dtype: int64\n",
            "=====\n",
            "VIC_SEX\n",
            "F    3463307\n",
            "M    2948506\n",
            "E    1276324\n",
            "D    1147286\n",
            "L       5649\n",
            "Name: count, dtype: int64\n",
            "=====\n",
            "BORO_NM\n",
            "BROOKLYN         2604188\n",
            "MANHATTAN        2139491\n",
            "BRONX            1901393\n",
            "QUEENS           1788156\n",
            "STATEN ISLAND     407845\n",
            "Name: count, dtype: int64\n",
            "=====\n",
            "LOC_OF_OCCUR_DESC\n",
            "INSIDE         4530462\n",
            "FRONT OF       2100421\n",
            "OPPOSITE OF     224720\n",
            "REAR OF         180509\n",
            "OUTSIDE           1420\n",
            "Name: count, dtype: int64\n",
            "=====\n",
            "VIC_AGE_GROUP\n",
            "25-44    2952572\n",
            "45-64    1532029\n",
            "18-24     896920\n",
            "<18       414939\n",
            "65+       326599\n",
            "Name: count, dtype: int64\n",
            "=====\n",
            "SUSP_AGE_GROUP\n",
            "25-44    1612683\n",
            "18-24     600697\n",
            "45-64     562255\n",
            "<18       202302\n",
            "65+        51595\n",
            "Name: count, dtype: int64\n",
            "=====\n",
            "VIC_RACE\n",
            "UNKNOWN                           2861498\n",
            "BLACK                             2139137\n",
            "WHITE                             1484082\n",
            "WHITE HISPANIC                    1454970\n",
            "ASIAN / PACIFIC ISLANDER           548171\n",
            "BLACK HISPANIC                     313959\n",
            "AMERICAN INDIAN/ALASKAN NATIVE      39256\n",
            "Name: count, dtype: int64\n",
            "=====\n",
            "SUSP_RACE\n",
            "UNKNOWN                           5071853\n",
            "BLACK                             1910346\n",
            "WHITE HISPANIC                     867109\n",
            "WHITE                              538454\n",
            "BLACK HISPANIC                     267445\n",
            "ASIAN / PACIFIC ISLANDER           171209\n",
            "AMERICAN INDIAN/ALASKAN NATIVE      14657\n",
            "Name: count, dtype: int64\n",
            "=====\n",
            "PATROL_BORO\n",
            "PATROL BORO BRONX            1901409\n",
            "PATROL BORO BKLYN SOUTH      1307331\n",
            "PATROL BORO BKLYN NORTH      1296858\n",
            "PATROL BORO MAN SOUTH        1082775\n",
            "PATROL BORO MAN NORTH        1055502\n",
            "PATROL BORO QUEENS NORTH      930470\n",
            "PATROL BORO QUEENS SOUTH      858884\n",
            "PATROL BORO STATEN ISLAND     407844\n",
            "Name: count, dtype: int64\n",
            "=====\n",
            "JURISDICTION_CODE\n",
            "0     7881419\n",
            "2      658582\n",
            "1      196344\n",
            "3       39551\n",
            "97      26662\n",
            "72      10323\n",
            "69       8869\n",
            "4        5917\n",
            "14       4020\n",
            "11       2285\n",
            "88       1809\n",
            "15       1196\n",
            "6         603\n",
            "17        508\n",
            "12        505\n",
            "87        497\n",
            "71        474\n",
            "9         463\n",
            "7         330\n",
            "13        310\n",
            "73        134\n",
            "85        117\n",
            "51         79\n",
            "16         30\n",
            "8          16\n",
            "52         15\n",
            "76         14\n",
            "79          1\n",
            "Name: count, dtype: int64\n",
            "=====\n",
            "KY_CD\n",
            "341    1540450\n",
            "578    1180516\n",
            "344     928916\n",
            "109     779180\n",
            "351     705872\n",
            "        ...   \n",
            "460         16\n",
            "357         13\n",
            "123          7\n",
            "362          5\n",
            "577          3\n",
            "Name: count, Length: 75, dtype: int64\n",
            "=====\n",
            "ADDR_PCT_CD\n",
            "75     282884\n",
            "43     223934\n",
            "44     219677\n",
            "40     212340\n",
            "14     203562\n",
            "        ...  \n",
            "111     56641\n",
            "123     53831\n",
            "76      48066\n",
            "100     47004\n",
            "22       6502\n",
            "Name: count, Length: 77, dtype: int64\n",
            "=====\n",
            "PREM_TYP_DESC\n",
            "STREET                        2787946\n",
            "RESIDENCE - APT. HOUSE        1901507\n",
            "RESIDENCE-HOUSE                868991\n",
            "RESIDENCE - PUBLIC HOUSING     651955\n",
            "CHAIN STORE                    242605\n",
            "                               ...   \n",
            "CLOTHING BOUTIQUE                   4\n",
            "SHOE STORE                          3\n",
            "DOCTOR/DENTIST                      2\n",
            "CHECK CASH                          1\n",
            "SCHOOL                              1\n",
            "Name: count, Length: 93, dtype: int64\n",
            "=====\n",
            "NEIGHBORHOOD_CODE\n",
            "MN17    232564\n",
            "BK82    174256\n",
            "BK61    164211\n",
            "MN13    149566\n",
            "MN34    138167\n",
            "         ...  \n",
            "MN50      7759\n",
            "QN47      7395\n",
            "QN98      2748\n",
            "SI99       104\n",
            "BX98         7\n",
            "Name: count, Length: 195, dtype: int64\n",
            "=====\n",
            "NEIGHBORHOOD\n",
            "Midtown-Midtown South                         232564\n",
            "East New York                                 174256\n",
            "Crown Heights North                           164211\n",
            "Hudson Yards-Chelsea-Flatiron-Union Square    149566\n",
            "East Harlem North                             138167\n",
            "                                               ...  \n",
            "Stuyvesant Town-Cooper Village                  7759\n",
            "Ft. Totten-Bay Terrace-Clearview                7395\n",
            "Airport                                         2748\n",
            "park-cemetery-etc-Staten Island                  104\n",
            "Rikers Island                                      7\n",
            "Name: count, Length: 195, dtype: int64\n",
            "=====\n"
          ]
        }
      ]
    },
    {
      "cell_type": "code",
      "metadata": {
        "id": "tmgxDfBz5mnB",
        "colab": {
          "base_uri": "https://localhost:8080/"
        },
        "outputId": "b195ae0c-13a2-4643-beb1-4c8d1346809b"
      },
      "source": [
        "df.info()"
      ],
      "execution_count": null,
      "outputs": [
        {
          "output_type": "stream",
          "name": "stdout",
          "text": [
            "<class 'pandas.core.frame.DataFrame'>\n",
            "Int64Index: 8350561 entries, 0 to 8353048\n",
            "Data columns (total 22 columns):\n",
            " #   Column             Dtype         \n",
            "---  ------             -----         \n",
            " 0   CMPLNT_NUM         int32         \n",
            " 1   ADDR_PCT_CD        category      \n",
            " 2   RPT_DT             datetime64[ns]\n",
            " 3   KY_CD              category      \n",
            " 4   PD_CD              category      \n",
            " 5   CRM_ATPT_CPTD_CD   category      \n",
            " 6   LAW_CAT_CD         category      \n",
            " 7   BORO_NM            category      \n",
            " 8   LOC_OF_OCCUR_DESC  category      \n",
            " 9   PREM_TYP_DESC      category      \n",
            " 10  JURISDICTION_CODE  category      \n",
            " 11  SUSP_AGE_GROUP     category      \n",
            " 12  SUSP_RACE          category      \n",
            " 13  SUSP_SEX           category      \n",
            " 14  Latitude           float32       \n",
            " 15  Longitude          float32       \n",
            " 16  PATROL_BORO        category      \n",
            " 17  VIC_AGE_GROUP      category      \n",
            " 18  VIC_RACE           category      \n",
            " 19  VIC_SEX            category      \n",
            " 20  CMPLNT_FR          datetime64[ns]\n",
            " 21  CMPLNT_TO          datetime64[ns]\n",
            "dtypes: category(16), datetime64[ns](3), float32(2), int32(1)\n",
            "memory usage: 485.8 MB\n"
          ]
        }
      ]
    },
    {
      "cell_type": "code",
      "metadata": {
        "id": "XMLREtWvr53V",
        "colab": {
          "base_uri": "https://localhost:8080/"
        },
        "outputId": "a50f57c7-f381-4cab-8b2c-a1ddb42be4a5"
      },
      "source": [
        "df['PREM_TYP_DESC'].value_counts().count()"
      ],
      "execution_count": 131,
      "outputs": [
        {
          "output_type": "execute_result",
          "data": {
            "text/plain": [
              "93"
            ]
          },
          "metadata": {},
          "execution_count": 131
        }
      ]
    },
    {
      "cell_type": "code",
      "metadata": {
        "id": "dvciXUSr5mnC"
      },
      "source": [
        "# All columns, except for the dates and spatial coordinates, are categorical\n",
        "# Columns with less than a few thousand unique values are good candidates\n",
        "# for ENUMs in the database given that the dataset is static.\n",
        "# Also, in Pandas the internal representation becomes much more efficient\n",
        "# as the Categoricals are stored as integers and not as strings\n",
        "for column in unique.index:\n",
        "    if column == 'RPT_DT':\n",
        "        continue\n",
        "    if df[column].value_counts().count() < 1000:\n",
        "      df[column] = pd.Categorical(df[column])"
      ],
      "execution_count": 132,
      "outputs": []
    },
    {
      "cell_type": "code",
      "metadata": {
        "id": "FVGtbgdr5mnD",
        "colab": {
          "base_uri": "https://localhost:8080/"
        },
        "outputId": "7bfeb580-2983-48c4-db9a-614a3e0dc5fb"
      },
      "source": [
        "# With all the proper data typing the dataset went down in size from 1.9Gb+ to 425Mb.\n",
        "df.info()"
      ],
      "execution_count": null,
      "outputs": [
        {
          "output_type": "stream",
          "name": "stdout",
          "text": [
            "<class 'pandas.core.frame.DataFrame'>\n",
            "Int64Index: 8329781 entries, 17 to 8353048\n",
            "Data columns (total 25 columns):\n",
            " #   Column             Dtype         \n",
            "---  ------             -----         \n",
            " 0   CMPLNT_NUM         int32         \n",
            " 1   ADDR_PCT_CD        category      \n",
            " 2   RPT_DT             datetime64[ns]\n",
            " 3   KY_CD              category      \n",
            " 4   PD_CD              category      \n",
            " 5   CRM_ATPT_CPTD_CD   category      \n",
            " 6   LAW_CAT_CD         category      \n",
            " 7   BORO_NM            category      \n",
            " 8   LOC_OF_OCCUR_DESC  category      \n",
            " 9   PREM_TYP_DESC      category      \n",
            " 10  JURISDICTION_CODE  category      \n",
            " 11  SUSP_AGE_GROUP     category      \n",
            " 12  SUSP_RACE          category      \n",
            " 13  SUSP_SEX           category      \n",
            " 14  Latitude           float32       \n",
            " 15  Longitude          float32       \n",
            " 16  PATROL_BORO        category      \n",
            " 17  VIC_AGE_GROUP      category      \n",
            " 18  VIC_RACE           category      \n",
            " 19  VIC_SEX            category      \n",
            " 20  CMPLNT_FR          datetime64[ns]\n",
            " 21  CMPLNT_TO          datetime64[ns]\n",
            " 22  BOROUGH            category      \n",
            " 23  NEIGHBORHOOD_CODE  category      \n",
            " 24  NEIGHBORHOOD       category      \n",
            "dtypes: category(19), datetime64[ns](3), float32(2), int32(1)\n",
            "memory usage: 524.3 MB\n"
          ]
        }
      ]
    },
    {
      "cell_type": "code",
      "metadata": {
        "id": "jF1mm7Xu5mnD",
        "colab": {
          "base_uri": "https://localhost:8080/"
        },
        "outputId": "050fa2ce-c882-4486-977c-786b713d6ee5"
      },
      "source": [
        "df.memory_usage()"
      ],
      "execution_count": null,
      "outputs": [
        {
          "output_type": "execute_result",
          "data": {
            "text/plain": [
              "Index                66804488\n",
              "CMPLNT_NUM           33402244\n",
              "ADDR_PCT_CD           8353281\n",
              "RPT_DT               66804488\n",
              "KY_CD                 8353257\n",
              "PD_CD                16721186\n",
              "CRM_ATPT_CPTD_CD      8350693\n",
              "LAW_CAT_CD            8350693\n",
              "BORO_NM               8350773\n",
              "LOC_OF_OCCUR_DESC     8350765\n",
              "PREM_TYP_DESC         8353289\n",
              "JURISDICTION_CODE     8351841\n",
              "SUSP_AGE_GROUP        8350773\n",
              "SUSP_RACE             8350917\n",
              "SUSP_SEX              8350685\n",
              "Latitude             33402244\n",
              "Longitude            33402244\n",
              "PATROL_BORO           8350933\n",
              "VIC_AGE_GROUP         8350773\n",
              "VIC_RACE              8350917\n",
              "VIC_SEX               8350781\n",
              "CMPLNT_FR            66804488\n",
              "CMPLNT_TO            66804488\n",
              "dtype: int64"
            ]
          },
          "metadata": {},
          "execution_count": 111
        }
      ]
    },
    {
      "cell_type": "code",
      "metadata": {
        "id": "3-DkWZbI5mnE",
        "outputId": "d611fc26-7179-463d-dd57-3b282d0e94aa",
        "colab": {
          "base_uri": "https://localhost:8080/"
        }
      },
      "source": [
        "df.dtypes"
      ],
      "execution_count": null,
      "outputs": [
        {
          "output_type": "execute_result",
          "data": {
            "text/plain": [
              "CMPLNT_NUM                    int32\n",
              "ADDR_PCT_CD                category\n",
              "RPT_DT               datetime64[ns]\n",
              "KY_CD                      category\n",
              "PD_CD                      category\n",
              "CRM_ATPT_CPTD_CD           category\n",
              "LAW_CAT_CD                 category\n",
              "BORO_NM                    category\n",
              "LOC_OF_OCCUR_DESC          category\n",
              "PREM_TYP_DESC              category\n",
              "JURISDICTION_CODE          category\n",
              "SUSP_AGE_GROUP             category\n",
              "SUSP_RACE                  category\n",
              "SUSP_SEX                   category\n",
              "Latitude                    float32\n",
              "Longitude                   float32\n",
              "PATROL_BORO                category\n",
              "VIC_AGE_GROUP              category\n",
              "VIC_RACE                   category\n",
              "VIC_SEX                    category\n",
              "CMPLNT_FR            datetime64[ns]\n",
              "CMPLNT_TO            datetime64[ns]\n",
              "BOROUGH                    category\n",
              "NEIGHBORHOOD_CODE          category\n",
              "NEIGHBORHOOD               category\n",
              "dtype: object"
            ]
          },
          "metadata": {},
          "execution_count": 233
        }
      ]
    },
    {
      "cell_type": "markdown",
      "metadata": {
        "id": "s4Nw6Q6J5mnK"
      },
      "source": [
        "## Storing in a MySQL database"
      ]
    },
    {
      "cell_type": "code",
      "metadata": {
        "id": "pIFdbm3zC1Qa",
        "outputId": "629a29ec-cbad-4fac-dc1d-2d363f156a97",
        "colab": {
          "base_uri": "https://localhost:8080/"
        }
      },
      "source": [
        "!sudo pip3 install -U -q PyMySQL sqlalchemy"
      ],
      "execution_count": 133,
      "outputs": [
        {
          "output_type": "stream",
          "name": "stdout",
          "text": [
            "\u001b[?25l     \u001b[90m━━━━━━━━━━━━━━━━━━━━━━━━━━━━━━━━━━━━━━━━\u001b[0m \u001b[32m0.0/45.0 kB\u001b[0m \u001b[31m?\u001b[0m eta \u001b[36m-:--:--\u001b[0m\r\u001b[2K     \u001b[91m━━━━━━━━━━━━━━━━━━━━━━━━━━\u001b[0m\u001b[91m╸\u001b[0m\u001b[90m━━━━━━━━━━━━\u001b[0m \u001b[32m30.7/45.0 kB\u001b[0m \u001b[31m626.1 kB/s\u001b[0m eta \u001b[36m0:00:01\u001b[0m\r\u001b[2K     \u001b[90m━━━━━━━━━━━━━━━━━━━━━━━━━━━━━━━━━━━━━━━\u001b[0m \u001b[32m45.0/45.0 kB\u001b[0m \u001b[31m730.4 kB/s\u001b[0m eta \u001b[36m0:00:00\u001b[0m\n",
            "\u001b[?25h"
          ]
        }
      ]
    },
    {
      "cell_type": "code",
      "metadata": {
        "id": "XRRqVqrj5mnK"
      },
      "source": [
        "import os\n",
        "from sqlalchemy import create_engine\n",
        "from sqlalchemy import text\n",
        "\n",
        "conn_string = 'mysql+pymysql://{user}:{password}@{host}/?charset=utf8mb4'.format(\n",
        "    host = 'db.ipeirotis.org',\n",
        "    user = 'root',\n",
        "    password = mysql_pass,\n",
        "    encoding = 'utf8mb4')\n",
        "\n",
        "engine = create_engine(conn_string)\n"
      ],
      "execution_count": 134,
      "outputs": []
    },
    {
      "cell_type": "code",
      "metadata": {
        "id": "BME9Kw3I5mnL"
      },
      "source": [
        "# Query to create a database\n",
        "db_name = 'nypd'\n",
        "\n",
        "sql = f\"DROP DATABASE IF EXISTS {db_name}\"\n",
        "with engine.connect() as connection:\n",
        "  connection.execute(text(sql))\n",
        "\n",
        "# Create a database\n",
        "sql = f\"CREATE DATABASE IF NOT EXISTS {db_name} DEFAULT CHARACTER SET 'utf8mb4'\"\n",
        "with engine.connect() as connection:\n",
        "  connection.execute(text(sql))\n"
      ],
      "execution_count": 145,
      "outputs": []
    },
    {
      "cell_type": "code",
      "metadata": {
        "id": "M-_M6qS0Vhlv"
      },
      "source": [
        "\n",
        "# And lets switch to the database\n",
        "sql = f\"USE {db_name}\"\n",
        "with engine.connect() as connection:\n",
        "  connection.execute(text(sql))\n"
      ],
      "execution_count": 146,
      "outputs": []
    },
    {
      "cell_type": "code",
      "source": [
        "df['NEIGHBORHOOD'] = df['NEIGHBORHOOD'].str.replace('\\'', '’', regex=False)"
      ],
      "metadata": {
        "id": "7TFHAgvkruEE"
      },
      "execution_count": 147,
      "outputs": []
    },
    {
      "cell_type": "code",
      "source": [
        "NEIGHBORHOOD_enum = \"ENUM('\" + (\"','\".join(sorted(df.NEIGHBORHOOD.astype(str).unique()))) + \"')\"\n"
      ],
      "metadata": {
        "id": "N3ICigmiqdPr"
      },
      "execution_count": 148,
      "outputs": []
    },
    {
      "cell_type": "code",
      "source": [
        "print(NEIGHBORHOOD_enum)"
      ],
      "metadata": {
        "id": "Y5BrhbvWstAa",
        "outputId": "39faa656-a130-4ee9-e7be-cc1c102e8cc7",
        "colab": {
          "base_uri": "https://localhost:8080/"
        }
      },
      "execution_count": 149,
      "outputs": [
        {
          "output_type": "stream",
          "name": "stdout",
          "text": [
            "ENUM('Airport','Allerton-Pelham Gardens','Annadale-Huguenot-Prince’s Bay-Eltingville','Arden Heights','Astoria','Auburndale','Baisley Park','Bath Beach','Battery Park City-Lower Manhattan','Bay Ridge','Bayside-Bayside Hills','Bedford','Bedford Park-Fordham North','Bellerose','Belmont','Bensonhurst East','Bensonhurst West','Borough Park','Breezy Point-Belle Harbor-Rockaway Park-Broad Channel','Briarwood-Jamaica Hills','Brighton Beach','Bronxdale','Brooklyn Heights-Cobble Hill','Brownsville','Bushwick North','Bushwick South','Cambria Heights','Canarsie','Carroll Gardens-Columbia Street-Red Hook','Central Harlem North-Polo Grounds','Central Harlem South','Charleston-Richmond Valley-Tottenville','Chinatown','Claremont-Bathgate','Clinton','Clinton Hill','Co-op City','College Point','Corona','Crotona Park East','Crown Heights North','Crown Heights South','Cypress Hills-City Line','DUMBO-Vinegar Hill-Downtown Brooklyn-Boerum Hill','Douglas Manor-Douglaston-Little Neck','Dyker Heights','East Concourse-Concourse Village','East Elmhurst','East Flatbush-Farragut','East Flushing','East Harlem North','East Harlem South','East New York','East New York (Pennsylvania Ave)','East Tremont','East Village','East Williamsburg','Eastchester-Edenwald-Baychester','Elmhurst','Elmhurst-Maspeth','Erasmus','Far Rockaway-Bayswater','Flatbush','Flatlands','Flushing','Fordham South','Forest Hills','Fort Greene','Fresh Meadows-Utopia','Ft. Totten-Bay Terrace-Clearview','Georgetown-Marine Park-Bergen Beach-Mill Basin','Glen Oaks-Floral Park-New Hyde Park','Glendale','Gramercy','Grasmere-Arrochar-Ft. Wadsworth','Gravesend','Great Kills','Greenpoint','Grymes Hill-Clifton-Fox Hills','Hamilton Heights','Hammels-Arverne-Edgemere','Highbridge','Hollis','Homecrest','Hudson Yards-Chelsea-Flatiron-Union Square','Hunters Point-Sunnyside-West Maspeth','Hunts Point','Jackson Heights','Jamaica','Jamaica Estates-Holliswood','Kensington-Ocean Parkway','Kew Gardens','Kew Gardens Hills','Kingsbridge Heights','Laurelton','Lenox Hill-Roosevelt Island','Lincoln Square','Lindenwood-Howard Beach','Longwood','Lower East Side','Madison','Manhattanville','Marble Hill-Inwood','Mariner’s Harbor-Arlington-Port Ivory-Graniteville','Maspeth','Melrose South-Mott Haven North','Middle Village','Midtown-Midtown South','Midwood','Morningside Heights','Morrisania-Melrose','Mott Haven-Port Morris','Mount Hope','Murray Hill','Murray Hill-Kips Bay','New Brighton-Silver Lake','New Dorp-Midland Beach','New Springville-Bloomfield-Travis','North Corona','North Riverdale-Fieldston-Riverdale','North Side-South Side','Norwood','Oakland Gardens','Oakwood-Oakwood Beach','Ocean Hill','Ocean Parkway South','Old Astoria','Old Town-Dongan Hills-South Beach','Ozone Park','Park Slope-Gowanus','Parkchester','Pelham Bay-Country Club-City Island','Pelham Parkway','Pomonok-Flushing Heights-Hillcrest','Port Richmond','Prospect Heights','Prospect Lefferts Gardens-Wingate','Queens Village','Queensboro Hill','Queensbridge-Ravenswood-Long Island City','Rego Park','Richmond Hill','Ridgewood','Rikers Island','Rosedale','Rossville-Woodrow','Rugby-Remsen Village','Schuylerville-Throgs Neck-Edgewater Park','Seagate-Coney Island','Sheepshead Bay-Gerritsen Beach-Manhattan Beach','SoHo-TriBeCa-Civic Center-Little Italy','Soundview-Bruckner','Soundview-Castle Hill-Clason Point-Harding Park','South Jamaica','South Ozone Park','Springfield Gardens North','Springfield Gardens South-Brookville','Spuyten Duyvil-Kingsbridge','St. Albans','Stapleton-Rosebank','Starrett City','Steinway','Stuyvesant Heights','Stuyvesant Town-Cooper Village','Sunset Park East','Sunset Park West','Todt Hill-Emerson Hill-Heartland Village-Lighthouse Hill','Turtle Bay-East Midtown','University Heights-Morris Heights','Upper East Side-Carnegie Hill','Upper West Side','Van Cortlandt Village','Van Nest-Morris Park-Westchester Square','Washington Heights North','Washington Heights South','West Brighton','West Concourse','West Farms-Bronx River','West New Brighton-New Brighton-St. George','West Village','Westchester-Unionport','Westerleigh','Whitestone','Williamsbridge-Olinville','Williamsburg','Windsor Terrace','Woodhaven','Woodlawn-Wakefield','Woodside','Yorkville','park-cemetery-etc-Bronx','park-cemetery-etc-Brooklyn','park-cemetery-etc-Manhattan','park-cemetery-etc-Queens','park-cemetery-etc-Staten Island')\n"
          ]
        }
      ]
    },
    {
      "cell_type": "code",
      "source": [
        "NCODE_enum = \"ENUM('\" + (\"','\".join(sorted(df.NEIGHBORHOOD_CODE.astype(str).unique()))) + \"')\""
      ],
      "metadata": {
        "id": "lGMrzatsrL10"
      },
      "execution_count": 150,
      "outputs": []
    },
    {
      "cell_type": "code",
      "metadata": {
        "id": "10JrBGZ65mnL"
      },
      "source": [
        "# In principle, we can let Pandas create the table, but we want to be a bit more predise\n",
        "# with the data types, and we want to add documentation for each column\n",
        "# from https://data.cityofnewyork.us/Public-Safety/NYPD-Complaint-Data-Historic/qgea-i56i\n",
        "\n",
        "\n",
        "sql = f'''\n",
        "CREATE TABLE nypd (\n",
        "  CMPLNT_NUM int,\n",
        "  CMPLNT_FR datetime,\n",
        "  CMPLNT_TO datetime,\n",
        "  RPT_DT date,\n",
        "  KY_CD SMALLINT,\n",
        "  PD_CD SMALLINT,\n",
        "  CRM_ATPT_CPTD_CD enum('COMPLETED','ATTEMPTED'),\n",
        "  LAW_CAT_CD enum('FELONY','MISDEMEANOR','VIOLATION'),\n",
        "  JURISDICTION_CODE SMALLINT,\n",
        "  BORO_NM enum('BRONX','BROOKLYN','MANHATTAN','QUEENS','STATEN ISLAND'),\n",
        "  NEIGHBORHOOD {NEIGHBORHOOD_enum},\n",
        "  NEIGHBORHOOD_CODE {NCODE_enum},\n",
        "  ADDR_PCT_CD SMALLINT,\n",
        "  LOC_OF_OCCUR_DESC enum('FRONT OF','INSIDE','OPPOSITE OF','OUTSIDE','REAR OF'),\n",
        "  PATROL_BORO enum('PATROL BORO BRONX', 'PATROL BORO BKLYN SOUTH','PATROL BORO BKLYN NORTH','PATROL BORO MAN SOUTH','PATROL BORO MAN NORTH','PATROL BORO QUEENS NORTH','PATROL BORO QUEENS SOUTH','PATROL BORO STATEN ISLAND'),\n",
        "  PREM_TYP_DESC varchar(30),\n",
        "  SUSP_RACE enum('UNKNOWN', 'BLACK', 'WHITE', 'WHITE HISPANIC', 'ASIAN / PACIFIC ISLANDER', 'BLACK HISPANIC', 'AMERICAN INDIAN/ALASKAN NATIVE'),\n",
        "  VIC_RACE enum('UNKNOWN', 'BLACK', 'WHITE', 'WHITE HISPANIC', 'ASIAN / PACIFIC ISLANDER', 'BLACK HISPANIC', 'AMERICAN INDIAN/ALASKAN NATIVE'),\n",
        "  SUSP_AGE_GROUP enum('<18', '18-24',  '25-44', '45-64', '65+'),\n",
        "  VIC_AGE_GROUP enum('<18', '18-24',  '25-44', '45-64', '65+'),\n",
        "  SUSP_SEX enum('M', 'F'),\n",
        "  VIC_SEX enum('M', 'F', 'E', 'D', 'L'),\n",
        "  Latitude double,\n",
        "  Longitude double,\n",
        "  PRIMARY KEY (CMPLNT_NUM)\n",
        ") ENGINE=InnoDB DEFAULT CHARSET=utf8mb4;\n",
        "'''\n",
        "with engine.connect() as connection:\n",
        "  connection.execute(text(sql))"
      ],
      "execution_count": 151,
      "outputs": []
    },
    {
      "cell_type": "code",
      "metadata": {
        "id": "5fJuGS1e5mnM",
        "colab": {
          "base_uri": "https://localhost:8080/"
        },
        "outputId": "3ce39257-87ab-4b99-e972-12b0886d95b2"
      },
      "source": [
        "# Create a table\n",
        "# See http://pandas.pydata.org/pandas-docs/stable/generated/pandas.DataFrame.to_sql.html for the documentation\n",
        "from tqdm import tqdm\n",
        "batchsize = 50000\n",
        "batches = len(df) // batchsize + 1\n",
        "\n",
        "t = tqdm(range(batches))\n",
        "\n",
        "for i in t:\n",
        "    # print(\"Batch:\",i)\n",
        "    # continue # Cannot execute this on Travis\n",
        "    start = batchsize * i\n",
        "    end = batchsize * (i+1)\n",
        "    df[start:end].to_sql(\n",
        "        name = 'nypd',\n",
        "        schema = db_name,\n",
        "        con = engine,\n",
        "        if_exists = 'append',\n",
        "        index = False,\n",
        "        chunksize = 1000)"
      ],
      "execution_count": 152,
      "outputs": [
        {
          "output_type": "stream",
          "name": "stderr",
          "text": [
            "100%|██████████| 177/177 [19:07<00:00,  6.48s/it]\n"
          ]
        }
      ]
    },
    {
      "cell_type": "code",
      "metadata": {
        "id": "m8ozy38lJmOt"
      },
      "source": [
        "sql = \"CREATE INDEX ix_lat ON nypd.nypd(Latitude)\"\n",
        "with engine.connect() as connection:\n",
        "  connection.execute(text(sql))"
      ],
      "execution_count": 153,
      "outputs": []
    },
    {
      "cell_type": "code",
      "metadata": {
        "id": "Up8_pRiYPn3X"
      },
      "source": [
        "sql = \"CREATE INDEX ix_lon ON nypd.nypd(Longitude)\"\n",
        "with engine.connect() as connection:\n",
        "  connection.execute(text(sql))"
      ],
      "execution_count": 154,
      "outputs": []
    },
    {
      "cell_type": "code",
      "metadata": {
        "id": "fRVAUTDsPn6N"
      },
      "source": [
        "sql = \"CREATE INDEX ix_LAW_CAT_CD ON nypd.nypd(LAW_CAT_CD)\"\n",
        "with engine.connect() as connection:\n",
        "  connection.execute(text(sql))"
      ],
      "execution_count": 155,
      "outputs": []
    },
    {
      "cell_type": "code",
      "metadata": {
        "id": "TcqQhh63PoAJ"
      },
      "source": [
        "sql = \"CREATE INDEX ix_BORO_NM ON nypd.nypd(BORO_NM)\"\n",
        "with engine.connect() as connection:\n",
        "  connection.execute(text(sql))"
      ],
      "execution_count": 156,
      "outputs": []
    },
    {
      "cell_type": "code",
      "metadata": {
        "id": "2-j9IWUtklbT"
      },
      "source": [
        "sql = \"CREATE INDEX ix_KY_CD ON nypd.nypd(KY_CD)\"\n",
        "with engine.connect() as connection:\n",
        "  connection.execute(text(sql))"
      ],
      "execution_count": 157,
      "outputs": []
    },
    {
      "cell_type": "code",
      "metadata": {
        "id": "fVLOoJXZP3IL"
      },
      "source": [
        "sql = \"CREATE INDEX ix_RPT_DT ON nypd.nypd(RPT_DT)\"\n",
        "with engine.connect() as connection:\n",
        "  connection.execute(text(sql))"
      ],
      "execution_count": 158,
      "outputs": []
    },
    {
      "cell_type": "code",
      "metadata": {
        "id": "_LMQyvt6P71C"
      },
      "source": [
        "sql = \"CREATE INDEX ix_CMPLNT_FR ON nypd.nypd(CMPLNT_FR)\"\n",
        "with engine.connect() as connection:\n",
        "  connection.execute(text(sql))"
      ],
      "execution_count": 159,
      "outputs": []
    },
    {
      "cell_type": "code",
      "source": [
        "offenses = offenses[offenses.OFNS_DESC != \"(null)\"]"
      ],
      "metadata": {
        "id": "mc5hOjV_jaIJ"
      },
      "execution_count": 160,
      "outputs": []
    },
    {
      "cell_type": "code",
      "source": [
        "offenses"
      ],
      "metadata": {
        "colab": {
          "base_uri": "https://localhost:8080/",
          "height": 424
        },
        "id": "hoi25ZMHjvkV",
        "outputId": "fd84748a-c001-43cb-93e1-7b514a68d9f8"
      },
      "execution_count": 161,
      "outputs": [
        {
          "output_type": "execute_result",
          "data": {
            "text/plain": [
              "   KY_CD                        OFNS_DESC\n",
              "0    101  MURDER & NON-NEGL. MANSLAUGHTER\n",
              "1    102       HOMICIDE-NEGLIGENT-VEHICLE\n",
              "2    103   HOMICIDE-NEGLIGENT,UNCLASSIFIE\n",
              "3    104                             RAPE\n",
              "4    105                          ROBBERY\n",
              "..   ...                              ...\n",
              "70   676        NEW YORK CITY HEALTH CODE\n",
              "71   677                 OTHER STATE LAWS\n",
              "72   678          MISCELLANEOUS PENAL LAW\n",
              "73   685             ADMINISTRATIVE CODES\n",
              "74   881         OTHER TRAFFIC INFRACTION\n",
              "\n",
              "[75 rows x 2 columns]"
            ],
            "text/html": [
              "\n",
              "  <div id=\"df-1cba2287-5841-46af-9041-ef0c272df836\" class=\"colab-df-container\">\n",
              "    <div>\n",
              "<style scoped>\n",
              "    .dataframe tbody tr th:only-of-type {\n",
              "        vertical-align: middle;\n",
              "    }\n",
              "\n",
              "    .dataframe tbody tr th {\n",
              "        vertical-align: top;\n",
              "    }\n",
              "\n",
              "    .dataframe thead th {\n",
              "        text-align: right;\n",
              "    }\n",
              "</style>\n",
              "<table border=\"1\" class=\"dataframe\">\n",
              "  <thead>\n",
              "    <tr style=\"text-align: right;\">\n",
              "      <th></th>\n",
              "      <th>KY_CD</th>\n",
              "      <th>OFNS_DESC</th>\n",
              "    </tr>\n",
              "  </thead>\n",
              "  <tbody>\n",
              "    <tr>\n",
              "      <th>0</th>\n",
              "      <td>101</td>\n",
              "      <td>MURDER &amp; NON-NEGL. MANSLAUGHTER</td>\n",
              "    </tr>\n",
              "    <tr>\n",
              "      <th>1</th>\n",
              "      <td>102</td>\n",
              "      <td>HOMICIDE-NEGLIGENT-VEHICLE</td>\n",
              "    </tr>\n",
              "    <tr>\n",
              "      <th>2</th>\n",
              "      <td>103</td>\n",
              "      <td>HOMICIDE-NEGLIGENT,UNCLASSIFIE</td>\n",
              "    </tr>\n",
              "    <tr>\n",
              "      <th>3</th>\n",
              "      <td>104</td>\n",
              "      <td>RAPE</td>\n",
              "    </tr>\n",
              "    <tr>\n",
              "      <th>4</th>\n",
              "      <td>105</td>\n",
              "      <td>ROBBERY</td>\n",
              "    </tr>\n",
              "    <tr>\n",
              "      <th>...</th>\n",
              "      <td>...</td>\n",
              "      <td>...</td>\n",
              "    </tr>\n",
              "    <tr>\n",
              "      <th>70</th>\n",
              "      <td>676</td>\n",
              "      <td>NEW YORK CITY HEALTH CODE</td>\n",
              "    </tr>\n",
              "    <tr>\n",
              "      <th>71</th>\n",
              "      <td>677</td>\n",
              "      <td>OTHER STATE LAWS</td>\n",
              "    </tr>\n",
              "    <tr>\n",
              "      <th>72</th>\n",
              "      <td>678</td>\n",
              "      <td>MISCELLANEOUS PENAL LAW</td>\n",
              "    </tr>\n",
              "    <tr>\n",
              "      <th>73</th>\n",
              "      <td>685</td>\n",
              "      <td>ADMINISTRATIVE CODES</td>\n",
              "    </tr>\n",
              "    <tr>\n",
              "      <th>74</th>\n",
              "      <td>881</td>\n",
              "      <td>OTHER TRAFFIC INFRACTION</td>\n",
              "    </tr>\n",
              "  </tbody>\n",
              "</table>\n",
              "<p>75 rows × 2 columns</p>\n",
              "</div>\n",
              "    <div class=\"colab-df-buttons\">\n",
              "\n",
              "  <div class=\"colab-df-container\">\n",
              "    <button class=\"colab-df-convert\" onclick=\"convertToInteractive('df-1cba2287-5841-46af-9041-ef0c272df836')\"\n",
              "            title=\"Convert this dataframe to an interactive table.\"\n",
              "            style=\"display:none;\">\n",
              "\n",
              "  <svg xmlns=\"http://www.w3.org/2000/svg\" height=\"24px\" viewBox=\"0 -960 960 960\">\n",
              "    <path d=\"M120-120v-720h720v720H120Zm60-500h600v-160H180v160Zm220 220h160v-160H400v160Zm0 220h160v-160H400v160ZM180-400h160v-160H180v160Zm440 0h160v-160H620v160ZM180-180h160v-160H180v160Zm440 0h160v-160H620v160Z\"/>\n",
              "  </svg>\n",
              "    </button>\n",
              "\n",
              "  <style>\n",
              "    .colab-df-container {\n",
              "      display:flex;\n",
              "      gap: 12px;\n",
              "    }\n",
              "\n",
              "    .colab-df-convert {\n",
              "      background-color: #E8F0FE;\n",
              "      border: none;\n",
              "      border-radius: 50%;\n",
              "      cursor: pointer;\n",
              "      display: none;\n",
              "      fill: #1967D2;\n",
              "      height: 32px;\n",
              "      padding: 0 0 0 0;\n",
              "      width: 32px;\n",
              "    }\n",
              "\n",
              "    .colab-df-convert:hover {\n",
              "      background-color: #E2EBFA;\n",
              "      box-shadow: 0px 1px 2px rgba(60, 64, 67, 0.3), 0px 1px 3px 1px rgba(60, 64, 67, 0.15);\n",
              "      fill: #174EA6;\n",
              "    }\n",
              "\n",
              "    .colab-df-buttons div {\n",
              "      margin-bottom: 4px;\n",
              "    }\n",
              "\n",
              "    [theme=dark] .colab-df-convert {\n",
              "      background-color: #3B4455;\n",
              "      fill: #D2E3FC;\n",
              "    }\n",
              "\n",
              "    [theme=dark] .colab-df-convert:hover {\n",
              "      background-color: #434B5C;\n",
              "      box-shadow: 0px 1px 3px 1px rgba(0, 0, 0, 0.15);\n",
              "      filter: drop-shadow(0px 1px 2px rgba(0, 0, 0, 0.3));\n",
              "      fill: #FFFFFF;\n",
              "    }\n",
              "  </style>\n",
              "\n",
              "    <script>\n",
              "      const buttonEl =\n",
              "        document.querySelector('#df-1cba2287-5841-46af-9041-ef0c272df836 button.colab-df-convert');\n",
              "      buttonEl.style.display =\n",
              "        google.colab.kernel.accessAllowed ? 'block' : 'none';\n",
              "\n",
              "      async function convertToInteractive(key) {\n",
              "        const element = document.querySelector('#df-1cba2287-5841-46af-9041-ef0c272df836');\n",
              "        const dataTable =\n",
              "          await google.colab.kernel.invokeFunction('convertToInteractive',\n",
              "                                                    [key], {});\n",
              "        if (!dataTable) return;\n",
              "\n",
              "        const docLinkHtml = 'Like what you see? Visit the ' +\n",
              "          '<a target=\"_blank\" href=https://colab.research.google.com/notebooks/data_table.ipynb>data table notebook</a>'\n",
              "          + ' to learn more about interactive tables.';\n",
              "        element.innerHTML = '';\n",
              "        dataTable['output_type'] = 'display_data';\n",
              "        await google.colab.output.renderOutput(dataTable, element);\n",
              "        const docLink = document.createElement('div');\n",
              "        docLink.innerHTML = docLinkHtml;\n",
              "        element.appendChild(docLink);\n",
              "      }\n",
              "    </script>\n",
              "  </div>\n",
              "\n",
              "\n",
              "<div id=\"df-3c36d667-2cc8-4c8a-bc03-a70d5fd3052f\">\n",
              "  <button class=\"colab-df-quickchart\" onclick=\"quickchart('df-3c36d667-2cc8-4c8a-bc03-a70d5fd3052f')\"\n",
              "            title=\"Suggest charts\"\n",
              "            style=\"display:none;\">\n",
              "\n",
              "<svg xmlns=\"http://www.w3.org/2000/svg\" height=\"24px\"viewBox=\"0 0 24 24\"\n",
              "     width=\"24px\">\n",
              "    <g>\n",
              "        <path d=\"M19 3H5c-1.1 0-2 .9-2 2v14c0 1.1.9 2 2 2h14c1.1 0 2-.9 2-2V5c0-1.1-.9-2-2-2zM9 17H7v-7h2v7zm4 0h-2V7h2v10zm4 0h-2v-4h2v4z\"/>\n",
              "    </g>\n",
              "</svg>\n",
              "  </button>\n",
              "\n",
              "<style>\n",
              "  .colab-df-quickchart {\n",
              "      --bg-color: #E8F0FE;\n",
              "      --fill-color: #1967D2;\n",
              "      --hover-bg-color: #E2EBFA;\n",
              "      --hover-fill-color: #174EA6;\n",
              "      --disabled-fill-color: #AAA;\n",
              "      --disabled-bg-color: #DDD;\n",
              "  }\n",
              "\n",
              "  [theme=dark] .colab-df-quickchart {\n",
              "      --bg-color: #3B4455;\n",
              "      --fill-color: #D2E3FC;\n",
              "      --hover-bg-color: #434B5C;\n",
              "      --hover-fill-color: #FFFFFF;\n",
              "      --disabled-bg-color: #3B4455;\n",
              "      --disabled-fill-color: #666;\n",
              "  }\n",
              "\n",
              "  .colab-df-quickchart {\n",
              "    background-color: var(--bg-color);\n",
              "    border: none;\n",
              "    border-radius: 50%;\n",
              "    cursor: pointer;\n",
              "    display: none;\n",
              "    fill: var(--fill-color);\n",
              "    height: 32px;\n",
              "    padding: 0;\n",
              "    width: 32px;\n",
              "  }\n",
              "\n",
              "  .colab-df-quickchart:hover {\n",
              "    background-color: var(--hover-bg-color);\n",
              "    box-shadow: 0 1px 2px rgba(60, 64, 67, 0.3), 0 1px 3px 1px rgba(60, 64, 67, 0.15);\n",
              "    fill: var(--button-hover-fill-color);\n",
              "  }\n",
              "\n",
              "  .colab-df-quickchart-complete:disabled,\n",
              "  .colab-df-quickchart-complete:disabled:hover {\n",
              "    background-color: var(--disabled-bg-color);\n",
              "    fill: var(--disabled-fill-color);\n",
              "    box-shadow: none;\n",
              "  }\n",
              "\n",
              "  .colab-df-spinner {\n",
              "    border: 2px solid var(--fill-color);\n",
              "    border-color: transparent;\n",
              "    border-bottom-color: var(--fill-color);\n",
              "    animation:\n",
              "      spin 1s steps(1) infinite;\n",
              "  }\n",
              "\n",
              "  @keyframes spin {\n",
              "    0% {\n",
              "      border-color: transparent;\n",
              "      border-bottom-color: var(--fill-color);\n",
              "      border-left-color: var(--fill-color);\n",
              "    }\n",
              "    20% {\n",
              "      border-color: transparent;\n",
              "      border-left-color: var(--fill-color);\n",
              "      border-top-color: var(--fill-color);\n",
              "    }\n",
              "    30% {\n",
              "      border-color: transparent;\n",
              "      border-left-color: var(--fill-color);\n",
              "      border-top-color: var(--fill-color);\n",
              "      border-right-color: var(--fill-color);\n",
              "    }\n",
              "    40% {\n",
              "      border-color: transparent;\n",
              "      border-right-color: var(--fill-color);\n",
              "      border-top-color: var(--fill-color);\n",
              "    }\n",
              "    60% {\n",
              "      border-color: transparent;\n",
              "      border-right-color: var(--fill-color);\n",
              "    }\n",
              "    80% {\n",
              "      border-color: transparent;\n",
              "      border-right-color: var(--fill-color);\n",
              "      border-bottom-color: var(--fill-color);\n",
              "    }\n",
              "    90% {\n",
              "      border-color: transparent;\n",
              "      border-bottom-color: var(--fill-color);\n",
              "    }\n",
              "  }\n",
              "</style>\n",
              "\n",
              "  <script>\n",
              "    async function quickchart(key) {\n",
              "      const quickchartButtonEl =\n",
              "        document.querySelector('#' + key + ' button');\n",
              "      quickchartButtonEl.disabled = true;  // To prevent multiple clicks.\n",
              "      quickchartButtonEl.classList.add('colab-df-spinner');\n",
              "      try {\n",
              "        const charts = await google.colab.kernel.invokeFunction(\n",
              "            'suggestCharts', [key], {});\n",
              "      } catch (error) {\n",
              "        console.error('Error during call to suggestCharts:', error);\n",
              "      }\n",
              "      quickchartButtonEl.classList.remove('colab-df-spinner');\n",
              "      quickchartButtonEl.classList.add('colab-df-quickchart-complete');\n",
              "    }\n",
              "    (() => {\n",
              "      let quickchartButtonEl =\n",
              "        document.querySelector('#df-3c36d667-2cc8-4c8a-bc03-a70d5fd3052f button');\n",
              "      quickchartButtonEl.style.display =\n",
              "        google.colab.kernel.accessAllowed ? 'block' : 'none';\n",
              "    })();\n",
              "  </script>\n",
              "</div>\n",
              "\n",
              "  <div id=\"id_50a0eabc-d12e-47d4-873a-e79336bd8e33\">\n",
              "    <style>\n",
              "      .colab-df-generate {\n",
              "        background-color: #E8F0FE;\n",
              "        border: none;\n",
              "        border-radius: 50%;\n",
              "        cursor: pointer;\n",
              "        display: none;\n",
              "        fill: #1967D2;\n",
              "        height: 32px;\n",
              "        padding: 0 0 0 0;\n",
              "        width: 32px;\n",
              "      }\n",
              "\n",
              "      .colab-df-generate:hover {\n",
              "        background-color: #E2EBFA;\n",
              "        box-shadow: 0px 1px 2px rgba(60, 64, 67, 0.3), 0px 1px 3px 1px rgba(60, 64, 67, 0.15);\n",
              "        fill: #174EA6;\n",
              "      }\n",
              "\n",
              "      [theme=dark] .colab-df-generate {\n",
              "        background-color: #3B4455;\n",
              "        fill: #D2E3FC;\n",
              "      }\n",
              "\n",
              "      [theme=dark] .colab-df-generate:hover {\n",
              "        background-color: #434B5C;\n",
              "        box-shadow: 0px 1px 3px 1px rgba(0, 0, 0, 0.15);\n",
              "        filter: drop-shadow(0px 1px 2px rgba(0, 0, 0, 0.3));\n",
              "        fill: #FFFFFF;\n",
              "      }\n",
              "    </style>\n",
              "    <button class=\"colab-df-generate\" onclick=\"generateWithVariable('offenses')\"\n",
              "            title=\"Generate code using this dataframe.\"\n",
              "            style=\"display:none;\">\n",
              "\n",
              "  <svg xmlns=\"http://www.w3.org/2000/svg\" height=\"24px\"viewBox=\"0 0 24 24\"\n",
              "       width=\"24px\">\n",
              "    <path d=\"M7,19H8.4L18.45,9,17,7.55,7,17.6ZM5,21V16.75L18.45,3.32a2,2,0,0,1,2.83,0l1.4,1.43a1.91,1.91,0,0,1,.58,1.4,1.91,1.91,0,0,1-.58,1.4L9.25,21ZM18.45,9,17,7.55Zm-12,3A5.31,5.31,0,0,0,4.9,8.1,5.31,5.31,0,0,0,1,6.5,5.31,5.31,0,0,0,4.9,4.9,5.31,5.31,0,0,0,6.5,1,5.31,5.31,0,0,0,8.1,4.9,5.31,5.31,0,0,0,12,6.5,5.46,5.46,0,0,0,6.5,12Z\"/>\n",
              "  </svg>\n",
              "    </button>\n",
              "    <script>\n",
              "      (() => {\n",
              "      const buttonEl =\n",
              "        document.querySelector('#id_50a0eabc-d12e-47d4-873a-e79336bd8e33 button.colab-df-generate');\n",
              "      buttonEl.style.display =\n",
              "        google.colab.kernel.accessAllowed ? 'block' : 'none';\n",
              "\n",
              "      buttonEl.onclick = () => {\n",
              "        google.colab.notebook.generateWithVariable('offenses');\n",
              "      }\n",
              "      })();\n",
              "    </script>\n",
              "  </div>\n",
              "\n",
              "    </div>\n",
              "  </div>\n"
            ],
            "application/vnd.google.colaboratory.intrinsic+json": {
              "type": "dataframe",
              "variable_name": "offenses",
              "summary": "{\n  \"name\": \"offenses\",\n  \"rows\": 75,\n  \"fields\": [\n    {\n      \"column\": \"KY_CD\",\n      \"properties\": {\n        \"dtype\": \"category\",\n        \"num_unique_values\": 75,\n        \"samples\": [\n          105,\n          460,\n          112\n        ],\n        \"semantic_type\": \"\",\n        \"description\": \"\"\n      }\n    },\n    {\n      \"column\": \"OFNS_DESC\",\n      \"properties\": {\n        \"dtype\": \"string\",\n        \"num_unique_values\": 64,\n        \"samples\": [\n          \"ADMINISTRATIVE CODE\",\n          \"UNDER THE INFLUENCE OF DRUGS\",\n          \"MURDER & NON-NEGL. MANSLAUGHTER\"\n        ],\n        \"semantic_type\": \"\",\n        \"description\": \"\"\n      }\n    }\n  ]\n}"
            }
          },
          "metadata": {},
          "execution_count": 161
        }
      ]
    },
    {
      "cell_type": "code",
      "metadata": {
        "id": "hPGyBq5gvy2o",
        "colab": {
          "base_uri": "https://localhost:8080/"
        },
        "outputId": "60359c68-6fcd-400d-ca04-3f1071b1ac8c"
      },
      "source": [
        "sql = \"DROP TABLE IF EXISTS offense_codes;\"\n",
        "with engine.connect() as connection:\n",
        "  connection.execute(text(sql))\n",
        "\n",
        "sql = '''\n",
        "CREATE TABLE offense_codes (\n",
        "  KY_CD smallint,\n",
        "  OFNS_DESC varchar(32),\n",
        "  PRIMARY KEY (KY_CD)\n",
        ") ENGINE=InnoDB DEFAULT CHARSET=utf8mb4;\n",
        "'''\n",
        "with engine.connect() as connection:\n",
        "  connection.execute(text(sql))\n",
        "\n",
        "offenses.to_sql(\n",
        "        name = 'offense_codes',\n",
        "        schema = db_name,\n",
        "        con = engine,\n",
        "        if_exists = 'append',\n",
        "        index = False)"
      ],
      "execution_count": 162,
      "outputs": [
        {
          "output_type": "execute_result",
          "data": {
            "text/plain": [
              "75"
            ]
          },
          "metadata": {},
          "execution_count": 162
        }
      ]
    },
    {
      "cell_type": "code",
      "metadata": {
        "id": "--bCF3OXxVVq",
        "colab": {
          "base_uri": "https://localhost:8080/"
        },
        "outputId": "af4e6a6a-5c78-4872-d874-b8351810a6c5"
      },
      "source": [
        "sql = \"DROP TABLE IF EXISTS jurisdiction_codes;\"\n",
        "with engine.connect() as connection:\n",
        "  connection.execute(text(sql))\n",
        "\n",
        "sql = '''\n",
        "CREATE TABLE jurisdiction_codes (\n",
        "  JURISDICTION_CODE smallint,\n",
        "  JURIS_DESC varchar(40),\n",
        "  PRIMARY KEY (JURISDICTION_CODE)\n",
        ") ENGINE=InnoDB DEFAULT CHARSET=utf8mb4;\n",
        "'''\n",
        "with engine.connect() as connection:\n",
        "  connection.execute(text(sql))\n",
        "\n",
        "\n",
        "jusridiction.to_sql(\n",
        "        name = 'jurisdiction_codes',\n",
        "        schema = db_name,\n",
        "        con = engine,\n",
        "        if_exists = 'append',\n",
        "        index = False)"
      ],
      "execution_count": 163,
      "outputs": [
        {
          "output_type": "execute_result",
          "data": {
            "text/plain": [
              "28"
            ]
          },
          "metadata": {},
          "execution_count": 163
        }
      ]
    },
    {
      "cell_type": "code",
      "metadata": {
        "id": "lm6SIPHz3wXU",
        "outputId": "d3894b6f-165b-4661-9cbd-c3d2c12f5681",
        "colab": {
          "base_uri": "https://localhost:8080/"
        }
      },
      "source": [
        "internal.PD_DESC.str.len().max()\n"
      ],
      "execution_count": 164,
      "outputs": [
        {
          "output_type": "execute_result",
          "data": {
            "text/plain": [
              "71"
            ]
          },
          "metadata": {},
          "execution_count": 164
        }
      ]
    },
    {
      "cell_type": "code",
      "source": [
        "internal = internal.query(\"PD_DESC !=\t'CRIMINAL DISPOSAL FIREARM 1 &' \")\n",
        "internal = internal.query(\"PD_DESC !=\t'UNFINSH FRAME 2' \")\n",
        "internal = internal.query(\"PD_DESC !=\t'WEAPONS POSSESSION 1 & 2' \")\n",
        "internal = internal.query(\"PD_DESC !=\t'CRIM POS WEAP 4' \")\n"
      ],
      "metadata": {
        "id": "M4AhYz7wkKB1"
      },
      "execution_count": 165,
      "outputs": []
    },
    {
      "cell_type": "code",
      "source": [
        "internal"
      ],
      "metadata": {
        "colab": {
          "base_uri": "https://localhost:8080/",
          "height": 424
        },
        "id": "7OquBAjUkcOk",
        "outputId": "97ac84ee-b1dd-4d92-9b0f-7be228f02388"
      },
      "execution_count": 166,
      "outputs": [
        {
          "output_type": "execute_result",
          "data": {
            "text/plain": [
              "    PD_CD                                 PD_DESC\n",
              "0     100             STALKING COMMIT SEX OFFENSE\n",
              "1     101                               ASSAULT 3\n",
              "2     102             ASSAULT SCHOOL SAFETY AGENT\n",
              "3     103                   ASSAULT TRAFFIC AGENT\n",
              "4     104          VEHICULAR ASSAULT (INTOX DRIVE\n",
              "..    ...                                     ...\n",
              "437   917  LEAVING THE SCENE OF AN ACCIDENT (SPI)\n",
              "438   918                        RECKLESS DRIVING\n",
              "439   922          TRAFFIC,UNCLASSIFIED MISDEMEAN\n",
              "440   969          TRAFFIC,UNCLASSIFIED INFRACTIO\n",
              "441   975             ENVIRONMENTAL CONTROL BOARD\n",
              "\n",
              "[440 rows x 2 columns]"
            ],
            "text/html": [
              "\n",
              "  <div id=\"df-873983b6-2a7e-4616-a4da-55272f529d20\" class=\"colab-df-container\">\n",
              "    <div>\n",
              "<style scoped>\n",
              "    .dataframe tbody tr th:only-of-type {\n",
              "        vertical-align: middle;\n",
              "    }\n",
              "\n",
              "    .dataframe tbody tr th {\n",
              "        vertical-align: top;\n",
              "    }\n",
              "\n",
              "    .dataframe thead th {\n",
              "        text-align: right;\n",
              "    }\n",
              "</style>\n",
              "<table border=\"1\" class=\"dataframe\">\n",
              "  <thead>\n",
              "    <tr style=\"text-align: right;\">\n",
              "      <th></th>\n",
              "      <th>PD_CD</th>\n",
              "      <th>PD_DESC</th>\n",
              "    </tr>\n",
              "  </thead>\n",
              "  <tbody>\n",
              "    <tr>\n",
              "      <th>0</th>\n",
              "      <td>100</td>\n",
              "      <td>STALKING COMMIT SEX OFFENSE</td>\n",
              "    </tr>\n",
              "    <tr>\n",
              "      <th>1</th>\n",
              "      <td>101</td>\n",
              "      <td>ASSAULT 3</td>\n",
              "    </tr>\n",
              "    <tr>\n",
              "      <th>2</th>\n",
              "      <td>102</td>\n",
              "      <td>ASSAULT SCHOOL SAFETY AGENT</td>\n",
              "    </tr>\n",
              "    <tr>\n",
              "      <th>3</th>\n",
              "      <td>103</td>\n",
              "      <td>ASSAULT TRAFFIC AGENT</td>\n",
              "    </tr>\n",
              "    <tr>\n",
              "      <th>4</th>\n",
              "      <td>104</td>\n",
              "      <td>VEHICULAR ASSAULT (INTOX DRIVE</td>\n",
              "    </tr>\n",
              "    <tr>\n",
              "      <th>...</th>\n",
              "      <td>...</td>\n",
              "      <td>...</td>\n",
              "    </tr>\n",
              "    <tr>\n",
              "      <th>437</th>\n",
              "      <td>917</td>\n",
              "      <td>LEAVING THE SCENE OF AN ACCIDENT (SPI)</td>\n",
              "    </tr>\n",
              "    <tr>\n",
              "      <th>438</th>\n",
              "      <td>918</td>\n",
              "      <td>RECKLESS DRIVING</td>\n",
              "    </tr>\n",
              "    <tr>\n",
              "      <th>439</th>\n",
              "      <td>922</td>\n",
              "      <td>TRAFFIC,UNCLASSIFIED MISDEMEAN</td>\n",
              "    </tr>\n",
              "    <tr>\n",
              "      <th>440</th>\n",
              "      <td>969</td>\n",
              "      <td>TRAFFIC,UNCLASSIFIED INFRACTIO</td>\n",
              "    </tr>\n",
              "    <tr>\n",
              "      <th>441</th>\n",
              "      <td>975</td>\n",
              "      <td>ENVIRONMENTAL CONTROL BOARD</td>\n",
              "    </tr>\n",
              "  </tbody>\n",
              "</table>\n",
              "<p>440 rows × 2 columns</p>\n",
              "</div>\n",
              "    <div class=\"colab-df-buttons\">\n",
              "\n",
              "  <div class=\"colab-df-container\">\n",
              "    <button class=\"colab-df-convert\" onclick=\"convertToInteractive('df-873983b6-2a7e-4616-a4da-55272f529d20')\"\n",
              "            title=\"Convert this dataframe to an interactive table.\"\n",
              "            style=\"display:none;\">\n",
              "\n",
              "  <svg xmlns=\"http://www.w3.org/2000/svg\" height=\"24px\" viewBox=\"0 -960 960 960\">\n",
              "    <path d=\"M120-120v-720h720v720H120Zm60-500h600v-160H180v160Zm220 220h160v-160H400v160Zm0 220h160v-160H400v160ZM180-400h160v-160H180v160Zm440 0h160v-160H620v160ZM180-180h160v-160H180v160Zm440 0h160v-160H620v160Z\"/>\n",
              "  </svg>\n",
              "    </button>\n",
              "\n",
              "  <style>\n",
              "    .colab-df-container {\n",
              "      display:flex;\n",
              "      gap: 12px;\n",
              "    }\n",
              "\n",
              "    .colab-df-convert {\n",
              "      background-color: #E8F0FE;\n",
              "      border: none;\n",
              "      border-radius: 50%;\n",
              "      cursor: pointer;\n",
              "      display: none;\n",
              "      fill: #1967D2;\n",
              "      height: 32px;\n",
              "      padding: 0 0 0 0;\n",
              "      width: 32px;\n",
              "    }\n",
              "\n",
              "    .colab-df-convert:hover {\n",
              "      background-color: #E2EBFA;\n",
              "      box-shadow: 0px 1px 2px rgba(60, 64, 67, 0.3), 0px 1px 3px 1px rgba(60, 64, 67, 0.15);\n",
              "      fill: #174EA6;\n",
              "    }\n",
              "\n",
              "    .colab-df-buttons div {\n",
              "      margin-bottom: 4px;\n",
              "    }\n",
              "\n",
              "    [theme=dark] .colab-df-convert {\n",
              "      background-color: #3B4455;\n",
              "      fill: #D2E3FC;\n",
              "    }\n",
              "\n",
              "    [theme=dark] .colab-df-convert:hover {\n",
              "      background-color: #434B5C;\n",
              "      box-shadow: 0px 1px 3px 1px rgba(0, 0, 0, 0.15);\n",
              "      filter: drop-shadow(0px 1px 2px rgba(0, 0, 0, 0.3));\n",
              "      fill: #FFFFFF;\n",
              "    }\n",
              "  </style>\n",
              "\n",
              "    <script>\n",
              "      const buttonEl =\n",
              "        document.querySelector('#df-873983b6-2a7e-4616-a4da-55272f529d20 button.colab-df-convert');\n",
              "      buttonEl.style.display =\n",
              "        google.colab.kernel.accessAllowed ? 'block' : 'none';\n",
              "\n",
              "      async function convertToInteractive(key) {\n",
              "        const element = document.querySelector('#df-873983b6-2a7e-4616-a4da-55272f529d20');\n",
              "        const dataTable =\n",
              "          await google.colab.kernel.invokeFunction('convertToInteractive',\n",
              "                                                    [key], {});\n",
              "        if (!dataTable) return;\n",
              "\n",
              "        const docLinkHtml = 'Like what you see? Visit the ' +\n",
              "          '<a target=\"_blank\" href=https://colab.research.google.com/notebooks/data_table.ipynb>data table notebook</a>'\n",
              "          + ' to learn more about interactive tables.';\n",
              "        element.innerHTML = '';\n",
              "        dataTable['output_type'] = 'display_data';\n",
              "        await google.colab.output.renderOutput(dataTable, element);\n",
              "        const docLink = document.createElement('div');\n",
              "        docLink.innerHTML = docLinkHtml;\n",
              "        element.appendChild(docLink);\n",
              "      }\n",
              "    </script>\n",
              "  </div>\n",
              "\n",
              "\n",
              "<div id=\"df-9ba93d9a-42e0-436a-93c9-3e1b9e5f89dd\">\n",
              "  <button class=\"colab-df-quickchart\" onclick=\"quickchart('df-9ba93d9a-42e0-436a-93c9-3e1b9e5f89dd')\"\n",
              "            title=\"Suggest charts\"\n",
              "            style=\"display:none;\">\n",
              "\n",
              "<svg xmlns=\"http://www.w3.org/2000/svg\" height=\"24px\"viewBox=\"0 0 24 24\"\n",
              "     width=\"24px\">\n",
              "    <g>\n",
              "        <path d=\"M19 3H5c-1.1 0-2 .9-2 2v14c0 1.1.9 2 2 2h14c1.1 0 2-.9 2-2V5c0-1.1-.9-2-2-2zM9 17H7v-7h2v7zm4 0h-2V7h2v10zm4 0h-2v-4h2v4z\"/>\n",
              "    </g>\n",
              "</svg>\n",
              "  </button>\n",
              "\n",
              "<style>\n",
              "  .colab-df-quickchart {\n",
              "      --bg-color: #E8F0FE;\n",
              "      --fill-color: #1967D2;\n",
              "      --hover-bg-color: #E2EBFA;\n",
              "      --hover-fill-color: #174EA6;\n",
              "      --disabled-fill-color: #AAA;\n",
              "      --disabled-bg-color: #DDD;\n",
              "  }\n",
              "\n",
              "  [theme=dark] .colab-df-quickchart {\n",
              "      --bg-color: #3B4455;\n",
              "      --fill-color: #D2E3FC;\n",
              "      --hover-bg-color: #434B5C;\n",
              "      --hover-fill-color: #FFFFFF;\n",
              "      --disabled-bg-color: #3B4455;\n",
              "      --disabled-fill-color: #666;\n",
              "  }\n",
              "\n",
              "  .colab-df-quickchart {\n",
              "    background-color: var(--bg-color);\n",
              "    border: none;\n",
              "    border-radius: 50%;\n",
              "    cursor: pointer;\n",
              "    display: none;\n",
              "    fill: var(--fill-color);\n",
              "    height: 32px;\n",
              "    padding: 0;\n",
              "    width: 32px;\n",
              "  }\n",
              "\n",
              "  .colab-df-quickchart:hover {\n",
              "    background-color: var(--hover-bg-color);\n",
              "    box-shadow: 0 1px 2px rgba(60, 64, 67, 0.3), 0 1px 3px 1px rgba(60, 64, 67, 0.15);\n",
              "    fill: var(--button-hover-fill-color);\n",
              "  }\n",
              "\n",
              "  .colab-df-quickchart-complete:disabled,\n",
              "  .colab-df-quickchart-complete:disabled:hover {\n",
              "    background-color: var(--disabled-bg-color);\n",
              "    fill: var(--disabled-fill-color);\n",
              "    box-shadow: none;\n",
              "  }\n",
              "\n",
              "  .colab-df-spinner {\n",
              "    border: 2px solid var(--fill-color);\n",
              "    border-color: transparent;\n",
              "    border-bottom-color: var(--fill-color);\n",
              "    animation:\n",
              "      spin 1s steps(1) infinite;\n",
              "  }\n",
              "\n",
              "  @keyframes spin {\n",
              "    0% {\n",
              "      border-color: transparent;\n",
              "      border-bottom-color: var(--fill-color);\n",
              "      border-left-color: var(--fill-color);\n",
              "    }\n",
              "    20% {\n",
              "      border-color: transparent;\n",
              "      border-left-color: var(--fill-color);\n",
              "      border-top-color: var(--fill-color);\n",
              "    }\n",
              "    30% {\n",
              "      border-color: transparent;\n",
              "      border-left-color: var(--fill-color);\n",
              "      border-top-color: var(--fill-color);\n",
              "      border-right-color: var(--fill-color);\n",
              "    }\n",
              "    40% {\n",
              "      border-color: transparent;\n",
              "      border-right-color: var(--fill-color);\n",
              "      border-top-color: var(--fill-color);\n",
              "    }\n",
              "    60% {\n",
              "      border-color: transparent;\n",
              "      border-right-color: var(--fill-color);\n",
              "    }\n",
              "    80% {\n",
              "      border-color: transparent;\n",
              "      border-right-color: var(--fill-color);\n",
              "      border-bottom-color: var(--fill-color);\n",
              "    }\n",
              "    90% {\n",
              "      border-color: transparent;\n",
              "      border-bottom-color: var(--fill-color);\n",
              "    }\n",
              "  }\n",
              "</style>\n",
              "\n",
              "  <script>\n",
              "    async function quickchart(key) {\n",
              "      const quickchartButtonEl =\n",
              "        document.querySelector('#' + key + ' button');\n",
              "      quickchartButtonEl.disabled = true;  // To prevent multiple clicks.\n",
              "      quickchartButtonEl.classList.add('colab-df-spinner');\n",
              "      try {\n",
              "        const charts = await google.colab.kernel.invokeFunction(\n",
              "            'suggestCharts', [key], {});\n",
              "      } catch (error) {\n",
              "        console.error('Error during call to suggestCharts:', error);\n",
              "      }\n",
              "      quickchartButtonEl.classList.remove('colab-df-spinner');\n",
              "      quickchartButtonEl.classList.add('colab-df-quickchart-complete');\n",
              "    }\n",
              "    (() => {\n",
              "      let quickchartButtonEl =\n",
              "        document.querySelector('#df-9ba93d9a-42e0-436a-93c9-3e1b9e5f89dd button');\n",
              "      quickchartButtonEl.style.display =\n",
              "        google.colab.kernel.accessAllowed ? 'block' : 'none';\n",
              "    })();\n",
              "  </script>\n",
              "</div>\n",
              "\n",
              "  <div id=\"id_318a424a-4ea5-4aec-a22e-e36f92022afc\">\n",
              "    <style>\n",
              "      .colab-df-generate {\n",
              "        background-color: #E8F0FE;\n",
              "        border: none;\n",
              "        border-radius: 50%;\n",
              "        cursor: pointer;\n",
              "        display: none;\n",
              "        fill: #1967D2;\n",
              "        height: 32px;\n",
              "        padding: 0 0 0 0;\n",
              "        width: 32px;\n",
              "      }\n",
              "\n",
              "      .colab-df-generate:hover {\n",
              "        background-color: #E2EBFA;\n",
              "        box-shadow: 0px 1px 2px rgba(60, 64, 67, 0.3), 0px 1px 3px 1px rgba(60, 64, 67, 0.15);\n",
              "        fill: #174EA6;\n",
              "      }\n",
              "\n",
              "      [theme=dark] .colab-df-generate {\n",
              "        background-color: #3B4455;\n",
              "        fill: #D2E3FC;\n",
              "      }\n",
              "\n",
              "      [theme=dark] .colab-df-generate:hover {\n",
              "        background-color: #434B5C;\n",
              "        box-shadow: 0px 1px 3px 1px rgba(0, 0, 0, 0.15);\n",
              "        filter: drop-shadow(0px 1px 2px rgba(0, 0, 0, 0.3));\n",
              "        fill: #FFFFFF;\n",
              "      }\n",
              "    </style>\n",
              "    <button class=\"colab-df-generate\" onclick=\"generateWithVariable('internal')\"\n",
              "            title=\"Generate code using this dataframe.\"\n",
              "            style=\"display:none;\">\n",
              "\n",
              "  <svg xmlns=\"http://www.w3.org/2000/svg\" height=\"24px\"viewBox=\"0 0 24 24\"\n",
              "       width=\"24px\">\n",
              "    <path d=\"M7,19H8.4L18.45,9,17,7.55,7,17.6ZM5,21V16.75L18.45,3.32a2,2,0,0,1,2.83,0l1.4,1.43a1.91,1.91,0,0,1,.58,1.4,1.91,1.91,0,0,1-.58,1.4L9.25,21ZM18.45,9,17,7.55Zm-12,3A5.31,5.31,0,0,0,4.9,8.1,5.31,5.31,0,0,0,1,6.5,5.31,5.31,0,0,0,4.9,4.9,5.31,5.31,0,0,0,6.5,1,5.31,5.31,0,0,0,8.1,4.9,5.31,5.31,0,0,0,12,6.5,5.46,5.46,0,0,0,6.5,12Z\"/>\n",
              "  </svg>\n",
              "    </button>\n",
              "    <script>\n",
              "      (() => {\n",
              "      const buttonEl =\n",
              "        document.querySelector('#id_318a424a-4ea5-4aec-a22e-e36f92022afc button.colab-df-generate');\n",
              "      buttonEl.style.display =\n",
              "        google.colab.kernel.accessAllowed ? 'block' : 'none';\n",
              "\n",
              "      buttonEl.onclick = () => {\n",
              "        google.colab.notebook.generateWithVariable('internal');\n",
              "      }\n",
              "      })();\n",
              "    </script>\n",
              "  </div>\n",
              "\n",
              "    </div>\n",
              "  </div>\n"
            ],
            "application/vnd.google.colaboratory.intrinsic+json": {
              "type": "dataframe",
              "variable_name": "internal",
              "summary": "{\n  \"name\": \"internal\",\n  \"rows\": 440,\n  \"fields\": [\n    {\n      \"column\": \"PD_CD\",\n      \"properties\": {\n        \"dtype\": \"category\",\n        \"num_unique_values\": 440,\n        \"samples\": [\n          583,\n          266,\n          742\n        ],\n        \"semantic_type\": \"\",\n        \"description\": \"\"\n      }\n    },\n    {\n      \"column\": \"PD_DESC\",\n      \"properties\": {\n        \"dtype\": \"string\",\n        \"num_unique_values\": 430,\n        \"samples\": [\n          \"INTOXICATED DRIVING,ALCOHOL\",\n          \"ARSON 2,3,4\",\n          \"LARCENY,GRAND BY BANK ACCT COMPROMISE-TELLER\"\n        ],\n        \"semantic_type\": \"\",\n        \"description\": \"\"\n      }\n    }\n  ]\n}"
            }
          },
          "metadata": {},
          "execution_count": 166
        }
      ]
    },
    {
      "cell_type": "code",
      "metadata": {
        "id": "rFUrm2poxWFQ",
        "colab": {
          "base_uri": "https://localhost:8080/"
        },
        "outputId": "ae0d629a-fc76-4e3d-c34a-dee5599960be"
      },
      "source": [
        "sql = \"DROP TABLE IF EXISTS penal_codes;\"\n",
        "with engine.connect() as connection:\n",
        "  connection.execute(text(sql))\n",
        "\n",
        "sql = '''\n",
        "CREATE TABLE penal_codes (\n",
        "  PD_CD smallint,\n",
        "  PD_DESC varchar(80),\n",
        "  PRIMARY KEY (PD_CD)\n",
        ") ENGINE=InnoDB DEFAULT CHARSET=utf8mb4;\n",
        "'''\n",
        "with engine.connect() as connection:\n",
        "  connection.execute(text(sql))\n",
        "\n",
        "\n",
        "internal.to_sql(\n",
        "        name = 'penal_codes',\n",
        "        schema = db_name,\n",
        "        con = engine,\n",
        "        if_exists = 'append',\n",
        "        index = False)"
      ],
      "execution_count": 167,
      "outputs": [
        {
          "output_type": "execute_result",
          "data": {
            "text/plain": [
              "440"
            ]
          },
          "metadata": {},
          "execution_count": 167
        }
      ]
    },
    {
      "cell_type": "markdown",
      "metadata": {
        "id": "qBdum8YM5mnN"
      },
      "source": [
        "## TODO"
      ]
    },
    {
      "cell_type": "markdown",
      "metadata": {
        "id": "gy9R1rnb5mnN"
      },
      "source": [
        "### Add the penal code data as a separate table\n",
        "\n",
        "`!curl 'https://data.cityofnewyork.us/api/views/qgea-i56i/files/65f25845-1551-4d21-91dc-869c977cd93d?download=true&filename=PDCode_PenalLaw.xlsx' -o PDCode_PenalLaw.xlsx`\n",
        "\n",
        "### Examine whether to normalize"
      ]
    },
    {
      "cell_type": "markdown",
      "metadata": {
        "id": "ojgVuC6I5mnN"
      },
      "source": [
        "The fields\n",
        "\n",
        "  \n",
        "PREM_TYP_DESC    \n",
        "HADEVELOPT    \n",
        "PARKS_NM                     \n",
        "\n",
        "would be better off as foreign keys or enums. They take too much space as strings."
      ]
    }
  ]
}
