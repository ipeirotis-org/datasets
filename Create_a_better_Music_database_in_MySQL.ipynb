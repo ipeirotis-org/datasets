{
  "nbformat": 4,
  "nbformat_minor": 0,
  "metadata": {
    "colab": {
      "private_outputs": true,
      "provenance": [],
      "machine_shape": "hm",
      "authorship_tag": "ABX9TyMEvglSOpdTAAbEQWqGq28P",
      "include_colab_link": true
    },
    "kernelspec": {
      "name": "python3",
      "display_name": "Python 3"
    },
    "language_info": {
      "name": "python"
    },
    "gpuClass": "standard"
  },
  "cells": [
    {
      "cell_type": "markdown",
      "metadata": {
        "id": "view-in-github",
        "colab_type": "text"
      },
      "source": [
        "<a href=\"https://colab.research.google.com/github/ipeirotis/datasets/blob/master/Create_a_better_Music_database_in_MySQL.ipynb\" target=\"_parent\"><img src=\"https://colab.research.google.com/assets/colab-badge.svg\" alt=\"Open In Colab\"/></a>"
      ]
    },
    {
      "cell_type": "markdown",
      "source": [
        "# Setup"
      ],
      "metadata": {
        "id": "Buo6pLfpi13k"
      }
    },
    {
      "cell_type": "code",
      "source": [
        "!pip install -U -q pip \n",
        "!pip install -U -q statsmodels xlrd PyMySQL sqlalchemy sql_magic prophet fastcluster\n",
        "\n",
        "!pip install names"
      ],
      "metadata": {
        "id": "4IBQiLw-sN35"
      },
      "execution_count": null,
      "outputs": []
    },
    {
      "cell_type": "code",
      "source": [
        "import pandas as pd\n",
        "import numpy as np\n",
        "\n",
        "from  tqdm import tqdm\n",
        "\n",
        "import random\n",
        "\n",
        "\n",
        "import names\n",
        "from sqlalchemy import create_engine"
      ],
      "metadata": {
        "id": "g8f4BE14Ancn"
      },
      "execution_count": null,
      "outputs": []
    },
    {
      "cell_type": "code",
      "source": [
        "conn_string = 'mysql+pymysql://{user}:{password}@{host}/?charset=utf8mb4'.format(\n",
        "    host = 'db.ipeirotis.org', \n",
        "    user = 'root',\n",
        "    password = 'ae6jQniBS5muV27', #os.environ['MYSQL_PASSWORD'],\n",
        "    encoding = 'utf8mb4')\n",
        "\n",
        "engine = create_engine(conn_string)\n",
        "\n"
      ],
      "metadata": {
        "id": "OAP-qKFKDDra"
      },
      "execution_count": null,
      "outputs": []
    },
    {
      "cell_type": "code",
      "source": [
        "# The database\n",
        "db_name = 'music'\n",
        "\n",
        "# And lets switch to the database\n",
        "sql = f\"USE {db_name}\"\n",
        "engine.execute(sql)"
      ],
      "metadata": {
        "id": "5gKLzZveDTlZ"
      },
      "execution_count": null,
      "outputs": []
    },
    {
      "cell_type": "code",
      "source": [
        "for i in range(10):\n",
        "  n = names.get_full_name()\n"
      ],
      "metadata": {
        "id": "ZZILmWM7WNPp"
      },
      "execution_count": null,
      "outputs": []
    },
    {
      "cell_type": "code",
      "source": [
        "\n",
        "\n",
        "results = []\n",
        "for user_id in range(10):\n",
        "  g = random.choice(('male', 'female'))\n",
        "  entry = {\n",
        "      'user_id': 1+user_id,\n",
        "    'gender': g,\n",
        "    'first_name': names.get_first_name(gender=g),\n",
        "    'last_name': names.get_last_name()  \n",
        "  }\n",
        "  results.append(entry)\n",
        "\n",
        "df = pd.DataFrame(results)\n",
        "df"
      ],
      "metadata": {
        "id": "zE2zVeQ3WYfe"
      },
      "execution_count": null,
      "outputs": []
    },
    {
      "cell_type": "code",
      "source": [
        "drop_table = \"DROP TABLE IF EXISTS music.users;\"\n",
        "engine.execute(drop_table)\n",
        "\n",
        "create_table_sql = f'''\n",
        "CREATE TABLE music.`users` (\n",
        "  `user_id` smallint,\n",
        "  `gender` char(6),\n",
        "  `first_name` varchar(50),\n",
        "  `last_name` varchar(50),\n",
        "  PRIMARY KEY(user_id)\n",
        ") ENGINE=InnoDB DEFAULT CHARSET=utf8mb4\n",
        "'''\n",
        "engine.execute(create_table_sql)\n",
        "\n",
        "with engine.connect() as con:\n",
        "  df.to_sql(\n",
        "          name = 'users', \n",
        "          schema = db_name, \n",
        "          con = engine,\n",
        "          if_exists = 'append',\n",
        "          index = False, \n",
        "          chunksize = 1000\n",
        "  )"
      ],
      "metadata": {
        "id": "osJxcS37TjWe"
      },
      "execution_count": null,
      "outputs": []
    },
    {
      "cell_type": "code",
      "source": [
        "drop_table = \"DROP TABLE IF EXISTS music.tracks_played;\"\n",
        "engine.execute(drop_table)\n",
        "\n",
        "create_table_sql = f'''\n",
        "CREATE TABLE music.`tracks_played` (\n",
        "  `user_id` smallint,\n",
        "  `artist_id` smallint,\n",
        "  `album_id` smallint,\n",
        "  `track_id` smallint,\n",
        "  `played_on` datetime,\n",
        "  PRIMARY KEY(user_id, artist_id, album_id, track_id, played_on),\n",
        "  FOREIGN KEY(user_id) REFERENCES users(user_id),\n",
        "  FOREIGN KEY(artist_id, album_id, track_id) REFERENCES track(artist_id, album_id, track_id)\n",
        ") ENGINE=InnoDB DEFAULT CHARSET=utf8mb4\n",
        "'''\n",
        "engine.execute(create_table_sql)\n"
      ],
      "metadata": {
        "id": "IYwxPGUhmMvs"
      },
      "execution_count": null,
      "outputs": []
    },
    {
      "cell_type": "code",
      "source": [
        "with engine.connect() as con:\n",
        "  tracks = pd.read_sql(\"SELECT artist_id, album_id, track_id FROM music.track\", con=con)"
      ],
      "metadata": {
        "id": "XwGSikBwza6B"
      },
      "execution_count": null,
      "outputs": []
    },
    {
      "cell_type": "code",
      "source": [
        "\n",
        "\n",
        "def random_dates(start, end, n=10):\n",
        "\n",
        "    start_u = start.value//10**9\n",
        "    end_u = end.value//10**9\n",
        "\n",
        "    return pd.to_datetime(np.random.randint(start_u, end_u, n), unit='s').sort_values()\n"
      ],
      "metadata": {
        "id": "N6LLMT1I0h-a"
      },
      "execution_count": null,
      "outputs": []
    },
    {
      "cell_type": "code",
      "source": [
        "\n",
        "results = []\n",
        "for d in range(1,30):\n",
        "  start = pd.to_datetime(f'2022-12-{d}')\n",
        "  end = pd.to_datetime(f'2022-12-{d+1}')\n",
        "  for user_id in range(10):\n",
        "    artist_listened = random.randint(1,6)\n",
        "    tracks_listened = random.randint(1,10)\n",
        "    listened = tracks.query(f\"artist_id == {artist_listened}\").sample(n=tracks_listened, replace=True)\n",
        "    listened['user_id'] = user_id+1\n",
        "    listened['played_on'] = random_dates(start, end, n = tracks_listened)\n",
        "    results.append(listened)\n",
        "\n",
        "    \n",
        "df_listen = pd.concat(results)\n",
        "df_listen.to_sql(\n",
        "          name = 'tracks_played', \n",
        "          schema = db_name, \n",
        "          con = engine,\n",
        "          if_exists = 'append',\n",
        "          index = False, \n",
        "          chunksize = 1000\n",
        "  )"
      ],
      "metadata": {
        "id": "oLhfaaBTxdZs"
      },
      "execution_count": null,
      "outputs": []
    }
  ]
}