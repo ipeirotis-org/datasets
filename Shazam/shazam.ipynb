{
 "cells": [
  {
   "cell_type": "code",
   "execution_count": 1,
   "metadata": {},
   "outputs": [],
   "source": [
    "import requests\n",
    "import pandas as pd"
   ]
  },
  {
   "cell_type": "code",
   "execution_count": 3,
   "metadata": {},
   "outputs": [],
   "source": [
    "def get_cities():\n",
    "    '''\n",
    "    Retrieves all the cities for which Shazam has charts.\n",
    "    \n",
    "    Returns a list of dictionaries, one dictionary per city.\n",
    "    '''\n",
    "\n",
    "    locations = 'https://www.shazam.com/static/chartlocations.json'\n",
    "\n",
    "    countries = requests.get(locations).json()['countries']\n",
    "\n",
    "    cities = []\n",
    "    for country in countries:\n",
    "        for c in country['cities']:\n",
    "            city = dict(c)\n",
    "            city['country'] = country['name']\n",
    "            city['country_id'] = country['id']\n",
    "            city['country_listid'] = country['listid']\n",
    "            cities.append(city)\n",
    "\n",
    "    return cities"
   ]
  },
  {
   "cell_type": "code",
   "execution_count": 4,
   "metadata": {},
   "outputs": [],
   "source": [
    "def get_shazams(trackid):\n",
    "    '''\n",
    "    Returns the number of shazams for a track\n",
    "    '''\n",
    "    url = 'https://www.shazam.com/shazam/v1/en-US/US/web/-/tagcounts/track/'+ str(trackid)\n",
    "    limit = 5\n",
    "    tries = 1\n",
    "    while tries < limit:\n",
    "        try:\n",
    "            data = requests.get(url).json()\n",
    "            return data['total']\n",
    "        except:\n",
    "            tries += 1\n",
    "    "
   ]
  },
  {
   "cell_type": "code",
   "execution_count": 5,
   "metadata": {},
   "outputs": [],
   "source": [
    "def get_track_details(trackid):\n",
    "    '''\n",
    "    This API call returns the details for a track. \n",
    "    '''\n",
    "    url = 'https://www.shazam.com/discovery/v4/en-US/US/web/-/track/'+ str(trackid)\n",
    "    data = requests.get(url).json()\n",
    "    return data"
   ]
  },
  {
   "cell_type": "code",
   "execution_count": 6,
   "metadata": {},
   "outputs": [],
   "source": [
    "def get_city_chart(city_entry):\n",
    "    '''\n",
    "    Retrieves the chart for a given city.\n",
    "    '''\n",
    "    city_id = city_entry['listid']\n",
    "    chart_url = 'https://www.shazam.com/shazam/v2/en-US/US/web/-/tracks/' + city_id\n",
    "    chart = requests.get(chart_url).json()['chart']\n",
    "    rank = 0\n",
    "    # Since we do not have a rank, we assume entries appearing first are the top ones in the chart\n",
    "    # For each chart entry we add its rank, and the fields from the city dictionary\n",
    "    for c in chart:\n",
    "        rank += 1\n",
    "        c['rank'] = rank\n",
    "        for key, value in city_entry.items():\n",
    "            c['city_' + key] = value\n",
    "\n",
    "    return chart"
   ]
  },
  {
   "cell_type": "code",
   "execution_count": 7,
   "metadata": {},
   "outputs": [],
   "source": [
    "def get_all_charts(cities):\n",
    "    '''\n",
    "    Goes through all cities, and fetches the charts for all of them,\n",
    "    merging them in a big list\n",
    "    '''\n",
    "    all_charts = []\n",
    "    for city in cities:\n",
    "        entries = get_city_chart(city)\n",
    "        all_charts.extend(entries)\n",
    "\n",
    "    return all_charts"
   ]
  },
  {
   "cell_type": "code",
   "execution_count": 8,
   "metadata": {},
   "outputs": [],
   "source": [
    "def create_dataframe(charts_data):\n",
    "    '''\n",
    "    Bookkeeping of the returned data from the Shazam API.\n",
    "    We drop the irrelevant columns (e.g. thumbnails, store information, etc)\n",
    "    Rename the columns to be more understandable, and reordering the column order\n",
    "    '''\n",
    "\n",
    "    cdf = pd.io.json.json_normalize(charts_data)\n",
    "    cdf['chart_date'] = pd.Timestamp(\"today\").strftime(\"%m/%d/%Y\")\n",
    "\n",
    "    to_drop = [\n",
    "        'alias', 'type', 'actions', 'artists', 'share.avatar',\n",
    "        'city_country_listid', 'city_countryid', 'city_listid', 'share.href',\n",
    "        'share.html', 'share.image', 'share.subject', 'share.text',\n",
    "        'share.twitter', 'stores.apple.actions', 'stores.apple.coverarturl',\n",
    "        'stores.apple.explicit', 'stores.apple.previewurl',\n",
    "        'stores.apple.productid', 'stores.apple.trackid',\n",
    "        'stores.claromusicasearch.actions', 'stores.google.actions',\n",
    "        'stores.google.previewurl', 'stores.google.productid',\n",
    "        'stores.google.trackid', 'stores.itunes.actions',\n",
    "        'stores.itunes.coverarturl', 'stores.itunes.explicit',\n",
    "        'stores.itunes.previewurl', 'stores.itunes.productid',\n",
    "        'stores.itunes.trackid', 'images.blurred', 'images.default',\n",
    "        'images.play', 'urlparams.{trackartist}', 'urlparams.{tracktitle}'\n",
    "    ]\n",
    "    cdf = cdf.drop(to_drop, axis='columns')\n",
    "\n",
    "    to_rename = {\n",
    "        \"city_country\": \"country\",\n",
    "        \"city_country_id\": \"country_id\",\n",
    "        \"heading.subtitle\": \"artist\",\n",
    "        \"heading.title\": \"song_title\",\n",
    "        'key' : 'track_id'\n",
    "    }\n",
    "    cdf = cdf.rename(to_rename, axis='columns')\n",
    "\n",
    "    columns = [\n",
    "        'country', 'country_id', 'city_name', 'city_id', 'chart_date', 'rank',\n",
    "        'song_title', 'artist', 'track_id', 'url'\n",
    "    ]\n",
    "\n",
    "    cdf = cdf[columns]\n",
    "    \n",
    "    # Query for each song/key and get the number of shazams\n",
    "    shazams = dict()\n",
    "    for key in sorted(set(cdf.track_id.values)):\n",
    "        shazams[key] = get_shazams(key)\n",
    "    \n",
    "    cdf['num_shazams'] = cdf['track_id'].apply(lambda x : shazams[x])\n",
    "\n",
    "    return cdf"
   ]
  },
  {
   "cell_type": "code",
   "execution_count": 9,
   "metadata": {},
   "outputs": [
    {
     "ename": "JSONDecodeError",
     "evalue": "Expecting value: line 1 column 1 (char 0)",
     "output_type": "error",
     "traceback": [
      "\u001b[0;31m---------------------------------------------------------------------------\u001b[0m",
      "\u001b[0;31mJSONDecodeError\u001b[0m                           Traceback (most recent call last)",
      "File \u001b[0;32m~/.local/lib/python3.10/site-packages/requests/models.py:971\u001b[0m, in \u001b[0;36mResponse.json\u001b[0;34m(self, **kwargs)\u001b[0m\n\u001b[1;32m    970\u001b[0m \u001b[38;5;28;01mtry\u001b[39;00m:\n\u001b[0;32m--> 971\u001b[0m     \u001b[38;5;28;01mreturn\u001b[39;00m \u001b[43mcomplexjson\u001b[49m\u001b[38;5;241;43m.\u001b[39;49m\u001b[43mloads\u001b[49m\u001b[43m(\u001b[49m\u001b[38;5;28;43mself\u001b[39;49m\u001b[38;5;241;43m.\u001b[39;49m\u001b[43mtext\u001b[49m\u001b[43m,\u001b[49m\u001b[43m \u001b[49m\u001b[38;5;241;43m*\u001b[39;49m\u001b[38;5;241;43m*\u001b[39;49m\u001b[43mkwargs\u001b[49m\u001b[43m)\u001b[49m\n\u001b[1;32m    972\u001b[0m \u001b[38;5;28;01mexcept\u001b[39;00m JSONDecodeError \u001b[38;5;28;01mas\u001b[39;00m e:\n\u001b[1;32m    973\u001b[0m     \u001b[38;5;66;03m# Catch JSON-related errors and raise as requests.JSONDecodeError\u001b[39;00m\n\u001b[1;32m    974\u001b[0m     \u001b[38;5;66;03m# This aliases json.JSONDecodeError and simplejson.JSONDecodeError\u001b[39;00m\n",
      "File \u001b[0;32m/usr/lib/python3.10/json/__init__.py:346\u001b[0m, in \u001b[0;36mloads\u001b[0;34m(s, cls, object_hook, parse_float, parse_int, parse_constant, object_pairs_hook, **kw)\u001b[0m\n\u001b[1;32m    343\u001b[0m \u001b[38;5;28;01mif\u001b[39;00m (\u001b[38;5;28mcls\u001b[39m \u001b[38;5;129;01mis\u001b[39;00m \u001b[38;5;28;01mNone\u001b[39;00m \u001b[38;5;129;01mand\u001b[39;00m object_hook \u001b[38;5;129;01mis\u001b[39;00m \u001b[38;5;28;01mNone\u001b[39;00m \u001b[38;5;129;01mand\u001b[39;00m\n\u001b[1;32m    344\u001b[0m         parse_int \u001b[38;5;129;01mis\u001b[39;00m \u001b[38;5;28;01mNone\u001b[39;00m \u001b[38;5;129;01mand\u001b[39;00m parse_float \u001b[38;5;129;01mis\u001b[39;00m \u001b[38;5;28;01mNone\u001b[39;00m \u001b[38;5;129;01mand\u001b[39;00m\n\u001b[1;32m    345\u001b[0m         parse_constant \u001b[38;5;129;01mis\u001b[39;00m \u001b[38;5;28;01mNone\u001b[39;00m \u001b[38;5;129;01mand\u001b[39;00m object_pairs_hook \u001b[38;5;129;01mis\u001b[39;00m \u001b[38;5;28;01mNone\u001b[39;00m \u001b[38;5;129;01mand\u001b[39;00m \u001b[38;5;129;01mnot\u001b[39;00m kw):\n\u001b[0;32m--> 346\u001b[0m     \u001b[38;5;28;01mreturn\u001b[39;00m \u001b[43m_default_decoder\u001b[49m\u001b[38;5;241;43m.\u001b[39;49m\u001b[43mdecode\u001b[49m\u001b[43m(\u001b[49m\u001b[43ms\u001b[49m\u001b[43m)\u001b[49m\n\u001b[1;32m    347\u001b[0m \u001b[38;5;28;01mif\u001b[39;00m \u001b[38;5;28mcls\u001b[39m \u001b[38;5;129;01mis\u001b[39;00m \u001b[38;5;28;01mNone\u001b[39;00m:\n",
      "File \u001b[0;32m/usr/lib/python3.10/json/decoder.py:337\u001b[0m, in \u001b[0;36mJSONDecoder.decode\u001b[0;34m(self, s, _w)\u001b[0m\n\u001b[1;32m    333\u001b[0m \u001b[38;5;124;03m\"\"\"Return the Python representation of ``s`` (a ``str`` instance\u001b[39;00m\n\u001b[1;32m    334\u001b[0m \u001b[38;5;124;03mcontaining a JSON document).\u001b[39;00m\n\u001b[1;32m    335\u001b[0m \n\u001b[1;32m    336\u001b[0m \u001b[38;5;124;03m\"\"\"\u001b[39;00m\n\u001b[0;32m--> 337\u001b[0m obj, end \u001b[38;5;241m=\u001b[39m \u001b[38;5;28;43mself\u001b[39;49m\u001b[38;5;241;43m.\u001b[39;49m\u001b[43mraw_decode\u001b[49m\u001b[43m(\u001b[49m\u001b[43ms\u001b[49m\u001b[43m,\u001b[49m\u001b[43m \u001b[49m\u001b[43midx\u001b[49m\u001b[38;5;241;43m=\u001b[39;49m\u001b[43m_w\u001b[49m\u001b[43m(\u001b[49m\u001b[43ms\u001b[49m\u001b[43m,\u001b[49m\u001b[43m \u001b[49m\u001b[38;5;241;43m0\u001b[39;49m\u001b[43m)\u001b[49m\u001b[38;5;241;43m.\u001b[39;49m\u001b[43mend\u001b[49m\u001b[43m(\u001b[49m\u001b[43m)\u001b[49m\u001b[43m)\u001b[49m\n\u001b[1;32m    338\u001b[0m end \u001b[38;5;241m=\u001b[39m _w(s, end)\u001b[38;5;241m.\u001b[39mend()\n",
      "File \u001b[0;32m/usr/lib/python3.10/json/decoder.py:355\u001b[0m, in \u001b[0;36mJSONDecoder.raw_decode\u001b[0;34m(self, s, idx)\u001b[0m\n\u001b[1;32m    354\u001b[0m \u001b[38;5;28;01mexcept\u001b[39;00m \u001b[38;5;167;01mStopIteration\u001b[39;00m \u001b[38;5;28;01mas\u001b[39;00m err:\n\u001b[0;32m--> 355\u001b[0m     \u001b[38;5;28;01mraise\u001b[39;00m JSONDecodeError(\u001b[38;5;124m\"\u001b[39m\u001b[38;5;124mExpecting value\u001b[39m\u001b[38;5;124m\"\u001b[39m, s, err\u001b[38;5;241m.\u001b[39mvalue) \u001b[38;5;28;01mfrom\u001b[39;00m \u001b[38;5;28mNone\u001b[39m\n\u001b[1;32m    356\u001b[0m \u001b[38;5;28;01mreturn\u001b[39;00m obj, end\n",
      "\u001b[0;31mJSONDecodeError\u001b[0m: Expecting value: line 1 column 1 (char 0)",
      "\nDuring handling of the above exception, another exception occurred:\n",
      "\u001b[0;31mJSONDecodeError\u001b[0m                           Traceback (most recent call last)",
      "File \u001b[0;32m<timed exec>:4\u001b[0m, in \u001b[0;36m<module>\u001b[0;34m\u001b[0m\n",
      "Input \u001b[0;32mIn [3]\u001b[0m, in \u001b[0;36mget_cities\u001b[0;34m()\u001b[0m\n\u001b[1;32m      2\u001b[0m \u001b[38;5;124;03m'''\u001b[39;00m\n\u001b[1;32m      3\u001b[0m \u001b[38;5;124;03mRetrieves all the cities for which Shazam has charts.\u001b[39;00m\n\u001b[1;32m      4\u001b[0m \u001b[38;5;124;03m\u001b[39;00m\n\u001b[1;32m      5\u001b[0m \u001b[38;5;124;03mReturns a list of dictionaries, one dictionary per city.\u001b[39;00m\n\u001b[1;32m      6\u001b[0m \u001b[38;5;124;03m'''\u001b[39;00m\n\u001b[1;32m      8\u001b[0m locations \u001b[38;5;241m=\u001b[39m \u001b[38;5;124m'\u001b[39m\u001b[38;5;124mhttps://www.shazam.com/static/chartlocations.json\u001b[39m\u001b[38;5;124m'\u001b[39m\n\u001b[0;32m---> 10\u001b[0m countries \u001b[38;5;241m=\u001b[39m \u001b[43mrequests\u001b[49m\u001b[38;5;241;43m.\u001b[39;49m\u001b[43mget\u001b[49m\u001b[43m(\u001b[49m\u001b[43mlocations\u001b[49m\u001b[43m)\u001b[49m\u001b[38;5;241;43m.\u001b[39;49m\u001b[43mjson\u001b[49m\u001b[43m(\u001b[49m\u001b[43m)\u001b[49m[\u001b[38;5;124m'\u001b[39m\u001b[38;5;124mcountries\u001b[39m\u001b[38;5;124m'\u001b[39m]\n\u001b[1;32m     12\u001b[0m cities \u001b[38;5;241m=\u001b[39m []\n\u001b[1;32m     13\u001b[0m \u001b[38;5;28;01mfor\u001b[39;00m country \u001b[38;5;129;01min\u001b[39;00m countries:\n",
      "File \u001b[0;32m~/.local/lib/python3.10/site-packages/requests/models.py:975\u001b[0m, in \u001b[0;36mResponse.json\u001b[0;34m(self, **kwargs)\u001b[0m\n\u001b[1;32m    971\u001b[0m     \u001b[38;5;28;01mreturn\u001b[39;00m complexjson\u001b[38;5;241m.\u001b[39mloads(\u001b[38;5;28mself\u001b[39m\u001b[38;5;241m.\u001b[39mtext, \u001b[38;5;241m*\u001b[39m\u001b[38;5;241m*\u001b[39mkwargs)\n\u001b[1;32m    972\u001b[0m \u001b[38;5;28;01mexcept\u001b[39;00m JSONDecodeError \u001b[38;5;28;01mas\u001b[39;00m e:\n\u001b[1;32m    973\u001b[0m     \u001b[38;5;66;03m# Catch JSON-related errors and raise as requests.JSONDecodeError\u001b[39;00m\n\u001b[1;32m    974\u001b[0m     \u001b[38;5;66;03m# This aliases json.JSONDecodeError and simplejson.JSONDecodeError\u001b[39;00m\n\u001b[0;32m--> 975\u001b[0m     \u001b[38;5;28;01mraise\u001b[39;00m RequestsJSONDecodeError(e\u001b[38;5;241m.\u001b[39mmsg, e\u001b[38;5;241m.\u001b[39mdoc, e\u001b[38;5;241m.\u001b[39mpos)\n",
      "\u001b[0;31mJSONDecodeError\u001b[0m: Expecting value: line 1 column 1 (char 0)"
     ]
    }
   ],
   "source": [
    "%%time\n",
    "if __name__ == \"__main__\":\n",
    "    \n",
    "    today = pd.Timestamp(\"today\").strftime(\"%Y_%m_%d\")\n",
    "    cities = get_cities()\n",
    "    us_cities = [c for c in cities if c['country_id'] == 'US']\n",
    "    us_charts = get_all_charts(us_cities)\n",
    "    df = create_dataframe(us_charts)\n",
    "    \n",
    "    filename = 'shazam_us_charts_' + today\n",
    "    df.to_csv(filename + '.csv', index=False)\n",
    "    df.to_excel(filename + '.xls', index=False)"
   ]
  },
  {
   "cell_type": "code",
   "execution_count": null,
   "metadata": {},
   "outputs": [],
   "source": [
    "# TODO Add the US top 100 chart to the existing data frame \n",
    "# Link to US chart: https://www.shazam.com/charts/top-100/united-states /"
   ]
  }
 ],
 "metadata": {
  "kernelspec": {
   "display_name": "Python 3 (ipykernel)",
   "language": "python",
   "name": "python3"
  },
  "language_info": {
   "codemirror_mode": {
    "name": "ipython",
    "version": 3
   },
   "file_extension": ".py",
   "mimetype": "text/x-python",
   "name": "python",
   "nbconvert_exporter": "python",
   "pygments_lexer": "ipython3",
   "version": "3.10.6"
  }
 },
 "nbformat": 4,
 "nbformat_minor": 2
}
