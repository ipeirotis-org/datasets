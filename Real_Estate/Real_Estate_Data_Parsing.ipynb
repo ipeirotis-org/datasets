{
 "cells": [
  {
   "cell_type": "markdown",
   "metadata": {
    "colab_type": "text",
    "id": "view-in-github"
   },
   "source": [
    "<a href=\"https://colab.research.google.com/github/ipeirotis/datasets/blob/master/Real_Estate_Data_Parsing.ipynb\" target=\"_parent\"><img src=\"https://colab.research.google.com/assets/colab-badge.svg\" alt=\"Open In Colab\"/></a>"
   ]
  },
  {
   "cell_type": "code",
   "execution_count": null,
   "metadata": {
    "id": "cXra6AjNuLPY"
   },
   "outputs": [],
   "source": [
    "!sudo pip3 install -U -q PyMySQL sqlalchemy sql_magic\n",
    "!pip install -q google-cloud-secret-manager\n",
    "import os\n",
    "from sqlalchemy import create_engine\n",
    "\n",
    "import pandas as pd\n",
    "import numpy as np\n",
    "from tqdm import tqdm"
   ]
  },
  {
   "cell_type": "code",
   "execution_count": null,
   "metadata": {
    "id": "66lifCu7ef9J"
   },
   "outputs": [],
   "source": [
    "from google.colab import auth\n",
    "auth.authenticate_user()"
   ]
  },
  {
   "cell_type": "code",
   "execution_count": null,
   "metadata": {
    "id": "Fyc5269Al2ed"
   },
   "outputs": [],
   "source": [
    "from google.cloud import secretmanager\n",
    "\n",
    "\n",
    "def access_secret_version(project_id, secret_id, version_id):\n",
    "    \"\"\"\n",
    "    Access the payload of the given secret version and return it.\n",
    "\n",
    "    Args:\n",
    "        project_id (str): Google Cloud project ID.\n",
    "        secret_id (str): ID of the secret to access.\n",
    "        version_id (str): ID of the version to access.\n",
    "    Returns:\n",
    "        str: The secret version's payload, or None if\n",
    "        the version does not exist.\n",
    "    \"\"\"\n",
    "    client = secretmanager.SecretManagerServiceClient()\n",
    "    name = f\"projects/{project_id}/secrets/{secret_id}/versions/{version_id}\"\n",
    "    response = client.access_secret_version(request={\"name\": name})\n",
    "    return response.payload.data.decode(\"UTF-8\")\n",
    "\n",
    "\n",
    "mysql_password = access_secret_version(\"nyu-datasets\", \"MYSQL_PASSWORD\", \"latest\")"
   ]
  },
  {
   "cell_type": "code",
   "execution_count": null,
   "metadata": {
    "id": "d5AHFa3R7hzC"
   },
   "outputs": [],
   "source": [
    "\n",
    "\n",
    "conn_string = 'mysql+pymysql://{user}:{password}@{host}/?charset=utf8mb4'.format(\n",
    "    host = 'db.ipeirotis.org',\n",
    "    user = 'root',\n",
    "    password = mysql_password,\n",
    "    encoding = 'utf8mb4')\n",
    "\n",
    "engine = create_engine(conn_string)\n"
   ]
  },
  {
   "cell_type": "code",
   "execution_count": null,
   "metadata": {
    "id": "RVqGlJWg7j7T"
   },
   "outputs": [],
   "source": [
    "# Query to create a database\n",
    "db_name = 'real_estate'\n",
    "\n",
    "# sql = f\"DROP DATABASE IF EXISTS {db_name}\"\n",
    "# engine.execute(sql)\n",
    "\n",
    "# Create a database\n",
    "sql = f\"CREATE DATABASE IF NOT EXISTS {db_name} DEFAULT CHARACTER SET 'utf8mb4'\"\n",
    "engine.execute(sql)\n",
    "\n",
    "# And lets switch to the database\n",
    "sql = f\"USE {db_name}\"\n",
    "engine.execute(sql)"
   ]
  },
  {
   "cell_type": "code",
   "execution_count": null,
   "metadata": {
    "id": "IsPgPtmIvJzU"
   },
   "outputs": [],
   "source": [
    "def load_data(url):\n",
    "  df = pd.read_csv(url, sep='\\t', dtype='unicode')\n",
    "  df = df.drop([\"Unnamed: 0\", \"state.1\"], axis='columns')\n",
    "  df = df.query('property_id==property_id')\n",
    "  df['property_id'] = pd.to_numeric(df['property_id']).astype('int64')\n",
    "\n",
    "  df = df[\n",
    "      [\n",
    "          \"geo_id\",\n",
    "          \"id\",\n",
    "          \"property_id\",\n",
    "          \"building_id\",\n",
    "          \"property_type\",\n",
    "          \"status\",\n",
    "          \"sales_transaction_type\",\n",
    "          \"current_price\",\n",
    "          \"bedrooms\",\n",
    "          \"bathrooms\",\n",
    "          \"square_feet\",\n",
    "          \"price_per_square_foot\",\n",
    "          \"street_number\",\n",
    "          \"street\",\n",
    "          \"unit_number\",\n",
    "          \"city\",\n",
    "          \"state\",\n",
    "          \"zipcode\",\n",
    "          \"county\",\n",
    "          \"close_date\",\n",
    "          \"close_price\",\n",
    "          \"contract_date\",\n",
    "          \"contract_price\",\n",
    "          \"list_date\",\n",
    "          \"list_price\",\n",
    "          \"date_exit_market\",\n",
    "          \"days_on_market\",\n",
    "          \"cumulative_days_on_market\",\n",
    "          \"latitude\",\n",
    "          \"longitude\",\n",
    "          \"building_year_opened\",\n",
    "          \"is_public_record\",\n",
    "      ]\n",
    "  ]\n",
    "\n",
    "  df['current_price'] = pd.to_numeric(df['current_price'])\n",
    "  df['close_price'] = pd.to_numeric(df['close_price'])\n",
    "  df['contract_price'] = pd.to_numeric(df['contract_price'])\n",
    "  df['list_price'] = pd.to_numeric(df['list_price'])\n",
    "  df['days_on_market'] = pd.to_numeric(df['days_on_market'])\n",
    "  df['cumulative_days_on_market'] = pd.to_numeric(df['cumulative_days_on_market'])\n",
    "  df['latitude'] = pd.to_numeric(df['latitude'])\n",
    "  df['longitude'] = pd.to_numeric(df['longitude'])\n",
    "  df['square_feet'] = pd.to_numeric(df['square_feet'])\n",
    "  df['price_per_square_foot'] = pd.to_numeric(df['price_per_square_foot'])\n",
    "  df['bedrooms'] = pd.to_numeric(df['bedrooms'])\n",
    "  df['bathrooms'] = pd.to_numeric(df['bathrooms'])\n",
    "\n",
    "  df['building_year_opened'] = pd.to_numeric(df['building_year_opened']).astype('Int64')\n",
    "\n",
    "  df['close_date'] = pd.to_datetime(df['close_date'], errors='coerce').dt.date\n",
    "  df['contract_date'] = pd.to_datetime(df['contract_date'], errors='coerce').dt.date\n",
    "  df['list_date'] = pd.to_datetime(df['list_date'], errors='coerce').dt.date\n",
    "  df['date_exit_market'] = pd.to_datetime(df['date_exit_market'], errors='coerce').dt.date\n",
    "\n",
    "\n",
    "\n",
    "  df.loc[ df[\"days_on_market\"] < 0, \"days_on_market\"] = None\n",
    "  df.loc[ df[\"current_price\"] < 0, \"current_price\"] = None\n",
    "  df.loc[ df[\"close_price\"] < 0, \"close_price\"] = None\n",
    "  df.loc[ df[\"contract_price\"] < 0, \"contract_price\"] = None\n",
    "  df.loc[ df[\"list_price\"] < 0, \"list_price\"] = None\n",
    "  df.loc[ df[\"days_on_market\"] < 0, \"days_on_market\"] = None\n",
    "  df.loc[ df[\"cumulative_days_on_market\"] < 0, \"cumulative_days_on_market\"] = None\n",
    "\n",
    "  df.loc[ df[\"square_feet\"] < 0, \"square_feet\"] = None\n",
    "  df.loc[ df[\"price_per_square_foot\"] < 0, \"price_per_square_foot\"] = None\n",
    "  df.loc[ df[\"bedrooms\"] < 0, \"bedrooms\"] = None\n",
    "  df.loc[ df[\"bedrooms\"] < 0, \"bedrooms\"] = None\n",
    "\n",
    "  df.is_public_record = df.is_public_record.map({\"True\": True, \"False\": False})\n",
    "\n",
    "  return df"
   ]
  },
  {
   "cell_type": "code",
   "execution_count": null,
   "metadata": {
    "id": "37B24qszYFXf"
   },
   "outputs": [],
   "source": []
  },
  {
   "cell_type": "code",
   "execution_count": null,
   "metadata": {
    "id": "ONHd0Ru-SOlA"
   },
   "outputs": [],
   "source": [
    "create_table_sql = '''\n",
    "CREATE TABLE real_estate.listings (\n",
    "    id char(20),\n",
    "    geo_id char(10),\n",
    "    property_id char(25),\n",
    "    building_id varchar(100),\n",
    "    property_type varchar(100),\n",
    "    status varchar(60),\n",
    "    sales_transaction_type  varchar(60),\n",
    "    current_price float,\n",
    "    bedrooms float,\n",
    "    bathrooms float,\n",
    "    square_feet float,\n",
    "    price_per_square_foot float,\n",
    "    street_number varchar(50),\n",
    "    street varchar(100),\n",
    "    unit_number varchar(50),\n",
    "    city varchar(50),\n",
    "    state varchar(50),\n",
    "    zipcode varchar(10),\n",
    "    county varchar(50),\n",
    "    close_date date,\n",
    "    close_price float,\n",
    "    contract_date date,\n",
    "    contract_price float,\n",
    "    list_date date,\n",
    "    list_price float,\n",
    "    date_exit_market date,\n",
    "    days_on_market float,\n",
    "    cumulative_days_on_market float,\n",
    "    latitude float,\n",
    "    longitude float,\n",
    "    building_year_opened int,\n",
    "    is_public_record boolean,\n",
    "  PRIMARY KEY (id)\n",
    ") ENGINE=InnoDB DEFAULT CHARSET=utf8mb4;\n",
    "'''\n",
    "engine.execute(create_table_sql)"
   ]
  },
  {
   "cell_type": "code",
   "execution_count": null,
   "metadata": {
    "id": "A4hU-tiXd38r"
   },
   "outputs": [],
   "source": [
    "sql = '''\n",
    "GRANT SELECT ON real_estate.* TO 'student'@'%%'\n",
    "'''\n",
    "engine.execute(sql)"
   ]
  },
  {
   "cell_type": "code",
   "execution_count": null,
   "metadata": {
    "id": "k_Jsv5IKenzD"
   },
   "outputs": [],
   "source": [
    "!curl https://storage.googleapis.com/datasets_nyu/la_listings.tsv.gz -o la_listings.tsv.gz"
   ]
  },
  {
   "cell_type": "code",
   "execution_count": null,
   "metadata": {
    "id": "aUeTP8HfRKmB"
   },
   "outputs": [],
   "source": [
    "%%time\n",
    "\n",
    "urls = [\n",
    "  # 'https://storage.googleapis.com/datasets_nyu/nyc_listings.tsv.gz',\n",
    "  # 'https://storage.googleapis.com/datasets_nyu/sf_listings.tsv.gz',\n",
    "  # 'https://storage.googleapis.com/datasets_nyu/boston_listings.tsv.gz',\n",
    "  # 'https://storage.googleapis.com/datasets_nyu/seattle_listings.tsv.gz',\n",
    "  'la_listings.tsv.gz'\n",
    "]\n",
    "\n",
    "for url in urls:\n",
    "  print(url)\n",
    "  df = load_data(url)\n",
    "  print(\"Entries\", len(df))\n",
    "\n",
    "  batchsize = 10000\n",
    "  batches = len(df) // batchsize + 1\n",
    "\n",
    "  t = tqdm(range(batches))\n",
    "\n",
    "  for i in t:\n",
    "      start = batchsize * i\n",
    "      end = batchsize * (i+1)\n",
    "      with engine.connect() as con:\n",
    "        df[start:end].to_sql(\n",
    "            name = 'listings',\n",
    "            schema = db_name,\n",
    "            con = con,\n",
    "            if_exists = 'append',\n",
    "            index = False,\n",
    "            chunksize = 1000)\n"
   ]
  },
  {
   "cell_type": "code",
   "execution_count": null,
   "metadata": {
    "id": "1ROzGlUruKTH"
   },
   "outputs": [],
   "source": []
  },
  {
   "cell_type": "code",
   "execution_count": null,
   "metadata": {
    "id": "oTq5vngAuNYm"
   },
   "outputs": [],
   "source": [
    "df.loc[ df[\"property_type\"] == \"Multi-Family\", \"property_type\"] = \"Multi Family\"\n",
    "df.loc[ df[\"property_type\"] == \"Multi family\", \"property_type\"] = \"Multi Family\"\n",
    "df.loc[ df[\"property_type\"] == \"Multi Family,Townhouse\", \"property_type\"] = \"Multi Family\"\n",
    "\n",
    "df.loc[ df[\"property_type\"] == \"Co-Op\", \"property_type\"] = \"Co-op\"\n",
    "\n",
    "df.loc[ df[\"property_type\"] == \"Mobile\", \"property_type\"] = \"Mobile/Manufactured\"\n",
    "\n",
    "df.loc[ df[\"property_type\"] == \"Rentals\", \"property_type\"] = \"Rental\"\n",
    "\n",
    "df.loc[ df[\"property_type\"] == \"Commercial\", \"property_type\"] = \"Non-Residential\"\n",
    "\n",
    "df.loc[ df[\"property_type\"] == \"Condo|Co-op\", \"property_type\"] = \"Condop\""
   ]
  },
  {
   "cell_type": "code",
   "execution_count": null,
   "metadata": {
    "id": "qpMAYGXFDoAO"
   },
   "outputs": [],
   "source": [
    "df.loc[ df[\"bedrooms\"] == 1.5, \"bedrooms\"] = 1.0\n",
    "\n",
    "df.loc[ df[\"bedrooms\"] == 1.5, \"bedrooms\"] = 1.0"
   ]
  },
  {
   "cell_type": "code",
   "execution_count": null,
   "metadata": {
    "id": "SXwT-QM-wFWo"
   },
   "outputs": [],
   "source": [
    "df[\"property_type\"].value_counts()"
   ]
  },
  {
   "cell_type": "code",
   "execution_count": null,
   "metadata": {
    "id": "khQ8A8hjD94U"
   },
   "outputs": [],
   "source": []
  },
  {
   "cell_type": "code",
   "execution_count": null,
   "metadata": {
    "id": "DvvvOLlTTLws"
   },
   "outputs": [],
   "source": [
    "for c in df.columns:\n",
    "  if df.dtypes[c] == 'object' and 'date' not in c:\n",
    "    print(c)\n",
    "    print( df[c].str.len().max())"
   ]
  },
  {
   "cell_type": "code",
   "execution_count": null,
   "metadata": {
    "id": "X4RnQ1E4Sf6s"
   },
   "outputs": [],
   "source": [
    "df.dtypes"
   ]
  },
  {
   "cell_type": "code",
   "execution_count": null,
   "metadata": {
    "id": "qQktpn7fSm8v"
   },
   "outputs": [],
   "source": []
  },
  {
   "cell_type": "code",
   "execution_count": null,
   "metadata": {
    "id": "kUAToKywSCIB"
   },
   "outputs": [],
   "source": [
    "\n"
   ]
  }
 ],
 "metadata": {
  "colab": {
   "authorship_tag": "ABX9TyP11JFxRzXlCi4z7z+Y3yiO",
   "include_colab_link": true,
   "machine_shape": "hm",
   "private_outputs": true,
   "provenance": []
  },
  "kernelspec": {
   "display_name": "Python 3 (ipykernel)",
   "language": "python",
   "name": "python3"
  },
  "language_info": {
   "codemirror_mode": {
    "name": "ipython",
    "version": 3
   },
   "file_extension": ".py",
   "mimetype": "text/x-python",
   "name": "python",
   "nbconvert_exporter": "python",
   "pygments_lexer": "ipython3",
   "version": "3.10.6"
  }
 },
 "nbformat": 4,
 "nbformat_minor": 1
}
