{
  "cells": [
    {
      "cell_type": "markdown",
      "metadata": {
        "id": "view-in-github",
        "colab_type": "text"
      },
      "source": [
        "<a href=\"https://colab.research.google.com/github/ipeirotis/datasets/blob/master/notebooks/DOH_Restaurant_Inspections.ipynb\" target=\"_parent\"><img src=\"https://colab.research.google.com/assets/colab-badge.svg\" alt=\"Open In Colab\"/></a>"
      ]
    },
    {
      "cell_type": "markdown",
      "metadata": {
        "id": "T70qRb5S7huK"
      },
      "source": [
        "https://www1.nyc.gov/site/doh/business/food-operators/the-inspection-process.page\n",
        "\n",
        "See https://www1.nyc.gov/assets/doh/downloads/pdf/rii/blue-book.pdf"
      ]
    },
    {
      "cell_type": "markdown",
      "metadata": {
        "id": "iZk8TxBV7huP"
      },
      "source": [
        "## Download Latest Dataset"
      ]
    },
    {
      "cell_type": "code",
      "execution_count": 1,
      "metadata": {
        "id": "7XMOonFl7huP",
        "outputId": "ce3483a1-efcd-4b63-8aac-d663ee0432a4",
        "colab": {
          "base_uri": "https://localhost:8080/"
        }
      },
      "outputs": [
        {
          "output_type": "stream",
          "name": "stdout",
          "text": [
            "  % Total    % Received % Xferd  Average Speed   Time    Time     Time  Current\n",
            "                                 Dload  Upload   Total   Spent    Left  Speed\n",
            "100 86.3M    0 86.3M    0     0  4908k      0 --:--:--  0:00:18 --:--:-- 5346k\n"
          ]
        }
      ],
      "source": [
        "!curl 'https://data.cityofnewyork.us/api/views/43nn-pn8j/rows.csv?accessType=DOWNLOAD' -o restaurants.csv"
      ]
    },
    {
      "cell_type": "code",
      "execution_count": 2,
      "metadata": {
        "id": "0gEDjE-67huP"
      },
      "outputs": [],
      "source": [
        "import pandas as pd\n",
        "import numpy as np\n",
        "df = pd.read_csv(\"restaurants.csv\", dtype = 'object')"
      ]
    },
    {
      "cell_type": "code",
      "execution_count": 3,
      "metadata": {
        "colab": {
          "base_uri": "https://localhost:8080/"
        },
        "id": "AK1gZZt97huQ",
        "outputId": "e49d89fc-ccf0-4c1d-b1a9-5f65aac19f23"
      },
      "outputs": [
        {
          "output_type": "execute_result",
          "data": {
            "text/plain": [
              "205587"
            ]
          },
          "metadata": {},
          "execution_count": 3
        }
      ],
      "source": [
        "initial_size = len(df)\n",
        "initial_size"
      ]
    },
    {
      "cell_type": "code",
      "execution_count": 4,
      "metadata": {
        "id": "kr5XxtQ47huQ"
      },
      "outputs": [],
      "source": [
        "# Render our plots inline\n",
        "%matplotlib inline\n",
        "%config InlineBackend.figure_format = 'retina'"
      ]
    },
    {
      "cell_type": "code",
      "execution_count": 5,
      "metadata": {
        "colab": {
          "base_uri": "https://localhost:8080/"
        },
        "id": "PCMF_AAr7huR",
        "outputId": "685e0e22-ef54-41db-b62c-f45e7f71ab7e"
      },
      "outputs": [
        {
          "output_type": "execute_result",
          "data": {
            "text/plain": [
              "CAMIS                    object\n",
              "DBA                      object\n",
              "BORO                     object\n",
              "BUILDING                 object\n",
              "STREET                   object\n",
              "ZIPCODE                  object\n",
              "PHONE                    object\n",
              "CUISINE DESCRIPTION      object\n",
              "INSPECTION DATE          object\n",
              "ACTION                   object\n",
              "VIOLATION CODE           object\n",
              "VIOLATION DESCRIPTION    object\n",
              "CRITICAL FLAG            object\n",
              "SCORE                    object\n",
              "GRADE                    object\n",
              "GRADE DATE               object\n",
              "RECORD DATE              object\n",
              "INSPECTION TYPE          object\n",
              "Latitude                 object\n",
              "Longitude                object\n",
              "Community Board          object\n",
              "Council District         object\n",
              "Census Tract             object\n",
              "BIN                      object\n",
              "BBL                      object\n",
              "NTA                      object\n",
              "Location Point1          object\n",
              "dtype: object"
            ]
          },
          "metadata": {},
          "execution_count": 5
        }
      ],
      "source": [
        "df.dtypes"
      ]
    },
    {
      "cell_type": "code",
      "execution_count": 6,
      "metadata": {
        "id": "VVgZEbCE7huS"
      },
      "outputs": [],
      "source": [
        "# Adding underscores in all column names\n",
        "cols = df.columns\n",
        "cols = cols.map(lambda x: x.replace(' ', '_').upper())\n",
        "df.columns = cols"
      ]
    },
    {
      "cell_type": "code",
      "execution_count": 7,
      "metadata": {
        "colab": {
          "base_uri": "https://localhost:8080/"
        },
        "id": "CQAswNec7huS",
        "outputId": "41066eb5-de54-4c02-e438-2f6197cd4054"
      },
      "outputs": [
        {
          "output_type": "execute_result",
          "data": {
            "text/plain": [
              "CAMIS                    object\n",
              "DBA                      object\n",
              "BORO                     object\n",
              "BUILDING                 object\n",
              "STREET                   object\n",
              "ZIPCODE                  object\n",
              "PHONE                    object\n",
              "CUISINE_DESCRIPTION      object\n",
              "INSPECTION_DATE          object\n",
              "ACTION                   object\n",
              "VIOLATION_CODE           object\n",
              "VIOLATION_DESCRIPTION    object\n",
              "CRITICAL_FLAG            object\n",
              "SCORE                    object\n",
              "GRADE                    object\n",
              "GRADE_DATE               object\n",
              "RECORD_DATE              object\n",
              "INSPECTION_TYPE          object\n",
              "LATITUDE                 object\n",
              "LONGITUDE                object\n",
              "COMMUNITY_BOARD          object\n",
              "COUNCIL_DISTRICT         object\n",
              "CENSUS_TRACT             object\n",
              "BIN                      object\n",
              "BBL                      object\n",
              "NTA                      object\n",
              "LOCATION_POINT1          object\n",
              "dtype: object"
            ]
          },
          "metadata": {},
          "execution_count": 7
        }
      ],
      "source": [
        "df.dtypes"
      ]
    },
    {
      "cell_type": "code",
      "source": [
        "df.drop('LOCATION_POINT1', axis=1, inplace=True)"
      ],
      "metadata": {
        "id": "e97ruqHge6gi"
      },
      "execution_count": 8,
      "outputs": []
    },
    {
      "cell_type": "markdown",
      "metadata": {
        "id": "eoF9TUCX7huT"
      },
      "source": [
        "## Cleaning Individual Columns"
      ]
    },
    {
      "cell_type": "code",
      "execution_count": 9,
      "metadata": {
        "colab": {
          "base_uri": "https://localhost:8080/"
        },
        "id": "6efdvJkD7huT",
        "outputId": "764dc866-1704-4400-b216-d12cb5edabb3"
      },
      "outputs": [
        {
          "output_type": "execute_result",
          "data": {
            "text/plain": [
              "0"
            ]
          },
          "metadata": {},
          "execution_count": 9
        }
      ],
      "source": [
        "df.CAMIS.isnull().sum()"
      ]
    },
    {
      "cell_type": "code",
      "execution_count": 10,
      "metadata": {
        "colab": {
          "base_uri": "https://localhost:8080/"
        },
        "id": "k-z6hIHa7huT",
        "outputId": "7c0f4135-55ed-40d1-8c99-cbcba7daac7e"
      },
      "outputs": [
        {
          "output_type": "execute_result",
          "data": {
            "text/plain": [
              "454"
            ]
          },
          "metadata": {},
          "execution_count": 10
        }
      ],
      "source": [
        "df.DBA.isnull().sum()"
      ]
    },
    {
      "cell_type": "code",
      "execution_count": 11,
      "metadata": {
        "id": "4R9lXjVS7huU"
      },
      "outputs": [],
      "source": [
        "# Checks that all CAMIS values correpond to a unique DBA value\n",
        "# ie the same CAMIS always has the same DBA\n",
        "max_cardinality = df[['DBA','CAMIS']].pivot_table(\n",
        "    index='CAMIS',\n",
        "    values='DBA',\n",
        "    aggfunc=pd.Series.nunique\n",
        ").DBA.max()\n",
        "\n",
        "assert(max_cardinality==1)"
      ]
    },
    {
      "cell_type": "markdown",
      "metadata": {
        "id": "1IprF2ZM7huU"
      },
      "source": [
        "### INSPECTION_TYPE"
      ]
    },
    {
      "cell_type": "code",
      "execution_count": 12,
      "metadata": {
        "colab": {
          "base_uri": "https://localhost:8080/"
        },
        "id": "2XMaAv9f7huU",
        "outputId": "97d07bb0-2ca7-4e5e-b3d3-b96b66cfc263"
      },
      "outputs": [
        {
          "output_type": "execute_result",
          "data": {
            "text/plain": [
              "Cycle Inspection / Initial Inspection                          112967\n",
              "Cycle Inspection / Re-inspection                                36080\n",
              "Pre-permit (Operational) / Initial Inspection                   30463\n",
              "Pre-permit (Operational) / Re-inspection                         9085\n",
              "Administrative Miscellaneous / Initial Inspection                4756\n",
              "Pre-permit (Non-operational) / Initial Inspection                2447\n",
              "Pre-permit (Operational) / Compliance Inspection                 1513\n",
              "Cycle Inspection / Reopening Inspection                          1415\n",
              "Administrative Miscellaneous / Re-inspection                      930\n",
              "Pre-permit (Operational) / Reopening Inspection                   711\n",
              "Cycle Inspection / Compliance Inspection                          687\n",
              "Smoke-Free Air Act / Initial Inspection                           549\n",
              "Trans Fat / Initial Inspection                                    381\n",
              "Inter-Agency Task Force / Initial Inspection                      341\n",
              "Calorie Posting / Initial Inspection                              307\n",
              "Pre-permit (Operational) / Second Compliance Inspection           203\n",
              "Pre-permit (Non-operational) / Re-inspection                      182\n",
              "Administrative Miscellaneous / Compliance Inspection               89\n",
              "Trans Fat / Re-inspection                                          61\n",
              "Calorie Posting / Re-inspection                                    51\n",
              "Smoke-Free Air Act / Re-inspection                                 47\n",
              "Administrative Miscellaneous / Reopening Inspection                40\n",
              "Pre-permit (Non-operational) / Compliance Inspection               27\n",
              "Cycle Inspection / Second Compliance Inspection                    20\n",
              "Administrative Miscellaneous / Second Compliance Inspection        10\n",
              "Smoke-Free Air Act / Limited Inspection                             7\n",
              "Smoke-Free Air Act / Compliance Inspection                          4\n",
              "Pre-permit (Non-operational) / Second Compliance Inspection         4\n",
              "Trans Fat / Compliance Inspection                                   3\n",
              "Inter-Agency Task Force / Re-inspection                             1\n",
              "Calorie Posting / Compliance Inspection                             1\n",
              "Name: INSPECTION_TYPE, dtype: int64"
            ]
          },
          "metadata": {},
          "execution_count": 12
        }
      ],
      "source": [
        "df.INSPECTION_TYPE.value_counts()"
      ]
    },
    {
      "cell_type": "code",
      "execution_count": 13,
      "metadata": {
        "colab": {
          "base_uri": "https://localhost:8080/"
        },
        "id": "h6rZutnX7huV",
        "outputId": "1f798560-fff9-4ea2-feca-5ab68987b77a"
      },
      "outputs": [
        {
          "output_type": "execute_result",
          "data": {
            "text/plain": [
              "2205"
            ]
          },
          "metadata": {},
          "execution_count": 13
        }
      ],
      "source": [
        "sum(df.INSPECTION_TYPE.isnull())"
      ]
    },
    {
      "cell_type": "code",
      "execution_count": 14,
      "metadata": {
        "id": "D3jQrAWR7huW"
      },
      "outputs": [],
      "source": [
        "# We create a column \"TO_DELETE\" to mark the entries that we are not interested in.\n",
        "# We will perform first the inspection/analysis on all the attributes, and then delete the rows\n",
        "\n",
        "# Drop all cases where inspection is NULL\n",
        "df['TO_DELETE'] = df.INSPECTION_TYPE.isnull()"
      ]
    },
    {
      "cell_type": "code",
      "execution_count": 15,
      "metadata": {
        "colab": {
          "base_uri": "https://localhost:8080/"
        },
        "id": "8KjyCir27huW",
        "outputId": "02db86d3-b6a7-4f28-a9f3-d58b0d67effd"
      },
      "outputs": [
        {
          "output_type": "execute_result",
          "data": {
            "text/plain": [
              "2205"
            ]
          },
          "metadata": {},
          "execution_count": 15
        }
      ],
      "source": [
        "sum(df['TO_DELETE'])"
      ]
    },
    {
      "cell_type": "code",
      "execution_count": 16,
      "metadata": {
        "id": "vxZMd7fp7huW"
      },
      "outputs": [],
      "source": [
        "# Break INSPECTION_TYPE into two columns, and also delete some inspection types\n",
        "\n",
        "# Create a new column that contains the results of the split on the '/'' character\n",
        "lst = df.INSPECTION_TYPE.str.split(' / ').values.tolist()\n",
        "lst = [ l if type(l)==type(list()) else ['',''] for l in lst ]\n",
        "t = pd.DataFrame(lst)\n"
      ]
    },
    {
      "cell_type": "code",
      "execution_count": 17,
      "metadata": {
        "colab": {
          "base_uri": "https://localhost:8080/"
        },
        "id": "kcFPoiEt7huX",
        "outputId": "966ce0bd-e774-4a28-93b8-4bb2fdbc49a8"
      },
      "outputs": [
        {
          "output_type": "execute_result",
          "data": {
            "text/plain": [
              "Cycle Inspection                151169\n",
              "Pre-permit (Operational)         41975\n",
              "Administrative Miscellaneous      5825\n",
              "Pre-permit (Non-operational)      2660\n",
              "                                  2205\n",
              "Smoke-Free Air Act                 607\n",
              "Trans Fat                          445\n",
              "Calorie Posting                    359\n",
              "Inter-Agency Task Force            342\n",
              "Name: 0, dtype: int64"
            ]
          },
          "metadata": {},
          "execution_count": 17
        }
      ],
      "source": [
        "t[0].value_counts()"
      ]
    },
    {
      "cell_type": "code",
      "execution_count": 18,
      "metadata": {
        "colab": {
          "base_uri": "https://localhost:8080/"
        },
        "id": "rbTovcLJ7huX",
        "outputId": "adf65e8a-999f-47cc-bd89-ea99310d35bd"
      },
      "outputs": [
        {
          "output_type": "execute_result",
          "data": {
            "text/plain": [
              "Initial Inspection              152211\n",
              "Re-inspection                    46437\n",
              "Compliance Inspection             2324\n",
              "                                  2205\n",
              "Reopening Inspection              2166\n",
              "Second Compliance Inspection       237\n",
              "Limited Inspection                   7\n",
              "Name: 1, dtype: int64"
            ]
          },
          "metadata": {},
          "execution_count": 18
        }
      ],
      "source": [
        "t[1].value_counts()"
      ]
    },
    {
      "cell_type": "code",
      "execution_count": 19,
      "metadata": {
        "id": "eY0Ba3AJ7huX"
      },
      "outputs": [],
      "source": [
        "# Keep only cycle inspections. Ignore admin, pre-permit, transfat, and calorie posting inspections\n",
        "# We will only keep the initial inspections and the re-inspections. The other types are border cases\n",
        "\n",
        "keep = df.INSPECTION_TYPE.isin( ['Cycle Inspection / Initial Inspection', 'Cycle Inspection / Re-inspection'])\n"
      ]
    },
    {
      "cell_type": "code",
      "execution_count": 20,
      "metadata": {
        "colab": {
          "base_uri": "https://localhost:8080/"
        },
        "id": "_Ssa0cnt7huX",
        "outputId": "07cc2c3c-a3a7-41ee-9f71-100290df035c"
      },
      "outputs": [
        {
          "output_type": "execute_result",
          "data": {
            "text/plain": [
              "56540"
            ]
          },
          "metadata": {},
          "execution_count": 20
        }
      ],
      "source": [
        "# Check how many we will drop: ~keep means negation on the keep and summing up adds up the 'True'\n",
        "sum(~keep)"
      ]
    },
    {
      "cell_type": "code",
      "execution_count": 21,
      "metadata": {
        "id": "pApwM2zQ7huX"
      },
      "outputs": [],
      "source": [
        "# Adding the \"not keep\" entries into the TO_DELETE\n",
        "\n",
        "# The |= operator is a shortcut for df['TO_DELETE'] = df['TO_DELETE'] | ~keep\n",
        "# We use the bit-OR operator (|), as we want to keep the existing deletions, and add the ones from the\n",
        "# additional condition\n",
        "df['TO_DELETE'] |= ~keep"
      ]
    },
    {
      "cell_type": "code",
      "execution_count": 22,
      "metadata": {
        "id": "EcO8IlJ77huY"
      },
      "outputs": [],
      "source": [
        "# Rename the two entries that we will keep into simpler values\n",
        "\n",
        "df[\"INSPECTION_TYPE\"].replace(\n",
        "    to_replace='Cycle Inspection / Initial Inspection',\n",
        "    value = 'Initial Inspection',\n",
        "    inplace=True\n",
        ")\n",
        "df[\"INSPECTION_TYPE\"].replace(\n",
        "    to_replace='Cycle Inspection / Re-inspection',\n",
        "    value = 'Re-inspection',\n",
        "    inplace=True\n",
        ")"
      ]
    },
    {
      "cell_type": "code",
      "execution_count": 23,
      "metadata": {
        "colab": {
          "base_uri": "https://localhost:8080/"
        },
        "id": "KP9P6n1z7huY",
        "outputId": "b1a24308-e98f-4a04-c309-6e8ba8dc64b6"
      },
      "outputs": [
        {
          "output_type": "execute_result",
          "data": {
            "text/plain": [
              "56540"
            ]
          },
          "metadata": {},
          "execution_count": 23
        }
      ],
      "source": [
        "sum(df['TO_DELETE'])"
      ]
    },
    {
      "cell_type": "markdown",
      "metadata": {
        "id": "CAsBDpJa7huY"
      },
      "source": [
        "### BORO"
      ]
    },
    {
      "cell_type": "code",
      "execution_count": 24,
      "metadata": {
        "colab": {
          "base_uri": "https://localhost:8080/"
        },
        "id": "0SS6VR3W7huY",
        "outputId": "d6730f12-02dd-4d5e-9702-13812700ae58"
      },
      "outputs": [
        {
          "output_type": "execute_result",
          "data": {
            "text/plain": [
              "Manhattan        76160\n",
              "Brooklyn         54810\n",
              "Queens           49213\n",
              "Bronx            18469\n",
              "Staten Island     6923\n",
              "0                   12\n",
              "Name: BORO, dtype: int64"
            ]
          },
          "metadata": {},
          "execution_count": 24
        }
      ],
      "source": [
        "df.BORO.value_counts()"
      ]
    },
    {
      "cell_type": "code",
      "execution_count": 25,
      "metadata": {
        "colab": {
          "base_uri": "https://localhost:8080/"
        },
        "id": "9Nlpfi0K7huY",
        "outputId": "42dbc6bc-f77d-420c-d860-4a8d7e817397"
      },
      "outputs": [
        {
          "output_type": "execute_result",
          "data": {
            "text/plain": [
              "0"
            ]
          },
          "metadata": {},
          "execution_count": 25
        }
      ],
      "source": [
        "sum(df.BORO.isnull())"
      ]
    },
    {
      "cell_type": "code",
      "execution_count": 26,
      "metadata": {
        "id": "VFh5uhLe7huZ"
      },
      "outputs": [],
      "source": [
        "# Replace the \"Missing\" in BORO with null\n",
        "# df.BORO = df.BORO.replace('Missing', np.NaN)"
      ]
    },
    {
      "cell_type": "code",
      "execution_count": 27,
      "metadata": {
        "id": "zchlSkbn7huZ"
      },
      "outputs": [],
      "source": [
        "missing = set(df[df.BORO.isnull()].CAMIS)\n",
        "# missing"
      ]
    },
    {
      "cell_type": "code",
      "execution_count": 28,
      "metadata": {
        "colab": {
          "base_uri": "https://localhost:8080/"
        },
        "id": "mQflr8dy7huZ",
        "outputId": "da891170-b694-4dfe-dc7b-6cf6cf4c4763"
      },
      "outputs": [
        {
          "output_type": "execute_result",
          "data": {
            "text/plain": [
              "12"
            ]
          },
          "metadata": {},
          "execution_count": 28
        }
      ],
      "source": [
        "sum(df.BORO == '0')"
      ]
    },
    {
      "cell_type": "code",
      "execution_count": 29,
      "metadata": {
        "id": "oFSs5QCx7huZ"
      },
      "outputs": [],
      "source": [
        "# Remove the entries with null/missing BORO value\n",
        "# Not worth trying to fix.\n",
        "df['TO_DELETE'] |= (df.BORO == '0')"
      ]
    },
    {
      "cell_type": "code",
      "execution_count": 30,
      "metadata": {
        "colab": {
          "base_uri": "https://localhost:8080/"
        },
        "id": "QPOCbcnj7huZ",
        "outputId": "9d91f977-e69d-4c03-a528-85dd4e5abec3"
      },
      "outputs": [
        {
          "output_type": "execute_result",
          "data": {
            "text/plain": [
              "56540"
            ]
          },
          "metadata": {},
          "execution_count": 30
        }
      ],
      "source": [
        "sum(df['TO_DELETE'])"
      ]
    },
    {
      "cell_type": "markdown",
      "metadata": {
        "id": "PFl2byK37huZ"
      },
      "source": [
        "### BUILDING"
      ]
    },
    {
      "cell_type": "code",
      "execution_count": 31,
      "metadata": {
        "colab": {
          "base_uri": "https://localhost:8080/"
        },
        "id": "M4MkcVzt7hua",
        "outputId": "b00ae784-d88d-4968-cbdf-3424a28c11fe"
      },
      "outputs": [
        {
          "output_type": "execute_result",
          "data": {
            "text/plain": [
              "386"
            ]
          },
          "metadata": {},
          "execution_count": 31
        }
      ],
      "source": [
        "sum(df.BUILDING.isnull())"
      ]
    },
    {
      "cell_type": "code",
      "execution_count": null,
      "metadata": {
        "id": "Jp3zKK6B7hua"
      },
      "outputs": [],
      "source": [
        "# Inspect the entries with missing street number\n",
        "# df[df.BUILDING.isnull()]"
      ]
    },
    {
      "cell_type": "code",
      "execution_count": 32,
      "metadata": {
        "id": "MCa8rSXd7hua"
      },
      "outputs": [],
      "source": [
        "# Dropping the violations listed without street number\n",
        "# Most are in train stations and in airports, but there\n",
        "# are a few others in 'regular' locations\n",
        "\n",
        "df['TO_DELETE'] |= df.BUILDING.isnull()"
      ]
    },
    {
      "cell_type": "code",
      "execution_count": 33,
      "metadata": {
        "colab": {
          "base_uri": "https://localhost:8080/"
        },
        "id": "avGVuoCT7hua",
        "outputId": "ccd902b9-ecb8-4b9b-df63-d00a1fbe2940"
      },
      "outputs": [
        {
          "output_type": "execute_result",
          "data": {
            "text/plain": [
              "56844"
            ]
          },
          "metadata": {},
          "execution_count": 33
        }
      ],
      "source": [
        "sum(df['TO_DELETE'])"
      ]
    },
    {
      "cell_type": "markdown",
      "metadata": {
        "id": "sgjIS0ph7hua"
      },
      "source": [
        "### STREET"
      ]
    },
    {
      "cell_type": "code",
      "execution_count": 34,
      "metadata": {
        "colab": {
          "base_uri": "https://localhost:8080/"
        },
        "id": "3NJFHvHA7hua",
        "outputId": "a7d5f243-4a4b-4c32-aba8-0787cfb7b043"
      },
      "outputs": [
        {
          "output_type": "execute_result",
          "data": {
            "text/plain": [
              "4"
            ]
          },
          "metadata": {},
          "execution_count": 34
        }
      ],
      "source": [
        "# Check that no street values are empty\n",
        "sum(df.STREET.isnull())"
      ]
    },
    {
      "cell_type": "code",
      "execution_count": 35,
      "metadata": {
        "id": "ATpOqlqm7hua"
      },
      "outputs": [],
      "source": [
        "df['TO_DELETE'] |= df.STREET.isnull()"
      ]
    },
    {
      "cell_type": "code",
      "execution_count": 36,
      "metadata": {
        "colab": {
          "base_uri": "https://localhost:8080/"
        },
        "id": "XZPu1Jla7hub",
        "outputId": "62381986-4223-4a4f-e8a4-0da940493222"
      },
      "outputs": [
        {
          "output_type": "execute_result",
          "data": {
            "text/plain": [
              "56844"
            ]
          },
          "metadata": {},
          "execution_count": 36
        }
      ],
      "source": [
        "sum(df['TO_DELETE'])"
      ]
    },
    {
      "cell_type": "markdown",
      "metadata": {
        "id": "Anh2a8qn7hub"
      },
      "source": [
        "### ZIPCODE"
      ]
    },
    {
      "cell_type": "code",
      "execution_count": 37,
      "metadata": {
        "colab": {
          "base_uri": "https://localhost:8080/"
        },
        "id": "E-EET8vP7hub",
        "outputId": "e7574c99-95b7-4b01-d5f0-074a56cbd4e5"
      },
      "outputs": [
        {
          "output_type": "execute_result",
          "data": {
            "text/plain": [
              "2705"
            ]
          },
          "metadata": {},
          "execution_count": 37
        }
      ],
      "source": [
        "sum(df.ZIPCODE.isnull())"
      ]
    },
    {
      "cell_type": "code",
      "execution_count": 38,
      "metadata": {
        "colab": {
          "base_uri": "https://localhost:8080/"
        },
        "id": "PWQf4uIu7hub",
        "outputId": "2ab371d4-4ccc-4f78-a5f0-75d521072b72"
      },
      "outputs": [
        {
          "output_type": "execute_result",
          "data": {
            "text/plain": [
              "414"
            ]
          },
          "metadata": {},
          "execution_count": 38
        }
      ],
      "source": [
        "len(set(df[df.ZIPCODE.isnull()].CAMIS))"
      ]
    },
    {
      "cell_type": "code",
      "execution_count": 39,
      "metadata": {
        "id": "X9MHWRZs7hub"
      },
      "outputs": [],
      "source": [
        "df['TO_DELETE'] |= df.ZIPCODE.isnull()"
      ]
    },
    {
      "cell_type": "code",
      "execution_count": null,
      "metadata": {
        "id": "nmevPilF7hub"
      },
      "outputs": [],
      "source": [
        "# TODO: Fill in the missing zip codes, perhaps with geocoding of the addresses\n",
        "# For now, we just drop the cases without ZIPCODE"
      ]
    },
    {
      "cell_type": "markdown",
      "metadata": {
        "id": "WwQXJ_Sx7hub"
      },
      "source": [
        "### CUISINE DESCRIPTION"
      ]
    },
    {
      "cell_type": "code",
      "execution_count": 40,
      "metadata": {
        "colab": {
          "base_uri": "https://localhost:8080/"
        },
        "id": "DtlrlXic7hub",
        "outputId": "4b010134-01e5-49bc-8cff-c33ef2f390ef"
      },
      "outputs": [
        {
          "output_type": "execute_result",
          "data": {
            "text/plain": [
              "American          34175\n",
              "Chinese           20239\n",
              "Coffee/Tea        13487\n",
              "Pizza             12583\n",
              "Latin American     8218\n",
              "                  ...  \n",
              "Armenian             15\n",
              "Czech                12\n",
              "Basque                9\n",
              "Haute Cuisine         5\n",
              "Chimichurri           2\n",
              "Name: CUISINE_DESCRIPTION, Length: 89, dtype: int64"
            ]
          },
          "metadata": {},
          "execution_count": 40
        }
      ],
      "source": [
        "df.CUISINE_DESCRIPTION.value_counts()"
      ]
    },
    {
      "cell_type": "code",
      "execution_count": 41,
      "metadata": {
        "colab": {
          "base_uri": "https://localhost:8080/"
        },
        "id": "aj9tAxom7huc",
        "outputId": "b94e71cf-6811-47bf-b523-68d3af03cd78"
      },
      "outputs": [
        {
          "output_type": "execute_result",
          "data": {
            "text/plain": [
              "89"
            ]
          },
          "metadata": {},
          "execution_count": 41
        }
      ],
      "source": [
        "len(df.CUISINE_DESCRIPTION.value_counts())"
      ]
    },
    {
      "cell_type": "code",
      "execution_count": 42,
      "metadata": {
        "colab": {
          "base_uri": "https://localhost:8080/"
        },
        "id": "2Gj1vAeJ7hud",
        "outputId": "3e78cd80-ea78-4d01-c80a-2158941738f7"
      },
      "outputs": [
        {
          "output_type": "execute_result",
          "data": {
            "text/plain": [
              "2205"
            ]
          },
          "metadata": {},
          "execution_count": 42
        }
      ],
      "source": [
        "sum(df.CUISINE_DESCRIPTION.isnull())"
      ]
    },
    {
      "cell_type": "code",
      "execution_count": null,
      "metadata": {
        "colab": {
          "base_uri": "https://localhost:8080/"
        },
        "id": "RtLYb0Fx7hud",
        "outputId": "49be60ba-9379-4809-ba57-e43d3fcfeeba"
      },
      "outputs": [
        {
          "output_type": "execute_result",
          "data": {
            "text/plain": [
              "\"\\ndf.CUISINE_DESCRIPTION.replace(\\n    to_replace='Café/Coffee/Tea',\\n    value = 'Cafe',\\n    inplace=True\\n)\\n\\ndf.CUISINE_DESCRIPTION.replace(\\n    to_replace='Latin (Cuban, Dominican, Puerto Rican, South & Central American)',\\n    value = 'Latin',\\n    inplace=True\\n)\\n\""
            ],
            "application/vnd.google.colaboratory.intrinsic+json": {
              "type": "string"
            }
          },
          "metadata": {},
          "execution_count": 45
        }
      ],
      "source": [
        "'''\n",
        "df.CUISINE_DESCRIPTION.replace(\n",
        "    to_replace='Café/Coffee/Tea',\n",
        "    value = 'Cafe',\n",
        "    inplace=True\n",
        ")\n",
        "\n",
        "df.CUISINE_DESCRIPTION.replace(\n",
        "    to_replace='Latin (Cuban, Dominican, Puerto Rican, South & Central American)',\n",
        "    value = 'Latin',\n",
        "    inplace=True\n",
        ")\n",
        "'''"
      ]
    },
    {
      "cell_type": "markdown",
      "metadata": {
        "id": "2X43fWCP7hud"
      },
      "source": [
        "### INSPECTION_DATE"
      ]
    },
    {
      "cell_type": "code",
      "execution_count": 43,
      "metadata": {
        "id": "hKe9BlTp7hud"
      },
      "outputs": [],
      "source": [
        "df[\"INSPECTION_DATE\"] = pd.to_datetime(df[\"INSPECTION_DATE\"], format=\"%m/%d/%Y\")"
      ]
    },
    {
      "cell_type": "code",
      "execution_count": 44,
      "metadata": {
        "colab": {
          "base_uri": "https://localhost:8080/"
        },
        "id": "MLq3GB1I7hud",
        "outputId": "a43628e2-ef56-43e5-a7b9-a2ca6d3271be"
      },
      "outputs": [
        {
          "output_type": "execute_result",
          "data": {
            "text/plain": [
              "count                           205587\n",
              "mean     2020-12-23 13:05:52.335507712\n",
              "min                1900-01-01 00:00:00\n",
              "25%                2022-01-05 00:00:00\n",
              "50%                2022-08-03 00:00:00\n",
              "75%                2023-02-23 00:00:00\n",
              "max                2023-09-16 00:00:00\n",
              "Name: INSPECTION_DATE, dtype: object"
            ]
          },
          "metadata": {},
          "execution_count": 44
        }
      ],
      "source": [
        "df.INSPECTION_DATE.describe(datetime_is_numeric=True)"
      ]
    },
    {
      "cell_type": "code",
      "execution_count": 45,
      "metadata": {
        "colab": {
          "base_uri": "https://localhost:8080/"
        },
        "id": "8R5jFOCF7hue",
        "outputId": "29c08ab8-7019-4982-8a03-d3c65c837478"
      },
      "outputs": [
        {
          "output_type": "execute_result",
          "data": {
            "text/plain": [
              "0"
            ]
          },
          "metadata": {},
          "execution_count": 45
        }
      ],
      "source": [
        "sum(df.INSPECTION_DATE.isnull())"
      ]
    },
    {
      "cell_type": "code",
      "execution_count": 46,
      "metadata": {
        "colab": {
          "base_uri": "https://localhost:8080/",
          "height": 448
        },
        "id": "-uqR3Qy07hue",
        "outputId": "a05c69a6-e244-4d74-dfd8-62a9bc66c6bb"
      },
      "outputs": [
        {
          "output_type": "execute_result",
          "data": {
            "text/plain": [
              "<Axes: >"
            ]
          },
          "metadata": {},
          "execution_count": 46
        },
        {
          "output_type": "display_data",
          "data": {
            "text/plain": [
              "<Figure size 640x480 with 1 Axes>"
            ],
            "image/png": "[encoded data removed]"
          },
          "metadata": {
            "image/png": {
              "width": 556,
              "height": 413
            }
          }
        }
      ],
      "source": [
        "df.INSPECTION_DATE.hist(range=(pd.to_datetime('2010-01-01'),pd.to_datetime('2015-12-31')))"
      ]
    },
    {
      "cell_type": "code",
      "execution_count": 47,
      "metadata": {
        "id": "fh1QJw7o7hue"
      },
      "outputs": [],
      "source": [
        "# Drop the 1900-01-01 inspections. These are all incorrect and we cannot fix them\n",
        "df['TO_DELETE'] |= (df['INSPECTION_DATE'] == '1900-01-01')"
      ]
    },
    {
      "cell_type": "code",
      "execution_count": 48,
      "metadata": {
        "id": "48EiuFLT7hue"
      },
      "outputs": [],
      "source": [
        "# After analysis, it seems that we have minimal number of inspections before 2015\n",
        "df['TO_DELETE'] |=  (df['INSPECTION_DATE'] < '2015-01-01')"
      ]
    },
    {
      "cell_type": "code",
      "execution_count": 49,
      "metadata": {
        "colab": {
          "base_uri": "https://localhost:8080/"
        },
        "id": "Hg3vO4MJ7hue",
        "outputId": "9864b22d-2830-4903-87a8-a606264f885b"
      },
      "outputs": [
        {
          "output_type": "execute_result",
          "data": {
            "text/plain": [
              "59090"
            ]
          },
          "metadata": {},
          "execution_count": 49
        }
      ],
      "source": [
        "sum(df['TO_DELETE'])"
      ]
    },
    {
      "cell_type": "markdown",
      "metadata": {
        "id": "lcu3LsTs7hue"
      },
      "source": [
        "### ACTION"
      ]
    },
    {
      "cell_type": "code",
      "execution_count": 50,
      "metadata": {
        "colab": {
          "base_uri": "https://localhost:8080/"
        },
        "id": "_40DoGCF7huf",
        "outputId": "fe6aad98-c206-4672-cc71-01ba90c1f43c"
      },
      "outputs": [
        {
          "output_type": "execute_result",
          "data": {
            "text/plain": [
              "2205"
            ]
          },
          "metadata": {},
          "execution_count": 50
        }
      ],
      "source": [
        "sum(df.ACTION.isnull())"
      ]
    },
    {
      "cell_type": "code",
      "execution_count": 51,
      "metadata": {
        "colab": {
          "base_uri": "https://localhost:8080/"
        },
        "id": "kWpYN6Vb7huf",
        "outputId": "88d733fe-e2f6-4011-bf26-96212aa7ce82"
      },
      "outputs": [
        {
          "output_type": "execute_result",
          "data": {
            "text/plain": [
              "Violations were cited in the following area(s).                                                                                       192575\n",
              "Establishment Closed by DOHMH. Violations were cited in the following area(s) and those requiring immediate action were addressed.      7807\n",
              "Establishment re-opened by DOHMH.                                                                                                       1857\n",
              "No violations were recorded at the time of this inspection.                                                                             1139\n",
              "Establishment re-closed by DOHMH.                                                                                                          4\n",
              "Name: ACTION, dtype: int64"
            ]
          },
          "metadata": {},
          "execution_count": 51
        }
      ],
      "source": [
        "df[\"ACTION\"].value_counts()"
      ]
    },
    {
      "cell_type": "code",
      "execution_count": 52,
      "metadata": {
        "id": "V97p7THp7huf"
      },
      "outputs": [],
      "source": [
        "df[\"ACTION\"].replace(\n",
        "    to_replace='Violations were cited in the following area(s).',\n",
        "    value = 'Violations found',\n",
        "    inplace=True\n",
        ")"
      ]
    },
    {
      "cell_type": "code",
      "execution_count": 53,
      "metadata": {
        "id": "ZOAOtWnA7huf"
      },
      "outputs": [],
      "source": [
        "df[\"ACTION\"].replace(\n",
        "    to_replace='No violations were recorded at the time of this inspection.',\n",
        "    value = 'No violations',\n",
        "    inplace=True\n",
        ")"
      ]
    },
    {
      "cell_type": "code",
      "execution_count": 54,
      "metadata": {
        "id": "tSQ_90Wg7huf"
      },
      "outputs": [],
      "source": [
        "df[\"ACTION\"].replace(\n",
        "    to_replace='Establishment Closed by DOHMH. Violations were cited in the following area(s) and those requiring immediate action were addressed.',\n",
        "    value = 'Establishment closed',\n",
        "    inplace=True\n",
        ")"
      ]
    },
    {
      "cell_type": "code",
      "execution_count": 55,
      "metadata": {
        "id": "92dRzpXq7huf"
      },
      "outputs": [],
      "source": [
        "df[\"ACTION\"].replace(\n",
        "    to_replace='Establishment re-opened by DOHMH.',\n",
        "    value = 'Establishment re-opened',\n",
        "    inplace=True\n",
        ")"
      ]
    },
    {
      "cell_type": "code",
      "execution_count": 56,
      "metadata": {
        "id": "0Mwu12VK7huf"
      },
      "outputs": [],
      "source": [
        "df[\"ACTION\"].replace(\n",
        "    to_replace='Establishment re-closed by DOHMH.',\n",
        "    value = 'Establishment re-closed',\n",
        "    inplace=True\n",
        ")"
      ]
    },
    {
      "cell_type": "code",
      "execution_count": 57,
      "metadata": {
        "colab": {
          "base_uri": "https://localhost:8080/"
        },
        "id": "lnQv6kIq7huf",
        "outputId": "784a47eb-c88c-41d0-cbb0-e078aa1f4833"
      },
      "outputs": [
        {
          "output_type": "execute_result",
          "data": {
            "text/plain": [
              "Violations found           192575\n",
              "Establishment closed         7807\n",
              "Establishment re-opened      1857\n",
              "No violations                1139\n",
              "Establishment re-closed         4\n",
              "Name: ACTION, dtype: int64"
            ]
          },
          "metadata": {},
          "execution_count": 57
        }
      ],
      "source": [
        "df[\"ACTION\"].value_counts()"
      ]
    },
    {
      "cell_type": "code",
      "execution_count": 58,
      "metadata": {
        "id": "5zTccJNH7hug"
      },
      "outputs": [],
      "source": [
        "# Drop the Establishment re-opened and re-closed cases\n",
        "# as the inspection scores for these can be misleading\n",
        "df['TO_DELETE'] |=  (df.ACTION == 'Establishment re-closed')\n",
        "df['TO_DELETE'] |=  (df.ACTION == 'Establishment re-opened')\n",
        "df['TO_DELETE'] |=  df.ACTION.isnull()"
      ]
    },
    {
      "cell_type": "code",
      "execution_count": 59,
      "metadata": {
        "scrolled": true,
        "colab": {
          "base_uri": "https://localhost:8080/"
        },
        "id": "gwEOO7qV7hug",
        "outputId": "03f6389b-7382-4158-ee20-a1232396339a"
      },
      "outputs": [
        {
          "output_type": "execute_result",
          "data": {
            "text/plain": [
              "59090"
            ]
          },
          "metadata": {},
          "execution_count": 59
        }
      ],
      "source": [
        "sum(df['TO_DELETE'])"
      ]
    },
    {
      "cell_type": "markdown",
      "metadata": {
        "id": "3Ud65ck87hug"
      },
      "source": [
        "### SCORE"
      ]
    },
    {
      "cell_type": "code",
      "execution_count": 60,
      "metadata": {
        "id": "IL15v7LZ7hug"
      },
      "outputs": [],
      "source": [
        "df[\"SCORE\"] = pd.to_numeric(df[\"SCORE\"])"
      ]
    },
    {
      "cell_type": "code",
      "execution_count": 61,
      "metadata": {
        "colab": {
          "base_uri": "https://localhost:8080/"
        },
        "id": "KAEoXrGb7hug",
        "outputId": "fd4869d7-ac41-40cd-8c87-c9fdb105298b"
      },
      "outputs": [
        {
          "output_type": "execute_result",
          "data": {
            "text/plain": [
              "count    196146.000000\n",
              "mean         22.586461\n",
              "std          17.431677\n",
              "min           0.000000\n",
              "25%          11.000000\n",
              "50%          18.000000\n",
              "75%          30.000000\n",
              "max         168.000000\n",
              "Name: SCORE, dtype: float64"
            ]
          },
          "metadata": {},
          "execution_count": 61
        }
      ],
      "source": [
        "df.SCORE.describe()"
      ]
    },
    {
      "cell_type": "code",
      "execution_count": 62,
      "metadata": {
        "colab": {
          "base_uri": "https://localhost:8080/"
        },
        "id": "4tWt6Mmt7hug",
        "outputId": "8e3966ca-2d65-41a7-e847-9b70af864246"
      },
      "outputs": [
        {
          "output_type": "execute_result",
          "data": {
            "text/plain": [
              "205587"
            ]
          },
          "metadata": {},
          "execution_count": 62
        }
      ],
      "source": [
        "len(df)"
      ]
    },
    {
      "cell_type": "code",
      "execution_count": 63,
      "metadata": {
        "colab": {
          "base_uri": "https://localhost:8080/"
        },
        "id": "S5YIIcHC7hug",
        "outputId": "903d455a-41ce-44ef-ca17-c026fdd1567d"
      },
      "outputs": [
        {
          "output_type": "execute_result",
          "data": {
            "text/plain": [
              "0"
            ]
          },
          "metadata": {},
          "execution_count": 63
        }
      ],
      "source": [
        "len( df[ df.SCORE < 0 ] )"
      ]
    },
    {
      "cell_type": "code",
      "execution_count": 64,
      "metadata": {
        "id": "EETxYPe_7hug"
      },
      "outputs": [],
      "source": [
        "df['TO_DELETE'] |= (df.SCORE < 0)"
      ]
    },
    {
      "cell_type": "code",
      "execution_count": 65,
      "metadata": {
        "colab": {
          "base_uri": "https://localhost:8080/"
        },
        "id": "-V2-GgF_7huh",
        "outputId": "ffe0635d-63d6-4193-8cfe-e7db93473d24"
      },
      "outputs": [
        {
          "output_type": "execute_result",
          "data": {
            "text/plain": [
              "59090"
            ]
          },
          "metadata": {},
          "execution_count": 65
        }
      ],
      "source": [
        "sum(df['TO_DELETE'])"
      ]
    },
    {
      "cell_type": "code",
      "execution_count": 66,
      "metadata": {
        "id": "GQN7NNH_7huh"
      },
      "outputs": [],
      "source": [
        "# Drop cases reported as \"no violations but with positive score\"\n",
        "df['TO_DELETE'] |= ((df.SCORE > 0)  & (df.ACTION == 'No violations'))\n",
        "\n",
        "# Drop cases with zero score but with violations found\n",
        "df['TO_DELETE'] |= ((df.SCORE == 0)  & (df.ACTION == 'Violations found'))"
      ]
    },
    {
      "cell_type": "code",
      "execution_count": 67,
      "metadata": {
        "id": "Cy2-9jue7huh"
      },
      "outputs": [],
      "source": [
        "# Drop incorrectly scored inspections\n",
        "df['TO_DELETE'] |=  (df.GRADE=='A') & (df.SCORE>13)\n",
        "\n",
        "df['TO_DELETE'] |=  (df.GRADE=='B') & ( (df.SCORE<14) | (df.SCORE>27) )\n",
        "\n",
        "# Drop incorrectly scored inspections\n",
        "df['TO_DELETE'] |=  (df.GRADE=='C') & (df.SCORE<28)\n"
      ]
    },
    {
      "cell_type": "code",
      "execution_count": 68,
      "metadata": {
        "colab": {
          "base_uri": "https://localhost:8080/"
        },
        "id": "gMec_fnF7huh",
        "outputId": "37d8bc65-f6f0-42bf-e299-72577ff6a45f"
      },
      "outputs": [
        {
          "output_type": "execute_result",
          "data": {
            "text/plain": [
              "66166"
            ]
          },
          "metadata": {},
          "execution_count": 68
        }
      ],
      "source": [
        "sum(df['TO_DELETE'])"
      ]
    },
    {
      "cell_type": "markdown",
      "metadata": {
        "id": "dfm8FdW87huh"
      },
      "source": [
        "### RECORD_DATE"
      ]
    },
    {
      "cell_type": "code",
      "execution_count": 69,
      "metadata": {
        "id": "M3_voJ1r7huh"
      },
      "outputs": [],
      "source": [
        "df[\"RECORD_DATE\"] = pd.to_datetime(df[\"RECORD_DATE\"], format=\"%m/%d/%Y\")"
      ]
    },
    {
      "cell_type": "code",
      "execution_count": 70,
      "metadata": {
        "id": "sMgUFCK97huh"
      },
      "outputs": [],
      "source": [
        "# Drop record date field, as it only contains a single value\n",
        "df = df.drop( 'RECORD_DATE', axis = 'columns')"
      ]
    },
    {
      "cell_type": "markdown",
      "metadata": {
        "id": "7psVURc27huh"
      },
      "source": [
        "### GRADE"
      ]
    },
    {
      "cell_type": "code",
      "execution_count": 71,
      "metadata": {
        "colab": {
          "base_uri": "https://localhost:8080/"
        },
        "id": "NFNpK24R7hui",
        "outputId": "2196f34f-18d4-4e87-d273-b22052f6004b"
      },
      "outputs": [
        {
          "output_type": "execute_result",
          "data": {
            "text/plain": [
              "A    70673\n",
              "B    10820\n",
              "N     9651\n",
              "C     6260\n",
              "Z     3778\n",
              "P      570\n",
              "Name: GRADE, dtype: int64"
            ]
          },
          "metadata": {},
          "execution_count": 71
        }
      ],
      "source": [
        "df.GRADE.value_counts()"
      ]
    },
    {
      "cell_type": "code",
      "execution_count": 72,
      "metadata": {
        "colab": {
          "base_uri": "https://localhost:8080/"
        },
        "id": "xAYPd7Mi7hui",
        "outputId": "256072b6-2c43-4131-885f-5033ab02e92c"
      },
      "outputs": [
        {
          "output_type": "execute_result",
          "data": {
            "text/plain": [
              "103835"
            ]
          },
          "metadata": {},
          "execution_count": 72
        }
      ],
      "source": [
        "sum(df.GRADE.isnull())"
      ]
    },
    {
      "cell_type": "code",
      "execution_count": 73,
      "metadata": {
        "colab": {
          "base_uri": "https://localhost:8080/",
          "height": 99
        },
        "id": "X6w-881R7huj",
        "outputId": "4f324bbd-1c89-4296-d849-df95d65e26c2"
      },
      "outputs": [
        {
          "output_type": "execute_result",
          "data": {
            "text/plain": [
              "Empty DataFrame\n",
              "Columns: [CAMIS, DBA, BORO, BUILDING, STREET, ZIPCODE, PHONE, CUISINE_DESCRIPTION, INSPECTION_DATE, ACTION, VIOLATION_CODE, VIOLATION_DESCRIPTION, CRITICAL_FLAG, SCORE, GRADE, GRADE_DATE, INSPECTION_TYPE, LATITUDE, LONGITUDE, COMMUNITY_BOARD, COUNCIL_DISTRICT, CENSUS_TRACT, BIN, BBL, NTA, TO_DELETE]\n",
              "Index: []\n",
              "\n",
              "[0 rows x 26 columns]"
            ],
            "text/html": [
              "\n",
              "  <div id=\"df-da65441b-54e3-4ff9-b3b0-e616c3a19068\" class=\"colab-df-container\">\n",
              "    <div>\n",
              "<style scoped>\n",
              "    .dataframe tbody tr th:only-of-type {\n",
              "        vertical-align: middle;\n",
              "    }\n",
              "\n",
              "    .dataframe tbody tr th {\n",
              "        vertical-align: top;\n",
              "    }\n",
              "\n",
              "    .dataframe thead th {\n",
              "        text-align: right;\n",
              "    }\n",
              "</style>\n",
              "<table border=\"1\" class=\"dataframe\">\n",
              "  <thead>\n",
              "    <tr style=\"text-align: right;\">\n",
              "      <th></th>\n",
              "      <th>CAMIS</th>\n",
              "      <th>DBA</th>\n",
              "      <th>BORO</th>\n",
              "      <th>BUILDING</th>\n",
              "      <th>STREET</th>\n",
              "      <th>ZIPCODE</th>\n",
              "      <th>PHONE</th>\n",
              "      <th>CUISINE_DESCRIPTION</th>\n",
              "      <th>INSPECTION_DATE</th>\n",
              "      <th>ACTION</th>\n",
              "      <th>...</th>\n",
              "      <th>INSPECTION_TYPE</th>\n",
              "      <th>LATITUDE</th>\n",
              "      <th>LONGITUDE</th>\n",
              "      <th>COMMUNITY_BOARD</th>\n",
              "      <th>COUNCIL_DISTRICT</th>\n",
              "      <th>CENSUS_TRACT</th>\n",
              "      <th>BIN</th>\n",
              "      <th>BBL</th>\n",
              "      <th>NTA</th>\n",
              "      <th>TO_DELETE</th>\n",
              "    </tr>\n",
              "  </thead>\n",
              "  <tbody>\n",
              "  </tbody>\n",
              "</table>\n",
              "<p>0 rows × 26 columns</p>\n",
              "</div>\n",
              "    <div class=\"colab-df-buttons\">\n",
              "\n",
              "  <div class=\"colab-df-container\">\n",
              "    <button class=\"colab-df-convert\" onclick=\"convertToInteractive('df-da65441b-54e3-4ff9-b3b0-e616c3a19068')\"\n",
              "            title=\"Convert this dataframe to an interactive table.\"\n",
              "            style=\"display:none;\">\n",
              "\n",
              "  <svg xmlns=\"http://www.w3.org/2000/svg\" height=\"24px\" viewBox=\"0 -960 960 960\">\n",
              "    <path d=\"M120-120v-720h720v720H120Zm60-500h600v-160H180v160Zm220 220h160v-160H400v160Zm0 220h160v-160H400v160ZM180-400h160v-160H180v160Zm440 0h160v-160H620v160ZM180-180h160v-160H180v160Zm440 0h160v-160H620v160Z\"/>\n",
              "  </svg>\n",
              "    </button>\n",
              "\n",
              "  <style>\n",
              "    .colab-df-container {\n",
              "      display:flex;\n",
              "      gap: 12px;\n",
              "    }\n",
              "\n",
              "    .colab-df-convert {\n",
              "      background-color: #E8F0FE;\n",
              "      border: none;\n",
              "      border-radius: 50%;\n",
              "      cursor: pointer;\n",
              "      display: none;\n",
              "      fill: #1967D2;\n",
              "      height: 32px;\n",
              "      padding: 0 0 0 0;\n",
              "      width: 32px;\n",
              "    }\n",
              "\n",
              "    .colab-df-convert:hover {\n",
              "      background-color: #E2EBFA;\n",
              "      box-shadow: 0px 1px 2px rgba(60, 64, 67, 0.3), 0px 1px 3px 1px rgba(60, 64, 67, 0.15);\n",
              "      fill: #174EA6;\n",
              "    }\n",
              "\n",
              "    .colab-df-buttons div {\n",
              "      margin-bottom: 4px;\n",
              "    }\n",
              "\n",
              "    [theme=dark] .colab-df-convert {\n",
              "      background-color: #3B4455;\n",
              "      fill: #D2E3FC;\n",
              "    }\n",
              "\n",
              "    [theme=dark] .colab-df-convert:hover {\n",
              "      background-color: #434B5C;\n",
              "      box-shadow: 0px 1px 3px 1px rgba(0, 0, 0, 0.15);\n",
              "      filter: drop-shadow(0px 1px 2px rgba(0, 0, 0, 0.3));\n",
              "      fill: #FFFFFF;\n",
              "    }\n",
              "  </style>\n",
              "\n",
              "    <script>\n",
              "      const buttonEl =\n",
              "        document.querySelector('#df-da65441b-54e3-4ff9-b3b0-e616c3a19068 button.colab-df-convert');\n",
              "      buttonEl.style.display =\n",
              "        google.colab.kernel.accessAllowed ? 'block' : 'none';\n",
              "\n",
              "      async function convertToInteractive(key) {\n",
              "        const element = document.querySelector('#df-da65441b-54e3-4ff9-b3b0-e616c3a19068');\n",
              "        const dataTable =\n",
              "          await google.colab.kernel.invokeFunction('convertToInteractive',\n",
              "                                                    [key], {});\n",
              "        if (!dataTable) return;\n",
              "\n",
              "        const docLinkHtml = 'Like what you see? Visit the ' +\n",
              "          '<a target=\"_blank\" href=https://colab.research.google.com/notebooks/data_table.ipynb>data table notebook</a>'\n",
              "          + ' to learn more about interactive tables.';\n",
              "        element.innerHTML = '';\n",
              "        dataTable['output_type'] = 'display_data';\n",
              "        await google.colab.output.renderOutput(dataTable, element);\n",
              "        const docLink = document.createElement('div');\n",
              "        docLink.innerHTML = docLinkHtml;\n",
              "        element.appendChild(docLink);\n",
              "      }\n",
              "    </script>\n",
              "  </div>\n",
              "\n",
              "\n",
              "    </div>\n",
              "  </div>\n"
            ]
          },
          "metadata": {},
          "execution_count": 73
        }
      ],
      "source": [
        "df.query(\" GRADE == 'G' \")"
      ]
    },
    {
      "cell_type": "code",
      "execution_count": 74,
      "metadata": {
        "id": "sb9FkiW_7huj"
      },
      "outputs": [],
      "source": [
        "# Seems that all the \"G\" correspond to \"A\"\n",
        "df.GRADE.replace('G', 'A', inplace=True)"
      ]
    },
    {
      "cell_type": "code",
      "execution_count": 75,
      "metadata": {
        "colab": {
          "base_uri": "https://localhost:8080/",
          "height": 894
        },
        "id": "eDa3JvYL7huj",
        "outputId": "b67e157f-bb16-466b-81b6-076cf2caac28"
      },
      "outputs": [
        {
          "output_type": "execute_result",
          "data": {
            "text/plain": [
              "           CAMIS                                DBA       BORO BUILDING  \\\n",
              "201     50129154  Auntie Anne's / Cinnabon / Carvel      Bronx     1370   \n",
              "233     50119911                     JUSTIN'S PIZZA      Bronx      840   \n",
              "511     50099285                       JELL & CHILL  Manhattan      110   \n",
              "666     50122599                             FARIDA  Manhattan       32   \n",
              "1043    50117979                BARISTA & THE BAKER   Brooklyn      167   \n",
              "...          ...                                ...        ...      ...   \n",
              "203476  50043260                      THE DEAD POET  Manhattan      450   \n",
              "204091  50105575               COME ON THAI CUISINE   Brooklyn     7803   \n",
              "204745  50106213                 ROYAL SEAFOOD CAFE  Manhattan      103   \n",
              "204938  50034739              ELLINGTON IN THE PARK  Manhattan     W105   \n",
              "205586  50002626             GOLDEN BOWL RESTAURANT  Manhattan       51   \n",
              "\n",
              "                     STREET ZIPCODE       PHONE       CUISINE_DESCRIPTION  \\\n",
              "201     METROPOLITAN AVENUE   10462  9199037490  Bakery Products/Desserts   \n",
              "233            RIVER AVENUE   10451  3472454836                     Pizza   \n",
              "511        EAST    7 STREET   10009  6463705229           Frozen Desserts   \n",
              "666            CEDAR STREET   10005  6466503272                   Russian   \n",
              "1043          ROGERS AVENUE   11216  5164047009             Jewish/Kosher   \n",
              "...                     ...     ...         ...                       ...   \n",
              "203476     AMSTERDAM AVENUE   10024  2125955670                     Irish   \n",
              "204091             3 AVENUE   11209  3477411992                      Thai   \n",
              "204745          MOTT STREET   10013  2129667199                   Chinese   \n",
              "204938         HUDSON BEACH     NaN  9176805280                  American   \n",
              "205586      DIVISION STREET   10002  9178067488                   Chinese   \n",
              "\n",
              "       INSPECTION_DATE                   ACTION  ...  \\\n",
              "201         2022-12-14  Establishment re-opened  ...   \n",
              "233         2022-04-18  Establishment re-opened  ...   \n",
              "511         2019-12-16  Establishment re-opened  ...   \n",
              "666         2022-07-07  Establishment re-opened  ...   \n",
              "1043        2022-02-03  Establishment re-opened  ...   \n",
              "...                ...                      ...  ...   \n",
              "203476      2019-08-08  Establishment re-opened  ...   \n",
              "204091      2021-11-09  Establishment re-opened  ...   \n",
              "204745      2022-10-03  Establishment re-opened  ...   \n",
              "204938      2019-07-01  Establishment re-opened  ...   \n",
              "205586      2022-06-13  Establishment re-opened  ...   \n",
              "\n",
              "                                        INSPECTION_TYPE         LATITUDE  \\\n",
              "201     Pre-permit (Operational) / Reopening Inspection  40.834999593779   \n",
              "233     Pre-permit (Operational) / Reopening Inspection  40.826960327356   \n",
              "511     Pre-permit (Operational) / Reopening Inspection  40.726500172357   \n",
              "666     Pre-permit (Operational) / Reopening Inspection  40.707147534413   \n",
              "1043    Pre-permit (Operational) / Reopening Inspection  40.671648323028   \n",
              "...                                                 ...              ...   \n",
              "203476          Cycle Inspection / Reopening Inspection  40.784852500266   \n",
              "204091  Pre-permit (Operational) / Reopening Inspection  40.629165122019   \n",
              "204745          Cycle Inspection / Reopening Inspection  40.717311692095   \n",
              "204938          Cycle Inspection / Reopening Inspection                0   \n",
              "205586          Cycle Inspection / Reopening Inspection  40.714179833247   \n",
              "\n",
              "               LONGITUDE  COMMUNITY_BOARD COUNCIL_DISTRICT CENSUS_TRACT  \\\n",
              "201     -73.861045522957              209               18       021200   \n",
              "233     -73.926410163903              204               08       006300   \n",
              "511     -73.984641175415              103               02       003200   \n",
              "666     -74.008371492287              101               01       000700   \n",
              "1043    -73.953103593308              308               35       031702   \n",
              "...                  ...              ...              ...          ...   \n",
              "203476  -73.977091354051              107               06       016700   \n",
              "204091  -74.028716456049              310               47       006400   \n",
              "204745   -73.99746039087              102               01       004100   \n",
              "204938                 0              NaN              NaN          NaN   \n",
              "205586  -73.995065310484              103               01       000800   \n",
              "\n",
              "            BIN         BBL   NTA TO_DELETE  \n",
              "201     2096674  2039387501  BX46      True  \n",
              "233     2002979  2024830032  BX63      True  \n",
              "511     1005784  1004340019  MN22      True  \n",
              "666     1001013  1000410024  MN25      True  \n",
              "1043    3032221  3012540011  BK61      True  \n",
              "...         ...         ...   ...       ...  \n",
              "203476  1032685  1012290034  MN12      True  \n",
              "204091  3150286  3059690010  BK31      True  \n",
              "204745  1082936  1002057501  MN24      True  \n",
              "204938      NaN           1   NaN      True  \n",
              "205586  1077595  1002810030  MN27      True  \n",
              "\n",
              "[570 rows x 26 columns]"
            ],
            "text/html": [
              "\n",
              "  <div id=\"df-7d4663fa-8099-48c0-9ba6-93908dc7dbd0\" class=\"colab-df-container\">\n",
              "    <div>\n",
              "<style scoped>\n",
              "    .dataframe tbody tr th:only-of-type {\n",
              "        vertical-align: middle;\n",
              "    }\n",
              "\n",
              "    .dataframe tbody tr th {\n",
              "        vertical-align: top;\n",
              "    }\n",
              "\n",
              "    .dataframe thead th {\n",
              "        text-align: right;\n",
              "    }\n",
              "</style>\n",
              "<table border=\"1\" class=\"dataframe\">\n",
              "  <thead>\n",
              "    <tr style=\"text-align: right;\">\n",
              "      <th></th>\n",
              "      <th>CAMIS</th>\n",
              "      <th>DBA</th>\n",
              "      <th>BORO</th>\n",
              "      <th>BUILDING</th>\n",
              "      <th>STREET</th>\n",
              "      <th>ZIPCODE</th>\n",
              "      <th>PHONE</th>\n",
              "      <th>CUISINE_DESCRIPTION</th>\n",
              "      <th>INSPECTION_DATE</th>\n",
              "      <th>ACTION</th>\n",
              "      <th>...</th>\n",
              "      <th>INSPECTION_TYPE</th>\n",
              "      <th>LATITUDE</th>\n",
              "      <th>LONGITUDE</th>\n",
              "      <th>COMMUNITY_BOARD</th>\n",
              "      <th>COUNCIL_DISTRICT</th>\n",
              "      <th>CENSUS_TRACT</th>\n",
              "      <th>BIN</th>\n",
              "      <th>BBL</th>\n",
              "      <th>NTA</th>\n",
              "      <th>TO_DELETE</th>\n",
              "    </tr>\n",
              "  </thead>\n",
              "  <tbody>\n",
              "    <tr>\n",
              "      <th>201</th>\n",
              "      <td>50129154</td>\n",
              "      <td>Auntie Anne's / Cinnabon / Carvel</td>\n",
              "      <td>Bronx</td>\n",
              "      <td>1370</td>\n",
              "      <td>METROPOLITAN AVENUE</td>\n",
              "      <td>10462</td>\n",
              "      <td>9199037490</td>\n",
              "      <td>Bakery Products/Desserts</td>\n",
              "      <td>2022-12-14</td>\n",
              "      <td>Establishment re-opened</td>\n",
              "      <td>...</td>\n",
              "      <td>Pre-permit (Operational) / Reopening Inspection</td>\n",
              "      <td>40.834999593779</td>\n",
              "      <td>-73.861045522957</td>\n",
              "      <td>209</td>\n",
              "      <td>18</td>\n",
              "      <td>021200</td>\n",
              "      <td>2096674</td>\n",
              "      <td>2039387501</td>\n",
              "      <td>BX46</td>\n",
              "      <td>True</td>\n",
              "    </tr>\n",
              "    <tr>\n",
              "      <th>233</th>\n",
              "      <td>50119911</td>\n",
              "      <td>JUSTIN'S PIZZA</td>\n",
              "      <td>Bronx</td>\n",
              "      <td>840</td>\n",
              "      <td>RIVER AVENUE</td>\n",
              "      <td>10451</td>\n",
              "      <td>3472454836</td>\n",
              "      <td>Pizza</td>\n",
              "      <td>2022-04-18</td>\n",
              "      <td>Establishment re-opened</td>\n",
              "      <td>...</td>\n",
              "      <td>Pre-permit (Operational) / Reopening Inspection</td>\n",
              "      <td>40.826960327356</td>\n",
              "      <td>-73.926410163903</td>\n",
              "      <td>204</td>\n",
              "      <td>08</td>\n",
              "      <td>006300</td>\n",
              "      <td>2002979</td>\n",
              "      <td>2024830032</td>\n",
              "      <td>BX63</td>\n",
              "      <td>True</td>\n",
              "    </tr>\n",
              "    <tr>\n",
              "      <th>511</th>\n",
              "      <td>50099285</td>\n",
              "      <td>JELL &amp; CHILL</td>\n",
              "      <td>Manhattan</td>\n",
              "      <td>110</td>\n",
              "      <td>EAST    7 STREET</td>\n",
              "      <td>10009</td>\n",
              "      <td>6463705229</td>\n",
              "      <td>Frozen Desserts</td>\n",
              "      <td>2019-12-16</td>\n",
              "      <td>Establishment re-opened</td>\n",
              "      <td>...</td>\n",
              "      <td>Pre-permit (Operational) / Reopening Inspection</td>\n",
              "      <td>40.726500172357</td>\n",
              "      <td>-73.984641175415</td>\n",
              "      <td>103</td>\n",
              "      <td>02</td>\n",
              "      <td>003200</td>\n",
              "      <td>1005784</td>\n",
              "      <td>1004340019</td>\n",
              "      <td>MN22</td>\n",
              "      <td>True</td>\n",
              "    </tr>\n",
              "    <tr>\n",
              "      <th>666</th>\n",
              "      <td>50122599</td>\n",
              "      <td>FARIDA</td>\n",
              "      <td>Manhattan</td>\n",
              "      <td>32</td>\n",
              "      <td>CEDAR STREET</td>\n",
              "      <td>10005</td>\n",
              "      <td>6466503272</td>\n",
              "      <td>Russian</td>\n",
              "      <td>2022-07-07</td>\n",
              "      <td>Establishment re-opened</td>\n",
              "      <td>...</td>\n",
              "      <td>Pre-permit (Operational) / Reopening Inspection</td>\n",
              "      <td>40.707147534413</td>\n",
              "      <td>-74.008371492287</td>\n",
              "      <td>101</td>\n",
              "      <td>01</td>\n",
              "      <td>000700</td>\n",
              "      <td>1001013</td>\n",
              "      <td>1000410024</td>\n",
              "      <td>MN25</td>\n",
              "      <td>True</td>\n",
              "    </tr>\n",
              "    <tr>\n",
              "      <th>1043</th>\n",
              "      <td>50117979</td>\n",
              "      <td>BARISTA &amp; THE BAKER</td>\n",
              "      <td>Brooklyn</td>\n",
              "      <td>167</td>\n",
              "      <td>ROGERS AVENUE</td>\n",
              "      <td>11216</td>\n",
              "      <td>5164047009</td>\n",
              "      <td>Jewish/Kosher</td>\n",
              "      <td>2022-02-03</td>\n",
              "      <td>Establishment re-opened</td>\n",
              "      <td>...</td>\n",
              "      <td>Pre-permit (Operational) / Reopening Inspection</td>\n",
              "      <td>40.671648323028</td>\n",
              "      <td>-73.953103593308</td>\n",
              "      <td>308</td>\n",
              "      <td>35</td>\n",
              "      <td>031702</td>\n",
              "      <td>3032221</td>\n",
              "      <td>3012540011</td>\n",
              "      <td>BK61</td>\n",
              "      <td>True</td>\n",
              "    </tr>\n",
              "    <tr>\n",
              "      <th>...</th>\n",
              "      <td>...</td>\n",
              "      <td>...</td>\n",
              "      <td>...</td>\n",
              "      <td>...</td>\n",
              "      <td>...</td>\n",
              "      <td>...</td>\n",
              "      <td>...</td>\n",
              "      <td>...</td>\n",
              "      <td>...</td>\n",
              "      <td>...</td>\n",
              "      <td>...</td>\n",
              "      <td>...</td>\n",
              "      <td>...</td>\n",
              "      <td>...</td>\n",
              "      <td>...</td>\n",
              "      <td>...</td>\n",
              "      <td>...</td>\n",
              "      <td>...</td>\n",
              "      <td>...</td>\n",
              "      <td>...</td>\n",
              "      <td>...</td>\n",
              "    </tr>\n",
              "    <tr>\n",
              "      <th>203476</th>\n",
              "      <td>50043260</td>\n",
              "      <td>THE DEAD POET</td>\n",
              "      <td>Manhattan</td>\n",
              "      <td>450</td>\n",
              "      <td>AMSTERDAM AVENUE</td>\n",
              "      <td>10024</td>\n",
              "      <td>2125955670</td>\n",
              "      <td>Irish</td>\n",
              "      <td>2019-08-08</td>\n",
              "      <td>Establishment re-opened</td>\n",
              "      <td>...</td>\n",
              "      <td>Cycle Inspection / Reopening Inspection</td>\n",
              "      <td>40.784852500266</td>\n",
              "      <td>-73.977091354051</td>\n",
              "      <td>107</td>\n",
              "      <td>06</td>\n",
              "      <td>016700</td>\n",
              "      <td>1032685</td>\n",
              "      <td>1012290034</td>\n",
              "      <td>MN12</td>\n",
              "      <td>True</td>\n",
              "    </tr>\n",
              "    <tr>\n",
              "      <th>204091</th>\n",
              "      <td>50105575</td>\n",
              "      <td>COME ON THAI CUISINE</td>\n",
              "      <td>Brooklyn</td>\n",
              "      <td>7803</td>\n",
              "      <td>3 AVENUE</td>\n",
              "      <td>11209</td>\n",
              "      <td>3477411992</td>\n",
              "      <td>Thai</td>\n",
              "      <td>2021-11-09</td>\n",
              "      <td>Establishment re-opened</td>\n",
              "      <td>...</td>\n",
              "      <td>Pre-permit (Operational) / Reopening Inspection</td>\n",
              "      <td>40.629165122019</td>\n",
              "      <td>-74.028716456049</td>\n",
              "      <td>310</td>\n",
              "      <td>47</td>\n",
              "      <td>006400</td>\n",
              "      <td>3150286</td>\n",
              "      <td>3059690010</td>\n",
              "      <td>BK31</td>\n",
              "      <td>True</td>\n",
              "    </tr>\n",
              "    <tr>\n",
              "      <th>204745</th>\n",
              "      <td>50106213</td>\n",
              "      <td>ROYAL SEAFOOD CAFE</td>\n",
              "      <td>Manhattan</td>\n",
              "      <td>103</td>\n",
              "      <td>MOTT STREET</td>\n",
              "      <td>10013</td>\n",
              "      <td>2129667199</td>\n",
              "      <td>Chinese</td>\n",
              "      <td>2022-10-03</td>\n",
              "      <td>Establishment re-opened</td>\n",
              "      <td>...</td>\n",
              "      <td>Cycle Inspection / Reopening Inspection</td>\n",
              "      <td>40.717311692095</td>\n",
              "      <td>-73.99746039087</td>\n",
              "      <td>102</td>\n",
              "      <td>01</td>\n",
              "      <td>004100</td>\n",
              "      <td>1082936</td>\n",
              "      <td>1002057501</td>\n",
              "      <td>MN24</td>\n",
              "      <td>True</td>\n",
              "    </tr>\n",
              "    <tr>\n",
              "      <th>204938</th>\n",
              "      <td>50034739</td>\n",
              "      <td>ELLINGTON IN THE PARK</td>\n",
              "      <td>Manhattan</td>\n",
              "      <td>W105</td>\n",
              "      <td>HUDSON BEACH</td>\n",
              "      <td>NaN</td>\n",
              "      <td>9176805280</td>\n",
              "      <td>American</td>\n",
              "      <td>2019-07-01</td>\n",
              "      <td>Establishment re-opened</td>\n",
              "      <td>...</td>\n",
              "      <td>Cycle Inspection / Reopening Inspection</td>\n",
              "      <td>0</td>\n",
              "      <td>0</td>\n",
              "      <td>NaN</td>\n",
              "      <td>NaN</td>\n",
              "      <td>NaN</td>\n",
              "      <td>NaN</td>\n",
              "      <td>1</td>\n",
              "      <td>NaN</td>\n",
              "      <td>True</td>\n",
              "    </tr>\n",
              "    <tr>\n",
              "      <th>205586</th>\n",
              "      <td>50002626</td>\n",
              "      <td>GOLDEN BOWL RESTAURANT</td>\n",
              "      <td>Manhattan</td>\n",
              "      <td>51</td>\n",
              "      <td>DIVISION STREET</td>\n",
              "      <td>10002</td>\n",
              "      <td>9178067488</td>\n",
              "      <td>Chinese</td>\n",
              "      <td>2022-06-13</td>\n",
              "      <td>Establishment re-opened</td>\n",
              "      <td>...</td>\n",
              "      <td>Cycle Inspection / Reopening Inspection</td>\n",
              "      <td>40.714179833247</td>\n",
              "      <td>-73.995065310484</td>\n",
              "      <td>103</td>\n",
              "      <td>01</td>\n",
              "      <td>000800</td>\n",
              "      <td>1077595</td>\n",
              "      <td>1002810030</td>\n",
              "      <td>MN27</td>\n",
              "      <td>True</td>\n",
              "    </tr>\n",
              "  </tbody>\n",
              "</table>\n",
              "<p>570 rows × 26 columns</p>\n",
              "</div>\n",
              "    <div class=\"colab-df-buttons\">\n",
              "\n",
              "  <div class=\"colab-df-container\">\n",
              "    <button class=\"colab-df-convert\" onclick=\"convertToInteractive('df-7d4663fa-8099-48c0-9ba6-93908dc7dbd0')\"\n",
              "            title=\"Convert this dataframe to an interactive table.\"\n",
              "            style=\"display:none;\">\n",
              "\n",
              "  <svg xmlns=\"http://www.w3.org/2000/svg\" height=\"24px\" viewBox=\"0 -960 960 960\">\n",
              "    <path d=\"M120-120v-720h720v720H120Zm60-500h600v-160H180v160Zm220 220h160v-160H400v160Zm0 220h160v-160H400v160ZM180-400h160v-160H180v160Zm440 0h160v-160H620v160ZM180-180h160v-160H180v160Zm440 0h160v-160H620v160Z\"/>\n",
              "  </svg>\n",
              "    </button>\n",
              "\n",
              "  <style>\n",
              "    .colab-df-container {\n",
              "      display:flex;\n",
              "      gap: 12px;\n",
              "    }\n",
              "\n",
              "    .colab-df-convert {\n",
              "      background-color: #E8F0FE;\n",
              "      border: none;\n",
              "      border-radius: 50%;\n",
              "      cursor: pointer;\n",
              "      display: none;\n",
              "      fill: #1967D2;\n",
              "      height: 32px;\n",
              "      padding: 0 0 0 0;\n",
              "      width: 32px;\n",
              "    }\n",
              "\n",
              "    .colab-df-convert:hover {\n",
              "      background-color: #E2EBFA;\n",
              "      box-shadow: 0px 1px 2px rgba(60, 64, 67, 0.3), 0px 1px 3px 1px rgba(60, 64, 67, 0.15);\n",
              "      fill: #174EA6;\n",
              "    }\n",
              "\n",
              "    .colab-df-buttons div {\n",
              "      margin-bottom: 4px;\n",
              "    }\n",
              "\n",
              "    [theme=dark] .colab-df-convert {\n",
              "      background-color: #3B4455;\n",
              "      fill: #D2E3FC;\n",
              "    }\n",
              "\n",
              "    [theme=dark] .colab-df-convert:hover {\n",
              "      background-color: #434B5C;\n",
              "      box-shadow: 0px 1px 3px 1px rgba(0, 0, 0, 0.15);\n",
              "      filter: drop-shadow(0px 1px 2px rgba(0, 0, 0, 0.3));\n",
              "      fill: #FFFFFF;\n",
              "    }\n",
              "  </style>\n",
              "\n",
              "    <script>\n",
              "      const buttonEl =\n",
              "        document.querySelector('#df-7d4663fa-8099-48c0-9ba6-93908dc7dbd0 button.colab-df-convert');\n",
              "      buttonEl.style.display =\n",
              "        google.colab.kernel.accessAllowed ? 'block' : 'none';\n",
              "\n",
              "      async function convertToInteractive(key) {\n",
              "        const element = document.querySelector('#df-7d4663fa-8099-48c0-9ba6-93908dc7dbd0');\n",
              "        const dataTable =\n",
              "          await google.colab.kernel.invokeFunction('convertToInteractive',\n",
              "                                                    [key], {});\n",
              "        if (!dataTable) return;\n",
              "\n",
              "        const docLinkHtml = 'Like what you see? Visit the ' +\n",
              "          '<a target=\"_blank\" href=https://colab.research.google.com/notebooks/data_table.ipynb>data table notebook</a>'\n",
              "          + ' to learn more about interactive tables.';\n",
              "        element.innerHTML = '';\n",
              "        dataTable['output_type'] = 'display_data';\n",
              "        await google.colab.output.renderOutput(dataTable, element);\n",
              "        const docLink = document.createElement('div');\n",
              "        docLink.innerHTML = docLinkHtml;\n",
              "        element.appendChild(docLink);\n",
              "      }\n",
              "    </script>\n",
              "  </div>\n",
              "\n",
              "\n",
              "<div id=\"df-eb1fe2e0-b0ca-46b7-b1c9-5f1a1ce80f38\">\n",
              "  <button class=\"colab-df-quickchart\" onclick=\"quickchart('df-eb1fe2e0-b0ca-46b7-b1c9-5f1a1ce80f38')\"\n",
              "            title=\"Suggest charts.\"\n",
              "            style=\"display:none;\">\n",
              "\n",
              "<svg xmlns=\"http://www.w3.org/2000/svg\" height=\"24px\"viewBox=\"0 0 24 24\"\n",
              "     width=\"24px\">\n",
              "    <g>\n",
              "        <path d=\"M19 3H5c-1.1 0-2 .9-2 2v14c0 1.1.9 2 2 2h14c1.1 0 2-.9 2-2V5c0-1.1-.9-2-2-2zM9 17H7v-7h2v7zm4 0h-2V7h2v10zm4 0h-2v-4h2v4z\"/>\n",
              "    </g>\n",
              "</svg>\n",
              "  </button>\n",
              "\n",
              "<style>\n",
              "  .colab-df-quickchart {\n",
              "      --bg-color: #E8F0FE;\n",
              "      --fill-color: #1967D2;\n",
              "      --hover-bg-color: #E2EBFA;\n",
              "      --hover-fill-color: #174EA6;\n",
              "      --disabled-fill-color: #AAA;\n",
              "      --disabled-bg-color: #DDD;\n",
              "  }\n",
              "\n",
              "  [theme=dark] .colab-df-quickchart {\n",
              "      --bg-color: #3B4455;\n",
              "      --fill-color: #D2E3FC;\n",
              "      --hover-bg-color: #434B5C;\n",
              "      --hover-fill-color: #FFFFFF;\n",
              "      --disabled-bg-color: #3B4455;\n",
              "      --disabled-fill-color: #666;\n",
              "  }\n",
              "\n",
              "  .colab-df-quickchart {\n",
              "    background-color: var(--bg-color);\n",
              "    border: none;\n",
              "    border-radius: 50%;\n",
              "    cursor: pointer;\n",
              "    display: none;\n",
              "    fill: var(--fill-color);\n",
              "    height: 32px;\n",
              "    padding: 0;\n",
              "    width: 32px;\n",
              "  }\n",
              "\n",
              "  .colab-df-quickchart:hover {\n",
              "    background-color: var(--hover-bg-color);\n",
              "    box-shadow: 0 1px 2px rgba(60, 64, 67, 0.3), 0 1px 3px 1px rgba(60, 64, 67, 0.15);\n",
              "    fill: var(--button-hover-fill-color);\n",
              "  }\n",
              "\n",
              "  .colab-df-quickchart-complete:disabled,\n",
              "  .colab-df-quickchart-complete:disabled:hover {\n",
              "    background-color: var(--disabled-bg-color);\n",
              "    fill: var(--disabled-fill-color);\n",
              "    box-shadow: none;\n",
              "  }\n",
              "\n",
              "  .colab-df-spinner {\n",
              "    border: 2px solid var(--fill-color);\n",
              "    border-color: transparent;\n",
              "    border-bottom-color: var(--fill-color);\n",
              "    animation:\n",
              "      spin 1s steps(1) infinite;\n",
              "  }\n",
              "\n",
              "  @keyframes spin {\n",
              "    0% {\n",
              "      border-color: transparent;\n",
              "      border-bottom-color: var(--fill-color);\n",
              "      border-left-color: var(--fill-color);\n",
              "    }\n",
              "    20% {\n",
              "      border-color: transparent;\n",
              "      border-left-color: var(--fill-color);\n",
              "      border-top-color: var(--fill-color);\n",
              "    }\n",
              "    30% {\n",
              "      border-color: transparent;\n",
              "      border-left-color: var(--fill-color);\n",
              "      border-top-color: var(--fill-color);\n",
              "      border-right-color: var(--fill-color);\n",
              "    }\n",
              "    40% {\n",
              "      border-color: transparent;\n",
              "      border-right-color: var(--fill-color);\n",
              "      border-top-color: var(--fill-color);\n",
              "    }\n",
              "    60% {\n",
              "      border-color: transparent;\n",
              "      border-right-color: var(--fill-color);\n",
              "    }\n",
              "    80% {\n",
              "      border-color: transparent;\n",
              "      border-right-color: var(--fill-color);\n",
              "      border-bottom-color: var(--fill-color);\n",
              "    }\n",
              "    90% {\n",
              "      border-color: transparent;\n",
              "      border-bottom-color: var(--fill-color);\n",
              "    }\n",
              "  }\n",
              "</style>\n",
              "\n",
              "  <script>\n",
              "    async function quickchart(key) {\n",
              "      const quickchartButtonEl =\n",
              "        document.querySelector('#' + key + ' button');\n",
              "      quickchartButtonEl.disabled = true;  // To prevent multiple clicks.\n",
              "      quickchartButtonEl.classList.add('colab-df-spinner');\n",
              "      try {\n",
              "        const charts = await google.colab.kernel.invokeFunction(\n",
              "            'suggestCharts', [key], {});\n",
              "      } catch (error) {\n",
              "        console.error('Error during call to suggestCharts:', error);\n",
              "      }\n",
              "      quickchartButtonEl.classList.remove('colab-df-spinner');\n",
              "      quickchartButtonEl.classList.add('colab-df-quickchart-complete');\n",
              "    }\n",
              "    (() => {\n",
              "      let quickchartButtonEl =\n",
              "        document.querySelector('#df-eb1fe2e0-b0ca-46b7-b1c9-5f1a1ce80f38 button');\n",
              "      quickchartButtonEl.style.display =\n",
              "        google.colab.kernel.accessAllowed ? 'block' : 'none';\n",
              "    })();\n",
              "  </script>\n",
              "</div>\n",
              "\n",
              "    </div>\n",
              "  </div>\n"
            ]
          },
          "metadata": {},
          "execution_count": 75
        }
      ],
      "source": [
        "# P assigned to 'Establishment re-opened' actions\n",
        "df.query(\" GRADE == 'P' \")"
      ]
    },
    {
      "cell_type": "code",
      "execution_count": 76,
      "metadata": {
        "colab": {
          "base_uri": "https://localhost:8080/"
        },
        "id": "xie57cwO7huj",
        "outputId": "4c52d870-6785-4fbe-9816-c1d9763f602b"
      },
      "outputs": [
        {
          "output_type": "execute_result",
          "data": {
            "text/plain": [
              "Establishment re-opened    570\n",
              "Name: ACTION, dtype: int64"
            ]
          },
          "metadata": {},
          "execution_count": 76
        }
      ],
      "source": [
        "# P assigned to 'Establishment re-opened' actions\n",
        "df.query(\" GRADE == 'P' \").ACTION.value_counts()"
      ]
    },
    {
      "cell_type": "code",
      "execution_count": 77,
      "metadata": {
        "colab": {
          "base_uri": "https://localhost:8080/"
        },
        "id": "iPYvaipU7huj",
        "outputId": "91301707-da76-43f3-d4de-6ce426fd31d1"
      },
      "outputs": [
        {
          "output_type": "execute_result",
          "data": {
            "text/plain": [
              "Cycle Inspection / Reopening Inspection            386\n",
              "Pre-permit (Operational) / Reopening Inspection    184\n",
              "Name: INSPECTION_TYPE, dtype: int64"
            ]
          },
          "metadata": {},
          "execution_count": 77
        }
      ],
      "source": [
        "# P assigned to 'Reopening Inspection' inspection types\n",
        "df.query(\" GRADE == 'P' \").INSPECTION_TYPE.value_counts()"
      ]
    },
    {
      "cell_type": "code",
      "execution_count": null,
      "metadata": {
        "id": "mYo58n_I7huj"
      },
      "outputs": [],
      "source": [
        "# df.query(\" GRADE == 'Z' \").SCORE.hist(bins=100)"
      ]
    },
    {
      "cell_type": "code",
      "execution_count": 78,
      "metadata": {
        "colab": {
          "base_uri": "https://localhost:8080/"
        },
        "id": "e3ON_QPE7huk",
        "outputId": "a6e7dd63-b81a-4057-bba3-dc02f8e31568"
      },
      "outputs": [
        {
          "output_type": "execute_result",
          "data": {
            "text/plain": [
              "A    70673\n",
              "B    10820\n",
              "N     9651\n",
              "C     6260\n",
              "Z     3778\n",
              "P      570\n",
              "Name: GRADE, dtype: int64"
            ]
          },
          "metadata": {},
          "execution_count": 78
        }
      ],
      "source": [
        "# TODO: Figure out what Z, and Not Yet Graded means in GRADE\n",
        "# Until then, we just replace these values with NULL, keeping only the A, B, C grades\n",
        "\n",
        "#\n",
        "df.GRADE.value_counts()"
      ]
    },
    {
      "cell_type": "code",
      "execution_count": 79,
      "metadata": {
        "id": "2GdMxqpj7huk"
      },
      "outputs": [],
      "source": [
        "df['TO_DELETE'] |=  (df.GRADE=='Z')\n",
        "df['TO_DELETE'] |=  (df.GRADE=='P')\n",
        "df['TO_DELETE'] |=  (df.GRADE=='N') # Not Yet Graded\n",
        "df['TO_DELETE'] |=  (df.GRADE=='Not Yet Graded')"
      ]
    },
    {
      "cell_type": "markdown",
      "metadata": {
        "id": "AyejLLa57huk"
      },
      "source": [
        "### GRADE_DATE"
      ]
    },
    {
      "cell_type": "code",
      "execution_count": 80,
      "metadata": {
        "id": "Np46cuoT7huk"
      },
      "outputs": [],
      "source": [
        "df[\"GRADE_DATE\"] = pd.to_datetime(df[\"GRADE_DATE\"], format=\"%m/%d/%Y\")\n"
      ]
    },
    {
      "cell_type": "code",
      "execution_count": 81,
      "metadata": {
        "id": "Q2sLR9Wo7huk"
      },
      "outputs": [],
      "source": [
        "# Grade date and inspection date should be the same.\n",
        "assert np.abs((df.GRADE_DATE - df.INSPECTION_DATE).dropna()).sum().days == 0"
      ]
    },
    {
      "cell_type": "code",
      "execution_count": 82,
      "metadata": {
        "id": "q4ndg-dx7huk"
      },
      "outputs": [],
      "source": [
        "# Check that is there is a grade date, a grade is also assigned\n",
        "assert sum ( ~df.GRADE_DATE.isnull() & df.GRADE.isnull() )  == 0"
      ]
    },
    {
      "cell_type": "code",
      "execution_count": null,
      "metadata": {
        "id": "FJp6Yz9a7huk"
      },
      "outputs": [],
      "source": [
        "# We do not need GRADE DATE if we have INSPECTION DATE\n",
        "df = df.drop(\"GRADE_DATE\", axis='columns')"
      ]
    },
    {
      "cell_type": "markdown",
      "metadata": {
        "id": "u3MyODWT7hul"
      },
      "source": [
        "### VIOLATION_CODE and VIOLATION_DESCRIPTION"
      ]
    },
    {
      "cell_type": "code",
      "execution_count": 85,
      "metadata": {
        "colab": {
          "base_uri": "https://localhost:8080/"
        },
        "id": "B_8tyfr57hul",
        "outputId": "278b133b-4fca-4196-d213-d50d2ea0ad51"
      },
      "outputs": [
        {
          "output_type": "execute_result",
          "data": {
            "text/plain": [
              "3340"
            ]
          },
          "metadata": {},
          "execution_count": 85
        }
      ],
      "source": [
        "df.VIOLATION_CODE.isnull().sum()"
      ]
    },
    {
      "cell_type": "code",
      "execution_count": 86,
      "metadata": {
        "id": "ZalBL3Fx7hul"
      },
      "outputs": [],
      "source": [
        "# All the cases where violation code is NULL should be either cases that we delete\n",
        "# or a \"No violations\" case\n",
        "check = df[df.VIOLATION_CODE.isnull() & ~df.TO_DELETE & (df.ACTION!='No violations')]\n",
        "\n",
        "assert( len(check) == 0 )\n"
      ]
    },
    {
      "cell_type": "code",
      "execution_count": 87,
      "metadata": {
        "colab": {
          "base_uri": "https://localhost:8080/"
        },
        "id": "-c7JFdfi7hul",
        "outputId": "91eb87c3-046d-4892-a78e-68cd5d497b69"
      },
      "outputs": [
        {
          "output_type": "execute_result",
          "data": {
            "text/plain": [
              "3340"
            ]
          },
          "metadata": {},
          "execution_count": 87
        }
      ],
      "source": [
        "df.VIOLATION_DESCRIPTION.isnull().sum()"
      ]
    },
    {
      "cell_type": "code",
      "execution_count": 88,
      "metadata": {
        "colab": {
          "base_uri": "https://localhost:8080/",
          "height": 708
        },
        "id": "EkaYq1St7hul",
        "outputId": "ad306a38-aefe-479d-8cd3-3ad312fc7881"
      },
      "outputs": [
        {
          "output_type": "execute_result",
          "data": {
            "text/plain": [
              "                VIOLATION_DESCRIPTION\n",
              "VIOLATION_CODE                       \n",
              "06A                                 4\n",
              "05C                                 4\n",
              "06C                                 4\n",
              "10G                                 3\n",
              "05D                                 3\n",
              "05B                                 3\n",
              "04N                                 3\n",
              "08C                                 3\n",
              "09C                                 3\n",
              "04F                                 3\n",
              "04D                                 3\n",
              "05H                                 3\n",
              "02A                                 3\n",
              "03E                                 3\n",
              "02C                                 3\n",
              "03D                                 3\n",
              "10H                                 3\n",
              "03A                                 3\n",
              "02H                                 3\n",
              "06I                                 2"
            ],
            "text/html": [
              "\n",
              "  <div id=\"df-49855a99-8e5f-4fa3-8fb1-34ff1d773e57\" class=\"colab-df-container\">\n",
              "    <div>\n",
              "<style scoped>\n",
              "    .dataframe tbody tr th:only-of-type {\n",
              "        vertical-align: middle;\n",
              "    }\n",
              "\n",
              "    .dataframe tbody tr th {\n",
              "        vertical-align: top;\n",
              "    }\n",
              "\n",
              "    .dataframe thead th {\n",
              "        text-align: right;\n",
              "    }\n",
              "</style>\n",
              "<table border=\"1\" class=\"dataframe\">\n",
              "  <thead>\n",
              "    <tr style=\"text-align: right;\">\n",
              "      <th></th>\n",
              "      <th>VIOLATION_DESCRIPTION</th>\n",
              "    </tr>\n",
              "    <tr>\n",
              "      <th>VIOLATION_CODE</th>\n",
              "      <th></th>\n",
              "    </tr>\n",
              "  </thead>\n",
              "  <tbody>\n",
              "    <tr>\n",
              "      <th>06A</th>\n",
              "      <td>4</td>\n",
              "    </tr>\n",
              "    <tr>\n",
              "      <th>05C</th>\n",
              "      <td>4</td>\n",
              "    </tr>\n",
              "    <tr>\n",
              "      <th>06C</th>\n",
              "      <td>4</td>\n",
              "    </tr>\n",
              "    <tr>\n",
              "      <th>10G</th>\n",
              "      <td>3</td>\n",
              "    </tr>\n",
              "    <tr>\n",
              "      <th>05D</th>\n",
              "      <td>3</td>\n",
              "    </tr>\n",
              "    <tr>\n",
              "      <th>05B</th>\n",
              "      <td>3</td>\n",
              "    </tr>\n",
              "    <tr>\n",
              "      <th>04N</th>\n",
              "      <td>3</td>\n",
              "    </tr>\n",
              "    <tr>\n",
              "      <th>08C</th>\n",
              "      <td>3</td>\n",
              "    </tr>\n",
              "    <tr>\n",
              "      <th>09C</th>\n",
              "      <td>3</td>\n",
              "    </tr>\n",
              "    <tr>\n",
              "      <th>04F</th>\n",
              "      <td>3</td>\n",
              "    </tr>\n",
              "    <tr>\n",
              "      <th>04D</th>\n",
              "      <td>3</td>\n",
              "    </tr>\n",
              "    <tr>\n",
              "      <th>05H</th>\n",
              "      <td>3</td>\n",
              "    </tr>\n",
              "    <tr>\n",
              "      <th>02A</th>\n",
              "      <td>3</td>\n",
              "    </tr>\n",
              "    <tr>\n",
              "      <th>03E</th>\n",
              "      <td>3</td>\n",
              "    </tr>\n",
              "    <tr>\n",
              "      <th>02C</th>\n",
              "      <td>3</td>\n",
              "    </tr>\n",
              "    <tr>\n",
              "      <th>03D</th>\n",
              "      <td>3</td>\n",
              "    </tr>\n",
              "    <tr>\n",
              "      <th>10H</th>\n",
              "      <td>3</td>\n",
              "    </tr>\n",
              "    <tr>\n",
              "      <th>03A</th>\n",
              "      <td>3</td>\n",
              "    </tr>\n",
              "    <tr>\n",
              "      <th>02H</th>\n",
              "      <td>3</td>\n",
              "    </tr>\n",
              "    <tr>\n",
              "      <th>06I</th>\n",
              "      <td>2</td>\n",
              "    </tr>\n",
              "  </tbody>\n",
              "</table>\n",
              "</div>\n",
              "    <div class=\"colab-df-buttons\">\n",
              "\n",
              "  <div class=\"colab-df-container\">\n",
              "    <button class=\"colab-df-convert\" onclick=\"convertToInteractive('df-49855a99-8e5f-4fa3-8fb1-34ff1d773e57')\"\n",
              "            title=\"Convert this dataframe to an interactive table.\"\n",
              "            style=\"display:none;\">\n",
              "\n",
              "  <svg xmlns=\"http://www.w3.org/2000/svg\" height=\"24px\" viewBox=\"0 -960 960 960\">\n",
              "    <path d=\"M120-120v-720h720v720H120Zm60-500h600v-160H180v160Zm220 220h160v-160H400v160Zm0 220h160v-160H400v160ZM180-400h160v-160H180v160Zm440 0h160v-160H620v160ZM180-180h160v-160H180v160Zm440 0h160v-160H620v160Z\"/>\n",
              "  </svg>\n",
              "    </button>\n",
              "\n",
              "  <style>\n",
              "    .colab-df-container {\n",
              "      display:flex;\n",
              "      gap: 12px;\n",
              "    }\n",
              "\n",
              "    .colab-df-convert {\n",
              "      background-color: #E8F0FE;\n",
              "      border: none;\n",
              "      border-radius: 50%;\n",
              "      cursor: pointer;\n",
              "      display: none;\n",
              "      fill: #1967D2;\n",
              "      height: 32px;\n",
              "      padding: 0 0 0 0;\n",
              "      width: 32px;\n",
              "    }\n",
              "\n",
              "    .colab-df-convert:hover {\n",
              "      background-color: #E2EBFA;\n",
              "      box-shadow: 0px 1px 2px rgba(60, 64, 67, 0.3), 0px 1px 3px 1px rgba(60, 64, 67, 0.15);\n",
              "      fill: #174EA6;\n",
              "    }\n",
              "\n",
              "    .colab-df-buttons div {\n",
              "      margin-bottom: 4px;\n",
              "    }\n",
              "\n",
              "    [theme=dark] .colab-df-convert {\n",
              "      background-color: #3B4455;\n",
              "      fill: #D2E3FC;\n",
              "    }\n",
              "\n",
              "    [theme=dark] .colab-df-convert:hover {\n",
              "      background-color: #434B5C;\n",
              "      box-shadow: 0px 1px 3px 1px rgba(0, 0, 0, 0.15);\n",
              "      filter: drop-shadow(0px 1px 2px rgba(0, 0, 0, 0.3));\n",
              "      fill: #FFFFFF;\n",
              "    }\n",
              "  </style>\n",
              "\n",
              "    <script>\n",
              "      const buttonEl =\n",
              "        document.querySelector('#df-49855a99-8e5f-4fa3-8fb1-34ff1d773e57 button.colab-df-convert');\n",
              "      buttonEl.style.display =\n",
              "        google.colab.kernel.accessAllowed ? 'block' : 'none';\n",
              "\n",
              "      async function convertToInteractive(key) {\n",
              "        const element = document.querySelector('#df-49855a99-8e5f-4fa3-8fb1-34ff1d773e57');\n",
              "        const dataTable =\n",
              "          await google.colab.kernel.invokeFunction('convertToInteractive',\n",
              "                                                    [key], {});\n",
              "        if (!dataTable) return;\n",
              "\n",
              "        const docLinkHtml = 'Like what you see? Visit the ' +\n",
              "          '<a target=\"_blank\" href=https://colab.research.google.com/notebooks/data_table.ipynb>data table notebook</a>'\n",
              "          + ' to learn more about interactive tables.';\n",
              "        element.innerHTML = '';\n",
              "        dataTable['output_type'] = 'display_data';\n",
              "        await google.colab.output.renderOutput(dataTable, element);\n",
              "        const docLink = document.createElement('div');\n",
              "        docLink.innerHTML = docLinkHtml;\n",
              "        element.appendChild(docLink);\n",
              "      }\n",
              "    </script>\n",
              "  </div>\n",
              "\n",
              "\n",
              "<div id=\"df-af942a30-bbc4-4fcf-ab08-42b2004ab28e\">\n",
              "  <button class=\"colab-df-quickchart\" onclick=\"quickchart('df-af942a30-bbc4-4fcf-ab08-42b2004ab28e')\"\n",
              "            title=\"Suggest charts.\"\n",
              "            style=\"display:none;\">\n",
              "\n",
              "<svg xmlns=\"http://www.w3.org/2000/svg\" height=\"24px\"viewBox=\"0 0 24 24\"\n",
              "     width=\"24px\">\n",
              "    <g>\n",
              "        <path d=\"M19 3H5c-1.1 0-2 .9-2 2v14c0 1.1.9 2 2 2h14c1.1 0 2-.9 2-2V5c0-1.1-.9-2-2-2zM9 17H7v-7h2v7zm4 0h-2V7h2v10zm4 0h-2v-4h2v4z\"/>\n",
              "    </g>\n",
              "</svg>\n",
              "  </button>\n",
              "\n",
              "<style>\n",
              "  .colab-df-quickchart {\n",
              "      --bg-color: #E8F0FE;\n",
              "      --fill-color: #1967D2;\n",
              "      --hover-bg-color: #E2EBFA;\n",
              "      --hover-fill-color: #174EA6;\n",
              "      --disabled-fill-color: #AAA;\n",
              "      --disabled-bg-color: #DDD;\n",
              "  }\n",
              "\n",
              "  [theme=dark] .colab-df-quickchart {\n",
              "      --bg-color: #3B4455;\n",
              "      --fill-color: #D2E3FC;\n",
              "      --hover-bg-color: #434B5C;\n",
              "      --hover-fill-color: #FFFFFF;\n",
              "      --disabled-bg-color: #3B4455;\n",
              "      --disabled-fill-color: #666;\n",
              "  }\n",
              "\n",
              "  .colab-df-quickchart {\n",
              "    background-color: var(--bg-color);\n",
              "    border: none;\n",
              "    border-radius: 50%;\n",
              "    cursor: pointer;\n",
              "    display: none;\n",
              "    fill: var(--fill-color);\n",
              "    height: 32px;\n",
              "    padding: 0;\n",
              "    width: 32px;\n",
              "  }\n",
              "\n",
              "  .colab-df-quickchart:hover {\n",
              "    background-color: var(--hover-bg-color);\n",
              "    box-shadow: 0 1px 2px rgba(60, 64, 67, 0.3), 0 1px 3px 1px rgba(60, 64, 67, 0.15);\n",
              "    fill: var(--button-hover-fill-color);\n",
              "  }\n",
              "\n",
              "  .colab-df-quickchart-complete:disabled,\n",
              "  .colab-df-quickchart-complete:disabled:hover {\n",
              "    background-color: var(--disabled-bg-color);\n",
              "    fill: var(--disabled-fill-color);\n",
              "    box-shadow: none;\n",
              "  }\n",
              "\n",
              "  .colab-df-spinner {\n",
              "    border: 2px solid var(--fill-color);\n",
              "    border-color: transparent;\n",
              "    border-bottom-color: var(--fill-color);\n",
              "    animation:\n",
              "      spin 1s steps(1) infinite;\n",
              "  }\n",
              "\n",
              "  @keyframes spin {\n",
              "    0% {\n",
              "      border-color: transparent;\n",
              "      border-bottom-color: var(--fill-color);\n",
              "      border-left-color: var(--fill-color);\n",
              "    }\n",
              "    20% {\n",
              "      border-color: transparent;\n",
              "      border-left-color: var(--fill-color);\n",
              "      border-top-color: var(--fill-color);\n",
              "    }\n",
              "    30% {\n",
              "      border-color: transparent;\n",
              "      border-left-color: var(--fill-color);\n",
              "      border-top-color: var(--fill-color);\n",
              "      border-right-color: var(--fill-color);\n",
              "    }\n",
              "    40% {\n",
              "      border-color: transparent;\n",
              "      border-right-color: var(--fill-color);\n",
              "      border-top-color: var(--fill-color);\n",
              "    }\n",
              "    60% {\n",
              "      border-color: transparent;\n",
              "      border-right-color: var(--fill-color);\n",
              "    }\n",
              "    80% {\n",
              "      border-color: transparent;\n",
              "      border-right-color: var(--fill-color);\n",
              "      border-bottom-color: var(--fill-color);\n",
              "    }\n",
              "    90% {\n",
              "      border-color: transparent;\n",
              "      border-bottom-color: var(--fill-color);\n",
              "    }\n",
              "  }\n",
              "</style>\n",
              "\n",
              "  <script>\n",
              "    async function quickchart(key) {\n",
              "      const quickchartButtonEl =\n",
              "        document.querySelector('#' + key + ' button');\n",
              "      quickchartButtonEl.disabled = true;  // To prevent multiple clicks.\n",
              "      quickchartButtonEl.classList.add('colab-df-spinner');\n",
              "      try {\n",
              "        const charts = await google.colab.kernel.invokeFunction(\n",
              "            'suggestCharts', [key], {});\n",
              "      } catch (error) {\n",
              "        console.error('Error during call to suggestCharts:', error);\n",
              "      }\n",
              "      quickchartButtonEl.classList.remove('colab-df-spinner');\n",
              "      quickchartButtonEl.classList.add('colab-df-quickchart-complete');\n",
              "    }\n",
              "    (() => {\n",
              "      let quickchartButtonEl =\n",
              "        document.querySelector('#df-af942a30-bbc4-4fcf-ab08-42b2004ab28e button');\n",
              "      quickchartButtonEl.style.display =\n",
              "        google.colab.kernel.accessAllowed ? 'block' : 'none';\n",
              "    })();\n",
              "  </script>\n",
              "</div>\n",
              "\n",
              "    </div>\n",
              "  </div>\n"
            ]
          },
          "metadata": {},
          "execution_count": 88
        }
      ],
      "source": [
        "# Checks that all VIOLATION_CODE has unique VIOLATION_DESCRIPTION\n",
        "df[['VIOLATION_CODE','VIOLATION_DESCRIPTION']].drop_duplicates().pivot_table(\n",
        "    index='VIOLATION_CODE',\n",
        "    values='VIOLATION_DESCRIPTION',\n",
        "    aggfunc=pd.Series.nunique\n",
        ").sort_values('VIOLATION_DESCRIPTION', ascending=False).head(20)"
      ]
    },
    {
      "cell_type": "code",
      "source": [
        "df['TO_DELETE'] |=  (df.VIOLATION_DESCRIPTION == 'Caloric content not posted on menus, menu boards or food tags, in a food service establishment that is 1 of 15 or more outlets operating the same type of business nationally under common ownership or control, or as a franchise or doing business under the same name, for each menu item that is served in portions, the size and content of which are standardized.')"
      ],
      "metadata": {
        "id": "EimlOZPhBtAX"
      },
      "execution_count": null,
      "outputs": []
    },
    {
      "cell_type": "code",
      "execution_count": null,
      "metadata": {
        "id": "MK_OOkg-7hul"
      },
      "outputs": [],
      "source": [
        "# In the dataset we have a NULL violation, when there is no violation\n",
        "# To make this more explicit, we replace NULL with 000\n",
        "# df.VIOLATION_CODE.fillna('000', inplace=True)"
      ]
    },
    {
      "cell_type": "code",
      "execution_count": 89,
      "metadata": {
        "colab": {
          "base_uri": "https://localhost:8080/"
        },
        "id": "Hz1Jf_A97hul",
        "outputId": "2d571ffa-9168-408b-dd55-faa846ee55f2"
      },
      "outputs": [
        {
          "output_type": "execute_result",
          "data": {
            "text/plain": [
              "3340"
            ]
          },
          "metadata": {},
          "execution_count": 89
        }
      ],
      "source": [
        "df.VIOLATION_CODE.isnull().sum()"
      ]
    },
    {
      "cell_type": "code",
      "execution_count": null,
      "metadata": {
        "id": "OwRQRczG7hul"
      },
      "outputs": [],
      "source": [
        "## LATITUDE and LONGITUDE"
      ]
    },
    {
      "cell_type": "code",
      "execution_count": 90,
      "metadata": {
        "id": "swMage4I7hum"
      },
      "outputs": [],
      "source": [
        "df['LONGITUDE'] = pd.to_numeric(df['LONGITUDE'])\n",
        "df['LATITUDE'] = pd.to_numeric(df['LATITUDE'])"
      ]
    },
    {
      "cell_type": "code",
      "execution_count": null,
      "metadata": {
        "id": "W_I6hE5n7hum"
      },
      "outputs": [],
      "source": []
    },
    {
      "cell_type": "code",
      "execution_count": null,
      "metadata": {
        "id": "QfQa-2Mg7hum"
      },
      "outputs": [],
      "source": []
    },
    {
      "cell_type": "code",
      "execution_count": null,
      "metadata": {
        "id": "OvAOX7f_7hum"
      },
      "outputs": [],
      "source": []
    },
    {
      "cell_type": "markdown",
      "metadata": {
        "id": "hEIrMdva7hum"
      },
      "source": [
        "### MISC analysis"
      ]
    },
    {
      "cell_type": "code",
      "execution_count": null,
      "metadata": {
        "id": "ZeF8cokn7hum"
      },
      "outputs": [],
      "source": []
    },
    {
      "cell_type": "code",
      "execution_count": 91,
      "metadata": {
        "colab": {
          "base_uri": "https://localhost:8080/"
        },
        "id": "IE1gnLnl7hum",
        "outputId": "ae4ff31b-51a6-4cb7-f82b-a45d1d013c16"
      },
      "outputs": [
        {
          "output_type": "stream",
          "name": "stderr",
          "text": [
            "<ipython-input-91-c484cf3850a3>:4: FutureWarning: Treating datetime data as categorical rather than numeric in `.describe` is deprecated and will be removed in a future version of pandas. Specify `datetime_is_numeric=True` to silence this warning and adopt the future behavior now.\n",
            "  unique = df.describe(include = 'all').T['unique'].sort_values()\n"
          ]
        },
        {
          "output_type": "stream",
          "name": "stdout",
          "text": [
            "False    134391\n",
            "True      71196\n",
            "Name: TO_DELETE, dtype: int64\n",
            "=====\n",
            "Critical          112205\n",
            "Not Critical       88777\n",
            "Not Applicable      4605\n",
            "Name: CRITICAL_FLAG, dtype: int64\n",
            "=====\n",
            "Violations found           192575\n",
            "Establishment closed         7807\n",
            "Establishment re-opened      1857\n",
            "No violations                1139\n",
            "Establishment re-closed         4\n",
            "Name: ACTION, dtype: int64\n",
            "=====\n",
            "Manhattan        76160\n",
            "Brooklyn         54810\n",
            "Queens           49213\n",
            "Bronx            18469\n",
            "Staten Island     6923\n",
            "0                   12\n",
            "Name: BORO, dtype: int64\n",
            "=====\n",
            "A    70673\n",
            "B    10820\n",
            "N     9651\n",
            "C     6260\n",
            "Z     3778\n",
            "P      570\n",
            "Name: GRADE, dtype: int64\n",
            "=====\n",
            "Initial Inspection                                             112967\n",
            "Re-inspection                                                   36080\n",
            "Pre-permit (Operational) / Initial Inspection                   30463\n",
            "Pre-permit (Operational) / Re-inspection                         9085\n",
            "Administrative Miscellaneous / Initial Inspection                4756\n",
            "Pre-permit (Non-operational) / Initial Inspection                2447\n",
            "Pre-permit (Operational) / Compliance Inspection                 1513\n",
            "Cycle Inspection / Reopening Inspection                          1415\n",
            "Administrative Miscellaneous / Re-inspection                      930\n",
            "Pre-permit (Operational) / Reopening Inspection                   711\n",
            "Cycle Inspection / Compliance Inspection                          687\n",
            "Smoke-Free Air Act / Initial Inspection                           549\n",
            "Trans Fat / Initial Inspection                                    381\n",
            "Inter-Agency Task Force / Initial Inspection                      341\n",
            "Calorie Posting / Initial Inspection                              307\n",
            "Pre-permit (Operational) / Second Compliance Inspection           203\n",
            "Pre-permit (Non-operational) / Re-inspection                      182\n",
            "Administrative Miscellaneous / Compliance Inspection               89\n",
            "Trans Fat / Re-inspection                                          61\n",
            "Calorie Posting / Re-inspection                                    51\n",
            "Smoke-Free Air Act / Re-inspection                                 47\n",
            "Administrative Miscellaneous / Reopening Inspection                40\n",
            "Pre-permit (Non-operational) / Compliance Inspection               27\n",
            "Cycle Inspection / Second Compliance Inspection                    20\n",
            "Administrative Miscellaneous / Second Compliance Inspection        10\n",
            "Smoke-Free Air Act / Limited Inspection                             7\n",
            "Smoke-Free Air Act / Compliance Inspection                          4\n",
            "Pre-permit (Non-operational) / Second Compliance Inspection         4\n",
            "Trans Fat / Compliance Inspection                                   3\n",
            "Inter-Agency Task Force / Re-inspection                             1\n",
            "Calorie Posting / Compliance Inspection                             1\n",
            "Name: INSPECTION_TYPE, dtype: int64\n",
            "=====\n",
            "03    16712\n",
            "01    15057\n",
            "04    13328\n",
            "02    10584\n",
            "33     6375\n",
            "20     6095\n",
            "26     6025\n",
            "34     5801\n",
            "39     5281\n",
            "43     4778\n",
            "22     4568\n",
            "38     4486\n",
            "35     4467\n",
            "06     4332\n",
            "05     4210\n",
            "25     4079\n",
            "21     3910\n",
            "19     3347\n",
            "10     3237\n",
            "07     3165\n",
            "29     3158\n",
            "40     3031\n",
            "08     2996\n",
            "36     2975\n",
            "47     2855\n",
            "37     2787\n",
            "32     2736\n",
            "28     2720\n",
            "48     2696\n",
            "13     2602\n",
            "24     2536\n",
            "49     2468\n",
            "11     2461\n",
            "17     2453\n",
            "30     2432\n",
            "50     2410\n",
            "15     2398\n",
            "45     2327\n",
            "46     2237\n",
            "23     2200\n",
            "27     2188\n",
            "09     2179\n",
            "51     2070\n",
            "41     2070\n",
            "18     1883\n",
            "16     1756\n",
            "12     1720\n",
            "44     1716\n",
            "14     1686\n",
            "42     1396\n",
            "31     1285\n",
            "Name: COUNCIL_DISTRICT, dtype: int64\n",
            "=====\n",
            "105    14894\n",
            "103    10136\n",
            "102     9464\n",
            "104     7952\n",
            "407     7631\n",
            "       ...  \n",
            "355       43\n",
            "164       34\n",
            "226        9\n",
            "595        5\n",
            "482        4\n",
            "Name: COMMUNITY_BOARD, Length: 69, dtype: int64\n",
            "=====\n",
            "American          34175\n",
            "Chinese           20239\n",
            "Coffee/Tea        13487\n",
            "Pizza             12583\n",
            "Latin American     8218\n",
            "                  ...  \n",
            "Armenian             15\n",
            "Czech                12\n",
            "Basque                9\n",
            "Haute Cuisine         5\n",
            "Chimichurri           2\n",
            "Name: CUISINE_DESCRIPTION, Length: 89, dtype: int64\n",
            "=====\n",
            "10F      28367\n",
            "08A      22352\n",
            "06D      14007\n",
            "04L      13874\n",
            "02G      12270\n",
            "         ...  \n",
            "15-29        1\n",
            "20C          1\n",
            "19-01        1\n",
            "19-03        1\n",
            "17A1         1\n",
            "Name: VIOLATION_CODE, Length: 144, dtype: int64\n",
            "=====\n",
            "MN17    11116\n",
            "MN13     5870\n",
            "MN23     5813\n",
            "MN24     5795\n",
            "MN27     4695\n",
            "        ...  \n",
            "MN50       82\n",
            "BK93       73\n",
            "SI08       60\n",
            "MN99       58\n",
            "SI48       28\n",
            "Name: NTA, Length: 193, dtype: int64\n",
            "=====\n"
          ]
        }
      ],
      "source": [
        "# Find the unique values in each column\n",
        "#\n",
        "# df.describe(include = [np.object, 'category']).T['unique']\n",
        "unique = df.describe(include = 'all').T['unique'].sort_values()\n",
        "\n",
        "for column in unique.index:\n",
        "    if unique[column] < 200:\n",
        "        print(df[column].value_counts())\n",
        "        print(\"=====\")"
      ]
    },
    {
      "cell_type": "code",
      "execution_count": 92,
      "metadata": {
        "id": "75eLQgPV7hum",
        "outputId": "1bf431fa-ac91-4b2d-b061-d94219333664",
        "colab": {
          "base_uri": "https://localhost:8080/"
        }
      },
      "outputs": [
        {
          "output_type": "execute_result",
          "data": {
            "text/plain": [
              "CAMIS                            object\n",
              "DBA                              object\n",
              "BORO                             object\n",
              "BUILDING                         object\n",
              "STREET                           object\n",
              "ZIPCODE                          object\n",
              "PHONE                            object\n",
              "CUISINE_DESCRIPTION              object\n",
              "INSPECTION_DATE          datetime64[ns]\n",
              "ACTION                           object\n",
              "VIOLATION_CODE                   object\n",
              "VIOLATION_DESCRIPTION            object\n",
              "CRITICAL_FLAG                    object\n",
              "SCORE                           float64\n",
              "GRADE                            object\n",
              "INSPECTION_TYPE                  object\n",
              "LATITUDE                        float64\n",
              "LONGITUDE                       float64\n",
              "COMMUNITY_BOARD                  object\n",
              "COUNCIL_DISTRICT                 object\n",
              "CENSUS_TRACT                     object\n",
              "BIN                              object\n",
              "BBL                              object\n",
              "NTA                              object\n",
              "TO_DELETE                          bool\n",
              "dtype: object"
            ]
          },
          "metadata": {},
          "execution_count": 92
        }
      ],
      "source": [
        "df.dtypes"
      ]
    },
    {
      "cell_type": "markdown",
      "metadata": {
        "id": "TWzSy9MD7hun"
      },
      "source": [
        "## Deleting Entries"
      ]
    },
    {
      "cell_type": "markdown",
      "metadata": {
        "id": "PK9p5-0H7hun"
      },
      "source": [
        "In this section, we use the results of the analysis above, and delete (additional) entries that will not be useful in our analysis. (Note that it is important to document this, as others may want to go back to the original source, if the entries that we leave are not sufficient.)"
      ]
    },
    {
      "cell_type": "code",
      "execution_count": 93,
      "metadata": {
        "colab": {
          "base_uri": "https://localhost:8080/"
        },
        "id": "6RuMD1ME7hun",
        "outputId": "14a385c0-c57b-46ae-e633-74dfc2859bf8"
      },
      "outputs": [
        {
          "output_type": "execute_result",
          "data": {
            "text/plain": [
              "205587"
            ]
          },
          "metadata": {},
          "execution_count": 93
        }
      ],
      "source": [
        "len(df)"
      ]
    },
    {
      "cell_type": "code",
      "execution_count": 94,
      "metadata": {
        "id": "y926HOop7hun"
      },
      "outputs": [],
      "source": [
        "assert len(df) == initial_size"
      ]
    },
    {
      "cell_type": "code",
      "execution_count": 95,
      "metadata": {
        "id": "h8PGHqOC7hun"
      },
      "outputs": [],
      "source": [
        "df = df[ df.TO_DELETE == False].copy()"
      ]
    },
    {
      "cell_type": "code",
      "execution_count": 96,
      "metadata": {
        "colab": {
          "base_uri": "https://localhost:8080/"
        },
        "id": "kS-cLf-Z7hun",
        "outputId": "4bade3fd-4a4f-485f-af7f-1682440068b0"
      },
      "outputs": [
        {
          "output_type": "execute_result",
          "data": {
            "text/plain": [
              "134391"
            ]
          },
          "metadata": {},
          "execution_count": 96
        }
      ],
      "source": [
        "len(df)"
      ]
    },
    {
      "cell_type": "code",
      "source": [],
      "metadata": {
        "id": "AtUmMLIUjZJn"
      },
      "execution_count": null,
      "outputs": []
    },
    {
      "cell_type": "code",
      "source": [
        "df[df.VIOLATION_CODE.isnull()].VIOLATION_DESCRIPTION"
      ],
      "metadata": {
        "colab": {
          "base_uri": "https://localhost:8080/"
        },
        "id": "CXYAb1_LlYWK",
        "outputId": "9d15c656-353c-4631-d881-f89b2a48bf61"
      },
      "execution_count": 97,
      "outputs": [
        {
          "output_type": "execute_result",
          "data": {
            "text/plain": [
              "24        NaN\n",
              "133       NaN\n",
              "282       NaN\n",
              "541       NaN\n",
              "605       NaN\n",
              "         ... \n",
              "204214    NaN\n",
              "204886    NaN\n",
              "205115    NaN\n",
              "205406    NaN\n",
              "205488    NaN\n",
              "Name: VIOLATION_DESCRIPTION, Length: 285, dtype: object"
            ]
          },
          "metadata": {},
          "execution_count": 97
        }
      ]
    },
    {
      "cell_type": "markdown",
      "metadata": {
        "id": "PnUgthvI7huo"
      },
      "source": [
        "## Additional Data Quality Checks"
      ]
    },
    {
      "cell_type": "code",
      "execution_count": 98,
      "metadata": {
        "id": "3cyfDjZo7huo"
      },
      "outputs": [],
      "source": [
        "\n",
        "\n",
        "assert sum(df.INSPECTION_TYPE.isnull()) == 0\n",
        "\n",
        "assert len(set(df.INSPECTION_TYPE.values)) == 2\n",
        "\n",
        "df[\"INSPECTION_TYPE\"] =  pd.Categorical(df[\"INSPECTION_TYPE\"], ordered=False)"
      ]
    },
    {
      "cell_type": "code",
      "execution_count": 99,
      "metadata": {
        "id": "k157caf_7hup"
      },
      "outputs": [],
      "source": [
        "# Check that no borough entries are empty\n",
        "assert sum(df.BORO.isnull()) == 0\n",
        "\n",
        "df[\"BORO\"] =  pd.Categorical(df[\"BORO\"], ordered=False)"
      ]
    },
    {
      "cell_type": "code",
      "execution_count": 100,
      "metadata": {
        "id": "hLTycuLg7hup"
      },
      "outputs": [],
      "source": [
        "# Check that no street numbers are empty\n",
        "assert sum(df.BUILDING.isnull()) == 0"
      ]
    },
    {
      "cell_type": "code",
      "execution_count": 101,
      "metadata": {
        "id": "pZJS6udG7hup"
      },
      "outputs": [],
      "source": [
        "assert sum(df.STREET.isnull()) == 0"
      ]
    },
    {
      "cell_type": "code",
      "execution_count": 102,
      "metadata": {
        "id": "BpD6_PoQ7hup"
      },
      "outputs": [],
      "source": [
        "\n",
        "assert sum(df.CUISINE_DESCRIPTION.isnull()) == 0\n",
        "\n",
        "df[\"CUISINE_DESCRIPTION\"] =  pd.Categorical(df[\"CUISINE_DESCRIPTION\"], ordered=False)"
      ]
    },
    {
      "cell_type": "code",
      "execution_count": 103,
      "metadata": {
        "id": "Wv0nnqzP7hup"
      },
      "outputs": [],
      "source": [
        "# We only keep three different actions\n",
        "assert len(set(df.ACTION.values)) == 3\n",
        "\n",
        "# No action is empty\n",
        "assert sum(df.ACTION.isnull()) == 0\n",
        "\n",
        "df[\"ACTION\"] =  pd.Categorical(df[\"ACTION\"], ordered=False)"
      ]
    },
    {
      "cell_type": "code",
      "execution_count": null,
      "metadata": {
        "id": "Jpubdfl77huq"
      },
      "outputs": [],
      "source": []
    },
    {
      "cell_type": "code",
      "execution_count": null,
      "metadata": {
        "id": "DKjGwZzl7huq"
      },
      "outputs": [],
      "source": []
    },
    {
      "cell_type": "code",
      "execution_count": 104,
      "metadata": {
        "id": "JyXjlxFI7huq"
      },
      "outputs": [],
      "source": [
        "# The below drops any grade values other than A, B, C, and converts the remaining entries to null\n",
        "df[\"GRADE\"] =  pd.Categorical(df[\"GRADE\"], categories = ['A', 'B', 'C'], ordered=True)\n",
        "\n",
        "# https://www1.nyc.gov/assets/doh/downloads/pdf/rii/how-we-score-grade.pdf\n",
        "# 0-13 get an A\n",
        "assert sum( (df.GRADE=='A') & (df.SCORE>13)) == 0\n",
        "\n",
        "# 14-27 get a B\n",
        "assert sum( (df.GRADE=='B') & ( (df.SCORE<14) | (df.SCORE>27) ) ) == 0\n",
        "\n",
        "# 28- get a C\n",
        "assert sum( (df.GRADE=='C') & (df.SCORE<28) ) == 0\n",
        "\n",
        "# TODO: In principle, a NULL grade is only when the score is above 14, and it was an initial inspection"
      ]
    },
    {
      "cell_type": "code",
      "execution_count": null,
      "metadata": {
        "id": "3v5M-vyM7huq"
      },
      "outputs": [],
      "source": [
        "# Check that is there is a grade date, a grade is also assigned\n",
        "# assert sum ( ~df.GRADE_DATE.isnull() & df.GRADE.isnull() ) == 0"
      ]
    },
    {
      "cell_type": "code",
      "execution_count": 105,
      "metadata": {
        "id": "Afj_mO1f7huq"
      },
      "outputs": [],
      "source": [
        "df[\"VIOLATION_CODE\"] =  pd.Categorical(df[\"VIOLATION_CODE\"], ordered=False)\n",
        "df[\"CRITICAL_FLAG\"] =  pd.Categorical(df[\"CRITICAL_FLAG\"], ordered=False)\n"
      ]
    },
    {
      "cell_type": "code",
      "execution_count": 106,
      "metadata": {
        "colab": {
          "base_uri": "https://localhost:8080/"
        },
        "id": "lYT2MagN7huq",
        "outputId": "3c16ae14-8b2e-4224-e781-c203cbbf246f"
      },
      "outputs": [
        {
          "output_type": "execute_result",
          "data": {
            "text/plain": [
              "24        NaN\n",
              "133       NaN\n",
              "282       NaN\n",
              "541       NaN\n",
              "605       NaN\n",
              "         ... \n",
              "204214    NaN\n",
              "204886    NaN\n",
              "205115    NaN\n",
              "205406    NaN\n",
              "205488    NaN\n",
              "Name: VIOLATION_DESCRIPTION, Length: 285, dtype: object"
            ]
          },
          "metadata": {},
          "execution_count": 106
        }
      ],
      "source": [
        "df [ df.VIOLATION_CODE.isnull() ].VIOLATION_DESCRIPTION"
      ]
    },
    {
      "cell_type": "markdown",
      "metadata": {
        "id": "oncdHcaK7huq"
      },
      "source": [
        "## Normalization"
      ]
    },
    {
      "cell_type": "markdown",
      "metadata": {
        "id": "6tcBS-Pl7hur"
      },
      "source": [
        "### Violation Codes"
      ]
    },
    {
      "cell_type": "code",
      "execution_count": 107,
      "metadata": {
        "colab": {
          "base_uri": "https://localhost:8080/",
          "height": 455
        },
        "id": "CkoPrSYw7hur",
        "outputId": "528e7ada-f76e-4c2c-a4b0-3d023c267021"
      },
      "outputs": [
        {
          "output_type": "execute_result",
          "data": {
            "text/plain": [
              "                                                      DESCRIPTION  \\\n",
              "VIOLATION_CODE                                                      \n",
              "02A             Time/Temperature Control for Safety (TCS) food...   \n",
              "02A              Food not cooked to required minimum temperature.   \n",
              "02A             Time/Temperature Control for Safety (TCS) food...   \n",
              "02B                    Hot food item not held at or above 140º F.   \n",
              "02B                Hot TCS food item not held at or above 140 °F.   \n",
              "...                                                           ...   \n",
              "28-05           Food adulterated or misbranded.  Adulterated o...   \n",
              "28-05           Food adulterated or misbranded. Adulterated or...   \n",
              "28-06           Contract with a pest management professional n...   \n",
              "28-06           Contract with a pest management professional n...   \n",
              "28-07             Unapproved outdoor, street or sidewalk cooking.   \n",
              "\n",
              "                    CRITICAL  \n",
              "VIOLATION_CODE                \n",
              "02A                 Critical  \n",
              "02A                 Critical  \n",
              "02A                 Critical  \n",
              "02B                 Critical  \n",
              "02B                 Critical  \n",
              "...                      ...  \n",
              "28-05           Not Critical  \n",
              "28-05           Not Critical  \n",
              "28-06           Not Critical  \n",
              "28-06           Not Critical  \n",
              "28-07           Not Critical  \n",
              "\n",
              "[151 rows x 2 columns]"
            ],
            "text/html": [
              "\n",
              "  <div id=\"df-c303fe2d-94f6-4121-bc97-2b2a323d76da\" class=\"colab-df-container\">\n",
              "    <div>\n",
              "<style scoped>\n",
              "    .dataframe tbody tr th:only-of-type {\n",
              "        vertical-align: middle;\n",
              "    }\n",
              "\n",
              "    .dataframe tbody tr th {\n",
              "        vertical-align: top;\n",
              "    }\n",
              "\n",
              "    .dataframe thead th {\n",
              "        text-align: right;\n",
              "    }\n",
              "</style>\n",
              "<table border=\"1\" class=\"dataframe\">\n",
              "  <thead>\n",
              "    <tr style=\"text-align: right;\">\n",
              "      <th></th>\n",
              "      <th>DESCRIPTION</th>\n",
              "      <th>CRITICAL</th>\n",
              "    </tr>\n",
              "    <tr>\n",
              "      <th>VIOLATION_CODE</th>\n",
              "      <th></th>\n",
              "      <th></th>\n",
              "    </tr>\n",
              "  </thead>\n",
              "  <tbody>\n",
              "    <tr>\n",
              "      <th>02A</th>\n",
              "      <td>Time/Temperature Control for Safety (TCS) food...</td>\n",
              "      <td>Critical</td>\n",
              "    </tr>\n",
              "    <tr>\n",
              "      <th>02A</th>\n",
              "      <td>Food not cooked to required minimum temperature.</td>\n",
              "      <td>Critical</td>\n",
              "    </tr>\n",
              "    <tr>\n",
              "      <th>02A</th>\n",
              "      <td>Time/Temperature Control for Safety (TCS) food...</td>\n",
              "      <td>Critical</td>\n",
              "    </tr>\n",
              "    <tr>\n",
              "      <th>02B</th>\n",
              "      <td>Hot food item not held at or above 140º F.</td>\n",
              "      <td>Critical</td>\n",
              "    </tr>\n",
              "    <tr>\n",
              "      <th>02B</th>\n",
              "      <td>Hot TCS food item not held at or above 140 °F.</td>\n",
              "      <td>Critical</td>\n",
              "    </tr>\n",
              "    <tr>\n",
              "      <th>...</th>\n",
              "      <td>...</td>\n",
              "      <td>...</td>\n",
              "    </tr>\n",
              "    <tr>\n",
              "      <th>28-05</th>\n",
              "      <td>Food adulterated or misbranded.  Adulterated o...</td>\n",
              "      <td>Not Critical</td>\n",
              "    </tr>\n",
              "    <tr>\n",
              "      <th>28-05</th>\n",
              "      <td>Food adulterated or misbranded. Adulterated or...</td>\n",
              "      <td>Not Critical</td>\n",
              "    </tr>\n",
              "    <tr>\n",
              "      <th>28-06</th>\n",
              "      <td>Contract with a pest management professional n...</td>\n",
              "      <td>Not Critical</td>\n",
              "    </tr>\n",
              "    <tr>\n",
              "      <th>28-06</th>\n",
              "      <td>Contract with a pest management professional n...</td>\n",
              "      <td>Not Critical</td>\n",
              "    </tr>\n",
              "    <tr>\n",
              "      <th>28-07</th>\n",
              "      <td>Unapproved outdoor, street or sidewalk cooking.</td>\n",
              "      <td>Not Critical</td>\n",
              "    </tr>\n",
              "  </tbody>\n",
              "</table>\n",
              "<p>151 rows × 2 columns</p>\n",
              "</div>\n",
              "    <div class=\"colab-df-buttons\">\n",
              "\n",
              "  <div class=\"colab-df-container\">\n",
              "    <button class=\"colab-df-convert\" onclick=\"convertToInteractive('df-c303fe2d-94f6-4121-bc97-2b2a323d76da')\"\n",
              "            title=\"Convert this dataframe to an interactive table.\"\n",
              "            style=\"display:none;\">\n",
              "\n",
              "  <svg xmlns=\"http://www.w3.org/2000/svg\" height=\"24px\" viewBox=\"0 -960 960 960\">\n",
              "    <path d=\"M120-120v-720h720v720H120Zm60-500h600v-160H180v160Zm220 220h160v-160H400v160Zm0 220h160v-160H400v160ZM180-400h160v-160H180v160Zm440 0h160v-160H620v160ZM180-180h160v-160H180v160Zm440 0h160v-160H620v160Z\"/>\n",
              "  </svg>\n",
              "    </button>\n",
              "\n",
              "  <style>\n",
              "    .colab-df-container {\n",
              "      display:flex;\n",
              "      gap: 12px;\n",
              "    }\n",
              "\n",
              "    .colab-df-convert {\n",
              "      background-color: #E8F0FE;\n",
              "      border: none;\n",
              "      border-radius: 50%;\n",
              "      cursor: pointer;\n",
              "      display: none;\n",
              "      fill: #1967D2;\n",
              "      height: 32px;\n",
              "      padding: 0 0 0 0;\n",
              "      width: 32px;\n",
              "    }\n",
              "\n",
              "    .colab-df-convert:hover {\n",
              "      background-color: #E2EBFA;\n",
              "      box-shadow: 0px 1px 2px rgba(60, 64, 67, 0.3), 0px 1px 3px 1px rgba(60, 64, 67, 0.15);\n",
              "      fill: #174EA6;\n",
              "    }\n",
              "\n",
              "    .colab-df-buttons div {\n",
              "      margin-bottom: 4px;\n",
              "    }\n",
              "\n",
              "    [theme=dark] .colab-df-convert {\n",
              "      background-color: #3B4455;\n",
              "      fill: #D2E3FC;\n",
              "    }\n",
              "\n",
              "    [theme=dark] .colab-df-convert:hover {\n",
              "      background-color: #434B5C;\n",
              "      box-shadow: 0px 1px 3px 1px rgba(0, 0, 0, 0.15);\n",
              "      filter: drop-shadow(0px 1px 2px rgba(0, 0, 0, 0.3));\n",
              "      fill: #FFFFFF;\n",
              "    }\n",
              "  </style>\n",
              "\n",
              "    <script>\n",
              "      const buttonEl =\n",
              "        document.querySelector('#df-c303fe2d-94f6-4121-bc97-2b2a323d76da button.colab-df-convert');\n",
              "      buttonEl.style.display =\n",
              "        google.colab.kernel.accessAllowed ? 'block' : 'none';\n",
              "\n",
              "      async function convertToInteractive(key) {\n",
              "        const element = document.querySelector('#df-c303fe2d-94f6-4121-bc97-2b2a323d76da');\n",
              "        const dataTable =\n",
              "          await google.colab.kernel.invokeFunction('convertToInteractive',\n",
              "                                                    [key], {});\n",
              "        if (!dataTable) return;\n",
              "\n",
              "        const docLinkHtml = 'Like what you see? Visit the ' +\n",
              "          '<a target=\"_blank\" href=https://colab.research.google.com/notebooks/data_table.ipynb>data table notebook</a>'\n",
              "          + ' to learn more about interactive tables.';\n",
              "        element.innerHTML = '';\n",
              "        dataTable['output_type'] = 'display_data';\n",
              "        await google.colab.output.renderOutput(dataTable, element);\n",
              "        const docLink = document.createElement('div');\n",
              "        docLink.innerHTML = docLinkHtml;\n",
              "        element.appendChild(docLink);\n",
              "      }\n",
              "    </script>\n",
              "  </div>\n",
              "\n",
              "\n",
              "<div id=\"df-06bddaee-b5e2-4bfb-940f-bc51a1985684\">\n",
              "  <button class=\"colab-df-quickchart\" onclick=\"quickchart('df-06bddaee-b5e2-4bfb-940f-bc51a1985684')\"\n",
              "            title=\"Suggest charts.\"\n",
              "            style=\"display:none;\">\n",
              "\n",
              "<svg xmlns=\"http://www.w3.org/2000/svg\" height=\"24px\"viewBox=\"0 0 24 24\"\n",
              "     width=\"24px\">\n",
              "    <g>\n",
              "        <path d=\"M19 3H5c-1.1 0-2 .9-2 2v14c0 1.1.9 2 2 2h14c1.1 0 2-.9 2-2V5c0-1.1-.9-2-2-2zM9 17H7v-7h2v7zm4 0h-2V7h2v10zm4 0h-2v-4h2v4z\"/>\n",
              "    </g>\n",
              "</svg>\n",
              "  </button>\n",
              "\n",
              "<style>\n",
              "  .colab-df-quickchart {\n",
              "      --bg-color: #E8F0FE;\n",
              "      --fill-color: #1967D2;\n",
              "      --hover-bg-color: #E2EBFA;\n",
              "      --hover-fill-color: #174EA6;\n",
              "      --disabled-fill-color: #AAA;\n",
              "      --disabled-bg-color: #DDD;\n",
              "  }\n",
              "\n",
              "  [theme=dark] .colab-df-quickchart {\n",
              "      --bg-color: #3B4455;\n",
              "      --fill-color: #D2E3FC;\n",
              "      --hover-bg-color: #434B5C;\n",
              "      --hover-fill-color: #FFFFFF;\n",
              "      --disabled-bg-color: #3B4455;\n",
              "      --disabled-fill-color: #666;\n",
              "  }\n",
              "\n",
              "  .colab-df-quickchart {\n",
              "    background-color: var(--bg-color);\n",
              "    border: none;\n",
              "    border-radius: 50%;\n",
              "    cursor: pointer;\n",
              "    display: none;\n",
              "    fill: var(--fill-color);\n",
              "    height: 32px;\n",
              "    padding: 0;\n",
              "    width: 32px;\n",
              "  }\n",
              "\n",
              "  .colab-df-quickchart:hover {\n",
              "    background-color: var(--hover-bg-color);\n",
              "    box-shadow: 0 1px 2px rgba(60, 64, 67, 0.3), 0 1px 3px 1px rgba(60, 64, 67, 0.15);\n",
              "    fill: var(--button-hover-fill-color);\n",
              "  }\n",
              "\n",
              "  .colab-df-quickchart-complete:disabled,\n",
              "  .colab-df-quickchart-complete:disabled:hover {\n",
              "    background-color: var(--disabled-bg-color);\n",
              "    fill: var(--disabled-fill-color);\n",
              "    box-shadow: none;\n",
              "  }\n",
              "\n",
              "  .colab-df-spinner {\n",
              "    border: 2px solid var(--fill-color);\n",
              "    border-color: transparent;\n",
              "    border-bottom-color: var(--fill-color);\n",
              "    animation:\n",
              "      spin 1s steps(1) infinite;\n",
              "  }\n",
              "\n",
              "  @keyframes spin {\n",
              "    0% {\n",
              "      border-color: transparent;\n",
              "      border-bottom-color: var(--fill-color);\n",
              "      border-left-color: var(--fill-color);\n",
              "    }\n",
              "    20% {\n",
              "      border-color: transparent;\n",
              "      border-left-color: var(--fill-color);\n",
              "      border-top-color: var(--fill-color);\n",
              "    }\n",
              "    30% {\n",
              "      border-color: transparent;\n",
              "      border-left-color: var(--fill-color);\n",
              "      border-top-color: var(--fill-color);\n",
              "      border-right-color: var(--fill-color);\n",
              "    }\n",
              "    40% {\n",
              "      border-color: transparent;\n",
              "      border-right-color: var(--fill-color);\n",
              "      border-top-color: var(--fill-color);\n",
              "    }\n",
              "    60% {\n",
              "      border-color: transparent;\n",
              "      border-right-color: var(--fill-color);\n",
              "    }\n",
              "    80% {\n",
              "      border-color: transparent;\n",
              "      border-right-color: var(--fill-color);\n",
              "      border-bottom-color: var(--fill-color);\n",
              "    }\n",
              "    90% {\n",
              "      border-color: transparent;\n",
              "      border-bottom-color: var(--fill-color);\n",
              "    }\n",
              "  }\n",
              "</style>\n",
              "\n",
              "  <script>\n",
              "    async function quickchart(key) {\n",
              "      const quickchartButtonEl =\n",
              "        document.querySelector('#' + key + ' button');\n",
              "      quickchartButtonEl.disabled = true;  // To prevent multiple clicks.\n",
              "      quickchartButtonEl.classList.add('colab-df-spinner');\n",
              "      try {\n",
              "        const charts = await google.colab.kernel.invokeFunction(\n",
              "            'suggestCharts', [key], {});\n",
              "      } catch (error) {\n",
              "        console.error('Error during call to suggestCharts:', error);\n",
              "      }\n",
              "      quickchartButtonEl.classList.remove('colab-df-spinner');\n",
              "      quickchartButtonEl.classList.add('colab-df-quickchart-complete');\n",
              "    }\n",
              "    (() => {\n",
              "      let quickchartButtonEl =\n",
              "        document.querySelector('#df-06bddaee-b5e2-4bfb-940f-bc51a1985684 button');\n",
              "      quickchartButtonEl.style.display =\n",
              "        google.colab.kernel.accessAllowed ? 'block' : 'none';\n",
              "    })();\n",
              "  </script>\n",
              "</div>\n",
              "\n",
              "  <div id=\"id_82efcd4f-6331-493b-b893-b2e15569037b\">\n",
              "    <style>\n",
              "      .colab-df-generate {\n",
              "        background-color: #E8F0FE;\n",
              "        border: none;\n",
              "        border-radius: 50%;\n",
              "        cursor: pointer;\n",
              "        display: none;\n",
              "        fill: #1967D2;\n",
              "        height: 32px;\n",
              "        padding: 0 0 0 0;\n",
              "        width: 32px;\n",
              "      }\n",
              "\n",
              "      .colab-df-generate:hover {\n",
              "        background-color: #E2EBFA;\n",
              "        box-shadow: 0px 1px 2px rgba(60, 64, 67, 0.3), 0px 1px 3px 1px rgba(60, 64, 67, 0.15);\n",
              "        fill: #174EA6;\n",
              "      }\n",
              "\n",
              "      [theme=dark] .colab-df-generate {\n",
              "        background-color: #3B4455;\n",
              "        fill: #D2E3FC;\n",
              "      }\n",
              "\n",
              "      [theme=dark] .colab-df-generate:hover {\n",
              "        background-color: #434B5C;\n",
              "        box-shadow: 0px 1px 3px 1px rgba(0, 0, 0, 0.15);\n",
              "        filter: drop-shadow(0px 1px 2px rgba(0, 0, 0, 0.3));\n",
              "        fill: #FFFFFF;\n",
              "      }\n",
              "    </style>\n",
              "    <button class=\"colab-df-generate\" onclick=\"generateWithVariable('violation_codes')\"\n",
              "            title=\"Generate code using this dataframe.\"\n",
              "            style=\"display:none;\">\n",
              "\n",
              "  <svg xmlns=\"http://www.w3.org/2000/svg\" height=\"24px\"viewBox=\"0 0 24 24\"\n",
              "       width=\"24px\">\n",
              "    <path d=\"M7,19H8.4L18.45,9,17,7.55,7,17.6ZM5,21V16.75L18.45,3.32a2,2,0,0,1,2.83,0l1.4,1.43a1.91,1.91,0,0,1,.58,1.4,1.91,1.91,0,0,1-.58,1.4L9.25,21ZM18.45,9,17,7.55Zm-12,3A5.31,5.31,0,0,0,4.9,8.1,5.31,5.31,0,0,0,1,6.5,5.31,5.31,0,0,0,4.9,4.9,5.31,5.31,0,0,0,6.5,1,5.31,5.31,0,0,0,8.1,4.9,5.31,5.31,0,0,0,12,6.5,5.46,5.46,0,0,0,6.5,12Z\"/>\n",
              "  </svg>\n",
              "    </button>\n",
              "    <script>\n",
              "      (() => {\n",
              "      const buttonEl =\n",
              "        document.querySelector('#id_82efcd4f-6331-493b-b893-b2e15569037b button.colab-df-generate');\n",
              "      buttonEl.style.display =\n",
              "        google.colab.kernel.accessAllowed ? 'block' : 'none';\n",
              "\n",
              "      buttonEl.onclick = () => {\n",
              "        google.colab.notebook.generateWithVariable('violation_codes');\n",
              "      }\n",
              "      })();\n",
              "    </script>\n",
              "  </div>\n",
              "\n",
              "    </div>\n",
              "  </div>\n"
            ]
          },
          "metadata": {},
          "execution_count": 107
        }
      ],
      "source": [
        "# Recreating the table at https://www1.nyc.gov/assets/doh/downloads/pdf/rii/ri-violation-penalty.pdf\n",
        "\n",
        "violation_codes = df [ ['VIOLATION_CODE', 'VIOLATION_DESCRIPTION', 'CRITICAL_FLAG'] ].drop_duplicates()\n",
        "violation_codes = violation_codes.rename( {\n",
        "    'VIOLATION_DESCRIPTION' : 'DESCRIPTION',\n",
        "    'CRITICAL_FLAG' : 'CRITICAL'\n",
        "},  axis = 'columns').sort_values('VIOLATION_CODE').dropna().set_index('VIOLATION_CODE')\n",
        "violation_codes"
      ]
    },
    {
      "cell_type": "code",
      "source": [
        "violation_codes"
      ],
      "metadata": {
        "colab": {
          "base_uri": "https://localhost:8080/",
          "height": 455
        },
        "id": "xTHIoM_eACk1",
        "outputId": "592c0ad5-f77e-45e6-eba0-03c1f1a80d88"
      },
      "execution_count": 108,
      "outputs": [
        {
          "output_type": "execute_result",
          "data": {
            "text/plain": [
              "                                                      DESCRIPTION  \\\n",
              "VIOLATION_CODE                                                      \n",
              "02A             Time/Temperature Control for Safety (TCS) food...   \n",
              "02A              Food not cooked to required minimum temperature.   \n",
              "02A             Time/Temperature Control for Safety (TCS) food...   \n",
              "02B                    Hot food item not held at or above 140º F.   \n",
              "02B                Hot TCS food item not held at or above 140 °F.   \n",
              "...                                                           ...   \n",
              "28-05           Food adulterated or misbranded.  Adulterated o...   \n",
              "28-05           Food adulterated or misbranded. Adulterated or...   \n",
              "28-06           Contract with a pest management professional n...   \n",
              "28-06           Contract with a pest management professional n...   \n",
              "28-07             Unapproved outdoor, street or sidewalk cooking.   \n",
              "\n",
              "                    CRITICAL  \n",
              "VIOLATION_CODE                \n",
              "02A                 Critical  \n",
              "02A                 Critical  \n",
              "02A                 Critical  \n",
              "02B                 Critical  \n",
              "02B                 Critical  \n",
              "...                      ...  \n",
              "28-05           Not Critical  \n",
              "28-05           Not Critical  \n",
              "28-06           Not Critical  \n",
              "28-06           Not Critical  \n",
              "28-07           Not Critical  \n",
              "\n",
              "[151 rows x 2 columns]"
            ],
            "text/html": [
              "\n",
              "  <div id=\"df-4e940343-5b7d-4698-bfba-90cc38bcee34\" class=\"colab-df-container\">\n",
              "    <div>\n",
              "<style scoped>\n",
              "    .dataframe tbody tr th:only-of-type {\n",
              "        vertical-align: middle;\n",
              "    }\n",
              "\n",
              "    .dataframe tbody tr th {\n",
              "        vertical-align: top;\n",
              "    }\n",
              "\n",
              "    .dataframe thead th {\n",
              "        text-align: right;\n",
              "    }\n",
              "</style>\n",
              "<table border=\"1\" class=\"dataframe\">\n",
              "  <thead>\n",
              "    <tr style=\"text-align: right;\">\n",
              "      <th></th>\n",
              "      <th>DESCRIPTION</th>\n",
              "      <th>CRITICAL</th>\n",
              "    </tr>\n",
              "    <tr>\n",
              "      <th>VIOLATION_CODE</th>\n",
              "      <th></th>\n",
              "      <th></th>\n",
              "    </tr>\n",
              "  </thead>\n",
              "  <tbody>\n",
              "    <tr>\n",
              "      <th>02A</th>\n",
              "      <td>Time/Temperature Control for Safety (TCS) food...</td>\n",
              "      <td>Critical</td>\n",
              "    </tr>\n",
              "    <tr>\n",
              "      <th>02A</th>\n",
              "      <td>Food not cooked to required minimum temperature.</td>\n",
              "      <td>Critical</td>\n",
              "    </tr>\n",
              "    <tr>\n",
              "      <th>02A</th>\n",
              "      <td>Time/Temperature Control for Safety (TCS) food...</td>\n",
              "      <td>Critical</td>\n",
              "    </tr>\n",
              "    <tr>\n",
              "      <th>02B</th>\n",
              "      <td>Hot food item not held at or above 140º F.</td>\n",
              "      <td>Critical</td>\n",
              "    </tr>\n",
              "    <tr>\n",
              "      <th>02B</th>\n",
              "      <td>Hot TCS food item not held at or above 140 °F.</td>\n",
              "      <td>Critical</td>\n",
              "    </tr>\n",
              "    <tr>\n",
              "      <th>...</th>\n",
              "      <td>...</td>\n",
              "      <td>...</td>\n",
              "    </tr>\n",
              "    <tr>\n",
              "      <th>28-05</th>\n",
              "      <td>Food adulterated or misbranded.  Adulterated o...</td>\n",
              "      <td>Not Critical</td>\n",
              "    </tr>\n",
              "    <tr>\n",
              "      <th>28-05</th>\n",
              "      <td>Food adulterated or misbranded. Adulterated or...</td>\n",
              "      <td>Not Critical</td>\n",
              "    </tr>\n",
              "    <tr>\n",
              "      <th>28-06</th>\n",
              "      <td>Contract with a pest management professional n...</td>\n",
              "      <td>Not Critical</td>\n",
              "    </tr>\n",
              "    <tr>\n",
              "      <th>28-06</th>\n",
              "      <td>Contract with a pest management professional n...</td>\n",
              "      <td>Not Critical</td>\n",
              "    </tr>\n",
              "    <tr>\n",
              "      <th>28-07</th>\n",
              "      <td>Unapproved outdoor, street or sidewalk cooking.</td>\n",
              "      <td>Not Critical</td>\n",
              "    </tr>\n",
              "  </tbody>\n",
              "</table>\n",
              "<p>151 rows × 2 columns</p>\n",
              "</div>\n",
              "    <div class=\"colab-df-buttons\">\n",
              "\n",
              "  <div class=\"colab-df-container\">\n",
              "    <button class=\"colab-df-convert\" onclick=\"convertToInteractive('df-4e940343-5b7d-4698-bfba-90cc38bcee34')\"\n",
              "            title=\"Convert this dataframe to an interactive table.\"\n",
              "            style=\"display:none;\">\n",
              "\n",
              "  <svg xmlns=\"http://www.w3.org/2000/svg\" height=\"24px\" viewBox=\"0 -960 960 960\">\n",
              "    <path d=\"M120-120v-720h720v720H120Zm60-500h600v-160H180v160Zm220 220h160v-160H400v160Zm0 220h160v-160H400v160ZM180-400h160v-160H180v160Zm440 0h160v-160H620v160ZM180-180h160v-160H180v160Zm440 0h160v-160H620v160Z\"/>\n",
              "  </svg>\n",
              "    </button>\n",
              "\n",
              "  <style>\n",
              "    .colab-df-container {\n",
              "      display:flex;\n",
              "      gap: 12px;\n",
              "    }\n",
              "\n",
              "    .colab-df-convert {\n",
              "      background-color: #E8F0FE;\n",
              "      border: none;\n",
              "      border-radius: 50%;\n",
              "      cursor: pointer;\n",
              "      display: none;\n",
              "      fill: #1967D2;\n",
              "      height: 32px;\n",
              "      padding: 0 0 0 0;\n",
              "      width: 32px;\n",
              "    }\n",
              "\n",
              "    .colab-df-convert:hover {\n",
              "      background-color: #E2EBFA;\n",
              "      box-shadow: 0px 1px 2px rgba(60, 64, 67, 0.3), 0px 1px 3px 1px rgba(60, 64, 67, 0.15);\n",
              "      fill: #174EA6;\n",
              "    }\n",
              "\n",
              "    .colab-df-buttons div {\n",
              "      margin-bottom: 4px;\n",
              "    }\n",
              "\n",
              "    [theme=dark] .colab-df-convert {\n",
              "      background-color: #3B4455;\n",
              "      fill: #D2E3FC;\n",
              "    }\n",
              "\n",
              "    [theme=dark] .colab-df-convert:hover {\n",
              "      background-color: #434B5C;\n",
              "      box-shadow: 0px 1px 3px 1px rgba(0, 0, 0, 0.15);\n",
              "      filter: drop-shadow(0px 1px 2px rgba(0, 0, 0, 0.3));\n",
              "      fill: #FFFFFF;\n",
              "    }\n",
              "  </style>\n",
              "\n",
              "    <script>\n",
              "      const buttonEl =\n",
              "        document.querySelector('#df-4e940343-5b7d-4698-bfba-90cc38bcee34 button.colab-df-convert');\n",
              "      buttonEl.style.display =\n",
              "        google.colab.kernel.accessAllowed ? 'block' : 'none';\n",
              "\n",
              "      async function convertToInteractive(key) {\n",
              "        const element = document.querySelector('#df-4e940343-5b7d-4698-bfba-90cc38bcee34');\n",
              "        const dataTable =\n",
              "          await google.colab.kernel.invokeFunction('convertToInteractive',\n",
              "                                                    [key], {});\n",
              "        if (!dataTable) return;\n",
              "\n",
              "        const docLinkHtml = 'Like what you see? Visit the ' +\n",
              "          '<a target=\"_blank\" href=https://colab.research.google.com/notebooks/data_table.ipynb>data table notebook</a>'\n",
              "          + ' to learn more about interactive tables.';\n",
              "        element.innerHTML = '';\n",
              "        dataTable['output_type'] = 'display_data';\n",
              "        await google.colab.output.renderOutput(dataTable, element);\n",
              "        const docLink = document.createElement('div');\n",
              "        docLink.innerHTML = docLinkHtml;\n",
              "        element.appendChild(docLink);\n",
              "      }\n",
              "    </script>\n",
              "  </div>\n",
              "\n",
              "\n",
              "<div id=\"df-bdfa1c18-294a-4a6d-9328-5501ad89889d\">\n",
              "  <button class=\"colab-df-quickchart\" onclick=\"quickchart('df-bdfa1c18-294a-4a6d-9328-5501ad89889d')\"\n",
              "            title=\"Suggest charts.\"\n",
              "            style=\"display:none;\">\n",
              "\n",
              "<svg xmlns=\"http://www.w3.org/2000/svg\" height=\"24px\"viewBox=\"0 0 24 24\"\n",
              "     width=\"24px\">\n",
              "    <g>\n",
              "        <path d=\"M19 3H5c-1.1 0-2 .9-2 2v14c0 1.1.9 2 2 2h14c1.1 0 2-.9 2-2V5c0-1.1-.9-2-2-2zM9 17H7v-7h2v7zm4 0h-2V7h2v10zm4 0h-2v-4h2v4z\"/>\n",
              "    </g>\n",
              "</svg>\n",
              "  </button>\n",
              "\n",
              "<style>\n",
              "  .colab-df-quickchart {\n",
              "      --bg-color: #E8F0FE;\n",
              "      --fill-color: #1967D2;\n",
              "      --hover-bg-color: #E2EBFA;\n",
              "      --hover-fill-color: #174EA6;\n",
              "      --disabled-fill-color: #AAA;\n",
              "      --disabled-bg-color: #DDD;\n",
              "  }\n",
              "\n",
              "  [theme=dark] .colab-df-quickchart {\n",
              "      --bg-color: #3B4455;\n",
              "      --fill-color: #D2E3FC;\n",
              "      --hover-bg-color: #434B5C;\n",
              "      --hover-fill-color: #FFFFFF;\n",
              "      --disabled-bg-color: #3B4455;\n",
              "      --disabled-fill-color: #666;\n",
              "  }\n",
              "\n",
              "  .colab-df-quickchart {\n",
              "    background-color: var(--bg-color);\n",
              "    border: none;\n",
              "    border-radius: 50%;\n",
              "    cursor: pointer;\n",
              "    display: none;\n",
              "    fill: var(--fill-color);\n",
              "    height: 32px;\n",
              "    padding: 0;\n",
              "    width: 32px;\n",
              "  }\n",
              "\n",
              "  .colab-df-quickchart:hover {\n",
              "    background-color: var(--hover-bg-color);\n",
              "    box-shadow: 0 1px 2px rgba(60, 64, 67, 0.3), 0 1px 3px 1px rgba(60, 64, 67, 0.15);\n",
              "    fill: var(--button-hover-fill-color);\n",
              "  }\n",
              "\n",
              "  .colab-df-quickchart-complete:disabled,\n",
              "  .colab-df-quickchart-complete:disabled:hover {\n",
              "    background-color: var(--disabled-bg-color);\n",
              "    fill: var(--disabled-fill-color);\n",
              "    box-shadow: none;\n",
              "  }\n",
              "\n",
              "  .colab-df-spinner {\n",
              "    border: 2px solid var(--fill-color);\n",
              "    border-color: transparent;\n",
              "    border-bottom-color: var(--fill-color);\n",
              "    animation:\n",
              "      spin 1s steps(1) infinite;\n",
              "  }\n",
              "\n",
              "  @keyframes spin {\n",
              "    0% {\n",
              "      border-color: transparent;\n",
              "      border-bottom-color: var(--fill-color);\n",
              "      border-left-color: var(--fill-color);\n",
              "    }\n",
              "    20% {\n",
              "      border-color: transparent;\n",
              "      border-left-color: var(--fill-color);\n",
              "      border-top-color: var(--fill-color);\n",
              "    }\n",
              "    30% {\n",
              "      border-color: transparent;\n",
              "      border-left-color: var(--fill-color);\n",
              "      border-top-color: var(--fill-color);\n",
              "      border-right-color: var(--fill-color);\n",
              "    }\n",
              "    40% {\n",
              "      border-color: transparent;\n",
              "      border-right-color: var(--fill-color);\n",
              "      border-top-color: var(--fill-color);\n",
              "    }\n",
              "    60% {\n",
              "      border-color: transparent;\n",
              "      border-right-color: var(--fill-color);\n",
              "    }\n",
              "    80% {\n",
              "      border-color: transparent;\n",
              "      border-right-color: var(--fill-color);\n",
              "      border-bottom-color: var(--fill-color);\n",
              "    }\n",
              "    90% {\n",
              "      border-color: transparent;\n",
              "      border-bottom-color: var(--fill-color);\n",
              "    }\n",
              "  }\n",
              "</style>\n",
              "\n",
              "  <script>\n",
              "    async function quickchart(key) {\n",
              "      const quickchartButtonEl =\n",
              "        document.querySelector('#' + key + ' button');\n",
              "      quickchartButtonEl.disabled = true;  // To prevent multiple clicks.\n",
              "      quickchartButtonEl.classList.add('colab-df-spinner');\n",
              "      try {\n",
              "        const charts = await google.colab.kernel.invokeFunction(\n",
              "            'suggestCharts', [key], {});\n",
              "      } catch (error) {\n",
              "        console.error('Error during call to suggestCharts:', error);\n",
              "      }\n",
              "      quickchartButtonEl.classList.remove('colab-df-spinner');\n",
              "      quickchartButtonEl.classList.add('colab-df-quickchart-complete');\n",
              "    }\n",
              "    (() => {\n",
              "      let quickchartButtonEl =\n",
              "        document.querySelector('#df-bdfa1c18-294a-4a6d-9328-5501ad89889d button');\n",
              "      quickchartButtonEl.style.display =\n",
              "        google.colab.kernel.accessAllowed ? 'block' : 'none';\n",
              "    })();\n",
              "  </script>\n",
              "</div>\n",
              "\n",
              "  <div id=\"id_07776f99-9d07-4610-bc91-2dde69e8a947\">\n",
              "    <style>\n",
              "      .colab-df-generate {\n",
              "        background-color: #E8F0FE;\n",
              "        border: none;\n",
              "        border-radius: 50%;\n",
              "        cursor: pointer;\n",
              "        display: none;\n",
              "        fill: #1967D2;\n",
              "        height: 32px;\n",
              "        padding: 0 0 0 0;\n",
              "        width: 32px;\n",
              "      }\n",
              "\n",
              "      .colab-df-generate:hover {\n",
              "        background-color: #E2EBFA;\n",
              "        box-shadow: 0px 1px 2px rgba(60, 64, 67, 0.3), 0px 1px 3px 1px rgba(60, 64, 67, 0.15);\n",
              "        fill: #174EA6;\n",
              "      }\n",
              "\n",
              "      [theme=dark] .colab-df-generate {\n",
              "        background-color: #3B4455;\n",
              "        fill: #D2E3FC;\n",
              "      }\n",
              "\n",
              "      [theme=dark] .colab-df-generate:hover {\n",
              "        background-color: #434B5C;\n",
              "        box-shadow: 0px 1px 3px 1px rgba(0, 0, 0, 0.15);\n",
              "        filter: drop-shadow(0px 1px 2px rgba(0, 0, 0, 0.3));\n",
              "        fill: #FFFFFF;\n",
              "      }\n",
              "    </style>\n",
              "    <button class=\"colab-df-generate\" onclick=\"generateWithVariable('violation_codes')\"\n",
              "            title=\"Generate code using this dataframe.\"\n",
              "            style=\"display:none;\">\n",
              "\n",
              "  <svg xmlns=\"http://www.w3.org/2000/svg\" height=\"24px\"viewBox=\"0 0 24 24\"\n",
              "       width=\"24px\">\n",
              "    <path d=\"M7,19H8.4L18.45,9,17,7.55,7,17.6ZM5,21V16.75L18.45,3.32a2,2,0,0,1,2.83,0l1.4,1.43a1.91,1.91,0,0,1,.58,1.4,1.91,1.91,0,0,1-.58,1.4L9.25,21ZM18.45,9,17,7.55Zm-12,3A5.31,5.31,0,0,0,4.9,8.1,5.31,5.31,0,0,0,1,6.5,5.31,5.31,0,0,0,4.9,4.9,5.31,5.31,0,0,0,6.5,1,5.31,5.31,0,0,0,8.1,4.9,5.31,5.31,0,0,0,12,6.5,5.46,5.46,0,0,0,6.5,12Z\"/>\n",
              "  </svg>\n",
              "    </button>\n",
              "    <script>\n",
              "      (() => {\n",
              "      const buttonEl =\n",
              "        document.querySelector('#id_07776f99-9d07-4610-bc91-2dde69e8a947 button.colab-df-generate');\n",
              "      buttonEl.style.display =\n",
              "        google.colab.kernel.accessAllowed ? 'block' : 'none';\n",
              "\n",
              "      buttonEl.onclick = () => {\n",
              "        google.colab.notebook.generateWithVariable('violation_codes');\n",
              "      }\n",
              "      })();\n",
              "    </script>\n",
              "  </div>\n",
              "\n",
              "    </div>\n",
              "  </div>\n"
            ]
          },
          "metadata": {},
          "execution_count": 108
        }
      ]
    },
    {
      "cell_type": "code",
      "execution_count": 109,
      "metadata": {
        "id": "DQWMHrT87hur"
      },
      "outputs": [],
      "source": [
        "# Drop the description and critical part from the main dataframe\n",
        "df = df.drop(['VIOLATION_DESCRIPTION' ,  'CRITICAL_FLAG'], axis='columns')"
      ]
    },
    {
      "cell_type": "code",
      "execution_count": 110,
      "metadata": {
        "colab": {
          "base_uri": "https://localhost:8080/",
          "height": 652
        },
        "id": "JJ5_4rDn7hur",
        "outputId": "e119cd5a-8e19-4f02-82db-d42076fb0ada"
      },
      "outputs": [
        {
          "output_type": "execute_result",
          "data": {
            "text/plain": [
              "           CAMIS                          DBA       BORO BUILDING  \\\n",
              "24      50048835     VIACOM CONFERENCE CENTER  Manhattan     1515   \n",
              "31      40384458                  DREAM PIZZA     Queens     3767   \n",
              "33      41698540                 LA 90 BAKERY     Queens     3706   \n",
              "52      41692932                   GOURMET 45  Manhattan      721   \n",
              "54      50062554  LA CASA DEL POLLO AND PIZZA  Manhattan     4231   \n",
              "...          ...                          ...        ...      ...   \n",
              "205577  50100383                      CAFE 47  Manhattan       47   \n",
              "205578  50057047                        SODAM     Queens    15650   \n",
              "205579  50077362            FUSION FARE FOODS  Manhattan        2   \n",
              "205580  40365942           HOP KEE RESTAURANT  Manhattan       21   \n",
              "205581  50074052                DAISY'S DINER   Brooklyn      452   \n",
              "\n",
              "                    STREET ZIPCODE       PHONE CUISINE_DESCRIPTION  \\\n",
              "24                BROADWAY   10036  2128466633          Coffee/Tea   \n",
              "31      JUNCTION BOULEVARD   11368  7189431599               Pizza   \n",
              "33               90 STREET   11372  7184290690             Spanish   \n",
              "52                3 AVENUE   10017  2126826220          Sandwiches   \n",
              "54                BROADWAY   10033  2127955500             Spanish   \n",
              "...                    ...     ...         ...                 ...   \n",
              "205577    WEST   66 STREET   10023  2124562453            American   \n",
              "205578       NORTHERN BLVD   11354  7188861616              Korean   \n",
              "205579    WEST   45 STREET   10036  2122283445            American   \n",
              "205580         MOTT STREET   10013  2129648365             Chinese   \n",
              "205581            5 AVENUE   11215  7187881438            American   \n",
              "\n",
              "       INSPECTION_DATE            ACTION  ...     INSPECTION_TYPE   LATITUDE  \\\n",
              "24          2023-06-30     No violations  ...  Initial Inspection  40.757629   \n",
              "31          2022-03-08  Violations found  ...  Initial Inspection  40.750340   \n",
              "33          2022-04-21  Violations found  ...  Initial Inspection  40.750114   \n",
              "52          2020-02-12  Violations found  ...  Initial Inspection  40.752776   \n",
              "54          2022-08-11  Violations found  ...  Initial Inspection  40.849262   \n",
              "...                ...               ...  ...                 ...        ...   \n",
              "205577      2022-06-17  Violations found  ...  Initial Inspection  40.772987   \n",
              "205578      2021-08-07  Violations found  ...  Initial Inspection  40.763918   \n",
              "205579      2022-05-03  Violations found  ...  Initial Inspection  40.755597   \n",
              "205580      2023-08-24  Violations found  ...  Initial Inspection  40.714364   \n",
              "205581      2022-03-22  Violations found  ...  Initial Inspection  40.668901   \n",
              "\n",
              "        LONGITUDE COMMUNITY_BOARD  COUNCIL_DISTRICT  CENSUS_TRACT      BIN  \\\n",
              "24     -73.985803             105                03        011900  1024714   \n",
              "31     -73.870112             403                21        037500  4043853   \n",
              "33     -73.876811             403                21        027700  4036316   \n",
              "52     -73.972966             106                04        009000  1037582   \n",
              "54     -73.936716             112                10        026500  1064269   \n",
              "...           ...             ...               ...           ...      ...   \n",
              "205577 -73.980081             107                06        015300  1081016   \n",
              "205578 -73.808681             407                20        117100  4119330   \n",
              "205579 -73.979975             105                04        009600  1034228   \n",
              "205580 -73.998784             103                01        002900  1001821   \n",
              "205581 -73.986536             306                39        013900  3022262   \n",
              "\n",
              "               BBL   NTA TO_DELETE  \n",
              "24      1010160036  MN17     False  \n",
              "31      4017590035  QN26     False  \n",
              "33      4014770001  QN28     False  \n",
              "52      1013190001  MN19     False  \n",
              "54      1021760050  MN36     False  \n",
              "...            ...   ...       ...  \n",
              "205577  1011190021  MN14     False  \n",
              "205578  4052750031  QN51     False  \n",
              "205579  1012600042  MN17     False  \n",
              "205580  1001640045  MN27     False  \n",
              "205581  3010100041  BK37     False  \n",
              "\n",
              "[134391 rows x 23 columns]"
            ],
            "text/html": [
              "\n",
              "  <div id=\"df-37bb2a26-206e-4c74-857c-807b13728298\" class=\"colab-df-container\">\n",
              "    <div>\n",
              "<style scoped>\n",
              "    .dataframe tbody tr th:only-of-type {\n",
              "        vertical-align: middle;\n",
              "    }\n",
              "\n",
              "    .dataframe tbody tr th {\n",
              "        vertical-align: top;\n",
              "    }\n",
              "\n",
              "    .dataframe thead th {\n",
              "        text-align: right;\n",
              "    }\n",
              "</style>\n",
              "<table border=\"1\" class=\"dataframe\">\n",
              "  <thead>\n",
              "    <tr style=\"text-align: right;\">\n",
              "      <th></th>\n",
              "      <th>CAMIS</th>\n",
              "      <th>DBA</th>\n",
              "      <th>BORO</th>\n",
              "      <th>BUILDING</th>\n",
              "      <th>STREET</th>\n",
              "      <th>ZIPCODE</th>\n",
              "      <th>PHONE</th>\n",
              "      <th>CUISINE_DESCRIPTION</th>\n",
              "      <th>INSPECTION_DATE</th>\n",
              "      <th>ACTION</th>\n",
              "      <th>...</th>\n",
              "      <th>INSPECTION_TYPE</th>\n",
              "      <th>LATITUDE</th>\n",
              "      <th>LONGITUDE</th>\n",
              "      <th>COMMUNITY_BOARD</th>\n",
              "      <th>COUNCIL_DISTRICT</th>\n",
              "      <th>CENSUS_TRACT</th>\n",
              "      <th>BIN</th>\n",
              "      <th>BBL</th>\n",
              "      <th>NTA</th>\n",
              "      <th>TO_DELETE</th>\n",
              "    </tr>\n",
              "  </thead>\n",
              "  <tbody>\n",
              "    <tr>\n",
              "      <th>24</th>\n",
              "      <td>50048835</td>\n",
              "      <td>VIACOM CONFERENCE CENTER</td>\n",
              "      <td>Manhattan</td>\n",
              "      <td>1515</td>\n",
              "      <td>BROADWAY</td>\n",
              "      <td>10036</td>\n",
              "      <td>2128466633</td>\n",
              "      <td>Coffee/Tea</td>\n",
              "      <td>2023-06-30</td>\n",
              "      <td>No violations</td>\n",
              "      <td>...</td>\n",
              "      <td>Initial Inspection</td>\n",
              "      <td>40.757629</td>\n",
              "      <td>-73.985803</td>\n",
              "      <td>105</td>\n",
              "      <td>03</td>\n",
              "      <td>011900</td>\n",
              "      <td>1024714</td>\n",
              "      <td>1010160036</td>\n",
              "      <td>MN17</td>\n",
              "      <td>False</td>\n",
              "    </tr>\n",
              "    <tr>\n",
              "      <th>31</th>\n",
              "      <td>40384458</td>\n",
              "      <td>DREAM PIZZA</td>\n",
              "      <td>Queens</td>\n",
              "      <td>3767</td>\n",
              "      <td>JUNCTION BOULEVARD</td>\n",
              "      <td>11368</td>\n",
              "      <td>7189431599</td>\n",
              "      <td>Pizza</td>\n",
              "      <td>2022-03-08</td>\n",
              "      <td>Violations found</td>\n",
              "      <td>...</td>\n",
              "      <td>Initial Inspection</td>\n",
              "      <td>40.750340</td>\n",
              "      <td>-73.870112</td>\n",
              "      <td>403</td>\n",
              "      <td>21</td>\n",
              "      <td>037500</td>\n",
              "      <td>4043853</td>\n",
              "      <td>4017590035</td>\n",
              "      <td>QN26</td>\n",
              "      <td>False</td>\n",
              "    </tr>\n",
              "    <tr>\n",
              "      <th>33</th>\n",
              "      <td>41698540</td>\n",
              "      <td>LA 90 BAKERY</td>\n",
              "      <td>Queens</td>\n",
              "      <td>3706</td>\n",
              "      <td>90 STREET</td>\n",
              "      <td>11372</td>\n",
              "      <td>7184290690</td>\n",
              "      <td>Spanish</td>\n",
              "      <td>2022-04-21</td>\n",
              "      <td>Violations found</td>\n",
              "      <td>...</td>\n",
              "      <td>Initial Inspection</td>\n",
              "      <td>40.750114</td>\n",
              "      <td>-73.876811</td>\n",
              "      <td>403</td>\n",
              "      <td>21</td>\n",
              "      <td>027700</td>\n",
              "      <td>4036316</td>\n",
              "      <td>4014770001</td>\n",
              "      <td>QN28</td>\n",
              "      <td>False</td>\n",
              "    </tr>\n",
              "    <tr>\n",
              "      <th>52</th>\n",
              "      <td>41692932</td>\n",
              "      <td>GOURMET 45</td>\n",
              "      <td>Manhattan</td>\n",
              "      <td>721</td>\n",
              "      <td>3 AVENUE</td>\n",
              "      <td>10017</td>\n",
              "      <td>2126826220</td>\n",
              "      <td>Sandwiches</td>\n",
              "      <td>2020-02-12</td>\n",
              "      <td>Violations found</td>\n",
              "      <td>...</td>\n",
              "      <td>Initial Inspection</td>\n",
              "      <td>40.752776</td>\n",
              "      <td>-73.972966</td>\n",
              "      <td>106</td>\n",
              "      <td>04</td>\n",
              "      <td>009000</td>\n",
              "      <td>1037582</td>\n",
              "      <td>1013190001</td>\n",
              "      <td>MN19</td>\n",
              "      <td>False</td>\n",
              "    </tr>\n",
              "    <tr>\n",
              "      <th>54</th>\n",
              "      <td>50062554</td>\n",
              "      <td>LA CASA DEL POLLO AND PIZZA</td>\n",
              "      <td>Manhattan</td>\n",
              "      <td>4231</td>\n",
              "      <td>BROADWAY</td>\n",
              "      <td>10033</td>\n",
              "      <td>2127955500</td>\n",
              "      <td>Spanish</td>\n",
              "      <td>2022-08-11</td>\n",
              "      <td>Violations found</td>\n",
              "      <td>...</td>\n",
              "      <td>Initial Inspection</td>\n",
              "      <td>40.849262</td>\n",
              "      <td>-73.936716</td>\n",
              "      <td>112</td>\n",
              "      <td>10</td>\n",
              "      <td>026500</td>\n",
              "      <td>1064269</td>\n",
              "      <td>1021760050</td>\n",
              "      <td>MN36</td>\n",
              "      <td>False</td>\n",
              "    </tr>\n",
              "    <tr>\n",
              "      <th>...</th>\n",
              "      <td>...</td>\n",
              "      <td>...</td>\n",
              "      <td>...</td>\n",
              "      <td>...</td>\n",
              "      <td>...</td>\n",
              "      <td>...</td>\n",
              "      <td>...</td>\n",
              "      <td>...</td>\n",
              "      <td>...</td>\n",
              "      <td>...</td>\n",
              "      <td>...</td>\n",
              "      <td>...</td>\n",
              "      <td>...</td>\n",
              "      <td>...</td>\n",
              "      <td>...</td>\n",
              "      <td>...</td>\n",
              "      <td>...</td>\n",
              "      <td>...</td>\n",
              "      <td>...</td>\n",
              "      <td>...</td>\n",
              "      <td>...</td>\n",
              "    </tr>\n",
              "    <tr>\n",
              "      <th>205577</th>\n",
              "      <td>50100383</td>\n",
              "      <td>CAFE 47</td>\n",
              "      <td>Manhattan</td>\n",
              "      <td>47</td>\n",
              "      <td>WEST   66 STREET</td>\n",
              "      <td>10023</td>\n",
              "      <td>2124562453</td>\n",
              "      <td>American</td>\n",
              "      <td>2022-06-17</td>\n",
              "      <td>Violations found</td>\n",
              "      <td>...</td>\n",
              "      <td>Initial Inspection</td>\n",
              "      <td>40.772987</td>\n",
              "      <td>-73.980081</td>\n",
              "      <td>107</td>\n",
              "      <td>06</td>\n",
              "      <td>015300</td>\n",
              "      <td>1081016</td>\n",
              "      <td>1011190021</td>\n",
              "      <td>MN14</td>\n",
              "      <td>False</td>\n",
              "    </tr>\n",
              "    <tr>\n",
              "      <th>205578</th>\n",
              "      <td>50057047</td>\n",
              "      <td>SODAM</td>\n",
              "      <td>Queens</td>\n",
              "      <td>15650</td>\n",
              "      <td>NORTHERN BLVD</td>\n",
              "      <td>11354</td>\n",
              "      <td>7188861616</td>\n",
              "      <td>Korean</td>\n",
              "      <td>2021-08-07</td>\n",
              "      <td>Violations found</td>\n",
              "      <td>...</td>\n",
              "      <td>Initial Inspection</td>\n",
              "      <td>40.763918</td>\n",
              "      <td>-73.808681</td>\n",
              "      <td>407</td>\n",
              "      <td>20</td>\n",
              "      <td>117100</td>\n",
              "      <td>4119330</td>\n",
              "      <td>4052750031</td>\n",
              "      <td>QN51</td>\n",
              "      <td>False</td>\n",
              "    </tr>\n",
              "    <tr>\n",
              "      <th>205579</th>\n",
              "      <td>50077362</td>\n",
              "      <td>FUSION FARE FOODS</td>\n",
              "      <td>Manhattan</td>\n",
              "      <td>2</td>\n",
              "      <td>WEST   45 STREET</td>\n",
              "      <td>10036</td>\n",
              "      <td>2122283445</td>\n",
              "      <td>American</td>\n",
              "      <td>2022-05-03</td>\n",
              "      <td>Violations found</td>\n",
              "      <td>...</td>\n",
              "      <td>Initial Inspection</td>\n",
              "      <td>40.755597</td>\n",
              "      <td>-73.979975</td>\n",
              "      <td>105</td>\n",
              "      <td>04</td>\n",
              "      <td>009600</td>\n",
              "      <td>1034228</td>\n",
              "      <td>1012600042</td>\n",
              "      <td>MN17</td>\n",
              "      <td>False</td>\n",
              "    </tr>\n",
              "    <tr>\n",
              "      <th>205580</th>\n",
              "      <td>40365942</td>\n",
              "      <td>HOP KEE RESTAURANT</td>\n",
              "      <td>Manhattan</td>\n",
              "      <td>21</td>\n",
              "      <td>MOTT STREET</td>\n",
              "      <td>10013</td>\n",
              "      <td>2129648365</td>\n",
              "      <td>Chinese</td>\n",
              "      <td>2023-08-24</td>\n",
              "      <td>Violations found</td>\n",
              "      <td>...</td>\n",
              "      <td>Initial Inspection</td>\n",
              "      <td>40.714364</td>\n",
              "      <td>-73.998784</td>\n",
              "      <td>103</td>\n",
              "      <td>01</td>\n",
              "      <td>002900</td>\n",
              "      <td>1001821</td>\n",
              "      <td>1001640045</td>\n",
              "      <td>MN27</td>\n",
              "      <td>False</td>\n",
              "    </tr>\n",
              "    <tr>\n",
              "      <th>205581</th>\n",
              "      <td>50074052</td>\n",
              "      <td>DAISY'S DINER</td>\n",
              "      <td>Brooklyn</td>\n",
              "      <td>452</td>\n",
              "      <td>5 AVENUE</td>\n",
              "      <td>11215</td>\n",
              "      <td>7187881438</td>\n",
              "      <td>American</td>\n",
              "      <td>2022-03-22</td>\n",
              "      <td>Violations found</td>\n",
              "      <td>...</td>\n",
              "      <td>Initial Inspection</td>\n",
              "      <td>40.668901</td>\n",
              "      <td>-73.986536</td>\n",
              "      <td>306</td>\n",
              "      <td>39</td>\n",
              "      <td>013900</td>\n",
              "      <td>3022262</td>\n",
              "      <td>3010100041</td>\n",
              "      <td>BK37</td>\n",
              "      <td>False</td>\n",
              "    </tr>\n",
              "  </tbody>\n",
              "</table>\n",
              "<p>134391 rows × 23 columns</p>\n",
              "</div>\n",
              "    <div class=\"colab-df-buttons\">\n",
              "\n",
              "  <div class=\"colab-df-container\">\n",
              "    <button class=\"colab-df-convert\" onclick=\"convertToInteractive('df-37bb2a26-206e-4c74-857c-807b13728298')\"\n",
              "            title=\"Convert this dataframe to an interactive table.\"\n",
              "            style=\"display:none;\">\n",
              "\n",
              "  <svg xmlns=\"http://www.w3.org/2000/svg\" height=\"24px\" viewBox=\"0 -960 960 960\">\n",
              "    <path d=\"M120-120v-720h720v720H120Zm60-500h600v-160H180v160Zm220 220h160v-160H400v160Zm0 220h160v-160H400v160ZM180-400h160v-160H180v160Zm440 0h160v-160H620v160ZM180-180h160v-160H180v160Zm440 0h160v-160H620v160Z\"/>\n",
              "  </svg>\n",
              "    </button>\n",
              "\n",
              "  <style>\n",
              "    .colab-df-container {\n",
              "      display:flex;\n",
              "      gap: 12px;\n",
              "    }\n",
              "\n",
              "    .colab-df-convert {\n",
              "      background-color: #E8F0FE;\n",
              "      border: none;\n",
              "      border-radius: 50%;\n",
              "      cursor: pointer;\n",
              "      display: none;\n",
              "      fill: #1967D2;\n",
              "      height: 32px;\n",
              "      padding: 0 0 0 0;\n",
              "      width: 32px;\n",
              "    }\n",
              "\n",
              "    .colab-df-convert:hover {\n",
              "      background-color: #E2EBFA;\n",
              "      box-shadow: 0px 1px 2px rgba(60, 64, 67, 0.3), 0px 1px 3px 1px rgba(60, 64, 67, 0.15);\n",
              "      fill: #174EA6;\n",
              "    }\n",
              "\n",
              "    .colab-df-buttons div {\n",
              "      margin-bottom: 4px;\n",
              "    }\n",
              "\n",
              "    [theme=dark] .colab-df-convert {\n",
              "      background-color: #3B4455;\n",
              "      fill: #D2E3FC;\n",
              "    }\n",
              "\n",
              "    [theme=dark] .colab-df-convert:hover {\n",
              "      background-color: #434B5C;\n",
              "      box-shadow: 0px 1px 3px 1px rgba(0, 0, 0, 0.15);\n",
              "      filter: drop-shadow(0px 1px 2px rgba(0, 0, 0, 0.3));\n",
              "      fill: #FFFFFF;\n",
              "    }\n",
              "  </style>\n",
              "\n",
              "    <script>\n",
              "      const buttonEl =\n",
              "        document.querySelector('#df-37bb2a26-206e-4c74-857c-807b13728298 button.colab-df-convert');\n",
              "      buttonEl.style.display =\n",
              "        google.colab.kernel.accessAllowed ? 'block' : 'none';\n",
              "\n",
              "      async function convertToInteractive(key) {\n",
              "        const element = document.querySelector('#df-37bb2a26-206e-4c74-857c-807b13728298');\n",
              "        const dataTable =\n",
              "          await google.colab.kernel.invokeFunction('convertToInteractive',\n",
              "                                                    [key], {});\n",
              "        if (!dataTable) return;\n",
              "\n",
              "        const docLinkHtml = 'Like what you see? Visit the ' +\n",
              "          '<a target=\"_blank\" href=https://colab.research.google.com/notebooks/data_table.ipynb>data table notebook</a>'\n",
              "          + ' to learn more about interactive tables.';\n",
              "        element.innerHTML = '';\n",
              "        dataTable['output_type'] = 'display_data';\n",
              "        await google.colab.output.renderOutput(dataTable, element);\n",
              "        const docLink = document.createElement('div');\n",
              "        docLink.innerHTML = docLinkHtml;\n",
              "        element.appendChild(docLink);\n",
              "      }\n",
              "    </script>\n",
              "  </div>\n",
              "\n",
              "\n",
              "<div id=\"df-c7d1fc76-0d90-49fd-ad81-bffad00b68d0\">\n",
              "  <button class=\"colab-df-quickchart\" onclick=\"quickchart('df-c7d1fc76-0d90-49fd-ad81-bffad00b68d0')\"\n",
              "            title=\"Suggest charts.\"\n",
              "            style=\"display:none;\">\n",
              "\n",
              "<svg xmlns=\"http://www.w3.org/2000/svg\" height=\"24px\"viewBox=\"0 0 24 24\"\n",
              "     width=\"24px\">\n",
              "    <g>\n",
              "        <path d=\"M19 3H5c-1.1 0-2 .9-2 2v14c0 1.1.9 2 2 2h14c1.1 0 2-.9 2-2V5c0-1.1-.9-2-2-2zM9 17H7v-7h2v7zm4 0h-2V7h2v10zm4 0h-2v-4h2v4z\"/>\n",
              "    </g>\n",
              "</svg>\n",
              "  </button>\n",
              "\n",
              "<style>\n",
              "  .colab-df-quickchart {\n",
              "      --bg-color: #E8F0FE;\n",
              "      --fill-color: #1967D2;\n",
              "      --hover-bg-color: #E2EBFA;\n",
              "      --hover-fill-color: #174EA6;\n",
              "      --disabled-fill-color: #AAA;\n",
              "      --disabled-bg-color: #DDD;\n",
              "  }\n",
              "\n",
              "  [theme=dark] .colab-df-quickchart {\n",
              "      --bg-color: #3B4455;\n",
              "      --fill-color: #D2E3FC;\n",
              "      --hover-bg-color: #434B5C;\n",
              "      --hover-fill-color: #FFFFFF;\n",
              "      --disabled-bg-color: #3B4455;\n",
              "      --disabled-fill-color: #666;\n",
              "  }\n",
              "\n",
              "  .colab-df-quickchart {\n",
              "    background-color: var(--bg-color);\n",
              "    border: none;\n",
              "    border-radius: 50%;\n",
              "    cursor: pointer;\n",
              "    display: none;\n",
              "    fill: var(--fill-color);\n",
              "    height: 32px;\n",
              "    padding: 0;\n",
              "    width: 32px;\n",
              "  }\n",
              "\n",
              "  .colab-df-quickchart:hover {\n",
              "    background-color: var(--hover-bg-color);\n",
              "    box-shadow: 0 1px 2px rgba(60, 64, 67, 0.3), 0 1px 3px 1px rgba(60, 64, 67, 0.15);\n",
              "    fill: var(--button-hover-fill-color);\n",
              "  }\n",
              "\n",
              "  .colab-df-quickchart-complete:disabled,\n",
              "  .colab-df-quickchart-complete:disabled:hover {\n",
              "    background-color: var(--disabled-bg-color);\n",
              "    fill: var(--disabled-fill-color);\n",
              "    box-shadow: none;\n",
              "  }\n",
              "\n",
              "  .colab-df-spinner {\n",
              "    border: 2px solid var(--fill-color);\n",
              "    border-color: transparent;\n",
              "    border-bottom-color: var(--fill-color);\n",
              "    animation:\n",
              "      spin 1s steps(1) infinite;\n",
              "  }\n",
              "\n",
              "  @keyframes spin {\n",
              "    0% {\n",
              "      border-color: transparent;\n",
              "      border-bottom-color: var(--fill-color);\n",
              "      border-left-color: var(--fill-color);\n",
              "    }\n",
              "    20% {\n",
              "      border-color: transparent;\n",
              "      border-left-color: var(--fill-color);\n",
              "      border-top-color: var(--fill-color);\n",
              "    }\n",
              "    30% {\n",
              "      border-color: transparent;\n",
              "      border-left-color: var(--fill-color);\n",
              "      border-top-color: var(--fill-color);\n",
              "      border-right-color: var(--fill-color);\n",
              "    }\n",
              "    40% {\n",
              "      border-color: transparent;\n",
              "      border-right-color: var(--fill-color);\n",
              "      border-top-color: var(--fill-color);\n",
              "    }\n",
              "    60% {\n",
              "      border-color: transparent;\n",
              "      border-right-color: var(--fill-color);\n",
              "    }\n",
              "    80% {\n",
              "      border-color: transparent;\n",
              "      border-right-color: var(--fill-color);\n",
              "      border-bottom-color: var(--fill-color);\n",
              "    }\n",
              "    90% {\n",
              "      border-color: transparent;\n",
              "      border-bottom-color: var(--fill-color);\n",
              "    }\n",
              "  }\n",
              "</style>\n",
              "\n",
              "  <script>\n",
              "    async function quickchart(key) {\n",
              "      const quickchartButtonEl =\n",
              "        document.querySelector('#' + key + ' button');\n",
              "      quickchartButtonEl.disabled = true;  // To prevent multiple clicks.\n",
              "      quickchartButtonEl.classList.add('colab-df-spinner');\n",
              "      try {\n",
              "        const charts = await google.colab.kernel.invokeFunction(\n",
              "            'suggestCharts', [key], {});\n",
              "      } catch (error) {\n",
              "        console.error('Error during call to suggestCharts:', error);\n",
              "      }\n",
              "      quickchartButtonEl.classList.remove('colab-df-spinner');\n",
              "      quickchartButtonEl.classList.add('colab-df-quickchart-complete');\n",
              "    }\n",
              "    (() => {\n",
              "      let quickchartButtonEl =\n",
              "        document.querySelector('#df-c7d1fc76-0d90-49fd-ad81-bffad00b68d0 button');\n",
              "      quickchartButtonEl.style.display =\n",
              "        google.colab.kernel.accessAllowed ? 'block' : 'none';\n",
              "    })();\n",
              "  </script>\n",
              "</div>\n",
              "\n",
              "  <div id=\"id_7a283026-f087-401f-a8ee-5fc5c5e8b171\">\n",
              "    <style>\n",
              "      .colab-df-generate {\n",
              "        background-color: #E8F0FE;\n",
              "        border: none;\n",
              "        border-radius: 50%;\n",
              "        cursor: pointer;\n",
              "        display: none;\n",
              "        fill: #1967D2;\n",
              "        height: 32px;\n",
              "        padding: 0 0 0 0;\n",
              "        width: 32px;\n",
              "      }\n",
              "\n",
              "      .colab-df-generate:hover {\n",
              "        background-color: #E2EBFA;\n",
              "        box-shadow: 0px 1px 2px rgba(60, 64, 67, 0.3), 0px 1px 3px 1px rgba(60, 64, 67, 0.15);\n",
              "        fill: #174EA6;\n",
              "      }\n",
              "\n",
              "      [theme=dark] .colab-df-generate {\n",
              "        background-color: #3B4455;\n",
              "        fill: #D2E3FC;\n",
              "      }\n",
              "\n",
              "      [theme=dark] .colab-df-generate:hover {\n",
              "        background-color: #434B5C;\n",
              "        box-shadow: 0px 1px 3px 1px rgba(0, 0, 0, 0.15);\n",
              "        filter: drop-shadow(0px 1px 2px rgba(0, 0, 0, 0.3));\n",
              "        fill: #FFFFFF;\n",
              "      }\n",
              "    </style>\n",
              "    <button class=\"colab-df-generate\" onclick=\"generateWithVariable('df')\"\n",
              "            title=\"Generate code using this dataframe.\"\n",
              "            style=\"display:none;\">\n",
              "\n",
              "  <svg xmlns=\"http://www.w3.org/2000/svg\" height=\"24px\"viewBox=\"0 0 24 24\"\n",
              "       width=\"24px\">\n",
              "    <path d=\"M7,19H8.4L18.45,9,17,7.55,7,17.6ZM5,21V16.75L18.45,3.32a2,2,0,0,1,2.83,0l1.4,1.43a1.91,1.91,0,0,1,.58,1.4,1.91,1.91,0,0,1-.58,1.4L9.25,21ZM18.45,9,17,7.55Zm-12,3A5.31,5.31,0,0,0,4.9,8.1,5.31,5.31,0,0,0,1,6.5,5.31,5.31,0,0,0,4.9,4.9,5.31,5.31,0,0,0,6.5,1,5.31,5.31,0,0,0,8.1,4.9,5.31,5.31,0,0,0,12,6.5,5.46,5.46,0,0,0,6.5,12Z\"/>\n",
              "  </svg>\n",
              "    </button>\n",
              "    <script>\n",
              "      (() => {\n",
              "      const buttonEl =\n",
              "        document.querySelector('#id_7a283026-f087-401f-a8ee-5fc5c5e8b171 button.colab-df-generate');\n",
              "      buttonEl.style.display =\n",
              "        google.colab.kernel.accessAllowed ? 'block' : 'none';\n",
              "\n",
              "      buttonEl.onclick = () => {\n",
              "        google.colab.notebook.generateWithVariable('df');\n",
              "      }\n",
              "      })();\n",
              "    </script>\n",
              "  </div>\n",
              "\n",
              "    </div>\n",
              "  </div>\n"
            ]
          },
          "metadata": {},
          "execution_count": 110
        }
      ],
      "source": [
        "df"
      ]
    },
    {
      "cell_type": "markdown",
      "metadata": {
        "id": "MrUI18e37hur"
      },
      "source": [
        "### Restaurants"
      ]
    },
    {
      "cell_type": "code",
      "source": [
        "df.columns.values"
      ],
      "metadata": {
        "colab": {
          "base_uri": "https://localhost:8080/"
        },
        "id": "lKw4wp4T-D67",
        "outputId": "eb053145-fded-4b2f-b4fb-d8f289790ce7"
      },
      "execution_count": 111,
      "outputs": [
        {
          "output_type": "execute_result",
          "data": {
            "text/plain": [
              "array(['CAMIS', 'DBA', 'BORO', 'BUILDING', 'STREET', 'ZIPCODE', 'PHONE',\n",
              "       'CUISINE_DESCRIPTION', 'INSPECTION_DATE', 'ACTION',\n",
              "       'VIOLATION_CODE', 'SCORE', 'GRADE', 'INSPECTION_TYPE', 'LATITUDE',\n",
              "       'LONGITUDE', 'COMMUNITY_BOARD', 'COUNCIL_DISTRICT', 'CENSUS_TRACT',\n",
              "       'BIN', 'BBL', 'NTA', 'TO_DELETE'], dtype=object)"
            ]
          },
          "metadata": {},
          "execution_count": 111
        }
      ]
    },
    {
      "cell_type": "code",
      "execution_count": 112,
      "metadata": {
        "id": "ikNiszYg7hur"
      },
      "outputs": [],
      "source": [
        "columns = ['CAMIS', 'DBA', 'BUILDING', 'STREET', 'ZIPCODE', 'BORO', 'PHONE',\n",
        "           'CUISINE_DESCRIPTION', 'LATITUDE', 'LONGITUDE',\n",
        "       'COMMUNITY_BOARD', 'COUNCIL_DISTRICT', 'CENSUS_TRACT', 'BIN',\n",
        "       'BBL', 'NTA']\n",
        "restaurants =  df [ columns ].drop_duplicates()"
      ]
    },
    {
      "cell_type": "code",
      "execution_count": 113,
      "metadata": {
        "id": "cvc0BJm77hur"
      },
      "outputs": [],
      "source": [
        "# Check that we have the same attributes for a given CAMIS\n",
        "# and the we do not have duplicate CAMIS values\n",
        "assert len(restaurants) == len(set(restaurants.CAMIS.values))"
      ]
    },
    {
      "cell_type": "code",
      "execution_count": 114,
      "metadata": {
        "colab": {
          "base_uri": "https://localhost:8080/",
          "height": 330
        },
        "id": "rlfKBA8c7hur",
        "outputId": "6cec7e30-a415-4aee-a637-2d4ed0c716a0"
      },
      "outputs": [
        {
          "output_type": "execute_result",
          "data": {
            "text/plain": [
              "       CAMIS                          DBA BUILDING              STREET  \\\n",
              "24  50048835     VIACOM CONFERENCE CENTER     1515            BROADWAY   \n",
              "31  40384458                  DREAM PIZZA     3767  JUNCTION BOULEVARD   \n",
              "33  41698540                 LA 90 BAKERY     3706           90 STREET   \n",
              "52  41692932                   GOURMET 45      721            3 AVENUE   \n",
              "54  50062554  LA CASA DEL POLLO AND PIZZA     4231            BROADWAY   \n",
              "\n",
              "   ZIPCODE       BORO       PHONE CUISINE_DESCRIPTION   LATITUDE  LONGITUDE  \\\n",
              "24   10036  Manhattan  2128466633          Coffee/Tea  40.757629 -73.985803   \n",
              "31   11368     Queens  7189431599               Pizza  40.750340 -73.870112   \n",
              "33   11372     Queens  7184290690             Spanish  40.750114 -73.876811   \n",
              "52   10017  Manhattan  2126826220          Sandwiches  40.752776 -73.972966   \n",
              "54   10033  Manhattan  2127955500             Spanish  40.849262 -73.936716   \n",
              "\n",
              "   COMMUNITY_BOARD COUNCIL_DISTRICT CENSUS_TRACT      BIN         BBL   NTA  \n",
              "24             105               03       011900  1024714  1010160036  MN17  \n",
              "31             403               21       037500  4043853  4017590035  QN26  \n",
              "33             403               21       027700  4036316  4014770001  QN28  \n",
              "52             106               04       009000  1037582  1013190001  MN19  \n",
              "54             112               10       026500  1064269  1021760050  MN36  "
            ],
            "text/html": [
              "\n",
              "  <div id=\"df-f3a7239c-4a99-4527-840c-faf67a26c61e\" class=\"colab-df-container\">\n",
              "    <div>\n",
              "<style scoped>\n",
              "    .dataframe tbody tr th:only-of-type {\n",
              "        vertical-align: middle;\n",
              "    }\n",
              "\n",
              "    .dataframe tbody tr th {\n",
              "        vertical-align: top;\n",
              "    }\n",
              "\n",
              "    .dataframe thead th {\n",
              "        text-align: right;\n",
              "    }\n",
              "</style>\n",
              "<table border=\"1\" class=\"dataframe\">\n",
              "  <thead>\n",
              "    <tr style=\"text-align: right;\">\n",
              "      <th></th>\n",
              "      <th>CAMIS</th>\n",
              "      <th>DBA</th>\n",
              "      <th>BUILDING</th>\n",
              "      <th>STREET</th>\n",
              "      <th>ZIPCODE</th>\n",
              "      <th>BORO</th>\n",
              "      <th>PHONE</th>\n",
              "      <th>CUISINE_DESCRIPTION</th>\n",
              "      <th>LATITUDE</th>\n",
              "      <th>LONGITUDE</th>\n",
              "      <th>COMMUNITY_BOARD</th>\n",
              "      <th>COUNCIL_DISTRICT</th>\n",
              "      <th>CENSUS_TRACT</th>\n",
              "      <th>BIN</th>\n",
              "      <th>BBL</th>\n",
              "      <th>NTA</th>\n",
              "    </tr>\n",
              "  </thead>\n",
              "  <tbody>\n",
              "    <tr>\n",
              "      <th>24</th>\n",
              "      <td>50048835</td>\n",
              "      <td>VIACOM CONFERENCE CENTER</td>\n",
              "      <td>1515</td>\n",
              "      <td>BROADWAY</td>\n",
              "      <td>10036</td>\n",
              "      <td>Manhattan</td>\n",
              "      <td>2128466633</td>\n",
              "      <td>Coffee/Tea</td>\n",
              "      <td>40.757629</td>\n",
              "      <td>-73.985803</td>\n",
              "      <td>105</td>\n",
              "      <td>03</td>\n",
              "      <td>011900</td>\n",
              "      <td>1024714</td>\n",
              "      <td>1010160036</td>\n",
              "      <td>MN17</td>\n",
              "    </tr>\n",
              "    <tr>\n",
              "      <th>31</th>\n",
              "      <td>40384458</td>\n",
              "      <td>DREAM PIZZA</td>\n",
              "      <td>3767</td>\n",
              "      <td>JUNCTION BOULEVARD</td>\n",
              "      <td>11368</td>\n",
              "      <td>Queens</td>\n",
              "      <td>7189431599</td>\n",
              "      <td>Pizza</td>\n",
              "      <td>40.750340</td>\n",
              "      <td>-73.870112</td>\n",
              "      <td>403</td>\n",
              "      <td>21</td>\n",
              "      <td>037500</td>\n",
              "      <td>4043853</td>\n",
              "      <td>4017590035</td>\n",
              "      <td>QN26</td>\n",
              "    </tr>\n",
              "    <tr>\n",
              "      <th>33</th>\n",
              "      <td>41698540</td>\n",
              "      <td>LA 90 BAKERY</td>\n",
              "      <td>3706</td>\n",
              "      <td>90 STREET</td>\n",
              "      <td>11372</td>\n",
              "      <td>Queens</td>\n",
              "      <td>7184290690</td>\n",
              "      <td>Spanish</td>\n",
              "      <td>40.750114</td>\n",
              "      <td>-73.876811</td>\n",
              "      <td>403</td>\n",
              "      <td>21</td>\n",
              "      <td>027700</td>\n",
              "      <td>4036316</td>\n",
              "      <td>4014770001</td>\n",
              "      <td>QN28</td>\n",
              "    </tr>\n",
              "    <tr>\n",
              "      <th>52</th>\n",
              "      <td>41692932</td>\n",
              "      <td>GOURMET 45</td>\n",
              "      <td>721</td>\n",
              "      <td>3 AVENUE</td>\n",
              "      <td>10017</td>\n",
              "      <td>Manhattan</td>\n",
              "      <td>2126826220</td>\n",
              "      <td>Sandwiches</td>\n",
              "      <td>40.752776</td>\n",
              "      <td>-73.972966</td>\n",
              "      <td>106</td>\n",
              "      <td>04</td>\n",
              "      <td>009000</td>\n",
              "      <td>1037582</td>\n",
              "      <td>1013190001</td>\n",
              "      <td>MN19</td>\n",
              "    </tr>\n",
              "    <tr>\n",
              "      <th>54</th>\n",
              "      <td>50062554</td>\n",
              "      <td>LA CASA DEL POLLO AND PIZZA</td>\n",
              "      <td>4231</td>\n",
              "      <td>BROADWAY</td>\n",
              "      <td>10033</td>\n",
              "      <td>Manhattan</td>\n",
              "      <td>2127955500</td>\n",
              "      <td>Spanish</td>\n",
              "      <td>40.849262</td>\n",
              "      <td>-73.936716</td>\n",
              "      <td>112</td>\n",
              "      <td>10</td>\n",
              "      <td>026500</td>\n",
              "      <td>1064269</td>\n",
              "      <td>1021760050</td>\n",
              "      <td>MN36</td>\n",
              "    </tr>\n",
              "  </tbody>\n",
              "</table>\n",
              "</div>\n",
              "    <div class=\"colab-df-buttons\">\n",
              "\n",
              "  <div class=\"colab-df-container\">\n",
              "    <button class=\"colab-df-convert\" onclick=\"convertToInteractive('df-f3a7239c-4a99-4527-840c-faf67a26c61e')\"\n",
              "            title=\"Convert this dataframe to an interactive table.\"\n",
              "            style=\"display:none;\">\n",
              "\n",
              "  <svg xmlns=\"http://www.w3.org/2000/svg\" height=\"24px\" viewBox=\"0 -960 960 960\">\n",
              "    <path d=\"M120-120v-720h720v720H120Zm60-500h600v-160H180v160Zm220 220h160v-160H400v160Zm0 220h160v-160H400v160ZM180-400h160v-160H180v160Zm440 0h160v-160H620v160ZM180-180h160v-160H180v160Zm440 0h160v-160H620v160Z\"/>\n",
              "  </svg>\n",
              "    </button>\n",
              "\n",
              "  <style>\n",
              "    .colab-df-container {\n",
              "      display:flex;\n",
              "      gap: 12px;\n",
              "    }\n",
              "\n",
              "    .colab-df-convert {\n",
              "      background-color: #E8F0FE;\n",
              "      border: none;\n",
              "      border-radius: 50%;\n",
              "      cursor: pointer;\n",
              "      display: none;\n",
              "      fill: #1967D2;\n",
              "      height: 32px;\n",
              "      padding: 0 0 0 0;\n",
              "      width: 32px;\n",
              "    }\n",
              "\n",
              "    .colab-df-convert:hover {\n",
              "      background-color: #E2EBFA;\n",
              "      box-shadow: 0px 1px 2px rgba(60, 64, 67, 0.3), 0px 1px 3px 1px rgba(60, 64, 67, 0.15);\n",
              "      fill: #174EA6;\n",
              "    }\n",
              "\n",
              "    .colab-df-buttons div {\n",
              "      margin-bottom: 4px;\n",
              "    }\n",
              "\n",
              "    [theme=dark] .colab-df-convert {\n",
              "      background-color: #3B4455;\n",
              "      fill: #D2E3FC;\n",
              "    }\n",
              "\n",
              "    [theme=dark] .colab-df-convert:hover {\n",
              "      background-color: #434B5C;\n",
              "      box-shadow: 0px 1px 3px 1px rgba(0, 0, 0, 0.15);\n",
              "      filter: drop-shadow(0px 1px 2px rgba(0, 0, 0, 0.3));\n",
              "      fill: #FFFFFF;\n",
              "    }\n",
              "  </style>\n",
              "\n",
              "    <script>\n",
              "      const buttonEl =\n",
              "        document.querySelector('#df-f3a7239c-4a99-4527-840c-faf67a26c61e button.colab-df-convert');\n",
              "      buttonEl.style.display =\n",
              "        google.colab.kernel.accessAllowed ? 'block' : 'none';\n",
              "\n",
              "      async function convertToInteractive(key) {\n",
              "        const element = document.querySelector('#df-f3a7239c-4a99-4527-840c-faf67a26c61e');\n",
              "        const dataTable =\n",
              "          await google.colab.kernel.invokeFunction('convertToInteractive',\n",
              "                                                    [key], {});\n",
              "        if (!dataTable) return;\n",
              "\n",
              "        const docLinkHtml = 'Like what you see? Visit the ' +\n",
              "          '<a target=\"_blank\" href=https://colab.research.google.com/notebooks/data_table.ipynb>data table notebook</a>'\n",
              "          + ' to learn more about interactive tables.';\n",
              "        element.innerHTML = '';\n",
              "        dataTable['output_type'] = 'display_data';\n",
              "        await google.colab.output.renderOutput(dataTable, element);\n",
              "        const docLink = document.createElement('div');\n",
              "        docLink.innerHTML = docLinkHtml;\n",
              "        element.appendChild(docLink);\n",
              "      }\n",
              "    </script>\n",
              "  </div>\n",
              "\n",
              "\n",
              "<div id=\"df-de5035a8-5e5f-46c6-a40f-d8639e87371e\">\n",
              "  <button class=\"colab-df-quickchart\" onclick=\"quickchart('df-de5035a8-5e5f-46c6-a40f-d8639e87371e')\"\n",
              "            title=\"Suggest charts.\"\n",
              "            style=\"display:none;\">\n",
              "\n",
              "<svg xmlns=\"http://www.w3.org/2000/svg\" height=\"24px\"viewBox=\"0 0 24 24\"\n",
              "     width=\"24px\">\n",
              "    <g>\n",
              "        <path d=\"M19 3H5c-1.1 0-2 .9-2 2v14c0 1.1.9 2 2 2h14c1.1 0 2-.9 2-2V5c0-1.1-.9-2-2-2zM9 17H7v-7h2v7zm4 0h-2V7h2v10zm4 0h-2v-4h2v4z\"/>\n",
              "    </g>\n",
              "</svg>\n",
              "  </button>\n",
              "\n",
              "<style>\n",
              "  .colab-df-quickchart {\n",
              "      --bg-color: #E8F0FE;\n",
              "      --fill-color: #1967D2;\n",
              "      --hover-bg-color: #E2EBFA;\n",
              "      --hover-fill-color: #174EA6;\n",
              "      --disabled-fill-color: #AAA;\n",
              "      --disabled-bg-color: #DDD;\n",
              "  }\n",
              "\n",
              "  [theme=dark] .colab-df-quickchart {\n",
              "      --bg-color: #3B4455;\n",
              "      --fill-color: #D2E3FC;\n",
              "      --hover-bg-color: #434B5C;\n",
              "      --hover-fill-color: #FFFFFF;\n",
              "      --disabled-bg-color: #3B4455;\n",
              "      --disabled-fill-color: #666;\n",
              "  }\n",
              "\n",
              "  .colab-df-quickchart {\n",
              "    background-color: var(--bg-color);\n",
              "    border: none;\n",
              "    border-radius: 50%;\n",
              "    cursor: pointer;\n",
              "    display: none;\n",
              "    fill: var(--fill-color);\n",
              "    height: 32px;\n",
              "    padding: 0;\n",
              "    width: 32px;\n",
              "  }\n",
              "\n",
              "  .colab-df-quickchart:hover {\n",
              "    background-color: var(--hover-bg-color);\n",
              "    box-shadow: 0 1px 2px rgba(60, 64, 67, 0.3), 0 1px 3px 1px rgba(60, 64, 67, 0.15);\n",
              "    fill: var(--button-hover-fill-color);\n",
              "  }\n",
              "\n",
              "  .colab-df-quickchart-complete:disabled,\n",
              "  .colab-df-quickchart-complete:disabled:hover {\n",
              "    background-color: var(--disabled-bg-color);\n",
              "    fill: var(--disabled-fill-color);\n",
              "    box-shadow: none;\n",
              "  }\n",
              "\n",
              "  .colab-df-spinner {\n",
              "    border: 2px solid var(--fill-color);\n",
              "    border-color: transparent;\n",
              "    border-bottom-color: var(--fill-color);\n",
              "    animation:\n",
              "      spin 1s steps(1) infinite;\n",
              "  }\n",
              "\n",
              "  @keyframes spin {\n",
              "    0% {\n",
              "      border-color: transparent;\n",
              "      border-bottom-color: var(--fill-color);\n",
              "      border-left-color: var(--fill-color);\n",
              "    }\n",
              "    20% {\n",
              "      border-color: transparent;\n",
              "      border-left-color: var(--fill-color);\n",
              "      border-top-color: var(--fill-color);\n",
              "    }\n",
              "    30% {\n",
              "      border-color: transparent;\n",
              "      border-left-color: var(--fill-color);\n",
              "      border-top-color: var(--fill-color);\n",
              "      border-right-color: var(--fill-color);\n",
              "    }\n",
              "    40% {\n",
              "      border-color: transparent;\n",
              "      border-right-color: var(--fill-color);\n",
              "      border-top-color: var(--fill-color);\n",
              "    }\n",
              "    60% {\n",
              "      border-color: transparent;\n",
              "      border-right-color: var(--fill-color);\n",
              "    }\n",
              "    80% {\n",
              "      border-color: transparent;\n",
              "      border-right-color: var(--fill-color);\n",
              "      border-bottom-color: var(--fill-color);\n",
              "    }\n",
              "    90% {\n",
              "      border-color: transparent;\n",
              "      border-bottom-color: var(--fill-color);\n",
              "    }\n",
              "  }\n",
              "</style>\n",
              "\n",
              "  <script>\n",
              "    async function quickchart(key) {\n",
              "      const quickchartButtonEl =\n",
              "        document.querySelector('#' + key + ' button');\n",
              "      quickchartButtonEl.disabled = true;  // To prevent multiple clicks.\n",
              "      quickchartButtonEl.classList.add('colab-df-spinner');\n",
              "      try {\n",
              "        const charts = await google.colab.kernel.invokeFunction(\n",
              "            'suggestCharts', [key], {});\n",
              "      } catch (error) {\n",
              "        console.error('Error during call to suggestCharts:', error);\n",
              "      }\n",
              "      quickchartButtonEl.classList.remove('colab-df-spinner');\n",
              "      quickchartButtonEl.classList.add('colab-df-quickchart-complete');\n",
              "    }\n",
              "    (() => {\n",
              "      let quickchartButtonEl =\n",
              "        document.querySelector('#df-de5035a8-5e5f-46c6-a40f-d8639e87371e button');\n",
              "      quickchartButtonEl.style.display =\n",
              "        google.colab.kernel.accessAllowed ? 'block' : 'none';\n",
              "    })();\n",
              "  </script>\n",
              "</div>\n",
              "\n",
              "    </div>\n",
              "  </div>\n"
            ]
          },
          "metadata": {},
          "execution_count": 114
        }
      ],
      "source": [
        "restaurants.head(5)"
      ]
    },
    {
      "cell_type": "code",
      "execution_count": 115,
      "metadata": {
        "colab": {
          "base_uri": "https://localhost:8080/"
        },
        "id": "BGPNYPFe7hus",
        "outputId": "c5440dee-c4a5-49c1-9f39-d76d3cf757f9"
      },
      "outputs": [
        {
          "output_type": "execute_result",
          "data": {
            "text/plain": [
              "2124656273    43\n",
              "9176186310    33\n",
              "9172843260    29\n",
              "2126159700    19\n",
              "2125867610    17\n",
              "7182153308    15\n",
              "2125825472    14\n",
              "2124656302    14\n",
              "9177437388    10\n",
              "7182246030    10\n",
              "__________    10\n",
              "6143187413    10\n",
              "9178863304    10\n",
              "2122441111     9\n",
              "7186566210     9\n",
              "2123959280     9\n",
              "9177965620     8\n",
              "2129818588     8\n",
              "2125325003     8\n",
              "7043285090     8\n",
              "Name: PHONE, dtype: int64"
            ]
          },
          "metadata": {},
          "execution_count": 115
        }
      ],
      "source": [
        "restaurants.PHONE.value_counts().head(20)"
      ]
    },
    {
      "cell_type": "code",
      "execution_count": null,
      "metadata": {
        "id": "yp58wsk27hus"
      },
      "outputs": [],
      "source": [
        "# __ = restaurants.PHONE.value_counts().head(10).index.values[7]"
      ]
    },
    {
      "cell_type": "code",
      "execution_count": null,
      "metadata": {
        "id": "sBCfrsTJ7hus"
      },
      "outputs": [],
      "source": [
        "# restaurants.PHONE.replace(to_replace=__, value=np.nan, inplace=True)"
      ]
    },
    {
      "cell_type": "code",
      "execution_count": null,
      "metadata": {
        "id": "Q3l3iVRd7hus"
      },
      "outputs": [],
      "source": [
        "# Citi Field concessions\n",
        "# restaurants.query(\"PHONE == '7185958100'\").head(5)"
      ]
    },
    {
      "cell_type": "code",
      "execution_count": null,
      "metadata": {
        "scrolled": true,
        "id": "srWH0cyp7hus"
      },
      "outputs": [],
      "source": [
        "# Madison Square Garden concession stands\n",
        "# restaurants.query(\"PHONE == '2124656273'\").head(5)"
      ]
    },
    {
      "cell_type": "code",
      "execution_count": null,
      "metadata": {
        "id": "q-5ciQBH7hus"
      },
      "outputs": [],
      "source": [
        "# restaurants.plot(kind='scatter', x='LONGITUDE', y='LATITUDE', alpha=0.2, s=1, figsize=(15,15))"
      ]
    },
    {
      "cell_type": "code",
      "execution_count": 116,
      "metadata": {
        "id": "TKSsNwyB7hus"
      },
      "outputs": [],
      "source": [
        "df = df.drop (columns[1:], axis='columns')"
      ]
    },
    {
      "cell_type": "code",
      "source": [
        "df"
      ],
      "metadata": {
        "colab": {
          "base_uri": "https://localhost:8080/",
          "height": 423
        },
        "id": "49tmzz00-yBZ",
        "outputId": "ec9f03ed-098f-40e9-f6ab-2567dc29ba7e"
      },
      "execution_count": 117,
      "outputs": [
        {
          "output_type": "execute_result",
          "data": {
            "text/plain": [
              "           CAMIS INSPECTION_DATE            ACTION VIOLATION_CODE  SCORE  \\\n",
              "24      50048835      2023-06-30     No violations            NaN    0.0   \n",
              "31      40384458      2022-03-08  Violations found            02B   48.0   \n",
              "33      41698540      2022-04-21  Violations found            02B   12.0   \n",
              "52      41692932      2020-02-12  Violations found            09B   11.0   \n",
              "54      50062554      2022-08-11  Violations found            02B   12.0   \n",
              "...          ...             ...               ...            ...    ...   \n",
              "205577  50100383      2022-06-17  Violations found            08A   13.0   \n",
              "205578  50057047      2021-08-07  Violations found            09B   12.0   \n",
              "205579  50077362      2022-05-03  Violations found            10B   58.0   \n",
              "205580  40365942      2023-08-24  Violations found            06D   34.0   \n",
              "205581  50074052      2022-03-22  Violations found            10H   12.0   \n",
              "\n",
              "       GRADE     INSPECTION_TYPE  TO_DELETE  \n",
              "24         A  Initial Inspection      False  \n",
              "31       NaN  Initial Inspection      False  \n",
              "33         A  Initial Inspection      False  \n",
              "52         A  Initial Inspection      False  \n",
              "54         A  Initial Inspection      False  \n",
              "...      ...                 ...        ...  \n",
              "205577     A  Initial Inspection      False  \n",
              "205578     A  Initial Inspection      False  \n",
              "205579   NaN  Initial Inspection      False  \n",
              "205580   NaN  Initial Inspection      False  \n",
              "205581     A  Initial Inspection      False  \n",
              "\n",
              "[134391 rows x 8 columns]"
            ],
            "text/html": [
              "\n",
              "  <div id=\"df-19bd6e92-8c20-4811-9308-dfb145bb4995\" class=\"colab-df-container\">\n",
              "    <div>\n",
              "<style scoped>\n",
              "    .dataframe tbody tr th:only-of-type {\n",
              "        vertical-align: middle;\n",
              "    }\n",
              "\n",
              "    .dataframe tbody tr th {\n",
              "        vertical-align: top;\n",
              "    }\n",
              "\n",
              "    .dataframe thead th {\n",
              "        text-align: right;\n",
              "    }\n",
              "</style>\n",
              "<table border=\"1\" class=\"dataframe\">\n",
              "  <thead>\n",
              "    <tr style=\"text-align: right;\">\n",
              "      <th></th>\n",
              "      <th>CAMIS</th>\n",
              "      <th>INSPECTION_DATE</th>\n",
              "      <th>ACTION</th>\n",
              "      <th>VIOLATION_CODE</th>\n",
              "      <th>SCORE</th>\n",
              "      <th>GRADE</th>\n",
              "      <th>INSPECTION_TYPE</th>\n",
              "      <th>TO_DELETE</th>\n",
              "    </tr>\n",
              "  </thead>\n",
              "  <tbody>\n",
              "    <tr>\n",
              "      <th>24</th>\n",
              "      <td>50048835</td>\n",
              "      <td>2023-06-30</td>\n",
              "      <td>No violations</td>\n",
              "      <td>NaN</td>\n",
              "      <td>0.0</td>\n",
              "      <td>A</td>\n",
              "      <td>Initial Inspection</td>\n",
              "      <td>False</td>\n",
              "    </tr>\n",
              "    <tr>\n",
              "      <th>31</th>\n",
              "      <td>40384458</td>\n",
              "      <td>2022-03-08</td>\n",
              "      <td>Violations found</td>\n",
              "      <td>02B</td>\n",
              "      <td>48.0</td>\n",
              "      <td>NaN</td>\n",
              "      <td>Initial Inspection</td>\n",
              "      <td>False</td>\n",
              "    </tr>\n",
              "    <tr>\n",
              "      <th>33</th>\n",
              "      <td>41698540</td>\n",
              "      <td>2022-04-21</td>\n",
              "      <td>Violations found</td>\n",
              "      <td>02B</td>\n",
              "      <td>12.0</td>\n",
              "      <td>A</td>\n",
              "      <td>Initial Inspection</td>\n",
              "      <td>False</td>\n",
              "    </tr>\n",
              "    <tr>\n",
              "      <th>52</th>\n",
              "      <td>41692932</td>\n",
              "      <td>2020-02-12</td>\n",
              "      <td>Violations found</td>\n",
              "      <td>09B</td>\n",
              "      <td>11.0</td>\n",
              "      <td>A</td>\n",
              "      <td>Initial Inspection</td>\n",
              "      <td>False</td>\n",
              "    </tr>\n",
              "    <tr>\n",
              "      <th>54</th>\n",
              "      <td>50062554</td>\n",
              "      <td>2022-08-11</td>\n",
              "      <td>Violations found</td>\n",
              "      <td>02B</td>\n",
              "      <td>12.0</td>\n",
              "      <td>A</td>\n",
              "      <td>Initial Inspection</td>\n",
              "      <td>False</td>\n",
              "    </tr>\n",
              "    <tr>\n",
              "      <th>...</th>\n",
              "      <td>...</td>\n",
              "      <td>...</td>\n",
              "      <td>...</td>\n",
              "      <td>...</td>\n",
              "      <td>...</td>\n",
              "      <td>...</td>\n",
              "      <td>...</td>\n",
              "      <td>...</td>\n",
              "    </tr>\n",
              "    <tr>\n",
              "      <th>205577</th>\n",
              "      <td>50100383</td>\n",
              "      <td>2022-06-17</td>\n",
              "      <td>Violations found</td>\n",
              "      <td>08A</td>\n",
              "      <td>13.0</td>\n",
              "      <td>A</td>\n",
              "      <td>Initial Inspection</td>\n",
              "      <td>False</td>\n",
              "    </tr>\n",
              "    <tr>\n",
              "      <th>205578</th>\n",
              "      <td>50057047</td>\n",
              "      <td>2021-08-07</td>\n",
              "      <td>Violations found</td>\n",
              "      <td>09B</td>\n",
              "      <td>12.0</td>\n",
              "      <td>A</td>\n",
              "      <td>Initial Inspection</td>\n",
              "      <td>False</td>\n",
              "    </tr>\n",
              "    <tr>\n",
              "      <th>205579</th>\n",
              "      <td>50077362</td>\n",
              "      <td>2022-05-03</td>\n",
              "      <td>Violations found</td>\n",
              "      <td>10B</td>\n",
              "      <td>58.0</td>\n",
              "      <td>NaN</td>\n",
              "      <td>Initial Inspection</td>\n",
              "      <td>False</td>\n",
              "    </tr>\n",
              "    <tr>\n",
              "      <th>205580</th>\n",
              "      <td>40365942</td>\n",
              "      <td>2023-08-24</td>\n",
              "      <td>Violations found</td>\n",
              "      <td>06D</td>\n",
              "      <td>34.0</td>\n",
              "      <td>NaN</td>\n",
              "      <td>Initial Inspection</td>\n",
              "      <td>False</td>\n",
              "    </tr>\n",
              "    <tr>\n",
              "      <th>205581</th>\n",
              "      <td>50074052</td>\n",
              "      <td>2022-03-22</td>\n",
              "      <td>Violations found</td>\n",
              "      <td>10H</td>\n",
              "      <td>12.0</td>\n",
              "      <td>A</td>\n",
              "      <td>Initial Inspection</td>\n",
              "      <td>False</td>\n",
              "    </tr>\n",
              "  </tbody>\n",
              "</table>\n",
              "<p>134391 rows × 8 columns</p>\n",
              "</div>\n",
              "    <div class=\"colab-df-buttons\">\n",
              "\n",
              "  <div class=\"colab-df-container\">\n",
              "    <button class=\"colab-df-convert\" onclick=\"convertToInteractive('df-19bd6e92-8c20-4811-9308-dfb145bb4995')\"\n",
              "            title=\"Convert this dataframe to an interactive table.\"\n",
              "            style=\"display:none;\">\n",
              "\n",
              "  <svg xmlns=\"http://www.w3.org/2000/svg\" height=\"24px\" viewBox=\"0 -960 960 960\">\n",
              "    <path d=\"M120-120v-720h720v720H120Zm60-500h600v-160H180v160Zm220 220h160v-160H400v160Zm0 220h160v-160H400v160ZM180-400h160v-160H180v160Zm440 0h160v-160H620v160ZM180-180h160v-160H180v160Zm440 0h160v-160H620v160Z\"/>\n",
              "  </svg>\n",
              "    </button>\n",
              "\n",
              "  <style>\n",
              "    .colab-df-container {\n",
              "      display:flex;\n",
              "      gap: 12px;\n",
              "    }\n",
              "\n",
              "    .colab-df-convert {\n",
              "      background-color: #E8F0FE;\n",
              "      border: none;\n",
              "      border-radius: 50%;\n",
              "      cursor: pointer;\n",
              "      display: none;\n",
              "      fill: #1967D2;\n",
              "      height: 32px;\n",
              "      padding: 0 0 0 0;\n",
              "      width: 32px;\n",
              "    }\n",
              "\n",
              "    .colab-df-convert:hover {\n",
              "      background-color: #E2EBFA;\n",
              "      box-shadow: 0px 1px 2px rgba(60, 64, 67, 0.3), 0px 1px 3px 1px rgba(60, 64, 67, 0.15);\n",
              "      fill: #174EA6;\n",
              "    }\n",
              "\n",
              "    .colab-df-buttons div {\n",
              "      margin-bottom: 4px;\n",
              "    }\n",
              "\n",
              "    [theme=dark] .colab-df-convert {\n",
              "      background-color: #3B4455;\n",
              "      fill: #D2E3FC;\n",
              "    }\n",
              "\n",
              "    [theme=dark] .colab-df-convert:hover {\n",
              "      background-color: #434B5C;\n",
              "      box-shadow: 0px 1px 3px 1px rgba(0, 0, 0, 0.15);\n",
              "      filter: drop-shadow(0px 1px 2px rgba(0, 0, 0, 0.3));\n",
              "      fill: #FFFFFF;\n",
              "    }\n",
              "  </style>\n",
              "\n",
              "    <script>\n",
              "      const buttonEl =\n",
              "        document.querySelector('#df-19bd6e92-8c20-4811-9308-dfb145bb4995 button.colab-df-convert');\n",
              "      buttonEl.style.display =\n",
              "        google.colab.kernel.accessAllowed ? 'block' : 'none';\n",
              "\n",
              "      async function convertToInteractive(key) {\n",
              "        const element = document.querySelector('#df-19bd6e92-8c20-4811-9308-dfb145bb4995');\n",
              "        const dataTable =\n",
              "          await google.colab.kernel.invokeFunction('convertToInteractive',\n",
              "                                                    [key], {});\n",
              "        if (!dataTable) return;\n",
              "\n",
              "        const docLinkHtml = 'Like what you see? Visit the ' +\n",
              "          '<a target=\"_blank\" href=https://colab.research.google.com/notebooks/data_table.ipynb>data table notebook</a>'\n",
              "          + ' to learn more about interactive tables.';\n",
              "        element.innerHTML = '';\n",
              "        dataTable['output_type'] = 'display_data';\n",
              "        await google.colab.output.renderOutput(dataTable, element);\n",
              "        const docLink = document.createElement('div');\n",
              "        docLink.innerHTML = docLinkHtml;\n",
              "        element.appendChild(docLink);\n",
              "      }\n",
              "    </script>\n",
              "  </div>\n",
              "\n",
              "\n",
              "<div id=\"df-ae633f7b-b79c-4dba-99b1-186c97aaa3fa\">\n",
              "  <button class=\"colab-df-quickchart\" onclick=\"quickchart('df-ae633f7b-b79c-4dba-99b1-186c97aaa3fa')\"\n",
              "            title=\"Suggest charts.\"\n",
              "            style=\"display:none;\">\n",
              "\n",
              "<svg xmlns=\"http://www.w3.org/2000/svg\" height=\"24px\"viewBox=\"0 0 24 24\"\n",
              "     width=\"24px\">\n",
              "    <g>\n",
              "        <path d=\"M19 3H5c-1.1 0-2 .9-2 2v14c0 1.1.9 2 2 2h14c1.1 0 2-.9 2-2V5c0-1.1-.9-2-2-2zM9 17H7v-7h2v7zm4 0h-2V7h2v10zm4 0h-2v-4h2v4z\"/>\n",
              "    </g>\n",
              "</svg>\n",
              "  </button>\n",
              "\n",
              "<style>\n",
              "  .colab-df-quickchart {\n",
              "      --bg-color: #E8F0FE;\n",
              "      --fill-color: #1967D2;\n",
              "      --hover-bg-color: #E2EBFA;\n",
              "      --hover-fill-color: #174EA6;\n",
              "      --disabled-fill-color: #AAA;\n",
              "      --disabled-bg-color: #DDD;\n",
              "  }\n",
              "\n",
              "  [theme=dark] .colab-df-quickchart {\n",
              "      --bg-color: #3B4455;\n",
              "      --fill-color: #D2E3FC;\n",
              "      --hover-bg-color: #434B5C;\n",
              "      --hover-fill-color: #FFFFFF;\n",
              "      --disabled-bg-color: #3B4455;\n",
              "      --disabled-fill-color: #666;\n",
              "  }\n",
              "\n",
              "  .colab-df-quickchart {\n",
              "    background-color: var(--bg-color);\n",
              "    border: none;\n",
              "    border-radius: 50%;\n",
              "    cursor: pointer;\n",
              "    display: none;\n",
              "    fill: var(--fill-color);\n",
              "    height: 32px;\n",
              "    padding: 0;\n",
              "    width: 32px;\n",
              "  }\n",
              "\n",
              "  .colab-df-quickchart:hover {\n",
              "    background-color: var(--hover-bg-color);\n",
              "    box-shadow: 0 1px 2px rgba(60, 64, 67, 0.3), 0 1px 3px 1px rgba(60, 64, 67, 0.15);\n",
              "    fill: var(--button-hover-fill-color);\n",
              "  }\n",
              "\n",
              "  .colab-df-quickchart-complete:disabled,\n",
              "  .colab-df-quickchart-complete:disabled:hover {\n",
              "    background-color: var(--disabled-bg-color);\n",
              "    fill: var(--disabled-fill-color);\n",
              "    box-shadow: none;\n",
              "  }\n",
              "\n",
              "  .colab-df-spinner {\n",
              "    border: 2px solid var(--fill-color);\n",
              "    border-color: transparent;\n",
              "    border-bottom-color: var(--fill-color);\n",
              "    animation:\n",
              "      spin 1s steps(1) infinite;\n",
              "  }\n",
              "\n",
              "  @keyframes spin {\n",
              "    0% {\n",
              "      border-color: transparent;\n",
              "      border-bottom-color: var(--fill-color);\n",
              "      border-left-color: var(--fill-color);\n",
              "    }\n",
              "    20% {\n",
              "      border-color: transparent;\n",
              "      border-left-color: var(--fill-color);\n",
              "      border-top-color: var(--fill-color);\n",
              "    }\n",
              "    30% {\n",
              "      border-color: transparent;\n",
              "      border-left-color: var(--fill-color);\n",
              "      border-top-color: var(--fill-color);\n",
              "      border-right-color: var(--fill-color);\n",
              "    }\n",
              "    40% {\n",
              "      border-color: transparent;\n",
              "      border-right-color: var(--fill-color);\n",
              "      border-top-color: var(--fill-color);\n",
              "    }\n",
              "    60% {\n",
              "      border-color: transparent;\n",
              "      border-right-color: var(--fill-color);\n",
              "    }\n",
              "    80% {\n",
              "      border-color: transparent;\n",
              "      border-right-color: var(--fill-color);\n",
              "      border-bottom-color: var(--fill-color);\n",
              "    }\n",
              "    90% {\n",
              "      border-color: transparent;\n",
              "      border-bottom-color: var(--fill-color);\n",
              "    }\n",
              "  }\n",
              "</style>\n",
              "\n",
              "  <script>\n",
              "    async function quickchart(key) {\n",
              "      const quickchartButtonEl =\n",
              "        document.querySelector('#' + key + ' button');\n",
              "      quickchartButtonEl.disabled = true;  // To prevent multiple clicks.\n",
              "      quickchartButtonEl.classList.add('colab-df-spinner');\n",
              "      try {\n",
              "        const charts = await google.colab.kernel.invokeFunction(\n",
              "            'suggestCharts', [key], {});\n",
              "      } catch (error) {\n",
              "        console.error('Error during call to suggestCharts:', error);\n",
              "      }\n",
              "      quickchartButtonEl.classList.remove('colab-df-spinner');\n",
              "      quickchartButtonEl.classList.add('colab-df-quickchart-complete');\n",
              "    }\n",
              "    (() => {\n",
              "      let quickchartButtonEl =\n",
              "        document.querySelector('#df-ae633f7b-b79c-4dba-99b1-186c97aaa3fa button');\n",
              "      quickchartButtonEl.style.display =\n",
              "        google.colab.kernel.accessAllowed ? 'block' : 'none';\n",
              "    })();\n",
              "  </script>\n",
              "</div>\n",
              "\n",
              "  <div id=\"id_f3cceb51-0c24-4718-bb2a-83669e1f129c\">\n",
              "    <style>\n",
              "      .colab-df-generate {\n",
              "        background-color: #E8F0FE;\n",
              "        border: none;\n",
              "        border-radius: 50%;\n",
              "        cursor: pointer;\n",
              "        display: none;\n",
              "        fill: #1967D2;\n",
              "        height: 32px;\n",
              "        padding: 0 0 0 0;\n",
              "        width: 32px;\n",
              "      }\n",
              "\n",
              "      .colab-df-generate:hover {\n",
              "        background-color: #E2EBFA;\n",
              "        box-shadow: 0px 1px 2px rgba(60, 64, 67, 0.3), 0px 1px 3px 1px rgba(60, 64, 67, 0.15);\n",
              "        fill: #174EA6;\n",
              "      }\n",
              "\n",
              "      [theme=dark] .colab-df-generate {\n",
              "        background-color: #3B4455;\n",
              "        fill: #D2E3FC;\n",
              "      }\n",
              "\n",
              "      [theme=dark] .colab-df-generate:hover {\n",
              "        background-color: #434B5C;\n",
              "        box-shadow: 0px 1px 3px 1px rgba(0, 0, 0, 0.15);\n",
              "        filter: drop-shadow(0px 1px 2px rgba(0, 0, 0, 0.3));\n",
              "        fill: #FFFFFF;\n",
              "      }\n",
              "    </style>\n",
              "    <button class=\"colab-df-generate\" onclick=\"generateWithVariable('df')\"\n",
              "            title=\"Generate code using this dataframe.\"\n",
              "            style=\"display:none;\">\n",
              "\n",
              "  <svg xmlns=\"http://www.w3.org/2000/svg\" height=\"24px\"viewBox=\"0 0 24 24\"\n",
              "       width=\"24px\">\n",
              "    <path d=\"M7,19H8.4L18.45,9,17,7.55,7,17.6ZM5,21V16.75L18.45,3.32a2,2,0,0,1,2.83,0l1.4,1.43a1.91,1.91,0,0,1,.58,1.4,1.91,1.91,0,0,1-.58,1.4L9.25,21ZM18.45,9,17,7.55Zm-12,3A5.31,5.31,0,0,0,4.9,8.1,5.31,5.31,0,0,0,1,6.5,5.31,5.31,0,0,0,4.9,4.9,5.31,5.31,0,0,0,6.5,1,5.31,5.31,0,0,0,8.1,4.9,5.31,5.31,0,0,0,12,6.5,5.46,5.46,0,0,0,6.5,12Z\"/>\n",
              "  </svg>\n",
              "    </button>\n",
              "    <script>\n",
              "      (() => {\n",
              "      const buttonEl =\n",
              "        document.querySelector('#id_f3cceb51-0c24-4718-bb2a-83669e1f129c button.colab-df-generate');\n",
              "      buttonEl.style.display =\n",
              "        google.colab.kernel.accessAllowed ? 'block' : 'none';\n",
              "\n",
              "      buttonEl.onclick = () => {\n",
              "        google.colab.notebook.generateWithVariable('df');\n",
              "      }\n",
              "      })();\n",
              "    </script>\n",
              "  </div>\n",
              "\n",
              "    </div>\n",
              "  </div>\n"
            ]
          },
          "metadata": {},
          "execution_count": 117
        }
      ]
    },
    {
      "cell_type": "markdown",
      "metadata": {
        "id": "_dW28Hgj7hut"
      },
      "source": [
        "### Inspections"
      ]
    },
    {
      "cell_type": "code",
      "execution_count": 118,
      "metadata": {
        "id": "z5SDo-BW7hut"
      },
      "outputs": [],
      "source": [
        "# Each inspection has multiple violations. We want to keep just the inspections for now\n",
        "inspection = df.drop('VIOLATION_CODE', axis='columns').drop_duplicates().sort_values(['INSPECTION_DATE', 'CAMIS'])"
      ]
    },
    {
      "cell_type": "code",
      "source": [
        "inspection"
      ],
      "metadata": {
        "colab": {
          "base_uri": "https://localhost:8080/",
          "height": 423
        },
        "id": "Sh2iuGKX_wkz",
        "outputId": "b9de324a-786f-4313-d1cf-92e2ad1ba154"
      },
      "execution_count": 119,
      "outputs": [
        {
          "output_type": "execute_result",
          "data": {
            "text/plain": [
              "           CAMIS INSPECTION_DATE            ACTION  SCORE GRADE  \\\n",
              "36062   40944945      2015-10-14  Violations found    5.0     A   \n",
              "44469   50015538      2015-11-19  Violations found   12.0     A   \n",
              "165587  50015171      2015-11-20  Violations found   10.0     A   \n",
              "11940   40560949      2015-12-01  Violations found    4.0     A   \n",
              "38399   41611709      2015-12-12  Violations found   21.0   NaN   \n",
              "...          ...             ...               ...    ...   ...   \n",
              "135603  50108157      2023-09-15  Violations found    2.0     A   \n",
              "96285   50117817      2023-09-15  Violations found   25.0   NaN   \n",
              "38461   50128264      2023-09-15  Violations found    5.0     A   \n",
              "51746   50137234      2023-09-15  Violations found   11.0     A   \n",
              "13184   50090323      2023-09-16  Violations found   39.0   NaN   \n",
              "\n",
              "           INSPECTION_TYPE  TO_DELETE  \n",
              "36062        Re-inspection      False  \n",
              "44469   Initial Inspection      False  \n",
              "165587  Initial Inspection      False  \n",
              "11940   Initial Inspection      False  \n",
              "38399   Initial Inspection      False  \n",
              "...                    ...        ...  \n",
              "135603       Re-inspection      False  \n",
              "96285   Initial Inspection      False  \n",
              "38461        Re-inspection      False  \n",
              "51746   Initial Inspection      False  \n",
              "13184   Initial Inspection      False  \n",
              "\n",
              "[42988 rows x 7 columns]"
            ],
            "text/html": [
              "\n",
              "  <div id=\"df-9652b6cb-63a9-40ec-aebe-1b136f021d0e\" class=\"colab-df-container\">\n",
              "    <div>\n",
              "<style scoped>\n",
              "    .dataframe tbody tr th:only-of-type {\n",
              "        vertical-align: middle;\n",
              "    }\n",
              "\n",
              "    .dataframe tbody tr th {\n",
              "        vertical-align: top;\n",
              "    }\n",
              "\n",
              "    .dataframe thead th {\n",
              "        text-align: right;\n",
              "    }\n",
              "</style>\n",
              "<table border=\"1\" class=\"dataframe\">\n",
              "  <thead>\n",
              "    <tr style=\"text-align: right;\">\n",
              "      <th></th>\n",
              "      <th>CAMIS</th>\n",
              "      <th>INSPECTION_DATE</th>\n",
              "      <th>ACTION</th>\n",
              "      <th>SCORE</th>\n",
              "      <th>GRADE</th>\n",
              "      <th>INSPECTION_TYPE</th>\n",
              "      <th>TO_DELETE</th>\n",
              "    </tr>\n",
              "  </thead>\n",
              "  <tbody>\n",
              "    <tr>\n",
              "      <th>36062</th>\n",
              "      <td>40944945</td>\n",
              "      <td>2015-10-14</td>\n",
              "      <td>Violations found</td>\n",
              "      <td>5.0</td>\n",
              "      <td>A</td>\n",
              "      <td>Re-inspection</td>\n",
              "      <td>False</td>\n",
              "    </tr>\n",
              "    <tr>\n",
              "      <th>44469</th>\n",
              "      <td>50015538</td>\n",
              "      <td>2015-11-19</td>\n",
              "      <td>Violations found</td>\n",
              "      <td>12.0</td>\n",
              "      <td>A</td>\n",
              "      <td>Initial Inspection</td>\n",
              "      <td>False</td>\n",
              "    </tr>\n",
              "    <tr>\n",
              "      <th>165587</th>\n",
              "      <td>50015171</td>\n",
              "      <td>2015-11-20</td>\n",
              "      <td>Violations found</td>\n",
              "      <td>10.0</td>\n",
              "      <td>A</td>\n",
              "      <td>Initial Inspection</td>\n",
              "      <td>False</td>\n",
              "    </tr>\n",
              "    <tr>\n",
              "      <th>11940</th>\n",
              "      <td>40560949</td>\n",
              "      <td>2015-12-01</td>\n",
              "      <td>Violations found</td>\n",
              "      <td>4.0</td>\n",
              "      <td>A</td>\n",
              "      <td>Initial Inspection</td>\n",
              "      <td>False</td>\n",
              "    </tr>\n",
              "    <tr>\n",
              "      <th>38399</th>\n",
              "      <td>41611709</td>\n",
              "      <td>2015-12-12</td>\n",
              "      <td>Violations found</td>\n",
              "      <td>21.0</td>\n",
              "      <td>NaN</td>\n",
              "      <td>Initial Inspection</td>\n",
              "      <td>False</td>\n",
              "    </tr>\n",
              "    <tr>\n",
              "      <th>...</th>\n",
              "      <td>...</td>\n",
              "      <td>...</td>\n",
              "      <td>...</td>\n",
              "      <td>...</td>\n",
              "      <td>...</td>\n",
              "      <td>...</td>\n",
              "      <td>...</td>\n",
              "    </tr>\n",
              "    <tr>\n",
              "      <th>135603</th>\n",
              "      <td>50108157</td>\n",
              "      <td>2023-09-15</td>\n",
              "      <td>Violations found</td>\n",
              "      <td>2.0</td>\n",
              "      <td>A</td>\n",
              "      <td>Re-inspection</td>\n",
              "      <td>False</td>\n",
              "    </tr>\n",
              "    <tr>\n",
              "      <th>96285</th>\n",
              "      <td>50117817</td>\n",
              "      <td>2023-09-15</td>\n",
              "      <td>Violations found</td>\n",
              "      <td>25.0</td>\n",
              "      <td>NaN</td>\n",
              "      <td>Initial Inspection</td>\n",
              "      <td>False</td>\n",
              "    </tr>\n",
              "    <tr>\n",
              "      <th>38461</th>\n",
              "      <td>50128264</td>\n",
              "      <td>2023-09-15</td>\n",
              "      <td>Violations found</td>\n",
              "      <td>5.0</td>\n",
              "      <td>A</td>\n",
              "      <td>Re-inspection</td>\n",
              "      <td>False</td>\n",
              "    </tr>\n",
              "    <tr>\n",
              "      <th>51746</th>\n",
              "      <td>50137234</td>\n",
              "      <td>2023-09-15</td>\n",
              "      <td>Violations found</td>\n",
              "      <td>11.0</td>\n",
              "      <td>A</td>\n",
              "      <td>Initial Inspection</td>\n",
              "      <td>False</td>\n",
              "    </tr>\n",
              "    <tr>\n",
              "      <th>13184</th>\n",
              "      <td>50090323</td>\n",
              "      <td>2023-09-16</td>\n",
              "      <td>Violations found</td>\n",
              "      <td>39.0</td>\n",
              "      <td>NaN</td>\n",
              "      <td>Initial Inspection</td>\n",
              "      <td>False</td>\n",
              "    </tr>\n",
              "  </tbody>\n",
              "</table>\n",
              "<p>42988 rows × 7 columns</p>\n",
              "</div>\n",
              "    <div class=\"colab-df-buttons\">\n",
              "\n",
              "  <div class=\"colab-df-container\">\n",
              "    <button class=\"colab-df-convert\" onclick=\"convertToInteractive('df-9652b6cb-63a9-40ec-aebe-1b136f021d0e')\"\n",
              "            title=\"Convert this dataframe to an interactive table.\"\n",
              "            style=\"display:none;\">\n",
              "\n",
              "  <svg xmlns=\"http://www.w3.org/2000/svg\" height=\"24px\" viewBox=\"0 -960 960 960\">\n",
              "    <path d=\"M120-120v-720h720v720H120Zm60-500h600v-160H180v160Zm220 220h160v-160H400v160Zm0 220h160v-160H400v160ZM180-400h160v-160H180v160Zm440 0h160v-160H620v160ZM180-180h160v-160H180v160Zm440 0h160v-160H620v160Z\"/>\n",
              "  </svg>\n",
              "    </button>\n",
              "\n",
              "  <style>\n",
              "    .colab-df-container {\n",
              "      display:flex;\n",
              "      gap: 12px;\n",
              "    }\n",
              "\n",
              "    .colab-df-convert {\n",
              "      background-color: #E8F0FE;\n",
              "      border: none;\n",
              "      border-radius: 50%;\n",
              "      cursor: pointer;\n",
              "      display: none;\n",
              "      fill: #1967D2;\n",
              "      height: 32px;\n",
              "      padding: 0 0 0 0;\n",
              "      width: 32px;\n",
              "    }\n",
              "\n",
              "    .colab-df-convert:hover {\n",
              "      background-color: #E2EBFA;\n",
              "      box-shadow: 0px 1px 2px rgba(60, 64, 67, 0.3), 0px 1px 3px 1px rgba(60, 64, 67, 0.15);\n",
              "      fill: #174EA6;\n",
              "    }\n",
              "\n",
              "    .colab-df-buttons div {\n",
              "      margin-bottom: 4px;\n",
              "    }\n",
              "\n",
              "    [theme=dark] .colab-df-convert {\n",
              "      background-color: #3B4455;\n",
              "      fill: #D2E3FC;\n",
              "    }\n",
              "\n",
              "    [theme=dark] .colab-df-convert:hover {\n",
              "      background-color: #434B5C;\n",
              "      box-shadow: 0px 1px 3px 1px rgba(0, 0, 0, 0.15);\n",
              "      filter: drop-shadow(0px 1px 2px rgba(0, 0, 0, 0.3));\n",
              "      fill: #FFFFFF;\n",
              "    }\n",
              "  </style>\n",
              "\n",
              "    <script>\n",
              "      const buttonEl =\n",
              "        document.querySelector('#df-9652b6cb-63a9-40ec-aebe-1b136f021d0e button.colab-df-convert');\n",
              "      buttonEl.style.display =\n",
              "        google.colab.kernel.accessAllowed ? 'block' : 'none';\n",
              "\n",
              "      async function convertToInteractive(key) {\n",
              "        const element = document.querySelector('#df-9652b6cb-63a9-40ec-aebe-1b136f021d0e');\n",
              "        const dataTable =\n",
              "          await google.colab.kernel.invokeFunction('convertToInteractive',\n",
              "                                                    [key], {});\n",
              "        if (!dataTable) return;\n",
              "\n",
              "        const docLinkHtml = 'Like what you see? Visit the ' +\n",
              "          '<a target=\"_blank\" href=https://colab.research.google.com/notebooks/data_table.ipynb>data table notebook</a>'\n",
              "          + ' to learn more about interactive tables.';\n",
              "        element.innerHTML = '';\n",
              "        dataTable['output_type'] = 'display_data';\n",
              "        await google.colab.output.renderOutput(dataTable, element);\n",
              "        const docLink = document.createElement('div');\n",
              "        docLink.innerHTML = docLinkHtml;\n",
              "        element.appendChild(docLink);\n",
              "      }\n",
              "    </script>\n",
              "  </div>\n",
              "\n",
              "\n",
              "<div id=\"df-ac57f320-4729-4a01-9d43-1e9966b7cb31\">\n",
              "  <button class=\"colab-df-quickchart\" onclick=\"quickchart('df-ac57f320-4729-4a01-9d43-1e9966b7cb31')\"\n",
              "            title=\"Suggest charts.\"\n",
              "            style=\"display:none;\">\n",
              "\n",
              "<svg xmlns=\"http://www.w3.org/2000/svg\" height=\"24px\"viewBox=\"0 0 24 24\"\n",
              "     width=\"24px\">\n",
              "    <g>\n",
              "        <path d=\"M19 3H5c-1.1 0-2 .9-2 2v14c0 1.1.9 2 2 2h14c1.1 0 2-.9 2-2V5c0-1.1-.9-2-2-2zM9 17H7v-7h2v7zm4 0h-2V7h2v10zm4 0h-2v-4h2v4z\"/>\n",
              "    </g>\n",
              "</svg>\n",
              "  </button>\n",
              "\n",
              "<style>\n",
              "  .colab-df-quickchart {\n",
              "      --bg-color: #E8F0FE;\n",
              "      --fill-color: #1967D2;\n",
              "      --hover-bg-color: #E2EBFA;\n",
              "      --hover-fill-color: #174EA6;\n",
              "      --disabled-fill-color: #AAA;\n",
              "      --disabled-bg-color: #DDD;\n",
              "  }\n",
              "\n",
              "  [theme=dark] .colab-df-quickchart {\n",
              "      --bg-color: #3B4455;\n",
              "      --fill-color: #D2E3FC;\n",
              "      --hover-bg-color: #434B5C;\n",
              "      --hover-fill-color: #FFFFFF;\n",
              "      --disabled-bg-color: #3B4455;\n",
              "      --disabled-fill-color: #666;\n",
              "  }\n",
              "\n",
              "  .colab-df-quickchart {\n",
              "    background-color: var(--bg-color);\n",
              "    border: none;\n",
              "    border-radius: 50%;\n",
              "    cursor: pointer;\n",
              "    display: none;\n",
              "    fill: var(--fill-color);\n",
              "    height: 32px;\n",
              "    padding: 0;\n",
              "    width: 32px;\n",
              "  }\n",
              "\n",
              "  .colab-df-quickchart:hover {\n",
              "    background-color: var(--hover-bg-color);\n",
              "    box-shadow: 0 1px 2px rgba(60, 64, 67, 0.3), 0 1px 3px 1px rgba(60, 64, 67, 0.15);\n",
              "    fill: var(--button-hover-fill-color);\n",
              "  }\n",
              "\n",
              "  .colab-df-quickchart-complete:disabled,\n",
              "  .colab-df-quickchart-complete:disabled:hover {\n",
              "    background-color: var(--disabled-bg-color);\n",
              "    fill: var(--disabled-fill-color);\n",
              "    box-shadow: none;\n",
              "  }\n",
              "\n",
              "  .colab-df-spinner {\n",
              "    border: 2px solid var(--fill-color);\n",
              "    border-color: transparent;\n",
              "    border-bottom-color: var(--fill-color);\n",
              "    animation:\n",
              "      spin 1s steps(1) infinite;\n",
              "  }\n",
              "\n",
              "  @keyframes spin {\n",
              "    0% {\n",
              "      border-color: transparent;\n",
              "      border-bottom-color: var(--fill-color);\n",
              "      border-left-color: var(--fill-color);\n",
              "    }\n",
              "    20% {\n",
              "      border-color: transparent;\n",
              "      border-left-color: var(--fill-color);\n",
              "      border-top-color: var(--fill-color);\n",
              "    }\n",
              "    30% {\n",
              "      border-color: transparent;\n",
              "      border-left-color: var(--fill-color);\n",
              "      border-top-color: var(--fill-color);\n",
              "      border-right-color: var(--fill-color);\n",
              "    }\n",
              "    40% {\n",
              "      border-color: transparent;\n",
              "      border-right-color: var(--fill-color);\n",
              "      border-top-color: var(--fill-color);\n",
              "    }\n",
              "    60% {\n",
              "      border-color: transparent;\n",
              "      border-right-color: var(--fill-color);\n",
              "    }\n",
              "    80% {\n",
              "      border-color: transparent;\n",
              "      border-right-color: var(--fill-color);\n",
              "      border-bottom-color: var(--fill-color);\n",
              "    }\n",
              "    90% {\n",
              "      border-color: transparent;\n",
              "      border-bottom-color: var(--fill-color);\n",
              "    }\n",
              "  }\n",
              "</style>\n",
              "\n",
              "  <script>\n",
              "    async function quickchart(key) {\n",
              "      const quickchartButtonEl =\n",
              "        document.querySelector('#' + key + ' button');\n",
              "      quickchartButtonEl.disabled = true;  // To prevent multiple clicks.\n",
              "      quickchartButtonEl.classList.add('colab-df-spinner');\n",
              "      try {\n",
              "        const charts = await google.colab.kernel.invokeFunction(\n",
              "            'suggestCharts', [key], {});\n",
              "      } catch (error) {\n",
              "        console.error('Error during call to suggestCharts:', error);\n",
              "      }\n",
              "      quickchartButtonEl.classList.remove('colab-df-spinner');\n",
              "      quickchartButtonEl.classList.add('colab-df-quickchart-complete');\n",
              "    }\n",
              "    (() => {\n",
              "      let quickchartButtonEl =\n",
              "        document.querySelector('#df-ac57f320-4729-4a01-9d43-1e9966b7cb31 button');\n",
              "      quickchartButtonEl.style.display =\n",
              "        google.colab.kernel.accessAllowed ? 'block' : 'none';\n",
              "    })();\n",
              "  </script>\n",
              "</div>\n",
              "\n",
              "  <div id=\"id_5f968194-cbcb-4d37-858f-9f0d84357c2a\">\n",
              "    <style>\n",
              "      .colab-df-generate {\n",
              "        background-color: #E8F0FE;\n",
              "        border: none;\n",
              "        border-radius: 50%;\n",
              "        cursor: pointer;\n",
              "        display: none;\n",
              "        fill: #1967D2;\n",
              "        height: 32px;\n",
              "        padding: 0 0 0 0;\n",
              "        width: 32px;\n",
              "      }\n",
              "\n",
              "      .colab-df-generate:hover {\n",
              "        background-color: #E2EBFA;\n",
              "        box-shadow: 0px 1px 2px rgba(60, 64, 67, 0.3), 0px 1px 3px 1px rgba(60, 64, 67, 0.15);\n",
              "        fill: #174EA6;\n",
              "      }\n",
              "\n",
              "      [theme=dark] .colab-df-generate {\n",
              "        background-color: #3B4455;\n",
              "        fill: #D2E3FC;\n",
              "      }\n",
              "\n",
              "      [theme=dark] .colab-df-generate:hover {\n",
              "        background-color: #434B5C;\n",
              "        box-shadow: 0px 1px 3px 1px rgba(0, 0, 0, 0.15);\n",
              "        filter: drop-shadow(0px 1px 2px rgba(0, 0, 0, 0.3));\n",
              "        fill: #FFFFFF;\n",
              "      }\n",
              "    </style>\n",
              "    <button class=\"colab-df-generate\" onclick=\"generateWithVariable('inspection')\"\n",
              "            title=\"Generate code using this dataframe.\"\n",
              "            style=\"display:none;\">\n",
              "\n",
              "  <svg xmlns=\"http://www.w3.org/2000/svg\" height=\"24px\"viewBox=\"0 0 24 24\"\n",
              "       width=\"24px\">\n",
              "    <path d=\"M7,19H8.4L18.45,9,17,7.55,7,17.6ZM5,21V16.75L18.45,3.32a2,2,0,0,1,2.83,0l1.4,1.43a1.91,1.91,0,0,1,.58,1.4,1.91,1.91,0,0,1-.58,1.4L9.25,21ZM18.45,9,17,7.55Zm-12,3A5.31,5.31,0,0,0,4.9,8.1,5.31,5.31,0,0,0,1,6.5,5.31,5.31,0,0,0,4.9,4.9,5.31,5.31,0,0,0,6.5,1,5.31,5.31,0,0,0,8.1,4.9,5.31,5.31,0,0,0,12,6.5,5.46,5.46,0,0,0,6.5,12Z\"/>\n",
              "  </svg>\n",
              "    </button>\n",
              "    <script>\n",
              "      (() => {\n",
              "      const buttonEl =\n",
              "        document.querySelector('#id_5f968194-cbcb-4d37-858f-9f0d84357c2a button.colab-df-generate');\n",
              "      buttonEl.style.display =\n",
              "        google.colab.kernel.accessAllowed ? 'block' : 'none';\n",
              "\n",
              "      buttonEl.onclick = () => {\n",
              "        google.colab.notebook.generateWithVariable('inspection');\n",
              "      }\n",
              "      })();\n",
              "    </script>\n",
              "  </div>\n",
              "\n",
              "    </div>\n",
              "  </div>\n"
            ]
          },
          "metadata": {},
          "execution_count": 119
        }
      ]
    },
    {
      "cell_type": "code",
      "execution_count": 120,
      "metadata": {
        "id": "ltuLy_aP7hut"
      },
      "outputs": [],
      "source": [
        "# We create an ID for each inspection here\n",
        "inspection = inspection.reset_index().drop('index', axis='columns').reset_index().rename({'index': 'INSPECTION_ID'}, axis='columns')"
      ]
    },
    {
      "cell_type": "code",
      "execution_count": 121,
      "metadata": {
        "colab": {
          "base_uri": "https://localhost:8080/"
        },
        "id": "Aq30kh7f7hut",
        "outputId": "f590b00a-23dd-42c3-c115-26e230d15263"
      },
      "outputs": [
        {
          "output_type": "execute_result",
          "data": {
            "text/plain": [
              "Violations found        41947\n",
              "Establishment closed      755\n",
              "No violations             286\n",
              "Name: ACTION, dtype: int64"
            ]
          },
          "metadata": {},
          "execution_count": 121
        }
      ],
      "source": [
        "inspection.ACTION.value_counts()"
      ]
    },
    {
      "cell_type": "code",
      "execution_count": 122,
      "metadata": {
        "colab": {
          "base_uri": "https://localhost:8080/",
          "height": 112
        },
        "id": "buVPmBBH7hut",
        "outputId": "2a88fd0d-f261-46b6-f4b7-2b360f963fb9"
      },
      "outputs": [
        {
          "output_type": "execute_result",
          "data": {
            "text/plain": [
              "                          INSPECTION_ID\n",
              "INSPECTION_DATE CAMIS                  \n",
              "2017-11-04      40911114              2"
            ],
            "text/html": [
              "\n",
              "  <div id=\"df-46a0b1a8-f3c4-4f1d-a4eb-8ad1952c2a5d\" class=\"colab-df-container\">\n",
              "    <div>\n",
              "<style scoped>\n",
              "    .dataframe tbody tr th:only-of-type {\n",
              "        vertical-align: middle;\n",
              "    }\n",
              "\n",
              "    .dataframe tbody tr th {\n",
              "        vertical-align: top;\n",
              "    }\n",
              "\n",
              "    .dataframe thead th {\n",
              "        text-align: right;\n",
              "    }\n",
              "</style>\n",
              "<table border=\"1\" class=\"dataframe\">\n",
              "  <thead>\n",
              "    <tr style=\"text-align: right;\">\n",
              "      <th></th>\n",
              "      <th></th>\n",
              "      <th>INSPECTION_ID</th>\n",
              "    </tr>\n",
              "    <tr>\n",
              "      <th>INSPECTION_DATE</th>\n",
              "      <th>CAMIS</th>\n",
              "      <th></th>\n",
              "    </tr>\n",
              "  </thead>\n",
              "  <tbody>\n",
              "    <tr>\n",
              "      <th>2017-11-04</th>\n",
              "      <th>40911114</th>\n",
              "      <td>2</td>\n",
              "    </tr>\n",
              "  </tbody>\n",
              "</table>\n",
              "</div>\n",
              "    <div class=\"colab-df-buttons\">\n",
              "\n",
              "  <div class=\"colab-df-container\">\n",
              "    <button class=\"colab-df-convert\" onclick=\"convertToInteractive('df-46a0b1a8-f3c4-4f1d-a4eb-8ad1952c2a5d')\"\n",
              "            title=\"Convert this dataframe to an interactive table.\"\n",
              "            style=\"display:none;\">\n",
              "\n",
              "  <svg xmlns=\"http://www.w3.org/2000/svg\" height=\"24px\" viewBox=\"0 -960 960 960\">\n",
              "    <path d=\"M120-120v-720h720v720H120Zm60-500h600v-160H180v160Zm220 220h160v-160H400v160Zm0 220h160v-160H400v160ZM180-400h160v-160H180v160Zm440 0h160v-160H620v160ZM180-180h160v-160H180v160Zm440 0h160v-160H620v160Z\"/>\n",
              "  </svg>\n",
              "    </button>\n",
              "\n",
              "  <style>\n",
              "    .colab-df-container {\n",
              "      display:flex;\n",
              "      gap: 12px;\n",
              "    }\n",
              "\n",
              "    .colab-df-convert {\n",
              "      background-color: #E8F0FE;\n",
              "      border: none;\n",
              "      border-radius: 50%;\n",
              "      cursor: pointer;\n",
              "      display: none;\n",
              "      fill: #1967D2;\n",
              "      height: 32px;\n",
              "      padding: 0 0 0 0;\n",
              "      width: 32px;\n",
              "    }\n",
              "\n",
              "    .colab-df-convert:hover {\n",
              "      background-color: #E2EBFA;\n",
              "      box-shadow: 0px 1px 2px rgba(60, 64, 67, 0.3), 0px 1px 3px 1px rgba(60, 64, 67, 0.15);\n",
              "      fill: #174EA6;\n",
              "    }\n",
              "\n",
              "    .colab-df-buttons div {\n",
              "      margin-bottom: 4px;\n",
              "    }\n",
              "\n",
              "    [theme=dark] .colab-df-convert {\n",
              "      background-color: #3B4455;\n",
              "      fill: #D2E3FC;\n",
              "    }\n",
              "\n",
              "    [theme=dark] .colab-df-convert:hover {\n",
              "      background-color: #434B5C;\n",
              "      box-shadow: 0px 1px 3px 1px rgba(0, 0, 0, 0.15);\n",
              "      filter: drop-shadow(0px 1px 2px rgba(0, 0, 0, 0.3));\n",
              "      fill: #FFFFFF;\n",
              "    }\n",
              "  </style>\n",
              "\n",
              "    <script>\n",
              "      const buttonEl =\n",
              "        document.querySelector('#df-46a0b1a8-f3c4-4f1d-a4eb-8ad1952c2a5d button.colab-df-convert');\n",
              "      buttonEl.style.display =\n",
              "        google.colab.kernel.accessAllowed ? 'block' : 'none';\n",
              "\n",
              "      async function convertToInteractive(key) {\n",
              "        const element = document.querySelector('#df-46a0b1a8-f3c4-4f1d-a4eb-8ad1952c2a5d');\n",
              "        const dataTable =\n",
              "          await google.colab.kernel.invokeFunction('convertToInteractive',\n",
              "                                                    [key], {});\n",
              "        if (!dataTable) return;\n",
              "\n",
              "        const docLinkHtml = 'Like what you see? Visit the ' +\n",
              "          '<a target=\"_blank\" href=https://colab.research.google.com/notebooks/data_table.ipynb>data table notebook</a>'\n",
              "          + ' to learn more about interactive tables.';\n",
              "        element.innerHTML = '';\n",
              "        dataTable['output_type'] = 'display_data';\n",
              "        await google.colab.output.renderOutput(dataTable, element);\n",
              "        const docLink = document.createElement('div');\n",
              "        docLink.innerHTML = docLinkHtml;\n",
              "        element.appendChild(docLink);\n",
              "      }\n",
              "    </script>\n",
              "  </div>\n",
              "\n",
              "\n",
              "    </div>\n",
              "  </div>\n"
            ]
          },
          "metadata": {},
          "execution_count": 122
        }
      ],
      "source": [
        "# Ensure that the inspection table contains\n",
        "# no duplicate pairs for 'INSPECTION_DATE', 'CAMIS'\n",
        "pvt = inspection.pivot_table(\n",
        "    index = ['INSPECTION_DATE', 'CAMIS'],\n",
        "    values = 'INSPECTION_ID',\n",
        "    aggfunc = 'count'\n",
        ")\n",
        "pvt [ pvt.INSPECTION_ID > 1 ]\n",
        "\n",
        "# assert len(pvt [ pvt.INSPECTION_ID > 1 ]) == 0"
      ]
    },
    {
      "cell_type": "code",
      "execution_count": null,
      "metadata": {
        "id": "u1tvDeGA7hut"
      },
      "outputs": [],
      "source": [
        "# df[ (df.CAMIS =='41007054') & (df.INSPECTION_DATE == '2017-03-03')  ].sort_values('VIOLATION_CODE')"
      ]
    },
    {
      "cell_type": "code",
      "execution_count": null,
      "metadata": {
        "id": "fzr3sv_f7hut"
      },
      "outputs": [],
      "source": [
        "# to_drop = inspection.query(\" CAMIS =='50051092' and  INSPECTION_DATE == '2019-09-11' \").index.values[1]\n",
        "# inspection = inspection.drop(to_drop, axis='index')"
      ]
    },
    {
      "cell_type": "code",
      "source": [
        "to_drop = inspection.query(\" CAMIS =='40911114' and  INSPECTION_DATE == '2017-11-04' \").index.values[1]\n",
        "\n",
        "inspection = inspection.drop(to_drop, axis='index')"
      ],
      "metadata": {
        "id": "fe_uah4zEDHU"
      },
      "execution_count": 123,
      "outputs": []
    },
    {
      "cell_type": "code",
      "source": [
        "inspection.drop('TO_DELETE', axis='columns', inplace=True)"
      ],
      "metadata": {
        "id": "dU5ReJL0hc_W"
      },
      "execution_count": 124,
      "outputs": []
    },
    {
      "cell_type": "code",
      "execution_count": 125,
      "metadata": {
        "id": "YNyo-QPG7hut"
      },
      "outputs": [],
      "source": [
        "# Ensure that the inspection table contains\n",
        "# no duplicate pairs for 'INSPECTION_DATE', 'CAMIS'\n",
        "pvt = inspection.pivot_table(\n",
        "    index = ['INSPECTION_DATE', 'CAMIS'],\n",
        "    values = 'INSPECTION_ID',\n",
        "    aggfunc = 'count'\n",
        ")\n",
        "assert len(pvt [ pvt.INSPECTION_ID > 1 ]) == 0"
      ]
    },
    {
      "cell_type": "code",
      "execution_count": 126,
      "metadata": {
        "colab": {
          "base_uri": "https://localhost:8080/"
        },
        "id": "Yva24CbP7huv",
        "outputId": "551f5744-7974-4d33-e3c6-2cd8936e88a1"
      },
      "outputs": [
        {
          "output_type": "execute_result",
          "data": {
            "text/plain": [
              "Initial Inspection    32262\n",
              "Re-inspection         10725\n",
              "Name: INSPECTION_TYPE, dtype: int64"
            ]
          },
          "metadata": {},
          "execution_count": 126
        }
      ],
      "source": [
        "inspection.INSPECTION_TYPE.value_counts()"
      ]
    },
    {
      "cell_type": "code",
      "execution_count": 127,
      "metadata": {
        "id": "8Q9tnmEL7huv"
      },
      "outputs": [],
      "source": [
        "inspection_stats = inspection.pivot_table(\n",
        "    index = 'CAMIS',\n",
        "    aggfunc = ['min', 'max', 'count'],\n",
        "    values = 'INSPECTION_DATE'\n",
        ")"
      ]
    },
    {
      "cell_type": "code",
      "source": [],
      "metadata": {
        "id": "7eKs6Sd8_f18"
      },
      "execution_count": null,
      "outputs": []
    },
    {
      "cell_type": "code",
      "execution_count": 128,
      "metadata": {
        "colab": {
          "base_uri": "https://localhost:8080/",
          "height": 467
        },
        "id": "2UGMl7ZK7huv",
        "outputId": "ce0e8a01-72d9-4ab4-a2f2-a0c2da4a5628"
      },
      "outputs": [
        {
          "output_type": "execute_result",
          "data": {
            "text/plain": [
              "<Axes: xlabel='INSPECTION_DATE'>"
            ]
          },
          "metadata": {},
          "execution_count": 128
        },
        {
          "output_type": "display_data",
          "data": {
            "text/plain": [
              "<Figure size 640x480 with 1 Axes>"
            ],
            "image/png": "[encoded data removed]"
          },
          "metadata": {
            "image/png": {
              "width": 552,
              "height": 432
            }
          }
        }
      ],
      "source": [
        "# Distribution of last inspection across all restaurants\n",
        "inspection_stats['max'].sort_values('INSPECTION_DATE').reset_index().pivot_table(\n",
        "    index='INSPECTION_DATE',\n",
        "    aggfunc='count'\n",
        ").resample('1W').sum().plot()"
      ]
    },
    {
      "cell_type": "code",
      "execution_count": null,
      "metadata": {
        "id": "K3mwJMYc7huv"
      },
      "outputs": [],
      "source": [
        "# Longevity\n",
        "# (inspection_stats['max'] - inspection_stats['min'])['INSPECTION DATE'].sort_values()"
      ]
    },
    {
      "cell_type": "code",
      "execution_count": 129,
      "metadata": {
        "colab": {
          "base_uri": "https://localhost:8080/",
          "height": 448
        },
        "id": "LElB919o7huv",
        "outputId": "0e5cc008-951d-4e5d-bd8f-e34e53aaaa5c"
      },
      "outputs": [
        {
          "output_type": "execute_result",
          "data": {
            "text/plain": [
              "<Axes: >"
            ]
          },
          "metadata": {},
          "execution_count": 129
        },
        {
          "output_type": "display_data",
          "data": {
            "text/plain": [
              "<Figure size 640x480 with 1 Axes>"
            ],
            "image/png": "[encoded data removed]"
          },
          "metadata": {
            "image/png": {
              "width": 552,
              "height": 413
            }
          }
        }
      ],
      "source": [
        "# Distribution of all inspections\n",
        "inspection['INSPECTION_DATE'].value_counts().sort_index().resample('1W').sum().plot()"
      ]
    },
    {
      "cell_type": "code",
      "execution_count": 130,
      "metadata": {
        "colab": {
          "base_uri": "https://localhost:8080/"
        },
        "id": "8RDOAgxx7huv",
        "outputId": "ca12c46e-ca2b-4014-dc6e-9ab88ae2cf8a"
      },
      "outputs": [
        {
          "output_type": "execute_result",
          "data": {
            "text/plain": [
              "134391"
            ]
          },
          "metadata": {},
          "execution_count": 130
        }
      ],
      "source": [
        "len(df)"
      ]
    },
    {
      "cell_type": "code",
      "execution_count": 131,
      "metadata": {
        "colab": {
          "base_uri": "https://localhost:8080/"
        },
        "id": "2WuZLSBA7huv",
        "outputId": "e092bd6b-4c6f-4704-aec4-601d5723df87"
      },
      "outputs": [
        {
          "output_type": "execute_result",
          "data": {
            "text/plain": [
              "134387"
            ]
          },
          "metadata": {},
          "execution_count": 131
        }
      ],
      "source": [
        "violations = pd.merge(\n",
        "    inspection,\n",
        "    df[ ['CAMIS', 'INSPECTION_DATE', 'VIOLATION_CODE' ] ],\n",
        "    on= ['CAMIS', 'INSPECTION_DATE'],\n",
        "    how = 'inner'\n",
        ")\n",
        "violations = violations[ ['INSPECTION_ID', 'VIOLATION_CODE'] ].drop_duplicates()\n",
        "len(violations)"
      ]
    },
    {
      "cell_type": "code",
      "execution_count": 132,
      "metadata": {
        "colab": {
          "base_uri": "https://localhost:8080/"
        },
        "id": "fQm8ERgi7huv",
        "outputId": "a4d434f8-ce4b-4617-d898-ebc47d3a7dab"
      },
      "outputs": [
        {
          "output_type": "stream",
          "name": "stdout",
          "text": [
            "Violations: 134387\n",
            "Inspections: 42987\n",
            "Restaurants: 19314\n",
            "Violation Codes: 151\n"
          ]
        }
      ],
      "source": [
        "print(f\"Violations: {len(violations)}\")\n",
        "print(f\"Inspections: {len(inspection)}\")\n",
        "print(f\"Restaurants: {len(restaurants)}\")\n",
        "print(f\"Violation Codes: {len(violation_codes)}\")"
      ]
    },
    {
      "cell_type": "code",
      "execution_count": null,
      "metadata": {
        "id": "skBkhYUI7huw"
      },
      "outputs": [],
      "source": []
    },
    {
      "cell_type": "markdown",
      "source": [
        "## Storing in MySQL\n"
      ],
      "metadata": {
        "id": "zAp8WgoP_U6T"
      }
    },
    {
      "cell_type": "markdown",
      "source": [],
      "metadata": {
        "id": "N3LHIKlH7wuD"
      }
    },
    {
      "cell_type": "code",
      "source": [
        "!sudo pip3 install -U -q PyMySQL sqlalchemy sql_magic"
      ],
      "metadata": {
        "id": "ZnnVs3t1_ZeG",
        "outputId": "169658f2-fbfe-484c-e1d6-052ed6df2209",
        "colab": {
          "base_uri": "https://localhost:8080/"
        }
      },
      "execution_count": 133,
      "outputs": [
        {
          "output_type": "stream",
          "name": "stdout",
          "text": [
            "\u001b[2K     \u001b[90m━━━━━━━━━━━━━━━━━━━━━━━━━━━━━━━━━━━━━━━━\u001b[0m \u001b[32m44.8/44.8 kB\u001b[0m \u001b[31m1.8 MB/s\u001b[0m eta \u001b[36m0:00:00\u001b[0m\n",
            "\u001b[2K     \u001b[90m━━━━━━━━━━━━━━━━━━━━━━━━━━━━━━━━━━━━━━━━\u001b[0m \u001b[32m3.0/3.0 MB\u001b[0m \u001b[31m39.2 MB/s\u001b[0m eta \u001b[36m0:00:00\u001b[0m\n",
            "\u001b[2K     \u001b[90m━━━━━━━━━━━━━━━━━━━━━━━━━━━━━━━━━━━━━━━━\u001b[0m \u001b[32m1.6/1.6 MB\u001b[0m \u001b[31m98.0 MB/s\u001b[0m eta \u001b[36m0:00:00\u001b[0m\n",
            "\u001b[2K     \u001b[90m━━━━━━━━━━━━━━━━━━━━━━━━━━━━━━━━━━━━━━\u001b[0m \u001b[32m121.9/121.9 kB\u001b[0m \u001b[31m15.1 MB/s\u001b[0m eta \u001b[36m0:00:00\u001b[0m\n",
            "\u001b[2K     \u001b[90m━━━━━━━━━━━━━━━━━━━━━━━━━━━━━━━━━━━━━━━━\u001b[0m \u001b[32m93.4/93.4 kB\u001b[0m \u001b[31m12.3 MB/s\u001b[0m eta \u001b[36m0:00:00\u001b[0m\n",
            "\u001b[?25h"
          ]
        }
      ]
    },
    {
      "cell_type": "code",
      "source": [
        "import os\n",
        "from sqlalchemy import create_engine\n",
        "from sqlalchemy import text\n",
        "\n",
        "conn_string = 'mysql+pymysql://{user}:{password}@{host}/?charset=utf8mb4'.format(\n",
        "    host = 'db.ipeirotis.org',\n",
        "    user = 'root',\n",
        "    password = 'ae6jQniBS5muV27', #os.environ['MYSQL_PASSWORD'],\n",
        "    encoding = 'utf8mb4')\n",
        "\n",
        "engine = create_engine(conn_string)\n",
        "con = engine.connect()"
      ],
      "metadata": {
        "id": "XF85ORv5_bSa"
      },
      "execution_count": 134,
      "outputs": []
    },
    {
      "cell_type": "code",
      "source": [
        "# Query to create a database\n",
        "db_name = 'doh_restaurants'\n",
        "\n",
        "sql = f\"DROP DATABASE IF EXISTS {db_name}\"\n",
        "with engine.connect() as connection:\n",
        "  connection.execute(text(sql))\n",
        "\n",
        "# Create a database\n",
        "sql = f\"CREATE DATABASE IF NOT EXISTS {db_name} DEFAULT CHARACTER SET 'utf8mb4'\"\n",
        "with engine.connect() as connection:\n",
        "  connection.execute(text(sql))\n",
        "\n",
        "# And lets switch to the database\n",
        "sql = f\"USE {db_name}\"\n",
        "with engine.connect() as connection:\n",
        "  connection.execute(text(sql))"
      ],
      "metadata": {
        "id": "QyoxDe_T_gs-"
      },
      "execution_count": 142,
      "outputs": []
    },
    {
      "cell_type": "code",
      "source": [
        "create_table_sql = '''\n",
        "CREATE TABLE restaurants (\n",
        "    CAMIS                      char(8),\n",
        "    DBA varchar(90),\n",
        "    BUILDING varchar(10),\n",
        "    STREET varchar(40),\n",
        "    ZIPCODE char(5),\n",
        "    BORO ENUM('Bronx', 'Brooklyn', 'Manhattan', 'Queens', 'Staten Island')  ,\n",
        "    PHONE char(10),\n",
        "    CUISINE_DESCRIPTION    varchar(30),\n",
        "LATITUDE                float,\n",
        "LONGITUDE               float,\n",
        "COMMUNITY_BOARD          char(3),\n",
        "COUNCIL_DISTRICT         char(2),\n",
        "CENSUS_TRACT             char(6),\n",
        "BIN                      char(7),\n",
        "BBL                      char(10),\n",
        "NTA                      char(4),\n",
        "PRIMARY KEY(CAMIS)\n",
        ") ENGINE=InnoDB DEFAULT CHARSET=utf8mb4;\n",
        "'''\n",
        "with engine.connect() as connection:\n",
        "  connection.execute(text(create_table_sql))\n",
        "\n",
        "\n",
        "create_table_sql = '''\n",
        "CREATE TABLE inspections (\n",
        "    INSPECTION_ID               char(8),\n",
        "    CAMIS                      char(8),\n",
        "    INSPECTION_DATE    datetime,\n",
        "    ACTION                   ENUM('Violations found','Establishment closed','No violations'),\n",
        "    SCORE                     smallint,\n",
        "    GRADE                    char(1),\n",
        "    INSPECTION_TYPE          ENUM('Initial Inspection','Re-inspection'),\n",
        "    FOREIGN KEY(CAMIS) REFERENCES restaurants(CAMIS),\n",
        "    PRIMARY KEY(INSPECTION_ID)\n",
        ") ENGINE=InnoDB DEFAULT CHARSET=utf8mb4;\n",
        "'''\n",
        "with engine.connect() as connection:\n",
        "  connection.execute(text(create_table_sql))\n",
        "\n",
        "create_table_sql = '''\n",
        "CREATE TABLE violation_codes (\n",
        "  VIOLATION_CODE     char(5),\n",
        "  DESCRIPTION varchar(1000),\n",
        "  CRITICAL ENUM('Critical', 'Not Applicable', 'Not Critical'),\n",
        "  PRIMARY KEY(VIOLATION_CODE)\n",
        "\n",
        ") ENGINE=InnoDB DEFAULT CHARSET=utf8mb4;\n",
        "'''\n",
        "with engine.connect() as connection:\n",
        "  connection.execute(text(create_table_sql))\n",
        "\n",
        "\n",
        "create_table_sql = '''\n",
        "CREATE TABLE violations (\n",
        "  INSPECTION_ID         char(8),\n",
        "  VIOLATION_CODE     char(5),\n",
        "  FOREIGN KEY(INSPECTION_ID) REFERENCES inspections(INSPECTION_ID)\n",
        "  -- FOREIGN KEY(VIOLATION_CODE) REFERENCES violation_codes(VIOLATION_CODE)\n",
        ") ENGINE=InnoDB DEFAULT CHARSET=utf8mb4;\n",
        "'''\n",
        "with engine.connect() as connection:\n",
        "  connection.execute(text(create_table_sql))"
      ],
      "metadata": {
        "id": "ah7hOCzfSMx_"
      },
      "execution_count": 143,
      "outputs": []
    },
    {
      "cell_type": "code",
      "source": [
        "violation_codes.reset_index().VIOLATION_CODE.str.len().max()"
      ],
      "metadata": {
        "id": "NLifpFSTdPxG",
        "outputId": "37f82455-77b0-4b4e-95bd-07606a2462a2",
        "colab": {
          "base_uri": "https://localhost:8080/"
        }
      },
      "execution_count": 137,
      "outputs": [
        {
          "output_type": "execute_result",
          "data": {
            "text/plain": [
              "5"
            ]
          },
          "metadata": {},
          "execution_count": 137
        }
      ]
    },
    {
      "cell_type": "code",
      "source": [
        "violation_codes"
      ],
      "metadata": {
        "id": "BIxdeyFRUd9u",
        "outputId": "59ae5cf7-4b42-4e39-94c8-b35afc8a0b2a",
        "colab": {
          "base_uri": "https://localhost:8080/",
          "height": 455
        }
      },
      "execution_count": 138,
      "outputs": [
        {
          "output_type": "execute_result",
          "data": {
            "text/plain": [
              "                                                      DESCRIPTION  \\\n",
              "VIOLATION_CODE                                                      \n",
              "02A             Time/Temperature Control for Safety (TCS) food...   \n",
              "02A              Food not cooked to required minimum temperature.   \n",
              "02A             Time/Temperature Control for Safety (TCS) food...   \n",
              "02B                    Hot food item not held at or above 140º F.   \n",
              "02B                Hot TCS food item not held at or above 140 °F.   \n",
              "...                                                           ...   \n",
              "28-05           Food adulterated or misbranded.  Adulterated o...   \n",
              "28-05           Food adulterated or misbranded. Adulterated or...   \n",
              "28-06           Contract with a pest management professional n...   \n",
              "28-06           Contract with a pest management professional n...   \n",
              "28-07             Unapproved outdoor, street or sidewalk cooking.   \n",
              "\n",
              "                    CRITICAL  \n",
              "VIOLATION_CODE                \n",
              "02A                 Critical  \n",
              "02A                 Critical  \n",
              "02A                 Critical  \n",
              "02B                 Critical  \n",
              "02B                 Critical  \n",
              "...                      ...  \n",
              "28-05           Not Critical  \n",
              "28-05           Not Critical  \n",
              "28-06           Not Critical  \n",
              "28-06           Not Critical  \n",
              "28-07           Not Critical  \n",
              "\n",
              "[151 rows x 2 columns]"
            ],
            "text/html": [
              "\n",
              "  <div id=\"df-47b745ce-f2a7-4ff8-8dab-b5d08ef09ceb\" class=\"colab-df-container\">\n",
              "    <div>\n",
              "<style scoped>\n",
              "    .dataframe tbody tr th:only-of-type {\n",
              "        vertical-align: middle;\n",
              "    }\n",
              "\n",
              "    .dataframe tbody tr th {\n",
              "        vertical-align: top;\n",
              "    }\n",
              "\n",
              "    .dataframe thead th {\n",
              "        text-align: right;\n",
              "    }\n",
              "</style>\n",
              "<table border=\"1\" class=\"dataframe\">\n",
              "  <thead>\n",
              "    <tr style=\"text-align: right;\">\n",
              "      <th></th>\n",
              "      <th>DESCRIPTION</th>\n",
              "      <th>CRITICAL</th>\n",
              "    </tr>\n",
              "    <tr>\n",
              "      <th>VIOLATION_CODE</th>\n",
              "      <th></th>\n",
              "      <th></th>\n",
              "    </tr>\n",
              "  </thead>\n",
              "  <tbody>\n",
              "    <tr>\n",
              "      <th>02A</th>\n",
              "      <td>Time/Temperature Control for Safety (TCS) food...</td>\n",
              "      <td>Critical</td>\n",
              "    </tr>\n",
              "    <tr>\n",
              "      <th>02A</th>\n",
              "      <td>Food not cooked to required minimum temperature.</td>\n",
              "      <td>Critical</td>\n",
              "    </tr>\n",
              "    <tr>\n",
              "      <th>02A</th>\n",
              "      <td>Time/Temperature Control for Safety (TCS) food...</td>\n",
              "      <td>Critical</td>\n",
              "    </tr>\n",
              "    <tr>\n",
              "      <th>02B</th>\n",
              "      <td>Hot food item not held at or above 140º F.</td>\n",
              "      <td>Critical</td>\n",
              "    </tr>\n",
              "    <tr>\n",
              "      <th>02B</th>\n",
              "      <td>Hot TCS food item not held at or above 140 °F.</td>\n",
              "      <td>Critical</td>\n",
              "    </tr>\n",
              "    <tr>\n",
              "      <th>...</th>\n",
              "      <td>...</td>\n",
              "      <td>...</td>\n",
              "    </tr>\n",
              "    <tr>\n",
              "      <th>28-05</th>\n",
              "      <td>Food adulterated or misbranded.  Adulterated o...</td>\n",
              "      <td>Not Critical</td>\n",
              "    </tr>\n",
              "    <tr>\n",
              "      <th>28-05</th>\n",
              "      <td>Food adulterated or misbranded. Adulterated or...</td>\n",
              "      <td>Not Critical</td>\n",
              "    </tr>\n",
              "    <tr>\n",
              "      <th>28-06</th>\n",
              "      <td>Contract with a pest management professional n...</td>\n",
              "      <td>Not Critical</td>\n",
              "    </tr>\n",
              "    <tr>\n",
              "      <th>28-06</th>\n",
              "      <td>Contract with a pest management professional n...</td>\n",
              "      <td>Not Critical</td>\n",
              "    </tr>\n",
              "    <tr>\n",
              "      <th>28-07</th>\n",
              "      <td>Unapproved outdoor, street or sidewalk cooking.</td>\n",
              "      <td>Not Critical</td>\n",
              "    </tr>\n",
              "  </tbody>\n",
              "</table>\n",
              "<p>151 rows × 2 columns</p>\n",
              "</div>\n",
              "    <div class=\"colab-df-buttons\">\n",
              "\n",
              "  <div class=\"colab-df-container\">\n",
              "    <button class=\"colab-df-convert\" onclick=\"convertToInteractive('df-47b745ce-f2a7-4ff8-8dab-b5d08ef09ceb')\"\n",
              "            title=\"Convert this dataframe to an interactive table.\"\n",
              "            style=\"display:none;\">\n",
              "\n",
              "  <svg xmlns=\"http://www.w3.org/2000/svg\" height=\"24px\" viewBox=\"0 -960 960 960\">\n",
              "    <path d=\"M120-120v-720h720v720H120Zm60-500h600v-160H180v160Zm220 220h160v-160H400v160Zm0 220h160v-160H400v160ZM180-400h160v-160H180v160Zm440 0h160v-160H620v160ZM180-180h160v-160H180v160Zm440 0h160v-160H620v160Z\"/>\n",
              "  </svg>\n",
              "    </button>\n",
              "\n",
              "  <style>\n",
              "    .colab-df-container {\n",
              "      display:flex;\n",
              "      gap: 12px;\n",
              "    }\n",
              "\n",
              "    .colab-df-convert {\n",
              "      background-color: #E8F0FE;\n",
              "      border: none;\n",
              "      border-radius: 50%;\n",
              "      cursor: pointer;\n",
              "      display: none;\n",
              "      fill: #1967D2;\n",
              "      height: 32px;\n",
              "      padding: 0 0 0 0;\n",
              "      width: 32px;\n",
              "    }\n",
              "\n",
              "    .colab-df-convert:hover {\n",
              "      background-color: #E2EBFA;\n",
              "      box-shadow: 0px 1px 2px rgba(60, 64, 67, 0.3), 0px 1px 3px 1px rgba(60, 64, 67, 0.15);\n",
              "      fill: #174EA6;\n",
              "    }\n",
              "\n",
              "    .colab-df-buttons div {\n",
              "      margin-bottom: 4px;\n",
              "    }\n",
              "\n",
              "    [theme=dark] .colab-df-convert {\n",
              "      background-color: #3B4455;\n",
              "      fill: #D2E3FC;\n",
              "    }\n",
              "\n",
              "    [theme=dark] .colab-df-convert:hover {\n",
              "      background-color: #434B5C;\n",
              "      box-shadow: 0px 1px 3px 1px rgba(0, 0, 0, 0.15);\n",
              "      filter: drop-shadow(0px 1px 2px rgba(0, 0, 0, 0.3));\n",
              "      fill: #FFFFFF;\n",
              "    }\n",
              "  </style>\n",
              "\n",
              "    <script>\n",
              "      const buttonEl =\n",
              "        document.querySelector('#df-47b745ce-f2a7-4ff8-8dab-b5d08ef09ceb button.colab-df-convert');\n",
              "      buttonEl.style.display =\n",
              "        google.colab.kernel.accessAllowed ? 'block' : 'none';\n",
              "\n",
              "      async function convertToInteractive(key) {\n",
              "        const element = document.querySelector('#df-47b745ce-f2a7-4ff8-8dab-b5d08ef09ceb');\n",
              "        const dataTable =\n",
              "          await google.colab.kernel.invokeFunction('convertToInteractive',\n",
              "                                                    [key], {});\n",
              "        if (!dataTable) return;\n",
              "\n",
              "        const docLinkHtml = 'Like what you see? Visit the ' +\n",
              "          '<a target=\"_blank\" href=https://colab.research.google.com/notebooks/data_table.ipynb>data table notebook</a>'\n",
              "          + ' to learn more about interactive tables.';\n",
              "        element.innerHTML = '';\n",
              "        dataTable['output_type'] = 'display_data';\n",
              "        await google.colab.output.renderOutput(dataTable, element);\n",
              "        const docLink = document.createElement('div');\n",
              "        docLink.innerHTML = docLinkHtml;\n",
              "        element.appendChild(docLink);\n",
              "      }\n",
              "    </script>\n",
              "  </div>\n",
              "\n",
              "\n",
              "<div id=\"df-51de94c5-df5f-44fe-8cff-83bf655db175\">\n",
              "  <button class=\"colab-df-quickchart\" onclick=\"quickchart('df-51de94c5-df5f-44fe-8cff-83bf655db175')\"\n",
              "            title=\"Suggest charts.\"\n",
              "            style=\"display:none;\">\n",
              "\n",
              "<svg xmlns=\"http://www.w3.org/2000/svg\" height=\"24px\"viewBox=\"0 0 24 24\"\n",
              "     width=\"24px\">\n",
              "    <g>\n",
              "        <path d=\"M19 3H5c-1.1 0-2 .9-2 2v14c0 1.1.9 2 2 2h14c1.1 0 2-.9 2-2V5c0-1.1-.9-2-2-2zM9 17H7v-7h2v7zm4 0h-2V7h2v10zm4 0h-2v-4h2v4z\"/>\n",
              "    </g>\n",
              "</svg>\n",
              "  </button>\n",
              "\n",
              "<style>\n",
              "  .colab-df-quickchart {\n",
              "      --bg-color: #E8F0FE;\n",
              "      --fill-color: #1967D2;\n",
              "      --hover-bg-color: #E2EBFA;\n",
              "      --hover-fill-color: #174EA6;\n",
              "      --disabled-fill-color: #AAA;\n",
              "      --disabled-bg-color: #DDD;\n",
              "  }\n",
              "\n",
              "  [theme=dark] .colab-df-quickchart {\n",
              "      --bg-color: #3B4455;\n",
              "      --fill-color: #D2E3FC;\n",
              "      --hover-bg-color: #434B5C;\n",
              "      --hover-fill-color: #FFFFFF;\n",
              "      --disabled-bg-color: #3B4455;\n",
              "      --disabled-fill-color: #666;\n",
              "  }\n",
              "\n",
              "  .colab-df-quickchart {\n",
              "    background-color: var(--bg-color);\n",
              "    border: none;\n",
              "    border-radius: 50%;\n",
              "    cursor: pointer;\n",
              "    display: none;\n",
              "    fill: var(--fill-color);\n",
              "    height: 32px;\n",
              "    padding: 0;\n",
              "    width: 32px;\n",
              "  }\n",
              "\n",
              "  .colab-df-quickchart:hover {\n",
              "    background-color: var(--hover-bg-color);\n",
              "    box-shadow: 0 1px 2px rgba(60, 64, 67, 0.3), 0 1px 3px 1px rgba(60, 64, 67, 0.15);\n",
              "    fill: var(--button-hover-fill-color);\n",
              "  }\n",
              "\n",
              "  .colab-df-quickchart-complete:disabled,\n",
              "  .colab-df-quickchart-complete:disabled:hover {\n",
              "    background-color: var(--disabled-bg-color);\n",
              "    fill: var(--disabled-fill-color);\n",
              "    box-shadow: none;\n",
              "  }\n",
              "\n",
              "  .colab-df-spinner {\n",
              "    border: 2px solid var(--fill-color);\n",
              "    border-color: transparent;\n",
              "    border-bottom-color: var(--fill-color);\n",
              "    animation:\n",
              "      spin 1s steps(1) infinite;\n",
              "  }\n",
              "\n",
              "  @keyframes spin {\n",
              "    0% {\n",
              "      border-color: transparent;\n",
              "      border-bottom-color: var(--fill-color);\n",
              "      border-left-color: var(--fill-color);\n",
              "    }\n",
              "    20% {\n",
              "      border-color: transparent;\n",
              "      border-left-color: var(--fill-color);\n",
              "      border-top-color: var(--fill-color);\n",
              "    }\n",
              "    30% {\n",
              "      border-color: transparent;\n",
              "      border-left-color: var(--fill-color);\n",
              "      border-top-color: var(--fill-color);\n",
              "      border-right-color: var(--fill-color);\n",
              "    }\n",
              "    40% {\n",
              "      border-color: transparent;\n",
              "      border-right-color: var(--fill-color);\n",
              "      border-top-color: var(--fill-color);\n",
              "    }\n",
              "    60% {\n",
              "      border-color: transparent;\n",
              "      border-right-color: var(--fill-color);\n",
              "    }\n",
              "    80% {\n",
              "      border-color: transparent;\n",
              "      border-right-color: var(--fill-color);\n",
              "      border-bottom-color: var(--fill-color);\n",
              "    }\n",
              "    90% {\n",
              "      border-color: transparent;\n",
              "      border-bottom-color: var(--fill-color);\n",
              "    }\n",
              "  }\n",
              "</style>\n",
              "\n",
              "  <script>\n",
              "    async function quickchart(key) {\n",
              "      const quickchartButtonEl =\n",
              "        document.querySelector('#' + key + ' button');\n",
              "      quickchartButtonEl.disabled = true;  // To prevent multiple clicks.\n",
              "      quickchartButtonEl.classList.add('colab-df-spinner');\n",
              "      try {\n",
              "        const charts = await google.colab.kernel.invokeFunction(\n",
              "            'suggestCharts', [key], {});\n",
              "      } catch (error) {\n",
              "        console.error('Error during call to suggestCharts:', error);\n",
              "      }\n",
              "      quickchartButtonEl.classList.remove('colab-df-spinner');\n",
              "      quickchartButtonEl.classList.add('colab-df-quickchart-complete');\n",
              "    }\n",
              "    (() => {\n",
              "      let quickchartButtonEl =\n",
              "        document.querySelector('#df-51de94c5-df5f-44fe-8cff-83bf655db175 button');\n",
              "      quickchartButtonEl.style.display =\n",
              "        google.colab.kernel.accessAllowed ? 'block' : 'none';\n",
              "    })();\n",
              "  </script>\n",
              "</div>\n",
              "\n",
              "  <div id=\"id_d342174f-c7e2-49b0-a74c-0da8ff3f3b79\">\n",
              "    <style>\n",
              "      .colab-df-generate {\n",
              "        background-color: #E8F0FE;\n",
              "        border: none;\n",
              "        border-radius: 50%;\n",
              "        cursor: pointer;\n",
              "        display: none;\n",
              "        fill: #1967D2;\n",
              "        height: 32px;\n",
              "        padding: 0 0 0 0;\n",
              "        width: 32px;\n",
              "      }\n",
              "\n",
              "      .colab-df-generate:hover {\n",
              "        background-color: #E2EBFA;\n",
              "        box-shadow: 0px 1px 2px rgba(60, 64, 67, 0.3), 0px 1px 3px 1px rgba(60, 64, 67, 0.15);\n",
              "        fill: #174EA6;\n",
              "      }\n",
              "\n",
              "      [theme=dark] .colab-df-generate {\n",
              "        background-color: #3B4455;\n",
              "        fill: #D2E3FC;\n",
              "      }\n",
              "\n",
              "      [theme=dark] .colab-df-generate:hover {\n",
              "        background-color: #434B5C;\n",
              "        box-shadow: 0px 1px 3px 1px rgba(0, 0, 0, 0.15);\n",
              "        filter: drop-shadow(0px 1px 2px rgba(0, 0, 0, 0.3));\n",
              "        fill: #FFFFFF;\n",
              "      }\n",
              "    </style>\n",
              "    <button class=\"colab-df-generate\" onclick=\"generateWithVariable('violation_codes')\"\n",
              "            title=\"Generate code using this dataframe.\"\n",
              "            style=\"display:none;\">\n",
              "\n",
              "  <svg xmlns=\"http://www.w3.org/2000/svg\" height=\"24px\"viewBox=\"0 0 24 24\"\n",
              "       width=\"24px\">\n",
              "    <path d=\"M7,19H8.4L18.45,9,17,7.55,7,17.6ZM5,21V16.75L18.45,3.32a2,2,0,0,1,2.83,0l1.4,1.43a1.91,1.91,0,0,1,.58,1.4,1.91,1.91,0,0,1-.58,1.4L9.25,21ZM18.45,9,17,7.55Zm-12,3A5.31,5.31,0,0,0,4.9,8.1,5.31,5.31,0,0,0,1,6.5,5.31,5.31,0,0,0,4.9,4.9,5.31,5.31,0,0,0,6.5,1,5.31,5.31,0,0,0,8.1,4.9,5.31,5.31,0,0,0,12,6.5,5.46,5.46,0,0,0,6.5,12Z\"/>\n",
              "  </svg>\n",
              "    </button>\n",
              "    <script>\n",
              "      (() => {\n",
              "      const buttonEl =\n",
              "        document.querySelector('#id_d342174f-c7e2-49b0-a74c-0da8ff3f3b79 button.colab-df-generate');\n",
              "      buttonEl.style.display =\n",
              "        google.colab.kernel.accessAllowed ? 'block' : 'none';\n",
              "\n",
              "      buttonEl.onclick = () => {\n",
              "        google.colab.notebook.generateWithVariable('violation_codes');\n",
              "      }\n",
              "      })();\n",
              "    </script>\n",
              "  </div>\n",
              "\n",
              "    </div>\n",
              "  </div>\n"
            ]
          },
          "metadata": {},
          "execution_count": 138
        }
      ]
    },
    {
      "cell_type": "code",
      "source": [
        "violation_codes = violation_codes.groupby('VIOLATION_CODE').first()"
      ],
      "metadata": {
        "id": "-o1gQZT4U0hM"
      },
      "execution_count": 144,
      "outputs": []
    },
    {
      "cell_type": "code",
      "source": [
        "violation_codes.reset_index().to_sql(\n",
        "        name = 'violation_codes',\n",
        "        schema = db_name,\n",
        "        con = engine,\n",
        "        if_exists = 'append',\n",
        "        index = False,\n",
        "        chunksize = 1000)"
      ],
      "metadata": {
        "id": "hPNt2T69EaPu",
        "outputId": "eedf0bda-c221-486b-af5f-9d226605f864",
        "colab": {
          "base_uri": "https://localhost:8080/"
        }
      },
      "execution_count": 145,
      "outputs": [
        {
          "output_type": "execute_result",
          "data": {
            "text/plain": [
              "73"
            ]
          },
          "metadata": {},
          "execution_count": 145
        }
      ]
    },
    {
      "cell_type": "code",
      "source": [
        "restaurants.to_sql(\n",
        "        name = 'restaurants',\n",
        "        schema = db_name,\n",
        "        con = engine,\n",
        "        if_exists = 'append',\n",
        "        index = False,\n",
        "        chunksize = 1000)"
      ],
      "metadata": {
        "id": "XcSwdNSbl9F6",
        "outputId": "335b61de-af4f-41ee-e5f9-f2ba474c1db9",
        "colab": {
          "base_uri": "https://localhost:8080/"
        }
      },
      "execution_count": 146,
      "outputs": [
        {
          "output_type": "execute_result",
          "data": {
            "text/plain": [
              "19314"
            ]
          },
          "metadata": {},
          "execution_count": 146
        }
      ]
    },
    {
      "cell_type": "code",
      "source": [
        "inspection.to_sql(\n",
        "        name = 'inspections',\n",
        "        schema = db_name,\n",
        "        con = engine,\n",
        "        if_exists = 'append',\n",
        "        index = False,\n",
        "        chunksize = 1000)"
      ],
      "metadata": {
        "id": "IV2WmeI2mBxJ",
        "outputId": "b2ab8d8b-3ee6-4bc9-c7a2-4feb45da8e33",
        "colab": {
          "base_uri": "https://localhost:8080/"
        }
      },
      "execution_count": 147,
      "outputs": [
        {
          "output_type": "execute_result",
          "data": {
            "text/plain": [
              "42987"
            ]
          },
          "metadata": {},
          "execution_count": 147
        }
      ]
    },
    {
      "cell_type": "code",
      "source": [
        "violations.to_sql(\n",
        "        name = 'violations',\n",
        "        schema = db_name,\n",
        "        con = engine,\n",
        "        if_exists = 'append',\n",
        "        index = False,\n",
        "        chunksize = 1000)"
      ],
      "metadata": {
        "id": "5O3w940SmJf3",
        "outputId": "ecdae854-8d64-4be9-d9e5-3a832aa47702",
        "colab": {
          "base_uri": "https://localhost:8080/"
        }
      },
      "execution_count": 148,
      "outputs": [
        {
          "output_type": "execute_result",
          "data": {
            "text/plain": [
              "134387"
            ]
          },
          "metadata": {},
          "execution_count": 148
        }
      ]
    },
    {
      "cell_type": "code",
      "source": [
        "sql = '''\n",
        "GRANT SELECT ON doh_restaurants.* TO 'student'@'%'\n",
        "'''\n",
        "with engine.connect() as connection:\n",
        "  connection.execute(text(sql))"
      ],
      "metadata": {
        "id": "JJ8drPUVI4BL"
      },
      "execution_count": 149,
      "outputs": []
    },
    {
      "cell_type": "code",
      "source": [
        "\n",
        "\n",
        "sql = '''\n",
        "CREATE VIEW restaurant_inspection_latest AS\n",
        "\tWITH latest_inspection AS (\n",
        "\t\tSELECT CAMIS, MAX(INSPECTION_DATE) AS INSPECTION_DATE FROM inspections\n",
        "\t\tGROUP BY CAMIS\n",
        "\t)\n",
        "\tSELECT R.CAMIS, R.DBA, R.BUILDING, R.STREET, R.ZIPCODE, R.BORO, R.CUISINE_DESCRIPTION, R.LATITUDE, R.LONGITUDE, I.INSPECTION_DATE, I.INSPECTION_ID, I.INSPECTION_TYPE, V.VIOLATION_CODE, I.SCORE, I.GRADE\n",
        "\t\tFROM restaurants R\n",
        "\t\t\tJOIN latest_inspection L ON R.CAMIS = L.CAMIS\n",
        "\t\t\tJOIN inspections I ON I.CAMIS = L.CAMIS AND L.INSPECTION_DATE = I.INSPECTION_DATE\n",
        "\t\t\tJOIN violations V ON I.INSPECTION_ID = V.INSPECTION_ID\n",
        "      '''\n",
        "\n",
        "with engine.connect() as connection:\n",
        "  connection.execute(text(sql))"
      ],
      "metadata": {
        "id": "5XgnNr3MSzVJ"
      },
      "execution_count": 150,
      "outputs": []
    }
  ],
  "metadata": {
    "kernelspec": {
      "display_name": "Python 3",
      "language": "python",
      "name": "python3"
    },
    "language_info": {
      "codemirror_mode": {
        "name": "ipython",
        "version": 3
      },
      "file_extension": ".py",
      "mimetype": "text/x-python",
      "name": "python",
      "nbconvert_exporter": "python",
      "pygments_lexer": "ipython3",
      "version": "3.8.2"
    },
    "colab": {
      "name": "DOH_Restaurant_Inspections.ipynb",
      "provenance": [],
      "include_colab_link": true
    }
  },
  "nbformat": 4,
  "nbformat_minor": 0
}