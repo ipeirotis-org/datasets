{
  "cells": [
    {
      "cell_type": "markdown",
      "metadata": {
        "id": "view-in-github",
        "colab_type": "text"
      },
      "source": [
        "<a href=\"https://colab.research.google.com/github/ipeirotis-org/datasets/blob/main/Restaurant_Inspections/DOH_Restaurant_Inspections.ipynb\" target=\"_parent\"><img src=\"https://colab.research.google.com/assets/colab-badge.svg\" alt=\"Open In Colab\"/></a>"
      ]
    },
    {
      "cell_type": "markdown",
      "metadata": {
        "id": "T70qRb5S7huK"
      },
      "source": [
        "https://www1.nyc.gov/site/doh/business/food-operators/the-inspection-process.page\n",
        "\n",
        "See https://www1.nyc.gov/assets/doh/downloads/pdf/rii/blue-book.pdf"
      ]
    },
    {
      "cell_type": "code",
      "source": [
        "!pip install -q google-cloud-secret-manager\n",
        "\n",
        "from google.colab import auth\n",
        "auth.authenticate_user()\n",
        "\n",
        "from google.cloud import secretmanager\n",
        "\n",
        "def access_secret_version(project_id, secret_id, version_id):\n",
        "    \"\"\"\n",
        "    Access the payload of the given secret version and return it.\n",
        "\n",
        "    Args:\n",
        "        project_id (str): Google Cloud project ID.\n",
        "        secret_id (str): ID of the secret to access.\n",
        "        version_id (str): ID of the version to access.\n",
        "    Returns:\n",
        "        str: The secret version's payload, or None if\n",
        "        the version does not exist.\n",
        "    \"\"\"\n",
        "    client = secretmanager.SecretManagerServiceClient()\n",
        "    name = f\"projects/{project_id}/secrets/{secret_id}/versions/{version_id}\"\n",
        "    response = client.access_secret_version(request={\"name\": name})\n",
        "    return response.payload.data.decode(\"UTF-8\")\n",
        "\n",
        "\n",
        "mysql_pass = access_secret_version(\"nyu-datasets\", \"MYSQL_PASSWORD\", \"latest\")"
      ],
      "metadata": {
        "id": "qSLj2L9ljhOp"
      },
      "execution_count": 2,
      "outputs": []
    },
    {
      "cell_type": "markdown",
      "metadata": {
        "id": "iZk8TxBV7huP"
      },
      "source": [
        "## Download Latest Dataset"
      ]
    },
    {
      "cell_type": "code",
      "execution_count": 3,
      "metadata": {
        "id": "7XMOonFl7huP",
        "outputId": "57f99308-43f1-4d9c-f80d-663542baed14",
        "colab": {
          "base_uri": "https://localhost:8080/"
        }
      },
      "outputs": [
        {
          "output_type": "stream",
          "name": "stdout",
          "text": [
            "  % Total    % Received % Xferd  Average Speed   Time    Time     Time  Current\n",
            "                                 Dload  Upload   Total   Spent    Left  Speed\n",
            "100  121M    0  121M    0     0  6811k      0 --:--:--  0:00:18 --:--:-- 7215k\n"
          ]
        }
      ],
      "source": [
        "!curl 'https://data.cityofnewyork.us/api/views/43nn-pn8j/rows.csv?accessType=DOWNLOAD' -o restaurants.csv"
      ]
    },
    {
      "cell_type": "code",
      "execution_count": 4,
      "metadata": {
        "id": "0gEDjE-67huP"
      },
      "outputs": [],
      "source": [
        "import pandas as pd\n",
        "import numpy as np\n",
        "df = pd.read_csv(\"restaurants.csv\", dtype = 'object')"
      ]
    },
    {
      "cell_type": "code",
      "execution_count": 5,
      "metadata": {
        "colab": {
          "base_uri": "https://localhost:8080/"
        },
        "id": "AK1gZZt97huQ",
        "outputId": "5e4b8e3c-23e2-4783-eded-d19a01fd1d7d"
      },
      "outputs": [
        {
          "output_type": "execute_result",
          "data": {
            "text/plain": [
              "285026"
            ]
          },
          "metadata": {},
          "execution_count": 5
        }
      ],
      "source": [
        "initial_size = len(df)\n",
        "initial_size"
      ]
    },
    {
      "cell_type": "code",
      "execution_count": 6,
      "metadata": {
        "id": "kr5XxtQ47huQ"
      },
      "outputs": [],
      "source": [
        "# Render our plots inline\n",
        "%matplotlib inline\n",
        "%config InlineBackend.figure_format = 'retina'"
      ]
    },
    {
      "cell_type": "code",
      "execution_count": 7,
      "metadata": {
        "colab": {
          "base_uri": "https://localhost:8080/",
          "height": 930
        },
        "id": "PCMF_AAr7huR",
        "outputId": "5a470043-da50-452c-a73e-1b52b7b6ef88"
      },
      "outputs": [
        {
          "output_type": "execute_result",
          "data": {
            "text/plain": [
              "CAMIS                    object\n",
              "DBA                      object\n",
              "BORO                     object\n",
              "BUILDING                 object\n",
              "STREET                   object\n",
              "ZIPCODE                  object\n",
              "PHONE                    object\n",
              "CUISINE DESCRIPTION      object\n",
              "INSPECTION DATE          object\n",
              "ACTION                   object\n",
              "VIOLATION CODE           object\n",
              "VIOLATION DESCRIPTION    object\n",
              "CRITICAL FLAG            object\n",
              "SCORE                    object\n",
              "GRADE                    object\n",
              "GRADE DATE               object\n",
              "RECORD DATE              object\n",
              "INSPECTION TYPE          object\n",
              "Latitude                 object\n",
              "Longitude                object\n",
              "Community Board          object\n",
              "Council District         object\n",
              "Census Tract             object\n",
              "BIN                      object\n",
              "BBL                      object\n",
              "NTA                      object\n",
              "Location Point1          object\n",
              "dtype: object"
            ],
            "text/html": [
              "<div>\n",
              "<style scoped>\n",
              "    .dataframe tbody tr th:only-of-type {\n",
              "        vertical-align: middle;\n",
              "    }\n",
              "\n",
              "    .dataframe tbody tr th {\n",
              "        vertical-align: top;\n",
              "    }\n",
              "\n",
              "    .dataframe thead th {\n",
              "        text-align: right;\n",
              "    }\n",
              "</style>\n",
              "<table border=\"1\" class=\"dataframe\">\n",
              "  <thead>\n",
              "    <tr style=\"text-align: right;\">\n",
              "      <th></th>\n",
              "      <th>0</th>\n",
              "    </tr>\n",
              "  </thead>\n",
              "  <tbody>\n",
              "    <tr>\n",
              "      <th>CAMIS</th>\n",
              "      <td>object</td>\n",
              "    </tr>\n",
              "    <tr>\n",
              "      <th>DBA</th>\n",
              "      <td>object</td>\n",
              "    </tr>\n",
              "    <tr>\n",
              "      <th>BORO</th>\n",
              "      <td>object</td>\n",
              "    </tr>\n",
              "    <tr>\n",
              "      <th>BUILDING</th>\n",
              "      <td>object</td>\n",
              "    </tr>\n",
              "    <tr>\n",
              "      <th>STREET</th>\n",
              "      <td>object</td>\n",
              "    </tr>\n",
              "    <tr>\n",
              "      <th>ZIPCODE</th>\n",
              "      <td>object</td>\n",
              "    </tr>\n",
              "    <tr>\n",
              "      <th>PHONE</th>\n",
              "      <td>object</td>\n",
              "    </tr>\n",
              "    <tr>\n",
              "      <th>CUISINE DESCRIPTION</th>\n",
              "      <td>object</td>\n",
              "    </tr>\n",
              "    <tr>\n",
              "      <th>INSPECTION DATE</th>\n",
              "      <td>object</td>\n",
              "    </tr>\n",
              "    <tr>\n",
              "      <th>ACTION</th>\n",
              "      <td>object</td>\n",
              "    </tr>\n",
              "    <tr>\n",
              "      <th>VIOLATION CODE</th>\n",
              "      <td>object</td>\n",
              "    </tr>\n",
              "    <tr>\n",
              "      <th>VIOLATION DESCRIPTION</th>\n",
              "      <td>object</td>\n",
              "    </tr>\n",
              "    <tr>\n",
              "      <th>CRITICAL FLAG</th>\n",
              "      <td>object</td>\n",
              "    </tr>\n",
              "    <tr>\n",
              "      <th>SCORE</th>\n",
              "      <td>object</td>\n",
              "    </tr>\n",
              "    <tr>\n",
              "      <th>GRADE</th>\n",
              "      <td>object</td>\n",
              "    </tr>\n",
              "    <tr>\n",
              "      <th>GRADE DATE</th>\n",
              "      <td>object</td>\n",
              "    </tr>\n",
              "    <tr>\n",
              "      <th>RECORD DATE</th>\n",
              "      <td>object</td>\n",
              "    </tr>\n",
              "    <tr>\n",
              "      <th>INSPECTION TYPE</th>\n",
              "      <td>object</td>\n",
              "    </tr>\n",
              "    <tr>\n",
              "      <th>Latitude</th>\n",
              "      <td>object</td>\n",
              "    </tr>\n",
              "    <tr>\n",
              "      <th>Longitude</th>\n",
              "      <td>object</td>\n",
              "    </tr>\n",
              "    <tr>\n",
              "      <th>Community Board</th>\n",
              "      <td>object</td>\n",
              "    </tr>\n",
              "    <tr>\n",
              "      <th>Council District</th>\n",
              "      <td>object</td>\n",
              "    </tr>\n",
              "    <tr>\n",
              "      <th>Census Tract</th>\n",
              "      <td>object</td>\n",
              "    </tr>\n",
              "    <tr>\n",
              "      <th>BIN</th>\n",
              "      <td>object</td>\n",
              "    </tr>\n",
              "    <tr>\n",
              "      <th>BBL</th>\n",
              "      <td>object</td>\n",
              "    </tr>\n",
              "    <tr>\n",
              "      <th>NTA</th>\n",
              "      <td>object</td>\n",
              "    </tr>\n",
              "    <tr>\n",
              "      <th>Location Point1</th>\n",
              "      <td>object</td>\n",
              "    </tr>\n",
              "  </tbody>\n",
              "</table>\n",
              "</div><br><label><b>dtype:</b> object</label>"
            ]
          },
          "metadata": {},
          "execution_count": 7
        }
      ],
      "source": [
        "df.dtypes"
      ]
    },
    {
      "cell_type": "code",
      "execution_count": 8,
      "metadata": {
        "id": "VVgZEbCE7huS"
      },
      "outputs": [],
      "source": [
        "# Adding underscores in all column names\n",
        "cols = df.columns\n",
        "cols = cols.map(lambda x: x.replace(' ', '_').upper())\n",
        "df.columns = cols"
      ]
    },
    {
      "cell_type": "code",
      "execution_count": 9,
      "metadata": {
        "colab": {
          "base_uri": "https://localhost:8080/",
          "height": 930
        },
        "id": "CQAswNec7huS",
        "outputId": "cbf22bea-ca38-4637-b9a9-7f3c8fc481a1"
      },
      "outputs": [
        {
          "output_type": "execute_result",
          "data": {
            "text/plain": [
              "CAMIS                    object\n",
              "DBA                      object\n",
              "BORO                     object\n",
              "BUILDING                 object\n",
              "STREET                   object\n",
              "ZIPCODE                  object\n",
              "PHONE                    object\n",
              "CUISINE_DESCRIPTION      object\n",
              "INSPECTION_DATE          object\n",
              "ACTION                   object\n",
              "VIOLATION_CODE           object\n",
              "VIOLATION_DESCRIPTION    object\n",
              "CRITICAL_FLAG            object\n",
              "SCORE                    object\n",
              "GRADE                    object\n",
              "GRADE_DATE               object\n",
              "RECORD_DATE              object\n",
              "INSPECTION_TYPE          object\n",
              "LATITUDE                 object\n",
              "LONGITUDE                object\n",
              "COMMUNITY_BOARD          object\n",
              "COUNCIL_DISTRICT         object\n",
              "CENSUS_TRACT             object\n",
              "BIN                      object\n",
              "BBL                      object\n",
              "NTA                      object\n",
              "LOCATION_POINT1          object\n",
              "dtype: object"
            ],
            "text/html": [
              "<div>\n",
              "<style scoped>\n",
              "    .dataframe tbody tr th:only-of-type {\n",
              "        vertical-align: middle;\n",
              "    }\n",
              "\n",
              "    .dataframe tbody tr th {\n",
              "        vertical-align: top;\n",
              "    }\n",
              "\n",
              "    .dataframe thead th {\n",
              "        text-align: right;\n",
              "    }\n",
              "</style>\n",
              "<table border=\"1\" class=\"dataframe\">\n",
              "  <thead>\n",
              "    <tr style=\"text-align: right;\">\n",
              "      <th></th>\n",
              "      <th>0</th>\n",
              "    </tr>\n",
              "  </thead>\n",
              "  <tbody>\n",
              "    <tr>\n",
              "      <th>CAMIS</th>\n",
              "      <td>object</td>\n",
              "    </tr>\n",
              "    <tr>\n",
              "      <th>DBA</th>\n",
              "      <td>object</td>\n",
              "    </tr>\n",
              "    <tr>\n",
              "      <th>BORO</th>\n",
              "      <td>object</td>\n",
              "    </tr>\n",
              "    <tr>\n",
              "      <th>BUILDING</th>\n",
              "      <td>object</td>\n",
              "    </tr>\n",
              "    <tr>\n",
              "      <th>STREET</th>\n",
              "      <td>object</td>\n",
              "    </tr>\n",
              "    <tr>\n",
              "      <th>ZIPCODE</th>\n",
              "      <td>object</td>\n",
              "    </tr>\n",
              "    <tr>\n",
              "      <th>PHONE</th>\n",
              "      <td>object</td>\n",
              "    </tr>\n",
              "    <tr>\n",
              "      <th>CUISINE_DESCRIPTION</th>\n",
              "      <td>object</td>\n",
              "    </tr>\n",
              "    <tr>\n",
              "      <th>INSPECTION_DATE</th>\n",
              "      <td>object</td>\n",
              "    </tr>\n",
              "    <tr>\n",
              "      <th>ACTION</th>\n",
              "      <td>object</td>\n",
              "    </tr>\n",
              "    <tr>\n",
              "      <th>VIOLATION_CODE</th>\n",
              "      <td>object</td>\n",
              "    </tr>\n",
              "    <tr>\n",
              "      <th>VIOLATION_DESCRIPTION</th>\n",
              "      <td>object</td>\n",
              "    </tr>\n",
              "    <tr>\n",
              "      <th>CRITICAL_FLAG</th>\n",
              "      <td>object</td>\n",
              "    </tr>\n",
              "    <tr>\n",
              "      <th>SCORE</th>\n",
              "      <td>object</td>\n",
              "    </tr>\n",
              "    <tr>\n",
              "      <th>GRADE</th>\n",
              "      <td>object</td>\n",
              "    </tr>\n",
              "    <tr>\n",
              "      <th>GRADE_DATE</th>\n",
              "      <td>object</td>\n",
              "    </tr>\n",
              "    <tr>\n",
              "      <th>RECORD_DATE</th>\n",
              "      <td>object</td>\n",
              "    </tr>\n",
              "    <tr>\n",
              "      <th>INSPECTION_TYPE</th>\n",
              "      <td>object</td>\n",
              "    </tr>\n",
              "    <tr>\n",
              "      <th>LATITUDE</th>\n",
              "      <td>object</td>\n",
              "    </tr>\n",
              "    <tr>\n",
              "      <th>LONGITUDE</th>\n",
              "      <td>object</td>\n",
              "    </tr>\n",
              "    <tr>\n",
              "      <th>COMMUNITY_BOARD</th>\n",
              "      <td>object</td>\n",
              "    </tr>\n",
              "    <tr>\n",
              "      <th>COUNCIL_DISTRICT</th>\n",
              "      <td>object</td>\n",
              "    </tr>\n",
              "    <tr>\n",
              "      <th>CENSUS_TRACT</th>\n",
              "      <td>object</td>\n",
              "    </tr>\n",
              "    <tr>\n",
              "      <th>BIN</th>\n",
              "      <td>object</td>\n",
              "    </tr>\n",
              "    <tr>\n",
              "      <th>BBL</th>\n",
              "      <td>object</td>\n",
              "    </tr>\n",
              "    <tr>\n",
              "      <th>NTA</th>\n",
              "      <td>object</td>\n",
              "    </tr>\n",
              "    <tr>\n",
              "      <th>LOCATION_POINT1</th>\n",
              "      <td>object</td>\n",
              "    </tr>\n",
              "  </tbody>\n",
              "</table>\n",
              "</div><br><label><b>dtype:</b> object</label>"
            ]
          },
          "metadata": {},
          "execution_count": 9
        }
      ],
      "source": [
        "df.dtypes"
      ]
    },
    {
      "cell_type": "code",
      "source": [
        "df.drop('LOCATION_POINT1', axis=1, inplace=True)"
      ],
      "metadata": {
        "id": "e97ruqHge6gi"
      },
      "execution_count": 10,
      "outputs": []
    },
    {
      "cell_type": "markdown",
      "metadata": {
        "id": "eoF9TUCX7huT"
      },
      "source": [
        "## Cleaning Individual Columns"
      ]
    },
    {
      "cell_type": "code",
      "execution_count": 11,
      "metadata": {
        "colab": {
          "base_uri": "https://localhost:8080/"
        },
        "id": "6efdvJkD7huT",
        "outputId": "515cd8c2-7d6e-4c1f-ce40-d4d811b4ba65"
      },
      "outputs": [
        {
          "output_type": "execute_result",
          "data": {
            "text/plain": [
              "np.int64(0)"
            ]
          },
          "metadata": {},
          "execution_count": 11
        }
      ],
      "source": [
        "df.CAMIS.isnull().sum()"
      ]
    },
    {
      "cell_type": "code",
      "execution_count": 12,
      "metadata": {
        "colab": {
          "base_uri": "https://localhost:8080/"
        },
        "id": "k-z6hIHa7huT",
        "outputId": "89a9e15c-bd46-47e5-a1d3-9feb1601d6df"
      },
      "outputs": [
        {
          "output_type": "execute_result",
          "data": {
            "text/plain": [
              "np.int64(4)"
            ]
          },
          "metadata": {},
          "execution_count": 12
        }
      ],
      "source": [
        "df.DBA.isnull().sum()"
      ]
    },
    {
      "cell_type": "code",
      "execution_count": 13,
      "metadata": {
        "id": "4R9lXjVS7huU"
      },
      "outputs": [],
      "source": [
        "# Checks that all CAMIS values correpond to a unique DBA value\n",
        "# ie the same CAMIS always has the same DBA\n",
        "max_cardinality = df[['DBA','CAMIS']].pivot_table(\n",
        "    index='CAMIS',\n",
        "    values='DBA',\n",
        "    aggfunc=pd.Series.nunique\n",
        ").DBA.max()\n",
        "\n",
        "assert(max_cardinality==1)"
      ]
    },
    {
      "cell_type": "markdown",
      "metadata": {
        "id": "1IprF2ZM7huU"
      },
      "source": [
        "### INSPECTION_TYPE"
      ]
    },
    {
      "cell_type": "code",
      "execution_count": 14,
      "metadata": {
        "colab": {
          "base_uri": "https://localhost:8080/",
          "height": 1000
        },
        "id": "2XMaAv9f7huU",
        "outputId": "06a5ada3-43b8-46c9-cff5-0cb8c89f2d73"
      },
      "outputs": [
        {
          "output_type": "execute_result",
          "data": {
            "text/plain": [
              "INSPECTION_TYPE\n",
              "Cycle Inspection / Initial Inspection                          151972\n",
              "Cycle Inspection / Re-inspection                                55777\n",
              "Pre-permit (Operational) / Initial Inspection                   39783\n",
              "Pre-permit (Operational) / Re-inspection                        10752\n",
              "Administrative Miscellaneous / Initial Inspection                8115\n",
              "Pre-permit (Non-operational) / Initial Inspection                3611\n",
              "Cycle Inspection / Reopening Inspection                          2687\n",
              "Pre-permit (Operational) / Compliance Inspection                 1981\n",
              "Administrative Miscellaneous / Re-inspection                     1659\n",
              "Cycle Inspection / Compliance Inspection                         1251\n",
              "Pre-permit (Operational) / Reopening Inspection                   763\n",
              "Inter-Agency Task Force / Initial Inspection                      705\n",
              "Smoke-Free Air Act / Initial Inspection                           628\n",
              "Trans Fat / Initial Inspection                                    488\n",
              "Calorie Posting / Initial Inspection                              415\n",
              "Pre-permit (Non-operational) / Re-inspection                      339\n",
              "Pre-permit (Operational) / Second Compliance Inspection           223\n",
              "Administrative Miscellaneous / Compliance Inspection              148\n",
              "Sodium Warning / Initial Inspection                               104\n",
              "Cycle Inspection / Second Compliance Inspection                    81\n",
              "Calorie Posting / Re-inspection                                    78\n",
              "Trans Fat / Re-inspection                                          74\n",
              "Administrative Miscellaneous / Reopening Inspection                64\n",
              "Smoke-Free Air Act / Re-inspection                                 55\n",
              "Pre-permit (Non-operational) / Compliance Inspection               51\n",
              "Administrative Miscellaneous / Second Compliance Inspection        20\n",
              "Pre-permit (Non-operational) / Second Compliance Inspection        15\n",
              "Calorie Posting / Compliance Inspection                             7\n",
              "Sodium Warning / Re-inspection                                      6\n",
              "Smoke-Free Air Act / Compliance Inspection                          5\n",
              "Trans Fat / Second Compliance Inspection                            2\n",
              "Trans Fat / Compliance Inspection                                   2\n",
              "Smoke-Free Air Act / Limited Inspection                             1\n",
              "Name: count, dtype: int64"
            ],
            "text/html": [
              "<div>\n",
              "<style scoped>\n",
              "    .dataframe tbody tr th:only-of-type {\n",
              "        vertical-align: middle;\n",
              "    }\n",
              "\n",
              "    .dataframe tbody tr th {\n",
              "        vertical-align: top;\n",
              "    }\n",
              "\n",
              "    .dataframe thead th {\n",
              "        text-align: right;\n",
              "    }\n",
              "</style>\n",
              "<table border=\"1\" class=\"dataframe\">\n",
              "  <thead>\n",
              "    <tr style=\"text-align: right;\">\n",
              "      <th></th>\n",
              "      <th>count</th>\n",
              "    </tr>\n",
              "    <tr>\n",
              "      <th>INSPECTION_TYPE</th>\n",
              "      <th></th>\n",
              "    </tr>\n",
              "  </thead>\n",
              "  <tbody>\n",
              "    <tr>\n",
              "      <th>Cycle Inspection / Initial Inspection</th>\n",
              "      <td>151972</td>\n",
              "    </tr>\n",
              "    <tr>\n",
              "      <th>Cycle Inspection / Re-inspection</th>\n",
              "      <td>55777</td>\n",
              "    </tr>\n",
              "    <tr>\n",
              "      <th>Pre-permit (Operational) / Initial Inspection</th>\n",
              "      <td>39783</td>\n",
              "    </tr>\n",
              "    <tr>\n",
              "      <th>Pre-permit (Operational) / Re-inspection</th>\n",
              "      <td>10752</td>\n",
              "    </tr>\n",
              "    <tr>\n",
              "      <th>Administrative Miscellaneous / Initial Inspection</th>\n",
              "      <td>8115</td>\n",
              "    </tr>\n",
              "    <tr>\n",
              "      <th>Pre-permit (Non-operational) / Initial Inspection</th>\n",
              "      <td>3611</td>\n",
              "    </tr>\n",
              "    <tr>\n",
              "      <th>Cycle Inspection / Reopening Inspection</th>\n",
              "      <td>2687</td>\n",
              "    </tr>\n",
              "    <tr>\n",
              "      <th>Pre-permit (Operational) / Compliance Inspection</th>\n",
              "      <td>1981</td>\n",
              "    </tr>\n",
              "    <tr>\n",
              "      <th>Administrative Miscellaneous / Re-inspection</th>\n",
              "      <td>1659</td>\n",
              "    </tr>\n",
              "    <tr>\n",
              "      <th>Cycle Inspection / Compliance Inspection</th>\n",
              "      <td>1251</td>\n",
              "    </tr>\n",
              "    <tr>\n",
              "      <th>Pre-permit (Operational) / Reopening Inspection</th>\n",
              "      <td>763</td>\n",
              "    </tr>\n",
              "    <tr>\n",
              "      <th>Inter-Agency Task Force / Initial Inspection</th>\n",
              "      <td>705</td>\n",
              "    </tr>\n",
              "    <tr>\n",
              "      <th>Smoke-Free Air Act / Initial Inspection</th>\n",
              "      <td>628</td>\n",
              "    </tr>\n",
              "    <tr>\n",
              "      <th>Trans Fat / Initial Inspection</th>\n",
              "      <td>488</td>\n",
              "    </tr>\n",
              "    <tr>\n",
              "      <th>Calorie Posting / Initial Inspection</th>\n",
              "      <td>415</td>\n",
              "    </tr>\n",
              "    <tr>\n",
              "      <th>Pre-permit (Non-operational) / Re-inspection</th>\n",
              "      <td>339</td>\n",
              "    </tr>\n",
              "    <tr>\n",
              "      <th>Pre-permit (Operational) / Second Compliance Inspection</th>\n",
              "      <td>223</td>\n",
              "    </tr>\n",
              "    <tr>\n",
              "      <th>Administrative Miscellaneous / Compliance Inspection</th>\n",
              "      <td>148</td>\n",
              "    </tr>\n",
              "    <tr>\n",
              "      <th>Sodium Warning / Initial Inspection</th>\n",
              "      <td>104</td>\n",
              "    </tr>\n",
              "    <tr>\n",
              "      <th>Cycle Inspection / Second Compliance Inspection</th>\n",
              "      <td>81</td>\n",
              "    </tr>\n",
              "    <tr>\n",
              "      <th>Calorie Posting / Re-inspection</th>\n",
              "      <td>78</td>\n",
              "    </tr>\n",
              "    <tr>\n",
              "      <th>Trans Fat / Re-inspection</th>\n",
              "      <td>74</td>\n",
              "    </tr>\n",
              "    <tr>\n",
              "      <th>Administrative Miscellaneous / Reopening Inspection</th>\n",
              "      <td>64</td>\n",
              "    </tr>\n",
              "    <tr>\n",
              "      <th>Smoke-Free Air Act / Re-inspection</th>\n",
              "      <td>55</td>\n",
              "    </tr>\n",
              "    <tr>\n",
              "      <th>Pre-permit (Non-operational) / Compliance Inspection</th>\n",
              "      <td>51</td>\n",
              "    </tr>\n",
              "    <tr>\n",
              "      <th>Administrative Miscellaneous / Second Compliance Inspection</th>\n",
              "      <td>20</td>\n",
              "    </tr>\n",
              "    <tr>\n",
              "      <th>Pre-permit (Non-operational) / Second Compliance Inspection</th>\n",
              "      <td>15</td>\n",
              "    </tr>\n",
              "    <tr>\n",
              "      <th>Calorie Posting / Compliance Inspection</th>\n",
              "      <td>7</td>\n",
              "    </tr>\n",
              "    <tr>\n",
              "      <th>Sodium Warning / Re-inspection</th>\n",
              "      <td>6</td>\n",
              "    </tr>\n",
              "    <tr>\n",
              "      <th>Smoke-Free Air Act / Compliance Inspection</th>\n",
              "      <td>5</td>\n",
              "    </tr>\n",
              "    <tr>\n",
              "      <th>Trans Fat / Second Compliance Inspection</th>\n",
              "      <td>2</td>\n",
              "    </tr>\n",
              "    <tr>\n",
              "      <th>Trans Fat / Compliance Inspection</th>\n",
              "      <td>2</td>\n",
              "    </tr>\n",
              "    <tr>\n",
              "      <th>Smoke-Free Air Act / Limited Inspection</th>\n",
              "      <td>1</td>\n",
              "    </tr>\n",
              "  </tbody>\n",
              "</table>\n",
              "</div><br><label><b>dtype:</b> int64</label>"
            ]
          },
          "metadata": {},
          "execution_count": 14
        }
      ],
      "source": [
        "df.INSPECTION_TYPE.value_counts()"
      ]
    },
    {
      "cell_type": "code",
      "execution_count": 15,
      "metadata": {
        "colab": {
          "base_uri": "https://localhost:8080/"
        },
        "id": "h6rZutnX7huV",
        "outputId": "5cbc5efd-1f4a-402b-9730-aa451dfad95d"
      },
      "outputs": [
        {
          "output_type": "execute_result",
          "data": {
            "text/plain": [
              "3164"
            ]
          },
          "metadata": {},
          "execution_count": 15
        }
      ],
      "source": [
        "sum(df.INSPECTION_TYPE.isnull())"
      ]
    },
    {
      "cell_type": "code",
      "execution_count": 16,
      "metadata": {
        "id": "D3jQrAWR7huW"
      },
      "outputs": [],
      "source": [
        "# We create a column \"TO_DELETE\" to mark the entries that we are not interested in.\n",
        "# We will perform first the inspection/analysis on all the attributes, and then delete the rows\n",
        "\n",
        "# Drop all cases where inspection is NULL\n",
        "df['TO_DELETE'] = df.INSPECTION_TYPE.isnull()"
      ]
    },
    {
      "cell_type": "code",
      "execution_count": 17,
      "metadata": {
        "colab": {
          "base_uri": "https://localhost:8080/"
        },
        "id": "8KjyCir27huW",
        "outputId": "d973294c-3c90-4f54-da9f-274628bc5c5c"
      },
      "outputs": [
        {
          "output_type": "execute_result",
          "data": {
            "text/plain": [
              "3164"
            ]
          },
          "metadata": {},
          "execution_count": 17
        }
      ],
      "source": [
        "sum(df['TO_DELETE'])"
      ]
    },
    {
      "cell_type": "code",
      "execution_count": 18,
      "metadata": {
        "id": "vxZMd7fp7huW"
      },
      "outputs": [],
      "source": [
        "# Break INSPECTION_TYPE into two columns, and also delete some inspection types\n",
        "\n",
        "# Create a new column that contains the results of the split on the '/'' character\n",
        "lst = df.INSPECTION_TYPE.str.split(' / ').values.tolist()\n",
        "lst = [ l if type(l)==type(list()) else ['',''] for l in lst ]\n",
        "t = pd.DataFrame(lst)\n"
      ]
    },
    {
      "cell_type": "code",
      "execution_count": 19,
      "metadata": {
        "colab": {
          "base_uri": "https://localhost:8080/",
          "height": 429
        },
        "id": "kcFPoiEt7huX",
        "outputId": "91cd475e-c382-452b-8943-da21ad163421"
      },
      "outputs": [
        {
          "output_type": "execute_result",
          "data": {
            "text/plain": [
              "0\n",
              "Cycle Inspection                211768\n",
              "Pre-permit (Operational)         53502\n",
              "Administrative Miscellaneous     10006\n",
              "Pre-permit (Non-operational)      4016\n",
              "                                  3164\n",
              "Inter-Agency Task Force            705\n",
              "Smoke-Free Air Act                 689\n",
              "Trans Fat                          566\n",
              "Calorie Posting                    500\n",
              "Sodium Warning                     110\n",
              "Name: count, dtype: int64"
            ],
            "text/html": [
              "<div>\n",
              "<style scoped>\n",
              "    .dataframe tbody tr th:only-of-type {\n",
              "        vertical-align: middle;\n",
              "    }\n",
              "\n",
              "    .dataframe tbody tr th {\n",
              "        vertical-align: top;\n",
              "    }\n",
              "\n",
              "    .dataframe thead th {\n",
              "        text-align: right;\n",
              "    }\n",
              "</style>\n",
              "<table border=\"1\" class=\"dataframe\">\n",
              "  <thead>\n",
              "    <tr style=\"text-align: right;\">\n",
              "      <th></th>\n",
              "      <th>count</th>\n",
              "    </tr>\n",
              "    <tr>\n",
              "      <th>0</th>\n",
              "      <th></th>\n",
              "    </tr>\n",
              "  </thead>\n",
              "  <tbody>\n",
              "    <tr>\n",
              "      <th>Cycle Inspection</th>\n",
              "      <td>211768</td>\n",
              "    </tr>\n",
              "    <tr>\n",
              "      <th>Pre-permit (Operational)</th>\n",
              "      <td>53502</td>\n",
              "    </tr>\n",
              "    <tr>\n",
              "      <th>Administrative Miscellaneous</th>\n",
              "      <td>10006</td>\n",
              "    </tr>\n",
              "    <tr>\n",
              "      <th>Pre-permit (Non-operational)</th>\n",
              "      <td>4016</td>\n",
              "    </tr>\n",
              "    <tr>\n",
              "      <th></th>\n",
              "      <td>3164</td>\n",
              "    </tr>\n",
              "    <tr>\n",
              "      <th>Inter-Agency Task Force</th>\n",
              "      <td>705</td>\n",
              "    </tr>\n",
              "    <tr>\n",
              "      <th>Smoke-Free Air Act</th>\n",
              "      <td>689</td>\n",
              "    </tr>\n",
              "    <tr>\n",
              "      <th>Trans Fat</th>\n",
              "      <td>566</td>\n",
              "    </tr>\n",
              "    <tr>\n",
              "      <th>Calorie Posting</th>\n",
              "      <td>500</td>\n",
              "    </tr>\n",
              "    <tr>\n",
              "      <th>Sodium Warning</th>\n",
              "      <td>110</td>\n",
              "    </tr>\n",
              "  </tbody>\n",
              "</table>\n",
              "</div><br><label><b>dtype:</b> int64</label>"
            ]
          },
          "metadata": {},
          "execution_count": 19
        }
      ],
      "source": [
        "t[0].value_counts()"
      ]
    },
    {
      "cell_type": "code",
      "execution_count": 20,
      "metadata": {
        "colab": {
          "base_uri": "https://localhost:8080/",
          "height": 334
        },
        "id": "rbTovcLJ7huX",
        "outputId": "8d17030a-54cd-4799-d567-a2fbc759d220"
      },
      "outputs": [
        {
          "output_type": "execute_result",
          "data": {
            "text/plain": [
              "1\n",
              "Initial Inspection              205821\n",
              "Re-inspection                    68740\n",
              "Reopening Inspection              3514\n",
              "Compliance Inspection             3445\n",
              "                                  3164\n",
              "Second Compliance Inspection       341\n",
              "Limited Inspection                   1\n",
              "Name: count, dtype: int64"
            ],
            "text/html": [
              "<div>\n",
              "<style scoped>\n",
              "    .dataframe tbody tr th:only-of-type {\n",
              "        vertical-align: middle;\n",
              "    }\n",
              "\n",
              "    .dataframe tbody tr th {\n",
              "        vertical-align: top;\n",
              "    }\n",
              "\n",
              "    .dataframe thead th {\n",
              "        text-align: right;\n",
              "    }\n",
              "</style>\n",
              "<table border=\"1\" class=\"dataframe\">\n",
              "  <thead>\n",
              "    <tr style=\"text-align: right;\">\n",
              "      <th></th>\n",
              "      <th>count</th>\n",
              "    </tr>\n",
              "    <tr>\n",
              "      <th>1</th>\n",
              "      <th></th>\n",
              "    </tr>\n",
              "  </thead>\n",
              "  <tbody>\n",
              "    <tr>\n",
              "      <th>Initial Inspection</th>\n",
              "      <td>205821</td>\n",
              "    </tr>\n",
              "    <tr>\n",
              "      <th>Re-inspection</th>\n",
              "      <td>68740</td>\n",
              "    </tr>\n",
              "    <tr>\n",
              "      <th>Reopening Inspection</th>\n",
              "      <td>3514</td>\n",
              "    </tr>\n",
              "    <tr>\n",
              "      <th>Compliance Inspection</th>\n",
              "      <td>3445</td>\n",
              "    </tr>\n",
              "    <tr>\n",
              "      <th></th>\n",
              "      <td>3164</td>\n",
              "    </tr>\n",
              "    <tr>\n",
              "      <th>Second Compliance Inspection</th>\n",
              "      <td>341</td>\n",
              "    </tr>\n",
              "    <tr>\n",
              "      <th>Limited Inspection</th>\n",
              "      <td>1</td>\n",
              "    </tr>\n",
              "  </tbody>\n",
              "</table>\n",
              "</div><br><label><b>dtype:</b> int64</label>"
            ]
          },
          "metadata": {},
          "execution_count": 20
        }
      ],
      "source": [
        "t[1].value_counts()"
      ]
    },
    {
      "cell_type": "code",
      "execution_count": 21,
      "metadata": {
        "id": "eY0Ba3AJ7huX"
      },
      "outputs": [],
      "source": [
        "# Keep only cycle inspections. Ignore admin, pre-permit, transfat, and calorie posting inspections\n",
        "# We will only keep the initial inspections and the re-inspections. The other types are border cases\n",
        "\n",
        "keep = df.INSPECTION_TYPE.isin( ['Cycle Inspection / Initial Inspection', 'Cycle Inspection / Re-inspection'])\n"
      ]
    },
    {
      "cell_type": "code",
      "execution_count": 22,
      "metadata": {
        "colab": {
          "base_uri": "https://localhost:8080/"
        },
        "id": "_Ssa0cnt7huX",
        "outputId": "e48a70fa-2b2c-4a48-bc3b-43be0895b70e"
      },
      "outputs": [
        {
          "output_type": "execute_result",
          "data": {
            "text/plain": [
              "77277"
            ]
          },
          "metadata": {},
          "execution_count": 22
        }
      ],
      "source": [
        "# Check how many we will drop: ~keep means negation on the keep and summing up adds up the 'True'\n",
        "sum(~keep)"
      ]
    },
    {
      "cell_type": "code",
      "execution_count": 23,
      "metadata": {
        "id": "pApwM2zQ7huX"
      },
      "outputs": [],
      "source": [
        "# Adding the \"not keep\" entries into the TO_DELETE\n",
        "\n",
        "# The |= operator is a shortcut for df['TO_DELETE'] = df['TO_DELETE'] | ~keep\n",
        "# We use the bit-OR operator (|), as we want to keep the existing deletions, and add the ones from the\n",
        "# additional condition\n",
        "df['TO_DELETE'] |= ~keep"
      ]
    },
    {
      "cell_type": "code",
      "execution_count": 24,
      "metadata": {
        "id": "EcO8IlJ77huY",
        "outputId": "bb56ca98-e319-4b69-c871-da0cbebc95dd",
        "colab": {
          "base_uri": "https://localhost:8080/"
        }
      },
      "outputs": [
        {
          "output_type": "stream",
          "name": "stderr",
          "text": [
            "<ipython-input-24-5ad52777e638>:3: FutureWarning: A value is trying to be set on a copy of a DataFrame or Series through chained assignment using an inplace method.\n",
            "The behavior will change in pandas 3.0. This inplace method will never work because the intermediate object on which we are setting values always behaves as a copy.\n",
            "\n",
            "For example, when doing 'df[col].method(value, inplace=True)', try using 'df.method({col: value}, inplace=True)' or df[col] = df[col].method(value) instead, to perform the operation inplace on the original object.\n",
            "\n",
            "\n",
            "  df[\"INSPECTION_TYPE\"].replace(\n",
            "<ipython-input-24-5ad52777e638>:8: FutureWarning: A value is trying to be set on a copy of a DataFrame or Series through chained assignment using an inplace method.\n",
            "The behavior will change in pandas 3.0. This inplace method will never work because the intermediate object on which we are setting values always behaves as a copy.\n",
            "\n",
            "For example, when doing 'df[col].method(value, inplace=True)', try using 'df.method({col: value}, inplace=True)' or df[col] = df[col].method(value) instead, to perform the operation inplace on the original object.\n",
            "\n",
            "\n",
            "  df[\"INSPECTION_TYPE\"].replace(\n"
          ]
        }
      ],
      "source": [
        "# Rename the two entries that we will keep into simpler values\n",
        "\n",
        "df[\"INSPECTION_TYPE\"].replace(\n",
        "    to_replace='Cycle Inspection / Initial Inspection',\n",
        "    value = 'Initial Inspection',\n",
        "    inplace=True\n",
        ")\n",
        "df[\"INSPECTION_TYPE\"].replace(\n",
        "    to_replace='Cycle Inspection / Re-inspection',\n",
        "    value = 'Re-inspection',\n",
        "    inplace=True\n",
        ")"
      ]
    },
    {
      "cell_type": "code",
      "execution_count": 25,
      "metadata": {
        "colab": {
          "base_uri": "https://localhost:8080/"
        },
        "id": "KP9P6n1z7huY",
        "outputId": "bf1d3f7f-5fe9-4f15-88ea-12faa0d5ac4b"
      },
      "outputs": [
        {
          "output_type": "execute_result",
          "data": {
            "text/plain": [
              "77277"
            ]
          },
          "metadata": {},
          "execution_count": 25
        }
      ],
      "source": [
        "sum(df['TO_DELETE'])"
      ]
    },
    {
      "cell_type": "markdown",
      "metadata": {
        "id": "CAsBDpJa7huY"
      },
      "source": [
        "### BORO"
      ]
    },
    {
      "cell_type": "code",
      "execution_count": 26,
      "metadata": {
        "colab": {
          "base_uri": "https://localhost:8080/",
          "height": 303
        },
        "id": "0SS6VR3W7huY",
        "outputId": "fbd9511d-56ef-4c62-d63f-77e93488e30b"
      },
      "outputs": [
        {
          "output_type": "execute_result",
          "data": {
            "text/plain": [
              "BORO\n",
              "Manhattan        105334\n",
              "Brooklyn          74776\n",
              "Queens            68875\n",
              "Bronx             26020\n",
              "Staten Island     10006\n",
              "0                    15\n",
              "Name: count, dtype: int64"
            ],
            "text/html": [
              "<div>\n",
              "<style scoped>\n",
              "    .dataframe tbody tr th:only-of-type {\n",
              "        vertical-align: middle;\n",
              "    }\n",
              "\n",
              "    .dataframe tbody tr th {\n",
              "        vertical-align: top;\n",
              "    }\n",
              "\n",
              "    .dataframe thead th {\n",
              "        text-align: right;\n",
              "    }\n",
              "</style>\n",
              "<table border=\"1\" class=\"dataframe\">\n",
              "  <thead>\n",
              "    <tr style=\"text-align: right;\">\n",
              "      <th></th>\n",
              "      <th>count</th>\n",
              "    </tr>\n",
              "    <tr>\n",
              "      <th>BORO</th>\n",
              "      <th></th>\n",
              "    </tr>\n",
              "  </thead>\n",
              "  <tbody>\n",
              "    <tr>\n",
              "      <th>Manhattan</th>\n",
              "      <td>105334</td>\n",
              "    </tr>\n",
              "    <tr>\n",
              "      <th>Brooklyn</th>\n",
              "      <td>74776</td>\n",
              "    </tr>\n",
              "    <tr>\n",
              "      <th>Queens</th>\n",
              "      <td>68875</td>\n",
              "    </tr>\n",
              "    <tr>\n",
              "      <th>Bronx</th>\n",
              "      <td>26020</td>\n",
              "    </tr>\n",
              "    <tr>\n",
              "      <th>Staten Island</th>\n",
              "      <td>10006</td>\n",
              "    </tr>\n",
              "    <tr>\n",
              "      <th>0</th>\n",
              "      <td>15</td>\n",
              "    </tr>\n",
              "  </tbody>\n",
              "</table>\n",
              "</div><br><label><b>dtype:</b> int64</label>"
            ]
          },
          "metadata": {},
          "execution_count": 26
        }
      ],
      "source": [
        "df.BORO.value_counts()"
      ]
    },
    {
      "cell_type": "code",
      "execution_count": 27,
      "metadata": {
        "colab": {
          "base_uri": "https://localhost:8080/"
        },
        "id": "9Nlpfi0K7huY",
        "outputId": "a0c9551e-6d09-486c-c75d-653368950302"
      },
      "outputs": [
        {
          "output_type": "execute_result",
          "data": {
            "text/plain": [
              "0"
            ]
          },
          "metadata": {},
          "execution_count": 27
        }
      ],
      "source": [
        "sum(df.BORO.isnull())"
      ]
    },
    {
      "cell_type": "code",
      "execution_count": 28,
      "metadata": {
        "id": "VFh5uhLe7huZ"
      },
      "outputs": [],
      "source": [
        "# Replace the \"Missing\" in BORO with null\n",
        "# df.BORO = df.BORO.replace('Missing', np.NaN)"
      ]
    },
    {
      "cell_type": "code",
      "execution_count": 29,
      "metadata": {
        "id": "zchlSkbn7huZ"
      },
      "outputs": [],
      "source": [
        "missing = set(df[df.BORO.isnull()].CAMIS)\n",
        "# missing"
      ]
    },
    {
      "cell_type": "code",
      "execution_count": 30,
      "metadata": {
        "colab": {
          "base_uri": "https://localhost:8080/"
        },
        "id": "mQflr8dy7huZ",
        "outputId": "b976ff16-72f5-405c-9e0a-c169d60401d2"
      },
      "outputs": [
        {
          "output_type": "execute_result",
          "data": {
            "text/plain": [
              "15"
            ]
          },
          "metadata": {},
          "execution_count": 30
        }
      ],
      "source": [
        "sum(df.BORO == '0')"
      ]
    },
    {
      "cell_type": "code",
      "execution_count": 31,
      "metadata": {
        "id": "oFSs5QCx7huZ"
      },
      "outputs": [],
      "source": [
        "# Remove the entries with null/missing BORO value\n",
        "# Not worth trying to fix.\n",
        "df['TO_DELETE'] |= (df.BORO == '0')"
      ]
    },
    {
      "cell_type": "code",
      "execution_count": 32,
      "metadata": {
        "colab": {
          "base_uri": "https://localhost:8080/"
        },
        "id": "QPOCbcnj7huZ",
        "outputId": "4733837e-235f-4f22-85c4-3d7fccc97cba"
      },
      "outputs": [
        {
          "output_type": "execute_result",
          "data": {
            "text/plain": [
              "77277"
            ]
          },
          "metadata": {},
          "execution_count": 32
        }
      ],
      "source": [
        "sum(df['TO_DELETE'])"
      ]
    },
    {
      "cell_type": "markdown",
      "metadata": {
        "id": "PFl2byK37huZ"
      },
      "source": [
        "### BUILDING"
      ]
    },
    {
      "cell_type": "code",
      "execution_count": 33,
      "metadata": {
        "colab": {
          "base_uri": "https://localhost:8080/"
        },
        "id": "M4MkcVzt7hua",
        "outputId": "63cb667d-9e48-4c59-96b0-121c2e704794"
      },
      "outputs": [
        {
          "output_type": "execute_result",
          "data": {
            "text/plain": [
              "323"
            ]
          },
          "metadata": {},
          "execution_count": 33
        }
      ],
      "source": [
        "sum(df.BUILDING.isnull())"
      ]
    },
    {
      "cell_type": "code",
      "execution_count": 34,
      "metadata": {
        "id": "Jp3zKK6B7hua"
      },
      "outputs": [],
      "source": [
        "# Inspect the entries with missing street number\n",
        "# df[df.BUILDING.isnull()]"
      ]
    },
    {
      "cell_type": "code",
      "execution_count": 35,
      "metadata": {
        "id": "MCa8rSXd7hua"
      },
      "outputs": [],
      "source": [
        "# Dropping the violations listed without street number\n",
        "# Most are in train stations and in airports, but there\n",
        "# are a few others in 'regular' locations\n",
        "\n",
        "df['TO_DELETE'] |= df.BUILDING.isnull()"
      ]
    },
    {
      "cell_type": "code",
      "execution_count": 36,
      "metadata": {
        "colab": {
          "base_uri": "https://localhost:8080/"
        },
        "id": "avGVuoCT7hua",
        "outputId": "5600c5e1-b27a-4168-bcd2-463008a92de6"
      },
      "outputs": [
        {
          "output_type": "execute_result",
          "data": {
            "text/plain": [
              "77511"
            ]
          },
          "metadata": {},
          "execution_count": 36
        }
      ],
      "source": [
        "sum(df['TO_DELETE'])"
      ]
    },
    {
      "cell_type": "markdown",
      "metadata": {
        "id": "sgjIS0ph7hua"
      },
      "source": [
        "### STREET"
      ]
    },
    {
      "cell_type": "code",
      "execution_count": 37,
      "metadata": {
        "colab": {
          "base_uri": "https://localhost:8080/"
        },
        "id": "3NJFHvHA7hua",
        "outputId": "e5980178-745d-4fef-a997-fb6c652c3cd0"
      },
      "outputs": [
        {
          "output_type": "execute_result",
          "data": {
            "text/plain": [
              "4"
            ]
          },
          "metadata": {},
          "execution_count": 37
        }
      ],
      "source": [
        "# Check that no street values are empty\n",
        "sum(df.STREET.isnull())"
      ]
    },
    {
      "cell_type": "code",
      "execution_count": 38,
      "metadata": {
        "id": "ATpOqlqm7hua"
      },
      "outputs": [],
      "source": [
        "df['TO_DELETE'] |= df.STREET.isnull()"
      ]
    },
    {
      "cell_type": "code",
      "execution_count": 39,
      "metadata": {
        "colab": {
          "base_uri": "https://localhost:8080/"
        },
        "id": "XZPu1Jla7hub",
        "outputId": "4767a724-a8bd-493c-ef8c-7bbd06eda4a0"
      },
      "outputs": [
        {
          "output_type": "execute_result",
          "data": {
            "text/plain": [
              "77511"
            ]
          },
          "metadata": {},
          "execution_count": 39
        }
      ],
      "source": [
        "sum(df['TO_DELETE'])"
      ]
    },
    {
      "cell_type": "markdown",
      "metadata": {
        "id": "Anh2a8qn7hub"
      },
      "source": [
        "### ZIPCODE"
      ]
    },
    {
      "cell_type": "code",
      "execution_count": 40,
      "metadata": {
        "colab": {
          "base_uri": "https://localhost:8080/"
        },
        "id": "E-EET8vP7hub",
        "outputId": "64d5da92-0fc0-4e2b-cf46-6e2116adf48f"
      },
      "outputs": [
        {
          "output_type": "execute_result",
          "data": {
            "text/plain": [
              "2827"
            ]
          },
          "metadata": {},
          "execution_count": 40
        }
      ],
      "source": [
        "sum(df.ZIPCODE.isnull())"
      ]
    },
    {
      "cell_type": "code",
      "execution_count": 41,
      "metadata": {
        "colab": {
          "base_uri": "https://localhost:8080/"
        },
        "id": "PWQf4uIu7hub",
        "outputId": "56eaa26e-b4f4-43e0-aec9-89972b1652d0"
      },
      "outputs": [
        {
          "output_type": "execute_result",
          "data": {
            "text/plain": [
              "424"
            ]
          },
          "metadata": {},
          "execution_count": 41
        }
      ],
      "source": [
        "len(set(df[df.ZIPCODE.isnull()].CAMIS))"
      ]
    },
    {
      "cell_type": "code",
      "execution_count": 42,
      "metadata": {
        "id": "X9MHWRZs7hub"
      },
      "outputs": [],
      "source": [
        "df['TO_DELETE'] |= df.ZIPCODE.isnull()"
      ]
    },
    {
      "cell_type": "code",
      "execution_count": 43,
      "metadata": {
        "id": "nmevPilF7hub"
      },
      "outputs": [],
      "source": [
        "# TODO: Fill in the missing zip codes, perhaps with geocoding of the addresses\n",
        "# For now, we just drop the cases without ZIPCODE"
      ]
    },
    {
      "cell_type": "markdown",
      "metadata": {
        "id": "WwQXJ_Sx7hub"
      },
      "source": [
        "### CUISINE DESCRIPTION"
      ]
    },
    {
      "cell_type": "code",
      "execution_count": 44,
      "metadata": {
        "colab": {
          "base_uri": "https://localhost:8080/",
          "height": 489
        },
        "id": "DtlrlXic7hub",
        "outputId": "9bdbd699-767d-4401-9e22-c5e4bfbb0441"
      },
      "outputs": [
        {
          "output_type": "execute_result",
          "data": {
            "text/plain": [
              "CUISINE_DESCRIPTION\n",
              "American          45290\n",
              "Chinese           27496\n",
              "Coffee/Tea        20051\n",
              "Pizza             17257\n",
              "Latin American    12260\n",
              "                  ...  \n",
              "Chilean              32\n",
              "Czech                13\n",
              "Haute Cuisine         5\n",
              "Southwestern          2\n",
              "Chimichurri           2\n",
              "Name: count, Length: 89, dtype: int64"
            ],
            "text/html": [
              "<div>\n",
              "<style scoped>\n",
              "    .dataframe tbody tr th:only-of-type {\n",
              "        vertical-align: middle;\n",
              "    }\n",
              "\n",
              "    .dataframe tbody tr th {\n",
              "        vertical-align: top;\n",
              "    }\n",
              "\n",
              "    .dataframe thead th {\n",
              "        text-align: right;\n",
              "    }\n",
              "</style>\n",
              "<table border=\"1\" class=\"dataframe\">\n",
              "  <thead>\n",
              "    <tr style=\"text-align: right;\">\n",
              "      <th></th>\n",
              "      <th>count</th>\n",
              "    </tr>\n",
              "    <tr>\n",
              "      <th>CUISINE_DESCRIPTION</th>\n",
              "      <th></th>\n",
              "    </tr>\n",
              "  </thead>\n",
              "  <tbody>\n",
              "    <tr>\n",
              "      <th>American</th>\n",
              "      <td>45290</td>\n",
              "    </tr>\n",
              "    <tr>\n",
              "      <th>Chinese</th>\n",
              "      <td>27496</td>\n",
              "    </tr>\n",
              "    <tr>\n",
              "      <th>Coffee/Tea</th>\n",
              "      <td>20051</td>\n",
              "    </tr>\n",
              "    <tr>\n",
              "      <th>Pizza</th>\n",
              "      <td>17257</td>\n",
              "    </tr>\n",
              "    <tr>\n",
              "      <th>Latin American</th>\n",
              "      <td>12260</td>\n",
              "    </tr>\n",
              "    <tr>\n",
              "      <th>...</th>\n",
              "      <td>...</td>\n",
              "    </tr>\n",
              "    <tr>\n",
              "      <th>Chilean</th>\n",
              "      <td>32</td>\n",
              "    </tr>\n",
              "    <tr>\n",
              "      <th>Czech</th>\n",
              "      <td>13</td>\n",
              "    </tr>\n",
              "    <tr>\n",
              "      <th>Haute Cuisine</th>\n",
              "      <td>5</td>\n",
              "    </tr>\n",
              "    <tr>\n",
              "      <th>Southwestern</th>\n",
              "      <td>2</td>\n",
              "    </tr>\n",
              "    <tr>\n",
              "      <th>Chimichurri</th>\n",
              "      <td>2</td>\n",
              "    </tr>\n",
              "  </tbody>\n",
              "</table>\n",
              "<p>89 rows × 1 columns</p>\n",
              "</div><br><label><b>dtype:</b> int64</label>"
            ]
          },
          "metadata": {},
          "execution_count": 44
        }
      ],
      "source": [
        "df.CUISINE_DESCRIPTION.value_counts()"
      ]
    },
    {
      "cell_type": "code",
      "execution_count": 45,
      "metadata": {
        "colab": {
          "base_uri": "https://localhost:8080/"
        },
        "id": "aj9tAxom7huc",
        "outputId": "635df6b3-43d5-4b1e-e7e9-c01101dbb8dd"
      },
      "outputs": [
        {
          "output_type": "execute_result",
          "data": {
            "text/plain": [
              "89"
            ]
          },
          "metadata": {},
          "execution_count": 45
        }
      ],
      "source": [
        "len(df.CUISINE_DESCRIPTION.value_counts())"
      ]
    },
    {
      "cell_type": "code",
      "execution_count": 46,
      "metadata": {
        "colab": {
          "base_uri": "https://localhost:8080/"
        },
        "id": "2Gj1vAeJ7hud",
        "outputId": "c0e74079-76de-445e-d5ec-e1ab3794a2c3"
      },
      "outputs": [
        {
          "output_type": "execute_result",
          "data": {
            "text/plain": [
              "3164"
            ]
          },
          "metadata": {},
          "execution_count": 46
        }
      ],
      "source": [
        "sum(df.CUISINE_DESCRIPTION.isnull())"
      ]
    },
    {
      "cell_type": "code",
      "execution_count": 47,
      "metadata": {
        "colab": {
          "base_uri": "https://localhost:8080/",
          "height": 89
        },
        "id": "RtLYb0Fx7hud",
        "outputId": "a0bbdd2f-e5e4-4e86-ad92-0171726bdf08"
      },
      "outputs": [
        {
          "output_type": "execute_result",
          "data": {
            "text/plain": [
              "\"\\ndf.CUISINE_DESCRIPTION.replace(\\n    to_replace='Café/Coffee/Tea',\\n    value = 'Cafe',\\n    inplace=True\\n)\\n\\ndf.CUISINE_DESCRIPTION.replace(\\n    to_replace='Latin (Cuban, Dominican, Puerto Rican, South & Central American)',\\n    value = 'Latin',\\n    inplace=True\\n)\\n\""
            ],
            "application/vnd.google.colaboratory.intrinsic+json": {
              "type": "string"
            }
          },
          "metadata": {},
          "execution_count": 47
        }
      ],
      "source": [
        "'''\n",
        "df.CUISINE_DESCRIPTION.replace(\n",
        "    to_replace='Café/Coffee/Tea',\n",
        "    value = 'Cafe',\n",
        "    inplace=True\n",
        ")\n",
        "\n",
        "df.CUISINE_DESCRIPTION.replace(\n",
        "    to_replace='Latin (Cuban, Dominican, Puerto Rican, South & Central American)',\n",
        "    value = 'Latin',\n",
        "    inplace=True\n",
        ")\n",
        "'''"
      ]
    },
    {
      "cell_type": "markdown",
      "metadata": {
        "id": "2X43fWCP7hud"
      },
      "source": [
        "### INSPECTION_DATE"
      ]
    },
    {
      "cell_type": "code",
      "execution_count": 48,
      "metadata": {
        "id": "hKe9BlTp7hud"
      },
      "outputs": [],
      "source": [
        "df[\"INSPECTION_DATE\"] = pd.to_datetime(df[\"INSPECTION_DATE\"], format=\"%m/%d/%Y\")"
      ]
    },
    {
      "cell_type": "code",
      "execution_count": 49,
      "metadata": {
        "colab": {
          "base_uri": "https://localhost:8080/",
          "height": 303
        },
        "id": "MLq3GB1I7hud",
        "outputId": "f761ac92-b034-497c-b61c-de1db50409ea"
      },
      "outputs": [
        {
          "output_type": "execute_result",
          "data": {
            "text/plain": [
              "count                           285026\n",
              "mean     2022-05-13 21:30:34.013739776\n",
              "min                1900-01-01 00:00:00\n",
              "25%                2022-11-15 00:00:00\n",
              "50%                2023-11-01 00:00:00\n",
              "75%                2024-09-16 00:00:00\n",
              "max                2025-06-03 00:00:00\n",
              "Name: INSPECTION_DATE, dtype: object"
            ],
            "text/html": [
              "<div>\n",
              "<style scoped>\n",
              "    .dataframe tbody tr th:only-of-type {\n",
              "        vertical-align: middle;\n",
              "    }\n",
              "\n",
              "    .dataframe tbody tr th {\n",
              "        vertical-align: top;\n",
              "    }\n",
              "\n",
              "    .dataframe thead th {\n",
              "        text-align: right;\n",
              "    }\n",
              "</style>\n",
              "<table border=\"1\" class=\"dataframe\">\n",
              "  <thead>\n",
              "    <tr style=\"text-align: right;\">\n",
              "      <th></th>\n",
              "      <th>INSPECTION_DATE</th>\n",
              "    </tr>\n",
              "  </thead>\n",
              "  <tbody>\n",
              "    <tr>\n",
              "      <th>count</th>\n",
              "      <td>285026</td>\n",
              "    </tr>\n",
              "    <tr>\n",
              "      <th>mean</th>\n",
              "      <td>2022-05-13 21:30:34.013739776</td>\n",
              "    </tr>\n",
              "    <tr>\n",
              "      <th>min</th>\n",
              "      <td>1900-01-01 00:00:00</td>\n",
              "    </tr>\n",
              "    <tr>\n",
              "      <th>25%</th>\n",
              "      <td>2022-11-15 00:00:00</td>\n",
              "    </tr>\n",
              "    <tr>\n",
              "      <th>50%</th>\n",
              "      <td>2023-11-01 00:00:00</td>\n",
              "    </tr>\n",
              "    <tr>\n",
              "      <th>75%</th>\n",
              "      <td>2024-09-16 00:00:00</td>\n",
              "    </tr>\n",
              "    <tr>\n",
              "      <th>max</th>\n",
              "      <td>2025-06-03 00:00:00</td>\n",
              "    </tr>\n",
              "  </tbody>\n",
              "</table>\n",
              "</div><br><label><b>dtype:</b> object</label>"
            ]
          },
          "metadata": {},
          "execution_count": 49
        }
      ],
      "source": [
        "df.INSPECTION_DATE.describe()"
      ]
    },
    {
      "cell_type": "code",
      "execution_count": 50,
      "metadata": {
        "colab": {
          "base_uri": "https://localhost:8080/"
        },
        "id": "8R5jFOCF7hue",
        "outputId": "2d7d2d97-bacd-4c7b-b205-98c336fac84f"
      },
      "outputs": [
        {
          "output_type": "execute_result",
          "data": {
            "text/plain": [
              "0"
            ]
          },
          "metadata": {},
          "execution_count": 50
        }
      ],
      "source": [
        "sum(df.INSPECTION_DATE.isnull())"
      ]
    },
    {
      "cell_type": "code",
      "execution_count": 51,
      "metadata": {
        "colab": {
          "base_uri": "https://localhost:8080/",
          "height": 448
        },
        "id": "-uqR3Qy07hue",
        "outputId": "279d3164-19b1-4827-9d31-25e6e103abd6"
      },
      "outputs": [
        {
          "output_type": "execute_result",
          "data": {
            "text/plain": [
              "<Axes: >"
            ]
          },
          "metadata": {},
          "execution_count": 51
        },
        {
          "output_type": "display_data",
          "data": {
            "text/plain": [
              "<Figure size 640x480 with 1 Axes>"
            ],
            "image/png": "[encoded data removed]"
          },
          "metadata": {
            "image/png": {
              "width": 542,
              "height": 413
            }
          }
        }
      ],
      "source": [
        "df.INSPECTION_DATE.hist(range=(pd.to_datetime('2015-01-01'),pd.to_datetime('2015-12-31')), bins=12)"
      ]
    },
    {
      "cell_type": "code",
      "execution_count": 52,
      "metadata": {
        "id": "fh1QJw7o7hue"
      },
      "outputs": [],
      "source": [
        "# Drop the 1900-01-01 inspections. These are all incorrect and we cannot fix them\n",
        "df['TO_DELETE'] |= (df['INSPECTION_DATE'] == '1900-01-01')"
      ]
    },
    {
      "cell_type": "code",
      "execution_count": 53,
      "metadata": {
        "id": "48EiuFLT7hue"
      },
      "outputs": [],
      "source": [
        "# After analysis, it seems that we have minimal number of inspections before 2016\n",
        "df['TO_DELETE'] |=  (df['INSPECTION_DATE'] < '2016-01-01')"
      ]
    },
    {
      "cell_type": "code",
      "execution_count": 54,
      "metadata": {
        "colab": {
          "base_uri": "https://localhost:8080/"
        },
        "id": "Hg3vO4MJ7hue",
        "outputId": "bb78143b-2313-4290-d72c-d76c0f80dd3b"
      },
      "outputs": [
        {
          "output_type": "execute_result",
          "data": {
            "text/plain": [
              "79777"
            ]
          },
          "metadata": {},
          "execution_count": 54
        }
      ],
      "source": [
        "sum(df['TO_DELETE'])"
      ]
    },
    {
      "cell_type": "markdown",
      "metadata": {
        "id": "lcu3LsTs7hue"
      },
      "source": [
        "### ACTION"
      ]
    },
    {
      "cell_type": "code",
      "execution_count": 55,
      "metadata": {
        "colab": {
          "base_uri": "https://localhost:8080/"
        },
        "id": "_40DoGCF7huf",
        "outputId": "5596ad7f-67b3-4426-8216-91c1615ffdad"
      },
      "outputs": [
        {
          "output_type": "execute_result",
          "data": {
            "text/plain": [
              "3164"
            ]
          },
          "metadata": {},
          "execution_count": 55
        }
      ],
      "source": [
        "sum(df.ACTION.isnull())"
      ]
    },
    {
      "cell_type": "code",
      "execution_count": 56,
      "metadata": {
        "colab": {
          "base_uri": "https://localhost:8080/",
          "height": 289
        },
        "id": "kWpYN6Vb7huf",
        "outputId": "007d1bd0-04a0-47fe-c7c0-874ece4758b8"
      },
      "outputs": [
        {
          "output_type": "execute_result",
          "data": {
            "text/plain": [
              "ACTION\n",
              "Violations were cited in the following area(s).                                                                                       267125\n",
              "Establishment Closed by DOHMH. Violations were cited in the following area(s) and those requiring immediate action were addressed.      9636\n",
              "No violations were recorded at the time of this inspection.                                                                             1964\n",
              "Establishment re-opened by DOHMH.                                                                                                       1922\n",
              "Establishment re-closed by DOHMH.                                                                                                       1215\n",
              "Name: count, dtype: int64"
            ],
            "text/html": [
              "<div>\n",
              "<style scoped>\n",
              "    .dataframe tbody tr th:only-of-type {\n",
              "        vertical-align: middle;\n",
              "    }\n",
              "\n",
              "    .dataframe tbody tr th {\n",
              "        vertical-align: top;\n",
              "    }\n",
              "\n",
              "    .dataframe thead th {\n",
              "        text-align: right;\n",
              "    }\n",
              "</style>\n",
              "<table border=\"1\" class=\"dataframe\">\n",
              "  <thead>\n",
              "    <tr style=\"text-align: right;\">\n",
              "      <th></th>\n",
              "      <th>count</th>\n",
              "    </tr>\n",
              "    <tr>\n",
              "      <th>ACTION</th>\n",
              "      <th></th>\n",
              "    </tr>\n",
              "  </thead>\n",
              "  <tbody>\n",
              "    <tr>\n",
              "      <th>Violations were cited in the following area(s).</th>\n",
              "      <td>267125</td>\n",
              "    </tr>\n",
              "    <tr>\n",
              "      <th>Establishment Closed by DOHMH. Violations were cited in the following area(s) and those requiring immediate action were addressed.</th>\n",
              "      <td>9636</td>\n",
              "    </tr>\n",
              "    <tr>\n",
              "      <th>No violations were recorded at the time of this inspection.</th>\n",
              "      <td>1964</td>\n",
              "    </tr>\n",
              "    <tr>\n",
              "      <th>Establishment re-opened by DOHMH.</th>\n",
              "      <td>1922</td>\n",
              "    </tr>\n",
              "    <tr>\n",
              "      <th>Establishment re-closed by DOHMH.</th>\n",
              "      <td>1215</td>\n",
              "    </tr>\n",
              "  </tbody>\n",
              "</table>\n",
              "</div><br><label><b>dtype:</b> int64</label>"
            ]
          },
          "metadata": {},
          "execution_count": 56
        }
      ],
      "source": [
        "df[\"ACTION\"].value_counts()"
      ]
    },
    {
      "cell_type": "code",
      "execution_count": 57,
      "metadata": {
        "id": "V97p7THp7huf"
      },
      "outputs": [],
      "source": [
        "df[\"ACTION\"] = df[\"ACTION\"].replace(\n",
        "    to_replace='Violations were cited in the following area(s).',\n",
        "    value = 'Violations found',\n",
        ")"
      ]
    },
    {
      "cell_type": "code",
      "execution_count": 58,
      "metadata": {
        "id": "ZOAOtWnA7huf"
      },
      "outputs": [],
      "source": [
        "df[\"ACTION\"] = df[\"ACTION\"].replace(\n",
        "    to_replace='No violations were recorded at the time of this inspection.',\n",
        "    value = 'No violations'\n",
        ")"
      ]
    },
    {
      "cell_type": "code",
      "execution_count": 59,
      "metadata": {
        "id": "tSQ_90Wg7huf"
      },
      "outputs": [],
      "source": [
        "df[\"ACTION\"] = df[\"ACTION\"].replace(\n",
        "    to_replace='Establishment Closed by DOHMH. Violations were cited in the following area(s) and those requiring immediate action were addressed.',\n",
        "    value = 'Establishment closed'\n",
        ")"
      ]
    },
    {
      "cell_type": "code",
      "execution_count": 60,
      "metadata": {
        "id": "92dRzpXq7huf",
        "outputId": "96ace66b-1620-4f1d-80a1-5b54b3754557",
        "colab": {
          "base_uri": "https://localhost:8080/"
        }
      },
      "outputs": [
        {
          "output_type": "stream",
          "name": "stderr",
          "text": [
            "<ipython-input-60-743dc084ed30>:1: FutureWarning: A value is trying to be set on a copy of a DataFrame or Series through chained assignment using an inplace method.\n",
            "The behavior will change in pandas 3.0. This inplace method will never work because the intermediate object on which we are setting values always behaves as a copy.\n",
            "\n",
            "For example, when doing 'df[col].method(value, inplace=True)', try using 'df.method({col: value}, inplace=True)' or df[col] = df[col].method(value) instead, to perform the operation inplace on the original object.\n",
            "\n",
            "\n",
            "  df[\"ACTION\"].replace(\n"
          ]
        }
      ],
      "source": [
        "df[\"ACTION\"] = df[\"ACTION\"].replace(\n",
        "    to_replace='Establishment re-opened by DOHMH.',\n",
        "    value = 'Establishment re-opened',\n",
        ")"
      ]
    },
    {
      "cell_type": "code",
      "execution_count": 61,
      "metadata": {
        "id": "0Mwu12VK7huf",
        "outputId": "4c27823a-c5c0-49c9-a89d-8a81c45fb55e",
        "colab": {
          "base_uri": "https://localhost:8080/"
        }
      },
      "outputs": [
        {
          "output_type": "stream",
          "name": "stderr",
          "text": [
            "<ipython-input-61-e1988b6427a8>:1: FutureWarning: A value is trying to be set on a copy of a DataFrame or Series through chained assignment using an inplace method.\n",
            "The behavior will change in pandas 3.0. This inplace method will never work because the intermediate object on which we are setting values always behaves as a copy.\n",
            "\n",
            "For example, when doing 'df[col].method(value, inplace=True)', try using 'df.method({col: value}, inplace=True)' or df[col] = df[col].method(value) instead, to perform the operation inplace on the original object.\n",
            "\n",
            "\n",
            "  df[\"ACTION\"].replace(\n"
          ]
        }
      ],
      "source": [
        "df[\"ACTION\"] = df[\"ACTION\"].replace(\n",
        "    to_replace='Establishment re-closed by DOHMH.',\n",
        "    value = 'Establishment re-closed',\n",
        "\n",
        ")"
      ]
    },
    {
      "cell_type": "code",
      "execution_count": 62,
      "metadata": {
        "colab": {
          "base_uri": "https://localhost:8080/",
          "height": 272
        },
        "id": "lnQv6kIq7huf",
        "outputId": "9b0434ce-69d2-43a4-999d-76cca3dbc7a7"
      },
      "outputs": [
        {
          "output_type": "execute_result",
          "data": {
            "text/plain": [
              "ACTION\n",
              "Violations found           267125\n",
              "Establishment closed         9636\n",
              "No violations                1964\n",
              "Establishment re-opened      1922\n",
              "Establishment re-closed      1215\n",
              "Name: count, dtype: int64"
            ],
            "text/html": [
              "<div>\n",
              "<style scoped>\n",
              "    .dataframe tbody tr th:only-of-type {\n",
              "        vertical-align: middle;\n",
              "    }\n",
              "\n",
              "    .dataframe tbody tr th {\n",
              "        vertical-align: top;\n",
              "    }\n",
              "\n",
              "    .dataframe thead th {\n",
              "        text-align: right;\n",
              "    }\n",
              "</style>\n",
              "<table border=\"1\" class=\"dataframe\">\n",
              "  <thead>\n",
              "    <tr style=\"text-align: right;\">\n",
              "      <th></th>\n",
              "      <th>count</th>\n",
              "    </tr>\n",
              "    <tr>\n",
              "      <th>ACTION</th>\n",
              "      <th></th>\n",
              "    </tr>\n",
              "  </thead>\n",
              "  <tbody>\n",
              "    <tr>\n",
              "      <th>Violations found</th>\n",
              "      <td>267125</td>\n",
              "    </tr>\n",
              "    <tr>\n",
              "      <th>Establishment closed</th>\n",
              "      <td>9636</td>\n",
              "    </tr>\n",
              "    <tr>\n",
              "      <th>No violations</th>\n",
              "      <td>1964</td>\n",
              "    </tr>\n",
              "    <tr>\n",
              "      <th>Establishment re-opened</th>\n",
              "      <td>1922</td>\n",
              "    </tr>\n",
              "    <tr>\n",
              "      <th>Establishment re-closed</th>\n",
              "      <td>1215</td>\n",
              "    </tr>\n",
              "  </tbody>\n",
              "</table>\n",
              "</div><br><label><b>dtype:</b> int64</label>"
            ]
          },
          "metadata": {},
          "execution_count": 62
        }
      ],
      "source": [
        "df[\"ACTION\"].value_counts()"
      ]
    },
    {
      "cell_type": "code",
      "execution_count": 63,
      "metadata": {
        "id": "5zTccJNH7hug"
      },
      "outputs": [],
      "source": [
        "# Drop the Establishment re-opened and re-closed cases\n",
        "# as the inspection scores for these can be misleading\n",
        "df['TO_DELETE'] |=  (df.ACTION == 'Establishment re-closed')\n",
        "df['TO_DELETE'] |=  (df.ACTION == 'Establishment re-opened')\n",
        "df['TO_DELETE'] |=  df.ACTION.isnull()"
      ]
    },
    {
      "cell_type": "code",
      "execution_count": 64,
      "metadata": {
        "scrolled": true,
        "colab": {
          "base_uri": "https://localhost:8080/"
        },
        "id": "gwEOO7qV7hug",
        "outputId": "3919c20a-4bfb-4b9c-83da-d3f60b6256f5"
      },
      "outputs": [
        {
          "output_type": "execute_result",
          "data": {
            "text/plain": [
              "79777"
            ]
          },
          "metadata": {},
          "execution_count": 64
        }
      ],
      "source": [
        "sum(df['TO_DELETE'])"
      ]
    },
    {
      "cell_type": "markdown",
      "metadata": {
        "id": "3Ud65ck87hug"
      },
      "source": [
        "### SCORE"
      ]
    },
    {
      "cell_type": "code",
      "execution_count": 65,
      "metadata": {
        "id": "IL15v7LZ7hug"
      },
      "outputs": [],
      "source": [
        "df[\"SCORE\"] = pd.to_numeric(df[\"SCORE\"])"
      ]
    },
    {
      "cell_type": "code",
      "execution_count": 66,
      "metadata": {
        "colab": {
          "base_uri": "https://localhost:8080/",
          "height": 334
        },
        "id": "KAEoXrGb7hug",
        "outputId": "368006e2-6170-42e6-b4d6-daca8dd98a3d"
      },
      "outputs": [
        {
          "output_type": "execute_result",
          "data": {
            "text/plain": [
              "count    269991.000000\n",
              "mean         24.362223\n",
              "std          18.276591\n",
              "min           0.000000\n",
              "25%          12.000000\n",
              "50%          21.000000\n",
              "75%          32.000000\n",
              "max         168.000000\n",
              "Name: SCORE, dtype: float64"
            ],
            "text/html": [
              "<div>\n",
              "<style scoped>\n",
              "    .dataframe tbody tr th:only-of-type {\n",
              "        vertical-align: middle;\n",
              "    }\n",
              "\n",
              "    .dataframe tbody tr th {\n",
              "        vertical-align: top;\n",
              "    }\n",
              "\n",
              "    .dataframe thead th {\n",
              "        text-align: right;\n",
              "    }\n",
              "</style>\n",
              "<table border=\"1\" class=\"dataframe\">\n",
              "  <thead>\n",
              "    <tr style=\"text-align: right;\">\n",
              "      <th></th>\n",
              "      <th>SCORE</th>\n",
              "    </tr>\n",
              "  </thead>\n",
              "  <tbody>\n",
              "    <tr>\n",
              "      <th>count</th>\n",
              "      <td>269991.000000</td>\n",
              "    </tr>\n",
              "    <tr>\n",
              "      <th>mean</th>\n",
              "      <td>24.362223</td>\n",
              "    </tr>\n",
              "    <tr>\n",
              "      <th>std</th>\n",
              "      <td>18.276591</td>\n",
              "    </tr>\n",
              "    <tr>\n",
              "      <th>min</th>\n",
              "      <td>0.000000</td>\n",
              "    </tr>\n",
              "    <tr>\n",
              "      <th>25%</th>\n",
              "      <td>12.000000</td>\n",
              "    </tr>\n",
              "    <tr>\n",
              "      <th>50%</th>\n",
              "      <td>21.000000</td>\n",
              "    </tr>\n",
              "    <tr>\n",
              "      <th>75%</th>\n",
              "      <td>32.000000</td>\n",
              "    </tr>\n",
              "    <tr>\n",
              "      <th>max</th>\n",
              "      <td>168.000000</td>\n",
              "    </tr>\n",
              "  </tbody>\n",
              "</table>\n",
              "</div><br><label><b>dtype:</b> float64</label>"
            ]
          },
          "metadata": {},
          "execution_count": 66
        }
      ],
      "source": [
        "df.SCORE.describe()"
      ]
    },
    {
      "cell_type": "code",
      "execution_count": 67,
      "metadata": {
        "colab": {
          "base_uri": "https://localhost:8080/"
        },
        "id": "4tWt6Mmt7hug",
        "outputId": "b0f74c63-fa7c-4293-a905-ba5e5e61a582"
      },
      "outputs": [
        {
          "output_type": "execute_result",
          "data": {
            "text/plain": [
              "285026"
            ]
          },
          "metadata": {},
          "execution_count": 67
        }
      ],
      "source": [
        "len(df)"
      ]
    },
    {
      "cell_type": "code",
      "execution_count": 68,
      "metadata": {
        "colab": {
          "base_uri": "https://localhost:8080/"
        },
        "id": "S5YIIcHC7hug",
        "outputId": "4f568647-9669-4b10-9d28-43c99ebd77ec"
      },
      "outputs": [
        {
          "output_type": "execute_result",
          "data": {
            "text/plain": [
              "0"
            ]
          },
          "metadata": {},
          "execution_count": 68
        }
      ],
      "source": [
        "len( df[ df.SCORE < 0 ] )"
      ]
    },
    {
      "cell_type": "code",
      "execution_count": 69,
      "metadata": {
        "id": "EETxYPe_7hug"
      },
      "outputs": [],
      "source": [
        "df['TO_DELETE'] |= (df.SCORE < 0)"
      ]
    },
    {
      "cell_type": "code",
      "execution_count": 70,
      "metadata": {
        "colab": {
          "base_uri": "https://localhost:8080/"
        },
        "id": "-V2-GgF_7huh",
        "outputId": "1699842f-2639-4e33-ee7a-3407eb4d35eb"
      },
      "outputs": [
        {
          "output_type": "execute_result",
          "data": {
            "text/plain": [
              "79777"
            ]
          },
          "metadata": {},
          "execution_count": 70
        }
      ],
      "source": [
        "sum(df['TO_DELETE'])"
      ]
    },
    {
      "cell_type": "code",
      "execution_count": 71,
      "metadata": {
        "id": "GQN7NNH_7huh"
      },
      "outputs": [],
      "source": [
        "# Drop cases reported as \"no violations but with positive score\"\n",
        "df['TO_DELETE'] |= ((df.SCORE > 0)  & (df.ACTION == 'No violations'))\n",
        "\n",
        "# Drop cases with zero score but with violations found\n",
        "df['TO_DELETE'] |= ((df.SCORE == 0)  & (df.ACTION == 'Violations found'))"
      ]
    },
    {
      "cell_type": "code",
      "execution_count": 72,
      "metadata": {
        "id": "Cy2-9jue7huh"
      },
      "outputs": [],
      "source": [
        "# Drop incorrectly scored inspections\n",
        "df['TO_DELETE'] |=  (df.GRADE=='A') & (df.SCORE>13)\n",
        "\n",
        "df['TO_DELETE'] |=  (df.GRADE=='B') & ( (df.SCORE<14) | (df.SCORE>27) )\n",
        "\n",
        "# Drop incorrectly scored inspections\n",
        "df['TO_DELETE'] |=  (df.GRADE=='C') & (df.SCORE<28)\n"
      ]
    },
    {
      "cell_type": "code",
      "execution_count": 73,
      "metadata": {
        "colab": {
          "base_uri": "https://localhost:8080/"
        },
        "id": "gMec_fnF7huh",
        "outputId": "5fff76b0-77b3-44c7-e4d5-5d49d0c30ce5"
      },
      "outputs": [
        {
          "output_type": "execute_result",
          "data": {
            "text/plain": [
              "85466"
            ]
          },
          "metadata": {},
          "execution_count": 73
        }
      ],
      "source": [
        "sum(df['TO_DELETE'])"
      ]
    },
    {
      "cell_type": "markdown",
      "metadata": {
        "id": "dfm8FdW87huh"
      },
      "source": [
        "### RECORD_DATE"
      ]
    },
    {
      "cell_type": "code",
      "execution_count": 74,
      "metadata": {
        "id": "M3_voJ1r7huh"
      },
      "outputs": [],
      "source": [
        "df[\"RECORD_DATE\"] = pd.to_datetime(df[\"RECORD_DATE\"], format=\"%m/%d/%Y\")"
      ]
    },
    {
      "cell_type": "code",
      "execution_count": 75,
      "metadata": {
        "id": "sMgUFCK97huh"
      },
      "outputs": [],
      "source": [
        "# Drop record date field, as it only contains a single value\n",
        "df = df.drop( 'RECORD_DATE', axis = 'columns')"
      ]
    },
    {
      "cell_type": "markdown",
      "metadata": {
        "id": "7psVURc27huh"
      },
      "source": [
        "### GRADE"
      ]
    },
    {
      "cell_type": "code",
      "execution_count": 76,
      "metadata": {
        "colab": {
          "base_uri": "https://localhost:8080/",
          "height": 303
        },
        "id": "NFNpK24R7hui",
        "outputId": "cd6d827d-1643-4135-84f7-76243f08a99c"
      },
      "outputs": [
        {
          "output_type": "execute_result",
          "data": {
            "text/plain": [
              "GRADE\n",
              "A    95121\n",
              "B    16937\n",
              "C    11333\n",
              "N     9002\n",
              "Z     5412\n",
              "P      919\n",
              "Name: count, dtype: int64"
            ],
            "text/html": [
              "<div>\n",
              "<style scoped>\n",
              "    .dataframe tbody tr th:only-of-type {\n",
              "        vertical-align: middle;\n",
              "    }\n",
              "\n",
              "    .dataframe tbody tr th {\n",
              "        vertical-align: top;\n",
              "    }\n",
              "\n",
              "    .dataframe thead th {\n",
              "        text-align: right;\n",
              "    }\n",
              "</style>\n",
              "<table border=\"1\" class=\"dataframe\">\n",
              "  <thead>\n",
              "    <tr style=\"text-align: right;\">\n",
              "      <th></th>\n",
              "      <th>count</th>\n",
              "    </tr>\n",
              "    <tr>\n",
              "      <th>GRADE</th>\n",
              "      <th></th>\n",
              "    </tr>\n",
              "  </thead>\n",
              "  <tbody>\n",
              "    <tr>\n",
              "      <th>A</th>\n",
              "      <td>95121</td>\n",
              "    </tr>\n",
              "    <tr>\n",
              "      <th>B</th>\n",
              "      <td>16937</td>\n",
              "    </tr>\n",
              "    <tr>\n",
              "      <th>C</th>\n",
              "      <td>11333</td>\n",
              "    </tr>\n",
              "    <tr>\n",
              "      <th>N</th>\n",
              "      <td>9002</td>\n",
              "    </tr>\n",
              "    <tr>\n",
              "      <th>Z</th>\n",
              "      <td>5412</td>\n",
              "    </tr>\n",
              "    <tr>\n",
              "      <th>P</th>\n",
              "      <td>919</td>\n",
              "    </tr>\n",
              "  </tbody>\n",
              "</table>\n",
              "</div><br><label><b>dtype:</b> int64</label>"
            ]
          },
          "metadata": {},
          "execution_count": 76
        }
      ],
      "source": [
        "df.GRADE.value_counts()"
      ]
    },
    {
      "cell_type": "code",
      "execution_count": 77,
      "metadata": {
        "colab": {
          "base_uri": "https://localhost:8080/"
        },
        "id": "xAYPd7Mi7hui",
        "outputId": "a8c90353-55ef-4da5-8c2b-a33a95ab0822"
      },
      "outputs": [
        {
          "output_type": "execute_result",
          "data": {
            "text/plain": [
              "146302"
            ]
          },
          "metadata": {},
          "execution_count": 77
        }
      ],
      "source": [
        "sum(df.GRADE.isnull())"
      ]
    },
    {
      "cell_type": "code",
      "execution_count": 78,
      "metadata": {
        "id": "X6w-881R7huj",
        "outputId": "54d6549c-c50b-400c-ad54-7f1a9d0af73b",
        "colab": {
          "base_uri": "https://localhost:8080/",
          "height": 773
        }
      },
      "outputs": [
        {
          "output_type": "execute_result",
          "data": {
            "text/plain": [
              "           CAMIS                        DBA       BORO BUILDING  \\\n",
              "100     50163390              CHARCOAL EATS  Manhattan      370   \n",
              "148     50159179                 THE PARLOR     Queens     1903   \n",
              "280     50149099            LIV KTV & PARTY     Queens     3641   \n",
              "321     50100724                      DA-OM     Queens    21619   \n",
              "566     50148137    GYRO AND KASHMIRI PIZZA   Brooklyn     5011   \n",
              "...          ...                        ...        ...      ...   \n",
              "284765  50164282                       IHOP   Brooklyn     2244   \n",
              "284904  50165178         Richmond Pizza Hut     Queens    11222   \n",
              "284955  50150383        BUDDA KITCHEN & BAR  Manhattan     4325   \n",
              "284978  50154007  D'BICHOTE ANTOJITOS & MAS  Manhattan     3515   \n",
              "284984  50160337              EMMONS PALACE   Brooklyn     2265   \n",
              "\n",
              "                  STREET ZIPCODE       PHONE CUISINE_DESCRIPTION  \\\n",
              "100     LEXINGTON AVENUE   10017  7033473629              Indian   \n",
              "148          UTOPIA PKWY   11357  9175778570               Pizza   \n",
              "280              MAIN ST   11354  9296808888            American   \n",
              "321        NORTHERN BLVD   11361  7187724618              Korean   \n",
              "566             AVENUE N   11234  6313473719              Indian   \n",
              "...                  ...     ...         ...                 ...   \n",
              "284765     CHURCH AVENUE   11226  7182874467    Pancakes/Waffles   \n",
              "284904         101ST AVE   11419  3475536506              Fusion   \n",
              "284955          BROADWAY   10033  7324858872      Latin American   \n",
              "284978          BROADWAY   10031  7185843333             Spanish   \n",
              "284984     EMMONS AVENUE   11235  7186161272             Russian   \n",
              "\n",
              "       INSPECTION_DATE                ACTION  ...  \\\n",
              "100         2025-04-16      Violations found  ...   \n",
              "148         2025-04-01      Violations found  ...   \n",
              "280         2024-04-04         No violations  ...   \n",
              "321         2025-05-08      Violations found  ...   \n",
              "566         2024-05-01      Violations found  ...   \n",
              "...                ...                   ...  ...   \n",
              "284765      2025-04-29      Violations found  ...   \n",
              "284904      2025-04-24      Violations found  ...   \n",
              "284955      2025-02-19      Violations found  ...   \n",
              "284978      2025-03-19  Establishment closed  ...   \n",
              "284984      2025-02-26      Violations found  ...   \n",
              "\n",
              "                                          INSPECTION_TYPE         LATITUDE  \\\n",
              "100         Pre-permit (Operational) / Initial Inspection   40.75063901798   \n",
              "148         Pre-permit (Operational) / Initial Inspection   40.78031949024   \n",
              "280     Pre-permit (Non-operational) / Initial Inspection  40.762268068977   \n",
              "321                                    Initial Inspection  40.760842746132   \n",
              "566         Pre-permit (Operational) / Initial Inspection  40.618964832621   \n",
              "...                                                   ...              ...   \n",
              "284765      Pre-permit (Operational) / Initial Inspection   40.65041654897   \n",
              "284904      Pre-permit (Operational) / Initial Inspection   40.68835144508   \n",
              "284955      Pre-permit (Operational) / Initial Inspection  40.852365095594   \n",
              "284978      Pre-permit (Operational) / Initial Inspection  40.825664212619   \n",
              "284984      Pre-permit (Operational) / Initial Inspection  40.583676927803   \n",
              "\n",
              "               LONGITUDE  COMMUNITY_BOARD COUNCIL_DISTRICT CENSUS_TRACT  \\\n",
              "100     -73.976641186014              105               04       008000   \n",
              "148     -73.793984131376              407               19       099701   \n",
              "280      -73.83153932375              407               20       086900   \n",
              "321     -73.765437118855              411               19       147100   \n",
              "566     -73.926658370946              318               46       068000   \n",
              "...                  ...              ...              ...          ...   \n",
              "284765  -73.957825096973              314               40       079400   \n",
              "284904  -73.831586161932              409               29       010800   \n",
              "284955  -73.934627200485              112               10       027100   \n",
              "284978  -73.951014542162              109               07       022900   \n",
              "284984  -73.944543236905              315               48       060800   \n",
              "\n",
              "            BIN         BBL   NTA TO_DELETE  \n",
              "100     1036150  1012950058  MN20      True  \n",
              "148     4129769  4057840100  QN47      True  \n",
              "280     4112334  4049770007  QN22      True  \n",
              "321     4138501  4063100023  QN46     False  \n",
              "566     3219955  3078750006  BK58      True  \n",
              "...         ...         ...   ...       ...  \n",
              "284765  3117228  3051030042  BK95      True  \n",
              "284904  4539299  4094300007  QN54      True  \n",
              "284955  1064423  1021800120  MN35      True  \n",
              "284978  1062362  1020900036  MN04      True  \n",
              "284984  3342943  3087830064  BK17      True  \n",
              "\n",
              "[9002 rows x 26 columns]"
            ],
            "text/html": [
              "\n",
              "  <div id=\"df-57c49b81-ea7f-4f19-a911-0061058c3a28\" class=\"colab-df-container\">\n",
              "    <div>\n",
              "<style scoped>\n",
              "    .dataframe tbody tr th:only-of-type {\n",
              "        vertical-align: middle;\n",
              "    }\n",
              "\n",
              "    .dataframe tbody tr th {\n",
              "        vertical-align: top;\n",
              "    }\n",
              "\n",
              "    .dataframe thead th {\n",
              "        text-align: right;\n",
              "    }\n",
              "</style>\n",
              "<table border=\"1\" class=\"dataframe\">\n",
              "  <thead>\n",
              "    <tr style=\"text-align: right;\">\n",
              "      <th></th>\n",
              "      <th>CAMIS</th>\n",
              "      <th>DBA</th>\n",
              "      <th>BORO</th>\n",
              "      <th>BUILDING</th>\n",
              "      <th>STREET</th>\n",
              "      <th>ZIPCODE</th>\n",
              "      <th>PHONE</th>\n",
              "      <th>CUISINE_DESCRIPTION</th>\n",
              "      <th>INSPECTION_DATE</th>\n",
              "      <th>ACTION</th>\n",
              "      <th>...</th>\n",
              "      <th>INSPECTION_TYPE</th>\n",
              "      <th>LATITUDE</th>\n",
              "      <th>LONGITUDE</th>\n",
              "      <th>COMMUNITY_BOARD</th>\n",
              "      <th>COUNCIL_DISTRICT</th>\n",
              "      <th>CENSUS_TRACT</th>\n",
              "      <th>BIN</th>\n",
              "      <th>BBL</th>\n",
              "      <th>NTA</th>\n",
              "      <th>TO_DELETE</th>\n",
              "    </tr>\n",
              "  </thead>\n",
              "  <tbody>\n",
              "    <tr>\n",
              "      <th>100</th>\n",
              "      <td>50163390</td>\n",
              "      <td>CHARCOAL EATS</td>\n",
              "      <td>Manhattan</td>\n",
              "      <td>370</td>\n",
              "      <td>LEXINGTON AVENUE</td>\n",
              "      <td>10017</td>\n",
              "      <td>7033473629</td>\n",
              "      <td>Indian</td>\n",
              "      <td>2025-04-16</td>\n",
              "      <td>Violations found</td>\n",
              "      <td>...</td>\n",
              "      <td>Pre-permit (Operational) / Initial Inspection</td>\n",
              "      <td>40.75063901798</td>\n",
              "      <td>-73.976641186014</td>\n",
              "      <td>105</td>\n",
              "      <td>04</td>\n",
              "      <td>008000</td>\n",
              "      <td>1036150</td>\n",
              "      <td>1012950058</td>\n",
              "      <td>MN20</td>\n",
              "      <td>True</td>\n",
              "    </tr>\n",
              "    <tr>\n",
              "      <th>148</th>\n",
              "      <td>50159179</td>\n",
              "      <td>THE PARLOR</td>\n",
              "      <td>Queens</td>\n",
              "      <td>1903</td>\n",
              "      <td>UTOPIA PKWY</td>\n",
              "      <td>11357</td>\n",
              "      <td>9175778570</td>\n",
              "      <td>Pizza</td>\n",
              "      <td>2025-04-01</td>\n",
              "      <td>Violations found</td>\n",
              "      <td>...</td>\n",
              "      <td>Pre-permit (Operational) / Initial Inspection</td>\n",
              "      <td>40.78031949024</td>\n",
              "      <td>-73.793984131376</td>\n",
              "      <td>407</td>\n",
              "      <td>19</td>\n",
              "      <td>099701</td>\n",
              "      <td>4129769</td>\n",
              "      <td>4057840100</td>\n",
              "      <td>QN47</td>\n",
              "      <td>True</td>\n",
              "    </tr>\n",
              "    <tr>\n",
              "      <th>280</th>\n",
              "      <td>50149099</td>\n",
              "      <td>LIV KTV &amp; PARTY</td>\n",
              "      <td>Queens</td>\n",
              "      <td>3641</td>\n",
              "      <td>MAIN ST</td>\n",
              "      <td>11354</td>\n",
              "      <td>9296808888</td>\n",
              "      <td>American</td>\n",
              "      <td>2024-04-04</td>\n",
              "      <td>No violations</td>\n",
              "      <td>...</td>\n",
              "      <td>Pre-permit (Non-operational) / Initial Inspection</td>\n",
              "      <td>40.762268068977</td>\n",
              "      <td>-73.83153932375</td>\n",
              "      <td>407</td>\n",
              "      <td>20</td>\n",
              "      <td>086900</td>\n",
              "      <td>4112334</td>\n",
              "      <td>4049770007</td>\n",
              "      <td>QN22</td>\n",
              "      <td>True</td>\n",
              "    </tr>\n",
              "    <tr>\n",
              "      <th>321</th>\n",
              "      <td>50100724</td>\n",
              "      <td>DA-OM</td>\n",
              "      <td>Queens</td>\n",
              "      <td>21619</td>\n",
              "      <td>NORTHERN BLVD</td>\n",
              "      <td>11361</td>\n",
              "      <td>7187724618</td>\n",
              "      <td>Korean</td>\n",
              "      <td>2025-05-08</td>\n",
              "      <td>Violations found</td>\n",
              "      <td>...</td>\n",
              "      <td>Initial Inspection</td>\n",
              "      <td>40.760842746132</td>\n",
              "      <td>-73.765437118855</td>\n",
              "      <td>411</td>\n",
              "      <td>19</td>\n",
              "      <td>147100</td>\n",
              "      <td>4138501</td>\n",
              "      <td>4063100023</td>\n",
              "      <td>QN46</td>\n",
              "      <td>False</td>\n",
              "    </tr>\n",
              "    <tr>\n",
              "      <th>566</th>\n",
              "      <td>50148137</td>\n",
              "      <td>GYRO AND KASHMIRI PIZZA</td>\n",
              "      <td>Brooklyn</td>\n",
              "      <td>5011</td>\n",
              "      <td>AVENUE N</td>\n",
              "      <td>11234</td>\n",
              "      <td>6313473719</td>\n",
              "      <td>Indian</td>\n",
              "      <td>2024-05-01</td>\n",
              "      <td>Violations found</td>\n",
              "      <td>...</td>\n",
              "      <td>Pre-permit (Operational) / Initial Inspection</td>\n",
              "      <td>40.618964832621</td>\n",
              "      <td>-73.926658370946</td>\n",
              "      <td>318</td>\n",
              "      <td>46</td>\n",
              "      <td>068000</td>\n",
              "      <td>3219955</td>\n",
              "      <td>3078750006</td>\n",
              "      <td>BK58</td>\n",
              "      <td>True</td>\n",
              "    </tr>\n",
              "    <tr>\n",
              "      <th>...</th>\n",
              "      <td>...</td>\n",
              "      <td>...</td>\n",
              "      <td>...</td>\n",
              "      <td>...</td>\n",
              "      <td>...</td>\n",
              "      <td>...</td>\n",
              "      <td>...</td>\n",
              "      <td>...</td>\n",
              "      <td>...</td>\n",
              "      <td>...</td>\n",
              "      <td>...</td>\n",
              "      <td>...</td>\n",
              "      <td>...</td>\n",
              "      <td>...</td>\n",
              "      <td>...</td>\n",
              "      <td>...</td>\n",
              "      <td>...</td>\n",
              "      <td>...</td>\n",
              "      <td>...</td>\n",
              "      <td>...</td>\n",
              "      <td>...</td>\n",
              "    </tr>\n",
              "    <tr>\n",
              "      <th>284765</th>\n",
              "      <td>50164282</td>\n",
              "      <td>IHOP</td>\n",
              "      <td>Brooklyn</td>\n",
              "      <td>2244</td>\n",
              "      <td>CHURCH AVENUE</td>\n",
              "      <td>11226</td>\n",
              "      <td>7182874467</td>\n",
              "      <td>Pancakes/Waffles</td>\n",
              "      <td>2025-04-29</td>\n",
              "      <td>Violations found</td>\n",
              "      <td>...</td>\n",
              "      <td>Pre-permit (Operational) / Initial Inspection</td>\n",
              "      <td>40.65041654897</td>\n",
              "      <td>-73.957825096973</td>\n",
              "      <td>314</td>\n",
              "      <td>40</td>\n",
              "      <td>079400</td>\n",
              "      <td>3117228</td>\n",
              "      <td>3051030042</td>\n",
              "      <td>BK95</td>\n",
              "      <td>True</td>\n",
              "    </tr>\n",
              "    <tr>\n",
              "      <th>284904</th>\n",
              "      <td>50165178</td>\n",
              "      <td>Richmond Pizza Hut</td>\n",
              "      <td>Queens</td>\n",
              "      <td>11222</td>\n",
              "      <td>101ST AVE</td>\n",
              "      <td>11419</td>\n",
              "      <td>3475536506</td>\n",
              "      <td>Fusion</td>\n",
              "      <td>2025-04-24</td>\n",
              "      <td>Violations found</td>\n",
              "      <td>...</td>\n",
              "      <td>Pre-permit (Operational) / Initial Inspection</td>\n",
              "      <td>40.68835144508</td>\n",
              "      <td>-73.831586161932</td>\n",
              "      <td>409</td>\n",
              "      <td>29</td>\n",
              "      <td>010800</td>\n",
              "      <td>4539299</td>\n",
              "      <td>4094300007</td>\n",
              "      <td>QN54</td>\n",
              "      <td>True</td>\n",
              "    </tr>\n",
              "    <tr>\n",
              "      <th>284955</th>\n",
              "      <td>50150383</td>\n",
              "      <td>BUDDA KITCHEN &amp; BAR</td>\n",
              "      <td>Manhattan</td>\n",
              "      <td>4325</td>\n",
              "      <td>BROADWAY</td>\n",
              "      <td>10033</td>\n",
              "      <td>7324858872</td>\n",
              "      <td>Latin American</td>\n",
              "      <td>2025-02-19</td>\n",
              "      <td>Violations found</td>\n",
              "      <td>...</td>\n",
              "      <td>Pre-permit (Operational) / Initial Inspection</td>\n",
              "      <td>40.852365095594</td>\n",
              "      <td>-73.934627200485</td>\n",
              "      <td>112</td>\n",
              "      <td>10</td>\n",
              "      <td>027100</td>\n",
              "      <td>1064423</td>\n",
              "      <td>1021800120</td>\n",
              "      <td>MN35</td>\n",
              "      <td>True</td>\n",
              "    </tr>\n",
              "    <tr>\n",
              "      <th>284978</th>\n",
              "      <td>50154007</td>\n",
              "      <td>D'BICHOTE ANTOJITOS &amp; MAS</td>\n",
              "      <td>Manhattan</td>\n",
              "      <td>3515</td>\n",
              "      <td>BROADWAY</td>\n",
              "      <td>10031</td>\n",
              "      <td>7185843333</td>\n",
              "      <td>Spanish</td>\n",
              "      <td>2025-03-19</td>\n",
              "      <td>Establishment closed</td>\n",
              "      <td>...</td>\n",
              "      <td>Pre-permit (Operational) / Initial Inspection</td>\n",
              "      <td>40.825664212619</td>\n",
              "      <td>-73.951014542162</td>\n",
              "      <td>109</td>\n",
              "      <td>07</td>\n",
              "      <td>022900</td>\n",
              "      <td>1062362</td>\n",
              "      <td>1020900036</td>\n",
              "      <td>MN04</td>\n",
              "      <td>True</td>\n",
              "    </tr>\n",
              "    <tr>\n",
              "      <th>284984</th>\n",
              "      <td>50160337</td>\n",
              "      <td>EMMONS PALACE</td>\n",
              "      <td>Brooklyn</td>\n",
              "      <td>2265</td>\n",
              "      <td>EMMONS AVENUE</td>\n",
              "      <td>11235</td>\n",
              "      <td>7186161272</td>\n",
              "      <td>Russian</td>\n",
              "      <td>2025-02-26</td>\n",
              "      <td>Violations found</td>\n",
              "      <td>...</td>\n",
              "      <td>Pre-permit (Operational) / Initial Inspection</td>\n",
              "      <td>40.583676927803</td>\n",
              "      <td>-73.944543236905</td>\n",
              "      <td>315</td>\n",
              "      <td>48</td>\n",
              "      <td>060800</td>\n",
              "      <td>3342943</td>\n",
              "      <td>3087830064</td>\n",
              "      <td>BK17</td>\n",
              "      <td>True</td>\n",
              "    </tr>\n",
              "  </tbody>\n",
              "</table>\n",
              "<p>9002 rows × 26 columns</p>\n",
              "</div>\n",
              "    <div class=\"colab-df-buttons\">\n",
              "\n",
              "  <div class=\"colab-df-container\">\n",
              "    <button class=\"colab-df-convert\" onclick=\"convertToInteractive('df-57c49b81-ea7f-4f19-a911-0061058c3a28')\"\n",
              "            title=\"Convert this dataframe to an interactive table.\"\n",
              "            style=\"display:none;\">\n",
              "\n",
              "  <svg xmlns=\"http://www.w3.org/2000/svg\" height=\"24px\" viewBox=\"0 -960 960 960\">\n",
              "    <path d=\"M120-120v-720h720v720H120Zm60-500h600v-160H180v160Zm220 220h160v-160H400v160Zm0 220h160v-160H400v160ZM180-400h160v-160H180v160Zm440 0h160v-160H620v160ZM180-180h160v-160H180v160Zm440 0h160v-160H620v160Z\"/>\n",
              "  </svg>\n",
              "    </button>\n",
              "\n",
              "  <style>\n",
              "    .colab-df-container {\n",
              "      display:flex;\n",
              "      gap: 12px;\n",
              "    }\n",
              "\n",
              "    .colab-df-convert {\n",
              "      background-color: #E8F0FE;\n",
              "      border: none;\n",
              "      border-radius: 50%;\n",
              "      cursor: pointer;\n",
              "      display: none;\n",
              "      fill: #1967D2;\n",
              "      height: 32px;\n",
              "      padding: 0 0 0 0;\n",
              "      width: 32px;\n",
              "    }\n",
              "\n",
              "    .colab-df-convert:hover {\n",
              "      background-color: #E2EBFA;\n",
              "      box-shadow: 0px 1px 2px rgba(60, 64, 67, 0.3), 0px 1px 3px 1px rgba(60, 64, 67, 0.15);\n",
              "      fill: #174EA6;\n",
              "    }\n",
              "\n",
              "    .colab-df-buttons div {\n",
              "      margin-bottom: 4px;\n",
              "    }\n",
              "\n",
              "    [theme=dark] .colab-df-convert {\n",
              "      background-color: #3B4455;\n",
              "      fill: #D2E3FC;\n",
              "    }\n",
              "\n",
              "    [theme=dark] .colab-df-convert:hover {\n",
              "      background-color: #434B5C;\n",
              "      box-shadow: 0px 1px 3px 1px rgba(0, 0, 0, 0.15);\n",
              "      filter: drop-shadow(0px 1px 2px rgba(0, 0, 0, 0.3));\n",
              "      fill: #FFFFFF;\n",
              "    }\n",
              "  </style>\n",
              "\n",
              "    <script>\n",
              "      const buttonEl =\n",
              "        document.querySelector('#df-57c49b81-ea7f-4f19-a911-0061058c3a28 button.colab-df-convert');\n",
              "      buttonEl.style.display =\n",
              "        google.colab.kernel.accessAllowed ? 'block' : 'none';\n",
              "\n",
              "      async function convertToInteractive(key) {\n",
              "        const element = document.querySelector('#df-57c49b81-ea7f-4f19-a911-0061058c3a28');\n",
              "        const dataTable =\n",
              "          await google.colab.kernel.invokeFunction('convertToInteractive',\n",
              "                                                    [key], {});\n",
              "        if (!dataTable) return;\n",
              "\n",
              "        const docLinkHtml = 'Like what you see? Visit the ' +\n",
              "          '<a target=\"_blank\" href=https://colab.research.google.com/notebooks/data_table.ipynb>data table notebook</a>'\n",
              "          + ' to learn more about interactive tables.';\n",
              "        element.innerHTML = '';\n",
              "        dataTable['output_type'] = 'display_data';\n",
              "        await google.colab.output.renderOutput(dataTable, element);\n",
              "        const docLink = document.createElement('div');\n",
              "        docLink.innerHTML = docLinkHtml;\n",
              "        element.appendChild(docLink);\n",
              "      }\n",
              "    </script>\n",
              "  </div>\n",
              "\n",
              "\n",
              "    <div id=\"df-3ed849e3-1932-446c-b572-0c313b304439\">\n",
              "      <button class=\"colab-df-quickchart\" onclick=\"quickchart('df-3ed849e3-1932-446c-b572-0c313b304439')\"\n",
              "                title=\"Suggest charts\"\n",
              "                style=\"display:none;\">\n",
              "\n",
              "<svg xmlns=\"http://www.w3.org/2000/svg\" height=\"24px\"viewBox=\"0 0 24 24\"\n",
              "     width=\"24px\">\n",
              "    <g>\n",
              "        <path d=\"M19 3H5c-1.1 0-2 .9-2 2v14c0 1.1.9 2 2 2h14c1.1 0 2-.9 2-2V5c0-1.1-.9-2-2-2zM9 17H7v-7h2v7zm4 0h-2V7h2v10zm4 0h-2v-4h2v4z\"/>\n",
              "    </g>\n",
              "</svg>\n",
              "      </button>\n",
              "\n",
              "<style>\n",
              "  .colab-df-quickchart {\n",
              "      --bg-color: #E8F0FE;\n",
              "      --fill-color: #1967D2;\n",
              "      --hover-bg-color: #E2EBFA;\n",
              "      --hover-fill-color: #174EA6;\n",
              "      --disabled-fill-color: #AAA;\n",
              "      --disabled-bg-color: #DDD;\n",
              "  }\n",
              "\n",
              "  [theme=dark] .colab-df-quickchart {\n",
              "      --bg-color: #3B4455;\n",
              "      --fill-color: #D2E3FC;\n",
              "      --hover-bg-color: #434B5C;\n",
              "      --hover-fill-color: #FFFFFF;\n",
              "      --disabled-bg-color: #3B4455;\n",
              "      --disabled-fill-color: #666;\n",
              "  }\n",
              "\n",
              "  .colab-df-quickchart {\n",
              "    background-color: var(--bg-color);\n",
              "    border: none;\n",
              "    border-radius: 50%;\n",
              "    cursor: pointer;\n",
              "    display: none;\n",
              "    fill: var(--fill-color);\n",
              "    height: 32px;\n",
              "    padding: 0;\n",
              "    width: 32px;\n",
              "  }\n",
              "\n",
              "  .colab-df-quickchart:hover {\n",
              "    background-color: var(--hover-bg-color);\n",
              "    box-shadow: 0 1px 2px rgba(60, 64, 67, 0.3), 0 1px 3px 1px rgba(60, 64, 67, 0.15);\n",
              "    fill: var(--button-hover-fill-color);\n",
              "  }\n",
              "\n",
              "  .colab-df-quickchart-complete:disabled,\n",
              "  .colab-df-quickchart-complete:disabled:hover {\n",
              "    background-color: var(--disabled-bg-color);\n",
              "    fill: var(--disabled-fill-color);\n",
              "    box-shadow: none;\n",
              "  }\n",
              "\n",
              "  .colab-df-spinner {\n",
              "    border: 2px solid var(--fill-color);\n",
              "    border-color: transparent;\n",
              "    border-bottom-color: var(--fill-color);\n",
              "    animation:\n",
              "      spin 1s steps(1) infinite;\n",
              "  }\n",
              "\n",
              "  @keyframes spin {\n",
              "    0% {\n",
              "      border-color: transparent;\n",
              "      border-bottom-color: var(--fill-color);\n",
              "      border-left-color: var(--fill-color);\n",
              "    }\n",
              "    20% {\n",
              "      border-color: transparent;\n",
              "      border-left-color: var(--fill-color);\n",
              "      border-top-color: var(--fill-color);\n",
              "    }\n",
              "    30% {\n",
              "      border-color: transparent;\n",
              "      border-left-color: var(--fill-color);\n",
              "      border-top-color: var(--fill-color);\n",
              "      border-right-color: var(--fill-color);\n",
              "    }\n",
              "    40% {\n",
              "      border-color: transparent;\n",
              "      border-right-color: var(--fill-color);\n",
              "      border-top-color: var(--fill-color);\n",
              "    }\n",
              "    60% {\n",
              "      border-color: transparent;\n",
              "      border-right-color: var(--fill-color);\n",
              "    }\n",
              "    80% {\n",
              "      border-color: transparent;\n",
              "      border-right-color: var(--fill-color);\n",
              "      border-bottom-color: var(--fill-color);\n",
              "    }\n",
              "    90% {\n",
              "      border-color: transparent;\n",
              "      border-bottom-color: var(--fill-color);\n",
              "    }\n",
              "  }\n",
              "</style>\n",
              "\n",
              "      <script>\n",
              "        async function quickchart(key) {\n",
              "          const quickchartButtonEl =\n",
              "            document.querySelector('#' + key + ' button');\n",
              "          quickchartButtonEl.disabled = true;  // To prevent multiple clicks.\n",
              "          quickchartButtonEl.classList.add('colab-df-spinner');\n",
              "          try {\n",
              "            const charts = await google.colab.kernel.invokeFunction(\n",
              "                'suggestCharts', [key], {});\n",
              "          } catch (error) {\n",
              "            console.error('Error during call to suggestCharts:', error);\n",
              "          }\n",
              "          quickchartButtonEl.classList.remove('colab-df-spinner');\n",
              "          quickchartButtonEl.classList.add('colab-df-quickchart-complete');\n",
              "        }\n",
              "        (() => {\n",
              "          let quickchartButtonEl =\n",
              "            document.querySelector('#df-3ed849e3-1932-446c-b572-0c313b304439 button');\n",
              "          quickchartButtonEl.style.display =\n",
              "            google.colab.kernel.accessAllowed ? 'block' : 'none';\n",
              "        })();\n",
              "      </script>\n",
              "    </div>\n",
              "\n",
              "    </div>\n",
              "  </div>\n"
            ],
            "application/vnd.google.colaboratory.intrinsic+json": {
              "type": "dataframe"
            }
          },
          "metadata": {},
          "execution_count": 78
        }
      ],
      "source": [
        "df.query(\" GRADE == 'N' \")"
      ]
    },
    {
      "cell_type": "code",
      "execution_count": 79,
      "metadata": {
        "id": "eDa3JvYL7huj",
        "outputId": "cb2c19bc-55ec-4820-9735-22b9ce48ea31",
        "colab": {
          "base_uri": "https://localhost:8080/",
          "height": 860
        }
      },
      "outputs": [
        {
          "output_type": "execute_result",
          "data": {
            "text/plain": [
              "           CAMIS                                 DBA       BORO BUILDING  \\\n",
              "352     41403890                         TOWERS CAFE   Brooklyn      760   \n",
              "440     50036890         NEW SHANGHAI TAN RESTAURANT     Queens    13520   \n",
              "633     50107082  XIN GOLDEN HING CHINESE RESTAURANT   Brooklyn     1082   \n",
              "673     50097045                        CHAIRMAN SUN     Queens     4730   \n",
              "819     50070454                             Sushi Q      Bronx     1610   \n",
              "...          ...                                 ...        ...      ...   \n",
              "283983  50103285                         QUICK PIZZA     Queens     1340   \n",
              "284008  50053178      HAPPY HOUSE SEAFOOD RESTAURANT   Brooklyn  5014-16   \n",
              "284009  50108758                         NEW CHINA 3     Queens     5814   \n",
              "284333  50039082             EL CASTILLO DE JAGUA II  Manhattan      521   \n",
              "284389  50009411                 DELICIAS CALENAS #4     Queens     9418   \n",
              "\n",
              "                  STREET ZIPCODE       PHONE CUISINE_DESCRIPTION  \\\n",
              "352             BROADWAY   11206  7186303042            American   \n",
              "440              40TH RD   11354  7186610900             Chinese   \n",
              "633       BEDFORD AVENUE   11216  7186221685             Chinese   \n",
              "673          VERNON BLVD   11101  2129676088             Chinese   \n",
              "819        CROSBY AVENUE   10461  7188221627            Japanese   \n",
              "...                  ...     ...         ...                 ...   \n",
              "283983  BEACH CHANNEL DR   11691  3479264808               Pizza   \n",
              "284008           8TH AVE   11220  7188718893             Chinese   \n",
              "284009     ROOSEVELT AVE   11377  7186725300             Chinese   \n",
              "284333      GRAND STREET   10002  2129950244             Spanish   \n",
              "284389      SUTPHIN BLVD   11435  7182062262             Spanish   \n",
              "\n",
              "       INSPECTION_DATE                   ACTION  ...  \\\n",
              "352         2023-03-03  Establishment re-opened  ...   \n",
              "440         2022-06-24  Establishment re-opened  ...   \n",
              "633         2024-06-03  Establishment re-opened  ...   \n",
              "673         2024-05-29  Establishment re-opened  ...   \n",
              "819         2024-06-24  Establishment re-opened  ...   \n",
              "...                ...                      ...  ...   \n",
              "283983      2021-10-08  Establishment re-opened  ...   \n",
              "284008      2022-05-16  Establishment re-opened  ...   \n",
              "284009      2023-02-17  Establishment re-opened  ...   \n",
              "284333      2024-10-30  Establishment re-opened  ...   \n",
              "284389      2023-08-28  Establishment re-opened  ...   \n",
              "\n",
              "                                        INSPECTION_TYPE         LATITUDE  \\\n",
              "352             Cycle Inspection / Reopening Inspection  40.700520815949   \n",
              "440             Cycle Inspection / Reopening Inspection   40.75884874404   \n",
              "633             Cycle Inspection / Reopening Inspection  40.687744367091   \n",
              "673             Cycle Inspection / Reopening Inspection  40.744642891269   \n",
              "819             Cycle Inspection / Reopening Inspection  40.844216634976   \n",
              "...                                                 ...              ...   \n",
              "283983  Pre-permit (Operational) / Reopening Inspection  40.606225896572   \n",
              "284008          Cycle Inspection / Reopening Inspection   40.64097396585   \n",
              "284009          Cycle Inspection / Reopening Inspection  40.745377151387   \n",
              "284333          Cycle Inspection / Reopening Inspection  40.714573786457   \n",
              "284389          Cycle Inspection / Reopening Inspection  40.698835881305   \n",
              "\n",
              "               LONGITUDE  COMMUNITY_BOARD COUNCIL_DISTRICT CENSUS_TRACT  \\\n",
              "352     -73.941603753866              303               36       028501   \n",
              "440     -73.830118577915              407               20       087100   \n",
              "633     -73.954794164038              303               36       023300   \n",
              "673     -73.953470644374              402               26       000700   \n",
              "819     -73.830521390885              210               13       026602   \n",
              "...                  ...              ...              ...          ...   \n",
              "283983  -73.754749722211              414               31       103201   \n",
              "284008  -74.003866294168              307               38       010800   \n",
              "284009  -73.906351990846              402               26       024900   \n",
              "284333  -73.982082786248              103               01       000202   \n",
              "284389  -73.806826859469              412               27       020800   \n",
              "\n",
              "            BIN         BBL   NTA TO_DELETE  \n",
              "352     3048341  3017230001  BK78      True  \n",
              "440     4449969  4050370053  QN22      True  \n",
              "633     3321920  3019680029  BK75      True  \n",
              "673     4000105  4000300047  QN31      True  \n",
              "819     2098281  2041680008  BX10      True  \n",
              "...         ...         ...   ...       ...  \n",
              "283983  4000000  4155280112  QN15      True  \n",
              "284008  3013422  3007940044  BK34      True  \n",
              "284009  4031210  4013310029  QN63      True  \n",
              "284333  1003741  1002880033  MN28      True  \n",
              "284389  4213959  4099930025  QN61      True  \n",
              "\n",
              "[919 rows x 26 columns]"
            ],
            "text/html": [
              "\n",
              "  <div id=\"df-c6f266fd-9707-4dc6-a52f-90c04d3f05d8\" class=\"colab-df-container\">\n",
              "    <div>\n",
              "<style scoped>\n",
              "    .dataframe tbody tr th:only-of-type {\n",
              "        vertical-align: middle;\n",
              "    }\n",
              "\n",
              "    .dataframe tbody tr th {\n",
              "        vertical-align: top;\n",
              "    }\n",
              "\n",
              "    .dataframe thead th {\n",
              "        text-align: right;\n",
              "    }\n",
              "</style>\n",
              "<table border=\"1\" class=\"dataframe\">\n",
              "  <thead>\n",
              "    <tr style=\"text-align: right;\">\n",
              "      <th></th>\n",
              "      <th>CAMIS</th>\n",
              "      <th>DBA</th>\n",
              "      <th>BORO</th>\n",
              "      <th>BUILDING</th>\n",
              "      <th>STREET</th>\n",
              "      <th>ZIPCODE</th>\n",
              "      <th>PHONE</th>\n",
              "      <th>CUISINE_DESCRIPTION</th>\n",
              "      <th>INSPECTION_DATE</th>\n",
              "      <th>ACTION</th>\n",
              "      <th>...</th>\n",
              "      <th>INSPECTION_TYPE</th>\n",
              "      <th>LATITUDE</th>\n",
              "      <th>LONGITUDE</th>\n",
              "      <th>COMMUNITY_BOARD</th>\n",
              "      <th>COUNCIL_DISTRICT</th>\n",
              "      <th>CENSUS_TRACT</th>\n",
              "      <th>BIN</th>\n",
              "      <th>BBL</th>\n",
              "      <th>NTA</th>\n",
              "      <th>TO_DELETE</th>\n",
              "    </tr>\n",
              "  </thead>\n",
              "  <tbody>\n",
              "    <tr>\n",
              "      <th>352</th>\n",
              "      <td>41403890</td>\n",
              "      <td>TOWERS CAFE</td>\n",
              "      <td>Brooklyn</td>\n",
              "      <td>760</td>\n",
              "      <td>BROADWAY</td>\n",
              "      <td>11206</td>\n",
              "      <td>7186303042</td>\n",
              "      <td>American</td>\n",
              "      <td>2023-03-03</td>\n",
              "      <td>Establishment re-opened</td>\n",
              "      <td>...</td>\n",
              "      <td>Cycle Inspection / Reopening Inspection</td>\n",
              "      <td>40.700520815949</td>\n",
              "      <td>-73.941603753866</td>\n",
              "      <td>303</td>\n",
              "      <td>36</td>\n",
              "      <td>028501</td>\n",
              "      <td>3048341</td>\n",
              "      <td>3017230001</td>\n",
              "      <td>BK78</td>\n",
              "      <td>True</td>\n",
              "    </tr>\n",
              "    <tr>\n",
              "      <th>440</th>\n",
              "      <td>50036890</td>\n",
              "      <td>NEW SHANGHAI TAN RESTAURANT</td>\n",
              "      <td>Queens</td>\n",
              "      <td>13520</td>\n",
              "      <td>40TH RD</td>\n",
              "      <td>11354</td>\n",
              "      <td>7186610900</td>\n",
              "      <td>Chinese</td>\n",
              "      <td>2022-06-24</td>\n",
              "      <td>Establishment re-opened</td>\n",
              "      <td>...</td>\n",
              "      <td>Cycle Inspection / Reopening Inspection</td>\n",
              "      <td>40.75884874404</td>\n",
              "      <td>-73.830118577915</td>\n",
              "      <td>407</td>\n",
              "      <td>20</td>\n",
              "      <td>087100</td>\n",
              "      <td>4449969</td>\n",
              "      <td>4050370053</td>\n",
              "      <td>QN22</td>\n",
              "      <td>True</td>\n",
              "    </tr>\n",
              "    <tr>\n",
              "      <th>633</th>\n",
              "      <td>50107082</td>\n",
              "      <td>XIN GOLDEN HING CHINESE RESTAURANT</td>\n",
              "      <td>Brooklyn</td>\n",
              "      <td>1082</td>\n",
              "      <td>BEDFORD AVENUE</td>\n",
              "      <td>11216</td>\n",
              "      <td>7186221685</td>\n",
              "      <td>Chinese</td>\n",
              "      <td>2024-06-03</td>\n",
              "      <td>Establishment re-opened</td>\n",
              "      <td>...</td>\n",
              "      <td>Cycle Inspection / Reopening Inspection</td>\n",
              "      <td>40.687744367091</td>\n",
              "      <td>-73.954794164038</td>\n",
              "      <td>303</td>\n",
              "      <td>36</td>\n",
              "      <td>023300</td>\n",
              "      <td>3321920</td>\n",
              "      <td>3019680029</td>\n",
              "      <td>BK75</td>\n",
              "      <td>True</td>\n",
              "    </tr>\n",
              "    <tr>\n",
              "      <th>673</th>\n",
              "      <td>50097045</td>\n",
              "      <td>CHAIRMAN SUN</td>\n",
              "      <td>Queens</td>\n",
              "      <td>4730</td>\n",
              "      <td>VERNON BLVD</td>\n",
              "      <td>11101</td>\n",
              "      <td>2129676088</td>\n",
              "      <td>Chinese</td>\n",
              "      <td>2024-05-29</td>\n",
              "      <td>Establishment re-opened</td>\n",
              "      <td>...</td>\n",
              "      <td>Cycle Inspection / Reopening Inspection</td>\n",
              "      <td>40.744642891269</td>\n",
              "      <td>-73.953470644374</td>\n",
              "      <td>402</td>\n",
              "      <td>26</td>\n",
              "      <td>000700</td>\n",
              "      <td>4000105</td>\n",
              "      <td>4000300047</td>\n",
              "      <td>QN31</td>\n",
              "      <td>True</td>\n",
              "    </tr>\n",
              "    <tr>\n",
              "      <th>819</th>\n",
              "      <td>50070454</td>\n",
              "      <td>Sushi Q</td>\n",
              "      <td>Bronx</td>\n",
              "      <td>1610</td>\n",
              "      <td>CROSBY AVENUE</td>\n",
              "      <td>10461</td>\n",
              "      <td>7188221627</td>\n",
              "      <td>Japanese</td>\n",
              "      <td>2024-06-24</td>\n",
              "      <td>Establishment re-opened</td>\n",
              "      <td>...</td>\n",
              "      <td>Cycle Inspection / Reopening Inspection</td>\n",
              "      <td>40.844216634976</td>\n",
              "      <td>-73.830521390885</td>\n",
              "      <td>210</td>\n",
              "      <td>13</td>\n",
              "      <td>026602</td>\n",
              "      <td>2098281</td>\n",
              "      <td>2041680008</td>\n",
              "      <td>BX10</td>\n",
              "      <td>True</td>\n",
              "    </tr>\n",
              "    <tr>\n",
              "      <th>...</th>\n",
              "      <td>...</td>\n",
              "      <td>...</td>\n",
              "      <td>...</td>\n",
              "      <td>...</td>\n",
              "      <td>...</td>\n",
              "      <td>...</td>\n",
              "      <td>...</td>\n",
              "      <td>...</td>\n",
              "      <td>...</td>\n",
              "      <td>...</td>\n",
              "      <td>...</td>\n",
              "      <td>...</td>\n",
              "      <td>...</td>\n",
              "      <td>...</td>\n",
              "      <td>...</td>\n",
              "      <td>...</td>\n",
              "      <td>...</td>\n",
              "      <td>...</td>\n",
              "      <td>...</td>\n",
              "      <td>...</td>\n",
              "      <td>...</td>\n",
              "    </tr>\n",
              "    <tr>\n",
              "      <th>283983</th>\n",
              "      <td>50103285</td>\n",
              "      <td>QUICK PIZZA</td>\n",
              "      <td>Queens</td>\n",
              "      <td>1340</td>\n",
              "      <td>BEACH CHANNEL DR</td>\n",
              "      <td>11691</td>\n",
              "      <td>3479264808</td>\n",
              "      <td>Pizza</td>\n",
              "      <td>2021-10-08</td>\n",
              "      <td>Establishment re-opened</td>\n",
              "      <td>...</td>\n",
              "      <td>Pre-permit (Operational) / Reopening Inspection</td>\n",
              "      <td>40.606225896572</td>\n",
              "      <td>-73.754749722211</td>\n",
              "      <td>414</td>\n",
              "      <td>31</td>\n",
              "      <td>103201</td>\n",
              "      <td>4000000</td>\n",
              "      <td>4155280112</td>\n",
              "      <td>QN15</td>\n",
              "      <td>True</td>\n",
              "    </tr>\n",
              "    <tr>\n",
              "      <th>284008</th>\n",
              "      <td>50053178</td>\n",
              "      <td>HAPPY HOUSE SEAFOOD RESTAURANT</td>\n",
              "      <td>Brooklyn</td>\n",
              "      <td>5014-16</td>\n",
              "      <td>8TH AVE</td>\n",
              "      <td>11220</td>\n",
              "      <td>7188718893</td>\n",
              "      <td>Chinese</td>\n",
              "      <td>2022-05-16</td>\n",
              "      <td>Establishment re-opened</td>\n",
              "      <td>...</td>\n",
              "      <td>Cycle Inspection / Reopening Inspection</td>\n",
              "      <td>40.64097396585</td>\n",
              "      <td>-74.003866294168</td>\n",
              "      <td>307</td>\n",
              "      <td>38</td>\n",
              "      <td>010800</td>\n",
              "      <td>3013422</td>\n",
              "      <td>3007940044</td>\n",
              "      <td>BK34</td>\n",
              "      <td>True</td>\n",
              "    </tr>\n",
              "    <tr>\n",
              "      <th>284009</th>\n",
              "      <td>50108758</td>\n",
              "      <td>NEW CHINA 3</td>\n",
              "      <td>Queens</td>\n",
              "      <td>5814</td>\n",
              "      <td>ROOSEVELT AVE</td>\n",
              "      <td>11377</td>\n",
              "      <td>7186725300</td>\n",
              "      <td>Chinese</td>\n",
              "      <td>2023-02-17</td>\n",
              "      <td>Establishment re-opened</td>\n",
              "      <td>...</td>\n",
              "      <td>Cycle Inspection / Reopening Inspection</td>\n",
              "      <td>40.745377151387</td>\n",
              "      <td>-73.906351990846</td>\n",
              "      <td>402</td>\n",
              "      <td>26</td>\n",
              "      <td>024900</td>\n",
              "      <td>4031210</td>\n",
              "      <td>4013310029</td>\n",
              "      <td>QN63</td>\n",
              "      <td>True</td>\n",
              "    </tr>\n",
              "    <tr>\n",
              "      <th>284333</th>\n",
              "      <td>50039082</td>\n",
              "      <td>EL CASTILLO DE JAGUA II</td>\n",
              "      <td>Manhattan</td>\n",
              "      <td>521</td>\n",
              "      <td>GRAND STREET</td>\n",
              "      <td>10002</td>\n",
              "      <td>2129950244</td>\n",
              "      <td>Spanish</td>\n",
              "      <td>2024-10-30</td>\n",
              "      <td>Establishment re-opened</td>\n",
              "      <td>...</td>\n",
              "      <td>Cycle Inspection / Reopening Inspection</td>\n",
              "      <td>40.714573786457</td>\n",
              "      <td>-73.982082786248</td>\n",
              "      <td>103</td>\n",
              "      <td>01</td>\n",
              "      <td>000202</td>\n",
              "      <td>1003741</td>\n",
              "      <td>1002880033</td>\n",
              "      <td>MN28</td>\n",
              "      <td>True</td>\n",
              "    </tr>\n",
              "    <tr>\n",
              "      <th>284389</th>\n",
              "      <td>50009411</td>\n",
              "      <td>DELICIAS CALENAS #4</td>\n",
              "      <td>Queens</td>\n",
              "      <td>9418</td>\n",
              "      <td>SUTPHIN BLVD</td>\n",
              "      <td>11435</td>\n",
              "      <td>7182062262</td>\n",
              "      <td>Spanish</td>\n",
              "      <td>2023-08-28</td>\n",
              "      <td>Establishment re-opened</td>\n",
              "      <td>...</td>\n",
              "      <td>Cycle Inspection / Reopening Inspection</td>\n",
              "      <td>40.698835881305</td>\n",
              "      <td>-73.806826859469</td>\n",
              "      <td>412</td>\n",
              "      <td>27</td>\n",
              "      <td>020800</td>\n",
              "      <td>4213959</td>\n",
              "      <td>4099930025</td>\n",
              "      <td>QN61</td>\n",
              "      <td>True</td>\n",
              "    </tr>\n",
              "  </tbody>\n",
              "</table>\n",
              "<p>919 rows × 26 columns</p>\n",
              "</div>\n",
              "    <div class=\"colab-df-buttons\">\n",
              "\n",
              "  <div class=\"colab-df-container\">\n",
              "    <button class=\"colab-df-convert\" onclick=\"convertToInteractive('df-c6f266fd-9707-4dc6-a52f-90c04d3f05d8')\"\n",
              "            title=\"Convert this dataframe to an interactive table.\"\n",
              "            style=\"display:none;\">\n",
              "\n",
              "  <svg xmlns=\"http://www.w3.org/2000/svg\" height=\"24px\" viewBox=\"0 -960 960 960\">\n",
              "    <path d=\"M120-120v-720h720v720H120Zm60-500h600v-160H180v160Zm220 220h160v-160H400v160Zm0 220h160v-160H400v160ZM180-400h160v-160H180v160Zm440 0h160v-160H620v160ZM180-180h160v-160H180v160Zm440 0h160v-160H620v160Z\"/>\n",
              "  </svg>\n",
              "    </button>\n",
              "\n",
              "  <style>\n",
              "    .colab-df-container {\n",
              "      display:flex;\n",
              "      gap: 12px;\n",
              "    }\n",
              "\n",
              "    .colab-df-convert {\n",
              "      background-color: #E8F0FE;\n",
              "      border: none;\n",
              "      border-radius: 50%;\n",
              "      cursor: pointer;\n",
              "      display: none;\n",
              "      fill: #1967D2;\n",
              "      height: 32px;\n",
              "      padding: 0 0 0 0;\n",
              "      width: 32px;\n",
              "    }\n",
              "\n",
              "    .colab-df-convert:hover {\n",
              "      background-color: #E2EBFA;\n",
              "      box-shadow: 0px 1px 2px rgba(60, 64, 67, 0.3), 0px 1px 3px 1px rgba(60, 64, 67, 0.15);\n",
              "      fill: #174EA6;\n",
              "    }\n",
              "\n",
              "    .colab-df-buttons div {\n",
              "      margin-bottom: 4px;\n",
              "    }\n",
              "\n",
              "    [theme=dark] .colab-df-convert {\n",
              "      background-color: #3B4455;\n",
              "      fill: #D2E3FC;\n",
              "    }\n",
              "\n",
              "    [theme=dark] .colab-df-convert:hover {\n",
              "      background-color: #434B5C;\n",
              "      box-shadow: 0px 1px 3px 1px rgba(0, 0, 0, 0.15);\n",
              "      filter: drop-shadow(0px 1px 2px rgba(0, 0, 0, 0.3));\n",
              "      fill: #FFFFFF;\n",
              "    }\n",
              "  </style>\n",
              "\n",
              "    <script>\n",
              "      const buttonEl =\n",
              "        document.querySelector('#df-c6f266fd-9707-4dc6-a52f-90c04d3f05d8 button.colab-df-convert');\n",
              "      buttonEl.style.display =\n",
              "        google.colab.kernel.accessAllowed ? 'block' : 'none';\n",
              "\n",
              "      async function convertToInteractive(key) {\n",
              "        const element = document.querySelector('#df-c6f266fd-9707-4dc6-a52f-90c04d3f05d8');\n",
              "        const dataTable =\n",
              "          await google.colab.kernel.invokeFunction('convertToInteractive',\n",
              "                                                    [key], {});\n",
              "        if (!dataTable) return;\n",
              "\n",
              "        const docLinkHtml = 'Like what you see? Visit the ' +\n",
              "          '<a target=\"_blank\" href=https://colab.research.google.com/notebooks/data_table.ipynb>data table notebook</a>'\n",
              "          + ' to learn more about interactive tables.';\n",
              "        element.innerHTML = '';\n",
              "        dataTable['output_type'] = 'display_data';\n",
              "        await google.colab.output.renderOutput(dataTable, element);\n",
              "        const docLink = document.createElement('div');\n",
              "        docLink.innerHTML = docLinkHtml;\n",
              "        element.appendChild(docLink);\n",
              "      }\n",
              "    </script>\n",
              "  </div>\n",
              "\n",
              "\n",
              "    <div id=\"df-bf99e81d-d808-4773-b0c4-f2d47270c4f5\">\n",
              "      <button class=\"colab-df-quickchart\" onclick=\"quickchart('df-bf99e81d-d808-4773-b0c4-f2d47270c4f5')\"\n",
              "                title=\"Suggest charts\"\n",
              "                style=\"display:none;\">\n",
              "\n",
              "<svg xmlns=\"http://www.w3.org/2000/svg\" height=\"24px\"viewBox=\"0 0 24 24\"\n",
              "     width=\"24px\">\n",
              "    <g>\n",
              "        <path d=\"M19 3H5c-1.1 0-2 .9-2 2v14c0 1.1.9 2 2 2h14c1.1 0 2-.9 2-2V5c0-1.1-.9-2-2-2zM9 17H7v-7h2v7zm4 0h-2V7h2v10zm4 0h-2v-4h2v4z\"/>\n",
              "    </g>\n",
              "</svg>\n",
              "      </button>\n",
              "\n",
              "<style>\n",
              "  .colab-df-quickchart {\n",
              "      --bg-color: #E8F0FE;\n",
              "      --fill-color: #1967D2;\n",
              "      --hover-bg-color: #E2EBFA;\n",
              "      --hover-fill-color: #174EA6;\n",
              "      --disabled-fill-color: #AAA;\n",
              "      --disabled-bg-color: #DDD;\n",
              "  }\n",
              "\n",
              "  [theme=dark] .colab-df-quickchart {\n",
              "      --bg-color: #3B4455;\n",
              "      --fill-color: #D2E3FC;\n",
              "      --hover-bg-color: #434B5C;\n",
              "      --hover-fill-color: #FFFFFF;\n",
              "      --disabled-bg-color: #3B4455;\n",
              "      --disabled-fill-color: #666;\n",
              "  }\n",
              "\n",
              "  .colab-df-quickchart {\n",
              "    background-color: var(--bg-color);\n",
              "    border: none;\n",
              "    border-radius: 50%;\n",
              "    cursor: pointer;\n",
              "    display: none;\n",
              "    fill: var(--fill-color);\n",
              "    height: 32px;\n",
              "    padding: 0;\n",
              "    width: 32px;\n",
              "  }\n",
              "\n",
              "  .colab-df-quickchart:hover {\n",
              "    background-color: var(--hover-bg-color);\n",
              "    box-shadow: 0 1px 2px rgba(60, 64, 67, 0.3), 0 1px 3px 1px rgba(60, 64, 67, 0.15);\n",
              "    fill: var(--button-hover-fill-color);\n",
              "  }\n",
              "\n",
              "  .colab-df-quickchart-complete:disabled,\n",
              "  .colab-df-quickchart-complete:disabled:hover {\n",
              "    background-color: var(--disabled-bg-color);\n",
              "    fill: var(--disabled-fill-color);\n",
              "    box-shadow: none;\n",
              "  }\n",
              "\n",
              "  .colab-df-spinner {\n",
              "    border: 2px solid var(--fill-color);\n",
              "    border-color: transparent;\n",
              "    border-bottom-color: var(--fill-color);\n",
              "    animation:\n",
              "      spin 1s steps(1) infinite;\n",
              "  }\n",
              "\n",
              "  @keyframes spin {\n",
              "    0% {\n",
              "      border-color: transparent;\n",
              "      border-bottom-color: var(--fill-color);\n",
              "      border-left-color: var(--fill-color);\n",
              "    }\n",
              "    20% {\n",
              "      border-color: transparent;\n",
              "      border-left-color: var(--fill-color);\n",
              "      border-top-color: var(--fill-color);\n",
              "    }\n",
              "    30% {\n",
              "      border-color: transparent;\n",
              "      border-left-color: var(--fill-color);\n",
              "      border-top-color: var(--fill-color);\n",
              "      border-right-color: var(--fill-color);\n",
              "    }\n",
              "    40% {\n",
              "      border-color: transparent;\n",
              "      border-right-color: var(--fill-color);\n",
              "      border-top-color: var(--fill-color);\n",
              "    }\n",
              "    60% {\n",
              "      border-color: transparent;\n",
              "      border-right-color: var(--fill-color);\n",
              "    }\n",
              "    80% {\n",
              "      border-color: transparent;\n",
              "      border-right-color: var(--fill-color);\n",
              "      border-bottom-color: var(--fill-color);\n",
              "    }\n",
              "    90% {\n",
              "      border-color: transparent;\n",
              "      border-bottom-color: var(--fill-color);\n",
              "    }\n",
              "  }\n",
              "</style>\n",
              "\n",
              "      <script>\n",
              "        async function quickchart(key) {\n",
              "          const quickchartButtonEl =\n",
              "            document.querySelector('#' + key + ' button');\n",
              "          quickchartButtonEl.disabled = true;  // To prevent multiple clicks.\n",
              "          quickchartButtonEl.classList.add('colab-df-spinner');\n",
              "          try {\n",
              "            const charts = await google.colab.kernel.invokeFunction(\n",
              "                'suggestCharts', [key], {});\n",
              "          } catch (error) {\n",
              "            console.error('Error during call to suggestCharts:', error);\n",
              "          }\n",
              "          quickchartButtonEl.classList.remove('colab-df-spinner');\n",
              "          quickchartButtonEl.classList.add('colab-df-quickchart-complete');\n",
              "        }\n",
              "        (() => {\n",
              "          let quickchartButtonEl =\n",
              "            document.querySelector('#df-bf99e81d-d808-4773-b0c4-f2d47270c4f5 button');\n",
              "          quickchartButtonEl.style.display =\n",
              "            google.colab.kernel.accessAllowed ? 'block' : 'none';\n",
              "        })();\n",
              "      </script>\n",
              "    </div>\n",
              "\n",
              "    </div>\n",
              "  </div>\n"
            ],
            "application/vnd.google.colaboratory.intrinsic+json": {
              "type": "dataframe"
            }
          },
          "metadata": {},
          "execution_count": 79
        }
      ],
      "source": [
        "# P assigned to 'Establishment re-opened' actions\n",
        "df.query(\" GRADE == 'P' \")"
      ]
    },
    {
      "cell_type": "code",
      "execution_count": 80,
      "metadata": {
        "colab": {
          "base_uri": "https://localhost:8080/",
          "height": 146
        },
        "id": "xie57cwO7huj",
        "outputId": "778f271a-121d-43ec-d588-3e11ce6417b1"
      },
      "outputs": [
        {
          "output_type": "execute_result",
          "data": {
            "text/plain": [
              "ACTION\n",
              "Establishment re-opened    919\n",
              "Name: count, dtype: int64"
            ],
            "text/html": [
              "<div>\n",
              "<style scoped>\n",
              "    .dataframe tbody tr th:only-of-type {\n",
              "        vertical-align: middle;\n",
              "    }\n",
              "\n",
              "    .dataframe tbody tr th {\n",
              "        vertical-align: top;\n",
              "    }\n",
              "\n",
              "    .dataframe thead th {\n",
              "        text-align: right;\n",
              "    }\n",
              "</style>\n",
              "<table border=\"1\" class=\"dataframe\">\n",
              "  <thead>\n",
              "    <tr style=\"text-align: right;\">\n",
              "      <th></th>\n",
              "      <th>count</th>\n",
              "    </tr>\n",
              "    <tr>\n",
              "      <th>ACTION</th>\n",
              "      <th></th>\n",
              "    </tr>\n",
              "  </thead>\n",
              "  <tbody>\n",
              "    <tr>\n",
              "      <th>Establishment re-opened</th>\n",
              "      <td>919</td>\n",
              "    </tr>\n",
              "  </tbody>\n",
              "</table>\n",
              "</div><br><label><b>dtype:</b> int64</label>"
            ]
          },
          "metadata": {},
          "execution_count": 80
        }
      ],
      "source": [
        "# P assigned to 'Establishment re-opened' actions\n",
        "df.query(\" GRADE == 'P' \").ACTION.value_counts()"
      ]
    },
    {
      "cell_type": "code",
      "execution_count": 81,
      "metadata": {
        "colab": {
          "base_uri": "https://localhost:8080/",
          "height": 178
        },
        "id": "iPYvaipU7huj",
        "outputId": "18fb9b7b-c7e4-4d24-b2da-7522b64bc3ac"
      },
      "outputs": [
        {
          "output_type": "execute_result",
          "data": {
            "text/plain": [
              "INSPECTION_TYPE\n",
              "Cycle Inspection / Reopening Inspection            744\n",
              "Pre-permit (Operational) / Reopening Inspection    175\n",
              "Name: count, dtype: int64"
            ],
            "text/html": [
              "<div>\n",
              "<style scoped>\n",
              "    .dataframe tbody tr th:only-of-type {\n",
              "        vertical-align: middle;\n",
              "    }\n",
              "\n",
              "    .dataframe tbody tr th {\n",
              "        vertical-align: top;\n",
              "    }\n",
              "\n",
              "    .dataframe thead th {\n",
              "        text-align: right;\n",
              "    }\n",
              "</style>\n",
              "<table border=\"1\" class=\"dataframe\">\n",
              "  <thead>\n",
              "    <tr style=\"text-align: right;\">\n",
              "      <th></th>\n",
              "      <th>count</th>\n",
              "    </tr>\n",
              "    <tr>\n",
              "      <th>INSPECTION_TYPE</th>\n",
              "      <th></th>\n",
              "    </tr>\n",
              "  </thead>\n",
              "  <tbody>\n",
              "    <tr>\n",
              "      <th>Cycle Inspection / Reopening Inspection</th>\n",
              "      <td>744</td>\n",
              "    </tr>\n",
              "    <tr>\n",
              "      <th>Pre-permit (Operational) / Reopening Inspection</th>\n",
              "      <td>175</td>\n",
              "    </tr>\n",
              "  </tbody>\n",
              "</table>\n",
              "</div><br><label><b>dtype:</b> int64</label>"
            ]
          },
          "metadata": {},
          "execution_count": 81
        }
      ],
      "source": [
        "# P assigned to 'Reopening Inspection' inspection types\n",
        "df.query(\" GRADE == 'P' \").INSPECTION_TYPE.value_counts()"
      ]
    },
    {
      "cell_type": "code",
      "execution_count": 82,
      "metadata": {
        "id": "mYo58n_I7huj"
      },
      "outputs": [],
      "source": [
        "# df.query(\" GRADE == 'Z' \").SCORE.hist(bins=100)"
      ]
    },
    {
      "cell_type": "code",
      "execution_count": 83,
      "metadata": {
        "colab": {
          "base_uri": "https://localhost:8080/",
          "height": 303
        },
        "id": "e3ON_QPE7huk",
        "outputId": "9ee56dff-41f4-4159-98c9-63a24b2f8f70"
      },
      "outputs": [
        {
          "output_type": "execute_result",
          "data": {
            "text/plain": [
              "GRADE\n",
              "A    95121\n",
              "B    16937\n",
              "C    11333\n",
              "N     9002\n",
              "Z     5412\n",
              "P      919\n",
              "Name: count, dtype: int64"
            ],
            "text/html": [
              "<div>\n",
              "<style scoped>\n",
              "    .dataframe tbody tr th:only-of-type {\n",
              "        vertical-align: middle;\n",
              "    }\n",
              "\n",
              "    .dataframe tbody tr th {\n",
              "        vertical-align: top;\n",
              "    }\n",
              "\n",
              "    .dataframe thead th {\n",
              "        text-align: right;\n",
              "    }\n",
              "</style>\n",
              "<table border=\"1\" class=\"dataframe\">\n",
              "  <thead>\n",
              "    <tr style=\"text-align: right;\">\n",
              "      <th></th>\n",
              "      <th>count</th>\n",
              "    </tr>\n",
              "    <tr>\n",
              "      <th>GRADE</th>\n",
              "      <th></th>\n",
              "    </tr>\n",
              "  </thead>\n",
              "  <tbody>\n",
              "    <tr>\n",
              "      <th>A</th>\n",
              "      <td>95121</td>\n",
              "    </tr>\n",
              "    <tr>\n",
              "      <th>B</th>\n",
              "      <td>16937</td>\n",
              "    </tr>\n",
              "    <tr>\n",
              "      <th>C</th>\n",
              "      <td>11333</td>\n",
              "    </tr>\n",
              "    <tr>\n",
              "      <th>N</th>\n",
              "      <td>9002</td>\n",
              "    </tr>\n",
              "    <tr>\n",
              "      <th>Z</th>\n",
              "      <td>5412</td>\n",
              "    </tr>\n",
              "    <tr>\n",
              "      <th>P</th>\n",
              "      <td>919</td>\n",
              "    </tr>\n",
              "  </tbody>\n",
              "</table>\n",
              "</div><br><label><b>dtype:</b> int64</label>"
            ]
          },
          "metadata": {},
          "execution_count": 83
        }
      ],
      "source": [
        "# TODO: Figure out what Z, and Not Yet Graded means in GRADE\n",
        "# Until then, we just replace these values with NULL, keeping only the A, B, C grades\n",
        "\n",
        "#\n",
        "df.GRADE.value_counts()"
      ]
    },
    {
      "cell_type": "code",
      "execution_count": 84,
      "metadata": {
        "id": "2GdMxqpj7huk"
      },
      "outputs": [],
      "source": [
        "df['TO_DELETE'] |=  (df.GRADE=='Z')\n",
        "df['TO_DELETE'] |=  (df.GRADE=='P')\n",
        "df['TO_DELETE'] |=  (df.GRADE=='N') # Not Yet Graded\n",
        "df['TO_DELETE'] |=  (df.GRADE=='Not Yet Graded')"
      ]
    },
    {
      "cell_type": "markdown",
      "metadata": {
        "id": "AyejLLa57huk"
      },
      "source": [
        "### GRADE_DATE"
      ]
    },
    {
      "cell_type": "code",
      "execution_count": 85,
      "metadata": {
        "id": "Np46cuoT7huk"
      },
      "outputs": [],
      "source": [
        "df[\"GRADE_DATE\"] = pd.to_datetime(df[\"GRADE_DATE\"], format=\"%m/%d/%Y\")\n"
      ]
    },
    {
      "cell_type": "code",
      "execution_count": 86,
      "metadata": {
        "id": "Q2sLR9Wo7huk"
      },
      "outputs": [],
      "source": [
        "# Grade date and inspection date should be the same.\n",
        "assert np.abs((df.GRADE_DATE - df.INSPECTION_DATE).dropna()).sum().days == 0"
      ]
    },
    {
      "cell_type": "code",
      "execution_count": 87,
      "metadata": {
        "id": "q4ndg-dx7huk"
      },
      "outputs": [],
      "source": [
        "# Check that is there is a grade date, a grade is also assigned\n",
        "assert sum ( ~df.GRADE_DATE.isnull() & df.GRADE.isnull() )  == 0"
      ]
    },
    {
      "cell_type": "code",
      "execution_count": 88,
      "metadata": {
        "id": "FJp6Yz9a7huk"
      },
      "outputs": [],
      "source": [
        "# We do not need GRADE DATE if we have INSPECTION DATE\n",
        "df = df.drop(\"GRADE_DATE\", axis='columns')"
      ]
    },
    {
      "cell_type": "markdown",
      "metadata": {
        "id": "u3MyODWT7hul"
      },
      "source": [
        "### VIOLATION_CODE and VIOLATION_DESCRIPTION"
      ]
    },
    {
      "cell_type": "code",
      "execution_count": 89,
      "metadata": {
        "colab": {
          "base_uri": "https://localhost:8080/"
        },
        "id": "B_8tyfr57hul",
        "outputId": "a26775df-e691-44f9-c9e8-50d230d62f05"
      },
      "outputs": [
        {
          "output_type": "execute_result",
          "data": {
            "text/plain": [
              "np.int64(5107)"
            ]
          },
          "metadata": {},
          "execution_count": 89
        }
      ],
      "source": [
        "df.VIOLATION_CODE.isnull().sum()"
      ]
    },
    {
      "cell_type": "code",
      "execution_count": 90,
      "metadata": {
        "id": "ZalBL3Fx7hul"
      },
      "outputs": [],
      "source": [
        "# All the cases where violation code is NULL should be either cases that we delete\n",
        "# or a \"No violations\" case\n",
        "check = df[df.VIOLATION_CODE.isnull() & ~df.TO_DELETE & (df.ACTION!='No violations')]\n",
        "\n",
        "assert( len(check) == 0 )\n"
      ]
    },
    {
      "cell_type": "code",
      "execution_count": 91,
      "metadata": {
        "colab": {
          "base_uri": "https://localhost:8080/"
        },
        "id": "-c7JFdfi7hul",
        "outputId": "3b2e5d26-b2ff-4d40-ecf0-ceb50ab3f6d3"
      },
      "outputs": [
        {
          "output_type": "execute_result",
          "data": {
            "text/plain": [
              "np.int64(5107)"
            ]
          },
          "metadata": {},
          "execution_count": 91
        }
      ],
      "source": [
        "df.VIOLATION_DESCRIPTION.isnull().sum()"
      ]
    },
    {
      "cell_type": "code",
      "execution_count": 92,
      "metadata": {
        "colab": {
          "base_uri": "https://localhost:8080/",
          "height": 707
        },
        "id": "EkaYq1St7hul",
        "outputId": "355d1784-b018-4f96-c732-59e6d97b2fb0"
      },
      "outputs": [
        {
          "output_type": "execute_result",
          "data": {
            "text/plain": [
              "                VIOLATION_DESCRIPTION\n",
              "VIOLATION_CODE                       \n",
              "05C                                 4\n",
              "06A                                 4\n",
              "06C                                 4\n",
              "02C                                 3\n",
              "02A                                 3\n",
              "04D                                 3\n",
              "03E                                 3\n",
              "05H                                 3\n",
              "05D                                 3\n",
              "09C                                 3\n",
              "10H                                 3\n",
              "10G                                 3\n",
              "08C                                 3\n",
              "04N                                 3\n",
              "05B                                 3\n",
              "03A                                 3\n",
              "02H                                 3\n",
              "04F                                 3\n",
              "03D                                 3\n",
              "02B                                 2"
            ],
            "text/html": [
              "\n",
              "  <div id=\"df-af5f3386-0885-46a7-afbf-7f400ecefd7d\" class=\"colab-df-container\">\n",
              "    <div>\n",
              "<style scoped>\n",
              "    .dataframe tbody tr th:only-of-type {\n",
              "        vertical-align: middle;\n",
              "    }\n",
              "\n",
              "    .dataframe tbody tr th {\n",
              "        vertical-align: top;\n",
              "    }\n",
              "\n",
              "    .dataframe thead th {\n",
              "        text-align: right;\n",
              "    }\n",
              "</style>\n",
              "<table border=\"1\" class=\"dataframe\">\n",
              "  <thead>\n",
              "    <tr style=\"text-align: right;\">\n",
              "      <th></th>\n",
              "      <th>VIOLATION_DESCRIPTION</th>\n",
              "    </tr>\n",
              "    <tr>\n",
              "      <th>VIOLATION_CODE</th>\n",
              "      <th></th>\n",
              "    </tr>\n",
              "  </thead>\n",
              "  <tbody>\n",
              "    <tr>\n",
              "      <th>05C</th>\n",
              "      <td>4</td>\n",
              "    </tr>\n",
              "    <tr>\n",
              "      <th>06A</th>\n",
              "      <td>4</td>\n",
              "    </tr>\n",
              "    <tr>\n",
              "      <th>06C</th>\n",
              "      <td>4</td>\n",
              "    </tr>\n",
              "    <tr>\n",
              "      <th>02C</th>\n",
              "      <td>3</td>\n",
              "    </tr>\n",
              "    <tr>\n",
              "      <th>02A</th>\n",
              "      <td>3</td>\n",
              "    </tr>\n",
              "    <tr>\n",
              "      <th>04D</th>\n",
              "      <td>3</td>\n",
              "    </tr>\n",
              "    <tr>\n",
              "      <th>03E</th>\n",
              "      <td>3</td>\n",
              "    </tr>\n",
              "    <tr>\n",
              "      <th>05H</th>\n",
              "      <td>3</td>\n",
              "    </tr>\n",
              "    <tr>\n",
              "      <th>05D</th>\n",
              "      <td>3</td>\n",
              "    </tr>\n",
              "    <tr>\n",
              "      <th>09C</th>\n",
              "      <td>3</td>\n",
              "    </tr>\n",
              "    <tr>\n",
              "      <th>10H</th>\n",
              "      <td>3</td>\n",
              "    </tr>\n",
              "    <tr>\n",
              "      <th>10G</th>\n",
              "      <td>3</td>\n",
              "    </tr>\n",
              "    <tr>\n",
              "      <th>08C</th>\n",
              "      <td>3</td>\n",
              "    </tr>\n",
              "    <tr>\n",
              "      <th>04N</th>\n",
              "      <td>3</td>\n",
              "    </tr>\n",
              "    <tr>\n",
              "      <th>05B</th>\n",
              "      <td>3</td>\n",
              "    </tr>\n",
              "    <tr>\n",
              "      <th>03A</th>\n",
              "      <td>3</td>\n",
              "    </tr>\n",
              "    <tr>\n",
              "      <th>02H</th>\n",
              "      <td>3</td>\n",
              "    </tr>\n",
              "    <tr>\n",
              "      <th>04F</th>\n",
              "      <td>3</td>\n",
              "    </tr>\n",
              "    <tr>\n",
              "      <th>03D</th>\n",
              "      <td>3</td>\n",
              "    </tr>\n",
              "    <tr>\n",
              "      <th>02B</th>\n",
              "      <td>2</td>\n",
              "    </tr>\n",
              "  </tbody>\n",
              "</table>\n",
              "</div>\n",
              "    <div class=\"colab-df-buttons\">\n",
              "\n",
              "  <div class=\"colab-df-container\">\n",
              "    <button class=\"colab-df-convert\" onclick=\"convertToInteractive('df-af5f3386-0885-46a7-afbf-7f400ecefd7d')\"\n",
              "            title=\"Convert this dataframe to an interactive table.\"\n",
              "            style=\"display:none;\">\n",
              "\n",
              "  <svg xmlns=\"http://www.w3.org/2000/svg\" height=\"24px\" viewBox=\"0 -960 960 960\">\n",
              "    <path d=\"M120-120v-720h720v720H120Zm60-500h600v-160H180v160Zm220 220h160v-160H400v160Zm0 220h160v-160H400v160ZM180-400h160v-160H180v160Zm440 0h160v-160H620v160ZM180-180h160v-160H180v160Zm440 0h160v-160H620v160Z\"/>\n",
              "  </svg>\n",
              "    </button>\n",
              "\n",
              "  <style>\n",
              "    .colab-df-container {\n",
              "      display:flex;\n",
              "      gap: 12px;\n",
              "    }\n",
              "\n",
              "    .colab-df-convert {\n",
              "      background-color: #E8F0FE;\n",
              "      border: none;\n",
              "      border-radius: 50%;\n",
              "      cursor: pointer;\n",
              "      display: none;\n",
              "      fill: #1967D2;\n",
              "      height: 32px;\n",
              "      padding: 0 0 0 0;\n",
              "      width: 32px;\n",
              "    }\n",
              "\n",
              "    .colab-df-convert:hover {\n",
              "      background-color: #E2EBFA;\n",
              "      box-shadow: 0px 1px 2px rgba(60, 64, 67, 0.3), 0px 1px 3px 1px rgba(60, 64, 67, 0.15);\n",
              "      fill: #174EA6;\n",
              "    }\n",
              "\n",
              "    .colab-df-buttons div {\n",
              "      margin-bottom: 4px;\n",
              "    }\n",
              "\n",
              "    [theme=dark] .colab-df-convert {\n",
              "      background-color: #3B4455;\n",
              "      fill: #D2E3FC;\n",
              "    }\n",
              "\n",
              "    [theme=dark] .colab-df-convert:hover {\n",
              "      background-color: #434B5C;\n",
              "      box-shadow: 0px 1px 3px 1px rgba(0, 0, 0, 0.15);\n",
              "      filter: drop-shadow(0px 1px 2px rgba(0, 0, 0, 0.3));\n",
              "      fill: #FFFFFF;\n",
              "    }\n",
              "  </style>\n",
              "\n",
              "    <script>\n",
              "      const buttonEl =\n",
              "        document.querySelector('#df-af5f3386-0885-46a7-afbf-7f400ecefd7d button.colab-df-convert');\n",
              "      buttonEl.style.display =\n",
              "        google.colab.kernel.accessAllowed ? 'block' : 'none';\n",
              "\n",
              "      async function convertToInteractive(key) {\n",
              "        const element = document.querySelector('#df-af5f3386-0885-46a7-afbf-7f400ecefd7d');\n",
              "        const dataTable =\n",
              "          await google.colab.kernel.invokeFunction('convertToInteractive',\n",
              "                                                    [key], {});\n",
              "        if (!dataTable) return;\n",
              "\n",
              "        const docLinkHtml = 'Like what you see? Visit the ' +\n",
              "          '<a target=\"_blank\" href=https://colab.research.google.com/notebooks/data_table.ipynb>data table notebook</a>'\n",
              "          + ' to learn more about interactive tables.';\n",
              "        element.innerHTML = '';\n",
              "        dataTable['output_type'] = 'display_data';\n",
              "        await google.colab.output.renderOutput(dataTable, element);\n",
              "        const docLink = document.createElement('div');\n",
              "        docLink.innerHTML = docLinkHtml;\n",
              "        element.appendChild(docLink);\n",
              "      }\n",
              "    </script>\n",
              "  </div>\n",
              "\n",
              "\n",
              "    <div id=\"df-c9036e6e-b35f-418e-a4d7-1d86d398c22d\">\n",
              "      <button class=\"colab-df-quickchart\" onclick=\"quickchart('df-c9036e6e-b35f-418e-a4d7-1d86d398c22d')\"\n",
              "                title=\"Suggest charts\"\n",
              "                style=\"display:none;\">\n",
              "\n",
              "<svg xmlns=\"http://www.w3.org/2000/svg\" height=\"24px\"viewBox=\"0 0 24 24\"\n",
              "     width=\"24px\">\n",
              "    <g>\n",
              "        <path d=\"M19 3H5c-1.1 0-2 .9-2 2v14c0 1.1.9 2 2 2h14c1.1 0 2-.9 2-2V5c0-1.1-.9-2-2-2zM9 17H7v-7h2v7zm4 0h-2V7h2v10zm4 0h-2v-4h2v4z\"/>\n",
              "    </g>\n",
              "</svg>\n",
              "      </button>\n",
              "\n",
              "<style>\n",
              "  .colab-df-quickchart {\n",
              "      --bg-color: #E8F0FE;\n",
              "      --fill-color: #1967D2;\n",
              "      --hover-bg-color: #E2EBFA;\n",
              "      --hover-fill-color: #174EA6;\n",
              "      --disabled-fill-color: #AAA;\n",
              "      --disabled-bg-color: #DDD;\n",
              "  }\n",
              "\n",
              "  [theme=dark] .colab-df-quickchart {\n",
              "      --bg-color: #3B4455;\n",
              "      --fill-color: #D2E3FC;\n",
              "      --hover-bg-color: #434B5C;\n",
              "      --hover-fill-color: #FFFFFF;\n",
              "      --disabled-bg-color: #3B4455;\n",
              "      --disabled-fill-color: #666;\n",
              "  }\n",
              "\n",
              "  .colab-df-quickchart {\n",
              "    background-color: var(--bg-color);\n",
              "    border: none;\n",
              "    border-radius: 50%;\n",
              "    cursor: pointer;\n",
              "    display: none;\n",
              "    fill: var(--fill-color);\n",
              "    height: 32px;\n",
              "    padding: 0;\n",
              "    width: 32px;\n",
              "  }\n",
              "\n",
              "  .colab-df-quickchart:hover {\n",
              "    background-color: var(--hover-bg-color);\n",
              "    box-shadow: 0 1px 2px rgba(60, 64, 67, 0.3), 0 1px 3px 1px rgba(60, 64, 67, 0.15);\n",
              "    fill: var(--button-hover-fill-color);\n",
              "  }\n",
              "\n",
              "  .colab-df-quickchart-complete:disabled,\n",
              "  .colab-df-quickchart-complete:disabled:hover {\n",
              "    background-color: var(--disabled-bg-color);\n",
              "    fill: var(--disabled-fill-color);\n",
              "    box-shadow: none;\n",
              "  }\n",
              "\n",
              "  .colab-df-spinner {\n",
              "    border: 2px solid var(--fill-color);\n",
              "    border-color: transparent;\n",
              "    border-bottom-color: var(--fill-color);\n",
              "    animation:\n",
              "      spin 1s steps(1) infinite;\n",
              "  }\n",
              "\n",
              "  @keyframes spin {\n",
              "    0% {\n",
              "      border-color: transparent;\n",
              "      border-bottom-color: var(--fill-color);\n",
              "      border-left-color: var(--fill-color);\n",
              "    }\n",
              "    20% {\n",
              "      border-color: transparent;\n",
              "      border-left-color: var(--fill-color);\n",
              "      border-top-color: var(--fill-color);\n",
              "    }\n",
              "    30% {\n",
              "      border-color: transparent;\n",
              "      border-left-color: var(--fill-color);\n",
              "      border-top-color: var(--fill-color);\n",
              "      border-right-color: var(--fill-color);\n",
              "    }\n",
              "    40% {\n",
              "      border-color: transparent;\n",
              "      border-right-color: var(--fill-color);\n",
              "      border-top-color: var(--fill-color);\n",
              "    }\n",
              "    60% {\n",
              "      border-color: transparent;\n",
              "      border-right-color: var(--fill-color);\n",
              "    }\n",
              "    80% {\n",
              "      border-color: transparent;\n",
              "      border-right-color: var(--fill-color);\n",
              "      border-bottom-color: var(--fill-color);\n",
              "    }\n",
              "    90% {\n",
              "      border-color: transparent;\n",
              "      border-bottom-color: var(--fill-color);\n",
              "    }\n",
              "  }\n",
              "</style>\n",
              "\n",
              "      <script>\n",
              "        async function quickchart(key) {\n",
              "          const quickchartButtonEl =\n",
              "            document.querySelector('#' + key + ' button');\n",
              "          quickchartButtonEl.disabled = true;  // To prevent multiple clicks.\n",
              "          quickchartButtonEl.classList.add('colab-df-spinner');\n",
              "          try {\n",
              "            const charts = await google.colab.kernel.invokeFunction(\n",
              "                'suggestCharts', [key], {});\n",
              "          } catch (error) {\n",
              "            console.error('Error during call to suggestCharts:', error);\n",
              "          }\n",
              "          quickchartButtonEl.classList.remove('colab-df-spinner');\n",
              "          quickchartButtonEl.classList.add('colab-df-quickchart-complete');\n",
              "        }\n",
              "        (() => {\n",
              "          let quickchartButtonEl =\n",
              "            document.querySelector('#df-c9036e6e-b35f-418e-a4d7-1d86d398c22d button');\n",
              "          quickchartButtonEl.style.display =\n",
              "            google.colab.kernel.accessAllowed ? 'block' : 'none';\n",
              "        })();\n",
              "      </script>\n",
              "    </div>\n",
              "\n",
              "    </div>\n",
              "  </div>\n"
            ],
            "application/vnd.google.colaboratory.intrinsic+json": {
              "type": "dataframe",
              "summary": "{\n  \"name\": \")\",\n  \"rows\": 20,\n  \"fields\": [\n    {\n      \"column\": \"VIOLATION_CODE\",\n      \"properties\": {\n        \"dtype\": \"string\",\n        \"num_unique_values\": 20,\n        \"samples\": [\n          \"05C\",\n          \"04F\",\n          \"03A\"\n        ],\n        \"semantic_type\": \"\",\n        \"description\": \"\"\n      }\n    },\n    {\n      \"column\": \"VIOLATION_DESCRIPTION\",\n      \"properties\": {\n        \"dtype\": \"number\",\n        \"std\": 0,\n        \"min\": 2,\n        \"max\": 4,\n        \"num_unique_values\": 3,\n        \"samples\": [\n          4,\n          3,\n          2\n        ],\n        \"semantic_type\": \"\",\n        \"description\": \"\"\n      }\n    }\n  ]\n}"
            }
          },
          "metadata": {},
          "execution_count": 92
        }
      ],
      "source": [
        "# Checks that all VIOLATION_CODE has unique VIOLATION_DESCRIPTION\n",
        "df[['VIOLATION_CODE','VIOLATION_DESCRIPTION']].drop_duplicates().pivot_table(\n",
        "    index='VIOLATION_CODE',\n",
        "    values='VIOLATION_DESCRIPTION',\n",
        "    aggfunc=pd.Series.nunique\n",
        ").sort_values('VIOLATION_DESCRIPTION', ascending=False).head(20)"
      ]
    },
    {
      "cell_type": "code",
      "source": [
        "df['TO_DELETE'] |=  (df.VIOLATION_DESCRIPTION == 'Caloric content not posted on menus, menu boards or food tags, in a food service establishment that is 1 of 15 or more outlets operating the same type of business nationally under common ownership or control, or as a franchise or doing business under the same name, for each menu item that is served in portions, the size and content of which are standardized.')"
      ],
      "metadata": {
        "id": "EimlOZPhBtAX"
      },
      "execution_count": 93,
      "outputs": []
    },
    {
      "cell_type": "code",
      "execution_count": 94,
      "metadata": {
        "id": "MK_OOkg-7hul"
      },
      "outputs": [],
      "source": [
        "# In the dataset we have a NULL violation, when there is no violation\n",
        "# To make this more explicit, we replace NULL with 000\n",
        "# df.VIOLATION_CODE.fillna('000', inplace=True)"
      ]
    },
    {
      "cell_type": "code",
      "execution_count": 95,
      "metadata": {
        "colab": {
          "base_uri": "https://localhost:8080/"
        },
        "id": "Hz1Jf_A97hul",
        "outputId": "10dd5114-6b8b-4aa9-fb39-8e58c646c583"
      },
      "outputs": [
        {
          "output_type": "execute_result",
          "data": {
            "text/plain": [
              "np.int64(5107)"
            ]
          },
          "metadata": {},
          "execution_count": 95
        }
      ],
      "source": [
        "df.VIOLATION_CODE.isnull().sum()"
      ]
    },
    {
      "cell_type": "code",
      "execution_count": 96,
      "metadata": {
        "id": "OwRQRczG7hul"
      },
      "outputs": [],
      "source": [
        "## LATITUDE and LONGITUDE"
      ]
    },
    {
      "cell_type": "code",
      "execution_count": 97,
      "metadata": {
        "id": "swMage4I7hum"
      },
      "outputs": [],
      "source": [
        "df['LONGITUDE'] = pd.to_numeric(df['LONGITUDE'])\n",
        "df['LATITUDE'] = pd.to_numeric(df['LATITUDE'])"
      ]
    },
    {
      "cell_type": "markdown",
      "metadata": {
        "id": "hEIrMdva7hum"
      },
      "source": [
        "### MISC analysis"
      ]
    },
    {
      "cell_type": "code",
      "execution_count": 97,
      "metadata": {
        "id": "ZeF8cokn7hum"
      },
      "outputs": [],
      "source": []
    },
    {
      "cell_type": "code",
      "execution_count": 98,
      "metadata": {
        "colab": {
          "base_uri": "https://localhost:8080/"
        },
        "id": "IE1gnLnl7hum",
        "outputId": "30a28cb1-8357-49e4-bfff-3a8e1c87d08c"
      },
      "outputs": [
        {
          "output_type": "stream",
          "name": "stdout",
          "text": [
            "TO_DELETE\n",
            "False    193993\n",
            "True      91033\n",
            "Name: count, dtype: int64\n",
            "=====\n",
            "CRITICAL_FLAG\n",
            "Critical          151818\n",
            "Not Critical      126371\n",
            "Not Applicable      6837\n",
            "Name: count, dtype: int64\n",
            "=====\n",
            "ACTION\n",
            "Violations found           267125\n",
            "Establishment closed         9636\n",
            "No violations                1964\n",
            "Establishment re-opened      1922\n",
            "Establishment re-closed      1215\n",
            "Name: count, dtype: int64\n",
            "=====\n",
            "BORO\n",
            "Manhattan        105334\n",
            "Brooklyn          74776\n",
            "Queens            68875\n",
            "Bronx             26020\n",
            "Staten Island     10006\n",
            "0                    15\n",
            "Name: count, dtype: int64\n",
            "=====\n",
            "GRADE\n",
            "A    95121\n",
            "B    16937\n",
            "C    11333\n",
            "N     9002\n",
            "Z     5412\n",
            "P      919\n",
            "Name: count, dtype: int64\n",
            "=====\n",
            "INSPECTION_TYPE\n",
            "Initial Inspection                                             151972\n",
            "Re-inspection                                                   55777\n",
            "Pre-permit (Operational) / Initial Inspection                   39783\n",
            "Pre-permit (Operational) / Re-inspection                        10752\n",
            "Administrative Miscellaneous / Initial Inspection                8115\n",
            "Pre-permit (Non-operational) / Initial Inspection                3611\n",
            "Cycle Inspection / Reopening Inspection                          2687\n",
            "Pre-permit (Operational) / Compliance Inspection                 1981\n",
            "Administrative Miscellaneous / Re-inspection                     1659\n",
            "Cycle Inspection / Compliance Inspection                         1251\n",
            "Pre-permit (Operational) / Reopening Inspection                   763\n",
            "Inter-Agency Task Force / Initial Inspection                      705\n",
            "Smoke-Free Air Act / Initial Inspection                           628\n",
            "Trans Fat / Initial Inspection                                    488\n",
            "Calorie Posting / Initial Inspection                              415\n",
            "Pre-permit (Non-operational) / Re-inspection                      339\n",
            "Pre-permit (Operational) / Second Compliance Inspection           223\n",
            "Administrative Miscellaneous / Compliance Inspection              148\n",
            "Sodium Warning / Initial Inspection                               104\n",
            "Cycle Inspection / Second Compliance Inspection                    81\n",
            "Calorie Posting / Re-inspection                                    78\n",
            "Trans Fat / Re-inspection                                          74\n",
            "Administrative Miscellaneous / Reopening Inspection                64\n",
            "Smoke-Free Air Act / Re-inspection                                 55\n",
            "Pre-permit (Non-operational) / Compliance Inspection               51\n",
            "Administrative Miscellaneous / Second Compliance Inspection        20\n",
            "Pre-permit (Non-operational) / Second Compliance Inspection        15\n",
            "Calorie Posting / Compliance Inspection                             7\n",
            "Sodium Warning / Re-inspection                                      6\n",
            "Smoke-Free Air Act / Compliance Inspection                          5\n",
            "Trans Fat / Second Compliance Inspection                            2\n",
            "Trans Fat / Compliance Inspection                                   2\n",
            "Smoke-Free Air Act / Limited Inspection                             1\n",
            "Name: count, dtype: int64\n",
            "=====\n",
            "COUNCIL_DISTRICT\n",
            "03    23392\n",
            "01    20995\n",
            "04    19373\n",
            "02    14694\n",
            "33     9289\n",
            "20     8818\n",
            "26     8522\n",
            "34     8249\n",
            "39     7412\n",
            "22     6720\n",
            "43     6390\n",
            "25     6325\n",
            "35     6100\n",
            "38     5878\n",
            "06     5854\n",
            "05     5487\n",
            "21     5456\n",
            "19     4615\n",
            "29     4327\n",
            "07     4253\n",
            "08     4239\n",
            "10     4231\n",
            "40     4184\n",
            "36     4051\n",
            "28     3817\n",
            "47     3796\n",
            "13     3673\n",
            "48     3649\n",
            "30     3638\n",
            "11     3606\n",
            "37     3575\n",
            "15     3571\n",
            "49     3552\n",
            "50     3521\n",
            "32     3338\n",
            "27     3330\n",
            "17     3296\n",
            "24     3277\n",
            "46     3074\n",
            "51     3017\n",
            "23     2948\n",
            "45     2887\n",
            "41     2852\n",
            "09     2784\n",
            "18     2621\n",
            "14     2593\n",
            "12     2523\n",
            "44     2304\n",
            "16     2105\n",
            "42     1760\n",
            "31     1695\n",
            "Name: count, dtype: int64\n",
            "=====\n",
            "COMMUNITY_BOARD\n",
            "105    21562\n",
            "103    14292\n",
            "102    12870\n",
            "104    11200\n",
            "407    10920\n",
            "       ...  \n",
            "164       50\n",
            "227       46\n",
            "228       26\n",
            "482        6\n",
            "595        5\n",
            "Name: count, Length: 68, dtype: int64\n",
            "=====\n",
            "CUISINE_DESCRIPTION\n",
            "American          45290\n",
            "Chinese           27496\n",
            "Coffee/Tea        20051\n",
            "Pizza             17257\n",
            "Latin American    12260\n",
            "                  ...  \n",
            "Chilean              32\n",
            "Czech                13\n",
            "Haute Cuisine         5\n",
            "Southwestern          2\n",
            "Chimichurri           2\n",
            "Name: count, Length: 89, dtype: int64\n",
            "=====\n",
            "VIOLATION_CODE\n",
            "10F      39523\n",
            "08A      27460\n",
            "06D      18438\n",
            "02G      17304\n",
            "10B      17147\n",
            "         ...  \n",
            "16K          1\n",
            "15S          1\n",
            "20-02        1\n",
            "19-03        1\n",
            "15-17        1\n",
            "Name: count, Length: 149, dtype: int64\n",
            "=====\n",
            "NTA\n",
            "MN17    16119\n",
            "MN13     8441\n",
            "MN23     8006\n",
            "MN24     7865\n",
            "MN27     6650\n",
            "        ...  \n",
            "BK93      113\n",
            "SI08       90\n",
            "MN99       85\n",
            "BX99       72\n",
            "SI48       49\n",
            "Name: count, Length: 193, dtype: int64\n",
            "=====\n"
          ]
        }
      ],
      "source": [
        "# Find the unique values in each column\n",
        "#\n",
        "# df.describe(include = [np.object, 'category']).T['unique']\n",
        "unique = df.describe(include = 'all').T['unique'].sort_values()\n",
        "\n",
        "for column in unique.index:\n",
        "    if unique[column] < 200:\n",
        "        print(df[column].value_counts())\n",
        "        print(\"=====\")"
      ]
    },
    {
      "cell_type": "code",
      "execution_count": 99,
      "metadata": {
        "id": "75eLQgPV7hum",
        "outputId": "abefb19c-53ab-464a-b91f-41fa1d02be69",
        "colab": {
          "base_uri": "https://localhost:8080/",
          "height": 868
        }
      },
      "outputs": [
        {
          "output_type": "execute_result",
          "data": {
            "text/plain": [
              "CAMIS                            object\n",
              "DBA                              object\n",
              "BORO                             object\n",
              "BUILDING                         object\n",
              "STREET                           object\n",
              "ZIPCODE                          object\n",
              "PHONE                            object\n",
              "CUISINE_DESCRIPTION              object\n",
              "INSPECTION_DATE          datetime64[ns]\n",
              "ACTION                           object\n",
              "VIOLATION_CODE                   object\n",
              "VIOLATION_DESCRIPTION            object\n",
              "CRITICAL_FLAG                    object\n",
              "SCORE                           float64\n",
              "GRADE                            object\n",
              "INSPECTION_TYPE                  object\n",
              "LATITUDE                        float64\n",
              "LONGITUDE                       float64\n",
              "COMMUNITY_BOARD                  object\n",
              "COUNCIL_DISTRICT                 object\n",
              "CENSUS_TRACT                     object\n",
              "BIN                              object\n",
              "BBL                              object\n",
              "NTA                              object\n",
              "TO_DELETE                          bool\n",
              "dtype: object"
            ],
            "text/html": [
              "<div>\n",
              "<style scoped>\n",
              "    .dataframe tbody tr th:only-of-type {\n",
              "        vertical-align: middle;\n",
              "    }\n",
              "\n",
              "    .dataframe tbody tr th {\n",
              "        vertical-align: top;\n",
              "    }\n",
              "\n",
              "    .dataframe thead th {\n",
              "        text-align: right;\n",
              "    }\n",
              "</style>\n",
              "<table border=\"1\" class=\"dataframe\">\n",
              "  <thead>\n",
              "    <tr style=\"text-align: right;\">\n",
              "      <th></th>\n",
              "      <th>0</th>\n",
              "    </tr>\n",
              "  </thead>\n",
              "  <tbody>\n",
              "    <tr>\n",
              "      <th>CAMIS</th>\n",
              "      <td>object</td>\n",
              "    </tr>\n",
              "    <tr>\n",
              "      <th>DBA</th>\n",
              "      <td>object</td>\n",
              "    </tr>\n",
              "    <tr>\n",
              "      <th>BORO</th>\n",
              "      <td>object</td>\n",
              "    </tr>\n",
              "    <tr>\n",
              "      <th>BUILDING</th>\n",
              "      <td>object</td>\n",
              "    </tr>\n",
              "    <tr>\n",
              "      <th>STREET</th>\n",
              "      <td>object</td>\n",
              "    </tr>\n",
              "    <tr>\n",
              "      <th>ZIPCODE</th>\n",
              "      <td>object</td>\n",
              "    </tr>\n",
              "    <tr>\n",
              "      <th>PHONE</th>\n",
              "      <td>object</td>\n",
              "    </tr>\n",
              "    <tr>\n",
              "      <th>CUISINE_DESCRIPTION</th>\n",
              "      <td>object</td>\n",
              "    </tr>\n",
              "    <tr>\n",
              "      <th>INSPECTION_DATE</th>\n",
              "      <td>datetime64[ns]</td>\n",
              "    </tr>\n",
              "    <tr>\n",
              "      <th>ACTION</th>\n",
              "      <td>object</td>\n",
              "    </tr>\n",
              "    <tr>\n",
              "      <th>VIOLATION_CODE</th>\n",
              "      <td>object</td>\n",
              "    </tr>\n",
              "    <tr>\n",
              "      <th>VIOLATION_DESCRIPTION</th>\n",
              "      <td>object</td>\n",
              "    </tr>\n",
              "    <tr>\n",
              "      <th>CRITICAL_FLAG</th>\n",
              "      <td>object</td>\n",
              "    </tr>\n",
              "    <tr>\n",
              "      <th>SCORE</th>\n",
              "      <td>float64</td>\n",
              "    </tr>\n",
              "    <tr>\n",
              "      <th>GRADE</th>\n",
              "      <td>object</td>\n",
              "    </tr>\n",
              "    <tr>\n",
              "      <th>INSPECTION_TYPE</th>\n",
              "      <td>object</td>\n",
              "    </tr>\n",
              "    <tr>\n",
              "      <th>LATITUDE</th>\n",
              "      <td>float64</td>\n",
              "    </tr>\n",
              "    <tr>\n",
              "      <th>LONGITUDE</th>\n",
              "      <td>float64</td>\n",
              "    </tr>\n",
              "    <tr>\n",
              "      <th>COMMUNITY_BOARD</th>\n",
              "      <td>object</td>\n",
              "    </tr>\n",
              "    <tr>\n",
              "      <th>COUNCIL_DISTRICT</th>\n",
              "      <td>object</td>\n",
              "    </tr>\n",
              "    <tr>\n",
              "      <th>CENSUS_TRACT</th>\n",
              "      <td>object</td>\n",
              "    </tr>\n",
              "    <tr>\n",
              "      <th>BIN</th>\n",
              "      <td>object</td>\n",
              "    </tr>\n",
              "    <tr>\n",
              "      <th>BBL</th>\n",
              "      <td>object</td>\n",
              "    </tr>\n",
              "    <tr>\n",
              "      <th>NTA</th>\n",
              "      <td>object</td>\n",
              "    </tr>\n",
              "    <tr>\n",
              "      <th>TO_DELETE</th>\n",
              "      <td>bool</td>\n",
              "    </tr>\n",
              "  </tbody>\n",
              "</table>\n",
              "</div><br><label><b>dtype:</b> object</label>"
            ]
          },
          "metadata": {},
          "execution_count": 99
        }
      ],
      "source": [
        "df.dtypes"
      ]
    },
    {
      "cell_type": "markdown",
      "metadata": {
        "id": "TWzSy9MD7hun"
      },
      "source": [
        "## Deleting Entries"
      ]
    },
    {
      "cell_type": "markdown",
      "metadata": {
        "id": "PK9p5-0H7hun"
      },
      "source": [
        "In this section, we use the results of the analysis above, and delete (additional) entries that will not be useful in our analysis. (Note that it is important to document this, as others may want to go back to the original source, if the entries that we leave are not sufficient.)"
      ]
    },
    {
      "cell_type": "code",
      "execution_count": 100,
      "metadata": {
        "colab": {
          "base_uri": "https://localhost:8080/"
        },
        "id": "6RuMD1ME7hun",
        "outputId": "58725cb3-01d4-41aa-8a47-94d45dadd277"
      },
      "outputs": [
        {
          "output_type": "execute_result",
          "data": {
            "text/plain": [
              "285026"
            ]
          },
          "metadata": {},
          "execution_count": 100
        }
      ],
      "source": [
        "len(df)"
      ]
    },
    {
      "cell_type": "code",
      "execution_count": 101,
      "metadata": {
        "id": "y926HOop7hun"
      },
      "outputs": [],
      "source": [
        "assert len(df) == initial_size"
      ]
    },
    {
      "cell_type": "code",
      "execution_count": 102,
      "metadata": {
        "id": "h8PGHqOC7hun"
      },
      "outputs": [],
      "source": [
        "df = df[ df.TO_DELETE == False].copy()"
      ]
    },
    {
      "cell_type": "code",
      "execution_count": 103,
      "metadata": {
        "colab": {
          "base_uri": "https://localhost:8080/"
        },
        "id": "kS-cLf-Z7hun",
        "outputId": "8a36fd63-9eb0-460c-d0c7-561f9f46d814"
      },
      "outputs": [
        {
          "output_type": "execute_result",
          "data": {
            "text/plain": [
              "193993"
            ]
          },
          "metadata": {},
          "execution_count": 103
        }
      ],
      "source": [
        "len(df)"
      ]
    },
    {
      "cell_type": "code",
      "source": [],
      "metadata": {
        "id": "AtUmMLIUjZJn"
      },
      "execution_count": 103,
      "outputs": []
    },
    {
      "cell_type": "code",
      "source": [
        "df[df.VIOLATION_CODE.isnull()].VIOLATION_DESCRIPTION"
      ],
      "metadata": {
        "colab": {
          "base_uri": "https://localhost:8080/",
          "height": 458
        },
        "id": "CXYAb1_LlYWK",
        "outputId": "7438da73-3d38-4e0d-e79f-eeddebbea400"
      },
      "execution_count": 104,
      "outputs": [
        {
          "output_type": "execute_result",
          "data": {
            "text/plain": [
              "73        NaN\n",
              "79        NaN\n",
              "166       NaN\n",
              "331       NaN\n",
              "399       NaN\n",
              "         ... \n",
              "282369    NaN\n",
              "282424    NaN\n",
              "283173    NaN\n",
              "283984    NaN\n",
              "284675    NaN\n",
              "Name: VIOLATION_DESCRIPTION, Length: 376, dtype: object"
            ],
            "text/html": [
              "<div>\n",
              "<style scoped>\n",
              "    .dataframe tbody tr th:only-of-type {\n",
              "        vertical-align: middle;\n",
              "    }\n",
              "\n",
              "    .dataframe tbody tr th {\n",
              "        vertical-align: top;\n",
              "    }\n",
              "\n",
              "    .dataframe thead th {\n",
              "        text-align: right;\n",
              "    }\n",
              "</style>\n",
              "<table border=\"1\" class=\"dataframe\">\n",
              "  <thead>\n",
              "    <tr style=\"text-align: right;\">\n",
              "      <th></th>\n",
              "      <th>VIOLATION_DESCRIPTION</th>\n",
              "    </tr>\n",
              "  </thead>\n",
              "  <tbody>\n",
              "    <tr>\n",
              "      <th>73</th>\n",
              "      <td>NaN</td>\n",
              "    </tr>\n",
              "    <tr>\n",
              "      <th>79</th>\n",
              "      <td>NaN</td>\n",
              "    </tr>\n",
              "    <tr>\n",
              "      <th>166</th>\n",
              "      <td>NaN</td>\n",
              "    </tr>\n",
              "    <tr>\n",
              "      <th>331</th>\n",
              "      <td>NaN</td>\n",
              "    </tr>\n",
              "    <tr>\n",
              "      <th>399</th>\n",
              "      <td>NaN</td>\n",
              "    </tr>\n",
              "    <tr>\n",
              "      <th>...</th>\n",
              "      <td>...</td>\n",
              "    </tr>\n",
              "    <tr>\n",
              "      <th>282369</th>\n",
              "      <td>NaN</td>\n",
              "    </tr>\n",
              "    <tr>\n",
              "      <th>282424</th>\n",
              "      <td>NaN</td>\n",
              "    </tr>\n",
              "    <tr>\n",
              "      <th>283173</th>\n",
              "      <td>NaN</td>\n",
              "    </tr>\n",
              "    <tr>\n",
              "      <th>283984</th>\n",
              "      <td>NaN</td>\n",
              "    </tr>\n",
              "    <tr>\n",
              "      <th>284675</th>\n",
              "      <td>NaN</td>\n",
              "    </tr>\n",
              "  </tbody>\n",
              "</table>\n",
              "<p>376 rows × 1 columns</p>\n",
              "</div><br><label><b>dtype:</b> object</label>"
            ]
          },
          "metadata": {},
          "execution_count": 104
        }
      ]
    },
    {
      "cell_type": "markdown",
      "metadata": {
        "id": "PnUgthvI7huo"
      },
      "source": [
        "## Additional Data Quality Checks"
      ]
    },
    {
      "cell_type": "code",
      "execution_count": 105,
      "metadata": {
        "id": "3cyfDjZo7huo"
      },
      "outputs": [],
      "source": [
        "\n",
        "\n",
        "assert sum(df.INSPECTION_TYPE.isnull()) == 0\n",
        "\n",
        "assert len(set(df.INSPECTION_TYPE.values)) == 2\n",
        "\n",
        "df[\"INSPECTION_TYPE\"] =  pd.Categorical(df[\"INSPECTION_TYPE\"], ordered=False)"
      ]
    },
    {
      "cell_type": "code",
      "execution_count": 106,
      "metadata": {
        "id": "k157caf_7hup"
      },
      "outputs": [],
      "source": [
        "# Check that no borough entries are empty\n",
        "assert sum(df.BORO.isnull()) == 0\n",
        "\n",
        "df[\"BORO\"] =  pd.Categorical(df[\"BORO\"], ordered=False)"
      ]
    },
    {
      "cell_type": "code",
      "execution_count": 107,
      "metadata": {
        "id": "hLTycuLg7hup"
      },
      "outputs": [],
      "source": [
        "# Check that no street numbers are empty\n",
        "assert sum(df.BUILDING.isnull()) == 0"
      ]
    },
    {
      "cell_type": "code",
      "execution_count": 108,
      "metadata": {
        "id": "pZJS6udG7hup"
      },
      "outputs": [],
      "source": [
        "assert sum(df.STREET.isnull()) == 0"
      ]
    },
    {
      "cell_type": "code",
      "execution_count": 109,
      "metadata": {
        "id": "BpD6_PoQ7hup"
      },
      "outputs": [],
      "source": [
        "\n",
        "assert sum(df.CUISINE_DESCRIPTION.isnull()) == 0\n",
        "\n",
        "df[\"CUISINE_DESCRIPTION\"] =  pd.Categorical(df[\"CUISINE_DESCRIPTION\"], ordered=False)"
      ]
    },
    {
      "cell_type": "code",
      "execution_count": 110,
      "metadata": {
        "id": "Wv0nnqzP7hup"
      },
      "outputs": [],
      "source": [
        "# We only keep three different actions\n",
        "assert len(set(df.ACTION.values)) == 3\n",
        "\n",
        "# No action is empty\n",
        "assert sum(df.ACTION.isnull()) == 0\n",
        "\n",
        "df[\"ACTION\"] =  pd.Categorical(df[\"ACTION\"], ordered=False)"
      ]
    },
    {
      "cell_type": "code",
      "execution_count": 110,
      "metadata": {
        "id": "Jpubdfl77huq"
      },
      "outputs": [],
      "source": []
    },
    {
      "cell_type": "code",
      "execution_count": 110,
      "metadata": {
        "id": "DKjGwZzl7huq"
      },
      "outputs": [],
      "source": []
    },
    {
      "cell_type": "code",
      "execution_count": 111,
      "metadata": {
        "id": "JyXjlxFI7huq"
      },
      "outputs": [],
      "source": [
        "# The below drops any grade values other than A, B, C, and converts the remaining entries to null\n",
        "df[\"GRADE\"] =  pd.Categorical(df[\"GRADE\"], categories = ['A', 'B', 'C'], ordered=True)\n",
        "\n",
        "# https://www1.nyc.gov/assets/doh/downloads/pdf/rii/how-we-score-grade.pdf\n",
        "# 0-13 get an A\n",
        "assert sum( (df.GRADE=='A') & (df.SCORE>13)) == 0\n",
        "\n",
        "# 14-27 get a B\n",
        "assert sum( (df.GRADE=='B') & ( (df.SCORE<14) | (df.SCORE>27) ) ) == 0\n",
        "\n",
        "# 28- get a C\n",
        "assert sum( (df.GRADE=='C') & (df.SCORE<28) ) == 0\n",
        "\n",
        "# TODO: In principle, a NULL grade is only when the score is above 14, and it was an initial inspection"
      ]
    },
    {
      "cell_type": "code",
      "execution_count": 112,
      "metadata": {
        "id": "3v5M-vyM7huq"
      },
      "outputs": [],
      "source": [
        "# Check that is there is a grade date, a grade is also assigned\n",
        "# assert sum ( ~df.GRADE_DATE.isnull() & df.GRADE.isnull() ) == 0"
      ]
    },
    {
      "cell_type": "code",
      "execution_count": 113,
      "metadata": {
        "id": "Afj_mO1f7huq"
      },
      "outputs": [],
      "source": [
        "df[\"VIOLATION_CODE\"] =  pd.Categorical(df[\"VIOLATION_CODE\"], ordered=False)\n",
        "df[\"CRITICAL_FLAG\"] =  pd.Categorical(df[\"CRITICAL_FLAG\"], ordered=False)\n"
      ]
    },
    {
      "cell_type": "code",
      "execution_count": 114,
      "metadata": {
        "colab": {
          "base_uri": "https://localhost:8080/",
          "height": 458
        },
        "id": "lYT2MagN7huq",
        "outputId": "18f9cf03-5556-44aa-d643-9e0d015bbc3e"
      },
      "outputs": [
        {
          "output_type": "execute_result",
          "data": {
            "text/plain": [
              "73        NaN\n",
              "79        NaN\n",
              "166       NaN\n",
              "331       NaN\n",
              "399       NaN\n",
              "         ... \n",
              "282369    NaN\n",
              "282424    NaN\n",
              "283173    NaN\n",
              "283984    NaN\n",
              "284675    NaN\n",
              "Name: VIOLATION_DESCRIPTION, Length: 376, dtype: object"
            ],
            "text/html": [
              "<div>\n",
              "<style scoped>\n",
              "    .dataframe tbody tr th:only-of-type {\n",
              "        vertical-align: middle;\n",
              "    }\n",
              "\n",
              "    .dataframe tbody tr th {\n",
              "        vertical-align: top;\n",
              "    }\n",
              "\n",
              "    .dataframe thead th {\n",
              "        text-align: right;\n",
              "    }\n",
              "</style>\n",
              "<table border=\"1\" class=\"dataframe\">\n",
              "  <thead>\n",
              "    <tr style=\"text-align: right;\">\n",
              "      <th></th>\n",
              "      <th>VIOLATION_DESCRIPTION</th>\n",
              "    </tr>\n",
              "  </thead>\n",
              "  <tbody>\n",
              "    <tr>\n",
              "      <th>73</th>\n",
              "      <td>NaN</td>\n",
              "    </tr>\n",
              "    <tr>\n",
              "      <th>79</th>\n",
              "      <td>NaN</td>\n",
              "    </tr>\n",
              "    <tr>\n",
              "      <th>166</th>\n",
              "      <td>NaN</td>\n",
              "    </tr>\n",
              "    <tr>\n",
              "      <th>331</th>\n",
              "      <td>NaN</td>\n",
              "    </tr>\n",
              "    <tr>\n",
              "      <th>399</th>\n",
              "      <td>NaN</td>\n",
              "    </tr>\n",
              "    <tr>\n",
              "      <th>...</th>\n",
              "      <td>...</td>\n",
              "    </tr>\n",
              "    <tr>\n",
              "      <th>282369</th>\n",
              "      <td>NaN</td>\n",
              "    </tr>\n",
              "    <tr>\n",
              "      <th>282424</th>\n",
              "      <td>NaN</td>\n",
              "    </tr>\n",
              "    <tr>\n",
              "      <th>283173</th>\n",
              "      <td>NaN</td>\n",
              "    </tr>\n",
              "    <tr>\n",
              "      <th>283984</th>\n",
              "      <td>NaN</td>\n",
              "    </tr>\n",
              "    <tr>\n",
              "      <th>284675</th>\n",
              "      <td>NaN</td>\n",
              "    </tr>\n",
              "  </tbody>\n",
              "</table>\n",
              "<p>376 rows × 1 columns</p>\n",
              "</div><br><label><b>dtype:</b> object</label>"
            ]
          },
          "metadata": {},
          "execution_count": 114
        }
      ],
      "source": [
        "df [ df.VIOLATION_CODE.isnull() ].VIOLATION_DESCRIPTION"
      ]
    },
    {
      "cell_type": "markdown",
      "metadata": {
        "id": "oncdHcaK7huq"
      },
      "source": [
        "## Normalization"
      ]
    },
    {
      "cell_type": "markdown",
      "metadata": {
        "id": "6tcBS-Pl7hur"
      },
      "source": [
        "### Violation Codes"
      ]
    },
    {
      "cell_type": "code",
      "execution_count": 115,
      "metadata": {
        "colab": {
          "base_uri": "https://localhost:8080/",
          "height": 455
        },
        "id": "CkoPrSYw7hur",
        "outputId": "0ce1a37e-b788-4d64-b7ef-5a6d1ccd495d"
      },
      "outputs": [
        {
          "output_type": "execute_result",
          "data": {
            "text/plain": [
              "                                                      DESCRIPTION  \\\n",
              "VIOLATION_CODE                                                      \n",
              "02A             Time/Temperature Control for Safety (TCS) food...   \n",
              "02A              Food not cooked to required minimum temperature.   \n",
              "02A             Time/Temperature Control for Safety (TCS) food...   \n",
              "02B                Hot TCS food item not held at or above 140 °F.   \n",
              "02B                    Hot food item not held at or above 140º F.   \n",
              "...                                                           ...   \n",
              "28-05           Food adulterated or misbranded. Adulterated or...   \n",
              "28-05           Food adulterated or misbranded.  Adulterated o...   \n",
              "28-06           Contract with a pest management professional n...   \n",
              "28-06           Contract with a pest management professional n...   \n",
              "28-07             Unapproved outdoor, street or sidewalk cooking.   \n",
              "\n",
              "                    CRITICAL  \n",
              "VIOLATION_CODE                \n",
              "02A                 Critical  \n",
              "02A                 Critical  \n",
              "02A                 Critical  \n",
              "02B                 Critical  \n",
              "02B                 Critical  \n",
              "...                      ...  \n",
              "28-05           Not Critical  \n",
              "28-05           Not Critical  \n",
              "28-06           Not Critical  \n",
              "28-06           Not Critical  \n",
              "28-07           Not Critical  \n",
              "\n",
              "[149 rows x 2 columns]"
            ],
            "text/html": [
              "\n",
              "  <div id=\"df-9708d8d7-49f1-41a2-930b-4bbf5fdd26b2\" class=\"colab-df-container\">\n",
              "    <div>\n",
              "<style scoped>\n",
              "    .dataframe tbody tr th:only-of-type {\n",
              "        vertical-align: middle;\n",
              "    }\n",
              "\n",
              "    .dataframe tbody tr th {\n",
              "        vertical-align: top;\n",
              "    }\n",
              "\n",
              "    .dataframe thead th {\n",
              "        text-align: right;\n",
              "    }\n",
              "</style>\n",
              "<table border=\"1\" class=\"dataframe\">\n",
              "  <thead>\n",
              "    <tr style=\"text-align: right;\">\n",
              "      <th></th>\n",
              "      <th>DESCRIPTION</th>\n",
              "      <th>CRITICAL</th>\n",
              "    </tr>\n",
              "    <tr>\n",
              "      <th>VIOLATION_CODE</th>\n",
              "      <th></th>\n",
              "      <th></th>\n",
              "    </tr>\n",
              "  </thead>\n",
              "  <tbody>\n",
              "    <tr>\n",
              "      <th>02A</th>\n",
              "      <td>Time/Temperature Control for Safety (TCS) food...</td>\n",
              "      <td>Critical</td>\n",
              "    </tr>\n",
              "    <tr>\n",
              "      <th>02A</th>\n",
              "      <td>Food not cooked to required minimum temperature.</td>\n",
              "      <td>Critical</td>\n",
              "    </tr>\n",
              "    <tr>\n",
              "      <th>02A</th>\n",
              "      <td>Time/Temperature Control for Safety (TCS) food...</td>\n",
              "      <td>Critical</td>\n",
              "    </tr>\n",
              "    <tr>\n",
              "      <th>02B</th>\n",
              "      <td>Hot TCS food item not held at or above 140 °F.</td>\n",
              "      <td>Critical</td>\n",
              "    </tr>\n",
              "    <tr>\n",
              "      <th>02B</th>\n",
              "      <td>Hot food item not held at or above 140º F.</td>\n",
              "      <td>Critical</td>\n",
              "    </tr>\n",
              "    <tr>\n",
              "      <th>...</th>\n",
              "      <td>...</td>\n",
              "      <td>...</td>\n",
              "    </tr>\n",
              "    <tr>\n",
              "      <th>28-05</th>\n",
              "      <td>Food adulterated or misbranded. Adulterated or...</td>\n",
              "      <td>Not Critical</td>\n",
              "    </tr>\n",
              "    <tr>\n",
              "      <th>28-05</th>\n",
              "      <td>Food adulterated or misbranded.  Adulterated o...</td>\n",
              "      <td>Not Critical</td>\n",
              "    </tr>\n",
              "    <tr>\n",
              "      <th>28-06</th>\n",
              "      <td>Contract with a pest management professional n...</td>\n",
              "      <td>Not Critical</td>\n",
              "    </tr>\n",
              "    <tr>\n",
              "      <th>28-06</th>\n",
              "      <td>Contract with a pest management professional n...</td>\n",
              "      <td>Not Critical</td>\n",
              "    </tr>\n",
              "    <tr>\n",
              "      <th>28-07</th>\n",
              "      <td>Unapproved outdoor, street or sidewalk cooking.</td>\n",
              "      <td>Not Critical</td>\n",
              "    </tr>\n",
              "  </tbody>\n",
              "</table>\n",
              "<p>149 rows × 2 columns</p>\n",
              "</div>\n",
              "    <div class=\"colab-df-buttons\">\n",
              "\n",
              "  <div class=\"colab-df-container\">\n",
              "    <button class=\"colab-df-convert\" onclick=\"convertToInteractive('df-9708d8d7-49f1-41a2-930b-4bbf5fdd26b2')\"\n",
              "            title=\"Convert this dataframe to an interactive table.\"\n",
              "            style=\"display:none;\">\n",
              "\n",
              "  <svg xmlns=\"http://www.w3.org/2000/svg\" height=\"24px\" viewBox=\"0 -960 960 960\">\n",
              "    <path d=\"M120-120v-720h720v720H120Zm60-500h600v-160H180v160Zm220 220h160v-160H400v160Zm0 220h160v-160H400v160ZM180-400h160v-160H180v160Zm440 0h160v-160H620v160ZM180-180h160v-160H180v160Zm440 0h160v-160H620v160Z\"/>\n",
              "  </svg>\n",
              "    </button>\n",
              "\n",
              "  <style>\n",
              "    .colab-df-container {\n",
              "      display:flex;\n",
              "      gap: 12px;\n",
              "    }\n",
              "\n",
              "    .colab-df-convert {\n",
              "      background-color: #E8F0FE;\n",
              "      border: none;\n",
              "      border-radius: 50%;\n",
              "      cursor: pointer;\n",
              "      display: none;\n",
              "      fill: #1967D2;\n",
              "      height: 32px;\n",
              "      padding: 0 0 0 0;\n",
              "      width: 32px;\n",
              "    }\n",
              "\n",
              "    .colab-df-convert:hover {\n",
              "      background-color: #E2EBFA;\n",
              "      box-shadow: 0px 1px 2px rgba(60, 64, 67, 0.3), 0px 1px 3px 1px rgba(60, 64, 67, 0.15);\n",
              "      fill: #174EA6;\n",
              "    }\n",
              "\n",
              "    .colab-df-buttons div {\n",
              "      margin-bottom: 4px;\n",
              "    }\n",
              "\n",
              "    [theme=dark] .colab-df-convert {\n",
              "      background-color: #3B4455;\n",
              "      fill: #D2E3FC;\n",
              "    }\n",
              "\n",
              "    [theme=dark] .colab-df-convert:hover {\n",
              "      background-color: #434B5C;\n",
              "      box-shadow: 0px 1px 3px 1px rgba(0, 0, 0, 0.15);\n",
              "      filter: drop-shadow(0px 1px 2px rgba(0, 0, 0, 0.3));\n",
              "      fill: #FFFFFF;\n",
              "    }\n",
              "  </style>\n",
              "\n",
              "    <script>\n",
              "      const buttonEl =\n",
              "        document.querySelector('#df-9708d8d7-49f1-41a2-930b-4bbf5fdd26b2 button.colab-df-convert');\n",
              "      buttonEl.style.display =\n",
              "        google.colab.kernel.accessAllowed ? 'block' : 'none';\n",
              "\n",
              "      async function convertToInteractive(key) {\n",
              "        const element = document.querySelector('#df-9708d8d7-49f1-41a2-930b-4bbf5fdd26b2');\n",
              "        const dataTable =\n",
              "          await google.colab.kernel.invokeFunction('convertToInteractive',\n",
              "                                                    [key], {});\n",
              "        if (!dataTable) return;\n",
              "\n",
              "        const docLinkHtml = 'Like what you see? Visit the ' +\n",
              "          '<a target=\"_blank\" href=https://colab.research.google.com/notebooks/data_table.ipynb>data table notebook</a>'\n",
              "          + ' to learn more about interactive tables.';\n",
              "        element.innerHTML = '';\n",
              "        dataTable['output_type'] = 'display_data';\n",
              "        await google.colab.output.renderOutput(dataTable, element);\n",
              "        const docLink = document.createElement('div');\n",
              "        docLink.innerHTML = docLinkHtml;\n",
              "        element.appendChild(docLink);\n",
              "      }\n",
              "    </script>\n",
              "  </div>\n",
              "\n",
              "\n",
              "    <div id=\"df-5c1e32d7-8fb6-40f1-b70e-4f7843709b97\">\n",
              "      <button class=\"colab-df-quickchart\" onclick=\"quickchart('df-5c1e32d7-8fb6-40f1-b70e-4f7843709b97')\"\n",
              "                title=\"Suggest charts\"\n",
              "                style=\"display:none;\">\n",
              "\n",
              "<svg xmlns=\"http://www.w3.org/2000/svg\" height=\"24px\"viewBox=\"0 0 24 24\"\n",
              "     width=\"24px\">\n",
              "    <g>\n",
              "        <path d=\"M19 3H5c-1.1 0-2 .9-2 2v14c0 1.1.9 2 2 2h14c1.1 0 2-.9 2-2V5c0-1.1-.9-2-2-2zM9 17H7v-7h2v7zm4 0h-2V7h2v10zm4 0h-2v-4h2v4z\"/>\n",
              "    </g>\n",
              "</svg>\n",
              "      </button>\n",
              "\n",
              "<style>\n",
              "  .colab-df-quickchart {\n",
              "      --bg-color: #E8F0FE;\n",
              "      --fill-color: #1967D2;\n",
              "      --hover-bg-color: #E2EBFA;\n",
              "      --hover-fill-color: #174EA6;\n",
              "      --disabled-fill-color: #AAA;\n",
              "      --disabled-bg-color: #DDD;\n",
              "  }\n",
              "\n",
              "  [theme=dark] .colab-df-quickchart {\n",
              "      --bg-color: #3B4455;\n",
              "      --fill-color: #D2E3FC;\n",
              "      --hover-bg-color: #434B5C;\n",
              "      --hover-fill-color: #FFFFFF;\n",
              "      --disabled-bg-color: #3B4455;\n",
              "      --disabled-fill-color: #666;\n",
              "  }\n",
              "\n",
              "  .colab-df-quickchart {\n",
              "    background-color: var(--bg-color);\n",
              "    border: none;\n",
              "    border-radius: 50%;\n",
              "    cursor: pointer;\n",
              "    display: none;\n",
              "    fill: var(--fill-color);\n",
              "    height: 32px;\n",
              "    padding: 0;\n",
              "    width: 32px;\n",
              "  }\n",
              "\n",
              "  .colab-df-quickchart:hover {\n",
              "    background-color: var(--hover-bg-color);\n",
              "    box-shadow: 0 1px 2px rgba(60, 64, 67, 0.3), 0 1px 3px 1px rgba(60, 64, 67, 0.15);\n",
              "    fill: var(--button-hover-fill-color);\n",
              "  }\n",
              "\n",
              "  .colab-df-quickchart-complete:disabled,\n",
              "  .colab-df-quickchart-complete:disabled:hover {\n",
              "    background-color: var(--disabled-bg-color);\n",
              "    fill: var(--disabled-fill-color);\n",
              "    box-shadow: none;\n",
              "  }\n",
              "\n",
              "  .colab-df-spinner {\n",
              "    border: 2px solid var(--fill-color);\n",
              "    border-color: transparent;\n",
              "    border-bottom-color: var(--fill-color);\n",
              "    animation:\n",
              "      spin 1s steps(1) infinite;\n",
              "  }\n",
              "\n",
              "  @keyframes spin {\n",
              "    0% {\n",
              "      border-color: transparent;\n",
              "      border-bottom-color: var(--fill-color);\n",
              "      border-left-color: var(--fill-color);\n",
              "    }\n",
              "    20% {\n",
              "      border-color: transparent;\n",
              "      border-left-color: var(--fill-color);\n",
              "      border-top-color: var(--fill-color);\n",
              "    }\n",
              "    30% {\n",
              "      border-color: transparent;\n",
              "      border-left-color: var(--fill-color);\n",
              "      border-top-color: var(--fill-color);\n",
              "      border-right-color: var(--fill-color);\n",
              "    }\n",
              "    40% {\n",
              "      border-color: transparent;\n",
              "      border-right-color: var(--fill-color);\n",
              "      border-top-color: var(--fill-color);\n",
              "    }\n",
              "    60% {\n",
              "      border-color: transparent;\n",
              "      border-right-color: var(--fill-color);\n",
              "    }\n",
              "    80% {\n",
              "      border-color: transparent;\n",
              "      border-right-color: var(--fill-color);\n",
              "      border-bottom-color: var(--fill-color);\n",
              "    }\n",
              "    90% {\n",
              "      border-color: transparent;\n",
              "      border-bottom-color: var(--fill-color);\n",
              "    }\n",
              "  }\n",
              "</style>\n",
              "\n",
              "      <script>\n",
              "        async function quickchart(key) {\n",
              "          const quickchartButtonEl =\n",
              "            document.querySelector('#' + key + ' button');\n",
              "          quickchartButtonEl.disabled = true;  // To prevent multiple clicks.\n",
              "          quickchartButtonEl.classList.add('colab-df-spinner');\n",
              "          try {\n",
              "            const charts = await google.colab.kernel.invokeFunction(\n",
              "                'suggestCharts', [key], {});\n",
              "          } catch (error) {\n",
              "            console.error('Error during call to suggestCharts:', error);\n",
              "          }\n",
              "          quickchartButtonEl.classList.remove('colab-df-spinner');\n",
              "          quickchartButtonEl.classList.add('colab-df-quickchart-complete');\n",
              "        }\n",
              "        (() => {\n",
              "          let quickchartButtonEl =\n",
              "            document.querySelector('#df-5c1e32d7-8fb6-40f1-b70e-4f7843709b97 button');\n",
              "          quickchartButtonEl.style.display =\n",
              "            google.colab.kernel.accessAllowed ? 'block' : 'none';\n",
              "        })();\n",
              "      </script>\n",
              "    </div>\n",
              "\n",
              "  <div id=\"id_265fb3fd-1b23-4cbf-b8d3-ffbd0ce8628f\">\n",
              "    <style>\n",
              "      .colab-df-generate {\n",
              "        background-color: #E8F0FE;\n",
              "        border: none;\n",
              "        border-radius: 50%;\n",
              "        cursor: pointer;\n",
              "        display: none;\n",
              "        fill: #1967D2;\n",
              "        height: 32px;\n",
              "        padding: 0 0 0 0;\n",
              "        width: 32px;\n",
              "      }\n",
              "\n",
              "      .colab-df-generate:hover {\n",
              "        background-color: #E2EBFA;\n",
              "        box-shadow: 0px 1px 2px rgba(60, 64, 67, 0.3), 0px 1px 3px 1px rgba(60, 64, 67, 0.15);\n",
              "        fill: #174EA6;\n",
              "      }\n",
              "\n",
              "      [theme=dark] .colab-df-generate {\n",
              "        background-color: #3B4455;\n",
              "        fill: #D2E3FC;\n",
              "      }\n",
              "\n",
              "      [theme=dark] .colab-df-generate:hover {\n",
              "        background-color: #434B5C;\n",
              "        box-shadow: 0px 1px 3px 1px rgba(0, 0, 0, 0.15);\n",
              "        filter: drop-shadow(0px 1px 2px rgba(0, 0, 0, 0.3));\n",
              "        fill: #FFFFFF;\n",
              "      }\n",
              "    </style>\n",
              "    <button class=\"colab-df-generate\" onclick=\"generateWithVariable('violation_codes')\"\n",
              "            title=\"Generate code using this dataframe.\"\n",
              "            style=\"display:none;\">\n",
              "\n",
              "  <svg xmlns=\"http://www.w3.org/2000/svg\" height=\"24px\"viewBox=\"0 0 24 24\"\n",
              "       width=\"24px\">\n",
              "    <path d=\"M7,19H8.4L18.45,9,17,7.55,7,17.6ZM5,21V16.75L18.45,3.32a2,2,0,0,1,2.83,0l1.4,1.43a1.91,1.91,0,0,1,.58,1.4,1.91,1.91,0,0,1-.58,1.4L9.25,21ZM18.45,9,17,7.55Zm-12,3A5.31,5.31,0,0,0,4.9,8.1,5.31,5.31,0,0,0,1,6.5,5.31,5.31,0,0,0,4.9,4.9,5.31,5.31,0,0,0,6.5,1,5.31,5.31,0,0,0,8.1,4.9,5.31,5.31,0,0,0,12,6.5,5.46,5.46,0,0,0,6.5,12Z\"/>\n",
              "  </svg>\n",
              "    </button>\n",
              "    <script>\n",
              "      (() => {\n",
              "      const buttonEl =\n",
              "        document.querySelector('#id_265fb3fd-1b23-4cbf-b8d3-ffbd0ce8628f button.colab-df-generate');\n",
              "      buttonEl.style.display =\n",
              "        google.colab.kernel.accessAllowed ? 'block' : 'none';\n",
              "\n",
              "      buttonEl.onclick = () => {\n",
              "        google.colab.notebook.generateWithVariable('violation_codes');\n",
              "      }\n",
              "      })();\n",
              "    </script>\n",
              "  </div>\n",
              "\n",
              "    </div>\n",
              "  </div>\n"
            ],
            "application/vnd.google.colaboratory.intrinsic+json": {
              "type": "dataframe",
              "variable_name": "violation_codes",
              "summary": "{\n  \"name\": \"violation_codes\",\n  \"rows\": 149,\n  \"fields\": [\n    {\n      \"column\": \"VIOLATION_CODE\",\n      \"properties\": {\n        \"dtype\": \"category\",\n        \"num_unique_values\": 72,\n        \"samples\": [\n          \"02F\",\n          \"10G\",\n          \"04C\"\n        ],\n        \"semantic_type\": \"\",\n        \"description\": \"\"\n      }\n    },\n    {\n      \"column\": \"DESCRIPTION\",\n      \"properties\": {\n        \"dtype\": \"string\",\n        \"num_unique_values\": 147,\n        \"samples\": [\n          \"Mechanical or natural ventilation system not provided,  improperly installed, in disrepair and/or fails to prevent excessive build-up of grease, heat, steam condensation vapors, odors, smoke, and fumes.\",\n          \"Appropriately scaled metal stem-type thermometer or thermocouple not provided or used to evaluate temperatures of potentially hazardous foods during cooking, cooling, reheating and holding.\",\n          \"Hand wash sign not posted\"\n        ],\n        \"semantic_type\": \"\",\n        \"description\": \"\"\n      }\n    },\n    {\n      \"column\": \"CRITICAL\",\n      \"properties\": {\n        \"dtype\": \"category\",\n        \"num_unique_values\": 2,\n        \"samples\": [\n          \"Not Critical\",\n          \"Critical\"\n        ],\n        \"semantic_type\": \"\",\n        \"description\": \"\"\n      }\n    }\n  ]\n}"
            }
          },
          "metadata": {},
          "execution_count": 115
        }
      ],
      "source": [
        "# Recreating the table at https://www1.nyc.gov/assets/doh/downloads/pdf/rii/ri-violation-penalty.pdf\n",
        "\n",
        "violation_codes = df [ ['VIOLATION_CODE', 'VIOLATION_DESCRIPTION', 'CRITICAL_FLAG'] ].drop_duplicates()\n",
        "violation_codes = violation_codes.rename( {\n",
        "    'VIOLATION_DESCRIPTION' : 'DESCRIPTION',\n",
        "    'CRITICAL_FLAG' : 'CRITICAL'\n",
        "},  axis = 'columns').sort_values('VIOLATION_CODE').dropna().set_index('VIOLATION_CODE')\n",
        "violation_codes"
      ]
    },
    {
      "cell_type": "code",
      "source": [
        "violation_codes"
      ],
      "metadata": {
        "colab": {
          "base_uri": "https://localhost:8080/",
          "height": 455
        },
        "id": "xTHIoM_eACk1",
        "outputId": "2bf85f44-1893-4198-cde0-d1ba52a8eeb5"
      },
      "execution_count": 116,
      "outputs": [
        {
          "output_type": "execute_result",
          "data": {
            "text/plain": [
              "                                                      DESCRIPTION  \\\n",
              "VIOLATION_CODE                                                      \n",
              "02A             Time/Temperature Control for Safety (TCS) food...   \n",
              "02A              Food not cooked to required minimum temperature.   \n",
              "02A             Time/Temperature Control for Safety (TCS) food...   \n",
              "02B                Hot TCS food item not held at or above 140 °F.   \n",
              "02B                    Hot food item not held at or above 140º F.   \n",
              "...                                                           ...   \n",
              "28-05           Food adulterated or misbranded. Adulterated or...   \n",
              "28-05           Food adulterated or misbranded.  Adulterated o...   \n",
              "28-06           Contract with a pest management professional n...   \n",
              "28-06           Contract with a pest management professional n...   \n",
              "28-07             Unapproved outdoor, street or sidewalk cooking.   \n",
              "\n",
              "                    CRITICAL  \n",
              "VIOLATION_CODE                \n",
              "02A                 Critical  \n",
              "02A                 Critical  \n",
              "02A                 Critical  \n",
              "02B                 Critical  \n",
              "02B                 Critical  \n",
              "...                      ...  \n",
              "28-05           Not Critical  \n",
              "28-05           Not Critical  \n",
              "28-06           Not Critical  \n",
              "28-06           Not Critical  \n",
              "28-07           Not Critical  \n",
              "\n",
              "[149 rows x 2 columns]"
            ],
            "text/html": [
              "\n",
              "  <div id=\"df-617d140e-f4d8-4548-bae9-a51904b1d675\" class=\"colab-df-container\">\n",
              "    <div>\n",
              "<style scoped>\n",
              "    .dataframe tbody tr th:only-of-type {\n",
              "        vertical-align: middle;\n",
              "    }\n",
              "\n",
              "    .dataframe tbody tr th {\n",
              "        vertical-align: top;\n",
              "    }\n",
              "\n",
              "    .dataframe thead th {\n",
              "        text-align: right;\n",
              "    }\n",
              "</style>\n",
              "<table border=\"1\" class=\"dataframe\">\n",
              "  <thead>\n",
              "    <tr style=\"text-align: right;\">\n",
              "      <th></th>\n",
              "      <th>DESCRIPTION</th>\n",
              "      <th>CRITICAL</th>\n",
              "    </tr>\n",
              "    <tr>\n",
              "      <th>VIOLATION_CODE</th>\n",
              "      <th></th>\n",
              "      <th></th>\n",
              "    </tr>\n",
              "  </thead>\n",
              "  <tbody>\n",
              "    <tr>\n",
              "      <th>02A</th>\n",
              "      <td>Time/Temperature Control for Safety (TCS) food...</td>\n",
              "      <td>Critical</td>\n",
              "    </tr>\n",
              "    <tr>\n",
              "      <th>02A</th>\n",
              "      <td>Food not cooked to required minimum temperature.</td>\n",
              "      <td>Critical</td>\n",
              "    </tr>\n",
              "    <tr>\n",
              "      <th>02A</th>\n",
              "      <td>Time/Temperature Control for Safety (TCS) food...</td>\n",
              "      <td>Critical</td>\n",
              "    </tr>\n",
              "    <tr>\n",
              "      <th>02B</th>\n",
              "      <td>Hot TCS food item not held at or above 140 °F.</td>\n",
              "      <td>Critical</td>\n",
              "    </tr>\n",
              "    <tr>\n",
              "      <th>02B</th>\n",
              "      <td>Hot food item not held at or above 140º F.</td>\n",
              "      <td>Critical</td>\n",
              "    </tr>\n",
              "    <tr>\n",
              "      <th>...</th>\n",
              "      <td>...</td>\n",
              "      <td>...</td>\n",
              "    </tr>\n",
              "    <tr>\n",
              "      <th>28-05</th>\n",
              "      <td>Food adulterated or misbranded. Adulterated or...</td>\n",
              "      <td>Not Critical</td>\n",
              "    </tr>\n",
              "    <tr>\n",
              "      <th>28-05</th>\n",
              "      <td>Food adulterated or misbranded.  Adulterated o...</td>\n",
              "      <td>Not Critical</td>\n",
              "    </tr>\n",
              "    <tr>\n",
              "      <th>28-06</th>\n",
              "      <td>Contract with a pest management professional n...</td>\n",
              "      <td>Not Critical</td>\n",
              "    </tr>\n",
              "    <tr>\n",
              "      <th>28-06</th>\n",
              "      <td>Contract with a pest management professional n...</td>\n",
              "      <td>Not Critical</td>\n",
              "    </tr>\n",
              "    <tr>\n",
              "      <th>28-07</th>\n",
              "      <td>Unapproved outdoor, street or sidewalk cooking.</td>\n",
              "      <td>Not Critical</td>\n",
              "    </tr>\n",
              "  </tbody>\n",
              "</table>\n",
              "<p>149 rows × 2 columns</p>\n",
              "</div>\n",
              "    <div class=\"colab-df-buttons\">\n",
              "\n",
              "  <div class=\"colab-df-container\">\n",
              "    <button class=\"colab-df-convert\" onclick=\"convertToInteractive('df-617d140e-f4d8-4548-bae9-a51904b1d675')\"\n",
              "            title=\"Convert this dataframe to an interactive table.\"\n",
              "            style=\"display:none;\">\n",
              "\n",
              "  <svg xmlns=\"http://www.w3.org/2000/svg\" height=\"24px\" viewBox=\"0 -960 960 960\">\n",
              "    <path d=\"M120-120v-720h720v720H120Zm60-500h600v-160H180v160Zm220 220h160v-160H400v160Zm0 220h160v-160H400v160ZM180-400h160v-160H180v160Zm440 0h160v-160H620v160ZM180-180h160v-160H180v160Zm440 0h160v-160H620v160Z\"/>\n",
              "  </svg>\n",
              "    </button>\n",
              "\n",
              "  <style>\n",
              "    .colab-df-container {\n",
              "      display:flex;\n",
              "      gap: 12px;\n",
              "    }\n",
              "\n",
              "    .colab-df-convert {\n",
              "      background-color: #E8F0FE;\n",
              "      border: none;\n",
              "      border-radius: 50%;\n",
              "      cursor: pointer;\n",
              "      display: none;\n",
              "      fill: #1967D2;\n",
              "      height: 32px;\n",
              "      padding: 0 0 0 0;\n",
              "      width: 32px;\n",
              "    }\n",
              "\n",
              "    .colab-df-convert:hover {\n",
              "      background-color: #E2EBFA;\n",
              "      box-shadow: 0px 1px 2px rgba(60, 64, 67, 0.3), 0px 1px 3px 1px rgba(60, 64, 67, 0.15);\n",
              "      fill: #174EA6;\n",
              "    }\n",
              "\n",
              "    .colab-df-buttons div {\n",
              "      margin-bottom: 4px;\n",
              "    }\n",
              "\n",
              "    [theme=dark] .colab-df-convert {\n",
              "      background-color: #3B4455;\n",
              "      fill: #D2E3FC;\n",
              "    }\n",
              "\n",
              "    [theme=dark] .colab-df-convert:hover {\n",
              "      background-color: #434B5C;\n",
              "      box-shadow: 0px 1px 3px 1px rgba(0, 0, 0, 0.15);\n",
              "      filter: drop-shadow(0px 1px 2px rgba(0, 0, 0, 0.3));\n",
              "      fill: #FFFFFF;\n",
              "    }\n",
              "  </style>\n",
              "\n",
              "    <script>\n",
              "      const buttonEl =\n",
              "        document.querySelector('#df-617d140e-f4d8-4548-bae9-a51904b1d675 button.colab-df-convert');\n",
              "      buttonEl.style.display =\n",
              "        google.colab.kernel.accessAllowed ? 'block' : 'none';\n",
              "\n",
              "      async function convertToInteractive(key) {\n",
              "        const element = document.querySelector('#df-617d140e-f4d8-4548-bae9-a51904b1d675');\n",
              "        const dataTable =\n",
              "          await google.colab.kernel.invokeFunction('convertToInteractive',\n",
              "                                                    [key], {});\n",
              "        if (!dataTable) return;\n",
              "\n",
              "        const docLinkHtml = 'Like what you see? Visit the ' +\n",
              "          '<a target=\"_blank\" href=https://colab.research.google.com/notebooks/data_table.ipynb>data table notebook</a>'\n",
              "          + ' to learn more about interactive tables.';\n",
              "        element.innerHTML = '';\n",
              "        dataTable['output_type'] = 'display_data';\n",
              "        await google.colab.output.renderOutput(dataTable, element);\n",
              "        const docLink = document.createElement('div');\n",
              "        docLink.innerHTML = docLinkHtml;\n",
              "        element.appendChild(docLink);\n",
              "      }\n",
              "    </script>\n",
              "  </div>\n",
              "\n",
              "\n",
              "    <div id=\"df-b9a77189-7ce6-4b0d-b56e-d18177142170\">\n",
              "      <button class=\"colab-df-quickchart\" onclick=\"quickchart('df-b9a77189-7ce6-4b0d-b56e-d18177142170')\"\n",
              "                title=\"Suggest charts\"\n",
              "                style=\"display:none;\">\n",
              "\n",
              "<svg xmlns=\"http://www.w3.org/2000/svg\" height=\"24px\"viewBox=\"0 0 24 24\"\n",
              "     width=\"24px\">\n",
              "    <g>\n",
              "        <path d=\"M19 3H5c-1.1 0-2 .9-2 2v14c0 1.1.9 2 2 2h14c1.1 0 2-.9 2-2V5c0-1.1-.9-2-2-2zM9 17H7v-7h2v7zm4 0h-2V7h2v10zm4 0h-2v-4h2v4z\"/>\n",
              "    </g>\n",
              "</svg>\n",
              "      </button>\n",
              "\n",
              "<style>\n",
              "  .colab-df-quickchart {\n",
              "      --bg-color: #E8F0FE;\n",
              "      --fill-color: #1967D2;\n",
              "      --hover-bg-color: #E2EBFA;\n",
              "      --hover-fill-color: #174EA6;\n",
              "      --disabled-fill-color: #AAA;\n",
              "      --disabled-bg-color: #DDD;\n",
              "  }\n",
              "\n",
              "  [theme=dark] .colab-df-quickchart {\n",
              "      --bg-color: #3B4455;\n",
              "      --fill-color: #D2E3FC;\n",
              "      --hover-bg-color: #434B5C;\n",
              "      --hover-fill-color: #FFFFFF;\n",
              "      --disabled-bg-color: #3B4455;\n",
              "      --disabled-fill-color: #666;\n",
              "  }\n",
              "\n",
              "  .colab-df-quickchart {\n",
              "    background-color: var(--bg-color);\n",
              "    border: none;\n",
              "    border-radius: 50%;\n",
              "    cursor: pointer;\n",
              "    display: none;\n",
              "    fill: var(--fill-color);\n",
              "    height: 32px;\n",
              "    padding: 0;\n",
              "    width: 32px;\n",
              "  }\n",
              "\n",
              "  .colab-df-quickchart:hover {\n",
              "    background-color: var(--hover-bg-color);\n",
              "    box-shadow: 0 1px 2px rgba(60, 64, 67, 0.3), 0 1px 3px 1px rgba(60, 64, 67, 0.15);\n",
              "    fill: var(--button-hover-fill-color);\n",
              "  }\n",
              "\n",
              "  .colab-df-quickchart-complete:disabled,\n",
              "  .colab-df-quickchart-complete:disabled:hover {\n",
              "    background-color: var(--disabled-bg-color);\n",
              "    fill: var(--disabled-fill-color);\n",
              "    box-shadow: none;\n",
              "  }\n",
              "\n",
              "  .colab-df-spinner {\n",
              "    border: 2px solid var(--fill-color);\n",
              "    border-color: transparent;\n",
              "    border-bottom-color: var(--fill-color);\n",
              "    animation:\n",
              "      spin 1s steps(1) infinite;\n",
              "  }\n",
              "\n",
              "  @keyframes spin {\n",
              "    0% {\n",
              "      border-color: transparent;\n",
              "      border-bottom-color: var(--fill-color);\n",
              "      border-left-color: var(--fill-color);\n",
              "    }\n",
              "    20% {\n",
              "      border-color: transparent;\n",
              "      border-left-color: var(--fill-color);\n",
              "      border-top-color: var(--fill-color);\n",
              "    }\n",
              "    30% {\n",
              "      border-color: transparent;\n",
              "      border-left-color: var(--fill-color);\n",
              "      border-top-color: var(--fill-color);\n",
              "      border-right-color: var(--fill-color);\n",
              "    }\n",
              "    40% {\n",
              "      border-color: transparent;\n",
              "      border-right-color: var(--fill-color);\n",
              "      border-top-color: var(--fill-color);\n",
              "    }\n",
              "    60% {\n",
              "      border-color: transparent;\n",
              "      border-right-color: var(--fill-color);\n",
              "    }\n",
              "    80% {\n",
              "      border-color: transparent;\n",
              "      border-right-color: var(--fill-color);\n",
              "      border-bottom-color: var(--fill-color);\n",
              "    }\n",
              "    90% {\n",
              "      border-color: transparent;\n",
              "      border-bottom-color: var(--fill-color);\n",
              "    }\n",
              "  }\n",
              "</style>\n",
              "\n",
              "      <script>\n",
              "        async function quickchart(key) {\n",
              "          const quickchartButtonEl =\n",
              "            document.querySelector('#' + key + ' button');\n",
              "          quickchartButtonEl.disabled = true;  // To prevent multiple clicks.\n",
              "          quickchartButtonEl.classList.add('colab-df-spinner');\n",
              "          try {\n",
              "            const charts = await google.colab.kernel.invokeFunction(\n",
              "                'suggestCharts', [key], {});\n",
              "          } catch (error) {\n",
              "            console.error('Error during call to suggestCharts:', error);\n",
              "          }\n",
              "          quickchartButtonEl.classList.remove('colab-df-spinner');\n",
              "          quickchartButtonEl.classList.add('colab-df-quickchart-complete');\n",
              "        }\n",
              "        (() => {\n",
              "          let quickchartButtonEl =\n",
              "            document.querySelector('#df-b9a77189-7ce6-4b0d-b56e-d18177142170 button');\n",
              "          quickchartButtonEl.style.display =\n",
              "            google.colab.kernel.accessAllowed ? 'block' : 'none';\n",
              "        })();\n",
              "      </script>\n",
              "    </div>\n",
              "\n",
              "  <div id=\"id_11e77beb-afb5-4455-8d08-5090ffe59106\">\n",
              "    <style>\n",
              "      .colab-df-generate {\n",
              "        background-color: #E8F0FE;\n",
              "        border: none;\n",
              "        border-radius: 50%;\n",
              "        cursor: pointer;\n",
              "        display: none;\n",
              "        fill: #1967D2;\n",
              "        height: 32px;\n",
              "        padding: 0 0 0 0;\n",
              "        width: 32px;\n",
              "      }\n",
              "\n",
              "      .colab-df-generate:hover {\n",
              "        background-color: #E2EBFA;\n",
              "        box-shadow: 0px 1px 2px rgba(60, 64, 67, 0.3), 0px 1px 3px 1px rgba(60, 64, 67, 0.15);\n",
              "        fill: #174EA6;\n",
              "      }\n",
              "\n",
              "      [theme=dark] .colab-df-generate {\n",
              "        background-color: #3B4455;\n",
              "        fill: #D2E3FC;\n",
              "      }\n",
              "\n",
              "      [theme=dark] .colab-df-generate:hover {\n",
              "        background-color: #434B5C;\n",
              "        box-shadow: 0px 1px 3px 1px rgba(0, 0, 0, 0.15);\n",
              "        filter: drop-shadow(0px 1px 2px rgba(0, 0, 0, 0.3));\n",
              "        fill: #FFFFFF;\n",
              "      }\n",
              "    </style>\n",
              "    <button class=\"colab-df-generate\" onclick=\"generateWithVariable('violation_codes')\"\n",
              "            title=\"Generate code using this dataframe.\"\n",
              "            style=\"display:none;\">\n",
              "\n",
              "  <svg xmlns=\"http://www.w3.org/2000/svg\" height=\"24px\"viewBox=\"0 0 24 24\"\n",
              "       width=\"24px\">\n",
              "    <path d=\"M7,19H8.4L18.45,9,17,7.55,7,17.6ZM5,21V16.75L18.45,3.32a2,2,0,0,1,2.83,0l1.4,1.43a1.91,1.91,0,0,1,.58,1.4,1.91,1.91,0,0,1-.58,1.4L9.25,21ZM18.45,9,17,7.55Zm-12,3A5.31,5.31,0,0,0,4.9,8.1,5.31,5.31,0,0,0,1,6.5,5.31,5.31,0,0,0,4.9,4.9,5.31,5.31,0,0,0,6.5,1,5.31,5.31,0,0,0,8.1,4.9,5.31,5.31,0,0,0,12,6.5,5.46,5.46,0,0,0,6.5,12Z\"/>\n",
              "  </svg>\n",
              "    </button>\n",
              "    <script>\n",
              "      (() => {\n",
              "      const buttonEl =\n",
              "        document.querySelector('#id_11e77beb-afb5-4455-8d08-5090ffe59106 button.colab-df-generate');\n",
              "      buttonEl.style.display =\n",
              "        google.colab.kernel.accessAllowed ? 'block' : 'none';\n",
              "\n",
              "      buttonEl.onclick = () => {\n",
              "        google.colab.notebook.generateWithVariable('violation_codes');\n",
              "      }\n",
              "      })();\n",
              "    </script>\n",
              "  </div>\n",
              "\n",
              "    </div>\n",
              "  </div>\n"
            ],
            "application/vnd.google.colaboratory.intrinsic+json": {
              "type": "dataframe",
              "variable_name": "violation_codes",
              "summary": "{\n  \"name\": \"violation_codes\",\n  \"rows\": 149,\n  \"fields\": [\n    {\n      \"column\": \"VIOLATION_CODE\",\n      \"properties\": {\n        \"dtype\": \"category\",\n        \"num_unique_values\": 72,\n        \"samples\": [\n          \"02F\",\n          \"10G\",\n          \"04C\"\n        ],\n        \"semantic_type\": \"\",\n        \"description\": \"\"\n      }\n    },\n    {\n      \"column\": \"DESCRIPTION\",\n      \"properties\": {\n        \"dtype\": \"string\",\n        \"num_unique_values\": 147,\n        \"samples\": [\n          \"Mechanical or natural ventilation system not provided,  improperly installed, in disrepair and/or fails to prevent excessive build-up of grease, heat, steam condensation vapors, odors, smoke, and fumes.\",\n          \"Appropriately scaled metal stem-type thermometer or thermocouple not provided or used to evaluate temperatures of potentially hazardous foods during cooking, cooling, reheating and holding.\",\n          \"Hand wash sign not posted\"\n        ],\n        \"semantic_type\": \"\",\n        \"description\": \"\"\n      }\n    },\n    {\n      \"column\": \"CRITICAL\",\n      \"properties\": {\n        \"dtype\": \"category\",\n        \"num_unique_values\": 2,\n        \"samples\": [\n          \"Not Critical\",\n          \"Critical\"\n        ],\n        \"semantic_type\": \"\",\n        \"description\": \"\"\n      }\n    }\n  ]\n}"
            }
          },
          "metadata": {},
          "execution_count": 116
        }
      ]
    },
    {
      "cell_type": "code",
      "execution_count": 117,
      "metadata": {
        "id": "DQWMHrT87hur"
      },
      "outputs": [],
      "source": [
        "# Drop the description and critical part from the main dataframe\n",
        "df = df.drop(['VIOLATION_DESCRIPTION' ,  'CRITICAL_FLAG'], axis='columns')"
      ]
    },
    {
      "cell_type": "code",
      "execution_count": 118,
      "metadata": {
        "id": "JJ5_4rDn7hur",
        "outputId": "f54f04f2-6a69-4855-d878-f5dd82bd3889",
        "colab": {
          "base_uri": "https://localhost:8080/",
          "height": 651
        }
      },
      "outputs": [
        {
          "output_type": "execute_result",
          "data": {
            "text/plain": [
              "           CAMIS                         DBA       BORO BUILDING  \\\n",
              "4       50130834              COCOLUAH PIZZA     Queens     9404   \n",
              "6       50088248              NEW GREAT WALL   Brooklyn     4425   \n",
              "21      41623638          RINCONCITO TEPEYAC      Bronx      381   \n",
              "30      50035091                     MIXTAPE   Brooklyn     1533   \n",
              "32      50047362              CAFE HONG KONG  Manhattan       51   \n",
              "...          ...                         ...        ...      ...   \n",
              "285020  50001697          THE SWEET SHOP NYC  Manhattan      404   \n",
              "285022  50089425          PIZZA & PASTA CITY     Queens     6444   \n",
              "285023  50012109        RAVAGH PERSIAN GRILL  Manhattan     1135   \n",
              "285024  50123712              PARIS BAGUETTE     Queens    15624   \n",
              "285025  41653556  AWASH ETHIOPIAN RESTAURANT   Brooklyn      242   \n",
              "\n",
              "                  STREET ZIPCODE       PHONE       CUISINE_DESCRIPTION  \\\n",
              "4           SUTPHIN BLVD   11435  3474549996                     Pizza   \n",
              "6               5 AVENUE   11220  7188714989                   Chinese   \n",
              "21      EAST  138 STREET   10454  7184018314                   Mexican   \n",
              "30         MYRTLE AVENUE   11237  6467220838                  American   \n",
              "32         BAYARD STREET   10013  2126085359                   Chinese   \n",
              "...                  ...     ...         ...                       ...   \n",
              "285020  EAST   73 STREET   10021  2129608685                  American   \n",
              "285022          108TH ST   11375  7188966667                     Pizza   \n",
              "285023          1 AVENUE   10065  2128617900            Middle Eastern   \n",
              "285024     NORTHERN BLVD   11354  7189610404  Bakery Products/Desserts   \n",
              "285025      COURT STREET   11201  7182432151                 Ethiopian   \n",
              "\n",
              "       INSPECTION_DATE                ACTION  ...     INSPECTION_TYPE  \\\n",
              "4           2025-02-12      Violations found  ...  Initial Inspection   \n",
              "6           2023-02-16      Violations found  ...  Initial Inspection   \n",
              "21          2022-04-25      Violations found  ...  Initial Inspection   \n",
              "30          2024-11-20      Violations found  ...  Initial Inspection   \n",
              "32          2023-01-31      Violations found  ...  Initial Inspection   \n",
              "...                ...                   ...  ...                 ...   \n",
              "285020      2025-03-25  Establishment closed  ...  Initial Inspection   \n",
              "285022      2022-07-05      Violations found  ...  Initial Inspection   \n",
              "285023      2023-05-23      Violations found  ...  Initial Inspection   \n",
              "285024      2023-06-07      Violations found  ...       Re-inspection   \n",
              "285025      2024-10-30      Violations found  ...  Initial Inspection   \n",
              "\n",
              "         LATITUDE  LONGITUDE COMMUNITY_BOARD  COUNCIL_DISTRICT  CENSUS_TRACT  \\\n",
              "4       40.698896 -73.806877             412                27        020800   \n",
              "6       40.648275 -74.007002             307                38        009600   \n",
              "21      40.809332 -73.923413             201                08        003900   \n",
              "30      40.699255 -73.914055             304                37        044100   \n",
              "32      40.715237 -73.997424             103                01        002900   \n",
              "...           ...        ...             ...               ...           ...   \n",
              "285020  40.768303 -73.955104             108                05        012400   \n",
              "285022  40.732062 -73.849166             406                29        074300   \n",
              "285023  40.761625 -73.960501             108                05        011000   \n",
              "285024  40.763967 -73.808850             407                20        117100   \n",
              "285025  40.685670 -73.994314             306                39        004500   \n",
              "\n",
              "            BIN         BBL   NTA TO_DELETE  \n",
              "4       4213954  4099930018  QN61     False  \n",
              "6       3011239  3007390001  BK34     False  \n",
              "21      2000598  2023010033  BX39     False  \n",
              "30      3076174  3033280005  BK77     False  \n",
              "32      1001797  1001630029  MN27     False  \n",
              "...         ...         ...   ...       ...  \n",
              "285020  1045861  1014670044  MN31     False  \n",
              "285022  4051447  4021500030  QN17     False  \n",
              "285023  1044372  1014370026  MN31     False  \n",
              "285024  4444998  4052750001  QN51     False  \n",
              "285025  3003540  3003120032  BK33     False  \n",
              "\n",
              "[193993 rows x 23 columns]"
            ],
            "text/html": [
              "\n",
              "  <div id=\"df-aca7501a-cc0d-4cde-ba31-e1ef87997633\" class=\"colab-df-container\">\n",
              "    <div>\n",
              "<style scoped>\n",
              "    .dataframe tbody tr th:only-of-type {\n",
              "        vertical-align: middle;\n",
              "    }\n",
              "\n",
              "    .dataframe tbody tr th {\n",
              "        vertical-align: top;\n",
              "    }\n",
              "\n",
              "    .dataframe thead th {\n",
              "        text-align: right;\n",
              "    }\n",
              "</style>\n",
              "<table border=\"1\" class=\"dataframe\">\n",
              "  <thead>\n",
              "    <tr style=\"text-align: right;\">\n",
              "      <th></th>\n",
              "      <th>CAMIS</th>\n",
              "      <th>DBA</th>\n",
              "      <th>BORO</th>\n",
              "      <th>BUILDING</th>\n",
              "      <th>STREET</th>\n",
              "      <th>ZIPCODE</th>\n",
              "      <th>PHONE</th>\n",
              "      <th>CUISINE_DESCRIPTION</th>\n",
              "      <th>INSPECTION_DATE</th>\n",
              "      <th>ACTION</th>\n",
              "      <th>...</th>\n",
              "      <th>INSPECTION_TYPE</th>\n",
              "      <th>LATITUDE</th>\n",
              "      <th>LONGITUDE</th>\n",
              "      <th>COMMUNITY_BOARD</th>\n",
              "      <th>COUNCIL_DISTRICT</th>\n",
              "      <th>CENSUS_TRACT</th>\n",
              "      <th>BIN</th>\n",
              "      <th>BBL</th>\n",
              "      <th>NTA</th>\n",
              "      <th>TO_DELETE</th>\n",
              "    </tr>\n",
              "  </thead>\n",
              "  <tbody>\n",
              "    <tr>\n",
              "      <th>4</th>\n",
              "      <td>50130834</td>\n",
              "      <td>COCOLUAH PIZZA</td>\n",
              "      <td>Queens</td>\n",
              "      <td>9404</td>\n",
              "      <td>SUTPHIN BLVD</td>\n",
              "      <td>11435</td>\n",
              "      <td>3474549996</td>\n",
              "      <td>Pizza</td>\n",
              "      <td>2025-02-12</td>\n",
              "      <td>Violations found</td>\n",
              "      <td>...</td>\n",
              "      <td>Initial Inspection</td>\n",
              "      <td>40.698896</td>\n",
              "      <td>-73.806877</td>\n",
              "      <td>412</td>\n",
              "      <td>27</td>\n",
              "      <td>020800</td>\n",
              "      <td>4213954</td>\n",
              "      <td>4099930018</td>\n",
              "      <td>QN61</td>\n",
              "      <td>False</td>\n",
              "    </tr>\n",
              "    <tr>\n",
              "      <th>6</th>\n",
              "      <td>50088248</td>\n",
              "      <td>NEW GREAT WALL</td>\n",
              "      <td>Brooklyn</td>\n",
              "      <td>4425</td>\n",
              "      <td>5 AVENUE</td>\n",
              "      <td>11220</td>\n",
              "      <td>7188714989</td>\n",
              "      <td>Chinese</td>\n",
              "      <td>2023-02-16</td>\n",
              "      <td>Violations found</td>\n",
              "      <td>...</td>\n",
              "      <td>Initial Inspection</td>\n",
              "      <td>40.648275</td>\n",
              "      <td>-74.007002</td>\n",
              "      <td>307</td>\n",
              "      <td>38</td>\n",
              "      <td>009600</td>\n",
              "      <td>3011239</td>\n",
              "      <td>3007390001</td>\n",
              "      <td>BK34</td>\n",
              "      <td>False</td>\n",
              "    </tr>\n",
              "    <tr>\n",
              "      <th>21</th>\n",
              "      <td>41623638</td>\n",
              "      <td>RINCONCITO TEPEYAC</td>\n",
              "      <td>Bronx</td>\n",
              "      <td>381</td>\n",
              "      <td>EAST  138 STREET</td>\n",
              "      <td>10454</td>\n",
              "      <td>7184018314</td>\n",
              "      <td>Mexican</td>\n",
              "      <td>2022-04-25</td>\n",
              "      <td>Violations found</td>\n",
              "      <td>...</td>\n",
              "      <td>Initial Inspection</td>\n",
              "      <td>40.809332</td>\n",
              "      <td>-73.923413</td>\n",
              "      <td>201</td>\n",
              "      <td>08</td>\n",
              "      <td>003900</td>\n",
              "      <td>2000598</td>\n",
              "      <td>2023010033</td>\n",
              "      <td>BX39</td>\n",
              "      <td>False</td>\n",
              "    </tr>\n",
              "    <tr>\n",
              "      <th>30</th>\n",
              "      <td>50035091</td>\n",
              "      <td>MIXTAPE</td>\n",
              "      <td>Brooklyn</td>\n",
              "      <td>1533</td>\n",
              "      <td>MYRTLE AVENUE</td>\n",
              "      <td>11237</td>\n",
              "      <td>6467220838</td>\n",
              "      <td>American</td>\n",
              "      <td>2024-11-20</td>\n",
              "      <td>Violations found</td>\n",
              "      <td>...</td>\n",
              "      <td>Initial Inspection</td>\n",
              "      <td>40.699255</td>\n",
              "      <td>-73.914055</td>\n",
              "      <td>304</td>\n",
              "      <td>37</td>\n",
              "      <td>044100</td>\n",
              "      <td>3076174</td>\n",
              "      <td>3033280005</td>\n",
              "      <td>BK77</td>\n",
              "      <td>False</td>\n",
              "    </tr>\n",
              "    <tr>\n",
              "      <th>32</th>\n",
              "      <td>50047362</td>\n",
              "      <td>CAFE HONG KONG</td>\n",
              "      <td>Manhattan</td>\n",
              "      <td>51</td>\n",
              "      <td>BAYARD STREET</td>\n",
              "      <td>10013</td>\n",
              "      <td>2126085359</td>\n",
              "      <td>Chinese</td>\n",
              "      <td>2023-01-31</td>\n",
              "      <td>Violations found</td>\n",
              "      <td>...</td>\n",
              "      <td>Initial Inspection</td>\n",
              "      <td>40.715237</td>\n",
              "      <td>-73.997424</td>\n",
              "      <td>103</td>\n",
              "      <td>01</td>\n",
              "      <td>002900</td>\n",
              "      <td>1001797</td>\n",
              "      <td>1001630029</td>\n",
              "      <td>MN27</td>\n",
              "      <td>False</td>\n",
              "    </tr>\n",
              "    <tr>\n",
              "      <th>...</th>\n",
              "      <td>...</td>\n",
              "      <td>...</td>\n",
              "      <td>...</td>\n",
              "      <td>...</td>\n",
              "      <td>...</td>\n",
              "      <td>...</td>\n",
              "      <td>...</td>\n",
              "      <td>...</td>\n",
              "      <td>...</td>\n",
              "      <td>...</td>\n",
              "      <td>...</td>\n",
              "      <td>...</td>\n",
              "      <td>...</td>\n",
              "      <td>...</td>\n",
              "      <td>...</td>\n",
              "      <td>...</td>\n",
              "      <td>...</td>\n",
              "      <td>...</td>\n",
              "      <td>...</td>\n",
              "      <td>...</td>\n",
              "      <td>...</td>\n",
              "    </tr>\n",
              "    <tr>\n",
              "      <th>285020</th>\n",
              "      <td>50001697</td>\n",
              "      <td>THE SWEET SHOP NYC</td>\n",
              "      <td>Manhattan</td>\n",
              "      <td>404</td>\n",
              "      <td>EAST   73 STREET</td>\n",
              "      <td>10021</td>\n",
              "      <td>2129608685</td>\n",
              "      <td>American</td>\n",
              "      <td>2025-03-25</td>\n",
              "      <td>Establishment closed</td>\n",
              "      <td>...</td>\n",
              "      <td>Initial Inspection</td>\n",
              "      <td>40.768303</td>\n",
              "      <td>-73.955104</td>\n",
              "      <td>108</td>\n",
              "      <td>05</td>\n",
              "      <td>012400</td>\n",
              "      <td>1045861</td>\n",
              "      <td>1014670044</td>\n",
              "      <td>MN31</td>\n",
              "      <td>False</td>\n",
              "    </tr>\n",
              "    <tr>\n",
              "      <th>285022</th>\n",
              "      <td>50089425</td>\n",
              "      <td>PIZZA &amp; PASTA CITY</td>\n",
              "      <td>Queens</td>\n",
              "      <td>6444</td>\n",
              "      <td>108TH ST</td>\n",
              "      <td>11375</td>\n",
              "      <td>7188966667</td>\n",
              "      <td>Pizza</td>\n",
              "      <td>2022-07-05</td>\n",
              "      <td>Violations found</td>\n",
              "      <td>...</td>\n",
              "      <td>Initial Inspection</td>\n",
              "      <td>40.732062</td>\n",
              "      <td>-73.849166</td>\n",
              "      <td>406</td>\n",
              "      <td>29</td>\n",
              "      <td>074300</td>\n",
              "      <td>4051447</td>\n",
              "      <td>4021500030</td>\n",
              "      <td>QN17</td>\n",
              "      <td>False</td>\n",
              "    </tr>\n",
              "    <tr>\n",
              "      <th>285023</th>\n",
              "      <td>50012109</td>\n",
              "      <td>RAVAGH PERSIAN GRILL</td>\n",
              "      <td>Manhattan</td>\n",
              "      <td>1135</td>\n",
              "      <td>1 AVENUE</td>\n",
              "      <td>10065</td>\n",
              "      <td>2128617900</td>\n",
              "      <td>Middle Eastern</td>\n",
              "      <td>2023-05-23</td>\n",
              "      <td>Violations found</td>\n",
              "      <td>...</td>\n",
              "      <td>Initial Inspection</td>\n",
              "      <td>40.761625</td>\n",
              "      <td>-73.960501</td>\n",
              "      <td>108</td>\n",
              "      <td>05</td>\n",
              "      <td>011000</td>\n",
              "      <td>1044372</td>\n",
              "      <td>1014370026</td>\n",
              "      <td>MN31</td>\n",
              "      <td>False</td>\n",
              "    </tr>\n",
              "    <tr>\n",
              "      <th>285024</th>\n",
              "      <td>50123712</td>\n",
              "      <td>PARIS BAGUETTE</td>\n",
              "      <td>Queens</td>\n",
              "      <td>15624</td>\n",
              "      <td>NORTHERN BLVD</td>\n",
              "      <td>11354</td>\n",
              "      <td>7189610404</td>\n",
              "      <td>Bakery Products/Desserts</td>\n",
              "      <td>2023-06-07</td>\n",
              "      <td>Violations found</td>\n",
              "      <td>...</td>\n",
              "      <td>Re-inspection</td>\n",
              "      <td>40.763967</td>\n",
              "      <td>-73.808850</td>\n",
              "      <td>407</td>\n",
              "      <td>20</td>\n",
              "      <td>117100</td>\n",
              "      <td>4444998</td>\n",
              "      <td>4052750001</td>\n",
              "      <td>QN51</td>\n",
              "      <td>False</td>\n",
              "    </tr>\n",
              "    <tr>\n",
              "      <th>285025</th>\n",
              "      <td>41653556</td>\n",
              "      <td>AWASH ETHIOPIAN RESTAURANT</td>\n",
              "      <td>Brooklyn</td>\n",
              "      <td>242</td>\n",
              "      <td>COURT STREET</td>\n",
              "      <td>11201</td>\n",
              "      <td>7182432151</td>\n",
              "      <td>Ethiopian</td>\n",
              "      <td>2024-10-30</td>\n",
              "      <td>Violations found</td>\n",
              "      <td>...</td>\n",
              "      <td>Initial Inspection</td>\n",
              "      <td>40.685670</td>\n",
              "      <td>-73.994314</td>\n",
              "      <td>306</td>\n",
              "      <td>39</td>\n",
              "      <td>004500</td>\n",
              "      <td>3003540</td>\n",
              "      <td>3003120032</td>\n",
              "      <td>BK33</td>\n",
              "      <td>False</td>\n",
              "    </tr>\n",
              "  </tbody>\n",
              "</table>\n",
              "<p>193993 rows × 23 columns</p>\n",
              "</div>\n",
              "    <div class=\"colab-df-buttons\">\n",
              "\n",
              "  <div class=\"colab-df-container\">\n",
              "    <button class=\"colab-df-convert\" onclick=\"convertToInteractive('df-aca7501a-cc0d-4cde-ba31-e1ef87997633')\"\n",
              "            title=\"Convert this dataframe to an interactive table.\"\n",
              "            style=\"display:none;\">\n",
              "\n",
              "  <svg xmlns=\"http://www.w3.org/2000/svg\" height=\"24px\" viewBox=\"0 -960 960 960\">\n",
              "    <path d=\"M120-120v-720h720v720H120Zm60-500h600v-160H180v160Zm220 220h160v-160H400v160Zm0 220h160v-160H400v160ZM180-400h160v-160H180v160Zm440 0h160v-160H620v160ZM180-180h160v-160H180v160Zm440 0h160v-160H620v160Z\"/>\n",
              "  </svg>\n",
              "    </button>\n",
              "\n",
              "  <style>\n",
              "    .colab-df-container {\n",
              "      display:flex;\n",
              "      gap: 12px;\n",
              "    }\n",
              "\n",
              "    .colab-df-convert {\n",
              "      background-color: #E8F0FE;\n",
              "      border: none;\n",
              "      border-radius: 50%;\n",
              "      cursor: pointer;\n",
              "      display: none;\n",
              "      fill: #1967D2;\n",
              "      height: 32px;\n",
              "      padding: 0 0 0 0;\n",
              "      width: 32px;\n",
              "    }\n",
              "\n",
              "    .colab-df-convert:hover {\n",
              "      background-color: #E2EBFA;\n",
              "      box-shadow: 0px 1px 2px rgba(60, 64, 67, 0.3), 0px 1px 3px 1px rgba(60, 64, 67, 0.15);\n",
              "      fill: #174EA6;\n",
              "    }\n",
              "\n",
              "    .colab-df-buttons div {\n",
              "      margin-bottom: 4px;\n",
              "    }\n",
              "\n",
              "    [theme=dark] .colab-df-convert {\n",
              "      background-color: #3B4455;\n",
              "      fill: #D2E3FC;\n",
              "    }\n",
              "\n",
              "    [theme=dark] .colab-df-convert:hover {\n",
              "      background-color: #434B5C;\n",
              "      box-shadow: 0px 1px 3px 1px rgba(0, 0, 0, 0.15);\n",
              "      filter: drop-shadow(0px 1px 2px rgba(0, 0, 0, 0.3));\n",
              "      fill: #FFFFFF;\n",
              "    }\n",
              "  </style>\n",
              "\n",
              "    <script>\n",
              "      const buttonEl =\n",
              "        document.querySelector('#df-aca7501a-cc0d-4cde-ba31-e1ef87997633 button.colab-df-convert');\n",
              "      buttonEl.style.display =\n",
              "        google.colab.kernel.accessAllowed ? 'block' : 'none';\n",
              "\n",
              "      async function convertToInteractive(key) {\n",
              "        const element = document.querySelector('#df-aca7501a-cc0d-4cde-ba31-e1ef87997633');\n",
              "        const dataTable =\n",
              "          await google.colab.kernel.invokeFunction('convertToInteractive',\n",
              "                                                    [key], {});\n",
              "        if (!dataTable) return;\n",
              "\n",
              "        const docLinkHtml = 'Like what you see? Visit the ' +\n",
              "          '<a target=\"_blank\" href=https://colab.research.google.com/notebooks/data_table.ipynb>data table notebook</a>'\n",
              "          + ' to learn more about interactive tables.';\n",
              "        element.innerHTML = '';\n",
              "        dataTable['output_type'] = 'display_data';\n",
              "        await google.colab.output.renderOutput(dataTable, element);\n",
              "        const docLink = document.createElement('div');\n",
              "        docLink.innerHTML = docLinkHtml;\n",
              "        element.appendChild(docLink);\n",
              "      }\n",
              "    </script>\n",
              "  </div>\n",
              "\n",
              "\n",
              "    <div id=\"df-8c835943-d27c-4ceb-a266-725fae30b42f\">\n",
              "      <button class=\"colab-df-quickchart\" onclick=\"quickchart('df-8c835943-d27c-4ceb-a266-725fae30b42f')\"\n",
              "                title=\"Suggest charts\"\n",
              "                style=\"display:none;\">\n",
              "\n",
              "<svg xmlns=\"http://www.w3.org/2000/svg\" height=\"24px\"viewBox=\"0 0 24 24\"\n",
              "     width=\"24px\">\n",
              "    <g>\n",
              "        <path d=\"M19 3H5c-1.1 0-2 .9-2 2v14c0 1.1.9 2 2 2h14c1.1 0 2-.9 2-2V5c0-1.1-.9-2-2-2zM9 17H7v-7h2v7zm4 0h-2V7h2v10zm4 0h-2v-4h2v4z\"/>\n",
              "    </g>\n",
              "</svg>\n",
              "      </button>\n",
              "\n",
              "<style>\n",
              "  .colab-df-quickchart {\n",
              "      --bg-color: #E8F0FE;\n",
              "      --fill-color: #1967D2;\n",
              "      --hover-bg-color: #E2EBFA;\n",
              "      --hover-fill-color: #174EA6;\n",
              "      --disabled-fill-color: #AAA;\n",
              "      --disabled-bg-color: #DDD;\n",
              "  }\n",
              "\n",
              "  [theme=dark] .colab-df-quickchart {\n",
              "      --bg-color: #3B4455;\n",
              "      --fill-color: #D2E3FC;\n",
              "      --hover-bg-color: #434B5C;\n",
              "      --hover-fill-color: #FFFFFF;\n",
              "      --disabled-bg-color: #3B4455;\n",
              "      --disabled-fill-color: #666;\n",
              "  }\n",
              "\n",
              "  .colab-df-quickchart {\n",
              "    background-color: var(--bg-color);\n",
              "    border: none;\n",
              "    border-radius: 50%;\n",
              "    cursor: pointer;\n",
              "    display: none;\n",
              "    fill: var(--fill-color);\n",
              "    height: 32px;\n",
              "    padding: 0;\n",
              "    width: 32px;\n",
              "  }\n",
              "\n",
              "  .colab-df-quickchart:hover {\n",
              "    background-color: var(--hover-bg-color);\n",
              "    box-shadow: 0 1px 2px rgba(60, 64, 67, 0.3), 0 1px 3px 1px rgba(60, 64, 67, 0.15);\n",
              "    fill: var(--button-hover-fill-color);\n",
              "  }\n",
              "\n",
              "  .colab-df-quickchart-complete:disabled,\n",
              "  .colab-df-quickchart-complete:disabled:hover {\n",
              "    background-color: var(--disabled-bg-color);\n",
              "    fill: var(--disabled-fill-color);\n",
              "    box-shadow: none;\n",
              "  }\n",
              "\n",
              "  .colab-df-spinner {\n",
              "    border: 2px solid var(--fill-color);\n",
              "    border-color: transparent;\n",
              "    border-bottom-color: var(--fill-color);\n",
              "    animation:\n",
              "      spin 1s steps(1) infinite;\n",
              "  }\n",
              "\n",
              "  @keyframes spin {\n",
              "    0% {\n",
              "      border-color: transparent;\n",
              "      border-bottom-color: var(--fill-color);\n",
              "      border-left-color: var(--fill-color);\n",
              "    }\n",
              "    20% {\n",
              "      border-color: transparent;\n",
              "      border-left-color: var(--fill-color);\n",
              "      border-top-color: var(--fill-color);\n",
              "    }\n",
              "    30% {\n",
              "      border-color: transparent;\n",
              "      border-left-color: var(--fill-color);\n",
              "      border-top-color: var(--fill-color);\n",
              "      border-right-color: var(--fill-color);\n",
              "    }\n",
              "    40% {\n",
              "      border-color: transparent;\n",
              "      border-right-color: var(--fill-color);\n",
              "      border-top-color: var(--fill-color);\n",
              "    }\n",
              "    60% {\n",
              "      border-color: transparent;\n",
              "      border-right-color: var(--fill-color);\n",
              "    }\n",
              "    80% {\n",
              "      border-color: transparent;\n",
              "      border-right-color: var(--fill-color);\n",
              "      border-bottom-color: var(--fill-color);\n",
              "    }\n",
              "    90% {\n",
              "      border-color: transparent;\n",
              "      border-bottom-color: var(--fill-color);\n",
              "    }\n",
              "  }\n",
              "</style>\n",
              "\n",
              "      <script>\n",
              "        async function quickchart(key) {\n",
              "          const quickchartButtonEl =\n",
              "            document.querySelector('#' + key + ' button');\n",
              "          quickchartButtonEl.disabled = true;  // To prevent multiple clicks.\n",
              "          quickchartButtonEl.classList.add('colab-df-spinner');\n",
              "          try {\n",
              "            const charts = await google.colab.kernel.invokeFunction(\n",
              "                'suggestCharts', [key], {});\n",
              "          } catch (error) {\n",
              "            console.error('Error during call to suggestCharts:', error);\n",
              "          }\n",
              "          quickchartButtonEl.classList.remove('colab-df-spinner');\n",
              "          quickchartButtonEl.classList.add('colab-df-quickchart-complete');\n",
              "        }\n",
              "        (() => {\n",
              "          let quickchartButtonEl =\n",
              "            document.querySelector('#df-8c835943-d27c-4ceb-a266-725fae30b42f button');\n",
              "          quickchartButtonEl.style.display =\n",
              "            google.colab.kernel.accessAllowed ? 'block' : 'none';\n",
              "        })();\n",
              "      </script>\n",
              "    </div>\n",
              "\n",
              "  <div id=\"id_bc6b465a-5f79-4a09-9c49-4ced9e7bc809\">\n",
              "    <style>\n",
              "      .colab-df-generate {\n",
              "        background-color: #E8F0FE;\n",
              "        border: none;\n",
              "        border-radius: 50%;\n",
              "        cursor: pointer;\n",
              "        display: none;\n",
              "        fill: #1967D2;\n",
              "        height: 32px;\n",
              "        padding: 0 0 0 0;\n",
              "        width: 32px;\n",
              "      }\n",
              "\n",
              "      .colab-df-generate:hover {\n",
              "        background-color: #E2EBFA;\n",
              "        box-shadow: 0px 1px 2px rgba(60, 64, 67, 0.3), 0px 1px 3px 1px rgba(60, 64, 67, 0.15);\n",
              "        fill: #174EA6;\n",
              "      }\n",
              "\n",
              "      [theme=dark] .colab-df-generate {\n",
              "        background-color: #3B4455;\n",
              "        fill: #D2E3FC;\n",
              "      }\n",
              "\n",
              "      [theme=dark] .colab-df-generate:hover {\n",
              "        background-color: #434B5C;\n",
              "        box-shadow: 0px 1px 3px 1px rgba(0, 0, 0, 0.15);\n",
              "        filter: drop-shadow(0px 1px 2px rgba(0, 0, 0, 0.3));\n",
              "        fill: #FFFFFF;\n",
              "      }\n",
              "    </style>\n",
              "    <button class=\"colab-df-generate\" onclick=\"generateWithVariable('df')\"\n",
              "            title=\"Generate code using this dataframe.\"\n",
              "            style=\"display:none;\">\n",
              "\n",
              "  <svg xmlns=\"http://www.w3.org/2000/svg\" height=\"24px\"viewBox=\"0 0 24 24\"\n",
              "       width=\"24px\">\n",
              "    <path d=\"M7,19H8.4L18.45,9,17,7.55,7,17.6ZM5,21V16.75L18.45,3.32a2,2,0,0,1,2.83,0l1.4,1.43a1.91,1.91,0,0,1,.58,1.4,1.91,1.91,0,0,1-.58,1.4L9.25,21ZM18.45,9,17,7.55Zm-12,3A5.31,5.31,0,0,0,4.9,8.1,5.31,5.31,0,0,0,1,6.5,5.31,5.31,0,0,0,4.9,4.9,5.31,5.31,0,0,0,6.5,1,5.31,5.31,0,0,0,8.1,4.9,5.31,5.31,0,0,0,12,6.5,5.46,5.46,0,0,0,6.5,12Z\"/>\n",
              "  </svg>\n",
              "    </button>\n",
              "    <script>\n",
              "      (() => {\n",
              "      const buttonEl =\n",
              "        document.querySelector('#id_bc6b465a-5f79-4a09-9c49-4ced9e7bc809 button.colab-df-generate');\n",
              "      buttonEl.style.display =\n",
              "        google.colab.kernel.accessAllowed ? 'block' : 'none';\n",
              "\n",
              "      buttonEl.onclick = () => {\n",
              "        google.colab.notebook.generateWithVariable('df');\n",
              "      }\n",
              "      })();\n",
              "    </script>\n",
              "  </div>\n",
              "\n",
              "    </div>\n",
              "  </div>\n"
            ],
            "application/vnd.google.colaboratory.intrinsic+json": {
              "type": "dataframe",
              "variable_name": "df"
            }
          },
          "metadata": {},
          "execution_count": 118
        }
      ],
      "source": [
        "df"
      ]
    },
    {
      "cell_type": "markdown",
      "metadata": {
        "id": "MrUI18e37hur"
      },
      "source": [
        "### Restaurants"
      ]
    },
    {
      "cell_type": "code",
      "source": [
        "df.columns.values"
      ],
      "metadata": {
        "colab": {
          "base_uri": "https://localhost:8080/"
        },
        "id": "lKw4wp4T-D67",
        "outputId": "a33ff49b-2cf1-471e-fd6a-479939c3a366"
      },
      "execution_count": 119,
      "outputs": [
        {
          "output_type": "execute_result",
          "data": {
            "text/plain": [
              "array(['CAMIS', 'DBA', 'BORO', 'BUILDING', 'STREET', 'ZIPCODE', 'PHONE',\n",
              "       'CUISINE_DESCRIPTION', 'INSPECTION_DATE', 'ACTION',\n",
              "       'VIOLATION_CODE', 'SCORE', 'GRADE', 'INSPECTION_TYPE', 'LATITUDE',\n",
              "       'LONGITUDE', 'COMMUNITY_BOARD', 'COUNCIL_DISTRICT', 'CENSUS_TRACT',\n",
              "       'BIN', 'BBL', 'NTA', 'TO_DELETE'], dtype=object)"
            ]
          },
          "metadata": {},
          "execution_count": 119
        }
      ]
    },
    {
      "cell_type": "code",
      "execution_count": 120,
      "metadata": {
        "id": "ikNiszYg7hur"
      },
      "outputs": [],
      "source": [
        "columns = ['CAMIS', 'DBA', 'BUILDING', 'STREET', 'ZIPCODE', 'BORO', 'PHONE',\n",
        "           'CUISINE_DESCRIPTION', 'LATITUDE', 'LONGITUDE',\n",
        "       'COMMUNITY_BOARD', 'COUNCIL_DISTRICT', 'CENSUS_TRACT', 'BIN',\n",
        "       'BBL', 'NTA']\n",
        "restaurants =  df [ columns ].drop_duplicates()"
      ]
    },
    {
      "cell_type": "code",
      "execution_count": 121,
      "metadata": {
        "id": "cvc0BJm77hur"
      },
      "outputs": [],
      "source": [
        "# Check that we have the same attributes for a given CAMIS\n",
        "# and the we do not have duplicate CAMIS values\n",
        "assert len(restaurants) == len(set(restaurants.CAMIS.values))"
      ]
    },
    {
      "cell_type": "code",
      "execution_count": 122,
      "metadata": {
        "colab": {
          "base_uri": "https://localhost:8080/",
          "height": 330
        },
        "id": "rlfKBA8c7hur",
        "outputId": "fc7ce723-4fa6-41b5-afb1-1d04f5402448"
      },
      "outputs": [
        {
          "output_type": "execute_result",
          "data": {
            "text/plain": [
              "       CAMIS                 DBA BUILDING            STREET ZIPCODE  \\\n",
              "4   50130834      COCOLUAH PIZZA     9404      SUTPHIN BLVD   11435   \n",
              "6   50088248      NEW GREAT WALL     4425          5 AVENUE   11220   \n",
              "21  41623638  RINCONCITO TEPEYAC      381  EAST  138 STREET   10454   \n",
              "30  50035091             MIXTAPE     1533     MYRTLE AVENUE   11237   \n",
              "32  50047362      CAFE HONG KONG       51     BAYARD STREET   10013   \n",
              "\n",
              "         BORO       PHONE CUISINE_DESCRIPTION   LATITUDE  LONGITUDE  \\\n",
              "4      Queens  3474549996               Pizza  40.698896 -73.806877   \n",
              "6    Brooklyn  7188714989             Chinese  40.648275 -74.007002   \n",
              "21      Bronx  7184018314             Mexican  40.809332 -73.923413   \n",
              "30   Brooklyn  6467220838            American  40.699255 -73.914055   \n",
              "32  Manhattan  2126085359             Chinese  40.715237 -73.997424   \n",
              "\n",
              "   COMMUNITY_BOARD COUNCIL_DISTRICT CENSUS_TRACT      BIN         BBL   NTA  \n",
              "4              412               27       020800  4213954  4099930018  QN61  \n",
              "6              307               38       009600  3011239  3007390001  BK34  \n",
              "21             201               08       003900  2000598  2023010033  BX39  \n",
              "30             304               37       044100  3076174  3033280005  BK77  \n",
              "32             103               01       002900  1001797  1001630029  MN27  "
            ],
            "text/html": [
              "\n",
              "  <div id=\"df-a0781a13-ff95-40bb-a982-86ac9b16d6a1\" class=\"colab-df-container\">\n",
              "    <div>\n",
              "<style scoped>\n",
              "    .dataframe tbody tr th:only-of-type {\n",
              "        vertical-align: middle;\n",
              "    }\n",
              "\n",
              "    .dataframe tbody tr th {\n",
              "        vertical-align: top;\n",
              "    }\n",
              "\n",
              "    .dataframe thead th {\n",
              "        text-align: right;\n",
              "    }\n",
              "</style>\n",
              "<table border=\"1\" class=\"dataframe\">\n",
              "  <thead>\n",
              "    <tr style=\"text-align: right;\">\n",
              "      <th></th>\n",
              "      <th>CAMIS</th>\n",
              "      <th>DBA</th>\n",
              "      <th>BUILDING</th>\n",
              "      <th>STREET</th>\n",
              "      <th>ZIPCODE</th>\n",
              "      <th>BORO</th>\n",
              "      <th>PHONE</th>\n",
              "      <th>CUISINE_DESCRIPTION</th>\n",
              "      <th>LATITUDE</th>\n",
              "      <th>LONGITUDE</th>\n",
              "      <th>COMMUNITY_BOARD</th>\n",
              "      <th>COUNCIL_DISTRICT</th>\n",
              "      <th>CENSUS_TRACT</th>\n",
              "      <th>BIN</th>\n",
              "      <th>BBL</th>\n",
              "      <th>NTA</th>\n",
              "    </tr>\n",
              "  </thead>\n",
              "  <tbody>\n",
              "    <tr>\n",
              "      <th>4</th>\n",
              "      <td>50130834</td>\n",
              "      <td>COCOLUAH PIZZA</td>\n",
              "      <td>9404</td>\n",
              "      <td>SUTPHIN BLVD</td>\n",
              "      <td>11435</td>\n",
              "      <td>Queens</td>\n",
              "      <td>3474549996</td>\n",
              "      <td>Pizza</td>\n",
              "      <td>40.698896</td>\n",
              "      <td>-73.806877</td>\n",
              "      <td>412</td>\n",
              "      <td>27</td>\n",
              "      <td>020800</td>\n",
              "      <td>4213954</td>\n",
              "      <td>4099930018</td>\n",
              "      <td>QN61</td>\n",
              "    </tr>\n",
              "    <tr>\n",
              "      <th>6</th>\n",
              "      <td>50088248</td>\n",
              "      <td>NEW GREAT WALL</td>\n",
              "      <td>4425</td>\n",
              "      <td>5 AVENUE</td>\n",
              "      <td>11220</td>\n",
              "      <td>Brooklyn</td>\n",
              "      <td>7188714989</td>\n",
              "      <td>Chinese</td>\n",
              "      <td>40.648275</td>\n",
              "      <td>-74.007002</td>\n",
              "      <td>307</td>\n",
              "      <td>38</td>\n",
              "      <td>009600</td>\n",
              "      <td>3011239</td>\n",
              "      <td>3007390001</td>\n",
              "      <td>BK34</td>\n",
              "    </tr>\n",
              "    <tr>\n",
              "      <th>21</th>\n",
              "      <td>41623638</td>\n",
              "      <td>RINCONCITO TEPEYAC</td>\n",
              "      <td>381</td>\n",
              "      <td>EAST  138 STREET</td>\n",
              "      <td>10454</td>\n",
              "      <td>Bronx</td>\n",
              "      <td>7184018314</td>\n",
              "      <td>Mexican</td>\n",
              "      <td>40.809332</td>\n",
              "      <td>-73.923413</td>\n",
              "      <td>201</td>\n",
              "      <td>08</td>\n",
              "      <td>003900</td>\n",
              "      <td>2000598</td>\n",
              "      <td>2023010033</td>\n",
              "      <td>BX39</td>\n",
              "    </tr>\n",
              "    <tr>\n",
              "      <th>30</th>\n",
              "      <td>50035091</td>\n",
              "      <td>MIXTAPE</td>\n",
              "      <td>1533</td>\n",
              "      <td>MYRTLE AVENUE</td>\n",
              "      <td>11237</td>\n",
              "      <td>Brooklyn</td>\n",
              "      <td>6467220838</td>\n",
              "      <td>American</td>\n",
              "      <td>40.699255</td>\n",
              "      <td>-73.914055</td>\n",
              "      <td>304</td>\n",
              "      <td>37</td>\n",
              "      <td>044100</td>\n",
              "      <td>3076174</td>\n",
              "      <td>3033280005</td>\n",
              "      <td>BK77</td>\n",
              "    </tr>\n",
              "    <tr>\n",
              "      <th>32</th>\n",
              "      <td>50047362</td>\n",
              "      <td>CAFE HONG KONG</td>\n",
              "      <td>51</td>\n",
              "      <td>BAYARD STREET</td>\n",
              "      <td>10013</td>\n",
              "      <td>Manhattan</td>\n",
              "      <td>2126085359</td>\n",
              "      <td>Chinese</td>\n",
              "      <td>40.715237</td>\n",
              "      <td>-73.997424</td>\n",
              "      <td>103</td>\n",
              "      <td>01</td>\n",
              "      <td>002900</td>\n",
              "      <td>1001797</td>\n",
              "      <td>1001630029</td>\n",
              "      <td>MN27</td>\n",
              "    </tr>\n",
              "  </tbody>\n",
              "</table>\n",
              "</div>\n",
              "    <div class=\"colab-df-buttons\">\n",
              "\n",
              "  <div class=\"colab-df-container\">\n",
              "    <button class=\"colab-df-convert\" onclick=\"convertToInteractive('df-a0781a13-ff95-40bb-a982-86ac9b16d6a1')\"\n",
              "            title=\"Convert this dataframe to an interactive table.\"\n",
              "            style=\"display:none;\">\n",
              "\n",
              "  <svg xmlns=\"http://www.w3.org/2000/svg\" height=\"24px\" viewBox=\"0 -960 960 960\">\n",
              "    <path d=\"M120-120v-720h720v720H120Zm60-500h600v-160H180v160Zm220 220h160v-160H400v160Zm0 220h160v-160H400v160ZM180-400h160v-160H180v160Zm440 0h160v-160H620v160ZM180-180h160v-160H180v160Zm440 0h160v-160H620v160Z\"/>\n",
              "  </svg>\n",
              "    </button>\n",
              "\n",
              "  <style>\n",
              "    .colab-df-container {\n",
              "      display:flex;\n",
              "      gap: 12px;\n",
              "    }\n",
              "\n",
              "    .colab-df-convert {\n",
              "      background-color: #E8F0FE;\n",
              "      border: none;\n",
              "      border-radius: 50%;\n",
              "      cursor: pointer;\n",
              "      display: none;\n",
              "      fill: #1967D2;\n",
              "      height: 32px;\n",
              "      padding: 0 0 0 0;\n",
              "      width: 32px;\n",
              "    }\n",
              "\n",
              "    .colab-df-convert:hover {\n",
              "      background-color: #E2EBFA;\n",
              "      box-shadow: 0px 1px 2px rgba(60, 64, 67, 0.3), 0px 1px 3px 1px rgba(60, 64, 67, 0.15);\n",
              "      fill: #174EA6;\n",
              "    }\n",
              "\n",
              "    .colab-df-buttons div {\n",
              "      margin-bottom: 4px;\n",
              "    }\n",
              "\n",
              "    [theme=dark] .colab-df-convert {\n",
              "      background-color: #3B4455;\n",
              "      fill: #D2E3FC;\n",
              "    }\n",
              "\n",
              "    [theme=dark] .colab-df-convert:hover {\n",
              "      background-color: #434B5C;\n",
              "      box-shadow: 0px 1px 3px 1px rgba(0, 0, 0, 0.15);\n",
              "      filter: drop-shadow(0px 1px 2px rgba(0, 0, 0, 0.3));\n",
              "      fill: #FFFFFF;\n",
              "    }\n",
              "  </style>\n",
              "\n",
              "    <script>\n",
              "      const buttonEl =\n",
              "        document.querySelector('#df-a0781a13-ff95-40bb-a982-86ac9b16d6a1 button.colab-df-convert');\n",
              "      buttonEl.style.display =\n",
              "        google.colab.kernel.accessAllowed ? 'block' : 'none';\n",
              "\n",
              "      async function convertToInteractive(key) {\n",
              "        const element = document.querySelector('#df-a0781a13-ff95-40bb-a982-86ac9b16d6a1');\n",
              "        const dataTable =\n",
              "          await google.colab.kernel.invokeFunction('convertToInteractive',\n",
              "                                                    [key], {});\n",
              "        if (!dataTable) return;\n",
              "\n",
              "        const docLinkHtml = 'Like what you see? Visit the ' +\n",
              "          '<a target=\"_blank\" href=https://colab.research.google.com/notebooks/data_table.ipynb>data table notebook</a>'\n",
              "          + ' to learn more about interactive tables.';\n",
              "        element.innerHTML = '';\n",
              "        dataTable['output_type'] = 'display_data';\n",
              "        await google.colab.output.renderOutput(dataTable, element);\n",
              "        const docLink = document.createElement('div');\n",
              "        docLink.innerHTML = docLinkHtml;\n",
              "        element.appendChild(docLink);\n",
              "      }\n",
              "    </script>\n",
              "  </div>\n",
              "\n",
              "\n",
              "    <div id=\"df-30e3d300-834a-4156-ba79-1ff3db645b67\">\n",
              "      <button class=\"colab-df-quickchart\" onclick=\"quickchart('df-30e3d300-834a-4156-ba79-1ff3db645b67')\"\n",
              "                title=\"Suggest charts\"\n",
              "                style=\"display:none;\">\n",
              "\n",
              "<svg xmlns=\"http://www.w3.org/2000/svg\" height=\"24px\"viewBox=\"0 0 24 24\"\n",
              "     width=\"24px\">\n",
              "    <g>\n",
              "        <path d=\"M19 3H5c-1.1 0-2 .9-2 2v14c0 1.1.9 2 2 2h14c1.1 0 2-.9 2-2V5c0-1.1-.9-2-2-2zM9 17H7v-7h2v7zm4 0h-2V7h2v10zm4 0h-2v-4h2v4z\"/>\n",
              "    </g>\n",
              "</svg>\n",
              "      </button>\n",
              "\n",
              "<style>\n",
              "  .colab-df-quickchart {\n",
              "      --bg-color: #E8F0FE;\n",
              "      --fill-color: #1967D2;\n",
              "      --hover-bg-color: #E2EBFA;\n",
              "      --hover-fill-color: #174EA6;\n",
              "      --disabled-fill-color: #AAA;\n",
              "      --disabled-bg-color: #DDD;\n",
              "  }\n",
              "\n",
              "  [theme=dark] .colab-df-quickchart {\n",
              "      --bg-color: #3B4455;\n",
              "      --fill-color: #D2E3FC;\n",
              "      --hover-bg-color: #434B5C;\n",
              "      --hover-fill-color: #FFFFFF;\n",
              "      --disabled-bg-color: #3B4455;\n",
              "      --disabled-fill-color: #666;\n",
              "  }\n",
              "\n",
              "  .colab-df-quickchart {\n",
              "    background-color: var(--bg-color);\n",
              "    border: none;\n",
              "    border-radius: 50%;\n",
              "    cursor: pointer;\n",
              "    display: none;\n",
              "    fill: var(--fill-color);\n",
              "    height: 32px;\n",
              "    padding: 0;\n",
              "    width: 32px;\n",
              "  }\n",
              "\n",
              "  .colab-df-quickchart:hover {\n",
              "    background-color: var(--hover-bg-color);\n",
              "    box-shadow: 0 1px 2px rgba(60, 64, 67, 0.3), 0 1px 3px 1px rgba(60, 64, 67, 0.15);\n",
              "    fill: var(--button-hover-fill-color);\n",
              "  }\n",
              "\n",
              "  .colab-df-quickchart-complete:disabled,\n",
              "  .colab-df-quickchart-complete:disabled:hover {\n",
              "    background-color: var(--disabled-bg-color);\n",
              "    fill: var(--disabled-fill-color);\n",
              "    box-shadow: none;\n",
              "  }\n",
              "\n",
              "  .colab-df-spinner {\n",
              "    border: 2px solid var(--fill-color);\n",
              "    border-color: transparent;\n",
              "    border-bottom-color: var(--fill-color);\n",
              "    animation:\n",
              "      spin 1s steps(1) infinite;\n",
              "  }\n",
              "\n",
              "  @keyframes spin {\n",
              "    0% {\n",
              "      border-color: transparent;\n",
              "      border-bottom-color: var(--fill-color);\n",
              "      border-left-color: var(--fill-color);\n",
              "    }\n",
              "    20% {\n",
              "      border-color: transparent;\n",
              "      border-left-color: var(--fill-color);\n",
              "      border-top-color: var(--fill-color);\n",
              "    }\n",
              "    30% {\n",
              "      border-color: transparent;\n",
              "      border-left-color: var(--fill-color);\n",
              "      border-top-color: var(--fill-color);\n",
              "      border-right-color: var(--fill-color);\n",
              "    }\n",
              "    40% {\n",
              "      border-color: transparent;\n",
              "      border-right-color: var(--fill-color);\n",
              "      border-top-color: var(--fill-color);\n",
              "    }\n",
              "    60% {\n",
              "      border-color: transparent;\n",
              "      border-right-color: var(--fill-color);\n",
              "    }\n",
              "    80% {\n",
              "      border-color: transparent;\n",
              "      border-right-color: var(--fill-color);\n",
              "      border-bottom-color: var(--fill-color);\n",
              "    }\n",
              "    90% {\n",
              "      border-color: transparent;\n",
              "      border-bottom-color: var(--fill-color);\n",
              "    }\n",
              "  }\n",
              "</style>\n",
              "\n",
              "      <script>\n",
              "        async function quickchart(key) {\n",
              "          const quickchartButtonEl =\n",
              "            document.querySelector('#' + key + ' button');\n",
              "          quickchartButtonEl.disabled = true;  // To prevent multiple clicks.\n",
              "          quickchartButtonEl.classList.add('colab-df-spinner');\n",
              "          try {\n",
              "            const charts = await google.colab.kernel.invokeFunction(\n",
              "                'suggestCharts', [key], {});\n",
              "          } catch (error) {\n",
              "            console.error('Error during call to suggestCharts:', error);\n",
              "          }\n",
              "          quickchartButtonEl.classList.remove('colab-df-spinner');\n",
              "          quickchartButtonEl.classList.add('colab-df-quickchart-complete');\n",
              "        }\n",
              "        (() => {\n",
              "          let quickchartButtonEl =\n",
              "            document.querySelector('#df-30e3d300-834a-4156-ba79-1ff3db645b67 button');\n",
              "          quickchartButtonEl.style.display =\n",
              "            google.colab.kernel.accessAllowed ? 'block' : 'none';\n",
              "        })();\n",
              "      </script>\n",
              "    </div>\n",
              "\n",
              "    </div>\n",
              "  </div>\n"
            ],
            "application/vnd.google.colaboratory.intrinsic+json": {
              "type": "dataframe",
              "variable_name": "restaurants",
              "summary": "{\n  \"name\": \"restaurants\",\n  \"rows\": 21051,\n  \"fields\": [\n    {\n      \"column\": \"CAMIS\",\n      \"properties\": {\n        \"dtype\": \"string\",\n        \"num_unique_values\": 21051,\n        \"samples\": [\n          \"41476127\",\n          \"50137978\",\n          \"50091130\"\n        ],\n        \"semantic_type\": \"\",\n        \"description\": \"\"\n      }\n    },\n    {\n      \"column\": \"DBA\",\n      \"properties\": {\n        \"dtype\": \"string\",\n        \"num_unique_values\": 16730,\n        \"samples\": [\n          \"SAC'S PLACE\",\n          \"66 CLUB\",\n          \"GYRO CAFE\"\n        ],\n        \"semantic_type\": \"\",\n        \"description\": \"\"\n      }\n    },\n    {\n      \"column\": \"BUILDING\",\n      \"properties\": {\n        \"dtype\": \"category\",\n        \"num_unique_values\": 6477,\n        \"samples\": [\n          \"9046\",\n          \"530D\",\n          \"6916\"\n        ],\n        \"semantic_type\": \"\",\n        \"description\": \"\"\n      }\n    },\n    {\n      \"column\": \"STREET\",\n      \"properties\": {\n        \"dtype\": \"category\",\n        \"num_unique_values\": 1982,\n        \"samples\": [\n          \"KISSENA BOULEVARD\",\n          \"172ND ST\",\n          \"BAYARD ST\"\n        ],\n        \"semantic_type\": \"\",\n        \"description\": \"\"\n      }\n    },\n    {\n      \"column\": \"ZIPCODE\",\n      \"properties\": {\n        \"dtype\": \"category\",\n        \"num_unique_values\": 216,\n        \"samples\": [\n          \"10171\",\n          \"10048\",\n          \"11356\"\n        ],\n        \"semantic_type\": \"\",\n        \"description\": \"\"\n      }\n    },\n    {\n      \"column\": \"BORO\",\n      \"properties\": {\n        \"dtype\": \"category\",\n        \"num_unique_values\": 5,\n        \"samples\": [\n          \"Brooklyn\",\n          \"Staten Island\",\n          \"Bronx\"\n        ],\n        \"semantic_type\": \"\",\n        \"description\": \"\"\n      }\n    },\n    {\n      \"column\": \"PHONE\",\n      \"properties\": {\n        \"dtype\": \"string\",\n        \"num_unique_values\": 19774,\n        \"samples\": [\n          \"9175133636\",\n          \"7185584455\",\n          \"7187596300\"\n        ],\n        \"semantic_type\": \"\",\n        \"description\": \"\"\n      }\n    },\n    {\n      \"column\": \"CUISINE_DESCRIPTION\",\n      \"properties\": {\n        \"dtype\": \"category\",\n        \"num_unique_values\": 87,\n        \"samples\": [\n          \"Basque\",\n          \"Pizza\",\n          \"Mediterranean\"\n        ],\n        \"semantic_type\": \"\",\n        \"description\": \"\"\n      }\n    },\n    {\n      \"column\": \"LATITUDE\",\n      \"properties\": {\n        \"dtype\": \"number\",\n        \"std\": 0.06827435848821944,\n        \"min\": 40.499562710294,\n        \"max\": 40.912822326386,\n        \"num_unique_values\": 18592,\n        \"samples\": [\n          40.865420743253,\n          40.670875910437,\n          40.656181203396\n        ],\n        \"semantic_type\": \"\",\n        \"description\": \"\"\n      }\n    },\n    {\n      \"column\": \"LONGITUDE\",\n      \"properties\": {\n        \"dtype\": \"number\",\n        \"std\": 0.07601576136408918,\n        \"min\": -74.248707918049,\n        \"max\": -73.700928057808,\n        \"num_unique_values\": 18592,\n        \"samples\": [\n          -73.855370503785,\n          -73.950418503908,\n          -73.930844886732\n        ],\n        \"semantic_type\": \"\",\n        \"description\": \"\"\n      }\n    },\n    {\n      \"column\": \"COMMUNITY_BOARD\",\n      \"properties\": {\n        \"dtype\": \"category\",\n        \"num_unique_values\": 68,\n        \"samples\": [\n          \"503\",\n          \"312\",\n          \"103\"\n        ],\n        \"semantic_type\": \"\",\n        \"description\": \"\"\n      }\n    },\n    {\n      \"column\": \"COUNCIL_DISTRICT\",\n      \"properties\": {\n        \"dtype\": \"category\",\n        \"num_unique_values\": 51,\n        \"samples\": [\n          \"51\",\n          \"36\",\n          \"12\"\n        ],\n        \"semantic_type\": \"\",\n        \"description\": \"\"\n      }\n    },\n    {\n      \"column\": \"CENSUS_TRACT\",\n      \"properties\": {\n        \"dtype\": \"category\",\n        \"num_unique_values\": 1158,\n        \"samples\": [\n          \"021502\",\n          \"025500\",\n          \"122000\"\n        ],\n        \"semantic_type\": \"\",\n        \"description\": \"\"\n      }\n    },\n    {\n      \"column\": \"BIN\",\n      \"properties\": {\n        \"dtype\": \"string\",\n        \"num_unique_values\": 16461,\n        \"samples\": [\n          \"4119544\",\n          \"4030040\",\n          \"1036518\"\n        ],\n        \"semantic_type\": \"\",\n        \"description\": \"\"\n      }\n    },\n    {\n      \"column\": \"BBL\",\n      \"properties\": {\n        \"dtype\": \"string\",\n        \"num_unique_values\": 16226,\n        \"samples\": [\n          \"4081290053\",\n          \"2031260013\",\n          \"2022920001\"\n        ],\n        \"semantic_type\": \"\",\n        \"description\": \"\"\n      }\n    },\n    {\n      \"column\": \"NTA\",\n      \"properties\": {\n        \"dtype\": \"category\",\n        \"num_unique_values\": 193,\n        \"samples\": [\n          \"MN34\",\n          \"QN03\",\n          \"MN31\"\n        ],\n        \"semantic_type\": \"\",\n        \"description\": \"\"\n      }\n    }\n  ]\n}"
            }
          },
          "metadata": {},
          "execution_count": 122
        }
      ],
      "source": [
        "restaurants.head(5)"
      ]
    },
    {
      "cell_type": "code",
      "execution_count": 123,
      "metadata": {
        "colab": {
          "base_uri": "https://localhost:8080/",
          "height": 742
        },
        "id": "BGPNYPFe7hus",
        "outputId": "6216966e-50ce-435d-a34e-a9da0f2c119a"
      },
      "outputs": [
        {
          "output_type": "execute_result",
          "data": {
            "text/plain": [
              "PHONE\n",
              "2124656273    43\n",
              "2126159700    26\n",
              "9172843260    25\n",
              "9176186310    24\n",
              "2125867610    18\n",
              "6143187413    15\n",
              "2122441111    14\n",
              "2124656302    14\n",
              "9175103862    14\n",
              "7186566210    13\n",
              "7182153308    12\n",
              "3477017760    12\n",
              "9178863304    11\n",
              "7187360999    10\n",
              "7182246030    10\n",
              "2126191222     9\n",
              "2125825472     9\n",
              "9177709055     9\n",
              "2123959280     9\n",
              "9177437388     9\n",
              "Name: count, dtype: int64"
            ],
            "text/html": [
              "<div>\n",
              "<style scoped>\n",
              "    .dataframe tbody tr th:only-of-type {\n",
              "        vertical-align: middle;\n",
              "    }\n",
              "\n",
              "    .dataframe tbody tr th {\n",
              "        vertical-align: top;\n",
              "    }\n",
              "\n",
              "    .dataframe thead th {\n",
              "        text-align: right;\n",
              "    }\n",
              "</style>\n",
              "<table border=\"1\" class=\"dataframe\">\n",
              "  <thead>\n",
              "    <tr style=\"text-align: right;\">\n",
              "      <th></th>\n",
              "      <th>count</th>\n",
              "    </tr>\n",
              "    <tr>\n",
              "      <th>PHONE</th>\n",
              "      <th></th>\n",
              "    </tr>\n",
              "  </thead>\n",
              "  <tbody>\n",
              "    <tr>\n",
              "      <th>2124656273</th>\n",
              "      <td>43</td>\n",
              "    </tr>\n",
              "    <tr>\n",
              "      <th>2126159700</th>\n",
              "      <td>26</td>\n",
              "    </tr>\n",
              "    <tr>\n",
              "      <th>9172843260</th>\n",
              "      <td>25</td>\n",
              "    </tr>\n",
              "    <tr>\n",
              "      <th>9176186310</th>\n",
              "      <td>24</td>\n",
              "    </tr>\n",
              "    <tr>\n",
              "      <th>2125867610</th>\n",
              "      <td>18</td>\n",
              "    </tr>\n",
              "    <tr>\n",
              "      <th>6143187413</th>\n",
              "      <td>15</td>\n",
              "    </tr>\n",
              "    <tr>\n",
              "      <th>2122441111</th>\n",
              "      <td>14</td>\n",
              "    </tr>\n",
              "    <tr>\n",
              "      <th>2124656302</th>\n",
              "      <td>14</td>\n",
              "    </tr>\n",
              "    <tr>\n",
              "      <th>9175103862</th>\n",
              "      <td>14</td>\n",
              "    </tr>\n",
              "    <tr>\n",
              "      <th>7186566210</th>\n",
              "      <td>13</td>\n",
              "    </tr>\n",
              "    <tr>\n",
              "      <th>7182153308</th>\n",
              "      <td>12</td>\n",
              "    </tr>\n",
              "    <tr>\n",
              "      <th>3477017760</th>\n",
              "      <td>12</td>\n",
              "    </tr>\n",
              "    <tr>\n",
              "      <th>9178863304</th>\n",
              "      <td>11</td>\n",
              "    </tr>\n",
              "    <tr>\n",
              "      <th>7187360999</th>\n",
              "      <td>10</td>\n",
              "    </tr>\n",
              "    <tr>\n",
              "      <th>7182246030</th>\n",
              "      <td>10</td>\n",
              "    </tr>\n",
              "    <tr>\n",
              "      <th>2126191222</th>\n",
              "      <td>9</td>\n",
              "    </tr>\n",
              "    <tr>\n",
              "      <th>2125825472</th>\n",
              "      <td>9</td>\n",
              "    </tr>\n",
              "    <tr>\n",
              "      <th>9177709055</th>\n",
              "      <td>9</td>\n",
              "    </tr>\n",
              "    <tr>\n",
              "      <th>2123959280</th>\n",
              "      <td>9</td>\n",
              "    </tr>\n",
              "    <tr>\n",
              "      <th>9177437388</th>\n",
              "      <td>9</td>\n",
              "    </tr>\n",
              "  </tbody>\n",
              "</table>\n",
              "</div><br><label><b>dtype:</b> int64</label>"
            ]
          },
          "metadata": {},
          "execution_count": 123
        }
      ],
      "source": [
        "restaurants.PHONE.value_counts().head(20)"
      ]
    },
    {
      "cell_type": "code",
      "execution_count": 124,
      "metadata": {
        "id": "yp58wsk27hus"
      },
      "outputs": [],
      "source": [
        "# __ = restaurants.PHONE.value_counts().head(10).index.values[7]"
      ]
    },
    {
      "cell_type": "code",
      "execution_count": 125,
      "metadata": {
        "id": "sBCfrsTJ7hus"
      },
      "outputs": [],
      "source": [
        "# restaurants.PHONE.replace(to_replace=__, value=np.nan, inplace=True)"
      ]
    },
    {
      "cell_type": "code",
      "execution_count": 126,
      "metadata": {
        "id": "Q3l3iVRd7hus"
      },
      "outputs": [],
      "source": [
        "# Citi Field concessions\n",
        "# restaurants.query(\"PHONE == '7185958100'\").head(5)"
      ]
    },
    {
      "cell_type": "code",
      "execution_count": 127,
      "metadata": {
        "scrolled": true,
        "id": "srWH0cyp7hus"
      },
      "outputs": [],
      "source": [
        "# Madison Square Garden concession stands\n",
        "# restaurants.query(\"PHONE == '2124656273'\").head(5)"
      ]
    },
    {
      "cell_type": "code",
      "execution_count": 128,
      "metadata": {
        "id": "q-5ciQBH7hus"
      },
      "outputs": [],
      "source": [
        "# restaurants.plot(kind='scatter', x='LONGITUDE', y='LATITUDE', alpha=0.2, s=1, figsize=(15,15))"
      ]
    },
    {
      "cell_type": "code",
      "execution_count": 129,
      "metadata": {
        "id": "TKSsNwyB7hus"
      },
      "outputs": [],
      "source": [
        "df = df.drop (columns[1:], axis='columns')"
      ]
    },
    {
      "cell_type": "code",
      "source": [
        "df"
      ],
      "metadata": {
        "colab": {
          "base_uri": "https://localhost:8080/",
          "height": 617
        },
        "id": "49tmzz00-yBZ",
        "outputId": "0d07d31e-61b9-492c-83ea-b73b1f1fbb17"
      },
      "execution_count": 130,
      "outputs": [
        {
          "output_type": "execute_result",
          "data": {
            "text/plain": [
              "           CAMIS INSPECTION_DATE                ACTION VIOLATION_CODE  SCORE  \\\n",
              "4       50130834      2025-02-12      Violations found            02B   30.0   \n",
              "6       50088248      2023-02-16      Violations found            02B   44.0   \n",
              "21      41623638      2022-04-25      Violations found            02B   24.0   \n",
              "30      50035091      2024-11-20      Violations found            02B    9.0   \n",
              "32      50047362      2023-01-31      Violations found            02B   47.0   \n",
              "...          ...             ...                   ...            ...    ...   \n",
              "285020  50001697      2025-03-25  Establishment closed            08A   91.0   \n",
              "285022  50089425      2022-07-05      Violations found            08A   13.0   \n",
              "285023  50012109      2023-05-23      Violations found            06C   12.0   \n",
              "285024  50123712      2023-06-07      Violations found            10F   12.0   \n",
              "285025  41653556      2024-10-30      Violations found            04M   21.0   \n",
              "\n",
              "       GRADE     INSPECTION_TYPE  TO_DELETE  \n",
              "4        NaN  Initial Inspection      False  \n",
              "6        NaN  Initial Inspection      False  \n",
              "21       NaN  Initial Inspection      False  \n",
              "30         A  Initial Inspection      False  \n",
              "32       NaN  Initial Inspection      False  \n",
              "...      ...                 ...        ...  \n",
              "285020   NaN  Initial Inspection      False  \n",
              "285022     A  Initial Inspection      False  \n",
              "285023     A  Initial Inspection      False  \n",
              "285024     A       Re-inspection      False  \n",
              "285025   NaN  Initial Inspection      False  \n",
              "\n",
              "[193993 rows x 8 columns]"
            ],
            "text/html": [
              "\n",
              "  <div id=\"df-7950093e-6b23-417f-8595-3b622da68c28\" class=\"colab-df-container\">\n",
              "    <div>\n",
              "<style scoped>\n",
              "    .dataframe tbody tr th:only-of-type {\n",
              "        vertical-align: middle;\n",
              "    }\n",
              "\n",
              "    .dataframe tbody tr th {\n",
              "        vertical-align: top;\n",
              "    }\n",
              "\n",
              "    .dataframe thead th {\n",
              "        text-align: right;\n",
              "    }\n",
              "</style>\n",
              "<table border=\"1\" class=\"dataframe\">\n",
              "  <thead>\n",
              "    <tr style=\"text-align: right;\">\n",
              "      <th></th>\n",
              "      <th>CAMIS</th>\n",
              "      <th>INSPECTION_DATE</th>\n",
              "      <th>ACTION</th>\n",
              "      <th>VIOLATION_CODE</th>\n",
              "      <th>SCORE</th>\n",
              "      <th>GRADE</th>\n",
              "      <th>INSPECTION_TYPE</th>\n",
              "      <th>TO_DELETE</th>\n",
              "    </tr>\n",
              "  </thead>\n",
              "  <tbody>\n",
              "    <tr>\n",
              "      <th>4</th>\n",
              "      <td>50130834</td>\n",
              "      <td>2025-02-12</td>\n",
              "      <td>Violations found</td>\n",
              "      <td>02B</td>\n",
              "      <td>30.0</td>\n",
              "      <td>NaN</td>\n",
              "      <td>Initial Inspection</td>\n",
              "      <td>False</td>\n",
              "    </tr>\n",
              "    <tr>\n",
              "      <th>6</th>\n",
              "      <td>50088248</td>\n",
              "      <td>2023-02-16</td>\n",
              "      <td>Violations found</td>\n",
              "      <td>02B</td>\n",
              "      <td>44.0</td>\n",
              "      <td>NaN</td>\n",
              "      <td>Initial Inspection</td>\n",
              "      <td>False</td>\n",
              "    </tr>\n",
              "    <tr>\n",
              "      <th>21</th>\n",
              "      <td>41623638</td>\n",
              "      <td>2022-04-25</td>\n",
              "      <td>Violations found</td>\n",
              "      <td>02B</td>\n",
              "      <td>24.0</td>\n",
              "      <td>NaN</td>\n",
              "      <td>Initial Inspection</td>\n",
              "      <td>False</td>\n",
              "    </tr>\n",
              "    <tr>\n",
              "      <th>30</th>\n",
              "      <td>50035091</td>\n",
              "      <td>2024-11-20</td>\n",
              "      <td>Violations found</td>\n",
              "      <td>02B</td>\n",
              "      <td>9.0</td>\n",
              "      <td>A</td>\n",
              "      <td>Initial Inspection</td>\n",
              "      <td>False</td>\n",
              "    </tr>\n",
              "    <tr>\n",
              "      <th>32</th>\n",
              "      <td>50047362</td>\n",
              "      <td>2023-01-31</td>\n",
              "      <td>Violations found</td>\n",
              "      <td>02B</td>\n",
              "      <td>47.0</td>\n",
              "      <td>NaN</td>\n",
              "      <td>Initial Inspection</td>\n",
              "      <td>False</td>\n",
              "    </tr>\n",
              "    <tr>\n",
              "      <th>...</th>\n",
              "      <td>...</td>\n",
              "      <td>...</td>\n",
              "      <td>...</td>\n",
              "      <td>...</td>\n",
              "      <td>...</td>\n",
              "      <td>...</td>\n",
              "      <td>...</td>\n",
              "      <td>...</td>\n",
              "    </tr>\n",
              "    <tr>\n",
              "      <th>285020</th>\n",
              "      <td>50001697</td>\n",
              "      <td>2025-03-25</td>\n",
              "      <td>Establishment closed</td>\n",
              "      <td>08A</td>\n",
              "      <td>91.0</td>\n",
              "      <td>NaN</td>\n",
              "      <td>Initial Inspection</td>\n",
              "      <td>False</td>\n",
              "    </tr>\n",
              "    <tr>\n",
              "      <th>285022</th>\n",
              "      <td>50089425</td>\n",
              "      <td>2022-07-05</td>\n",
              "      <td>Violations found</td>\n",
              "      <td>08A</td>\n",
              "      <td>13.0</td>\n",
              "      <td>A</td>\n",
              "      <td>Initial Inspection</td>\n",
              "      <td>False</td>\n",
              "    </tr>\n",
              "    <tr>\n",
              "      <th>285023</th>\n",
              "      <td>50012109</td>\n",
              "      <td>2023-05-23</td>\n",
              "      <td>Violations found</td>\n",
              "      <td>06C</td>\n",
              "      <td>12.0</td>\n",
              "      <td>A</td>\n",
              "      <td>Initial Inspection</td>\n",
              "      <td>False</td>\n",
              "    </tr>\n",
              "    <tr>\n",
              "      <th>285024</th>\n",
              "      <td>50123712</td>\n",
              "      <td>2023-06-07</td>\n",
              "      <td>Violations found</td>\n",
              "      <td>10F</td>\n",
              "      <td>12.0</td>\n",
              "      <td>A</td>\n",
              "      <td>Re-inspection</td>\n",
              "      <td>False</td>\n",
              "    </tr>\n",
              "    <tr>\n",
              "      <th>285025</th>\n",
              "      <td>41653556</td>\n",
              "      <td>2024-10-30</td>\n",
              "      <td>Violations found</td>\n",
              "      <td>04M</td>\n",
              "      <td>21.0</td>\n",
              "      <td>NaN</td>\n",
              "      <td>Initial Inspection</td>\n",
              "      <td>False</td>\n",
              "    </tr>\n",
              "  </tbody>\n",
              "</table>\n",
              "<p>193993 rows × 8 columns</p>\n",
              "</div>\n",
              "    <div class=\"colab-df-buttons\">\n",
              "\n",
              "  <div class=\"colab-df-container\">\n",
              "    <button class=\"colab-df-convert\" onclick=\"convertToInteractive('df-7950093e-6b23-417f-8595-3b622da68c28')\"\n",
              "            title=\"Convert this dataframe to an interactive table.\"\n",
              "            style=\"display:none;\">\n",
              "\n",
              "  <svg xmlns=\"http://www.w3.org/2000/svg\" height=\"24px\" viewBox=\"0 -960 960 960\">\n",
              "    <path d=\"M120-120v-720h720v720H120Zm60-500h600v-160H180v160Zm220 220h160v-160H400v160Zm0 220h160v-160H400v160ZM180-400h160v-160H180v160Zm440 0h160v-160H620v160ZM180-180h160v-160H180v160Zm440 0h160v-160H620v160Z\"/>\n",
              "  </svg>\n",
              "    </button>\n",
              "\n",
              "  <style>\n",
              "    .colab-df-container {\n",
              "      display:flex;\n",
              "      gap: 12px;\n",
              "    }\n",
              "\n",
              "    .colab-df-convert {\n",
              "      background-color: #E8F0FE;\n",
              "      border: none;\n",
              "      border-radius: 50%;\n",
              "      cursor: pointer;\n",
              "      display: none;\n",
              "      fill: #1967D2;\n",
              "      height: 32px;\n",
              "      padding: 0 0 0 0;\n",
              "      width: 32px;\n",
              "    }\n",
              "\n",
              "    .colab-df-convert:hover {\n",
              "      background-color: #E2EBFA;\n",
              "      box-shadow: 0px 1px 2px rgba(60, 64, 67, 0.3), 0px 1px 3px 1px rgba(60, 64, 67, 0.15);\n",
              "      fill: #174EA6;\n",
              "    }\n",
              "\n",
              "    .colab-df-buttons div {\n",
              "      margin-bottom: 4px;\n",
              "    }\n",
              "\n",
              "    [theme=dark] .colab-df-convert {\n",
              "      background-color: #3B4455;\n",
              "      fill: #D2E3FC;\n",
              "    }\n",
              "\n",
              "    [theme=dark] .colab-df-convert:hover {\n",
              "      background-color: #434B5C;\n",
              "      box-shadow: 0px 1px 3px 1px rgba(0, 0, 0, 0.15);\n",
              "      filter: drop-shadow(0px 1px 2px rgba(0, 0, 0, 0.3));\n",
              "      fill: #FFFFFF;\n",
              "    }\n",
              "  </style>\n",
              "\n",
              "    <script>\n",
              "      const buttonEl =\n",
              "        document.querySelector('#df-7950093e-6b23-417f-8595-3b622da68c28 button.colab-df-convert');\n",
              "      buttonEl.style.display =\n",
              "        google.colab.kernel.accessAllowed ? 'block' : 'none';\n",
              "\n",
              "      async function convertToInteractive(key) {\n",
              "        const element = document.querySelector('#df-7950093e-6b23-417f-8595-3b622da68c28');\n",
              "        const dataTable =\n",
              "          await google.colab.kernel.invokeFunction('convertToInteractive',\n",
              "                                                    [key], {});\n",
              "        if (!dataTable) return;\n",
              "\n",
              "        const docLinkHtml = 'Like what you see? Visit the ' +\n",
              "          '<a target=\"_blank\" href=https://colab.research.google.com/notebooks/data_table.ipynb>data table notebook</a>'\n",
              "          + ' to learn more about interactive tables.';\n",
              "        element.innerHTML = '';\n",
              "        dataTable['output_type'] = 'display_data';\n",
              "        await google.colab.output.renderOutput(dataTable, element);\n",
              "        const docLink = document.createElement('div');\n",
              "        docLink.innerHTML = docLinkHtml;\n",
              "        element.appendChild(docLink);\n",
              "      }\n",
              "    </script>\n",
              "  </div>\n",
              "\n",
              "\n",
              "    <div id=\"df-903169b3-8a2d-4010-bd3b-879f0edf0e90\">\n",
              "      <button class=\"colab-df-quickchart\" onclick=\"quickchart('df-903169b3-8a2d-4010-bd3b-879f0edf0e90')\"\n",
              "                title=\"Suggest charts\"\n",
              "                style=\"display:none;\">\n",
              "\n",
              "<svg xmlns=\"http://www.w3.org/2000/svg\" height=\"24px\"viewBox=\"0 0 24 24\"\n",
              "     width=\"24px\">\n",
              "    <g>\n",
              "        <path d=\"M19 3H5c-1.1 0-2 .9-2 2v14c0 1.1.9 2 2 2h14c1.1 0 2-.9 2-2V5c0-1.1-.9-2-2-2zM9 17H7v-7h2v7zm4 0h-2V7h2v10zm4 0h-2v-4h2v4z\"/>\n",
              "    </g>\n",
              "</svg>\n",
              "      </button>\n",
              "\n",
              "<style>\n",
              "  .colab-df-quickchart {\n",
              "      --bg-color: #E8F0FE;\n",
              "      --fill-color: #1967D2;\n",
              "      --hover-bg-color: #E2EBFA;\n",
              "      --hover-fill-color: #174EA6;\n",
              "      --disabled-fill-color: #AAA;\n",
              "      --disabled-bg-color: #DDD;\n",
              "  }\n",
              "\n",
              "  [theme=dark] .colab-df-quickchart {\n",
              "      --bg-color: #3B4455;\n",
              "      --fill-color: #D2E3FC;\n",
              "      --hover-bg-color: #434B5C;\n",
              "      --hover-fill-color: #FFFFFF;\n",
              "      --disabled-bg-color: #3B4455;\n",
              "      --disabled-fill-color: #666;\n",
              "  }\n",
              "\n",
              "  .colab-df-quickchart {\n",
              "    background-color: var(--bg-color);\n",
              "    border: none;\n",
              "    border-radius: 50%;\n",
              "    cursor: pointer;\n",
              "    display: none;\n",
              "    fill: var(--fill-color);\n",
              "    height: 32px;\n",
              "    padding: 0;\n",
              "    width: 32px;\n",
              "  }\n",
              "\n",
              "  .colab-df-quickchart:hover {\n",
              "    background-color: var(--hover-bg-color);\n",
              "    box-shadow: 0 1px 2px rgba(60, 64, 67, 0.3), 0 1px 3px 1px rgba(60, 64, 67, 0.15);\n",
              "    fill: var(--button-hover-fill-color);\n",
              "  }\n",
              "\n",
              "  .colab-df-quickchart-complete:disabled,\n",
              "  .colab-df-quickchart-complete:disabled:hover {\n",
              "    background-color: var(--disabled-bg-color);\n",
              "    fill: var(--disabled-fill-color);\n",
              "    box-shadow: none;\n",
              "  }\n",
              "\n",
              "  .colab-df-spinner {\n",
              "    border: 2px solid var(--fill-color);\n",
              "    border-color: transparent;\n",
              "    border-bottom-color: var(--fill-color);\n",
              "    animation:\n",
              "      spin 1s steps(1) infinite;\n",
              "  }\n",
              "\n",
              "  @keyframes spin {\n",
              "    0% {\n",
              "      border-color: transparent;\n",
              "      border-bottom-color: var(--fill-color);\n",
              "      border-left-color: var(--fill-color);\n",
              "    }\n",
              "    20% {\n",
              "      border-color: transparent;\n",
              "      border-left-color: var(--fill-color);\n",
              "      border-top-color: var(--fill-color);\n",
              "    }\n",
              "    30% {\n",
              "      border-color: transparent;\n",
              "      border-left-color: var(--fill-color);\n",
              "      border-top-color: var(--fill-color);\n",
              "      border-right-color: var(--fill-color);\n",
              "    }\n",
              "    40% {\n",
              "      border-color: transparent;\n",
              "      border-right-color: var(--fill-color);\n",
              "      border-top-color: var(--fill-color);\n",
              "    }\n",
              "    60% {\n",
              "      border-color: transparent;\n",
              "      border-right-color: var(--fill-color);\n",
              "    }\n",
              "    80% {\n",
              "      border-color: transparent;\n",
              "      border-right-color: var(--fill-color);\n",
              "      border-bottom-color: var(--fill-color);\n",
              "    }\n",
              "    90% {\n",
              "      border-color: transparent;\n",
              "      border-bottom-color: var(--fill-color);\n",
              "    }\n",
              "  }\n",
              "</style>\n",
              "\n",
              "      <script>\n",
              "        async function quickchart(key) {\n",
              "          const quickchartButtonEl =\n",
              "            document.querySelector('#' + key + ' button');\n",
              "          quickchartButtonEl.disabled = true;  // To prevent multiple clicks.\n",
              "          quickchartButtonEl.classList.add('colab-df-spinner');\n",
              "          try {\n",
              "            const charts = await google.colab.kernel.invokeFunction(\n",
              "                'suggestCharts', [key], {});\n",
              "          } catch (error) {\n",
              "            console.error('Error during call to suggestCharts:', error);\n",
              "          }\n",
              "          quickchartButtonEl.classList.remove('colab-df-spinner');\n",
              "          quickchartButtonEl.classList.add('colab-df-quickchart-complete');\n",
              "        }\n",
              "        (() => {\n",
              "          let quickchartButtonEl =\n",
              "            document.querySelector('#df-903169b3-8a2d-4010-bd3b-879f0edf0e90 button');\n",
              "          quickchartButtonEl.style.display =\n",
              "            google.colab.kernel.accessAllowed ? 'block' : 'none';\n",
              "        })();\n",
              "      </script>\n",
              "    </div>\n",
              "\n",
              "  <div id=\"id_bcb67fd4-8c8e-461e-a318-ccb0564d6d4c\">\n",
              "    <style>\n",
              "      .colab-df-generate {\n",
              "        background-color: #E8F0FE;\n",
              "        border: none;\n",
              "        border-radius: 50%;\n",
              "        cursor: pointer;\n",
              "        display: none;\n",
              "        fill: #1967D2;\n",
              "        height: 32px;\n",
              "        padding: 0 0 0 0;\n",
              "        width: 32px;\n",
              "      }\n",
              "\n",
              "      .colab-df-generate:hover {\n",
              "        background-color: #E2EBFA;\n",
              "        box-shadow: 0px 1px 2px rgba(60, 64, 67, 0.3), 0px 1px 3px 1px rgba(60, 64, 67, 0.15);\n",
              "        fill: #174EA6;\n",
              "      }\n",
              "\n",
              "      [theme=dark] .colab-df-generate {\n",
              "        background-color: #3B4455;\n",
              "        fill: #D2E3FC;\n",
              "      }\n",
              "\n",
              "      [theme=dark] .colab-df-generate:hover {\n",
              "        background-color: #434B5C;\n",
              "        box-shadow: 0px 1px 3px 1px rgba(0, 0, 0, 0.15);\n",
              "        filter: drop-shadow(0px 1px 2px rgba(0, 0, 0, 0.3));\n",
              "        fill: #FFFFFF;\n",
              "      }\n",
              "    </style>\n",
              "    <button class=\"colab-df-generate\" onclick=\"generateWithVariable('df')\"\n",
              "            title=\"Generate code using this dataframe.\"\n",
              "            style=\"display:none;\">\n",
              "\n",
              "  <svg xmlns=\"http://www.w3.org/2000/svg\" height=\"24px\"viewBox=\"0 0 24 24\"\n",
              "       width=\"24px\">\n",
              "    <path d=\"M7,19H8.4L18.45,9,17,7.55,7,17.6ZM5,21V16.75L18.45,3.32a2,2,0,0,1,2.83,0l1.4,1.43a1.91,1.91,0,0,1,.58,1.4,1.91,1.91,0,0,1-.58,1.4L9.25,21ZM18.45,9,17,7.55Zm-12,3A5.31,5.31,0,0,0,4.9,8.1,5.31,5.31,0,0,0,1,6.5,5.31,5.31,0,0,0,4.9,4.9,5.31,5.31,0,0,0,6.5,1,5.31,5.31,0,0,0,8.1,4.9,5.31,5.31,0,0,0,12,6.5,5.46,5.46,0,0,0,6.5,12Z\"/>\n",
              "  </svg>\n",
              "    </button>\n",
              "    <script>\n",
              "      (() => {\n",
              "      const buttonEl =\n",
              "        document.querySelector('#id_bcb67fd4-8c8e-461e-a318-ccb0564d6d4c button.colab-df-generate');\n",
              "      buttonEl.style.display =\n",
              "        google.colab.kernel.accessAllowed ? 'block' : 'none';\n",
              "\n",
              "      buttonEl.onclick = () => {\n",
              "        google.colab.notebook.generateWithVariable('df');\n",
              "      }\n",
              "      })();\n",
              "    </script>\n",
              "  </div>\n",
              "\n",
              "    </div>\n",
              "  </div>\n"
            ],
            "application/vnd.google.colaboratory.intrinsic+json": {
              "type": "dataframe",
              "variable_name": "df"
            }
          },
          "metadata": {},
          "execution_count": 130
        }
      ]
    },
    {
      "cell_type": "markdown",
      "metadata": {
        "id": "_dW28Hgj7hut"
      },
      "source": [
        "### Inspections"
      ]
    },
    {
      "cell_type": "code",
      "execution_count": 131,
      "metadata": {
        "id": "z5SDo-BW7hut"
      },
      "outputs": [],
      "source": [
        "# Each inspection has multiple violations. We want to keep just the inspections for now\n",
        "inspection = df.drop('VIOLATION_CODE', axis='columns').drop_duplicates().sort_values(['INSPECTION_DATE', 'CAMIS'])"
      ]
    },
    {
      "cell_type": "code",
      "source": [
        "inspection"
      ],
      "metadata": {
        "id": "Sh2iuGKX_wkz",
        "outputId": "ac38c090-e14f-4e00-cc3d-4deb44e9cf76",
        "colab": {
          "base_uri": "https://localhost:8080/",
          "height": 597
        }
      },
      "execution_count": 132,
      "outputs": [
        {
          "output_type": "execute_result",
          "data": {
            "text/plain": [
              "           CAMIS INSPECTION_DATE            ACTION  SCORE GRADE  \\\n",
              "79059   50041177      2016-01-21  Violations found    6.0     A   \n",
              "27774   41627984      2016-02-14  Violations found   19.0   NaN   \n",
              "244839  41589635      2016-03-11  Violations found    9.0     A   \n",
              "117458  41611709      2016-03-26  Violations found   13.0     A   \n",
              "45821   50003174      2016-04-01  Violations found   29.0   NaN   \n",
              "...          ...             ...               ...    ...   ...   \n",
              "56634   50144495      2025-06-03  Violations found   12.0     A   \n",
              "49052   50144580      2025-06-03  Violations found   11.0     A   \n",
              "3733    50145448      2025-06-03  Violations found    8.0     A   \n",
              "151280  50146157      2025-06-03  Violations found    4.0     A   \n",
              "135868  50156908      2025-06-03  Violations found   40.0   NaN   \n",
              "\n",
              "           INSPECTION_TYPE  TO_DELETE  \n",
              "79059   Initial Inspection      False  \n",
              "27774   Initial Inspection      False  \n",
              "244839  Initial Inspection      False  \n",
              "117458       Re-inspection      False  \n",
              "45821   Initial Inspection      False  \n",
              "...                    ...        ...  \n",
              "56634   Initial Inspection      False  \n",
              "49052   Initial Inspection      False  \n",
              "3733    Initial Inspection      False  \n",
              "151280  Initial Inspection      False  \n",
              "135868  Initial Inspection      False  \n",
              "\n",
              "[59477 rows x 7 columns]"
            ],
            "text/html": [
              "\n",
              "  <div id=\"df-31625511-5fee-44fa-b830-f0c54b128bb8\" class=\"colab-df-container\">\n",
              "    <div>\n",
              "<style scoped>\n",
              "    .dataframe tbody tr th:only-of-type {\n",
              "        vertical-align: middle;\n",
              "    }\n",
              "\n",
              "    .dataframe tbody tr th {\n",
              "        vertical-align: top;\n",
              "    }\n",
              "\n",
              "    .dataframe thead th {\n",
              "        text-align: right;\n",
              "    }\n",
              "</style>\n",
              "<table border=\"1\" class=\"dataframe\">\n",
              "  <thead>\n",
              "    <tr style=\"text-align: right;\">\n",
              "      <th></th>\n",
              "      <th>CAMIS</th>\n",
              "      <th>INSPECTION_DATE</th>\n",
              "      <th>ACTION</th>\n",
              "      <th>SCORE</th>\n",
              "      <th>GRADE</th>\n",
              "      <th>INSPECTION_TYPE</th>\n",
              "      <th>TO_DELETE</th>\n",
              "    </tr>\n",
              "  </thead>\n",
              "  <tbody>\n",
              "    <tr>\n",
              "      <th>79059</th>\n",
              "      <td>50041177</td>\n",
              "      <td>2016-01-21</td>\n",
              "      <td>Violations found</td>\n",
              "      <td>6.0</td>\n",
              "      <td>A</td>\n",
              "      <td>Initial Inspection</td>\n",
              "      <td>False</td>\n",
              "    </tr>\n",
              "    <tr>\n",
              "      <th>27774</th>\n",
              "      <td>41627984</td>\n",
              "      <td>2016-02-14</td>\n",
              "      <td>Violations found</td>\n",
              "      <td>19.0</td>\n",
              "      <td>NaN</td>\n",
              "      <td>Initial Inspection</td>\n",
              "      <td>False</td>\n",
              "    </tr>\n",
              "    <tr>\n",
              "      <th>244839</th>\n",
              "      <td>41589635</td>\n",
              "      <td>2016-03-11</td>\n",
              "      <td>Violations found</td>\n",
              "      <td>9.0</td>\n",
              "      <td>A</td>\n",
              "      <td>Initial Inspection</td>\n",
              "      <td>False</td>\n",
              "    </tr>\n",
              "    <tr>\n",
              "      <th>117458</th>\n",
              "      <td>41611709</td>\n",
              "      <td>2016-03-26</td>\n",
              "      <td>Violations found</td>\n",
              "      <td>13.0</td>\n",
              "      <td>A</td>\n",
              "      <td>Re-inspection</td>\n",
              "      <td>False</td>\n",
              "    </tr>\n",
              "    <tr>\n",
              "      <th>45821</th>\n",
              "      <td>50003174</td>\n",
              "      <td>2016-04-01</td>\n",
              "      <td>Violations found</td>\n",
              "      <td>29.0</td>\n",
              "      <td>NaN</td>\n",
              "      <td>Initial Inspection</td>\n",
              "      <td>False</td>\n",
              "    </tr>\n",
              "    <tr>\n",
              "      <th>...</th>\n",
              "      <td>...</td>\n",
              "      <td>...</td>\n",
              "      <td>...</td>\n",
              "      <td>...</td>\n",
              "      <td>...</td>\n",
              "      <td>...</td>\n",
              "      <td>...</td>\n",
              "    </tr>\n",
              "    <tr>\n",
              "      <th>56634</th>\n",
              "      <td>50144495</td>\n",
              "      <td>2025-06-03</td>\n",
              "      <td>Violations found</td>\n",
              "      <td>12.0</td>\n",
              "      <td>A</td>\n",
              "      <td>Initial Inspection</td>\n",
              "      <td>False</td>\n",
              "    </tr>\n",
              "    <tr>\n",
              "      <th>49052</th>\n",
              "      <td>50144580</td>\n",
              "      <td>2025-06-03</td>\n",
              "      <td>Violations found</td>\n",
              "      <td>11.0</td>\n",
              "      <td>A</td>\n",
              "      <td>Initial Inspection</td>\n",
              "      <td>False</td>\n",
              "    </tr>\n",
              "    <tr>\n",
              "      <th>3733</th>\n",
              "      <td>50145448</td>\n",
              "      <td>2025-06-03</td>\n",
              "      <td>Violations found</td>\n",
              "      <td>8.0</td>\n",
              "      <td>A</td>\n",
              "      <td>Initial Inspection</td>\n",
              "      <td>False</td>\n",
              "    </tr>\n",
              "    <tr>\n",
              "      <th>151280</th>\n",
              "      <td>50146157</td>\n",
              "      <td>2025-06-03</td>\n",
              "      <td>Violations found</td>\n",
              "      <td>4.0</td>\n",
              "      <td>A</td>\n",
              "      <td>Initial Inspection</td>\n",
              "      <td>False</td>\n",
              "    </tr>\n",
              "    <tr>\n",
              "      <th>135868</th>\n",
              "      <td>50156908</td>\n",
              "      <td>2025-06-03</td>\n",
              "      <td>Violations found</td>\n",
              "      <td>40.0</td>\n",
              "      <td>NaN</td>\n",
              "      <td>Initial Inspection</td>\n",
              "      <td>False</td>\n",
              "    </tr>\n",
              "  </tbody>\n",
              "</table>\n",
              "<p>59477 rows × 7 columns</p>\n",
              "</div>\n",
              "    <div class=\"colab-df-buttons\">\n",
              "\n",
              "  <div class=\"colab-df-container\">\n",
              "    <button class=\"colab-df-convert\" onclick=\"convertToInteractive('df-31625511-5fee-44fa-b830-f0c54b128bb8')\"\n",
              "            title=\"Convert this dataframe to an interactive table.\"\n",
              "            style=\"display:none;\">\n",
              "\n",
              "  <svg xmlns=\"http://www.w3.org/2000/svg\" height=\"24px\" viewBox=\"0 -960 960 960\">\n",
              "    <path d=\"M120-120v-720h720v720H120Zm60-500h600v-160H180v160Zm220 220h160v-160H400v160Zm0 220h160v-160H400v160ZM180-400h160v-160H180v160Zm440 0h160v-160H620v160ZM180-180h160v-160H180v160Zm440 0h160v-160H620v160Z\"/>\n",
              "  </svg>\n",
              "    </button>\n",
              "\n",
              "  <style>\n",
              "    .colab-df-container {\n",
              "      display:flex;\n",
              "      gap: 12px;\n",
              "    }\n",
              "\n",
              "    .colab-df-convert {\n",
              "      background-color: #E8F0FE;\n",
              "      border: none;\n",
              "      border-radius: 50%;\n",
              "      cursor: pointer;\n",
              "      display: none;\n",
              "      fill: #1967D2;\n",
              "      height: 32px;\n",
              "      padding: 0 0 0 0;\n",
              "      width: 32px;\n",
              "    }\n",
              "\n",
              "    .colab-df-convert:hover {\n",
              "      background-color: #E2EBFA;\n",
              "      box-shadow: 0px 1px 2px rgba(60, 64, 67, 0.3), 0px 1px 3px 1px rgba(60, 64, 67, 0.15);\n",
              "      fill: #174EA6;\n",
              "    }\n",
              "\n",
              "    .colab-df-buttons div {\n",
              "      margin-bottom: 4px;\n",
              "    }\n",
              "\n",
              "    [theme=dark] .colab-df-convert {\n",
              "      background-color: #3B4455;\n",
              "      fill: #D2E3FC;\n",
              "    }\n",
              "\n",
              "    [theme=dark] .colab-df-convert:hover {\n",
              "      background-color: #434B5C;\n",
              "      box-shadow: 0px 1px 3px 1px rgba(0, 0, 0, 0.15);\n",
              "      filter: drop-shadow(0px 1px 2px rgba(0, 0, 0, 0.3));\n",
              "      fill: #FFFFFF;\n",
              "    }\n",
              "  </style>\n",
              "\n",
              "    <script>\n",
              "      const buttonEl =\n",
              "        document.querySelector('#df-31625511-5fee-44fa-b830-f0c54b128bb8 button.colab-df-convert');\n",
              "      buttonEl.style.display =\n",
              "        google.colab.kernel.accessAllowed ? 'block' : 'none';\n",
              "\n",
              "      async function convertToInteractive(key) {\n",
              "        const element = document.querySelector('#df-31625511-5fee-44fa-b830-f0c54b128bb8');\n",
              "        const dataTable =\n",
              "          await google.colab.kernel.invokeFunction('convertToInteractive',\n",
              "                                                    [key], {});\n",
              "        if (!dataTable) return;\n",
              "\n",
              "        const docLinkHtml = 'Like what you see? Visit the ' +\n",
              "          '<a target=\"_blank\" href=https://colab.research.google.com/notebooks/data_table.ipynb>data table notebook</a>'\n",
              "          + ' to learn more about interactive tables.';\n",
              "        element.innerHTML = '';\n",
              "        dataTable['output_type'] = 'display_data';\n",
              "        await google.colab.output.renderOutput(dataTable, element);\n",
              "        const docLink = document.createElement('div');\n",
              "        docLink.innerHTML = docLinkHtml;\n",
              "        element.appendChild(docLink);\n",
              "      }\n",
              "    </script>\n",
              "  </div>\n",
              "\n",
              "\n",
              "    <div id=\"df-76f85c1a-7e68-40e1-96ff-c103966a6650\">\n",
              "      <button class=\"colab-df-quickchart\" onclick=\"quickchart('df-76f85c1a-7e68-40e1-96ff-c103966a6650')\"\n",
              "                title=\"Suggest charts\"\n",
              "                style=\"display:none;\">\n",
              "\n",
              "<svg xmlns=\"http://www.w3.org/2000/svg\" height=\"24px\"viewBox=\"0 0 24 24\"\n",
              "     width=\"24px\">\n",
              "    <g>\n",
              "        <path d=\"M19 3H5c-1.1 0-2 .9-2 2v14c0 1.1.9 2 2 2h14c1.1 0 2-.9 2-2V5c0-1.1-.9-2-2-2zM9 17H7v-7h2v7zm4 0h-2V7h2v10zm4 0h-2v-4h2v4z\"/>\n",
              "    </g>\n",
              "</svg>\n",
              "      </button>\n",
              "\n",
              "<style>\n",
              "  .colab-df-quickchart {\n",
              "      --bg-color: #E8F0FE;\n",
              "      --fill-color: #1967D2;\n",
              "      --hover-bg-color: #E2EBFA;\n",
              "      --hover-fill-color: #174EA6;\n",
              "      --disabled-fill-color: #AAA;\n",
              "      --disabled-bg-color: #DDD;\n",
              "  }\n",
              "\n",
              "  [theme=dark] .colab-df-quickchart {\n",
              "      --bg-color: #3B4455;\n",
              "      --fill-color: #D2E3FC;\n",
              "      --hover-bg-color: #434B5C;\n",
              "      --hover-fill-color: #FFFFFF;\n",
              "      --disabled-bg-color: #3B4455;\n",
              "      --disabled-fill-color: #666;\n",
              "  }\n",
              "\n",
              "  .colab-df-quickchart {\n",
              "    background-color: var(--bg-color);\n",
              "    border: none;\n",
              "    border-radius: 50%;\n",
              "    cursor: pointer;\n",
              "    display: none;\n",
              "    fill: var(--fill-color);\n",
              "    height: 32px;\n",
              "    padding: 0;\n",
              "    width: 32px;\n",
              "  }\n",
              "\n",
              "  .colab-df-quickchart:hover {\n",
              "    background-color: var(--hover-bg-color);\n",
              "    box-shadow: 0 1px 2px rgba(60, 64, 67, 0.3), 0 1px 3px 1px rgba(60, 64, 67, 0.15);\n",
              "    fill: var(--button-hover-fill-color);\n",
              "  }\n",
              "\n",
              "  .colab-df-quickchart-complete:disabled,\n",
              "  .colab-df-quickchart-complete:disabled:hover {\n",
              "    background-color: var(--disabled-bg-color);\n",
              "    fill: var(--disabled-fill-color);\n",
              "    box-shadow: none;\n",
              "  }\n",
              "\n",
              "  .colab-df-spinner {\n",
              "    border: 2px solid var(--fill-color);\n",
              "    border-color: transparent;\n",
              "    border-bottom-color: var(--fill-color);\n",
              "    animation:\n",
              "      spin 1s steps(1) infinite;\n",
              "  }\n",
              "\n",
              "  @keyframes spin {\n",
              "    0% {\n",
              "      border-color: transparent;\n",
              "      border-bottom-color: var(--fill-color);\n",
              "      border-left-color: var(--fill-color);\n",
              "    }\n",
              "    20% {\n",
              "      border-color: transparent;\n",
              "      border-left-color: var(--fill-color);\n",
              "      border-top-color: var(--fill-color);\n",
              "    }\n",
              "    30% {\n",
              "      border-color: transparent;\n",
              "      border-left-color: var(--fill-color);\n",
              "      border-top-color: var(--fill-color);\n",
              "      border-right-color: var(--fill-color);\n",
              "    }\n",
              "    40% {\n",
              "      border-color: transparent;\n",
              "      border-right-color: var(--fill-color);\n",
              "      border-top-color: var(--fill-color);\n",
              "    }\n",
              "    60% {\n",
              "      border-color: transparent;\n",
              "      border-right-color: var(--fill-color);\n",
              "    }\n",
              "    80% {\n",
              "      border-color: transparent;\n",
              "      border-right-color: var(--fill-color);\n",
              "      border-bottom-color: var(--fill-color);\n",
              "    }\n",
              "    90% {\n",
              "      border-color: transparent;\n",
              "      border-bottom-color: var(--fill-color);\n",
              "    }\n",
              "  }\n",
              "</style>\n",
              "\n",
              "      <script>\n",
              "        async function quickchart(key) {\n",
              "          const quickchartButtonEl =\n",
              "            document.querySelector('#' + key + ' button');\n",
              "          quickchartButtonEl.disabled = true;  // To prevent multiple clicks.\n",
              "          quickchartButtonEl.classList.add('colab-df-spinner');\n",
              "          try {\n",
              "            const charts = await google.colab.kernel.invokeFunction(\n",
              "                'suggestCharts', [key], {});\n",
              "          } catch (error) {\n",
              "            console.error('Error during call to suggestCharts:', error);\n",
              "          }\n",
              "          quickchartButtonEl.classList.remove('colab-df-spinner');\n",
              "          quickchartButtonEl.classList.add('colab-df-quickchart-complete');\n",
              "        }\n",
              "        (() => {\n",
              "          let quickchartButtonEl =\n",
              "            document.querySelector('#df-76f85c1a-7e68-40e1-96ff-c103966a6650 button');\n",
              "          quickchartButtonEl.style.display =\n",
              "            google.colab.kernel.accessAllowed ? 'block' : 'none';\n",
              "        })();\n",
              "      </script>\n",
              "    </div>\n",
              "\n",
              "  <div id=\"id_e75fa926-858b-461e-bed6-35680094af52\">\n",
              "    <style>\n",
              "      .colab-df-generate {\n",
              "        background-color: #E8F0FE;\n",
              "        border: none;\n",
              "        border-radius: 50%;\n",
              "        cursor: pointer;\n",
              "        display: none;\n",
              "        fill: #1967D2;\n",
              "        height: 32px;\n",
              "        padding: 0 0 0 0;\n",
              "        width: 32px;\n",
              "      }\n",
              "\n",
              "      .colab-df-generate:hover {\n",
              "        background-color: #E2EBFA;\n",
              "        box-shadow: 0px 1px 2px rgba(60, 64, 67, 0.3), 0px 1px 3px 1px rgba(60, 64, 67, 0.15);\n",
              "        fill: #174EA6;\n",
              "      }\n",
              "\n",
              "      [theme=dark] .colab-df-generate {\n",
              "        background-color: #3B4455;\n",
              "        fill: #D2E3FC;\n",
              "      }\n",
              "\n",
              "      [theme=dark] .colab-df-generate:hover {\n",
              "        background-color: #434B5C;\n",
              "        box-shadow: 0px 1px 3px 1px rgba(0, 0, 0, 0.15);\n",
              "        filter: drop-shadow(0px 1px 2px rgba(0, 0, 0, 0.3));\n",
              "        fill: #FFFFFF;\n",
              "      }\n",
              "    </style>\n",
              "    <button class=\"colab-df-generate\" onclick=\"generateWithVariable('inspection')\"\n",
              "            title=\"Generate code using this dataframe.\"\n",
              "            style=\"display:none;\">\n",
              "\n",
              "  <svg xmlns=\"http://www.w3.org/2000/svg\" height=\"24px\"viewBox=\"0 0 24 24\"\n",
              "       width=\"24px\">\n",
              "    <path d=\"M7,19H8.4L18.45,9,17,7.55,7,17.6ZM5,21V16.75L18.45,3.32a2,2,0,0,1,2.83,0l1.4,1.43a1.91,1.91,0,0,1,.58,1.4,1.91,1.91,0,0,1-.58,1.4L9.25,21ZM18.45,9,17,7.55Zm-12,3A5.31,5.31,0,0,0,4.9,8.1,5.31,5.31,0,0,0,1,6.5,5.31,5.31,0,0,0,4.9,4.9,5.31,5.31,0,0,0,6.5,1,5.31,5.31,0,0,0,8.1,4.9,5.31,5.31,0,0,0,12,6.5,5.46,5.46,0,0,0,6.5,12Z\"/>\n",
              "  </svg>\n",
              "    </button>\n",
              "    <script>\n",
              "      (() => {\n",
              "      const buttonEl =\n",
              "        document.querySelector('#id_e75fa926-858b-461e-bed6-35680094af52 button.colab-df-generate');\n",
              "      buttonEl.style.display =\n",
              "        google.colab.kernel.accessAllowed ? 'block' : 'none';\n",
              "\n",
              "      buttonEl.onclick = () => {\n",
              "        google.colab.notebook.generateWithVariable('inspection');\n",
              "      }\n",
              "      })();\n",
              "    </script>\n",
              "  </div>\n",
              "\n",
              "    </div>\n",
              "  </div>\n"
            ],
            "application/vnd.google.colaboratory.intrinsic+json": {
              "type": "dataframe",
              "variable_name": "inspection",
              "summary": "{\n  \"name\": \"inspection\",\n  \"rows\": 59477,\n  \"fields\": [\n    {\n      \"column\": \"CAMIS\",\n      \"properties\": {\n        \"dtype\": \"category\",\n        \"num_unique_values\": 21051,\n        \"samples\": [\n          \"41267759\",\n          \"50116981\",\n          \"50159479\"\n        ],\n        \"semantic_type\": \"\",\n        \"description\": \"\"\n      }\n    },\n    {\n      \"column\": \"INSPECTION_DATE\",\n      \"properties\": {\n        \"dtype\": \"date\",\n        \"min\": \"2016-01-21 00:00:00\",\n        \"max\": \"2025-06-03 00:00:00\",\n        \"num_unique_values\": 1605,\n        \"samples\": [\n          \"2021-07-28 00:00:00\",\n          \"2023-11-17 00:00:00\",\n          \"2017-12-07 00:00:00\"\n        ],\n        \"semantic_type\": \"\",\n        \"description\": \"\"\n      }\n    },\n    {\n      \"column\": \"ACTION\",\n      \"properties\": {\n        \"dtype\": \"category\",\n        \"num_unique_values\": 3,\n        \"samples\": [\n          \"Violations found\",\n          \"No violations\",\n          \"Establishment closed\"\n        ],\n        \"semantic_type\": \"\",\n        \"description\": \"\"\n      }\n    },\n    {\n      \"column\": \"SCORE\",\n      \"properties\": {\n        \"dtype\": \"number\",\n        \"std\": 13.173636745782655,\n        \"min\": 0.0,\n        \"max\": 154.0,\n        \"num_unique_values\": 121,\n        \"samples\": [\n          54.0,\n          44.0,\n          29.0\n        ],\n        \"semantic_type\": \"\",\n        \"description\": \"\"\n      }\n    },\n    {\n      \"column\": \"GRADE\",\n      \"properties\": {\n        \"dtype\": \"category\",\n        \"num_unique_values\": 3,\n        \"samples\": [\n          \"A\",\n          \"B\",\n          \"C\"\n        ],\n        \"semantic_type\": \"\",\n        \"description\": \"\"\n      }\n    },\n    {\n      \"column\": \"INSPECTION_TYPE\",\n      \"properties\": {\n        \"dtype\": \"category\",\n        \"num_unique_values\": 2,\n        \"samples\": [\n          \"Re-inspection\",\n          \"Initial Inspection\"\n        ],\n        \"semantic_type\": \"\",\n        \"description\": \"\"\n      }\n    },\n    {\n      \"column\": \"TO_DELETE\",\n      \"properties\": {\n        \"dtype\": \"boolean\",\n        \"num_unique_values\": 1,\n        \"samples\": [\n          false\n        ],\n        \"semantic_type\": \"\",\n        \"description\": \"\"\n      }\n    }\n  ]\n}"
            }
          },
          "metadata": {},
          "execution_count": 132
        }
      ]
    },
    {
      "cell_type": "code",
      "execution_count": 133,
      "metadata": {
        "id": "ltuLy_aP7hut"
      },
      "outputs": [],
      "source": [
        "# We create an ID for each inspection here\n",
        "inspection = inspection.reset_index().drop('index', axis='columns').reset_index().rename({'index': 'INSPECTION_ID'}, axis='columns')"
      ]
    },
    {
      "cell_type": "code",
      "execution_count": 134,
      "metadata": {
        "colab": {
          "base_uri": "https://localhost:8080/",
          "height": 209
        },
        "id": "Aq30kh7f7hut",
        "outputId": "b3d6ed27-3772-4b50-aaa2-73cf12bd4444"
      },
      "outputs": [
        {
          "output_type": "execute_result",
          "data": {
            "text/plain": [
              "ACTION\n",
              "Violations found        58188\n",
              "Establishment closed      907\n",
              "No violations             382\n",
              "Name: count, dtype: int64"
            ],
            "text/html": [
              "<div>\n",
              "<style scoped>\n",
              "    .dataframe tbody tr th:only-of-type {\n",
              "        vertical-align: middle;\n",
              "    }\n",
              "\n",
              "    .dataframe tbody tr th {\n",
              "        vertical-align: top;\n",
              "    }\n",
              "\n",
              "    .dataframe thead th {\n",
              "        text-align: right;\n",
              "    }\n",
              "</style>\n",
              "<table border=\"1\" class=\"dataframe\">\n",
              "  <thead>\n",
              "    <tr style=\"text-align: right;\">\n",
              "      <th></th>\n",
              "      <th>count</th>\n",
              "    </tr>\n",
              "    <tr>\n",
              "      <th>ACTION</th>\n",
              "      <th></th>\n",
              "    </tr>\n",
              "  </thead>\n",
              "  <tbody>\n",
              "    <tr>\n",
              "      <th>Violations found</th>\n",
              "      <td>58188</td>\n",
              "    </tr>\n",
              "    <tr>\n",
              "      <th>Establishment closed</th>\n",
              "      <td>907</td>\n",
              "    </tr>\n",
              "    <tr>\n",
              "      <th>No violations</th>\n",
              "      <td>382</td>\n",
              "    </tr>\n",
              "  </tbody>\n",
              "</table>\n",
              "</div><br><label><b>dtype:</b> int64</label>"
            ]
          },
          "metadata": {},
          "execution_count": 134
        }
      ],
      "source": [
        "inspection.ACTION.value_counts()"
      ]
    },
    {
      "cell_type": "code",
      "execution_count": 135,
      "metadata": {
        "colab": {
          "base_uri": "https://localhost:8080/",
          "height": 112
        },
        "id": "buVPmBBH7hut",
        "outputId": "30c1715d-076e-4903-e34a-b9c86940ffd9"
      },
      "outputs": [
        {
          "output_type": "execute_result",
          "data": {
            "text/plain": [
              "                          INSPECTION_ID\n",
              "INSPECTION_DATE CAMIS                  \n",
              "2017-11-04      40911114              2"
            ],
            "text/html": [
              "\n",
              "  <div id=\"df-a32b3295-22f5-4239-bfaf-0692c095ac63\" class=\"colab-df-container\">\n",
              "    <div>\n",
              "<style scoped>\n",
              "    .dataframe tbody tr th:only-of-type {\n",
              "        vertical-align: middle;\n",
              "    }\n",
              "\n",
              "    .dataframe tbody tr th {\n",
              "        vertical-align: top;\n",
              "    }\n",
              "\n",
              "    .dataframe thead th {\n",
              "        text-align: right;\n",
              "    }\n",
              "</style>\n",
              "<table border=\"1\" class=\"dataframe\">\n",
              "  <thead>\n",
              "    <tr style=\"text-align: right;\">\n",
              "      <th></th>\n",
              "      <th></th>\n",
              "      <th>INSPECTION_ID</th>\n",
              "    </tr>\n",
              "    <tr>\n",
              "      <th>INSPECTION_DATE</th>\n",
              "      <th>CAMIS</th>\n",
              "      <th></th>\n",
              "    </tr>\n",
              "  </thead>\n",
              "  <tbody>\n",
              "    <tr>\n",
              "      <th>2017-11-04</th>\n",
              "      <th>40911114</th>\n",
              "      <td>2</td>\n",
              "    </tr>\n",
              "  </tbody>\n",
              "</table>\n",
              "</div>\n",
              "    <div class=\"colab-df-buttons\">\n",
              "\n",
              "  <div class=\"colab-df-container\">\n",
              "    <button class=\"colab-df-convert\" onclick=\"convertToInteractive('df-a32b3295-22f5-4239-bfaf-0692c095ac63')\"\n",
              "            title=\"Convert this dataframe to an interactive table.\"\n",
              "            style=\"display:none;\">\n",
              "\n",
              "  <svg xmlns=\"http://www.w3.org/2000/svg\" height=\"24px\" viewBox=\"0 -960 960 960\">\n",
              "    <path d=\"M120-120v-720h720v720H120Zm60-500h600v-160H180v160Zm220 220h160v-160H400v160Zm0 220h160v-160H400v160ZM180-400h160v-160H180v160Zm440 0h160v-160H620v160ZM180-180h160v-160H180v160Zm440 0h160v-160H620v160Z\"/>\n",
              "  </svg>\n",
              "    </button>\n",
              "\n",
              "  <style>\n",
              "    .colab-df-container {\n",
              "      display:flex;\n",
              "      gap: 12px;\n",
              "    }\n",
              "\n",
              "    .colab-df-convert {\n",
              "      background-color: #E8F0FE;\n",
              "      border: none;\n",
              "      border-radius: 50%;\n",
              "      cursor: pointer;\n",
              "      display: none;\n",
              "      fill: #1967D2;\n",
              "      height: 32px;\n",
              "      padding: 0 0 0 0;\n",
              "      width: 32px;\n",
              "    }\n",
              "\n",
              "    .colab-df-convert:hover {\n",
              "      background-color: #E2EBFA;\n",
              "      box-shadow: 0px 1px 2px rgba(60, 64, 67, 0.3), 0px 1px 3px 1px rgba(60, 64, 67, 0.15);\n",
              "      fill: #174EA6;\n",
              "    }\n",
              "\n",
              "    .colab-df-buttons div {\n",
              "      margin-bottom: 4px;\n",
              "    }\n",
              "\n",
              "    [theme=dark] .colab-df-convert {\n",
              "      background-color: #3B4455;\n",
              "      fill: #D2E3FC;\n",
              "    }\n",
              "\n",
              "    [theme=dark] .colab-df-convert:hover {\n",
              "      background-color: #434B5C;\n",
              "      box-shadow: 0px 1px 3px 1px rgba(0, 0, 0, 0.15);\n",
              "      filter: drop-shadow(0px 1px 2px rgba(0, 0, 0, 0.3));\n",
              "      fill: #FFFFFF;\n",
              "    }\n",
              "  </style>\n",
              "\n",
              "    <script>\n",
              "      const buttonEl =\n",
              "        document.querySelector('#df-a32b3295-22f5-4239-bfaf-0692c095ac63 button.colab-df-convert');\n",
              "      buttonEl.style.display =\n",
              "        google.colab.kernel.accessAllowed ? 'block' : 'none';\n",
              "\n",
              "      async function convertToInteractive(key) {\n",
              "        const element = document.querySelector('#df-a32b3295-22f5-4239-bfaf-0692c095ac63');\n",
              "        const dataTable =\n",
              "          await google.colab.kernel.invokeFunction('convertToInteractive',\n",
              "                                                    [key], {});\n",
              "        if (!dataTable) return;\n",
              "\n",
              "        const docLinkHtml = 'Like what you see? Visit the ' +\n",
              "          '<a target=\"_blank\" href=https://colab.research.google.com/notebooks/data_table.ipynb>data table notebook</a>'\n",
              "          + ' to learn more about interactive tables.';\n",
              "        element.innerHTML = '';\n",
              "        dataTable['output_type'] = 'display_data';\n",
              "        await google.colab.output.renderOutput(dataTable, element);\n",
              "        const docLink = document.createElement('div');\n",
              "        docLink.innerHTML = docLinkHtml;\n",
              "        element.appendChild(docLink);\n",
              "      }\n",
              "    </script>\n",
              "  </div>\n",
              "\n",
              "\n",
              "    </div>\n",
              "  </div>\n"
            ],
            "application/vnd.google.colaboratory.intrinsic+json": {
              "type": "dataframe",
              "summary": "{\n  \"name\": \"# assert len(pvt [ pvt\",\n  \"rows\": 1,\n  \"fields\": [\n    {\n      \"column\": \"INSPECTION_ID\",\n      \"properties\": {\n        \"dtype\": \"number\",\n        \"std\": null,\n        \"min\": 2,\n        \"max\": 2,\n        \"num_unique_values\": 1,\n        \"samples\": [\n          2\n        ],\n        \"semantic_type\": \"\",\n        \"description\": \"\"\n      }\n    }\n  ]\n}"
            }
          },
          "metadata": {},
          "execution_count": 135
        }
      ],
      "source": [
        "# Ensure that the inspection table contains\n",
        "# no duplicate pairs for 'INSPECTION_DATE', 'CAMIS'\n",
        "pvt = inspection.pivot_table(\n",
        "    index = ['INSPECTION_DATE', 'CAMIS'],\n",
        "    values = 'INSPECTION_ID',\n",
        "    aggfunc = 'count'\n",
        ")\n",
        "pvt [ pvt.INSPECTION_ID > 1 ]\n",
        "\n",
        "# assert len(pvt [ pvt.INSPECTION_ID > 1 ]) == 0"
      ]
    },
    {
      "cell_type": "code",
      "execution_count": 136,
      "metadata": {
        "id": "u1tvDeGA7hut"
      },
      "outputs": [],
      "source": [
        "# df[ (df.CAMIS =='41007054') & (df.INSPECTION_DATE == '2017-03-03')  ].sort_values('VIOLATION_CODE')"
      ]
    },
    {
      "cell_type": "code",
      "execution_count": 137,
      "metadata": {
        "id": "fzr3sv_f7hut"
      },
      "outputs": [],
      "source": [
        "# to_drop = inspection.query(\" CAMIS =='50051092' and  INSPECTION_DATE == '2019-09-11' \").index.values[1]\n",
        "# inspection = inspection.drop(to_drop, axis='index')"
      ]
    },
    {
      "cell_type": "code",
      "source": [
        "to_drop = inspection.query(\" CAMIS =='40911114' and  INSPECTION_DATE == '2017-11-04' \").index.values[1]\n",
        "\n",
        "inspection = inspection.drop(to_drop, axis='index')"
      ],
      "metadata": {
        "id": "fe_uah4zEDHU",
        "outputId": "5bc79fcf-8cea-4ec5-c382-77def965fc6b",
        "colab": {
          "base_uri": "https://localhost:8080/"
        }
      },
      "execution_count": 138,
      "outputs": [
        {
          "output_type": "stream",
          "name": "stderr",
          "text": [
            "<ipython-input-138-38f2eeae63ca>:1: FutureWarning: The behavior of 'isin' with dtype=datetime64[ns] and castable values (e.g. strings) is deprecated. In a future version, these will not be considered matching by isin. Explicitly cast to the appropriate dtype before calling isin instead.\n",
            "  to_drop = inspection.query(\" CAMIS =='40911114' and  INSPECTION_DATE == '2017-11-04' \").index.values[1]\n"
          ]
        }
      ]
    },
    {
      "cell_type": "code",
      "source": [
        "inspection.drop('TO_DELETE', axis='columns', inplace=True)"
      ],
      "metadata": {
        "id": "dU5ReJL0hc_W"
      },
      "execution_count": 139,
      "outputs": []
    },
    {
      "cell_type": "code",
      "execution_count": 140,
      "metadata": {
        "id": "YNyo-QPG7hut"
      },
      "outputs": [],
      "source": [
        "# Ensure that the inspection table contains\n",
        "# no duplicate pairs for 'INSPECTION_DATE', 'CAMIS'\n",
        "pvt = inspection.pivot_table(\n",
        "    index = ['INSPECTION_DATE', 'CAMIS'],\n",
        "    values = 'INSPECTION_ID',\n",
        "    aggfunc = 'count'\n",
        ")\n",
        "assert len(pvt [ pvt.INSPECTION_ID > 1 ]) == 0"
      ]
    },
    {
      "cell_type": "code",
      "execution_count": 141,
      "metadata": {
        "colab": {
          "base_uri": "https://localhost:8080/",
          "height": 178
        },
        "id": "Yva24CbP7huv",
        "outputId": "f426fa93-0a76-4833-d5de-8170122b481c"
      },
      "outputs": [
        {
          "output_type": "execute_result",
          "data": {
            "text/plain": [
              "INSPECTION_TYPE\n",
              "Initial Inspection    43545\n",
              "Re-inspection         15931\n",
              "Name: count, dtype: int64"
            ],
            "text/html": [
              "<div>\n",
              "<style scoped>\n",
              "    .dataframe tbody tr th:only-of-type {\n",
              "        vertical-align: middle;\n",
              "    }\n",
              "\n",
              "    .dataframe tbody tr th {\n",
              "        vertical-align: top;\n",
              "    }\n",
              "\n",
              "    .dataframe thead th {\n",
              "        text-align: right;\n",
              "    }\n",
              "</style>\n",
              "<table border=\"1\" class=\"dataframe\">\n",
              "  <thead>\n",
              "    <tr style=\"text-align: right;\">\n",
              "      <th></th>\n",
              "      <th>count</th>\n",
              "    </tr>\n",
              "    <tr>\n",
              "      <th>INSPECTION_TYPE</th>\n",
              "      <th></th>\n",
              "    </tr>\n",
              "  </thead>\n",
              "  <tbody>\n",
              "    <tr>\n",
              "      <th>Initial Inspection</th>\n",
              "      <td>43545</td>\n",
              "    </tr>\n",
              "    <tr>\n",
              "      <th>Re-inspection</th>\n",
              "      <td>15931</td>\n",
              "    </tr>\n",
              "  </tbody>\n",
              "</table>\n",
              "</div><br><label><b>dtype:</b> int64</label>"
            ]
          },
          "metadata": {},
          "execution_count": 141
        }
      ],
      "source": [
        "inspection.INSPECTION_TYPE.value_counts()"
      ]
    },
    {
      "cell_type": "code",
      "execution_count": 142,
      "metadata": {
        "id": "8Q9tnmEL7huv"
      },
      "outputs": [],
      "source": [
        "inspection_stats = inspection.pivot_table(\n",
        "    index = 'CAMIS',\n",
        "    aggfunc = ['min', 'max', 'count'],\n",
        "    values = 'INSPECTION_DATE'\n",
        ")"
      ]
    },
    {
      "cell_type": "code",
      "source": [],
      "metadata": {
        "id": "7eKs6Sd8_f18"
      },
      "execution_count": 142,
      "outputs": []
    },
    {
      "cell_type": "code",
      "execution_count": 143,
      "metadata": {
        "colab": {
          "base_uri": "https://localhost:8080/",
          "height": 467
        },
        "id": "2UGMl7ZK7huv",
        "outputId": "07cfd931-d757-433c-9b18-e96a11d7b002"
      },
      "outputs": [
        {
          "output_type": "execute_result",
          "data": {
            "text/plain": [
              "<Axes: xlabel='INSPECTION_DATE'>"
            ]
          },
          "metadata": {},
          "execution_count": 143
        },
        {
          "output_type": "display_data",
          "data": {
            "text/plain": [
              "<Figure size 640x480 with 1 Axes>"
            ],
            "image/png": "[encoded data removed]"
          },
          "metadata": {
            "image/png": {
              "width": 552,
              "height": 432
            }
          }
        }
      ],
      "source": [
        "# Distribution of last inspection across all restaurants\n",
        "inspection_stats['max'].sort_values('INSPECTION_DATE').reset_index().pivot_table(\n",
        "    index='INSPECTION_DATE',\n",
        "    aggfunc='count'\n",
        ").resample('1W').sum().plot()"
      ]
    },
    {
      "cell_type": "code",
      "execution_count": 144,
      "metadata": {
        "id": "K3mwJMYc7huv"
      },
      "outputs": [],
      "source": [
        "# Longevity\n",
        "# (inspection_stats['max'] - inspection_stats['min'])['INSPECTION DATE'].sort_values()"
      ]
    },
    {
      "cell_type": "code",
      "execution_count": 145,
      "metadata": {
        "colab": {
          "base_uri": "https://localhost:8080/",
          "height": 467
        },
        "id": "LElB919o7huv",
        "outputId": "e8e1b1bd-90fe-4ddf-e744-c2fa27d7c126"
      },
      "outputs": [
        {
          "output_type": "execute_result",
          "data": {
            "text/plain": [
              "<Axes: xlabel='INSPECTION_DATE'>"
            ]
          },
          "metadata": {},
          "execution_count": 145
        },
        {
          "output_type": "display_data",
          "data": {
            "text/plain": [
              "<Figure size 640x480 with 1 Axes>"
            ],
            "image/png": "[encoded data removed]"
          },
          "metadata": {
            "image/png": {
              "width": 552,
              "height": 432
            }
          }
        }
      ],
      "source": [
        "# Distribution of all inspections\n",
        "inspection['INSPECTION_DATE'].value_counts().sort_index().resample('1W').sum().plot()"
      ]
    },
    {
      "cell_type": "code",
      "execution_count": 146,
      "metadata": {
        "id": "8RDOAgxx7huv",
        "outputId": "4fe44b21-a14c-4cb1-aa3a-90382e3c41ad",
        "colab": {
          "base_uri": "https://localhost:8080/"
        }
      },
      "outputs": [
        {
          "output_type": "execute_result",
          "data": {
            "text/plain": [
              "193993"
            ]
          },
          "metadata": {},
          "execution_count": 146
        }
      ],
      "source": [
        "len(df)"
      ]
    },
    {
      "cell_type": "code",
      "execution_count": 147,
      "metadata": {
        "colab": {
          "base_uri": "https://localhost:8080/"
        },
        "id": "2WuZLSBA7huv",
        "outputId": "1493e06d-566b-42b7-8242-49c91433d7a8"
      },
      "outputs": [
        {
          "output_type": "execute_result",
          "data": {
            "text/plain": [
              "193989"
            ]
          },
          "metadata": {},
          "execution_count": 147
        }
      ],
      "source": [
        "violations = pd.merge(\n",
        "    inspection,\n",
        "    df[ ['CAMIS', 'INSPECTION_DATE', 'VIOLATION_CODE' ] ],\n",
        "    on= ['CAMIS', 'INSPECTION_DATE'],\n",
        "    how = 'inner'\n",
        ")\n",
        "violations = violations[ ['INSPECTION_ID', 'VIOLATION_CODE'] ].drop_duplicates()\n",
        "len(violations)"
      ]
    },
    {
      "cell_type": "code",
      "execution_count": 148,
      "metadata": {
        "colab": {
          "base_uri": "https://localhost:8080/"
        },
        "id": "fQm8ERgi7huv",
        "outputId": "64b52187-5c1d-4e10-da08-2f6a521c78c9"
      },
      "outputs": [
        {
          "output_type": "stream",
          "name": "stdout",
          "text": [
            "Violations: 193989\n",
            "Inspections: 59476\n",
            "Restaurants: 21051\n",
            "Violation Codes: 149\n"
          ]
        }
      ],
      "source": [
        "print(f\"Violations: {len(violations)}\")\n",
        "print(f\"Inspections: {len(inspection)}\")\n",
        "print(f\"Restaurants: {len(restaurants)}\")\n",
        "print(f\"Violation Codes: {len(violation_codes)}\")"
      ]
    },
    {
      "cell_type": "code",
      "execution_count": 148,
      "metadata": {
        "id": "skBkhYUI7huw"
      },
      "outputs": [],
      "source": []
    },
    {
      "cell_type": "markdown",
      "source": [
        "## Storing in MySQL\n"
      ],
      "metadata": {
        "id": "zAp8WgoP_U6T"
      }
    },
    {
      "cell_type": "markdown",
      "source": [],
      "metadata": {
        "id": "N3LHIKlH7wuD"
      }
    },
    {
      "cell_type": "code",
      "source": [
        "!sudo pip3 install -U -q PyMySQL sqlalchemy sql_magic"
      ],
      "metadata": {
        "id": "ZnnVs3t1_ZeG",
        "outputId": "d4039e2a-baae-4307-f6fd-cbe10ae29fc9",
        "colab": {
          "base_uri": "https://localhost:8080/"
        }
      },
      "execution_count": 149,
      "outputs": [
        {
          "output_type": "stream",
          "name": "stdout",
          "text": [
            "\u001b[?25l   \u001b[90m━━━━━━━━━━━━━━━━━━━━━━━━━━━━━━━━━━━━━━━━\u001b[0m \u001b[32m0.0/45.0 kB\u001b[0m \u001b[31m?\u001b[0m eta \u001b[36m-:--:--\u001b[0m\r\u001b[2K   \u001b[90m━━━━━━━━━━━━━━━━━━━━━━━━━━━━━━━━━━━━━━━━\u001b[0m \u001b[32m45.0/45.0 kB\u001b[0m \u001b[31m2.7 MB/s\u001b[0m eta \u001b[36m0:00:00\u001b[0m\n",
            "\u001b[2K   \u001b[90m━━━━━━━━━━━━━━━━━━━━━━━━━━━━━━━━━━━━━━━━\u001b[0m \u001b[32m1.6/1.6 MB\u001b[0m \u001b[31m26.2 MB/s\u001b[0m eta \u001b[36m0:00:00\u001b[0m\n",
            "\u001b[2K   \u001b[90m━━━━━━━━━━━━━━━━━━━━━━━━━━━━━━━━━━━━━━━━\u001b[0m \u001b[32m12.3/12.3 MB\u001b[0m \u001b[31m37.0 MB/s\u001b[0m eta \u001b[36m0:00:00\u001b[0m\n",
            "\u001b[2K   \u001b[90m━━━━━━━━━━━━━━━━━━━━━━━━━━━━━━━━━━━━━━━━\u001b[0m \u001b[32m69.1/69.1 kB\u001b[0m \u001b[31m5.2 MB/s\u001b[0m eta \u001b[36m0:00:00\u001b[0m\n",
            "\u001b[2K   \u001b[90m━━━━━━━━━━━━━━━━━━━━━━━━━━━━━━━━━━━━━━━━\u001b[0m \u001b[32m386.9/386.9 kB\u001b[0m \u001b[31m21.1 MB/s\u001b[0m eta \u001b[36m0:00:00\u001b[0m\n",
            "\u001b[2K   \u001b[90m━━━━━━━━━━━━━━━━━━━━━━━━━━━━━━━━━━━━━━━━\u001b[0m \u001b[32m133.5/133.5 kB\u001b[0m \u001b[31m7.7 MB/s\u001b[0m eta \u001b[36m0:00:00\u001b[0m\n",
            "\u001b[2K   \u001b[90m━━━━━━━━━━━━━━━━━━━━━━━━━━━━━━━━━━━━━━━━\u001b[0m \u001b[32m59.7/59.7 kB\u001b[0m \u001b[31m3.5 MB/s\u001b[0m eta \u001b[36m0:00:00\u001b[0m\n",
            "\u001b[2K   \u001b[90m━━━━━━━━━━━━━━━━━━━━━━━━━━━━━━━━━━━━━━━━\u001b[0m \u001b[32m66.4/66.4 kB\u001b[0m \u001b[31m4.8 MB/s\u001b[0m eta \u001b[36m0:00:00\u001b[0m\n",
            "\u001b[?25h"
          ]
        }
      ]
    },
    {
      "cell_type": "code",
      "source": [
        "import os\n",
        "from sqlalchemy import create_engine\n",
        "from sqlalchemy import text\n",
        "\n",
        "conn_string = 'mysql+pymysql://{user}:{password}@{host}/?charset=utf8mb4'.format(\n",
        "    host = 'db.ipeirotis.org',\n",
        "    user = 'root',\n",
        "    password = mysql_pass,\n",
        "    encoding = 'utf8mb4')\n",
        "\n",
        "engine = create_engine(conn_string)\n",
        "con = engine.connect()"
      ],
      "metadata": {
        "id": "XF85ORv5_bSa"
      },
      "execution_count": 150,
      "outputs": []
    },
    {
      "cell_type": "code",
      "source": [
        "# Query to create a database\n",
        "db_name = 'doh_restaurants'\n",
        "\n",
        "sql = f\"DROP DATABASE IF EXISTS {db_name}\"\n",
        "with engine.connect() as connection:\n",
        "  connection.execute(text(sql))\n",
        "\n",
        "# Create a database\n",
        "sql = f\"CREATE DATABASE IF NOT EXISTS {db_name} DEFAULT CHARACTER SET 'utf8mb4'\"\n",
        "with engine.connect() as connection:\n",
        "  connection.execute(text(sql))\n",
        "\n",
        "# And lets switch to the database\n",
        "sql = f\"USE {db_name}\"\n",
        "with engine.connect() as connection:\n",
        "  connection.execute(text(sql))"
      ],
      "metadata": {
        "id": "QyoxDe_T_gs-"
      },
      "execution_count": 154,
      "outputs": []
    },
    {
      "cell_type": "code",
      "source": [
        "create_table_sql = '''\n",
        "CREATE TABLE restaurants (\n",
        "    CAMIS                      char(8),\n",
        "    DBA varchar(100),\n",
        "    BUILDING varchar(10),\n",
        "    STREET varchar(40),\n",
        "    ZIPCODE char(5),\n",
        "    BORO ENUM('Bronx', 'Brooklyn', 'Manhattan', 'Queens', 'Staten Island')  ,\n",
        "    PHONE char(10),\n",
        "    CUISINE_DESCRIPTION    varchar(30),\n",
        "LATITUDE                float,\n",
        "LONGITUDE               float,\n",
        "COMMUNITY_BOARD          char(3),\n",
        "COUNCIL_DISTRICT         char(2),\n",
        "CENSUS_TRACT             char(6),\n",
        "BIN                      char(7),\n",
        "BBL                      char(10),\n",
        "NTA                      char(4),\n",
        "PRIMARY KEY(CAMIS)\n",
        ") ENGINE=InnoDB DEFAULT CHARSET=utf8mb4;\n",
        "'''\n",
        "with engine.connect() as connection:\n",
        "  connection.execute(text(create_table_sql))\n",
        "\n",
        "\n",
        "create_table_sql = '''\n",
        "CREATE TABLE inspections (\n",
        "    INSPECTION_ID               char(8),\n",
        "    CAMIS                      char(8),\n",
        "    INSPECTION_DATE    datetime,\n",
        "    ACTION                   ENUM('Violations found','Establishment closed','No violations'),\n",
        "    SCORE                     smallint,\n",
        "    GRADE                    char(1),\n",
        "    INSPECTION_TYPE          ENUM('Initial Inspection','Re-inspection'),\n",
        "    FOREIGN KEY(CAMIS) REFERENCES restaurants(CAMIS),\n",
        "    PRIMARY KEY(INSPECTION_ID)\n",
        ") ENGINE=InnoDB DEFAULT CHARSET=utf8mb4;\n",
        "'''\n",
        "with engine.connect() as connection:\n",
        "  connection.execute(text(create_table_sql))\n",
        "\n",
        "create_table_sql = '''\n",
        "CREATE TABLE violation_codes (\n",
        "  VIOLATION_CODE     char(5),\n",
        "  DESCRIPTION varchar(1000),\n",
        "  CRITICAL ENUM('Critical', 'Not Applicable', 'Not Critical'),\n",
        "  PRIMARY KEY(VIOLATION_CODE)\n",
        "\n",
        ") ENGINE=InnoDB DEFAULT CHARSET=utf8mb4;\n",
        "'''\n",
        "with engine.connect() as connection:\n",
        "  connection.execute(text(create_table_sql))\n",
        "\n",
        "\n",
        "create_table_sql = '''\n",
        "CREATE TABLE violations (\n",
        "  INSPECTION_ID         char(8),\n",
        "  VIOLATION_CODE     char(5),\n",
        "  FOREIGN KEY(INSPECTION_ID) REFERENCES inspections(INSPECTION_ID),\n",
        "  FOREIGN KEY(VIOLATION_CODE) REFERENCES violation_codes(VIOLATION_CODE)\n",
        ") ENGINE=InnoDB DEFAULT CHARSET=utf8mb4;\n",
        "'''\n",
        "with engine.connect() as connection:\n",
        "  connection.execute(text(create_table_sql))"
      ],
      "metadata": {
        "id": "ah7hOCzfSMx_"
      },
      "execution_count": 155,
      "outputs": []
    },
    {
      "cell_type": "code",
      "source": [
        "violation_codes.reset_index().VIOLATION_CODE.str.len().max()"
      ],
      "metadata": {
        "id": "NLifpFSTdPxG",
        "outputId": "05de3cbd-8cbb-4794-e0e3-67a87603d89b",
        "colab": {
          "base_uri": "https://localhost:8080/"
        }
      },
      "execution_count": 156,
      "outputs": [
        {
          "output_type": "execute_result",
          "data": {
            "text/plain": [
              "5"
            ]
          },
          "metadata": {},
          "execution_count": 156
        }
      ]
    },
    {
      "cell_type": "code",
      "source": [
        "violation_codes"
      ],
      "metadata": {
        "id": "BIxdeyFRUd9u",
        "outputId": "2a2992f9-1449-49b7-bd16-34c52835d858",
        "colab": {
          "base_uri": "https://localhost:8080/",
          "height": 455
        }
      },
      "execution_count": 157,
      "outputs": [
        {
          "output_type": "execute_result",
          "data": {
            "text/plain": [
              "                                                      DESCRIPTION  \\\n",
              "VIOLATION_CODE                                                      \n",
              "02A             Time/Temperature Control for Safety (TCS) food...   \n",
              "02A              Food not cooked to required minimum temperature.   \n",
              "02A             Time/Temperature Control for Safety (TCS) food...   \n",
              "02B                Hot TCS food item not held at or above 140 °F.   \n",
              "02B                    Hot food item not held at or above 140º F.   \n",
              "...                                                           ...   \n",
              "28-05           Food adulterated or misbranded. Adulterated or...   \n",
              "28-05           Food adulterated or misbranded.  Adulterated o...   \n",
              "28-06           Contract with a pest management professional n...   \n",
              "28-06           Contract with a pest management professional n...   \n",
              "28-07             Unapproved outdoor, street or sidewalk cooking.   \n",
              "\n",
              "                    CRITICAL  \n",
              "VIOLATION_CODE                \n",
              "02A                 Critical  \n",
              "02A                 Critical  \n",
              "02A                 Critical  \n",
              "02B                 Critical  \n",
              "02B                 Critical  \n",
              "...                      ...  \n",
              "28-05           Not Critical  \n",
              "28-05           Not Critical  \n",
              "28-06           Not Critical  \n",
              "28-06           Not Critical  \n",
              "28-07           Not Critical  \n",
              "\n",
              "[149 rows x 2 columns]"
            ],
            "text/html": [
              "\n",
              "  <div id=\"df-36fc1723-281a-4c7b-88df-1afa7a187c33\" class=\"colab-df-container\">\n",
              "    <div>\n",
              "<style scoped>\n",
              "    .dataframe tbody tr th:only-of-type {\n",
              "        vertical-align: middle;\n",
              "    }\n",
              "\n",
              "    .dataframe tbody tr th {\n",
              "        vertical-align: top;\n",
              "    }\n",
              "\n",
              "    .dataframe thead th {\n",
              "        text-align: right;\n",
              "    }\n",
              "</style>\n",
              "<table border=\"1\" class=\"dataframe\">\n",
              "  <thead>\n",
              "    <tr style=\"text-align: right;\">\n",
              "      <th></th>\n",
              "      <th>DESCRIPTION</th>\n",
              "      <th>CRITICAL</th>\n",
              "    </tr>\n",
              "    <tr>\n",
              "      <th>VIOLATION_CODE</th>\n",
              "      <th></th>\n",
              "      <th></th>\n",
              "    </tr>\n",
              "  </thead>\n",
              "  <tbody>\n",
              "    <tr>\n",
              "      <th>02A</th>\n",
              "      <td>Time/Temperature Control for Safety (TCS) food...</td>\n",
              "      <td>Critical</td>\n",
              "    </tr>\n",
              "    <tr>\n",
              "      <th>02A</th>\n",
              "      <td>Food not cooked to required minimum temperature.</td>\n",
              "      <td>Critical</td>\n",
              "    </tr>\n",
              "    <tr>\n",
              "      <th>02A</th>\n",
              "      <td>Time/Temperature Control for Safety (TCS) food...</td>\n",
              "      <td>Critical</td>\n",
              "    </tr>\n",
              "    <tr>\n",
              "      <th>02B</th>\n",
              "      <td>Hot TCS food item not held at or above 140 °F.</td>\n",
              "      <td>Critical</td>\n",
              "    </tr>\n",
              "    <tr>\n",
              "      <th>02B</th>\n",
              "      <td>Hot food item not held at or above 140º F.</td>\n",
              "      <td>Critical</td>\n",
              "    </tr>\n",
              "    <tr>\n",
              "      <th>...</th>\n",
              "      <td>...</td>\n",
              "      <td>...</td>\n",
              "    </tr>\n",
              "    <tr>\n",
              "      <th>28-05</th>\n",
              "      <td>Food adulterated or misbranded. Adulterated or...</td>\n",
              "      <td>Not Critical</td>\n",
              "    </tr>\n",
              "    <tr>\n",
              "      <th>28-05</th>\n",
              "      <td>Food adulterated or misbranded.  Adulterated o...</td>\n",
              "      <td>Not Critical</td>\n",
              "    </tr>\n",
              "    <tr>\n",
              "      <th>28-06</th>\n",
              "      <td>Contract with a pest management professional n...</td>\n",
              "      <td>Not Critical</td>\n",
              "    </tr>\n",
              "    <tr>\n",
              "      <th>28-06</th>\n",
              "      <td>Contract with a pest management professional n...</td>\n",
              "      <td>Not Critical</td>\n",
              "    </tr>\n",
              "    <tr>\n",
              "      <th>28-07</th>\n",
              "      <td>Unapproved outdoor, street or sidewalk cooking.</td>\n",
              "      <td>Not Critical</td>\n",
              "    </tr>\n",
              "  </tbody>\n",
              "</table>\n",
              "<p>149 rows × 2 columns</p>\n",
              "</div>\n",
              "    <div class=\"colab-df-buttons\">\n",
              "\n",
              "  <div class=\"colab-df-container\">\n",
              "    <button class=\"colab-df-convert\" onclick=\"convertToInteractive('df-36fc1723-281a-4c7b-88df-1afa7a187c33')\"\n",
              "            title=\"Convert this dataframe to an interactive table.\"\n",
              "            style=\"display:none;\">\n",
              "\n",
              "  <svg xmlns=\"http://www.w3.org/2000/svg\" height=\"24px\" viewBox=\"0 -960 960 960\">\n",
              "    <path d=\"M120-120v-720h720v720H120Zm60-500h600v-160H180v160Zm220 220h160v-160H400v160Zm0 220h160v-160H400v160ZM180-400h160v-160H180v160Zm440 0h160v-160H620v160ZM180-180h160v-160H180v160Zm440 0h160v-160H620v160Z\"/>\n",
              "  </svg>\n",
              "    </button>\n",
              "\n",
              "  <style>\n",
              "    .colab-df-container {\n",
              "      display:flex;\n",
              "      gap: 12px;\n",
              "    }\n",
              "\n",
              "    .colab-df-convert {\n",
              "      background-color: #E8F0FE;\n",
              "      border: none;\n",
              "      border-radius: 50%;\n",
              "      cursor: pointer;\n",
              "      display: none;\n",
              "      fill: #1967D2;\n",
              "      height: 32px;\n",
              "      padding: 0 0 0 0;\n",
              "      width: 32px;\n",
              "    }\n",
              "\n",
              "    .colab-df-convert:hover {\n",
              "      background-color: #E2EBFA;\n",
              "      box-shadow: 0px 1px 2px rgba(60, 64, 67, 0.3), 0px 1px 3px 1px rgba(60, 64, 67, 0.15);\n",
              "      fill: #174EA6;\n",
              "    }\n",
              "\n",
              "    .colab-df-buttons div {\n",
              "      margin-bottom: 4px;\n",
              "    }\n",
              "\n",
              "    [theme=dark] .colab-df-convert {\n",
              "      background-color: #3B4455;\n",
              "      fill: #D2E3FC;\n",
              "    }\n",
              "\n",
              "    [theme=dark] .colab-df-convert:hover {\n",
              "      background-color: #434B5C;\n",
              "      box-shadow: 0px 1px 3px 1px rgba(0, 0, 0, 0.15);\n",
              "      filter: drop-shadow(0px 1px 2px rgba(0, 0, 0, 0.3));\n",
              "      fill: #FFFFFF;\n",
              "    }\n",
              "  </style>\n",
              "\n",
              "    <script>\n",
              "      const buttonEl =\n",
              "        document.querySelector('#df-36fc1723-281a-4c7b-88df-1afa7a187c33 button.colab-df-convert');\n",
              "      buttonEl.style.display =\n",
              "        google.colab.kernel.accessAllowed ? 'block' : 'none';\n",
              "\n",
              "      async function convertToInteractive(key) {\n",
              "        const element = document.querySelector('#df-36fc1723-281a-4c7b-88df-1afa7a187c33');\n",
              "        const dataTable =\n",
              "          await google.colab.kernel.invokeFunction('convertToInteractive',\n",
              "                                                    [key], {});\n",
              "        if (!dataTable) return;\n",
              "\n",
              "        const docLinkHtml = 'Like what you see? Visit the ' +\n",
              "          '<a target=\"_blank\" href=https://colab.research.google.com/notebooks/data_table.ipynb>data table notebook</a>'\n",
              "          + ' to learn more about interactive tables.';\n",
              "        element.innerHTML = '';\n",
              "        dataTable['output_type'] = 'display_data';\n",
              "        await google.colab.output.renderOutput(dataTable, element);\n",
              "        const docLink = document.createElement('div');\n",
              "        docLink.innerHTML = docLinkHtml;\n",
              "        element.appendChild(docLink);\n",
              "      }\n",
              "    </script>\n",
              "  </div>\n",
              "\n",
              "\n",
              "    <div id=\"df-c4b21b55-f675-4320-92d2-2ead8fc2d1bc\">\n",
              "      <button class=\"colab-df-quickchart\" onclick=\"quickchart('df-c4b21b55-f675-4320-92d2-2ead8fc2d1bc')\"\n",
              "                title=\"Suggest charts\"\n",
              "                style=\"display:none;\">\n",
              "\n",
              "<svg xmlns=\"http://www.w3.org/2000/svg\" height=\"24px\"viewBox=\"0 0 24 24\"\n",
              "     width=\"24px\">\n",
              "    <g>\n",
              "        <path d=\"M19 3H5c-1.1 0-2 .9-2 2v14c0 1.1.9 2 2 2h14c1.1 0 2-.9 2-2V5c0-1.1-.9-2-2-2zM9 17H7v-7h2v7zm4 0h-2V7h2v10zm4 0h-2v-4h2v4z\"/>\n",
              "    </g>\n",
              "</svg>\n",
              "      </button>\n",
              "\n",
              "<style>\n",
              "  .colab-df-quickchart {\n",
              "      --bg-color: #E8F0FE;\n",
              "      --fill-color: #1967D2;\n",
              "      --hover-bg-color: #E2EBFA;\n",
              "      --hover-fill-color: #174EA6;\n",
              "      --disabled-fill-color: #AAA;\n",
              "      --disabled-bg-color: #DDD;\n",
              "  }\n",
              "\n",
              "  [theme=dark] .colab-df-quickchart {\n",
              "      --bg-color: #3B4455;\n",
              "      --fill-color: #D2E3FC;\n",
              "      --hover-bg-color: #434B5C;\n",
              "      --hover-fill-color: #FFFFFF;\n",
              "      --disabled-bg-color: #3B4455;\n",
              "      --disabled-fill-color: #666;\n",
              "  }\n",
              "\n",
              "  .colab-df-quickchart {\n",
              "    background-color: var(--bg-color);\n",
              "    border: none;\n",
              "    border-radius: 50%;\n",
              "    cursor: pointer;\n",
              "    display: none;\n",
              "    fill: var(--fill-color);\n",
              "    height: 32px;\n",
              "    padding: 0;\n",
              "    width: 32px;\n",
              "  }\n",
              "\n",
              "  .colab-df-quickchart:hover {\n",
              "    background-color: var(--hover-bg-color);\n",
              "    box-shadow: 0 1px 2px rgba(60, 64, 67, 0.3), 0 1px 3px 1px rgba(60, 64, 67, 0.15);\n",
              "    fill: var(--button-hover-fill-color);\n",
              "  }\n",
              "\n",
              "  .colab-df-quickchart-complete:disabled,\n",
              "  .colab-df-quickchart-complete:disabled:hover {\n",
              "    background-color: var(--disabled-bg-color);\n",
              "    fill: var(--disabled-fill-color);\n",
              "    box-shadow: none;\n",
              "  }\n",
              "\n",
              "  .colab-df-spinner {\n",
              "    border: 2px solid var(--fill-color);\n",
              "    border-color: transparent;\n",
              "    border-bottom-color: var(--fill-color);\n",
              "    animation:\n",
              "      spin 1s steps(1) infinite;\n",
              "  }\n",
              "\n",
              "  @keyframes spin {\n",
              "    0% {\n",
              "      border-color: transparent;\n",
              "      border-bottom-color: var(--fill-color);\n",
              "      border-left-color: var(--fill-color);\n",
              "    }\n",
              "    20% {\n",
              "      border-color: transparent;\n",
              "      border-left-color: var(--fill-color);\n",
              "      border-top-color: var(--fill-color);\n",
              "    }\n",
              "    30% {\n",
              "      border-color: transparent;\n",
              "      border-left-color: var(--fill-color);\n",
              "      border-top-color: var(--fill-color);\n",
              "      border-right-color: var(--fill-color);\n",
              "    }\n",
              "    40% {\n",
              "      border-color: transparent;\n",
              "      border-right-color: var(--fill-color);\n",
              "      border-top-color: var(--fill-color);\n",
              "    }\n",
              "    60% {\n",
              "      border-color: transparent;\n",
              "      border-right-color: var(--fill-color);\n",
              "    }\n",
              "    80% {\n",
              "      border-color: transparent;\n",
              "      border-right-color: var(--fill-color);\n",
              "      border-bottom-color: var(--fill-color);\n",
              "    }\n",
              "    90% {\n",
              "      border-color: transparent;\n",
              "      border-bottom-color: var(--fill-color);\n",
              "    }\n",
              "  }\n",
              "</style>\n",
              "\n",
              "      <script>\n",
              "        async function quickchart(key) {\n",
              "          const quickchartButtonEl =\n",
              "            document.querySelector('#' + key + ' button');\n",
              "          quickchartButtonEl.disabled = true;  // To prevent multiple clicks.\n",
              "          quickchartButtonEl.classList.add('colab-df-spinner');\n",
              "          try {\n",
              "            const charts = await google.colab.kernel.invokeFunction(\n",
              "                'suggestCharts', [key], {});\n",
              "          } catch (error) {\n",
              "            console.error('Error during call to suggestCharts:', error);\n",
              "          }\n",
              "          quickchartButtonEl.classList.remove('colab-df-spinner');\n",
              "          quickchartButtonEl.classList.add('colab-df-quickchart-complete');\n",
              "        }\n",
              "        (() => {\n",
              "          let quickchartButtonEl =\n",
              "            document.querySelector('#df-c4b21b55-f675-4320-92d2-2ead8fc2d1bc button');\n",
              "          quickchartButtonEl.style.display =\n",
              "            google.colab.kernel.accessAllowed ? 'block' : 'none';\n",
              "        })();\n",
              "      </script>\n",
              "    </div>\n",
              "\n",
              "  <div id=\"id_bb85a53d-281a-42cb-b7d2-74849a3a8ba2\">\n",
              "    <style>\n",
              "      .colab-df-generate {\n",
              "        background-color: #E8F0FE;\n",
              "        border: none;\n",
              "        border-radius: 50%;\n",
              "        cursor: pointer;\n",
              "        display: none;\n",
              "        fill: #1967D2;\n",
              "        height: 32px;\n",
              "        padding: 0 0 0 0;\n",
              "        width: 32px;\n",
              "      }\n",
              "\n",
              "      .colab-df-generate:hover {\n",
              "        background-color: #E2EBFA;\n",
              "        box-shadow: 0px 1px 2px rgba(60, 64, 67, 0.3), 0px 1px 3px 1px rgba(60, 64, 67, 0.15);\n",
              "        fill: #174EA6;\n",
              "      }\n",
              "\n",
              "      [theme=dark] .colab-df-generate {\n",
              "        background-color: #3B4455;\n",
              "        fill: #D2E3FC;\n",
              "      }\n",
              "\n",
              "      [theme=dark] .colab-df-generate:hover {\n",
              "        background-color: #434B5C;\n",
              "        box-shadow: 0px 1px 3px 1px rgba(0, 0, 0, 0.15);\n",
              "        filter: drop-shadow(0px 1px 2px rgba(0, 0, 0, 0.3));\n",
              "        fill: #FFFFFF;\n",
              "      }\n",
              "    </style>\n",
              "    <button class=\"colab-df-generate\" onclick=\"generateWithVariable('violation_codes')\"\n",
              "            title=\"Generate code using this dataframe.\"\n",
              "            style=\"display:none;\">\n",
              "\n",
              "  <svg xmlns=\"http://www.w3.org/2000/svg\" height=\"24px\"viewBox=\"0 0 24 24\"\n",
              "       width=\"24px\">\n",
              "    <path d=\"M7,19H8.4L18.45,9,17,7.55,7,17.6ZM5,21V16.75L18.45,3.32a2,2,0,0,1,2.83,0l1.4,1.43a1.91,1.91,0,0,1,.58,1.4,1.91,1.91,0,0,1-.58,1.4L9.25,21ZM18.45,9,17,7.55Zm-12,3A5.31,5.31,0,0,0,4.9,8.1,5.31,5.31,0,0,0,1,6.5,5.31,5.31,0,0,0,4.9,4.9,5.31,5.31,0,0,0,6.5,1,5.31,5.31,0,0,0,8.1,4.9,5.31,5.31,0,0,0,12,6.5,5.46,5.46,0,0,0,6.5,12Z\"/>\n",
              "  </svg>\n",
              "    </button>\n",
              "    <script>\n",
              "      (() => {\n",
              "      const buttonEl =\n",
              "        document.querySelector('#id_bb85a53d-281a-42cb-b7d2-74849a3a8ba2 button.colab-df-generate');\n",
              "      buttonEl.style.display =\n",
              "        google.colab.kernel.accessAllowed ? 'block' : 'none';\n",
              "\n",
              "      buttonEl.onclick = () => {\n",
              "        google.colab.notebook.generateWithVariable('violation_codes');\n",
              "      }\n",
              "      })();\n",
              "    </script>\n",
              "  </div>\n",
              "\n",
              "    </div>\n",
              "  </div>\n"
            ],
            "application/vnd.google.colaboratory.intrinsic+json": {
              "type": "dataframe",
              "variable_name": "violation_codes",
              "summary": "{\n  \"name\": \"violation_codes\",\n  \"rows\": 149,\n  \"fields\": [\n    {\n      \"column\": \"VIOLATION_CODE\",\n      \"properties\": {\n        \"dtype\": \"category\",\n        \"num_unique_values\": 72,\n        \"samples\": [\n          \"02F\",\n          \"10G\",\n          \"04C\"\n        ],\n        \"semantic_type\": \"\",\n        \"description\": \"\"\n      }\n    },\n    {\n      \"column\": \"DESCRIPTION\",\n      \"properties\": {\n        \"dtype\": \"string\",\n        \"num_unique_values\": 147,\n        \"samples\": [\n          \"Mechanical or natural ventilation system not provided,  improperly installed, in disrepair and/or fails to prevent excessive build-up of grease, heat, steam condensation vapors, odors, smoke, and fumes.\",\n          \"Appropriately scaled metal stem-type thermometer or thermocouple not provided or used to evaluate temperatures of potentially hazardous foods during cooking, cooling, reheating and holding.\",\n          \"Hand wash sign not posted\"\n        ],\n        \"semantic_type\": \"\",\n        \"description\": \"\"\n      }\n    },\n    {\n      \"column\": \"CRITICAL\",\n      \"properties\": {\n        \"dtype\": \"category\",\n        \"num_unique_values\": 2,\n        \"samples\": [\n          \"Not Critical\",\n          \"Critical\"\n        ],\n        \"semantic_type\": \"\",\n        \"description\": \"\"\n      }\n    }\n  ]\n}"
            }
          },
          "metadata": {},
          "execution_count": 157
        }
      ]
    },
    {
      "cell_type": "code",
      "source": [
        "violation_codes = violation_codes.groupby('VIOLATION_CODE').first()"
      ],
      "metadata": {
        "id": "-o1gQZT4U0hM",
        "outputId": "e1497d02-f783-468e-9824-ed8f0664372d",
        "colab": {
          "base_uri": "https://localhost:8080/"
        }
      },
      "execution_count": 158,
      "outputs": [
        {
          "output_type": "stream",
          "name": "stderr",
          "text": [
            "<ipython-input-158-5527dd98b9ff>:1: FutureWarning: The default of observed=False is deprecated and will be changed to True in a future version of pandas. Pass observed=False to retain current behavior or observed=True to adopt the future default and silence this warning.\n",
            "  violation_codes = violation_codes.groupby('VIOLATION_CODE').first()\n"
          ]
        }
      ]
    },
    {
      "cell_type": "code",
      "source": [
        "violation_codes.reset_index().to_sql(\n",
        "        name = 'violation_codes',\n",
        "        schema = db_name,\n",
        "        con = engine,\n",
        "        if_exists = 'append',\n",
        "        index = False,\n",
        "        chunksize = 1000)"
      ],
      "metadata": {
        "id": "hPNt2T69EaPu",
        "outputId": "e0a5d72a-5f0b-41ad-b82d-ab262e978356",
        "colab": {
          "base_uri": "https://localhost:8080/"
        }
      },
      "execution_count": 159,
      "outputs": [
        {
          "output_type": "execute_result",
          "data": {
            "text/plain": [
              "72"
            ]
          },
          "metadata": {},
          "execution_count": 159
        }
      ]
    },
    {
      "cell_type": "code",
      "source": [
        "restaurants[\"PHONE\"].replace(\n",
        "    to_replace='19292290938',\n",
        "    value = '9292290938',\n",
        "    inplace=True\n",
        ")"
      ],
      "metadata": {
        "id": "yyO40kYpnBTp",
        "outputId": "1d0fd67e-7a0d-4e93-e35a-7d2d2f146227",
        "colab": {
          "base_uri": "https://localhost:8080/"
        }
      },
      "execution_count": 160,
      "outputs": [
        {
          "output_type": "stream",
          "name": "stderr",
          "text": [
            "<ipython-input-160-7a7a524a034d>:1: FutureWarning: A value is trying to be set on a copy of a DataFrame or Series through chained assignment using an inplace method.\n",
            "The behavior will change in pandas 3.0. This inplace method will never work because the intermediate object on which we are setting values always behaves as a copy.\n",
            "\n",
            "For example, when doing 'df[col].method(value, inplace=True)', try using 'df.method({col: value}, inplace=True)' or df[col] = df[col].method(value) instead, to perform the operation inplace on the original object.\n",
            "\n",
            "\n",
            "  restaurants[\"PHONE\"].replace(\n"
          ]
        }
      ]
    },
    {
      "cell_type": "code",
      "source": [
        "restaurants.to_sql(\n",
        "        name = 'restaurants',\n",
        "        schema = db_name,\n",
        "        con = engine,\n",
        "        if_exists = 'append',\n",
        "        index = False,\n",
        "        chunksize = 1000)"
      ],
      "metadata": {
        "id": "XcSwdNSbl9F6",
        "outputId": "228c1454-2632-4671-c9e8-a7d868738a27",
        "colab": {
          "base_uri": "https://localhost:8080/"
        }
      },
      "execution_count": 161,
      "outputs": [
        {
          "output_type": "execute_result",
          "data": {
            "text/plain": [
              "21051"
            ]
          },
          "metadata": {},
          "execution_count": 161
        }
      ]
    },
    {
      "cell_type": "code",
      "source": [
        "inspection.to_sql(\n",
        "        name = 'inspections',\n",
        "        schema = db_name,\n",
        "        con = engine,\n",
        "        if_exists = 'append',\n",
        "        index = False,\n",
        "        chunksize = 1000)"
      ],
      "metadata": {
        "id": "IV2WmeI2mBxJ",
        "outputId": "6903b935-f133-4d3d-d041-34764bbd956c",
        "colab": {
          "base_uri": "https://localhost:8080/"
        }
      },
      "execution_count": 162,
      "outputs": [
        {
          "output_type": "execute_result",
          "data": {
            "text/plain": [
              "59476"
            ]
          },
          "metadata": {},
          "execution_count": 162
        }
      ]
    },
    {
      "cell_type": "code",
      "source": [
        "violations.to_sql(\n",
        "        name = 'violations',\n",
        "        schema = db_name,\n",
        "        con = engine,\n",
        "        if_exists = 'append',\n",
        "        index = False,\n",
        "        chunksize = 1000)"
      ],
      "metadata": {
        "id": "5O3w940SmJf3",
        "outputId": "a8df541b-9e3f-4300-a7b6-2f93eb018f9e",
        "colab": {
          "base_uri": "https://localhost:8080/"
        }
      },
      "execution_count": 163,
      "outputs": [
        {
          "output_type": "execute_result",
          "data": {
            "text/plain": [
              "193989"
            ]
          },
          "metadata": {},
          "execution_count": 163
        }
      ]
    },
    {
      "cell_type": "code",
      "source": [
        "sql = '''\n",
        "GRANT SELECT ON doh_restaurants.* TO 'student'@'%'\n",
        "'''\n",
        "with engine.connect() as connection:\n",
        "  connection.execute(text(sql))"
      ],
      "metadata": {
        "id": "JJ8drPUVI4BL"
      },
      "execution_count": 164,
      "outputs": []
    },
    {
      "cell_type": "code",
      "source": [
        "\n",
        "\n",
        "sql = '''\n",
        "CREATE VIEW restaurant_inspection_latest AS\n",
        "\tWITH latest_inspection AS (\n",
        "\t\tSELECT CAMIS, MAX(INSPECTION_DATE) AS INSPECTION_DATE FROM inspections\n",
        "\t\tGROUP BY CAMIS\n",
        "\t)\n",
        "\tSELECT R.CAMIS, R.DBA, R.BUILDING, R.STREET, R.ZIPCODE, R.BORO, R.CUISINE_DESCRIPTION, R.LATITUDE, R.LONGITUDE, I.INSPECTION_DATE, I.INSPECTION_ID, I.INSPECTION_TYPE, V.VIOLATION_CODE, I.SCORE, I.GRADE\n",
        "\t\tFROM restaurants R\n",
        "\t\t\tJOIN latest_inspection L ON R.CAMIS = L.CAMIS\n",
        "\t\t\tJOIN inspections I ON I.CAMIS = L.CAMIS AND L.INSPECTION_DATE = I.INSPECTION_DATE\n",
        "\t\t\tJOIN violations V ON I.INSPECTION_ID = V.INSPECTION_ID\n",
        "      '''\n",
        "\n",
        "with engine.connect() as connection:\n",
        "  connection.execute(text(sql))"
      ],
      "metadata": {
        "id": "5XgnNr3MSzVJ"
      },
      "execution_count": 165,
      "outputs": []
    },
    {
      "cell_type": "code",
      "source": [],
      "metadata": {
        "id": "k0Jw0u1JGPGp"
      },
      "execution_count": null,
      "outputs": []
    },
    {
      "cell_type": "markdown",
      "source": [
        "# BigQuery"
      ],
      "metadata": {
        "id": "IP4ceEjoGP8W"
      }
    },
    {
      "cell_type": "code",
      "source": [
        "# Import bigquery\n",
        "\n",
        "!pip install -q google-cloud-bigquery pandas-gbq\n",
        "\n",
        "from google.cloud import bigquery\n",
        "import pandas_gbq"
      ],
      "metadata": {
        "id": "dPMnCh9XGQ6I"
      },
      "execution_count": 169,
      "outputs": []
    },
    {
      "cell_type": "markdown",
      "source": [],
      "metadata": {
        "id": "y7mhAzFeK9BK"
      }
    },
    {
      "cell_type": "code",
      "source": [
        "# Add this section to write to BigQuery\n",
        "project_id = \"nyu-datasets\"\n",
        "dataset_id = \"doh_restaurants\"\n",
        "\n",
        "# Initialize BigQuery client\n",
        "client = bigquery.Client(project=project_id)\n",
        "\n",
        "# Create the dataset if it doesn't exist\n",
        "try:\n",
        "    client.get_dataset(dataset_id)\n",
        "    print(f\"Dataset {dataset_id} already exists.\")\n",
        "except:\n",
        "    dataset = bigquery.Dataset(f\"{project_id}.{dataset_id}\")\n",
        "    dataset.location = \"US\" # Or your preferred location\n",
        "    dataset = client.create_dataset(dataset, exists_ok=True)\n",
        "    print(f\"Dataset {dataset_id} created.\")\n",
        "\n",
        "\n",
        "# Define schema with descriptions for each table\n",
        "restaurants_schema = [\n",
        "    {\"name\": \"CAMIS\", \"type\": \"STRING\", \"mode\": \"NULLABLE\", \"description\": \"Restaurant unique identifier\"},\n",
        "    {\"name\": \"DBA\", \"type\": \"STRING\", \"mode\": \"NULLABLE\", \"description\": \"Doing Business As name\"},\n",
        "    {\"name\": \"BUILDING\", \"type\": \"STRING\", \"mode\": \"NULLABLE\", \"description\": \"Building number\"},\n",
        "    {\"name\": \"STREET\", \"type\": \"STRING\", \"mode\": \"NULLABLE\", \"description\": \"Street name\"},\n",
        "    {\"name\": \"ZIPCODE\", \"type\": \"STRING\", \"mode\": \"NULLABLE\", \"description\": \"Zip code\"},\n",
        "    {\"name\": \"BORO\", \"type\": \"STRING\", \"mode\": \"NULLABLE\", \"description\": \"Borough\"},\n",
        "    {\"name\": \"PHONE\", \"type\": \"STRING\", \"mode\": \"NULLABLE\", \"description\": \"Phone number\"},\n",
        "    {\"name\": \"CUISINE_DESCRIPTION\", \"type\": \"STRING\", \"mode\": \"NULLABLE\", \"description\": \"Cuisine type\"},\n",
        "    {\"name\": \"LATITUDE\", \"type\": \"FLOAT\", \"mode\": \"NULLABLE\", \"description\": \"Latitude coordinate\"},\n",
        "    {\"name\": \"LONGITUDE\", \"type\": \"FLOAT\", \"mode\": \"NULLABLE\", \"description\": \"Longitude coordinate\"},\n",
        "    {\"name\": \"COMMUNITY_BOARD\", \"type\": \"STRING\", \"mode\": \"NULLABLE\", \"description\": \"Community board number\"},\n",
        "    {\"name\": \"COUNCIL_DISTRICT\", \"type\": \"STRING\", \"mode\": \"NULLABLE\", \"description\": \"Council district number\"},\n",
        "    {\"name\": \"CENSUS_TRACT\", \"type\": \"STRING\", \"mode\": \"NULLABLE\", \"description\": \"Census tract number\"},\n",
        "    {\"name\": \"BIN\", \"type\": \"STRING\", \"mode\": \"NULLABLE\", \"description\": \"Building Identification Number\"},\n",
        "    {\"name\": \"BBL\", \"type\": \"STRING\", \"mode\": \"NULLABLE\", \"description\": \"Borough Block Lot\"},\n",
        "    {\"name\": \"NTA\", \"type\": \"STRING\", \"mode\": \"NULLABLE\", \"description\": \"Neighborhood Tabulation Area\"}\n",
        "]\n",
        "\n",
        "inspections_schema = [\n",
        "    {\"name\": \"INSPECTION_ID\", \"type\": \"STRING\", \"mode\": \"NULLABLE\", \"description\": \"Unique identifier for each inspection\"},\n",
        "    {\"name\": \"CAMIS\", \"type\": \"STRING\", \"mode\": \"NULLABLE\", \"description\": \"Restaurant unique identifier\"},\n",
        "    {\"name\": \"INSPECTION_DATE\", \"type\": \"TIMESTAMP\", \"mode\": \"NULLABLE\", \"description\": \"Date of inspection\"},\n",
        "    {\"name\": \"ACTION\", \"type\": \"STRING\", \"mode\": \"NULLABLE\", \"description\": \"Action taken during inspection\"},\n",
        "    {\"name\": \"SCORE\", \"type\": \"INTEGER\", \"mode\": \"NULLABLE\", \"description\": \"Inspection score\"},\n",
        "    {\"name\": \"GRADE\", \"type\": \"STRING\", \"mode\": \"NULLABLE\", \"description\": \"Inspection grade (A, B, or C)\"},\n",
        "    {\"name\": \"INSPECTION_TYPE\", \"type\": \"STRING\", \"mode\": \"NULLABLE\", \"description\": \"Type of inspection (Initial Inspection or Re-inspection)\"}\n",
        "]\n",
        "\n",
        "violation_codes_schema = [\n",
        "    {\"name\": \"VIOLATION_CODE\", \"type\": \"STRING\", \"mode\": \"NULLABLE\", \"description\": \"Code for the violation\"},\n",
        "    {\"name\": \"DESCRIPTION\", \"type\": \"STRING\", \"mode\": \"NULLABLE\", \"description\": \"Description of the violation\"},\n",
        "    {\"name\": \"CRITICAL\", \"type\": \"STRING\", \"mode\": \"NULLABLE\", \"description\": \"Criticality of the violation (Critical, Not Critical, Not Applicable)\"}\n",
        "]\n",
        "\n",
        "violations_schema = [\n",
        "    {\"name\": \"INSPECTION_ID\", \"type\": \"STRING\", \"mode\": \"NULLABLE\", \"description\": \"Unique identifier for each inspection\"},\n",
        "    {\"name\": \"VIOLATION_CODE\", \"type\": \"STRING\", \"mode\": \"NULLABLE\", \"description\": \"Code for the violation\"}\n",
        "]\n",
        "\n",
        "\n",
        "# Write the tables to BigQuery using pandas_gbq\n",
        "pandas_gbq.to_gbq(restaurants, f\"{dataset_id}.restaurants\", project_id=project_id, if_exists='replace', table_schema=restaurants_schema)\n",
        "print(\"restaurants table written to BigQuery\")\n",
        "\n",
        "pandas_gbq.to_gbq(inspection, f\"{dataset_id}.inspections\", project_id=project_id, if_exists='replace', table_schema=inspections_schema)\n",
        "print(\"inspections table written to BigQuery\")\n",
        "\n",
        "pandas_gbq.to_gbq(violation_codes.reset_index(), f\"{dataset_id}.violation_codes\", project_id=project_id, if_exists='replace', table_schema=violation_codes_schema)\n",
        "print(\"violation_codes table written to BigQuery\")\n",
        "\n",
        "pandas_gbq.to_gbq(violations, f\"{dataset_id}.violations\", project_id=project_id, if_exists='replace', table_schema=violations_schema)\n",
        "print(\"violations table written to BigQuery\")\n"
      ],
      "metadata": {
        "id": "gAKCwgreJp_1",
        "outputId": "2b5b07a5-a17d-4449-8999-b295407a38ee",
        "colab": {
          "base_uri": "https://localhost:8080/"
        }
      },
      "execution_count": 172,
      "outputs": [
        {
          "output_type": "stream",
          "name": "stdout",
          "text": [
            "Dataset doh_restaurants already exists.\n"
          ]
        },
        {
          "output_type": "stream",
          "name": "stderr",
          "text": [
            "100%|██████████| 1/1 [00:00<00:00, 2452.81it/s]\n"
          ]
        },
        {
          "output_type": "stream",
          "name": "stdout",
          "text": [
            "restaurants table written to BigQuery\n"
          ]
        },
        {
          "output_type": "stream",
          "name": "stderr",
          "text": [
            "100%|██████████| 1/1 [00:00<00:00, 2605.16it/s]\n"
          ]
        },
        {
          "output_type": "stream",
          "name": "stdout",
          "text": [
            "inspections table written to BigQuery\n"
          ]
        },
        {
          "output_type": "stream",
          "name": "stderr",
          "text": [
            "100%|██████████| 1/1 [00:00<00:00, 11335.96it/s]\n"
          ]
        },
        {
          "output_type": "stream",
          "name": "stdout",
          "text": [
            "violation_codes table written to BigQuery\n"
          ]
        },
        {
          "output_type": "stream",
          "name": "stderr",
          "text": [
            "100%|██████████| 1/1 [00:00<00:00, 12087.33it/s]"
          ]
        },
        {
          "output_type": "stream",
          "name": "stdout",
          "text": [
            "violations table written to BigQuery\n"
          ]
        },
        {
          "output_type": "stream",
          "name": "stderr",
          "text": [
            "\n"
          ]
        }
      ]
    },
    {
      "cell_type": "code",
      "source": [
        "# SQL code to run in BigQuery\n",
        "\n",
        "'''\n",
        "-- Add Primary Key to the restaurants table\n",
        "ALTER TABLE `nyu-datasets.doh_restaurants.restaurants`\n",
        "ADD PRIMARY KEY (CAMIS) NOT ENFORCED;\n",
        "\n",
        "-- Add Primary Key to the inspections table\n",
        "ALTER TABLE `nyu-datasets.doh_restaurants.inspections`\n",
        "ADD PRIMARY KEY (INSPECTION_ID) NOT ENFORCED;\n",
        "\n",
        "-- Add Foreign Key to the inspections table referencing the restaurants table\n",
        "ALTER TABLE `nyu-datasets.doh_restaurants.inspections`\n",
        "ADD CONSTRAINT fk_inspections_restaurants\n",
        "FOREIGN KEY (CAMIS) REFERENCES `nyu-datasets.doh_restaurants.restaurants`(CAMIS) NOT ENFORCED;\n",
        "\n",
        "-- Add Primary Key to the violation_codes table\n",
        "ALTER TABLE nyu-datasets.doh_restaurants.violation_codes\n",
        "ADD PRIMARY KEY (VIOLATION_CODE) NOT ENFORCED;\n",
        "\n",
        "-- Add Foreign Key to the violations table referencing the inspections table\n",
        "ALTER TABLE nyu-datasets.doh_restaurants.violations\n",
        "ADD CONSTRAINT fk_violations_inspections\n",
        "FOREIGN KEY (INSPECTION_ID) REFERENCES `nyu-datasets.doh_restaurants.inspections`(INSPECTION_ID) NOT ENFORCED;\n",
        "\n",
        "-- Add Foreign Key to the violations table referencing the violation_codes table\n",
        "ALTER TABLE nyu-datasets.doh_restaurants.violations\n",
        "ADD CONSTRAINT fk_violations_violation_codes\n",
        "FOREIGN KEY (VIOLATION_CODE) REFERENCES `nyu-datasets.doh_restaurants.violation_codes`(VIOLATION_CODE) NOT ENFORCED;\n",
        "'''"
      ],
      "metadata": {
        "id": "e1SXBBm8NntJ"
      },
      "execution_count": null,
      "outputs": []
    }
  ],
  "metadata": {
    "kernelspec": {
      "display_name": "Python 3",
      "language": "python",
      "name": "python3"
    },
    "language_info": {
      "codemirror_mode": {
        "name": "ipython",
        "version": 3
      },
      "file_extension": ".py",
      "mimetype": "text/x-python",
      "name": "python",
      "nbconvert_exporter": "python",
      "pygments_lexer": "ipython3",
      "version": "3.8.2"
    },
    "colab": {
      "name": "DOH_Restaurant_Inspections.ipynb",
      "provenance": [],
      "include_colab_link": true
    }
  },
  "nbformat": 4,
  "nbformat_minor": 0
}