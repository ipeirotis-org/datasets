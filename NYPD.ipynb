{
 "cells": [
  {
   "cell_type": "markdown",
   "metadata": {},
   "source": [
    "## NYPD Dataset\n",
    "\n",
    "Dataset description at \n",
    "https://data.cityofnewyork.us/Public-Safety/NYPD-Complaint-Data-Historic/qgea-i56i\n"
   ]
  },
  {
   "cell_type": "markdown",
   "metadata": {},
   "source": [
    "\n",
    "| Column | Description |\n",
    "|--------|-------------------|\n",
    "| CMPLNT_NUM | Randomly generated persistent ID for each complaint  |\n",
    "| CMPLNT_FR_DT | Exact date of occurrence for the reported event (or starting date of occurrence, if CMPLNT_TO_DT exists) |\n",
    "| CMPLNT_FR_TM | Exact time of occurrence for the reported event (or starting time of occurrence, if CMPLNT_TO_TM exists) |\n",
    "| CMPLNT_TO_DT | Ending date of occurrence for the reported event, if exact time of occurrence is unknown |\n",
    "| CMPLNT_TO_TM | Ending time of occurrence for the reported event, if exact time of occurrence is unknown |\n",
    "| RPT_DT | Date event was reported to police  |\n",
    "| KY_CD | Three digit offense classification code |\n",
    "| OFNS_DESC | Description of offense corresponding with key code |\n",
    "| PD_CD | Three digit internal classification code (more granular than Key Code) |\n",
    "| PD_DESC | Description of internal classification corresponding with PD code (more granular than Offense Description) |\n",
    "| CRM_ATPT_CPTD_CD | Indicator of whether crime was successfully completed or attempted, but failed or was interrupted prematurely |\n",
    "| LAW_CAT_CD | Level of offense: felony, misdemeanor, violation  |\n",
    "| JURIS_DESC | Jurisdiction responsible for incident. Either internal, like Police, Transit, and Housing; or external, like Correction, Port Authority, etc. |\n",
    "| BORO_NM | The name of the borough in which the incident occurred |\n",
    "| ADDR_PCT_CD | The precinct in which the incident occurred |\n",
    "| LOC_OF_OCCUR_DESC | Specific location of occurrence in or around the premises; inside, opposite of, front of, rear of |\n",
    "| PREM_TYP_DESC | Specific description of premises; grocery store, residence, street, etc. |\n",
    "| PARKS_NM | Name of NYC park, playground or greenspace of occurrence, if applicable (state parks are not included) |\n",
    "| HADEVELOPT | Name of NYCHA housing development of occurrence, if applicable |\n",
    "| X_COORD_CD | X-coordinate for New York State Plane Coordinate System, Long Island Zone, NAD 83, units feet (FIPS 3104) |\n",
    "| Y_COORD_CD | Y-coordinate for New York State Plane Coordinate System, Long Island Zone, NAD 83, units feet (FIPS 3104) |\n",
    "| Latitude | Latitude coordinate for Global Coordinate System, WGS 1984, decimal degrees (EPSG 4326)  |\n",
    "| Longitude | Longitude coordinate for Global Coordinate System, WGS 1984, decimal degrees (EPSG 4326) |\n",
    "|--------|-------------------|"
   ]
  },
  {
   "cell_type": "code",
   "execution_count": null,
   "metadata": {},
   "outputs": [],
   "source": [
    "# From https://data.cityofnewyork.us/Public-Safety/NYPD-Complaint-Data-Historic/qgea-i56i/data\n",
    "# !curl 'https://data.cityofnewyork.us/api/views/qgea-i56i/rows.csv?accessType=DOWNLOAD' -o nypd.csv"
   ]
  },
  {
   "cell_type": "code",
   "execution_count": null,
   "metadata": {},
   "outputs": [],
   "source": [
    "import pandas as pd\n",
    "import numpy as np"
   ]
  },
  {
   "cell_type": "code",
   "execution_count": null,
   "metadata": {},
   "outputs": [],
   "source": [
    "df = pd.read_csv(\"nypd.csv\", low_memory = False)"
   ]
  },
  {
   "cell_type": "code",
   "execution_count": null,
   "metadata": {},
   "outputs": [],
   "source": [
    "len(df)"
   ]
  },
  {
   "cell_type": "code",
   "execution_count": null,
   "metadata": {},
   "outputs": [],
   "source": [
    "# df [ df.CMPLNT_FR_DT.str.contains('1015') == True ]"
   ]
  },
  {
   "cell_type": "code",
   "execution_count": null,
   "metadata": {},
   "outputs": [],
   "source": [
    "# There are a few rows that contain year 1015, 1016, ... that trigger an error during date conversion\n",
    "# We replace all years written as 10XX with 20XX\n",
    "# Note the usage of regular expressions\n",
    "df.CMPLNT_FR_DT.replace(to_replace = '(\\d\\d)/(\\d\\d)/10(\\d\\d)', value=r'\\1/\\2/20\\3', inplace = True, regex=True )\n",
    "df.CMPLNT_TO_DT.replace(to_replace = '(\\d\\d)/(\\d\\d)/10(\\d\\d)', value=r'\\1/\\2/20\\3', inplace = True, regex=True )"
   ]
  },
  {
   "cell_type": "code",
   "execution_count": null,
   "metadata": {},
   "outputs": [],
   "source": [
    "# Similarly, a few hours are written as 24:00:00, which also triggers errors.\n",
    "# We fix these hours\n",
    "df.CMPLNT_FR_TM.replace(to_replace = '24:00:00', value='00:00:00', inplace = True)\n",
    "df.CMPLNT_TO_TM.replace(to_replace = '24:00:00', value='00:00:00', inplace = True)"
   ]
  },
  {
   "cell_type": "code",
   "execution_count": null,
   "metadata": {},
   "outputs": [],
   "source": [
    "# Convert the two separate date and time columns into single datetime columns\n",
    "df['CMPLNT_FR'] = pd.to_datetime(df.CMPLNT_FR_DT + ' ' + df.CMPLNT_FR_TM, format='%m/%d/%Y %H:%M:%S')\n",
    "df['CMPLNT_TO'] = pd.to_datetime(df.CMPLNT_TO_DT + ' ' + df.CMPLNT_TO_TM, format='%m/%d/%Y %H:%M:%S')\n",
    "\n",
    "# Convert RPT_DT to date\n",
    "df.RPT_DT = pd.to_datetime(df.RPT_DT, format=\"%m/%d/%Y\")"
   ]
  },
  {
   "cell_type": "code",
   "execution_count": null,
   "metadata": {},
   "outputs": [],
   "source": [
    "# MISD means MISDEMEANOR\n",
    "df.LAW_CAT_CD.replace(to_replace = 'MISD', value='MISDEMEANOR', inplace = True )\n",
    "\n",
    "# Replace ' ' with NULL\n",
    "df.LOC_OF_OCCUR_DESC.replace(to_replace = ' ', value=np.nan, inplace = True)"
   ]
  },
  {
   "cell_type": "markdown",
   "metadata": {},
   "source": [
    "##### We should have a discussion about data exploration/cleaning here"
   ]
  },
  {
   "cell_type": "code",
   "execution_count": null,
   "metadata": {},
   "outputs": [],
   "source": [
    "# Find the unique values in each column\n",
    "# \n",
    "# df.describe(include = [np.object, 'category']).T['unique']\n",
    "df.describe(include = 'all').T['unique'].sort_values()"
   ]
  },
  {
   "cell_type": "code",
   "execution_count": null,
   "metadata": {},
   "outputs": [],
   "source": []
  },
  {
   "cell_type": "code",
   "execution_count": null,
   "metadata": {},
   "outputs": [],
   "source": [
    "df.CRM_ATPT_CPTD_CD.value_counts()"
   ]
  },
  {
   "cell_type": "code",
   "execution_count": null,
   "metadata": {},
   "outputs": [],
   "source": [
    "df.LAW_CAT_CD.value_counts()"
   ]
  },
  {
   "cell_type": "code",
   "execution_count": null,
   "metadata": {},
   "outputs": [],
   "source": [
    "df.BORO_NM.value_counts()"
   ]
  },
  {
   "cell_type": "code",
   "execution_count": null,
   "metadata": {},
   "outputs": [],
   "source": [
    "df.LOC_OF_OCCUR_DESC.value_counts()"
   ]
  },
  {
   "cell_type": "code",
   "execution_count": null,
   "metadata": {},
   "outputs": [],
   "source": [
    "# We will mark these as categorical, and we will make these ENUMs in the database\n",
    "# As a matter of personal preference, I convert to ENUMS datatypes with cardinality less than 10\n",
    "# as these are typically the attributes that do not have additional values appearing\n",
    "# \n",
    "df.CRM_ATPT_CPTD_CD = pd.Categorical(df.CRM_ATPT_CPTD_CD) # COMPLETED / ATTEMPTED\n",
    "df.LAW_CAT_CD = pd.Categorical(df.LAW_CAT_CD) # MISDEMEANOR / FELONY / VIOLATION / MISD     \n",
    "df.BORO_NM = pd.Categorical(df.BORO_NM) \n",
    "df.LOC_OF_OCCUR_DESC = pd.Categorical(df.LOC_OF_OCCUR_DESC) "
   ]
  },
  {
   "cell_type": "code",
   "execution_count": null,
   "metadata": {},
   "outputs": [],
   "source": [
    "# Find unique values and maximum length of various columns\n",
    "for column in df.columns.values:\n",
    "    datatype = df[column].dtype.name\n",
    "    unique_values = len(df[column].value_counts())\n",
    "    print(column, '\\t', datatype, '\\t', unique_values)\n",
    "    if datatype == 'object' or datatype =='category':\n",
    "        m = max([len(str(x)) for x in df[column].value_counts().index.values])\n",
    "        print(\"Max length:\", m)\n"
   ]
  },
  {
   "cell_type": "code",
   "execution_count": null,
   "metadata": {},
   "outputs": [],
   "source": [
    "df.KY_CD = pd.Categorical(df.KY_CD) #these are codes, not numbers\n",
    "df.PD_CD = pd.Categorical(df.PD_CD) #these are codes, not numbers\n",
    "df.ADDR_PCT_CD = pd.Categorical(df.ADDR_PCT_CD) #these are codes, not numbers"
   ]
  },
  {
   "cell_type": "code",
   "execution_count": null,
   "metadata": {},
   "outputs": [],
   "source": [
    "# These columns are redundant\n",
    "# \n",
    "df.drop('Lat_Lon', axis=1, inplace=True)\n",
    "df.drop('CMPLNT_FR_DT', axis=1, inplace=True)\n",
    "df.drop('CMPLNT_TO_DT', axis=1, inplace=True)\n",
    "df.drop('CMPLNT_FR_TM', axis=1, inplace=True)\n",
    "df.drop('CMPLNT_TO_TM', axis=1, inplace=True)"
   ]
  },
  {
   "cell_type": "code",
   "execution_count": null,
   "metadata": {},
   "outputs": [],
   "source": [
    " df.dtypes"
   ]
  },
  {
   "cell_type": "markdown",
   "metadata": {},
   "source": [
    "The fields \n",
    "\n",
    "PD_CD, PD_DESC    \n",
    "KY_CD, OFNS_DESC  \n",
    "JURIS_DESC    \n",
    "PREM_TYP_DESC    \n",
    "HADEVELOPT    \n",
    "PARKS_NM                     \n",
    "\n",
    "would be better off as foreign keys or enums. They take too much space as strings."
   ]
  },
  {
   "cell_type": "markdown",
   "metadata": {},
   "source": [
    "### Writing a Pandas Dataframe in a MySQL Table"
   ]
  },
  {
   "cell_type": "markdown",
   "metadata": {},
   "source": [
    "Now we will connect to our MySQL server. We will use the SQLAlchemy library of Python.\n",
    "\n",
    "If you do not have the library, you need to install it by typing in the shell:"
   ]
  },
  {
   "cell_type": "code",
   "execution_count": null,
   "metadata": {},
   "outputs": [],
   "source": [
    "!sudo -H pip3 install -U sqlalchemy"
   ]
  },
  {
   "cell_type": "code",
   "execution_count": null,
   "metadata": {},
   "outputs": [],
   "source": [
    "from sqlalchemy import create_engine\n",
    "\n",
    "conn_string = 'mysql://{user}:{password}@{host}/?charset=utf8mb4'.format(\n",
    "    host = 'db.ipeirotis.org', \n",
    "    user = 'root',\n",
    "    password = 'sO5wAOyHFg2b8pf2',\n",
    "    encoding = 'utf8mb4')\n",
    "\n",
    "engine = create_engine(conn_string)\n",
    "con = engine.connect()"
   ]
  },
  {
   "cell_type": "markdown",
   "metadata": {},
   "source": [
    "Once we have connected successfully, we need to create our database:"
   ]
  },
  {
   "cell_type": "code",
   "execution_count": null,
   "metadata": {},
   "outputs": [],
   "source": [
    "# Query to create a database\n",
    "db_name = 'nypd_complaints'\n",
    "create_db_query = \"CREATE DATABASE IF NOT EXISTS {db} DEFAULT CHARACTER SET 'utf8mb4'\".format(db=db_name)\n",
    "\n",
    "# Create a database\n",
    "engine.execute(create_db_query)\n"
   ]
  },
  {
   "cell_type": "code",
   "execution_count": null,
   "metadata": {},
   "outputs": [],
   "source": [
    "# And lets switch to the database\n",
    "engine.execute(\"USE {db}\".format(db=db_name))"
   ]
  },
  {
   "cell_type": "code",
   "execution_count": null,
   "metadata": {},
   "outputs": [],
   "source": [
    "# In principle, we can let Pandas create the table, but we want to be a bit more predise\n",
    "# with the data types, and we want to add documentation for each column\n",
    "# from https://data.cityofnewyork.us/Public-Safety/NYPD-Complaint-Data-Historic/qgea-i56i\n",
    "\n",
    "create_table_sql = '''\n",
    "CREATE TABLE nypd (\n",
    "  CMPLNT_NUM bigint(20) COMMENT 'Randomly generated persistent ID for each complaint ',\n",
    "  CMPLNT_FR datetime COMMENT 'Exact date/time of occurrence for the reported event  (or starting date/time of occurrence, if CMPLNT_TO_DTTM exists)',\n",
    "  CMPLNT_TO datetime  COMMENT 'Ending date/time of occurrence for the reported event, if exact time of occurrence is unknown',\n",
    "  RPT_DT date COMMENT 'Date event was reported to police',\n",
    "  KY_CD char(3)  COMMENT 'Three digit offense classification code',\n",
    "  OFNS_DESC varchar(60)  COMMENT 'Description of offense corresponding with key code',\n",
    "  PD_CD char(3) COMMENT 'Three digit internal classification code (more granular than Key Code)',\n",
    "  PD_DESC varchar(60)  COMMENT 'Description of internal classification corresponding with PD code (more granular than Offense Description',\n",
    "  CRM_ATPT_CPTD_CD enum('COMPLETED','ATTEMPTED')  COMMENT 'Indicator of whether crime was successfully completed or attempted, but failed or was interrupted prematurely',\n",
    "  LAW_CAT_CD enum('FELONY','MISDEMEANOR','VIOLATION')  COMMENT 'Level of offense: felony, misdemeanor, violation',\n",
    "  JURIS_DESC varchar(60)  COMMENT 'Jurisdiction responsible for incident. Either internal, like Police, Transit, and Housing; or external, like Correction, Port Authority, etc.',\n",
    "  BORO_NM enum('BRONX','BROOKLYN','MANHATTAN','QUEENS','STATEN ISLAND') COMMENT 'The name of the borough in which the incident occurred',\n",
    "  ADDR_PCT_CD char(3)  COMMENT 'The precinct in which the incident occurred',\n",
    "  LOC_OF_OCCUR_DESC enum('FRONT OF','INSIDE','OPPOSITE OF','OUTSIDE','REAR OF') COMMENT 'Specific location of occurrence in or around the premises; inside, opposite of, front of, rear of',\n",
    "  PREM_TYP_DESC varchar(60)  COMMENT 'Specific description of premises; grocery store, residence, street, etc.',\n",
    "  PARKS_NM varchar(80)  COMMENT 'Name of NYC park, playground or greenspace of occurrence, if applicable (state parks are not included)',\n",
    "  HADEVELOPT varchar(60)  COMMENT 'Name of NYCHA housing development of occurrence, if applicable',\n",
    "  X_COORD_CD char(9)  COMMENT 'X-coordinate for New York State Plane Coordinate System, Long Island Zone, NAD 83, units feet (FIPS 3104)',\n",
    "  Y_COORD_CD char(9)  COMMENT 'Y-coordinate for New York State Plane Coordinate System, Long Island Zone, NAD 83, units feet (FIPS 3104)',\n",
    "  Latitude double COMMENT 'Latitude coordinate for Global Coordinate System, WGS\\n1984, decimal degrees (EPSG 4326)',\n",
    "  Longitude double  COMMENT 'Longitude coordinate for Global Coordinate System, WGS 1984, decimal degrees (EPSG 4326)',\n",
    "  PRIMARY KEY (CMPLNT_NUM)\n",
    ") ENGINE=InnoDB DEFAULT CHARSET=utf8mb4;\n",
    "'''\n",
    "engine.execute(create_table_sql)"
   ]
  },
  {
   "cell_type": "code",
   "execution_count": null,
   "metadata": {},
   "outputs": [],
   "source": [
    "# Create a table\n",
    "# See http://pandas.pydata.org/pandas-docs/stable/generated/pandas.DataFrame.to_sql.html for the documentation\n",
    "from tqdm import tqdm\n",
    "batchsize = 50000\n",
    "batches = len(df) // batchsize + 1\n",
    "\n",
    "t = tqdm(range(batches))\n",
    "\n",
    "table_name = 'nypd'\n",
    "\n",
    "for i in t:\n",
    "    start = batchsize * i\n",
    "    end = batchsize * (i+1)\n",
    "    df[start:end].to_sql(\n",
    "        name = table_name, \n",
    "        schema = db_name, \n",
    "        con = engine,\n",
    "        if_exists = 'append',\n",
    "        index = False, \n",
    "        chunksize = 1000)"
   ]
  },
  {
   "cell_type": "code",
   "execution_count": null,
   "metadata": {},
   "outputs": [],
   "source": [
    "# Once we have the data in the table, we also specify a primary key\n",
    "# If we had FOREIGN KEYS we can add them in the same way\n",
    "# add_key_query = 'ALTER TABLE nypd ADD PRIMARY KEY(CMPLNT_NUM)'\n",
    "# engine.execute(add_key_query)"
   ]
  },
  {
   "cell_type": "code",
   "execution_count": null,
   "metadata": {},
   "outputs": [],
   "source": [
    "query =  \"SELECT * FROM nypd LIMIT 100\"\n",
    "pd.read_sql(query, con=engine).head(5)\n"
   ]
  },
  {
   "cell_type": "code",
   "execution_count": null,
   "metadata": {},
   "outputs": [],
   "source": [
    "query =  \"show full columns from nypd_complaints.nypd;\"\n",
    "pd.read_sql(query, con=engine)[['Field', 'Type', 'Comment']]\n"
   ]
  },
  {
   "cell_type": "markdown",
   "metadata": {},
   "source": [
    "And remember that from Pandas it is also possible to export in other formats, such as Excel of CSV."
   ]
  },
  {
   "cell_type": "code",
   "execution_count": null,
   "metadata": {},
   "outputs": [],
   "source": [
    "# The necessary library to write in Excel\n",
    "# !sudo pip3 install -U xlwt"
   ]
  },
  {
   "cell_type": "code",
   "execution_count": null,
   "metadata": {},
   "outputs": [],
   "source": [
    "# Data quality issues to fix: KY_CD, OFNS_DESC\n",
    "\n",
    "query = '''\n",
    "SELECT KY_CD, OFNS_DESC, COUNT(*)\n",
    "FROM nypd WHERE KY_CD IN (\n",
    "SELECT KY_CD\n",
    "FROM nypd\n",
    "WHERE OFNS_DESC IS NOT NULL\n",
    "GROUP BY KY_CD\n",
    "HAVING COUNT(DISTINCT OFNS_DESC)>1)\n",
    "GROUP BY KY_CD, OFNS_DESC\n",
    "'''\n",
    "\n",
    "df = pd.read_sql(query, con=engine)\n",
    "df"
   ]
  },
  {
   "cell_type": "code",
   "execution_count": null,
   "metadata": {},
   "outputs": [],
   "source": [
    "# Data quality issues to fix: PD_CD, PD_DESC\n",
    "\n",
    "query = '''\n",
    "SELECT PD_CD, PD_DESC, COUNT(*)\n",
    "FROM nypd WHERE PD_DESC IN (\n",
    "SELECT PD_DESC\n",
    "FROM nypd\n",
    "WHERE PD_DESC IS NOT NULL\n",
    "GROUP BY PD_DESC\n",
    "HAVING COUNT(DISTINCT PD_CD)>1)\n",
    "GROUP BY PD_CD, PD_DESC\n",
    "'''\n",
    "\n",
    "df = pd.read_sql(query, con=engine)\n",
    "df"
   ]
  }
 ],
 "metadata": {
  "kernelspec": {
   "display_name": "Python 3",
   "language": "python",
   "name": "python3"
  },
  "language_info": {
   "codemirror_mode": {
    "name": "ipython",
    "version": 3
   },
   "file_extension": ".py",
   "mimetype": "text/x-python",
   "name": "python",
   "nbconvert_exporter": "python",
   "pygments_lexer": "ipython3",
   "version": "3.6.6"
  }
 },
 "nbformat": 4,
 "nbformat_minor": 1
}
