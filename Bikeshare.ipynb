{
 "cells": [
  {
   "cell_type": "code",
   "execution_count": null,
   "metadata": {},
   "outputs": [],
   "source": [
    "import pandas as pd\n",
    "import numpy as np"
   ]
  },
  {
   "cell_type": "code",
   "execution_count": null,
   "metadata": {},
   "outputs": [],
   "source": [
    "from sqlalchemy import create_engine\n",
    "\n",
    "conn_string = 'mysql://{user}:{password}@{host}/?charset=utf8mb4'.format(\n",
    "    host = 'db.ipeirotis.org', \n",
    "    user = 'root',\n",
    "    password = 'krjniJm6OuIyhEoo',\n",
    "    encoding = 'utf8mb4')\n",
    "\n",
    "engine = create_engine(conn_string)\n",
    "con = engine.connect()"
   ]
  },
  {
   "cell_type": "code",
   "execution_count": null,
   "metadata": {},
   "outputs": [],
   "source": [
    "# Query to create a database\n",
    "db_name = 'bike_sharing'\n",
    "create_db_query = \"CREATE DATABASE IF NOT EXISTS {db} DEFAULT CHARACTER SET 'utf8mb4'\".format(db=db_name)\n",
    "\n",
    "# Create a database\n",
    "engine.execute(create_db_query)\n"
   ]
  },
  {
   "cell_type": "code",
   "execution_count": null,
   "metadata": {},
   "outputs": [],
   "source": [
    "# And lets switch to the database\n",
    "engine.execute(\"USE {db}\".format(db=db_name))"
   ]
  },
  {
   "cell_type": "markdown",
   "metadata": {},
   "source": [
    "## Bikeshare Dataset\n",
    "\n",
    "Dataset description at \n",
    "https://www.kaggle.com/contactprad/bike-share-daily-data"
   ]
  },
  {
   "cell_type": "markdown",
   "metadata": {},
   "source": [
    "- instant: record index\n",
    "- dteday : date\n",
    "- season : season (1:springer, 2:summer, 3:fall, 4:winter)\n",
    "- yr : year (0: 2011, 1:2012)\n",
    "- mnth : month ( 1 to 12)\n",
    "- hr : hour (0 to 23)\n",
    "- holiday : weather day is holiday or not (extracted from http://dchr.dc.gov/page/holiday-schedule)\n",
    "- weekday : day of the week\n",
    "- workingday : if day is neither weekend nor holiday is 1, otherwise is 0.\n",
    "+ weathersit : \n",
    "    - 1: Clear, Few clouds, Partly cloudy, Partly cloudy\n",
    "    - 2: Mist + Cloudy, Mist + Broken clouds, Mist + Few clouds, Mist\n",
    "    - 3: Light Snow, Light Rain + Thunderstorm + Scattered clouds, Light Rain + Scattered clouds\n",
    "    - 4: Heavy Rain + Ice Pallets + Thunderstorm + Mist, Snow + Fog\n",
    "- temp : Normalized temperature in Celsius. The values are divided to 41 (max)\n",
    "- atemp: Normalized feeling temperature in Celsius. The values are divided to 50 (max)\n",
    "- hum: Normalized humidity. The values are divided to 100 (max)\n",
    "- windspeed: Normalized wind speed. The values are divided to 67 (max)\n",
    "- casual: count of casual users\n",
    "- registered: count of registered users\n",
    "- cnt: count of total rental bikes including both casual and registered"
   ]
  },
  {
   "cell_type": "code",
   "execution_count": null,
   "metadata": {},
   "outputs": [],
   "source": [
    "create_table = '''\n",
    "DROP TABLE hourly;\n",
    "\n",
    "CREATE TABLE hourly (\n",
    "  instant smallint(6) COMMENT 'record index',\n",
    "  dteday date COMMENT 'date',\n",
    "  season tinyint(4) COMMENT 'season (1:springer, 2:summer, 3:fall, 4:winter)',\n",
    "  yr tinyint(4) COMMENT 'year (0: 2011, 1:2012)',\n",
    "  mnth tinyint(4) COMMENT 'month ( 1 to 12)',\n",
    "  hr tinyint(4) COMMENT 'hour (0 to 23)',\n",
    "  holiday tinyint(4) COMMENT 'weather day is holiday or not (extracted from http://dchr.dc.gov/page/holiday-schedule)',\n",
    "  weekday tinyint(4) COMMENT 'day of the week',\n",
    "  workingday tinyint(4) COMMENT 'if day is neither weekend nor holiday is 1, otherwise is 0.',\n",
    "  weathersit tinyint(4) COMMENT '- 1: Clear, Few clouds, Partly cloudy, Partly cloudy\\n- 2: Mist + Cloudy, Mist + Broken clouds, Mist + Few clouds, Mist\\n- 3: Light Snow, Light Rain + Thunderstorm + Scattered clouds, Light Rain + Scattered clouds\\n- 4: Heavy Rain + Ice Pallets + Thunderstorm + Mist, Snow + Fog',\n",
    "  temp float COMMENT 'Normalized temperature in Celsius. The values are divided to 41 (max)',\n",
    "  atemp float COMMENT 'Normalized feeling temperature in Celsius. The values are divided to 50 (max)',\n",
    "  hum float COMMENT 'Normalized humidity. The values are divided to 100 (max)',\n",
    "  windspeed float COMMENT 'Normalized wind speed. The values are divided to 67 (max)',\n",
    "  casual smallint(6) COMMENT 'count of casual users',\n",
    "  registered smallint(6) COMMENT 'count of registered users',\n",
    "  cnt smallint(6) COMMENT 'count of total rental bikes including both casual and registered'\n",
    ") ENGINE=InnoDB DEFAULT CHARSET=utf8mb4;\n",
    "\n",
    "DROP TABLE daily;\n",
    "\n",
    "CREATE TABLE daily (\n",
    "  instant smallint(6) COMMENT 'record index',\n",
    "  dteday date COMMENT 'date',\n",
    "  season tinyint(4) COMMENT 'season (1:springer, 2:summer, 3:fall, 4:winter)',\n",
    "  yr tinyint(4) COMMENT 'year (0: 2011, 1:2012)',\n",
    "  mnth tinyint(4) COMMENT 'month ( 1 to 12)',\n",
    "  holiday tinyint(4) COMMENT 'weather day is holiday or not (extracted from http://dchr.dc.gov/page/holiday-schedule)',\n",
    "  weekday tinyint(4) COMMENT 'day of the week',\n",
    "  workingday tinyint(4) COMMENT 'if day is neither weekend nor holiday is 1, otherwise is 0.',\n",
    "  weathersit tinyint(4) COMMENT '- 1: Clear, Few clouds, Partly cloudy, Partly cloudy\\n- 2: Mist + Cloudy, Mist + Broken clouds, Mist + Few clouds, Mist\\n- 3: Light Snow, Light Rain + Thunderstorm + Scattered clouds, Light Rain + Scattered clouds\\n- 4: Heavy Rain + Ice Pallets + Thunderstorm + Mist, Snow + Fog',\n",
    "  temp float COMMENT 'Normalized temperature in Celsius. The values are divided to 41 (max)',\n",
    "  atemp float COMMENT 'Normalized feeling temperature in Celsius. The values are divided to 50 (max)',\n",
    "  hum float COMMENT 'Normalized humidity. The values are divided to 100 (max)',\n",
    "  windspeed float COMMENT 'Normalized wind speed. The values are divided to 67 (max)',\n",
    "  casual smallint(6) COMMENT 'count of casual users',\n",
    "  registered smallint(6) COMMENT 'count of registered users',\n",
    "  cnt smallint(6) COMMENT 'count of total rental bikes including both casual and registered'\n",
    ") ENGINE=InnoDB DEFAULT CHARSET=utf8mb4;\n",
    "'''\n",
    "\n",
    "engine.execute(create_table)"
   ]
  },
  {
   "cell_type": "markdown",
   "metadata": {},
   "source": [
    "### Read Daily Dataset"
   ]
  },
  {
   "cell_type": "code",
   "execution_count": null,
   "metadata": {},
   "outputs": [],
   "source": [
    "df = pd.read_csv(\"bike_sharing_daily.csv\", low_memory = False)"
   ]
  },
  {
   "cell_type": "code",
   "execution_count": null,
   "metadata": {},
   "outputs": [],
   "source": [
    "df.dteday = pd.to_datetime(df.dteday)"
   ]
  },
  {
   "cell_type": "code",
   "execution_count": null,
   "metadata": {},
   "outputs": [],
   "source": [
    "df.dtypes"
   ]
  },
  {
   "cell_type": "code",
   "execution_count": null,
   "metadata": {},
   "outputs": [],
   "source": [
    "table_name = 'daily'\n",
    "df.to_sql(\n",
    "        name = table_name, \n",
    "        schema = db_name, \n",
    "        con = engine,\n",
    "        if_exists = 'append',\n",
    "        index = False, \n",
    "        chunksize = 1000)"
   ]
  },
  {
   "cell_type": "markdown",
   "metadata": {},
   "source": [
    "### Read Hourly Dataset"
   ]
  },
  {
   "cell_type": "code",
   "execution_count": null,
   "metadata": {},
   "outputs": [],
   "source": [
    "df = pd.read_csv(\"bike_sharing_hourly.csv\", low_memory = False)\n",
    "df.dteday = pd.to_datetime(df.dteday)"
   ]
  },
  {
   "cell_type": "code",
   "execution_count": null,
   "metadata": {},
   "outputs": [],
   "source": [
    "df.dtypes"
   ]
  },
  {
   "cell_type": "code",
   "execution_count": null,
   "metadata": {},
   "outputs": [],
   "source": [
    "table_name = 'hourly'\n",
    "df.to_sql(\n",
    "        name = table_name, \n",
    "        schema = db_name, \n",
    "        con = engine,\n",
    "        if_exists = 'append',\n",
    "        index = False, \n",
    "        chunksize = 1000)"
   ]
  },
  {
   "cell_type": "code",
   "execution_count": null,
   "metadata": {},
   "outputs": [],
   "source": []
  }
 ],
 "metadata": {
  "kernelspec": {
   "display_name": "Python 3",
   "language": "python",
   "name": "python3"
  },
  "language_info": {
   "codemirror_mode": {
    "name": "ipython",
    "version": 3
   },
   "file_extension": ".py",
   "mimetype": "text/x-python",
   "name": "python",
   "nbconvert_exporter": "python",
   "pygments_lexer": "ipython3",
   "version": "3.5.2"
  }
 },
 "nbformat": 4,
 "nbformat_minor": 1
}
