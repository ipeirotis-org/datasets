{
  "nbformat": 4,
  "nbformat_minor": 0,
  "metadata": {
    "colab": {
      "private_outputs": true,
      "provenance": [],
      "authorship_tag": "ABX9TyN3VBbDzcOgkZ7SddAdpkIS",
      "include_colab_link": true
    },
    "kernelspec": {
      "name": "python3",
      "display_name": "Python 3"
    },
    "language_info": {
      "name": "python"
    }
  },
  "cells": [
    {
      "cell_type": "markdown",
      "metadata": {
        "id": "view-in-github",
        "colab_type": "text"
      },
      "source": [
        "<a href=\"https://colab.research.google.com/github/ipeirotis-org/datasets/blob/main/Citibike/example.ipynb\" target=\"_parent\"><img src=\"https://colab.research.google.com/assets/colab-badge.svg\" alt=\"Open In Colab\"/></a>"
      ]
    },
    {
      "cell_type": "code",
      "execution_count": null,
      "metadata": {
        "id": "skBPbqPnVuqw"
      },
      "outputs": [],
      "source": [
        "from google.cloud import bigquery\n",
        "from google.colab import auth\n",
        "\n",
        "auth.authenticate_user()\n",
        "\n",
        "# Put your own Google Cloud project id below\n",
        "# The \"query-bigquery\" is my own project_id and\n",
        "# will not work for others.\n",
        "client = bigquery.Client(project='query-bigquery')"
      ]
    },
    {
      "cell_type": "code",
      "source": [
        "# This query returns back hourly data for each station\n",
        "# after doing some preprocessing of the underlying raw JSON data\n",
        "query = \"\"\"\n",
        "SELECT\n",
        "  *\n",
        "FROM\n",
        "  `nyu-datasets.citibike.dataset`\n",
        "LIMIT 10\n",
        "\"\"\"\n",
        "\n",
        "# Run the query and convert it to a pandas DataFrame\n",
        "df = client.query(query).to_dataframe()\n",
        "\n",
        "# Display the first few rows of the DataFrame.\n",
        "df.head()"
      ],
      "metadata": {
        "id": "-Y3I_44PpLgA"
      },
      "execution_count": null,
      "outputs": []
    },
    {
      "cell_type": "code",
      "source": [
        "# Get the raw data about the station status for each station\n",
        "# for the last available date\n",
        "query = \"\"\"\n",
        "SELECT\n",
        "  *\n",
        "FROM\n",
        "  `nyu-datasets.citibike.station_status_external`\n",
        "WHERE\n",
        "  last_updated_date = (\n",
        "    SELECT MAX(last_updated_date)\n",
        "    FROM `nyu-datasets.citibike.station_status_external`\n",
        "  )\n",
        "\"\"\"\n",
        "\n",
        "# Run the query and convert it to a pandas DataFrame\n",
        "df = client.query(query).to_dataframe()\n",
        "\n",
        "# Display the first few rows of the DataFrame.\n",
        "df.head()"
      ],
      "metadata": {
        "id": "FcClZf1JliZ5"
      },
      "execution_count": null,
      "outputs": []
    },
    {
      "cell_type": "code",
      "source": [
        "# Get the raw data about the stations\n",
        "# for the last available date\n",
        "query = \"\"\"\n",
        "SELECT\n",
        "  *\n",
        "FROM\n",
        "  `nyu-datasets.citibike.station_status_external`\n",
        "WHERE\n",
        "  last_updated_date = (\n",
        "    SELECT MAX(last_updated_date)\n",
        "    FROM `nyu-datasets.citibike.station_status_external`\n",
        "  )\n",
        "\"\"\"\n",
        "\n",
        "# Run the query and convert it to a pandas DataFrame\n",
        "df = client.query(query).to_dataframe()\n",
        "\n",
        "# Display the first few rows of the DataFrame.\n",
        "df.head()"
      ],
      "metadata": {
        "id": "MNnfFFLDleP6"
      },
      "execution_count": null,
      "outputs": []
    }
  ]
}