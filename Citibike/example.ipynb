{
  "nbformat": 4,
  "nbformat_minor": 0,
  "metadata": {
    "colab": {
      "private_outputs": true,
      "provenance": [],
      "authorship_tag": "ABX9TyO++qwLCM+Pu/mLUDR/4ouR",
      "include_colab_link": true
    },
    "kernelspec": {
      "name": "python3",
      "display_name": "Python 3"
    },
    "language_info": {
      "name": "python"
    }
  },
  "cells": [
    {
      "cell_type": "markdown",
      "metadata": {
        "id": "view-in-github",
        "colab_type": "text"
      },
      "source": [
        "<a href=\"https://colab.research.google.com/github/ipeirotis/datasets/blob/main/Citibike/example.ipynb\" target=\"_parent\"><img src=\"https://colab.research.google.com/assets/colab-badge.svg\" alt=\"Open In Colab\"/></a>"
      ]
    },
    {
      "cell_type": "code",
      "execution_count": null,
      "metadata": {
        "id": "skBPbqPnVuqw"
      },
      "outputs": [],
      "source": [
        "from google.cloud import bigquery\n",
        "from google.colab import auth\n",
        "\n",
        "auth.authenticate_user()\n",
        "\n",
        "# Put your own Google Cloud project id below\n",
        "client = bigquery.Client(project='quantum-potion-404319')\n",
        "\n",
        "# Write a SQL query as a string.\n",
        "query = \"\"\"\n",
        "SELECT * FROM `nyu-datasets.citibike.dataset` LIMIT 1000\n",
        "\"\"\"\n",
        "\n",
        "# Run the query and convert it to a pandas DataFrame\n",
        "df = client.query(query).to_dataframe()\n",
        "\n",
        "# Display the first few rows of the DataFrame.\n",
        "df.head()"
      ]
    }
  ]
}