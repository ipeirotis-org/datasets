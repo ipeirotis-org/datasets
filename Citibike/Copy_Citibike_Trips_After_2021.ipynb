{
  "nbformat": 4,
  "nbformat_minor": 0,
  "metadata": {
    "colab": {
      "private_outputs": true,
      "provenance": [],
      "machine_shape": "hm",
      "authorship_tag": "ABX9TyMuZml7JmYS16csdcQfg0LD",
      "include_colab_link": true
    },
    "kernelspec": {
      "name": "python3",
      "display_name": "Python 3"
    },
    "language_info": {
      "name": "python"
    }
  },
  "cells": [
    {
      "cell_type": "markdown",
      "metadata": {
        "id": "view-in-github",
        "colab_type": "text"
      },
      "source": [
        "<a href=\"https://colab.research.google.com/github/ipeirotis-org/datasets/blob/main/Citibike/Copy_Citibike_Trips_After_2021.ipynb\" target=\"_parent\"><img src=\"https://colab.research.google.com/assets/colab-badge.svg\" alt=\"Open In Colab\"/></a>"
      ]
    },
    {
      "cell_type": "code",
      "source": [
        "from google.colab import auth\n",
        "\n",
        "auth.authenticate_user()"
      ],
      "metadata": {
        "id": "5Gf6MX5bWLZ8"
      },
      "execution_count": null,
      "outputs": []
    },
    {
      "cell_type": "code",
      "source": [
        "import os\n",
        "import requests\n",
        "from google.cloud import storage\n",
        "from google.cloud import bigquery\n",
        "\n",
        "import pandas as pd\n",
        "\n",
        "import pyarrow as pa\n",
        "import pyarrow.parquet as pq\n"
      ],
      "metadata": {
        "id": "ioWTKKrfieZx"
      },
      "execution_count": null,
      "outputs": []
    },
    {
      "cell_type": "code",
      "source": [
        "project_id = \"nyu-datasets\"\n",
        "gcs_bucket_name = 'citibike-archive'\n",
        "gcs_folder = 'rides'\n",
        "bq_dataset_id = \"citibike\"\n",
        "bq_table_id = \"rides\"\n",
        "\n",
        "\n",
        "# Initialize the Google Cloud Storage client\n",
        "storage_client = storage.Client(project=project_id)\n",
        "bucket = storage_client.bucket(gcs_bucket_name)\n",
        "bigquery_client = bigquery.Client(project=project_id)"
      ],
      "metadata": {
        "id": "ZDXsX9teii9F"
      },
      "execution_count": null,
      "outputs": []
    },
    {
      "cell_type": "code",
      "source": [
        "# Function to download a file from a URL\n",
        "def download_file(url, local_filename):\n",
        "    with requests.get(url, stream=True) as r:\n",
        "        r.raise_for_status()\n",
        "        with open(local_filename, 'wb') as f:\n",
        "            for chunk in r.iter_content(chunk_size=8192):\n",
        "                f.write(chunk)\n",
        "    return local_filename\n",
        "\n",
        "# Function to upload a file to Google Cloud Storage\n",
        "def upload_to_gcs(local_file, bucket_name, destination_blob_name):\n",
        "    blob = bucket.blob(destination_blob_name)\n",
        "    blob.upload_from_filename(local_file)\n",
        "    print(f\"File {local_file} uploaded to {destination_blob_name}.\")\n",
        "\n",
        "  # Function to normalize column names\n",
        "def normalize_columns(df):\n",
        "\n",
        "    df.columns = df.columns.str.strip().str.lower().str.replace(' ', '_').str.replace('(', '').str.replace(')', '')\n",
        "\n",
        "    column_mapping = {\n",
        "        \"tripduration\": \"trip_duration\",\n",
        "        \"starttime\": \"start_time\",\n",
        "        \"stoptime\": \"stop_time\",\n",
        "        \"bikeid\": \"bike_id\",\n",
        "        \"usertype\": \"user_type\",\n",
        "        # After 2021\n",
        "        \"started_at\": \"start_time\",\n",
        "        \"ended_at\": \"stop_time\",\n",
        "        \"start_lat\": \"start_station_latitude\",\n",
        "        \"start_lng\": \"start_station_longitude\",\n",
        "        \"end_lat\": \"end_station_latitude\",\n",
        "        \"end_lng\": \"end_station_longitude\",\n",
        "    }\n",
        "\n",
        "    # Renaming columns\n",
        "    df.rename(columns=column_mapping, inplace=True)\n",
        "\n",
        "    return df"
      ],
      "metadata": {
        "id": "HfFmdKQZZECG"
      },
      "execution_count": null,
      "outputs": []
    },
    {
      "cell_type": "code",
      "source": [
        "# Function to create a BigQuery table on top of Parquet files in GCS\n",
        "def create_bigquery_table_from_gcs_parquet(dataset_id, table_id, gcs_folder):\n",
        "    dataset_ref = bigquery_client.dataset(dataset_id)\n",
        "    table_ref = dataset_ref.table(table_id)\n",
        "\n",
        "    # Define the schema\n",
        "    schema = [\n",
        "        bigquery.SchemaField(\"ride_id\", \"STRING\"),\n",
        "        bigquery.SchemaField(\"rideable_type\", \"STRING\"),\n",
        "        bigquery.SchemaField(\"start_time\", \"TIMESTAMP\"),\n",
        "        bigquery.SchemaField(\"stop_time\", \"TIMESTAMP\"),\n",
        "        bigquery.SchemaField(\"start_station_id\", \"STRING\"),\n",
        "        bigquery.SchemaField(\"start_station_name\", \"STRING\"),\n",
        "        bigquery.SchemaField(\"start_station_latitude\", \"FLOAT64\"),\n",
        "        bigquery.SchemaField(\"start_station_longitude\", \"FLOAT64\"),\n",
        "        bigquery.SchemaField(\"end_station_id\", \"STRING\"),\n",
        "        bigquery.SchemaField(\"end_station_name\", \"STRING\"),\n",
        "        bigquery.SchemaField(\"end_station_latitude\", \"FLOAT64\"),\n",
        "        bigquery.SchemaField(\"end_station_longitude\", \"FLOAT64\"),\n",
        "        bigquery.SchemaField(\"member_casual\", \"STRING\"),\n",
        "    ]\n",
        "\n",
        "    external_config = bigquery.ExternalConfig(\"PARQUET\")\n",
        "    external_config.source_uris = [f\"gs://{gcs_bucket_name}/{gcs_folder}/parquet/*.parquet\"]\n",
        "    external_config.schema = schema\n",
        "\n",
        "    table = bigquery.Table(table_ref)\n",
        "    table.external_data_configuration = external_config\n",
        "\n",
        "    table = bigquery_client.create_table(table)\n",
        "    print(f\"Table {table_id} created in dataset {dataset_id}.\")\n"
      ],
      "metadata": {
        "id": "gnQmsihUg6Qp"
      },
      "execution_count": null,
      "outputs": []
    },
    {
      "cell_type": "code",
      "source": [
        "\n",
        "\n",
        "# Define the standardized schema\n",
        "standard_schema = {\n",
        "    \"ride_id\": \"str\",\n",
        "    \"rideable_type\": \"str\",\n",
        "    \"start_time\": \"datetime64[ns]\",\n",
        "    \"stop_time\": \"datetime64[ns]\",\n",
        "    \"start_station_id\": \"str\",\n",
        "    \"start_station_name\": \"str\",\n",
        "    \"start_station_latitude\": \"float64\",\n",
        "    \"start_station_longitude\": \"float64\",\n",
        "    \"end_station_id\": \"str\",\n",
        "    \"end_station_name\": \"str\",\n",
        "    \"end_station_latitude\": \"float64\",\n",
        "    \"end_station_longitude\": \"float64\",\n",
        "    \"member_casual\": \"str\",\n",
        "}\n"
      ],
      "metadata": {
        "id": "zmrPuo3WFv2E"
      },
      "execution_count": null,
      "outputs": []
    },
    {
      "cell_type": "code",
      "source": [
        "def convert_to_parquet(folder_path, gcs_folder):\n",
        "# Iterate over all files in the folder\n",
        "  for file_name in sorted(os.listdir(folder_path)):\n",
        "    if file_name.endswith(\".csv\"):\n",
        "        local_file = os.path.join(folder_path, file_name)\n",
        "        # gcs_destination = f\"{gcs_folder}/csv/{os.path.basename(local_file)}\"\n",
        "        # upload_to_gcs(local_file, gcs_bucket_name, gcs_destination)\n",
        "\n",
        "        # Read the CSV file into a DataFrame\n",
        "        df = pd.read_csv(local_file, low_memory=False, dtype='str')\n",
        "\n",
        "        df = normalize_columns(df)\n",
        "\n",
        "        df.replace(r\"NULL\", None, inplace=True)\n",
        "        df.replace(r\"\\N\", None, inplace=True)\n",
        "        df.replace(r\"\\.0$\", r\"\", regex=True, inplace=True)\n",
        "\n",
        "\n",
        "        for column, dtype in standard_schema.items():\n",
        "            if column in df.columns:\n",
        "              # print(f\"Converting column '{column}' to {dtype}...\")\n",
        "              try:\n",
        "                  df[column] = df[column].astype(dtype)\n",
        "              except Exception as e:\n",
        "                  print(f\"Error converting column '{column}': {e}\")\n",
        "            else:\n",
        "                print(f\"Column '{column}' not found in CSV file.\")\n",
        "                df[column] = None\n",
        "\n",
        "        for column in df.columns:\n",
        "          if column not in standard_schema:\n",
        "            print(f\"Column '{column}' found in CSV file but not in standard schema.\")\n",
        "\n",
        "        # Convert datetime columns to pandas datetime format\n",
        "\n",
        "\n",
        "        # df['birth_year'] = pd.to_numeric(df['birth_year'])\n",
        "        df['start_time'] = pd.to_datetime(df['start_time'])\n",
        "        df['stop_time'] = pd.to_datetime(df['stop_time'])\n",
        "\n",
        "\n",
        "        # Define PyArrow schema with timestamp annotations\n",
        "        schema = pa.schema([\n",
        "            pa.field('ride_id', pa.string()),\n",
        "            pa.field('rideable_type', pa.string()),\n",
        "            pa.field('start_time', pa.timestamp('us')),\n",
        "            pa.field('stop_time', pa.timestamp('us')),\n",
        "            pa.field('start_station_id', pa.string()),\n",
        "            pa.field('start_station_name', pa.string()),\n",
        "            pa.field('start_station_latitude', pa.float64()),\n",
        "            pa.field('start_station_longitude', pa.float64()),\n",
        "            pa.field('end_station_id', pa.string()),\n",
        "            pa.field('end_station_name', pa.string()),\n",
        "            pa.field('end_station_latitude', pa.float64()),\n",
        "            pa.field('end_station_longitude', pa.float64()),\n",
        "            pa.field('member_casual', pa.string()),\n",
        "        ])\n",
        "\n",
        "        # Save DataFrame as Parquet with the defined schema\n",
        "        table = pa.Table.from_pandas(df, schema=schema)\n",
        "        parquet_file = local_file.replace(\".csv\", \".parquet\")\n",
        "        pq.write_table(table, parquet_file)\n",
        "\n",
        "        # parquet_file = local_file.replace(\".csv\", \".parquet\")\n",
        "        # df.to_parquet(parquet_file, index=False)\n",
        "\n",
        "        # Upload Parquet file to GCS\n",
        "        gcs_destination = f\"{gcs_folder}/parquet/{os.path.basename(parquet_file)}\"\n",
        "        upload_to_gcs(parquet_file, gcs_bucket_name, gcs_destination)\n",
        "\n",
        "\n",
        "\n",
        "        # Remove local Parquet file after upload\n",
        "        os.remove(parquet_file)\n"
      ],
      "metadata": {
        "id": "7ADo9lUFR_NJ"
      },
      "execution_count": null,
      "outputs": []
    },
    {
      "cell_type": "markdown",
      "source": [
        "# 2021 -- Different schema starts"
      ],
      "metadata": {
        "id": "_TZb3kuhEcJd"
      }
    },
    {
      "cell_type": "code",
      "source": [
        "!curl https://s3.amazonaws.com/tripdata/2021-citibike-tripdata.zip -o 2021-citibike-tripdata.zip\n",
        "!unzip 2021-citibike-tripdata.zip"
      ],
      "metadata": {
        "id": "g_xnf9ivpk8X"
      },
      "execution_count": null,
      "outputs": []
    },
    {
      "cell_type": "code",
      "source": [
        "!mv 2021-citibike-tripdata/*/* 2021-citibike-tripdata/\n",
        "\n",
        "!rm -rf __MACOSX*\n",
        "!rm 2021-citibike-tripdata.zip"
      ],
      "metadata": {
        "id": "ba0zbFRply98"
      },
      "execution_count": null,
      "outputs": []
    },
    {
      "cell_type": "code",
      "source": [
        "!rm 2021-citibike-tripdata/202101*"
      ],
      "metadata": {
        "id": "TxP2wB4PnC8v"
      },
      "execution_count": null,
      "outputs": []
    },
    {
      "cell_type": "code",
      "source": [
        "# Define the folder containing the CSV files\n",
        "folder_path = \"2021-citibike-tripdata\"\n",
        "\n",
        "convert_to_parquet(folder_path, gcs_folder)\n"
      ],
      "metadata": {
        "id": "kpGQtzppNFVR"
      },
      "execution_count": null,
      "outputs": []
    },
    {
      "cell_type": "markdown",
      "source": [
        "# Starting Feb 2021 with the new schema"
      ],
      "metadata": {
        "id": "0I1CU7KfPN_B"
      }
    },
    {
      "cell_type": "code",
      "source": [
        "!curl https://s3.amazonaws.com/tripdata/2022-citibike-tripdata.zip -o 2022-citibike-tripdata.zip\n",
        "!unzip 2022-citibike-tripdata.zip"
      ],
      "metadata": {
        "id": "GpeJVzT9M4pO"
      },
      "execution_count": null,
      "outputs": []
    },
    {
      "cell_type": "code",
      "source": [
        "!mv 2022-citibike-tripdata/*/* 2022-citibike-tripdata/\n",
        "\n",
        "!rm -rf __MACOSX*\n",
        "!rm 2022-citibike-tripdata.zip"
      ],
      "metadata": {
        "id": "3Nvako5BEjuw"
      },
      "execution_count": null,
      "outputs": []
    },
    {
      "cell_type": "code",
      "source": [
        "# Define the folder containing the CSV files\n",
        "folder_path = \"2022-citibike-tripdata\"\n",
        "\n",
        "convert_to_parquet(folder_path, gcs_folder)\n"
      ],
      "metadata": {
        "id": "XPkExXFnmg5Z"
      },
      "execution_count": null,
      "outputs": []
    },
    {
      "cell_type": "code",
      "source": [
        "!curl https://s3.amazonaws.com/tripdata/2023-citibike-tripdata.zip -o 2023-citibike-tripdata.zip\n",
        "!unzip 2023-citibike-tripdata.zip"
      ],
      "metadata": {
        "id": "DHHhLie0E7IZ"
      },
      "execution_count": null,
      "outputs": []
    },
    {
      "cell_type": "code",
      "source": [
        "!mv 2023-citibike-tripdata/*/* 2023-citibike-tripdata/\n",
        "\n",
        "!rm -rf __MACOSX*\n",
        "!rm 2023-citibike-tripdata.zip"
      ],
      "metadata": {
        "id": "4iPoEdShE9mu"
      },
      "execution_count": null,
      "outputs": []
    },
    {
      "cell_type": "code",
      "source": [
        "# Define the folder containing the CSV files\n",
        "folder_path = \"2023-citibike-tripdata\"\n",
        "\n",
        "convert_to_parquet(folder_path, gcs_folder)\n"
      ],
      "metadata": {
        "id": "sLOpkKHJFSCj"
      },
      "execution_count": null,
      "outputs": []
    },
    {
      "cell_type": "code",
      "source": [
        "!rm -rf __MACOSX/ 2024-citibike-tripdata"
      ],
      "metadata": {
        "id": "kenNNBffJhoQ"
      },
      "execution_count": null,
      "outputs": []
    },
    {
      "cell_type": "code",
      "source": [
        "!mkdir -p 2024-citibike-tripdata\n",
        "!curl https://s3.amazonaws.com/tripdata/202401-citibike-tripdata.csv.zip -o 2024-citibike-tripdata/202401-citibike-tripdata.csv.zip\n",
        "!cd 2024-citibike-tripdata && unzip 202401-citibike-tripdata.csv.zip && rm 202401-citibike-tripdata.csv.zip\n",
        "!rm -rf 2024-citibike-tripdata/__MACOSX/"
      ],
      "metadata": {
        "id": "oGiWW2FtJCsJ"
      },
      "execution_count": null,
      "outputs": []
    },
    {
      "cell_type": "code",
      "source": [
        "!curl https://s3.amazonaws.com/tripdata/202402-citibike-tripdata.csv.zip -o 2024-citibike-tripdata/202402-citibike-tripdata.csv.zip\n",
        "!cd 2024-citibike-tripdata && unzip 202402-citibike-tripdata.csv.zip && rm 202402-citibike-tripdata.csv.zip\n",
        "!rm -rf 2024-citibike-tripdata/__MACOSX/"
      ],
      "metadata": {
        "id": "VkFVCOWsJmqJ"
      },
      "execution_count": null,
      "outputs": []
    },
    {
      "cell_type": "code",
      "source": [
        "!curl https://s3.amazonaws.com/tripdata/202403-citibike-tripdata.csv.zip -o 2024-citibike-tripdata/202403-citibike-tripdata.csv.zip\n",
        "!cd 2024-citibike-tripdata && unzip 202403-citibike-tripdata.csv.zip && rm 202403-citibike-tripdata.csv.zip\n",
        "!rm -rf 2024-citibike-tripdata/__MACOSX/"
      ],
      "metadata": {
        "id": "sDmHF0ItKZOd"
      },
      "execution_count": null,
      "outputs": []
    },
    {
      "cell_type": "code",
      "source": [
        "!curl https://s3.amazonaws.com/tripdata/202404-citibike-tripdata.zip -o 2024-citibike-tripdata/202404-citibike-tripdata.csv.zip\n",
        "!cd 2024-citibike-tripdata && unzip 202404-citibike-tripdata.csv.zip && rm 202404-citibike-tripdata.csv.zip\n",
        "!rm -rf 2024-citibike-tripdata/__MACOSX/"
      ],
      "metadata": {
        "id": "veGLmGlDKgPS"
      },
      "execution_count": null,
      "outputs": []
    },
    {
      "cell_type": "code",
      "source": [
        "!curl https://s3.amazonaws.com/tripdata/202405-citibike-test-tripdata.csv.zip -o 2024-citibike-tripdata/202405-citibike-test-tripdata.csv.zip\n",
        "!cd 2024-citibike-tripdata && unzip 202405-citibike-test-tripdata.csv.zip && rm 202405-citibike-test-tripdata.csv.zip\n",
        "!rm -rf 2024-citibike-tripdata/__MACOSX/"
      ],
      "metadata": {
        "id": "dMRLwm6lK8K9"
      },
      "execution_count": null,
      "outputs": []
    },
    {
      "cell_type": "code",
      "source": [
        "# Define the folder containing the CSV files\n",
        "folder_path = \"2024-citibike-tripdata\"\n",
        "\n",
        "convert_to_parquet(folder_path, gcs_folder)\n"
      ],
      "metadata": {
        "id": "zXjfVcc7LOMb"
      },
      "execution_count": null,
      "outputs": []
    }
  ]
}