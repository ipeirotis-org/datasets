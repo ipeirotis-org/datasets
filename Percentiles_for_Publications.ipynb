{
  "nbformat": 4,
  "nbformat_minor": 0,
  "metadata": {
    "colab": {
      "private_outputs": true,
      "provenance": [],
      "authorship_tag": "ABX9TyOZI9tCfWabW4wU3PjMZHMF",
      "include_colab_link": true
    },
    "kernelspec": {
      "name": "python3",
      "display_name": "Python 3"
    },
    "language_info": {
      "name": "python"
    }
  },
  "cells": [
    {
      "cell_type": "markdown",
      "metadata": {
        "id": "view-in-github",
        "colab_type": "text"
      },
      "source": [
        "<a href=\"https://colab.research.google.com/github/ipeirotis-org/datasets/blob/main/Percentiles_for_Publications.ipynb\" target=\"_parent\"><img src=\"https://colab.research.google.com/assets/colab-badge.svg\" alt=\"Open In Colab\"/></a>"
      ]
    },
    {
      "cell_type": "code",
      "source": [
        "import pandas as pd\n",
        "import numpy as np\n",
        "from tqdm import tqdm\n",
        "from tqdm.auto import tqdm\n",
        "tqdm.pandas()"
      ],
      "metadata": {
        "id": "HJ8c0UFHPNRA"
      },
      "execution_count": null,
      "outputs": []
    },
    {
      "cell_type": "code",
      "execution_count": null,
      "metadata": {
        "id": "1DXV-4QLq86P"
      },
      "outputs": [],
      "source": [
        "# Getting raw data from https://github.com/sentian/SciImpactRanking\n",
        "\n",
        "url = 'https://media.githubusercontent.com/media/sentian/SciImpactRanking/master/data/raw/citations.csv'\n",
        "\n",
        "benchmark_df = pd.read_csv(url)"
      ]
    },
    {
      "cell_type": "code",
      "source": [
        "benchmark_df"
      ],
      "metadata": {
        "id": "tqVGkpSGJoiJ"
      },
      "execution_count": null,
      "outputs": []
    },
    {
      "cell_type": "code",
      "source": [],
      "metadata": {
        "id": "k2Hh4RZfJyef"
      },
      "execution_count": null,
      "outputs": []
    },
    {
      "cell_type": "markdown",
      "source": [
        "# Citation percentiles for papers over time"
      ],
      "metadata": {
        "id": "qgmiN7AUJzuG"
      }
    },
    {
      "cell_type": "code",
      "source": [
        "pvt = benchmark_df.pivot_table(index='pub.id', columns='age', values='citations').T.cumsum(skipna=True)\n",
        "\n",
        "last_valid_indices = pvt.progress_apply(pd.Series.last_valid_index)\n",
        "\n",
        "# Forward fill the entire dataframe\n",
        "pvt.ffill(inplace=True)\n",
        "\n",
        "# Replace values beyond the last valid index with NaNs for each column\n",
        "for col, last_valid_idx in tqdm(last_valid_indices.items(), total=len(pvt.columns)):\n",
        "    if last_valid_idx is not None and last_valid_idx != pvt.index[-1]:  # Check to avoid unnecessary operations\n",
        "        pvt.loc[last_valid_idx+1:, col] = np.nan\n",
        "\n",
        "# Define the percentiles to compute\n",
        "percentiles = np.linspace(0, 100, 1000)\n",
        "\n",
        "# Compute percentiles for each row\n",
        "percentile_df = pvt.apply(lambda row: np.percentile(row.dropna(), percentiles), axis=1, result_type='expand')\n",
        "percentile_df.columns = [str(round(i,1)) for i in percentiles]\n",
        "percentile_df = percentile_df.round(0).astype(int)\n"
      ],
      "metadata": {
        "id": "_biftz8m3p-f"
      },
      "execution_count": null,
      "outputs": []
    },
    {
      "cell_type": "code",
      "source": [
        "percentile_df.to_csv('percentiles.csv')"
      ],
      "metadata": {
        "id": "EidWP9YYWUCQ"
      },
      "execution_count": null,
      "outputs": []
    },
    {
      "cell_type": "code",
      "source": [
        "# This is our benchmark dataframe. For each year, it contains the number of citations for the different percentiles\n",
        "percentile_df"
      ],
      "metadata": {
        "id": "CbZuDEeHNft9"
      },
      "execution_count": null,
      "outputs": []
    },
    {
      "cell_type": "code",
      "source": [
        "# For example, for a paper to score at 99.1% percentile, at year 5 it needs at least 364 citations\n",
        "\n",
        "year = 5\n",
        "percentile = '99.1'\n",
        "citations = percentile_df.loc[year,percentile]\n",
        "print(f\"The number of citations necessary to score at the {percentile} percentile at year {year} is {citations}\")\n"
      ],
      "metadata": {
        "id": "g1kjaMXKWVd0"
      },
      "execution_count": null,
      "outputs": []
    },
    {
      "cell_type": "code",
      "source": [],
      "metadata": {
        "id": "Ph50fwDOLKbj"
      },
      "execution_count": null,
      "outputs": []
    },
    {
      "cell_type": "markdown",
      "source": [
        "# Percentiles for number of publications over time\n",
        "\n"
      ],
      "metadata": {
        "id": "Gx4PlGpSLK4a"
      }
    },
    {
      "cell_type": "code",
      "source": [
        "author_df = benchmark_df.query(\"age==1\").filter([\"aut.id\", \"pub.id\", \"start\"])\n",
        "author_df.columns = [\"author\", \"publication\", \"year\"]\n",
        "author_df.reset_index(drop=True, inplace=True)\n",
        "author_df"
      ],
      "metadata": {
        "id": "-k0niwNSZpEM"
      },
      "execution_count": null,
      "outputs": []
    },
    {
      "cell_type": "code",
      "source": [
        "# Step 1: Identify first publication year for each author\n",
        "first_pub_year = author_df.groupby('author')['year'].min().rename('first_pub_year')\n",
        "\n",
        "# Step 2: Merge this information back to the original DataFrame\n",
        "author_df = author_df.merge(first_pub_year, on='author')\n",
        "\n",
        "# Step 3: Calculate years since first publication and aggregate data\n",
        "author_df['years_since_first_pub'] = author_df['year'] - author_df['first_pub_year']"
      ],
      "metadata": {
        "id": "8dG5eGu7cwXU"
      },
      "execution_count": null,
      "outputs": []
    },
    {
      "cell_type": "code",
      "source": [
        "author_pvt = author_df.pivot_table(\n",
        "    index='years_since_first_pub',\n",
        "    columns='author',\n",
        "    values='publication',\n",
        "    aggfunc='count'\n",
        ").cumsum().ffill()"
      ],
      "metadata": {
        "id": "IHr0fABecyGS"
      },
      "execution_count": null,
      "outputs": []
    },
    {
      "cell_type": "code",
      "source": [
        "# Compute percentiles for each row\n",
        "percentile_df = author_pvt.apply(lambda row: np.percentile(row.dropna(), percentiles), axis=1, result_type='expand')\n",
        "percentile_df.columns = [str(round(i,1)) for i in percentiles]\n",
        "percentile_df = percentile_df.round(0).astype(int)\n",
        "\n",
        "percentile_df"
      ],
      "metadata": {
        "id": "A5jq04CcdlyG"
      },
      "execution_count": null,
      "outputs": []
    },
    {
      "cell_type": "code",
      "source": [
        "\n",
        "# swapped_series_with_highest_index"
      ],
      "metadata": {
        "id": "5RCZHLb32K3v"
      },
      "execution_count": null,
      "outputs": []
    },
    {
      "cell_type": "code",
      "source": [
        "percentile_df.to_csv('author_numpapers_percentiles.csv')"
      ],
      "metadata": {
        "id": "mJdPO1bHmtJJ"
      },
      "execution_count": null,
      "outputs": []
    },
    {
      "cell_type": "markdown",
      "source": [
        "## Normalization examples"
      ],
      "metadata": {
        "id": "bqxKmzUeDbJH"
      }
    },
    {
      "cell_type": "code",
      "source": [
        "# For example, for an author, after 25 years of publishing to be at 95% percentile\n",
        "# in terms of number of papers, they need 202 papers\n",
        "\n",
        "year = 23\n",
        "percentile = '93.5'\n",
        "citations = percentile_df.loc[year,percentile]\n",
        "print(f\"The number of publications necessary to score at the {percentile} percentile at year {year} is {citations}\")\n"
      ],
      "metadata": {
        "id": "2gkKBKMYUAtn"
      },
      "execution_count": null,
      "outputs": []
    },
    {
      "cell_type": "code",
      "source": [
        "# How to translate the values from raw number of papers to percentiles:\n",
        "\n",
        "s = percentile_df.loc[year,:]\n",
        "\n",
        "# Group by the series values, sort the indices, and pick the last index for each value\n",
        "highest_indices = s.groupby(s).apply(lambda x: x.index[-1])\n",
        "\n",
        "# Create a new series from this\n",
        "sw = pd.Series(index=highest_indices.values, data=highest_indices.index)\n",
        "\n",
        "normalized_values = pd.Series(data=sw.index, index=sw.values)\n",
        "\n",
        "normalized_values.tail(60)"
      ],
      "metadata": {
        "id": "3qF-8NcV5gpR"
      },
      "execution_count": null,
      "outputs": []
    },
    {
      "cell_type": "code",
      "source": [
        "percs_of_interest = [\"50.0\",\"75.0\",\"90.0\",\"95.0\",\"97.5\",\"99.0\",\"99.5\",\"99.8\",\"99.9\"]"
      ],
      "metadata": {
        "id": "kdaATcW6mRrw"
      },
      "execution_count": null,
      "outputs": []
    },
    {
      "cell_type": "code",
      "source": [
        "percentile_df.filter(percs_of_interest).plot(xlim=(0,40),grid=True)\n"
      ],
      "metadata": {
        "id": "gyN4VNj6jbFk"
      },
      "execution_count": null,
      "outputs": []
    },
    {
      "cell_type": "code",
      "source": [
        "percentile_df.filter(percs_of_interest).diff(1).mean()"
      ],
      "metadata": {
        "id": "y5aY2FuumZCc"
      },
      "execution_count": null,
      "outputs": []
    }
  ]
}