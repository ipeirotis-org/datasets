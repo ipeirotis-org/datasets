{
  "nbformat": 4,
  "nbformat_minor": 0,
  "metadata": {
    "colab": {
      "private_outputs": true,
      "provenance": [],
      "authorship_tag": "ABX9TyOFw9rdE6xV+hBMt5cabdWt",
      "include_colab_link": true
    },
    "kernelspec": {
      "name": "python3",
      "display_name": "Python 3"
    },
    "language_info": {
      "name": "python"
    }
  },
  "cells": [
    {
      "cell_type": "markdown",
      "metadata": {
        "id": "view-in-github",
        "colab_type": "text"
      },
      "source": [
        "<a href=\"https://colab.research.google.com/github/ipeirotis-org/datasets/blob/main/Cybersyn_example.ipynb\" target=\"_parent\"><img src=\"https://colab.research.google.com/assets/colab-badge.svg\" alt=\"Open In Colab\"/></a>"
      ]
    },
    {
      "cell_type": "code",
      "source": [
        "!pip install -q snowflake\n"
      ],
      "metadata": {
        "id": "leS_BxM9KljY"
      },
      "execution_count": null,
      "outputs": []
    },
    {
      "cell_type": "code",
      "source": [
        "%matplotlib inline\n",
        "%config InlineBackend.figure_format='retina'"
      ],
      "metadata": {
        "id": "CFWPvtE8NF-A"
      },
      "execution_count": null,
      "outputs": []
    },
    {
      "cell_type": "code",
      "source": [
        "\n",
        "fred_ids =  (\n",
        "    session.table(\"FINANCIAL_FRED_VARIABLE_SERIES_ID_CROSSWALK\")\n",
        "    .select(\"VARIABLE\", \"SERIES_ID\")\n",
        ")\n",
        "\n",
        "macro_data =  (\n",
        "    session.table(\"FINANCIAL_FRED_TIMESERIES\")\n",
        "    .select('VARIABLE', 'DATE', 'VALUE')\n",
        ")\n",
        "\n",
        "fred_data_ids = (\n",
        "    fred_ids\n",
        "    .join(macro_data, fred_ids.col(\"VARIABLE\") == macro_data.col(\"VARIABLE\"))\n",
        "    .select(fred_ids[\"VARIABLE\"].as_(\"VARIABLE\"), \"SERIES_ID\", \"DATE\", \"VALUE\")\n",
        ")\n",
        "\n",
        "cpi_pcepi_data = (\n",
        "    fred_data_ids\n",
        "    .filter(fred_data_ids['SERIES_ID'].in_(\"PCEPI\", \"CPIAUCSL\"))\n",
        "    .sort(col(\"DATE\"))\n",
        ")"
      ],
      "metadata": {
        "id": "q44wyWr6N8na"
      },
      "execution_count": null,
      "outputs": []
    },
    {
      "cell_type": "code",
      "execution_count": null,
      "metadata": {
        "id": "oETdRb-qKcwU"
      },
      "outputs": [],
      "source": [
        "import json\n",
        "from snowflake.snowpark.session import Session\n",
        "\n",
        "connection_parameters = {\n",
        "  \"account\" : \"cfcxbpg-ct14445\",\n",
        "  \"user\" : \"ipeirotis\",\n",
        "  \"password\" : \"QYK.uye.npr.rgv1fru\",\n",
        "  \"database\" : \"cybersyn_financial__economic_essentials\",\n",
        "  \"schema\" : \"cybersyn\"\n",
        "}\n",
        "session = Session.builder.configs(connection_parameters).create()\n",
        "\n",
        "\n",
        "sql_query = \"\"\"\n",
        "WITH fred_ids AS (\n",
        "    SELECT VARIABLE, SERIES_ID\n",
        "    FROM cybersyn_financial__economic_essentials.cybersyn.FINANCIAL_FRED_VARIABLE_SERIES_ID_CROSSWALK\n",
        "),\n",
        "macro_data AS (\n",
        "    SELECT VARIABLE, DATE, VALUE\n",
        "    FROM cybersyn_financial__economic_essentials.cybersyn.FINANCIAL_FRED_TIMESERIES\n",
        "),\n",
        "fred_data_ids AS (\n",
        "    SELECT\n",
        "        f.VARIABLE,\n",
        "        f.SERIES_ID,\n",
        "        m.DATE,\n",
        "        m.VALUE\n",
        "    FROM fred_ids f\n",
        "    JOIN macro_data m ON f.VARIABLE = m.VARIABLE\n",
        ")\n",
        "SELECT\n",
        "    VARIABLE,\n",
        "    SERIES_ID,\n",
        "    DATE,\n",
        "    VALUE\n",
        "FROM fred_data_ids\n",
        "WHERE SERIES_ID IN ('PCEPI', 'CPIAUCSL')\n",
        "ORDER BY DATE;\n",
        "\"\"\"\n",
        "\n",
        "result = session.sql(sql_query).collect()\n",
        "df = pd.DataFrame(result, columns=[\"VARIABLE\", \"SERIES_ID\", \"DATE\", \"VALUE\"])\n"
      ]
    },
    {
      "cell_type": "code",
      "source": [
        "plot = df.pivot_table(\n",
        "    index='DATE',\n",
        "    columns='SERIES_ID',\n",
        "    values='VALUE'\n",
        ").plot(\n",
        "    linestyle='--',\n",
        "    linewidth=2,\n",
        "    markersize=10,\n",
        "    figsize=(18, 6), grid=True,\n",
        "    title='Consumer Price Index (CPI) vs. Personal Consumption Expenditures (PCEPI)'\n",
        ")\n",
        "\n",
        "plot.set_xlabel('Date')\n",
        "plot.set_ylabel('CPI')\n",
        "\n",
        "pass"
      ],
      "metadata": {
        "id": "O0ehBB8IMWGd"
      },
      "execution_count": null,
      "outputs": []
    }
  ]
}