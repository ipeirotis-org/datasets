{
  "nbformat": 4,
  "nbformat_minor": 0,
  "metadata": {
    "colab": {
      "private_outputs": true,
      "provenance": [],
      "authorship_tag": "ABX9TyN5OGNxUCocjU0c1mw09ncA",
      "include_colab_link": true
    },
    "kernelspec": {
      "name": "python3",
      "display_name": "Python 3"
    },
    "language_info": {
      "name": "python"
    }
  },
  "cells": [
    {
      "cell_type": "markdown",
      "metadata": {
        "id": "view-in-github",
        "colab_type": "text"
      },
      "source": [
        "<a href=\"https://colab.research.google.com/github/ipeirotis-org/datasets/blob/main/Cybersyn_example.ipynb\" target=\"_parent\"><img src=\"https://colab.research.google.com/assets/colab-badge.svg\" alt=\"Open In Colab\"/></a>"
      ]
    },
    {
      "cell_type": "code",
      "source": [
        "!pip install -q snowflake\n"
      ],
      "metadata": {
        "id": "leS_BxM9KljY"
      },
      "execution_count": null,
      "outputs": []
    },
    {
      "cell_type": "code",
      "source": [
        "%matplotlib inline\n",
        "%config InlineBackend.figure_format='retina'"
      ],
      "metadata": {
        "id": "CFWPvtE8NF-A"
      },
      "execution_count": null,
      "outputs": []
    },
    {
      "cell_type": "code",
      "source": [
        "import json\n",
        "from snowflake.snowpark.session import Session\n",
        "\n",
        "connection_parameters = {\n",
        "  \"account\" : \"cfcxbpg-ct14445\",\n",
        "  \"user\" : \"ipeirotis\",\n",
        "  \"password\" : \"PASSWORD\",\n",
        "  \"database\" : \"cybersyn_financial__economic_essentials\",\n",
        "  \"schema\" : \"cybersyn\"\n",
        "}\n",
        "session = Session.builder.configs(connection_parameters).create()\n"
      ],
      "metadata": {
        "id": "TIPESk-oXJL9"
      },
      "execution_count": null,
      "outputs": []
    },
    {
      "cell_type": "markdown",
      "source": [
        "# Plot Inflation Data"
      ],
      "metadata": {
        "id": "CmJqAWzHX361"
      }
    },
    {
      "cell_type": "code",
      "execution_count": null,
      "metadata": {
        "id": "oETdRb-qKcwU"
      },
      "outputs": [],
      "source": [
        "sql_query = \"\"\"\n",
        "WITH fred_ids AS (\n",
        "    SELECT VARIABLE, SERIES_ID\n",
        "    FROM cybersyn_financial__economic_essentials.cybersyn.FINANCIAL_FRED_VARIABLE_SERIES_ID_CROSSWALK\n",
        "),\n",
        "macro_data AS (\n",
        "    SELECT VARIABLE, DATE, VALUE\n",
        "    FROM cybersyn_financial__economic_essentials.cybersyn.FINANCIAL_FRED_TIMESERIES\n",
        "),\n",
        "fred_data_ids AS (\n",
        "    SELECT\n",
        "        f.VARIABLE,\n",
        "        f.SERIES_ID,\n",
        "        m.DATE,\n",
        "        m.VALUE\n",
        "    FROM fred_ids f\n",
        "    JOIN macro_data m ON f.VARIABLE = m.VARIABLE\n",
        ")\n",
        "SELECT\n",
        "    VARIABLE,\n",
        "    SERIES_ID,\n",
        "    DATE,\n",
        "    VALUE\n",
        "FROM fred_data_ids\n",
        "WHERE SERIES_ID IN ('PCEPI', 'CPIAUCSL')\n",
        "ORDER BY DATE;\n",
        "\"\"\"\n",
        "\n",
        "result = session.sql(sql_query).collect()\n",
        "df = pd.DataFrame(result, columns=[\"VARIABLE\", \"SERIES_ID\", \"DATE\", \"VALUE\"])\n",
        "plot = df.pivot_table(\n",
        "    index='DATE',\n",
        "    columns='SERIES_ID',\n",
        "    values='VALUE'\n",
        ").plot(\n",
        "    linestyle='--',\n",
        "    linewidth=1,\n",
        "    markersize=10,\n",
        "    figsize=(18, 6), grid=True,\n",
        "    title='Consumer Price Index (CPI) vs. Personal Consumption Expenditures (PCEPI)'\n",
        ")\n",
        "\n",
        "plot.set_xlabel('Date')\n",
        "plot.set_ylabel('CPI')\n",
        "\n",
        "pass"
      ]
    },
    {
      "cell_type": "markdown",
      "source": [
        "# Credit card company complaints\n",
        " Find the top-10 companies in terms of complaints since 2012 (subquery)\n",
        " and then count credit card complaints by month by company since 2012."
      ],
      "metadata": {
        "id": "_jF_tcDeX8zs"
      }
    },
    {
      "cell_type": "code",
      "source": [
        "sql = '''\n",
        "WITH top5_companies AS (\n",
        "  SELECT company\n",
        "  FROM cybersyn.financial_cfpb_complaint\n",
        "  WHERE product ILIKE '%card%'\n",
        "    AND date_received >= '2012-01-01'\n",
        "  GROUP BY company\n",
        "  ORDER BY COUNT(*) DESC\n",
        "  LIMIT 5\n",
        ")\n",
        "SELECT company,\n",
        "       DATE_TRUNC('month', date_received) AS month,\n",
        "       COUNT(*)                           AS credit_card_complaint\n",
        "FROM cybersyn.financial_cfpb_complaint\n",
        "WHERE product ILIKE '%card%'\n",
        "  AND date_received >= '2012-01-01'\n",
        "  AND company IN (SELECT company FROM top5_companies)\n",
        "GROUP BY company, month;\n",
        "'''\n",
        "\n",
        "\n",
        "result = session.sql(sql).collect()\n",
        "df = pd.DataFrame(result)\n",
        "df.pivot_table(\n",
        "    index='MONTH',\n",
        "    columns='COMPANY',\n",
        "    values='CREDIT_CARD_COMPLAINT'\n",
        ").plot( figsize = (16,5), grid = True)"
      ],
      "metadata": {
        "id": "hez0gU74URW-"
      },
      "execution_count": null,
      "outputs": []
    }
  ]
}