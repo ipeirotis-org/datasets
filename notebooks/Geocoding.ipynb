{
 "cells": [
  {
   "cell_type": "code",
   "execution_count": 22,
   "metadata": {},
   "outputs": [],
   "source": [
    "import json\n",
    "import os\n",
    "\n",
    "from os import listdir\n",
    "from os.path import isfile, join, isdir\n",
    "\n",
    "path = 'geocoding'\n",
    "files = [f for f in listdir(path) if isfile(join(path, f)) and f.endswith('.json')]\n",
    "\n",
    "records = dict()\n",
    "for file in sorted(files):\n",
    "    with open(join(path, file)) as f:\n",
    "        data = json.load(f)\n",
    "        records[file] = data\n",
    "\n",
    "for k,v in records.items():\n",
    "    if not v:\n",
    "        print(k)\n",
    "        # !rm geocoding/$k"
   ]
  },
  {
   "cell_type": "code",
   "execution_count": null,
   "metadata": {},
   "outputs": [],
   "source": []
  }
 ],
 "metadata": {
  "kernelspec": {
   "display_name": "Python 3",
   "language": "python",
   "name": "python3"
  },
  "language_info": {
   "codemirror_mode": {
    "name": "ipython",
    "version": 3
   },
   "file_extension": ".py",
   "mimetype": "text/x-python",
   "name": "python",
   "nbconvert_exporter": "python",
   "pygments_lexer": "ipython3",
   "version": "3.6.7"
  }
 },
 "nbformat": 4,
 "nbformat_minor": 2
}
