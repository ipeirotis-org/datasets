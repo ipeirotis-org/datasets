{
  "nbformat": 4,
  "nbformat_minor": 0,
  "metadata": {
    "kernelspec": {
      "display_name": "Python 3",
      "language": "python",
      "name": "python3"
    },
    "language_info": {
      "codemirror_mode": {
        "name": "ipython",
        "version": 3
      },
      "file_extension": ".py",
      "mimetype": "text/x-python",
      "name": "python",
      "nbconvert_exporter": "python",
      "pygments_lexer": "ipython3",
      "version": "3.6.9"
    },
    "colab": {
      "name": "NYPD.ipynb",
      "provenance": [],
      "toc_visible": true,
      "machine_shape": "hm"
    }
  },
  "cells": [
    {
      "cell_type": "markdown",
      "metadata": {
        "id": "GOZM1miw5mmu"
      },
      "source": [
        "## NYPD Dataset\n",
        "\n",
        "Dataset description at \n",
        "https://data.cityofnewyork.us/Public-Safety/NYPD-Complaint-Data-Historic/qgea-i56i\n"
      ]
    },
    {
      "cell_type": "markdown",
      "metadata": {
        "id": "3E6Bimj_5mmy"
      },
      "source": [
        "\n",
        "| Column | Description |\n",
        "|--------|-------------------|\n",
        "| CMPLNT_NUM |  Randomly generated persistent ID for each complaint  |  \n",
        "| ADDR_PCT_CD |  The precinct in which the incident occurred |  \n",
        "| BORO |  The name of the borough in which the incident occurred |  \n",
        "| CMPLNT_FR_DT |  Exact date of occurrence for the reported event (or starting date of occurrence, if CMPLNT_TO_DT exists) |  \n",
        "| CMPLNT_FR_TM |  Exact time of occurrence for the reported event (or starting time of occurrence, if CMPLNT_TO_TM exists) |  \n",
        "| CMPLNT_TO_DT |  Ending date of occurrence for the reported event, if exact time of occurrence is unknown |  \n",
        "| CMPLNT_TO_TM |  Ending time of occurrence for the reported event, if exact time of occurrence is unknown |  \n",
        "| CRM_ATPT_CPTD_CD |  Indicator of whether crime was successfully completed or attempted, but failed or was interrupted prematurely |  \n",
        "| HADEVELOPT |  Name of NYCHA housing development of occurrence, if applicable |  \n",
        "| HOUSING_PSA |  Development Level Code |  \n",
        "| JURISDICTION_CODE |  Jurisdiction responsible for incident. Either internal, like Police(0), Transit(1), and Housing(2); or external(3), like Correction, Port Authority, etc. |  \n",
        "| JURIS_DESC |  Description of the jurisdiction code |  \n",
        "| KY_CD |  Three digit offense classification code |  \n",
        "| LAW_CAT_CD |  Level of offense: felony, misdemeanor, violation  |  \n",
        "| LOC_OF_OCCUR_DESC |  Specific location of occurrence in or around the premises; inside, opposite of, front of, rear of |  \n",
        "| OFNS_DESC |  Description of offense corresponding with key code |  \n",
        "| PARKS_NM |  Name of NYC park, playground or greenspace of occurrence, if applicable (state parks are not included) |  \n",
        "| PATROL_BORO |  The name of the patrol borough in which the incident occurred |  \n",
        "| PD_CD |  Three digit internal classification code (more granular than Key Code) |  \n",
        "| PD_DESC |  Description of internal classification corresponding with PD code (more granular than Offense Description) |  \n",
        "| PREM_TYP_DESC |  Specific description of premises; grocery store, residence, street, etc. |  \n",
        "| RPT_DT |  Date event was reported to police  |  \n",
        "| STATION_NAME |  Transit station name |  \n",
        "| SUSP_AGE_GROUP |  Suspect’s Age Group |  \n",
        "| SUSP_RACE |  Suspect’s Race Description |  \n",
        "| SUSP_SEX |  Suspect’s Sex Description |  \n",
        "| TRANSIT_DISTRICT |  Transit district in which the offense occurred. |  \n",
        "| VIC_AGE_GROUP |  Victim’s Age Group |  \n",
        "| VIC_RACE |  Victim’s Race Description |  \n",
        "| VIC_SEX |  Victim’s Sex Description |  \n",
        "| X_COORD_CD |  X-coordinate for New York State Plane Coordinate System, Long Island Zone, NAD 83, units feet (FIPS 3104) |  \n",
        "| Y_COORD_CD |  Y-coordinate for New York State Plane Coordinate System, Long Island Zone, NAD 83, units feet (FIPS 3104) |  \n",
        "| Latitude |  Midblock Latitude coordinate for Global Coordinate System, WGS 1984, decimal degrees (EPSG 4326)  |  \n",
        "| Longitude |  Midblock Longitude coordinate for Global Coordinate System, WGS 1984, decimal degrees (EPSG 4326) |\n"
      ]
    },
    {
      "cell_type": "code",
      "metadata": {
        "id": "04SFECct5mm0"
      },
      "source": [
        "import pandas as pd\n",
        "import numpy as np"
      ],
      "execution_count": 61,
      "outputs": []
    },
    {
      "cell_type": "code",
      "metadata": {
        "id": "-XiIq4vd5mm1",
        "colab": {
          "base_uri": "https://localhost:8080/"
        },
        "outputId": "2218f035-c72f-4ce7-b3ac-91c8fdb4aad1"
      },
      "source": [
        "# We load everything as an object/string, because some data types (e.g., some IDs)\n",
        "# are recognized as decimals, and it is a mess to restore them back\n",
        "# So we will do all the conversions ourselves later on\n",
        "\n",
        "# From https://data.cityofnewyork.us/Public-Safety/NYPD-Complaint-Data-Historic/qgea-i56i/data\n",
        "!curl 'https://data.cityofnewyork.us/api/views/qgea-i56i/rows.csv?accessType=DOWNLOAD' -o nypd.csv\n"
      ],
      "execution_count": 62,
      "outputs": [
        {
          "output_type": "stream",
          "name": "stdout",
          "text": [
            "  % Total    % Received % Xferd  Average Speed   Time    Time     Time  Current\n",
            "                                 Dload  Upload   Total   Spent    Left  Speed\n",
            "100 2391M    0 2391M    0     0  4496k      0 --:--:--  0:09:04 --:--:-- 5030k\n"
          ]
        }
      ]
    },
    {
      "cell_type": "code",
      "metadata": {
        "id": "tOdfVrSVw5fz",
        "colab": {
          "base_uri": "https://localhost:8080/"
        },
        "outputId": "7bab2d2c-7b74-40ff-b902-9a928e82eea3"
      },
      "source": [
        "%%time\n",
        "df = pd.read_csv('nypd.csv', low_memory = True, dtype='object')"
      ],
      "execution_count": 63,
      "outputs": [
        {
          "output_type": "stream",
          "name": "stdout",
          "text": [
            "CPU times: user 50 s, sys: 10 s, total: 1min\n",
            "Wall time: 59.7 s\n"
          ]
        }
      ]
    },
    {
      "cell_type": "code",
      "metadata": {
        "id": "VNdvd4kY5mm1"
      },
      "source": [
        "# We load directly from the URL\n",
        "# url = 'https://data.cityofnewyork.us/api/views/qgea-i56i/rows.csv?accessType=DOWNLOAD'\n",
        "# df = pd.read_csv(url, low_memory = True, dtype='object')\n"
      ],
      "execution_count": 64,
      "outputs": []
    },
    {
      "cell_type": "code",
      "metadata": {
        "id": "RmxhWjIz5mm2",
        "colab": {
          "base_uri": "https://localhost:8080/"
        },
        "outputId": "733f68c2-fe2c-485c-ba70-99f378e00c7a"
      },
      "source": [
        "len(df)"
      ],
      "execution_count": 65,
      "outputs": [
        {
          "output_type": "execute_result",
          "data": {
            "text/plain": [
              "7825499"
            ]
          },
          "metadata": {},
          "execution_count": 65
        }
      ]
    },
    {
      "cell_type": "code",
      "metadata": {
        "id": "LEnqUtmb5mm3",
        "colab": {
          "base_uri": "https://localhost:8080/"
        },
        "outputId": "63aa8835-f4d8-4dc0-f14f-54aa0ee8dd9b"
      },
      "source": [
        "df.info()"
      ],
      "execution_count": 66,
      "outputs": [
        {
          "output_type": "stream",
          "name": "stdout",
          "text": [
            "<class 'pandas.core.frame.DataFrame'>\n",
            "RangeIndex: 7825499 entries, 0 to 7825498\n",
            "Data columns (total 35 columns):\n",
            " #   Column             Dtype \n",
            "---  ------             ----- \n",
            " 0   CMPLNT_NUM         object\n",
            " 1   CMPLNT_FR_DT       object\n",
            " 2   CMPLNT_FR_TM       object\n",
            " 3   CMPLNT_TO_DT       object\n",
            " 4   CMPLNT_TO_TM       object\n",
            " 5   ADDR_PCT_CD        object\n",
            " 6   RPT_DT             object\n",
            " 7   KY_CD              object\n",
            " 8   OFNS_DESC          object\n",
            " 9   PD_CD              object\n",
            " 10  PD_DESC            object\n",
            " 11  CRM_ATPT_CPTD_CD   object\n",
            " 12  LAW_CAT_CD         object\n",
            " 13  BORO_NM            object\n",
            " 14  LOC_OF_OCCUR_DESC  object\n",
            " 15  PREM_TYP_DESC      object\n",
            " 16  JURIS_DESC         object\n",
            " 17  JURISDICTION_CODE  object\n",
            " 18  PARKS_NM           object\n",
            " 19  HADEVELOPT         object\n",
            " 20  HOUSING_PSA        object\n",
            " 21  X_COORD_CD         object\n",
            " 22  Y_COORD_CD         object\n",
            " 23  SUSP_AGE_GROUP     object\n",
            " 24  SUSP_RACE          object\n",
            " 25  SUSP_SEX           object\n",
            " 26  TRANSIT_DISTRICT   object\n",
            " 27  Latitude           object\n",
            " 28  Longitude          object\n",
            " 29  Lat_Lon            object\n",
            " 30  PATROL_BORO        object\n",
            " 31  STATION_NAME       object\n",
            " 32  VIC_AGE_GROUP      object\n",
            " 33  VIC_RACE           object\n",
            " 34  VIC_SEX            object\n",
            "dtypes: object(35)\n",
            "memory usage: 2.0+ GB\n"
          ]
        }
      ]
    },
    {
      "cell_type": "markdown",
      "metadata": {
        "id": "iom7bUxU5mm4"
      },
      "source": [
        "## Data Cleaning"
      ]
    },
    {
      "cell_type": "code",
      "metadata": {
        "id": "_7AjsFKk_8O0"
      },
      "source": [
        "# These columns are redundant\n",
        "to_drop = ['Lat_Lon','X_COORD_CD','Y_COORD_CD']\n",
        "# We created the CMPLNT_FR and CMPLNT_TO columns\n",
        "# We have the longitude and latitude so the other coordinates are not needed\n",
        "df = df.drop(to_drop, axis='columns')"
      ],
      "execution_count": 67,
      "outputs": []
    },
    {
      "cell_type": "markdown",
      "metadata": {
        "id": "cneciJ0ychcz"
      },
      "source": [
        "###  CMPLNT_NUM         object   "
      ]
    },
    {
      "cell_type": "code",
      "metadata": {
        "id": "4AnVkOfw-8Ul"
      },
      "source": [
        "     \n",
        "# Drop cases with duplicated complaint numbers\n",
        "key_cnt = df.CMPLNT_NUM.value_counts()\n",
        "key_cnt [ key_cnt>1 ]\n",
        "df = df[ ~df.CMPLNT_NUM.isin( key_cnt [ key_cnt>1 ].index.values ) ]"
      ],
      "execution_count": 68,
      "outputs": []
    },
    {
      "cell_type": "code",
      "metadata": {
        "id": "TGaUJ382IYGM"
      },
      "source": [
        "df.CMPLNT_NUM = df.CMPLNT_NUM.astype('int32')"
      ],
      "execution_count": 69,
      "outputs": []
    },
    {
      "cell_type": "markdown",
      "metadata": {
        "id": "FHn3_6rjcj0t"
      },
      "source": [
        "### CMPLNT_FR_DT       object\n",
        "### CMPLNT_FR_TM       object\n",
        "### CMPLNT_TO_DT       object\n",
        "### CMPLNT_TO_TM       object"
      ]
    },
    {
      "cell_type": "code",
      "metadata": {
        "id": "f2F3vSC_5mm5"
      },
      "source": [
        "# There are a few rows that contain year 1015, 1016, ... that trigger an error during date conversion\n",
        "# We replace all years written as 10XX with 20XX\n",
        "# Note the usage of regular expressions\n",
        "df.CMPLNT_FR_DT.replace(to_replace = '(\\d\\d)/(\\d\\d)/10(\\d\\d)', value=r'\\1/\\2/20\\3', inplace = True, regex=True )\n",
        "df.CMPLNT_TO_DT.replace(to_replace = '(\\d\\d)/(\\d\\d)/10(\\d\\d)', value=r'\\1/\\2/20\\3', inplace = True, regex=True )\n",
        "\n",
        "# Similarly, a few hours are written as 24:00:00, which also triggers errors.\n",
        "# We fix these hours\n",
        "df.CMPLNT_FR_TM.replace(to_replace = '24:00:00', value='00:00:00', inplace = True)\n",
        "df.CMPLNT_TO_TM.replace(to_replace = '24:00:00', value='00:00:00', inplace = True)\n",
        "\n",
        "# Convert the two separate date and time columns into single datetime columns\n",
        "df['CMPLNT_FR'] = pd.to_datetime(df.CMPLNT_FR_DT + ' ' + df.CMPLNT_FR_TM, format='%m/%d/%Y %H:%M:%S', cache=True)\n",
        "df['CMPLNT_TO'] = pd.to_datetime(df.CMPLNT_TO_DT + ' ' + df.CMPLNT_TO_TM, format='%m/%d/%Y %H:%M:%S', cache=True)\n",
        "\n",
        "# These columns are redundant\n",
        "to_drop = ['CMPLNT_FR_DT','CMPLNT_TO_DT','CMPLNT_FR_TM','CMPLNT_TO_TM']\n",
        "# We created the CMPLNT_FR and CMPLNT_TO columns\n",
        "# We have the longitude and latitude so the other coordinates are not needed\n",
        "df = df.drop(to_drop, axis='columns')"
      ],
      "execution_count": 70,
      "outputs": []
    },
    {
      "cell_type": "code",
      "metadata": {
        "id": "W75-d3hf5mm6",
        "colab": {
          "base_uri": "https://localhost:8080/"
        },
        "outputId": "4e95dfa8-280d-465b-827d-2d9b2c50eea5"
      },
      "source": [
        "df.CMPLNT_FR.isnull().sum()"
      ],
      "execution_count": 71,
      "outputs": [
        {
          "output_type": "execute_result",
          "data": {
            "text/plain": [
              "702"
            ]
          },
          "metadata": {},
          "execution_count": 71
        }
      ]
    },
    {
      "cell_type": "code",
      "metadata": {
        "id": "y_L6v8D-5mm6",
        "colab": {
          "base_uri": "https://localhost:8080/"
        },
        "outputId": "3ce5913b-8181-4285-a033-cd5ea3c5dfc6"
      },
      "source": [
        "df.CMPLNT_TO.isnull().sum()"
      ],
      "execution_count": 72,
      "outputs": [
        {
          "output_type": "execute_result",
          "data": {
            "text/plain": [
              "1744179"
            ]
          },
          "metadata": {},
          "execution_count": 72
        }
      ]
    },
    {
      "cell_type": "code",
      "metadata": {
        "id": "Wew9yE3KEU4h"
      },
      "source": [
        "df = df [ ~df.CMPLNT_FR.isnull() ]"
      ],
      "execution_count": 73,
      "outputs": []
    },
    {
      "cell_type": "markdown",
      "metadata": {
        "id": "9LWq_gxRcn5X"
      },
      "source": [
        "###  ADDR_PCT_CD        object"
      ]
    },
    {
      "cell_type": "code",
      "metadata": {
        "id": "icQPQRXI_S0s"
      },
      "source": [
        "\n",
        "df.ADDR_PCT_CD.replace(to_replace = '-99', value='99', inplace = True)\n",
        "# df = df [ ~df.ADDR_PCT_CD.isnull() ]\n",
        "df.ADDR_PCT_CD = pd.Categorical(df.ADDR_PCT_CD)"
      ],
      "execution_count": 74,
      "outputs": []
    },
    {
      "cell_type": "markdown",
      "metadata": {
        "id": "jJy7ffBvcpUT"
      },
      "source": [
        "###  RPT_DT             object"
      ]
    },
    {
      "cell_type": "code",
      "metadata": {
        "id": "vSDFSmV__YsE"
      },
      "source": [
        "\n",
        "\n",
        "# Convert RPT_DT to date\n",
        "df.RPT_DT = pd.to_datetime(df.RPT_DT, format=\"%m/%d/%Y\", cache=True)"
      ],
      "execution_count": 75,
      "outputs": []
    },
    {
      "cell_type": "markdown",
      "metadata": {
        "id": "PMJyvnercqxR"
      },
      "source": [
        "### 7   KY_CD              object\n",
        "### 8   OFNS_DESC          object"
      ]
    },
    {
      "cell_type": "code",
      "metadata": {
        "id": "hqgAxM-F5mm7",
        "colab": {
          "base_uri": "https://localhost:8080/",
          "height": 0
        },
        "outputId": "53b24b95-f872-489e-fe13-d2baded049ea"
      },
      "source": [
        "df.OFNS_DESC.replace(to_replace = 'KIDNAPPING', value='KIDNAPPING & RELATED OFFENSES', inplace = True)\n",
        "df.OFNS_DESC.replace(to_replace = 'KIDNAPPING AND RELATED OFFENSES', value='KIDNAPPING & RELATED OFFENSES', inplace = True)\n",
        "\n",
        "df.OFNS_DESC.replace(to_replace = 'AGRICULTURE & MRKTS LAW-UNCLASSIFIED', value='OTHER STATE LAWS (NON PENAL LAW)', inplace = True)\n",
        "df.OFNS_DESC.replace(to_replace = 'OTHER STATE LAWS (NON PENAL LA', value='OTHER STATE LAWS (NON PENAL LAW)', inplace = True)\n",
        "\n",
        "df.OFNS_DESC.replace(to_replace = 'ENDAN WELFARE INCOMP', value='OFFENSES RELATED TO CHILDREN', inplace = True)\n",
        "\n",
        "df.OFNS_DESC.replace(to_replace = 'THEFT OF SERVICES', value='OTHER OFFENSES RELATED TO THEF', inplace = True)\n",
        "\n",
        "df.OFNS_DESC.replace(to_replace = 'NYS LAWS-UNCLASSIFIED VIOLATION', value='OTHER STATE LAWS', inplace = True)\n",
        "\n",
        "df.OFNS_DESC.replace(to_replace = 'FELONY SEX CRIMES', value='SEX CRIMES', inplace = True)\n",
        "\n",
        "df.loc[df.KY_CD=='120','OFNS_DESC'] ='CHILD ABANDONMENT/NON SUPPORT'\n",
        "\n",
        "df.loc[df.KY_CD=='125','OFNS_DESC'] ='NYS LAWS-UNCLASSIFIED FELONY'\n",
        "\n",
        "offenses = df[ [\"KY_CD\", \"OFNS_DESC\"] ].drop_duplicates().dropna()\n",
        "offenses['KY_CD'] = pd.Categorical(pd.to_numeric(offenses['KY_CD'] ).astype(int))\n",
        "offenses = offenses.set_index(\"KY_CD\")\n",
        "offenses = offenses.sort_index()\n",
        "offenses = offenses.reset_index()\n",
        "offenses\n"
      ],
      "execution_count": 76,
      "outputs": [
        {
          "output_type": "execute_result",
          "data": {
            "text/plain": [
              "   KY_CD                        OFNS_DESC\n",
              "0    101  MURDER & NON-NEGL. MANSLAUGHTER\n",
              "1    102       HOMICIDE-NEGLIGENT-VEHICLE\n",
              "2    103   HOMICIDE-NEGLIGENT,UNCLASSIFIE\n",
              "3    104                             RAPE\n",
              "4    105                          ROBBERY\n",
              "..   ...                              ...\n",
              "69   676        NEW YORK CITY HEALTH CODE\n",
              "70   677                 OTHER STATE LAWS\n",
              "71   678          MISCELLANEOUS PENAL LAW\n",
              "72   685             ADMINISTRATIVE CODES\n",
              "73   881         OTHER TRAFFIC INFRACTION\n",
              "\n",
              "[74 rows x 2 columns]"
            ],
            "text/html": [
              "\n",
              "  <div id=\"df-fd3632f1-b766-4931-bb18-91176f19a2db\">\n",
              "    <div class=\"colab-df-container\">\n",
              "      <div>\n",
              "<style scoped>\n",
              "    .dataframe tbody tr th:only-of-type {\n",
              "        vertical-align: middle;\n",
              "    }\n",
              "\n",
              "    .dataframe tbody tr th {\n",
              "        vertical-align: top;\n",
              "    }\n",
              "\n",
              "    .dataframe thead th {\n",
              "        text-align: right;\n",
              "    }\n",
              "</style>\n",
              "<table border=\"1\" class=\"dataframe\">\n",
              "  <thead>\n",
              "    <tr style=\"text-align: right;\">\n",
              "      <th></th>\n",
              "      <th>KY_CD</th>\n",
              "      <th>OFNS_DESC</th>\n",
              "    </tr>\n",
              "  </thead>\n",
              "  <tbody>\n",
              "    <tr>\n",
              "      <th>0</th>\n",
              "      <td>101</td>\n",
              "      <td>MURDER &amp; NON-NEGL. MANSLAUGHTER</td>\n",
              "    </tr>\n",
              "    <tr>\n",
              "      <th>1</th>\n",
              "      <td>102</td>\n",
              "      <td>HOMICIDE-NEGLIGENT-VEHICLE</td>\n",
              "    </tr>\n",
              "    <tr>\n",
              "      <th>2</th>\n",
              "      <td>103</td>\n",
              "      <td>HOMICIDE-NEGLIGENT,UNCLASSIFIE</td>\n",
              "    </tr>\n",
              "    <tr>\n",
              "      <th>3</th>\n",
              "      <td>104</td>\n",
              "      <td>RAPE</td>\n",
              "    </tr>\n",
              "    <tr>\n",
              "      <th>4</th>\n",
              "      <td>105</td>\n",
              "      <td>ROBBERY</td>\n",
              "    </tr>\n",
              "    <tr>\n",
              "      <th>...</th>\n",
              "      <td>...</td>\n",
              "      <td>...</td>\n",
              "    </tr>\n",
              "    <tr>\n",
              "      <th>69</th>\n",
              "      <td>676</td>\n",
              "      <td>NEW YORK CITY HEALTH CODE</td>\n",
              "    </tr>\n",
              "    <tr>\n",
              "      <th>70</th>\n",
              "      <td>677</td>\n",
              "      <td>OTHER STATE LAWS</td>\n",
              "    </tr>\n",
              "    <tr>\n",
              "      <th>71</th>\n",
              "      <td>678</td>\n",
              "      <td>MISCELLANEOUS PENAL LAW</td>\n",
              "    </tr>\n",
              "    <tr>\n",
              "      <th>72</th>\n",
              "      <td>685</td>\n",
              "      <td>ADMINISTRATIVE CODES</td>\n",
              "    </tr>\n",
              "    <tr>\n",
              "      <th>73</th>\n",
              "      <td>881</td>\n",
              "      <td>OTHER TRAFFIC INFRACTION</td>\n",
              "    </tr>\n",
              "  </tbody>\n",
              "</table>\n",
              "<p>74 rows × 2 columns</p>\n",
              "</div>\n",
              "      <button class=\"colab-df-convert\" onclick=\"convertToInteractive('df-fd3632f1-b766-4931-bb18-91176f19a2db')\"\n",
              "              title=\"Convert this dataframe to an interactive table.\"\n",
              "              style=\"display:none;\">\n",
              "        \n",
              "  <svg xmlns=\"http://www.w3.org/2000/svg\" height=\"24px\"viewBox=\"0 0 24 24\"\n",
              "       width=\"24px\">\n",
              "    <path d=\"M0 0h24v24H0V0z\" fill=\"none\"/>\n",
              "    <path d=\"M18.56 5.44l.94 2.06.94-2.06 2.06-.94-2.06-.94-.94-2.06-.94 2.06-2.06.94zm-11 1L8.5 8.5l.94-2.06 2.06-.94-2.06-.94L8.5 2.5l-.94 2.06-2.06.94zm10 10l.94 2.06.94-2.06 2.06-.94-2.06-.94-.94-2.06-.94 2.06-2.06.94z\"/><path d=\"M17.41 7.96l-1.37-1.37c-.4-.4-.92-.59-1.43-.59-.52 0-1.04.2-1.43.59L10.3 9.45l-7.72 7.72c-.78.78-.78 2.05 0 2.83L4 21.41c.39.39.9.59 1.41.59.51 0 1.02-.2 1.41-.59l7.78-7.78 2.81-2.81c.8-.78.8-2.07 0-2.86zM5.41 20L4 18.59l7.72-7.72 1.47 1.35L5.41 20z\"/>\n",
              "  </svg>\n",
              "      </button>\n",
              "      \n",
              "  <style>\n",
              "    .colab-df-container {\n",
              "      display:flex;\n",
              "      flex-wrap:wrap;\n",
              "      gap: 12px;\n",
              "    }\n",
              "\n",
              "    .colab-df-convert {\n",
              "      background-color: #E8F0FE;\n",
              "      border: none;\n",
              "      border-radius: 50%;\n",
              "      cursor: pointer;\n",
              "      display: none;\n",
              "      fill: #1967D2;\n",
              "      height: 32px;\n",
              "      padding: 0 0 0 0;\n",
              "      width: 32px;\n",
              "    }\n",
              "\n",
              "    .colab-df-convert:hover {\n",
              "      background-color: #E2EBFA;\n",
              "      box-shadow: 0px 1px 2px rgba(60, 64, 67, 0.3), 0px 1px 3px 1px rgba(60, 64, 67, 0.15);\n",
              "      fill: #174EA6;\n",
              "    }\n",
              "\n",
              "    [theme=dark] .colab-df-convert {\n",
              "      background-color: #3B4455;\n",
              "      fill: #D2E3FC;\n",
              "    }\n",
              "\n",
              "    [theme=dark] .colab-df-convert:hover {\n",
              "      background-color: #434B5C;\n",
              "      box-shadow: 0px 1px 3px 1px rgba(0, 0, 0, 0.15);\n",
              "      filter: drop-shadow(0px 1px 2px rgba(0, 0, 0, 0.3));\n",
              "      fill: #FFFFFF;\n",
              "    }\n",
              "  </style>\n",
              "\n",
              "      <script>\n",
              "        const buttonEl =\n",
              "          document.querySelector('#df-fd3632f1-b766-4931-bb18-91176f19a2db button.colab-df-convert');\n",
              "        buttonEl.style.display =\n",
              "          google.colab.kernel.accessAllowed ? 'block' : 'none';\n",
              "\n",
              "        async function convertToInteractive(key) {\n",
              "          const element = document.querySelector('#df-fd3632f1-b766-4931-bb18-91176f19a2db');\n",
              "          const dataTable =\n",
              "            await google.colab.kernel.invokeFunction('convertToInteractive',\n",
              "                                                     [key], {});\n",
              "          if (!dataTable) return;\n",
              "\n",
              "          const docLinkHtml = 'Like what you see? Visit the ' +\n",
              "            '<a target=\"_blank\" href=https://colab.research.google.com/notebooks/data_table.ipynb>data table notebook</a>'\n",
              "            + ' to learn more about interactive tables.';\n",
              "          element.innerHTML = '';\n",
              "          dataTable['output_type'] = 'display_data';\n",
              "          await google.colab.output.renderOutput(dataTable, element);\n",
              "          const docLink = document.createElement('div');\n",
              "          docLink.innerHTML = docLinkHtml;\n",
              "          element.appendChild(docLink);\n",
              "        }\n",
              "      </script>\n",
              "    </div>\n",
              "  </div>\n",
              "  "
            ]
          },
          "metadata": {},
          "execution_count": 76
        }
      ]
    },
    {
      "cell_type": "code",
      "metadata": {
        "id": "5RYYeU3oGvoY"
      },
      "source": [
        "df.KY_CD = pd.Categorical(df.KY_CD)"
      ],
      "execution_count": 77,
      "outputs": []
    },
    {
      "cell_type": "code",
      "metadata": {
        "id": "VfNKp2c4JThg"
      },
      "source": [
        "df = df.drop('OFNS_DESC', axis='columns')"
      ],
      "execution_count": 78,
      "outputs": []
    },
    {
      "cell_type": "markdown",
      "metadata": {
        "id": "211BiQHwc-Hi"
      },
      "source": [
        "### 9   PD_CD              object\n",
        "### 10  PD_DESC            object"
      ]
    },
    {
      "cell_type": "code",
      "metadata": {
        "id": "sSM0WJ2xFQKi",
        "colab": {
          "base_uri": "https://localhost:8080/",
          "height": 0
        },
        "outputId": "c1051d98-63d8-4ce1-9298-7158477ad263"
      },
      "source": [
        "\n",
        "\n",
        "\n",
        "df.loc[df.PD_CD=='694','PD_DESC'] ='INCEST'\n",
        "\n",
        "df.loc[df.PD_CD=='234','PD_DESC'] ='BURGLARY,UNKNOWN TIME'\n",
        "\n",
        "internal = df[ [\"PD_CD\", \"PD_DESC\"] ].drop_duplicates().dropna()\n",
        "internal['PD_CD'] = pd.Categorical(pd.to_numeric(internal['PD_CD'] ).astype(int))\n",
        "internal = internal.set_index(\"PD_CD\")\n",
        "internal = internal.sort_index()\n",
        "internal = internal.reset_index()\n",
        "internal"
      ],
      "execution_count": 79,
      "outputs": [
        {
          "output_type": "execute_result",
          "data": {
            "text/plain": [
              "    PD_CD                         PD_DESC\n",
              "0     100     STALKING COMMIT SEX OFFENSE\n",
              "1     101                       ASSAULT 3\n",
              "2     102     ASSAULT SCHOOL SAFETY AGENT\n",
              "3     103           ASSAULT TRAFFIC AGENT\n",
              "4     104  VEHICULAR ASSAULT (INTOX DRIVE\n",
              "..    ...                             ...\n",
              "427   916  LEAVING SCENE-ACCIDENT-PERSONA\n",
              "428   918                RECKLESS DRIVING\n",
              "429   922  TRAFFIC,UNCLASSIFIED MISDEMEAN\n",
              "430   969  TRAFFIC,UNCLASSIFIED INFRACTIO\n",
              "431   975     ENVIRONMENTAL CONTROL BOARD\n",
              "\n",
              "[432 rows x 2 columns]"
            ],
            "text/html": [
              "\n",
              "  <div id=\"df-f4492467-9d9e-4218-bc43-4af822a38b86\">\n",
              "    <div class=\"colab-df-container\">\n",
              "      <div>\n",
              "<style scoped>\n",
              "    .dataframe tbody tr th:only-of-type {\n",
              "        vertical-align: middle;\n",
              "    }\n",
              "\n",
              "    .dataframe tbody tr th {\n",
              "        vertical-align: top;\n",
              "    }\n",
              "\n",
              "    .dataframe thead th {\n",
              "        text-align: right;\n",
              "    }\n",
              "</style>\n",
              "<table border=\"1\" class=\"dataframe\">\n",
              "  <thead>\n",
              "    <tr style=\"text-align: right;\">\n",
              "      <th></th>\n",
              "      <th>PD_CD</th>\n",
              "      <th>PD_DESC</th>\n",
              "    </tr>\n",
              "  </thead>\n",
              "  <tbody>\n",
              "    <tr>\n",
              "      <th>0</th>\n",
              "      <td>100</td>\n",
              "      <td>STALKING COMMIT SEX OFFENSE</td>\n",
              "    </tr>\n",
              "    <tr>\n",
              "      <th>1</th>\n",
              "      <td>101</td>\n",
              "      <td>ASSAULT 3</td>\n",
              "    </tr>\n",
              "    <tr>\n",
              "      <th>2</th>\n",
              "      <td>102</td>\n",
              "      <td>ASSAULT SCHOOL SAFETY AGENT</td>\n",
              "    </tr>\n",
              "    <tr>\n",
              "      <th>3</th>\n",
              "      <td>103</td>\n",
              "      <td>ASSAULT TRAFFIC AGENT</td>\n",
              "    </tr>\n",
              "    <tr>\n",
              "      <th>4</th>\n",
              "      <td>104</td>\n",
              "      <td>VEHICULAR ASSAULT (INTOX DRIVE</td>\n",
              "    </tr>\n",
              "    <tr>\n",
              "      <th>...</th>\n",
              "      <td>...</td>\n",
              "      <td>...</td>\n",
              "    </tr>\n",
              "    <tr>\n",
              "      <th>427</th>\n",
              "      <td>916</td>\n",
              "      <td>LEAVING SCENE-ACCIDENT-PERSONA</td>\n",
              "    </tr>\n",
              "    <tr>\n",
              "      <th>428</th>\n",
              "      <td>918</td>\n",
              "      <td>RECKLESS DRIVING</td>\n",
              "    </tr>\n",
              "    <tr>\n",
              "      <th>429</th>\n",
              "      <td>922</td>\n",
              "      <td>TRAFFIC,UNCLASSIFIED MISDEMEAN</td>\n",
              "    </tr>\n",
              "    <tr>\n",
              "      <th>430</th>\n",
              "      <td>969</td>\n",
              "      <td>TRAFFIC,UNCLASSIFIED INFRACTIO</td>\n",
              "    </tr>\n",
              "    <tr>\n",
              "      <th>431</th>\n",
              "      <td>975</td>\n",
              "      <td>ENVIRONMENTAL CONTROL BOARD</td>\n",
              "    </tr>\n",
              "  </tbody>\n",
              "</table>\n",
              "<p>432 rows × 2 columns</p>\n",
              "</div>\n",
              "      <button class=\"colab-df-convert\" onclick=\"convertToInteractive('df-f4492467-9d9e-4218-bc43-4af822a38b86')\"\n",
              "              title=\"Convert this dataframe to an interactive table.\"\n",
              "              style=\"display:none;\">\n",
              "        \n",
              "  <svg xmlns=\"http://www.w3.org/2000/svg\" height=\"24px\"viewBox=\"0 0 24 24\"\n",
              "       width=\"24px\">\n",
              "    <path d=\"M0 0h24v24H0V0z\" fill=\"none\"/>\n",
              "    <path d=\"M18.56 5.44l.94 2.06.94-2.06 2.06-.94-2.06-.94-.94-2.06-.94 2.06-2.06.94zm-11 1L8.5 8.5l.94-2.06 2.06-.94-2.06-.94L8.5 2.5l-.94 2.06-2.06.94zm10 10l.94 2.06.94-2.06 2.06-.94-2.06-.94-.94-2.06-.94 2.06-2.06.94z\"/><path d=\"M17.41 7.96l-1.37-1.37c-.4-.4-.92-.59-1.43-.59-.52 0-1.04.2-1.43.59L10.3 9.45l-7.72 7.72c-.78.78-.78 2.05 0 2.83L4 21.41c.39.39.9.59 1.41.59.51 0 1.02-.2 1.41-.59l7.78-7.78 2.81-2.81c.8-.78.8-2.07 0-2.86zM5.41 20L4 18.59l7.72-7.72 1.47 1.35L5.41 20z\"/>\n",
              "  </svg>\n",
              "      </button>\n",
              "      \n",
              "  <style>\n",
              "    .colab-df-container {\n",
              "      display:flex;\n",
              "      flex-wrap:wrap;\n",
              "      gap: 12px;\n",
              "    }\n",
              "\n",
              "    .colab-df-convert {\n",
              "      background-color: #E8F0FE;\n",
              "      border: none;\n",
              "      border-radius: 50%;\n",
              "      cursor: pointer;\n",
              "      display: none;\n",
              "      fill: #1967D2;\n",
              "      height: 32px;\n",
              "      padding: 0 0 0 0;\n",
              "      width: 32px;\n",
              "    }\n",
              "\n",
              "    .colab-df-convert:hover {\n",
              "      background-color: #E2EBFA;\n",
              "      box-shadow: 0px 1px 2px rgba(60, 64, 67, 0.3), 0px 1px 3px 1px rgba(60, 64, 67, 0.15);\n",
              "      fill: #174EA6;\n",
              "    }\n",
              "\n",
              "    [theme=dark] .colab-df-convert {\n",
              "      background-color: #3B4455;\n",
              "      fill: #D2E3FC;\n",
              "    }\n",
              "\n",
              "    [theme=dark] .colab-df-convert:hover {\n",
              "      background-color: #434B5C;\n",
              "      box-shadow: 0px 1px 3px 1px rgba(0, 0, 0, 0.15);\n",
              "      filter: drop-shadow(0px 1px 2px rgba(0, 0, 0, 0.3));\n",
              "      fill: #FFFFFF;\n",
              "    }\n",
              "  </style>\n",
              "\n",
              "      <script>\n",
              "        const buttonEl =\n",
              "          document.querySelector('#df-f4492467-9d9e-4218-bc43-4af822a38b86 button.colab-df-convert');\n",
              "        buttonEl.style.display =\n",
              "          google.colab.kernel.accessAllowed ? 'block' : 'none';\n",
              "\n",
              "        async function convertToInteractive(key) {\n",
              "          const element = document.querySelector('#df-f4492467-9d9e-4218-bc43-4af822a38b86');\n",
              "          const dataTable =\n",
              "            await google.colab.kernel.invokeFunction('convertToInteractive',\n",
              "                                                     [key], {});\n",
              "          if (!dataTable) return;\n",
              "\n",
              "          const docLinkHtml = 'Like what you see? Visit the ' +\n",
              "            '<a target=\"_blank\" href=https://colab.research.google.com/notebooks/data_table.ipynb>data table notebook</a>'\n",
              "            + ' to learn more about interactive tables.';\n",
              "          element.innerHTML = '';\n",
              "          dataTable['output_type'] = 'display_data';\n",
              "          await google.colab.output.renderOutput(dataTable, element);\n",
              "          const docLink = document.createElement('div');\n",
              "          docLink.innerHTML = docLinkHtml;\n",
              "          element.appendChild(docLink);\n",
              "        }\n",
              "      </script>\n",
              "    </div>\n",
              "  </div>\n",
              "  "
            ]
          },
          "metadata": {},
          "execution_count": 79
        }
      ]
    },
    {
      "cell_type": "code",
      "metadata": {
        "id": "litXEQ4gHJbc",
        "colab": {
          "base_uri": "https://localhost:8080/"
        },
        "outputId": "5442b925-2f42-475c-81ef-3636fce0fc78"
      },
      "source": [
        "df.PD_CD.isnull().sum()"
      ],
      "execution_count": 80,
      "outputs": [
        {
          "output_type": "execute_result",
          "data": {
            "text/plain": [
              "6751"
            ]
          },
          "metadata": {},
          "execution_count": 80
        }
      ]
    },
    {
      "cell_type": "code",
      "metadata": {
        "id": "EoAB8vswHC_a"
      },
      "source": [
        "# df = df[~df.PD_CD.isnull()]"
      ],
      "execution_count": 81,
      "outputs": []
    },
    {
      "cell_type": "code",
      "metadata": {
        "id": "9kwshtMxHAcL"
      },
      "source": [
        "df.PD_CD = pd.Categorical(df.PD_CD)"
      ],
      "execution_count": 82,
      "outputs": []
    },
    {
      "cell_type": "code",
      "metadata": {
        "id": "3H3ZPPzwFYh9"
      },
      "source": [
        "df = df.drop('PD_DESC', axis='columns')"
      ],
      "execution_count": 83,
      "outputs": []
    },
    {
      "cell_type": "code",
      "metadata": {
        "id": "dv3xfTcjF8Qz"
      },
      "source": [
        ""
      ],
      "execution_count": 83,
      "outputs": []
    },
    {
      "cell_type": "markdown",
      "metadata": {
        "id": "mCyBuyV2dALc"
      },
      "source": [
        "### 11  CRM_ATPT_CPTD_CD   object"
      ]
    },
    {
      "cell_type": "code",
      "metadata": {
        "id": "3qf5FO6XFaPn",
        "colab": {
          "base_uri": "https://localhost:8080/"
        },
        "outputId": "619ad5c9-9690-4bf8-8685-0170c094416b"
      },
      "source": [
        "df.CRM_ATPT_CPTD_CD.value_counts()"
      ],
      "execution_count": 84,
      "outputs": [
        {
          "output_type": "execute_result",
          "data": {
            "text/plain": [
              "COMPLETED    7684519\n",
              "ATTEMPTED     132187\n",
              "Name: CRM_ATPT_CPTD_CD, dtype: int64"
            ]
          },
          "metadata": {},
          "execution_count": 84
        }
      ]
    },
    {
      "cell_type": "code",
      "metadata": {
        "id": "wf1WmbD2FmaB"
      },
      "source": [
        "df.CRM_ATPT_CPTD_CD = pd.Categorical(df.CRM_ATPT_CPTD_CD)"
      ],
      "execution_count": 85,
      "outputs": []
    },
    {
      "cell_type": "code",
      "metadata": {
        "id": "HMCKHHaSFtyF",
        "colab": {
          "base_uri": "https://localhost:8080/"
        },
        "outputId": "38cec2f0-0850-4481-97b7-47052c3d6099"
      },
      "source": [
        "df.CRM_ATPT_CPTD_CD.isnull().sum()"
      ],
      "execution_count": 86,
      "outputs": [
        {
          "output_type": "execute_result",
          "data": {
            "text/plain": [
              "167"
            ]
          },
          "metadata": {},
          "execution_count": 86
        }
      ]
    },
    {
      "cell_type": "code",
      "metadata": {
        "id": "F8AKN07HF06g"
      },
      "source": [
        "# df = df [ ~df.CRM_ATPT_CPTD_CD.isnull() ]"
      ],
      "execution_count": 87,
      "outputs": []
    },
    {
      "cell_type": "markdown",
      "metadata": {
        "id": "dxaDxHN5dDLH"
      },
      "source": [
        "### 12  LAW_CAT_CD         object"
      ]
    },
    {
      "cell_type": "code",
      "metadata": {
        "id": "kmXlgdSeGBMm"
      },
      "source": [
        ""
      ],
      "execution_count": 87,
      "outputs": []
    },
    {
      "cell_type": "code",
      "metadata": {
        "id": "SNddZBFdGEmG",
        "colab": {
          "base_uri": "https://localhost:8080/"
        },
        "outputId": "6f5d6b53-b0b4-4e9f-9bb3-9f02abf2e7cb"
      },
      "source": [
        "df.LAW_CAT_CD.value_counts()"
      ],
      "execution_count": 88,
      "outputs": [
        {
          "output_type": "execute_result",
          "data": {
            "text/plain": [
              "MISDEMEANOR    4361634\n",
              "FELONY         2421052\n",
              "VIOLATION      1034187\n",
              "Name: LAW_CAT_CD, dtype: int64"
            ]
          },
          "metadata": {},
          "execution_count": 88
        }
      ]
    },
    {
      "cell_type": "code",
      "metadata": {
        "id": "ZGSY4h6T5mm7"
      },
      "source": [
        "df.LAW_CAT_CD = pd.Categorical(df.LAW_CAT_CD)"
      ],
      "execution_count": 89,
      "outputs": []
    },
    {
      "cell_type": "markdown",
      "metadata": {
        "id": "ktDmEg1cdE_v"
      },
      "source": [
        "### 16  JURIS_DESC         object\n",
        "### 17  JURISDICTION_CODE  object"
      ]
    },
    {
      "cell_type": "code",
      "metadata": {
        "id": "Neev5NjGH4BN",
        "colab": {
          "base_uri": "https://localhost:8080/"
        },
        "outputId": "e3473cf6-7e87-4d41-8f82-b2443cb749a3"
      },
      "source": [
        "df.JURISDICTION_CODE.isnull().sum()"
      ],
      "execution_count": 90,
      "outputs": [
        {
          "output_type": "execute_result",
          "data": {
            "text/plain": [
              "6751"
            ]
          },
          "metadata": {},
          "execution_count": 90
        }
      ]
    },
    {
      "cell_type": "code",
      "metadata": {
        "id": "IgUqAQzUHWD3",
        "colab": {
          "base_uri": "https://localhost:8080/",
          "height": 0
        },
        "outputId": "1ac7ccbb-13cf-4697-e3a7-597983f38633"
      },
      "source": [
        "# df = df[ ~df.JURISDICTION_CODE.isnull() ]\n",
        "\n",
        "jusridiction = df[ [\"JURISDICTION_CODE\", \"JURIS_DESC\", ] ].drop_duplicates().dropna()\n",
        "jusridiction['JURISDICTION_CODE'] = pd.to_numeric(jusridiction['JURISDICTION_CODE'] )\n",
        "jusridiction['JURISDICTION_CODE'] = jusridiction['JURISDICTION_CODE'].astype(int)\n",
        "jusridiction = jusridiction.set_index(\"JURISDICTION_CODE\")\n",
        "jusridiction = jusridiction.sort_index()\n",
        "jusridiction = jusridiction.reset_index()\n",
        "jusridiction"
      ],
      "execution_count": 91,
      "outputs": [
        {
          "output_type": "execute_result",
          "data": {
            "text/plain": [
              "    JURISDICTION_CODE                           JURIS_DESC\n",
              "0                   0                     N.Y. POLICE DEPT\n",
              "1                   1                  N.Y. TRANSIT POLICE\n",
              "2                   2                  N.Y. HOUSING POLICE\n",
              "3                   3                       PORT AUTHORITY\n",
              "4                   4                  TRI-BORO BRDG TUNNL\n",
              "5                   6                   LONG ISLAND RAILRD\n",
              "6                   7                              AMTRACK\n",
              "7                   8                              CONRAIL\n",
              "8                   9                 STATN IS RAPID TRANS\n",
              "9                  11                    N.Y. STATE POLICE\n",
              "10                 12                     N.Y. STATE PARKS\n",
              "11                 13                     U.S. PARK POLICE\n",
              "12                 14                   HEALTH & HOSP CORP\n",
              "13                 15                          METRO NORTH\n",
              "14                 16                 SEA GATE POLICE DEPT\n",
              "15                 69                      POLICE DEPT NYC\n",
              "16                 71             FIRE DEPT (FIRE MARSHAL)\n",
              "17                 72                  DEPT OF CORRECTIONS\n",
              "18                 73             DISTRICT ATTORNEY OFFICE\n",
              "19                 76    NYC DEPT ENVIRONMENTAL PROTECTION\n",
              "20                 79  NYS DEPT ENVIRONMENTAL CONSERVATION\n",
              "21                 85             NYS DEPT TAX AND FINANCE\n",
              "22                 87         NEW YORK CITY SHERIFF OFFICE\n",
              "23                 88                            NYC PARKS\n",
              "24                 97                                OTHER"
            ],
            "text/html": [
              "\n",
              "  <div id=\"df-31b39d6c-bf04-41a3-8b4b-57e13c007eb1\">\n",
              "    <div class=\"colab-df-container\">\n",
              "      <div>\n",
              "<style scoped>\n",
              "    .dataframe tbody tr th:only-of-type {\n",
              "        vertical-align: middle;\n",
              "    }\n",
              "\n",
              "    .dataframe tbody tr th {\n",
              "        vertical-align: top;\n",
              "    }\n",
              "\n",
              "    .dataframe thead th {\n",
              "        text-align: right;\n",
              "    }\n",
              "</style>\n",
              "<table border=\"1\" class=\"dataframe\">\n",
              "  <thead>\n",
              "    <tr style=\"text-align: right;\">\n",
              "      <th></th>\n",
              "      <th>JURISDICTION_CODE</th>\n",
              "      <th>JURIS_DESC</th>\n",
              "    </tr>\n",
              "  </thead>\n",
              "  <tbody>\n",
              "    <tr>\n",
              "      <th>0</th>\n",
              "      <td>0</td>\n",
              "      <td>N.Y. POLICE DEPT</td>\n",
              "    </tr>\n",
              "    <tr>\n",
              "      <th>1</th>\n",
              "      <td>1</td>\n",
              "      <td>N.Y. TRANSIT POLICE</td>\n",
              "    </tr>\n",
              "    <tr>\n",
              "      <th>2</th>\n",
              "      <td>2</td>\n",
              "      <td>N.Y. HOUSING POLICE</td>\n",
              "    </tr>\n",
              "    <tr>\n",
              "      <th>3</th>\n",
              "      <td>3</td>\n",
              "      <td>PORT AUTHORITY</td>\n",
              "    </tr>\n",
              "    <tr>\n",
              "      <th>4</th>\n",
              "      <td>4</td>\n",
              "      <td>TRI-BORO BRDG TUNNL</td>\n",
              "    </tr>\n",
              "    <tr>\n",
              "      <th>5</th>\n",
              "      <td>6</td>\n",
              "      <td>LONG ISLAND RAILRD</td>\n",
              "    </tr>\n",
              "    <tr>\n",
              "      <th>6</th>\n",
              "      <td>7</td>\n",
              "      <td>AMTRACK</td>\n",
              "    </tr>\n",
              "    <tr>\n",
              "      <th>7</th>\n",
              "      <td>8</td>\n",
              "      <td>CONRAIL</td>\n",
              "    </tr>\n",
              "    <tr>\n",
              "      <th>8</th>\n",
              "      <td>9</td>\n",
              "      <td>STATN IS RAPID TRANS</td>\n",
              "    </tr>\n",
              "    <tr>\n",
              "      <th>9</th>\n",
              "      <td>11</td>\n",
              "      <td>N.Y. STATE POLICE</td>\n",
              "    </tr>\n",
              "    <tr>\n",
              "      <th>10</th>\n",
              "      <td>12</td>\n",
              "      <td>N.Y. STATE PARKS</td>\n",
              "    </tr>\n",
              "    <tr>\n",
              "      <th>11</th>\n",
              "      <td>13</td>\n",
              "      <td>U.S. PARK POLICE</td>\n",
              "    </tr>\n",
              "    <tr>\n",
              "      <th>12</th>\n",
              "      <td>14</td>\n",
              "      <td>HEALTH &amp; HOSP CORP</td>\n",
              "    </tr>\n",
              "    <tr>\n",
              "      <th>13</th>\n",
              "      <td>15</td>\n",
              "      <td>METRO NORTH</td>\n",
              "    </tr>\n",
              "    <tr>\n",
              "      <th>14</th>\n",
              "      <td>16</td>\n",
              "      <td>SEA GATE POLICE DEPT</td>\n",
              "    </tr>\n",
              "    <tr>\n",
              "      <th>15</th>\n",
              "      <td>69</td>\n",
              "      <td>POLICE DEPT NYC</td>\n",
              "    </tr>\n",
              "    <tr>\n",
              "      <th>16</th>\n",
              "      <td>71</td>\n",
              "      <td>FIRE DEPT (FIRE MARSHAL)</td>\n",
              "    </tr>\n",
              "    <tr>\n",
              "      <th>17</th>\n",
              "      <td>72</td>\n",
              "      <td>DEPT OF CORRECTIONS</td>\n",
              "    </tr>\n",
              "    <tr>\n",
              "      <th>18</th>\n",
              "      <td>73</td>\n",
              "      <td>DISTRICT ATTORNEY OFFICE</td>\n",
              "    </tr>\n",
              "    <tr>\n",
              "      <th>19</th>\n",
              "      <td>76</td>\n",
              "      <td>NYC DEPT ENVIRONMENTAL PROTECTION</td>\n",
              "    </tr>\n",
              "    <tr>\n",
              "      <th>20</th>\n",
              "      <td>79</td>\n",
              "      <td>NYS DEPT ENVIRONMENTAL CONSERVATION</td>\n",
              "    </tr>\n",
              "    <tr>\n",
              "      <th>21</th>\n",
              "      <td>85</td>\n",
              "      <td>NYS DEPT TAX AND FINANCE</td>\n",
              "    </tr>\n",
              "    <tr>\n",
              "      <th>22</th>\n",
              "      <td>87</td>\n",
              "      <td>NEW YORK CITY SHERIFF OFFICE</td>\n",
              "    </tr>\n",
              "    <tr>\n",
              "      <th>23</th>\n",
              "      <td>88</td>\n",
              "      <td>NYC PARKS</td>\n",
              "    </tr>\n",
              "    <tr>\n",
              "      <th>24</th>\n",
              "      <td>97</td>\n",
              "      <td>OTHER</td>\n",
              "    </tr>\n",
              "  </tbody>\n",
              "</table>\n",
              "</div>\n",
              "      <button class=\"colab-df-convert\" onclick=\"convertToInteractive('df-31b39d6c-bf04-41a3-8b4b-57e13c007eb1')\"\n",
              "              title=\"Convert this dataframe to an interactive table.\"\n",
              "              style=\"display:none;\">\n",
              "        \n",
              "  <svg xmlns=\"http://www.w3.org/2000/svg\" height=\"24px\"viewBox=\"0 0 24 24\"\n",
              "       width=\"24px\">\n",
              "    <path d=\"M0 0h24v24H0V0z\" fill=\"none\"/>\n",
              "    <path d=\"M18.56 5.44l.94 2.06.94-2.06 2.06-.94-2.06-.94-.94-2.06-.94 2.06-2.06.94zm-11 1L8.5 8.5l.94-2.06 2.06-.94-2.06-.94L8.5 2.5l-.94 2.06-2.06.94zm10 10l.94 2.06.94-2.06 2.06-.94-2.06-.94-.94-2.06-.94 2.06-2.06.94z\"/><path d=\"M17.41 7.96l-1.37-1.37c-.4-.4-.92-.59-1.43-.59-.52 0-1.04.2-1.43.59L10.3 9.45l-7.72 7.72c-.78.78-.78 2.05 0 2.83L4 21.41c.39.39.9.59 1.41.59.51 0 1.02-.2 1.41-.59l7.78-7.78 2.81-2.81c.8-.78.8-2.07 0-2.86zM5.41 20L4 18.59l7.72-7.72 1.47 1.35L5.41 20z\"/>\n",
              "  </svg>\n",
              "      </button>\n",
              "      \n",
              "  <style>\n",
              "    .colab-df-container {\n",
              "      display:flex;\n",
              "      flex-wrap:wrap;\n",
              "      gap: 12px;\n",
              "    }\n",
              "\n",
              "    .colab-df-convert {\n",
              "      background-color: #E8F0FE;\n",
              "      border: none;\n",
              "      border-radius: 50%;\n",
              "      cursor: pointer;\n",
              "      display: none;\n",
              "      fill: #1967D2;\n",
              "      height: 32px;\n",
              "      padding: 0 0 0 0;\n",
              "      width: 32px;\n",
              "    }\n",
              "\n",
              "    .colab-df-convert:hover {\n",
              "      background-color: #E2EBFA;\n",
              "      box-shadow: 0px 1px 2px rgba(60, 64, 67, 0.3), 0px 1px 3px 1px rgba(60, 64, 67, 0.15);\n",
              "      fill: #174EA6;\n",
              "    }\n",
              "\n",
              "    [theme=dark] .colab-df-convert {\n",
              "      background-color: #3B4455;\n",
              "      fill: #D2E3FC;\n",
              "    }\n",
              "\n",
              "    [theme=dark] .colab-df-convert:hover {\n",
              "      background-color: #434B5C;\n",
              "      box-shadow: 0px 1px 3px 1px rgba(0, 0, 0, 0.15);\n",
              "      filter: drop-shadow(0px 1px 2px rgba(0, 0, 0, 0.3));\n",
              "      fill: #FFFFFF;\n",
              "    }\n",
              "  </style>\n",
              "\n",
              "      <script>\n",
              "        const buttonEl =\n",
              "          document.querySelector('#df-31b39d6c-bf04-41a3-8b4b-57e13c007eb1 button.colab-df-convert');\n",
              "        buttonEl.style.display =\n",
              "          google.colab.kernel.accessAllowed ? 'block' : 'none';\n",
              "\n",
              "        async function convertToInteractive(key) {\n",
              "          const element = document.querySelector('#df-31b39d6c-bf04-41a3-8b4b-57e13c007eb1');\n",
              "          const dataTable =\n",
              "            await google.colab.kernel.invokeFunction('convertToInteractive',\n",
              "                                                     [key], {});\n",
              "          if (!dataTable) return;\n",
              "\n",
              "          const docLinkHtml = 'Like what you see? Visit the ' +\n",
              "            '<a target=\"_blank\" href=https://colab.research.google.com/notebooks/data_table.ipynb>data table notebook</a>'\n",
              "            + ' to learn more about interactive tables.';\n",
              "          element.innerHTML = '';\n",
              "          dataTable['output_type'] = 'display_data';\n",
              "          await google.colab.output.renderOutput(dataTable, element);\n",
              "          const docLink = document.createElement('div');\n",
              "          docLink.innerHTML = docLinkHtml;\n",
              "          element.appendChild(docLink);\n",
              "        }\n",
              "      </script>\n",
              "    </div>\n",
              "  </div>\n",
              "  "
            ]
          },
          "metadata": {},
          "execution_count": 91
        }
      ]
    },
    {
      "cell_type": "code",
      "metadata": {
        "id": "j1LMjSO4JzqC"
      },
      "source": [
        "df.JURISDICTION_CODE = pd.Categorical(df.JURISDICTION_CODE)\n"
      ],
      "execution_count": 92,
      "outputs": []
    },
    {
      "cell_type": "code",
      "metadata": {
        "id": "7ZKEI7n2KP91"
      },
      "source": [
        "df = df.drop('JURIS_DESC', axis='columns')"
      ],
      "execution_count": 93,
      "outputs": []
    },
    {
      "cell_type": "markdown",
      "metadata": {
        "id": "lo9tm9godHgO"
      },
      "source": [
        "###  13  BORO_NM            object"
      ]
    },
    {
      "cell_type": "code",
      "metadata": {
        "id": "ENjhOe0dKmoY",
        "colab": {
          "base_uri": "https://localhost:8080/"
        },
        "outputId": "1b870f69-f768-4a22-d706-fe6aa876219e"
      },
      "source": [
        "df.BORO_NM.value_counts()"
      ],
      "execution_count": 94,
      "outputs": [
        {
          "output_type": "execute_result",
          "data": {
            "text/plain": [
              "BROOKLYN         2310601\n",
              "MANHATTAN        1880269\n",
              "BRONX            1692104\n",
              "QUEENS           1559868\n",
              "STATEN ISLAND     361563\n",
              "Name: BORO_NM, dtype: int64"
            ]
          },
          "metadata": {},
          "execution_count": 94
        }
      ]
    },
    {
      "cell_type": "code",
      "metadata": {
        "id": "1k5gkaPcKyc3",
        "colab": {
          "base_uri": "https://localhost:8080/"
        },
        "outputId": "acac16f4-9172-4745-e8a1-9c7c79c5a693"
      },
      "source": [
        "df.BORO_NM.isnull().sum()"
      ],
      "execution_count": 95,
      "outputs": [
        {
          "output_type": "execute_result",
          "data": {
            "text/plain": [
              "12468"
            ]
          },
          "metadata": {},
          "execution_count": 95
        }
      ]
    },
    {
      "cell_type": "code",
      "metadata": {
        "id": "QycD04zYKsYv"
      },
      "source": [
        "# df = df[~df.BORO_NM.isnull()]"
      ],
      "execution_count": 96,
      "outputs": []
    },
    {
      "cell_type": "code",
      "metadata": {
        "id": "BOy4IDT-Kmqx"
      },
      "source": [
        "df.BORO_NM = pd.Categorical(df.BORO_NM)"
      ],
      "execution_count": 97,
      "outputs": []
    },
    {
      "cell_type": "markdown",
      "metadata": {
        "id": "dYetoWeydJBI"
      },
      "source": [
        "### 23  SUSP_AGE_GROUP     object\n",
        "### 32  VIC_AGE_GROUP      object"
      ]
    },
    {
      "cell_type": "code",
      "metadata": {
        "id": "uB6ZXLgxN9mv"
      },
      "source": [
        "# Both columns have a lot of noisy entries. We keep only the dominant groups, and also define an order\n",
        "df.SUSP_AGE_GROUP = pd.Categorical(df.SUSP_AGE_GROUP, ordered=True, categories=['<18', '18-24',  '25-44', '45-64', '65+'])\n",
        "df.VIC_AGE_GROUP = pd.Categorical(df.VIC_AGE_GROUP, ordered=True, categories=['<18', '18-24',  '25-44', '45-64', '65+'])"
      ],
      "execution_count": 98,
      "outputs": []
    },
    {
      "cell_type": "markdown",
      "metadata": {
        "id": "dzbRUBNidLui"
      },
      "source": [
        "\n",
        "### 24  SUSP_RACE          object\n",
        "### 25  SUSP_SEX           object\n",
        "\n",
        "### 33  VIC_RACE           object\n",
        "### 34  VIC_SEX            object"
      ]
    },
    {
      "cell_type": "code",
      "metadata": {
        "id": "AbvNhUSHLWyX",
        "colab": {
          "base_uri": "https://localhost:8080/"
        },
        "outputId": "163cbd1e-24e2-48fd-e725-39a25d3b9dd1"
      },
      "source": [
        "df.VIC_SEX.isnull().sum()"
      ],
      "execution_count": 99,
      "outputs": [
        {
          "output_type": "execute_result",
          "data": {
            "text/plain": [
              "308"
            ]
          },
          "metadata": {},
          "execution_count": 99
        }
      ]
    },
    {
      "cell_type": "code",
      "metadata": {
        "id": "90z-XtBmL7Y_",
        "colab": {
          "base_uri": "https://localhost:8080/"
        },
        "outputId": "819b6283-6c2a-489e-f44b-083f208a8be8"
      },
      "source": [
        "df.VIC_SEX.value_counts()"
      ],
      "execution_count": 100,
      "outputs": [
        {
          "output_type": "execute_result",
          "data": {
            "text/plain": [
              "F    3064853\n",
              "M    2590144\n",
              "E    1187478\n",
              "D     974086\n",
              "U          4\n",
              "Name: VIC_SEX, dtype: int64"
            ]
          },
          "metadata": {},
          "execution_count": 100
        }
      ]
    },
    {
      "cell_type": "code",
      "metadata": {
        "id": "f90mE8bAMCbq"
      },
      "source": [
        "# df = df[~df.VIC_SEX.isnull()]\n",
        "\n",
        "df.VIC_SEX.replace(to_replace = 'U', value=np.nan, inplace = True)"
      ],
      "execution_count": 101,
      "outputs": []
    },
    {
      "cell_type": "code",
      "metadata": {
        "id": "A6-wR3QDLW1k",
        "colab": {
          "base_uri": "https://localhost:8080/"
        },
        "outputId": "4d4825f1-9247-4dd5-fbcd-f78a2119c498"
      },
      "source": [
        "df.VIC_RACE.isnull().sum()"
      ],
      "execution_count": 102,
      "outputs": [
        {
          "output_type": "execute_result",
          "data": {
            "text/plain": [
              "388"
            ]
          },
          "metadata": {},
          "execution_count": 102
        }
      ]
    },
    {
      "cell_type": "code",
      "metadata": {
        "id": "646VVWqpLv3m",
        "colab": {
          "base_uri": "https://localhost:8080/"
        },
        "outputId": "9b0995c6-63bc-4a54-bc16-7a8c1c9119f3"
      },
      "source": [
        "df.VIC_RACE.value_counts()"
      ],
      "execution_count": 103,
      "outputs": [
        {
          "output_type": "execute_result",
          "data": {
            "text/plain": [
              "UNKNOWN                           2556088\n",
              "BLACK                             1886404\n",
              "WHITE                             1333985\n",
              "WHITE HISPANIC                    1271732\n",
              "ASIAN / PACIFIC ISLANDER           463619\n",
              "BLACK HISPANIC                     269739\n",
              "AMERICAN INDIAN/ALASKAN NATIVE      34887\n",
              "OTHER                                  31\n",
              "Name: VIC_RACE, dtype: int64"
            ]
          },
          "metadata": {},
          "execution_count": 103
        }
      ]
    },
    {
      "cell_type": "code",
      "metadata": {
        "id": "U-JOiwNLNnwA"
      },
      "source": [
        "df.VIC_RACE.replace(to_replace = 'OTHER', value='UNKNOWN', inplace = True)"
      ],
      "execution_count": 104,
      "outputs": []
    },
    {
      "cell_type": "code",
      "metadata": {
        "id": "CIc279r6LzH2"
      },
      "source": [
        "# df = df[~df.VIC_RACE.isnull()]"
      ],
      "execution_count": 105,
      "outputs": []
    },
    {
      "cell_type": "code",
      "metadata": {
        "id": "sXZiVydvLW7B",
        "colab": {
          "base_uri": "https://localhost:8080/"
        },
        "outputId": "cd83a744-1642-4ae0-b135-e26d3e19fff6"
      },
      "source": [
        "df.SUSP_SEX.value_counts()"
      ],
      "execution_count": 106,
      "outputs": [
        {
          "output_type": "execute_result",
          "data": {
            "text/plain": [
              "M    2600924\n",
              "F     812467\n",
              "U     758148\n",
              "Name: SUSP_SEX, dtype: int64"
            ]
          },
          "metadata": {},
          "execution_count": 106
        }
      ]
    },
    {
      "cell_type": "code",
      "metadata": {
        "id": "uqOaUJwGOY8A"
      },
      "source": [
        "# U is unknown, same is NULL.\n",
        "df.SUSP_SEX.replace(to_replace = 'U', value=np.nan, inplace = True)"
      ],
      "execution_count": 107,
      "outputs": []
    },
    {
      "cell_type": "code",
      "metadata": {
        "id": "GT09OkMvLf0s",
        "colab": {
          "base_uri": "https://localhost:8080/"
        },
        "outputId": "7eeccdcb-1656-4815-fef6-6df1c6a11fae"
      },
      "source": [
        "df.SUSP_RACE.value_counts()"
      ],
      "execution_count": 108,
      "outputs": [
        {
          "output_type": "execute_result",
          "data": {
            "text/plain": [
              "BLACK                             1600635\n",
              "UNKNOWN                           1143340\n",
              "WHITE HISPANIC                     724965\n",
              "WHITE                              462776\n",
              "BLACK HISPANIC                     221115\n",
              "ASIAN / PACIFIC ISLANDER           139321\n",
              "AMERICAN INDIAN/ALASKAN NATIVE      12637\n",
              "OTHER                                  11\n",
              "Name: SUSP_RACE, dtype: int64"
            ]
          },
          "metadata": {},
          "execution_count": 108
        }
      ]
    },
    {
      "cell_type": "code",
      "metadata": {
        "id": "uNrpuX5cO2jD"
      },
      "source": [
        "# Very small amount of OTHER values\n",
        "df.SUSP_RACE.replace(to_replace = 'OTHER', value='UNKNOWN', inplace = True)\n",
        "\n"
      ],
      "execution_count": 109,
      "outputs": []
    },
    {
      "cell_type": "code",
      "metadata": {
        "id": "cnsudHdiminz"
      },
      "source": [
        "df.SUSP_RACE = pd.Categorical(df.SUSP_RACE)\n",
        "df.SUSP_SEX = pd.Categorical(df.SUSP_SEX)\n",
        "df.VIC_RACE = pd.Categorical(df.VIC_RACE)\n",
        "df.VIC_SEX = pd.Categorical(df.VIC_SEX)"
      ],
      "execution_count": 110,
      "outputs": []
    },
    {
      "cell_type": "code",
      "metadata": {
        "id": "QHtE9IhgmM4r",
        "colab": {
          "base_uri": "https://localhost:8080/"
        },
        "outputId": "88905c03-bfdb-4f9f-f662-ce64620106b2"
      },
      "source": [
        "df.dtypes"
      ],
      "execution_count": 111,
      "outputs": [
        {
          "output_type": "execute_result",
          "data": {
            "text/plain": [
              "CMPLNT_NUM                    int32\n",
              "ADDR_PCT_CD                category\n",
              "RPT_DT               datetime64[ns]\n",
              "KY_CD                      category\n",
              "PD_CD                      category\n",
              "CRM_ATPT_CPTD_CD           category\n",
              "LAW_CAT_CD                 category\n",
              "BORO_NM                    category\n",
              "LOC_OF_OCCUR_DESC            object\n",
              "PREM_TYP_DESC                object\n",
              "JURISDICTION_CODE          category\n",
              "PARKS_NM                     object\n",
              "HADEVELOPT                   object\n",
              "HOUSING_PSA                  object\n",
              "SUSP_AGE_GROUP             category\n",
              "SUSP_RACE                  category\n",
              "SUSP_SEX                   category\n",
              "TRANSIT_DISTRICT             object\n",
              "Latitude                     object\n",
              "Longitude                    object\n",
              "PATROL_BORO                  object\n",
              "STATION_NAME                 object\n",
              "VIC_AGE_GROUP              category\n",
              "VIC_RACE                   category\n",
              "VIC_SEX                    category\n",
              "CMPLNT_FR            datetime64[ns]\n",
              "CMPLNT_TO            datetime64[ns]\n",
              "dtype: object"
            ]
          },
          "metadata": {},
          "execution_count": 111
        }
      ]
    },
    {
      "cell_type": "code",
      "metadata": {
        "id": "oefs7ULfLq_3"
      },
      "source": [
        ""
      ],
      "execution_count": 111,
      "outputs": []
    },
    {
      "cell_type": "markdown",
      "metadata": {
        "id": "hwqg7JDimsZL"
      },
      "source": [
        "###  14  LOC_OF_OCCUR_DESC  object"
      ]
    },
    {
      "cell_type": "code",
      "metadata": {
        "id": "FjndFTaaLrCz",
        "colab": {
          "base_uri": "https://localhost:8080/"
        },
        "outputId": "32ad3101-7bed-4988-c56e-d20c1e21f674"
      },
      "source": [
        "df.LOC_OF_OCCUR_DESC.value_counts()"
      ],
      "execution_count": 112,
      "outputs": [
        {
          "output_type": "execute_result",
          "data": {
            "text/plain": [
              "INSIDE         3984710\n",
              "FRONT OF       1841828\n",
              "OPPOSITE OF     204732\n",
              "REAR OF         164986\n",
              "OUTSIDE           4156\n",
              "Name: LOC_OF_OCCUR_DESC, dtype: int64"
            ]
          },
          "metadata": {},
          "execution_count": 112
        }
      ]
    },
    {
      "cell_type": "code",
      "metadata": {
        "id": "uwyM4dbHUNZ4",
        "colab": {
          "base_uri": "https://localhost:8080/"
        },
        "outputId": "b182703e-9383-4d91-8962-2b4366cba6da"
      },
      "source": [
        "df.LOC_OF_OCCUR_DESC.isnull().sum()"
      ],
      "execution_count": 113,
      "outputs": [
        {
          "output_type": "execute_result",
          "data": {
            "text/plain": [
              "1616461"
            ]
          },
          "metadata": {},
          "execution_count": 113
        }
      ]
    },
    {
      "cell_type": "code",
      "metadata": {
        "id": "BYD6exvDURk0"
      },
      "source": [
        "df.LOC_OF_OCCUR_DESC = pd.Categorical(df.LOC_OF_OCCUR_DESC)"
      ],
      "execution_count": 114,
      "outputs": []
    },
    {
      "cell_type": "markdown",
      "metadata": {
        "id": "aXmyNo52mz3j"
      },
      "source": [
        "### Latitude                     object\n",
        "### Longitude                    object"
      ]
    },
    {
      "cell_type": "code",
      "source": [
        "# !sudo apt-get update\n",
        "!sudo apt-get install python3-rtree\n",
        "!sudo pip3 install geopandas descartes shapely ngram # matplotlib==3.1.3"
      ],
      "metadata": {
        "colab": {
          "base_uri": "https://localhost:8080/"
        },
        "id": "ZafKlm4KCB9C",
        "outputId": "42fe70ed-6f1c-45e6-9380-230b726e3327"
      },
      "execution_count": 115,
      "outputs": [
        {
          "output_type": "stream",
          "name": "stdout",
          "text": [
            "Reading package lists... Done\n",
            "Building dependency tree       \n",
            "Reading state information... Done\n",
            "python3-rtree is already the newest version (0.8.3+ds-1).\n",
            "The following package was automatically installed and is no longer required:\n",
            "  libnvidia-common-460\n",
            "Use 'sudo apt autoremove' to remove it.\n",
            "0 upgraded, 0 newly installed, 0 to remove and 49 not upgraded.\n",
            "Looking in indexes: https://pypi.org/simple, https://us-python.pkg.dev/colab-wheels/public/simple/\n",
            "Requirement already satisfied: geopandas in /usr/local/lib/python3.7/dist-packages (0.10.2)\n",
            "Requirement already satisfied: descartes in /usr/local/lib/python3.7/dist-packages (1.1.0)\n",
            "Requirement already satisfied: shapely in /usr/local/lib/python3.7/dist-packages (1.8.2)\n",
            "Requirement already satisfied: ngram in /usr/local/lib/python3.7/dist-packages (4.0.3)\n",
            "Requirement already satisfied: fiona>=1.8 in /usr/local/lib/python3.7/dist-packages (from geopandas) (1.8.21)\n",
            "Requirement already satisfied: pyproj>=2.2.0 in /usr/local/lib/python3.7/dist-packages (from geopandas) (3.2.1)\n",
            "Requirement already satisfied: pandas>=0.25.0 in /usr/local/lib/python3.7/dist-packages (from geopandas) (1.3.5)\n",
            "Requirement already satisfied: munch in /usr/local/lib/python3.7/dist-packages (from fiona>=1.8->geopandas) (2.5.0)\n",
            "Requirement already satisfied: cligj>=0.5 in /usr/local/lib/python3.7/dist-packages (from fiona>=1.8->geopandas) (0.7.2)\n",
            "Requirement already satisfied: click-plugins>=1.0 in /usr/local/lib/python3.7/dist-packages (from fiona>=1.8->geopandas) (1.1.1)\n",
            "Requirement already satisfied: six>=1.7 in /usr/local/lib/python3.7/dist-packages (from fiona>=1.8->geopandas) (1.15.0)\n",
            "Requirement already satisfied: click>=4.0 in /usr/local/lib/python3.7/dist-packages (from fiona>=1.8->geopandas) (7.1.2)\n",
            "Requirement already satisfied: attrs>=17 in /usr/local/lib/python3.7/dist-packages (from fiona>=1.8->geopandas) (21.4.0)\n",
            "Requirement already satisfied: certifi in /usr/local/lib/python3.7/dist-packages (from fiona>=1.8->geopandas) (2022.6.15)\n",
            "Requirement already satisfied: setuptools in /usr/local/lib/python3.7/dist-packages (from fiona>=1.8->geopandas) (57.4.0)\n",
            "Requirement already satisfied: pytz>=2017.3 in /usr/local/lib/python3.7/dist-packages (from pandas>=0.25.0->geopandas) (2022.1)\n",
            "Requirement already satisfied: python-dateutil>=2.7.3 in /usr/local/lib/python3.7/dist-packages (from pandas>=0.25.0->geopandas) (2.8.2)\n",
            "Requirement already satisfied: numpy>=1.17.3 in /usr/local/lib/python3.7/dist-packages (from pandas>=0.25.0->geopandas) (1.21.6)\n",
            "Requirement already satisfied: matplotlib in /usr/local/lib/python3.7/dist-packages (from descartes) (3.2.2)\n",
            "Requirement already satisfied: pyparsing!=2.0.4,!=2.1.2,!=2.1.6,>=2.0.1 in /usr/local/lib/python3.7/dist-packages (from matplotlib->descartes) (3.0.9)\n",
            "Requirement already satisfied: cycler>=0.10 in /usr/local/lib/python3.7/dist-packages (from matplotlib->descartes) (0.11.0)\n",
            "Requirement already satisfied: kiwisolver>=1.0.1 in /usr/local/lib/python3.7/dist-packages (from matplotlib->descartes) (1.4.3)\n",
            "Requirement already satisfied: typing-extensions in /usr/local/lib/python3.7/dist-packages (from kiwisolver>=1.0.1->matplotlib->descartes) (4.1.1)\n"
          ]
        }
      ]
    },
    {
      "cell_type": "code",
      "source": [
        "import geopandas as gpd"
      ],
      "metadata": {
        "id": "90qOQIXADsB3"
      },
      "execution_count": 118,
      "outputs": []
    },
    {
      "cell_type": "code",
      "metadata": {
        "id": "U9no8KCH5mm9"
      },
      "source": [
        "df.Latitude = pd.to_numeric(df.Latitude, downcast='float')\n",
        "df.Longitude  = pd.to_numeric(df.Longitude, downcast='float')"
      ],
      "execution_count": 116,
      "outputs": []
    },
    {
      "cell_type": "code",
      "source": [
        "%%time\n",
        "gdf = gpd.GeoDataFrame(df, geometry=gpd.points_from_xy(df.Longitude, df.Latitude))"
      ],
      "metadata": {
        "id": "7VohK2IPCKI5"
      },
      "execution_count": 119,
      "outputs": []
    },
    {
      "cell_type": "code",
      "source": [
        "shapefile_url = 'https://data.cityofnewyork.us/api/geospatial/cpf4-rkhq?method=export&format=Shapefile'\n",
        "df_nyc = gpd.GeoDataFrame.from_file(shapefile_url)"
      ],
      "metadata": {
        "id": "IpqfpFphCOoz"
      },
      "execution_count": 120,
      "outputs": []
    },
    {
      "cell_type": "code",
      "source": [
        "%%time\n",
        "# Match each accident with a neighborhood. \n",
        "# Will take ~30 mins to run\n",
        "# This is done with left join, \n",
        "# so we preserve all the data points\n",
        "# but we know which ones are not matching with the shapefile\n",
        "gdf.crs = df_nyc.crs\n",
        "gdf = gpd.sjoin(gdf, df_nyc, how='left')\n"
      ],
      "metadata": {
        "colab": {
          "base_uri": "https://localhost:8080/"
        },
        "id": "1bW8Y3pVCRQZ",
        "outputId": "9d2d0460-7d9e-47f1-8069-70f2f54ed5e6"
      },
      "execution_count": 121,
      "outputs": [
        {
          "metadata": {
            "tags": null
          },
          "name": "stdout",
          "output_type": "stream",
          "text": [
            "CPU times: user 14min 22s, sys: 6.81 s, total: 14min 29s\n",
            "Wall time: 14min 29s\n"
          ]
        }
      ]
    },
    {
      "cell_type": "code",
      "source": [
        "# We keep only boro_name and ntaname\n",
        "todrop = [\n",
        "    'index_right', 'boro_code', 'county_fip', \n",
        "    'shape_area', 'shape_leng'\n",
        "]\n",
        "\n",
        "gdf = gdf.drop(todrop, axis='columns')\n",
        "\n",
        "# Rename the columns\n",
        "gdf = gdf.rename({\n",
        "    'boro_name': 'GEO_BOROUGH',\n",
        "    'ntaname': 'GEO_NEIGHBORHOOD',\n",
        "    'ntacode': 'GEO_NEIGHBORHOOD_CODE',\n",
        "}, axis='columns')"
      ],
      "metadata": {
        "id": "CCqWvpbaGu4D"
      },
      "execution_count": 122,
      "outputs": []
    },
    {
      "cell_type": "code",
      "source": [
        "# Mark as NULL all the lon/lat entries outside the NYC area\n",
        "gdf.loc[gdf.GEO_BOROUGH.isnull(), 'LATITUDE'] = None\n",
        "gdf.loc[gdf.GEO_BOROUGH.isnull(), 'LONGITUDE'] = None"
      ],
      "metadata": {
        "id": "knIKqyP0HMcO"
      },
      "execution_count": 123,
      "outputs": []
    },
    {
      "cell_type": "code",
      "source": [
        "gdf.loc[gdf.GEO_BOROUGH.isnull(), 'LATITUDE']"
      ],
      "metadata": {
        "id": "yhjPF3b4LbTE",
        "outputId": "ca5a9a6b-fcbe-4672-ed66-744bdc88549a",
        "colab": {
          "base_uri": "https://localhost:8080/"
        }
      },
      "execution_count": 164,
      "outputs": [
        {
          "output_type": "execute_result",
          "data": {
            "text/plain": [
              "31        NaN\n",
              "60        NaN\n",
              "94        NaN\n",
              "118       NaN\n",
              "156       NaN\n",
              "           ..\n",
              "7802578   NaN\n",
              "7808474   NaN\n",
              "7810148   NaN\n",
              "7819043   NaN\n",
              "7820802   NaN\n",
              "Name: LATITUDE, Length: 18034, dtype: float64"
            ]
          },
          "metadata": {},
          "execution_count": 164
        }
      ]
    },
    {
      "cell_type": "code",
      "source": [
        "gdf = gdf.drop('geometry', axis='columns')"
      ],
      "metadata": {
        "id": "jyXCFeDFKp4m"
      },
      "execution_count": 125,
      "outputs": []
    },
    {
      "cell_type": "code",
      "source": [
        "df = pd.DataFrame(gdf)"
      ],
      "metadata": {
        "id": "qrUNPxJlKzVa"
      },
      "execution_count": 126,
      "outputs": []
    },
    {
      "cell_type": "code",
      "source": [
        "#Temporarily, we drop these. We will add them back in the future\n",
        "df.drop(['GEO_BOROUGH','GEO_NEIGHBORHOOD','GEO_NEIGHBORHOOD_CODE'], axis='columns', inplace=True)"
      ],
      "metadata": {
        "id": "c1jv6wFrK6IH"
      },
      "execution_count": 130,
      "outputs": []
    },
    {
      "cell_type": "markdown",
      "metadata": {
        "id": "SxPNYJESnn68"
      },
      "source": [
        "### TRANSIT_DISTRICT"
      ]
    },
    {
      "cell_type": "code",
      "metadata": {
        "id": "6Ctiw97bJqLO",
        "colab": {
          "base_uri": "https://localhost:8080/"
        },
        "outputId": "58101c06-e685-45da-89b3-61ac8da80fd0"
      },
      "source": [
        "df.TRANSIT_DISTRICT.value_counts()\n"
      ],
      "execution_count": 127,
      "outputs": [
        {
          "output_type": "execute_result",
          "data": {
            "text/plain": [
              "4     28870\n",
              "2     21342\n",
              "1     16853\n",
              "3     16702\n",
              "20    15351\n",
              "33    15095\n",
              "12    12937\n",
              "11    12068\n",
              "32    11637\n",
              "30    11070\n",
              "34     7543\n",
              "23     2829\n",
              "Name: TRANSIT_DISTRICT, dtype: int64"
            ]
          },
          "metadata": {},
          "execution_count": 127
        }
      ]
    },
    {
      "cell_type": "code",
      "metadata": {
        "id": "emgAO7T_nVqt",
        "colab": {
          "base_uri": "https://localhost:8080/"
        },
        "outputId": "27885a36-58bf-47af-8a2d-0a968d69f873"
      },
      "source": [
        "len(df) - df.TRANSIT_DISTRICT.isnull().sum()"
      ],
      "execution_count": 128,
      "outputs": [
        {
          "output_type": "execute_result",
          "data": {
            "text/plain": [
              "172297"
            ]
          },
          "metadata": {},
          "execution_count": 128
        }
      ]
    },
    {
      "cell_type": "code",
      "metadata": {
        "id": "9EPb-B-dnPQs"
      },
      "source": [
        "df.drop('TRANSIT_DISTRICT', axis='columns', inplace=True)\n"
      ],
      "execution_count": 129,
      "outputs": []
    },
    {
      "cell_type": "code",
      "metadata": {
        "id": "9lVv1_Bgn27Z"
      },
      "source": [
        ""
      ],
      "execution_count": null,
      "outputs": []
    },
    {
      "cell_type": "markdown",
      "metadata": {
        "id": "H7KUUobwoXxV"
      },
      "source": [
        "### PREM_TYP_DESC"
      ]
    },
    {
      "cell_type": "code",
      "metadata": {
        "id": "rq9toKCIn2-T",
        "colab": {
          "base_uri": "https://localhost:8080/"
        },
        "outputId": "c69ca266-9a30-4e90-f111-574ae4917cda"
      },
      "source": [
        "df.PREM_TYP_DESC.value_counts()"
      ],
      "execution_count": 131,
      "outputs": [
        {
          "output_type": "execute_result",
          "data": {
            "text/plain": [
              "STREET                        2477345\n",
              "RESIDENCE - APT. HOUSE        1671518\n",
              "RESIDENCE-HOUSE                771962\n",
              "RESIDENCE - PUBLIC HOUSING     585016\n",
              "OTHER                          208864\n",
              "                               ...   \n",
              "MAILBOX INSIDE                    889\n",
              "CEMETERY                          885\n",
              "LOAN COMPANY                      520\n",
              "TRAMWAY                           145\n",
              "DAYCARE FACILITY                   71\n",
              "Name: PREM_TYP_DESC, Length: 74, dtype: int64"
            ]
          },
          "metadata": {},
          "execution_count": 131
        }
      ]
    },
    {
      "cell_type": "code",
      "metadata": {
        "id": "OgVlI2Bkoacb",
        "colab": {
          "base_uri": "https://localhost:8080/"
        },
        "outputId": "6747ad4b-7924-4c06-8510-6a4a45f2ed6c"
      },
      "source": [
        "df.PREM_TYP_DESC.isnull().sum()"
      ],
      "execution_count": 132,
      "outputs": [
        {
          "output_type": "execute_result",
          "data": {
            "text/plain": [
              "41979"
            ]
          },
          "metadata": {},
          "execution_count": 132
        }
      ]
    },
    {
      "cell_type": "code",
      "metadata": {
        "id": "lDXJNcnmodu9"
      },
      "source": [
        "# df = df [~df.PREM_TYP_DESC.isnull()]"
      ],
      "execution_count": 133,
      "outputs": []
    },
    {
      "cell_type": "code",
      "metadata": {
        "id": "NJ30D6uLogxw"
      },
      "source": [
        "df.PREM_TYP_DESC = pd.Categorical(df.PREM_TYP_DESC)"
      ],
      "execution_count": 134,
      "outputs": []
    },
    {
      "cell_type": "code",
      "metadata": {
        "id": "RTVAo24bn6jc",
        "colab": {
          "base_uri": "https://localhost:8080/"
        },
        "outputId": "d995c860-1212-4d83-bca0-f4d9338ebdc9"
      },
      "source": [
        "df.PARKS_NM.value_counts()"
      ],
      "execution_count": 135,
      "outputs": [
        {
          "output_type": "execute_result",
          "data": {
            "text/plain": [
              "CENTRAL PARK                            1856\n",
              "FLUSHING MEADOWS CORONA PARK            1530\n",
              "CONEY ISLAND BEACH & BOARDWALK          1160\n",
              "WASHINGTON SQUARE PARK                  1061\n",
              "RIVERSIDE PARK                           680\n",
              "                                        ... \n",
              "GIVANS CREEK WOODS                         1\n",
              "UDALL'S PARK PRESERVE                      1\n",
              "O'SULLIVAN PLAZA                           1\n",
              "HANCOCK T AND T                            1\n",
              "UNNAMED PARK ON CLEARVIEW EXPRESSWAY       1\n",
              "Name: PARKS_NM, Length: 1233, dtype: int64"
            ]
          },
          "metadata": {},
          "execution_count": 135
        }
      ]
    },
    {
      "cell_type": "code",
      "metadata": {
        "id": "ww2KnUq3n6oV",
        "colab": {
          "base_uri": "https://localhost:8080/"
        },
        "outputId": "a282643c-7b15-4767-e202-7adc6106050f"
      },
      "source": [
        "df.PARKS_NM.value_counts().sum()"
      ],
      "execution_count": 136,
      "outputs": [
        {
          "output_type": "execute_result",
          "data": {
            "text/plain": [
              "30798"
            ]
          },
          "metadata": {},
          "execution_count": 136
        }
      ]
    },
    {
      "cell_type": "code",
      "metadata": {
        "id": "lHVCmdVjol2_"
      },
      "source": [
        "df.drop('PARKS_NM', axis='columns', inplace=True)\n"
      ],
      "execution_count": 137,
      "outputs": []
    },
    {
      "cell_type": "markdown",
      "metadata": {
        "id": "QYM6H0Cxoslu"
      },
      "source": [
        "\n",
        " 19  HADEVELOPT         object\n"
      ]
    },
    {
      "cell_type": "code",
      "metadata": {
        "id": "xAvDJEChowug",
        "colab": {
          "base_uri": "https://localhost:8080/"
        },
        "outputId": "6cbb712b-3089-4875-dbb1-925226317bbd"
      },
      "source": [
        "df.HADEVELOPT.value_counts()"
      ],
      "execution_count": 138,
      "outputs": [
        {
          "output_type": "execute_result",
          "data": {
            "text/plain": [
              "CASTLE HILL                 7546\n",
              "VAN DYKE I                  6104\n",
              "MARCY                       5595\n",
              "GRANT                       5293\n",
              "BUTLER                      5226\n",
              "                            ... \n",
              "JEFFERSON                      1\n",
              "344 EAST 28TH STREET           1\n",
              "BRONXCHESTER                   1\n",
              "FRANKLIN AVENUE III MHOP       1\n",
              "1010 EAST 178TH STREET         1\n",
              "Name: HADEVELOPT, Length: 279, dtype: int64"
            ]
          },
          "metadata": {},
          "execution_count": 138
        }
      ]
    },
    {
      "cell_type": "code",
      "metadata": {
        "id": "t_7EV6nUpPdR"
      },
      "source": [
        "df.drop('HADEVELOPT', axis='columns', inplace=True)\n"
      ],
      "execution_count": 139,
      "outputs": []
    },
    {
      "cell_type": "markdown",
      "metadata": {
        "id": "tdTW65d2ospC"
      },
      "source": [
        " 20  HOUSING_PSA        object\n",
        "\n"
      ]
    },
    {
      "cell_type": "code",
      "metadata": {
        "id": "jUY6bR2xoxHV",
        "colab": {
          "base_uri": "https://localhost:8080/"
        },
        "outputId": "8816c450-7253-425d-ade8-4701f55afe0b"
      },
      "source": [
        "df.HOUSING_PSA.value_counts()"
      ],
      "execution_count": 140,
      "outputs": [
        {
          "output_type": "execute_result",
          "data": {
            "text/plain": [
              "670      7781\n",
              "887      7690\n",
              "845      7060\n",
              "720      6850\n",
              "632      6644\n",
              "         ... \n",
              "33107       1\n",
              "17910       1\n",
              "2507        1\n",
              "2346        1\n",
              "8074        1\n",
              "Name: HOUSING_PSA, Length: 5110, dtype: int64"
            ]
          },
          "metadata": {},
          "execution_count": 140
        }
      ]
    },
    {
      "cell_type": "code",
      "metadata": {
        "id": "ltCXjSHFpVAx",
        "colab": {
          "base_uri": "https://localhost:8080/"
        },
        "outputId": "18cf78a0-da0c-452b-9d9c-e7524abfbad6"
      },
      "source": [
        "df.HOUSING_PSA.value_counts().sum()"
      ],
      "execution_count": 141,
      "outputs": [
        {
          "output_type": "execute_result",
          "data": {
            "text/plain": [
              "598710"
            ]
          },
          "metadata": {},
          "execution_count": 141
        }
      ]
    },
    {
      "cell_type": "code",
      "metadata": {
        "id": "r79Mo80tpXoG"
      },
      "source": [
        "df.drop('HOUSING_PSA', axis='columns', inplace=True)"
      ],
      "execution_count": 142,
      "outputs": []
    },
    {
      "cell_type": "markdown",
      "metadata": {
        "id": "Zj3ZTvXIosrk"
      },
      "source": [
        " 30  PATROL_BORO        object\n"
      ]
    },
    {
      "cell_type": "code",
      "metadata": {
        "id": "qushxX_YoxiI",
        "colab": {
          "base_uri": "https://localhost:8080/"
        },
        "outputId": "8365975b-e4b9-443b-bdd7-d48a1555735a"
      },
      "source": [
        "df.PATROL_BORO.value_counts()"
      ],
      "execution_count": 143,
      "outputs": [
        {
          "output_type": "execute_result",
          "data": {
            "text/plain": [
              "PATROL BORO BRONX            1692880\n",
              "PATROL BORO BKLYN SOUTH      1158352\n",
              "PATROL BORO BKLYN NORTH      1153752\n",
              "PATROL BORO MAN SOUTH         946144\n",
              "PATROL BORO MAN NORTH         933895\n",
              "PATROL BORO QUEENS NORTH      809285\n",
              "PATROL BORO QUEENS SOUTH      753675\n",
              "PATROL BORO STATEN ISLAND     361682\n",
              "Name: PATROL_BORO, dtype: int64"
            ]
          },
          "metadata": {},
          "execution_count": 143
        }
      ]
    },
    {
      "cell_type": "code",
      "metadata": {
        "id": "X5q3w0T1pcuI"
      },
      "source": [
        "df.PATROL_BORO = pd.Categorical(df.PATROL_BORO)"
      ],
      "execution_count": 144,
      "outputs": []
    },
    {
      "cell_type": "code",
      "metadata": {
        "id": "K1YegskOpjTj",
        "colab": {
          "base_uri": "https://localhost:8080/"
        },
        "outputId": "a561fd20-4676-4f59-aca1-2103d1fbce37"
      },
      "source": [
        "df.PATROL_BORO.isnull().sum()"
      ],
      "execution_count": 145,
      "outputs": [
        {
          "output_type": "execute_result",
          "data": {
            "text/plain": [
              "7208"
            ]
          },
          "metadata": {},
          "execution_count": 145
        }
      ]
    },
    {
      "cell_type": "code",
      "metadata": {
        "id": "UNPb3rYLpoNl"
      },
      "source": [
        "# df = df[~df.PATROL_BORO.isnull()] "
      ],
      "execution_count": 146,
      "outputs": []
    },
    {
      "cell_type": "markdown",
      "metadata": {
        "id": "MJHh-VXrosuV"
      },
      "source": [
        " 31  STATION_NAME       object"
      ]
    },
    {
      "cell_type": "code",
      "metadata": {
        "id": "ygz6QMTqoyBi",
        "colab": {
          "base_uri": "https://localhost:8080/"
        },
        "outputId": "66d12782-fba8-4b71-9d02-c9d0ee262c30"
      },
      "source": [
        "df.STATION_NAME.value_counts()"
      ],
      "execution_count": 147,
      "outputs": [
        {
          "output_type": "execute_result",
          "data": {
            "text/plain": [
              "125 STREET                        8540\n",
              "14 STREET                         4681\n",
              "42 ST.-PORT AUTHORITY BUS TERM    4068\n",
              "34 ST.-PENN STATION               4033\n",
              "116 STREET                        3438\n",
              "                                  ... \n",
              "DISTRICT 30 OFFICE                  19\n",
              "DISTRICT 12 OFFICE                  19\n",
              "DISTRICT 34 OFFICE                  14\n",
              "DISTRICT 23 OFFICE                   6\n",
              "OFF-SYSTEM                           4\n",
              "Name: STATION_NAME, Length: 372, dtype: int64"
            ]
          },
          "metadata": {},
          "execution_count": 147
        }
      ]
    },
    {
      "cell_type": "code",
      "metadata": {
        "id": "dXsnUC56pvuI",
        "colab": {
          "base_uri": "https://localhost:8080/"
        },
        "outputId": "ab2f71d6-8527-4cd0-e53c-f51ab4a83fde"
      },
      "source": [
        "df.STATION_NAME.isnull().sum()"
      ],
      "execution_count": 148,
      "outputs": [
        {
          "output_type": "execute_result",
          "data": {
            "text/plain": [
              "7644576"
            ]
          },
          "metadata": {},
          "execution_count": 148
        }
      ]
    },
    {
      "cell_type": "code",
      "metadata": {
        "id": "o5eP2Ha8pznx"
      },
      "source": [
        "df.drop('STATION_NAME', axis='columns', inplace=True)"
      ],
      "execution_count": 149,
      "outputs": []
    },
    {
      "cell_type": "code",
      "metadata": {
        "id": "zfCHXyE_5mm8",
        "colab": {
          "base_uri": "https://localhost:8080/"
        },
        "outputId": "dd900fde-5780-4beb-b17a-5ac3401c87c7"
      },
      "source": [
        "df.info()"
      ],
      "execution_count": 150,
      "outputs": [
        {
          "output_type": "stream",
          "name": "stdout",
          "text": [
            "<class 'pandas.core.frame.DataFrame'>\n",
            "Int64Index: 7816873 entries, 0 to 7825498\n",
            "Data columns (total 24 columns):\n",
            " #   Column             Dtype         \n",
            "---  ------             -----         \n",
            " 0   CMPLNT_NUM         int32         \n",
            " 1   ADDR_PCT_CD        category      \n",
            " 2   RPT_DT             datetime64[ns]\n",
            " 3   KY_CD              category      \n",
            " 4   PD_CD              category      \n",
            " 5   CRM_ATPT_CPTD_CD   category      \n",
            " 6   LAW_CAT_CD         category      \n",
            " 7   BORO_NM            category      \n",
            " 8   LOC_OF_OCCUR_DESC  category      \n",
            " 9   PREM_TYP_DESC      category      \n",
            " 10  JURISDICTION_CODE  category      \n",
            " 11  SUSP_AGE_GROUP     category      \n",
            " 12  SUSP_RACE          category      \n",
            " 13  SUSP_SEX           category      \n",
            " 14  Latitude           float32       \n",
            " 15  Longitude          float32       \n",
            " 16  PATROL_BORO        category      \n",
            " 17  VIC_AGE_GROUP      category      \n",
            " 18  VIC_RACE           category      \n",
            " 19  VIC_SEX            category      \n",
            " 20  CMPLNT_FR          datetime64[ns]\n",
            " 21  CMPLNT_TO          datetime64[ns]\n",
            " 22  LATITUDE           float64       \n",
            " 23  LONGITUDE          float64       \n",
            "dtypes: category(16), datetime64[ns](3), float32(2), float64(2), int32(1)\n",
            "memory usage: 574.0 MB\n"
          ]
        }
      ]
    },
    {
      "cell_type": "code",
      "metadata": {
        "id": "rBJBYf9g5mm9"
      },
      "source": [
        ""
      ],
      "execution_count": 150,
      "outputs": []
    },
    {
      "cell_type": "markdown",
      "metadata": {
        "id": "haa-38oP5mm9"
      },
      "source": [
        "## Data exploration\n",
        "\n",
        "In this part we check the different values that appear in the columns. When we detect noisy results, we delete the corresponding values. In fact, many of the operations that are performed above, in the 'data cleaning' section, are the result of observations that we make here. "
      ]
    },
    {
      "cell_type": "code",
      "metadata": {
        "id": "69cO2qRn5mm-",
        "colab": {
          "base_uri": "https://localhost:8080/"
        },
        "outputId": "052d5458-3dd9-4042-e6fd-5388aa633f03"
      },
      "source": [
        "# Find the unique values in each column\n",
        "# \n",
        "# df.describe(include = [np.object, 'category']).T['unique']\n",
        "unique = df.describe(include = 'all').T['unique'].sort_values()"
      ],
      "execution_count": 151,
      "outputs": [
        {
          "output_type": "stream",
          "name": "stderr",
          "text": [
            "/usr/local/lib/python3.7/dist-packages/ipykernel_launcher.py:4: FutureWarning: Treating datetime data as categorical rather than numeric in `.describe` is deprecated and will be removed in a future version of pandas. Specify `datetime_is_numeric=True` to silence this warning and adopt the future behavior now.\n",
            "  after removing the cwd from sys.path.\n"
          ]
        }
      ]
    },
    {
      "cell_type": "code",
      "metadata": {
        "id": "dO8EETzo5mm-",
        "colab": {
          "base_uri": "https://localhost:8080/"
        },
        "outputId": "f1522ae7-ec8a-46d2-b9f7-eaac0adcdb8e"
      },
      "source": [
        "unique"
      ],
      "execution_count": 152,
      "outputs": [
        {
          "output_type": "execute_result",
          "data": {
            "text/plain": [
              "CRM_ATPT_CPTD_CD           2\n",
              "SUSP_SEX                   2\n",
              "LAW_CAT_CD                 3\n",
              "VIC_SEX                    4\n",
              "BORO_NM                    5\n",
              "LOC_OF_OCCUR_DESC          5\n",
              "VIC_AGE_GROUP              5\n",
              "SUSP_AGE_GROUP             5\n",
              "VIC_RACE                   7\n",
              "SUSP_RACE                  7\n",
              "PATROL_BORO                8\n",
              "JURISDICTION_CODE         25\n",
              "KY_CD                     74\n",
              "PREM_TYP_DESC             74\n",
              "ADDR_PCT_CD               77\n",
              "PD_CD                    432\n",
              "RPT_DT                  5844\n",
              "CMPLNT_FR            2210055\n",
              "CMPLNT_TO            2443005\n",
              "CMPLNT_NUM               NaN\n",
              "Latitude                 NaN\n",
              "Longitude                NaN\n",
              "LATITUDE                 NaN\n",
              "LONGITUDE                NaN\n",
              "Name: unique, dtype: object"
            ]
          },
          "metadata": {},
          "execution_count": 152
        }
      ]
    },
    {
      "cell_type": "code",
      "metadata": {
        "id": "_M4Bc4GlHs1F"
      },
      "source": [
        ""
      ],
      "execution_count": 152,
      "outputs": []
    },
    {
      "cell_type": "code",
      "metadata": {
        "id": "3LVJIEak5mnA",
        "colab": {
          "base_uri": "https://localhost:8080/"
        },
        "outputId": "dffcc38e-7468-43f3-d55f-dcb2c824f3b4"
      },
      "source": [
        "for column in unique.index:\n",
        "    if unique[column] < 200:\n",
        "        print(df[column].value_counts())\n",
        "        print(\"=====\")"
      ],
      "execution_count": 153,
      "outputs": [
        {
          "output_type": "stream",
          "name": "stdout",
          "text": [
            "COMPLETED    7684519\n",
            "ATTEMPTED     132187\n",
            "Name: CRM_ATPT_CPTD_CD, dtype: int64\n",
            "=====\n",
            "M    2600924\n",
            "F     812467\n",
            "Name: SUSP_SEX, dtype: int64\n",
            "=====\n",
            "MISDEMEANOR    4361634\n",
            "FELONY         2421052\n",
            "VIOLATION      1034187\n",
            "Name: LAW_CAT_CD, dtype: int64\n",
            "=====\n",
            "F    3064853\n",
            "M    2590144\n",
            "E    1187478\n",
            "D     974086\n",
            "Name: VIC_SEX, dtype: int64\n",
            "=====\n",
            "BROOKLYN         2310601\n",
            "MANHATTAN        1880269\n",
            "BRONX            1692104\n",
            "QUEENS           1559868\n",
            "STATEN ISLAND     361563\n",
            "Name: BORO_NM, dtype: int64\n",
            "=====\n",
            "INSIDE         3984710\n",
            "FRONT OF       1841828\n",
            "OPPOSITE OF     204732\n",
            "REAR OF         164986\n",
            "OUTSIDE           4156\n",
            "Name: LOC_OF_OCCUR_DESC, dtype: int64\n",
            "=====\n",
            "25-44    2597750\n",
            "45-64    1357000\n",
            "18-24     788503\n",
            "<18       353308\n",
            "65+       280834\n",
            "Name: VIC_AGE_GROUP, dtype: int64\n",
            "=====\n",
            "25-44    1128505\n",
            "18-24     417739\n",
            "45-64     400159\n",
            "<18       115218\n",
            "65+        34299\n",
            "Name: SUSP_AGE_GROUP, dtype: int64\n",
            "=====\n",
            "UNKNOWN                           2556119\n",
            "BLACK                             1886404\n",
            "WHITE                             1333985\n",
            "WHITE HISPANIC                    1271732\n",
            "ASIAN / PACIFIC ISLANDER           463619\n",
            "BLACK HISPANIC                     269739\n",
            "AMERICAN INDIAN/ALASKAN NATIVE      34887\n",
            "Name: VIC_RACE, dtype: int64\n",
            "=====\n",
            "BLACK                             1600635\n",
            "UNKNOWN                           1143351\n",
            "WHITE HISPANIC                     724965\n",
            "WHITE                              462776\n",
            "BLACK HISPANIC                     221115\n",
            "ASIAN / PACIFIC ISLANDER           139321\n",
            "AMERICAN INDIAN/ALASKAN NATIVE      12637\n",
            "Name: SUSP_RACE, dtype: int64\n",
            "=====\n",
            "PATROL BORO BRONX            1692880\n",
            "PATROL BORO BKLYN SOUTH      1158352\n",
            "PATROL BORO BKLYN NORTH      1153752\n",
            "PATROL BORO MAN SOUTH         946144\n",
            "PATROL BORO MAN NORTH         933895\n",
            "PATROL BORO QUEENS NORTH      809285\n",
            "PATROL BORO QUEENS SOUTH      753675\n",
            "PATROL BORO STATEN ISLAND     361682\n",
            "Name: PATROL_BORO, dtype: int64\n",
            "=====\n",
            "0     6948226\n",
            "2      593166\n",
            "1      172559\n",
            "3       35690\n",
            "97      24994\n",
            "72       9899\n",
            "69       8950\n",
            "4        5774\n",
            "14       3882\n",
            "11       1923\n",
            "88       1321\n",
            "15        842\n",
            "6         560\n",
            "71        477\n",
            "12        464\n",
            "9         445\n",
            "13        292\n",
            "87        289\n",
            "7         196\n",
            "85        111\n",
            "16         30\n",
            "8          16\n",
            "76         14\n",
            "79          1\n",
            "73          1\n",
            "Name: JURISDICTION_CODE, dtype: int64\n",
            "=====\n",
            "341    1329687\n",
            "578    1018951\n",
            "344     821770\n",
            "109     679034\n",
            "351     651187\n",
            "        ...   \n",
            "881         15\n",
            "357         12\n",
            "123          7\n",
            "362          5\n",
            "577          3\n",
            "Name: KY_CD, Length: 74, dtype: int64\n",
            "=====\n",
            "STREET                        2477345\n",
            "RESIDENCE - APT. HOUSE        1671518\n",
            "RESIDENCE-HOUSE                771962\n",
            "RESIDENCE - PUBLIC HOUSING     585016\n",
            "OTHER                          208864\n",
            "                               ...   \n",
            "MAILBOX INSIDE                    889\n",
            "CEMETERY                          885\n",
            "LOAN COMPANY                      520\n",
            "TRAMWAY                           145\n",
            "DAYCARE FACILITY                   71\n",
            "Name: PREM_TYP_DESC, Length: 74, dtype: int64\n",
            "=====\n",
            "75     250793\n",
            "43     199912\n",
            "44     194209\n",
            "40     188310\n",
            "14     176593\n",
            "        ...  \n",
            "111     49081\n",
            "123     48143\n",
            "76      43024\n",
            "100     41614\n",
            "22       5946\n",
            "Name: ADDR_PCT_CD, Length: 77, dtype: int64\n",
            "=====\n"
          ]
        }
      ]
    },
    {
      "cell_type": "code",
      "metadata": {
        "id": "tmgxDfBz5mnB",
        "colab": {
          "base_uri": "https://localhost:8080/"
        },
        "outputId": "3ab5acee-a3dc-4e41-f48e-03d5991a7193"
      },
      "source": [
        "df.info()"
      ],
      "execution_count": 154,
      "outputs": [
        {
          "output_type": "stream",
          "name": "stdout",
          "text": [
            "<class 'pandas.core.frame.DataFrame'>\n",
            "Int64Index: 7816873 entries, 0 to 7825498\n",
            "Data columns (total 24 columns):\n",
            " #   Column             Dtype         \n",
            "---  ------             -----         \n",
            " 0   CMPLNT_NUM         int32         \n",
            " 1   ADDR_PCT_CD        category      \n",
            " 2   RPT_DT             datetime64[ns]\n",
            " 3   KY_CD              category      \n",
            " 4   PD_CD              category      \n",
            " 5   CRM_ATPT_CPTD_CD   category      \n",
            " 6   LAW_CAT_CD         category      \n",
            " 7   BORO_NM            category      \n",
            " 8   LOC_OF_OCCUR_DESC  category      \n",
            " 9   PREM_TYP_DESC      category      \n",
            " 10  JURISDICTION_CODE  category      \n",
            " 11  SUSP_AGE_GROUP     category      \n",
            " 12  SUSP_RACE          category      \n",
            " 13  SUSP_SEX           category      \n",
            " 14  Latitude           float32       \n",
            " 15  Longitude          float32       \n",
            " 16  PATROL_BORO        category      \n",
            " 17  VIC_AGE_GROUP      category      \n",
            " 18  VIC_RACE           category      \n",
            " 19  VIC_SEX            category      \n",
            " 20  CMPLNT_FR          datetime64[ns]\n",
            " 21  CMPLNT_TO          datetime64[ns]\n",
            " 22  LATITUDE           float64       \n",
            " 23  LONGITUDE          float64       \n",
            "dtypes: category(16), datetime64[ns](3), float32(2), float64(2), int32(1)\n",
            "memory usage: 574.0 MB\n"
          ]
        }
      ]
    },
    {
      "cell_type": "code",
      "metadata": {
        "id": "XMLREtWvr53V",
        "colab": {
          "base_uri": "https://localhost:8080/"
        },
        "outputId": "15b3f89d-2859-4a5f-b930-e4fd525755bd"
      },
      "source": [
        "df['PREM_TYP_DESC'].value_counts().count()"
      ],
      "execution_count": 155,
      "outputs": [
        {
          "output_type": "execute_result",
          "data": {
            "text/plain": [
              "74"
            ]
          },
          "metadata": {},
          "execution_count": 155
        }
      ]
    },
    {
      "cell_type": "code",
      "metadata": {
        "id": "dvciXUSr5mnC"
      },
      "source": [
        "# All columns, except for the dates and spatial coordinates, are categorical\n",
        "# Columns with less than a few thousand unique values are good candidates \n",
        "# for ENUMs in the database given that the dataset is static.\n",
        "# Also, in Pandas the internal representation becomes much more efficient\n",
        "# as the Categoricals are stored as integers and not as strings\n",
        "for column in unique.index:\n",
        "    if column == 'RPT_DT':\n",
        "        continue\n",
        "    if df[column].value_counts().count() < 1000:\n",
        "      df[column] = pd.Categorical(df[column])"
      ],
      "execution_count": 156,
      "outputs": []
    },
    {
      "cell_type": "code",
      "metadata": {
        "id": "FVGtbgdr5mnD",
        "colab": {
          "base_uri": "https://localhost:8080/"
        },
        "outputId": "282a0fec-2dbd-43db-b1fd-9d80f533a938"
      },
      "source": [
        "# With all the proper data typing the dataset went down in size from 1.9Gb+ to 425Mb.\n",
        "df.info()"
      ],
      "execution_count": 157,
      "outputs": [
        {
          "output_type": "stream",
          "name": "stdout",
          "text": [
            "<class 'pandas.core.frame.DataFrame'>\n",
            "Int64Index: 7816873 entries, 0 to 7825498\n",
            "Data columns (total 24 columns):\n",
            " #   Column             Dtype         \n",
            "---  ------             -----         \n",
            " 0   CMPLNT_NUM         int32         \n",
            " 1   ADDR_PCT_CD        category      \n",
            " 2   RPT_DT             datetime64[ns]\n",
            " 3   KY_CD              category      \n",
            " 4   PD_CD              category      \n",
            " 5   CRM_ATPT_CPTD_CD   category      \n",
            " 6   LAW_CAT_CD         category      \n",
            " 7   BORO_NM            category      \n",
            " 8   LOC_OF_OCCUR_DESC  category      \n",
            " 9   PREM_TYP_DESC      category      \n",
            " 10  JURISDICTION_CODE  category      \n",
            " 11  SUSP_AGE_GROUP     category      \n",
            " 12  SUSP_RACE          category      \n",
            " 13  SUSP_SEX           category      \n",
            " 14  Latitude           float32       \n",
            " 15  Longitude          float32       \n",
            " 16  PATROL_BORO        category      \n",
            " 17  VIC_AGE_GROUP      category      \n",
            " 18  VIC_RACE           category      \n",
            " 19  VIC_SEX            category      \n",
            " 20  CMPLNT_FR          datetime64[ns]\n",
            " 21  CMPLNT_TO          datetime64[ns]\n",
            " 22  LATITUDE           category      \n",
            " 23  LONGITUDE          category      \n",
            "dtypes: category(18), datetime64[ns](3), float32(2), int32(1)\n",
            "memory usage: 469.7 MB\n"
          ]
        }
      ]
    },
    {
      "cell_type": "code",
      "metadata": {
        "id": "jF1mm7Xu5mnD",
        "colab": {
          "base_uri": "https://localhost:8080/"
        },
        "outputId": "267dd7bd-6172-4f4e-a921-9ce755dfd776"
      },
      "source": [
        "df.memory_usage()"
      ],
      "execution_count": 158,
      "outputs": [
        {
          "output_type": "execute_result",
          "data": {
            "text/plain": [
              "Index                62534984\n",
              "CMPLNT_NUM           31267492\n",
              "ADDR_PCT_CD           7819593\n",
              "RPT_DT               62534984\n",
              "KY_CD                 7819569\n",
              "PD_CD                15653754\n",
              "CRM_ATPT_CPTD_CD      7816997\n",
              "LAW_CAT_CD            7817005\n",
              "BORO_NM               7817085\n",
              "LOC_OF_OCCUR_DESC     7817085\n",
              "PREM_TYP_DESC         7819569\n",
              "JURISDICTION_CODE     7817629\n",
              "SUSP_AGE_GROUP        7817085\n",
              "SUSP_RACE             7817229\n",
              "SUSP_SEX              7816997\n",
              "Latitude             31267492\n",
              "Longitude            31267492\n",
              "PATROL_BORO           7817237\n",
              "VIC_AGE_GROUP         7817085\n",
              "VIC_RACE              7817229\n",
              "VIC_SEX               7817077\n",
              "CMPLNT_FR            62534984\n",
              "CMPLNT_TO            62534984\n",
              "LATITUDE              7816981\n",
              "LONGITUDE             7816981\n",
              "dtype: int64"
            ]
          },
          "metadata": {},
          "execution_count": 158
        }
      ]
    },
    {
      "cell_type": "code",
      "metadata": {
        "id": "3-DkWZbI5mnE",
        "outputId": "73348f2b-1134-442e-c98f-d8838138e2ca",
        "colab": {
          "base_uri": "https://localhost:8080/"
        }
      },
      "source": [
        "df.dtypes"
      ],
      "execution_count": 159,
      "outputs": [
        {
          "output_type": "execute_result",
          "data": {
            "text/plain": [
              "CMPLNT_NUM                    int32\n",
              "ADDR_PCT_CD                category\n",
              "RPT_DT               datetime64[ns]\n",
              "KY_CD                      category\n",
              "PD_CD                      category\n",
              "CRM_ATPT_CPTD_CD           category\n",
              "LAW_CAT_CD                 category\n",
              "BORO_NM                    category\n",
              "LOC_OF_OCCUR_DESC          category\n",
              "PREM_TYP_DESC              category\n",
              "JURISDICTION_CODE          category\n",
              "SUSP_AGE_GROUP             category\n",
              "SUSP_RACE                  category\n",
              "SUSP_SEX                   category\n",
              "Latitude                    float32\n",
              "Longitude                   float32\n",
              "PATROL_BORO                category\n",
              "VIC_AGE_GROUP              category\n",
              "VIC_RACE                   category\n",
              "VIC_SEX                    category\n",
              "CMPLNT_FR            datetime64[ns]\n",
              "CMPLNT_TO            datetime64[ns]\n",
              "LATITUDE                   category\n",
              "LONGITUDE                  category\n",
              "dtype: object"
            ]
          },
          "metadata": {},
          "execution_count": 159
        }
      ]
    },
    {
      "cell_type": "code",
      "metadata": {
        "id": "wBbZB2Ke5mnG",
        "outputId": "a1e45817-ee94-4187-8977-e57289a50281",
        "colab": {
          "base_uri": "https://localhost:8080/"
        }
      },
      "source": [
        "df.dtypes"
      ],
      "execution_count": 160,
      "outputs": [
        {
          "output_type": "execute_result",
          "data": {
            "text/plain": [
              "CMPLNT_NUM                    int32\n",
              "ADDR_PCT_CD                category\n",
              "RPT_DT               datetime64[ns]\n",
              "KY_CD                      category\n",
              "PD_CD                      category\n",
              "CRM_ATPT_CPTD_CD           category\n",
              "LAW_CAT_CD                 category\n",
              "BORO_NM                    category\n",
              "LOC_OF_OCCUR_DESC          category\n",
              "PREM_TYP_DESC              category\n",
              "JURISDICTION_CODE          category\n",
              "SUSP_AGE_GROUP             category\n",
              "SUSP_RACE                  category\n",
              "SUSP_SEX                   category\n",
              "Latitude                    float32\n",
              "Longitude                   float32\n",
              "PATROL_BORO                category\n",
              "VIC_AGE_GROUP              category\n",
              "VIC_RACE                   category\n",
              "VIC_SEX                    category\n",
              "CMPLNT_FR            datetime64[ns]\n",
              "CMPLNT_TO            datetime64[ns]\n",
              "LATITUDE                   category\n",
              "LONGITUDE                  category\n",
              "dtype: object"
            ]
          },
          "metadata": {},
          "execution_count": 160
        }
      ]
    },
    {
      "cell_type": "code",
      "metadata": {
        "id": "IFzmDfLGeiEg",
        "colab": {
          "base_uri": "https://localhost:8080/"
        },
        "outputId": "1f425638-e262-4c2e-8425-24f4011fe526"
      },
      "source": [
        "\n",
        "sum(df.LONGITUDE.isnull())"
      ],
      "execution_count": 162,
      "outputs": [
        {
          "output_type": "execute_result",
          "data": {
            "text/plain": [
              "7816873"
            ]
          },
          "metadata": {},
          "execution_count": 162
        }
      ]
    },
    {
      "cell_type": "markdown",
      "metadata": {
        "id": "s4Nw6Q6J5mnK"
      },
      "source": [
        "## Storing in a MySQL database"
      ]
    },
    {
      "cell_type": "code",
      "metadata": {
        "id": "pIFdbm3zC1Qa",
        "outputId": "31c8c676-6801-4ff3-c4fd-ffc5d1c549a1",
        "colab": {
          "base_uri": "https://localhost:8080/"
        }
      },
      "source": [
        "!sudo pip3 install -U -q PyMySQL sqlalchemy sql_magic"
      ],
      "execution_count": null,
      "outputs": [
        {
          "output_type": "stream",
          "name": "stdout",
          "text": [
            "\u001b[K     |████████████████████████████████| 43 kB 2.1 MB/s \n",
            "\u001b[K     |████████████████████████████████| 1.6 MB 31.2 MB/s \n",
            "\u001b[?25h"
          ]
        }
      ]
    },
    {
      "cell_type": "code",
      "metadata": {
        "id": "XRRqVqrj5mnK"
      },
      "source": [
        "import os\n",
        "from sqlalchemy import create_engine\n",
        "\n",
        "conn_string = 'mysql+pymysql://{user}:{password}@{host}/?charset=utf8mb4'.format(\n",
        "    host = 'db.ipeirotis.org', \n",
        "    user = 'root',\n",
        "    password = 'ae6jQniBS5muV27', #os.environ['MYSQL_PASSWORD'],\n",
        "    encoding = 'utf8mb4')\n",
        "\n",
        "engine = create_engine(conn_string)\n",
        "con = engine.connect()"
      ],
      "execution_count": null,
      "outputs": []
    },
    {
      "cell_type": "code",
      "metadata": {
        "id": "BME9Kw3I5mnL",
        "colab": {
          "base_uri": "https://localhost:8080/"
        },
        "outputId": "824800e5-173a-4a47-fedd-7caf89fb37c3"
      },
      "source": [
        "# Query to create a database\n",
        "db_name = 'nypd'\n",
        "\n",
        "sql = f\"DROP DATABASE IF EXISTS {db_name}\"\n",
        "engine.execute(sql)\n",
        "\n",
        "# Create a database\n",
        "sql = f\"CREATE DATABASE IF NOT EXISTS {db_name} DEFAULT CHARACTER SET 'utf8mb4'\"\n",
        "engine.execute(sql)\n"
      ],
      "execution_count": null,
      "outputs": [
        {
          "output_type": "execute_result",
          "data": {
            "text/plain": [
              "<sqlalchemy.engine.cursor.LegacyCursorResult at 0x7f5286dd8d50>"
            ]
          },
          "metadata": {},
          "execution_count": 91
        }
      ]
    },
    {
      "cell_type": "code",
      "metadata": {
        "id": "M-_M6qS0Vhlv",
        "colab": {
          "base_uri": "https://localhost:8080/"
        },
        "outputId": "1232e9cc-e9ba-449a-c493-3af68bbdbe1e"
      },
      "source": [
        "\n",
        "# And lets switch to the database\n",
        "sql = f\"USE {db_name}\"\n",
        "engine.execute(sql)\n"
      ],
      "execution_count": null,
      "outputs": [
        {
          "output_type": "execute_result",
          "data": {
            "text/plain": [
              "<sqlalchemy.engine.cursor.LegacyCursorResult at 0x7f527184a150>"
            ]
          },
          "metadata": {},
          "execution_count": 92
        }
      ]
    },
    {
      "cell_type": "code",
      "metadata": {
        "id": "10JrBGZ65mnL",
        "colab": {
          "base_uri": "https://localhost:8080/"
        },
        "outputId": "7205bc79-a937-4ac2-8d99-ac6381e65d4e"
      },
      "source": [
        "# In principle, we can let Pandas create the table, but we want to be a bit more predise\n",
        "# with the data types, and we want to add documentation for each column\n",
        "# from https://data.cityofnewyork.us/Public-Safety/NYPD-Complaint-Data-Historic/qgea-i56i\n",
        "\n",
        "\n",
        "create_table_sql = '''\n",
        "CREATE TABLE nypd (\n",
        "  CMPLNT_NUM int,\n",
        "  CMPLNT_FR datetime,\n",
        "  CMPLNT_TO datetime,\n",
        "  RPT_DT date,\n",
        "  KY_CD SMALLINT,\n",
        "  PD_CD SMALLINT,\n",
        "  CRM_ATPT_CPTD_CD enum('COMPLETED','ATTEMPTED'),\n",
        "  LAW_CAT_CD enum('FELONY','MISDEMEANOR','VIOLATION'),\n",
        "  JURISDICTION_CODE SMALLINT,\n",
        "  BORO_NM enum('BRONX','BROOKLYN','MANHATTAN','QUEENS','STATEN ISLAND'),\n",
        "  ADDR_PCT_CD SMALLINT,\n",
        "  LOC_OF_OCCUR_DESC enum('FRONT OF','INSIDE','OPPOSITE OF','OUTSIDE','REAR OF'),\n",
        "  PATROL_BORO enum('PATROL BORO BRONX', 'PATROL BORO BKLYN SOUTH','PATROL BORO BKLYN NORTH','PATROL BORO MAN SOUTH','PATROL BORO MAN NORTH','PATROL BORO QUEENS NORTH','PATROL BORO QUEENS SOUTH','PATROL BORO STATEN ISLAND'),\n",
        "  PREM_TYP_DESC varchar(30),\n",
        "  SUSP_RACE enum('UNKNOWN', 'BLACK', 'WHITE', 'WHITE HISPANIC', 'ASIAN / PACIFIC ISLANDER', 'BLACK HISPANIC', 'AMERICAN INDIAN/ALASKAN NATIVE'),\n",
        "  VIC_RACE enum('UNKNOWN', 'BLACK', 'WHITE', 'WHITE HISPANIC', 'ASIAN / PACIFIC ISLANDER', 'BLACK HISPANIC', 'AMERICAN INDIAN/ALASKAN NATIVE'),\n",
        "  SUSP_AGE_GROUP enum('<18', '18-24',  '25-44', '45-64', '65+'),\n",
        "  VIC_AGE_GROUP enum('<18', '18-24',  '25-44', '45-64', '65+'),\n",
        "  SUSP_SEX enum('M', 'F'),\n",
        "  VIC_SEX enum('M', 'F', 'E', 'D'),\n",
        "  Latitude double,\n",
        "  Longitude double,\n",
        "  PRIMARY KEY (CMPLNT_NUM)\n",
        ") ENGINE=InnoDB DEFAULT CHARSET=utf8mb4;\n",
        "'''\n",
        "engine.execute(create_table_sql)"
      ],
      "execution_count": null,
      "outputs": [
        {
          "output_type": "execute_result",
          "data": {
            "text/plain": [
              "<sqlalchemy.engine.cursor.LegacyCursorResult at 0x7f5286dd73d0>"
            ]
          },
          "metadata": {},
          "execution_count": 93
        }
      ]
    },
    {
      "cell_type": "code",
      "metadata": {
        "id": "5fJuGS1e5mnM",
        "colab": {
          "base_uri": "https://localhost:8080/"
        },
        "outputId": "afaf9443-2fd7-4b4a-8c19-6f2f20685728"
      },
      "source": [
        "# Create a table\n",
        "# See http://pandas.pydata.org/pandas-docs/stable/generated/pandas.DataFrame.to_sql.html for the documentation\n",
        "from tqdm import tqdm\n",
        "batchsize = 50000\n",
        "batches = len(df) // batchsize + 1\n",
        "\n",
        "t = tqdm(range(batches))\n",
        "\n",
        "for i in t:\n",
        "    # print(\"Batch:\",i)\n",
        "    # continue # Cannot execute this on Travis\n",
        "    start = batchsize * i\n",
        "    end = batchsize * (i+1)\n",
        "    df[start:end].to_sql(\n",
        "        name = 'nypd', \n",
        "        schema = db_name, \n",
        "        con = engine,\n",
        "        if_exists = 'append',\n",
        "        index = False, \n",
        "        chunksize = 1000)"
      ],
      "execution_count": null,
      "outputs": [
        {
          "output_type": "stream",
          "name": "stderr",
          "text": [
            "100%|██████████| 148/148 [25:58<00:00, 10.53s/it]\n"
          ]
        }
      ]
    },
    {
      "cell_type": "code",
      "metadata": {
        "id": "m8ozy38lJmOt",
        "colab": {
          "base_uri": "https://localhost:8080/"
        },
        "outputId": "39157a13-9fcd-4249-e2e1-5a551c0b8ccd"
      },
      "source": [
        "engine.execute(\"CREATE INDEX ix_lat ON nypd.nypd(Latitude)\")"
      ],
      "execution_count": null,
      "outputs": [
        {
          "output_type": "execute_result",
          "data": {
            "text/plain": [
              "<sqlalchemy.engine.cursor.LegacyCursorResult at 0x7f5299e04350>"
            ]
          },
          "metadata": {},
          "execution_count": 95
        }
      ]
    },
    {
      "cell_type": "code",
      "metadata": {
        "id": "Up8_pRiYPn3X",
        "colab": {
          "base_uri": "https://localhost:8080/"
        },
        "outputId": "6a51c4f6-7124-4c0e-957e-de0ed4ea1d8e"
      },
      "source": [
        "engine.execute(\"CREATE INDEX ix_lon ON nypd.nypd(Longitude)\")"
      ],
      "execution_count": null,
      "outputs": [
        {
          "output_type": "execute_result",
          "data": {
            "text/plain": [
              "<sqlalchemy.engine.cursor.LegacyCursorResult at 0x7f529df62f10>"
            ]
          },
          "metadata": {},
          "execution_count": 96
        }
      ]
    },
    {
      "cell_type": "code",
      "metadata": {
        "id": "fRVAUTDsPn6N",
        "colab": {
          "base_uri": "https://localhost:8080/"
        },
        "outputId": "e39cfd23-4f17-4557-a5d1-275b0a0cd821"
      },
      "source": [
        "engine.execute(\"CREATE INDEX ix_LAW_CAT_CD ON nypd.nypd(LAW_CAT_CD)\")"
      ],
      "execution_count": null,
      "outputs": [
        {
          "output_type": "execute_result",
          "data": {
            "text/plain": [
              "<sqlalchemy.engine.cursor.LegacyCursorResult at 0x7f529b3c4a10>"
            ]
          },
          "metadata": {},
          "execution_count": 97
        }
      ]
    },
    {
      "cell_type": "code",
      "metadata": {
        "id": "TcqQhh63PoAJ",
        "colab": {
          "base_uri": "https://localhost:8080/"
        },
        "outputId": "4ad34f91-8dd7-4bbc-b3c8-4f7e058d3966"
      },
      "source": [
        "engine.execute(\"CREATE INDEX ix_BORO_NM ON nypd.nypd(BORO_NM)\")"
      ],
      "execution_count": null,
      "outputs": [
        {
          "output_type": "execute_result",
          "data": {
            "text/plain": [
              "<sqlalchemy.engine.cursor.LegacyCursorResult at 0x7f529d9cea50>"
            ]
          },
          "metadata": {},
          "execution_count": 98
        }
      ]
    },
    {
      "cell_type": "code",
      "metadata": {
        "id": "2-j9IWUtklbT",
        "outputId": "0cdb28c5-dc02-4a8f-f6e8-cc88ae46f8ea",
        "colab": {
          "base_uri": "https://localhost:8080/"
        }
      },
      "source": [
        "engine.execute(\"CREATE INDEX ix_KY_CD ON nypd.nypd(KY_CD)\")"
      ],
      "execution_count": null,
      "outputs": [
        {
          "output_type": "execute_result",
          "data": {
            "text/plain": [
              "<sqlalchemy.engine.cursor.LegacyCursorResult at 0x7f529987a810>"
            ]
          },
          "metadata": {},
          "execution_count": 99
        }
      ]
    },
    {
      "cell_type": "code",
      "metadata": {
        "id": "fVLOoJXZP3IL",
        "colab": {
          "base_uri": "https://localhost:8080/"
        },
        "outputId": "40a34246-af32-4bce-ec95-1e04a59eae7c"
      },
      "source": [
        "engine.execute(\"CREATE INDEX ix_RPT_DT ON nypd.nypd(RPT_DT)\")"
      ],
      "execution_count": null,
      "outputs": [
        {
          "output_type": "execute_result",
          "data": {
            "text/plain": [
              "<sqlalchemy.engine.cursor.LegacyCursorResult at 0x7f526b0bdf10>"
            ]
          },
          "metadata": {},
          "execution_count": 100
        }
      ]
    },
    {
      "cell_type": "code",
      "metadata": {
        "id": "_LMQyvt6P71C",
        "colab": {
          "base_uri": "https://localhost:8080/"
        },
        "outputId": "ea14d5ee-e192-40c8-a261-d15823a04b62"
      },
      "source": [
        "engine.execute(\"CREATE INDEX ix_CMPLNT_FR ON nypd.nypd(CMPLNT_FR)\")"
      ],
      "execution_count": null,
      "outputs": [
        {
          "output_type": "execute_result",
          "data": {
            "text/plain": [
              "<sqlalchemy.engine.cursor.LegacyCursorResult at 0x7f529987b350>"
            ]
          },
          "metadata": {},
          "execution_count": 101
        }
      ]
    },
    {
      "cell_type": "code",
      "metadata": {
        "id": "hPGyBq5gvy2o"
      },
      "source": [
        "engine.execute(\"DROP TABLE IF EXISTS offense_codes;\")\n",
        "\n",
        "create_table_sql = '''\n",
        "CREATE TABLE offense_codes (\n",
        "  KY_CD smallint,\n",
        "  OFNS_DESC varchar(32),\n",
        "  PRIMARY KEY (KY_CD)\n",
        ") ENGINE=InnoDB DEFAULT CHARSET=utf8mb4;\n",
        "'''\n",
        "engine.execute(create_table_sql)\n",
        "\n",
        "offenses.to_sql(\n",
        "        name = 'offense_codes', \n",
        "        schema = db_name, \n",
        "        con = engine,\n",
        "        if_exists = 'append',\n",
        "        index = False)"
      ],
      "execution_count": null,
      "outputs": []
    },
    {
      "cell_type": "code",
      "metadata": {
        "id": "--bCF3OXxVVq"
      },
      "source": [
        "engine.execute(\"DROP TABLE IF EXISTS jurisdiction_codes;\")\n",
        "\n",
        "create_table_sql = '''\n",
        "CREATE TABLE jurisdiction_codes (\n",
        "  JURISDICTION_CODE smallint,\n",
        "  JURIS_DESC varchar(40),\n",
        "  PRIMARY KEY (JURISDICTION_CODE)\n",
        ") ENGINE=InnoDB DEFAULT CHARSET=utf8mb4;\n",
        "'''\n",
        "engine.execute(create_table_sql)\n",
        "\n",
        "\n",
        "jusridiction.to_sql(\n",
        "        name = 'jurisdiction_codes', \n",
        "        schema = db_name, \n",
        "        con = engine,\n",
        "        if_exists = 'append',\n",
        "        index = False)"
      ],
      "execution_count": null,
      "outputs": []
    },
    {
      "cell_type": "code",
      "metadata": {
        "id": "lm6SIPHz3wXU",
        "outputId": "a88cafc1-ad81-4d8a-a996-1763fdda7dfd",
        "colab": {
          "base_uri": "https://localhost:8080/"
        }
      },
      "source": [
        "internal.PD_DESC.str.len().max()\n"
      ],
      "execution_count": null,
      "outputs": [
        {
          "output_type": "execute_result",
          "data": {
            "text/plain": [
              "71"
            ]
          },
          "metadata": {},
          "execution_count": 104
        }
      ]
    },
    {
      "cell_type": "code",
      "metadata": {
        "id": "rFUrm2poxWFQ"
      },
      "source": [
        "engine.execute(\"DROP TABLE IF EXISTS penal_codes;\")\n",
        "\n",
        "create_table_sql = '''\n",
        "CREATE TABLE penal_codes (\n",
        "  PD_CD smallint,\n",
        "  PD_DESC varchar(80),\n",
        "  PRIMARY KEY (PD_CD)\n",
        ") ENGINE=InnoDB DEFAULT CHARSET=utf8mb4;\n",
        "'''\n",
        "engine.execute(create_table_sql)\n",
        "\n",
        "\n",
        "internal.to_sql(\n",
        "        name = 'penal_codes', \n",
        "        schema = db_name, \n",
        "        con = engine,\n",
        "        if_exists = 'append',\n",
        "        index = False)"
      ],
      "execution_count": null,
      "outputs": []
    },
    {
      "cell_type": "markdown",
      "metadata": {
        "id": "qBdum8YM5mnN"
      },
      "source": [
        "## TODO"
      ]
    },
    {
      "cell_type": "markdown",
      "metadata": {
        "id": "gy9R1rnb5mnN"
      },
      "source": [
        "### Add the penal code data as a separate table\n",
        "\n",
        "`!curl 'https://data.cityofnewyork.us/api/views/qgea-i56i/files/65f25845-1551-4d21-91dc-869c977cd93d?download=true&filename=PDCode_PenalLaw.xlsx' -o PDCode_PenalLaw.xlsx`\n",
        "\n",
        "### Examine whether to normalize "
      ]
    },
    {
      "cell_type": "markdown",
      "metadata": {
        "id": "ojgVuC6I5mnN"
      },
      "source": [
        "The fields \n",
        "\n",
        "  \n",
        "PREM_TYP_DESC    \n",
        "HADEVELOPT    \n",
        "PARKS_NM                     \n",
        "\n",
        "would be better off as foreign keys or enums. They take too much space as strings."
      ]
    }
  ]
}