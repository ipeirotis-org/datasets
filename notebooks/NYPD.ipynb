{
  "nbformat": 4,
  "nbformat_minor": 0,
  "metadata": {
    "kernelspec": {
      "display_name": "Python 3",
      "language": "python",
      "name": "python3"
    },
    "language_info": {
      "codemirror_mode": {
        "name": "ipython",
        "version": 3
      },
      "file_extension": ".py",
      "mimetype": "text/x-python",
      "name": "python",
      "nbconvert_exporter": "python",
      "pygments_lexer": "ipython3",
      "version": "3.6.9"
    },
    "colab": {
      "name": "NYPD.ipynb",
      "provenance": [],
      "toc_visible": true
    }
  },
  "cells": [
    {
      "cell_type": "markdown",
      "metadata": {
        "id": "GOZM1miw5mmu"
      },
      "source": [
        "## NYPD Dataset\n",
        "\n",
        "Dataset description at \n",
        "https://data.cityofnewyork.us/Public-Safety/NYPD-Complaint-Data-Historic/qgea-i56i\n"
      ]
    },
    {
      "cell_type": "markdown",
      "metadata": {
        "id": "3E6Bimj_5mmy"
      },
      "source": [
        "\n",
        "| Column | Description |\n",
        "|--------|-------------------|\n",
        "| CMPLNT_NUM |  Randomly generated persistent ID for each complaint  |  \n",
        "| ADDR_PCT_CD |  The precinct in which the incident occurred |  \n",
        "| BORO |  The name of the borough in which the incident occurred |  \n",
        "| CMPLNT_FR_DT |  Exact date of occurrence for the reported event (or starting date of occurrence, if CMPLNT_TO_DT exists) |  \n",
        "| CMPLNT_FR_TM |  Exact time of occurrence for the reported event (or starting time of occurrence, if CMPLNT_TO_TM exists) |  \n",
        "| CMPLNT_TO_DT |  Ending date of occurrence for the reported event, if exact time of occurrence is unknown |  \n",
        "| CMPLNT_TO_TM |  Ending time of occurrence for the reported event, if exact time of occurrence is unknown |  \n",
        "| CRM_ATPT_CPTD_CD |  Indicator of whether crime was successfully completed or attempted, but failed or was interrupted prematurely |  \n",
        "| HADEVELOPT |  Name of NYCHA housing development of occurrence, if applicable |  \n",
        "| HOUSING_PSA |  Development Level Code |  \n",
        "| JURISDICTION_CODE |  Jurisdiction responsible for incident. Either internal, like Police(0), Transit(1), and Housing(2); or external(3), like Correction, Port Authority, etc. |  \n",
        "| JURIS_DESC |  Description of the jurisdiction code |  \n",
        "| KY_CD |  Three digit offense classification code |  \n",
        "| LAW_CAT_CD |  Level of offense: felony, misdemeanor, violation  |  \n",
        "| LOC_OF_OCCUR_DESC |  Specific location of occurrence in or around the premises; inside, opposite of, front of, rear of |  \n",
        "| OFNS_DESC |  Description of offense corresponding with key code |  \n",
        "| PARKS_NM |  Name of NYC park, playground or greenspace of occurrence, if applicable (state parks are not included) |  \n",
        "| PATROL_BORO |  The name of the patrol borough in which the incident occurred |  \n",
        "| PD_CD |  Three digit internal classification code (more granular than Key Code) |  \n",
        "| PD_DESC |  Description of internal classification corresponding with PD code (more granular than Offense Description) |  \n",
        "| PREM_TYP_DESC |  Specific description of premises; grocery store, residence, street, etc. |  \n",
        "| RPT_DT |  Date event was reported to police  |  \n",
        "| STATION_NAME |  Transit station name |  \n",
        "| SUSP_AGE_GROUP |  Suspect’s Age Group |  \n",
        "| SUSP_RACE |  Suspect’s Race Description |  \n",
        "| SUSP_SEX |  Suspect’s Sex Description |  \n",
        "| TRANSIT_DISTRICT |  Transit district in which the offense occurred. |  \n",
        "| VIC_AGE_GROUP |  Victim’s Age Group |  \n",
        "| VIC_RACE |  Victim’s Race Description |  \n",
        "| VIC_SEX |  Victim’s Sex Description |  \n",
        "| X_COORD_CD |  X-coordinate for New York State Plane Coordinate System, Long Island Zone, NAD 83, units feet (FIPS 3104) |  \n",
        "| Y_COORD_CD |  Y-coordinate for New York State Plane Coordinate System, Long Island Zone, NAD 83, units feet (FIPS 3104) |  \n",
        "| Latitude |  Midblock Latitude coordinate for Global Coordinate System, WGS 1984, decimal degrees (EPSG 4326)  |  \n",
        "| Longitude |  Midblock Longitude coordinate for Global Coordinate System, WGS 1984, decimal degrees (EPSG 4326) |\n"
      ]
    },
    {
      "cell_type": "code",
      "metadata": {
        "id": "04SFECct5mm0"
      },
      "source": [
        "import pandas as pd\n",
        "import numpy as np"
      ],
      "execution_count": 1,
      "outputs": []
    },
    {
      "cell_type": "code",
      "metadata": {
        "id": "-XiIq4vd5mm1",
        "outputId": "893d929d-8161-43aa-c023-64d2de2ae7b8",
        "colab": {
          "base_uri": "https://localhost:8080/"
        }
      },
      "source": [
        "# We load everything as an object/string, because some data types (e.g., some IDs)\n",
        "# are recognized as decimals, and it is a mess to restore them back\n",
        "# So we will do all the conversions ourselves later on\n",
        "\n",
        "# From https://data.cityofnewyork.us/Public-Safety/NYPD-Complaint-Data-Historic/qgea-i56i/data\n",
        "!curl -v 'https://data.cityofnewyork.us/api/views/qgea-i56i/rows.csv?accessType=DOWNLOAD' -o nypd.csv\n",
        "df = pd.read_csv('nypd.csv', low_memory = True, dtype='object')"
      ],
      "execution_count": 3,
      "outputs": [
        {
          "output_type": "stream",
          "text": [
            "  % Total    % Received % Xferd  Average Speed   Time    Time     Time  Current\n",
            "                                 Dload  Upload   Total   Spent    Left  Speed\n",
            "  0     0    0     0    0     0      0      0 --:--:-- --:--:-- --:--:--     0*   Trying 52.206.68.26...\n",
            "* TCP_NODELAY set\n",
            "* Connected to data.cityofnewyork.us (52.206.68.26) port 443 (#0)\n",
            "* ALPN, offering h2\n",
            "* ALPN, offering http/1.1\n",
            "* successfully set certificate verify locations:\n",
            "*   CAfile: /etc/ssl/certs/ca-certificates.crt\n",
            "  CApath: /etc/ssl/certs\n",
            "} [5 bytes data]\n",
            "* TLSv1.3 (OUT), TLS handshake, Client hello (1):\n",
            "} [512 bytes data]\n",
            "* TLSv1.3 (IN), TLS handshake, Server hello (2):\n",
            "{ [108 bytes data]\n",
            "* TLSv1.2 (IN), TLS handshake, Certificate (11):\n",
            "{ [2718 bytes data]\n",
            "* TLSv1.2 (IN), TLS handshake, Server key exchange (12):\n",
            "{ [401 bytes data]\n",
            "* TLSv1.2 (IN), TLS handshake, Server finished (14):\n",
            "{ [4 bytes data]\n",
            "* TLSv1.2 (OUT), TLS handshake, Client key exchange (16):\n",
            "} [138 bytes data]\n",
            "* TLSv1.2 (OUT), TLS change cipher, Client hello (1):\n",
            "} [1 bytes data]\n",
            "* TLSv1.2 (OUT), TLS handshake, Finished (20):\n",
            "} [16 bytes data]\n",
            "  0     0    0     0    0     0      0      0 --:--:-- --:--:-- --:--:--     0* TLSv1.2 (IN), TLS handshake, Finished (20):\n",
            "{ [16 bytes data]\n",
            "* SSL connection using TLSv1.2 / ECDHE-RSA-AES128-GCM-SHA256\n",
            "* ALPN, server accepted to use http/1.1\n",
            "* Server certificate:\n",
            "*  subject: CN=data.cityofnewyork.us\n",
            "*  start date: May  1 17:48:49 2021 GMT\n",
            "*  expire date: Jun  2 17:48:49 2022 GMT\n",
            "*  subjectAltName: host \"data.cityofnewyork.us\" matched cert's \"data.cityofnewyork.us\"\n",
            "*  issuer: C=BE; O=GlobalSign nv-sa; CN=AlphaSSL CA - SHA256 - G2\n",
            "*  SSL certificate verify ok.\n",
            "} [5 bytes data]\n",
            "> GET /api/views/qgea-i56i/rows.csv?accessType=DOWNLOAD HTTP/1.1\n",
            "> Host: data.cityofnewyork.us\n",
            "> User-Agent: curl/7.58.0\n",
            "> Accept: */*\n",
            "> \n",
            "{ [5 bytes data]\n",
            "< HTTP/1.1 200 OK\n",
            "< Server: nginx\n",
            "< Date: Tue, 01 Jun 2021 18:54:38 GMT\n",
            "< Content-Type: text/csv; charset=utf-8\n",
            "< Transfer-Encoding: chunked\n",
            "< Connection: keep-alive\n",
            "< Access-Control-Allow-Origin: *\n",
            "< Content-disposition: attachment; filename=NYPD_Complaint_Data_Historic.csv\n",
            "< Cache-Control: public, must-revalidate, max-age=21600\n",
            "< ETag: W/\"YWxwaGEuMTQ3OTQ0XzNfMTUzOTFsd2NHSTRGNEpuWkEzTzlINThUZF9FSm9ubGM---gziramyNJJEaDYpp9H0nDLYNarqWuQg--gzip--gzip\"\n",
            "< X-SODA2-Data-Out-Of-Date: false\n",
            "< X-SODA2-Truth-Last-Modified: Mon, 03 May 2021 20:59:59 GMT\n",
            "< X-SODA2-Secondary-Last-Modified: Mon, 03 May 2021 20:59:59 GMT\n",
            "< Last-Modified: Mon, 03 May 2021 20:59:59 GMT\n",
            "< Vary: Accept-Encoding\n",
            "< Age: 0\n",
            "< X-Socrata-Region: aws-us-east-1-fedramp-prod\n",
            "< Strict-Transport-Security: max-age=31536000; includeSubDomains\n",
            "< X-Socrata-RequestId: 2a7484c9ed7c64db7763f0167fe8379d\n",
            "< \n",
            "{ [15539 bytes data]\n",
            "100 2251M    0 2251M    0     0  4660k      0 --:--:--  0:08:14 --:--:-- 4888k\n",
            "* Connection #0 to host data.cityofnewyork.us left intact\n"
          ],
          "name": "stdout"
        }
      ]
    },
    {
      "cell_type": "code",
      "metadata": {
        "id": "VNdvd4kY5mm1",
        "outputId": "56b591bd-4df3-4c40-9faf-d6cfd53f5113",
        "colab": {
          "base_uri": "https://localhost:8080/",
          "height": 355
        }
      },
      "source": [
        "# We load directly from the URL\n",
        "url = 'https://data.cityofnewyork.us/api/views/qgea-i56i/rows.csv?accessType=DOWNLOAD'\n",
        "df = pd.read_csv(url, low_memory = True, dtype='object')\n"
      ],
      "execution_count": 2,
      "outputs": [
        {
          "output_type": "error",
          "ename": "KeyboardInterrupt",
          "evalue": "ignored",
          "traceback": [
            "\u001b[0;31m---------------------------------------------------------------------------\u001b[0m",
            "\u001b[0;31mKeyboardInterrupt\u001b[0m                         Traceback (most recent call last)",
            "\u001b[0;32m<ipython-input-2-27a28517fd1d>\u001b[0m in \u001b[0;36m<module>\u001b[0;34m()\u001b[0m\n\u001b[1;32m      1\u001b[0m \u001b[0;31m# We load directly from the URL\u001b[0m\u001b[0;34m\u001b[0m\u001b[0;34m\u001b[0m\u001b[0;34m\u001b[0m\u001b[0m\n\u001b[1;32m      2\u001b[0m \u001b[0murl\u001b[0m \u001b[0;34m=\u001b[0m \u001b[0;34m'https://data.cityofnewyork.us/api/views/qgea-i56i/rows.csv?accessType=DOWNLOAD'\u001b[0m\u001b[0;34m\u001b[0m\u001b[0;34m\u001b[0m\u001b[0m\n\u001b[0;32m----> 3\u001b[0;31m \u001b[0mdf\u001b[0m \u001b[0;34m=\u001b[0m \u001b[0mpd\u001b[0m\u001b[0;34m.\u001b[0m\u001b[0mread_csv\u001b[0m\u001b[0;34m(\u001b[0m\u001b[0murl\u001b[0m\u001b[0;34m,\u001b[0m \u001b[0mlow_memory\u001b[0m \u001b[0;34m=\u001b[0m \u001b[0;32mTrue\u001b[0m\u001b[0;34m,\u001b[0m \u001b[0mdtype\u001b[0m\u001b[0;34m=\u001b[0m\u001b[0;34m'object'\u001b[0m\u001b[0;34m)\u001b[0m\u001b[0;34m\u001b[0m\u001b[0;34m\u001b[0m\u001b[0m\n\u001b[0m",
            "\u001b[0;32m/usr/local/lib/python3.7/dist-packages/pandas/io/parsers.py\u001b[0m in \u001b[0;36mread_csv\u001b[0;34m(filepath_or_buffer, sep, delimiter, header, names, index_col, usecols, squeeze, prefix, mangle_dupe_cols, dtype, engine, converters, true_values, false_values, skipinitialspace, skiprows, skipfooter, nrows, na_values, keep_default_na, na_filter, verbose, skip_blank_lines, parse_dates, infer_datetime_format, keep_date_col, date_parser, dayfirst, cache_dates, iterator, chunksize, compression, thousands, decimal, lineterminator, quotechar, quoting, doublequote, escapechar, comment, encoding, dialect, error_bad_lines, warn_bad_lines, delim_whitespace, low_memory, memory_map, float_precision)\u001b[0m\n\u001b[1;32m    686\u001b[0m     )\n\u001b[1;32m    687\u001b[0m \u001b[0;34m\u001b[0m\u001b[0m\n\u001b[0;32m--> 688\u001b[0;31m     \u001b[0;32mreturn\u001b[0m \u001b[0m_read\u001b[0m\u001b[0;34m(\u001b[0m\u001b[0mfilepath_or_buffer\u001b[0m\u001b[0;34m,\u001b[0m \u001b[0mkwds\u001b[0m\u001b[0;34m)\u001b[0m\u001b[0;34m\u001b[0m\u001b[0;34m\u001b[0m\u001b[0m\n\u001b[0m\u001b[1;32m    689\u001b[0m \u001b[0;34m\u001b[0m\u001b[0m\n\u001b[1;32m    690\u001b[0m \u001b[0;34m\u001b[0m\u001b[0m\n",
            "\u001b[0;32m/usr/local/lib/python3.7/dist-packages/pandas/io/parsers.py\u001b[0m in \u001b[0;36m_read\u001b[0;34m(filepath_or_buffer, kwds)\u001b[0m\n\u001b[1;32m    435\u001b[0m     \u001b[0;31m# See https://github.com/python/mypy/issues/1297\u001b[0m\u001b[0;34m\u001b[0m\u001b[0;34m\u001b[0m\u001b[0;34m\u001b[0m\u001b[0m\n\u001b[1;32m    436\u001b[0m     fp_or_buf, _, compression, should_close = get_filepath_or_buffer(\n\u001b[0;32m--> 437\u001b[0;31m         \u001b[0mfilepath_or_buffer\u001b[0m\u001b[0;34m,\u001b[0m \u001b[0mencoding\u001b[0m\u001b[0;34m,\u001b[0m \u001b[0mcompression\u001b[0m\u001b[0;34m\u001b[0m\u001b[0;34m\u001b[0m\u001b[0m\n\u001b[0m\u001b[1;32m    438\u001b[0m     )\n\u001b[1;32m    439\u001b[0m     \u001b[0mkwds\u001b[0m\u001b[0;34m[\u001b[0m\u001b[0;34m\"compression\"\u001b[0m\u001b[0;34m]\u001b[0m \u001b[0;34m=\u001b[0m \u001b[0mcompression\u001b[0m\u001b[0;34m\u001b[0m\u001b[0;34m\u001b[0m\u001b[0m\n",
            "\u001b[0;32m/usr/local/lib/python3.7/dist-packages/pandas/io/common.py\u001b[0m in \u001b[0;36mget_filepath_or_buffer\u001b[0;34m(filepath_or_buffer, encoding, compression, mode, storage_options)\u001b[0m\n\u001b[1;32m    186\u001b[0m             \u001b[0;31m# Override compression based on Content-Encoding header\u001b[0m\u001b[0;34m\u001b[0m\u001b[0;34m\u001b[0m\u001b[0;34m\u001b[0m\u001b[0m\n\u001b[1;32m    187\u001b[0m             \u001b[0mcompression\u001b[0m \u001b[0;34m=\u001b[0m \u001b[0;34m\"gzip\"\u001b[0m\u001b[0;34m\u001b[0m\u001b[0;34m\u001b[0m\u001b[0m\n\u001b[0;32m--> 188\u001b[0;31m         \u001b[0mreader\u001b[0m \u001b[0;34m=\u001b[0m \u001b[0mBytesIO\u001b[0m\u001b[0;34m(\u001b[0m\u001b[0mreq\u001b[0m\u001b[0;34m.\u001b[0m\u001b[0mread\u001b[0m\u001b[0;34m(\u001b[0m\u001b[0;34m)\u001b[0m\u001b[0;34m)\u001b[0m\u001b[0;34m\u001b[0m\u001b[0;34m\u001b[0m\u001b[0m\n\u001b[0m\u001b[1;32m    189\u001b[0m         \u001b[0mreq\u001b[0m\u001b[0;34m.\u001b[0m\u001b[0mclose\u001b[0m\u001b[0;34m(\u001b[0m\u001b[0;34m)\u001b[0m\u001b[0;34m\u001b[0m\u001b[0;34m\u001b[0m\u001b[0m\n\u001b[1;32m    190\u001b[0m         \u001b[0;32mreturn\u001b[0m \u001b[0mreader\u001b[0m\u001b[0;34m,\u001b[0m \u001b[0mencoding\u001b[0m\u001b[0;34m,\u001b[0m \u001b[0mcompression\u001b[0m\u001b[0;34m,\u001b[0m \u001b[0;32mTrue\u001b[0m\u001b[0;34m\u001b[0m\u001b[0;34m\u001b[0m\u001b[0m\n",
            "\u001b[0;32m/usr/lib/python3.7/http/client.py\u001b[0m in \u001b[0;36mread\u001b[0;34m(self, amt)\u001b[0m\n\u001b[1;32m    466\u001b[0m \u001b[0;34m\u001b[0m\u001b[0m\n\u001b[1;32m    467\u001b[0m             \u001b[0;32mif\u001b[0m \u001b[0mself\u001b[0m\u001b[0;34m.\u001b[0m\u001b[0mchunked\u001b[0m\u001b[0;34m:\u001b[0m\u001b[0;34m\u001b[0m\u001b[0;34m\u001b[0m\u001b[0m\n\u001b[0;32m--> 468\u001b[0;31m                 \u001b[0;32mreturn\u001b[0m \u001b[0mself\u001b[0m\u001b[0;34m.\u001b[0m\u001b[0m_readall_chunked\u001b[0m\u001b[0;34m(\u001b[0m\u001b[0;34m)\u001b[0m\u001b[0;34m\u001b[0m\u001b[0;34m\u001b[0m\u001b[0m\n\u001b[0m\u001b[1;32m    469\u001b[0m \u001b[0;34m\u001b[0m\u001b[0m\n\u001b[1;32m    470\u001b[0m             \u001b[0;32mif\u001b[0m \u001b[0mself\u001b[0m\u001b[0;34m.\u001b[0m\u001b[0mlength\u001b[0m \u001b[0;32mis\u001b[0m \u001b[0;32mNone\u001b[0m\u001b[0;34m:\u001b[0m\u001b[0;34m\u001b[0m\u001b[0;34m\u001b[0m\u001b[0m\n",
            "\u001b[0;32m/usr/lib/python3.7/http/client.py\u001b[0m in \u001b[0;36m_readall_chunked\u001b[0;34m(self)\u001b[0m\n\u001b[1;32m    576\u001b[0m                 \u001b[0;32mif\u001b[0m \u001b[0mchunk_left\u001b[0m \u001b[0;32mis\u001b[0m \u001b[0;32mNone\u001b[0m\u001b[0;34m:\u001b[0m\u001b[0;34m\u001b[0m\u001b[0;34m\u001b[0m\u001b[0m\n\u001b[1;32m    577\u001b[0m                     \u001b[0;32mbreak\u001b[0m\u001b[0;34m\u001b[0m\u001b[0;34m\u001b[0m\u001b[0m\n\u001b[0;32m--> 578\u001b[0;31m                 \u001b[0mvalue\u001b[0m\u001b[0;34m.\u001b[0m\u001b[0mappend\u001b[0m\u001b[0;34m(\u001b[0m\u001b[0mself\u001b[0m\u001b[0;34m.\u001b[0m\u001b[0m_safe_read\u001b[0m\u001b[0;34m(\u001b[0m\u001b[0mchunk_left\u001b[0m\u001b[0;34m)\u001b[0m\u001b[0;34m)\u001b[0m\u001b[0;34m\u001b[0m\u001b[0;34m\u001b[0m\u001b[0m\n\u001b[0m\u001b[1;32m    579\u001b[0m                 \u001b[0mself\u001b[0m\u001b[0;34m.\u001b[0m\u001b[0mchunk_left\u001b[0m \u001b[0;34m=\u001b[0m \u001b[0;36m0\u001b[0m\u001b[0;34m\u001b[0m\u001b[0;34m\u001b[0m\u001b[0m\n\u001b[1;32m    580\u001b[0m             \u001b[0;32mreturn\u001b[0m \u001b[0;34mb''\u001b[0m\u001b[0;34m.\u001b[0m\u001b[0mjoin\u001b[0m\u001b[0;34m(\u001b[0m\u001b[0mvalue\u001b[0m\u001b[0;34m)\u001b[0m\u001b[0;34m\u001b[0m\u001b[0;34m\u001b[0m\u001b[0m\n",
            "\u001b[0;32m/usr/lib/python3.7/http/client.py\u001b[0m in \u001b[0;36m_safe_read\u001b[0;34m(self, amt)\u001b[0m\n\u001b[1;32m    622\u001b[0m         \u001b[0ms\u001b[0m \u001b[0;34m=\u001b[0m \u001b[0;34m[\u001b[0m\u001b[0;34m]\u001b[0m\u001b[0;34m\u001b[0m\u001b[0;34m\u001b[0m\u001b[0m\n\u001b[1;32m    623\u001b[0m         \u001b[0;32mwhile\u001b[0m \u001b[0mamt\u001b[0m \u001b[0;34m>\u001b[0m \u001b[0;36m0\u001b[0m\u001b[0;34m:\u001b[0m\u001b[0;34m\u001b[0m\u001b[0;34m\u001b[0m\u001b[0m\n\u001b[0;32m--> 624\u001b[0;31m             \u001b[0mchunk\u001b[0m \u001b[0;34m=\u001b[0m \u001b[0mself\u001b[0m\u001b[0;34m.\u001b[0m\u001b[0mfp\u001b[0m\u001b[0;34m.\u001b[0m\u001b[0mread\u001b[0m\u001b[0;34m(\u001b[0m\u001b[0mmin\u001b[0m\u001b[0;34m(\u001b[0m\u001b[0mamt\u001b[0m\u001b[0;34m,\u001b[0m \u001b[0mMAXAMOUNT\u001b[0m\u001b[0;34m)\u001b[0m\u001b[0;34m)\u001b[0m\u001b[0;34m\u001b[0m\u001b[0;34m\u001b[0m\u001b[0m\n\u001b[0m\u001b[1;32m    625\u001b[0m             \u001b[0;32mif\u001b[0m \u001b[0;32mnot\u001b[0m \u001b[0mchunk\u001b[0m\u001b[0;34m:\u001b[0m\u001b[0;34m\u001b[0m\u001b[0;34m\u001b[0m\u001b[0m\n\u001b[1;32m    626\u001b[0m                 \u001b[0;32mraise\u001b[0m \u001b[0mIncompleteRead\u001b[0m\u001b[0;34m(\u001b[0m\u001b[0;34mb''\u001b[0m\u001b[0;34m.\u001b[0m\u001b[0mjoin\u001b[0m\u001b[0;34m(\u001b[0m\u001b[0ms\u001b[0m\u001b[0;34m)\u001b[0m\u001b[0;34m,\u001b[0m \u001b[0mamt\u001b[0m\u001b[0;34m)\u001b[0m\u001b[0;34m\u001b[0m\u001b[0;34m\u001b[0m\u001b[0m\n",
            "\u001b[0;32m/usr/lib/python3.7/socket.py\u001b[0m in \u001b[0;36mreadinto\u001b[0;34m(self, b)\u001b[0m\n\u001b[1;32m    587\u001b[0m         \u001b[0;32mwhile\u001b[0m \u001b[0;32mTrue\u001b[0m\u001b[0;34m:\u001b[0m\u001b[0;34m\u001b[0m\u001b[0;34m\u001b[0m\u001b[0m\n\u001b[1;32m    588\u001b[0m             \u001b[0;32mtry\u001b[0m\u001b[0;34m:\u001b[0m\u001b[0;34m\u001b[0m\u001b[0;34m\u001b[0m\u001b[0m\n\u001b[0;32m--> 589\u001b[0;31m                 \u001b[0;32mreturn\u001b[0m \u001b[0mself\u001b[0m\u001b[0;34m.\u001b[0m\u001b[0m_sock\u001b[0m\u001b[0;34m.\u001b[0m\u001b[0mrecv_into\u001b[0m\u001b[0;34m(\u001b[0m\u001b[0mb\u001b[0m\u001b[0;34m)\u001b[0m\u001b[0;34m\u001b[0m\u001b[0;34m\u001b[0m\u001b[0m\n\u001b[0m\u001b[1;32m    590\u001b[0m             \u001b[0;32mexcept\u001b[0m \u001b[0mtimeout\u001b[0m\u001b[0;34m:\u001b[0m\u001b[0;34m\u001b[0m\u001b[0;34m\u001b[0m\u001b[0m\n\u001b[1;32m    591\u001b[0m                 \u001b[0mself\u001b[0m\u001b[0;34m.\u001b[0m\u001b[0m_timeout_occurred\u001b[0m \u001b[0;34m=\u001b[0m \u001b[0;32mTrue\u001b[0m\u001b[0;34m\u001b[0m\u001b[0;34m\u001b[0m\u001b[0m\n",
            "\u001b[0;32m/usr/lib/python3.7/ssl.py\u001b[0m in \u001b[0;36mrecv_into\u001b[0;34m(self, buffer, nbytes, flags)\u001b[0m\n\u001b[1;32m   1069\u001b[0m                   \u001b[0;34m\"non-zero flags not allowed in calls to recv_into() on %s\"\u001b[0m \u001b[0;34m%\u001b[0m\u001b[0;34m\u001b[0m\u001b[0;34m\u001b[0m\u001b[0m\n\u001b[1;32m   1070\u001b[0m                   self.__class__)\n\u001b[0;32m-> 1071\u001b[0;31m             \u001b[0;32mreturn\u001b[0m \u001b[0mself\u001b[0m\u001b[0;34m.\u001b[0m\u001b[0mread\u001b[0m\u001b[0;34m(\u001b[0m\u001b[0mnbytes\u001b[0m\u001b[0;34m,\u001b[0m \u001b[0mbuffer\u001b[0m\u001b[0;34m)\u001b[0m\u001b[0;34m\u001b[0m\u001b[0;34m\u001b[0m\u001b[0m\n\u001b[0m\u001b[1;32m   1072\u001b[0m         \u001b[0;32melse\u001b[0m\u001b[0;34m:\u001b[0m\u001b[0;34m\u001b[0m\u001b[0;34m\u001b[0m\u001b[0m\n\u001b[1;32m   1073\u001b[0m             \u001b[0;32mreturn\u001b[0m \u001b[0msuper\u001b[0m\u001b[0;34m(\u001b[0m\u001b[0;34m)\u001b[0m\u001b[0;34m.\u001b[0m\u001b[0mrecv_into\u001b[0m\u001b[0;34m(\u001b[0m\u001b[0mbuffer\u001b[0m\u001b[0;34m,\u001b[0m \u001b[0mnbytes\u001b[0m\u001b[0;34m,\u001b[0m \u001b[0mflags\u001b[0m\u001b[0;34m)\u001b[0m\u001b[0;34m\u001b[0m\u001b[0;34m\u001b[0m\u001b[0m\n",
            "\u001b[0;32m/usr/lib/python3.7/ssl.py\u001b[0m in \u001b[0;36mread\u001b[0;34m(self, len, buffer)\u001b[0m\n\u001b[1;32m    927\u001b[0m         \u001b[0;32mtry\u001b[0m\u001b[0;34m:\u001b[0m\u001b[0;34m\u001b[0m\u001b[0;34m\u001b[0m\u001b[0m\n\u001b[1;32m    928\u001b[0m             \u001b[0;32mif\u001b[0m \u001b[0mbuffer\u001b[0m \u001b[0;32mis\u001b[0m \u001b[0;32mnot\u001b[0m \u001b[0;32mNone\u001b[0m\u001b[0;34m:\u001b[0m\u001b[0;34m\u001b[0m\u001b[0;34m\u001b[0m\u001b[0m\n\u001b[0;32m--> 929\u001b[0;31m                 \u001b[0;32mreturn\u001b[0m \u001b[0mself\u001b[0m\u001b[0;34m.\u001b[0m\u001b[0m_sslobj\u001b[0m\u001b[0;34m.\u001b[0m\u001b[0mread\u001b[0m\u001b[0;34m(\u001b[0m\u001b[0mlen\u001b[0m\u001b[0;34m,\u001b[0m \u001b[0mbuffer\u001b[0m\u001b[0;34m)\u001b[0m\u001b[0;34m\u001b[0m\u001b[0;34m\u001b[0m\u001b[0m\n\u001b[0m\u001b[1;32m    930\u001b[0m             \u001b[0;32melse\u001b[0m\u001b[0;34m:\u001b[0m\u001b[0;34m\u001b[0m\u001b[0;34m\u001b[0m\u001b[0m\n\u001b[1;32m    931\u001b[0m                 \u001b[0;32mreturn\u001b[0m \u001b[0mself\u001b[0m\u001b[0;34m.\u001b[0m\u001b[0m_sslobj\u001b[0m\u001b[0;34m.\u001b[0m\u001b[0mread\u001b[0m\u001b[0;34m(\u001b[0m\u001b[0mlen\u001b[0m\u001b[0;34m)\u001b[0m\u001b[0;34m\u001b[0m\u001b[0;34m\u001b[0m\u001b[0m\n",
            "\u001b[0;31mKeyboardInterrupt\u001b[0m: "
          ]
        }
      ]
    },
    {
      "cell_type": "code",
      "metadata": {
        "id": "RmxhWjIz5mm2",
        "outputId": "90964b05-7433-4d29-d046-38792ca60e42",
        "colab": {
          "base_uri": "https://localhost:8080/"
        }
      },
      "source": [
        "len(df)"
      ],
      "execution_count": 4,
      "outputs": [
        {
          "output_type": "execute_result",
          "data": {
            "text/plain": [
              "7396619"
            ]
          },
          "metadata": {
            "tags": []
          },
          "execution_count": 4
        }
      ]
    },
    {
      "cell_type": "code",
      "metadata": {
        "id": "LEnqUtmb5mm3",
        "outputId": "34e378fa-c246-4d2b-eae8-0f92be213ccd",
        "colab": {
          "base_uri": "https://localhost:8080/"
        }
      },
      "source": [
        "df.info()"
      ],
      "execution_count": 5,
      "outputs": [
        {
          "output_type": "stream",
          "text": [
            "<class 'pandas.core.frame.DataFrame'>\n",
            "RangeIndex: 7396619 entries, 0 to 7396618\n",
            "Data columns (total 35 columns):\n",
            " #   Column             Dtype \n",
            "---  ------             ----- \n",
            " 0   CMPLNT_NUM         object\n",
            " 1   CMPLNT_FR_DT       object\n",
            " 2   CMPLNT_FR_TM       object\n",
            " 3   CMPLNT_TO_DT       object\n",
            " 4   CMPLNT_TO_TM       object\n",
            " 5   ADDR_PCT_CD        object\n",
            " 6   RPT_DT             object\n",
            " 7   KY_CD              object\n",
            " 8   OFNS_DESC          object\n",
            " 9   PD_CD              object\n",
            " 10  PD_DESC            object\n",
            " 11  CRM_ATPT_CPTD_CD   object\n",
            " 12  LAW_CAT_CD         object\n",
            " 13  BORO_NM            object\n",
            " 14  LOC_OF_OCCUR_DESC  object\n",
            " 15  PREM_TYP_DESC      object\n",
            " 16  JURIS_DESC         object\n",
            " 17  JURISDICTION_CODE  object\n",
            " 18  PARKS_NM           object\n",
            " 19  HADEVELOPT         object\n",
            " 20  HOUSING_PSA        object\n",
            " 21  X_COORD_CD         object\n",
            " 22  Y_COORD_CD         object\n",
            " 23  SUSP_AGE_GROUP     object\n",
            " 24  SUSP_RACE          object\n",
            " 25  SUSP_SEX           object\n",
            " 26  TRANSIT_DISTRICT   object\n",
            " 27  Latitude           object\n",
            " 28  Longitude          object\n",
            " 29  Lat_Lon            object\n",
            " 30  PATROL_BORO        object\n",
            " 31  STATION_NAME       object\n",
            " 32  VIC_AGE_GROUP      object\n",
            " 33  VIC_RACE           object\n",
            " 34  VIC_SEX            object\n",
            "dtypes: object(35)\n",
            "memory usage: 1.9+ GB\n"
          ],
          "name": "stdout"
        }
      ]
    },
    {
      "cell_type": "markdown",
      "metadata": {
        "id": "iom7bUxU5mm4"
      },
      "source": [
        "## Data Cleaning"
      ]
    },
    {
      "cell_type": "code",
      "metadata": {
        "id": "zEzw3CMhJ1jU"
      },
      "source": [
        "# Drop cases with duplicated complaint numbers\n",
        "key_cnt = df.CMPLNT_NUM.value_counts()\n",
        "key_cnt [ key_cnt>1 ]\n",
        "df = df[ ~df.CMPLNT_NUM.isin( key_cnt [ key_cnt>1 ].index.values ) ]"
      ],
      "execution_count": null,
      "outputs": []
    },
    {
      "cell_type": "code",
      "metadata": {
        "id": "f2F3vSC_5mm5"
      },
      "source": [
        "# There are a few rows that contain year 1015, 1016, ... that trigger an error during date conversion\n",
        "# We replace all years written as 10XX with 20XX\n",
        "# Note the usage of regular expressions\n",
        "df.CMPLNT_FR_DT.replace(to_replace = '(\\d\\d)/(\\d\\d)/10(\\d\\d)', value=r'\\1/\\2/20\\3', inplace = True, regex=True )\n",
        "df.CMPLNT_TO_DT.replace(to_replace = '(\\d\\d)/(\\d\\d)/10(\\d\\d)', value=r'\\1/\\2/20\\3', inplace = True, regex=True )"
      ],
      "execution_count": 6,
      "outputs": []
    },
    {
      "cell_type": "code",
      "metadata": {
        "id": "W75-d3hf5mm6"
      },
      "source": [
        "# Similarly, a few hours are written as 24:00:00, which also triggers errors.\n",
        "# We fix these hours\n",
        "df.CMPLNT_FR_TM.replace(to_replace = '24:00:00', value='00:00:00', inplace = True)\n",
        "df.CMPLNT_TO_TM.replace(to_replace = '24:00:00', value='00:00:00', inplace = True)"
      ],
      "execution_count": 7,
      "outputs": []
    },
    {
      "cell_type": "code",
      "metadata": {
        "id": "y_L6v8D-5mm6"
      },
      "source": [
        "# Convert the two separate date and time columns into single datetime columns\n",
        "df['CMPLNT_FR'] = pd.to_datetime(df.CMPLNT_FR_DT + ' ' + df.CMPLNT_FR_TM, format='%m/%d/%Y %H:%M:%S', cache=True)\n",
        "df['CMPLNT_TO'] = pd.to_datetime(df.CMPLNT_TO_DT + ' ' + df.CMPLNT_TO_TM, format='%m/%d/%Y %H:%M:%S', cache=True)\n",
        "\n",
        "# Convert RPT_DT to date\n",
        "df.RPT_DT = pd.to_datetime(df.RPT_DT, format=\"%m/%d/%Y\", cache=True)"
      ],
      "execution_count": 8,
      "outputs": []
    },
    {
      "cell_type": "code",
      "metadata": {
        "id": "hqgAxM-F5mm7"
      },
      "source": [
        "# These columns are redundant\n",
        "to_drop = ['CMPLNT_FR_DT','CMPLNT_TO_DT','CMPLNT_FR_TM','CMPLNT_TO_TM','Lat_Lon','X_COORD_CD','Y_COORD_CD']\n",
        "# We created the CMPLNT_FR and CMPLNT_TO columns\n",
        "# We have the longitude and latitude so the other coordinates are not needed\n",
        "df = df.drop(to_drop, axis='columns')"
      ],
      "execution_count": 9,
      "outputs": []
    },
    {
      "cell_type": "code",
      "metadata": {
        "id": "ZGSY4h6T5mm7"
      },
      "source": [
        "# MISD means MISDEMEANOR\n",
        "df.LAW_CAT_CD.replace(to_replace = 'MISD', value='MISDEMEANOR', inplace = True )"
      ],
      "execution_count": 10,
      "outputs": []
    },
    {
      "cell_type": "code",
      "metadata": {
        "id": "F2x2hG115mm8"
      },
      "source": [
        "# In some columns we have values that indicate unknown values.\n",
        "# The columns also have NULL values, which indicate the same.\n",
        "# We replace the values with NULL, for consistency\n",
        "\n",
        "# Replace ' ' with NULL\n",
        "df.LOC_OF_OCCUR_DESC.replace(to_replace = ' ', value=np.nan, inplace = True)\n",
        "# U is unknown, same is NULL.\n",
        "df.VIC_SEX.replace(to_replace = 'U', value=np.nan, inplace = True)\n",
        "df.SUSP_SEX.replace(to_replace = 'U', value=np.nan, inplace = True)\n",
        "# Very small amount of OTHER values\n",
        "df.SUSP_RACE.replace(to_replace = 'OTHER', value=np.nan, inplace = True)\n",
        "df.VIC_RACE.replace(to_replace = 'OTHER', value=np.nan, inplace = True)\n",
        "# Very small amount of OTHER values\n",
        "df.SUSP_RACE.replace(to_replace = 'UNKNOWN', value=np.nan, inplace = True)\n",
        "df.VIC_RACE.replace(to_replace = 'UNKNOWN', value=np.nan, inplace = True)"
      ],
      "execution_count": 11,
      "outputs": []
    },
    {
      "cell_type": "code",
      "metadata": {
        "id": "zfCHXyE_5mm8",
        "outputId": "3e98e688-9316-4909-a4e5-35bc76ae1281",
        "colab": {
          "base_uri": "https://localhost:8080/"
        }
      },
      "source": [
        "df.info()"
      ],
      "execution_count": 12,
      "outputs": [
        {
          "output_type": "stream",
          "text": [
            "<class 'pandas.core.frame.DataFrame'>\n",
            "RangeIndex: 7396619 entries, 0 to 7396618\n",
            "Data columns (total 30 columns):\n",
            " #   Column             Dtype         \n",
            "---  ------             -----         \n",
            " 0   CMPLNT_NUM         object        \n",
            " 1   ADDR_PCT_CD        object        \n",
            " 2   RPT_DT             datetime64[ns]\n",
            " 3   KY_CD              object        \n",
            " 4   OFNS_DESC          object        \n",
            " 5   PD_CD              object        \n",
            " 6   PD_DESC            object        \n",
            " 7   CRM_ATPT_CPTD_CD   object        \n",
            " 8   LAW_CAT_CD         object        \n",
            " 9   BORO_NM            object        \n",
            " 10  LOC_OF_OCCUR_DESC  object        \n",
            " 11  PREM_TYP_DESC      object        \n",
            " 12  JURIS_DESC         object        \n",
            " 13  JURISDICTION_CODE  object        \n",
            " 14  PARKS_NM           object        \n",
            " 15  HADEVELOPT         object        \n",
            " 16  HOUSING_PSA        object        \n",
            " 17  SUSP_AGE_GROUP     object        \n",
            " 18  SUSP_RACE          object        \n",
            " 19  SUSP_SEX           object        \n",
            " 20  TRANSIT_DISTRICT   object        \n",
            " 21  Latitude           object        \n",
            " 22  Longitude          object        \n",
            " 23  PATROL_BORO        object        \n",
            " 24  STATION_NAME       object        \n",
            " 25  VIC_AGE_GROUP      object        \n",
            " 26  VIC_RACE           object        \n",
            " 27  VIC_SEX            object        \n",
            " 28  CMPLNT_FR          datetime64[ns]\n",
            " 29  CMPLNT_TO          datetime64[ns]\n",
            "dtypes: datetime64[ns](3), object(27)\n",
            "memory usage: 1.7+ GB\n"
          ],
          "name": "stdout"
        }
      ]
    },
    {
      "cell_type": "code",
      "metadata": {
        "id": "rBJBYf9g5mm9"
      },
      "source": [
        "# Both columns have a lot of noisy entries. We keep only the dominant groups, and also define an order\n",
        "df.SUSP_AGE_GROUP = pd.Categorical(df.SUSP_AGE_GROUP, ordered=True, categories=['<18', '18-24',  '25-44', '45-64', '65+'])\n",
        "df.VIC_AGE_GROUP = pd.Categorical(df.VIC_AGE_GROUP, ordered=True, categories=['<18', '18-24',  '25-44', '45-64', '65+'])"
      ],
      "execution_count": 13,
      "outputs": []
    },
    {
      "cell_type": "code",
      "metadata": {
        "id": "U9no8KCH5mm9"
      },
      "source": [
        "df.Latitude = pd.to_numeric(df.Latitude, downcast='float')\n",
        "df.Longitude  = pd.to_numeric(df.Longitude, downcast='float')"
      ],
      "execution_count": 14,
      "outputs": []
    },
    {
      "cell_type": "markdown",
      "metadata": {
        "id": "haa-38oP5mm9"
      },
      "source": [
        "## Data exploration\n",
        "\n",
        "In this part we check the different values that appear in the columns. When we detect noisy results, we delete the corresponding values. In fact, many of the operations that are performed above, in the 'data cleaning' section, are the result of observations that we make here. "
      ]
    },
    {
      "cell_type": "code",
      "metadata": {
        "id": "69cO2qRn5mm-",
        "outputId": "1ccc6aa8-1a8d-4728-b667-fc1b6f929b32",
        "colab": {
          "base_uri": "https://localhost:8080/"
        }
      },
      "source": [
        "# Find the unique values in each column\n",
        "# \n",
        "# df.describe(include = [np.object, 'category']).T['unique']\n",
        "unique = df.describe(include = 'all').T['unique'].sort_values()"
      ],
      "execution_count": 15,
      "outputs": [
        {
          "output_type": "stream",
          "text": [
            "/usr/local/lib/python3.7/dist-packages/ipykernel_launcher.py:4: FutureWarning: Treating datetime data as categorical rather than numeric in `.describe` is deprecated and will be removed in a future version of pandas. Specify `datetime_is_numeric=True` to silence this warning and adopt the future behavior now.\n",
            "  after removing the cwd from sys.path.\n",
            "/usr/local/lib/python3.7/dist-packages/ipykernel_launcher.py:4: FutureWarning: Treating datetime data as categorical rather than numeric in `.describe` is deprecated and will be removed in a future version of pandas. Specify `datetime_is_numeric=True` to silence this warning and adopt the future behavior now.\n",
            "  after removing the cwd from sys.path.\n",
            "/usr/local/lib/python3.7/dist-packages/ipykernel_launcher.py:4: FutureWarning: Treating datetime data as categorical rather than numeric in `.describe` is deprecated and will be removed in a future version of pandas. Specify `datetime_is_numeric=True` to silence this warning and adopt the future behavior now.\n",
            "  after removing the cwd from sys.path.\n"
          ],
          "name": "stderr"
        }
      ]
    },
    {
      "cell_type": "code",
      "metadata": {
        "id": "dO8EETzo5mm-",
        "outputId": "d61df471-c1ea-4793-d1c3-b81ce06d8cda",
        "colab": {
          "base_uri": "https://localhost:8080/"
        }
      },
      "source": [
        "unique"
      ],
      "execution_count": 16,
      "outputs": [
        {
          "output_type": "execute_result",
          "data": {
            "text/plain": [
              "SUSP_SEX                   2\n",
              "CRM_ATPT_CPTD_CD           2\n",
              "LAW_CAT_CD                 3\n",
              "VIC_SEX                    4\n",
              "VIC_AGE_GROUP              5\n",
              "SUSP_AGE_GROUP             5\n",
              "BORO_NM                    5\n",
              "LOC_OF_OCCUR_DESC          5\n",
              "SUSP_RACE                  6\n",
              "VIC_RACE                   6\n",
              "PATROL_BORO                8\n",
              "TRANSIT_DISTRICT          12\n",
              "JURISDICTION_CODE         25\n",
              "JURIS_DESC                25\n",
              "OFNS_DESC                 71\n",
              "KY_CD                     74\n",
              "PREM_TYP_DESC             74\n",
              "ADDR_PCT_CD               78\n",
              "HADEVELOPT               279\n",
              "STATION_NAME             372\n",
              "PD_DESC                  422\n",
              "PD_CD                    432\n",
              "PARKS_NM                1205\n",
              "HOUSING_PSA             5102\n",
              "RPT_DT                  5479\n",
              "CMPLNT_FR            2053256\n",
              "CMPLNT_TO            2262990\n",
              "CMPLNT_NUM           7373156\n",
              "Latitude                 NaN\n",
              "Longitude                NaN\n",
              "Name: unique, dtype: object"
            ]
          },
          "metadata": {
            "tags": []
          },
          "execution_count": 16
        }
      ]
    },
    {
      "cell_type": "code",
      "metadata": {
        "id": "3LVJIEak5mnA",
        "outputId": "6938928c-4cd5-4167-f5fb-37f3e2dd76d7",
        "colab": {
          "base_uri": "https://localhost:8080/"
        }
      },
      "source": [
        "for column in unique.index:\n",
        "    if unique[column] < 200:\n",
        "        print(df[column].value_counts())\n",
        "        print(\"=====\")"
      ],
      "execution_count": 17,
      "outputs": [
        {
          "output_type": "stream",
          "text": [
            "M    2402648\n",
            "F     758515\n",
            "Name: SUSP_SEX, dtype: int64\n",
            "=====\n",
            "COMPLETED    7270662\n",
            "ATTEMPTED     125950\n",
            "Name: CRM_ATPT_CPTD_CD, dtype: int64\n",
            "=====\n",
            "MISDEMEANOR    4149416\n",
            "FELONY         2284995\n",
            "VIOLATION       962208\n",
            "Name: LAW_CAT_CD, dtype: int64\n",
            "=====\n",
            "F    2898168\n",
            "M    2441040\n",
            "E    1152793\n",
            "D     904306\n",
            "Name: VIC_SEX, dtype: int64\n",
            "=====\n",
            "25-44    2440544\n",
            "45-64    1272469\n",
            "18-24     751022\n",
            "<18       341321\n",
            "65+       261327\n",
            "Name: VIC_AGE_GROUP, dtype: int64\n",
            "=====\n",
            "25-44    1020765\n",
            "18-24     389283\n",
            "45-64     363435\n",
            "<18       109314\n",
            "65+        30510\n",
            "Name: SUSP_AGE_GROUP, dtype: int64\n",
            "=====\n",
            "BROOKLYN         2192618\n",
            "MANHATTAN        1776835\n",
            "BRONX            1603632\n",
            "QUEENS           1468180\n",
            "STATEN ISLAND     343975\n",
            "Name: BORO_NM, dtype: int64\n",
            "=====\n",
            "INSIDE         3763423\n",
            "FRONT OF       1729865\n",
            "OPPOSITE OF     195921\n",
            "REAR OF         157496\n",
            "OUTSIDE           3836\n",
            "Name: LOC_OF_OCCUR_DESC, dtype: int64\n",
            "=====\n",
            "BLACK                             1476712\n",
            "WHITE HISPANIC                     672125\n",
            "WHITE                              432157\n",
            "BLACK HISPANIC                     204368\n",
            "ASIAN / PACIFIC ISLANDER           126980\n",
            "AMERICAN INDIAN/ALASKAN NATIVE      11974\n",
            "Name: SUSP_RACE, dtype: int64\n",
            "=====\n",
            "BLACK                             1775426\n",
            "WHITE                             1272608\n",
            "WHITE HISPANIC                    1195742\n",
            "ASIAN / PACIFIC ISLANDER           428701\n",
            "BLACK HISPANIC                     251912\n",
            "AMERICAN INDIAN/ALASKAN NATIVE      33515\n",
            "Name: VIC_RACE, dtype: int64\n",
            "=====\n",
            "PATROL BORO BRONX            1604415\n",
            "PATROL BORO BKLYN SOUTH      1098813\n",
            "PATROL BORO BKLYN NORTH      1095309\n",
            "PATROL BORO MAN SOUTH         894477\n",
            "PATROL BORO MAN NORTH         881549\n",
            "PATROL BORO QUEENS NORTH      759786\n",
            "PATROL BORO QUEENS SOUTH      711389\n",
            "PATROL BORO STATEN ISLAND     344096\n",
            "Name: PATROL_BORO, dtype: int64\n",
            "=====\n",
            "4     27823\n",
            "2     20337\n",
            "3     15950\n",
            "1     15819\n",
            "20    14533\n",
            "33    14428\n",
            "12    12300\n",
            "11    11564\n",
            "32    11109\n",
            "30    10548\n",
            "34     7209\n",
            "23     2697\n",
            "Name: TRANSIT_DISTRICT, dtype: int64\n",
            "=====\n",
            "0     6569612\n",
            "2      562722\n",
            "1      164598\n",
            "3       34294\n",
            "97      24253\n",
            "72       9796\n",
            "69       8955\n",
            "4        5677\n",
            "14       3705\n",
            "11       1884\n",
            "88       1128\n",
            "15        826\n",
            "6         550\n",
            "71        477\n",
            "12        456\n",
            "9         439\n",
            "13        284\n",
            "87        279\n",
            "7         188\n",
            "85        106\n",
            "16         30\n",
            "8          16\n",
            "76         14\n",
            "73          1\n",
            "79          1\n",
            "Name: JURISDICTION_CODE, dtype: int64\n",
            "=====\n",
            "N.Y. POLICE DEPT                       6575284\n",
            "N.Y. HOUSING POLICE                     563344\n",
            "N.Y. TRANSIT POLICE                     164628\n",
            "PORT AUTHORITY                           34294\n",
            "OTHER                                    24257\n",
            "DEPT OF CORRECTIONS                       9796\n",
            "POLICE DEPT NYC                           8955\n",
            "TRI-BORO BRDG TUNNL                       5677\n",
            "HEALTH & HOSP CORP                        3705\n",
            "N.Y. STATE POLICE                         1884\n",
            "NYC PARKS                                 1128\n",
            "METRO NORTH                                826\n",
            "LONG ISLAND RAILRD                         550\n",
            "FIRE DEPT (FIRE MARSHAL)                   477\n",
            "N.Y. STATE PARKS                           456\n",
            "STATN IS RAPID TRANS                       439\n",
            "U.S. PARK POLICE                           284\n",
            "NEW YORK CITY SHERIFF OFFICE               279\n",
            "AMTRACK                                    188\n",
            "NYS DEPT TAX AND FINANCE                   106\n",
            "SEA GATE POLICE DEPT                        30\n",
            "CONRAIL                                     16\n",
            "NYC DEPT ENVIRONMENTAL PROTECTION           14\n",
            "DISTRICT ATTORNEY OFFICE                     1\n",
            "NYS DEPT ENVIRONMENTAL CONSERVATION          1\n",
            "Name: JURIS_DESC, dtype: int64\n",
            "=====\n",
            "PETIT LARCENY                       1247421\n",
            "HARRASSMENT 2                        947380\n",
            "ASSAULT 3 & RELATED OFFENSES         774832\n",
            "CRIMINAL MISCHIEF & RELATED OF       746648\n",
            "GRAND LARCENY                        643186\n",
            "                                     ...   \n",
            "OTHER STATE LAWS (NON PENAL LAW)         11\n",
            "ABORTION                                  7\n",
            "OFFENSES AGAINST MARRIAGE UNCL            4\n",
            "UNDER THE INFLUENCE OF DRUGS              3\n",
            "KIDNAPPING AND RELATED OFFENSES           3\n",
            "Name: OFNS_DESC, Length: 71, dtype: int64\n",
            "=====\n",
            "341    1247430\n",
            "578     947450\n",
            "344     774905\n",
            "109     643195\n",
            "351     620241\n",
            "        ...   \n",
            "881         15\n",
            "357         12\n",
            "123          7\n",
            "362          4\n",
            "577          3\n",
            "Name: KY_CD, Length: 74, dtype: int64\n",
            "=====\n",
            "STREET                        2354466\n",
            "RESIDENCE - APT. HOUSE        1572545\n",
            "RESIDENCE-HOUSE                729267\n",
            "RESIDENCE - PUBLIC HOUSING     554406\n",
            "OTHER                          200517\n",
            "                               ...   \n",
            "CEMETERY                          854\n",
            "MAILBOX INSIDE                    812\n",
            "LOAN COMPANY                      495\n",
            "TRAMWAY                           139\n",
            "DAYCARE FACILITY                   53\n",
            "Name: PREM_TYP_DESC, Length: 74, dtype: int64\n",
            "=====\n",
            "75     237646\n",
            "43     189961\n",
            "44     184817\n",
            "40     178819\n",
            "14     167361\n",
            "        ...  \n",
            "123     46012\n",
            "76      41241\n",
            "100     39394\n",
            "22       5728\n",
            "-99       750\n",
            "Name: ADDR_PCT_CD, Length: 78, dtype: int64\n",
            "=====\n"
          ],
          "name": "stdout"
        }
      ]
    },
    {
      "cell_type": "code",
      "metadata": {
        "id": "tmgxDfBz5mnB",
        "outputId": "a4d4f83f-2c03-4d9c-9024-b0d4a2883c35",
        "colab": {
          "base_uri": "https://localhost:8080/"
        }
      },
      "source": [
        "df.info()"
      ],
      "execution_count": 19,
      "outputs": [
        {
          "output_type": "stream",
          "text": [
            "<class 'pandas.core.frame.DataFrame'>\n",
            "RangeIndex: 7396619 entries, 0 to 7396618\n",
            "Data columns (total 30 columns):\n",
            " #   Column             Dtype         \n",
            "---  ------             -----         \n",
            " 0   CMPLNT_NUM         object        \n",
            " 1   ADDR_PCT_CD        category      \n",
            " 2   RPT_DT             datetime64[ns]\n",
            " 3   KY_CD              category      \n",
            " 4   OFNS_DESC          category      \n",
            " 5   PD_CD              category      \n",
            " 6   PD_DESC            category      \n",
            " 7   CRM_ATPT_CPTD_CD   category      \n",
            " 8   LAW_CAT_CD         category      \n",
            " 9   BORO_NM            category      \n",
            " 10  LOC_OF_OCCUR_DESC  category      \n",
            " 11  PREM_TYP_DESC      category      \n",
            " 12  JURIS_DESC         category      \n",
            " 13  JURISDICTION_CODE  category      \n",
            " 14  PARKS_NM           category      \n",
            " 15  HADEVELOPT         category      \n",
            " 16  HOUSING_PSA        category      \n",
            " 17  SUSP_AGE_GROUP     category      \n",
            " 18  SUSP_RACE          category      \n",
            " 19  SUSP_SEX           category      \n",
            " 20  TRANSIT_DISTRICT   category      \n",
            " 21  Latitude           float32       \n",
            " 22  Longitude          float32       \n",
            " 23  PATROL_BORO        category      \n",
            " 24  STATION_NAME       category      \n",
            " 25  VIC_AGE_GROUP      category      \n",
            " 26  VIC_RACE           category      \n",
            " 27  VIC_SEX            category      \n",
            " 28  CMPLNT_FR          datetime64[ns]\n",
            " 29  CMPLNT_TO          datetime64[ns]\n",
            "dtypes: category(24), datetime64[ns](3), float32(2), object(1)\n",
            "memory usage: 494.1+ MB\n"
          ],
          "name": "stdout"
        }
      ]
    },
    {
      "cell_type": "code",
      "metadata": {
        "id": "dvciXUSr5mnC"
      },
      "source": [
        "# All columns, except for the dates and spatial coordinates, are categorical\n",
        "# Columns with less than a few thousand unique values are good candidates \n",
        "# for ENUMs in the database given that the dataset is static.\n",
        "# Also, in Pandas the internal representation becomes much more efficient\n",
        "# as the Categoricals are stored as integers and not as strings\n",
        "for column in unique.index:\n",
        "    if column == 'RPT_DT':\n",
        "        continue\n",
        "    if unique[column] < 10000:\n",
        "        df[column] = pd.Categorical(df[column])"
      ],
      "execution_count": 18,
      "outputs": []
    },
    {
      "cell_type": "code",
      "metadata": {
        "id": "FVGtbgdr5mnD",
        "outputId": "6e242f9a-c75a-419b-e999-465141639b8b",
        "colab": {
          "base_uri": "https://localhost:8080/"
        }
      },
      "source": [
        "# With all the proper data typing the dataset went down in size from 1.6Gb+ to 400Mb.\n",
        "df.info()"
      ],
      "execution_count": 20,
      "outputs": [
        {
          "output_type": "stream",
          "text": [
            "<class 'pandas.core.frame.DataFrame'>\n",
            "RangeIndex: 7396619 entries, 0 to 7396618\n",
            "Data columns (total 30 columns):\n",
            " #   Column             Dtype         \n",
            "---  ------             -----         \n",
            " 0   CMPLNT_NUM         object        \n",
            " 1   ADDR_PCT_CD        category      \n",
            " 2   RPT_DT             datetime64[ns]\n",
            " 3   KY_CD              category      \n",
            " 4   OFNS_DESC          category      \n",
            " 5   PD_CD              category      \n",
            " 6   PD_DESC            category      \n",
            " 7   CRM_ATPT_CPTD_CD   category      \n",
            " 8   LAW_CAT_CD         category      \n",
            " 9   BORO_NM            category      \n",
            " 10  LOC_OF_OCCUR_DESC  category      \n",
            " 11  PREM_TYP_DESC      category      \n",
            " 12  JURIS_DESC         category      \n",
            " 13  JURISDICTION_CODE  category      \n",
            " 14  PARKS_NM           category      \n",
            " 15  HADEVELOPT         category      \n",
            " 16  HOUSING_PSA        category      \n",
            " 17  SUSP_AGE_GROUP     category      \n",
            " 18  SUSP_RACE          category      \n",
            " 19  SUSP_SEX           category      \n",
            " 20  TRANSIT_DISTRICT   category      \n",
            " 21  Latitude           float32       \n",
            " 22  Longitude          float32       \n",
            " 23  PATROL_BORO        category      \n",
            " 24  STATION_NAME       category      \n",
            " 25  VIC_AGE_GROUP      category      \n",
            " 26  VIC_RACE           category      \n",
            " 27  VIC_SEX            category      \n",
            " 28  CMPLNT_FR          datetime64[ns]\n",
            " 29  CMPLNT_TO          datetime64[ns]\n",
            "dtypes: category(24), datetime64[ns](3), float32(2), object(1)\n",
            "memory usage: 494.1+ MB\n"
          ],
          "name": "stdout"
        }
      ]
    },
    {
      "cell_type": "code",
      "metadata": {
        "id": "jF1mm7Xu5mnD",
        "outputId": "38caefa1-f978-474a-f24c-ba93166cc270"
      },
      "source": [
        "df.memory_usage()"
      ],
      "execution_count": null,
      "outputs": [
        {
          "output_type": "execute_result",
          "data": {
            "text/plain": [
              "Index                      80\n",
              "CMPLNT_NUM           48294440\n",
              "ADDR_PCT_CD           6039981\n",
              "RPT_DT               48294440\n",
              "KY_CD                 6039957\n",
              "OFNS_DESC             6039925\n",
              "PD_CD                12097482\n",
              "PD_DESC              12097386\n",
              "CRM_ATPT_CPTD_CD      6036901\n",
              "LAW_CAT_CD            6036909\n",
              "BORO_NM               6037005\n",
              "LOC_OF_OCCUR_DESC     6037005\n",
              "PREM_TYP_DESC         6039941\n",
              "JURIS_DESC            6037645\n",
              "JURISDICTION_CODE     6037645\n",
              "PARKS_NM             12123162\n",
              "HADEVELOPT           12086082\n",
              "HOUSING_PSA          12274434\n",
              "SUSP_AGE_GROUP        6037005\n",
              "SUSP_RACE             6037013\n",
              "SUSP_SEX              6036901\n",
              "TRANSIT_DISTRICT      6037221\n",
              "Latitude             24147220\n",
              "Longitude            24147220\n",
              "PATROL_BORO           6037189\n",
              "STATION_NAME         12086818\n",
              "VIC_AGE_GROUP         6037005\n",
              "VIC_RACE              6037013\n",
              "VIC_SEX               6036997\n",
              "CMPLNT_FR            48294440\n",
              "CMPLNT_TO            48294440\n",
              "dtype: int64"
            ]
          },
          "metadata": {
            "tags": []
          },
          "execution_count": 21
        }
      ]
    },
    {
      "cell_type": "code",
      "metadata": {
        "id": "3-DkWZbI5mnE",
        "outputId": "81b7786c-7163-47b3-f336-519e92e88b32",
        "colab": {
          "base_uri": "https://localhost:8080/"
        }
      },
      "source": [
        "df.dtypes"
      ],
      "execution_count": 21,
      "outputs": [
        {
          "output_type": "execute_result",
          "data": {
            "text/plain": [
              "CMPLNT_NUM                   object\n",
              "ADDR_PCT_CD                category\n",
              "RPT_DT               datetime64[ns]\n",
              "KY_CD                      category\n",
              "OFNS_DESC                  category\n",
              "PD_CD                      category\n",
              "PD_DESC                    category\n",
              "CRM_ATPT_CPTD_CD           category\n",
              "LAW_CAT_CD                 category\n",
              "BORO_NM                    category\n",
              "LOC_OF_OCCUR_DESC          category\n",
              "PREM_TYP_DESC              category\n",
              "JURIS_DESC                 category\n",
              "JURISDICTION_CODE          category\n",
              "PARKS_NM                   category\n",
              "HADEVELOPT                 category\n",
              "HOUSING_PSA                category\n",
              "SUSP_AGE_GROUP             category\n",
              "SUSP_RACE                  category\n",
              "SUSP_SEX                   category\n",
              "TRANSIT_DISTRICT           category\n",
              "Latitude                    float32\n",
              "Longitude                   float32\n",
              "PATROL_BORO                category\n",
              "STATION_NAME               category\n",
              "VIC_AGE_GROUP              category\n",
              "VIC_RACE                   category\n",
              "VIC_SEX                    category\n",
              "CMPLNT_FR            datetime64[ns]\n",
              "CMPLNT_TO            datetime64[ns]\n",
              "dtype: object"
            ]
          },
          "metadata": {
            "tags": []
          },
          "execution_count": 21
        }
      ]
    },
    {
      "cell_type": "code",
      "metadata": {
        "id": "wd4t5mic5mnF",
        "outputId": "6ba94911-7d1d-4b7a-eb13-c3784249d60d",
        "colab": {
          "base_uri": "https://localhost:8080/"
        }
      },
      "source": [
        "# Find unique values and maximum length of various columns\n",
        "# We mainly use this to specify the max length of a varchar \n",
        "# data type in MySQL\n",
        "for column in df.columns.values:\n",
        "    datatype = df[column].dtype.name\n",
        "    unique_values = len(df[column].value_counts())\n",
        "    print(column, '\\t', datatype, '\\t', unique_values)\n",
        "    if datatype == 'object' or datatype =='category':\n",
        "        m = df[column].str.len().max()\n",
        "        print(\"Max length:\", m)\n"
      ],
      "execution_count": 48,
      "outputs": [
        {
          "output_type": "stream",
          "text": [
            "CMPLNT_NUM \t object \t 7373156\n",
            "Max length: 9\n",
            "ADDR_PCT_CD \t category \t 78\n",
            "Max length: 3.0\n",
            "RPT_DT \t datetime64[ns] \t 5479\n",
            "KY_CD \t category \t 74\n",
            "Max length: 3\n",
            "OFNS_DESC \t category \t 71\n",
            "Max length: 36.0\n",
            "PD_CD \t category \t 432\n",
            "Max length: 3.0\n",
            "PD_DESC \t category \t 422\n",
            "Max length: 71.0\n",
            "CRM_ATPT_CPTD_CD \t category \t 2\n",
            "Max length: 9.0\n",
            "LAW_CAT_CD \t category \t 3\n",
            "Max length: 11\n",
            "BORO_NM \t category \t 5\n",
            "Max length: 13.0\n",
            "LOC_OF_OCCUR_DESC \t category \t 5\n",
            "Max length: 11.0\n",
            "PREM_TYP_DESC \t category \t 74\n",
            "Max length: 28.0\n",
            "JURIS_DESC \t category \t 25\n",
            "Max length: 35\n",
            "JURISDICTION_CODE \t category \t 25\n",
            "Max length: 2.0\n",
            "PARKS_NM \t category \t 1205\n",
            "Max length: 83.0\n",
            "HADEVELOPT \t category \t 279\n",
            "Max length: 43.0\n",
            "HOUSING_PSA \t category \t 5102\n",
            "Max length: 21.0\n",
            "SUSP_AGE_GROUP \t category \t 5\n",
            "Max length: 5.0\n",
            "SUSP_RACE \t category \t 6\n",
            "Max length: 30.0\n",
            "SUSP_SEX \t category \t 2\n",
            "Max length: 1.0\n",
            "TRANSIT_DISTRICT \t category \t 12\n",
            "Max length: 2.0\n",
            "Latitude \t float32 \t 64015\n",
            "Longitude \t float32 \t 47959\n",
            "PATROL_BORO \t category \t 8\n",
            "Max length: 25.0\n",
            "STATION_NAME \t category \t 372\n",
            "Max length: 30.0\n",
            "VIC_AGE_GROUP \t category \t 5\n",
            "Max length: 5.0\n",
            "VIC_RACE \t category \t 6\n",
            "Max length: 30.0\n",
            "VIC_SEX \t category \t 4\n",
            "Max length: 1.0\n",
            "CMPLNT_FR \t datetime64[ns] \t 2053256\n",
            "CMPLNT_TO \t datetime64[ns] \t 2262990\n"
          ],
          "name": "stdout"
        }
      ]
    },
    {
      "cell_type": "code",
      "metadata": {
        "id": "wBbZB2Ke5mnG",
        "outputId": "bf01cc46-cd61-403a-858e-2eb9bcefbb23",
        "colab": {
          "base_uri": "https://localhost:8080/"
        }
      },
      "source": [
        "df.dtypes"
      ],
      "execution_count": 22,
      "outputs": [
        {
          "output_type": "execute_result",
          "data": {
            "text/plain": [
              "CMPLNT_NUM                   object\n",
              "ADDR_PCT_CD                category\n",
              "RPT_DT               datetime64[ns]\n",
              "KY_CD                      category\n",
              "OFNS_DESC                  category\n",
              "PD_CD                      category\n",
              "PD_DESC                    category\n",
              "CRM_ATPT_CPTD_CD           category\n",
              "LAW_CAT_CD                 category\n",
              "BORO_NM                    category\n",
              "LOC_OF_OCCUR_DESC          category\n",
              "PREM_TYP_DESC              category\n",
              "JURIS_DESC                 category\n",
              "JURISDICTION_CODE          category\n",
              "PARKS_NM                   category\n",
              "HADEVELOPT                 category\n",
              "HOUSING_PSA                category\n",
              "SUSP_AGE_GROUP             category\n",
              "SUSP_RACE                  category\n",
              "SUSP_SEX                   category\n",
              "TRANSIT_DISTRICT           category\n",
              "Latitude                    float32\n",
              "Longitude                   float32\n",
              "PATROL_BORO                category\n",
              "STATION_NAME               category\n",
              "VIC_AGE_GROUP              category\n",
              "VIC_RACE                   category\n",
              "VIC_SEX                    category\n",
              "CMPLNT_FR            datetime64[ns]\n",
              "CMPLNT_TO            datetime64[ns]\n",
              "dtype: object"
            ]
          },
          "metadata": {
            "tags": []
          },
          "execution_count": 22
        }
      ]
    },
    {
      "cell_type": "code",
      "metadata": {
        "id": "IFzmDfLGeiEg"
      },
      "source": [
        "df[df.KY_CD == 105].OFNS_DESC = 'ROBBERY'\n",
        "\n",
        "df[df.KY_CD == 106].OFNS_DESC = 'FELONY ASSAULT'\n",
        "\n",
        "df[df.KY_CD == 107].OFNS_DESC = 'BURGLARY'\n",
        "\n",
        "\n",
        "df[df.KY_CD == 360].OFNS_DESC = 'LOITERING FOR DRUG PURPOSES'\n",
        "\n",
        "df[df.KY_CD == 361].OFNS_DESC = 'OFF. AGNST PUB ORD SENSBLTY &'\n",
        "\n",
        "df[df.KY_CD == 364].OFNS_DESC = 'AGRICULTURE & MRKTS LAW-UNCLASSIFIED'\n",
        "\n"
      ],
      "execution_count": 98,
      "outputs": []
    },
    {
      "cell_type": "markdown",
      "metadata": {
        "id": "iXy7F7QU5mnH"
      },
      "source": [
        "## Storing in a SQLite Database"
      ]
    },
    {
      "cell_type": "markdown",
      "metadata": {
        "id": "s4Nw6Q6J5mnK"
      },
      "source": [
        "## Storing in a MySQL database"
      ]
    },
    {
      "cell_type": "code",
      "metadata": {
        "id": "pIFdbm3zC1Qa"
      },
      "source": [
        "!sudo pip3 install -U -q PyMySQL sqlalchemy sql_magic"
      ],
      "execution_count": null,
      "outputs": []
    },
    {
      "cell_type": "code",
      "metadata": {
        "id": "XRRqVqrj5mnK"
      },
      "source": [
        "import os\n",
        "from sqlalchemy import create_engine\n",
        "\n",
        "conn_string = 'mysql+pymysql://{user}:{password}@{host}/?charset=utf8mb4'.format(\n",
        "    host = 'db.ipeirotis.org', \n",
        "    user = 'root',\n",
        "    password = 'ae6jQniBS5muV27', #os.environ['MYSQL_PASSWORD'],\n",
        "    encoding = 'utf8mb4')\n",
        "\n",
        "engine = create_engine(conn_string)\n",
        "con = engine.connect()"
      ],
      "execution_count": 84,
      "outputs": []
    },
    {
      "cell_type": "code",
      "metadata": {
        "id": "BME9Kw3I5mnL",
        "outputId": "8198a4d0-b1f1-40ad-ede9-ba52a2421536",
        "colab": {
          "base_uri": "https://localhost:8080/"
        }
      },
      "source": [
        "# Query to create a database\n",
        "db_name = 'nypd'\n",
        "\n",
        "sql = f\"DROP DATABASE IF EXISTS {db_name}\"\n",
        "engine.execute(sql)\n",
        "\n",
        "# Create a database\n",
        "sql = f\"CREATE DATABASE IF NOT EXISTS {db_name} DEFAULT CHARACTER SET 'utf8mb4'\"\n",
        "engine.execute(sql)\n"
      ],
      "execution_count": 63,
      "outputs": [
        {
          "output_type": "execute_result",
          "data": {
            "text/plain": [
              "<sqlalchemy.engine.cursor.LegacyCursorResult at 0x7f1b47575690>"
            ]
          },
          "metadata": {
            "tags": []
          },
          "execution_count": 63
        }
      ]
    },
    {
      "cell_type": "code",
      "metadata": {
        "id": "M-_M6qS0Vhlv",
        "outputId": "4f684ec0-39a7-4bb7-8299-fc8fc142cfd6",
        "colab": {
          "base_uri": "https://localhost:8080/"
        }
      },
      "source": [
        "\n",
        "# And lets switch to the database\n",
        "sql = f\"USE {db_name}\"\n",
        "engine.execute(sql)\n"
      ],
      "execution_count": 86,
      "outputs": [
        {
          "output_type": "execute_result",
          "data": {
            "text/plain": [
              "<sqlalchemy.engine.cursor.LegacyCursorResult at 0x7f1ae7c8f950>"
            ]
          },
          "metadata": {
            "tags": []
          },
          "execution_count": 86
        }
      ]
    },
    {
      "cell_type": "code",
      "metadata": {
        "id": "10JrBGZ65mnL",
        "outputId": "f0ffb7d7-62b1-4cd5-ce40-de6882d4672b",
        "colab": {
          "base_uri": "https://localhost:8080/"
        }
      },
      "source": [
        "# In principle, we can let Pandas create the table, but we want to be a bit more predise\n",
        "# with the data types, and we want to add documentation for each column\n",
        "# from https://data.cityofnewyork.us/Public-Safety/NYPD-Complaint-Data-Historic/qgea-i56i\n",
        "\n",
        "create_table_sql = '''\n",
        "CREATE TABLE nypd (\n",
        "  CMPLNT_NUM bigint(20),\n",
        "  CMPLNT_FR datetime,\n",
        "  CMPLNT_TO datetime,\n",
        "  RPT_DT date,\n",
        "  KY_CD char(3),\n",
        "  OFNS_DESC varchar(60),\n",
        "  PD_CD char(3),\n",
        "  PD_DESC varchar(75),\n",
        "  CRM_ATPT_CPTD_CD enum('COMPLETED','ATTEMPTED'),\n",
        "  LAW_CAT_CD enum('FELONY','MISDEMEANOR','VIOLATION'),\n",
        "  JURISDICTION_CODE char(2),\n",
        "  JURIS_DESC varchar(60),\n",
        "  BORO_NM enum('BRONX','BROOKLYN','MANHATTAN','QUEENS','STATEN ISLAND'),\n",
        "  ADDR_PCT_CD char(3),\n",
        "  STATION_NAME varchar(60),\n",
        "  LOC_OF_OCCUR_DESC enum('FRONT OF','INSIDE','OPPOSITE OF','OUTSIDE','REAR OF'),\n",
        "  PATROL_BORO enum('PATROL BORO BRONX', 'PATROL BORO BKLYN SOUTH','PATROL BORO BKLYN NORTH','PATROL BORO MAN SOUTH','PATROL BORO MAN NORTH','PATROL BORO QUEENS NORTH','PATROL BORO QUEENS SOUTH','PATROL BORO STATEN ISLAND'),\n",
        "  PREM_TYP_DESC varchar(60),\n",
        "  PARKS_NM varchar(255),\n",
        "  HADEVELOPT varchar(60),\n",
        "  TRANSIT_DISTRICT char(2),\n",
        "  HOUSING_PSA varchar(60),\n",
        "  SUSP_RACE enum('BLACK', 'WHITE', 'WHITE HISPANIC', 'ASIAN / PACIFIC ISLANDER', 'BLACK HISPANIC', 'AMERICAN INDIAN/ALASKAN NATIVE'),\n",
        "  VIC_RACE enum('BLACK', 'WHITE', 'WHITE HISPANIC', 'ASIAN / PACIFIC ISLANDER', 'BLACK HISPANIC', 'AMERICAN INDIAN/ALASKAN NATIVE'),\n",
        "  SUSP_AGE_GROUP enum('<18', '18-24',  '25-44', '45-64', '65+'),\n",
        "  VIC_AGE_GROUP enum('<18', '18-24',  '25-44', '45-64', '65+'),\n",
        "  SUSP_SEX enum('M', 'F'),\n",
        "  VIC_SEX enum('M', 'F', 'E', 'D'),\n",
        "  Latitude double,\n",
        "  Longitude double,\n",
        "  PRIMARY KEY (CMPLNT_NUM)\n",
        ") ENGINE=InnoDB DEFAULT CHARSET=utf8mb4;\n",
        "'''\n",
        "engine.execute(create_table_sql)"
      ],
      "execution_count": 50,
      "outputs": [
        {
          "output_type": "execute_result",
          "data": {
            "text/plain": [
              "<sqlalchemy.engine.cursor.LegacyCursorResult at 0x7f1b6738ff50>"
            ]
          },
          "metadata": {
            "tags": []
          },
          "execution_count": 50
        }
      ]
    },
    {
      "cell_type": "code",
      "metadata": {
        "id": "5fJuGS1e5mnM"
      },
      "source": [
        "# Create a table\n",
        "# See http://pandas.pydata.org/pandas-docs/stable/generated/pandas.DataFrame.to_sql.html for the documentation\n",
        "from tqdm import tqdm\n",
        "batchsize = 50000\n",
        "batches = len(df) // batchsize + 1\n",
        "\n",
        "t = tqdm(range(batches))\n",
        "\n",
        "for i in t:\n",
        "    # print(\"Batch:\",i)\n",
        "    # continue # Cannot execute this on Travis\n",
        "    start = batchsize * i\n",
        "    end = batchsize * (i+1)\n",
        "    df[start:end].to_sql(\n",
        "        name = 'nypd', \n",
        "        schema = db_name, \n",
        "        con = engine,\n",
        "        if_exists = 'append',\n",
        "        index = False, \n",
        "        chunksize = 1000)"
      ],
      "execution_count": null,
      "outputs": []
    },
    {
      "cell_type": "code",
      "metadata": {
        "id": "m8ozy38lJmOt",
        "outputId": "39b5a512-b8ec-4cc0-d556-4df50b8e4545",
        "colab": {
          "base_uri": "https://localhost:8080/"
        }
      },
      "source": [
        "engine.execute(\"CREATE INDEX ix_lat ON nypd.nypd(Latitude)\")"
      ],
      "execution_count": 65,
      "outputs": [
        {
          "output_type": "execute_result",
          "data": {
            "text/plain": [
              "<sqlalchemy.engine.cursor.LegacyCursorResult at 0x7f1b52931ed0>"
            ]
          },
          "metadata": {
            "tags": []
          },
          "execution_count": 65
        }
      ]
    },
    {
      "cell_type": "code",
      "metadata": {
        "id": "Up8_pRiYPn3X",
        "outputId": "ed354d43-7989-42ed-c357-1e7314f40aed",
        "colab": {
          "base_uri": "https://localhost:8080/"
        }
      },
      "source": [
        "engine.execute(\"CREATE INDEX ix_lon ON nypd.nypd(Longitude)\")"
      ],
      "execution_count": 66,
      "outputs": [
        {
          "output_type": "execute_result",
          "data": {
            "text/plain": [
              "<sqlalchemy.engine.cursor.LegacyCursorResult at 0x7f1b64899fd0>"
            ]
          },
          "metadata": {
            "tags": []
          },
          "execution_count": 66
        }
      ]
    },
    {
      "cell_type": "code",
      "metadata": {
        "id": "fRVAUTDsPn6N",
        "outputId": "ddd68d5e-8be3-4b80-cd85-0f2d2f38acc7",
        "colab": {
          "base_uri": "https://localhost:8080/"
        }
      },
      "source": [
        "engine.execute(\"CREATE INDEX ix_LAW_CAT_CD ON nypd.nypd(LAW_CAT_CD(11))\")"
      ],
      "execution_count": 72,
      "outputs": [
        {
          "output_type": "execute_result",
          "data": {
            "text/plain": [
              "<sqlalchemy.engine.cursor.LegacyCursorResult at 0x7f1b0ddd6310>"
            ]
          },
          "metadata": {
            "tags": []
          },
          "execution_count": 72
        }
      ]
    },
    {
      "cell_type": "code",
      "metadata": {
        "id": "TcqQhh63PoAJ",
        "outputId": "48c81759-cda0-4f40-e637-90c2116cb871",
        "colab": {
          "base_uri": "https://localhost:8080/"
        }
      },
      "source": [
        "engine.execute(\"CREATE INDEX ix_BORO_NM ON nypd.nypd(BORO_NM(13))\")"
      ],
      "execution_count": 73,
      "outputs": [
        {
          "output_type": "execute_result",
          "data": {
            "text/plain": [
              "<sqlalchemy.engine.cursor.LegacyCursorResult at 0x7f1b6aa033d0>"
            ]
          },
          "metadata": {
            "tags": []
          },
          "execution_count": 73
        }
      ]
    },
    {
      "cell_type": "code",
      "metadata": {
        "id": "f4X-o4IQPoE5",
        "outputId": "3bb4f444-b151-4750-c11b-71a4ebadb393",
        "colab": {
          "base_uri": "https://localhost:8080/"
        }
      },
      "source": [
        "engine.execute(\"CREATE INDEX ix_OFNS_DESC ON nypd.nypd(OFNS_DESC(36))\")"
      ],
      "execution_count": 74,
      "outputs": [
        {
          "output_type": "execute_result",
          "data": {
            "text/plain": [
              "<sqlalchemy.engine.cursor.LegacyCursorResult at 0x7f1b5853eed0>"
            ]
          },
          "metadata": {
            "tags": []
          },
          "execution_count": 74
        }
      ]
    },
    {
      "cell_type": "code",
      "metadata": {
        "id": "fVLOoJXZP3IL",
        "outputId": "a5bc5b3a-da33-4de9-dd8e-8ba9550cb3c0",
        "colab": {
          "base_uri": "https://localhost:8080/"
        }
      },
      "source": [
        "engine.execute(\"CREATE INDEX ix_RPT_DT ON nypd.nypd(RPT_DT)\")"
      ],
      "execution_count": 70,
      "outputs": [
        {
          "output_type": "execute_result",
          "data": {
            "text/plain": [
              "<sqlalchemy.engine.cursor.LegacyCursorResult at 0x7f1b662e5990>"
            ]
          },
          "metadata": {
            "tags": []
          },
          "execution_count": 70
        }
      ]
    },
    {
      "cell_type": "code",
      "metadata": {
        "id": "_LMQyvt6P71C",
        "outputId": "8fd067ae-85ba-4ad7-f182-93f004a6f1c6",
        "colab": {
          "base_uri": "https://localhost:8080/"
        }
      },
      "source": [
        "engine.execute(\"CREATE INDEX ix_CMPLNT_FR ON nypd.nypd(CMPLNT_FR)\")"
      ],
      "execution_count": 71,
      "outputs": [
        {
          "output_type": "execute_result",
          "data": {
            "text/plain": [
              "<sqlalchemy.engine.cursor.LegacyCursorResult at 0x7f1b3c215d50>"
            ]
          },
          "metadata": {
            "tags": []
          },
          "execution_count": 71
        }
      ]
    },
    {
      "cell_type": "code",
      "metadata": {
        "id": "vyElf4VTP3Lw",
        "outputId": "0ee3e2da-117f-4a01-d7b4-59ca257604a2",
        "colab": {
          "base_uri": "https://localhost:8080/"
        }
      },
      "source": [
        "engine.execute(\"CREATE INDEX ix_CMPLNT_NUM ON nypd.nypd(CMPLNT_NUM(20))\")"
      ],
      "execution_count": 76,
      "outputs": [
        {
          "output_type": "execute_result",
          "data": {
            "text/plain": [
              "<sqlalchemy.engine.cursor.LegacyCursorResult at 0x7f1b2446fc10>"
            ]
          },
          "metadata": {
            "tags": []
          },
          "execution_count": 76
        }
      ]
    },
    {
      "cell_type": "markdown",
      "metadata": {
        "id": "qBdum8YM5mnN"
      },
      "source": [
        "## TODO"
      ]
    },
    {
      "cell_type": "markdown",
      "metadata": {
        "id": "gy9R1rnb5mnN"
      },
      "source": [
        "### Add the penal code data as a separate table\n",
        "\n",
        "`!curl 'https://data.cityofnewyork.us/api/views/qgea-i56i/files/65f25845-1551-4d21-91dc-869c977cd93d?download=true&filename=PDCode_PenalLaw.xlsx' -o PDCode_PenalLaw.xlsx`\n",
        "\n",
        "### Examine whether to normalize "
      ]
    },
    {
      "cell_type": "markdown",
      "metadata": {
        "id": "ojgVuC6I5mnN"
      },
      "source": [
        "The fields \n",
        "\n",
        "PD_CD, PD_DESC    \n",
        "KY_CD, OFNS_DESC     \n",
        "PREM_TYP_DESC    \n",
        "HADEVELOPT    \n",
        "PARKS_NM                     \n",
        "\n",
        "would be better off as foreign keys or enums. They take too much space as strings."
      ]
    },
    {
      "cell_type": "code",
      "metadata": {
        "id": "lgM22sbR5mnO"
      },
      "source": [
        "# Data quality issues to fix: KY_CD, OFNS_DESC\n",
        "\n",
        "query = '''\n",
        "SELECT KY_CD, OFNS_DESC, COUNT(*)\n",
        "FROM nypd WHERE KY_CD IN (\n",
        "SELECT KY_CD\n",
        "FROM nypd\n",
        "WHERE OFNS_DESC IS NOT NULL\n",
        "GROUP BY KY_CD\n",
        "HAVING COUNT(DISTINCT OFNS_DESC)>1)\n",
        "GROUP BY KY_CD, OFNS_DESC\n",
        "'''\n",
        "\n",
        "df = pd.read_sql(query, con=engine)\n",
        "df"
      ],
      "execution_count": null,
      "outputs": []
    },
    {
      "cell_type": "code",
      "metadata": {
        "id": "jejAzS7q5mnO"
      },
      "source": [
        "# Data quality issues to fix: PD_CD, PD_DESC\n",
        "\n",
        "query = '''\n",
        "SELECT PD_CD, PD_DESC, COUNT(*)\n",
        "FROM nypd WHERE PD_DESC IN (\n",
        "SELECT PD_DESC\n",
        "FROM nypd\n",
        "WHERE PD_DESC IS NOT NULL\n",
        "GROUP BY PD_DESC\n",
        "HAVING COUNT(DISTINCT PD_CD)>1)\n",
        "GROUP BY PD_CD, PD_DESC\n",
        "'''\n",
        "\n",
        "#df = pd.read_sql(query, con=engine)\n",
        "#df"
      ],
      "execution_count": null,
      "outputs": []
    }
  ]
}