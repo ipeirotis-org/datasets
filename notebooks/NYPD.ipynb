{
  "nbformat": 4,
  "nbformat_minor": 0,
  "metadata": {
    "kernelspec": {
      "display_name": "Python 3",
      "language": "python",
      "name": "python3"
    },
    "language_info": {
      "codemirror_mode": {
        "name": "ipython",
        "version": 3
      },
      "file_extension": ".py",
      "mimetype": "text/x-python",
      "name": "python",
      "nbconvert_exporter": "python",
      "pygments_lexer": "ipython3",
      "version": "3.6.9"
    },
    "colab": {
      "name": "NYPD.ipynb",
      "provenance": [],
      "toc_visible": true,
      "machine_shape": "hm"
    }
  },
  "cells": [
    {
      "cell_type": "markdown",
      "metadata": {
        "id": "GOZM1miw5mmu"
      },
      "source": [
        "## NYPD Dataset\n",
        "\n",
        "Dataset description at \n",
        "https://data.cityofnewyork.us/Public-Safety/NYPD-Complaint-Data-Historic/qgea-i56i\n"
      ]
    },
    {
      "cell_type": "markdown",
      "metadata": {
        "id": "3E6Bimj_5mmy"
      },
      "source": [
        "\n",
        "| Column | Description |\n",
        "|--------|-------------------|\n",
        "| CMPLNT_NUM |  Randomly generated persistent ID for each complaint  |  \n",
        "| ADDR_PCT_CD |  The precinct in which the incident occurred |  \n",
        "| BORO |  The name of the borough in which the incident occurred |  \n",
        "| CMPLNT_FR_DT |  Exact date of occurrence for the reported event (or starting date of occurrence, if CMPLNT_TO_DT exists) |  \n",
        "| CMPLNT_FR_TM |  Exact time of occurrence for the reported event (or starting time of occurrence, if CMPLNT_TO_TM exists) |  \n",
        "| CMPLNT_TO_DT |  Ending date of occurrence for the reported event, if exact time of occurrence is unknown |  \n",
        "| CMPLNT_TO_TM |  Ending time of occurrence for the reported event, if exact time of occurrence is unknown |  \n",
        "| CRM_ATPT_CPTD_CD |  Indicator of whether crime was successfully completed or attempted, but failed or was interrupted prematurely |  \n",
        "| HADEVELOPT |  Name of NYCHA housing development of occurrence, if applicable |  \n",
        "| HOUSING_PSA |  Development Level Code |  \n",
        "| JURISDICTION_CODE |  Jurisdiction responsible for incident. Either internal, like Police(0), Transit(1), and Housing(2); or external(3), like Correction, Port Authority, etc. |  \n",
        "| JURIS_DESC |  Description of the jurisdiction code |  \n",
        "| KY_CD |  Three digit offense classification code |  \n",
        "| LAW_CAT_CD |  Level of offense: felony, misdemeanor, violation  |  \n",
        "| LOC_OF_OCCUR_DESC |  Specific location of occurrence in or around the premises; inside, opposite of, front of, rear of |  \n",
        "| OFNS_DESC |  Description of offense corresponding with key code |  \n",
        "| PARKS_NM |  Name of NYC park, playground or greenspace of occurrence, if applicable (state parks are not included) |  \n",
        "| PATROL_BORO |  The name of the patrol borough in which the incident occurred |  \n",
        "| PD_CD |  Three digit internal classification code (more granular than Key Code) |  \n",
        "| PD_DESC |  Description of internal classification corresponding with PD code (more granular than Offense Description) |  \n",
        "| PREM_TYP_DESC |  Specific description of premises; grocery store, residence, street, etc. |  \n",
        "| RPT_DT |  Date event was reported to police  |  \n",
        "| STATION_NAME |  Transit station name |  \n",
        "| SUSP_AGE_GROUP |  Suspect’s Age Group |  \n",
        "| SUSP_RACE |  Suspect’s Race Description |  \n",
        "| SUSP_SEX |  Suspect’s Sex Description |  \n",
        "| TRANSIT_DISTRICT |  Transit district in which the offense occurred. |  \n",
        "| VIC_AGE_GROUP |  Victim’s Age Group |  \n",
        "| VIC_RACE |  Victim’s Race Description |  \n",
        "| VIC_SEX |  Victim’s Sex Description |  \n",
        "| X_COORD_CD |  X-coordinate for New York State Plane Coordinate System, Long Island Zone, NAD 83, units feet (FIPS 3104) |  \n",
        "| Y_COORD_CD |  Y-coordinate for New York State Plane Coordinate System, Long Island Zone, NAD 83, units feet (FIPS 3104) |  \n",
        "| Latitude |  Midblock Latitude coordinate for Global Coordinate System, WGS 1984, decimal degrees (EPSG 4326)  |  \n",
        "| Longitude |  Midblock Longitude coordinate for Global Coordinate System, WGS 1984, decimal degrees (EPSG 4326) |\n"
      ]
    },
    {
      "cell_type": "code",
      "metadata": {
        "id": "04SFECct5mm0"
      },
      "source": [
        "import pandas as pd\n",
        "import numpy as np"
      ],
      "execution_count": 1,
      "outputs": []
    },
    {
      "cell_type": "code",
      "metadata": {
        "id": "-XiIq4vd5mm1",
        "colab": {
          "base_uri": "https://localhost:8080/"
        },
        "outputId": "c8077ebd-2c37-46c4-bdb5-97f74473647c"
      },
      "source": [
        "# We load everything as an object/string, because some data types (e.g., some IDs)\n",
        "# are recognized as decimals, and it is a mess to restore them back\n",
        "# So we will do all the conversions ourselves later on\n",
        "\n",
        "# From https://data.cityofnewyork.us/Public-Safety/NYPD-Complaint-Data-Historic/qgea-i56i/data\n",
        "!curl 'https://data.cityofnewyork.us/api/views/qgea-i56i/rows.csv?accessType=DOWNLOAD' -o nypd.csv\n"
      ],
      "execution_count": 2,
      "outputs": [
        {
          "output_type": "stream",
          "text": [
            "  % Total    % Received % Xferd  Average Speed   Time    Time     Time  Current\n",
            "                                 Dload  Upload   Total   Spent    Left  Speed\n",
            "100 2251M    0 2251M    0     0  4533k      0 --:--:--  0:08:28 --:--:-- 5263k\n"
          ],
          "name": "stdout"
        }
      ]
    },
    {
      "cell_type": "code",
      "metadata": {
        "id": "tOdfVrSVw5fz",
        "colab": {
          "base_uri": "https://localhost:8080/"
        },
        "outputId": "d201fcd0-8a56-4aa9-eca3-d16336ce095b"
      },
      "source": [
        "%%time\n",
        "df = pd.read_csv('nypd.csv', low_memory = True, dtype='object')"
      ],
      "execution_count": 108,
      "outputs": [
        {
          "output_type": "stream",
          "text": [
            "CPU times: user 54.1 s, sys: 7.24 s, total: 1min 1s\n",
            "Wall time: 1min 1s\n"
          ],
          "name": "stdout"
        }
      ]
    },
    {
      "cell_type": "code",
      "metadata": {
        "id": "CXPzTJi-88Rh",
        "outputId": "a27b8d7a-8380-41f6-9760-f59659c39288",
        "colab": {
          "base_uri": "https://localhost:8080/",
          "height": 779
        }
      },
      "source": [
        "df[df.KY_CD=='101']#.PD_CD.unique()"
      ],
      "execution_count": 111,
      "outputs": [
        {
          "output_type": "execute_result",
          "data": {
            "text/html": [
              "<div>\n",
              "<style scoped>\n",
              "    .dataframe tbody tr th:only-of-type {\n",
              "        vertical-align: middle;\n",
              "    }\n",
              "\n",
              "    .dataframe tbody tr th {\n",
              "        vertical-align: top;\n",
              "    }\n",
              "\n",
              "    .dataframe thead th {\n",
              "        text-align: right;\n",
              "    }\n",
              "</style>\n",
              "<table border=\"1\" class=\"dataframe\">\n",
              "  <thead>\n",
              "    <tr style=\"text-align: right;\">\n",
              "      <th></th>\n",
              "      <th>CMPLNT_NUM</th>\n",
              "      <th>CMPLNT_FR_DT</th>\n",
              "      <th>CMPLNT_FR_TM</th>\n",
              "      <th>CMPLNT_TO_DT</th>\n",
              "      <th>CMPLNT_TO_TM</th>\n",
              "      <th>ADDR_PCT_CD</th>\n",
              "      <th>RPT_DT</th>\n",
              "      <th>KY_CD</th>\n",
              "      <th>OFNS_DESC</th>\n",
              "      <th>PD_CD</th>\n",
              "      <th>PD_DESC</th>\n",
              "      <th>CRM_ATPT_CPTD_CD</th>\n",
              "      <th>LAW_CAT_CD</th>\n",
              "      <th>BORO_NM</th>\n",
              "      <th>LOC_OF_OCCUR_DESC</th>\n",
              "      <th>PREM_TYP_DESC</th>\n",
              "      <th>JURIS_DESC</th>\n",
              "      <th>JURISDICTION_CODE</th>\n",
              "      <th>PARKS_NM</th>\n",
              "      <th>HADEVELOPT</th>\n",
              "      <th>HOUSING_PSA</th>\n",
              "      <th>X_COORD_CD</th>\n",
              "      <th>Y_COORD_CD</th>\n",
              "      <th>SUSP_AGE_GROUP</th>\n",
              "      <th>SUSP_RACE</th>\n",
              "      <th>SUSP_SEX</th>\n",
              "      <th>TRANSIT_DISTRICT</th>\n",
              "      <th>Latitude</th>\n",
              "      <th>Longitude</th>\n",
              "      <th>Lat_Lon</th>\n",
              "      <th>PATROL_BORO</th>\n",
              "      <th>STATION_NAME</th>\n",
              "      <th>VIC_AGE_GROUP</th>\n",
              "      <th>VIC_RACE</th>\n",
              "      <th>VIC_SEX</th>\n",
              "    </tr>\n",
              "  </thead>\n",
              "  <tbody>\n",
              "    <tr>\n",
              "      <th>169</th>\n",
              "      <td>114503597</td>\n",
              "      <td>11/04/2018</td>\n",
              "      <td>01:25:00</td>\n",
              "      <td>NaN</td>\n",
              "      <td>NaN</td>\n",
              "      <td>47</td>\n",
              "      <td>07/03/2019</td>\n",
              "      <td>101</td>\n",
              "      <td>MURDER &amp; NON-NEGL. MANSLAUGHTER</td>\n",
              "      <td>NaN</td>\n",
              "      <td>NaN</td>\n",
              "      <td>COMPLETED</td>\n",
              "      <td>FELONY</td>\n",
              "      <td>NaN</td>\n",
              "      <td>OUTSIDE</td>\n",
              "      <td>NaN</td>\n",
              "      <td>N.Y. POLICE DEPT</td>\n",
              "      <td>NaN</td>\n",
              "      <td>NaN</td>\n",
              "      <td>NaN</td>\n",
              "      <td>NaN</td>\n",
              "      <td>1025688</td>\n",
              "      <td>268587</td>\n",
              "      <td>25-44</td>\n",
              "      <td>BLACK</td>\n",
              "      <td>M</td>\n",
              "      <td>NaN</td>\n",
              "      <td>40.903793691000033</td>\n",
              "      <td>-73.850098959999968</td>\n",
              "      <td>(40.90379369100003, -73.85009895999997)</td>\n",
              "      <td>NaN</td>\n",
              "      <td>NaN</td>\n",
              "      <td>25-44</td>\n",
              "      <td>BLACK</td>\n",
              "      <td>M</td>\n",
              "    </tr>\n",
              "    <tr>\n",
              "      <th>2159</th>\n",
              "      <td>666019648</td>\n",
              "      <td>05/29/2016</td>\n",
              "      <td>10:16:00</td>\n",
              "      <td>NaN</td>\n",
              "      <td>NaN</td>\n",
              "      <td>67</td>\n",
              "      <td>05/29/2016</td>\n",
              "      <td>101</td>\n",
              "      <td>MURDER &amp; NON-NEGL. MANSLAUGHTER</td>\n",
              "      <td>NaN</td>\n",
              "      <td>NaN</td>\n",
              "      <td>COMPLETED</td>\n",
              "      <td>FELONY</td>\n",
              "      <td>NaN</td>\n",
              "      <td>OUTSIDE</td>\n",
              "      <td>NaN</td>\n",
              "      <td>N.Y. POLICE DEPT</td>\n",
              "      <td>NaN</td>\n",
              "      <td>NaN</td>\n",
              "      <td>NaN</td>\n",
              "      <td>NaN</td>\n",
              "      <td>998608</td>\n",
              "      <td>171942</td>\n",
              "      <td>25-44</td>\n",
              "      <td>BLACK</td>\n",
              "      <td>M</td>\n",
              "      <td>NaN</td>\n",
              "      <td>40.638614237</td>\n",
              "      <td>-73.948267625</td>\n",
              "      <td>(40.638614237, -73.948267625)</td>\n",
              "      <td>NaN</td>\n",
              "      <td>NaN</td>\n",
              "      <td>45-64</td>\n",
              "      <td>BLACK</td>\n",
              "      <td>M</td>\n",
              "    </tr>\n",
              "    <tr>\n",
              "      <th>2333</th>\n",
              "      <td>911894090</td>\n",
              "      <td>04/02/2017</td>\n",
              "      <td>02:30:00</td>\n",
              "      <td>NaN</td>\n",
              "      <td>NaN</td>\n",
              "      <td>47</td>\n",
              "      <td>04/02/2017</td>\n",
              "      <td>101</td>\n",
              "      <td>MURDER &amp; NON-NEGL. MANSLAUGHTER</td>\n",
              "      <td>NaN</td>\n",
              "      <td>NaN</td>\n",
              "      <td>COMPLETED</td>\n",
              "      <td>FELONY</td>\n",
              "      <td>NaN</td>\n",
              "      <td>OUTSIDE</td>\n",
              "      <td>NaN</td>\n",
              "      <td>N.Y. POLICE DEPT</td>\n",
              "      <td>NaN</td>\n",
              "      <td>NaN</td>\n",
              "      <td>NaN</td>\n",
              "      <td>NaN</td>\n",
              "      <td>1022243</td>\n",
              "      <td>259631</td>\n",
              "      <td>NaN</td>\n",
              "      <td>NaN</td>\n",
              "      <td>NaN</td>\n",
              "      <td>NaN</td>\n",
              "      <td>40.879227838</td>\n",
              "      <td>-73.862612083</td>\n",
              "      <td>(40.879227838, -73.862612083)</td>\n",
              "      <td>NaN</td>\n",
              "      <td>NaN</td>\n",
              "      <td>25-44</td>\n",
              "      <td>WHITE HISPANIC</td>\n",
              "      <td>F</td>\n",
              "    </tr>\n",
              "    <tr>\n",
              "      <th>5008</th>\n",
              "      <td>153654557</td>\n",
              "      <td>04/23/2012</td>\n",
              "      <td>07:07:00</td>\n",
              "      <td>NaN</td>\n",
              "      <td>NaN</td>\n",
              "      <td>103</td>\n",
              "      <td>04/23/2012</td>\n",
              "      <td>101</td>\n",
              "      <td>MURDER &amp; NON-NEGL. MANSLAUGHTER</td>\n",
              "      <td>NaN</td>\n",
              "      <td>NaN</td>\n",
              "      <td>COMPLETED</td>\n",
              "      <td>FELONY</td>\n",
              "      <td>NaN</td>\n",
              "      <td>OUTSIDE</td>\n",
              "      <td>NaN</td>\n",
              "      <td>N.Y. POLICE DEPT</td>\n",
              "      <td>NaN</td>\n",
              "      <td>NaN</td>\n",
              "      <td>NaN</td>\n",
              "      <td>NaN</td>\n",
              "      <td>1040083</td>\n",
              "      <td>190955</td>\n",
              "      <td>25-44</td>\n",
              "      <td>BLACK</td>\n",
              "      <td>M</td>\n",
              "      <td>NaN</td>\n",
              "      <td>40.690636245</td>\n",
              "      <td>-73.798670471</td>\n",
              "      <td>(40.690636245, -73.798670471)</td>\n",
              "      <td>NaN</td>\n",
              "      <td>NaN</td>\n",
              "      <td>18-24</td>\n",
              "      <td>BLACK</td>\n",
              "      <td>M</td>\n",
              "    </tr>\n",
              "    <tr>\n",
              "      <th>6903</th>\n",
              "      <td>756164192</td>\n",
              "      <td>06/24/2012</td>\n",
              "      <td>18:35:00</td>\n",
              "      <td>NaN</td>\n",
              "      <td>NaN</td>\n",
              "      <td>67</td>\n",
              "      <td>06/24/2012</td>\n",
              "      <td>101</td>\n",
              "      <td>MURDER &amp; NON-NEGL. MANSLAUGHTER</td>\n",
              "      <td>NaN</td>\n",
              "      <td>NaN</td>\n",
              "      <td>COMPLETED</td>\n",
              "      <td>FELONY</td>\n",
              "      <td>NaN</td>\n",
              "      <td>OUTSIDE</td>\n",
              "      <td>NaN</td>\n",
              "      <td>N.Y. POLICE DEPT</td>\n",
              "      <td>NaN</td>\n",
              "      <td>NaN</td>\n",
              "      <td>NaN</td>\n",
              "      <td>NaN</td>\n",
              "      <td>1007579</td>\n",
              "      <td>177834</td>\n",
              "      <td>NaN</td>\n",
              "      <td>NaN</td>\n",
              "      <td>NaN</td>\n",
              "      <td>NaN</td>\n",
              "      <td>40.654767415</td>\n",
              "      <td>-73.91592354</td>\n",
              "      <td>(40.654767415, -73.91592354)</td>\n",
              "      <td>NaN</td>\n",
              "      <td>NaN</td>\n",
              "      <td>18-24</td>\n",
              "      <td>BLACK</td>\n",
              "      <td>M</td>\n",
              "    </tr>\n",
              "    <tr>\n",
              "      <th>...</th>\n",
              "      <td>...</td>\n",
              "      <td>...</td>\n",
              "      <td>...</td>\n",
              "      <td>...</td>\n",
              "      <td>...</td>\n",
              "      <td>...</td>\n",
              "      <td>...</td>\n",
              "      <td>...</td>\n",
              "      <td>...</td>\n",
              "      <td>...</td>\n",
              "      <td>...</td>\n",
              "      <td>...</td>\n",
              "      <td>...</td>\n",
              "      <td>...</td>\n",
              "      <td>...</td>\n",
              "      <td>...</td>\n",
              "      <td>...</td>\n",
              "      <td>...</td>\n",
              "      <td>...</td>\n",
              "      <td>...</td>\n",
              "      <td>...</td>\n",
              "      <td>...</td>\n",
              "      <td>...</td>\n",
              "      <td>...</td>\n",
              "      <td>...</td>\n",
              "      <td>...</td>\n",
              "      <td>...</td>\n",
              "      <td>...</td>\n",
              "      <td>...</td>\n",
              "      <td>...</td>\n",
              "      <td>...</td>\n",
              "      <td>...</td>\n",
              "      <td>...</td>\n",
              "      <td>...</td>\n",
              "      <td>...</td>\n",
              "    </tr>\n",
              "    <tr>\n",
              "      <th>7387626</th>\n",
              "      <td>691184949</td>\n",
              "      <td>01/06/2020</td>\n",
              "      <td>00:01:00</td>\n",
              "      <td>NaN</td>\n",
              "      <td>NaN</td>\n",
              "      <td>106</td>\n",
              "      <td>01/06/2020</td>\n",
              "      <td>101</td>\n",
              "      <td>MURDER &amp; NON-NEGL. MANSLAUGHTER</td>\n",
              "      <td>NaN</td>\n",
              "      <td>NaN</td>\n",
              "      <td>COMPLETED</td>\n",
              "      <td>FELONY</td>\n",
              "      <td>NaN</td>\n",
              "      <td>OUTSIDE</td>\n",
              "      <td>NaN</td>\n",
              "      <td>N.Y. POLICE DEPT</td>\n",
              "      <td>NaN</td>\n",
              "      <td>NaN</td>\n",
              "      <td>NaN</td>\n",
              "      <td>NaN</td>\n",
              "      <td>1034784</td>\n",
              "      <td>190379</td>\n",
              "      <td>18-24</td>\n",
              "      <td>ASIAN / PACIFIC ISLANDER</td>\n",
              "      <td>M</td>\n",
              "      <td>NaN</td>\n",
              "      <td>40.68908710200003</td>\n",
              "      <td>-73.81778265999998</td>\n",
              "      <td>(40.68908710200003, -73.81778265999998)</td>\n",
              "      <td>NaN</td>\n",
              "      <td>NaN</td>\n",
              "      <td>65+</td>\n",
              "      <td>WHITE HISPANIC</td>\n",
              "      <td>F</td>\n",
              "    </tr>\n",
              "    <tr>\n",
              "      <th>7389288</th>\n",
              "      <td>580659772</td>\n",
              "      <td>01/11/2020</td>\n",
              "      <td>22:37:00</td>\n",
              "      <td>NaN</td>\n",
              "      <td>NaN</td>\n",
              "      <td>44</td>\n",
              "      <td>01/11/2020</td>\n",
              "      <td>101</td>\n",
              "      <td>MURDER &amp; NON-NEGL. MANSLAUGHTER</td>\n",
              "      <td>NaN</td>\n",
              "      <td>NaN</td>\n",
              "      <td>COMPLETED</td>\n",
              "      <td>FELONY</td>\n",
              "      <td>NaN</td>\n",
              "      <td>OUTSIDE</td>\n",
              "      <td>NaN</td>\n",
              "      <td>N.Y. POLICE DEPT</td>\n",
              "      <td>NaN</td>\n",
              "      <td>NaN</td>\n",
              "      <td>NaN</td>\n",
              "      <td>NaN</td>\n",
              "      <td>1010044</td>\n",
              "      <td>244313</td>\n",
              "      <td>25-44</td>\n",
              "      <td>BLACK</td>\n",
              "      <td>M</td>\n",
              "      <td>NaN</td>\n",
              "      <td>40.83722861900003</td>\n",
              "      <td>-73.90678471699994</td>\n",
              "      <td>(40.83722861900003, -73.90678471699994)</td>\n",
              "      <td>NaN</td>\n",
              "      <td>NaN</td>\n",
              "      <td>25-44</td>\n",
              "      <td>BLACK</td>\n",
              "      <td>M</td>\n",
              "    </tr>\n",
              "    <tr>\n",
              "      <th>7389514</th>\n",
              "      <td>352748831</td>\n",
              "      <td>01/09/2020</td>\n",
              "      <td>03:34:00</td>\n",
              "      <td>NaN</td>\n",
              "      <td>NaN</td>\n",
              "      <td>9</td>\n",
              "      <td>01/09/2020</td>\n",
              "      <td>101</td>\n",
              "      <td>MURDER &amp; NON-NEGL. MANSLAUGHTER</td>\n",
              "      <td>NaN</td>\n",
              "      <td>NaN</td>\n",
              "      <td>COMPLETED</td>\n",
              "      <td>FELONY</td>\n",
              "      <td>NaN</td>\n",
              "      <td>OUTSIDE</td>\n",
              "      <td>NaN</td>\n",
              "      <td>N.Y. POLICE DEPT</td>\n",
              "      <td>NaN</td>\n",
              "      <td>NaN</td>\n",
              "      <td>NaN</td>\n",
              "      <td>NaN</td>\n",
              "      <td>988875</td>\n",
              "      <td>203909</td>\n",
              "      <td>25-44</td>\n",
              "      <td>BLACK</td>\n",
              "      <td>M</td>\n",
              "      <td>NaN</td>\n",
              "      <td>40.72636681100005</td>\n",
              "      <td>-73.98331500399996</td>\n",
              "      <td>(40.72636681100005, -73.98331500399996)</td>\n",
              "      <td>NaN</td>\n",
              "      <td>NaN</td>\n",
              "      <td>25-44</td>\n",
              "      <td>BLACK</td>\n",
              "      <td>M</td>\n",
              "    </tr>\n",
              "    <tr>\n",
              "      <th>7394972</th>\n",
              "      <td>984200243</td>\n",
              "      <td>01/01/2020</td>\n",
              "      <td>21:47:00</td>\n",
              "      <td>NaN</td>\n",
              "      <td>NaN</td>\n",
              "      <td>24</td>\n",
              "      <td>01/01/2020</td>\n",
              "      <td>101</td>\n",
              "      <td>MURDER &amp; NON-NEGL. MANSLAUGHTER</td>\n",
              "      <td>NaN</td>\n",
              "      <td>NaN</td>\n",
              "      <td>COMPLETED</td>\n",
              "      <td>FELONY</td>\n",
              "      <td>NaN</td>\n",
              "      <td>OUTSIDE</td>\n",
              "      <td>NaN</td>\n",
              "      <td>N.Y. POLICE DEPT</td>\n",
              "      <td>NaN</td>\n",
              "      <td>NaN</td>\n",
              "      <td>NaN</td>\n",
              "      <td>NaN</td>\n",
              "      <td>995052</td>\n",
              "      <td>230496</td>\n",
              "      <td>25-44</td>\n",
              "      <td>BLACK</td>\n",
              "      <td>M</td>\n",
              "      <td>NaN</td>\n",
              "      <td>40.79933589800004</td>\n",
              "      <td>-73.96098641499998</td>\n",
              "      <td>(40.79933589800004, -73.96098641499998)</td>\n",
              "      <td>NaN</td>\n",
              "      <td>NaN</td>\n",
              "      <td>25-44</td>\n",
              "      <td>BLACK</td>\n",
              "      <td>M</td>\n",
              "    </tr>\n",
              "    <tr>\n",
              "      <th>7396032</th>\n",
              "      <td>178842760</td>\n",
              "      <td>01/01/2020</td>\n",
              "      <td>10:29:00</td>\n",
              "      <td>NaN</td>\n",
              "      <td>NaN</td>\n",
              "      <td>43</td>\n",
              "      <td>01/01/2020</td>\n",
              "      <td>101</td>\n",
              "      <td>MURDER &amp; NON-NEGL. MANSLAUGHTER</td>\n",
              "      <td>NaN</td>\n",
              "      <td>NaN</td>\n",
              "      <td>COMPLETED</td>\n",
              "      <td>FELONY</td>\n",
              "      <td>NaN</td>\n",
              "      <td>INSIDE</td>\n",
              "      <td>NaN</td>\n",
              "      <td>N.Y. POLICE DEPT</td>\n",
              "      <td>NaN</td>\n",
              "      <td>NaN</td>\n",
              "      <td>NaN</td>\n",
              "      <td>NaN</td>\n",
              "      <td>1018527</td>\n",
              "      <td>243130</td>\n",
              "      <td>25-44</td>\n",
              "      <td>BLACK</td>\n",
              "      <td>M</td>\n",
              "      <td>NaN</td>\n",
              "      <td>40.83395277900007</td>\n",
              "      <td>-73.87613414899994</td>\n",
              "      <td>(40.83395277900007, -73.87613414899994)</td>\n",
              "      <td>NaN</td>\n",
              "      <td>NaN</td>\n",
              "      <td>25-44</td>\n",
              "      <td>BLACK</td>\n",
              "      <td>M</td>\n",
              "    </tr>\n",
              "  </tbody>\n",
              "</table>\n",
              "<p>6328 rows × 35 columns</p>\n",
              "</div>"
            ],
            "text/plain": [
              "        CMPLNT_NUM CMPLNT_FR_DT  ...        VIC_RACE VIC_SEX\n",
              "169      114503597   11/04/2018  ...           BLACK       M\n",
              "2159     666019648   05/29/2016  ...           BLACK       M\n",
              "2333     911894090   04/02/2017  ...  WHITE HISPANIC       F\n",
              "5008     153654557   04/23/2012  ...           BLACK       M\n",
              "6903     756164192   06/24/2012  ...           BLACK       M\n",
              "...            ...          ...  ...             ...     ...\n",
              "7387626  691184949   01/06/2020  ...  WHITE HISPANIC       F\n",
              "7389288  580659772   01/11/2020  ...           BLACK       M\n",
              "7389514  352748831   01/09/2020  ...           BLACK       M\n",
              "7394972  984200243   01/01/2020  ...           BLACK       M\n",
              "7396032  178842760   01/01/2020  ...           BLACK       M\n",
              "\n",
              "[6328 rows x 35 columns]"
            ]
          },
          "metadata": {
            "tags": []
          },
          "execution_count": 111
        }
      ]
    },
    {
      "cell_type": "code",
      "metadata": {
        "id": "VNdvd4kY5mm1"
      },
      "source": [
        "# We load directly from the URL\n",
        "# url = 'https://data.cityofnewyork.us/api/views/qgea-i56i/rows.csv?accessType=DOWNLOAD'\n",
        "# df = pd.read_csv(url, low_memory = True, dtype='object')\n"
      ],
      "execution_count": 112,
      "outputs": []
    },
    {
      "cell_type": "code",
      "metadata": {
        "id": "RmxhWjIz5mm2",
        "colab": {
          "base_uri": "https://localhost:8080/"
        },
        "outputId": "5ec9c172-eb43-40ca-ca65-540167c3c8a5"
      },
      "source": [
        "len(df)"
      ],
      "execution_count": 113,
      "outputs": [
        {
          "output_type": "execute_result",
          "data": {
            "text/plain": [
              "7396619"
            ]
          },
          "metadata": {
            "tags": []
          },
          "execution_count": 113
        }
      ]
    },
    {
      "cell_type": "code",
      "metadata": {
        "id": "LEnqUtmb5mm3",
        "colab": {
          "base_uri": "https://localhost:8080/"
        },
        "outputId": "b34b57d4-8cdc-4543-8777-3c6e3281b7ed"
      },
      "source": [
        "df.info()"
      ],
      "execution_count": 114,
      "outputs": [
        {
          "output_type": "stream",
          "text": [
            "<class 'pandas.core.frame.DataFrame'>\n",
            "RangeIndex: 7396619 entries, 0 to 7396618\n",
            "Data columns (total 35 columns):\n",
            " #   Column             Dtype \n",
            "---  ------             ----- \n",
            " 0   CMPLNT_NUM         object\n",
            " 1   CMPLNT_FR_DT       object\n",
            " 2   CMPLNT_FR_TM       object\n",
            " 3   CMPLNT_TO_DT       object\n",
            " 4   CMPLNT_TO_TM       object\n",
            " 5   ADDR_PCT_CD        object\n",
            " 6   RPT_DT             object\n",
            " 7   KY_CD              object\n",
            " 8   OFNS_DESC          object\n",
            " 9   PD_CD              object\n",
            " 10  PD_DESC            object\n",
            " 11  CRM_ATPT_CPTD_CD   object\n",
            " 12  LAW_CAT_CD         object\n",
            " 13  BORO_NM            object\n",
            " 14  LOC_OF_OCCUR_DESC  object\n",
            " 15  PREM_TYP_DESC      object\n",
            " 16  JURIS_DESC         object\n",
            " 17  JURISDICTION_CODE  object\n",
            " 18  PARKS_NM           object\n",
            " 19  HADEVELOPT         object\n",
            " 20  HOUSING_PSA        object\n",
            " 21  X_COORD_CD         object\n",
            " 22  Y_COORD_CD         object\n",
            " 23  SUSP_AGE_GROUP     object\n",
            " 24  SUSP_RACE          object\n",
            " 25  SUSP_SEX           object\n",
            " 26  TRANSIT_DISTRICT   object\n",
            " 27  Latitude           object\n",
            " 28  Longitude          object\n",
            " 29  Lat_Lon            object\n",
            " 30  PATROL_BORO        object\n",
            " 31  STATION_NAME       object\n",
            " 32  VIC_AGE_GROUP      object\n",
            " 33  VIC_RACE           object\n",
            " 34  VIC_SEX            object\n",
            "dtypes: object(35)\n",
            "memory usage: 1.9+ GB\n"
          ],
          "name": "stdout"
        }
      ]
    },
    {
      "cell_type": "markdown",
      "metadata": {
        "id": "iom7bUxU5mm4"
      },
      "source": [
        "## Data Cleaning"
      ]
    },
    {
      "cell_type": "code",
      "metadata": {
        "id": "_7AjsFKk_8O0"
      },
      "source": [
        "# These columns are redundant\n",
        "to_drop = ['Lat_Lon','X_COORD_CD','Y_COORD_CD']\n",
        "# We created the CMPLNT_FR and CMPLNT_TO columns\n",
        "# We have the longitude and latitude so the other coordinates are not needed\n",
        "df = df.drop(to_drop, axis='columns')"
      ],
      "execution_count": 115,
      "outputs": []
    },
    {
      "cell_type": "markdown",
      "metadata": {
        "id": "cneciJ0ychcz"
      },
      "source": [
        "###  CMPLNT_NUM         object   "
      ]
    },
    {
      "cell_type": "code",
      "metadata": {
        "id": "4AnVkOfw-8Ul"
      },
      "source": [
        "     \n",
        "# Drop cases with duplicated complaint numbers\n",
        "key_cnt = df.CMPLNT_NUM.value_counts()\n",
        "key_cnt [ key_cnt>1 ]\n",
        "df = df[ ~df.CMPLNT_NUM.isin( key_cnt [ key_cnt>1 ].index.values ) ]"
      ],
      "execution_count": 116,
      "outputs": []
    },
    {
      "cell_type": "code",
      "metadata": {
        "id": "TGaUJ382IYGM"
      },
      "source": [
        "df.CMPLNT_NUM = df.CMPLNT_NUM.astype('int32')"
      ],
      "execution_count": 117,
      "outputs": []
    },
    {
      "cell_type": "markdown",
      "metadata": {
        "id": "FHn3_6rjcj0t"
      },
      "source": [
        "### CMPLNT_FR_DT       object\n",
        "### CMPLNT_FR_TM       object\n",
        "### CMPLNT_TO_DT       object\n",
        "### CMPLNT_TO_TM       object"
      ]
    },
    {
      "cell_type": "code",
      "metadata": {
        "id": "f2F3vSC_5mm5"
      },
      "source": [
        "# There are a few rows that contain year 1015, 1016, ... that trigger an error during date conversion\n",
        "# We replace all years written as 10XX with 20XX\n",
        "# Note the usage of regular expressions\n",
        "df.CMPLNT_FR_DT.replace(to_replace = '(\\d\\d)/(\\d\\d)/10(\\d\\d)', value=r'\\1/\\2/20\\3', inplace = True, regex=True )\n",
        "df.CMPLNT_TO_DT.replace(to_replace = '(\\d\\d)/(\\d\\d)/10(\\d\\d)', value=r'\\1/\\2/20\\3', inplace = True, regex=True )\n",
        "\n",
        "# Similarly, a few hours are written as 24:00:00, which also triggers errors.\n",
        "# We fix these hours\n",
        "df.CMPLNT_FR_TM.replace(to_replace = '24:00:00', value='00:00:00', inplace = True)\n",
        "df.CMPLNT_TO_TM.replace(to_replace = '24:00:00', value='00:00:00', inplace = True)\n",
        "\n",
        "# Convert the two separate date and time columns into single datetime columns\n",
        "df['CMPLNT_FR'] = pd.to_datetime(df.CMPLNT_FR_DT + ' ' + df.CMPLNT_FR_TM, format='%m/%d/%Y %H:%M:%S', cache=True)\n",
        "df['CMPLNT_TO'] = pd.to_datetime(df.CMPLNT_TO_DT + ' ' + df.CMPLNT_TO_TM, format='%m/%d/%Y %H:%M:%S', cache=True)\n",
        "\n",
        "# These columns are redundant\n",
        "to_drop = ['CMPLNT_FR_DT','CMPLNT_TO_DT','CMPLNT_FR_TM','CMPLNT_TO_TM']\n",
        "# We created the CMPLNT_FR and CMPLNT_TO columns\n",
        "# We have the longitude and latitude so the other coordinates are not needed\n",
        "df = df.drop(to_drop, axis='columns')"
      ],
      "execution_count": 118,
      "outputs": []
    },
    {
      "cell_type": "code",
      "metadata": {
        "id": "W75-d3hf5mm6",
        "colab": {
          "base_uri": "https://localhost:8080/"
        },
        "outputId": "c2a97094-ac45-4f4f-f0ac-21136d802b6b"
      },
      "source": [
        "df.CMPLNT_FR.isnull().sum()"
      ],
      "execution_count": 119,
      "outputs": [
        {
          "output_type": "execute_result",
          "data": {
            "text/plain": [
              "702"
            ]
          },
          "metadata": {
            "tags": []
          },
          "execution_count": 119
        }
      ]
    },
    {
      "cell_type": "code",
      "metadata": {
        "id": "y_L6v8D-5mm6",
        "colab": {
          "base_uri": "https://localhost:8080/"
        },
        "outputId": "4073a50d-3eb8-45b7-e881-b0349e934998"
      },
      "source": [
        "df.CMPLNT_TO.isnull().sum()"
      ],
      "execution_count": 120,
      "outputs": [
        {
          "output_type": "execute_result",
          "data": {
            "text/plain": [
              "1702645"
            ]
          },
          "metadata": {
            "tags": []
          },
          "execution_count": 120
        }
      ]
    },
    {
      "cell_type": "code",
      "metadata": {
        "id": "Wew9yE3KEU4h"
      },
      "source": [
        "df = df [ ~df.CMPLNT_FR.isnull() ]"
      ],
      "execution_count": 121,
      "outputs": []
    },
    {
      "cell_type": "markdown",
      "metadata": {
        "id": "9LWq_gxRcn5X"
      },
      "source": [
        "###  ADDR_PCT_CD        object"
      ]
    },
    {
      "cell_type": "code",
      "metadata": {
        "id": "icQPQRXI_S0s"
      },
      "source": [
        "\n",
        "df.ADDR_PCT_CD.replace(to_replace = '-99', value='99', inplace = True)\n",
        "# df = df [ ~df.ADDR_PCT_CD.isnull() ]\n",
        "df.ADDR_PCT_CD = pd.Categorical(df.ADDR_PCT_CD)"
      ],
      "execution_count": 122,
      "outputs": []
    },
    {
      "cell_type": "markdown",
      "metadata": {
        "id": "jJy7ffBvcpUT"
      },
      "source": [
        "###  RPT_DT             object"
      ]
    },
    {
      "cell_type": "code",
      "metadata": {
        "id": "vSDFSmV__YsE"
      },
      "source": [
        "\n",
        "\n",
        "# Convert RPT_DT to date\n",
        "df.RPT_DT = pd.to_datetime(df.RPT_DT, format=\"%m/%d/%Y\", cache=True)"
      ],
      "execution_count": 123,
      "outputs": []
    },
    {
      "cell_type": "markdown",
      "metadata": {
        "id": "PMJyvnercqxR"
      },
      "source": [
        "### 7   KY_CD              object\n",
        "### 8   OFNS_DESC          object"
      ]
    },
    {
      "cell_type": "code",
      "metadata": {
        "id": "hqgAxM-F5mm7",
        "colab": {
          "base_uri": "https://localhost:8080/",
          "height": 419
        },
        "outputId": "28073143-2a64-417d-f08d-30031b6f8c43"
      },
      "source": [
        "df.OFNS_DESC.replace(to_replace = 'KIDNAPPING', value='KIDNAPPING & RELATED OFFENSES', inplace = True)\n",
        "df.OFNS_DESC.replace(to_replace = 'KIDNAPPING AND RELATED OFFENSES', value='KIDNAPPING & RELATED OFFENSES', inplace = True)\n",
        "\n",
        "df.OFNS_DESC.replace(to_replace = 'AGRICULTURE & MRKTS LAW-UNCLASSIFIED', value='OTHER STATE LAWS (NON PENAL LAW)', inplace = True)\n",
        "df.OFNS_DESC.replace(to_replace = 'OTHER STATE LAWS (NON PENAL LA', value='OTHER STATE LAWS (NON PENAL LAW)', inplace = True)\n",
        "\n",
        "df.OFNS_DESC.replace(to_replace = 'ENDAN WELFARE INCOMP', value='OFFENSES RELATED TO CHILDREN', inplace = True)\n",
        "\n",
        "df.OFNS_DESC.replace(to_replace = 'THEFT OF SERVICES', value='OTHER OFFENSES RELATED TO THEF', inplace = True)\n",
        "\n",
        "df.OFNS_DESC.replace(to_replace = 'NYS LAWS-UNCLASSIFIED VIOLATION', value='OTHER STATE LAWS', inplace = True)\n",
        "\n",
        "df.OFNS_DESC.replace(to_replace = 'FELONY SEX CRIMES', value='SEX CRIMES', inplace = True)\n",
        "\n",
        "df.loc[df.KY_CD=='120','OFNS_DESC'] ='CHILD ABANDONMENT/NON SUPPORT'\n",
        "\n",
        "df.loc[df.KY_CD=='125','OFNS_DESC'] ='NYS LAWS-UNCLASSIFIED FELONY'\n",
        "\n",
        "offenses = df[ [\"KY_CD\", \"OFNS_DESC\"] ].drop_duplicates().dropna()\n",
        "offenses['KY_CD'] = pd.Categorical(pd.to_numeric(offenses['KY_CD'] ).astype(int))\n",
        "offenses = offenses.set_index(\"KY_CD\")\n",
        "offenses = offenses.sort_index()\n",
        "offenses = offenses.reset_index()\n",
        "offenses\n"
      ],
      "execution_count": 124,
      "outputs": [
        {
          "output_type": "execute_result",
          "data": {
            "text/html": [
              "<div>\n",
              "<style scoped>\n",
              "    .dataframe tbody tr th:only-of-type {\n",
              "        vertical-align: middle;\n",
              "    }\n",
              "\n",
              "    .dataframe tbody tr th {\n",
              "        vertical-align: top;\n",
              "    }\n",
              "\n",
              "    .dataframe thead th {\n",
              "        text-align: right;\n",
              "    }\n",
              "</style>\n",
              "<table border=\"1\" class=\"dataframe\">\n",
              "  <thead>\n",
              "    <tr style=\"text-align: right;\">\n",
              "      <th></th>\n",
              "      <th>KY_CD</th>\n",
              "      <th>OFNS_DESC</th>\n",
              "    </tr>\n",
              "  </thead>\n",
              "  <tbody>\n",
              "    <tr>\n",
              "      <th>0</th>\n",
              "      <td>101</td>\n",
              "      <td>MURDER &amp; NON-NEGL. MANSLAUGHTER</td>\n",
              "    </tr>\n",
              "    <tr>\n",
              "      <th>1</th>\n",
              "      <td>102</td>\n",
              "      <td>HOMICIDE-NEGLIGENT-VEHICLE</td>\n",
              "    </tr>\n",
              "    <tr>\n",
              "      <th>2</th>\n",
              "      <td>103</td>\n",
              "      <td>HOMICIDE-NEGLIGENT,UNCLASSIFIE</td>\n",
              "    </tr>\n",
              "    <tr>\n",
              "      <th>3</th>\n",
              "      <td>104</td>\n",
              "      <td>RAPE</td>\n",
              "    </tr>\n",
              "    <tr>\n",
              "      <th>4</th>\n",
              "      <td>105</td>\n",
              "      <td>ROBBERY</td>\n",
              "    </tr>\n",
              "    <tr>\n",
              "      <th>...</th>\n",
              "      <td>...</td>\n",
              "      <td>...</td>\n",
              "    </tr>\n",
              "    <tr>\n",
              "      <th>69</th>\n",
              "      <td>676</td>\n",
              "      <td>NEW YORK CITY HEALTH CODE</td>\n",
              "    </tr>\n",
              "    <tr>\n",
              "      <th>70</th>\n",
              "      <td>677</td>\n",
              "      <td>OTHER STATE LAWS</td>\n",
              "    </tr>\n",
              "    <tr>\n",
              "      <th>71</th>\n",
              "      <td>678</td>\n",
              "      <td>MISCELLANEOUS PENAL LAW</td>\n",
              "    </tr>\n",
              "    <tr>\n",
              "      <th>72</th>\n",
              "      <td>685</td>\n",
              "      <td>ADMINISTRATIVE CODES</td>\n",
              "    </tr>\n",
              "    <tr>\n",
              "      <th>73</th>\n",
              "      <td>881</td>\n",
              "      <td>OTHER TRAFFIC INFRACTION</td>\n",
              "    </tr>\n",
              "  </tbody>\n",
              "</table>\n",
              "<p>74 rows × 2 columns</p>\n",
              "</div>"
            ],
            "text/plain": [
              "   KY_CD                        OFNS_DESC\n",
              "0    101  MURDER & NON-NEGL. MANSLAUGHTER\n",
              "1    102       HOMICIDE-NEGLIGENT-VEHICLE\n",
              "2    103   HOMICIDE-NEGLIGENT,UNCLASSIFIE\n",
              "3    104                             RAPE\n",
              "4    105                          ROBBERY\n",
              "..   ...                              ...\n",
              "69   676        NEW YORK CITY HEALTH CODE\n",
              "70   677                 OTHER STATE LAWS\n",
              "71   678          MISCELLANEOUS PENAL LAW\n",
              "72   685             ADMINISTRATIVE CODES\n",
              "73   881         OTHER TRAFFIC INFRACTION\n",
              "\n",
              "[74 rows x 2 columns]"
            ]
          },
          "metadata": {
            "tags": []
          },
          "execution_count": 124
        }
      ]
    },
    {
      "cell_type": "code",
      "metadata": {
        "id": "5RYYeU3oGvoY"
      },
      "source": [
        "df.KY_CD = pd.Categorical(df.KY_CD)"
      ],
      "execution_count": 125,
      "outputs": []
    },
    {
      "cell_type": "code",
      "metadata": {
        "id": "VfNKp2c4JThg"
      },
      "source": [
        "df = df.drop('OFNS_DESC', axis='columns')"
      ],
      "execution_count": 126,
      "outputs": []
    },
    {
      "cell_type": "markdown",
      "metadata": {
        "id": "211BiQHwc-Hi"
      },
      "source": [
        "### 9   PD_CD              object\n",
        "### 10  PD_DESC            object"
      ]
    },
    {
      "cell_type": "code",
      "metadata": {
        "id": "sSM0WJ2xFQKi",
        "colab": {
          "base_uri": "https://localhost:8080/",
          "height": 419
        },
        "outputId": "d8e72b32-9176-45e9-ab8f-0d3481ac48c2"
      },
      "source": [
        "\n",
        "\n",
        "\n",
        "df.loc[df.PD_CD=='694','PD_DESC'] ='INCEST'\n",
        "\n",
        "df.loc[df.PD_CD=='234','PD_DESC'] ='BURGLARY,UNKNOWN TIME'\n",
        "\n",
        "internal = df[ [\"PD_CD\", \"PD_DESC\"] ].drop_duplicates().dropna()\n",
        "internal['PD_CD'] = pd.Categorical(pd.to_numeric(internal['PD_CD'] ).astype(int))\n",
        "internal = internal.set_index(\"PD_CD\")\n",
        "internal = internal.sort_index()\n",
        "internal = internal.reset_index()\n",
        "internal"
      ],
      "execution_count": 127,
      "outputs": [
        {
          "output_type": "execute_result",
          "data": {
            "text/html": [
              "<div>\n",
              "<style scoped>\n",
              "    .dataframe tbody tr th:only-of-type {\n",
              "        vertical-align: middle;\n",
              "    }\n",
              "\n",
              "    .dataframe tbody tr th {\n",
              "        vertical-align: top;\n",
              "    }\n",
              "\n",
              "    .dataframe thead th {\n",
              "        text-align: right;\n",
              "    }\n",
              "</style>\n",
              "<table border=\"1\" class=\"dataframe\">\n",
              "  <thead>\n",
              "    <tr style=\"text-align: right;\">\n",
              "      <th></th>\n",
              "      <th>PD_CD</th>\n",
              "      <th>PD_DESC</th>\n",
              "    </tr>\n",
              "  </thead>\n",
              "  <tbody>\n",
              "    <tr>\n",
              "      <th>0</th>\n",
              "      <td>100</td>\n",
              "      <td>STALKING COMMIT SEX OFFENSE</td>\n",
              "    </tr>\n",
              "    <tr>\n",
              "      <th>1</th>\n",
              "      <td>101</td>\n",
              "      <td>ASSAULT 3</td>\n",
              "    </tr>\n",
              "    <tr>\n",
              "      <th>2</th>\n",
              "      <td>102</td>\n",
              "      <td>ASSAULT SCHOOL SAFETY AGENT</td>\n",
              "    </tr>\n",
              "    <tr>\n",
              "      <th>3</th>\n",
              "      <td>103</td>\n",
              "      <td>ASSAULT TRAFFIC AGENT</td>\n",
              "    </tr>\n",
              "    <tr>\n",
              "      <th>4</th>\n",
              "      <td>104</td>\n",
              "      <td>VEHICULAR ASSAULT (INTOX DRIVE</td>\n",
              "    </tr>\n",
              "    <tr>\n",
              "      <th>...</th>\n",
              "      <td>...</td>\n",
              "      <td>...</td>\n",
              "    </tr>\n",
              "    <tr>\n",
              "      <th>427</th>\n",
              "      <td>916</td>\n",
              "      <td>LEAVING SCENE-ACCIDENT-PERSONA</td>\n",
              "    </tr>\n",
              "    <tr>\n",
              "      <th>428</th>\n",
              "      <td>918</td>\n",
              "      <td>RECKLESS DRIVING</td>\n",
              "    </tr>\n",
              "    <tr>\n",
              "      <th>429</th>\n",
              "      <td>922</td>\n",
              "      <td>TRAFFIC,UNCLASSIFIED MISDEMEAN</td>\n",
              "    </tr>\n",
              "    <tr>\n",
              "      <th>430</th>\n",
              "      <td>969</td>\n",
              "      <td>TRAFFIC,UNCLASSIFIED INFRACTIO</td>\n",
              "    </tr>\n",
              "    <tr>\n",
              "      <th>431</th>\n",
              "      <td>975</td>\n",
              "      <td>ENVIRONMENTAL CONTROL BOARD</td>\n",
              "    </tr>\n",
              "  </tbody>\n",
              "</table>\n",
              "<p>432 rows × 2 columns</p>\n",
              "</div>"
            ],
            "text/plain": [
              "    PD_CD                         PD_DESC\n",
              "0     100     STALKING COMMIT SEX OFFENSE\n",
              "1     101                       ASSAULT 3\n",
              "2     102     ASSAULT SCHOOL SAFETY AGENT\n",
              "3     103           ASSAULT TRAFFIC AGENT\n",
              "4     104  VEHICULAR ASSAULT (INTOX DRIVE\n",
              "..    ...                             ...\n",
              "427   916  LEAVING SCENE-ACCIDENT-PERSONA\n",
              "428   918                RECKLESS DRIVING\n",
              "429   922  TRAFFIC,UNCLASSIFIED MISDEMEAN\n",
              "430   969  TRAFFIC,UNCLASSIFIED INFRACTIO\n",
              "431   975     ENVIRONMENTAL CONTROL BOARD\n",
              "\n",
              "[432 rows x 2 columns]"
            ]
          },
          "metadata": {
            "tags": []
          },
          "execution_count": 127
        }
      ]
    },
    {
      "cell_type": "code",
      "metadata": {
        "id": "litXEQ4gHJbc",
        "colab": {
          "base_uri": "https://localhost:8080/"
        },
        "outputId": "0100a60f-1b86-42fe-8b11-974183822a38"
      },
      "source": [
        "df.PD_CD.isnull().sum()"
      ],
      "execution_count": 128,
      "outputs": [
        {
          "output_type": "execute_result",
          "data": {
            "text/plain": [
              "6244"
            ]
          },
          "metadata": {
            "tags": []
          },
          "execution_count": 128
        }
      ]
    },
    {
      "cell_type": "code",
      "metadata": {
        "id": "EoAB8vswHC_a"
      },
      "source": [
        "# df = df[~df.PD_CD.isnull()]"
      ],
      "execution_count": 129,
      "outputs": []
    },
    {
      "cell_type": "code",
      "metadata": {
        "id": "9kwshtMxHAcL"
      },
      "source": [
        "df.PD_CD = pd.Categorical(df.PD_CD)"
      ],
      "execution_count": 130,
      "outputs": []
    },
    {
      "cell_type": "code",
      "metadata": {
        "id": "3H3ZPPzwFYh9"
      },
      "source": [
        "df = df.drop('PD_DESC', axis='columns')"
      ],
      "execution_count": 131,
      "outputs": []
    },
    {
      "cell_type": "code",
      "metadata": {
        "id": "dv3xfTcjF8Qz"
      },
      "source": [
        ""
      ],
      "execution_count": 131,
      "outputs": []
    },
    {
      "cell_type": "markdown",
      "metadata": {
        "id": "mCyBuyV2dALc"
      },
      "source": [
        "### 11  CRM_ATPT_CPTD_CD   object"
      ]
    },
    {
      "cell_type": "code",
      "metadata": {
        "id": "3qf5FO6XFaPn",
        "colab": {
          "base_uri": "https://localhost:8080/"
        },
        "outputId": "00afd197-fa90-4f39-9db1-36e5a8a75eb7"
      },
      "source": [
        "df.CRM_ATPT_CPTD_CD.value_counts()"
      ],
      "execution_count": 132,
      "outputs": [
        {
          "output_type": "execute_result",
          "data": {
            "text/plain": [
              "COMPLETED    7233460\n",
              "ATTEMPTED     125429\n",
              "Name: CRM_ATPT_CPTD_CD, dtype: int64"
            ]
          },
          "metadata": {
            "tags": []
          },
          "execution_count": 132
        }
      ]
    },
    {
      "cell_type": "code",
      "metadata": {
        "id": "wf1WmbD2FmaB"
      },
      "source": [
        "df.CRM_ATPT_CPTD_CD = pd.Categorical(df.CRM_ATPT_CPTD_CD)"
      ],
      "execution_count": 133,
      "outputs": []
    },
    {
      "cell_type": "code",
      "metadata": {
        "id": "HMCKHHaSFtyF",
        "colab": {
          "base_uri": "https://localhost:8080/"
        },
        "outputId": "3e62443d-6766-4729-e027-1fb8d9bc353b"
      },
      "source": [
        "df.CRM_ATPT_CPTD_CD.isnull().sum()"
      ],
      "execution_count": 134,
      "outputs": [
        {
          "output_type": "execute_result",
          "data": {
            "text/plain": [
              "7"
            ]
          },
          "metadata": {
            "tags": []
          },
          "execution_count": 134
        }
      ]
    },
    {
      "cell_type": "code",
      "metadata": {
        "id": "F8AKN07HF06g"
      },
      "source": [
        "# df = df [ ~df.CRM_ATPT_CPTD_CD.isnull() ]"
      ],
      "execution_count": 135,
      "outputs": []
    },
    {
      "cell_type": "markdown",
      "metadata": {
        "id": "dxaDxHN5dDLH"
      },
      "source": [
        "### 12  LAW_CAT_CD         object"
      ]
    },
    {
      "cell_type": "code",
      "metadata": {
        "id": "kmXlgdSeGBMm"
      },
      "source": [
        ""
      ],
      "execution_count": 135,
      "outputs": []
    },
    {
      "cell_type": "code",
      "metadata": {
        "id": "SNddZBFdGEmG",
        "colab": {
          "base_uri": "https://localhost:8080/"
        },
        "outputId": "ac63ddc0-e59e-49c7-f94d-e5bf54221a3d"
      },
      "source": [
        "df.LAW_CAT_CD.value_counts()"
      ],
      "execution_count": 136,
      "outputs": [
        {
          "output_type": "execute_result",
          "data": {
            "text/plain": [
              "MISDEMEANOR    4132786\n",
              "FELONY         2267895\n",
              "VIOLATION       958215\n",
              "Name: LAW_CAT_CD, dtype: int64"
            ]
          },
          "metadata": {
            "tags": []
          },
          "execution_count": 136
        }
      ]
    },
    {
      "cell_type": "code",
      "metadata": {
        "id": "ZGSY4h6T5mm7"
      },
      "source": [
        "df.LAW_CAT_CD = pd.Categorical(df.LAW_CAT_CD)"
      ],
      "execution_count": 137,
      "outputs": []
    },
    {
      "cell_type": "markdown",
      "metadata": {
        "id": "ktDmEg1cdE_v"
      },
      "source": [
        "### 16  JURIS_DESC         object\n",
        "### 17  JURISDICTION_CODE  object"
      ]
    },
    {
      "cell_type": "code",
      "metadata": {
        "id": "Neev5NjGH4BN",
        "colab": {
          "base_uri": "https://localhost:8080/"
        },
        "outputId": "21da40e3-8dba-48af-edaa-ae55526657ab"
      },
      "source": [
        "df.JURISDICTION_CODE.isnull().sum()"
      ],
      "execution_count": 138,
      "outputs": [
        {
          "output_type": "execute_result",
          "data": {
            "text/plain": [
              "6244"
            ]
          },
          "metadata": {
            "tags": []
          },
          "execution_count": 138
        }
      ]
    },
    {
      "cell_type": "code",
      "metadata": {
        "id": "IgUqAQzUHWD3",
        "colab": {
          "base_uri": "https://localhost:8080/",
          "height": 824
        },
        "outputId": "28475ac2-0a29-4460-a40d-517b57c87b00"
      },
      "source": [
        "# df = df[ ~df.JURISDICTION_CODE.isnull() ]\n",
        "\n",
        "jusridiction = df[ [\"JURISDICTION_CODE\", \"JURIS_DESC\", ] ].drop_duplicates().dropna()\n",
        "jusridiction['JURISDICTION_CODE'] = pd.to_numeric(jusridiction['JURISDICTION_CODE'] )\n",
        "jusridiction['JURISDICTION_CODE'] = jusridiction['JURISDICTION_CODE'].astype(int)\n",
        "jusridiction = jusridiction.set_index(\"JURISDICTION_CODE\")\n",
        "jusridiction = jusridiction.sort_index()\n",
        "jusridiction = jusridiction.reset_index()\n",
        "jusridiction"
      ],
      "execution_count": 139,
      "outputs": [
        {
          "output_type": "execute_result",
          "data": {
            "text/html": [
              "<div>\n",
              "<style scoped>\n",
              "    .dataframe tbody tr th:only-of-type {\n",
              "        vertical-align: middle;\n",
              "    }\n",
              "\n",
              "    .dataframe tbody tr th {\n",
              "        vertical-align: top;\n",
              "    }\n",
              "\n",
              "    .dataframe thead th {\n",
              "        text-align: right;\n",
              "    }\n",
              "</style>\n",
              "<table border=\"1\" class=\"dataframe\">\n",
              "  <thead>\n",
              "    <tr style=\"text-align: right;\">\n",
              "      <th></th>\n",
              "      <th>JURISDICTION_CODE</th>\n",
              "      <th>JURIS_DESC</th>\n",
              "    </tr>\n",
              "  </thead>\n",
              "  <tbody>\n",
              "    <tr>\n",
              "      <th>0</th>\n",
              "      <td>0</td>\n",
              "      <td>N.Y. POLICE DEPT</td>\n",
              "    </tr>\n",
              "    <tr>\n",
              "      <th>1</th>\n",
              "      <td>1</td>\n",
              "      <td>N.Y. TRANSIT POLICE</td>\n",
              "    </tr>\n",
              "    <tr>\n",
              "      <th>2</th>\n",
              "      <td>2</td>\n",
              "      <td>N.Y. HOUSING POLICE</td>\n",
              "    </tr>\n",
              "    <tr>\n",
              "      <th>3</th>\n",
              "      <td>3</td>\n",
              "      <td>PORT AUTHORITY</td>\n",
              "    </tr>\n",
              "    <tr>\n",
              "      <th>4</th>\n",
              "      <td>4</td>\n",
              "      <td>TRI-BORO BRDG TUNNL</td>\n",
              "    </tr>\n",
              "    <tr>\n",
              "      <th>5</th>\n",
              "      <td>6</td>\n",
              "      <td>LONG ISLAND RAILRD</td>\n",
              "    </tr>\n",
              "    <tr>\n",
              "      <th>6</th>\n",
              "      <td>7</td>\n",
              "      <td>AMTRACK</td>\n",
              "    </tr>\n",
              "    <tr>\n",
              "      <th>7</th>\n",
              "      <td>8</td>\n",
              "      <td>CONRAIL</td>\n",
              "    </tr>\n",
              "    <tr>\n",
              "      <th>8</th>\n",
              "      <td>9</td>\n",
              "      <td>STATN IS RAPID TRANS</td>\n",
              "    </tr>\n",
              "    <tr>\n",
              "      <th>9</th>\n",
              "      <td>11</td>\n",
              "      <td>N.Y. STATE POLICE</td>\n",
              "    </tr>\n",
              "    <tr>\n",
              "      <th>10</th>\n",
              "      <td>12</td>\n",
              "      <td>N.Y. STATE PARKS</td>\n",
              "    </tr>\n",
              "    <tr>\n",
              "      <th>11</th>\n",
              "      <td>13</td>\n",
              "      <td>U.S. PARK POLICE</td>\n",
              "    </tr>\n",
              "    <tr>\n",
              "      <th>12</th>\n",
              "      <td>14</td>\n",
              "      <td>HEALTH &amp; HOSP CORP</td>\n",
              "    </tr>\n",
              "    <tr>\n",
              "      <th>13</th>\n",
              "      <td>15</td>\n",
              "      <td>METRO NORTH</td>\n",
              "    </tr>\n",
              "    <tr>\n",
              "      <th>14</th>\n",
              "      <td>16</td>\n",
              "      <td>SEA GATE POLICE DEPT</td>\n",
              "    </tr>\n",
              "    <tr>\n",
              "      <th>15</th>\n",
              "      <td>69</td>\n",
              "      <td>POLICE DEPT NYC</td>\n",
              "    </tr>\n",
              "    <tr>\n",
              "      <th>16</th>\n",
              "      <td>71</td>\n",
              "      <td>FIRE DEPT (FIRE MARSHAL)</td>\n",
              "    </tr>\n",
              "    <tr>\n",
              "      <th>17</th>\n",
              "      <td>72</td>\n",
              "      <td>DEPT OF CORRECTIONS</td>\n",
              "    </tr>\n",
              "    <tr>\n",
              "      <th>18</th>\n",
              "      <td>73</td>\n",
              "      <td>DISTRICT ATTORNEY OFFICE</td>\n",
              "    </tr>\n",
              "    <tr>\n",
              "      <th>19</th>\n",
              "      <td>76</td>\n",
              "      <td>NYC DEPT ENVIRONMENTAL PROTECTION</td>\n",
              "    </tr>\n",
              "    <tr>\n",
              "      <th>20</th>\n",
              "      <td>79</td>\n",
              "      <td>NYS DEPT ENVIRONMENTAL CONSERVATION</td>\n",
              "    </tr>\n",
              "    <tr>\n",
              "      <th>21</th>\n",
              "      <td>85</td>\n",
              "      <td>NYS DEPT TAX AND FINANCE</td>\n",
              "    </tr>\n",
              "    <tr>\n",
              "      <th>22</th>\n",
              "      <td>87</td>\n",
              "      <td>NEW YORK CITY SHERIFF OFFICE</td>\n",
              "    </tr>\n",
              "    <tr>\n",
              "      <th>23</th>\n",
              "      <td>88</td>\n",
              "      <td>NYC PARKS</td>\n",
              "    </tr>\n",
              "    <tr>\n",
              "      <th>24</th>\n",
              "      <td>97</td>\n",
              "      <td>OTHER</td>\n",
              "    </tr>\n",
              "  </tbody>\n",
              "</table>\n",
              "</div>"
            ],
            "text/plain": [
              "    JURISDICTION_CODE                           JURIS_DESC\n",
              "0                   0                     N.Y. POLICE DEPT\n",
              "1                   1                  N.Y. TRANSIT POLICE\n",
              "2                   2                  N.Y. HOUSING POLICE\n",
              "3                   3                       PORT AUTHORITY\n",
              "4                   4                  TRI-BORO BRDG TUNNL\n",
              "5                   6                   LONG ISLAND RAILRD\n",
              "6                   7                              AMTRACK\n",
              "7                   8                              CONRAIL\n",
              "8                   9                 STATN IS RAPID TRANS\n",
              "9                  11                    N.Y. STATE POLICE\n",
              "10                 12                     N.Y. STATE PARKS\n",
              "11                 13                     U.S. PARK POLICE\n",
              "12                 14                   HEALTH & HOSP CORP\n",
              "13                 15                          METRO NORTH\n",
              "14                 16                 SEA GATE POLICE DEPT\n",
              "15                 69                      POLICE DEPT NYC\n",
              "16                 71             FIRE DEPT (FIRE MARSHAL)\n",
              "17                 72                  DEPT OF CORRECTIONS\n",
              "18                 73             DISTRICT ATTORNEY OFFICE\n",
              "19                 76    NYC DEPT ENVIRONMENTAL PROTECTION\n",
              "20                 79  NYS DEPT ENVIRONMENTAL CONSERVATION\n",
              "21                 85             NYS DEPT TAX AND FINANCE\n",
              "22                 87         NEW YORK CITY SHERIFF OFFICE\n",
              "23                 88                            NYC PARKS\n",
              "24                 97                                OTHER"
            ]
          },
          "metadata": {
            "tags": []
          },
          "execution_count": 139
        }
      ]
    },
    {
      "cell_type": "code",
      "metadata": {
        "id": "j1LMjSO4JzqC"
      },
      "source": [
        "df.JURISDICTION_CODE = pd.Categorical(df.JURISDICTION_CODE)\n"
      ],
      "execution_count": 140,
      "outputs": []
    },
    {
      "cell_type": "code",
      "metadata": {
        "id": "7ZKEI7n2KP91"
      },
      "source": [
        "df = df.drop('JURIS_DESC', axis='columns')"
      ],
      "execution_count": 141,
      "outputs": []
    },
    {
      "cell_type": "markdown",
      "metadata": {
        "id": "lo9tm9godHgO"
      },
      "source": [
        "###  13  BORO_NM            object"
      ]
    },
    {
      "cell_type": "code",
      "metadata": {
        "id": "ENjhOe0dKmoY",
        "colab": {
          "base_uri": "https://localhost:8080/"
        },
        "outputId": "924aa679-a769-4de4-cbc9-552069837dcc"
      },
      "source": [
        "df.BORO_NM.value_counts()"
      ],
      "execution_count": 142,
      "outputs": [
        {
          "output_type": "execute_result",
          "data": {
            "text/plain": [
              "BROOKLYN         2181718\n",
              "MANHATTAN        1767432\n",
              "BRONX            1596460\n",
              "QUEENS           1459749\n",
              "STATEN ISLAND     342243\n",
              "Name: BORO_NM, dtype: int64"
            ]
          },
          "metadata": {
            "tags": []
          },
          "execution_count": 142
        }
      ]
    },
    {
      "cell_type": "code",
      "metadata": {
        "id": "1k5gkaPcKyc3",
        "colab": {
          "base_uri": "https://localhost:8080/"
        },
        "outputId": "51b2ad96-30e6-4221-fb76-f7201ff67271"
      },
      "source": [
        "df.BORO_NM.isnull().sum()"
      ],
      "execution_count": 143,
      "outputs": [
        {
          "output_type": "execute_result",
          "data": {
            "text/plain": [
              "11294"
            ]
          },
          "metadata": {
            "tags": []
          },
          "execution_count": 143
        }
      ]
    },
    {
      "cell_type": "code",
      "metadata": {
        "id": "QycD04zYKsYv"
      },
      "source": [
        "# df = df[~df.BORO_NM.isnull()]"
      ],
      "execution_count": 144,
      "outputs": []
    },
    {
      "cell_type": "code",
      "metadata": {
        "id": "BOy4IDT-Kmqx"
      },
      "source": [
        "df.BORO_NM = pd.Categorical(df.BORO_NM)"
      ],
      "execution_count": 145,
      "outputs": []
    },
    {
      "cell_type": "markdown",
      "metadata": {
        "id": "dYetoWeydJBI"
      },
      "source": [
        "### 23  SUSP_AGE_GROUP     object\n",
        "### 32  VIC_AGE_GROUP      object"
      ]
    },
    {
      "cell_type": "code",
      "metadata": {
        "id": "uB6ZXLgxN9mv"
      },
      "source": [
        "# Both columns have a lot of noisy entries. We keep only the dominant groups, and also define an order\n",
        "df.SUSP_AGE_GROUP = pd.Categorical(df.SUSP_AGE_GROUP, ordered=True, categories=['<18', '18-24',  '25-44', '45-64', '65+'])\n",
        "df.VIC_AGE_GROUP = pd.Categorical(df.VIC_AGE_GROUP, ordered=True, categories=['<18', '18-24',  '25-44', '45-64', '65+'])"
      ],
      "execution_count": 146,
      "outputs": []
    },
    {
      "cell_type": "markdown",
      "metadata": {
        "id": "dzbRUBNidLui"
      },
      "source": [
        "\n",
        "### 24  SUSP_RACE          object\n",
        "### 25  SUSP_SEX           object\n",
        "\n",
        "### 33  VIC_RACE           object\n",
        "### 34  VIC_SEX            object"
      ]
    },
    {
      "cell_type": "code",
      "metadata": {
        "id": "AbvNhUSHLWyX",
        "colab": {
          "base_uri": "https://localhost:8080/"
        },
        "outputId": "4b6f79a8-5869-45a2-ebeb-84b3b5f42691"
      },
      "source": [
        "df.VIC_SEX.isnull().sum()"
      ],
      "execution_count": 147,
      "outputs": [
        {
          "output_type": "execute_result",
          "data": {
            "text/plain": [
              "308"
            ]
          },
          "metadata": {
            "tags": []
          },
          "execution_count": 147
        }
      ]
    },
    {
      "cell_type": "code",
      "metadata": {
        "id": "90z-XtBmL7Y_",
        "colab": {
          "base_uri": "https://localhost:8080/"
        },
        "outputId": "8acc9182-5354-4c77-a96d-33cea9c44274"
      },
      "source": [
        "df.VIC_SEX.value_counts()"
      ],
      "execution_count": 206,
      "outputs": [
        {
          "output_type": "execute_result",
          "data": {
            "text/plain": [
              "F    2879885\n",
              "M    2429348\n",
              "E    1149285\n",
              "D     900066\n",
              "Name: VIC_SEX, dtype: int64"
            ]
          },
          "metadata": {
            "tags": []
          },
          "execution_count": 206
        }
      ]
    },
    {
      "cell_type": "code",
      "metadata": {
        "id": "f90mE8bAMCbq"
      },
      "source": [
        "# df = df[~df.VIC_SEX.isnull()]\n",
        "\n",
        "df.VIC_SEX.replace(to_replace = 'U', value=np.nan, inplace = True)"
      ],
      "execution_count": 208,
      "outputs": []
    },
    {
      "cell_type": "code",
      "metadata": {
        "id": "A6-wR3QDLW1k",
        "colab": {
          "base_uri": "https://localhost:8080/"
        },
        "outputId": "7f152dbc-fb49-42ba-b242-66a98bbd3cb3"
      },
      "source": [
        "df.VIC_RACE.isnull().sum()"
      ],
      "execution_count": 207,
      "outputs": [
        {
          "output_type": "execute_result",
          "data": {
            "text/plain": [
              "309"
            ]
          },
          "metadata": {
            "tags": []
          },
          "execution_count": 207
        }
      ]
    },
    {
      "cell_type": "code",
      "metadata": {
        "id": "646VVWqpLv3m",
        "colab": {
          "base_uri": "https://localhost:8080/"
        },
        "outputId": "8dad7bf7-fca1-42d7-8be9-ed2efa0b33fd"
      },
      "source": [
        "df.VIC_RACE.value_counts()"
      ],
      "execution_count": 209,
      "outputs": [
        {
          "output_type": "execute_result",
          "data": {
            "text/plain": [
              "UNKNOWN                           2428290\n",
              "BLACK                             1766497\n",
              "WHITE                             1265086\n",
              "WHITE HISPANIC                    1189053\n",
              "ASIAN / PACIFIC ISLANDER           425865\n",
              "BLACK HISPANIC                     250438\n",
              "AMERICAN INDIAN/ALASKAN NATIVE      33358\n",
              "Name: VIC_RACE, dtype: int64"
            ]
          },
          "metadata": {
            "tags": []
          },
          "execution_count": 209
        }
      ]
    },
    {
      "cell_type": "code",
      "metadata": {
        "id": "U-JOiwNLNnwA"
      },
      "source": [
        "df.VIC_RACE.replace(to_replace = 'OTHER', value='UNKNOWN', inplace = True)"
      ],
      "execution_count": 152,
      "outputs": []
    },
    {
      "cell_type": "code",
      "metadata": {
        "id": "CIc279r6LzH2"
      },
      "source": [
        "# df = df[~df.VIC_RACE.isnull()]"
      ],
      "execution_count": 153,
      "outputs": []
    },
    {
      "cell_type": "code",
      "metadata": {
        "id": "sXZiVydvLW7B",
        "colab": {
          "base_uri": "https://localhost:8080/"
        },
        "outputId": "50f924da-b989-4211-a716-db41b9ddc986"
      },
      "source": [
        "df.SUSP_SEX.value_counts()"
      ],
      "execution_count": 154,
      "outputs": [
        {
          "output_type": "execute_result",
          "data": {
            "text/plain": [
              "M    2388690\n",
              "F     754564\n",
              "U     661498\n",
              "Name: SUSP_SEX, dtype: int64"
            ]
          },
          "metadata": {
            "tags": []
          },
          "execution_count": 154
        }
      ]
    },
    {
      "cell_type": "code",
      "metadata": {
        "id": "uqOaUJwGOY8A"
      },
      "source": [
        "# U is unknown, same is NULL.\n",
        "df.SUSP_SEX.replace(to_replace = 'U', value=np.nan, inplace = True)"
      ],
      "execution_count": 155,
      "outputs": []
    },
    {
      "cell_type": "code",
      "metadata": {
        "id": "GT09OkMvLf0s",
        "colab": {
          "base_uri": "https://localhost:8080/"
        },
        "outputId": "58df54de-8489-4cb0-bf15-db8883a62cc2"
      },
      "source": [
        "df.SUSP_RACE.value_counts()"
      ],
      "execution_count": 156,
      "outputs": [
        {
          "output_type": "execute_result",
          "data": {
            "text/plain": [
              "BLACK                             1469872\n",
              "UNKNOWN                           1029634\n",
              "WHITE HISPANIC                     668043\n",
              "WHITE                              429276\n",
              "BLACK HISPANIC                     203201\n",
              "ASIAN / PACIFIC ISLANDER           126097\n",
              "AMERICAN INDIAN/ALASKAN NATIVE      11879\n",
              "OTHER                                  11\n",
              "Name: SUSP_RACE, dtype: int64"
            ]
          },
          "metadata": {
            "tags": []
          },
          "execution_count": 156
        }
      ]
    },
    {
      "cell_type": "code",
      "metadata": {
        "id": "uNrpuX5cO2jD"
      },
      "source": [
        "# Very small amount of OTHER values\n",
        "df.SUSP_RACE.replace(to_replace = 'OTHER', value='UNKNOWN', inplace = True)\n",
        "\n"
      ],
      "execution_count": 157,
      "outputs": []
    },
    {
      "cell_type": "code",
      "metadata": {
        "id": "cnsudHdiminz"
      },
      "source": [
        "df.SUSP_RACE = pd.Categorical(df.SUSP_RACE)\n",
        "df.SUSP_SEX = pd.Categorical(df.SUSP_SEX)\n",
        "df.VIC_RACE = pd.Categorical(df.VIC_RACE)\n",
        "df.VIC_SEX = pd.Categorical(df.VIC_SEX)"
      ],
      "execution_count": 158,
      "outputs": []
    },
    {
      "cell_type": "code",
      "metadata": {
        "id": "QHtE9IhgmM4r",
        "colab": {
          "base_uri": "https://localhost:8080/"
        },
        "outputId": "fc586730-a7ff-40bf-e54c-7b0b10b3f775"
      },
      "source": [
        "df.dtypes"
      ],
      "execution_count": 159,
      "outputs": [
        {
          "output_type": "execute_result",
          "data": {
            "text/plain": [
              "CMPLNT_NUM                    int32\n",
              "ADDR_PCT_CD                category\n",
              "RPT_DT               datetime64[ns]\n",
              "KY_CD                      category\n",
              "PD_CD                      category\n",
              "CRM_ATPT_CPTD_CD           category\n",
              "LAW_CAT_CD                 category\n",
              "BORO_NM                    category\n",
              "LOC_OF_OCCUR_DESC            object\n",
              "PREM_TYP_DESC                object\n",
              "JURISDICTION_CODE          category\n",
              "PARKS_NM                     object\n",
              "HADEVELOPT                   object\n",
              "HOUSING_PSA                  object\n",
              "SUSP_AGE_GROUP             category\n",
              "SUSP_RACE                  category\n",
              "SUSP_SEX                   category\n",
              "TRANSIT_DISTRICT             object\n",
              "Latitude                     object\n",
              "Longitude                    object\n",
              "PATROL_BORO                  object\n",
              "STATION_NAME                 object\n",
              "VIC_AGE_GROUP              category\n",
              "VIC_RACE                   category\n",
              "VIC_SEX                    category\n",
              "CMPLNT_FR            datetime64[ns]\n",
              "CMPLNT_TO            datetime64[ns]\n",
              "dtype: object"
            ]
          },
          "metadata": {
            "tags": []
          },
          "execution_count": 159
        }
      ]
    },
    {
      "cell_type": "code",
      "metadata": {
        "id": "oefs7ULfLq_3"
      },
      "source": [
        ""
      ],
      "execution_count": 159,
      "outputs": []
    },
    {
      "cell_type": "markdown",
      "metadata": {
        "id": "hwqg7JDimsZL"
      },
      "source": [
        "###  14  LOC_OF_OCCUR_DESC  object"
      ]
    },
    {
      "cell_type": "code",
      "metadata": {
        "id": "FjndFTaaLrCz",
        "colab": {
          "base_uri": "https://localhost:8080/"
        },
        "outputId": "00702457-1777-4dca-a128-9d6caa330467"
      },
      "source": [
        "df.LOC_OF_OCCUR_DESC.value_counts()"
      ],
      "execution_count": 160,
      "outputs": [
        {
          "output_type": "execute_result",
          "data": {
            "text/plain": [
              "INSIDE         3736424\n",
              "FRONT OF       1724609\n",
              "OPPOSITE OF     195550\n",
              "REAR OF         157076\n",
              "OUTSIDE           3797\n",
              "Name: LOC_OF_OCCUR_DESC, dtype: int64"
            ]
          },
          "metadata": {
            "tags": []
          },
          "execution_count": 160
        }
      ]
    },
    {
      "cell_type": "code",
      "metadata": {
        "id": "uwyM4dbHUNZ4",
        "colab": {
          "base_uri": "https://localhost:8080/"
        },
        "outputId": "1e874deb-c569-4db3-a866-d4487e349038"
      },
      "source": [
        "df.LOC_OF_OCCUR_DESC.isnull().sum()"
      ],
      "execution_count": 161,
      "outputs": [
        {
          "output_type": "execute_result",
          "data": {
            "text/plain": [
              "1541440"
            ]
          },
          "metadata": {
            "tags": []
          },
          "execution_count": 161
        }
      ]
    },
    {
      "cell_type": "code",
      "metadata": {
        "id": "BYD6exvDURk0"
      },
      "source": [
        "df.LOC_OF_OCCUR_DESC = pd.Categorical(df.LOC_OF_OCCUR_DESC)"
      ],
      "execution_count": 162,
      "outputs": []
    },
    {
      "cell_type": "markdown",
      "metadata": {
        "id": "aXmyNo52mz3j"
      },
      "source": [
        "### Latitude                     object\n",
        "### Longitude                    object"
      ]
    },
    {
      "cell_type": "code",
      "metadata": {
        "id": "U9no8KCH5mm9"
      },
      "source": [
        "df.Latitude = pd.to_numeric(df.Latitude, downcast='float')\n",
        "df.Longitude  = pd.to_numeric(df.Longitude, downcast='float')"
      ],
      "execution_count": 163,
      "outputs": []
    },
    {
      "cell_type": "markdown",
      "metadata": {
        "id": "SxPNYJESnn68"
      },
      "source": [
        "### TRANSIT_DISTRICT"
      ]
    },
    {
      "cell_type": "code",
      "metadata": {
        "id": "6Ctiw97bJqLO",
        "colab": {
          "base_uri": "https://localhost:8080/"
        },
        "outputId": "eec1b2ca-0eb1-4456-e0f2-666aa8c1b043"
      },
      "source": [
        "df.TRANSIT_DISTRICT.value_counts()\n"
      ],
      "execution_count": 164,
      "outputs": [
        {
          "output_type": "execute_result",
          "data": {
            "text/plain": [
              "4     27714\n",
              "2     20152\n",
              "3     15768\n",
              "1     15762\n",
              "20    14422\n",
              "33    14339\n",
              "12    12224\n",
              "11    11137\n",
              "32    11068\n",
              "30    10476\n",
              "34     7196\n",
              "23     2691\n",
              "Name: TRANSIT_DISTRICT, dtype: int64"
            ]
          },
          "metadata": {
            "tags": []
          },
          "execution_count": 164
        }
      ]
    },
    {
      "cell_type": "code",
      "metadata": {
        "id": "emgAO7T_nVqt",
        "colab": {
          "base_uri": "https://localhost:8080/"
        },
        "outputId": "bce5c4a1-c2ca-469e-f0b0-94b177e673fb"
      },
      "source": [
        "len(df) - df.TRANSIT_DISTRICT.isnull().sum()"
      ],
      "execution_count": 165,
      "outputs": [
        {
          "output_type": "execute_result",
          "data": {
            "text/plain": [
              "162949"
            ]
          },
          "metadata": {
            "tags": []
          },
          "execution_count": 165
        }
      ]
    },
    {
      "cell_type": "code",
      "metadata": {
        "id": "9EPb-B-dnPQs"
      },
      "source": [
        "df.drop('TRANSIT_DISTRICT', axis='columns', inplace=True)\n"
      ],
      "execution_count": 166,
      "outputs": []
    },
    {
      "cell_type": "code",
      "metadata": {
        "id": "9lVv1_Bgn27Z"
      },
      "source": [
        ""
      ],
      "execution_count": 166,
      "outputs": []
    },
    {
      "cell_type": "markdown",
      "metadata": {
        "id": "H7KUUobwoXxV"
      },
      "source": [
        "### PREM_TYP_DESC"
      ]
    },
    {
      "cell_type": "code",
      "metadata": {
        "id": "rq9toKCIn2-T",
        "colab": {
          "base_uri": "https://localhost:8080/"
        },
        "outputId": "a854e30e-86e8-42e7-c972-e9dae0a2461b"
      },
      "source": [
        "df.PREM_TYP_DESC.value_counts()"
      ],
      "execution_count": 167,
      "outputs": [
        {
          "output_type": "execute_result",
          "data": {
            "text/plain": [
              "STREET                        2349271\n",
              "RESIDENCE - APT. HOUSE        1559459\n",
              "RESIDENCE-HOUSE                723557\n",
              "RESIDENCE - PUBLIC HOUSING     552225\n",
              "OTHER                          199213\n",
              "                               ...   \n",
              "CEMETERY                          854\n",
              "MAILBOX INSIDE                    689\n",
              "LOAN COMPANY                      494\n",
              "TRAMWAY                           138\n",
              "DAYCARE FACILITY                   53\n",
              "Name: PREM_TYP_DESC, Length: 74, dtype: int64"
            ]
          },
          "metadata": {
            "tags": []
          },
          "execution_count": 167
        }
      ]
    },
    {
      "cell_type": "code",
      "metadata": {
        "id": "OgVlI2Bkoacb",
        "colab": {
          "base_uri": "https://localhost:8080/"
        },
        "outputId": "74db0141-df5c-42d8-d630-5d1f3be0a378"
      },
      "source": [
        "df.PREM_TYP_DESC.isnull().sum()"
      ],
      "execution_count": 168,
      "outputs": [
        {
          "output_type": "execute_result",
          "data": {
            "text/plain": [
              "40631"
            ]
          },
          "metadata": {
            "tags": []
          },
          "execution_count": 168
        }
      ]
    },
    {
      "cell_type": "code",
      "metadata": {
        "id": "lDXJNcnmodu9"
      },
      "source": [
        "# df = df [~df.PREM_TYP_DESC.isnull()]"
      ],
      "execution_count": 169,
      "outputs": []
    },
    {
      "cell_type": "code",
      "metadata": {
        "id": "NJ30D6uLogxw"
      },
      "source": [
        "df.PREM_TYP_DESC = pd.Categorical(df.PREM_TYP_DESC)"
      ],
      "execution_count": 170,
      "outputs": []
    },
    {
      "cell_type": "code",
      "metadata": {
        "id": "RTVAo24bn6jc",
        "colab": {
          "base_uri": "https://localhost:8080/"
        },
        "outputId": "01d5b7de-e8f0-4de9-a73e-87b4ecf467e6"
      },
      "source": [
        "df.PARKS_NM.value_counts()"
      ],
      "execution_count": 171,
      "outputs": [
        {
          "output_type": "execute_result",
          "data": {
            "text/plain": [
              "CENTRAL PARK                      1636\n",
              "FLUSHING MEADOWS CORONA PARK      1313\n",
              "CONEY ISLAND BEACH & BOARDWALK    1059\n",
              "WASHINGTON SQUARE PARK             775\n",
              "RIVERSIDE PARK                     614\n",
              "                                  ... \n",
              "SIREN SLOPE                          1\n",
              "GREGORY'S GARDEN                     1\n",
              "MARINERS MARSH PARK                  1\n",
              "VETERANS TRIANGLE                    1\n",
              "HARMONY PARK                         1\n",
              "Name: PARKS_NM, Length: 1205, dtype: int64"
            ]
          },
          "metadata": {
            "tags": []
          },
          "execution_count": 171
        }
      ]
    },
    {
      "cell_type": "code",
      "metadata": {
        "id": "ww2KnUq3n6oV",
        "colab": {
          "base_uri": "https://localhost:8080/"
        },
        "outputId": "4fdd987d-c8e8-4e20-95ea-4a0b53163b33"
      },
      "source": [
        "df.PARKS_NM.value_counts().sum()"
      ],
      "execution_count": 172,
      "outputs": [
        {
          "output_type": "execute_result",
          "data": {
            "text/plain": [
              "27588"
            ]
          },
          "metadata": {
            "tags": []
          },
          "execution_count": 172
        }
      ]
    },
    {
      "cell_type": "code",
      "metadata": {
        "id": "lHVCmdVjol2_"
      },
      "source": [
        "df.drop('PARKS_NM', axis='columns', inplace=True)\n"
      ],
      "execution_count": 173,
      "outputs": []
    },
    {
      "cell_type": "markdown",
      "metadata": {
        "id": "QYM6H0Cxoslu"
      },
      "source": [
        "\n",
        " 19  HADEVELOPT         object\n"
      ]
    },
    {
      "cell_type": "code",
      "metadata": {
        "id": "xAvDJEChowug",
        "colab": {
          "base_uri": "https://localhost:8080/"
        },
        "outputId": "081e1fe0-df77-4cae-cce9-1bc1a9feb9c6"
      },
      "source": [
        "df.HADEVELOPT.value_counts()"
      ],
      "execution_count": 174,
      "outputs": [
        {
          "output_type": "execute_result",
          "data": {
            "text/plain": [
              "CASTLE HILL                                    7540\n",
              "VAN DYKE I                                     6097\n",
              "MARCY                                          5588\n",
              "BUTLER                                         5225\n",
              "GRANT                                          5192\n",
              "                                               ... \n",
              "BRONXCHESTER                                      1\n",
              "1010 EAST 178TH STREET                            1\n",
              "FRANKLIN AVENUE III MHOP                          1\n",
              "FOREST HILLS COOP (108TH STREET-62ND DRIVE)       1\n",
              "344 EAST 28TH STREET                              1\n",
              "Name: HADEVELOPT, Length: 279, dtype: int64"
            ]
          },
          "metadata": {
            "tags": []
          },
          "execution_count": 174
        }
      ]
    },
    {
      "cell_type": "code",
      "metadata": {
        "id": "t_7EV6nUpPdR"
      },
      "source": [
        "df.drop('HADEVELOPT', axis='columns', inplace=True)\n"
      ],
      "execution_count": 175,
      "outputs": []
    },
    {
      "cell_type": "markdown",
      "metadata": {
        "id": "tdTW65d2ospC"
      },
      "source": [
        " 20  HOUSING_PSA        object\n",
        "\n"
      ]
    },
    {
      "cell_type": "code",
      "metadata": {
        "id": "jUY6bR2xoxHV",
        "colab": {
          "base_uri": "https://localhost:8080/"
        },
        "outputId": "9d12b456-7ae7-4055-8739-d128338fa7fb"
      },
      "source": [
        "df.HOUSING_PSA.value_counts()"
      ],
      "execution_count": 176,
      "outputs": [
        {
          "output_type": "execute_result",
          "data": {
            "text/plain": [
              "670      7320\n",
              "887      7255\n",
              "845      6773\n",
              "720      6466\n",
              "632      6320\n",
              "         ... \n",
              "35363       1\n",
              "30843       1\n",
              "34211       1\n",
              "37381       1\n",
              "16148       1\n",
              "Name: HOUSING_PSA, Length: 5101, dtype: int64"
            ]
          },
          "metadata": {
            "tags": []
          },
          "execution_count": 176
        }
      ]
    },
    {
      "cell_type": "code",
      "metadata": {
        "id": "ltCXjSHFpVAx",
        "colab": {
          "base_uri": "https://localhost:8080/"
        },
        "outputId": "13d87dbe-2006-40e1-c9d8-7f98d8e24096"
      },
      "source": [
        "df.HOUSING_PSA.value_counts().sum()"
      ],
      "execution_count": 177,
      "outputs": [
        {
          "output_type": "execute_result",
          "data": {
            "text/plain": [
              "565681"
            ]
          },
          "metadata": {
            "tags": []
          },
          "execution_count": 177
        }
      ]
    },
    {
      "cell_type": "code",
      "metadata": {
        "id": "r79Mo80tpXoG"
      },
      "source": [
        "df.drop('HOUSING_PSA', axis='columns', inplace=True)"
      ],
      "execution_count": 178,
      "outputs": []
    },
    {
      "cell_type": "markdown",
      "metadata": {
        "id": "Zj3ZTvXIosrk"
      },
      "source": [
        " 30  PATROL_BORO        object\n"
      ]
    },
    {
      "cell_type": "code",
      "metadata": {
        "id": "qushxX_YoxiI",
        "colab": {
          "base_uri": "https://localhost:8080/"
        },
        "outputId": "851aed7e-c43a-48f5-9a22-2638444bc74d"
      },
      "source": [
        "df.PATROL_BORO.value_counts()"
      ],
      "execution_count": 179,
      "outputs": [
        {
          "output_type": "execute_result",
          "data": {
            "text/plain": [
              "PATROL BORO BRONX            1597242\n",
              "PATROL BORO BKLYN SOUTH      1093209\n",
              "PATROL BORO BKLYN NORTH      1090017\n",
              "PATROL BORO MAN SOUTH         889678\n",
              "PATROL BORO MAN NORTH         876950\n",
              "PATROL BORO QUEENS NORTH      755020\n",
              "PATROL BORO QUEENS SOUTH      707715\n",
              "PATROL BORO STATEN ISLAND     342364\n",
              "Name: PATROL_BORO, dtype: int64"
            ]
          },
          "metadata": {
            "tags": []
          },
          "execution_count": 179
        }
      ]
    },
    {
      "cell_type": "code",
      "metadata": {
        "id": "X5q3w0T1pcuI"
      },
      "source": [
        "df.PATROL_BORO = pd.Categorical(df.PATROL_BORO)"
      ],
      "execution_count": 180,
      "outputs": []
    },
    {
      "cell_type": "code",
      "metadata": {
        "id": "K1YegskOpjTj",
        "colab": {
          "base_uri": "https://localhost:8080/"
        },
        "outputId": "f02ebba4-e87d-436f-f67c-b57525a37cc1"
      },
      "source": [
        "df.PATROL_BORO.isnull().sum()"
      ],
      "execution_count": 181,
      "outputs": [
        {
          "output_type": "execute_result",
          "data": {
            "text/plain": [
              "6701"
            ]
          },
          "metadata": {
            "tags": []
          },
          "execution_count": 181
        }
      ]
    },
    {
      "cell_type": "code",
      "metadata": {
        "id": "UNPb3rYLpoNl"
      },
      "source": [
        "# df = df[~df.PATROL_BORO.isnull()] "
      ],
      "execution_count": 182,
      "outputs": []
    },
    {
      "cell_type": "markdown",
      "metadata": {
        "id": "MJHh-VXrosuV"
      },
      "source": [
        " 31  STATION_NAME       object"
      ]
    },
    {
      "cell_type": "code",
      "metadata": {
        "id": "ygz6QMTqoyBi",
        "colab": {
          "base_uri": "https://localhost:8080/"
        },
        "outputId": "859ab302-f917-4b84-a4c2-4ba11d4f3976"
      },
      "source": [
        "df.STATION_NAME.value_counts()"
      ],
      "execution_count": 183,
      "outputs": [
        {
          "output_type": "execute_result",
          "data": {
            "text/plain": [
              "125 STREET                        8182\n",
              "14 STREET                         4520\n",
              "34 ST.-PENN STATION               3837\n",
              "42 ST.-PORT AUTHORITY BUS TERM    3729\n",
              "116 STREET                        3308\n",
              "                                  ... \n",
              "DISTRICT 12 OFFICE                  18\n",
              "DISTRICT 30 OFFICE                  17\n",
              "DISTRICT 34 OFFICE                  13\n",
              "DISTRICT 23 OFFICE                   6\n",
              "OFF-SYSTEM                           4\n",
              "Name: STATION_NAME, Length: 372, dtype: int64"
            ]
          },
          "metadata": {
            "tags": []
          },
          "execution_count": 183
        }
      ]
    },
    {
      "cell_type": "code",
      "metadata": {
        "id": "dXsnUC56pvuI",
        "colab": {
          "base_uri": "https://localhost:8080/"
        },
        "outputId": "8994b7ea-8bd1-4805-ecc9-a7ff25508d18"
      },
      "source": [
        "df.STATION_NAME.isnull().sum()"
      ],
      "execution_count": 184,
      "outputs": [
        {
          "output_type": "execute_result",
          "data": {
            "text/plain": [
              "7195947"
            ]
          },
          "metadata": {
            "tags": []
          },
          "execution_count": 184
        }
      ]
    },
    {
      "cell_type": "code",
      "metadata": {
        "id": "o5eP2Ha8pznx"
      },
      "source": [
        "df.drop('STATION_NAME', axis='columns', inplace=True)"
      ],
      "execution_count": 185,
      "outputs": []
    },
    {
      "cell_type": "code",
      "metadata": {
        "id": "zfCHXyE_5mm8",
        "colab": {
          "base_uri": "https://localhost:8080/"
        },
        "outputId": "f8918b85-a9f8-4bfa-de77-055fe6734aed"
      },
      "source": [
        "df.info()"
      ],
      "execution_count": 210,
      "outputs": [
        {
          "output_type": "stream",
          "text": [
            "<class 'pandas.core.frame.DataFrame'>\n",
            "Int64Index: 7358896 entries, 0 to 7396618\n",
            "Data columns (total 22 columns):\n",
            " #   Column             Dtype         \n",
            "---  ------             -----         \n",
            " 0   CMPLNT_NUM         int32         \n",
            " 1   ADDR_PCT_CD        category      \n",
            " 2   RPT_DT             datetime64[ns]\n",
            " 3   KY_CD              category      \n",
            " 4   PD_CD              category      \n",
            " 5   CRM_ATPT_CPTD_CD   category      \n",
            " 6   LAW_CAT_CD         category      \n",
            " 7   BORO_NM            category      \n",
            " 8   LOC_OF_OCCUR_DESC  category      \n",
            " 9   PREM_TYP_DESC      category      \n",
            " 10  JURISDICTION_CODE  category      \n",
            " 11  SUSP_AGE_GROUP     category      \n",
            " 12  SUSP_RACE          category      \n",
            " 13  SUSP_SEX           category      \n",
            " 14  Latitude           float32       \n",
            " 15  Longitude          float32       \n",
            " 16  PATROL_BORO        category      \n",
            " 17  VIC_AGE_GROUP      category      \n",
            " 18  VIC_RACE           category      \n",
            " 19  VIC_SEX            category      \n",
            " 20  CMPLNT_FR          datetime64[ns]\n",
            " 21  CMPLNT_TO          datetime64[ns]\n",
            "dtypes: category(16), datetime64[ns](3), float32(2), int32(1)\n",
            "memory usage: 428.1 MB\n"
          ],
          "name": "stdout"
        }
      ]
    },
    {
      "cell_type": "code",
      "metadata": {
        "id": "rBJBYf9g5mm9"
      },
      "source": [
        ""
      ],
      "execution_count": 186,
      "outputs": []
    },
    {
      "cell_type": "markdown",
      "metadata": {
        "id": "haa-38oP5mm9"
      },
      "source": [
        "## Data exploration\n",
        "\n",
        "In this part we check the different values that appear in the columns. When we detect noisy results, we delete the corresponding values. In fact, many of the operations that are performed above, in the 'data cleaning' section, are the result of observations that we make here. "
      ]
    },
    {
      "cell_type": "code",
      "metadata": {
        "id": "69cO2qRn5mm-",
        "colab": {
          "base_uri": "https://localhost:8080/"
        },
        "outputId": "b559391b-05ab-4008-b0bd-56c5f60571f2"
      },
      "source": [
        "# Find the unique values in each column\n",
        "# \n",
        "# df.describe(include = [np.object, 'category']).T['unique']\n",
        "unique = df.describe(include = 'all').T['unique'].sort_values()"
      ],
      "execution_count": 187,
      "outputs": [
        {
          "output_type": "stream",
          "text": [
            "/usr/local/lib/python3.7/dist-packages/ipykernel_launcher.py:4: FutureWarning: Treating datetime data as categorical rather than numeric in `.describe` is deprecated and will be removed in a future version of pandas. Specify `datetime_is_numeric=True` to silence this warning and adopt the future behavior now.\n",
            "  after removing the cwd from sys.path.\n",
            "/usr/local/lib/python3.7/dist-packages/ipykernel_launcher.py:4: FutureWarning: Treating datetime data as categorical rather than numeric in `.describe` is deprecated and will be removed in a future version of pandas. Specify `datetime_is_numeric=True` to silence this warning and adopt the future behavior now.\n",
            "  after removing the cwd from sys.path.\n",
            "/usr/local/lib/python3.7/dist-packages/ipykernel_launcher.py:4: FutureWarning: Treating datetime data as categorical rather than numeric in `.describe` is deprecated and will be removed in a future version of pandas. Specify `datetime_is_numeric=True` to silence this warning and adopt the future behavior now.\n",
            "  after removing the cwd from sys.path.\n"
          ],
          "name": "stderr"
        }
      ]
    },
    {
      "cell_type": "code",
      "metadata": {
        "id": "dO8EETzo5mm-",
        "colab": {
          "base_uri": "https://localhost:8080/"
        },
        "outputId": "0313c1a6-3a02-4950-c3d4-c949ee27655a"
      },
      "source": [
        "unique"
      ],
      "execution_count": 188,
      "outputs": [
        {
          "output_type": "execute_result",
          "data": {
            "text/plain": [
              "CRM_ATPT_CPTD_CD           2\n",
              "SUSP_SEX                   2\n",
              "LAW_CAT_CD                 3\n",
              "VIC_SEX                    5\n",
              "BORO_NM                    5\n",
              "LOC_OF_OCCUR_DESC          5\n",
              "VIC_AGE_GROUP              5\n",
              "SUSP_AGE_GROUP             5\n",
              "VIC_RACE                   7\n",
              "SUSP_RACE                  7\n",
              "PATROL_BORO                8\n",
              "JURISDICTION_CODE         25\n",
              "KY_CD                     74\n",
              "PREM_TYP_DESC             74\n",
              "ADDR_PCT_CD               78\n",
              "PD_CD                    432\n",
              "RPT_DT                  5479\n",
              "CMPLNT_FR            2050976\n",
              "CMPLNT_TO            2260686\n",
              "CMPLNT_NUM               NaN\n",
              "Latitude                 NaN\n",
              "Longitude                NaN\n",
              "Name: unique, dtype: object"
            ]
          },
          "metadata": {
            "tags": []
          },
          "execution_count": 188
        }
      ]
    },
    {
      "cell_type": "code",
      "metadata": {
        "id": "_M4Bc4GlHs1F"
      },
      "source": [
        ""
      ],
      "execution_count": 188,
      "outputs": []
    },
    {
      "cell_type": "code",
      "metadata": {
        "id": "3LVJIEak5mnA",
        "colab": {
          "base_uri": "https://localhost:8080/"
        },
        "outputId": "2731a93d-2d4d-45f1-fe2b-47f9202c3c9f"
      },
      "source": [
        "for column in unique.index:\n",
        "    if unique[column] < 200:\n",
        "        print(df[column].value_counts())\n",
        "        print(\"=====\")"
      ],
      "execution_count": 189,
      "outputs": [
        {
          "output_type": "stream",
          "text": [
            "COMPLETED    7233460\n",
            "ATTEMPTED     125429\n",
            "Name: CRM_ATPT_CPTD_CD, dtype: int64\n",
            "=====\n",
            "M    2388690\n",
            "F     754564\n",
            "Name: SUSP_SEX, dtype: int64\n",
            "=====\n",
            "MISDEMEANOR    4132786\n",
            "FELONY         2267895\n",
            "VIOLATION       958215\n",
            "Name: LAW_CAT_CD, dtype: int64\n",
            "=====\n",
            "F    2879885\n",
            "M    2429348\n",
            "E    1149285\n",
            "D     900066\n",
            "U          4\n",
            "Name: VIC_SEX, dtype: int64\n",
            "=====\n",
            "BROOKLYN         2181718\n",
            "MANHATTAN        1767432\n",
            "BRONX            1596460\n",
            "QUEENS           1459749\n",
            "STATEN ISLAND     342243\n",
            "Name: BORO_NM, dtype: int64\n",
            "=====\n",
            "INSIDE         3736424\n",
            "FRONT OF       1724609\n",
            "OPPOSITE OF     195550\n",
            "REAR OF         157076\n",
            "OUTSIDE           3797\n",
            "Name: LOC_OF_OCCUR_DESC, dtype: int64\n",
            "=====\n",
            "25-44    2428201\n",
            "45-64    1265080\n",
            "18-24     748012\n",
            "<18       337883\n",
            "65+       258537\n",
            "Name: VIC_AGE_GROUP, dtype: int64\n",
            "=====\n",
            "25-44    1013290\n",
            "18-24     386914\n",
            "45-64     360381\n",
            "<18       108481\n",
            "65+        30041\n",
            "Name: SUSP_AGE_GROUP, dtype: int64\n",
            "=====\n",
            "UNKNOWN                           2428290\n",
            "BLACK                             1766497\n",
            "WHITE                             1265086\n",
            "WHITE HISPANIC                    1189053\n",
            "ASIAN / PACIFIC ISLANDER           425865\n",
            "BLACK HISPANIC                     250438\n",
            "AMERICAN INDIAN/ALASKAN NATIVE      33358\n",
            "Name: VIC_RACE, dtype: int64\n",
            "=====\n",
            "BLACK                             1469872\n",
            "UNKNOWN                           1029645\n",
            "WHITE HISPANIC                     668043\n",
            "WHITE                              429276\n",
            "BLACK HISPANIC                     203201\n",
            "ASIAN / PACIFIC ISLANDER           126097\n",
            "AMERICAN INDIAN/ALASKAN NATIVE      11879\n",
            "Name: SUSP_RACE, dtype: int64\n",
            "=====\n",
            "PATROL BORO BRONX            1597242\n",
            "PATROL BORO BKLYN SOUTH      1093209\n",
            "PATROL BORO BKLYN NORTH      1090017\n",
            "PATROL BORO MAN SOUTH         889678\n",
            "PATROL BORO MAN NORTH         876950\n",
            "PATROL BORO QUEENS NORTH      755020\n",
            "PATROL BORO QUEENS SOUTH      707715\n",
            "PATROL BORO STATEN ISLAND     342364\n",
            "Name: PATROL_BORO, dtype: int64\n",
            "=====\n",
            "0     6536093\n",
            "2      560542\n",
            "1      163229\n",
            "3       34212\n",
            "97      24061\n",
            "72       9553\n",
            "69       8950\n",
            "4        5674\n",
            "14       3683\n",
            "11       1879\n",
            "88       1122\n",
            "15        820\n",
            "6         547\n",
            "71        477\n",
            "12        456\n",
            "9         439\n",
            "13        281\n",
            "87        278\n",
            "7         188\n",
            "85        106\n",
            "16         30\n",
            "8          16\n",
            "76         14\n",
            "79          1\n",
            "73          1\n",
            "Name: JURISDICTION_CODE, dtype: int64\n",
            "=====\n",
            "341    1241358\n",
            "578     943483\n",
            "344     773226\n",
            "109     636175\n",
            "351     618316\n",
            "        ...   \n",
            "881         15\n",
            "357         12\n",
            "123          7\n",
            "362          4\n",
            "577          3\n",
            "Name: KY_CD, Length: 74, dtype: int64\n",
            "=====\n",
            "STREET                        2349271\n",
            "RESIDENCE - APT. HOUSE        1559459\n",
            "RESIDENCE-HOUSE                723557\n",
            "RESIDENCE - PUBLIC HOUSING     552225\n",
            "OTHER                          199213\n",
            "                               ...   \n",
            "CEMETERY                          854\n",
            "MAILBOX INSIDE                    689\n",
            "LOAN COMPANY                      494\n",
            "TRAMWAY                           138\n",
            "DAYCARE FACILITY                   53\n",
            "Name: PREM_TYP_DESC, Length: 74, dtype: int64\n",
            "=====\n",
            "75     236553\n",
            "43     189298\n",
            "44     183760\n",
            "40     178033\n",
            "14     166540\n",
            "        ...  \n",
            "123     45760\n",
            "76      41048\n",
            "100     39176\n",
            "22       5712\n",
            "99        667\n",
            "Name: ADDR_PCT_CD, Length: 78, dtype: int64\n",
            "=====\n"
          ],
          "name": "stdout"
        }
      ]
    },
    {
      "cell_type": "code",
      "metadata": {
        "id": "tmgxDfBz5mnB",
        "colab": {
          "base_uri": "https://localhost:8080/"
        },
        "outputId": "75b71935-ffd5-4ac9-ba3f-6b9944d74862"
      },
      "source": [
        "df.info()"
      ],
      "execution_count": 190,
      "outputs": [
        {
          "output_type": "stream",
          "text": [
            "<class 'pandas.core.frame.DataFrame'>\n",
            "Int64Index: 7358896 entries, 0 to 7396618\n",
            "Data columns (total 22 columns):\n",
            " #   Column             Dtype         \n",
            "---  ------             -----         \n",
            " 0   CMPLNT_NUM         int32         \n",
            " 1   ADDR_PCT_CD        category      \n",
            " 2   RPT_DT             datetime64[ns]\n",
            " 3   KY_CD              category      \n",
            " 4   PD_CD              category      \n",
            " 5   CRM_ATPT_CPTD_CD   category      \n",
            " 6   LAW_CAT_CD         category      \n",
            " 7   BORO_NM            category      \n",
            " 8   LOC_OF_OCCUR_DESC  category      \n",
            " 9   PREM_TYP_DESC      category      \n",
            " 10  JURISDICTION_CODE  category      \n",
            " 11  SUSP_AGE_GROUP     category      \n",
            " 12  SUSP_RACE          category      \n",
            " 13  SUSP_SEX           category      \n",
            " 14  Latitude           float32       \n",
            " 15  Longitude          float32       \n",
            " 16  PATROL_BORO        category      \n",
            " 17  VIC_AGE_GROUP      category      \n",
            " 18  VIC_RACE           category      \n",
            " 19  VIC_SEX            category      \n",
            " 20  CMPLNT_FR          datetime64[ns]\n",
            " 21  CMPLNT_TO          datetime64[ns]\n",
            "dtypes: category(16), datetime64[ns](3), float32(2), int32(1)\n",
            "memory usage: 428.1 MB\n"
          ],
          "name": "stdout"
        }
      ]
    },
    {
      "cell_type": "code",
      "metadata": {
        "id": "XMLREtWvr53V",
        "colab": {
          "base_uri": "https://localhost:8080/"
        },
        "outputId": "70d63718-cd61-4a76-f63d-f63292da1dce"
      },
      "source": [
        "df['PREM_TYP_DESC'].value_counts().count()"
      ],
      "execution_count": 191,
      "outputs": [
        {
          "output_type": "execute_result",
          "data": {
            "text/plain": [
              "74"
            ]
          },
          "metadata": {
            "tags": []
          },
          "execution_count": 191
        }
      ]
    },
    {
      "cell_type": "code",
      "metadata": {
        "id": "dvciXUSr5mnC"
      },
      "source": [
        "# All columns, except for the dates and spatial coordinates, are categorical\n",
        "# Columns with less than a few thousand unique values are good candidates \n",
        "# for ENUMs in the database given that the dataset is static.\n",
        "# Also, in Pandas the internal representation becomes much more efficient\n",
        "# as the Categoricals are stored as integers and not as strings\n",
        "for column in unique.index:\n",
        "    if column == 'RPT_DT':\n",
        "        continue\n",
        "    if df[column].value_counts().count() < 1000:\n",
        "      df[column] = pd.Categorical(df[column])"
      ],
      "execution_count": 192,
      "outputs": []
    },
    {
      "cell_type": "code",
      "metadata": {
        "id": "FVGtbgdr5mnD",
        "colab": {
          "base_uri": "https://localhost:8080/"
        },
        "outputId": "16b26f75-8074-446b-cf53-69b387112258"
      },
      "source": [
        "# With all the proper data typing the dataset went down in size from 1.9Gb+ to 425Mb.\n",
        "df.info()"
      ],
      "execution_count": 193,
      "outputs": [
        {
          "output_type": "stream",
          "text": [
            "<class 'pandas.core.frame.DataFrame'>\n",
            "Int64Index: 7358896 entries, 0 to 7396618\n",
            "Data columns (total 22 columns):\n",
            " #   Column             Dtype         \n",
            "---  ------             -----         \n",
            " 0   CMPLNT_NUM         int32         \n",
            " 1   ADDR_PCT_CD        category      \n",
            " 2   RPT_DT             datetime64[ns]\n",
            " 3   KY_CD              category      \n",
            " 4   PD_CD              category      \n",
            " 5   CRM_ATPT_CPTD_CD   category      \n",
            " 6   LAW_CAT_CD         category      \n",
            " 7   BORO_NM            category      \n",
            " 8   LOC_OF_OCCUR_DESC  category      \n",
            " 9   PREM_TYP_DESC      category      \n",
            " 10  JURISDICTION_CODE  category      \n",
            " 11  SUSP_AGE_GROUP     category      \n",
            " 12  SUSP_RACE          category      \n",
            " 13  SUSP_SEX           category      \n",
            " 14  Latitude           float32       \n",
            " 15  Longitude          float32       \n",
            " 16  PATROL_BORO        category      \n",
            " 17  VIC_AGE_GROUP      category      \n",
            " 18  VIC_RACE           category      \n",
            " 19  VIC_SEX            category      \n",
            " 20  CMPLNT_FR          datetime64[ns]\n",
            " 21  CMPLNT_TO          datetime64[ns]\n",
            "dtypes: category(16), datetime64[ns](3), float32(2), int32(1)\n",
            "memory usage: 428.1 MB\n"
          ],
          "name": "stdout"
        }
      ]
    },
    {
      "cell_type": "code",
      "metadata": {
        "id": "jF1mm7Xu5mnD",
        "colab": {
          "base_uri": "https://localhost:8080/"
        },
        "outputId": "f8ca29b3-38e7-4d6e-e214-3eacd88447bf"
      },
      "source": [
        "df.memory_usage()"
      ],
      "execution_count": 194,
      "outputs": [
        {
          "output_type": "execute_result",
          "data": {
            "text/plain": [
              "Index                58871168\n",
              "CMPLNT_NUM           29435584\n",
              "ADDR_PCT_CD           7362080\n",
              "RPT_DT               58871168\n",
              "KY_CD                 7362048\n",
              "PD_CD                14741728\n",
              "CRM_ATPT_CPTD_CD      7358992\n",
              "LAW_CAT_CD            7359000\n",
              "BORO_NM               7359096\n",
              "LOC_OF_OCCUR_DESC     7359096\n",
              "PREM_TYP_DESC         7362048\n",
              "JURISDICTION_CODE     7359736\n",
              "SUSP_AGE_GROUP        7359096\n",
              "SUSP_RACE             7359272\n",
              "SUSP_SEX              7358992\n",
              "Latitude             29435584\n",
              "Longitude            29435584\n",
              "PATROL_BORO           7359280\n",
              "VIC_AGE_GROUP         7359096\n",
              "VIC_RACE              7359272\n",
              "VIC_SEX               7359096\n",
              "CMPLNT_FR            58871168\n",
              "CMPLNT_TO            58871168\n",
              "dtype: int64"
            ]
          },
          "metadata": {
            "tags": []
          },
          "execution_count": 194
        }
      ]
    },
    {
      "cell_type": "code",
      "metadata": {
        "id": "3-DkWZbI5mnE",
        "outputId": "56240039-e4ba-40b2-d80b-f2b0f07faa8e",
        "colab": {
          "base_uri": "https://localhost:8080/"
        }
      },
      "source": [
        "df.dtypes"
      ],
      "execution_count": 195,
      "outputs": [
        {
          "output_type": "execute_result",
          "data": {
            "text/plain": [
              "CMPLNT_NUM                    int32\n",
              "ADDR_PCT_CD                category\n",
              "RPT_DT               datetime64[ns]\n",
              "KY_CD                      category\n",
              "PD_CD                      category\n",
              "CRM_ATPT_CPTD_CD           category\n",
              "LAW_CAT_CD                 category\n",
              "BORO_NM                    category\n",
              "LOC_OF_OCCUR_DESC          category\n",
              "PREM_TYP_DESC              category\n",
              "JURISDICTION_CODE          category\n",
              "SUSP_AGE_GROUP             category\n",
              "SUSP_RACE                  category\n",
              "SUSP_SEX                   category\n",
              "Latitude                    float32\n",
              "Longitude                   float32\n",
              "PATROL_BORO                category\n",
              "VIC_AGE_GROUP              category\n",
              "VIC_RACE                   category\n",
              "VIC_SEX                    category\n",
              "CMPLNT_FR            datetime64[ns]\n",
              "CMPLNT_TO            datetime64[ns]\n",
              "dtype: object"
            ]
          },
          "metadata": {
            "tags": []
          },
          "execution_count": 195
        }
      ]
    },
    {
      "cell_type": "code",
      "metadata": {
        "id": "wBbZB2Ke5mnG",
        "outputId": "0955848e-b4b7-4113-eaa2-d832296edf8a",
        "colab": {
          "base_uri": "https://localhost:8080/"
        }
      },
      "source": [
        "df.dtypes"
      ],
      "execution_count": 197,
      "outputs": [
        {
          "output_type": "execute_result",
          "data": {
            "text/plain": [
              "CMPLNT_NUM                    int32\n",
              "ADDR_PCT_CD                category\n",
              "RPT_DT               datetime64[ns]\n",
              "KY_CD                      category\n",
              "PD_CD                      category\n",
              "CRM_ATPT_CPTD_CD           category\n",
              "LAW_CAT_CD                 category\n",
              "BORO_NM                    category\n",
              "LOC_OF_OCCUR_DESC          category\n",
              "PREM_TYP_DESC              category\n",
              "JURISDICTION_CODE          category\n",
              "SUSP_AGE_GROUP             category\n",
              "SUSP_RACE                  category\n",
              "SUSP_SEX                   category\n",
              "Latitude                    float32\n",
              "Longitude                   float32\n",
              "PATROL_BORO                category\n",
              "VIC_AGE_GROUP              category\n",
              "VIC_RACE                   category\n",
              "VIC_SEX                    category\n",
              "CMPLNT_FR            datetime64[ns]\n",
              "CMPLNT_TO            datetime64[ns]\n",
              "dtype: object"
            ]
          },
          "metadata": {
            "tags": []
          },
          "execution_count": 197
        }
      ]
    },
    {
      "cell_type": "code",
      "metadata": {
        "id": "IFzmDfLGeiEg"
      },
      "source": [
        "\n"
      ],
      "execution_count": 197,
      "outputs": []
    },
    {
      "cell_type": "markdown",
      "metadata": {
        "id": "s4Nw6Q6J5mnK"
      },
      "source": [
        "## Storing in a MySQL database"
      ]
    },
    {
      "cell_type": "code",
      "metadata": {
        "id": "pIFdbm3zC1Qa"
      },
      "source": [
        "!sudo pip3 install -U -q PyMySQL sqlalchemy sql_magic"
      ],
      "execution_count": 198,
      "outputs": []
    },
    {
      "cell_type": "code",
      "metadata": {
        "id": "XRRqVqrj5mnK"
      },
      "source": [
        "import os\n",
        "from sqlalchemy import create_engine\n",
        "\n",
        "conn_string = 'mysql+pymysql://{user}:{password}@{host}/?charset=utf8mb4'.format(\n",
        "    host = 'db.ipeirotis.org', \n",
        "    user = 'root',\n",
        "    password = 'ae6jQniBS5muV27', #os.environ['MYSQL_PASSWORD'],\n",
        "    encoding = 'utf8mb4')\n",
        "\n",
        "engine = create_engine(conn_string)\n",
        "con = engine.connect()"
      ],
      "execution_count": 211,
      "outputs": []
    },
    {
      "cell_type": "code",
      "metadata": {
        "id": "BME9Kw3I5mnL",
        "colab": {
          "base_uri": "https://localhost:8080/"
        },
        "outputId": "a1c4617c-aed7-42b1-f8a2-be45999ff11c"
      },
      "source": [
        "# Query to create a database\n",
        "db_name = 'nypd'\n",
        "\n",
        "sql = f\"DROP DATABASE IF EXISTS {db_name}\"\n",
        "engine.execute(sql)\n",
        "\n",
        "# Create a database\n",
        "sql = f\"CREATE DATABASE IF NOT EXISTS {db_name} DEFAULT CHARACTER SET 'utf8mb4'\"\n",
        "engine.execute(sql)\n"
      ],
      "execution_count": 212,
      "outputs": [
        {
          "output_type": "execute_result",
          "data": {
            "text/plain": [
              "<sqlalchemy.engine.cursor.LegacyCursorResult at 0x7fda49e98e90>"
            ]
          },
          "metadata": {
            "tags": []
          },
          "execution_count": 212
        }
      ]
    },
    {
      "cell_type": "code",
      "metadata": {
        "id": "M-_M6qS0Vhlv",
        "colab": {
          "base_uri": "https://localhost:8080/"
        },
        "outputId": "fddc9bc4-7a93-40ef-ce16-fb91af680acc"
      },
      "source": [
        "\n",
        "# And lets switch to the database\n",
        "sql = f\"USE {db_name}\"\n",
        "engine.execute(sql)\n"
      ],
      "execution_count": 213,
      "outputs": [
        {
          "output_type": "execute_result",
          "data": {
            "text/plain": [
              "<sqlalchemy.engine.cursor.LegacyCursorResult at 0x7fda61241ed0>"
            ]
          },
          "metadata": {
            "tags": []
          },
          "execution_count": 213
        }
      ]
    },
    {
      "cell_type": "code",
      "metadata": {
        "id": "10JrBGZ65mnL",
        "colab": {
          "base_uri": "https://localhost:8080/"
        },
        "outputId": "ccf67a1e-44d2-4200-e2e0-4468d1a70fa4"
      },
      "source": [
        "# In principle, we can let Pandas create the table, but we want to be a bit more predise\n",
        "# with the data types, and we want to add documentation for each column\n",
        "# from https://data.cityofnewyork.us/Public-Safety/NYPD-Complaint-Data-Historic/qgea-i56i\n",
        "\n",
        "\n",
        "create_table_sql = '''\n",
        "CREATE TABLE nypd (\n",
        "  CMPLNT_NUM int,\n",
        "  CMPLNT_FR datetime,\n",
        "  CMPLNT_TO datetime,\n",
        "  RPT_DT date,\n",
        "  KY_CD SMALLINT,\n",
        "  PD_CD SMALLINT,\n",
        "  CRM_ATPT_CPTD_CD enum('COMPLETED','ATTEMPTED'),\n",
        "  LAW_CAT_CD enum('FELONY','MISDEMEANOR','VIOLATION'),\n",
        "  JURISDICTION_CODE SMALLINT,\n",
        "  BORO_NM enum('BRONX','BROOKLYN','MANHATTAN','QUEENS','STATEN ISLAND'),\n",
        "  ADDR_PCT_CD SMALLINT,\n",
        "  LOC_OF_OCCUR_DESC enum('FRONT OF','INSIDE','OPPOSITE OF','OUTSIDE','REAR OF'),\n",
        "  PATROL_BORO enum('PATROL BORO BRONX', 'PATROL BORO BKLYN SOUTH','PATROL BORO BKLYN NORTH','PATROL BORO MAN SOUTH','PATROL BORO MAN NORTH','PATROL BORO QUEENS NORTH','PATROL BORO QUEENS SOUTH','PATROL BORO STATEN ISLAND'),\n",
        "  PREM_TYP_DESC varchar(30),\n",
        "  SUSP_RACE enum('UNKNOWN', 'BLACK', 'WHITE', 'WHITE HISPANIC', 'ASIAN / PACIFIC ISLANDER', 'BLACK HISPANIC', 'AMERICAN INDIAN/ALASKAN NATIVE'),\n",
        "  VIC_RACE enum('UNKNOWN', 'BLACK', 'WHITE', 'WHITE HISPANIC', 'ASIAN / PACIFIC ISLANDER', 'BLACK HISPANIC', 'AMERICAN INDIAN/ALASKAN NATIVE'),\n",
        "  SUSP_AGE_GROUP enum('<18', '18-24',  '25-44', '45-64', '65+'),\n",
        "  VIC_AGE_GROUP enum('<18', '18-24',  '25-44', '45-64', '65+'),\n",
        "  SUSP_SEX enum('M', 'F'),\n",
        "  VIC_SEX enum('M', 'F', 'E', 'D'),\n",
        "  Latitude double,\n",
        "  Longitude double,\n",
        "  PRIMARY KEY (CMPLNT_NUM)\n",
        ") ENGINE=InnoDB DEFAULT CHARSET=utf8mb4;\n",
        "'''\n",
        "engine.execute(create_table_sql)"
      ],
      "execution_count": 214,
      "outputs": [
        {
          "output_type": "execute_result",
          "data": {
            "text/plain": [
              "<sqlalchemy.engine.cursor.LegacyCursorResult at 0x7fda61241410>"
            ]
          },
          "metadata": {
            "tags": []
          },
          "execution_count": 214
        }
      ]
    },
    {
      "cell_type": "code",
      "metadata": {
        "id": "5fJuGS1e5mnM",
        "colab": {
          "base_uri": "https://localhost:8080/"
        },
        "outputId": "393eb3ba-d5eb-4fe7-9772-9ed328f1ac9e"
      },
      "source": [
        "# Create a table\n",
        "# See http://pandas.pydata.org/pandas-docs/stable/generated/pandas.DataFrame.to_sql.html for the documentation\n",
        "from tqdm import tqdm\n",
        "batchsize = 50000\n",
        "batches = len(df) // batchsize + 1\n",
        "\n",
        "t = tqdm(range(batches))\n",
        "\n",
        "for i in t:\n",
        "    # print(\"Batch:\",i)\n",
        "    # continue # Cannot execute this on Travis\n",
        "    start = batchsize * i\n",
        "    end = batchsize * (i+1)\n",
        "    df[start:end].to_sql(\n",
        "        name = 'nypd', \n",
        "        schema = db_name, \n",
        "        con = engine,\n",
        "        if_exists = 'append',\n",
        "        index = False, \n",
        "        chunksize = 1000)"
      ],
      "execution_count": 215,
      "outputs": [
        {
          "output_type": "stream",
          "text": [
            "\n",
            "  0%|          | 0/148 [00:00<?, ?it/s]\u001b[A\n",
            "  1%|          | 1/148 [00:11<26:56, 11.00s/it]\u001b[A\n",
            "  1%|▏         | 2/148 [00:21<26:19, 10.82s/it]\u001b[A\n",
            "  2%|▏         | 3/148 [00:31<25:58, 10.75s/it]\u001b[A\n",
            "  3%|▎         | 4/148 [00:42<25:32, 10.65s/it]\u001b[A\n",
            "  3%|▎         | 5/148 [00:52<25:10, 10.57s/it]\u001b[A\n",
            "  4%|▍         | 6/148 [01:03<24:52, 10.51s/it]\u001b[A\n",
            "  5%|▍         | 7/148 [01:13<24:45, 10.54s/it]\u001b[A\n",
            "  5%|▌         | 8/148 [01:24<24:32, 10.51s/it]\u001b[A\n",
            "  6%|▌         | 9/148 [01:34<24:21, 10.52s/it]\u001b[A\n",
            "  7%|▋         | 10/148 [01:45<24:09, 10.51s/it]\u001b[A\n",
            "  7%|▋         | 11/148 [01:55<23:56, 10.48s/it]\u001b[A\n",
            "  8%|▊         | 12/148 [02:06<23:49, 10.51s/it]\u001b[A\n",
            "  9%|▉         | 13/148 [02:16<23:44, 10.55s/it]\u001b[A\n",
            "  9%|▉         | 14/148 [02:27<23:35, 10.56s/it]\u001b[A\n",
            " 10%|█         | 15/148 [02:38<23:29, 10.60s/it]\u001b[A\n",
            " 11%|█         | 16/148 [02:48<23:15, 10.57s/it]\u001b[A\n",
            " 11%|█▏        | 17/148 [02:59<23:06, 10.58s/it]\u001b[A\n",
            " 12%|█▏        | 18/148 [03:09<22:55, 10.58s/it]\u001b[A\n",
            " 13%|█▎        | 19/148 [03:20<22:39, 10.54s/it]\u001b[A\n",
            " 14%|█▎        | 20/148 [03:30<22:30, 10.55s/it]\u001b[A\n",
            " 14%|█▍        | 21/148 [03:41<22:20, 10.56s/it]\u001b[A\n",
            " 15%|█▍        | 22/148 [03:51<22:05, 10.52s/it]\u001b[A\n",
            " 16%|█▌        | 23/148 [04:02<21:57, 10.54s/it]\u001b[A\n",
            " 16%|█▌        | 24/148 [04:12<21:42, 10.50s/it]\u001b[A\n",
            " 17%|█▋        | 25/148 [04:23<21:32, 10.51s/it]\u001b[A\n",
            " 18%|█▊        | 26/148 [04:33<21:19, 10.49s/it]\u001b[A\n",
            " 18%|█▊        | 27/148 [04:44<21:10, 10.50s/it]\u001b[A\n",
            " 19%|█▉        | 28/148 [04:54<21:00, 10.50s/it]\u001b[A\n",
            " 20%|█▉        | 29/148 [05:05<20:46, 10.47s/it]\u001b[A\n",
            " 20%|██        | 30/148 [05:15<20:33, 10.45s/it]\u001b[A\n",
            " 21%|██        | 31/148 [05:26<20:28, 10.50s/it]\u001b[A\n",
            " 22%|██▏       | 32/148 [05:36<20:15, 10.47s/it]\u001b[A\n",
            " 22%|██▏       | 33/148 [05:47<20:11, 10.53s/it]\u001b[A\n",
            " 23%|██▎       | 34/148 [05:57<19:59, 10.52s/it]\u001b[A\n",
            " 24%|██▎       | 35/148 [06:08<19:51, 10.55s/it]\u001b[A\n",
            " 24%|██▍       | 36/148 [06:18<19:36, 10.51s/it]\u001b[A\n",
            " 25%|██▌       | 37/148 [06:29<19:23, 10.48s/it]\u001b[A\n",
            " 26%|██▌       | 38/148 [06:39<19:10, 10.46s/it]\u001b[A\n",
            " 26%|██▋       | 39/148 [06:50<19:03, 10.49s/it]\u001b[A\n",
            " 27%|██▋       | 40/148 [07:00<18:50, 10.47s/it]\u001b[A\n",
            " 28%|██▊       | 41/148 [07:11<18:37, 10.45s/it]\u001b[A\n",
            " 28%|██▊       | 42/148 [07:21<18:25, 10.43s/it]\u001b[A\n",
            " 29%|██▉       | 43/148 [07:31<18:17, 10.46s/it]\u001b[A\n",
            " 30%|██▉       | 44/148 [07:42<18:08, 10.46s/it]\u001b[A\n",
            " 30%|███       | 45/148 [07:52<17:56, 10.45s/it]\u001b[A\n",
            " 31%|███       | 46/148 [08:03<17:47, 10.47s/it]\u001b[A\n",
            " 32%|███▏      | 47/148 [08:13<17:36, 10.46s/it]\u001b[A\n",
            " 32%|███▏      | 48/148 [08:24<17:24, 10.44s/it]\u001b[A\n",
            " 33%|███▎      | 49/148 [08:34<17:16, 10.46s/it]\u001b[A\n",
            " 34%|███▍      | 50/148 [08:45<17:07, 10.48s/it]\u001b[A\n",
            " 34%|███▍      | 51/148 [08:55<16:53, 10.45s/it]\u001b[A\n",
            " 35%|███▌      | 52/148 [09:06<16:48, 10.50s/it]\u001b[A\n",
            " 36%|███▌      | 53/148 [09:16<16:35, 10.48s/it]\u001b[A\n",
            " 36%|███▋      | 54/148 [09:27<16:27, 10.50s/it]\u001b[A\n",
            " 37%|███▋      | 55/148 [09:37<16:17, 10.51s/it]\u001b[A\n",
            " 38%|███▊      | 56/148 [09:48<16:05, 10.50s/it]\u001b[A\n",
            " 39%|███▊      | 57/148 [09:58<15:56, 10.51s/it]\u001b[A\n",
            " 39%|███▉      | 58/148 [10:09<15:51, 10.57s/it]\u001b[A\n",
            " 40%|███▉      | 59/148 [10:19<15:36, 10.52s/it]\u001b[A\n",
            " 41%|████      | 60/148 [10:30<15:22, 10.48s/it]\u001b[A\n",
            " 41%|████      | 61/148 [10:40<15:10, 10.46s/it]\u001b[A\n",
            " 42%|████▏     | 62/148 [10:51<15:01, 10.49s/it]\u001b[A\n",
            " 43%|████▎     | 63/148 [11:01<14:49, 10.47s/it]\u001b[A\n",
            " 43%|████▎     | 64/148 [11:12<14:37, 10.45s/it]\u001b[A\n",
            " 44%|████▍     | 65/148 [11:22<14:31, 10.50s/it]\u001b[A\n",
            " 45%|████▍     | 66/148 [11:33<14:20, 10.49s/it]\u001b[A\n",
            " 45%|████▌     | 67/148 [11:43<14:07, 10.46s/it]\u001b[A\n",
            " 46%|████▌     | 68/148 [11:54<13:56, 10.46s/it]\u001b[A\n",
            " 47%|████▋     | 69/148 [12:04<13:47, 10.48s/it]\u001b[A\n",
            " 47%|████▋     | 70/148 [12:15<13:37, 10.48s/it]\u001b[A\n",
            " 48%|████▊     | 71/148 [12:25<13:26, 10.48s/it]\u001b[A\n",
            " 49%|████▊     | 72/148 [12:36<13:18, 10.50s/it]\u001b[A\n",
            " 49%|████▉     | 73/148 [12:46<13:06, 10.48s/it]\u001b[A\n",
            " 50%|█████     | 74/148 [12:56<12:54, 10.47s/it]\u001b[A\n",
            " 51%|█████     | 75/148 [13:07<12:45, 10.49s/it]\u001b[A\n",
            " 51%|█████▏    | 76/148 [13:17<12:34, 10.47s/it]\u001b[A\n",
            " 52%|█████▏    | 77/148 [13:28<12:23, 10.47s/it]\u001b[A\n",
            " 53%|█████▎    | 78/148 [13:38<12:14, 10.49s/it]\u001b[A\n",
            " 53%|█████▎    | 79/148 [13:49<12:02, 10.48s/it]\u001b[A\n",
            " 54%|█████▍    | 80/148 [13:59<11:53, 10.49s/it]\u001b[A\n",
            " 55%|█████▍    | 81/148 [14:10<11:48, 10.58s/it]\u001b[A\n",
            " 55%|█████▌    | 82/148 [14:21<11:35, 10.54s/it]\u001b[A\n",
            " 56%|█████▌    | 83/148 [14:31<11:22, 10.50s/it]\u001b[A\n",
            " 57%|█████▋    | 84/148 [14:42<11:13, 10.52s/it]\u001b[A\n",
            " 57%|█████▋    | 85/148 [14:52<11:00, 10.48s/it]\u001b[A\n",
            " 58%|█████▊    | 86/148 [15:02<10:49, 10.47s/it]\u001b[A\n",
            " 59%|█████▉    | 87/148 [15:13<10:40, 10.50s/it]\u001b[A\n",
            " 59%|█████▉    | 88/148 [15:24<10:32, 10.54s/it]\u001b[A\n",
            " 60%|██████    | 89/148 [15:34<10:21, 10.53s/it]\u001b[A\n",
            " 61%|██████    | 90/148 [15:45<10:11, 10.54s/it]\u001b[A\n",
            " 61%|██████▏   | 91/148 [15:55<10:00, 10.54s/it]\u001b[A\n",
            " 62%|██████▏   | 92/148 [16:06<09:49, 10.52s/it]\u001b[A\n",
            " 63%|██████▎   | 93/148 [16:16<09:38, 10.51s/it]\u001b[A\n",
            " 64%|██████▎   | 94/148 [16:27<09:29, 10.54s/it]\u001b[A\n",
            " 64%|██████▍   | 95/148 [16:37<09:17, 10.51s/it]\u001b[A\n",
            " 65%|██████▍   | 96/148 [16:48<09:05, 10.49s/it]\u001b[A\n",
            " 66%|██████▌   | 97/148 [16:58<08:54, 10.47s/it]\u001b[A\n",
            " 66%|██████▌   | 98/148 [17:09<08:45, 10.51s/it]\u001b[A\n",
            " 67%|██████▋   | 99/148 [17:19<08:34, 10.51s/it]\u001b[A\n",
            " 68%|██████▊   | 100/148 [17:30<08:23, 10.49s/it]\u001b[A\n",
            " 68%|██████▊   | 101/148 [17:40<08:14, 10.52s/it]\u001b[A\n",
            " 69%|██████▉   | 102/148 [17:51<08:04, 10.53s/it]\u001b[A\n",
            " 70%|██████▉   | 103/148 [18:01<07:52, 10.50s/it]\u001b[A\n",
            " 70%|███████   | 104/148 [18:12<07:46, 10.60s/it]\u001b[A\n",
            " 71%|███████   | 105/148 [18:23<07:35, 10.60s/it]\u001b[A\n",
            " 72%|███████▏  | 106/148 [18:33<07:23, 10.55s/it]\u001b[A\n",
            " 72%|███████▏  | 107/148 [18:44<07:12, 10.55s/it]\u001b[A\n",
            " 73%|███████▎  | 108/148 [18:54<07:02, 10.56s/it]\u001b[A\n",
            " 74%|███████▎  | 109/148 [19:05<06:52, 10.58s/it]\u001b[A\n",
            " 74%|███████▍  | 110/148 [19:15<06:42, 10.59s/it]\u001b[A\n",
            " 75%|███████▌  | 111/148 [19:26<06:31, 10.59s/it]\u001b[A\n",
            " 76%|███████▌  | 112/148 [19:37<06:21, 10.60s/it]\u001b[A\n",
            " 76%|███████▋  | 113/148 [19:47<06:10, 10.60s/it]\u001b[A\n",
            " 77%|███████▋  | 114/148 [19:58<05:58, 10.55s/it]\u001b[A\n",
            " 78%|███████▊  | 115/148 [20:08<05:48, 10.57s/it]\u001b[A\n",
            " 78%|███████▊  | 116/148 [20:19<05:37, 10.55s/it]\u001b[A\n",
            " 79%|███████▉  | 117/148 [20:29<05:26, 10.52s/it]\u001b[A\n",
            " 80%|███████▉  | 118/148 [20:40<05:16, 10.55s/it]\u001b[A\n",
            " 80%|████████  | 119/148 [20:50<05:06, 10.56s/it]\u001b[A\n",
            " 81%|████████  | 120/148 [21:01<04:54, 10.52s/it]\u001b[A\n",
            " 82%|████████▏ | 121/148 [21:11<04:44, 10.53s/it]\u001b[A\n",
            " 82%|████████▏ | 122/148 [21:22<04:34, 10.56s/it]\u001b[A\n",
            " 83%|████████▎ | 123/148 [21:33<04:23, 10.54s/it]\u001b[A\n",
            " 84%|████████▍ | 124/148 [21:43<04:12, 10.52s/it]\u001b[A\n",
            " 84%|████████▍ | 125/148 [21:54<04:02, 10.55s/it]\u001b[A\n",
            " 85%|████████▌ | 126/148 [22:04<03:51, 10.52s/it]\u001b[A\n",
            " 86%|████████▌ | 127/148 [22:15<03:43, 10.65s/it]\u001b[A\n",
            " 86%|████████▋ | 128/148 [22:26<03:31, 10.58s/it]\u001b[A\n",
            " 87%|████████▋ | 129/148 [22:36<03:20, 10.56s/it]\u001b[A\n",
            " 88%|████████▊ | 130/148 [22:46<03:09, 10.53s/it]\u001b[A\n",
            " 89%|████████▊ | 131/148 [22:57<02:58, 10.50s/it]\u001b[A\n",
            " 89%|████████▉ | 132/148 [23:07<02:47, 10.47s/it]\u001b[A\n",
            " 90%|████████▉ | 133/148 [23:18<02:37, 10.52s/it]\u001b[A\n",
            " 91%|█████████ | 134/148 [23:28<02:27, 10.51s/it]\u001b[A\n",
            " 91%|█████████ | 135/148 [23:39<02:16, 10.52s/it]\u001b[A\n",
            " 92%|█████████▏| 136/148 [23:50<02:06, 10.53s/it]\u001b[A\n",
            " 93%|█████████▎| 137/148 [24:00<01:56, 10.58s/it]\u001b[A\n",
            " 93%|█████████▎| 138/148 [24:11<01:45, 10.56s/it]\u001b[A\n",
            " 94%|█████████▍| 139/148 [24:21<01:35, 10.57s/it]\u001b[A\n",
            " 95%|█████████▍| 140/148 [24:32<01:24, 10.58s/it]\u001b[A\n",
            " 95%|█████████▌| 141/148 [24:43<01:14, 10.61s/it]\u001b[A\n",
            " 96%|█████████▌| 142/148 [24:53<01:03, 10.59s/it]\u001b[A\n",
            " 97%|█████████▋| 143/148 [25:04<00:52, 10.59s/it]\u001b[A\n",
            " 97%|█████████▋| 144/148 [25:14<00:42, 10.56s/it]\u001b[A\n",
            " 98%|█████████▊| 145/148 [25:25<00:31, 10.60s/it]\u001b[A\n",
            " 99%|█████████▊| 146/148 [25:36<00:21, 10.60s/it]\u001b[A\n",
            " 99%|█████████▉| 147/148 [25:46<00:10, 10.57s/it]\u001b[A\n",
            "100%|██████████| 148/148 [25:48<00:00, 10.46s/it]\n"
          ],
          "name": "stderr"
        }
      ]
    },
    {
      "cell_type": "code",
      "metadata": {
        "id": "m8ozy38lJmOt",
        "colab": {
          "base_uri": "https://localhost:8080/"
        },
        "outputId": "2587747c-3c55-45c3-a8a9-41cee1639f26"
      },
      "source": [
        "engine.execute(\"CREATE INDEX ix_lat ON nypd.nypd(Latitude)\")"
      ],
      "execution_count": 216,
      "outputs": [
        {
          "output_type": "execute_result",
          "data": {
            "text/plain": [
              "<sqlalchemy.engine.cursor.LegacyCursorResult at 0x7fdacd246350>"
            ]
          },
          "metadata": {
            "tags": []
          },
          "execution_count": 216
        }
      ]
    },
    {
      "cell_type": "code",
      "metadata": {
        "id": "Up8_pRiYPn3X",
        "colab": {
          "base_uri": "https://localhost:8080/"
        },
        "outputId": "24ca2094-5387-4b05-c745-9c79549114ca"
      },
      "source": [
        "engine.execute(\"CREATE INDEX ix_lon ON nypd.nypd(Longitude)\")"
      ],
      "execution_count": 217,
      "outputs": [
        {
          "output_type": "execute_result",
          "data": {
            "text/plain": [
              "<sqlalchemy.engine.cursor.LegacyCursorResult at 0x7fda72b01a50>"
            ]
          },
          "metadata": {
            "tags": []
          },
          "execution_count": 217
        }
      ]
    },
    {
      "cell_type": "code",
      "metadata": {
        "id": "fRVAUTDsPn6N",
        "colab": {
          "base_uri": "https://localhost:8080/"
        },
        "outputId": "2bc3817a-d15a-47f6-952a-ba63c7285ca5"
      },
      "source": [
        "engine.execute(\"CREATE INDEX ix_LAW_CAT_CD ON nypd.nypd(LAW_CAT_CD)\")"
      ],
      "execution_count": 218,
      "outputs": [
        {
          "output_type": "execute_result",
          "data": {
            "text/plain": [
              "<sqlalchemy.engine.cursor.LegacyCursorResult at 0x7fda84ca9350>"
            ]
          },
          "metadata": {
            "tags": []
          },
          "execution_count": 218
        }
      ]
    },
    {
      "cell_type": "code",
      "metadata": {
        "id": "TcqQhh63PoAJ",
        "colab": {
          "base_uri": "https://localhost:8080/"
        },
        "outputId": "3d71d4fe-19ce-401a-95fa-e773f317f878"
      },
      "source": [
        "engine.execute(\"CREATE INDEX ix_BORO_NM ON nypd.nypd(BORO_NM)\")"
      ],
      "execution_count": 219,
      "outputs": [
        {
          "output_type": "execute_result",
          "data": {
            "text/plain": [
              "<sqlalchemy.engine.cursor.LegacyCursorResult at 0x7fda6c91a1d0>"
            ]
          },
          "metadata": {
            "tags": []
          },
          "execution_count": 219
        }
      ]
    },
    {
      "cell_type": "code",
      "metadata": {
        "id": "2-j9IWUtklbT",
        "outputId": "1c085ce9-8d5a-4b6a-a5fb-6ae34cac20d7",
        "colab": {
          "base_uri": "https://localhost:8080/"
        }
      },
      "source": [
        "engine.execute(\"CREATE INDEX ix_KY_CD ON nypd.nypd(KY_CD)\")"
      ],
      "execution_count": 220,
      "outputs": [
        {
          "output_type": "execute_result",
          "data": {
            "text/plain": [
              "<sqlalchemy.engine.cursor.LegacyCursorResult at 0x7fdae180cd50>"
            ]
          },
          "metadata": {
            "tags": []
          },
          "execution_count": 220
        }
      ]
    },
    {
      "cell_type": "code",
      "metadata": {
        "id": "fVLOoJXZP3IL",
        "colab": {
          "base_uri": "https://localhost:8080/"
        },
        "outputId": "30e069ee-7793-46c8-d7af-c6c44243f47d"
      },
      "source": [
        "engine.execute(\"CREATE INDEX ix_RPT_DT ON nypd.nypd(RPT_DT)\")"
      ],
      "execution_count": 221,
      "outputs": [
        {
          "output_type": "execute_result",
          "data": {
            "text/plain": [
              "<sqlalchemy.engine.cursor.LegacyCursorResult at 0x7fda73cd4410>"
            ]
          },
          "metadata": {
            "tags": []
          },
          "execution_count": 221
        }
      ]
    },
    {
      "cell_type": "code",
      "metadata": {
        "id": "_LMQyvt6P71C",
        "colab": {
          "base_uri": "https://localhost:8080/"
        },
        "outputId": "5c0f5878-f0ed-49be-acdf-d6aed338d0dd"
      },
      "source": [
        "engine.execute(\"CREATE INDEX ix_CMPLNT_FR ON nypd.nypd(CMPLNT_FR)\")"
      ],
      "execution_count": 222,
      "outputs": [
        {
          "output_type": "execute_result",
          "data": {
            "text/plain": [
              "<sqlalchemy.engine.cursor.LegacyCursorResult at 0x7fda7f385250>"
            ]
          },
          "metadata": {
            "tags": []
          },
          "execution_count": 222
        }
      ]
    },
    {
      "cell_type": "code",
      "metadata": {
        "id": "hPGyBq5gvy2o"
      },
      "source": [
        "engine.execute(\"DROP TABLE IF EXISTS offense_codes;\")\n",
        "\n",
        "create_table_sql = '''\n",
        "CREATE TABLE offense_codes (\n",
        "  KY_CD smallint,\n",
        "  OFNS_DESC varchar(32),\n",
        "  PRIMARY KEY (KY_CD)\n",
        ") ENGINE=InnoDB DEFAULT CHARSET=utf8mb4;\n",
        "'''\n",
        "engine.execute(create_table_sql)\n",
        "\n",
        "offenses.to_sql(\n",
        "        name = 'offense_codes', \n",
        "        schema = db_name, \n",
        "        con = engine,\n",
        "        if_exists = 'append',\n",
        "        index = False)"
      ],
      "execution_count": 227,
      "outputs": []
    },
    {
      "cell_type": "code",
      "metadata": {
        "id": "--bCF3OXxVVq"
      },
      "source": [
        "engine.execute(\"DROP TABLE IF EXISTS jurisdiction_codes;\")\n",
        "\n",
        "create_table_sql = '''\n",
        "CREATE TABLE jurisdiction_codes (\n",
        "  JURISDICTION_CODE smallint,\n",
        "  JURIS_DESC varchar(40),\n",
        "  PRIMARY KEY (JURISDICTION_CODE)\n",
        ") ENGINE=InnoDB DEFAULT CHARSET=utf8mb4;\n",
        "'''\n",
        "engine.execute(create_table_sql)\n",
        "\n",
        "\n",
        "jusridiction.to_sql(\n",
        "        name = 'jurisdiction_codes', \n",
        "        schema = db_name, \n",
        "        con = engine,\n",
        "        if_exists = 'append',\n",
        "        index = False)"
      ],
      "execution_count": 228,
      "outputs": []
    },
    {
      "cell_type": "code",
      "metadata": {
        "id": "lm6SIPHz3wXU"
      },
      "source": [
        "internal.PD_DESC.str.len().max()\n"
      ],
      "execution_count": null,
      "outputs": []
    },
    {
      "cell_type": "code",
      "metadata": {
        "id": "rFUrm2poxWFQ"
      },
      "source": [
        "engine.execute(\"DROP TABLE IF EXISTS penal_codes;\")\n",
        "\n",
        "create_table_sql = '''\n",
        "CREATE TABLE penal_codes (\n",
        "  PD_CD smallint,\n",
        "  PD_DESC varchar(80),\n",
        "  PRIMARY KEY (PD_CD)\n",
        ") ENGINE=InnoDB DEFAULT CHARSET=utf8mb4;\n",
        "'''\n",
        "engine.execute(create_table_sql)\n",
        "\n",
        "\n",
        "internal.to_sql(\n",
        "        name = 'penal_codes', \n",
        "        schema = db_name, \n",
        "        con = engine,\n",
        "        if_exists = 'append',\n",
        "        index = False)"
      ],
      "execution_count": 229,
      "outputs": []
    },
    {
      "cell_type": "markdown",
      "metadata": {
        "id": "qBdum8YM5mnN"
      },
      "source": [
        "## TODO"
      ]
    },
    {
      "cell_type": "markdown",
      "metadata": {
        "id": "gy9R1rnb5mnN"
      },
      "source": [
        "### Add the penal code data as a separate table\n",
        "\n",
        "`!curl 'https://data.cityofnewyork.us/api/views/qgea-i56i/files/65f25845-1551-4d21-91dc-869c977cd93d?download=true&filename=PDCode_PenalLaw.xlsx' -o PDCode_PenalLaw.xlsx`\n",
        "\n",
        "### Examine whether to normalize "
      ]
    },
    {
      "cell_type": "markdown",
      "metadata": {
        "id": "ojgVuC6I5mnN"
      },
      "source": [
        "The fields \n",
        "\n",
        "  \n",
        "PREM_TYP_DESC    \n",
        "HADEVELOPT    \n",
        "PARKS_NM                     \n",
        "\n",
        "would be better off as foreign keys or enums. They take too much space as strings."
      ]
    }
  ]
}