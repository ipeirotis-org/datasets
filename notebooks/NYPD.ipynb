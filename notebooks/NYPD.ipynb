{
  "nbformat": 4,
  "nbformat_minor": 0,
  "metadata": {
    "kernelspec": {
      "display_name": "Python 3",
      "language": "python",
      "name": "python3"
    },
    "language_info": {
      "codemirror_mode": {
        "name": "ipython",
        "version": 3
      },
      "file_extension": ".py",
      "mimetype": "text/x-python",
      "name": "python",
      "nbconvert_exporter": "python",
      "pygments_lexer": "ipython3",
      "version": "3.6.9"
    },
    "colab": {
      "name": "NYPD.ipynb",
      "provenance": [],
      "toc_visible": true,
      "machine_shape": "hm"
    }
  },
  "cells": [
    {
      "cell_type": "markdown",
      "metadata": {
        "id": "GOZM1miw5mmu"
      },
      "source": [
        "## NYPD Dataset\n",
        "\n",
        "Dataset description at \n",
        "https://data.cityofnewyork.us/Public-Safety/NYPD-Complaint-Data-Historic/qgea-i56i\n"
      ]
    },
    {
      "cell_type": "markdown",
      "metadata": {
        "id": "3E6Bimj_5mmy"
      },
      "source": [
        "\n",
        "| Column | Description |\n",
        "|--------|-------------------|\n",
        "| CMPLNT_NUM |  Randomly generated persistent ID for each complaint  |  \n",
        "| ADDR_PCT_CD |  The precinct in which the incident occurred |  \n",
        "| BORO |  The name of the borough in which the incident occurred |  \n",
        "| CMPLNT_FR_DT |  Exact date of occurrence for the reported event (or starting date of occurrence, if CMPLNT_TO_DT exists) |  \n",
        "| CMPLNT_FR_TM |  Exact time of occurrence for the reported event (or starting time of occurrence, if CMPLNT_TO_TM exists) |  \n",
        "| CMPLNT_TO_DT |  Ending date of occurrence for the reported event, if exact time of occurrence is unknown |  \n",
        "| CMPLNT_TO_TM |  Ending time of occurrence for the reported event, if exact time of occurrence is unknown |  \n",
        "| CRM_ATPT_CPTD_CD |  Indicator of whether crime was successfully completed or attempted, but failed or was interrupted prematurely |  \n",
        "| HADEVELOPT |  Name of NYCHA housing development of occurrence, if applicable |  \n",
        "| HOUSING_PSA |  Development Level Code |  \n",
        "| JURISDICTION_CODE |  Jurisdiction responsible for incident. Either internal, like Police(0), Transit(1), and Housing(2); or external(3), like Correction, Port Authority, etc. |  \n",
        "| JURIS_DESC |  Description of the jurisdiction code |  \n",
        "| KY_CD |  Three digit offense classification code |  \n",
        "| LAW_CAT_CD |  Level of offense: felony, misdemeanor, violation  |  \n",
        "| LOC_OF_OCCUR_DESC |  Specific location of occurrence in or around the premises; inside, opposite of, front of, rear of |  \n",
        "| OFNS_DESC |  Description of offense corresponding with key code |  \n",
        "| PARKS_NM |  Name of NYC park, playground or greenspace of occurrence, if applicable (state parks are not included) |  \n",
        "| PATROL_BORO |  The name of the patrol borough in which the incident occurred |  \n",
        "| PD_CD |  Three digit internal classification code (more granular than Key Code) |  \n",
        "| PD_DESC |  Description of internal classification corresponding with PD code (more granular than Offense Description) |  \n",
        "| PREM_TYP_DESC |  Specific description of premises; grocery store, residence, street, etc. |  \n",
        "| RPT_DT |  Date event was reported to police  |  \n",
        "| STATION_NAME |  Transit station name |  \n",
        "| SUSP_AGE_GROUP |  Suspect’s Age Group |  \n",
        "| SUSP_RACE |  Suspect’s Race Description |  \n",
        "| SUSP_SEX |  Suspect’s Sex Description |  \n",
        "| TRANSIT_DISTRICT |  Transit district in which the offense occurred. |  \n",
        "| VIC_AGE_GROUP |  Victim’s Age Group |  \n",
        "| VIC_RACE |  Victim’s Race Description |  \n",
        "| VIC_SEX |  Victim’s Sex Description |  \n",
        "| X_COORD_CD |  X-coordinate for New York State Plane Coordinate System, Long Island Zone, NAD 83, units feet (FIPS 3104) |  \n",
        "| Y_COORD_CD |  Y-coordinate for New York State Plane Coordinate System, Long Island Zone, NAD 83, units feet (FIPS 3104) |  \n",
        "| Latitude |  Midblock Latitude coordinate for Global Coordinate System, WGS 1984, decimal degrees (EPSG 4326)  |  \n",
        "| Longitude |  Midblock Longitude coordinate for Global Coordinate System, WGS 1984, decimal degrees (EPSG 4326) |\n"
      ]
    },
    {
      "cell_type": "code",
      "metadata": {
        "id": "04SFECct5mm0"
      },
      "source": [
        "import pandas as pd\n",
        "import numpy as np"
      ],
      "execution_count": null,
      "outputs": []
    },
    {
      "cell_type": "code",
      "metadata": {
        "id": "-XiIq4vd5mm1",
        "colab": {
          "base_uri": "https://localhost:8080/"
        },
        "outputId": "a3d902a0-604b-4f3e-ed95-e879d4516e1d"
      },
      "source": [
        "# We load everything as an object/string, because some data types (e.g., some IDs)\n",
        "# are recognized as decimals, and it is a mess to restore them back\n",
        "# So we will do all the conversions ourselves later on\n",
        "\n",
        "# From https://data.cityofnewyork.us/Public-Safety/NYPD-Complaint-Data-Historic/qgea-i56i/data\n",
        "!curl 'https://data.cityofnewyork.us/api/views/qgea-i56i/rows.csv?accessType=DOWNLOAD' -o nypd.csv\n"
      ],
      "execution_count": 3,
      "outputs": [
        {
          "output_type": "stream",
          "text": [
            "100 2251M    0 2251M    0     0  4808k      0 --:--:--  0:07:59 --:--:-- 4862k\n"
          ],
          "name": "stdout"
        }
      ]
    },
    {
      "cell_type": "code",
      "metadata": {
        "id": "tOdfVrSVw5fz",
        "outputId": "010c3c18-f0bc-4493-dad8-81e185e2620a",
        "colab": {
          "base_uri": "https://localhost:8080/"
        }
      },
      "source": [
        "%%time\n",
        "df = pd.read_csv('nypd.csv', low_memory = True, dtype='object')"
      ],
      "execution_count": 100,
      "outputs": [
        {
          "output_type": "stream",
          "text": [
            "CPU times: user 43.4 s, sys: 7.66 s, total: 51.1 s\n",
            "Wall time: 50.9 s\n"
          ],
          "name": "stdout"
        }
      ]
    },
    {
      "cell_type": "code",
      "metadata": {
        "id": "VNdvd4kY5mm1"
      },
      "source": [
        "# We load directly from the URL\n",
        "# url = 'https://data.cityofnewyork.us/api/views/qgea-i56i/rows.csv?accessType=DOWNLOAD'\n",
        "# df = pd.read_csv(url, low_memory = True, dtype='object')\n"
      ],
      "execution_count": null,
      "outputs": []
    },
    {
      "cell_type": "code",
      "metadata": {
        "id": "RmxhWjIz5mm2",
        "colab": {
          "base_uri": "https://localhost:8080/"
        },
        "outputId": "c23a852a-51dc-477b-a284-1df595555faa"
      },
      "source": [
        "len(df)"
      ],
      "execution_count": 103,
      "outputs": [
        {
          "output_type": "execute_result",
          "data": {
            "text/plain": [
              "7396619"
            ]
          },
          "metadata": {
            "tags": []
          },
          "execution_count": 103
        }
      ]
    },
    {
      "cell_type": "code",
      "metadata": {
        "id": "LEnqUtmb5mm3",
        "colab": {
          "base_uri": "https://localhost:8080/"
        },
        "outputId": "a2fb3456-5c94-4e74-a430-892cec04ca82"
      },
      "source": [
        "df.info()"
      ],
      "execution_count": 104,
      "outputs": [
        {
          "output_type": "stream",
          "text": [
            "<class 'pandas.core.frame.DataFrame'>\n",
            "RangeIndex: 7396619 entries, 0 to 7396618\n",
            "Data columns (total 35 columns):\n",
            " #   Column             Dtype \n",
            "---  ------             ----- \n",
            " 0   CMPLNT_NUM         object\n",
            " 1   CMPLNT_FR_DT       object\n",
            " 2   CMPLNT_FR_TM       object\n",
            " 3   CMPLNT_TO_DT       object\n",
            " 4   CMPLNT_TO_TM       object\n",
            " 5   ADDR_PCT_CD        object\n",
            " 6   RPT_DT             object\n",
            " 7   KY_CD              object\n",
            " 8   OFNS_DESC          object\n",
            " 9   PD_CD              object\n",
            " 10  PD_DESC            object\n",
            " 11  CRM_ATPT_CPTD_CD   object\n",
            " 12  LAW_CAT_CD         object\n",
            " 13  BORO_NM            object\n",
            " 14  LOC_OF_OCCUR_DESC  object\n",
            " 15  PREM_TYP_DESC      object\n",
            " 16  JURIS_DESC         object\n",
            " 17  JURISDICTION_CODE  object\n",
            " 18  PARKS_NM           object\n",
            " 19  HADEVELOPT         object\n",
            " 20  HOUSING_PSA        object\n",
            " 21  X_COORD_CD         object\n",
            " 22  Y_COORD_CD         object\n",
            " 23  SUSP_AGE_GROUP     object\n",
            " 24  SUSP_RACE          object\n",
            " 25  SUSP_SEX           object\n",
            " 26  TRANSIT_DISTRICT   object\n",
            " 27  Latitude           object\n",
            " 28  Longitude          object\n",
            " 29  Lat_Lon            object\n",
            " 30  PATROL_BORO        object\n",
            " 31  STATION_NAME       object\n",
            " 32  VIC_AGE_GROUP      object\n",
            " 33  VIC_RACE           object\n",
            " 34  VIC_SEX            object\n",
            "dtypes: object(35)\n",
            "memory usage: 1.9+ GB\n"
          ],
          "name": "stdout"
        }
      ]
    },
    {
      "cell_type": "markdown",
      "metadata": {
        "id": "iom7bUxU5mm4"
      },
      "source": [
        "## Data Cleaning"
      ]
    },
    {
      "cell_type": "code",
      "metadata": {
        "id": "_7AjsFKk_8O0"
      },
      "source": [
        "# These columns are redundant\n",
        "to_drop = ['Lat_Lon','X_COORD_CD','Y_COORD_CD']\n",
        "# We created the CMPLNT_FR and CMPLNT_TO columns\n",
        "# We have the longitude and latitude so the other coordinates are not needed\n",
        "df = df.drop(to_drop, axis='columns')"
      ],
      "execution_count": 105,
      "outputs": []
    },
    {
      "cell_type": "markdown",
      "metadata": {
        "id": "cneciJ0ychcz"
      },
      "source": [
        "###  CMPLNT_NUM         object   "
      ]
    },
    {
      "cell_type": "code",
      "metadata": {
        "id": "4AnVkOfw-8Ul"
      },
      "source": [
        "     \n",
        "# Drop cases with duplicated complaint numbers\n",
        "key_cnt = df.CMPLNT_NUM.value_counts()\n",
        "key_cnt [ key_cnt>1 ]\n",
        "df = df[ ~df.CMPLNT_NUM.isin( key_cnt [ key_cnt>1 ].index.values ) ]"
      ],
      "execution_count": 106,
      "outputs": []
    },
    {
      "cell_type": "code",
      "metadata": {
        "id": "TGaUJ382IYGM"
      },
      "source": [
        "df.CMPLNT_NUM = df.CMPLNT_NUM.astype('int32')"
      ],
      "execution_count": 107,
      "outputs": []
    },
    {
      "cell_type": "markdown",
      "metadata": {
        "id": "FHn3_6rjcj0t"
      },
      "source": [
        "### CMPLNT_FR_DT       object\n",
        "### CMPLNT_FR_TM       object\n",
        "### CMPLNT_TO_DT       object\n",
        "### CMPLNT_TO_TM       object"
      ]
    },
    {
      "cell_type": "code",
      "metadata": {
        "id": "f2F3vSC_5mm5"
      },
      "source": [
        "# There are a few rows that contain year 1015, 1016, ... that trigger an error during date conversion\n",
        "# We replace all years written as 10XX with 20XX\n",
        "# Note the usage of regular expressions\n",
        "df.CMPLNT_FR_DT.replace(to_replace = '(\\d\\d)/(\\d\\d)/10(\\d\\d)', value=r'\\1/\\2/20\\3', inplace = True, regex=True )\n",
        "df.CMPLNT_TO_DT.replace(to_replace = '(\\d\\d)/(\\d\\d)/10(\\d\\d)', value=r'\\1/\\2/20\\3', inplace = True, regex=True )\n",
        "\n",
        "# Similarly, a few hours are written as 24:00:00, which also triggers errors.\n",
        "# We fix these hours\n",
        "df.CMPLNT_FR_TM.replace(to_replace = '24:00:00', value='00:00:00', inplace = True)\n",
        "df.CMPLNT_TO_TM.replace(to_replace = '24:00:00', value='00:00:00', inplace = True)\n",
        "\n",
        "# Convert the two separate date and time columns into single datetime columns\n",
        "df['CMPLNT_FR'] = pd.to_datetime(df.CMPLNT_FR_DT + ' ' + df.CMPLNT_FR_TM, format='%m/%d/%Y %H:%M:%S', cache=True)\n",
        "df['CMPLNT_TO'] = pd.to_datetime(df.CMPLNT_TO_DT + ' ' + df.CMPLNT_TO_TM, format='%m/%d/%Y %H:%M:%S', cache=True)\n",
        "\n",
        "# These columns are redundant\n",
        "to_drop = ['CMPLNT_FR_DT','CMPLNT_TO_DT','CMPLNT_FR_TM','CMPLNT_TO_TM']\n",
        "# We created the CMPLNT_FR and CMPLNT_TO columns\n",
        "# We have the longitude and latitude so the other coordinates are not needed\n",
        "df = df.drop(to_drop, axis='columns')"
      ],
      "execution_count": 108,
      "outputs": []
    },
    {
      "cell_type": "code",
      "metadata": {
        "id": "W75-d3hf5mm6",
        "outputId": "13374d16-b954-4b9d-9b0f-c6d43a2401d8",
        "colab": {
          "base_uri": "https://localhost:8080/"
        }
      },
      "source": [
        "df.CMPLNT_FR.isnull().sum()"
      ],
      "execution_count": 109,
      "outputs": [
        {
          "output_type": "execute_result",
          "data": {
            "text/plain": [
              "702"
            ]
          },
          "metadata": {
            "tags": []
          },
          "execution_count": 109
        }
      ]
    },
    {
      "cell_type": "code",
      "metadata": {
        "id": "y_L6v8D-5mm6",
        "outputId": "8c7465a9-9cc5-4601-a5c4-e7a6379c8ffd",
        "colab": {
          "base_uri": "https://localhost:8080/"
        }
      },
      "source": [
        "df.CMPLNT_TO.isnull().sum()"
      ],
      "execution_count": 110,
      "outputs": [
        {
          "output_type": "execute_result",
          "data": {
            "text/plain": [
              "1702645"
            ]
          },
          "metadata": {
            "tags": []
          },
          "execution_count": 110
        }
      ]
    },
    {
      "cell_type": "code",
      "metadata": {
        "id": "Wew9yE3KEU4h"
      },
      "source": [
        "df = df [ ~df.CMPLNT_FR.isnull() ]"
      ],
      "execution_count": 111,
      "outputs": []
    },
    {
      "cell_type": "markdown",
      "metadata": {
        "id": "9LWq_gxRcn5X"
      },
      "source": [
        "###  ADDR_PCT_CD        object"
      ]
    },
    {
      "cell_type": "code",
      "metadata": {
        "id": "icQPQRXI_S0s"
      },
      "source": [
        "\n",
        "df.ADDR_PCT_CD.replace(to_replace = '-99', value='99', inplace = True)\n",
        "df = df [ ~df.ADDR_PCT_CD.isnull() ]\n",
        "df.ADDR_PCT_CD = pd.Categorical(df.ADDR_PCT_CD)"
      ],
      "execution_count": 112,
      "outputs": []
    },
    {
      "cell_type": "markdown",
      "metadata": {
        "id": "jJy7ffBvcpUT"
      },
      "source": [
        "###  RPT_DT             object"
      ]
    },
    {
      "cell_type": "code",
      "metadata": {
        "id": "vSDFSmV__YsE"
      },
      "source": [
        "\n",
        "\n",
        "# Convert RPT_DT to date\n",
        "df.RPT_DT = pd.to_datetime(df.RPT_DT, format=\"%m/%d/%Y\", cache=True)"
      ],
      "execution_count": 113,
      "outputs": []
    },
    {
      "cell_type": "markdown",
      "metadata": {
        "id": "PMJyvnercqxR"
      },
      "source": [
        "### 7   KY_CD              object\n",
        "### 8   OFNS_DESC          object"
      ]
    },
    {
      "cell_type": "code",
      "metadata": {
        "id": "hqgAxM-F5mm7",
        "outputId": "d90386a5-5645-46be-a823-88383cace328",
        "colab": {
          "base_uri": "https://localhost:8080/",
          "height": 419
        }
      },
      "source": [
        "\n",
        "\n",
        "\n",
        "df.OFNS_DESC.replace(to_replace = 'KIDNAPPING', value='KIDNAPPING & RELATED OFFENSES', inplace = True)\n",
        "df.OFNS_DESC.replace(to_replace = 'KIDNAPPING AND RELATED OFFENSES', value='KIDNAPPING & RELATED OFFENSES', inplace = True)\n",
        "\n",
        "df.OFNS_DESC.replace(to_replace = 'AGRICULTURE & MRKTS LAW-UNCLASSIFIED', value='OTHER STATE LAWS (NON PENAL LAW)', inplace = True)\n",
        "df.OFNS_DESC.replace(to_replace = 'OTHER STATE LAWS (NON PENAL LA', value='OTHER STATE LAWS (NON PENAL LAW)', inplace = True)\n",
        "\n",
        "df.OFNS_DESC.replace(to_replace = 'ENDAN WELFARE INCOMP', value='OFFENSES RELATED TO CHILDREN', inplace = True)\n",
        "\n",
        "df.OFNS_DESC.replace(to_replace = 'THEFT OF SERVICES', value='OTHER OFFENSES RELATED TO THEF', inplace = True)\n",
        "\n",
        "df.OFNS_DESC.replace(to_replace = 'NYS LAWS-UNCLASSIFIED VIOLATION', value='OTHER STATE LAWS', inplace = True)\n",
        "\n",
        "df.OFNS_DESC.replace(to_replace = 'FELONY SEX CRIMES', value='SEX CRIMES', inplace = True)\n",
        "\n",
        "df.loc[df.KY_CD=='120','OFNS_DESC'] ='CHILD ABANDONMENT/NON SUPPORT'\n",
        "\n",
        "df.loc[df.KY_CD=='125','OFNS_DESC'] ='NYS LAWS-UNCLASSIFIED FELONY'\n",
        "\n",
        "offences = df[ [\"KY_CD\", \"OFNS_DESC\"] ].drop_duplicates().dropna()\n",
        "offences['KY_CD'] = pd.Categorical(pd.to_numeric(offences['KY_CD'] ).astype(int))\n",
        "offences = offences.set_index(\"KY_CD\")\n",
        "offences = offences.sort_index()\n",
        "offences = offences.reset_index()\n",
        "offences\n"
      ],
      "execution_count": 114,
      "outputs": [
        {
          "output_type": "execute_result",
          "data": {
            "text/html": [
              "<div>\n",
              "<style scoped>\n",
              "    .dataframe tbody tr th:only-of-type {\n",
              "        vertical-align: middle;\n",
              "    }\n",
              "\n",
              "    .dataframe tbody tr th {\n",
              "        vertical-align: top;\n",
              "    }\n",
              "\n",
              "    .dataframe thead th {\n",
              "        text-align: right;\n",
              "    }\n",
              "</style>\n",
              "<table border=\"1\" class=\"dataframe\">\n",
              "  <thead>\n",
              "    <tr style=\"text-align: right;\">\n",
              "      <th></th>\n",
              "      <th>KY_CD</th>\n",
              "      <th>OFNS_DESC</th>\n",
              "    </tr>\n",
              "  </thead>\n",
              "  <tbody>\n",
              "    <tr>\n",
              "      <th>0</th>\n",
              "      <td>101</td>\n",
              "      <td>MURDER &amp; NON-NEGL. MANSLAUGHTER</td>\n",
              "    </tr>\n",
              "    <tr>\n",
              "      <th>1</th>\n",
              "      <td>102</td>\n",
              "      <td>HOMICIDE-NEGLIGENT-VEHICLE</td>\n",
              "    </tr>\n",
              "    <tr>\n",
              "      <th>2</th>\n",
              "      <td>103</td>\n",
              "      <td>HOMICIDE-NEGLIGENT,UNCLASSIFIE</td>\n",
              "    </tr>\n",
              "    <tr>\n",
              "      <th>3</th>\n",
              "      <td>104</td>\n",
              "      <td>RAPE</td>\n",
              "    </tr>\n",
              "    <tr>\n",
              "      <th>4</th>\n",
              "      <td>105</td>\n",
              "      <td>ROBBERY</td>\n",
              "    </tr>\n",
              "    <tr>\n",
              "      <th>...</th>\n",
              "      <td>...</td>\n",
              "      <td>...</td>\n",
              "    </tr>\n",
              "    <tr>\n",
              "      <th>69</th>\n",
              "      <td>676</td>\n",
              "      <td>NEW YORK CITY HEALTH CODE</td>\n",
              "    </tr>\n",
              "    <tr>\n",
              "      <th>70</th>\n",
              "      <td>677</td>\n",
              "      <td>OTHER STATE LAWS</td>\n",
              "    </tr>\n",
              "    <tr>\n",
              "      <th>71</th>\n",
              "      <td>678</td>\n",
              "      <td>MISCELLANEOUS PENAL LAW</td>\n",
              "    </tr>\n",
              "    <tr>\n",
              "      <th>72</th>\n",
              "      <td>685</td>\n",
              "      <td>ADMINISTRATIVE CODES</td>\n",
              "    </tr>\n",
              "    <tr>\n",
              "      <th>73</th>\n",
              "      <td>881</td>\n",
              "      <td>OTHER TRAFFIC INFRACTION</td>\n",
              "    </tr>\n",
              "  </tbody>\n",
              "</table>\n",
              "<p>74 rows × 2 columns</p>\n",
              "</div>"
            ],
            "text/plain": [
              "   KY_CD                        OFNS_DESC\n",
              "0    101  MURDER & NON-NEGL. MANSLAUGHTER\n",
              "1    102       HOMICIDE-NEGLIGENT-VEHICLE\n",
              "2    103   HOMICIDE-NEGLIGENT,UNCLASSIFIE\n",
              "3    104                             RAPE\n",
              "4    105                          ROBBERY\n",
              "..   ...                              ...\n",
              "69   676        NEW YORK CITY HEALTH CODE\n",
              "70   677                 OTHER STATE LAWS\n",
              "71   678          MISCELLANEOUS PENAL LAW\n",
              "72   685             ADMINISTRATIVE CODES\n",
              "73   881         OTHER TRAFFIC INFRACTION\n",
              "\n",
              "[74 rows x 2 columns]"
            ]
          },
          "metadata": {
            "tags": []
          },
          "execution_count": 114
        }
      ]
    },
    {
      "cell_type": "code",
      "metadata": {
        "id": "5RYYeU3oGvoY"
      },
      "source": [
        "df.KY_CD = pd.Categorical(df.KY_CD)"
      ],
      "execution_count": 115,
      "outputs": []
    },
    {
      "cell_type": "code",
      "metadata": {
        "id": "VfNKp2c4JThg"
      },
      "source": [
        "df = df.drop('OFNS_DESC', axis='columns')"
      ],
      "execution_count": 116,
      "outputs": []
    },
    {
      "cell_type": "markdown",
      "metadata": {
        "id": "211BiQHwc-Hi"
      },
      "source": [
        "### 9   PD_CD              object\n",
        "### 10  PD_DESC            object"
      ]
    },
    {
      "cell_type": "code",
      "metadata": {
        "id": "sSM0WJ2xFQKi",
        "outputId": "51208e80-53cb-4e16-af33-91994b589173",
        "colab": {
          "base_uri": "https://localhost:8080/",
          "height": 419
        }
      },
      "source": [
        "\n",
        "\n",
        "\n",
        "df.loc[df.PD_CD=='694','PD_DESC'] ='INCEST'\n",
        "\n",
        "df.loc[df.PD_CD=='234','PD_DESC'] ='BURGLARY,UNKNOWN TIME'\n",
        "\n",
        "internal = df[ [\"PD_CD\", \"PD_DESC\"] ].drop_duplicates().dropna()\n",
        "internal['PD_CD'] = pd.Categorical(pd.to_numeric(internal['PD_CD'] ).astype(int))\n",
        "internal = internal.set_index(\"PD_CD\")\n",
        "internal = internal.sort_index()\n",
        "internal = internal.reset_index()\n",
        "internal"
      ],
      "execution_count": 117,
      "outputs": [
        {
          "output_type": "execute_result",
          "data": {
            "text/html": [
              "<div>\n",
              "<style scoped>\n",
              "    .dataframe tbody tr th:only-of-type {\n",
              "        vertical-align: middle;\n",
              "    }\n",
              "\n",
              "    .dataframe tbody tr th {\n",
              "        vertical-align: top;\n",
              "    }\n",
              "\n",
              "    .dataframe thead th {\n",
              "        text-align: right;\n",
              "    }\n",
              "</style>\n",
              "<table border=\"1\" class=\"dataframe\">\n",
              "  <thead>\n",
              "    <tr style=\"text-align: right;\">\n",
              "      <th></th>\n",
              "      <th>PD_CD</th>\n",
              "      <th>PD_DESC</th>\n",
              "    </tr>\n",
              "  </thead>\n",
              "  <tbody>\n",
              "    <tr>\n",
              "      <th>0</th>\n",
              "      <td>100</td>\n",
              "      <td>STALKING COMMIT SEX OFFENSE</td>\n",
              "    </tr>\n",
              "    <tr>\n",
              "      <th>1</th>\n",
              "      <td>101</td>\n",
              "      <td>ASSAULT 3</td>\n",
              "    </tr>\n",
              "    <tr>\n",
              "      <th>2</th>\n",
              "      <td>102</td>\n",
              "      <td>ASSAULT SCHOOL SAFETY AGENT</td>\n",
              "    </tr>\n",
              "    <tr>\n",
              "      <th>3</th>\n",
              "      <td>103</td>\n",
              "      <td>ASSAULT TRAFFIC AGENT</td>\n",
              "    </tr>\n",
              "    <tr>\n",
              "      <th>4</th>\n",
              "      <td>104</td>\n",
              "      <td>VEHICULAR ASSAULT (INTOX DRIVE</td>\n",
              "    </tr>\n",
              "    <tr>\n",
              "      <th>...</th>\n",
              "      <td>...</td>\n",
              "      <td>...</td>\n",
              "    </tr>\n",
              "    <tr>\n",
              "      <th>427</th>\n",
              "      <td>916</td>\n",
              "      <td>LEAVING SCENE-ACCIDENT-PERSONA</td>\n",
              "    </tr>\n",
              "    <tr>\n",
              "      <th>428</th>\n",
              "      <td>918</td>\n",
              "      <td>RECKLESS DRIVING</td>\n",
              "    </tr>\n",
              "    <tr>\n",
              "      <th>429</th>\n",
              "      <td>922</td>\n",
              "      <td>TRAFFIC,UNCLASSIFIED MISDEMEAN</td>\n",
              "    </tr>\n",
              "    <tr>\n",
              "      <th>430</th>\n",
              "      <td>969</td>\n",
              "      <td>TRAFFIC,UNCLASSIFIED INFRACTIO</td>\n",
              "    </tr>\n",
              "    <tr>\n",
              "      <th>431</th>\n",
              "      <td>975</td>\n",
              "      <td>ENVIRONMENTAL CONTROL BOARD</td>\n",
              "    </tr>\n",
              "  </tbody>\n",
              "</table>\n",
              "<p>432 rows × 2 columns</p>\n",
              "</div>"
            ],
            "text/plain": [
              "    PD_CD                         PD_DESC\n",
              "0     100     STALKING COMMIT SEX OFFENSE\n",
              "1     101                       ASSAULT 3\n",
              "2     102     ASSAULT SCHOOL SAFETY AGENT\n",
              "3     103           ASSAULT TRAFFIC AGENT\n",
              "4     104  VEHICULAR ASSAULT (INTOX DRIVE\n",
              "..    ...                             ...\n",
              "427   916  LEAVING SCENE-ACCIDENT-PERSONA\n",
              "428   918                RECKLESS DRIVING\n",
              "429   922  TRAFFIC,UNCLASSIFIED MISDEMEAN\n",
              "430   969  TRAFFIC,UNCLASSIFIED INFRACTIO\n",
              "431   975     ENVIRONMENTAL CONTROL BOARD\n",
              "\n",
              "[432 rows x 2 columns]"
            ]
          },
          "metadata": {
            "tags": []
          },
          "execution_count": 117
        }
      ]
    },
    {
      "cell_type": "code",
      "metadata": {
        "id": "litXEQ4gHJbc",
        "outputId": "f432d5aa-a5b9-43c6-9992-198770e641a5",
        "colab": {
          "base_uri": "https://localhost:8080/"
        }
      },
      "source": [
        "df.PD_CD.isnull().sum()"
      ],
      "execution_count": 118,
      "outputs": [
        {
          "output_type": "execute_result",
          "data": {
            "text/plain": [
              "4462"
            ]
          },
          "metadata": {
            "tags": []
          },
          "execution_count": 118
        }
      ]
    },
    {
      "cell_type": "code",
      "metadata": {
        "id": "EoAB8vswHC_a"
      },
      "source": [
        "df = df[~df.PD_CD.isnull()]"
      ],
      "execution_count": 119,
      "outputs": []
    },
    {
      "cell_type": "code",
      "metadata": {
        "id": "9kwshtMxHAcL"
      },
      "source": [
        "df.PD_CD = pd.Categorical(df.PD_CD)"
      ],
      "execution_count": 120,
      "outputs": []
    },
    {
      "cell_type": "code",
      "metadata": {
        "id": "3H3ZPPzwFYh9"
      },
      "source": [
        "df = df.drop('PD_DESC', axis='columns')\n",
        "\n"
      ],
      "execution_count": 121,
      "outputs": []
    },
    {
      "cell_type": "code",
      "metadata": {
        "id": "dv3xfTcjF8Qz"
      },
      "source": [
        ""
      ],
      "execution_count": null,
      "outputs": []
    },
    {
      "cell_type": "markdown",
      "metadata": {
        "id": "mCyBuyV2dALc"
      },
      "source": [
        "### 11  CRM_ATPT_CPTD_CD   object"
      ]
    },
    {
      "cell_type": "code",
      "metadata": {
        "id": "3qf5FO6XFaPn",
        "outputId": "6c4bb115-6be9-4708-fab7-e180976341cb",
        "colab": {
          "base_uri": "https://localhost:8080/"
        }
      },
      "source": [
        "\n",
        "\n",
        "df.CRM_ATPT_CPTD_CD.value_counts()"
      ],
      "execution_count": 122,
      "outputs": [
        {
          "output_type": "execute_result",
          "data": {
            "text/plain": [
              "COMPLETED    7226842\n",
              "ATTEMPTED     125419\n",
              "Name: CRM_ATPT_CPTD_CD, dtype: int64"
            ]
          },
          "metadata": {
            "tags": []
          },
          "execution_count": 122
        }
      ]
    },
    {
      "cell_type": "code",
      "metadata": {
        "id": "wf1WmbD2FmaB"
      },
      "source": [
        "df.CRM_ATPT_CPTD_CD = pd.Categorical(df.CRM_ATPT_CPTD_CD)"
      ],
      "execution_count": 123,
      "outputs": []
    },
    {
      "cell_type": "code",
      "metadata": {
        "id": "HMCKHHaSFtyF",
        "outputId": "8bc2f019-2786-4a57-8785-e8e47caa59b7",
        "colab": {
          "base_uri": "https://localhost:8080/"
        }
      },
      "source": [
        "df.CRM_ATPT_CPTD_CD.isnull().sum()"
      ],
      "execution_count": 124,
      "outputs": [
        {
          "output_type": "execute_result",
          "data": {
            "text/plain": [
              "7"
            ]
          },
          "metadata": {
            "tags": []
          },
          "execution_count": 124
        }
      ]
    },
    {
      "cell_type": "code",
      "metadata": {
        "id": "F8AKN07HF06g"
      },
      "source": [
        "df = df [ ~df.CRM_ATPT_CPTD_CD.isnull() ]"
      ],
      "execution_count": 125,
      "outputs": []
    },
    {
      "cell_type": "markdown",
      "metadata": {
        "id": "dxaDxHN5dDLH"
      },
      "source": [
        "### 12  LAW_CAT_CD         object"
      ]
    },
    {
      "cell_type": "code",
      "metadata": {
        "id": "kmXlgdSeGBMm"
      },
      "source": [
        ""
      ],
      "execution_count": null,
      "outputs": []
    },
    {
      "cell_type": "code",
      "metadata": {
        "id": "SNddZBFdGEmG",
        "outputId": "f9898191-dd89-405b-fb9b-94bef1c02135",
        "colab": {
          "base_uri": "https://localhost:8080/"
        }
      },
      "source": [
        "df.LAW_CAT_CD.value_counts()"
      ],
      "execution_count": 126,
      "outputs": [
        {
          "output_type": "execute_result",
          "data": {
            "text/plain": [
              "MISDEMEANOR    4132690\n",
              "FELONY         2261367\n",
              "VIOLATION       958204\n",
              "Name: LAW_CAT_CD, dtype: int64"
            ]
          },
          "metadata": {
            "tags": []
          },
          "execution_count": 126
        }
      ]
    },
    {
      "cell_type": "code",
      "metadata": {
        "id": "ZGSY4h6T5mm7"
      },
      "source": [
        "df.LAW_CAT_CD = pd.Categorical(df.LAW_CAT_CD)"
      ],
      "execution_count": 127,
      "outputs": []
    },
    {
      "cell_type": "markdown",
      "metadata": {
        "id": "ktDmEg1cdE_v"
      },
      "source": [
        "### 16  JURIS_DESC         object\n",
        "### 17  JURISDICTION_CODE  object"
      ]
    },
    {
      "cell_type": "code",
      "metadata": {
        "id": "TzejOtEVHWAz"
      },
      "source": [
        ""
      ],
      "execution_count": null,
      "outputs": []
    },
    {
      "cell_type": "code",
      "metadata": {
        "id": "3ThnWZorJlvQ"
      },
      "source": [
        ""
      ],
      "execution_count": null,
      "outputs": []
    },
    {
      "cell_type": "code",
      "metadata": {
        "id": "Neev5NjGH4BN",
        "outputId": "40f9358d-7eda-4625-f21b-88cbc9872671",
        "colab": {
          "base_uri": "https://localhost:8080/"
        }
      },
      "source": [
        "df.JURISDICTION_CODE.isnull().sum()"
      ],
      "execution_count": 128,
      "outputs": [
        {
          "output_type": "execute_result",
          "data": {
            "text/plain": [
              "0"
            ]
          },
          "metadata": {
            "tags": []
          },
          "execution_count": 128
        }
      ]
    },
    {
      "cell_type": "code",
      "metadata": {
        "id": "IgUqAQzUHWD3",
        "outputId": "a572c2ef-61e6-4042-d9cc-35c7e6f717d7",
        "colab": {
          "base_uri": "https://localhost:8080/",
          "height": 824
        }
      },
      "source": [
        "df = df[ ~df.JURISDICTION_CODE.isnull() ]\n",
        "\n",
        "jusridiction = df[ [\"JURISDICTION_CODE\", \"JURIS_DESC\", ] ].drop_duplicates().dropna()\n",
        "jusridiction['JURISDICTION_CODE'] = pd.to_numeric(jusridiction['JURISDICTION_CODE'] )\n",
        "jusridiction['JURISDICTION_CODE'] = jusridiction['JURISDICTION_CODE'].astype(int)\n",
        "jusridiction = jusridiction.set_index(\"JURISDICTION_CODE\")\n",
        "jusridiction = jusridiction.sort_index()\n",
        "jusridiction = jusridiction.reset_index()\n",
        "jusridiction"
      ],
      "execution_count": 129,
      "outputs": [
        {
          "output_type": "execute_result",
          "data": {
            "text/html": [
              "<div>\n",
              "<style scoped>\n",
              "    .dataframe tbody tr th:only-of-type {\n",
              "        vertical-align: middle;\n",
              "    }\n",
              "\n",
              "    .dataframe tbody tr th {\n",
              "        vertical-align: top;\n",
              "    }\n",
              "\n",
              "    .dataframe thead th {\n",
              "        text-align: right;\n",
              "    }\n",
              "</style>\n",
              "<table border=\"1\" class=\"dataframe\">\n",
              "  <thead>\n",
              "    <tr style=\"text-align: right;\">\n",
              "      <th></th>\n",
              "      <th>JURISDICTION_CODE</th>\n",
              "      <th>JURIS_DESC</th>\n",
              "    </tr>\n",
              "  </thead>\n",
              "  <tbody>\n",
              "    <tr>\n",
              "      <th>0</th>\n",
              "      <td>0</td>\n",
              "      <td>N.Y. POLICE DEPT</td>\n",
              "    </tr>\n",
              "    <tr>\n",
              "      <th>1</th>\n",
              "      <td>1</td>\n",
              "      <td>N.Y. TRANSIT POLICE</td>\n",
              "    </tr>\n",
              "    <tr>\n",
              "      <th>2</th>\n",
              "      <td>2</td>\n",
              "      <td>N.Y. HOUSING POLICE</td>\n",
              "    </tr>\n",
              "    <tr>\n",
              "      <th>3</th>\n",
              "      <td>3</td>\n",
              "      <td>PORT AUTHORITY</td>\n",
              "    </tr>\n",
              "    <tr>\n",
              "      <th>4</th>\n",
              "      <td>4</td>\n",
              "      <td>TRI-BORO BRDG TUNNL</td>\n",
              "    </tr>\n",
              "    <tr>\n",
              "      <th>5</th>\n",
              "      <td>6</td>\n",
              "      <td>LONG ISLAND RAILRD</td>\n",
              "    </tr>\n",
              "    <tr>\n",
              "      <th>6</th>\n",
              "      <td>7</td>\n",
              "      <td>AMTRACK</td>\n",
              "    </tr>\n",
              "    <tr>\n",
              "      <th>7</th>\n",
              "      <td>8</td>\n",
              "      <td>CONRAIL</td>\n",
              "    </tr>\n",
              "    <tr>\n",
              "      <th>8</th>\n",
              "      <td>9</td>\n",
              "      <td>STATN IS RAPID TRANS</td>\n",
              "    </tr>\n",
              "    <tr>\n",
              "      <th>9</th>\n",
              "      <td>11</td>\n",
              "      <td>N.Y. STATE POLICE</td>\n",
              "    </tr>\n",
              "    <tr>\n",
              "      <th>10</th>\n",
              "      <td>12</td>\n",
              "      <td>N.Y. STATE PARKS</td>\n",
              "    </tr>\n",
              "    <tr>\n",
              "      <th>11</th>\n",
              "      <td>13</td>\n",
              "      <td>U.S. PARK POLICE</td>\n",
              "    </tr>\n",
              "    <tr>\n",
              "      <th>12</th>\n",
              "      <td>14</td>\n",
              "      <td>HEALTH &amp; HOSP CORP</td>\n",
              "    </tr>\n",
              "    <tr>\n",
              "      <th>13</th>\n",
              "      <td>15</td>\n",
              "      <td>METRO NORTH</td>\n",
              "    </tr>\n",
              "    <tr>\n",
              "      <th>14</th>\n",
              "      <td>16</td>\n",
              "      <td>SEA GATE POLICE DEPT</td>\n",
              "    </tr>\n",
              "    <tr>\n",
              "      <th>15</th>\n",
              "      <td>69</td>\n",
              "      <td>POLICE DEPT NYC</td>\n",
              "    </tr>\n",
              "    <tr>\n",
              "      <th>16</th>\n",
              "      <td>71</td>\n",
              "      <td>FIRE DEPT (FIRE MARSHAL)</td>\n",
              "    </tr>\n",
              "    <tr>\n",
              "      <th>17</th>\n",
              "      <td>72</td>\n",
              "      <td>DEPT OF CORRECTIONS</td>\n",
              "    </tr>\n",
              "    <tr>\n",
              "      <th>18</th>\n",
              "      <td>73</td>\n",
              "      <td>DISTRICT ATTORNEY OFFICE</td>\n",
              "    </tr>\n",
              "    <tr>\n",
              "      <th>19</th>\n",
              "      <td>76</td>\n",
              "      <td>NYC DEPT ENVIRONMENTAL PROTECTION</td>\n",
              "    </tr>\n",
              "    <tr>\n",
              "      <th>20</th>\n",
              "      <td>79</td>\n",
              "      <td>NYS DEPT ENVIRONMENTAL CONSERVATION</td>\n",
              "    </tr>\n",
              "    <tr>\n",
              "      <th>21</th>\n",
              "      <td>85</td>\n",
              "      <td>NYS DEPT TAX AND FINANCE</td>\n",
              "    </tr>\n",
              "    <tr>\n",
              "      <th>22</th>\n",
              "      <td>87</td>\n",
              "      <td>NEW YORK CITY SHERIFF OFFICE</td>\n",
              "    </tr>\n",
              "    <tr>\n",
              "      <th>23</th>\n",
              "      <td>88</td>\n",
              "      <td>NYC PARKS</td>\n",
              "    </tr>\n",
              "    <tr>\n",
              "      <th>24</th>\n",
              "      <td>97</td>\n",
              "      <td>OTHER</td>\n",
              "    </tr>\n",
              "  </tbody>\n",
              "</table>\n",
              "</div>"
            ],
            "text/plain": [
              "    JURISDICTION_CODE                           JURIS_DESC\n",
              "0                   0                     N.Y. POLICE DEPT\n",
              "1                   1                  N.Y. TRANSIT POLICE\n",
              "2                   2                  N.Y. HOUSING POLICE\n",
              "3                   3                       PORT AUTHORITY\n",
              "4                   4                  TRI-BORO BRDG TUNNL\n",
              "5                   6                   LONG ISLAND RAILRD\n",
              "6                   7                              AMTRACK\n",
              "7                   8                              CONRAIL\n",
              "8                   9                 STATN IS RAPID TRANS\n",
              "9                  11                    N.Y. STATE POLICE\n",
              "10                 12                     N.Y. STATE PARKS\n",
              "11                 13                     U.S. PARK POLICE\n",
              "12                 14                   HEALTH & HOSP CORP\n",
              "13                 15                          METRO NORTH\n",
              "14                 16                 SEA GATE POLICE DEPT\n",
              "15                 69                      POLICE DEPT NYC\n",
              "16                 71             FIRE DEPT (FIRE MARSHAL)\n",
              "17                 72                  DEPT OF CORRECTIONS\n",
              "18                 73             DISTRICT ATTORNEY OFFICE\n",
              "19                 76    NYC DEPT ENVIRONMENTAL PROTECTION\n",
              "20                 79  NYS DEPT ENVIRONMENTAL CONSERVATION\n",
              "21                 85             NYS DEPT TAX AND FINANCE\n",
              "22                 87         NEW YORK CITY SHERIFF OFFICE\n",
              "23                 88                            NYC PARKS\n",
              "24                 97                                OTHER"
            ]
          },
          "metadata": {
            "tags": []
          },
          "execution_count": 129
        }
      ]
    },
    {
      "cell_type": "code",
      "metadata": {
        "id": "j1LMjSO4JzqC"
      },
      "source": [
        "df.JURISDICTION_CODE = pd.Categorical(df.JURISDICTION_CODE)\n"
      ],
      "execution_count": 130,
      "outputs": []
    },
    {
      "cell_type": "code",
      "metadata": {
        "id": "7ZKEI7n2KP91"
      },
      "source": [
        "df = df.drop('JURIS_DESC', axis='columns')"
      ],
      "execution_count": 131,
      "outputs": []
    },
    {
      "cell_type": "markdown",
      "metadata": {
        "id": "lo9tm9godHgO"
      },
      "source": [
        "###  13  BORO_NM            object"
      ]
    },
    {
      "cell_type": "code",
      "metadata": {
        "id": "VhMsTiCdKmlW"
      },
      "source": [
        ""
      ],
      "execution_count": null,
      "outputs": []
    },
    {
      "cell_type": "code",
      "metadata": {
        "id": "ENjhOe0dKmoY",
        "outputId": "dd58988c-580a-4cb3-df79-de46026f997e",
        "colab": {
          "base_uri": "https://localhost:8080/"
        }
      },
      "source": [
        "df.BORO_NM.value_counts()"
      ],
      "execution_count": 132,
      "outputs": [
        {
          "output_type": "execute_result",
          "data": {
            "text/plain": [
              "BROOKLYN         2181583\n",
              "MANHATTAN        1767367\n",
              "BRONX            1596348\n",
              "QUEENS           1459678\n",
              "STATEN ISLAND     342235\n",
              "Name: BORO_NM, dtype: int64"
            ]
          },
          "metadata": {
            "tags": []
          },
          "execution_count": 132
        }
      ]
    },
    {
      "cell_type": "code",
      "metadata": {
        "id": "1k5gkaPcKyc3",
        "outputId": "c95923ef-80c7-46a4-cee1-7158c02afee4",
        "colab": {
          "base_uri": "https://localhost:8080/"
        }
      },
      "source": [
        "df.BORO_NM.isnull().sum()"
      ],
      "execution_count": 133,
      "outputs": [
        {
          "output_type": "execute_result",
          "data": {
            "text/plain": [
              "5050"
            ]
          },
          "metadata": {
            "tags": []
          },
          "execution_count": 133
        }
      ]
    },
    {
      "cell_type": "code",
      "metadata": {
        "id": "QycD04zYKsYv"
      },
      "source": [
        "df = df[~df.BORO_NM.isnull()]"
      ],
      "execution_count": 134,
      "outputs": []
    },
    {
      "cell_type": "code",
      "metadata": {
        "id": "BOy4IDT-Kmqx"
      },
      "source": [
        "df.BORO_NM = pd.Categorical(df.BORO_NM)"
      ],
      "execution_count": 135,
      "outputs": []
    },
    {
      "cell_type": "markdown",
      "metadata": {
        "id": "dYetoWeydJBI"
      },
      "source": [
        "### 23  SUSP_AGE_GROUP     object\n",
        "### 32  VIC_AGE_GROUP      object"
      ]
    },
    {
      "cell_type": "code",
      "metadata": {
        "id": "ckMUf1KELJ4b"
      },
      "source": [
        "\n"
      ],
      "execution_count": null,
      "outputs": []
    },
    {
      "cell_type": "code",
      "metadata": {
        "id": "uB6ZXLgxN9mv"
      },
      "source": [
        "# Both columns have a lot of noisy entries. We keep only the dominant groups, and also define an order\n",
        "df.SUSP_AGE_GROUP = pd.Categorical(df.SUSP_AGE_GROUP, ordered=True, categories=['<18', '18-24',  '25-44', '45-64', '65+'])\n",
        "df.VIC_AGE_GROUP = pd.Categorical(df.VIC_AGE_GROUP, ordered=True, categories=['<18', '18-24',  '25-44', '45-64', '65+'])"
      ],
      "execution_count": 136,
      "outputs": []
    },
    {
      "cell_type": "markdown",
      "metadata": {
        "id": "dzbRUBNidLui"
      },
      "source": [
        "\n",
        "### 24  SUSP_RACE          object\n",
        "### 25  SUSP_SEX           object\n",
        "\n",
        "### 33  VIC_RACE           object\n",
        "### 34  VIC_SEX            object"
      ]
    },
    {
      "cell_type": "code",
      "metadata": {
        "id": "AbvNhUSHLWyX",
        "outputId": "15ffb448-976d-4101-e992-f9ee448298fe",
        "colab": {
          "base_uri": "https://localhost:8080/"
        }
      },
      "source": [
        "df.VIC_SEX.isnull().sum()"
      ],
      "execution_count": 137,
      "outputs": [
        {
          "output_type": "execute_result",
          "data": {
            "text/plain": [
              "305"
            ]
          },
          "metadata": {
            "tags": []
          },
          "execution_count": 137
        }
      ]
    },
    {
      "cell_type": "code",
      "metadata": {
        "id": "90z-XtBmL7Y_",
        "outputId": "cc3bef21-bde4-493e-8f4a-2a2bbd595824",
        "colab": {
          "base_uri": "https://localhost:8080/"
        }
      },
      "source": [
        "df.VIC_SEX.value_counts()"
      ],
      "execution_count": 138,
      "outputs": [
        {
          "output_type": "execute_result",
          "data": {
            "text/plain": [
              "F    2876754\n",
              "M    2422388\n",
              "E    1148296\n",
              "D     899468\n",
              "Name: VIC_SEX, dtype: int64"
            ]
          },
          "metadata": {
            "tags": []
          },
          "execution_count": 138
        }
      ]
    },
    {
      "cell_type": "code",
      "metadata": {
        "id": "f90mE8bAMCbq"
      },
      "source": [
        "df = df[~df.VIC_SEX.isnull()]"
      ],
      "execution_count": 139,
      "outputs": []
    },
    {
      "cell_type": "code",
      "metadata": {
        "id": "A6-wR3QDLW1k",
        "outputId": "9feeb67d-203b-42fa-e7af-b1f976e67be5",
        "colab": {
          "base_uri": "https://localhost:8080/"
        }
      },
      "source": [
        "df.VIC_RACE.isnull().sum()"
      ],
      "execution_count": 140,
      "outputs": [
        {
          "output_type": "execute_result",
          "data": {
            "text/plain": [
              "1"
            ]
          },
          "metadata": {
            "tags": []
          },
          "execution_count": 140
        }
      ]
    },
    {
      "cell_type": "code",
      "metadata": {
        "id": "646VVWqpLv3m",
        "outputId": "67811d7f-572a-4335-ff99-6dbc359aba63",
        "colab": {
          "base_uri": "https://localhost:8080/"
        }
      },
      "source": [
        "df.VIC_RACE.value_counts()"
      ],
      "execution_count": 141,
      "outputs": [
        {
          "output_type": "execute_result",
          "data": {
            "text/plain": [
              "UNKNOWN                           2426327\n",
              "BLACK                             1761427\n",
              "WHITE                             1263619\n",
              "WHITE HISPANIC                    1186974\n",
              "ASIAN / PACIFIC ISLANDER           425349\n",
              "BLACK HISPANIC                     249841\n",
              "AMERICAN INDIAN/ALASKAN NATIVE      33337\n",
              "OTHER                                  31\n",
              "Name: VIC_RACE, dtype: int64"
            ]
          },
          "metadata": {
            "tags": []
          },
          "execution_count": 141
        }
      ]
    },
    {
      "cell_type": "code",
      "metadata": {
        "id": "U-JOiwNLNnwA"
      },
      "source": [
        "df.VIC_RACE.replace(to_replace = 'OTHER', value='UNKNOWN', inplace = True)"
      ],
      "execution_count": 142,
      "outputs": []
    },
    {
      "cell_type": "code",
      "metadata": {
        "id": "CIc279r6LzH2"
      },
      "source": [
        "df = df[~df.VIC_RACE.isnull()]"
      ],
      "execution_count": 143,
      "outputs": []
    },
    {
      "cell_type": "code",
      "metadata": {
        "id": "sXZiVydvLW7B",
        "outputId": "95c0d415-bb30-4333-f690-a4a7ed6f221a",
        "colab": {
          "base_uri": "https://localhost:8080/"
        }
      },
      "source": [
        "df.SUSP_SEX.value_counts()"
      ],
      "execution_count": 144,
      "outputs": [
        {
          "output_type": "execute_result",
          "data": {
            "text/plain": [
              "M    2383624\n",
              "F     753795\n",
              "U     661168\n",
              "Name: SUSP_SEX, dtype: int64"
            ]
          },
          "metadata": {
            "tags": []
          },
          "execution_count": 144
        }
      ]
    },
    {
      "cell_type": "code",
      "metadata": {
        "id": "uqOaUJwGOY8A"
      },
      "source": [
        "# U is unknown, same is NULL.\n",
        "df.SUSP_SEX.replace(to_replace = 'U', value=np.nan, inplace = True)"
      ],
      "execution_count": 145,
      "outputs": []
    },
    {
      "cell_type": "code",
      "metadata": {
        "id": "GT09OkMvLf0s",
        "outputId": "b38c6ae8-caea-4bab-e5e6-ede0a63c3495",
        "colab": {
          "base_uri": "https://localhost:8080/"
        }
      },
      "source": [
        "df.SUSP_RACE.value_counts()"
      ],
      "execution_count": 146,
      "outputs": [
        {
          "output_type": "execute_result",
          "data": {
            "text/plain": [
              "BLACK                             1466527\n",
              "UNKNOWN                           1028922\n",
              "WHITE HISPANIC                     666833\n",
              "WHITE                              428768\n",
              "BLACK HISPANIC                     202788\n",
              "ASIAN / PACIFIC ISLANDER           125918\n",
              "AMERICAN INDIAN/ALASKAN NATIVE      11870\n",
              "OTHER                                  11\n",
              "Name: SUSP_RACE, dtype: int64"
            ]
          },
          "metadata": {
            "tags": []
          },
          "execution_count": 146
        }
      ]
    },
    {
      "cell_type": "code",
      "metadata": {
        "id": "uNrpuX5cO2jD"
      },
      "source": [
        "# Very small amount of OTHER values\n",
        "df.SUSP_RACE.replace(to_replace = 'OTHER', value='UNKNOWN', inplace = True)\n",
        "\n"
      ],
      "execution_count": 147,
      "outputs": []
    },
    {
      "cell_type": "code",
      "metadata": {
        "id": "cnsudHdiminz"
      },
      "source": [
        "df.SUSP_RACE = pd.Categorical(df.SUSP_RACE)\n",
        "df.SUSP_SEX = pd.Categorical(df.SUSP_SEX)\n",
        "df.VIC_RACE = pd.Categorical(df.VIC_RACE)\n",
        "df.VIC_SEX = pd.Categorical(df.VIC_SEX)"
      ],
      "execution_count": 148,
      "outputs": []
    },
    {
      "cell_type": "code",
      "metadata": {
        "id": "QHtE9IhgmM4r",
        "outputId": "011c41b1-f961-488f-eab9-b06da43c884a",
        "colab": {
          "base_uri": "https://localhost:8080/"
        }
      },
      "source": [
        "df.dtypes"
      ],
      "execution_count": 149,
      "outputs": [
        {
          "output_type": "execute_result",
          "data": {
            "text/plain": [
              "CMPLNT_NUM                    int32\n",
              "ADDR_PCT_CD                category\n",
              "RPT_DT               datetime64[ns]\n",
              "KY_CD                      category\n",
              "PD_CD                      category\n",
              "CRM_ATPT_CPTD_CD           category\n",
              "LAW_CAT_CD                 category\n",
              "BORO_NM                    category\n",
              "LOC_OF_OCCUR_DESC            object\n",
              "PREM_TYP_DESC                object\n",
              "JURISDICTION_CODE          category\n",
              "PARKS_NM                     object\n",
              "HADEVELOPT                   object\n",
              "HOUSING_PSA                  object\n",
              "SUSP_AGE_GROUP             category\n",
              "SUSP_RACE                  category\n",
              "SUSP_SEX                   category\n",
              "TRANSIT_DISTRICT             object\n",
              "Latitude                     object\n",
              "Longitude                    object\n",
              "PATROL_BORO                  object\n",
              "STATION_NAME                 object\n",
              "VIC_AGE_GROUP              category\n",
              "VIC_RACE                   category\n",
              "VIC_SEX                    category\n",
              "CMPLNT_FR            datetime64[ns]\n",
              "CMPLNT_TO            datetime64[ns]\n",
              "dtype: object"
            ]
          },
          "metadata": {
            "tags": []
          },
          "execution_count": 149
        }
      ]
    },
    {
      "cell_type": "code",
      "metadata": {
        "id": "oefs7ULfLq_3"
      },
      "source": [
        ""
      ],
      "execution_count": null,
      "outputs": []
    },
    {
      "cell_type": "markdown",
      "metadata": {
        "id": "hwqg7JDimsZL"
      },
      "source": [
        "###  14  LOC_OF_OCCUR_DESC  object"
      ]
    },
    {
      "cell_type": "code",
      "metadata": {
        "id": "FjndFTaaLrCz",
        "outputId": "8fc0cb31-94e8-4b92-f6a2-de6429e6ec18",
        "colab": {
          "base_uri": "https://localhost:8080/"
        }
      },
      "source": [
        "df.LOC_OF_OCCUR_DESC.value_counts()"
      ],
      "execution_count": 150,
      "outputs": [
        {
          "output_type": "execute_result",
          "data": {
            "text/plain": [
              "INSIDE         3731560\n",
              "FRONT OF       1723348\n",
              "OPPOSITE OF     195415\n",
              "REAR OF         156959\n",
              "Name: LOC_OF_OCCUR_DESC, dtype: int64"
            ]
          },
          "metadata": {
            "tags": []
          },
          "execution_count": 150
        }
      ]
    },
    {
      "cell_type": "code",
      "metadata": {
        "id": "uwyM4dbHUNZ4",
        "outputId": "2086c01a-0076-449f-82a6-1d19670ba3fb",
        "colab": {
          "base_uri": "https://localhost:8080/"
        }
      },
      "source": [
        "df.LOC_OF_OCCUR_DESC.isnull().sum()"
      ],
      "execution_count": 151,
      "outputs": [
        {
          "output_type": "execute_result",
          "data": {
            "text/plain": [
              "1539623"
            ]
          },
          "metadata": {
            "tags": []
          },
          "execution_count": 151
        }
      ]
    },
    {
      "cell_type": "code",
      "metadata": {
        "id": "BYD6exvDURk0"
      },
      "source": [
        "df.LOC_OF_OCCUR_DESC = pd.Categorical(df.LOC_OF_OCCUR_DESC)"
      ],
      "execution_count": 152,
      "outputs": []
    },
    {
      "cell_type": "markdown",
      "metadata": {
        "id": "aXmyNo52mz3j"
      },
      "source": [
        "### Latitude                     object\n",
        "### Longitude                    object"
      ]
    },
    {
      "cell_type": "code",
      "metadata": {
        "id": "U9no8KCH5mm9"
      },
      "source": [
        "df.Latitude = pd.to_numeric(df.Latitude, downcast='float')\n",
        "df.Longitude  = pd.to_numeric(df.Longitude, downcast='float')"
      ],
      "execution_count": 153,
      "outputs": []
    },
    {
      "cell_type": "markdown",
      "metadata": {
        "id": "SxPNYJESnn68"
      },
      "source": [
        "### TRANSIT_DISTRICT"
      ]
    },
    {
      "cell_type": "code",
      "metadata": {
        "id": "6Ctiw97bJqLO",
        "outputId": "0333d0d7-e6ac-4226-f381-3cd866ae540e",
        "colab": {
          "base_uri": "https://localhost:8080/"
        }
      },
      "source": [
        "df.TRANSIT_DISTRICT.value_counts()\n"
      ],
      "execution_count": 154,
      "outputs": [
        {
          "output_type": "execute_result",
          "data": {
            "text/plain": [
              "4     27672\n",
              "2     20128\n",
              "1     15756\n",
              "3     15755\n",
              "20    14400\n",
              "33    14328\n",
              "12    12193\n",
              "11    11124\n",
              "32    11050\n",
              "30    10462\n",
              "34     7188\n",
              "23     2687\n",
              "Name: TRANSIT_DISTRICT, dtype: int64"
            ]
          },
          "metadata": {
            "tags": []
          },
          "execution_count": 154
        }
      ]
    },
    {
      "cell_type": "code",
      "metadata": {
        "id": "emgAO7T_nVqt",
        "outputId": "d035f0a7-9312-42a0-842e-d10497405edc",
        "colab": {
          "base_uri": "https://localhost:8080/"
        }
      },
      "source": [
        "len(df) - df.TRANSIT_DISTRICT.isnull().sum()"
      ],
      "execution_count": 155,
      "outputs": [
        {
          "output_type": "execute_result",
          "data": {
            "text/plain": [
              "162743"
            ]
          },
          "metadata": {
            "tags": []
          },
          "execution_count": 155
        }
      ]
    },
    {
      "cell_type": "code",
      "metadata": {
        "id": "9EPb-B-dnPQs"
      },
      "source": [
        "df.drop('TRANSIT_DISTRICT', axis='columns', inplace=True)\n"
      ],
      "execution_count": 156,
      "outputs": []
    },
    {
      "cell_type": "code",
      "metadata": {
        "id": "9lVv1_Bgn27Z"
      },
      "source": [
        ""
      ],
      "execution_count": null,
      "outputs": []
    },
    {
      "cell_type": "markdown",
      "metadata": {
        "id": "H7KUUobwoXxV"
      },
      "source": [
        "### PREM_TYP_DESC"
      ]
    },
    {
      "cell_type": "code",
      "metadata": {
        "id": "rq9toKCIn2-T",
        "outputId": "dddf01c1-afc1-4efd-b277-c1971b7a17f7",
        "colab": {
          "base_uri": "https://localhost:8080/"
        }
      },
      "source": [
        "df.PREM_TYP_DESC.value_counts()"
      ],
      "execution_count": 157,
      "outputs": [
        {
          "output_type": "execute_result",
          "data": {
            "text/plain": [
              "STREET                        2347358\n",
              "RESIDENCE - APT. HOUSE        1558412\n",
              "RESIDENCE-HOUSE                723117\n",
              "RESIDENCE - PUBLIC HOUSING     551829\n",
              "OTHER                          199061\n",
              "                               ...   \n",
              "CEMETERY                          854\n",
              "MAILBOX INSIDE                    689\n",
              "LOAN COMPANY                      492\n",
              "TRAMWAY                           138\n",
              "DAYCARE FACILITY                   53\n",
              "Name: PREM_TYP_DESC, Length: 74, dtype: int64"
            ]
          },
          "metadata": {
            "tags": []
          },
          "execution_count": 157
        }
      ]
    },
    {
      "cell_type": "code",
      "metadata": {
        "id": "OgVlI2Bkoacb",
        "outputId": "d7c69852-d6a4-4976-8271-0a3ae65067f8",
        "colab": {
          "base_uri": "https://localhost:8080/"
        }
      },
      "source": [
        "df.PREM_TYP_DESC.isnull().sum()"
      ],
      "execution_count": 158,
      "outputs": [
        {
          "output_type": "execute_result",
          "data": {
            "text/plain": [
              "33965"
            ]
          },
          "metadata": {
            "tags": []
          },
          "execution_count": 158
        }
      ]
    },
    {
      "cell_type": "code",
      "metadata": {
        "id": "lDXJNcnmodu9"
      },
      "source": [
        "df = df [~df.PREM_TYP_DESC.isnull()]"
      ],
      "execution_count": 159,
      "outputs": []
    },
    {
      "cell_type": "code",
      "metadata": {
        "id": "NJ30D6uLogxw"
      },
      "source": [
        "df.PREM_TYP_DESC = pd.Categorical(df.PREM_TYP_DESC)"
      ],
      "execution_count": 160,
      "outputs": []
    },
    {
      "cell_type": "code",
      "metadata": {
        "id": "RTVAo24bn6jc",
        "outputId": "65da76fb-a2fc-4255-d30a-4a02d4cae734",
        "colab": {
          "base_uri": "https://localhost:8080/"
        }
      },
      "source": [
        "df.PARKS_NM.value_counts()"
      ],
      "execution_count": 161,
      "outputs": [
        {
          "output_type": "execute_result",
          "data": {
            "text/plain": [
              "CENTRAL PARK                      1635\n",
              "FLUSHING MEADOWS CORONA PARK      1307\n",
              "CONEY ISLAND BEACH & BOARDWALK    1059\n",
              "WASHINGTON SQUARE PARK             775\n",
              "RIVERSIDE PARK                     614\n",
              "                                  ... \n",
              "WORTH SQUARE                         1\n",
              "FLOOD TRIANGLE                       1\n",
              "SUMPTER COMMUNITY GARDEN             1\n",
              "KIMLAU SQUARE                        1\n",
              "BARCLAY TRIANGLE                     1\n",
              "Name: PARKS_NM, Length: 1205, dtype: int64"
            ]
          },
          "metadata": {
            "tags": []
          },
          "execution_count": 161
        }
      ]
    },
    {
      "cell_type": "code",
      "metadata": {
        "id": "ww2KnUq3n6oV",
        "outputId": "f6f65f07-7cec-44f1-ee01-6f67e9b544d3",
        "colab": {
          "base_uri": "https://localhost:8080/"
        }
      },
      "source": [
        "df.PARKS_NM.value_counts().sum()"
      ],
      "execution_count": 162,
      "outputs": [
        {
          "output_type": "execute_result",
          "data": {
            "text/plain": [
              "27556"
            ]
          },
          "metadata": {
            "tags": []
          },
          "execution_count": 162
        }
      ]
    },
    {
      "cell_type": "code",
      "metadata": {
        "id": "lHVCmdVjol2_"
      },
      "source": [
        "df.drop('PARKS_NM', axis='columns', inplace=True)\n"
      ],
      "execution_count": 163,
      "outputs": []
    },
    {
      "cell_type": "markdown",
      "metadata": {
        "id": "QYM6H0Cxoslu"
      },
      "source": [
        "\n",
        " 19  HADEVELOPT         object\n"
      ]
    },
    {
      "cell_type": "code",
      "metadata": {
        "id": "xAvDJEChowug",
        "outputId": "3d6be8e5-cc7f-4ad5-be4f-fecf503ae526",
        "colab": {
          "base_uri": "https://localhost:8080/"
        }
      },
      "source": [
        "df.HADEVELOPT.value_counts()"
      ],
      "execution_count": 164,
      "outputs": [
        {
          "output_type": "execute_result",
          "data": {
            "text/plain": [
              "CASTLE HILL                                    7510\n",
              "VAN DYKE I                                     6072\n",
              "MARCY                                          5566\n",
              "GRANT                                          5182\n",
              "BUTLER                                         5146\n",
              "                                               ... \n",
              "1010 EAST 178TH STREET                            1\n",
              "344 EAST 28TH STREET                              1\n",
              "FULTON                                            1\n",
              "FRANKLIN AVENUE III MHOP                          1\n",
              "FOREST HILLS COOP (108TH STREET-62ND DRIVE)       1\n",
              "Name: HADEVELOPT, Length: 278, dtype: int64"
            ]
          },
          "metadata": {
            "tags": []
          },
          "execution_count": 164
        }
      ]
    },
    {
      "cell_type": "code",
      "metadata": {
        "id": "t_7EV6nUpPdR"
      },
      "source": [
        "df.drop('HADEVELOPT', axis='columns', inplace=True)\n"
      ],
      "execution_count": 165,
      "outputs": []
    },
    {
      "cell_type": "markdown",
      "metadata": {
        "id": "tdTW65d2ospC"
      },
      "source": [
        " 20  HOUSING_PSA        object\n",
        "\n"
      ]
    },
    {
      "cell_type": "code",
      "metadata": {
        "id": "jUY6bR2xoxHV",
        "outputId": "db55b43b-0294-40cb-9b59-013f551c9cbb",
        "colab": {
          "base_uri": "https://localhost:8080/"
        }
      },
      "source": [
        "df.HOUSING_PSA.value_counts()"
      ],
      "execution_count": 166,
      "outputs": [
        {
          "output_type": "execute_result",
          "data": {
            "text/plain": [
              "670      7316\n",
              "887      7236\n",
              "845      6659\n",
              "720      6458\n",
              "632      6316\n",
              "         ... \n",
              "45544       1\n",
              "26567       1\n",
              "56822       1\n",
              "628         1\n",
              "5093        1\n",
              "Name: HOUSING_PSA, Length: 5003, dtype: int64"
            ]
          },
          "metadata": {
            "tags": []
          },
          "execution_count": 166
        }
      ]
    },
    {
      "cell_type": "code",
      "metadata": {
        "id": "ltCXjSHFpVAx",
        "outputId": "f923f3a3-42d7-4c57-ecd5-a2b7918d6ca6",
        "colab": {
          "base_uri": "https://localhost:8080/"
        }
      },
      "source": [
        "df.HOUSING_PSA.value_counts().sum()"
      ],
      "execution_count": 167,
      "outputs": [
        {
          "output_type": "execute_result",
          "data": {
            "text/plain": [
              "563532"
            ]
          },
          "metadata": {
            "tags": []
          },
          "execution_count": 167
        }
      ]
    },
    {
      "cell_type": "code",
      "metadata": {
        "id": "r79Mo80tpXoG"
      },
      "source": [
        "df.drop('HOUSING_PSA', axis='columns', inplace=True)"
      ],
      "execution_count": 168,
      "outputs": []
    },
    {
      "cell_type": "markdown",
      "metadata": {
        "id": "Zj3ZTvXIosrk"
      },
      "source": [
        " 30  PATROL_BORO        object\n"
      ]
    },
    {
      "cell_type": "code",
      "metadata": {
        "id": "qushxX_YoxiI",
        "outputId": "8f345d33-0a9a-4cec-b9af-0f90a9674cd9",
        "colab": {
          "base_uri": "https://localhost:8080/"
        }
      },
      "source": [
        "df.PATROL_BORO.value_counts()"
      ],
      "execution_count": 169,
      "outputs": [
        {
          "output_type": "execute_result",
          "data": {
            "text/plain": [
              "PATROL BORO BRONX            1588470\n",
              "PATROL BORO BKLYN SOUTH      1089337\n",
              "PATROL BORO BKLYN NORTH      1085227\n",
              "PATROL BORO MAN SOUTH         882224\n",
              "PATROL BORO MAN NORTH         870375\n",
              "PATROL BORO QUEENS NORTH      751939\n",
              "PATROL BORO QUEENS SOUTH      704341\n",
              "PATROL BORO STATEN ISLAND     340951\n",
              "Name: PATROL_BORO, dtype: int64"
            ]
          },
          "metadata": {
            "tags": []
          },
          "execution_count": 169
        }
      ]
    },
    {
      "cell_type": "code",
      "metadata": {
        "id": "X5q3w0T1pcuI"
      },
      "source": [
        "df.PATROL_BORO = pd.Categorical(df.PATROL_BORO)"
      ],
      "execution_count": 170,
      "outputs": []
    },
    {
      "cell_type": "code",
      "metadata": {
        "id": "K1YegskOpjTj",
        "outputId": "8b7beb2c-38e4-4d00-975a-09e2f4132f0b",
        "colab": {
          "base_uri": "https://localhost:8080/"
        }
      },
      "source": [
        "df.PATROL_BORO.isnull().sum()"
      ],
      "execution_count": 171,
      "outputs": [
        {
          "output_type": "execute_result",
          "data": {
            "text/plain": [
              "76"
            ]
          },
          "metadata": {
            "tags": []
          },
          "execution_count": 171
        }
      ]
    },
    {
      "cell_type": "code",
      "metadata": {
        "id": "UNPb3rYLpoNl"
      },
      "source": [
        "df = df[~df.PATROL_BORO.isnull()] "
      ],
      "execution_count": 172,
      "outputs": []
    },
    {
      "cell_type": "markdown",
      "metadata": {
        "id": "MJHh-VXrosuV"
      },
      "source": [
        " 31  STATION_NAME       object"
      ]
    },
    {
      "cell_type": "code",
      "metadata": {
        "id": "ygz6QMTqoyBi",
        "outputId": "ef0a4210-3504-475a-bd33-ae88bd5bc3b4",
        "colab": {
          "base_uri": "https://localhost:8080/"
        }
      },
      "source": [
        "df.STATION_NAME.value_counts()"
      ],
      "execution_count": 173,
      "outputs": [
        {
          "output_type": "execute_result",
          "data": {
            "text/plain": [
              "125 STREET                        8152\n",
              "14 STREET                         4498\n",
              "34 ST.-PENN STATION               3778\n",
              "42 ST.-PORT AUTHORITY BUS TERM    3728\n",
              "116 STREET                        3302\n",
              "                                  ... \n",
              "DISTRICT 30 OFFICE                  17\n",
              "DISTRICT 12 OFFICE                  17\n",
              "DISTRICT 34 OFFICE                  13\n",
              "DISTRICT 23 OFFICE                   6\n",
              "OFF-SYSTEM                           4\n",
              "Name: STATION_NAME, Length: 372, dtype: int64"
            ]
          },
          "metadata": {
            "tags": []
          },
          "execution_count": 173
        }
      ]
    },
    {
      "cell_type": "code",
      "metadata": {
        "id": "dXsnUC56pvuI",
        "outputId": "554ab8fb-e7fd-400a-aefe-4ce37859e5c3",
        "colab": {
          "base_uri": "https://localhost:8080/"
        }
      },
      "source": [
        "df.STATION_NAME.isnull().sum()"
      ],
      "execution_count": 174,
      "outputs": [
        {
          "output_type": "execute_result",
          "data": {
            "text/plain": [
              "7151424"
            ]
          },
          "metadata": {
            "tags": []
          },
          "execution_count": 174
        }
      ]
    },
    {
      "cell_type": "code",
      "metadata": {
        "id": "o5eP2Ha8pznx"
      },
      "source": [
        "df.drop('STATION_NAME', axis='columns', inplace=True)"
      ],
      "execution_count": 175,
      "outputs": []
    },
    {
      "cell_type": "code",
      "metadata": {
        "id": "zfCHXyE_5mm8",
        "colab": {
          "base_uri": "https://localhost:8080/"
        },
        "outputId": "b70d2929-cbfb-47fb-bfca-509f3890083a"
      },
      "source": [
        "df.info()"
      ],
      "execution_count": 176,
      "outputs": [
        {
          "output_type": "stream",
          "text": [
            "<class 'pandas.core.frame.DataFrame'>\n",
            "Int64Index: 7312864 entries, 0 to 7396618\n",
            "Data columns (total 22 columns):\n",
            " #   Column             Dtype         \n",
            "---  ------             -----         \n",
            " 0   CMPLNT_NUM         int32         \n",
            " 1   ADDR_PCT_CD        category      \n",
            " 2   RPT_DT             datetime64[ns]\n",
            " 3   KY_CD              category      \n",
            " 4   PD_CD              category      \n",
            " 5   CRM_ATPT_CPTD_CD   category      \n",
            " 6   LAW_CAT_CD         category      \n",
            " 7   BORO_NM            category      \n",
            " 8   LOC_OF_OCCUR_DESC  category      \n",
            " 9   PREM_TYP_DESC      category      \n",
            " 10  JURISDICTION_CODE  category      \n",
            " 11  SUSP_AGE_GROUP     category      \n",
            " 12  SUSP_RACE          category      \n",
            " 13  SUSP_SEX           category      \n",
            " 14  Latitude           float32       \n",
            " 15  Longitude          float32       \n",
            " 16  PATROL_BORO        category      \n",
            " 17  VIC_AGE_GROUP      category      \n",
            " 18  VIC_RACE           category      \n",
            " 19  VIC_SEX            category      \n",
            " 20  CMPLNT_FR          datetime64[ns]\n",
            " 21  CMPLNT_TO          datetime64[ns]\n",
            "dtypes: category(16), datetime64[ns](3), float32(2), int32(1)\n",
            "memory usage: 425.5 MB\n"
          ],
          "name": "stdout"
        }
      ]
    },
    {
      "cell_type": "code",
      "metadata": {
        "id": "rBJBYf9g5mm9"
      },
      "source": [
        ""
      ],
      "execution_count": null,
      "outputs": []
    },
    {
      "cell_type": "markdown",
      "metadata": {
        "id": "haa-38oP5mm9"
      },
      "source": [
        "## Data exploration\n",
        "\n",
        "In this part we check the different values that appear in the columns. When we detect noisy results, we delete the corresponding values. In fact, many of the operations that are performed above, in the 'data cleaning' section, are the result of observations that we make here. "
      ]
    },
    {
      "cell_type": "code",
      "metadata": {
        "id": "69cO2qRn5mm-",
        "colab": {
          "base_uri": "https://localhost:8080/"
        },
        "outputId": "d03b8794-2284-432f-8cce-a9bf0e55c350"
      },
      "source": [
        "# Find the unique values in each column\n",
        "# \n",
        "# df.describe(include = [np.object, 'category']).T['unique']\n",
        "unique = df.describe(include = 'all').T['unique'].sort_values()"
      ],
      "execution_count": 177,
      "outputs": [
        {
          "output_type": "stream",
          "text": [
            "/usr/local/lib/python3.7/dist-packages/ipykernel_launcher.py:4: FutureWarning: Treating datetime data as categorical rather than numeric in `.describe` is deprecated and will be removed in a future version of pandas. Specify `datetime_is_numeric=True` to silence this warning and adopt the future behavior now.\n",
            "  after removing the cwd from sys.path.\n",
            "/usr/local/lib/python3.7/dist-packages/ipykernel_launcher.py:4: FutureWarning: Treating datetime data as categorical rather than numeric in `.describe` is deprecated and will be removed in a future version of pandas. Specify `datetime_is_numeric=True` to silence this warning and adopt the future behavior now.\n",
            "  after removing the cwd from sys.path.\n",
            "/usr/local/lib/python3.7/dist-packages/ipykernel_launcher.py:4: FutureWarning: Treating datetime data as categorical rather than numeric in `.describe` is deprecated and will be removed in a future version of pandas. Specify `datetime_is_numeric=True` to silence this warning and adopt the future behavior now.\n",
            "  after removing the cwd from sys.path.\n"
          ],
          "name": "stderr"
        }
      ]
    },
    {
      "cell_type": "code",
      "metadata": {
        "id": "dO8EETzo5mm-",
        "colab": {
          "base_uri": "https://localhost:8080/"
        },
        "outputId": "6c694938-b87d-485b-9dd3-a245605bca63"
      },
      "source": [
        "unique"
      ],
      "execution_count": 178,
      "outputs": [
        {
          "output_type": "execute_result",
          "data": {
            "text/plain": [
              "CRM_ATPT_CPTD_CD           2\n",
              "SUSP_SEX                   2\n",
              "LAW_CAT_CD                 3\n",
              "VIC_SEX                    4\n",
              "LOC_OF_OCCUR_DESC          4\n",
              "BORO_NM                    5\n",
              "VIC_AGE_GROUP              5\n",
              "SUSP_AGE_GROUP             5\n",
              "VIC_RACE                   7\n",
              "SUSP_RACE                  7\n",
              "PATROL_BORO                8\n",
              "JURISDICTION_CODE         25\n",
              "KY_CD                     73\n",
              "PREM_TYP_DESC             74\n",
              "ADDR_PCT_CD               78\n",
              "PD_CD                    432\n",
              "RPT_DT                  5479\n",
              "CMPLNT_FR            2041884\n",
              "CMPLNT_TO            2254234\n",
              "CMPLNT_NUM               NaN\n",
              "Latitude                 NaN\n",
              "Longitude                NaN\n",
              "Name: unique, dtype: object"
            ]
          },
          "metadata": {
            "tags": []
          },
          "execution_count": 178
        }
      ]
    },
    {
      "cell_type": "code",
      "metadata": {
        "id": "_M4Bc4GlHs1F"
      },
      "source": [
        ""
      ],
      "execution_count": null,
      "outputs": []
    },
    {
      "cell_type": "code",
      "metadata": {
        "id": "3LVJIEak5mnA",
        "colab": {
          "base_uri": "https://localhost:8080/"
        },
        "outputId": "fb16aa04-df37-488d-a678-c6458314586a"
      },
      "source": [
        "for column in unique.index:\n",
        "    if unique[column] < 200:\n",
        "        print(df[column].value_counts())\n",
        "        print(\"=====\")"
      ],
      "execution_count": 179,
      "outputs": [
        {
          "output_type": "stream",
          "text": [
            "COMPLETED    7188018\n",
            "ATTEMPTED     124846\n",
            "Name: CRM_ATPT_CPTD_CD, dtype: int64\n",
            "=====\n",
            "M    2377336\n",
            "F     751425\n",
            "Name: SUSP_SEX, dtype: int64\n",
            "=====\n",
            "MISDEMEANOR    4109437\n",
            "FELONY         2249282\n",
            "VIOLATION       954145\n",
            "Name: LAW_CAT_CD, dtype: int64\n",
            "=====\n",
            "F    2864721\n",
            "M    2413807\n",
            "E    1140660\n",
            "D     893676\n",
            "Name: VIC_SEX, dtype: int64\n",
            "=====\n",
            "INSIDE         3710230\n",
            "FRONT OF       1717378\n",
            "OPPOSITE OF     194893\n",
            "REAR OF         156245\n",
            "Name: LOC_OF_OCCUR_DESC, dtype: int64\n",
            "=====\n",
            "BROOKLYN         2174499\n",
            "MANHATTAN        1754597\n",
            "BRONX            1588597\n",
            "QUEENS           1454218\n",
            "STATEN ISLAND     340953\n",
            "Name: BORO_NM, dtype: int64\n",
            "=====\n",
            "25-44    2416343\n",
            "45-64    1260018\n",
            "18-24     739767\n",
            "<18       335238\n",
            "65+       257644\n",
            "Name: VIC_AGE_GROUP, dtype: int64\n",
            "=====\n",
            "25-44    1008874\n",
            "18-24     384135\n",
            "45-64     359064\n",
            "<18       107679\n",
            "65+        29939\n",
            "Name: SUSP_AGE_GROUP, dtype: int64\n",
            "=====\n",
            "UNKNOWN                           2411042\n",
            "BLACK                             1755296\n",
            "WHITE                             1257904\n",
            "WHITE HISPANIC                    1183446\n",
            "ASIAN / PACIFIC ISLANDER           422941\n",
            "BLACK HISPANIC                     249084\n",
            "AMERICAN INDIAN/ALASKAN NATIVE      33151\n",
            "Name: VIC_RACE, dtype: int64\n",
            "=====\n",
            "BLACK                             1462592\n",
            "UNKNOWN                           1024112\n",
            "WHITE HISPANIC                     665477\n",
            "WHITE                              427339\n",
            "BLACK HISPANIC                     202351\n",
            "ASIAN / PACIFIC ISLANDER           125432\n",
            "AMERICAN INDIAN/ALASKAN NATIVE      11815\n",
            "Name: SUSP_RACE, dtype: int64\n",
            "=====\n",
            "PATROL BORO BRONX            1588470\n",
            "PATROL BORO BKLYN SOUTH      1089337\n",
            "PATROL BORO BKLYN NORTH      1085227\n",
            "PATROL BORO MAN SOUTH         882224\n",
            "PATROL BORO MAN NORTH         870375\n",
            "PATROL BORO QUEENS NORTH      751939\n",
            "PATROL BORO QUEENS SOUTH      704341\n",
            "PATROL BORO STATEN ISLAND     340951\n",
            "Name: PATROL_BORO, dtype: int64\n",
            "=====\n",
            "0     6500769\n",
            "2      558382\n",
            "1      161710\n",
            "3       34131\n",
            "97      23609\n",
            "72       9537\n",
            "69       8869\n",
            "4        5579\n",
            "14       3657\n",
            "11       1870\n",
            "88       1113\n",
            "15        818\n",
            "6         545\n",
            "71        474\n",
            "12        453\n",
            "9         438\n",
            "13        279\n",
            "87        278\n",
            "7         187\n",
            "85        104\n",
            "16         30\n",
            "8          16\n",
            "76         14\n",
            "79          1\n",
            "73          1\n",
            "Name: JURISDICTION_CODE, dtype: int64\n",
            "=====\n",
            "341    1233771\n",
            "578     939523\n",
            "344     770356\n",
            "109     630998\n",
            "351     616097\n",
            "        ...   \n",
            "357         12\n",
            "123          7\n",
            "362          4\n",
            "577          3\n",
            "101          0\n",
            "Name: KY_CD, Length: 74, dtype: int64\n",
            "=====\n",
            "STREET                        2347342\n",
            "RESIDENCE - APT. HOUSE        1558407\n",
            "RESIDENCE-HOUSE                723099\n",
            "RESIDENCE - PUBLIC HOUSING     551829\n",
            "OTHER                          199061\n",
            "                               ...   \n",
            "CEMETERY                          854\n",
            "MAILBOX INSIDE                    689\n",
            "LOAN COMPANY                      492\n",
            "TRAMWAY                           138\n",
            "DAYCARE FACILITY                   53\n",
            "Name: PREM_TYP_DESC, Length: 74, dtype: int64\n",
            "=====\n",
            "75     235757\n",
            "43     188039\n",
            "44     183244\n",
            "40     176290\n",
            "14     165569\n",
            "        ...  \n",
            "111     45571\n",
            "76      40888\n",
            "100     39048\n",
            "22       5691\n",
            "99        667\n",
            "Name: ADDR_PCT_CD, Length: 78, dtype: int64\n",
            "=====\n"
          ],
          "name": "stdout"
        }
      ]
    },
    {
      "cell_type": "code",
      "metadata": {
        "id": "tmgxDfBz5mnB",
        "colab": {
          "base_uri": "https://localhost:8080/"
        },
        "outputId": "88177007-a20c-45fa-ca25-13f43d163a7a"
      },
      "source": [
        "df.info()"
      ],
      "execution_count": 180,
      "outputs": [
        {
          "output_type": "stream",
          "text": [
            "<class 'pandas.core.frame.DataFrame'>\n",
            "Int64Index: 7312864 entries, 0 to 7396618\n",
            "Data columns (total 22 columns):\n",
            " #   Column             Dtype         \n",
            "---  ------             -----         \n",
            " 0   CMPLNT_NUM         int32         \n",
            " 1   ADDR_PCT_CD        category      \n",
            " 2   RPT_DT             datetime64[ns]\n",
            " 3   KY_CD              category      \n",
            " 4   PD_CD              category      \n",
            " 5   CRM_ATPT_CPTD_CD   category      \n",
            " 6   LAW_CAT_CD         category      \n",
            " 7   BORO_NM            category      \n",
            " 8   LOC_OF_OCCUR_DESC  category      \n",
            " 9   PREM_TYP_DESC      category      \n",
            " 10  JURISDICTION_CODE  category      \n",
            " 11  SUSP_AGE_GROUP     category      \n",
            " 12  SUSP_RACE          category      \n",
            " 13  SUSP_SEX           category      \n",
            " 14  Latitude           float32       \n",
            " 15  Longitude          float32       \n",
            " 16  PATROL_BORO        category      \n",
            " 17  VIC_AGE_GROUP      category      \n",
            " 18  VIC_RACE           category      \n",
            " 19  VIC_SEX            category      \n",
            " 20  CMPLNT_FR          datetime64[ns]\n",
            " 21  CMPLNT_TO          datetime64[ns]\n",
            "dtypes: category(16), datetime64[ns](3), float32(2), int32(1)\n",
            "memory usage: 425.5 MB\n"
          ],
          "name": "stdout"
        }
      ]
    },
    {
      "cell_type": "code",
      "metadata": {
        "id": "XMLREtWvr53V",
        "outputId": "68595c71-33cc-4e5a-9382-7159e92627e9",
        "colab": {
          "base_uri": "https://localhost:8080/"
        }
      },
      "source": [
        "df['PREM_TYP_DESC'].value_counts().count()"
      ],
      "execution_count": 183,
      "outputs": [
        {
          "output_type": "execute_result",
          "data": {
            "text/plain": [
              "74"
            ]
          },
          "metadata": {
            "tags": []
          },
          "execution_count": 183
        }
      ]
    },
    {
      "cell_type": "code",
      "metadata": {
        "id": "dvciXUSr5mnC"
      },
      "source": [
        "# All columns, except for the dates and spatial coordinates, are categorical\n",
        "# Columns with less than a few thousand unique values are good candidates \n",
        "# for ENUMs in the database given that the dataset is static.\n",
        "# Also, in Pandas the internal representation becomes much more efficient\n",
        "# as the Categoricals are stored as integers and not as strings\n",
        "for column in unique.index:\n",
        "    if column == 'RPT_DT':\n",
        "        continue\n",
        "    if df[column].value_counts().count() < 1000:\n",
        "      df[column] = pd.Categorical(df[column])"
      ],
      "execution_count": 184,
      "outputs": []
    },
    {
      "cell_type": "code",
      "metadata": {
        "id": "FVGtbgdr5mnD",
        "colab": {
          "base_uri": "https://localhost:8080/"
        },
        "outputId": "4209d8ef-149e-47ce-e351-740c26ff3334"
      },
      "source": [
        "# With all the proper data typing the dataset went down in size from 1.9Gb+ to 425Mb.\n",
        "df.info()"
      ],
      "execution_count": 185,
      "outputs": [
        {
          "output_type": "stream",
          "text": [
            "<class 'pandas.core.frame.DataFrame'>\n",
            "Int64Index: 7312864 entries, 0 to 7396618\n",
            "Data columns (total 22 columns):\n",
            " #   Column             Dtype         \n",
            "---  ------             -----         \n",
            " 0   CMPLNT_NUM         int32         \n",
            " 1   ADDR_PCT_CD        category      \n",
            " 2   RPT_DT             datetime64[ns]\n",
            " 3   KY_CD              category      \n",
            " 4   PD_CD              category      \n",
            " 5   CRM_ATPT_CPTD_CD   category      \n",
            " 6   LAW_CAT_CD         category      \n",
            " 7   BORO_NM            category      \n",
            " 8   LOC_OF_OCCUR_DESC  category      \n",
            " 9   PREM_TYP_DESC      category      \n",
            " 10  JURISDICTION_CODE  category      \n",
            " 11  SUSP_AGE_GROUP     category      \n",
            " 12  SUSP_RACE          category      \n",
            " 13  SUSP_SEX           category      \n",
            " 14  Latitude           float32       \n",
            " 15  Longitude          float32       \n",
            " 16  PATROL_BORO        category      \n",
            " 17  VIC_AGE_GROUP      category      \n",
            " 18  VIC_RACE           category      \n",
            " 19  VIC_SEX            category      \n",
            " 20  CMPLNT_FR          datetime64[ns]\n",
            " 21  CMPLNT_TO          datetime64[ns]\n",
            "dtypes: category(16), datetime64[ns](3), float32(2), int32(1)\n",
            "memory usage: 425.5 MB\n"
          ],
          "name": "stdout"
        }
      ]
    },
    {
      "cell_type": "code",
      "metadata": {
        "id": "jF1mm7Xu5mnD",
        "outputId": "c8cfe51b-28d7-4d34-b52b-6b0ded21cc93",
        "colab": {
          "base_uri": "https://localhost:8080/"
        }
      },
      "source": [
        "df.memory_usage()"
      ],
      "execution_count": 186,
      "outputs": [
        {
          "output_type": "execute_result",
          "data": {
            "text/plain": [
              "Index                58502912\n",
              "CMPLNT_NUM           29251456\n",
              "ADDR_PCT_CD           7316048\n",
              "RPT_DT               58502912\n",
              "KY_CD                 7316016\n",
              "PD_CD                14649664\n",
              "CRM_ATPT_CPTD_CD      7312960\n",
              "LAW_CAT_CD            7312968\n",
              "BORO_NM               7313064\n",
              "LOC_OF_OCCUR_DESC     7313056\n",
              "PREM_TYP_DESC         7316016\n",
              "JURISDICTION_CODE     7313704\n",
              "SUSP_AGE_GROUP        7313064\n",
              "SUSP_RACE             7313240\n",
              "SUSP_SEX              7312960\n",
              "Latitude             29251456\n",
              "Longitude            29251456\n",
              "PATROL_BORO           7313248\n",
              "VIC_AGE_GROUP         7313064\n",
              "VIC_RACE              7313240\n",
              "VIC_SEX               7313056\n",
              "CMPLNT_FR            58502912\n",
              "CMPLNT_TO            58502912\n",
              "dtype: int64"
            ]
          },
          "metadata": {
            "tags": []
          },
          "execution_count": 186
        }
      ]
    },
    {
      "cell_type": "code",
      "metadata": {
        "id": "3-DkWZbI5mnE"
      },
      "source": [
        "df.dtypes"
      ],
      "execution_count": null,
      "outputs": []
    },
    {
      "cell_type": "code",
      "metadata": {
        "id": "wd4t5mic5mnF",
        "colab": {
          "base_uri": "https://localhost:8080/"
        },
        "outputId": "196c248a-c90c-4f45-b7a4-0fd661b99cf4"
      },
      "source": [
        "# Find unique values and maximum length of various columns\n",
        "# We mainly use this to specify the max length of a varchar \n",
        "# data type in MySQL\n",
        "for column in df.columns.values:\n",
        "    datatype = df[column].dtype.name\n",
        "    unique_values = len(df[column].value_counts())\n",
        "    print(column, '\\t', datatype, '\\t', unique_values)\n",
        "    if datatype == 'object' or datatype =='category':\n",
        "        m = df[column].str.len().max()\n",
        "        print(\"Max length:\", m)\n"
      ],
      "execution_count": 187,
      "outputs": [
        {
          "output_type": "stream",
          "text": [
            "CMPLNT_NUM \t int32 \t 7312864\n",
            "ADDR_PCT_CD \t category \t 78\n",
            "Max length: 3\n",
            "RPT_DT \t datetime64[ns] \t 5479\n",
            "KY_CD \t category \t 74\n",
            "Max length: 3\n",
            "PD_CD \t category \t 432\n",
            "Max length: 3\n",
            "CRM_ATPT_CPTD_CD \t category \t 2\n",
            "Max length: 9\n",
            "LAW_CAT_CD \t category \t 3\n",
            "Max length: 11\n",
            "BORO_NM \t category \t 5\n",
            "Max length: 13\n",
            "LOC_OF_OCCUR_DESC \t category \t 4\n",
            "Max length: 11.0\n",
            "PREM_TYP_DESC \t category \t 74\n",
            "Max length: 28\n",
            "JURISDICTION_CODE \t category \t 25\n",
            "Max length: 2\n",
            "SUSP_AGE_GROUP \t category \t 5\n",
            "Max length: 5.0\n",
            "SUSP_RACE \t category \t 7\n",
            "Max length: 30.0\n",
            "SUSP_SEX \t category \t 2\n",
            "Max length: 1.0\n",
            "Latitude \t float32 \t 63980\n",
            "Longitude \t float32 \t 47947\n",
            "PATROL_BORO \t category \t 8\n",
            "Max length: 25\n",
            "VIC_AGE_GROUP \t category \t 5\n",
            "Max length: 5.0\n",
            "VIC_RACE \t category \t 7\n",
            "Max length: 30\n",
            "VIC_SEX \t category \t 4\n",
            "Max length: 1\n",
            "CMPLNT_FR \t datetime64[ns] \t 2041884\n",
            "CMPLNT_TO \t datetime64[ns] \t 2254234\n"
          ],
          "name": "stdout"
        }
      ]
    },
    {
      "cell_type": "code",
      "metadata": {
        "id": "wBbZB2Ke5mnG"
      },
      "source": [
        "df.dtypes"
      ],
      "execution_count": null,
      "outputs": []
    },
    {
      "cell_type": "code",
      "metadata": {
        "id": "IFzmDfLGeiEg"
      },
      "source": [
        "\n"
      ],
      "execution_count": null,
      "outputs": []
    },
    {
      "cell_type": "markdown",
      "metadata": {
        "id": "s4Nw6Q6J5mnK"
      },
      "source": [
        "## Storing in a MySQL database"
      ]
    },
    {
      "cell_type": "code",
      "metadata": {
        "id": "pIFdbm3zC1Qa",
        "outputId": "dc21b025-4dd7-4a1a-836c-8f208f964c15",
        "colab": {
          "base_uri": "https://localhost:8080/"
        }
      },
      "source": [
        "!sudo pip3 install -U -q PyMySQL sqlalchemy sql_magic"
      ],
      "execution_count": 188,
      "outputs": [
        {
          "output_type": "stream",
          "text": [
            "\u001b[K     |████████████████████████████████| 51kB 4.4MB/s \n",
            "\u001b[K     |████████████████████████████████| 1.5MB 18.9MB/s \n",
            "\u001b[?25h"
          ],
          "name": "stdout"
        }
      ]
    },
    {
      "cell_type": "code",
      "metadata": {
        "id": "XRRqVqrj5mnK"
      },
      "source": [
        "import os\n",
        "from sqlalchemy import create_engine\n",
        "\n",
        "conn_string = 'mysql+pymysql://{user}:{password}@{host}/?charset=utf8mb4'.format(\n",
        "    host = 'db.ipeirotis.org', \n",
        "    user = 'root',\n",
        "    password = os.environ['MYSQL_PASSWORD'],\n",
        "    encoding = 'utf8mb4')\n",
        "\n",
        "engine = create_engine(conn_string)\n",
        "con = engine.connect()"
      ],
      "execution_count": 189,
      "outputs": []
    },
    {
      "cell_type": "code",
      "metadata": {
        "id": "BME9Kw3I5mnL",
        "colab": {
          "base_uri": "https://localhost:8080/"
        },
        "outputId": "c04361ae-df97-44c2-c57a-a72fd99b5793"
      },
      "source": [
        "# Query to create a database\n",
        "db_name = 'nypd'\n",
        "\n",
        "sql = f\"DROP DATABASE IF EXISTS {db_name}\"\n",
        "engine.execute(sql)\n",
        "\n",
        "# Create a database\n",
        "sql = f\"CREATE DATABASE IF NOT EXISTS {db_name} DEFAULT CHARACTER SET 'utf8mb4'\"\n",
        "engine.execute(sql)\n"
      ],
      "execution_count": 190,
      "outputs": [
        {
          "output_type": "execute_result",
          "data": {
            "text/plain": [
              "<sqlalchemy.engine.cursor.LegacyCursorResult at 0x7fa1619370d0>"
            ]
          },
          "metadata": {
            "tags": []
          },
          "execution_count": 190
        }
      ]
    },
    {
      "cell_type": "code",
      "metadata": {
        "id": "M-_M6qS0Vhlv",
        "colab": {
          "base_uri": "https://localhost:8080/"
        },
        "outputId": "9ebdba63-4373-4e27-ec0f-d212062d27ec"
      },
      "source": [
        "\n",
        "# And lets switch to the database\n",
        "sql = f\"USE {db_name}\"\n",
        "engine.execute(sql)\n"
      ],
      "execution_count": 191,
      "outputs": [
        {
          "output_type": "execute_result",
          "data": {
            "text/plain": [
              "<sqlalchemy.engine.cursor.LegacyCursorResult at 0x7fa139743850>"
            ]
          },
          "metadata": {
            "tags": []
          },
          "execution_count": 191
        }
      ]
    },
    {
      "cell_type": "code",
      "metadata": {
        "id": "10JrBGZ65mnL",
        "colab": {
          "base_uri": "https://localhost:8080/"
        },
        "outputId": "68c56f2e-a423-4602-cd52-e36a970e9583"
      },
      "source": [
        "# In principle, we can let Pandas create the table, but we want to be a bit more predise\n",
        "# with the data types, and we want to add documentation for each column\n",
        "# from https://data.cityofnewyork.us/Public-Safety/NYPD-Complaint-Data-Historic/qgea-i56i\n",
        "\n",
        "\n",
        "create_table_sql = '''\n",
        "CREATE TABLE nypd (\n",
        "  CMPLNT_NUM int,\n",
        "  CMPLNT_FR datetime,\n",
        "  CMPLNT_TO datetime,\n",
        "  RPT_DT date,\n",
        "  KY_CD SMALLINT,\n",
        "  PD_CD SMALLINT,\n",
        "  CRM_ATPT_CPTD_CD enum('COMPLETED','ATTEMPTED'),\n",
        "  LAW_CAT_CD enum('FELONY','MISDEMEANOR','VIOLATION'),\n",
        "  JURISDICTION_CODE SMALLINT,\n",
        "  BORO_NM enum('BRONX','BROOKLYN','MANHATTAN','QUEENS','STATEN ISLAND'),\n",
        "  ADDR_PCT_CD SMALLINT,\n",
        "  LOC_OF_OCCUR_DESC enum('FRONT OF','INSIDE','OPPOSITE OF','OUTSIDE','REAR OF'),\n",
        "  PATROL_BORO enum('PATROL BORO BRONX', 'PATROL BORO BKLYN SOUTH','PATROL BORO BKLYN NORTH','PATROL BORO MAN SOUTH','PATROL BORO MAN NORTH','PATROL BORO QUEENS NORTH','PATROL BORO QUEENS SOUTH','PATROL BORO STATEN ISLAND'),\n",
        "  PREM_TYP_DESC varchar(30),\n",
        "  SUSP_RACE enum('UNKNOWN', 'BLACK', 'WHITE', 'WHITE HISPANIC', 'ASIAN / PACIFIC ISLANDER', 'BLACK HISPANIC', 'AMERICAN INDIAN/ALASKAN NATIVE'),\n",
        "  VIC_RACE enum('UNKNOWN', 'BLACK', 'WHITE', 'WHITE HISPANIC', 'ASIAN / PACIFIC ISLANDER', 'BLACK HISPANIC', 'AMERICAN INDIAN/ALASKAN NATIVE'),\n",
        "  SUSP_AGE_GROUP enum('<18', '18-24',  '25-44', '45-64', '65+'),\n",
        "  VIC_AGE_GROUP enum('<18', '18-24',  '25-44', '45-64', '65+'),\n",
        "  SUSP_SEX enum('M', 'F'),\n",
        "  VIC_SEX enum('M', 'F', 'E', 'D'),\n",
        "  Latitude double,\n",
        "  Longitude double,\n",
        "  PRIMARY KEY (CMPLNT_NUM)\n",
        ") ENGINE=InnoDB DEFAULT CHARSET=utf8mb4;\n",
        "'''\n",
        "engine.execute(create_table_sql)"
      ],
      "execution_count": 192,
      "outputs": [
        {
          "output_type": "execute_result",
          "data": {
            "text/plain": [
              "<sqlalchemy.engine.cursor.LegacyCursorResult at 0x7fa1619b61d0>"
            ]
          },
          "metadata": {
            "tags": []
          },
          "execution_count": 192
        }
      ]
    },
    {
      "cell_type": "code",
      "metadata": {
        "id": "5fJuGS1e5mnM",
        "outputId": "86bb269f-958b-4efb-cab4-52bbcf750e53",
        "colab": {
          "base_uri": "https://localhost:8080/"
        }
      },
      "source": [
        "# Create a table\n",
        "# See http://pandas.pydata.org/pandas-docs/stable/generated/pandas.DataFrame.to_sql.html for the documentation\n",
        "from tqdm import tqdm\n",
        "batchsize = 50000\n",
        "batches = len(df) // batchsize + 1\n",
        "\n",
        "t = tqdm(range(batches))\n",
        "\n",
        "for i in t:\n",
        "    # print(\"Batch:\",i)\n",
        "    # continue # Cannot execute this on Travis\n",
        "    start = batchsize * i\n",
        "    end = batchsize * (i+1)\n",
        "    df[start:end].to_sql(\n",
        "        name = 'nypd', \n",
        "        schema = db_name, \n",
        "        con = engine,\n",
        "        if_exists = 'append',\n",
        "        index = False, \n",
        "        chunksize = 1000)"
      ],
      "execution_count": 193,
      "outputs": [
        {
          "output_type": "stream",
          "text": [
            "100%|██████████| 147/147 [25:34<00:00, 10.44s/it]\n"
          ],
          "name": "stderr"
        }
      ]
    },
    {
      "cell_type": "code",
      "metadata": {
        "id": "m8ozy38lJmOt",
        "colab": {
          "base_uri": "https://localhost:8080/"
        },
        "outputId": "216d6c58-d6b0-4aec-e5f8-caca3efc8ac2"
      },
      "source": [
        "engine.execute(\"CREATE INDEX ix_lat ON nypd.nypd(Latitude)\")"
      ],
      "execution_count": 197,
      "outputs": [
        {
          "output_type": "execute_result",
          "data": {
            "text/plain": [
              "<sqlalchemy.engine.cursor.LegacyCursorResult at 0x7fa174a30110>"
            ]
          },
          "metadata": {
            "tags": []
          },
          "execution_count": 197
        }
      ]
    },
    {
      "cell_type": "code",
      "metadata": {
        "id": "Up8_pRiYPn3X",
        "colab": {
          "base_uri": "https://localhost:8080/"
        },
        "outputId": "7bdb13cc-4cce-4233-980d-800172e1b0cb"
      },
      "source": [
        "engine.execute(\"CREATE INDEX ix_lon ON nypd.nypd(Longitude)\")"
      ],
      "execution_count": 198,
      "outputs": [
        {
          "output_type": "execute_result",
          "data": {
            "text/plain": [
              "<sqlalchemy.engine.cursor.LegacyCursorResult at 0x7fa173f14ed0>"
            ]
          },
          "metadata": {
            "tags": []
          },
          "execution_count": 198
        }
      ]
    },
    {
      "cell_type": "code",
      "metadata": {
        "id": "fRVAUTDsPn6N",
        "colab": {
          "base_uri": "https://localhost:8080/"
        },
        "outputId": "aa735b6d-d083-4ad5-cc28-d5883eecdd2a"
      },
      "source": [
        "engine.execute(\"CREATE INDEX ix_LAW_CAT_CD ON nypd.nypd(LAW_CAT_CD)\")"
      ],
      "execution_count": 201,
      "outputs": [
        {
          "output_type": "execute_result",
          "data": {
            "text/plain": [
              "<sqlalchemy.engine.cursor.LegacyCursorResult at 0x7fa17702ac50>"
            ]
          },
          "metadata": {
            "tags": []
          },
          "execution_count": 201
        }
      ]
    },
    {
      "cell_type": "code",
      "metadata": {
        "id": "TcqQhh63PoAJ",
        "colab": {
          "base_uri": "https://localhost:8080/"
        },
        "outputId": "292992fa-d93e-4de4-dde0-8fee619f840a"
      },
      "source": [
        "engine.execute(\"CREATE INDEX ix_BORO_NM ON nypd.nypd(BORO_NM)\")"
      ],
      "execution_count": 203,
      "outputs": [
        {
          "output_type": "execute_result",
          "data": {
            "text/plain": [
              "<sqlalchemy.engine.cursor.LegacyCursorResult at 0x7fa170877210>"
            ]
          },
          "metadata": {
            "tags": []
          },
          "execution_count": 203
        }
      ]
    },
    {
      "cell_type": "code",
      "metadata": {
        "id": "fVLOoJXZP3IL",
        "colab": {
          "base_uri": "https://localhost:8080/"
        },
        "outputId": "49bed8bd-3c37-4e9d-c971-2604c374a3f9"
      },
      "source": [
        "engine.execute(\"CREATE INDEX ix_RPT_DT ON nypd.nypd(RPT_DT)\")"
      ],
      "execution_count": 204,
      "outputs": [
        {
          "output_type": "execute_result",
          "data": {
            "text/plain": [
              "<sqlalchemy.engine.cursor.LegacyCursorResult at 0x7fa139743510>"
            ]
          },
          "metadata": {
            "tags": []
          },
          "execution_count": 204
        }
      ]
    },
    {
      "cell_type": "code",
      "metadata": {
        "id": "_LMQyvt6P71C",
        "colab": {
          "base_uri": "https://localhost:8080/"
        },
        "outputId": "d7646a03-5aab-4830-be36-4b3db968f2df"
      },
      "source": [
        "engine.execute(\"CREATE INDEX ix_CMPLNT_FR ON nypd.nypd(CMPLNT_FR)\")"
      ],
      "execution_count": 205,
      "outputs": [
        {
          "output_type": "execute_result",
          "data": {
            "text/plain": [
              "<sqlalchemy.engine.cursor.LegacyCursorResult at 0x7fa1619b4790>"
            ]
          },
          "metadata": {
            "tags": []
          },
          "execution_count": 205
        }
      ]
    },
    {
      "cell_type": "code",
      "metadata": {
        "id": "hPGyBq5gvy2o"
      },
      "source": [
        "engine.execute(\"DROP TABLE IF EXISTS offense_codes;\")\n",
        "\n",
        "create_table_sql = '''\n",
        "CREATE TABLE offense_codes (\n",
        "  KY_CD smallint,\n",
        "  OFNS_DESC varchar(32),\n",
        "  PRIMARY KEY (KY_CD)\n",
        ") ENGINE=InnoDB DEFAULT CHARSET=utf8mb4;\n",
        "'''\n",
        "engine.execute(create_table_sql)\n",
        "\n",
        "offences.to_sql(\n",
        "        name = 'offense_codes', \n",
        "        schema = db_name, \n",
        "        con = engine,\n",
        "        if_exists = 'append',\n",
        "        index = False)"
      ],
      "execution_count": 209,
      "outputs": []
    },
    {
      "cell_type": "code",
      "metadata": {
        "id": "00pwfpi_21hA",
        "outputId": "a465c2b0-a182-4210-8b96-76378e1d5df6",
        "colab": {
          "base_uri": "https://localhost:8080/"
        }
      },
      "source": [
        ""
      ],
      "execution_count": 211,
      "outputs": [
        {
          "output_type": "execute_result",
          "data": {
            "text/plain": [
              "35"
            ]
          },
          "metadata": {
            "tags": []
          },
          "execution_count": 211
        }
      ]
    },
    {
      "cell_type": "code",
      "metadata": {
        "id": "--bCF3OXxVVq"
      },
      "source": [
        "engine.execute(\"DROP TABLE IF EXISTS jurisdiction_codes;\")\n",
        "\n",
        "create_table_sql = '''\n",
        "CREATE TABLE jurisdiction_codes (\n",
        "  JURISDICTION_CODE smallint,\n",
        "  JURIS_DESC varchar(40),\n",
        "  PRIMARY KEY (JURISDICTION_CODE)\n",
        ") ENGINE=InnoDB DEFAULT CHARSET=utf8mb4;\n",
        "'''\n",
        "engine.execute(create_table_sql)\n",
        "\n",
        "\n",
        "jusridiction.to_sql(\n",
        "        name = 'jurisdiction_codes', \n",
        "        schema = db_name, \n",
        "        con = engine,\n",
        "        if_exists = 'append',\n",
        "        index = False)"
      ],
      "execution_count": 214,
      "outputs": []
    },
    {
      "cell_type": "code",
      "metadata": {
        "id": "lm6SIPHz3wXU",
        "outputId": "6699b38c-1679-48bd-dad1-47e95e7d89df",
        "colab": {
          "base_uri": "https://localhost:8080/"
        }
      },
      "source": [
        "internal.PD_DESC.str.len().max()\n"
      ],
      "execution_count": 217,
      "outputs": [
        {
          "output_type": "execute_result",
          "data": {
            "text/plain": [
              "71"
            ]
          },
          "metadata": {
            "tags": []
          },
          "execution_count": 217
        }
      ]
    },
    {
      "cell_type": "code",
      "metadata": {
        "id": "rFUrm2poxWFQ"
      },
      "source": [
        "engine.execute(\"DROP TABLE IF EXISTS penal_codes;\")\n",
        "\n",
        "create_table_sql = '''\n",
        "CREATE TABLE penal_codes (\n",
        "  PD_CD smallint,\n",
        "  PD_DESC varchar(80),\n",
        "  PRIMARY KEY (PD_CD)\n",
        ") ENGINE=InnoDB DEFAULT CHARSET=utf8mb4;\n",
        "'''\n",
        "engine.execute(create_table_sql)\n",
        "\n",
        "\n",
        "internal.to_sql(\n",
        "        name = 'penal_codes', \n",
        "        schema = db_name, \n",
        "        con = engine,\n",
        "        if_exists = 'append',\n",
        "        index = False)"
      ],
      "execution_count": 218,
      "outputs": []
    },
    {
      "cell_type": "markdown",
      "metadata": {
        "id": "qBdum8YM5mnN"
      },
      "source": [
        "## TODO"
      ]
    },
    {
      "cell_type": "markdown",
      "metadata": {
        "id": "gy9R1rnb5mnN"
      },
      "source": [
        "### Add the penal code data as a separate table\n",
        "\n",
        "`!curl 'https://data.cityofnewyork.us/api/views/qgea-i56i/files/65f25845-1551-4d21-91dc-869c977cd93d?download=true&filename=PDCode_PenalLaw.xlsx' -o PDCode_PenalLaw.xlsx`\n",
        "\n",
        "### Examine whether to normalize "
      ]
    },
    {
      "cell_type": "markdown",
      "metadata": {
        "id": "ojgVuC6I5mnN"
      },
      "source": [
        "The fields \n",
        "\n",
        "  \n",
        "PREM_TYP_DESC    \n",
        "HADEVELOPT    \n",
        "PARKS_NM                     \n",
        "\n",
        "would be better off as foreign keys or enums. They take too much space as strings."
      ]
    }
  ]
}