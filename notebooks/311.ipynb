{
 "cells": [
  {
   "cell_type": "code",
   "execution_count": 1,
   "metadata": {},
   "outputs": [
    {
     "name": "stdout",
     "output_type": "stream",
     "text": [
      "  % Total    % Received % Xferd  Average Speed   Time    Time     Time  Current\n",
      "                                 Dload  Upload   Total   Spent    Left  Speed\n",
      "100 5506M    0 5506M    0     0  4330k      0 --:--:--  0:21:42 --:--:-- 4591k    0 2022M    0     0  4304k      0 --:--:--  0:08:01 --:--:-- 4371k2217M    0 2217M    0     0  4291k      0 --:--:--  0:08:49 --:--:-- 4213k:--:--  0:13:41 --:--:-- 4206k 4287k      0 --:--:--  0:14:46 --:--:-- 3954k   0  4276k      0 --:--:--  0:16:29 --:--:-- 4618k8k9:27 --:--:-- 4488k:--  0:20:06 --:--:-- 4454k626k 0  4327k      0 --:--:--  0:21:03 --:--:-- 4643k\n",
      "curl: (23) Failed writing body (10462 != 16384)\n"
     ]
    }
   ],
   "source": [
    "!curl https://nycopendata.socrata.com/api/views/erm2-nwe9/rows.csv?accessType=DOWNLOAD -o 311.csv"
   ]
  },
  {
   "cell_type": "code",
   "execution_count": 2,
   "metadata": {},
   "outputs": [
    {
     "name": "stdout",
     "output_type": "stream",
     "text": [
      "The history saving thread hit an unexpected error (OperationalError('database or disk is full',)).History will not be written to the database.\n",
      "\r\n",
      "gzip: 311.csv.gz: No space left on device\r\n"
     ]
    }
   ],
   "source": [
    "!gzip 311.csv"
   ]
  },
  {
   "cell_type": "code",
   "execution_count": 3,
   "metadata": {},
   "outputs": [],
   "source": [
    "!rm 311.csv"
   ]
  },
  {
   "cell_type": "code",
   "execution_count": null,
   "metadata": {},
   "outputs": [],
   "source": []
  }
 ],
 "metadata": {
  "kernelspec": {
   "display_name": "Python 3",
   "language": "python",
   "name": "python3"
  },
  "language_info": {
   "codemirror_mode": {
    "name": "ipython",
    "version": 3
   },
   "file_extension": ".py",
   "mimetype": "text/x-python",
   "name": "python",
   "nbconvert_exporter": "python",
   "pygments_lexer": "ipython3",
   "version": "3.6.7"
  }
 },
 "nbformat": 4,
 "nbformat_minor": 2
}
