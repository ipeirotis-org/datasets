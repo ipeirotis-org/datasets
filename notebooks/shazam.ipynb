{
 "cells": [
  {
   "cell_type": "code",
   "execution_count": 1,
   "metadata": {},
   "outputs": [],
   "source": [
    "import requests\n",
    "import pandas as pd"
   ]
  },
  {
   "cell_type": "code",
   "execution_count": 2,
   "metadata": {},
   "outputs": [],
   "source": [
    "def get_cities():\n",
    "    '''\n",
    "    Retrieves all the cities for which Shazam has charts.\n",
    "    \n",
    "    Returns a list of dictionaries, one dictionary per city.\n",
    "    '''\n",
    "\n",
    "    locations = 'https://www.shazam.com/static/chartlocations.json'\n",
    "\n",
    "    countries = requests.get(locations).json()['countries']\n",
    "\n",
    "    cities = []\n",
    "    for country in countries:\n",
    "        for c in country['cities']:\n",
    "            city = dict(c)\n",
    "            city['country'] = country['name']\n",
    "            city['country_id'] = country['id']\n",
    "            city['country_listid'] = country['listid']\n",
    "            cities.append(city)\n",
    "\n",
    "    return cities"
   ]
  },
  {
   "cell_type": "code",
   "execution_count": 3,
   "metadata": {},
   "outputs": [],
   "source": [
    "def get_shazams(trackid):\n",
    "    '''\n",
    "    Returns the number of shazams for a track\n",
    "    '''\n",
    "    url = 'https://www.shazam.com/shazam/v1/en-US/US/web/-/tagcounts/track/'+ str(trackid)\n",
    "    limit = 5\n",
    "    tries = 1\n",
    "    while tries < limit:\n",
    "        try:\n",
    "            data = requests.get(url).json()\n",
    "            return data['total']\n",
    "        except:\n",
    "            tries += 1\n",
    "    "
   ]
  },
  {
   "cell_type": "code",
   "execution_count": 4,
   "metadata": {},
   "outputs": [],
   "source": [
    "def get_track_details(trackid):\n",
    "    '''\n",
    "    This API call returns the details for a track. \n",
    "    '''\n",
    "    url = 'https://www.shazam.com/discovery/v4/en-US/US/web/-/track/'+ str(trackid)\n",
    "    data = requests.get(url).json()\n",
    "    return data"
   ]
  },
  {
   "cell_type": "code",
   "execution_count": 5,
   "metadata": {},
   "outputs": [],
   "source": [
    "def get_city_chart(city_entry):\n",
    "    '''\n",
    "    Retrieves the chart for a given city.\n",
    "    '''\n",
    "    city_id = city_entry['listid']\n",
    "    chart_url = 'https://www.shazam.com/shazam/v2/en-US/US/web/-/tracks/' + city_id\n",
    "    chart = requests.get(chart_url).json()['chart']\n",
    "    rank = 0\n",
    "    # Since we do not have a rank, we assume entries appearing first are the top ones in the chart\n",
    "    # For each chart entry we add its rank, and the fields from the city dictionary\n",
    "    for c in chart:\n",
    "        rank += 1\n",
    "        c['rank'] = rank\n",
    "        for key, value in city_entry.items():\n",
    "            c['city_' + key] = value\n",
    "\n",
    "    return chart"
   ]
  },
  {
   "cell_type": "code",
   "execution_count": 6,
   "metadata": {},
   "outputs": [],
   "source": [
    "def get_all_charts(cities):\n",
    "    '''\n",
    "    Goes through all cities, and fetches the charts for all of them,\n",
    "    merging them in a big list\n",
    "    '''\n",
    "    all_charts = []\n",
    "    for city in cities:\n",
    "        entries = get_city_chart(city)\n",
    "        all_charts.extend(entries)\n",
    "\n",
    "    return all_charts"
   ]
  },
  {
   "cell_type": "code",
   "execution_count": 7,
   "metadata": {},
   "outputs": [],
   "source": [
    "def create_dataframe(charts_data):\n",
    "    '''\n",
    "    Bookkeeping of the returned data from the Shazam API.\n",
    "    We drop the irrelevant columns (e.g. thumbnails, store information, etc)\n",
    "    Rename the columns to be more understandable, and reordering the column order\n",
    "    '''\n",
    "\n",
    "    cdf = pd.io.json.json_normalize(charts_data)\n",
    "    cdf['chart_date'] = pd.Timestamp(\"today\").strftime(\"%m/%d/%Y\")\n",
    "\n",
    "    to_drop = [\n",
    "        'alias', 'type', 'actions', 'artists', 'share.avatar',\n",
    "        'city_country_listid', 'city_countryid', 'city_listid', 'share.href',\n",
    "        'share.html', 'share.image', 'share.subject', 'share.text',\n",
    "        'share.twitter', 'stores.apple.actions', 'stores.apple.coverarturl',\n",
    "        'stores.apple.explicit', 'stores.apple.previewurl',\n",
    "        'stores.apple.productid', 'stores.apple.trackid',\n",
    "        'stores.claromusicasearch.actions', 'stores.google.actions',\n",
    "        'stores.google.previewurl', 'stores.google.productid',\n",
    "        'stores.google.trackid', 'stores.itunes.actions',\n",
    "        'stores.itunes.coverarturl', 'stores.itunes.explicit',\n",
    "        'stores.itunes.previewurl', 'stores.itunes.productid',\n",
    "        'stores.itunes.trackid', 'images.blurred', 'images.default',\n",
    "        'images.play', 'urlparams.{trackartist}', 'urlparams.{tracktitle}'\n",
    "    ]\n",
    "    cdf = cdf.drop(to_drop, axis='columns')\n",
    "\n",
    "    to_rename = {\n",
    "        \"city_country\": \"country\",\n",
    "        \"city_country_id\": \"country_id\",\n",
    "        \"heading.subtitle\": \"artist\",\n",
    "        \"heading.title\": \"song_title\",\n",
    "        'key' : 'track_id'\n",
    "    }\n",
    "    cdf = cdf.rename(to_rename, axis='columns')\n",
    "\n",
    "    columns = [\n",
    "        'country', 'country_id', 'city_name', 'city_id', 'chart_date', 'rank',\n",
    "        'song_title', 'artist', 'track_id', 'url'\n",
    "    ]\n",
    "\n",
    "    cdf = cdf[columns]\n",
    "    \n",
    "    # Query for each song/key and get the number of shazams\n",
    "    shazams = dict()\n",
    "    for key in sorted(set(cdf.track_id.values)):\n",
    "        shazams[key] = get_shazams(key)\n",
    "    \n",
    "    cdf['num_shazams'] = cdf['track_id'].apply(lambda x : shazams[x])\n",
    "\n",
    "    return cdf"
   ]
  },
  {
   "cell_type": "code",
   "execution_count": 8,
   "metadata": {},
   "outputs": [
    {
     "name": "stdout",
     "output_type": "stream",
     "text": [
      "CPU times: user 53.2 s, sys: 2.07 s, total: 55.3 s\n",
      "Wall time: 6min 8s\n"
     ]
    }
   ],
   "source": [
    "%%time\n",
    "if __name__ == \"__main__\":\n",
    "    \n",
    "    today = pd.Timestamp(\"today\").strftime(\"%Y_%m_%d\")\n",
    "    cities = get_cities()\n",
    "    us_cities = [c for c in cities if c['country_id'] == 'US']\n",
    "    us_charts = get_all_charts(us_cities)\n",
    "    df = create_dataframe(us_charts)\n",
    "    \n",
    "    filename = 'shazam_us_charts_' + today\n",
    "    df.to_csv(filename + '.csv', index=False)\n",
    "    df.to_excel(filename + '.xls', index=False)"
   ]
  },
  {
   "cell_type": "code",
   "execution_count": null,
   "metadata": {},
   "outputs": [],
   "source": [
    "# TODO Add the US top 100 chart to the existing data frame \n",
    "# Link to US chart: https://www.shazam.com/charts/top-100/united-states /"
   ]
  }
 ],
 "metadata": {
  "kernelspec": {
   "display_name": "Python 3",
   "language": "python",
   "name": "python3"
  },
  "language_info": {
   "codemirror_mode": {
    "name": "ipython",
    "version": 3
   },
   "file_extension": ".py",
   "mimetype": "text/x-python",
   "name": "python",
   "nbconvert_exporter": "python",
   "pygments_lexer": "ipython3",
   "version": "3.6.7"
  }
 },
 "nbformat": 4,
 "nbformat_minor": 2
}
