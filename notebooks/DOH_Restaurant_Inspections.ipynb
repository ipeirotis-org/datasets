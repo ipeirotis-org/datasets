{
  "cells": [
    {
      "cell_type": "markdown",
      "metadata": {
        "id": "view-in-github",
        "colab_type": "text"
      },
      "source": [
        "<a href=\"https://colab.research.google.com/github/ipeirotis/datasets/blob/master/notebooks/DOH_Restaurant_Inspections.ipynb\" target=\"_parent\"><img src=\"https://colab.research.google.com/assets/colab-badge.svg\" alt=\"Open In Colab\"/></a>"
      ]
    },
    {
      "cell_type": "markdown",
      "metadata": {
        "id": "T70qRb5S7huK"
      },
      "source": [
        "https://www1.nyc.gov/site/doh/business/food-operators/the-inspection-process.page\n",
        "\n",
        "See https://www1.nyc.gov/assets/doh/downloads/pdf/rii/blue-book.pdf "
      ]
    },
    {
      "cell_type": "code",
      "execution_count": 1,
      "metadata": {
        "colab": {
          "base_uri": "https://localhost:8080/"
        },
        "id": "o2CD1ad97huN",
        "outputId": "56021192-ffef-4388-e950-1cd680ecc8cd"
      },
      "outputs": [
        {
          "output_type": "stream",
          "name": "stdout",
          "text": [
            "Looking in indexes: https://pypi.org/simple, https://us-python.pkg.dev/colab-wheels/public/simple/\n",
            "Requirement already satisfied: pandas-profiling[notebook] in /usr/local/lib/python3.7/dist-packages (1.4.1)\n",
            "\u001b[33mWARNING: pandas-profiling 1.4.1 does not provide the extra 'notebook'\u001b[0m\n",
            "Requirement already satisfied: matplotlib>=1.4 in /usr/local/lib/python3.7/dist-packages (from pandas-profiling[notebook]) (3.2.2)\n",
            "Requirement already satisfied: jinja2>=2.8 in /usr/local/lib/python3.7/dist-packages (from pandas-profiling[notebook]) (2.11.3)\n",
            "Requirement already satisfied: pandas>=0.19 in /usr/local/lib/python3.7/dist-packages (from pandas-profiling[notebook]) (1.3.5)\n",
            "Requirement already satisfied: six>=1.9 in /usr/local/lib/python3.7/dist-packages (from pandas-profiling[notebook]) (1.15.0)\n",
            "Requirement already satisfied: MarkupSafe>=0.23 in /usr/local/lib/python3.7/dist-packages (from jinja2>=2.8->pandas-profiling[notebook]) (2.0.1)\n",
            "Requirement already satisfied: numpy>=1.11 in /usr/local/lib/python3.7/dist-packages (from matplotlib>=1.4->pandas-profiling[notebook]) (1.21.6)\n",
            "Requirement already satisfied: python-dateutil>=2.1 in /usr/local/lib/python3.7/dist-packages (from matplotlib>=1.4->pandas-profiling[notebook]) (2.8.2)\n",
            "Requirement already satisfied: cycler>=0.10 in /usr/local/lib/python3.7/dist-packages (from matplotlib>=1.4->pandas-profiling[notebook]) (0.11.0)\n",
            "Requirement already satisfied: pyparsing!=2.0.4,!=2.1.2,!=2.1.6,>=2.0.1 in /usr/local/lib/python3.7/dist-packages (from matplotlib>=1.4->pandas-profiling[notebook]) (3.0.9)\n",
            "Requirement already satisfied: kiwisolver>=1.0.1 in /usr/local/lib/python3.7/dist-packages (from matplotlib>=1.4->pandas-profiling[notebook]) (1.4.3)\n",
            "Requirement already satisfied: typing-extensions in /usr/local/lib/python3.7/dist-packages (from kiwisolver>=1.0.1->matplotlib>=1.4->pandas-profiling[notebook]) (4.1.1)\n",
            "Requirement already satisfied: pytz>=2017.3 in /usr/local/lib/python3.7/dist-packages (from pandas>=0.19->pandas-profiling[notebook]) (2022.1)\n"
          ]
        }
      ],
      "source": [
        "!sudo pip install pandas-profiling[notebook]"
      ]
    },
    {
      "cell_type": "markdown",
      "metadata": {
        "id": "iZk8TxBV7huP"
      },
      "source": [
        "## Download Latest Dataset"
      ]
    },
    {
      "cell_type": "code",
      "execution_count": 2,
      "metadata": {
        "id": "7XMOonFl7huP",
        "outputId": "9f8461c4-1abc-415b-c0e6-c80d1b38b03f",
        "colab": {
          "base_uri": "https://localhost:8080/"
        }
      },
      "outputs": [
        {
          "output_type": "stream",
          "name": "stdout",
          "text": [
            "  % Total    % Received % Xferd  Average Speed   Time    Time     Time  Current\n",
            "                                 Dload  Upload   Total   Spent    Left  Speed\n",
            "100  114M    0  114M    0     0  7921k      0 --:--:--  0:00:14 --:--:-- 8401k\n"
          ]
        }
      ],
      "source": [
        "!curl 'https://data.cityofnewyork.us/api/views/43nn-pn8j/rows.csv?accessType=DOWNLOAD' -o restaurants.csv"
      ]
    },
    {
      "cell_type": "code",
      "execution_count": 3,
      "metadata": {
        "id": "0gEDjE-67huP"
      },
      "outputs": [],
      "source": [
        "import pandas as pd\n",
        "import numpy as np\n",
        "df = pd.read_csv(\"restaurants.csv\", dtype = 'object')"
      ]
    },
    {
      "cell_type": "code",
      "execution_count": 4,
      "metadata": {
        "colab": {
          "base_uri": "https://localhost:8080/"
        },
        "id": "AK1gZZt97huQ",
        "outputId": "198ffda6-960c-440f-e476-5b511a68b17d"
      },
      "outputs": [
        {
          "output_type": "execute_result",
          "data": {
            "text/plain": [
              "274701"
            ]
          },
          "metadata": {},
          "execution_count": 4
        }
      ],
      "source": [
        "initial_size = len(df)\n",
        "initial_size"
      ]
    },
    {
      "cell_type": "code",
      "execution_count": 5,
      "metadata": {
        "id": "kr5XxtQ47huQ"
      },
      "outputs": [],
      "source": [
        "# Render our plots inline\n",
        "%matplotlib inline\n",
        "%config InlineBackend.figure_format = 'retina'"
      ]
    },
    {
      "cell_type": "code",
      "execution_count": 6,
      "metadata": {
        "colab": {
          "base_uri": "https://localhost:8080/"
        },
        "id": "PCMF_AAr7huR",
        "outputId": "30963947-2e44-4981-dd06-87ce1b841c62"
      },
      "outputs": [
        {
          "output_type": "execute_result",
          "data": {
            "text/plain": [
              "CAMIS                    object\n",
              "DBA                      object\n",
              "BORO                     object\n",
              "BUILDING                 object\n",
              "STREET                   object\n",
              "ZIPCODE                  object\n",
              "PHONE                    object\n",
              "CUISINE DESCRIPTION      object\n",
              "INSPECTION DATE          object\n",
              "ACTION                   object\n",
              "VIOLATION CODE           object\n",
              "VIOLATION DESCRIPTION    object\n",
              "CRITICAL FLAG            object\n",
              "SCORE                    object\n",
              "GRADE                    object\n",
              "GRADE DATE               object\n",
              "RECORD DATE              object\n",
              "INSPECTION TYPE          object\n",
              "Latitude                 object\n",
              "Longitude                object\n",
              "Community Board          object\n",
              "Council District         object\n",
              "Census Tract             object\n",
              "BIN                      object\n",
              "BBL                      object\n",
              "NTA                      object\n",
              "dtype: object"
            ]
          },
          "metadata": {},
          "execution_count": 6
        }
      ],
      "source": [
        "df.dtypes"
      ]
    },
    {
      "cell_type": "code",
      "execution_count": 7,
      "metadata": {
        "id": "VVgZEbCE7huS"
      },
      "outputs": [],
      "source": [
        "# Adding underscores in all column names\n",
        "cols = df.columns\n",
        "cols = cols.map(lambda x: x.replace(' ', '_').upper())\n",
        "df.columns = cols"
      ]
    },
    {
      "cell_type": "code",
      "execution_count": 8,
      "metadata": {
        "colab": {
          "base_uri": "https://localhost:8080/"
        },
        "id": "CQAswNec7huS",
        "outputId": "6e2d087e-e25b-44f3-90e5-eabe2780a34b"
      },
      "outputs": [
        {
          "output_type": "execute_result",
          "data": {
            "text/plain": [
              "CAMIS                    object\n",
              "DBA                      object\n",
              "BORO                     object\n",
              "BUILDING                 object\n",
              "STREET                   object\n",
              "ZIPCODE                  object\n",
              "PHONE                    object\n",
              "CUISINE_DESCRIPTION      object\n",
              "INSPECTION_DATE          object\n",
              "ACTION                   object\n",
              "VIOLATION_CODE           object\n",
              "VIOLATION_DESCRIPTION    object\n",
              "CRITICAL_FLAG            object\n",
              "SCORE                    object\n",
              "GRADE                    object\n",
              "GRADE_DATE               object\n",
              "RECORD_DATE              object\n",
              "INSPECTION_TYPE          object\n",
              "LATITUDE                 object\n",
              "LONGITUDE                object\n",
              "COMMUNITY_BOARD          object\n",
              "COUNCIL_DISTRICT         object\n",
              "CENSUS_TRACT             object\n",
              "BIN                      object\n",
              "BBL                      object\n",
              "NTA                      object\n",
              "dtype: object"
            ]
          },
          "metadata": {},
          "execution_count": 8
        }
      ],
      "source": [
        "df.dtypes"
      ]
    },
    {
      "cell_type": "markdown",
      "metadata": {
        "id": "eoF9TUCX7huT"
      },
      "source": [
        "## Cleaning Individual Columns"
      ]
    },
    {
      "cell_type": "code",
      "execution_count": 9,
      "metadata": {
        "colab": {
          "base_uri": "https://localhost:8080/"
        },
        "id": "6efdvJkD7huT",
        "outputId": "f8365c7d-9335-4fed-8739-96f2c8f2955d"
      },
      "outputs": [
        {
          "output_type": "execute_result",
          "data": {
            "text/plain": [
              "0"
            ]
          },
          "metadata": {},
          "execution_count": 9
        }
      ],
      "source": [
        "df.CAMIS.isnull().sum()"
      ]
    },
    {
      "cell_type": "code",
      "execution_count": 10,
      "metadata": {
        "colab": {
          "base_uri": "https://localhost:8080/"
        },
        "id": "k-z6hIHa7huT",
        "outputId": "d2d7d638-a43a-483a-c2cc-f15d6451dfc9"
      },
      "outputs": [
        {
          "output_type": "execute_result",
          "data": {
            "text/plain": [
              "1507"
            ]
          },
          "metadata": {},
          "execution_count": 10
        }
      ],
      "source": [
        "df.DBA.isnull().sum()"
      ]
    },
    {
      "cell_type": "code",
      "execution_count": 11,
      "metadata": {
        "id": "4R9lXjVS7huU"
      },
      "outputs": [],
      "source": [
        "# Checks that all CAMIS values correpond to a unique DBA value\n",
        "# ie the same CAMIS always has the same DBA\n",
        "max_cardinality = df[['DBA','CAMIS']].pivot_table(\n",
        "    index='CAMIS',\n",
        "    values='DBA',\n",
        "    aggfunc=pd.Series.nunique\n",
        ").DBA.max()\n",
        "\n",
        "assert(max_cardinality==1)"
      ]
    },
    {
      "cell_type": "markdown",
      "metadata": {
        "id": "1IprF2ZM7huU"
      },
      "source": [
        "### INSPECTION_TYPE"
      ]
    },
    {
      "cell_type": "code",
      "execution_count": 12,
      "metadata": {
        "colab": {
          "base_uri": "https://localhost:8080/"
        },
        "id": "2XMaAv9f7huU",
        "outputId": "23b7a55c-5e84-4bea-c116-e56804de8762"
      },
      "outputs": [
        {
          "output_type": "execute_result",
          "data": {
            "text/plain": [
              "Cycle Inspection / Initial Inspection                          160400\n",
              "Cycle Inspection / Re-inspection                                54254\n",
              "Pre-permit (Operational) / Initial Inspection                   28148\n",
              "Pre-permit (Operational) / Re-inspection                        10480\n",
              "Administrative Miscellaneous / Initial Inspection                5013\n",
              "Pre-permit (Non-operational) / Initial Inspection                2523\n",
              "Cycle Inspection / Reopening Inspection                          2437\n",
              "Smoke-Free Air Act / Initial Inspection                          1122\n",
              "Pre-permit (Operational) / Compliance Inspection                 1103\n",
              "Administrative Miscellaneous / Re-inspection                     1021\n",
              "Pre-permit (Operational) / Reopening Inspection                   914\n",
              "Inter-Agency Task Force / Initial Inspection                      842\n",
              "Trans Fat / Initial Inspection                                    748\n",
              "Cycle Inspection / Compliance Inspection                          384\n",
              "Calorie Posting / Initial Inspection                              349\n",
              "Smoke-Free Air Act / Re-inspection                                226\n",
              "Pre-permit (Non-operational) / Re-inspection                      216\n",
              "Trans Fat / Re-inspection                                         138\n",
              "Pre-permit (Operational) / Second Compliance Inspection            76\n",
              "Administrative Miscellaneous / Compliance Inspection               61\n",
              "Calorie Posting / Re-inspection                                    46\n",
              "Administrative Miscellaneous / Reopening Inspection                44\n",
              "Pre-permit (Non-operational) / Compliance Inspection               32\n",
              "Smoke-Free Air Act / Limited Inspection                            29\n",
              "Trans Fat / Compliance Inspection                                   9\n",
              "Administrative Miscellaneous / Second Compliance Inspection         7\n",
              "Smoke-Free Air Act / Compliance Inspection                          4\n",
              "Cycle Inspection / Second Compliance Inspection                     4\n",
              "Pre-permit (Non-operational) / Second Compliance Inspection         2\n",
              "Trans Fat / Second Compliance Inspection                            1\n",
              "Calorie Posting / Compliance Inspection                             1\n",
              "Name: INSPECTION_TYPE, dtype: int64"
            ]
          },
          "metadata": {},
          "execution_count": 12
        }
      ],
      "source": [
        "df.INSPECTION_TYPE.value_counts()"
      ]
    },
    {
      "cell_type": "code",
      "execution_count": 13,
      "metadata": {
        "colab": {
          "base_uri": "https://localhost:8080/"
        },
        "id": "h6rZutnX7huV",
        "outputId": "c7dba5de-69cc-4460-e19e-490cd6d82de8"
      },
      "outputs": [
        {
          "output_type": "execute_result",
          "data": {
            "text/plain": [
              "4067"
            ]
          },
          "metadata": {},
          "execution_count": 13
        }
      ],
      "source": [
        "sum(df.INSPECTION_TYPE.isnull())"
      ]
    },
    {
      "cell_type": "code",
      "execution_count": 14,
      "metadata": {
        "id": "D3jQrAWR7huW"
      },
      "outputs": [],
      "source": [
        "# We create a column \"TO_DELETE\" to mark the entries that we are not interested in.\n",
        "# We will perform first the inspection/analysis on all the attributes, and then delete the rows\n",
        "\n",
        "# Drop all cases where inspection is NULL\n",
        "df['TO_DELETE'] = df.INSPECTION_TYPE.isnull()"
      ]
    },
    {
      "cell_type": "code",
      "execution_count": 15,
      "metadata": {
        "colab": {
          "base_uri": "https://localhost:8080/"
        },
        "id": "8KjyCir27huW",
        "outputId": "2adb0d79-0965-494b-946d-7f935a4de684"
      },
      "outputs": [
        {
          "output_type": "execute_result",
          "data": {
            "text/plain": [
              "4067"
            ]
          },
          "metadata": {},
          "execution_count": 15
        }
      ],
      "source": [
        "sum(df['TO_DELETE'])"
      ]
    },
    {
      "cell_type": "code",
      "execution_count": 16,
      "metadata": {
        "id": "vxZMd7fp7huW"
      },
      "outputs": [],
      "source": [
        "# Break INSPECTION_TYPE into two columns, and also delete some inspection types\n",
        "\n",
        "# Create a new column that contains the results of the split on the '/'' character\n",
        "lst = df.INSPECTION_TYPE.str.split(' / ').values.tolist()\n",
        "lst = [ l if type(l)==type(list()) else ['',''] for l in lst ]\n",
        "t = pd.DataFrame(lst)\n"
      ]
    },
    {
      "cell_type": "code",
      "execution_count": 17,
      "metadata": {
        "colab": {
          "base_uri": "https://localhost:8080/"
        },
        "id": "kcFPoiEt7huX",
        "outputId": "424407ac-fefa-47be-9718-c331b821e450"
      },
      "outputs": [
        {
          "output_type": "execute_result",
          "data": {
            "text/plain": [
              "Cycle Inspection                217479\n",
              "Pre-permit (Operational)         40721\n",
              "Administrative Miscellaneous      6146\n",
              "                                  4067\n",
              "Pre-permit (Non-operational)      2773\n",
              "Smoke-Free Air Act                1381\n",
              "Trans Fat                          896\n",
              "Inter-Agency Task Force            842\n",
              "Calorie Posting                    396\n",
              "Name: 0, dtype: int64"
            ]
          },
          "metadata": {},
          "execution_count": 17
        }
      ],
      "source": [
        "t[0].value_counts()"
      ]
    },
    {
      "cell_type": "code",
      "execution_count": 18,
      "metadata": {
        "colab": {
          "base_uri": "https://localhost:8080/"
        },
        "id": "rbTovcLJ7huX",
        "outputId": "0c10cd6b-0927-4fe8-fe14-0a1485ebfd78"
      },
      "outputs": [
        {
          "output_type": "execute_result",
          "data": {
            "text/plain": [
              "Initial Inspection              199145\n",
              "Re-inspection                    66381\n",
              "                                  4067\n",
              "Reopening Inspection              3395\n",
              "Compliance Inspection             1594\n",
              "Second Compliance Inspection        90\n",
              "Limited Inspection                  29\n",
              "Name: 1, dtype: int64"
            ]
          },
          "metadata": {},
          "execution_count": 18
        }
      ],
      "source": [
        "t[1].value_counts()"
      ]
    },
    {
      "cell_type": "code",
      "execution_count": 19,
      "metadata": {
        "id": "eY0Ba3AJ7huX"
      },
      "outputs": [],
      "source": [
        "# Keep only cycle inspections. Ignore admin, pre-permit, transfat, and calorie posting inspections\n",
        "# We will only keep the initial inspections and the re-inspections. The other types are border cases\n",
        "\n",
        "keep = df.INSPECTION_TYPE.isin( ['Cycle Inspection / Initial Inspection', 'Cycle Inspection / Re-inspection'])\n"
      ]
    },
    {
      "cell_type": "code",
      "execution_count": 20,
      "metadata": {
        "colab": {
          "base_uri": "https://localhost:8080/"
        },
        "id": "_Ssa0cnt7huX",
        "outputId": "6b693648-1c0c-4343-d8df-616cec2c63ae"
      },
      "outputs": [
        {
          "output_type": "execute_result",
          "data": {
            "text/plain": [
              "60047"
            ]
          },
          "metadata": {},
          "execution_count": 20
        }
      ],
      "source": [
        "# Check how many we will drop: ~keep means negation on the keep and summing up adds up the 'True'\n",
        "sum(~keep)"
      ]
    },
    {
      "cell_type": "code",
      "execution_count": 21,
      "metadata": {
        "id": "pApwM2zQ7huX"
      },
      "outputs": [],
      "source": [
        "# Adding the \"not keep\" entries into the TO_DELETE\n",
        "\n",
        "# The |= operator is a shortcut for df['TO_DELETE'] = df['TO_DELETE'] | ~keep\n",
        "# We use the bit-OR operator (|), as we want to keep the existing deletions, and add the ones from the \n",
        "# additional condition\n",
        "df['TO_DELETE'] |= ~keep"
      ]
    },
    {
      "cell_type": "code",
      "execution_count": 22,
      "metadata": {
        "id": "EcO8IlJ77huY"
      },
      "outputs": [],
      "source": [
        "# Rename the two entries that we will keep into simpler values\n",
        "\n",
        "df[\"INSPECTION_TYPE\"].replace(\n",
        "    to_replace='Cycle Inspection / Initial Inspection',\n",
        "    value = 'Initial Inspection',\n",
        "    inplace=True\n",
        ")\n",
        "df[\"INSPECTION_TYPE\"].replace(\n",
        "    to_replace='Cycle Inspection / Re-inspection',\n",
        "    value = 'Re-inspection',\n",
        "    inplace=True\n",
        ")"
      ]
    },
    {
      "cell_type": "code",
      "execution_count": 23,
      "metadata": {
        "colab": {
          "base_uri": "https://localhost:8080/"
        },
        "id": "KP9P6n1z7huY",
        "outputId": "2ec43cd6-5bee-4d3c-b37e-5a7eb8396405"
      },
      "outputs": [
        {
          "output_type": "execute_result",
          "data": {
            "text/plain": [
              "60047"
            ]
          },
          "metadata": {},
          "execution_count": 23
        }
      ],
      "source": [
        "sum(df['TO_DELETE'])"
      ]
    },
    {
      "cell_type": "markdown",
      "metadata": {
        "id": "CAsBDpJa7huY"
      },
      "source": [
        "### BORO"
      ]
    },
    {
      "cell_type": "code",
      "execution_count": 24,
      "metadata": {
        "colab": {
          "base_uri": "https://localhost:8080/"
        },
        "id": "0SS6VR3W7huY",
        "outputId": "a9561ea9-468f-4dda-f5f7-0990d0332418"
      },
      "outputs": [
        {
          "output_type": "execute_result",
          "data": {
            "text/plain": [
              "Manhattan        105771\n",
              "Brooklyn          67587\n",
              "Queens            65566\n",
              "Bronx             26910\n",
              "Staten Island      8793\n",
              "0                    74\n",
              "Name: BORO, dtype: int64"
            ]
          },
          "metadata": {},
          "execution_count": 24
        }
      ],
      "source": [
        "df.BORO.value_counts()"
      ]
    },
    {
      "cell_type": "code",
      "execution_count": 25,
      "metadata": {
        "colab": {
          "base_uri": "https://localhost:8080/"
        },
        "id": "9Nlpfi0K7huY",
        "outputId": "70025393-1d2c-4f48-a6fb-67f789bc092e"
      },
      "outputs": [
        {
          "output_type": "execute_result",
          "data": {
            "text/plain": [
              "0"
            ]
          },
          "metadata": {},
          "execution_count": 25
        }
      ],
      "source": [
        "sum(df.BORO.isnull())"
      ]
    },
    {
      "cell_type": "code",
      "execution_count": 26,
      "metadata": {
        "id": "VFh5uhLe7huZ"
      },
      "outputs": [],
      "source": [
        "# Replace the \"Missing\" in BORO with null\n",
        "# df.BORO = df.BORO.replace('Missing', np.NaN)"
      ]
    },
    {
      "cell_type": "code",
      "execution_count": 27,
      "metadata": {
        "id": "zchlSkbn7huZ"
      },
      "outputs": [],
      "source": [
        "missing = set(df[df.BORO.isnull()].CAMIS)\n",
        "# missing"
      ]
    },
    {
      "cell_type": "code",
      "execution_count": 28,
      "metadata": {
        "colab": {
          "base_uri": "https://localhost:8080/"
        },
        "id": "mQflr8dy7huZ",
        "outputId": "6ad1ffcd-82d9-4e47-97a5-42e43dc3d79b"
      },
      "outputs": [
        {
          "output_type": "execute_result",
          "data": {
            "text/plain": [
              "74"
            ]
          },
          "metadata": {},
          "execution_count": 28
        }
      ],
      "source": [
        "sum(df.BORO == '0')"
      ]
    },
    {
      "cell_type": "code",
      "execution_count": 29,
      "metadata": {
        "id": "oFSs5QCx7huZ"
      },
      "outputs": [],
      "source": [
        "# Remove the entries with null/missing BORO value\n",
        "# Not worth trying to fix.\n",
        "df['TO_DELETE'] |= (df.BORO == '0')"
      ]
    },
    {
      "cell_type": "code",
      "execution_count": 30,
      "metadata": {
        "colab": {
          "base_uri": "https://localhost:8080/"
        },
        "id": "QPOCbcnj7huZ",
        "outputId": "b4148dc4-1f41-4388-f38f-d7c73c450c36"
      },
      "outputs": [
        {
          "output_type": "execute_result",
          "data": {
            "text/plain": [
              "60085"
            ]
          },
          "metadata": {},
          "execution_count": 30
        }
      ],
      "source": [
        "sum(df['TO_DELETE'])"
      ]
    },
    {
      "cell_type": "markdown",
      "metadata": {
        "id": "PFl2byK37huZ"
      },
      "source": [
        "### BUILDING"
      ]
    },
    {
      "cell_type": "code",
      "execution_count": 31,
      "metadata": {
        "colab": {
          "base_uri": "https://localhost:8080/"
        },
        "id": "M4MkcVzt7hua",
        "outputId": "17353738-dab4-420d-a16a-cb86afab7581"
      },
      "outputs": [
        {
          "output_type": "execute_result",
          "data": {
            "text/plain": [
              "652"
            ]
          },
          "metadata": {},
          "execution_count": 31
        }
      ],
      "source": [
        "sum(df.BUILDING.isnull())"
      ]
    },
    {
      "cell_type": "code",
      "execution_count": 32,
      "metadata": {
        "id": "Jp3zKK6B7hua"
      },
      "outputs": [],
      "source": [
        "# Inspect the entries with missing street number\n",
        "# df[df.BUILDING.isnull()]"
      ]
    },
    {
      "cell_type": "code",
      "execution_count": 33,
      "metadata": {
        "id": "MCa8rSXd7hua"
      },
      "outputs": [],
      "source": [
        "# Dropping the violations listed without street number\n",
        "# Most are in train stations and in airports, but there\n",
        "# are a few others in 'regular' locations\n",
        "\n",
        "df['TO_DELETE'] |= df.BUILDING.isnull()"
      ]
    },
    {
      "cell_type": "code",
      "execution_count": 34,
      "metadata": {
        "colab": {
          "base_uri": "https://localhost:8080/"
        },
        "id": "avGVuoCT7hua",
        "outputId": "711105d5-d2df-4e1b-d326-8cba04166dc5"
      },
      "outputs": [
        {
          "output_type": "execute_result",
          "data": {
            "text/plain": [
              "60617"
            ]
          },
          "metadata": {},
          "execution_count": 34
        }
      ],
      "source": [
        "sum(df['TO_DELETE'])"
      ]
    },
    {
      "cell_type": "markdown",
      "metadata": {
        "id": "sgjIS0ph7hua"
      },
      "source": [
        "### STREET"
      ]
    },
    {
      "cell_type": "code",
      "execution_count": 35,
      "metadata": {
        "colab": {
          "base_uri": "https://localhost:8080/"
        },
        "id": "3NJFHvHA7hua",
        "outputId": "95f60136-ceba-4143-9bee-2b45c64dc1c6"
      },
      "outputs": [
        {
          "output_type": "execute_result",
          "data": {
            "text/plain": [
              "27"
            ]
          },
          "metadata": {},
          "execution_count": 35
        }
      ],
      "source": [
        "# Check that no street values are empty\n",
        "sum(df.STREET.isnull())"
      ]
    },
    {
      "cell_type": "code",
      "execution_count": 36,
      "metadata": {
        "id": "ATpOqlqm7hua"
      },
      "outputs": [],
      "source": [
        "df['TO_DELETE'] |= df.STREET.isnull()"
      ]
    },
    {
      "cell_type": "code",
      "execution_count": 37,
      "metadata": {
        "colab": {
          "base_uri": "https://localhost:8080/"
        },
        "id": "XZPu1Jla7hub",
        "outputId": "b03ca17f-3d13-47d5-fa60-dededd8a2a95"
      },
      "outputs": [
        {
          "output_type": "execute_result",
          "data": {
            "text/plain": [
              "60617"
            ]
          },
          "metadata": {},
          "execution_count": 37
        }
      ],
      "source": [
        "sum(df['TO_DELETE'])"
      ]
    },
    {
      "cell_type": "markdown",
      "metadata": {
        "id": "Anh2a8qn7hub"
      },
      "source": [
        "### ZIPCODE"
      ]
    },
    {
      "cell_type": "code",
      "execution_count": 38,
      "metadata": {
        "colab": {
          "base_uri": "https://localhost:8080/"
        },
        "id": "E-EET8vP7hub",
        "outputId": "20f3f029-f166-4b5d-f22d-e812d91a200a"
      },
      "outputs": [
        {
          "output_type": "execute_result",
          "data": {
            "text/plain": [
              "3973"
            ]
          },
          "metadata": {},
          "execution_count": 38
        }
      ],
      "source": [
        "sum(df.ZIPCODE.isnull())"
      ]
    },
    {
      "cell_type": "code",
      "execution_count": 39,
      "metadata": {
        "colab": {
          "base_uri": "https://localhost:8080/"
        },
        "id": "PWQf4uIu7hub",
        "outputId": "79724517-de96-4dc7-fe7c-266d60ce5815"
      },
      "outputs": [
        {
          "output_type": "execute_result",
          "data": {
            "text/plain": [
              "472"
            ]
          },
          "metadata": {},
          "execution_count": 39
        }
      ],
      "source": [
        "len(set(df[df.ZIPCODE.isnull()].CAMIS))"
      ]
    },
    {
      "cell_type": "code",
      "execution_count": 40,
      "metadata": {
        "id": "X9MHWRZs7hub"
      },
      "outputs": [],
      "source": [
        "df['TO_DELETE'] |= df.ZIPCODE.isnull()"
      ]
    },
    {
      "cell_type": "code",
      "execution_count": 41,
      "metadata": {
        "id": "nmevPilF7hub"
      },
      "outputs": [],
      "source": [
        "# TODO: Fill in the missing zip codes, perhaps with geocoding of the addresses\n",
        "# For now, we just drop the cases without ZIPCODE"
      ]
    },
    {
      "cell_type": "markdown",
      "metadata": {
        "id": "WwQXJ_Sx7hub"
      },
      "source": [
        "### CUISINE DESCRIPTION"
      ]
    },
    {
      "cell_type": "code",
      "execution_count": 42,
      "metadata": {
        "colab": {
          "base_uri": "https://localhost:8080/"
        },
        "id": "DtlrlXic7hub",
        "outputId": "bffe6996-c897-4d19-dd58-371f52aa57b1"
      },
      "outputs": [
        {
          "output_type": "execute_result",
          "data": {
            "text/plain": [
              "American          50882\n",
              "Chinese           27701\n",
              "Pizza             16590\n",
              "Coffee/Tea        13156\n",
              "Latin American    11698\n",
              "                  ...  \n",
              "Czech                18\n",
              "Basque               10\n",
              "Lebanese              9\n",
              "New French            6\n",
              "Armenian              3\n",
              "Name: CUISINE_DESCRIPTION, Length: 87, dtype: int64"
            ]
          },
          "metadata": {},
          "execution_count": 42
        }
      ],
      "source": [
        "df.CUISINE_DESCRIPTION.value_counts()"
      ]
    },
    {
      "cell_type": "code",
      "execution_count": 43,
      "metadata": {
        "colab": {
          "base_uri": "https://localhost:8080/"
        },
        "id": "aj9tAxom7huc",
        "outputId": "501bd759-9239-4888-d030-81cbf8dde1a2"
      },
      "outputs": [
        {
          "output_type": "execute_result",
          "data": {
            "text/plain": [
              "87"
            ]
          },
          "metadata": {},
          "execution_count": 43
        }
      ],
      "source": [
        "len(df.CUISINE_DESCRIPTION.value_counts())"
      ]
    },
    {
      "cell_type": "code",
      "execution_count": 44,
      "metadata": {
        "colab": {
          "base_uri": "https://localhost:8080/"
        },
        "id": "2Gj1vAeJ7hud",
        "outputId": "ffd4091e-04dd-41e7-aa28-7a2242f4305a"
      },
      "outputs": [
        {
          "output_type": "execute_result",
          "data": {
            "text/plain": [
              "4067"
            ]
          },
          "metadata": {},
          "execution_count": 44
        }
      ],
      "source": [
        "sum(df.CUISINE_DESCRIPTION.isnull())"
      ]
    },
    {
      "cell_type": "code",
      "execution_count": 45,
      "metadata": {
        "colab": {
          "base_uri": "https://localhost:8080/",
          "height": 0
        },
        "id": "RtLYb0Fx7hud",
        "outputId": "1b9bd052-255c-45ff-90d8-97f5f33fb226"
      },
      "outputs": [
        {
          "output_type": "execute_result",
          "data": {
            "text/plain": [
              "\"\\ndf.CUISINE_DESCRIPTION.replace(\\n    to_replace='Café/Coffee/Tea',\\n    value = 'Cafe',\\n    inplace=True\\n)\\n\\ndf.CUISINE_DESCRIPTION.replace(\\n    to_replace='Latin (Cuban, Dominican, Puerto Rican, South & Central American)',\\n    value = 'Latin',\\n    inplace=True\\n)\\n\""
            ],
            "application/vnd.google.colaboratory.intrinsic+json": {
              "type": "string"
            }
          },
          "metadata": {},
          "execution_count": 45
        }
      ],
      "source": [
        "'''\n",
        "df.CUISINE_DESCRIPTION.replace(\n",
        "    to_replace='Café/Coffee/Tea',\n",
        "    value = 'Cafe',\n",
        "    inplace=True\n",
        ")\n",
        "\n",
        "df.CUISINE_DESCRIPTION.replace(\n",
        "    to_replace='Latin (Cuban, Dominican, Puerto Rican, South & Central American)',\n",
        "    value = 'Latin',\n",
        "    inplace=True\n",
        ")\n",
        "'''"
      ]
    },
    {
      "cell_type": "markdown",
      "metadata": {
        "id": "2X43fWCP7hud"
      },
      "source": [
        "### INSPECTION_DATE"
      ]
    },
    {
      "cell_type": "code",
      "execution_count": 46,
      "metadata": {
        "id": "hKe9BlTp7hud"
      },
      "outputs": [],
      "source": [
        "df[\"INSPECTION_DATE\"] = pd.to_datetime(df[\"INSPECTION_DATE\"], format=\"%m/%d/%Y\")"
      ]
    },
    {
      "cell_type": "code",
      "execution_count": 47,
      "metadata": {
        "colab": {
          "base_uri": "https://localhost:8080/"
        },
        "id": "MLq3GB1I7hud",
        "outputId": "380dd073-8c09-4aa7-d929-14b10b22cd8b"
      },
      "outputs": [
        {
          "output_type": "execute_result",
          "data": {
            "text/plain": [
              "count                           274701\n",
              "mean     2018-04-03 22:29:17.794838784\n",
              "min                1900-01-01 00:00:00\n",
              "25%                2019-02-20 00:00:00\n",
              "50%                2019-09-24 00:00:00\n",
              "75%                2021-08-23 00:00:00\n",
              "max                2022-06-21 00:00:00\n",
              "Name: INSPECTION_DATE, dtype: object"
            ]
          },
          "metadata": {},
          "execution_count": 47
        }
      ],
      "source": [
        "df.INSPECTION_DATE.describe(datetime_is_numeric=True)"
      ]
    },
    {
      "cell_type": "code",
      "execution_count": 48,
      "metadata": {
        "colab": {
          "base_uri": "https://localhost:8080/"
        },
        "id": "8R5jFOCF7hue",
        "outputId": "a23ad2a0-dec2-4c68-b9a9-ff873ad2b1d9"
      },
      "outputs": [
        {
          "output_type": "execute_result",
          "data": {
            "text/plain": [
              "0"
            ]
          },
          "metadata": {},
          "execution_count": 48
        }
      ],
      "source": [
        "sum(df.INSPECTION_DATE.isnull())"
      ]
    },
    {
      "cell_type": "code",
      "execution_count": 49,
      "metadata": {
        "colab": {
          "base_uri": "https://localhost:8080/",
          "height": 0
        },
        "id": "-uqR3Qy07hue",
        "outputId": "ee51f43c-9f9b-41b1-feb1-071f041e370a"
      },
      "outputs": [
        {
          "output_type": "execute_result",
          "data": {
            "text/plain": [
              "<matplotlib.axes._subplots.AxesSubplot at 0x7f536dd6c410>"
            ]
          },
          "metadata": {},
          "execution_count": 49
        },
        {
          "output_type": "display_data",
          "data": {
            "text/plain": [
              "<Figure size 432x288 with 1 Axes>"
            ],
            "image/png": "[encoded data removed]"
          },
          "metadata": {
            "image/png": {
              "width": 386,
              "height": 248
            },
            "needs_background": "light"
          }
        }
      ],
      "source": [
        "df.INSPECTION_DATE.hist(range=(pd.to_datetime('2010-01-01'),pd.to_datetime('2014-12-31')))"
      ]
    },
    {
      "cell_type": "code",
      "execution_count": 50,
      "metadata": {
        "id": "fh1QJw7o7hue"
      },
      "outputs": [],
      "source": [
        "# Drop the 1900-01-01 inspections. These are all incorrect and we cannot fix them\n",
        "df['TO_DELETE'] |= (df['INSPECTION_DATE'] == '1900-01-01')"
      ]
    },
    {
      "cell_type": "code",
      "execution_count": 51,
      "metadata": {
        "id": "48EiuFLT7hue"
      },
      "outputs": [],
      "source": [
        "# After analysis, it seems that we have minimal number of inspections before 2015\n",
        "df['TO_DELETE'] |=  (df['INSPECTION_DATE'] < '2015-01-01')"
      ]
    },
    {
      "cell_type": "code",
      "execution_count": 52,
      "metadata": {
        "colab": {
          "base_uri": "https://localhost:8080/"
        },
        "id": "Hg3vO4MJ7hue",
        "outputId": "53158397-1216-45ec-cf81-e1af47b01917"
      },
      "outputs": [
        {
          "output_type": "execute_result",
          "data": {
            "text/plain": [
              "63919"
            ]
          },
          "metadata": {},
          "execution_count": 52
        }
      ],
      "source": [
        "sum(df['TO_DELETE'])"
      ]
    },
    {
      "cell_type": "markdown",
      "metadata": {
        "id": "lcu3LsTs7hue"
      },
      "source": [
        "### ACTION"
      ]
    },
    {
      "cell_type": "code",
      "execution_count": 53,
      "metadata": {
        "colab": {
          "base_uri": "https://localhost:8080/"
        },
        "id": "_40DoGCF7huf",
        "outputId": "d1221df5-6c33-4255-87ab-859b1727900e"
      },
      "outputs": [
        {
          "output_type": "execute_result",
          "data": {
            "text/plain": [
              "4067"
            ]
          },
          "metadata": {},
          "execution_count": 53
        }
      ],
      "source": [
        "sum(df.ACTION.isnull())"
      ]
    },
    {
      "cell_type": "code",
      "execution_count": 54,
      "metadata": {
        "colab": {
          "base_uri": "https://localhost:8080/"
        },
        "id": "kWpYN6Vb7huf",
        "outputId": "aef78c65-2fd6-4bf9-a891-4437efd95185"
      },
      "outputs": [
        {
          "output_type": "execute_result",
          "data": {
            "text/plain": [
              "Violations were cited in the following area(s).                                                                                       254913\n",
              "Establishment Closed by DOHMH. Violations were cited in the following area(s) and those requiring immediate action were addressed.     10172\n",
              "Establishment re-opened by DOHMH.                                                                                                       2822\n",
              "No violations were recorded at the time of this inspection.                                                                             2680\n",
              "Establishment re-closed by DOHMH.                                                                                                         47\n",
              "Name: ACTION, dtype: int64"
            ]
          },
          "metadata": {},
          "execution_count": 54
        }
      ],
      "source": [
        "df[\"ACTION\"].value_counts()"
      ]
    },
    {
      "cell_type": "code",
      "execution_count": 55,
      "metadata": {
        "id": "V97p7THp7huf"
      },
      "outputs": [],
      "source": [
        "df[\"ACTION\"].replace(\n",
        "    to_replace='Violations were cited in the following area(s).',\n",
        "    value = 'Violations found',\n",
        "    inplace=True\n",
        ")"
      ]
    },
    {
      "cell_type": "code",
      "execution_count": 56,
      "metadata": {
        "id": "ZOAOtWnA7huf"
      },
      "outputs": [],
      "source": [
        "df[\"ACTION\"].replace(\n",
        "    to_replace='No violations were recorded at the time of this inspection.',\n",
        "    value = 'No violations',\n",
        "    inplace=True\n",
        ")"
      ]
    },
    {
      "cell_type": "code",
      "execution_count": 57,
      "metadata": {
        "id": "tSQ_90Wg7huf"
      },
      "outputs": [],
      "source": [
        "df[\"ACTION\"].replace(\n",
        "    to_replace='Establishment Closed by DOHMH. Violations were cited in the following area(s) and those requiring immediate action were addressed.',\n",
        "    value = 'Establishment closed',\n",
        "    inplace=True\n",
        ")"
      ]
    },
    {
      "cell_type": "code",
      "execution_count": 58,
      "metadata": {
        "id": "92dRzpXq7huf"
      },
      "outputs": [],
      "source": [
        "df[\"ACTION\"].replace(\n",
        "    to_replace='Establishment re-opened by DOHMH.',\n",
        "    value = 'Establishment re-opened',\n",
        "    inplace=True\n",
        ")"
      ]
    },
    {
      "cell_type": "code",
      "execution_count": 59,
      "metadata": {
        "id": "0Mwu12VK7huf"
      },
      "outputs": [],
      "source": [
        "df[\"ACTION\"].replace(\n",
        "    to_replace='Establishment re-closed by DOHMH.',\n",
        "    value = 'Establishment re-closed',\n",
        "    inplace=True\n",
        ")"
      ]
    },
    {
      "cell_type": "code",
      "execution_count": 60,
      "metadata": {
        "colab": {
          "base_uri": "https://localhost:8080/"
        },
        "id": "lnQv6kIq7huf",
        "outputId": "56852d5a-fe8c-4771-cf93-d07013a757cd"
      },
      "outputs": [
        {
          "output_type": "execute_result",
          "data": {
            "text/plain": [
              "Violations found           254913\n",
              "Establishment closed        10172\n",
              "Establishment re-opened      2822\n",
              "No violations                2680\n",
              "Establishment re-closed        47\n",
              "Name: ACTION, dtype: int64"
            ]
          },
          "metadata": {},
          "execution_count": 60
        }
      ],
      "source": [
        "df[\"ACTION\"].value_counts()"
      ]
    },
    {
      "cell_type": "code",
      "execution_count": 61,
      "metadata": {
        "id": "5zTccJNH7hug"
      },
      "outputs": [],
      "source": [
        "# Drop the Establishment re-opened and re-closed cases\n",
        "# as the inspection scores for these can be misleading\n",
        "df['TO_DELETE'] |=  (df.ACTION == 'Establishment re-closed')\n",
        "df['TO_DELETE'] |=  (df.ACTION == 'Establishment re-opened')\n",
        "df['TO_DELETE'] |=  df.ACTION.isnull()"
      ]
    },
    {
      "cell_type": "code",
      "execution_count": 62,
      "metadata": {
        "scrolled": true,
        "colab": {
          "base_uri": "https://localhost:8080/"
        },
        "id": "gwEOO7qV7hug",
        "outputId": "2d57efd7-ff06-4cea-e702-c87ee5b972b7"
      },
      "outputs": [
        {
          "output_type": "execute_result",
          "data": {
            "text/plain": [
              "63919"
            ]
          },
          "metadata": {},
          "execution_count": 62
        }
      ],
      "source": [
        "sum(df['TO_DELETE'])"
      ]
    },
    {
      "cell_type": "markdown",
      "metadata": {
        "id": "3Ud65ck87hug"
      },
      "source": [
        "### SCORE"
      ]
    },
    {
      "cell_type": "code",
      "execution_count": 63,
      "metadata": {
        "id": "IL15v7LZ7hug"
      },
      "outputs": [],
      "source": [
        "df[\"SCORE\"] = pd.to_numeric(df[\"SCORE\"])"
      ]
    },
    {
      "cell_type": "code",
      "execution_count": 64,
      "metadata": {
        "colab": {
          "base_uri": "https://localhost:8080/"
        },
        "id": "KAEoXrGb7hug",
        "outputId": "ae69ff2a-6477-4ea2-c58f-b6c08630656f"
      },
      "outputs": [
        {
          "output_type": "execute_result",
          "data": {
            "text/plain": [
              "count    261815.000000\n",
              "mean         21.413785\n",
              "std          15.605163\n",
              "min           0.000000\n",
              "25%          11.000000\n",
              "50%          17.000000\n",
              "75%          27.000000\n",
              "max         157.000000\n",
              "Name: SCORE, dtype: float64"
            ]
          },
          "metadata": {},
          "execution_count": 64
        }
      ],
      "source": [
        "df.SCORE.describe()"
      ]
    },
    {
      "cell_type": "code",
      "execution_count": 65,
      "metadata": {
        "colab": {
          "base_uri": "https://localhost:8080/"
        },
        "id": "4tWt6Mmt7hug",
        "outputId": "0ca9c94f-9b6e-472f-d397-68e7a7e833f5"
      },
      "outputs": [
        {
          "output_type": "execute_result",
          "data": {
            "text/plain": [
              "274701"
            ]
          },
          "metadata": {},
          "execution_count": 65
        }
      ],
      "source": [
        "len(df)"
      ]
    },
    {
      "cell_type": "code",
      "execution_count": 66,
      "metadata": {
        "colab": {
          "base_uri": "https://localhost:8080/"
        },
        "id": "S5YIIcHC7hug",
        "outputId": "2323c6e1-e3e4-46e0-a8d8-c150b185445d"
      },
      "outputs": [
        {
          "output_type": "execute_result",
          "data": {
            "text/plain": [
              "0"
            ]
          },
          "metadata": {},
          "execution_count": 66
        }
      ],
      "source": [
        "len( df[ df.SCORE < 0 ] )"
      ]
    },
    {
      "cell_type": "code",
      "execution_count": 67,
      "metadata": {
        "id": "EETxYPe_7hug"
      },
      "outputs": [],
      "source": [
        "df['TO_DELETE'] |= (df.SCORE < 0)"
      ]
    },
    {
      "cell_type": "code",
      "execution_count": 68,
      "metadata": {
        "colab": {
          "base_uri": "https://localhost:8080/"
        },
        "id": "-V2-GgF_7huh",
        "outputId": "37333dda-453e-4dd2-8a2f-39d1a4a3191e"
      },
      "outputs": [
        {
          "output_type": "execute_result",
          "data": {
            "text/plain": [
              "63919"
            ]
          },
          "metadata": {},
          "execution_count": 68
        }
      ],
      "source": [
        "sum(df['TO_DELETE'])"
      ]
    },
    {
      "cell_type": "code",
      "execution_count": 69,
      "metadata": {
        "id": "GQN7NNH_7huh"
      },
      "outputs": [],
      "source": [
        "# Drop cases reported as \"no violations but with positive score\"\n",
        "df['TO_DELETE'] |= ((df.SCORE > 0)  & (df.ACTION == 'No violations'))\n",
        "\n",
        "# Drop cases with zero score but with violations found\n",
        "df['TO_DELETE'] |= ((df.SCORE == 0)  & (df.ACTION == 'Violations found'))"
      ]
    },
    {
      "cell_type": "code",
      "execution_count": 70,
      "metadata": {
        "id": "Cy2-9jue7huh"
      },
      "outputs": [],
      "source": [
        "# Drop incorrectly scored inspections\n",
        "df['TO_DELETE'] |=  (df.GRADE=='A') & (df.SCORE>13)\n",
        "\n",
        "df['TO_DELETE'] |=  (df.GRADE=='B') & ( (df.SCORE<14) | (df.SCORE>27) )\n",
        "\n",
        "# Drop incorrectly scored inspections\n",
        "df['TO_DELETE'] |=  (df.GRADE=='C') & (df.SCORE<28)\n"
      ]
    },
    {
      "cell_type": "code",
      "execution_count": 71,
      "metadata": {
        "colab": {
          "base_uri": "https://localhost:8080/"
        },
        "id": "gMec_fnF7huh",
        "outputId": "bae99385-5d4a-4fcf-8be2-92bf385a10a0"
      },
      "outputs": [
        {
          "output_type": "execute_result",
          "data": {
            "text/plain": [
              "64011"
            ]
          },
          "metadata": {},
          "execution_count": 71
        }
      ],
      "source": [
        "sum(df['TO_DELETE'])"
      ]
    },
    {
      "cell_type": "markdown",
      "metadata": {
        "id": "dfm8FdW87huh"
      },
      "source": [
        "### RECORD_DATE"
      ]
    },
    {
      "cell_type": "code",
      "execution_count": 72,
      "metadata": {
        "id": "M3_voJ1r7huh"
      },
      "outputs": [],
      "source": [
        "df[\"RECORD_DATE\"] = pd.to_datetime(df[\"RECORD_DATE\"], format=\"%m/%d/%Y\")"
      ]
    },
    {
      "cell_type": "code",
      "execution_count": 73,
      "metadata": {
        "id": "sMgUFCK97huh"
      },
      "outputs": [],
      "source": [
        "# Drop record date field, as it only contains a single value\n",
        "df = df.drop( 'RECORD_DATE', axis = 'columns')"
      ]
    },
    {
      "cell_type": "markdown",
      "metadata": {
        "id": "7psVURc27huh"
      },
      "source": [
        "### GRADE"
      ]
    },
    {
      "cell_type": "code",
      "execution_count": 74,
      "metadata": {
        "colab": {
          "base_uri": "https://localhost:8080/"
        },
        "id": "NFNpK24R7hui",
        "outputId": "6bdf9fb3-288f-48e7-cac0-1bc378401de5"
      },
      "outputs": [
        {
          "output_type": "execute_result",
          "data": {
            "text/plain": [
              "A    104043\n",
              "B     15036\n",
              "C      6381\n",
              "N      6364\n",
              "Z      3020\n",
              "P      1407\n",
              "G         1\n",
              "Name: GRADE, dtype: int64"
            ]
          },
          "metadata": {},
          "execution_count": 74
        }
      ],
      "source": [
        "df.GRADE.value_counts()"
      ]
    },
    {
      "cell_type": "code",
      "execution_count": 75,
      "metadata": {
        "colab": {
          "base_uri": "https://localhost:8080/"
        },
        "id": "xAYPd7Mi7hui",
        "outputId": "78262566-253d-46a2-9032-05eeb1698c61"
      },
      "outputs": [
        {
          "output_type": "execute_result",
          "data": {
            "text/plain": [
              "138449"
            ]
          },
          "metadata": {},
          "execution_count": 75
        }
      ],
      "source": [
        "sum(df.GRADE.isnull())"
      ]
    },
    {
      "cell_type": "code",
      "execution_count": 76,
      "metadata": {
        "colab": {
          "base_uri": "https://localhost:8080/",
          "height": 0
        },
        "id": "X6w-881R7huj",
        "outputId": "6f32cb38-9e99-417a-ce53-ec5247d70fc4"
      },
      "outputs": [
        {
          "output_type": "execute_result",
          "data": {
            "text/plain": [
              "          CAMIS                DBA      BORO BUILDING    STREET ZIPCODE  \\\n",
              "35993  50043665  MEXICO EN LA PIEL  Brooklyn     5904  5 AVENUE   11220   \n",
              "\n",
              "            PHONE CUISINE_DESCRIPTION INSPECTION_DATE  \\\n",
              "35993  7187650001             Mexican      2019-11-08   \n",
              "\n",
              "                        ACTION  ...                          INSPECTION_TYPE  \\\n",
              "35993  Establishment re-opened  ...  Cycle Inspection / Reopening Inspection   \n",
              "\n",
              "              LATITUDE         LONGITUDE  COMMUNITY_BOARD COUNCIL_DISTRICT  \\\n",
              "35993  40.639960133856  -74.015677529764              307               38   \n",
              "\n",
              "      CENSUS_TRACT      BIN         BBL   NTA TO_DELETE  \n",
              "35993       007400  3324492  3008630040  BK32      True  \n",
              "\n",
              "[1 rows x 26 columns]"
            ],
            "text/html": [
              "\n",
              "  <div id=\"df-6c27e2be-dd3a-47fd-bbc0-78187bde8d84\">\n",
              "    <div class=\"colab-df-container\">\n",
              "      <div>\n",
              "<style scoped>\n",
              "    .dataframe tbody tr th:only-of-type {\n",
              "        vertical-align: middle;\n",
              "    }\n",
              "\n",
              "    .dataframe tbody tr th {\n",
              "        vertical-align: top;\n",
              "    }\n",
              "\n",
              "    .dataframe thead th {\n",
              "        text-align: right;\n",
              "    }\n",
              "</style>\n",
              "<table border=\"1\" class=\"dataframe\">\n",
              "  <thead>\n",
              "    <tr style=\"text-align: right;\">\n",
              "      <th></th>\n",
              "      <th>CAMIS</th>\n",
              "      <th>DBA</th>\n",
              "      <th>BORO</th>\n",
              "      <th>BUILDING</th>\n",
              "      <th>STREET</th>\n",
              "      <th>ZIPCODE</th>\n",
              "      <th>PHONE</th>\n",
              "      <th>CUISINE_DESCRIPTION</th>\n",
              "      <th>INSPECTION_DATE</th>\n",
              "      <th>ACTION</th>\n",
              "      <th>...</th>\n",
              "      <th>INSPECTION_TYPE</th>\n",
              "      <th>LATITUDE</th>\n",
              "      <th>LONGITUDE</th>\n",
              "      <th>COMMUNITY_BOARD</th>\n",
              "      <th>COUNCIL_DISTRICT</th>\n",
              "      <th>CENSUS_TRACT</th>\n",
              "      <th>BIN</th>\n",
              "      <th>BBL</th>\n",
              "      <th>NTA</th>\n",
              "      <th>TO_DELETE</th>\n",
              "    </tr>\n",
              "  </thead>\n",
              "  <tbody>\n",
              "    <tr>\n",
              "      <th>35993</th>\n",
              "      <td>50043665</td>\n",
              "      <td>MEXICO EN LA PIEL</td>\n",
              "      <td>Brooklyn</td>\n",
              "      <td>5904</td>\n",
              "      <td>5 AVENUE</td>\n",
              "      <td>11220</td>\n",
              "      <td>7187650001</td>\n",
              "      <td>Mexican</td>\n",
              "      <td>2019-11-08</td>\n",
              "      <td>Establishment re-opened</td>\n",
              "      <td>...</td>\n",
              "      <td>Cycle Inspection / Reopening Inspection</td>\n",
              "      <td>40.639960133856</td>\n",
              "      <td>-74.015677529764</td>\n",
              "      <td>307</td>\n",
              "      <td>38</td>\n",
              "      <td>007400</td>\n",
              "      <td>3324492</td>\n",
              "      <td>3008630040</td>\n",
              "      <td>BK32</td>\n",
              "      <td>True</td>\n",
              "    </tr>\n",
              "  </tbody>\n",
              "</table>\n",
              "<p>1 rows × 26 columns</p>\n",
              "</div>\n",
              "      <button class=\"colab-df-convert\" onclick=\"convertToInteractive('df-6c27e2be-dd3a-47fd-bbc0-78187bde8d84')\"\n",
              "              title=\"Convert this dataframe to an interactive table.\"\n",
              "              style=\"display:none;\">\n",
              "        \n",
              "  <svg xmlns=\"http://www.w3.org/2000/svg\" height=\"24px\"viewBox=\"0 0 24 24\"\n",
              "       width=\"24px\">\n",
              "    <path d=\"M0 0h24v24H0V0z\" fill=\"none\"/>\n",
              "    <path d=\"M18.56 5.44l.94 2.06.94-2.06 2.06-.94-2.06-.94-.94-2.06-.94 2.06-2.06.94zm-11 1L8.5 8.5l.94-2.06 2.06-.94-2.06-.94L8.5 2.5l-.94 2.06-2.06.94zm10 10l.94 2.06.94-2.06 2.06-.94-2.06-.94-.94-2.06-.94 2.06-2.06.94z\"/><path d=\"M17.41 7.96l-1.37-1.37c-.4-.4-.92-.59-1.43-.59-.52 0-1.04.2-1.43.59L10.3 9.45l-7.72 7.72c-.78.78-.78 2.05 0 2.83L4 21.41c.39.39.9.59 1.41.59.51 0 1.02-.2 1.41-.59l7.78-7.78 2.81-2.81c.8-.78.8-2.07 0-2.86zM5.41 20L4 18.59l7.72-7.72 1.47 1.35L5.41 20z\"/>\n",
              "  </svg>\n",
              "      </button>\n",
              "      \n",
              "  <style>\n",
              "    .colab-df-container {\n",
              "      display:flex;\n",
              "      flex-wrap:wrap;\n",
              "      gap: 12px;\n",
              "    }\n",
              "\n",
              "    .colab-df-convert {\n",
              "      background-color: #E8F0FE;\n",
              "      border: none;\n",
              "      border-radius: 50%;\n",
              "      cursor: pointer;\n",
              "      display: none;\n",
              "      fill: #1967D2;\n",
              "      height: 32px;\n",
              "      padding: 0 0 0 0;\n",
              "      width: 32px;\n",
              "    }\n",
              "\n",
              "    .colab-df-convert:hover {\n",
              "      background-color: #E2EBFA;\n",
              "      box-shadow: 0px 1px 2px rgba(60, 64, 67, 0.3), 0px 1px 3px 1px rgba(60, 64, 67, 0.15);\n",
              "      fill: #174EA6;\n",
              "    }\n",
              "\n",
              "    [theme=dark] .colab-df-convert {\n",
              "      background-color: #3B4455;\n",
              "      fill: #D2E3FC;\n",
              "    }\n",
              "\n",
              "    [theme=dark] .colab-df-convert:hover {\n",
              "      background-color: #434B5C;\n",
              "      box-shadow: 0px 1px 3px 1px rgba(0, 0, 0, 0.15);\n",
              "      filter: drop-shadow(0px 1px 2px rgba(0, 0, 0, 0.3));\n",
              "      fill: #FFFFFF;\n",
              "    }\n",
              "  </style>\n",
              "\n",
              "      <script>\n",
              "        const buttonEl =\n",
              "          document.querySelector('#df-6c27e2be-dd3a-47fd-bbc0-78187bde8d84 button.colab-df-convert');\n",
              "        buttonEl.style.display =\n",
              "          google.colab.kernel.accessAllowed ? 'block' : 'none';\n",
              "\n",
              "        async function convertToInteractive(key) {\n",
              "          const element = document.querySelector('#df-6c27e2be-dd3a-47fd-bbc0-78187bde8d84');\n",
              "          const dataTable =\n",
              "            await google.colab.kernel.invokeFunction('convertToInteractive',\n",
              "                                                     [key], {});\n",
              "          if (!dataTable) return;\n",
              "\n",
              "          const docLinkHtml = 'Like what you see? Visit the ' +\n",
              "            '<a target=\"_blank\" href=https://colab.research.google.com/notebooks/data_table.ipynb>data table notebook</a>'\n",
              "            + ' to learn more about interactive tables.';\n",
              "          element.innerHTML = '';\n",
              "          dataTable['output_type'] = 'display_data';\n",
              "          await google.colab.output.renderOutput(dataTable, element);\n",
              "          const docLink = document.createElement('div');\n",
              "          docLink.innerHTML = docLinkHtml;\n",
              "          element.appendChild(docLink);\n",
              "        }\n",
              "      </script>\n",
              "    </div>\n",
              "  </div>\n",
              "  "
            ]
          },
          "metadata": {},
          "execution_count": 76
        }
      ],
      "source": [
        "df.query(\" GRADE == 'G' \")"
      ]
    },
    {
      "cell_type": "code",
      "execution_count": 77,
      "metadata": {
        "id": "sb9FkiW_7huj"
      },
      "outputs": [],
      "source": [
        "# Seems that all the \"G\" correspond to \"A\"\n",
        "df.GRADE.replace('G', 'A', inplace=True)"
      ]
    },
    {
      "cell_type": "code",
      "execution_count": 78,
      "metadata": {
        "colab": {
          "base_uri": "https://localhost:8080/",
          "height": 0
        },
        "id": "eDa3JvYL7huj",
        "outputId": "5b18ebe7-aecb-4b6f-97e2-6248519b7201"
      },
      "outputs": [
        {
          "output_type": "execute_result",
          "data": {
            "text/plain": [
              "           CAMIS                                DBA           BORO  BUILDING  \\\n",
              "561     50051965           LITTLE POLAND RESTAURANT      Manhattan       200   \n",
              "982     40786914                      BOSTON MARKET  Staten Island      1465   \n",
              "1009    50074231                           CHOPSTIX       Brooklyn      3790   \n",
              "1085    50033801                       BABBALUCCI'S      Manhattan       331   \n",
              "1206    41330647                        MISS FAVELA       Brooklyn        57   \n",
              "...          ...                                ...            ...       ...   \n",
              "273291  50069505              TAJ MAHAL INDIAN REST       Brooklyn      7315   \n",
              "273463  50058097                CROWN FRIED CHICKEN       Brooklyn       148   \n",
              "273517  50059321  EL NUEVO SALINAS BAR & RESTAURANT         Queens     10202   \n",
              "274061  41629759               PL LOUNGE RESTAURANT         Queens  38123816   \n",
              "274079  41265530                   MING WOK KITCHEN         Queens      8418   \n",
              "\n",
              "                      STREET ZIPCODE       PHONE CUISINE_DESCRIPTION  \\\n",
              "561                 2 AVENUE   10003  2127779728              Polish   \n",
              "982            FOREST AVENUE   10302  7188151198            American   \n",
              "1009         NOSTRAND AVENUE   11235  7188910391    Chinese/Japanese   \n",
              "1085            LENOX AVENUE   10027  6469186578             Italian   \n",
              "1206       SOUTH    5 STREET   11249  7182304040           Brazilian   \n",
              "...                      ...     ...         ...                 ...   \n",
              "273291              3 AVENUE   11209  7187096279              Indian   \n",
              "273463          UTICA AVENUE   11213  9179662500             Chicken   \n",
              "273517         NORTHERN BLVD   11368  7182051980             Spanish   \n",
              "274061             65 STREET     NaN  6463265165      Latin American   \n",
              "274079  A NORTHERN BOULEVARD   11372  7184780241             Chinese   \n",
              "\n",
              "       INSPECTION_DATE                   ACTION  ...  \\\n",
              "561         2017-11-16  Establishment re-opened  ...   \n",
              "982         2020-01-17  Establishment re-opened  ...   \n",
              "1009        2019-10-15  Establishment re-opened  ...   \n",
              "1085        2018-12-13  Establishment re-opened  ...   \n",
              "1206        2019-09-23  Establishment re-opened  ...   \n",
              "...                ...                      ...  ...   \n",
              "273291      2019-03-28  Establishment re-opened  ...   \n",
              "273463      2019-10-15  Establishment re-opened  ...   \n",
              "273517      2017-12-18  Establishment re-opened  ...   \n",
              "274061      2018-10-02  Establishment re-opened  ...   \n",
              "274079      2020-01-21  Establishment re-opened  ...   \n",
              "\n",
              "                                INSPECTION_TYPE         LATITUDE  \\\n",
              "561     Cycle Inspection / Reopening Inspection  40.731394216196   \n",
              "982     Cycle Inspection / Reopening Inspection  40.624525295465   \n",
              "1009    Cycle Inspection / Reopening Inspection  40.591178949194   \n",
              "1085    Cycle Inspection / Reopening Inspection  40.808811380956   \n",
              "1206    Cycle Inspection / Reopening Inspection    40.7121576202   \n",
              "...                                         ...              ...   \n",
              "273291  Cycle Inspection / Reopening Inspection  40.632656835457   \n",
              "273463  Cycle Inspection / Reopening Inspection  40.673780611026   \n",
              "273517  Cycle Inspection / Reopening Inspection  40.757535339296   \n",
              "274061  Cycle Inspection / Reopening Inspection                0   \n",
              "274079  Cycle Inspection / Reopening Inspection   40.75576685348   \n",
              "\n",
              "               LONGITUDE  COMMUNITY_BOARD COUNCIL_DISTRICT CENSUS_TRACT  \\\n",
              "561     -73.985617855678              103               02       004000   \n",
              "982     -74.136709808322              501               49       024700   \n",
              "1009    -73.940115495018              315               48       059600   \n",
              "1085    -73.944734230384              110               09       022400   \n",
              "1206    -73.966428539688              301               33       054900   \n",
              "...                  ...              ...              ...          ...   \n",
              "273291  -74.027287650418              310               43       006600   \n",
              "273463  -73.930657130826              308               36       034500   \n",
              "273517  -73.866419993828              403               21       037900   \n",
              "274061                 0              NaN              NaN          NaN   \n",
              "274079   -73.88324740386              403               25       028100   \n",
              "\n",
              "            BIN         BBL   NTA TO_DELETE  \n",
              "561     1006479  1004540004  MN22      True  \n",
              "982     5024939  5010530124  SI28      True  \n",
              "1009    3327489  3074450001  BK17      True  \n",
              "1085    1057866  1019110033  MN03      True  \n",
              "1206    3063402  3024410032  BK73      True  \n",
              "...         ...         ...   ...       ...  \n",
              "273291  3147843  3059180004  BK31      True  \n",
              "273463  3036040  3013600051  BK61      True  \n",
              "273517  4042582  4017170001  QN26      True  \n",
              "274061      NaN           4   NaN      True  \n",
              "274079  4035174  4014320006  QN28      True  \n",
              "\n",
              "[1407 rows x 26 columns]"
            ],
            "text/html": [
              "\n",
              "  <div id=\"df-eb47c8f1-65fd-4b85-b17b-e60a32596aee\">\n",
              "    <div class=\"colab-df-container\">\n",
              "      <div>\n",
              "<style scoped>\n",
              "    .dataframe tbody tr th:only-of-type {\n",
              "        vertical-align: middle;\n",
              "    }\n",
              "\n",
              "    .dataframe tbody tr th {\n",
              "        vertical-align: top;\n",
              "    }\n",
              "\n",
              "    .dataframe thead th {\n",
              "        text-align: right;\n",
              "    }\n",
              "</style>\n",
              "<table border=\"1\" class=\"dataframe\">\n",
              "  <thead>\n",
              "    <tr style=\"text-align: right;\">\n",
              "      <th></th>\n",
              "      <th>CAMIS</th>\n",
              "      <th>DBA</th>\n",
              "      <th>BORO</th>\n",
              "      <th>BUILDING</th>\n",
              "      <th>STREET</th>\n",
              "      <th>ZIPCODE</th>\n",
              "      <th>PHONE</th>\n",
              "      <th>CUISINE_DESCRIPTION</th>\n",
              "      <th>INSPECTION_DATE</th>\n",
              "      <th>ACTION</th>\n",
              "      <th>...</th>\n",
              "      <th>INSPECTION_TYPE</th>\n",
              "      <th>LATITUDE</th>\n",
              "      <th>LONGITUDE</th>\n",
              "      <th>COMMUNITY_BOARD</th>\n",
              "      <th>COUNCIL_DISTRICT</th>\n",
              "      <th>CENSUS_TRACT</th>\n",
              "      <th>BIN</th>\n",
              "      <th>BBL</th>\n",
              "      <th>NTA</th>\n",
              "      <th>TO_DELETE</th>\n",
              "    </tr>\n",
              "  </thead>\n",
              "  <tbody>\n",
              "    <tr>\n",
              "      <th>561</th>\n",
              "      <td>50051965</td>\n",
              "      <td>LITTLE POLAND RESTAURANT</td>\n",
              "      <td>Manhattan</td>\n",
              "      <td>200</td>\n",
              "      <td>2 AVENUE</td>\n",
              "      <td>10003</td>\n",
              "      <td>2127779728</td>\n",
              "      <td>Polish</td>\n",
              "      <td>2017-11-16</td>\n",
              "      <td>Establishment re-opened</td>\n",
              "      <td>...</td>\n",
              "      <td>Cycle Inspection / Reopening Inspection</td>\n",
              "      <td>40.731394216196</td>\n",
              "      <td>-73.985617855678</td>\n",
              "      <td>103</td>\n",
              "      <td>02</td>\n",
              "      <td>004000</td>\n",
              "      <td>1006479</td>\n",
              "      <td>1004540004</td>\n",
              "      <td>MN22</td>\n",
              "      <td>True</td>\n",
              "    </tr>\n",
              "    <tr>\n",
              "      <th>982</th>\n",
              "      <td>40786914</td>\n",
              "      <td>BOSTON MARKET</td>\n",
              "      <td>Staten Island</td>\n",
              "      <td>1465</td>\n",
              "      <td>FOREST AVENUE</td>\n",
              "      <td>10302</td>\n",
              "      <td>7188151198</td>\n",
              "      <td>American</td>\n",
              "      <td>2020-01-17</td>\n",
              "      <td>Establishment re-opened</td>\n",
              "      <td>...</td>\n",
              "      <td>Cycle Inspection / Reopening Inspection</td>\n",
              "      <td>40.624525295465</td>\n",
              "      <td>-74.136709808322</td>\n",
              "      <td>501</td>\n",
              "      <td>49</td>\n",
              "      <td>024700</td>\n",
              "      <td>5024939</td>\n",
              "      <td>5010530124</td>\n",
              "      <td>SI28</td>\n",
              "      <td>True</td>\n",
              "    </tr>\n",
              "    <tr>\n",
              "      <th>1009</th>\n",
              "      <td>50074231</td>\n",
              "      <td>CHOPSTIX</td>\n",
              "      <td>Brooklyn</td>\n",
              "      <td>3790</td>\n",
              "      <td>NOSTRAND AVENUE</td>\n",
              "      <td>11235</td>\n",
              "      <td>7188910391</td>\n",
              "      <td>Chinese/Japanese</td>\n",
              "      <td>2019-10-15</td>\n",
              "      <td>Establishment re-opened</td>\n",
              "      <td>...</td>\n",
              "      <td>Cycle Inspection / Reopening Inspection</td>\n",
              "      <td>40.591178949194</td>\n",
              "      <td>-73.940115495018</td>\n",
              "      <td>315</td>\n",
              "      <td>48</td>\n",
              "      <td>059600</td>\n",
              "      <td>3327489</td>\n",
              "      <td>3074450001</td>\n",
              "      <td>BK17</td>\n",
              "      <td>True</td>\n",
              "    </tr>\n",
              "    <tr>\n",
              "      <th>1085</th>\n",
              "      <td>50033801</td>\n",
              "      <td>BABBALUCCI'S</td>\n",
              "      <td>Manhattan</td>\n",
              "      <td>331</td>\n",
              "      <td>LENOX AVENUE</td>\n",
              "      <td>10027</td>\n",
              "      <td>6469186578</td>\n",
              "      <td>Italian</td>\n",
              "      <td>2018-12-13</td>\n",
              "      <td>Establishment re-opened</td>\n",
              "      <td>...</td>\n",
              "      <td>Cycle Inspection / Reopening Inspection</td>\n",
              "      <td>40.808811380956</td>\n",
              "      <td>-73.944734230384</td>\n",
              "      <td>110</td>\n",
              "      <td>09</td>\n",
              "      <td>022400</td>\n",
              "      <td>1057866</td>\n",
              "      <td>1019110033</td>\n",
              "      <td>MN03</td>\n",
              "      <td>True</td>\n",
              "    </tr>\n",
              "    <tr>\n",
              "      <th>1206</th>\n",
              "      <td>41330647</td>\n",
              "      <td>MISS FAVELA</td>\n",
              "      <td>Brooklyn</td>\n",
              "      <td>57</td>\n",
              "      <td>SOUTH    5 STREET</td>\n",
              "      <td>11249</td>\n",
              "      <td>7182304040</td>\n",
              "      <td>Brazilian</td>\n",
              "      <td>2019-09-23</td>\n",
              "      <td>Establishment re-opened</td>\n",
              "      <td>...</td>\n",
              "      <td>Cycle Inspection / Reopening Inspection</td>\n",
              "      <td>40.7121576202</td>\n",
              "      <td>-73.966428539688</td>\n",
              "      <td>301</td>\n",
              "      <td>33</td>\n",
              "      <td>054900</td>\n",
              "      <td>3063402</td>\n",
              "      <td>3024410032</td>\n",
              "      <td>BK73</td>\n",
              "      <td>True</td>\n",
              "    </tr>\n",
              "    <tr>\n",
              "      <th>...</th>\n",
              "      <td>...</td>\n",
              "      <td>...</td>\n",
              "      <td>...</td>\n",
              "      <td>...</td>\n",
              "      <td>...</td>\n",
              "      <td>...</td>\n",
              "      <td>...</td>\n",
              "      <td>...</td>\n",
              "      <td>...</td>\n",
              "      <td>...</td>\n",
              "      <td>...</td>\n",
              "      <td>...</td>\n",
              "      <td>...</td>\n",
              "      <td>...</td>\n",
              "      <td>...</td>\n",
              "      <td>...</td>\n",
              "      <td>...</td>\n",
              "      <td>...</td>\n",
              "      <td>...</td>\n",
              "      <td>...</td>\n",
              "      <td>...</td>\n",
              "    </tr>\n",
              "    <tr>\n",
              "      <th>273291</th>\n",
              "      <td>50069505</td>\n",
              "      <td>TAJ MAHAL INDIAN REST</td>\n",
              "      <td>Brooklyn</td>\n",
              "      <td>7315</td>\n",
              "      <td>3 AVENUE</td>\n",
              "      <td>11209</td>\n",
              "      <td>7187096279</td>\n",
              "      <td>Indian</td>\n",
              "      <td>2019-03-28</td>\n",
              "      <td>Establishment re-opened</td>\n",
              "      <td>...</td>\n",
              "      <td>Cycle Inspection / Reopening Inspection</td>\n",
              "      <td>40.632656835457</td>\n",
              "      <td>-74.027287650418</td>\n",
              "      <td>310</td>\n",
              "      <td>43</td>\n",
              "      <td>006600</td>\n",
              "      <td>3147843</td>\n",
              "      <td>3059180004</td>\n",
              "      <td>BK31</td>\n",
              "      <td>True</td>\n",
              "    </tr>\n",
              "    <tr>\n",
              "      <th>273463</th>\n",
              "      <td>50058097</td>\n",
              "      <td>CROWN FRIED CHICKEN</td>\n",
              "      <td>Brooklyn</td>\n",
              "      <td>148</td>\n",
              "      <td>UTICA AVENUE</td>\n",
              "      <td>11213</td>\n",
              "      <td>9179662500</td>\n",
              "      <td>Chicken</td>\n",
              "      <td>2019-10-15</td>\n",
              "      <td>Establishment re-opened</td>\n",
              "      <td>...</td>\n",
              "      <td>Cycle Inspection / Reopening Inspection</td>\n",
              "      <td>40.673780611026</td>\n",
              "      <td>-73.930657130826</td>\n",
              "      <td>308</td>\n",
              "      <td>36</td>\n",
              "      <td>034500</td>\n",
              "      <td>3036040</td>\n",
              "      <td>3013600051</td>\n",
              "      <td>BK61</td>\n",
              "      <td>True</td>\n",
              "    </tr>\n",
              "    <tr>\n",
              "      <th>273517</th>\n",
              "      <td>50059321</td>\n",
              "      <td>EL NUEVO SALINAS BAR &amp; RESTAURANT</td>\n",
              "      <td>Queens</td>\n",
              "      <td>10202</td>\n",
              "      <td>NORTHERN BLVD</td>\n",
              "      <td>11368</td>\n",
              "      <td>7182051980</td>\n",
              "      <td>Spanish</td>\n",
              "      <td>2017-12-18</td>\n",
              "      <td>Establishment re-opened</td>\n",
              "      <td>...</td>\n",
              "      <td>Cycle Inspection / Reopening Inspection</td>\n",
              "      <td>40.757535339296</td>\n",
              "      <td>-73.866419993828</td>\n",
              "      <td>403</td>\n",
              "      <td>21</td>\n",
              "      <td>037900</td>\n",
              "      <td>4042582</td>\n",
              "      <td>4017170001</td>\n",
              "      <td>QN26</td>\n",
              "      <td>True</td>\n",
              "    </tr>\n",
              "    <tr>\n",
              "      <th>274061</th>\n",
              "      <td>41629759</td>\n",
              "      <td>PL LOUNGE RESTAURANT</td>\n",
              "      <td>Queens</td>\n",
              "      <td>38123816</td>\n",
              "      <td>65 STREET</td>\n",
              "      <td>NaN</td>\n",
              "      <td>6463265165</td>\n",
              "      <td>Latin American</td>\n",
              "      <td>2018-10-02</td>\n",
              "      <td>Establishment re-opened</td>\n",
              "      <td>...</td>\n",
              "      <td>Cycle Inspection / Reopening Inspection</td>\n",
              "      <td>0</td>\n",
              "      <td>0</td>\n",
              "      <td>NaN</td>\n",
              "      <td>NaN</td>\n",
              "      <td>NaN</td>\n",
              "      <td>NaN</td>\n",
              "      <td>4</td>\n",
              "      <td>NaN</td>\n",
              "      <td>True</td>\n",
              "    </tr>\n",
              "    <tr>\n",
              "      <th>274079</th>\n",
              "      <td>41265530</td>\n",
              "      <td>MING WOK KITCHEN</td>\n",
              "      <td>Queens</td>\n",
              "      <td>8418</td>\n",
              "      <td>A NORTHERN BOULEVARD</td>\n",
              "      <td>11372</td>\n",
              "      <td>7184780241</td>\n",
              "      <td>Chinese</td>\n",
              "      <td>2020-01-21</td>\n",
              "      <td>Establishment re-opened</td>\n",
              "      <td>...</td>\n",
              "      <td>Cycle Inspection / Reopening Inspection</td>\n",
              "      <td>40.75576685348</td>\n",
              "      <td>-73.88324740386</td>\n",
              "      <td>403</td>\n",
              "      <td>25</td>\n",
              "      <td>028100</td>\n",
              "      <td>4035174</td>\n",
              "      <td>4014320006</td>\n",
              "      <td>QN28</td>\n",
              "      <td>True</td>\n",
              "    </tr>\n",
              "  </tbody>\n",
              "</table>\n",
              "<p>1407 rows × 26 columns</p>\n",
              "</div>\n",
              "      <button class=\"colab-df-convert\" onclick=\"convertToInteractive('df-eb47c8f1-65fd-4b85-b17b-e60a32596aee')\"\n",
              "              title=\"Convert this dataframe to an interactive table.\"\n",
              "              style=\"display:none;\">\n",
              "        \n",
              "  <svg xmlns=\"http://www.w3.org/2000/svg\" height=\"24px\"viewBox=\"0 0 24 24\"\n",
              "       width=\"24px\">\n",
              "    <path d=\"M0 0h24v24H0V0z\" fill=\"none\"/>\n",
              "    <path d=\"M18.56 5.44l.94 2.06.94-2.06 2.06-.94-2.06-.94-.94-2.06-.94 2.06-2.06.94zm-11 1L8.5 8.5l.94-2.06 2.06-.94-2.06-.94L8.5 2.5l-.94 2.06-2.06.94zm10 10l.94 2.06.94-2.06 2.06-.94-2.06-.94-.94-2.06-.94 2.06-2.06.94z\"/><path d=\"M17.41 7.96l-1.37-1.37c-.4-.4-.92-.59-1.43-.59-.52 0-1.04.2-1.43.59L10.3 9.45l-7.72 7.72c-.78.78-.78 2.05 0 2.83L4 21.41c.39.39.9.59 1.41.59.51 0 1.02-.2 1.41-.59l7.78-7.78 2.81-2.81c.8-.78.8-2.07 0-2.86zM5.41 20L4 18.59l7.72-7.72 1.47 1.35L5.41 20z\"/>\n",
              "  </svg>\n",
              "      </button>\n",
              "      \n",
              "  <style>\n",
              "    .colab-df-container {\n",
              "      display:flex;\n",
              "      flex-wrap:wrap;\n",
              "      gap: 12px;\n",
              "    }\n",
              "\n",
              "    .colab-df-convert {\n",
              "      background-color: #E8F0FE;\n",
              "      border: none;\n",
              "      border-radius: 50%;\n",
              "      cursor: pointer;\n",
              "      display: none;\n",
              "      fill: #1967D2;\n",
              "      height: 32px;\n",
              "      padding: 0 0 0 0;\n",
              "      width: 32px;\n",
              "    }\n",
              "\n",
              "    .colab-df-convert:hover {\n",
              "      background-color: #E2EBFA;\n",
              "      box-shadow: 0px 1px 2px rgba(60, 64, 67, 0.3), 0px 1px 3px 1px rgba(60, 64, 67, 0.15);\n",
              "      fill: #174EA6;\n",
              "    }\n",
              "\n",
              "    [theme=dark] .colab-df-convert {\n",
              "      background-color: #3B4455;\n",
              "      fill: #D2E3FC;\n",
              "    }\n",
              "\n",
              "    [theme=dark] .colab-df-convert:hover {\n",
              "      background-color: #434B5C;\n",
              "      box-shadow: 0px 1px 3px 1px rgba(0, 0, 0, 0.15);\n",
              "      filter: drop-shadow(0px 1px 2px rgba(0, 0, 0, 0.3));\n",
              "      fill: #FFFFFF;\n",
              "    }\n",
              "  </style>\n",
              "\n",
              "      <script>\n",
              "        const buttonEl =\n",
              "          document.querySelector('#df-eb47c8f1-65fd-4b85-b17b-e60a32596aee button.colab-df-convert');\n",
              "        buttonEl.style.display =\n",
              "          google.colab.kernel.accessAllowed ? 'block' : 'none';\n",
              "\n",
              "        async function convertToInteractive(key) {\n",
              "          const element = document.querySelector('#df-eb47c8f1-65fd-4b85-b17b-e60a32596aee');\n",
              "          const dataTable =\n",
              "            await google.colab.kernel.invokeFunction('convertToInteractive',\n",
              "                                                     [key], {});\n",
              "          if (!dataTable) return;\n",
              "\n",
              "          const docLinkHtml = 'Like what you see? Visit the ' +\n",
              "            '<a target=\"_blank\" href=https://colab.research.google.com/notebooks/data_table.ipynb>data table notebook</a>'\n",
              "            + ' to learn more about interactive tables.';\n",
              "          element.innerHTML = '';\n",
              "          dataTable['output_type'] = 'display_data';\n",
              "          await google.colab.output.renderOutput(dataTable, element);\n",
              "          const docLink = document.createElement('div');\n",
              "          docLink.innerHTML = docLinkHtml;\n",
              "          element.appendChild(docLink);\n",
              "        }\n",
              "      </script>\n",
              "    </div>\n",
              "  </div>\n",
              "  "
            ]
          },
          "metadata": {},
          "execution_count": 78
        }
      ],
      "source": [
        "# P assigned to 'Establishment re-opened' actions\n",
        "df.query(\" GRADE == 'P' \")"
      ]
    },
    {
      "cell_type": "code",
      "execution_count": 79,
      "metadata": {
        "colab": {
          "base_uri": "https://localhost:8080/"
        },
        "id": "xie57cwO7huj",
        "outputId": "883596b1-82e7-4ca7-d82d-616466655ebf"
      },
      "outputs": [
        {
          "output_type": "execute_result",
          "data": {
            "text/plain": [
              "Establishment re-opened    1407\n",
              "Name: ACTION, dtype: int64"
            ]
          },
          "metadata": {},
          "execution_count": 79
        }
      ],
      "source": [
        "# P assigned to 'Establishment re-opened' actions\n",
        "df.query(\" GRADE == 'P' \").ACTION.value_counts()"
      ]
    },
    {
      "cell_type": "code",
      "execution_count": 80,
      "metadata": {
        "colab": {
          "base_uri": "https://localhost:8080/"
        },
        "id": "iPYvaipU7huj",
        "outputId": "dc2dd139-d01b-4f5c-ebdc-f6cf1c8cd1c1"
      },
      "outputs": [
        {
          "output_type": "execute_result",
          "data": {
            "text/plain": [
              "Cycle Inspection / Reopening Inspection            1146\n",
              "Pre-permit (Operational) / Reopening Inspection     261\n",
              "Name: INSPECTION_TYPE, dtype: int64"
            ]
          },
          "metadata": {},
          "execution_count": 80
        }
      ],
      "source": [
        "# P assigned to 'Reopening Inspection' inspection types\n",
        "df.query(\" GRADE == 'P' \").INSPECTION_TYPE.value_counts()"
      ]
    },
    {
      "cell_type": "code",
      "execution_count": 81,
      "metadata": {
        "id": "mYo58n_I7huj"
      },
      "outputs": [],
      "source": [
        "# df.query(\" GRADE == 'Z' \").SCORE.hist(bins=100)"
      ]
    },
    {
      "cell_type": "code",
      "execution_count": 82,
      "metadata": {
        "colab": {
          "base_uri": "https://localhost:8080/"
        },
        "id": "e3ON_QPE7huk",
        "outputId": "0b604860-441b-41fd-a567-c8fb4ee802bd"
      },
      "outputs": [
        {
          "output_type": "execute_result",
          "data": {
            "text/plain": [
              "A    104044\n",
              "B     15036\n",
              "C      6381\n",
              "N      6364\n",
              "Z      3020\n",
              "P      1407\n",
              "Name: GRADE, dtype: int64"
            ]
          },
          "metadata": {},
          "execution_count": 82
        }
      ],
      "source": [
        "# TODO: Figure out what Z, and Not Yet Graded means in GRADE\n",
        "# Until then, we just replace these values with NULL, keeping only the A, B, C grades\n",
        "\n",
        "# \n",
        "df.GRADE.value_counts()"
      ]
    },
    {
      "cell_type": "code",
      "execution_count": 83,
      "metadata": {
        "id": "2GdMxqpj7huk"
      },
      "outputs": [],
      "source": [
        "df['TO_DELETE'] |=  (df.GRADE=='Z')\n",
        "df['TO_DELETE'] |=  (df.GRADE=='P')\n",
        "df['TO_DELETE'] |=  (df.GRADE=='N') # Not Yet Graded\n",
        "df['TO_DELETE'] |=  (df.GRADE=='Not Yet Graded')"
      ]
    },
    {
      "cell_type": "markdown",
      "metadata": {
        "id": "AyejLLa57huk"
      },
      "source": [
        "### GRADE_DATE"
      ]
    },
    {
      "cell_type": "code",
      "execution_count": 84,
      "metadata": {
        "id": "Np46cuoT7huk"
      },
      "outputs": [],
      "source": [
        "df[\"GRADE_DATE\"] = pd.to_datetime(df[\"GRADE_DATE\"], format=\"%m/%d/%Y\")\n"
      ]
    },
    {
      "cell_type": "code",
      "execution_count": 85,
      "metadata": {
        "id": "Q2sLR9Wo7huk"
      },
      "outputs": [],
      "source": [
        "# Grade date and inspection date should be the same. \n",
        "assert np.abs((df.GRADE_DATE - df.INSPECTION_DATE).dropna()).sum().days == 0"
      ]
    },
    {
      "cell_type": "code",
      "execution_count": 86,
      "metadata": {
        "id": "q4ndg-dx7huk"
      },
      "outputs": [],
      "source": [
        "# Check that is there is a grade date, a grade is also assigned\n",
        "assert sum ( ~df.GRADE_DATE.isnull() & df.GRADE.isnull() )  == 0"
      ]
    },
    {
      "cell_type": "code",
      "execution_count": 87,
      "metadata": {
        "id": "FJp6Yz9a7huk"
      },
      "outputs": [],
      "source": [
        "# We do not need GRADE DATE if we have INSPECTION DATE\n",
        "df = df.drop(\"GRADE_DATE\", axis='columns')"
      ]
    },
    {
      "cell_type": "markdown",
      "metadata": {
        "id": "u3MyODWT7hul"
      },
      "source": [
        "### VIOLATION_CODE and VIOLATION_DESCRIPTION"
      ]
    },
    {
      "cell_type": "code",
      "execution_count": 88,
      "metadata": {
        "colab": {
          "base_uri": "https://localhost:8080/"
        },
        "id": "B_8tyfr57hul",
        "outputId": "69f12d19-bb38-4e0f-a00d-9e2a6d877ac8"
      },
      "outputs": [
        {
          "output_type": "execute_result",
          "data": {
            "text/plain": [
              "6770"
            ]
          },
          "metadata": {},
          "execution_count": 88
        }
      ],
      "source": [
        "df.VIOLATION_CODE.isnull().sum()"
      ]
    },
    {
      "cell_type": "code",
      "execution_count": 89,
      "metadata": {
        "id": "ZalBL3Fx7hul"
      },
      "outputs": [],
      "source": [
        "# All the cases where violation code is NULL should be either cases that we delete\n",
        "# or a \"No violations\" case\n",
        "check = df[df.VIOLATION_CODE.isnull() & ~df.TO_DELETE & (df.ACTION!='No violations')]\n",
        "\n",
        "assert( len(check) == 0 )\n"
      ]
    },
    {
      "cell_type": "code",
      "execution_count": 90,
      "metadata": {
        "colab": {
          "base_uri": "https://localhost:8080/"
        },
        "id": "-c7JFdfi7hul",
        "outputId": "83c6cbc8-e882-4dea-a4b4-59ff57edb1b4"
      },
      "outputs": [
        {
          "output_type": "execute_result",
          "data": {
            "text/plain": [
              "5343"
            ]
          },
          "metadata": {},
          "execution_count": 90
        }
      ],
      "source": [
        "df.VIOLATION_DESCRIPTION.isnull().sum()"
      ]
    },
    {
      "cell_type": "code",
      "execution_count": 91,
      "metadata": {
        "colab": {
          "base_uri": "https://localhost:8080/",
          "height": 0
        },
        "id": "EkaYq1St7hul",
        "outputId": "4421ffe5-622e-4749-b5d6-8e15ef1131bd"
      },
      "outputs": [
        {
          "output_type": "execute_result",
          "data": {
            "text/plain": [
              "                VIOLATION_DESCRIPTION\n",
              "VIOLATION_CODE                       \n",
              "16C                                 2\n",
              "02A                                 1\n",
              "15L                                 1\n",
              "15J                                 1\n",
              "15I                                 1\n",
              "...                               ...\n",
              "04O                                 1\n",
              "04N                                 1\n",
              "04M                                 1\n",
              "04L                                 1\n",
              "22G                                 1\n",
              "\n",
              "[102 rows x 1 columns]"
            ],
            "text/html": [
              "\n",
              "  <div id=\"df-69fb94fc-04d8-4f27-9489-0b07b690ac32\">\n",
              "    <div class=\"colab-df-container\">\n",
              "      <div>\n",
              "<style scoped>\n",
              "    .dataframe tbody tr th:only-of-type {\n",
              "        vertical-align: middle;\n",
              "    }\n",
              "\n",
              "    .dataframe tbody tr th {\n",
              "        vertical-align: top;\n",
              "    }\n",
              "\n",
              "    .dataframe thead th {\n",
              "        text-align: right;\n",
              "    }\n",
              "</style>\n",
              "<table border=\"1\" class=\"dataframe\">\n",
              "  <thead>\n",
              "    <tr style=\"text-align: right;\">\n",
              "      <th></th>\n",
              "      <th>VIOLATION_DESCRIPTION</th>\n",
              "    </tr>\n",
              "    <tr>\n",
              "      <th>VIOLATION_CODE</th>\n",
              "      <th></th>\n",
              "    </tr>\n",
              "  </thead>\n",
              "  <tbody>\n",
              "    <tr>\n",
              "      <th>16C</th>\n",
              "      <td>2</td>\n",
              "    </tr>\n",
              "    <tr>\n",
              "      <th>02A</th>\n",
              "      <td>1</td>\n",
              "    </tr>\n",
              "    <tr>\n",
              "      <th>15L</th>\n",
              "      <td>1</td>\n",
              "    </tr>\n",
              "    <tr>\n",
              "      <th>15J</th>\n",
              "      <td>1</td>\n",
              "    </tr>\n",
              "    <tr>\n",
              "      <th>15I</th>\n",
              "      <td>1</td>\n",
              "    </tr>\n",
              "    <tr>\n",
              "      <th>...</th>\n",
              "      <td>...</td>\n",
              "    </tr>\n",
              "    <tr>\n",
              "      <th>04O</th>\n",
              "      <td>1</td>\n",
              "    </tr>\n",
              "    <tr>\n",
              "      <th>04N</th>\n",
              "      <td>1</td>\n",
              "    </tr>\n",
              "    <tr>\n",
              "      <th>04M</th>\n",
              "      <td>1</td>\n",
              "    </tr>\n",
              "    <tr>\n",
              "      <th>04L</th>\n",
              "      <td>1</td>\n",
              "    </tr>\n",
              "    <tr>\n",
              "      <th>22G</th>\n",
              "      <td>1</td>\n",
              "    </tr>\n",
              "  </tbody>\n",
              "</table>\n",
              "<p>102 rows × 1 columns</p>\n",
              "</div>\n",
              "      <button class=\"colab-df-convert\" onclick=\"convertToInteractive('df-69fb94fc-04d8-4f27-9489-0b07b690ac32')\"\n",
              "              title=\"Convert this dataframe to an interactive table.\"\n",
              "              style=\"display:none;\">\n",
              "        \n",
              "  <svg xmlns=\"http://www.w3.org/2000/svg\" height=\"24px\"viewBox=\"0 0 24 24\"\n",
              "       width=\"24px\">\n",
              "    <path d=\"M0 0h24v24H0V0z\" fill=\"none\"/>\n",
              "    <path d=\"M18.56 5.44l.94 2.06.94-2.06 2.06-.94-2.06-.94-.94-2.06-.94 2.06-2.06.94zm-11 1L8.5 8.5l.94-2.06 2.06-.94-2.06-.94L8.5 2.5l-.94 2.06-2.06.94zm10 10l.94 2.06.94-2.06 2.06-.94-2.06-.94-.94-2.06-.94 2.06-2.06.94z\"/><path d=\"M17.41 7.96l-1.37-1.37c-.4-.4-.92-.59-1.43-.59-.52 0-1.04.2-1.43.59L10.3 9.45l-7.72 7.72c-.78.78-.78 2.05 0 2.83L4 21.41c.39.39.9.59 1.41.59.51 0 1.02-.2 1.41-.59l7.78-7.78 2.81-2.81c.8-.78.8-2.07 0-2.86zM5.41 20L4 18.59l7.72-7.72 1.47 1.35L5.41 20z\"/>\n",
              "  </svg>\n",
              "      </button>\n",
              "      \n",
              "  <style>\n",
              "    .colab-df-container {\n",
              "      display:flex;\n",
              "      flex-wrap:wrap;\n",
              "      gap: 12px;\n",
              "    }\n",
              "\n",
              "    .colab-df-convert {\n",
              "      background-color: #E8F0FE;\n",
              "      border: none;\n",
              "      border-radius: 50%;\n",
              "      cursor: pointer;\n",
              "      display: none;\n",
              "      fill: #1967D2;\n",
              "      height: 32px;\n",
              "      padding: 0 0 0 0;\n",
              "      width: 32px;\n",
              "    }\n",
              "\n",
              "    .colab-df-convert:hover {\n",
              "      background-color: #E2EBFA;\n",
              "      box-shadow: 0px 1px 2px rgba(60, 64, 67, 0.3), 0px 1px 3px 1px rgba(60, 64, 67, 0.15);\n",
              "      fill: #174EA6;\n",
              "    }\n",
              "\n",
              "    [theme=dark] .colab-df-convert {\n",
              "      background-color: #3B4455;\n",
              "      fill: #D2E3FC;\n",
              "    }\n",
              "\n",
              "    [theme=dark] .colab-df-convert:hover {\n",
              "      background-color: #434B5C;\n",
              "      box-shadow: 0px 1px 3px 1px rgba(0, 0, 0, 0.15);\n",
              "      filter: drop-shadow(0px 1px 2px rgba(0, 0, 0, 0.3));\n",
              "      fill: #FFFFFF;\n",
              "    }\n",
              "  </style>\n",
              "\n",
              "      <script>\n",
              "        const buttonEl =\n",
              "          document.querySelector('#df-69fb94fc-04d8-4f27-9489-0b07b690ac32 button.colab-df-convert');\n",
              "        buttonEl.style.display =\n",
              "          google.colab.kernel.accessAllowed ? 'block' : 'none';\n",
              "\n",
              "        async function convertToInteractive(key) {\n",
              "          const element = document.querySelector('#df-69fb94fc-04d8-4f27-9489-0b07b690ac32');\n",
              "          const dataTable =\n",
              "            await google.colab.kernel.invokeFunction('convertToInteractive',\n",
              "                                                     [key], {});\n",
              "          if (!dataTable) return;\n",
              "\n",
              "          const docLinkHtml = 'Like what you see? Visit the ' +\n",
              "            '<a target=\"_blank\" href=https://colab.research.google.com/notebooks/data_table.ipynb>data table notebook</a>'\n",
              "            + ' to learn more about interactive tables.';\n",
              "          element.innerHTML = '';\n",
              "          dataTable['output_type'] = 'display_data';\n",
              "          await google.colab.output.renderOutput(dataTable, element);\n",
              "          const docLink = document.createElement('div');\n",
              "          docLink.innerHTML = docLinkHtml;\n",
              "          element.appendChild(docLink);\n",
              "        }\n",
              "      </script>\n",
              "    </div>\n",
              "  </div>\n",
              "  "
            ]
          },
          "metadata": {},
          "execution_count": 91
        }
      ],
      "source": [
        "# Checks that all VIOLATION_CODE has unique VIOLATION_DESCRIPTION\n",
        "df[['VIOLATION_CODE','VIOLATION_DESCRIPTION']].drop_duplicates().pivot_table(\n",
        "    index='VIOLATION_CODE',\n",
        "    values='VIOLATION_DESCRIPTION',\n",
        "    aggfunc=pd.Series.nunique\n",
        ").sort_values('VIOLATION_DESCRIPTION', ascending=False)\n"
      ]
    },
    {
      "cell_type": "code",
      "source": [
        "df['TO_DELETE'] |=  (df.VIOLATION_DESCRIPTION == 'Caloric content not posted on menus, menu boards or food tags, in a food service establishment that is 1 of 15 or more outlets operating the same type of business nationally under common ownership or control, or as a franchise or doing business under the same name, for each menu item that is served in portions, the size and content of which are standardized.')"
      ],
      "metadata": {
        "id": "EimlOZPhBtAX"
      },
      "execution_count": 92,
      "outputs": []
    },
    {
      "cell_type": "code",
      "execution_count": 93,
      "metadata": {
        "id": "MK_OOkg-7hul"
      },
      "outputs": [],
      "source": [
        "# In the dataset we have a NULL violation, when there is no violation\n",
        "# To make this more explicit, we replace NULL with 000\n",
        "# df.VIOLATION_CODE.fillna('000', inplace=True)"
      ]
    },
    {
      "cell_type": "code",
      "execution_count": 94,
      "metadata": {
        "colab": {
          "base_uri": "https://localhost:8080/"
        },
        "id": "Hz1Jf_A97hul",
        "outputId": "33faca5b-380c-4217-9fd9-837fad5d7627"
      },
      "outputs": [
        {
          "output_type": "execute_result",
          "data": {
            "text/plain": [
              "6770"
            ]
          },
          "metadata": {},
          "execution_count": 94
        }
      ],
      "source": [
        "df.VIOLATION_CODE.isnull().sum()"
      ]
    },
    {
      "cell_type": "code",
      "execution_count": 95,
      "metadata": {
        "id": "OwRQRczG7hul"
      },
      "outputs": [],
      "source": [
        "## LATITUDE and LONGITUDE"
      ]
    },
    {
      "cell_type": "code",
      "execution_count": 96,
      "metadata": {
        "id": "swMage4I7hum"
      },
      "outputs": [],
      "source": [
        "df['LONGITUDE'] = pd.to_numeric(df['LONGITUDE'])\n",
        "df['LATITUDE'] = pd.to_numeric(df['LATITUDE'])"
      ]
    },
    {
      "cell_type": "code",
      "execution_count": 96,
      "metadata": {
        "id": "W_I6hE5n7hum"
      },
      "outputs": [],
      "source": [
        ""
      ]
    },
    {
      "cell_type": "code",
      "execution_count": 96,
      "metadata": {
        "id": "QfQa-2Mg7hum"
      },
      "outputs": [],
      "source": [
        ""
      ]
    },
    {
      "cell_type": "code",
      "execution_count": 96,
      "metadata": {
        "id": "OvAOX7f_7hum"
      },
      "outputs": [],
      "source": [
        ""
      ]
    },
    {
      "cell_type": "markdown",
      "metadata": {
        "id": "hEIrMdva7hum"
      },
      "source": [
        "### MISC analysis"
      ]
    },
    {
      "cell_type": "code",
      "execution_count": 96,
      "metadata": {
        "id": "ZeF8cokn7hum"
      },
      "outputs": [],
      "source": [
        ""
      ]
    },
    {
      "cell_type": "code",
      "execution_count": 97,
      "metadata": {
        "colab": {
          "base_uri": "https://localhost:8080/"
        },
        "id": "IE1gnLnl7hum",
        "outputId": "ada7ffee-f406-453e-bd63-18f223df360a"
      },
      "outputs": [
        {
          "output_type": "stream",
          "name": "stderr",
          "text": [
            "/usr/local/lib/python3.7/dist-packages/ipykernel_launcher.py:4: FutureWarning: Treating datetime data as categorical rather than numeric in `.describe` is deprecated and will be removed in a future version of pandas. Specify `datetime_is_numeric=True` to silence this warning and adopt the future behavior now.\n",
            "  after removing the cwd from sys.path.\n"
          ]
        },
        {
          "output_type": "stream",
          "name": "stdout",
          "text": [
            "False    207053\n",
            "True      67648\n",
            "Name: TO_DELETE, dtype: int64\n",
            "=====\n",
            "Critical          144160\n",
            "Not Critical      125198\n",
            "Not Applicable      5343\n",
            "Name: CRITICAL_FLAG, dtype: int64\n",
            "=====\n",
            "Violations found           254913\n",
            "Establishment closed        10172\n",
            "Establishment re-opened      2822\n",
            "No violations                2680\n",
            "Establishment re-closed        47\n",
            "Name: ACTION, dtype: int64\n",
            "=====\n",
            "Manhattan        105771\n",
            "Brooklyn          67587\n",
            "Queens            65566\n",
            "Bronx             26910\n",
            "Staten Island      8793\n",
            "0                    74\n",
            "Name: BORO, dtype: int64\n",
            "=====\n",
            "A    104044\n",
            "B     15036\n",
            "C      6381\n",
            "N      6364\n",
            "Z      3020\n",
            "P      1407\n",
            "Name: GRADE, dtype: int64\n",
            "=====\n",
            "Initial Inspection                                             160400\n",
            "Re-inspection                                                   54254\n",
            "Pre-permit (Operational) / Initial Inspection                   28148\n",
            "Pre-permit (Operational) / Re-inspection                        10480\n",
            "Administrative Miscellaneous / Initial Inspection                5013\n",
            "Pre-permit (Non-operational) / Initial Inspection                2523\n",
            "Cycle Inspection / Reopening Inspection                          2437\n",
            "Smoke-Free Air Act / Initial Inspection                          1122\n",
            "Pre-permit (Operational) / Compliance Inspection                 1103\n",
            "Administrative Miscellaneous / Re-inspection                     1021\n",
            "Pre-permit (Operational) / Reopening Inspection                   914\n",
            "Inter-Agency Task Force / Initial Inspection                      842\n",
            "Trans Fat / Initial Inspection                                    748\n",
            "Cycle Inspection / Compliance Inspection                          384\n",
            "Calorie Posting / Initial Inspection                              349\n",
            "Smoke-Free Air Act / Re-inspection                                226\n",
            "Pre-permit (Non-operational) / Re-inspection                      216\n",
            "Trans Fat / Re-inspection                                         138\n",
            "Pre-permit (Operational) / Second Compliance Inspection            76\n",
            "Administrative Miscellaneous / Compliance Inspection               61\n",
            "Calorie Posting / Re-inspection                                    46\n",
            "Administrative Miscellaneous / Reopening Inspection                44\n",
            "Pre-permit (Non-operational) / Compliance Inspection               32\n",
            "Smoke-Free Air Act / Limited Inspection                            29\n",
            "Trans Fat / Compliance Inspection                                   9\n",
            "Administrative Miscellaneous / Second Compliance Inspection         7\n",
            "Smoke-Free Air Act / Compliance Inspection                          4\n",
            "Cycle Inspection / Second Compliance Inspection                     4\n",
            "Pre-permit (Non-operational) / Second Compliance Inspection         2\n",
            "Trans Fat / Second Compliance Inspection                            1\n",
            "Calorie Posting / Compliance Inspection                             1\n",
            "Name: INSPECTION_TYPE, dtype: int64\n",
            "=====\n",
            "03    24080\n",
            "01    19934\n",
            "04    19195\n",
            "02    13811\n",
            "20     8457\n",
            "33     8324\n",
            "26     7769\n",
            "34     7475\n",
            "38     6788\n",
            "05     6624\n",
            "39     6575\n",
            "22     6310\n",
            "35     6107\n",
            "25     5675\n",
            "21     5197\n",
            "08     5046\n",
            "07     4881\n",
            "43     4854\n",
            "06     4681\n",
            "10     4603\n",
            "19     4349\n",
            "29     4313\n",
            "40     3839\n",
            "47     3756\n",
            "28     3722\n",
            "11     3681\n",
            "13     3604\n",
            "32     3531\n",
            "15     3526\n",
            "36     3413\n",
            "48     3371\n",
            "37     3274\n",
            "24     3260\n",
            "49     3252\n",
            "09     3246\n",
            "17     3200\n",
            "30     3099\n",
            "50     2782\n",
            "14     2726\n",
            "27     2659\n",
            "23     2657\n",
            "51     2644\n",
            "12     2617\n",
            "45     2392\n",
            "46     2284\n",
            "18     2264\n",
            "16     2242\n",
            "41     2242\n",
            "44     2121\n",
            "42     1840\n",
            "31     1629\n",
            "Name: COUNCIL_DISTRICT, dtype: int64\n",
            "=====\n",
            "105    20712\n",
            "103    13644\n",
            "102    12917\n",
            "104    11027\n",
            "407    10317\n",
            "       ...  \n",
            "164       30\n",
            "227       17\n",
            "226       15\n",
            "595       11\n",
            "482        4\n",
            "Name: COMMUNITY_BOARD, Length: 69, dtype: int64\n",
            "=====\n",
            "American          50882\n",
            "Chinese           27701\n",
            "Pizza             16590\n",
            "Coffee/Tea        13156\n",
            "Latin American    11698\n",
            "                  ...  \n",
            "Czech                18\n",
            "Basque               10\n",
            "Lebanese              9\n",
            "New French            6\n",
            "Armenian              3\n",
            "Name: CUISINE_DESCRIPTION, Length: 87, dtype: int64\n",
            "=====\n",
            "Non-food contact surface improperly constructed. Unacceptable material used. Non-food contact surface or equipment improperly maintained and/or not properly sealed, raised, spaced or movable to allow accessibility for cleaning on all sides, above and underneath the unit.    46878\n",
            "Facility not vermin proof. Harborage or conditions conducive to attracting vermin to the premises and/or allowing vermin to exist.                                                                                                                                                 28492\n",
            "Evidence of mice or live mice present in facility's food and/or non-food areas.                                                                                                                                                                                                    18763\n",
            "Food contact surface not properly washed, rinsed and sanitized after each use and following any activity when contamination may have occurred.                                                                                                                                     17743\n",
            "Food not protected from potential source of contamination during storage, preparation, transportation, display or service.                                                                                                                                                         16675\n",
            "                                                                                                                                                                                                                                                                                   ...  \n",
            "Reduced oxygen packaged (ROP) foods not cooked by an approved method whereby the internal food temperature is reduced to 38º F within two hours of cooking and if necessary further cooled to a temperature of 34º F within six hours of reaching 38º F.                               1\n",
            "Food allergy poster does not contain text provided or approved by Department.                                                                                                                                                                                                          1\n",
            "Failure to post signage in organics collection areas                                                                                                                                                                                                                                   1\n",
            "Dogs allowed sign not posted at  or near the entrance                                                                                                                                                                                                                                  1\n",
            "Organics containers not provided                                                                                                                                                                                                                                                       1\n",
            "Name: VIOLATION_DESCRIPTION, Length: 102, dtype: int64\n",
            "=====\n",
            "10F     46802\n",
            "08A     28445\n",
            "04L     18731\n",
            "06D     17692\n",
            "06C     16620\n",
            "        ...  \n",
            "02J         1\n",
            "19A3        1\n",
            "17A1        1\n",
            "19A1        1\n",
            "04I         1\n",
            "Name: VIOLATION_CODE, Length: 102, dtype: int64\n",
            "=====\n",
            "MN17    15323\n",
            "MN23     8217\n",
            "MN13     7773\n",
            "MN24     7407\n",
            "MN27     6099\n",
            "        ...  \n",
            "SI25      109\n",
            "MN50       88\n",
            "SI48       66\n",
            "SI08       55\n",
            "MN99       52\n",
            "Name: NTA, Length: 193, dtype: int64\n",
            "=====\n"
          ]
        }
      ],
      "source": [
        "# Find the unique values in each column\n",
        "# \n",
        "# df.describe(include = [np.object, 'category']).T['unique']\n",
        "unique = df.describe(include = 'all').T['unique'].sort_values()\n",
        "\n",
        "for column in unique.index:\n",
        "    if unique[column] < 200:\n",
        "        print(df[column].value_counts())\n",
        "        print(\"=====\")"
      ]
    },
    {
      "cell_type": "code",
      "execution_count": 98,
      "metadata": {
        "id": "75eLQgPV7hum",
        "outputId": "b19b27ad-18eb-427b-cad1-a836ec6c6001",
        "colab": {
          "base_uri": "https://localhost:8080/"
        }
      },
      "outputs": [
        {
          "output_type": "execute_result",
          "data": {
            "text/plain": [
              "CAMIS                            object\n",
              "DBA                              object\n",
              "BORO                             object\n",
              "BUILDING                         object\n",
              "STREET                           object\n",
              "ZIPCODE                          object\n",
              "PHONE                            object\n",
              "CUISINE_DESCRIPTION              object\n",
              "INSPECTION_DATE          datetime64[ns]\n",
              "ACTION                           object\n",
              "VIOLATION_CODE                   object\n",
              "VIOLATION_DESCRIPTION            object\n",
              "CRITICAL_FLAG                    object\n",
              "SCORE                           float64\n",
              "GRADE                            object\n",
              "INSPECTION_TYPE                  object\n",
              "LATITUDE                        float64\n",
              "LONGITUDE                       float64\n",
              "COMMUNITY_BOARD                  object\n",
              "COUNCIL_DISTRICT                 object\n",
              "CENSUS_TRACT                     object\n",
              "BIN                              object\n",
              "BBL                              object\n",
              "NTA                              object\n",
              "TO_DELETE                          bool\n",
              "dtype: object"
            ]
          },
          "metadata": {},
          "execution_count": 98
        }
      ],
      "source": [
        "df.dtypes"
      ]
    },
    {
      "cell_type": "markdown",
      "metadata": {
        "id": "TWzSy9MD7hun"
      },
      "source": [
        "## Deleting Entries"
      ]
    },
    {
      "cell_type": "markdown",
      "metadata": {
        "id": "PK9p5-0H7hun"
      },
      "source": [
        "In this section, we use the results of the analysis above, and delete (additional) entries that will not be useful in our analysis. (Note that it is important to document this, as others may want to go back to the original source, if the entries that we leave are not sufficient.)"
      ]
    },
    {
      "cell_type": "code",
      "execution_count": 99,
      "metadata": {
        "colab": {
          "base_uri": "https://localhost:8080/"
        },
        "id": "6RuMD1ME7hun",
        "outputId": "0680d146-97a5-4598-e0b0-91a752e32317"
      },
      "outputs": [
        {
          "output_type": "execute_result",
          "data": {
            "text/plain": [
              "274701"
            ]
          },
          "metadata": {},
          "execution_count": 99
        }
      ],
      "source": [
        "len(df)"
      ]
    },
    {
      "cell_type": "code",
      "execution_count": 100,
      "metadata": {
        "id": "y926HOop7hun"
      },
      "outputs": [],
      "source": [
        "assert len(df) == initial_size"
      ]
    },
    {
      "cell_type": "code",
      "execution_count": 101,
      "metadata": {
        "id": "h8PGHqOC7hun"
      },
      "outputs": [],
      "source": [
        "df = df[ df.TO_DELETE == False].copy()"
      ]
    },
    {
      "cell_type": "code",
      "execution_count": 102,
      "metadata": {
        "colab": {
          "base_uri": "https://localhost:8080/"
        },
        "id": "kS-cLf-Z7hun",
        "outputId": "f82baa6c-3164-4ab4-bde9-85af908737e6"
      },
      "outputs": [
        {
          "output_type": "execute_result",
          "data": {
            "text/plain": [
              "207053"
            ]
          },
          "metadata": {},
          "execution_count": 102
        }
      ],
      "source": [
        "len(df)"
      ]
    },
    {
      "cell_type": "code",
      "source": [
        ""
      ],
      "metadata": {
        "id": "AtUmMLIUjZJn"
      },
      "execution_count": 102,
      "outputs": []
    },
    {
      "cell_type": "code",
      "source": [
        "df[df.VIOLATION_CODE.isnull()].VIOLATION_DESCRIPTION"
      ],
      "metadata": {
        "colab": {
          "base_uri": "https://localhost:8080/"
        },
        "id": "CXYAb1_LlYWK",
        "outputId": "1daa89cf-4b21-4f7b-c840-990d4b7322a8"
      },
      "execution_count": 103,
      "outputs": [
        {
          "output_type": "execute_result",
          "data": {
            "text/plain": [
              "201       Non-food contact surface improperly constructe...\n",
              "202       Non-food contact surface improperly constructe...\n",
              "223       Food not protected from potential source of co...\n",
              "268                                                     NaN\n",
              "747                                                     NaN\n",
              "                                ...                        \n",
              "273299    Food worker does not use proper utensil to eli...\n",
              "273552           Hot food item not held at or above 140º F.\n",
              "273639    Facility not vermin proof. Harborage or condit...\n",
              "273836                                                  NaN\n",
              "274351    Tobacco use, eating, or drinking from open con...\n",
              "Name: VIOLATION_DESCRIPTION, Length: 794, dtype: object"
            ]
          },
          "metadata": {},
          "execution_count": 103
        }
      ]
    },
    {
      "cell_type": "code",
      "execution_count": 104,
      "metadata": {
        "id": "H4dxEupA7huo",
        "outputId": "c0b79d1a-b6dc-4150-ed8a-5d2983981499",
        "colab": {
          "base_uri": "https://localhost:8080/"
        }
      },
      "outputs": [
        {
          "output_type": "stream",
          "name": "stdout",
          "text": [
            "default\n"
          ]
        },
        {
          "output_type": "stream",
          "name": "stderr",
          "text": [
            "/usr/local/lib/python3.7/dist-packages/IPython/core/magics/basic.py:300: UserWarning: %profile is now deprecated. Please use get_ipython().profile instead.\n",
            "  warn(\"%profile is now deprecated. Please use get_ipython().profile instead.\")\n"
          ]
        }
      ],
      "source": [
        "profile"
      ]
    },
    {
      "cell_type": "markdown",
      "metadata": {
        "id": "PnUgthvI7huo"
      },
      "source": [
        "## Additional Data Quality Checks"
      ]
    },
    {
      "cell_type": "code",
      "execution_count": 105,
      "metadata": {
        "id": "3cyfDjZo7huo"
      },
      "outputs": [],
      "source": [
        "\n",
        "\n",
        "assert sum(df.INSPECTION_TYPE.isnull()) == 0\n",
        "\n",
        "assert len(set(df.INSPECTION_TYPE.values)) == 2\n",
        "\n",
        "df[\"INSPECTION_TYPE\"] =  pd.Categorical(df[\"INSPECTION_TYPE\"], ordered=False)"
      ]
    },
    {
      "cell_type": "code",
      "execution_count": 106,
      "metadata": {
        "id": "k157caf_7hup"
      },
      "outputs": [],
      "source": [
        "# Check that no borough entries are empty\n",
        "assert sum(df.BORO.isnull()) == 0\n",
        "\n",
        "df[\"BORO\"] =  pd.Categorical(df[\"BORO\"], ordered=False)"
      ]
    },
    {
      "cell_type": "code",
      "execution_count": 107,
      "metadata": {
        "id": "hLTycuLg7hup"
      },
      "outputs": [],
      "source": [
        "# Check that no street numbers are empty\n",
        "assert sum(df.BUILDING.isnull()) == 0"
      ]
    },
    {
      "cell_type": "code",
      "execution_count": 108,
      "metadata": {
        "id": "pZJS6udG7hup"
      },
      "outputs": [],
      "source": [
        "assert sum(df.STREET.isnull()) == 0"
      ]
    },
    {
      "cell_type": "code",
      "execution_count": 109,
      "metadata": {
        "id": "BpD6_PoQ7hup"
      },
      "outputs": [],
      "source": [
        "\n",
        "assert sum(df.CUISINE_DESCRIPTION.isnull()) == 0\n",
        "\n",
        "df[\"CUISINE_DESCRIPTION\"] =  pd.Categorical(df[\"CUISINE_DESCRIPTION\"], ordered=False)"
      ]
    },
    {
      "cell_type": "code",
      "execution_count": 110,
      "metadata": {
        "id": "Wv0nnqzP7hup"
      },
      "outputs": [],
      "source": [
        "# We only keep three different actions\n",
        "assert len(set(df.ACTION.values)) == 3\n",
        "\n",
        "# No action is empty\n",
        "assert sum(df.ACTION.isnull()) == 0\n",
        "\n",
        "df[\"ACTION\"] =  pd.Categorical(df[\"ACTION\"], ordered=False)"
      ]
    },
    {
      "cell_type": "code",
      "execution_count": 110,
      "metadata": {
        "id": "Jpubdfl77huq"
      },
      "outputs": [],
      "source": [
        ""
      ]
    },
    {
      "cell_type": "code",
      "execution_count": 110,
      "metadata": {
        "id": "DKjGwZzl7huq"
      },
      "outputs": [],
      "source": [
        ""
      ]
    },
    {
      "cell_type": "code",
      "execution_count": 111,
      "metadata": {
        "id": "JyXjlxFI7huq"
      },
      "outputs": [],
      "source": [
        "# The below drops any grade values other than A, B, C, and converts the remaining entries to null\n",
        "df[\"GRADE\"] =  pd.Categorical(df[\"GRADE\"], categories = ['A', 'B', 'C'], ordered=True)\n",
        "\n",
        "# https://www1.nyc.gov/assets/doh/downloads/pdf/rii/how-we-score-grade.pdf\n",
        "# 0-13 get an A\n",
        "assert sum( (df.GRADE=='A') & (df.SCORE>13)) == 0\n",
        "\n",
        "# 14-27 get a B\n",
        "assert sum( (df.GRADE=='B') & ( (df.SCORE<14) | (df.SCORE>27) ) ) == 0\n",
        "\n",
        "# 28- get a C\n",
        "assert sum( (df.GRADE=='C') & (df.SCORE<28) ) == 0\n",
        "\n",
        "# TODO: In principle, a NULL grade is only when the score is above 14, and it was an initial inspection"
      ]
    },
    {
      "cell_type": "code",
      "execution_count": 112,
      "metadata": {
        "id": "3v5M-vyM7huq"
      },
      "outputs": [],
      "source": [
        "# Check that is there is a grade date, a grade is also assigned\n",
        "# assert sum ( ~df.GRADE_DATE.isnull() & df.GRADE.isnull() ) == 0"
      ]
    },
    {
      "cell_type": "code",
      "execution_count": 113,
      "metadata": {
        "id": "Afj_mO1f7huq"
      },
      "outputs": [],
      "source": [
        "df[\"VIOLATION_CODE\"] =  pd.Categorical(df[\"VIOLATION_CODE\"], ordered=False)\n",
        "df[\"CRITICAL_FLAG\"] =  pd.Categorical(df[\"CRITICAL_FLAG\"], ordered=False)\n"
      ]
    },
    {
      "cell_type": "code",
      "execution_count": 114,
      "metadata": {
        "colab": {
          "base_uri": "https://localhost:8080/"
        },
        "id": "lYT2MagN7huq",
        "outputId": "9f2a17a7-ce13-4680-edda-3082c01d1500"
      },
      "outputs": [
        {
          "output_type": "execute_result",
          "data": {
            "text/plain": [
              "201       Non-food contact surface improperly constructe...\n",
              "202       Non-food contact surface improperly constructe...\n",
              "223       Food not protected from potential source of co...\n",
              "268                                                     NaN\n",
              "747                                                     NaN\n",
              "                                ...                        \n",
              "273299    Food worker does not use proper utensil to eli...\n",
              "273552           Hot food item not held at or above 140º F.\n",
              "273639    Facility not vermin proof. Harborage or condit...\n",
              "273836                                                  NaN\n",
              "274351    Tobacco use, eating, or drinking from open con...\n",
              "Name: VIOLATION_DESCRIPTION, Length: 794, dtype: object"
            ]
          },
          "metadata": {},
          "execution_count": 114
        }
      ],
      "source": [
        "df [ df.VIOLATION_CODE.isnull() ].VIOLATION_DESCRIPTION"
      ]
    },
    {
      "cell_type": "markdown",
      "metadata": {
        "id": "oncdHcaK7huq"
      },
      "source": [
        "## Normalization"
      ]
    },
    {
      "cell_type": "markdown",
      "metadata": {
        "id": "6tcBS-Pl7hur"
      },
      "source": [
        "### Violation Codes"
      ]
    },
    {
      "cell_type": "code",
      "execution_count": 115,
      "metadata": {
        "colab": {
          "base_uri": "https://localhost:8080/",
          "height": 0
        },
        "id": "CkoPrSYw7hur",
        "outputId": "1a62906b-7659-4a9f-cfec-dff5504c8c6d"
      },
      "outputs": [
        {
          "output_type": "execute_result",
          "data": {
            "text/plain": [
              "                                                      DESCRIPTION  \\\n",
              "VIOLATION_CODE                                                      \n",
              "02A              Food not cooked to required minimum temperature.   \n",
              "02B                    Hot food item not held at or above 140º F.   \n",
              "02C             Hot food item that has been cooked and refrige...   \n",
              "02D             Precooked potentially hazardous food from comm...   \n",
              "02E             Whole frozen poultry or poultry breasts, other...   \n",
              "...                                                           ...   \n",
              "10J                                     Hand wash sign not posted   \n",
              "17A1            Dogs allowed sign not posted at  or near the e...   \n",
              "19A1                             Organics containers not provided   \n",
              "22F                                       MISBRANDED AND LABELING   \n",
              "22G             Sale or use of certain expanded polystyrene it...   \n",
              "\n",
              "                    CRITICAL  \n",
              "VIOLATION_CODE                \n",
              "02A                 Critical  \n",
              "02B                 Critical  \n",
              "02C                 Critical  \n",
              "02D                 Critical  \n",
              "02E                 Critical  \n",
              "...                      ...  \n",
              "10J             Not Critical  \n",
              "17A1            Not Critical  \n",
              "19A1            Not Critical  \n",
              "22F             Not Critical  \n",
              "22G             Not Critical  \n",
              "\n",
              "[68 rows x 2 columns]"
            ],
            "text/html": [
              "\n",
              "  <div id=\"df-ed1fd1c9-3872-4851-9d7b-1c5573f09e40\">\n",
              "    <div class=\"colab-df-container\">\n",
              "      <div>\n",
              "<style scoped>\n",
              "    .dataframe tbody tr th:only-of-type {\n",
              "        vertical-align: middle;\n",
              "    }\n",
              "\n",
              "    .dataframe tbody tr th {\n",
              "        vertical-align: top;\n",
              "    }\n",
              "\n",
              "    .dataframe thead th {\n",
              "        text-align: right;\n",
              "    }\n",
              "</style>\n",
              "<table border=\"1\" class=\"dataframe\">\n",
              "  <thead>\n",
              "    <tr style=\"text-align: right;\">\n",
              "      <th></th>\n",
              "      <th>DESCRIPTION</th>\n",
              "      <th>CRITICAL</th>\n",
              "    </tr>\n",
              "    <tr>\n",
              "      <th>VIOLATION_CODE</th>\n",
              "      <th></th>\n",
              "      <th></th>\n",
              "    </tr>\n",
              "  </thead>\n",
              "  <tbody>\n",
              "    <tr>\n",
              "      <th>02A</th>\n",
              "      <td>Food not cooked to required minimum temperature.</td>\n",
              "      <td>Critical</td>\n",
              "    </tr>\n",
              "    <tr>\n",
              "      <th>02B</th>\n",
              "      <td>Hot food item not held at or above 140º F.</td>\n",
              "      <td>Critical</td>\n",
              "    </tr>\n",
              "    <tr>\n",
              "      <th>02C</th>\n",
              "      <td>Hot food item that has been cooked and refrige...</td>\n",
              "      <td>Critical</td>\n",
              "    </tr>\n",
              "    <tr>\n",
              "      <th>02D</th>\n",
              "      <td>Precooked potentially hazardous food from comm...</td>\n",
              "      <td>Critical</td>\n",
              "    </tr>\n",
              "    <tr>\n",
              "      <th>02E</th>\n",
              "      <td>Whole frozen poultry or poultry breasts, other...</td>\n",
              "      <td>Critical</td>\n",
              "    </tr>\n",
              "    <tr>\n",
              "      <th>...</th>\n",
              "      <td>...</td>\n",
              "      <td>...</td>\n",
              "    </tr>\n",
              "    <tr>\n",
              "      <th>10J</th>\n",
              "      <td>Hand wash sign not posted</td>\n",
              "      <td>Not Critical</td>\n",
              "    </tr>\n",
              "    <tr>\n",
              "      <th>17A1</th>\n",
              "      <td>Dogs allowed sign not posted at  or near the e...</td>\n",
              "      <td>Not Critical</td>\n",
              "    </tr>\n",
              "    <tr>\n",
              "      <th>19A1</th>\n",
              "      <td>Organics containers not provided</td>\n",
              "      <td>Not Critical</td>\n",
              "    </tr>\n",
              "    <tr>\n",
              "      <th>22F</th>\n",
              "      <td>MISBRANDED AND LABELING</td>\n",
              "      <td>Not Critical</td>\n",
              "    </tr>\n",
              "    <tr>\n",
              "      <th>22G</th>\n",
              "      <td>Sale or use of certain expanded polystyrene it...</td>\n",
              "      <td>Not Critical</td>\n",
              "    </tr>\n",
              "  </tbody>\n",
              "</table>\n",
              "<p>68 rows × 2 columns</p>\n",
              "</div>\n",
              "      <button class=\"colab-df-convert\" onclick=\"convertToInteractive('df-ed1fd1c9-3872-4851-9d7b-1c5573f09e40')\"\n",
              "              title=\"Convert this dataframe to an interactive table.\"\n",
              "              style=\"display:none;\">\n",
              "        \n",
              "  <svg xmlns=\"http://www.w3.org/2000/svg\" height=\"24px\"viewBox=\"0 0 24 24\"\n",
              "       width=\"24px\">\n",
              "    <path d=\"M0 0h24v24H0V0z\" fill=\"none\"/>\n",
              "    <path d=\"M18.56 5.44l.94 2.06.94-2.06 2.06-.94-2.06-.94-.94-2.06-.94 2.06-2.06.94zm-11 1L8.5 8.5l.94-2.06 2.06-.94-2.06-.94L8.5 2.5l-.94 2.06-2.06.94zm10 10l.94 2.06.94-2.06 2.06-.94-2.06-.94-.94-2.06-.94 2.06-2.06.94z\"/><path d=\"M17.41 7.96l-1.37-1.37c-.4-.4-.92-.59-1.43-.59-.52 0-1.04.2-1.43.59L10.3 9.45l-7.72 7.72c-.78.78-.78 2.05 0 2.83L4 21.41c.39.39.9.59 1.41.59.51 0 1.02-.2 1.41-.59l7.78-7.78 2.81-2.81c.8-.78.8-2.07 0-2.86zM5.41 20L4 18.59l7.72-7.72 1.47 1.35L5.41 20z\"/>\n",
              "  </svg>\n",
              "      </button>\n",
              "      \n",
              "  <style>\n",
              "    .colab-df-container {\n",
              "      display:flex;\n",
              "      flex-wrap:wrap;\n",
              "      gap: 12px;\n",
              "    }\n",
              "\n",
              "    .colab-df-convert {\n",
              "      background-color: #E8F0FE;\n",
              "      border: none;\n",
              "      border-radius: 50%;\n",
              "      cursor: pointer;\n",
              "      display: none;\n",
              "      fill: #1967D2;\n",
              "      height: 32px;\n",
              "      padding: 0 0 0 0;\n",
              "      width: 32px;\n",
              "    }\n",
              "\n",
              "    .colab-df-convert:hover {\n",
              "      background-color: #E2EBFA;\n",
              "      box-shadow: 0px 1px 2px rgba(60, 64, 67, 0.3), 0px 1px 3px 1px rgba(60, 64, 67, 0.15);\n",
              "      fill: #174EA6;\n",
              "    }\n",
              "\n",
              "    [theme=dark] .colab-df-convert {\n",
              "      background-color: #3B4455;\n",
              "      fill: #D2E3FC;\n",
              "    }\n",
              "\n",
              "    [theme=dark] .colab-df-convert:hover {\n",
              "      background-color: #434B5C;\n",
              "      box-shadow: 0px 1px 3px 1px rgba(0, 0, 0, 0.15);\n",
              "      filter: drop-shadow(0px 1px 2px rgba(0, 0, 0, 0.3));\n",
              "      fill: #FFFFFF;\n",
              "    }\n",
              "  </style>\n",
              "\n",
              "      <script>\n",
              "        const buttonEl =\n",
              "          document.querySelector('#df-ed1fd1c9-3872-4851-9d7b-1c5573f09e40 button.colab-df-convert');\n",
              "        buttonEl.style.display =\n",
              "          google.colab.kernel.accessAllowed ? 'block' : 'none';\n",
              "\n",
              "        async function convertToInteractive(key) {\n",
              "          const element = document.querySelector('#df-ed1fd1c9-3872-4851-9d7b-1c5573f09e40');\n",
              "          const dataTable =\n",
              "            await google.colab.kernel.invokeFunction('convertToInteractive',\n",
              "                                                     [key], {});\n",
              "          if (!dataTable) return;\n",
              "\n",
              "          const docLinkHtml = 'Like what you see? Visit the ' +\n",
              "            '<a target=\"_blank\" href=https://colab.research.google.com/notebooks/data_table.ipynb>data table notebook</a>'\n",
              "            + ' to learn more about interactive tables.';\n",
              "          element.innerHTML = '';\n",
              "          dataTable['output_type'] = 'display_data';\n",
              "          await google.colab.output.renderOutput(dataTable, element);\n",
              "          const docLink = document.createElement('div');\n",
              "          docLink.innerHTML = docLinkHtml;\n",
              "          element.appendChild(docLink);\n",
              "        }\n",
              "      </script>\n",
              "    </div>\n",
              "  </div>\n",
              "  "
            ]
          },
          "metadata": {},
          "execution_count": 115
        }
      ],
      "source": [
        "# Recreating the table at https://www1.nyc.gov/assets/doh/downloads/pdf/rii/ri-violation-penalty.pdf\n",
        "\n",
        "violation_codes = df [ ['VIOLATION_CODE', 'VIOLATION_DESCRIPTION', 'CRITICAL_FLAG'] ].drop_duplicates()\n",
        "violation_codes = violation_codes.rename( {\n",
        "    'VIOLATION_DESCRIPTION' : 'DESCRIPTION',\n",
        "    'CRITICAL_FLAG' : 'CRITICAL'\n",
        "},  axis = 'columns').sort_values('VIOLATION_CODE').dropna().set_index('VIOLATION_CODE')\n",
        "violation_codes"
      ]
    },
    {
      "cell_type": "code",
      "source": [
        "violation_codes"
      ],
      "metadata": {
        "colab": {
          "base_uri": "https://localhost:8080/",
          "height": 0
        },
        "id": "xTHIoM_eACk1",
        "outputId": "a477a98c-d4d3-487b-9aa0-6e05e2f86a2d"
      },
      "execution_count": 116,
      "outputs": [
        {
          "output_type": "execute_result",
          "data": {
            "text/plain": [
              "                                                      DESCRIPTION  \\\n",
              "VIOLATION_CODE                                                      \n",
              "02A              Food not cooked to required minimum temperature.   \n",
              "02B                    Hot food item not held at or above 140º F.   \n",
              "02C             Hot food item that has been cooked and refrige...   \n",
              "02D             Precooked potentially hazardous food from comm...   \n",
              "02E             Whole frozen poultry or poultry breasts, other...   \n",
              "...                                                           ...   \n",
              "10J                                     Hand wash sign not posted   \n",
              "17A1            Dogs allowed sign not posted at  or near the e...   \n",
              "19A1                             Organics containers not provided   \n",
              "22F                                       MISBRANDED AND LABELING   \n",
              "22G             Sale or use of certain expanded polystyrene it...   \n",
              "\n",
              "                    CRITICAL  \n",
              "VIOLATION_CODE                \n",
              "02A                 Critical  \n",
              "02B                 Critical  \n",
              "02C                 Critical  \n",
              "02D                 Critical  \n",
              "02E                 Critical  \n",
              "...                      ...  \n",
              "10J             Not Critical  \n",
              "17A1            Not Critical  \n",
              "19A1            Not Critical  \n",
              "22F             Not Critical  \n",
              "22G             Not Critical  \n",
              "\n",
              "[68 rows x 2 columns]"
            ],
            "text/html": [
              "\n",
              "  <div id=\"df-6fa44d0b-3f6e-4fd2-a79f-6ea87af67c38\">\n",
              "    <div class=\"colab-df-container\">\n",
              "      <div>\n",
              "<style scoped>\n",
              "    .dataframe tbody tr th:only-of-type {\n",
              "        vertical-align: middle;\n",
              "    }\n",
              "\n",
              "    .dataframe tbody tr th {\n",
              "        vertical-align: top;\n",
              "    }\n",
              "\n",
              "    .dataframe thead th {\n",
              "        text-align: right;\n",
              "    }\n",
              "</style>\n",
              "<table border=\"1\" class=\"dataframe\">\n",
              "  <thead>\n",
              "    <tr style=\"text-align: right;\">\n",
              "      <th></th>\n",
              "      <th>DESCRIPTION</th>\n",
              "      <th>CRITICAL</th>\n",
              "    </tr>\n",
              "    <tr>\n",
              "      <th>VIOLATION_CODE</th>\n",
              "      <th></th>\n",
              "      <th></th>\n",
              "    </tr>\n",
              "  </thead>\n",
              "  <tbody>\n",
              "    <tr>\n",
              "      <th>02A</th>\n",
              "      <td>Food not cooked to required minimum temperature.</td>\n",
              "      <td>Critical</td>\n",
              "    </tr>\n",
              "    <tr>\n",
              "      <th>02B</th>\n",
              "      <td>Hot food item not held at or above 140º F.</td>\n",
              "      <td>Critical</td>\n",
              "    </tr>\n",
              "    <tr>\n",
              "      <th>02C</th>\n",
              "      <td>Hot food item that has been cooked and refrige...</td>\n",
              "      <td>Critical</td>\n",
              "    </tr>\n",
              "    <tr>\n",
              "      <th>02D</th>\n",
              "      <td>Precooked potentially hazardous food from comm...</td>\n",
              "      <td>Critical</td>\n",
              "    </tr>\n",
              "    <tr>\n",
              "      <th>02E</th>\n",
              "      <td>Whole frozen poultry or poultry breasts, other...</td>\n",
              "      <td>Critical</td>\n",
              "    </tr>\n",
              "    <tr>\n",
              "      <th>...</th>\n",
              "      <td>...</td>\n",
              "      <td>...</td>\n",
              "    </tr>\n",
              "    <tr>\n",
              "      <th>10J</th>\n",
              "      <td>Hand wash sign not posted</td>\n",
              "      <td>Not Critical</td>\n",
              "    </tr>\n",
              "    <tr>\n",
              "      <th>17A1</th>\n",
              "      <td>Dogs allowed sign not posted at  or near the e...</td>\n",
              "      <td>Not Critical</td>\n",
              "    </tr>\n",
              "    <tr>\n",
              "      <th>19A1</th>\n",
              "      <td>Organics containers not provided</td>\n",
              "      <td>Not Critical</td>\n",
              "    </tr>\n",
              "    <tr>\n",
              "      <th>22F</th>\n",
              "      <td>MISBRANDED AND LABELING</td>\n",
              "      <td>Not Critical</td>\n",
              "    </tr>\n",
              "    <tr>\n",
              "      <th>22G</th>\n",
              "      <td>Sale or use of certain expanded polystyrene it...</td>\n",
              "      <td>Not Critical</td>\n",
              "    </tr>\n",
              "  </tbody>\n",
              "</table>\n",
              "<p>68 rows × 2 columns</p>\n",
              "</div>\n",
              "      <button class=\"colab-df-convert\" onclick=\"convertToInteractive('df-6fa44d0b-3f6e-4fd2-a79f-6ea87af67c38')\"\n",
              "              title=\"Convert this dataframe to an interactive table.\"\n",
              "              style=\"display:none;\">\n",
              "        \n",
              "  <svg xmlns=\"http://www.w3.org/2000/svg\" height=\"24px\"viewBox=\"0 0 24 24\"\n",
              "       width=\"24px\">\n",
              "    <path d=\"M0 0h24v24H0V0z\" fill=\"none\"/>\n",
              "    <path d=\"M18.56 5.44l.94 2.06.94-2.06 2.06-.94-2.06-.94-.94-2.06-.94 2.06-2.06.94zm-11 1L8.5 8.5l.94-2.06 2.06-.94-2.06-.94L8.5 2.5l-.94 2.06-2.06.94zm10 10l.94 2.06.94-2.06 2.06-.94-2.06-.94-.94-2.06-.94 2.06-2.06.94z\"/><path d=\"M17.41 7.96l-1.37-1.37c-.4-.4-.92-.59-1.43-.59-.52 0-1.04.2-1.43.59L10.3 9.45l-7.72 7.72c-.78.78-.78 2.05 0 2.83L4 21.41c.39.39.9.59 1.41.59.51 0 1.02-.2 1.41-.59l7.78-7.78 2.81-2.81c.8-.78.8-2.07 0-2.86zM5.41 20L4 18.59l7.72-7.72 1.47 1.35L5.41 20z\"/>\n",
              "  </svg>\n",
              "      </button>\n",
              "      \n",
              "  <style>\n",
              "    .colab-df-container {\n",
              "      display:flex;\n",
              "      flex-wrap:wrap;\n",
              "      gap: 12px;\n",
              "    }\n",
              "\n",
              "    .colab-df-convert {\n",
              "      background-color: #E8F0FE;\n",
              "      border: none;\n",
              "      border-radius: 50%;\n",
              "      cursor: pointer;\n",
              "      display: none;\n",
              "      fill: #1967D2;\n",
              "      height: 32px;\n",
              "      padding: 0 0 0 0;\n",
              "      width: 32px;\n",
              "    }\n",
              "\n",
              "    .colab-df-convert:hover {\n",
              "      background-color: #E2EBFA;\n",
              "      box-shadow: 0px 1px 2px rgba(60, 64, 67, 0.3), 0px 1px 3px 1px rgba(60, 64, 67, 0.15);\n",
              "      fill: #174EA6;\n",
              "    }\n",
              "\n",
              "    [theme=dark] .colab-df-convert {\n",
              "      background-color: #3B4455;\n",
              "      fill: #D2E3FC;\n",
              "    }\n",
              "\n",
              "    [theme=dark] .colab-df-convert:hover {\n",
              "      background-color: #434B5C;\n",
              "      box-shadow: 0px 1px 3px 1px rgba(0, 0, 0, 0.15);\n",
              "      filter: drop-shadow(0px 1px 2px rgba(0, 0, 0, 0.3));\n",
              "      fill: #FFFFFF;\n",
              "    }\n",
              "  </style>\n",
              "\n",
              "      <script>\n",
              "        const buttonEl =\n",
              "          document.querySelector('#df-6fa44d0b-3f6e-4fd2-a79f-6ea87af67c38 button.colab-df-convert');\n",
              "        buttonEl.style.display =\n",
              "          google.colab.kernel.accessAllowed ? 'block' : 'none';\n",
              "\n",
              "        async function convertToInteractive(key) {\n",
              "          const element = document.querySelector('#df-6fa44d0b-3f6e-4fd2-a79f-6ea87af67c38');\n",
              "          const dataTable =\n",
              "            await google.colab.kernel.invokeFunction('convertToInteractive',\n",
              "                                                     [key], {});\n",
              "          if (!dataTable) return;\n",
              "\n",
              "          const docLinkHtml = 'Like what you see? Visit the ' +\n",
              "            '<a target=\"_blank\" href=https://colab.research.google.com/notebooks/data_table.ipynb>data table notebook</a>'\n",
              "            + ' to learn more about interactive tables.';\n",
              "          element.innerHTML = '';\n",
              "          dataTable['output_type'] = 'display_data';\n",
              "          await google.colab.output.renderOutput(dataTable, element);\n",
              "          const docLink = document.createElement('div');\n",
              "          docLink.innerHTML = docLinkHtml;\n",
              "          element.appendChild(docLink);\n",
              "        }\n",
              "      </script>\n",
              "    </div>\n",
              "  </div>\n",
              "  "
            ]
          },
          "metadata": {},
          "execution_count": 116
        }
      ]
    },
    {
      "cell_type": "code",
      "execution_count": 117,
      "metadata": {
        "id": "DQWMHrT87hur"
      },
      "outputs": [],
      "source": [
        "# Drop the description and critical part from the main dataframe\n",
        "df = df.drop(['VIOLATION_DESCRIPTION' ,  'CRITICAL_FLAG'], axis='columns')"
      ]
    },
    {
      "cell_type": "code",
      "execution_count": 118,
      "metadata": {
        "colab": {
          "base_uri": "https://localhost:8080/",
          "height": 0
        },
        "id": "JJ5_4rDn7hur",
        "outputId": "629aa062-a070-468d-a425-c7a8b7fddf5e"
      },
      "outputs": [
        {
          "output_type": "execute_result",
          "data": {
            "text/plain": [
              "           CAMIS                                    DBA       BORO BUILDING  \\\n",
              "0       41524890               LITTLE CUPCAKE BAKE SHOP  Manhattan       30   \n",
              "1       40387178                           WHITE CASTLE      Bronx      550   \n",
              "2       40387178                           WHITE CASTLE      Bronx      550   \n",
              "3       40387178                           WHITE CASTLE      Bronx      550   \n",
              "4       50017360                             MOZZARELLA   Brooklyn      264   \n",
              "...          ...                                    ...        ...      ...   \n",
              "274695  50093362  GOLDEN KRUST CARIBBEAN BAKERY & GRILL  Manhattan     2085   \n",
              "274696  41428580                                   BUON     Queens     7402   \n",
              "274698  50045240                           HUNAN BISTRO  Manhattan       96   \n",
              "274699  50055501              VANITY GENTLEMEN'S LOUNGE     Queens     7714   \n",
              "274700  41641642              TASTY HAND-PULLED NOODLES  Manhattan        1   \n",
              "\n",
              "                   STREET ZIPCODE       PHONE       CUISINE_DESCRIPTION  \\\n",
              "0           PRINCE STREET   10012  2129419100  Bakery Products/Desserts   \n",
              "1       EAST FORDHAM ROAD   10458  7185845310                Hamburgers   \n",
              "2       EAST FORDHAM ROAD   10458  7185845310                Hamburgers   \n",
              "3       EAST FORDHAM ROAD   10458  7185845310                Hamburgers   \n",
              "4              LEE AVENUE   11206  7187835555             Jewish/Kosher   \n",
              "...                   ...     ...         ...                       ...   \n",
              "274695   LEXINGTON AVENUE   10035  2127225253                 Caribbean   \n",
              "274696       ELIOT AVENUE   11379  7184782200                   Italian   \n",
              "274698           3 AVENUE   10003  7186685271                   Chinese   \n",
              "274699        QUEENS BLVD   11373  9292084585                  American   \n",
              "274700      DOYERS STREET   10013  2127911817                   Chinese   \n",
              "\n",
              "       INSPECTION_DATE                ACTION  ...     INSPECTION_TYPE  \\\n",
              "0           2019-09-23  Establishment closed  ...  Initial Inspection   \n",
              "1           2019-02-06      Violations found  ...  Initial Inspection   \n",
              "2           2019-02-06      Violations found  ...  Initial Inspection   \n",
              "3           2019-02-06      Violations found  ...  Initial Inspection   \n",
              "4           2017-02-13      Violations found  ...  Initial Inspection   \n",
              "...                ...                   ...  ...                 ...   \n",
              "274695      2022-02-03      Violations found  ...  Initial Inspection   \n",
              "274696      2019-12-11      Violations found  ...       Re-inspection   \n",
              "274698      2022-03-08      Violations found  ...  Initial Inspection   \n",
              "274699      2019-02-23      Violations found  ...  Initial Inspection   \n",
              "274700      2019-04-04      Violations found  ...  Initial Inspection   \n",
              "\n",
              "         LATITUDE  LONGITUDE COMMUNITY_BOARD  COUNCIL_DISTRICT  CENSUS_TRACT  \\\n",
              "0       40.722974 -73.994801             102                01        004300   \n",
              "1       40.859181 -73.886619             206                15        038700   \n",
              "2       40.859181 -73.886619             206                15        038700   \n",
              "3       40.859181 -73.886619             206                15        038700   \n",
              "4       40.699892 -73.953697             301                33        053100   \n",
              "...           ...        ...             ...               ...           ...   \n",
              "274695  40.804888 -73.937026             111                09        019600   \n",
              "274696  40.722063 -73.885515             405                30        066501   \n",
              "274698  40.732281 -73.987927             103                02        004200   \n",
              "274699  40.738365 -73.885880             404                25        047900   \n",
              "274700  40.714087 -73.997634             103                01        002900   \n",
              "\n",
              "            BIN         BBL   NTA TO_DELETE  \n",
              "0       1007478  1004930013  MN24     False  \n",
              "1       2011938  2030670012  BX06     False  \n",
              "2       2011938  2030670012  BX06     False  \n",
              "3       2011938  2030670012  BX06     False  \n",
              "4       3387767  3022630048  BK75     False  \n",
              "...         ...         ...   ...       ...  \n",
              "274695  1054487  1017740051  MN34     False  \n",
              "274696  4067019  4029300001  QN21     False  \n",
              "274698  1084940  1005580032  MN22     False  \n",
              "274699  4056457  4024520007  QN50     False  \n",
              "274700  1001725  1001620133  MN27     False  \n",
              "\n",
              "[207053 rows x 23 columns]"
            ],
            "text/html": [
              "\n",
              "  <div id=\"df-e41d6aa6-72ba-40fb-afe2-2f360084472c\">\n",
              "    <div class=\"colab-df-container\">\n",
              "      <div>\n",
              "<style scoped>\n",
              "    .dataframe tbody tr th:only-of-type {\n",
              "        vertical-align: middle;\n",
              "    }\n",
              "\n",
              "    .dataframe tbody tr th {\n",
              "        vertical-align: top;\n",
              "    }\n",
              "\n",
              "    .dataframe thead th {\n",
              "        text-align: right;\n",
              "    }\n",
              "</style>\n",
              "<table border=\"1\" class=\"dataframe\">\n",
              "  <thead>\n",
              "    <tr style=\"text-align: right;\">\n",
              "      <th></th>\n",
              "      <th>CAMIS</th>\n",
              "      <th>DBA</th>\n",
              "      <th>BORO</th>\n",
              "      <th>BUILDING</th>\n",
              "      <th>STREET</th>\n",
              "      <th>ZIPCODE</th>\n",
              "      <th>PHONE</th>\n",
              "      <th>CUISINE_DESCRIPTION</th>\n",
              "      <th>INSPECTION_DATE</th>\n",
              "      <th>ACTION</th>\n",
              "      <th>...</th>\n",
              "      <th>INSPECTION_TYPE</th>\n",
              "      <th>LATITUDE</th>\n",
              "      <th>LONGITUDE</th>\n",
              "      <th>COMMUNITY_BOARD</th>\n",
              "      <th>COUNCIL_DISTRICT</th>\n",
              "      <th>CENSUS_TRACT</th>\n",
              "      <th>BIN</th>\n",
              "      <th>BBL</th>\n",
              "      <th>NTA</th>\n",
              "      <th>TO_DELETE</th>\n",
              "    </tr>\n",
              "  </thead>\n",
              "  <tbody>\n",
              "    <tr>\n",
              "      <th>0</th>\n",
              "      <td>41524890</td>\n",
              "      <td>LITTLE CUPCAKE BAKE SHOP</td>\n",
              "      <td>Manhattan</td>\n",
              "      <td>30</td>\n",
              "      <td>PRINCE STREET</td>\n",
              "      <td>10012</td>\n",
              "      <td>2129419100</td>\n",
              "      <td>Bakery Products/Desserts</td>\n",
              "      <td>2019-09-23</td>\n",
              "      <td>Establishment closed</td>\n",
              "      <td>...</td>\n",
              "      <td>Initial Inspection</td>\n",
              "      <td>40.722974</td>\n",
              "      <td>-73.994801</td>\n",
              "      <td>102</td>\n",
              "      <td>01</td>\n",
              "      <td>004300</td>\n",
              "      <td>1007478</td>\n",
              "      <td>1004930013</td>\n",
              "      <td>MN24</td>\n",
              "      <td>False</td>\n",
              "    </tr>\n",
              "    <tr>\n",
              "      <th>1</th>\n",
              "      <td>40387178</td>\n",
              "      <td>WHITE CASTLE</td>\n",
              "      <td>Bronx</td>\n",
              "      <td>550</td>\n",
              "      <td>EAST FORDHAM ROAD</td>\n",
              "      <td>10458</td>\n",
              "      <td>7185845310</td>\n",
              "      <td>Hamburgers</td>\n",
              "      <td>2019-02-06</td>\n",
              "      <td>Violations found</td>\n",
              "      <td>...</td>\n",
              "      <td>Initial Inspection</td>\n",
              "      <td>40.859181</td>\n",
              "      <td>-73.886619</td>\n",
              "      <td>206</td>\n",
              "      <td>15</td>\n",
              "      <td>038700</td>\n",
              "      <td>2011938</td>\n",
              "      <td>2030670012</td>\n",
              "      <td>BX06</td>\n",
              "      <td>False</td>\n",
              "    </tr>\n",
              "    <tr>\n",
              "      <th>2</th>\n",
              "      <td>40387178</td>\n",
              "      <td>WHITE CASTLE</td>\n",
              "      <td>Bronx</td>\n",
              "      <td>550</td>\n",
              "      <td>EAST FORDHAM ROAD</td>\n",
              "      <td>10458</td>\n",
              "      <td>7185845310</td>\n",
              "      <td>Hamburgers</td>\n",
              "      <td>2019-02-06</td>\n",
              "      <td>Violations found</td>\n",
              "      <td>...</td>\n",
              "      <td>Initial Inspection</td>\n",
              "      <td>40.859181</td>\n",
              "      <td>-73.886619</td>\n",
              "      <td>206</td>\n",
              "      <td>15</td>\n",
              "      <td>038700</td>\n",
              "      <td>2011938</td>\n",
              "      <td>2030670012</td>\n",
              "      <td>BX06</td>\n",
              "      <td>False</td>\n",
              "    </tr>\n",
              "    <tr>\n",
              "      <th>3</th>\n",
              "      <td>40387178</td>\n",
              "      <td>WHITE CASTLE</td>\n",
              "      <td>Bronx</td>\n",
              "      <td>550</td>\n",
              "      <td>EAST FORDHAM ROAD</td>\n",
              "      <td>10458</td>\n",
              "      <td>7185845310</td>\n",
              "      <td>Hamburgers</td>\n",
              "      <td>2019-02-06</td>\n",
              "      <td>Violations found</td>\n",
              "      <td>...</td>\n",
              "      <td>Initial Inspection</td>\n",
              "      <td>40.859181</td>\n",
              "      <td>-73.886619</td>\n",
              "      <td>206</td>\n",
              "      <td>15</td>\n",
              "      <td>038700</td>\n",
              "      <td>2011938</td>\n",
              "      <td>2030670012</td>\n",
              "      <td>BX06</td>\n",
              "      <td>False</td>\n",
              "    </tr>\n",
              "    <tr>\n",
              "      <th>4</th>\n",
              "      <td>50017360</td>\n",
              "      <td>MOZZARELLA</td>\n",
              "      <td>Brooklyn</td>\n",
              "      <td>264</td>\n",
              "      <td>LEE AVENUE</td>\n",
              "      <td>11206</td>\n",
              "      <td>7187835555</td>\n",
              "      <td>Jewish/Kosher</td>\n",
              "      <td>2017-02-13</td>\n",
              "      <td>Violations found</td>\n",
              "      <td>...</td>\n",
              "      <td>Initial Inspection</td>\n",
              "      <td>40.699892</td>\n",
              "      <td>-73.953697</td>\n",
              "      <td>301</td>\n",
              "      <td>33</td>\n",
              "      <td>053100</td>\n",
              "      <td>3387767</td>\n",
              "      <td>3022630048</td>\n",
              "      <td>BK75</td>\n",
              "      <td>False</td>\n",
              "    </tr>\n",
              "    <tr>\n",
              "      <th>...</th>\n",
              "      <td>...</td>\n",
              "      <td>...</td>\n",
              "      <td>...</td>\n",
              "      <td>...</td>\n",
              "      <td>...</td>\n",
              "      <td>...</td>\n",
              "      <td>...</td>\n",
              "      <td>...</td>\n",
              "      <td>...</td>\n",
              "      <td>...</td>\n",
              "      <td>...</td>\n",
              "      <td>...</td>\n",
              "      <td>...</td>\n",
              "      <td>...</td>\n",
              "      <td>...</td>\n",
              "      <td>...</td>\n",
              "      <td>...</td>\n",
              "      <td>...</td>\n",
              "      <td>...</td>\n",
              "      <td>...</td>\n",
              "      <td>...</td>\n",
              "    </tr>\n",
              "    <tr>\n",
              "      <th>274695</th>\n",
              "      <td>50093362</td>\n",
              "      <td>GOLDEN KRUST CARIBBEAN BAKERY &amp; GRILL</td>\n",
              "      <td>Manhattan</td>\n",
              "      <td>2085</td>\n",
              "      <td>LEXINGTON AVENUE</td>\n",
              "      <td>10035</td>\n",
              "      <td>2127225253</td>\n",
              "      <td>Caribbean</td>\n",
              "      <td>2022-02-03</td>\n",
              "      <td>Violations found</td>\n",
              "      <td>...</td>\n",
              "      <td>Initial Inspection</td>\n",
              "      <td>40.804888</td>\n",
              "      <td>-73.937026</td>\n",
              "      <td>111</td>\n",
              "      <td>09</td>\n",
              "      <td>019600</td>\n",
              "      <td>1054487</td>\n",
              "      <td>1017740051</td>\n",
              "      <td>MN34</td>\n",
              "      <td>False</td>\n",
              "    </tr>\n",
              "    <tr>\n",
              "      <th>274696</th>\n",
              "      <td>41428580</td>\n",
              "      <td>BUON</td>\n",
              "      <td>Queens</td>\n",
              "      <td>7402</td>\n",
              "      <td>ELIOT AVENUE</td>\n",
              "      <td>11379</td>\n",
              "      <td>7184782200</td>\n",
              "      <td>Italian</td>\n",
              "      <td>2019-12-11</td>\n",
              "      <td>Violations found</td>\n",
              "      <td>...</td>\n",
              "      <td>Re-inspection</td>\n",
              "      <td>40.722063</td>\n",
              "      <td>-73.885515</td>\n",
              "      <td>405</td>\n",
              "      <td>30</td>\n",
              "      <td>066501</td>\n",
              "      <td>4067019</td>\n",
              "      <td>4029300001</td>\n",
              "      <td>QN21</td>\n",
              "      <td>False</td>\n",
              "    </tr>\n",
              "    <tr>\n",
              "      <th>274698</th>\n",
              "      <td>50045240</td>\n",
              "      <td>HUNAN BISTRO</td>\n",
              "      <td>Manhattan</td>\n",
              "      <td>96</td>\n",
              "      <td>3 AVENUE</td>\n",
              "      <td>10003</td>\n",
              "      <td>7186685271</td>\n",
              "      <td>Chinese</td>\n",
              "      <td>2022-03-08</td>\n",
              "      <td>Violations found</td>\n",
              "      <td>...</td>\n",
              "      <td>Initial Inspection</td>\n",
              "      <td>40.732281</td>\n",
              "      <td>-73.987927</td>\n",
              "      <td>103</td>\n",
              "      <td>02</td>\n",
              "      <td>004200</td>\n",
              "      <td>1084940</td>\n",
              "      <td>1005580032</td>\n",
              "      <td>MN22</td>\n",
              "      <td>False</td>\n",
              "    </tr>\n",
              "    <tr>\n",
              "      <th>274699</th>\n",
              "      <td>50055501</td>\n",
              "      <td>VANITY GENTLEMEN'S LOUNGE</td>\n",
              "      <td>Queens</td>\n",
              "      <td>7714</td>\n",
              "      <td>QUEENS BLVD</td>\n",
              "      <td>11373</td>\n",
              "      <td>9292084585</td>\n",
              "      <td>American</td>\n",
              "      <td>2019-02-23</td>\n",
              "      <td>Violations found</td>\n",
              "      <td>...</td>\n",
              "      <td>Initial Inspection</td>\n",
              "      <td>40.738365</td>\n",
              "      <td>-73.885880</td>\n",
              "      <td>404</td>\n",
              "      <td>25</td>\n",
              "      <td>047900</td>\n",
              "      <td>4056457</td>\n",
              "      <td>4024520007</td>\n",
              "      <td>QN50</td>\n",
              "      <td>False</td>\n",
              "    </tr>\n",
              "    <tr>\n",
              "      <th>274700</th>\n",
              "      <td>41641642</td>\n",
              "      <td>TASTY HAND-PULLED NOODLES</td>\n",
              "      <td>Manhattan</td>\n",
              "      <td>1</td>\n",
              "      <td>DOYERS STREET</td>\n",
              "      <td>10013</td>\n",
              "      <td>2127911817</td>\n",
              "      <td>Chinese</td>\n",
              "      <td>2019-04-04</td>\n",
              "      <td>Violations found</td>\n",
              "      <td>...</td>\n",
              "      <td>Initial Inspection</td>\n",
              "      <td>40.714087</td>\n",
              "      <td>-73.997634</td>\n",
              "      <td>103</td>\n",
              "      <td>01</td>\n",
              "      <td>002900</td>\n",
              "      <td>1001725</td>\n",
              "      <td>1001620133</td>\n",
              "      <td>MN27</td>\n",
              "      <td>False</td>\n",
              "    </tr>\n",
              "  </tbody>\n",
              "</table>\n",
              "<p>207053 rows × 23 columns</p>\n",
              "</div>\n",
              "      <button class=\"colab-df-convert\" onclick=\"convertToInteractive('df-e41d6aa6-72ba-40fb-afe2-2f360084472c')\"\n",
              "              title=\"Convert this dataframe to an interactive table.\"\n",
              "              style=\"display:none;\">\n",
              "        \n",
              "  <svg xmlns=\"http://www.w3.org/2000/svg\" height=\"24px\"viewBox=\"0 0 24 24\"\n",
              "       width=\"24px\">\n",
              "    <path d=\"M0 0h24v24H0V0z\" fill=\"none\"/>\n",
              "    <path d=\"M18.56 5.44l.94 2.06.94-2.06 2.06-.94-2.06-.94-.94-2.06-.94 2.06-2.06.94zm-11 1L8.5 8.5l.94-2.06 2.06-.94-2.06-.94L8.5 2.5l-.94 2.06-2.06.94zm10 10l.94 2.06.94-2.06 2.06-.94-2.06-.94-.94-2.06-.94 2.06-2.06.94z\"/><path d=\"M17.41 7.96l-1.37-1.37c-.4-.4-.92-.59-1.43-.59-.52 0-1.04.2-1.43.59L10.3 9.45l-7.72 7.72c-.78.78-.78 2.05 0 2.83L4 21.41c.39.39.9.59 1.41.59.51 0 1.02-.2 1.41-.59l7.78-7.78 2.81-2.81c.8-.78.8-2.07 0-2.86zM5.41 20L4 18.59l7.72-7.72 1.47 1.35L5.41 20z\"/>\n",
              "  </svg>\n",
              "      </button>\n",
              "      \n",
              "  <style>\n",
              "    .colab-df-container {\n",
              "      display:flex;\n",
              "      flex-wrap:wrap;\n",
              "      gap: 12px;\n",
              "    }\n",
              "\n",
              "    .colab-df-convert {\n",
              "      background-color: #E8F0FE;\n",
              "      border: none;\n",
              "      border-radius: 50%;\n",
              "      cursor: pointer;\n",
              "      display: none;\n",
              "      fill: #1967D2;\n",
              "      height: 32px;\n",
              "      padding: 0 0 0 0;\n",
              "      width: 32px;\n",
              "    }\n",
              "\n",
              "    .colab-df-convert:hover {\n",
              "      background-color: #E2EBFA;\n",
              "      box-shadow: 0px 1px 2px rgba(60, 64, 67, 0.3), 0px 1px 3px 1px rgba(60, 64, 67, 0.15);\n",
              "      fill: #174EA6;\n",
              "    }\n",
              "\n",
              "    [theme=dark] .colab-df-convert {\n",
              "      background-color: #3B4455;\n",
              "      fill: #D2E3FC;\n",
              "    }\n",
              "\n",
              "    [theme=dark] .colab-df-convert:hover {\n",
              "      background-color: #434B5C;\n",
              "      box-shadow: 0px 1px 3px 1px rgba(0, 0, 0, 0.15);\n",
              "      filter: drop-shadow(0px 1px 2px rgba(0, 0, 0, 0.3));\n",
              "      fill: #FFFFFF;\n",
              "    }\n",
              "  </style>\n",
              "\n",
              "      <script>\n",
              "        const buttonEl =\n",
              "          document.querySelector('#df-e41d6aa6-72ba-40fb-afe2-2f360084472c button.colab-df-convert');\n",
              "        buttonEl.style.display =\n",
              "          google.colab.kernel.accessAllowed ? 'block' : 'none';\n",
              "\n",
              "        async function convertToInteractive(key) {\n",
              "          const element = document.querySelector('#df-e41d6aa6-72ba-40fb-afe2-2f360084472c');\n",
              "          const dataTable =\n",
              "            await google.colab.kernel.invokeFunction('convertToInteractive',\n",
              "                                                     [key], {});\n",
              "          if (!dataTable) return;\n",
              "\n",
              "          const docLinkHtml = 'Like what you see? Visit the ' +\n",
              "            '<a target=\"_blank\" href=https://colab.research.google.com/notebooks/data_table.ipynb>data table notebook</a>'\n",
              "            + ' to learn more about interactive tables.';\n",
              "          element.innerHTML = '';\n",
              "          dataTable['output_type'] = 'display_data';\n",
              "          await google.colab.output.renderOutput(dataTable, element);\n",
              "          const docLink = document.createElement('div');\n",
              "          docLink.innerHTML = docLinkHtml;\n",
              "          element.appendChild(docLink);\n",
              "        }\n",
              "      </script>\n",
              "    </div>\n",
              "  </div>\n",
              "  "
            ]
          },
          "metadata": {},
          "execution_count": 118
        }
      ],
      "source": [
        "df"
      ]
    },
    {
      "cell_type": "markdown",
      "metadata": {
        "id": "MrUI18e37hur"
      },
      "source": [
        "### Restaurants"
      ]
    },
    {
      "cell_type": "code",
      "source": [
        "df.columns.values"
      ],
      "metadata": {
        "colab": {
          "base_uri": "https://localhost:8080/"
        },
        "id": "lKw4wp4T-D67",
        "outputId": "2b7a371a-b94a-4932-9188-d18e48e4e45c"
      },
      "execution_count": 119,
      "outputs": [
        {
          "output_type": "execute_result",
          "data": {
            "text/plain": [
              "array(['CAMIS', 'DBA', 'BORO', 'BUILDING', 'STREET', 'ZIPCODE', 'PHONE',\n",
              "       'CUISINE_DESCRIPTION', 'INSPECTION_DATE', 'ACTION',\n",
              "       'VIOLATION_CODE', 'SCORE', 'GRADE', 'INSPECTION_TYPE', 'LATITUDE',\n",
              "       'LONGITUDE', 'COMMUNITY_BOARD', 'COUNCIL_DISTRICT', 'CENSUS_TRACT',\n",
              "       'BIN', 'BBL', 'NTA', 'TO_DELETE'], dtype=object)"
            ]
          },
          "metadata": {},
          "execution_count": 119
        }
      ]
    },
    {
      "cell_type": "code",
      "execution_count": 120,
      "metadata": {
        "id": "ikNiszYg7hur"
      },
      "outputs": [],
      "source": [
        "columns = ['CAMIS', 'DBA', 'BUILDING', 'STREET', 'ZIPCODE', 'BORO', 'PHONE', \n",
        "           'CUISINE_DESCRIPTION', 'LATITUDE', 'LONGITUDE',\n",
        "       'COMMUNITY_BOARD', 'COUNCIL_DISTRICT', 'CENSUS_TRACT', 'BIN',\n",
        "       'BBL', 'NTA']\n",
        "restaurants =  df [ columns ].drop_duplicates()"
      ]
    },
    {
      "cell_type": "code",
      "execution_count": 121,
      "metadata": {
        "id": "cvc0BJm77hur"
      },
      "outputs": [],
      "source": [
        "# Check that we have the same attributes for a given CAMIS\n",
        "# and the we do not have duplicate CAMIS values\n",
        "assert len(restaurants) == len(set(restaurants.CAMIS.values))"
      ]
    },
    {
      "cell_type": "code",
      "execution_count": 122,
      "metadata": {
        "colab": {
          "base_uri": "https://localhost:8080/",
          "height": 0
        },
        "id": "rlfKBA8c7hur",
        "outputId": "093f08c7-4c20-4754-c277-2399dc6d8d00"
      },
      "outputs": [
        {
          "output_type": "execute_result",
          "data": {
            "text/plain": [
              "      CAMIS                       DBA BUILDING             STREET ZIPCODE  \\\n",
              "0  41524890  LITTLE CUPCAKE BAKE SHOP       30      PRINCE STREET   10012   \n",
              "1  40387178              WHITE CASTLE      550  EAST FORDHAM ROAD   10458   \n",
              "4  50017360                MOZZARELLA      264         LEE AVENUE   11206   \n",
              "5  50079684    KRAVE CHICKEN & BURGER     4035            21ST ST   11101   \n",
              "6  40393561          FAROS RESTAURANT       95      CHURCH AVENUE   11218   \n",
              "\n",
              "        BORO       PHONE       CUISINE_DESCRIPTION   LATITUDE  LONGITUDE  \\\n",
              "0  Manhattan  2129419100  Bakery Products/Desserts  40.722974 -73.994801   \n",
              "1      Bronx  7185845310                Hamburgers  40.859181 -73.886619   \n",
              "4   Brooklyn  7187835555             Jewish/Kosher  40.699892 -73.953697   \n",
              "5     Queens  7187865571                   Chicken  40.754735 -73.941697   \n",
              "6   Brooklyn  7184365449                  American  40.642677 -73.979731   \n",
              "\n",
              "  COMMUNITY_BOARD COUNCIL_DISTRICT CENSUS_TRACT      BIN         BBL   NTA  \n",
              "0             102               01       004300  1007478  1004930013  MN24  \n",
              "1             206               15       038700  2011938  2030670012  BX06  \n",
              "4             301               33       053100  3387767  3022630048  BK75  \n",
              "5             401               26       003300  4004967  4004100001  QN68  \n",
              "6             312               39       049600  3124485  3053320064  BK41  "
            ],
            "text/html": [
              "\n",
              "  <div id=\"df-b193f15b-7679-4097-9974-85d26fa301a9\">\n",
              "    <div class=\"colab-df-container\">\n",
              "      <div>\n",
              "<style scoped>\n",
              "    .dataframe tbody tr th:only-of-type {\n",
              "        vertical-align: middle;\n",
              "    }\n",
              "\n",
              "    .dataframe tbody tr th {\n",
              "        vertical-align: top;\n",
              "    }\n",
              "\n",
              "    .dataframe thead th {\n",
              "        text-align: right;\n",
              "    }\n",
              "</style>\n",
              "<table border=\"1\" class=\"dataframe\">\n",
              "  <thead>\n",
              "    <tr style=\"text-align: right;\">\n",
              "      <th></th>\n",
              "      <th>CAMIS</th>\n",
              "      <th>DBA</th>\n",
              "      <th>BUILDING</th>\n",
              "      <th>STREET</th>\n",
              "      <th>ZIPCODE</th>\n",
              "      <th>BORO</th>\n",
              "      <th>PHONE</th>\n",
              "      <th>CUISINE_DESCRIPTION</th>\n",
              "      <th>LATITUDE</th>\n",
              "      <th>LONGITUDE</th>\n",
              "      <th>COMMUNITY_BOARD</th>\n",
              "      <th>COUNCIL_DISTRICT</th>\n",
              "      <th>CENSUS_TRACT</th>\n",
              "      <th>BIN</th>\n",
              "      <th>BBL</th>\n",
              "      <th>NTA</th>\n",
              "    </tr>\n",
              "  </thead>\n",
              "  <tbody>\n",
              "    <tr>\n",
              "      <th>0</th>\n",
              "      <td>41524890</td>\n",
              "      <td>LITTLE CUPCAKE BAKE SHOP</td>\n",
              "      <td>30</td>\n",
              "      <td>PRINCE STREET</td>\n",
              "      <td>10012</td>\n",
              "      <td>Manhattan</td>\n",
              "      <td>2129419100</td>\n",
              "      <td>Bakery Products/Desserts</td>\n",
              "      <td>40.722974</td>\n",
              "      <td>-73.994801</td>\n",
              "      <td>102</td>\n",
              "      <td>01</td>\n",
              "      <td>004300</td>\n",
              "      <td>1007478</td>\n",
              "      <td>1004930013</td>\n",
              "      <td>MN24</td>\n",
              "    </tr>\n",
              "    <tr>\n",
              "      <th>1</th>\n",
              "      <td>40387178</td>\n",
              "      <td>WHITE CASTLE</td>\n",
              "      <td>550</td>\n",
              "      <td>EAST FORDHAM ROAD</td>\n",
              "      <td>10458</td>\n",
              "      <td>Bronx</td>\n",
              "      <td>7185845310</td>\n",
              "      <td>Hamburgers</td>\n",
              "      <td>40.859181</td>\n",
              "      <td>-73.886619</td>\n",
              "      <td>206</td>\n",
              "      <td>15</td>\n",
              "      <td>038700</td>\n",
              "      <td>2011938</td>\n",
              "      <td>2030670012</td>\n",
              "      <td>BX06</td>\n",
              "    </tr>\n",
              "    <tr>\n",
              "      <th>4</th>\n",
              "      <td>50017360</td>\n",
              "      <td>MOZZARELLA</td>\n",
              "      <td>264</td>\n",
              "      <td>LEE AVENUE</td>\n",
              "      <td>11206</td>\n",
              "      <td>Brooklyn</td>\n",
              "      <td>7187835555</td>\n",
              "      <td>Jewish/Kosher</td>\n",
              "      <td>40.699892</td>\n",
              "      <td>-73.953697</td>\n",
              "      <td>301</td>\n",
              "      <td>33</td>\n",
              "      <td>053100</td>\n",
              "      <td>3387767</td>\n",
              "      <td>3022630048</td>\n",
              "      <td>BK75</td>\n",
              "    </tr>\n",
              "    <tr>\n",
              "      <th>5</th>\n",
              "      <td>50079684</td>\n",
              "      <td>KRAVE CHICKEN &amp; BURGER</td>\n",
              "      <td>4035</td>\n",
              "      <td>21ST ST</td>\n",
              "      <td>11101</td>\n",
              "      <td>Queens</td>\n",
              "      <td>7187865571</td>\n",
              "      <td>Chicken</td>\n",
              "      <td>40.754735</td>\n",
              "      <td>-73.941697</td>\n",
              "      <td>401</td>\n",
              "      <td>26</td>\n",
              "      <td>003300</td>\n",
              "      <td>4004967</td>\n",
              "      <td>4004100001</td>\n",
              "      <td>QN68</td>\n",
              "    </tr>\n",
              "    <tr>\n",
              "      <th>6</th>\n",
              "      <td>40393561</td>\n",
              "      <td>FAROS RESTAURANT</td>\n",
              "      <td>95</td>\n",
              "      <td>CHURCH AVENUE</td>\n",
              "      <td>11218</td>\n",
              "      <td>Brooklyn</td>\n",
              "      <td>7184365449</td>\n",
              "      <td>American</td>\n",
              "      <td>40.642677</td>\n",
              "      <td>-73.979731</td>\n",
              "      <td>312</td>\n",
              "      <td>39</td>\n",
              "      <td>049600</td>\n",
              "      <td>3124485</td>\n",
              "      <td>3053320064</td>\n",
              "      <td>BK41</td>\n",
              "    </tr>\n",
              "  </tbody>\n",
              "</table>\n",
              "</div>\n",
              "      <button class=\"colab-df-convert\" onclick=\"convertToInteractive('df-b193f15b-7679-4097-9974-85d26fa301a9')\"\n",
              "              title=\"Convert this dataframe to an interactive table.\"\n",
              "              style=\"display:none;\">\n",
              "        \n",
              "  <svg xmlns=\"http://www.w3.org/2000/svg\" height=\"24px\"viewBox=\"0 0 24 24\"\n",
              "       width=\"24px\">\n",
              "    <path d=\"M0 0h24v24H0V0z\" fill=\"none\"/>\n",
              "    <path d=\"M18.56 5.44l.94 2.06.94-2.06 2.06-.94-2.06-.94-.94-2.06-.94 2.06-2.06.94zm-11 1L8.5 8.5l.94-2.06 2.06-.94-2.06-.94L8.5 2.5l-.94 2.06-2.06.94zm10 10l.94 2.06.94-2.06 2.06-.94-2.06-.94-.94-2.06-.94 2.06-2.06.94z\"/><path d=\"M17.41 7.96l-1.37-1.37c-.4-.4-.92-.59-1.43-.59-.52 0-1.04.2-1.43.59L10.3 9.45l-7.72 7.72c-.78.78-.78 2.05 0 2.83L4 21.41c.39.39.9.59 1.41.59.51 0 1.02-.2 1.41-.59l7.78-7.78 2.81-2.81c.8-.78.8-2.07 0-2.86zM5.41 20L4 18.59l7.72-7.72 1.47 1.35L5.41 20z\"/>\n",
              "  </svg>\n",
              "      </button>\n",
              "      \n",
              "  <style>\n",
              "    .colab-df-container {\n",
              "      display:flex;\n",
              "      flex-wrap:wrap;\n",
              "      gap: 12px;\n",
              "    }\n",
              "\n",
              "    .colab-df-convert {\n",
              "      background-color: #E8F0FE;\n",
              "      border: none;\n",
              "      border-radius: 50%;\n",
              "      cursor: pointer;\n",
              "      display: none;\n",
              "      fill: #1967D2;\n",
              "      height: 32px;\n",
              "      padding: 0 0 0 0;\n",
              "      width: 32px;\n",
              "    }\n",
              "\n",
              "    .colab-df-convert:hover {\n",
              "      background-color: #E2EBFA;\n",
              "      box-shadow: 0px 1px 2px rgba(60, 64, 67, 0.3), 0px 1px 3px 1px rgba(60, 64, 67, 0.15);\n",
              "      fill: #174EA6;\n",
              "    }\n",
              "\n",
              "    [theme=dark] .colab-df-convert {\n",
              "      background-color: #3B4455;\n",
              "      fill: #D2E3FC;\n",
              "    }\n",
              "\n",
              "    [theme=dark] .colab-df-convert:hover {\n",
              "      background-color: #434B5C;\n",
              "      box-shadow: 0px 1px 3px 1px rgba(0, 0, 0, 0.15);\n",
              "      filter: drop-shadow(0px 1px 2px rgba(0, 0, 0, 0.3));\n",
              "      fill: #FFFFFF;\n",
              "    }\n",
              "  </style>\n",
              "\n",
              "      <script>\n",
              "        const buttonEl =\n",
              "          document.querySelector('#df-b193f15b-7679-4097-9974-85d26fa301a9 button.colab-df-convert');\n",
              "        buttonEl.style.display =\n",
              "          google.colab.kernel.accessAllowed ? 'block' : 'none';\n",
              "\n",
              "        async function convertToInteractive(key) {\n",
              "          const element = document.querySelector('#df-b193f15b-7679-4097-9974-85d26fa301a9');\n",
              "          const dataTable =\n",
              "            await google.colab.kernel.invokeFunction('convertToInteractive',\n",
              "                                                     [key], {});\n",
              "          if (!dataTable) return;\n",
              "\n",
              "          const docLinkHtml = 'Like what you see? Visit the ' +\n",
              "            '<a target=\"_blank\" href=https://colab.research.google.com/notebooks/data_table.ipynb>data table notebook</a>'\n",
              "            + ' to learn more about interactive tables.';\n",
              "          element.innerHTML = '';\n",
              "          dataTable['output_type'] = 'display_data';\n",
              "          await google.colab.output.renderOutput(dataTable, element);\n",
              "          const docLink = document.createElement('div');\n",
              "          docLink.innerHTML = docLinkHtml;\n",
              "          element.appendChild(docLink);\n",
              "        }\n",
              "      </script>\n",
              "    </div>\n",
              "  </div>\n",
              "  "
            ]
          },
          "metadata": {},
          "execution_count": 122
        }
      ],
      "source": [
        "restaurants.head(5)"
      ]
    },
    {
      "cell_type": "code",
      "execution_count": 123,
      "metadata": {
        "colab": {
          "base_uri": "https://localhost:8080/"
        },
        "id": "BGPNYPFe7hus",
        "outputId": "d59bc4b3-9f68-4d06-cc74-4a1a63cd078a"
      },
      "outputs": [
        {
          "output_type": "execute_result",
          "data": {
            "text/plain": [
              "2124656273    43\n",
              "9176186310    33\n",
              "9172843260    29\n",
              "2126159700    19\n",
              "7186566210    17\n",
              "2125867610    15\n",
              "7182153308    15\n",
              "__________    14\n",
              "2125825472    14\n",
              "2124656302    14\n",
              "9177437388    11\n",
              "2125325003     9\n",
              "9178863304     8\n",
              "7187011630     8\n",
              "7182246030     8\n",
              "2123544624     7\n",
              "2123959280     7\n",
              "9175665727     7\n",
              "6465881074     7\n",
              "2129818588     7\n",
              "Name: PHONE, dtype: int64"
            ]
          },
          "metadata": {},
          "execution_count": 123
        }
      ],
      "source": [
        "restaurants.PHONE.value_counts().head(20)"
      ]
    },
    {
      "cell_type": "code",
      "execution_count": 124,
      "metadata": {
        "id": "yp58wsk27hus"
      },
      "outputs": [],
      "source": [
        "# __ = restaurants.PHONE.value_counts().head(10).index.values[7]"
      ]
    },
    {
      "cell_type": "code",
      "execution_count": 125,
      "metadata": {
        "id": "sBCfrsTJ7hus"
      },
      "outputs": [],
      "source": [
        "# restaurants.PHONE.replace(to_replace=__, value=np.nan, inplace=True)"
      ]
    },
    {
      "cell_type": "code",
      "execution_count": 126,
      "metadata": {
        "id": "Q3l3iVRd7hus"
      },
      "outputs": [],
      "source": [
        "# Citi Field concessions\n",
        "# restaurants.query(\"PHONE == '7185958100'\").head(5)"
      ]
    },
    {
      "cell_type": "code",
      "execution_count": 127,
      "metadata": {
        "scrolled": true,
        "id": "srWH0cyp7hus"
      },
      "outputs": [],
      "source": [
        "# Madison Square Garden concession stands\n",
        "# restaurants.query(\"PHONE == '2124656273'\").head(5)"
      ]
    },
    {
      "cell_type": "code",
      "execution_count": 128,
      "metadata": {
        "id": "q-5ciQBH7hus"
      },
      "outputs": [],
      "source": [
        "# restaurants.plot(kind='scatter', x='LONGITUDE', y='LATITUDE', alpha=0.2, s=1, figsize=(15,15))"
      ]
    },
    {
      "cell_type": "code",
      "execution_count": 129,
      "metadata": {
        "id": "TKSsNwyB7hus"
      },
      "outputs": [],
      "source": [
        "df = df.drop (columns[1:], axis='columns')"
      ]
    },
    {
      "cell_type": "code",
      "source": [
        "df"
      ],
      "metadata": {
        "colab": {
          "base_uri": "https://localhost:8080/",
          "height": 0
        },
        "id": "49tmzz00-yBZ",
        "outputId": "a2f4fa9f-72b6-4f28-d2ce-e896a59f01b7"
      },
      "execution_count": 130,
      "outputs": [
        {
          "output_type": "execute_result",
          "data": {
            "text/plain": [
              "           CAMIS INSPECTION_DATE                ACTION VIOLATION_CODE  SCORE  \\\n",
              "0       41524890      2019-09-23  Establishment closed            08A   44.0   \n",
              "1       40387178      2019-02-06      Violations found            10F    9.0   \n",
              "2       40387178      2019-02-06      Violations found            10F    9.0   \n",
              "3       40387178      2019-02-06      Violations found            10F    9.0   \n",
              "4       50017360      2017-02-13      Violations found            10F   22.0   \n",
              "...          ...             ...                   ...            ...    ...   \n",
              "274695  50093362      2022-02-03      Violations found            10B   29.0   \n",
              "274696  41428580      2019-12-11      Violations found            08A   12.0   \n",
              "274698  50045240      2022-03-08      Violations found            06A   33.0   \n",
              "274699  50055501      2019-02-23      Violations found            08A   20.0   \n",
              "274700  41641642      2019-04-04      Violations found            04L   19.0   \n",
              "\n",
              "       GRADE     INSPECTION_TYPE  TO_DELETE  \n",
              "0        NaN  Initial Inspection      False  \n",
              "1          A  Initial Inspection      False  \n",
              "2          A  Initial Inspection      False  \n",
              "3          A  Initial Inspection      False  \n",
              "4        NaN  Initial Inspection      False  \n",
              "...      ...                 ...        ...  \n",
              "274695   NaN  Initial Inspection      False  \n",
              "274696     A       Re-inspection      False  \n",
              "274698   NaN  Initial Inspection      False  \n",
              "274699   NaN  Initial Inspection      False  \n",
              "274700   NaN  Initial Inspection      False  \n",
              "\n",
              "[207053 rows x 8 columns]"
            ],
            "text/html": [
              "\n",
              "  <div id=\"df-c4383d9f-14dd-4ac5-9574-59392e4699b4\">\n",
              "    <div class=\"colab-df-container\">\n",
              "      <div>\n",
              "<style scoped>\n",
              "    .dataframe tbody tr th:only-of-type {\n",
              "        vertical-align: middle;\n",
              "    }\n",
              "\n",
              "    .dataframe tbody tr th {\n",
              "        vertical-align: top;\n",
              "    }\n",
              "\n",
              "    .dataframe thead th {\n",
              "        text-align: right;\n",
              "    }\n",
              "</style>\n",
              "<table border=\"1\" class=\"dataframe\">\n",
              "  <thead>\n",
              "    <tr style=\"text-align: right;\">\n",
              "      <th></th>\n",
              "      <th>CAMIS</th>\n",
              "      <th>INSPECTION_DATE</th>\n",
              "      <th>ACTION</th>\n",
              "      <th>VIOLATION_CODE</th>\n",
              "      <th>SCORE</th>\n",
              "      <th>GRADE</th>\n",
              "      <th>INSPECTION_TYPE</th>\n",
              "      <th>TO_DELETE</th>\n",
              "    </tr>\n",
              "  </thead>\n",
              "  <tbody>\n",
              "    <tr>\n",
              "      <th>0</th>\n",
              "      <td>41524890</td>\n",
              "      <td>2019-09-23</td>\n",
              "      <td>Establishment closed</td>\n",
              "      <td>08A</td>\n",
              "      <td>44.0</td>\n",
              "      <td>NaN</td>\n",
              "      <td>Initial Inspection</td>\n",
              "      <td>False</td>\n",
              "    </tr>\n",
              "    <tr>\n",
              "      <th>1</th>\n",
              "      <td>40387178</td>\n",
              "      <td>2019-02-06</td>\n",
              "      <td>Violations found</td>\n",
              "      <td>10F</td>\n",
              "      <td>9.0</td>\n",
              "      <td>A</td>\n",
              "      <td>Initial Inspection</td>\n",
              "      <td>False</td>\n",
              "    </tr>\n",
              "    <tr>\n",
              "      <th>2</th>\n",
              "      <td>40387178</td>\n",
              "      <td>2019-02-06</td>\n",
              "      <td>Violations found</td>\n",
              "      <td>10F</td>\n",
              "      <td>9.0</td>\n",
              "      <td>A</td>\n",
              "      <td>Initial Inspection</td>\n",
              "      <td>False</td>\n",
              "    </tr>\n",
              "    <tr>\n",
              "      <th>3</th>\n",
              "      <td>40387178</td>\n",
              "      <td>2019-02-06</td>\n",
              "      <td>Violations found</td>\n",
              "      <td>10F</td>\n",
              "      <td>9.0</td>\n",
              "      <td>A</td>\n",
              "      <td>Initial Inspection</td>\n",
              "      <td>False</td>\n",
              "    </tr>\n",
              "    <tr>\n",
              "      <th>4</th>\n",
              "      <td>50017360</td>\n",
              "      <td>2017-02-13</td>\n",
              "      <td>Violations found</td>\n",
              "      <td>10F</td>\n",
              "      <td>22.0</td>\n",
              "      <td>NaN</td>\n",
              "      <td>Initial Inspection</td>\n",
              "      <td>False</td>\n",
              "    </tr>\n",
              "    <tr>\n",
              "      <th>...</th>\n",
              "      <td>...</td>\n",
              "      <td>...</td>\n",
              "      <td>...</td>\n",
              "      <td>...</td>\n",
              "      <td>...</td>\n",
              "      <td>...</td>\n",
              "      <td>...</td>\n",
              "      <td>...</td>\n",
              "    </tr>\n",
              "    <tr>\n",
              "      <th>274695</th>\n",
              "      <td>50093362</td>\n",
              "      <td>2022-02-03</td>\n",
              "      <td>Violations found</td>\n",
              "      <td>10B</td>\n",
              "      <td>29.0</td>\n",
              "      <td>NaN</td>\n",
              "      <td>Initial Inspection</td>\n",
              "      <td>False</td>\n",
              "    </tr>\n",
              "    <tr>\n",
              "      <th>274696</th>\n",
              "      <td>41428580</td>\n",
              "      <td>2019-12-11</td>\n",
              "      <td>Violations found</td>\n",
              "      <td>08A</td>\n",
              "      <td>12.0</td>\n",
              "      <td>A</td>\n",
              "      <td>Re-inspection</td>\n",
              "      <td>False</td>\n",
              "    </tr>\n",
              "    <tr>\n",
              "      <th>274698</th>\n",
              "      <td>50045240</td>\n",
              "      <td>2022-03-08</td>\n",
              "      <td>Violations found</td>\n",
              "      <td>06A</td>\n",
              "      <td>33.0</td>\n",
              "      <td>NaN</td>\n",
              "      <td>Initial Inspection</td>\n",
              "      <td>False</td>\n",
              "    </tr>\n",
              "    <tr>\n",
              "      <th>274699</th>\n",
              "      <td>50055501</td>\n",
              "      <td>2019-02-23</td>\n",
              "      <td>Violations found</td>\n",
              "      <td>08A</td>\n",
              "      <td>20.0</td>\n",
              "      <td>NaN</td>\n",
              "      <td>Initial Inspection</td>\n",
              "      <td>False</td>\n",
              "    </tr>\n",
              "    <tr>\n",
              "      <th>274700</th>\n",
              "      <td>41641642</td>\n",
              "      <td>2019-04-04</td>\n",
              "      <td>Violations found</td>\n",
              "      <td>04L</td>\n",
              "      <td>19.0</td>\n",
              "      <td>NaN</td>\n",
              "      <td>Initial Inspection</td>\n",
              "      <td>False</td>\n",
              "    </tr>\n",
              "  </tbody>\n",
              "</table>\n",
              "<p>207053 rows × 8 columns</p>\n",
              "</div>\n",
              "      <button class=\"colab-df-convert\" onclick=\"convertToInteractive('df-c4383d9f-14dd-4ac5-9574-59392e4699b4')\"\n",
              "              title=\"Convert this dataframe to an interactive table.\"\n",
              "              style=\"display:none;\">\n",
              "        \n",
              "  <svg xmlns=\"http://www.w3.org/2000/svg\" height=\"24px\"viewBox=\"0 0 24 24\"\n",
              "       width=\"24px\">\n",
              "    <path d=\"M0 0h24v24H0V0z\" fill=\"none\"/>\n",
              "    <path d=\"M18.56 5.44l.94 2.06.94-2.06 2.06-.94-2.06-.94-.94-2.06-.94 2.06-2.06.94zm-11 1L8.5 8.5l.94-2.06 2.06-.94-2.06-.94L8.5 2.5l-.94 2.06-2.06.94zm10 10l.94 2.06.94-2.06 2.06-.94-2.06-.94-.94-2.06-.94 2.06-2.06.94z\"/><path d=\"M17.41 7.96l-1.37-1.37c-.4-.4-.92-.59-1.43-.59-.52 0-1.04.2-1.43.59L10.3 9.45l-7.72 7.72c-.78.78-.78 2.05 0 2.83L4 21.41c.39.39.9.59 1.41.59.51 0 1.02-.2 1.41-.59l7.78-7.78 2.81-2.81c.8-.78.8-2.07 0-2.86zM5.41 20L4 18.59l7.72-7.72 1.47 1.35L5.41 20z\"/>\n",
              "  </svg>\n",
              "      </button>\n",
              "      \n",
              "  <style>\n",
              "    .colab-df-container {\n",
              "      display:flex;\n",
              "      flex-wrap:wrap;\n",
              "      gap: 12px;\n",
              "    }\n",
              "\n",
              "    .colab-df-convert {\n",
              "      background-color: #E8F0FE;\n",
              "      border: none;\n",
              "      border-radius: 50%;\n",
              "      cursor: pointer;\n",
              "      display: none;\n",
              "      fill: #1967D2;\n",
              "      height: 32px;\n",
              "      padding: 0 0 0 0;\n",
              "      width: 32px;\n",
              "    }\n",
              "\n",
              "    .colab-df-convert:hover {\n",
              "      background-color: #E2EBFA;\n",
              "      box-shadow: 0px 1px 2px rgba(60, 64, 67, 0.3), 0px 1px 3px 1px rgba(60, 64, 67, 0.15);\n",
              "      fill: #174EA6;\n",
              "    }\n",
              "\n",
              "    [theme=dark] .colab-df-convert {\n",
              "      background-color: #3B4455;\n",
              "      fill: #D2E3FC;\n",
              "    }\n",
              "\n",
              "    [theme=dark] .colab-df-convert:hover {\n",
              "      background-color: #434B5C;\n",
              "      box-shadow: 0px 1px 3px 1px rgba(0, 0, 0, 0.15);\n",
              "      filter: drop-shadow(0px 1px 2px rgba(0, 0, 0, 0.3));\n",
              "      fill: #FFFFFF;\n",
              "    }\n",
              "  </style>\n",
              "\n",
              "      <script>\n",
              "        const buttonEl =\n",
              "          document.querySelector('#df-c4383d9f-14dd-4ac5-9574-59392e4699b4 button.colab-df-convert');\n",
              "        buttonEl.style.display =\n",
              "          google.colab.kernel.accessAllowed ? 'block' : 'none';\n",
              "\n",
              "        async function convertToInteractive(key) {\n",
              "          const element = document.querySelector('#df-c4383d9f-14dd-4ac5-9574-59392e4699b4');\n",
              "          const dataTable =\n",
              "            await google.colab.kernel.invokeFunction('convertToInteractive',\n",
              "                                                     [key], {});\n",
              "          if (!dataTable) return;\n",
              "\n",
              "          const docLinkHtml = 'Like what you see? Visit the ' +\n",
              "            '<a target=\"_blank\" href=https://colab.research.google.com/notebooks/data_table.ipynb>data table notebook</a>'\n",
              "            + ' to learn more about interactive tables.';\n",
              "          element.innerHTML = '';\n",
              "          dataTable['output_type'] = 'display_data';\n",
              "          await google.colab.output.renderOutput(dataTable, element);\n",
              "          const docLink = document.createElement('div');\n",
              "          docLink.innerHTML = docLinkHtml;\n",
              "          element.appendChild(docLink);\n",
              "        }\n",
              "      </script>\n",
              "    </div>\n",
              "  </div>\n",
              "  "
            ]
          },
          "metadata": {},
          "execution_count": 130
        }
      ]
    },
    {
      "cell_type": "markdown",
      "metadata": {
        "id": "_dW28Hgj7hut"
      },
      "source": [
        "### Inspections"
      ]
    },
    {
      "cell_type": "code",
      "execution_count": 131,
      "metadata": {
        "id": "z5SDo-BW7hut"
      },
      "outputs": [],
      "source": [
        "# Each inspection has multiple violations. We want to keep just the inspections for now\n",
        "inspection = df.drop('VIOLATION_CODE', axis='columns').drop_duplicates().sort_values(['INSPECTION_DATE', 'CAMIS'])"
      ]
    },
    {
      "cell_type": "code",
      "source": [
        "inspection"
      ],
      "metadata": {
        "colab": {
          "base_uri": "https://localhost:8080/",
          "height": 424
        },
        "id": "Sh2iuGKX_wkz",
        "outputId": "32065f0c-ad47-4d68-d961-cbee981c52db"
      },
      "execution_count": 132,
      "outputs": [
        {
          "output_type": "execute_result",
          "data": {
            "text/plain": [
              "           CAMIS INSPECTION_DATE            ACTION  SCORE GRADE  \\\n",
              "9297    41030982      2015-04-03  Violations found   34.0   NaN   \n",
              "106662  41030982      2015-05-14  Violations found    9.0     A   \n",
              "6020    41171220      2015-06-25  Violations found   10.0   NaN   \n",
              "39988   41171220      2015-07-08  Violations found   13.0     A   \n",
              "37580   50000233      2015-07-29  Violations found   11.0     A   \n",
              "...          ...             ...               ...    ...   ...   \n",
              "25846   50096401      2022-06-21  Violations found   33.0   NaN   \n",
              "58688   50099342      2022-06-21  Violations found   13.0     A   \n",
              "94287   50100420      2022-06-21  Violations found   12.0     A   \n",
              "143053  50104121      2022-06-21  Violations found    9.0     A   \n",
              "75174   50117480      2022-06-21  Violations found   12.0     A   \n",
              "\n",
              "           INSPECTION_TYPE  TO_DELETE  \n",
              "9297    Initial Inspection      False  \n",
              "106662       Re-inspection      False  \n",
              "6020    Initial Inspection      False  \n",
              "39988        Re-inspection      False  \n",
              "37580        Re-inspection      False  \n",
              "...                    ...        ...  \n",
              "25846   Initial Inspection      False  \n",
              "58688   Initial Inspection      False  \n",
              "94287        Re-inspection      False  \n",
              "143053  Initial Inspection      False  \n",
              "75174   Initial Inspection      False  \n",
              "\n",
              "[64094 rows x 7 columns]"
            ],
            "text/html": [
              "\n",
              "  <div id=\"df-629b6ab1-7327-41cd-ab96-15229bcfb982\">\n",
              "    <div class=\"colab-df-container\">\n",
              "      <div>\n",
              "<style scoped>\n",
              "    .dataframe tbody tr th:only-of-type {\n",
              "        vertical-align: middle;\n",
              "    }\n",
              "\n",
              "    .dataframe tbody tr th {\n",
              "        vertical-align: top;\n",
              "    }\n",
              "\n",
              "    .dataframe thead th {\n",
              "        text-align: right;\n",
              "    }\n",
              "</style>\n",
              "<table border=\"1\" class=\"dataframe\">\n",
              "  <thead>\n",
              "    <tr style=\"text-align: right;\">\n",
              "      <th></th>\n",
              "      <th>CAMIS</th>\n",
              "      <th>INSPECTION_DATE</th>\n",
              "      <th>ACTION</th>\n",
              "      <th>SCORE</th>\n",
              "      <th>GRADE</th>\n",
              "      <th>INSPECTION_TYPE</th>\n",
              "      <th>TO_DELETE</th>\n",
              "    </tr>\n",
              "  </thead>\n",
              "  <tbody>\n",
              "    <tr>\n",
              "      <th>9297</th>\n",
              "      <td>41030982</td>\n",
              "      <td>2015-04-03</td>\n",
              "      <td>Violations found</td>\n",
              "      <td>34.0</td>\n",
              "      <td>NaN</td>\n",
              "      <td>Initial Inspection</td>\n",
              "      <td>False</td>\n",
              "    </tr>\n",
              "    <tr>\n",
              "      <th>106662</th>\n",
              "      <td>41030982</td>\n",
              "      <td>2015-05-14</td>\n",
              "      <td>Violations found</td>\n",
              "      <td>9.0</td>\n",
              "      <td>A</td>\n",
              "      <td>Re-inspection</td>\n",
              "      <td>False</td>\n",
              "    </tr>\n",
              "    <tr>\n",
              "      <th>6020</th>\n",
              "      <td>41171220</td>\n",
              "      <td>2015-06-25</td>\n",
              "      <td>Violations found</td>\n",
              "      <td>10.0</td>\n",
              "      <td>NaN</td>\n",
              "      <td>Initial Inspection</td>\n",
              "      <td>False</td>\n",
              "    </tr>\n",
              "    <tr>\n",
              "      <th>39988</th>\n",
              "      <td>41171220</td>\n",
              "      <td>2015-07-08</td>\n",
              "      <td>Violations found</td>\n",
              "      <td>13.0</td>\n",
              "      <td>A</td>\n",
              "      <td>Re-inspection</td>\n",
              "      <td>False</td>\n",
              "    </tr>\n",
              "    <tr>\n",
              "      <th>37580</th>\n",
              "      <td>50000233</td>\n",
              "      <td>2015-07-29</td>\n",
              "      <td>Violations found</td>\n",
              "      <td>11.0</td>\n",
              "      <td>A</td>\n",
              "      <td>Re-inspection</td>\n",
              "      <td>False</td>\n",
              "    </tr>\n",
              "    <tr>\n",
              "      <th>...</th>\n",
              "      <td>...</td>\n",
              "      <td>...</td>\n",
              "      <td>...</td>\n",
              "      <td>...</td>\n",
              "      <td>...</td>\n",
              "      <td>...</td>\n",
              "      <td>...</td>\n",
              "    </tr>\n",
              "    <tr>\n",
              "      <th>25846</th>\n",
              "      <td>50096401</td>\n",
              "      <td>2022-06-21</td>\n",
              "      <td>Violations found</td>\n",
              "      <td>33.0</td>\n",
              "      <td>NaN</td>\n",
              "      <td>Initial Inspection</td>\n",
              "      <td>False</td>\n",
              "    </tr>\n",
              "    <tr>\n",
              "      <th>58688</th>\n",
              "      <td>50099342</td>\n",
              "      <td>2022-06-21</td>\n",
              "      <td>Violations found</td>\n",
              "      <td>13.0</td>\n",
              "      <td>A</td>\n",
              "      <td>Initial Inspection</td>\n",
              "      <td>False</td>\n",
              "    </tr>\n",
              "    <tr>\n",
              "      <th>94287</th>\n",
              "      <td>50100420</td>\n",
              "      <td>2022-06-21</td>\n",
              "      <td>Violations found</td>\n",
              "      <td>12.0</td>\n",
              "      <td>A</td>\n",
              "      <td>Re-inspection</td>\n",
              "      <td>False</td>\n",
              "    </tr>\n",
              "    <tr>\n",
              "      <th>143053</th>\n",
              "      <td>50104121</td>\n",
              "      <td>2022-06-21</td>\n",
              "      <td>Violations found</td>\n",
              "      <td>9.0</td>\n",
              "      <td>A</td>\n",
              "      <td>Initial Inspection</td>\n",
              "      <td>False</td>\n",
              "    </tr>\n",
              "    <tr>\n",
              "      <th>75174</th>\n",
              "      <td>50117480</td>\n",
              "      <td>2022-06-21</td>\n",
              "      <td>Violations found</td>\n",
              "      <td>12.0</td>\n",
              "      <td>A</td>\n",
              "      <td>Initial Inspection</td>\n",
              "      <td>False</td>\n",
              "    </tr>\n",
              "  </tbody>\n",
              "</table>\n",
              "<p>64094 rows × 7 columns</p>\n",
              "</div>\n",
              "      <button class=\"colab-df-convert\" onclick=\"convertToInteractive('df-629b6ab1-7327-41cd-ab96-15229bcfb982')\"\n",
              "              title=\"Convert this dataframe to an interactive table.\"\n",
              "              style=\"display:none;\">\n",
              "        \n",
              "  <svg xmlns=\"http://www.w3.org/2000/svg\" height=\"24px\"viewBox=\"0 0 24 24\"\n",
              "       width=\"24px\">\n",
              "    <path d=\"M0 0h24v24H0V0z\" fill=\"none\"/>\n",
              "    <path d=\"M18.56 5.44l.94 2.06.94-2.06 2.06-.94-2.06-.94-.94-2.06-.94 2.06-2.06.94zm-11 1L8.5 8.5l.94-2.06 2.06-.94-2.06-.94L8.5 2.5l-.94 2.06-2.06.94zm10 10l.94 2.06.94-2.06 2.06-.94-2.06-.94-.94-2.06-.94 2.06-2.06.94z\"/><path d=\"M17.41 7.96l-1.37-1.37c-.4-.4-.92-.59-1.43-.59-.52 0-1.04.2-1.43.59L10.3 9.45l-7.72 7.72c-.78.78-.78 2.05 0 2.83L4 21.41c.39.39.9.59 1.41.59.51 0 1.02-.2 1.41-.59l7.78-7.78 2.81-2.81c.8-.78.8-2.07 0-2.86zM5.41 20L4 18.59l7.72-7.72 1.47 1.35L5.41 20z\"/>\n",
              "  </svg>\n",
              "      </button>\n",
              "      \n",
              "  <style>\n",
              "    .colab-df-container {\n",
              "      display:flex;\n",
              "      flex-wrap:wrap;\n",
              "      gap: 12px;\n",
              "    }\n",
              "\n",
              "    .colab-df-convert {\n",
              "      background-color: #E8F0FE;\n",
              "      border: none;\n",
              "      border-radius: 50%;\n",
              "      cursor: pointer;\n",
              "      display: none;\n",
              "      fill: #1967D2;\n",
              "      height: 32px;\n",
              "      padding: 0 0 0 0;\n",
              "      width: 32px;\n",
              "    }\n",
              "\n",
              "    .colab-df-convert:hover {\n",
              "      background-color: #E2EBFA;\n",
              "      box-shadow: 0px 1px 2px rgba(60, 64, 67, 0.3), 0px 1px 3px 1px rgba(60, 64, 67, 0.15);\n",
              "      fill: #174EA6;\n",
              "    }\n",
              "\n",
              "    [theme=dark] .colab-df-convert {\n",
              "      background-color: #3B4455;\n",
              "      fill: #D2E3FC;\n",
              "    }\n",
              "\n",
              "    [theme=dark] .colab-df-convert:hover {\n",
              "      background-color: #434B5C;\n",
              "      box-shadow: 0px 1px 3px 1px rgba(0, 0, 0, 0.15);\n",
              "      filter: drop-shadow(0px 1px 2px rgba(0, 0, 0, 0.3));\n",
              "      fill: #FFFFFF;\n",
              "    }\n",
              "  </style>\n",
              "\n",
              "      <script>\n",
              "        const buttonEl =\n",
              "          document.querySelector('#df-629b6ab1-7327-41cd-ab96-15229bcfb982 button.colab-df-convert');\n",
              "        buttonEl.style.display =\n",
              "          google.colab.kernel.accessAllowed ? 'block' : 'none';\n",
              "\n",
              "        async function convertToInteractive(key) {\n",
              "          const element = document.querySelector('#df-629b6ab1-7327-41cd-ab96-15229bcfb982');\n",
              "          const dataTable =\n",
              "            await google.colab.kernel.invokeFunction('convertToInteractive',\n",
              "                                                     [key], {});\n",
              "          if (!dataTable) return;\n",
              "\n",
              "          const docLinkHtml = 'Like what you see? Visit the ' +\n",
              "            '<a target=\"_blank\" href=https://colab.research.google.com/notebooks/data_table.ipynb>data table notebook</a>'\n",
              "            + ' to learn more about interactive tables.';\n",
              "          element.innerHTML = '';\n",
              "          dataTable['output_type'] = 'display_data';\n",
              "          await google.colab.output.renderOutput(dataTable, element);\n",
              "          const docLink = document.createElement('div');\n",
              "          docLink.innerHTML = docLinkHtml;\n",
              "          element.appendChild(docLink);\n",
              "        }\n",
              "      </script>\n",
              "    </div>\n",
              "  </div>\n",
              "  "
            ]
          },
          "metadata": {},
          "execution_count": 132
        }
      ]
    },
    {
      "cell_type": "code",
      "execution_count": 133,
      "metadata": {
        "id": "ltuLy_aP7hut"
      },
      "outputs": [],
      "source": [
        "# We create an ID for each inspection here\n",
        "inspection = inspection.reset_index().drop('index', axis='columns').reset_index().rename({'index': 'INSPECTION_ID'}, axis='columns')"
      ]
    },
    {
      "cell_type": "code",
      "execution_count": 134,
      "metadata": {
        "colab": {
          "base_uri": "https://localhost:8080/"
        },
        "id": "Aq30kh7f7hut",
        "outputId": "4f5c1286-881d-499a-a290-3752a2ef9675"
      },
      "outputs": [
        {
          "output_type": "execute_result",
          "data": {
            "text/plain": [
              "Violations found        62508\n",
              "Establishment closed     1168\n",
              "No violations             418\n",
              "Name: ACTION, dtype: int64"
            ]
          },
          "metadata": {},
          "execution_count": 134
        }
      ],
      "source": [
        "inspection.ACTION.value_counts()"
      ]
    },
    {
      "cell_type": "code",
      "execution_count": 135,
      "metadata": {
        "colab": {
          "base_uri": "https://localhost:8080/",
          "height": 112
        },
        "id": "buVPmBBH7hut",
        "outputId": "b5aa78e6-eae7-48ae-e2c0-1cdb60b73a03"
      },
      "outputs": [
        {
          "output_type": "execute_result",
          "data": {
            "text/plain": [
              "                          INSPECTION_ID\n",
              "INSPECTION_DATE CAMIS                  \n",
              "2017-11-04      40911114              2"
            ],
            "text/html": [
              "\n",
              "  <div id=\"df-5ef9bfdd-61a1-4cb2-bae7-e0955ba60e69\">\n",
              "    <div class=\"colab-df-container\">\n",
              "      <div>\n",
              "<style scoped>\n",
              "    .dataframe tbody tr th:only-of-type {\n",
              "        vertical-align: middle;\n",
              "    }\n",
              "\n",
              "    .dataframe tbody tr th {\n",
              "        vertical-align: top;\n",
              "    }\n",
              "\n",
              "    .dataframe thead th {\n",
              "        text-align: right;\n",
              "    }\n",
              "</style>\n",
              "<table border=\"1\" class=\"dataframe\">\n",
              "  <thead>\n",
              "    <tr style=\"text-align: right;\">\n",
              "      <th></th>\n",
              "      <th></th>\n",
              "      <th>INSPECTION_ID</th>\n",
              "    </tr>\n",
              "    <tr>\n",
              "      <th>INSPECTION_DATE</th>\n",
              "      <th>CAMIS</th>\n",
              "      <th></th>\n",
              "    </tr>\n",
              "  </thead>\n",
              "  <tbody>\n",
              "    <tr>\n",
              "      <th>2017-11-04</th>\n",
              "      <th>40911114</th>\n",
              "      <td>2</td>\n",
              "    </tr>\n",
              "  </tbody>\n",
              "</table>\n",
              "</div>\n",
              "      <button class=\"colab-df-convert\" onclick=\"convertToInteractive('df-5ef9bfdd-61a1-4cb2-bae7-e0955ba60e69')\"\n",
              "              title=\"Convert this dataframe to an interactive table.\"\n",
              "              style=\"display:none;\">\n",
              "        \n",
              "  <svg xmlns=\"http://www.w3.org/2000/svg\" height=\"24px\"viewBox=\"0 0 24 24\"\n",
              "       width=\"24px\">\n",
              "    <path d=\"M0 0h24v24H0V0z\" fill=\"none\"/>\n",
              "    <path d=\"M18.56 5.44l.94 2.06.94-2.06 2.06-.94-2.06-.94-.94-2.06-.94 2.06-2.06.94zm-11 1L8.5 8.5l.94-2.06 2.06-.94-2.06-.94L8.5 2.5l-.94 2.06-2.06.94zm10 10l.94 2.06.94-2.06 2.06-.94-2.06-.94-.94-2.06-.94 2.06-2.06.94z\"/><path d=\"M17.41 7.96l-1.37-1.37c-.4-.4-.92-.59-1.43-.59-.52 0-1.04.2-1.43.59L10.3 9.45l-7.72 7.72c-.78.78-.78 2.05 0 2.83L4 21.41c.39.39.9.59 1.41.59.51 0 1.02-.2 1.41-.59l7.78-7.78 2.81-2.81c.8-.78.8-2.07 0-2.86zM5.41 20L4 18.59l7.72-7.72 1.47 1.35L5.41 20z\"/>\n",
              "  </svg>\n",
              "      </button>\n",
              "      \n",
              "  <style>\n",
              "    .colab-df-container {\n",
              "      display:flex;\n",
              "      flex-wrap:wrap;\n",
              "      gap: 12px;\n",
              "    }\n",
              "\n",
              "    .colab-df-convert {\n",
              "      background-color: #E8F0FE;\n",
              "      border: none;\n",
              "      border-radius: 50%;\n",
              "      cursor: pointer;\n",
              "      display: none;\n",
              "      fill: #1967D2;\n",
              "      height: 32px;\n",
              "      padding: 0 0 0 0;\n",
              "      width: 32px;\n",
              "    }\n",
              "\n",
              "    .colab-df-convert:hover {\n",
              "      background-color: #E2EBFA;\n",
              "      box-shadow: 0px 1px 2px rgba(60, 64, 67, 0.3), 0px 1px 3px 1px rgba(60, 64, 67, 0.15);\n",
              "      fill: #174EA6;\n",
              "    }\n",
              "\n",
              "    [theme=dark] .colab-df-convert {\n",
              "      background-color: #3B4455;\n",
              "      fill: #D2E3FC;\n",
              "    }\n",
              "\n",
              "    [theme=dark] .colab-df-convert:hover {\n",
              "      background-color: #434B5C;\n",
              "      box-shadow: 0px 1px 3px 1px rgba(0, 0, 0, 0.15);\n",
              "      filter: drop-shadow(0px 1px 2px rgba(0, 0, 0, 0.3));\n",
              "      fill: #FFFFFF;\n",
              "    }\n",
              "  </style>\n",
              "\n",
              "      <script>\n",
              "        const buttonEl =\n",
              "          document.querySelector('#df-5ef9bfdd-61a1-4cb2-bae7-e0955ba60e69 button.colab-df-convert');\n",
              "        buttonEl.style.display =\n",
              "          google.colab.kernel.accessAllowed ? 'block' : 'none';\n",
              "\n",
              "        async function convertToInteractive(key) {\n",
              "          const element = document.querySelector('#df-5ef9bfdd-61a1-4cb2-bae7-e0955ba60e69');\n",
              "          const dataTable =\n",
              "            await google.colab.kernel.invokeFunction('convertToInteractive',\n",
              "                                                     [key], {});\n",
              "          if (!dataTable) return;\n",
              "\n",
              "          const docLinkHtml = 'Like what you see? Visit the ' +\n",
              "            '<a target=\"_blank\" href=https://colab.research.google.com/notebooks/data_table.ipynb>data table notebook</a>'\n",
              "            + ' to learn more about interactive tables.';\n",
              "          element.innerHTML = '';\n",
              "          dataTable['output_type'] = 'display_data';\n",
              "          await google.colab.output.renderOutput(dataTable, element);\n",
              "          const docLink = document.createElement('div');\n",
              "          docLink.innerHTML = docLinkHtml;\n",
              "          element.appendChild(docLink);\n",
              "        }\n",
              "      </script>\n",
              "    </div>\n",
              "  </div>\n",
              "  "
            ]
          },
          "metadata": {},
          "execution_count": 135
        }
      ],
      "source": [
        "# Ensure that the inspection table contains \n",
        "# no duplicate pairs for 'INSPECTION_DATE', 'CAMIS'\n",
        "pvt = inspection.pivot_table(\n",
        "    index = ['INSPECTION_DATE', 'CAMIS'],\n",
        "    values = 'INSPECTION_ID',\n",
        "    aggfunc = 'count'\n",
        ")\n",
        "pvt [ pvt.INSPECTION_ID > 1 ]\n",
        "\n",
        "# assert len(pvt [ pvt.INSPECTION_ID > 1 ]) == 0 "
      ]
    },
    {
      "cell_type": "code",
      "execution_count": 136,
      "metadata": {
        "id": "u1tvDeGA7hut"
      },
      "outputs": [],
      "source": [
        "# df[ (df.CAMIS =='41007054') & (df.INSPECTION_DATE == '2017-03-03')  ].sort_values('VIOLATION_CODE')"
      ]
    },
    {
      "cell_type": "code",
      "execution_count": 137,
      "metadata": {
        "id": "fzr3sv_f7hut"
      },
      "outputs": [],
      "source": [
        "# to_drop = inspection.query(\" CAMIS =='50051092' and  INSPECTION_DATE == '2019-09-11' \").index.values[1]\n",
        "# inspection = inspection.drop(to_drop, axis='index')"
      ]
    },
    {
      "cell_type": "code",
      "source": [
        "to_drop = inspection.query(\" CAMIS =='40911114' and  INSPECTION_DATE == '2017-11-04' \").index.values[1]\n",
        "\n",
        "inspection = inspection.drop(to_drop, axis='index')"
      ],
      "metadata": {
        "id": "fe_uah4zEDHU"
      },
      "execution_count": 138,
      "outputs": []
    },
    {
      "cell_type": "code",
      "source": [
        "inspection.drop('TO_DELETE', axis='columns', inplace=True)"
      ],
      "metadata": {
        "id": "dU5ReJL0hc_W"
      },
      "execution_count": 139,
      "outputs": []
    },
    {
      "cell_type": "code",
      "execution_count": 140,
      "metadata": {
        "id": "YNyo-QPG7hut"
      },
      "outputs": [],
      "source": [
        "# Ensure that the inspection table contains \n",
        "# no duplicate pairs for 'INSPECTION_DATE', 'CAMIS'\n",
        "pvt = inspection.pivot_table(\n",
        "    index = ['INSPECTION_DATE', 'CAMIS'],\n",
        "    values = 'INSPECTION_ID',\n",
        "    aggfunc = 'count'\n",
        ")\n",
        "assert len(pvt [ pvt.INSPECTION_ID > 1 ]) == 0 "
      ]
    },
    {
      "cell_type": "code",
      "execution_count": 141,
      "metadata": {
        "colab": {
          "base_uri": "https://localhost:8080/"
        },
        "id": "Yva24CbP7huv",
        "outputId": "e83585e5-3c62-43dd-ff5e-bace73a8853f"
      },
      "outputs": [
        {
          "output_type": "execute_result",
          "data": {
            "text/plain": [
              "Initial Inspection    46049\n",
              "Re-inspection         18044\n",
              "Name: INSPECTION_TYPE, dtype: int64"
            ]
          },
          "metadata": {},
          "execution_count": 141
        }
      ],
      "source": [
        "inspection.INSPECTION_TYPE.value_counts()"
      ]
    },
    {
      "cell_type": "code",
      "execution_count": 142,
      "metadata": {
        "id": "8Q9tnmEL7huv"
      },
      "outputs": [],
      "source": [
        "inspection_stats = inspection.pivot_table(\n",
        "    index = 'CAMIS',\n",
        "    aggfunc = ['min', 'max', 'count'],\n",
        "    values = 'INSPECTION_DATE'\n",
        ")"
      ]
    },
    {
      "cell_type": "code",
      "source": [
        ""
      ],
      "metadata": {
        "id": "7eKs6Sd8_f18"
      },
      "execution_count": 142,
      "outputs": []
    },
    {
      "cell_type": "code",
      "execution_count": 143,
      "metadata": {
        "colab": {
          "base_uri": "https://localhost:8080/",
          "height": 295
        },
        "id": "2UGMl7ZK7huv",
        "outputId": "84ecf205-38b3-4de9-b6d1-02e88ed1d723"
      },
      "outputs": [
        {
          "output_type": "execute_result",
          "data": {
            "text/plain": [
              "<matplotlib.axes._subplots.AxesSubplot at 0x7f536d788ed0>"
            ]
          },
          "metadata": {},
          "execution_count": 143
        },
        {
          "output_type": "display_data",
          "data": {
            "text/plain": [
              "<Figure size 432x288 with 1 Axes>"
            ],
            "image/png": "[encoded data removed]"
          },
          "metadata": {
            "image/png": {
              "width": 375,
              "height": 261
            },
            "needs_background": "light"
          }
        }
      ],
      "source": [
        "# Distribution of last inspection across all restaurants\n",
        "inspection_stats['max'].sort_values('INSPECTION_DATE').reset_index().pivot_table(\n",
        "    index='INSPECTION_DATE',\n",
        "    aggfunc='count'\n",
        ").resample('1W').sum().plot()"
      ]
    },
    {
      "cell_type": "code",
      "execution_count": 144,
      "metadata": {
        "id": "K3mwJMYc7huv"
      },
      "outputs": [],
      "source": [
        "# Longevity \n",
        "# (inspection_stats['max'] - inspection_stats['min'])['INSPECTION DATE'].sort_values()"
      ]
    },
    {
      "cell_type": "code",
      "execution_count": 145,
      "metadata": {
        "colab": {
          "base_uri": "https://localhost:8080/",
          "height": 282
        },
        "id": "LElB919o7huv",
        "outputId": "941163a9-05b3-4eef-a094-4fd16cd3d8eb"
      },
      "outputs": [
        {
          "output_type": "execute_result",
          "data": {
            "text/plain": [
              "<matplotlib.axes._subplots.AxesSubplot at 0x7f536d658890>"
            ]
          },
          "metadata": {},
          "execution_count": 145
        },
        {
          "output_type": "display_data",
          "data": {
            "text/plain": [
              "<Figure size 432x288 with 1 Axes>"
            ],
            "image/png": "[encoded data removed]"
          },
          "metadata": {
            "image/png": {
              "width": 375,
              "height": 248
            },
            "needs_background": "light"
          }
        }
      ],
      "source": [
        "# Distribution of all inspections\n",
        "inspection['INSPECTION_DATE'].value_counts().sort_index().resample('1W').sum().plot()"
      ]
    },
    {
      "cell_type": "code",
      "execution_count": 146,
      "metadata": {
        "colab": {
          "base_uri": "https://localhost:8080/"
        },
        "id": "8RDOAgxx7huv",
        "outputId": "a01f5f08-0b11-49d6-ccd6-9ca483248da5"
      },
      "outputs": [
        {
          "output_type": "execute_result",
          "data": {
            "text/plain": [
              "207053"
            ]
          },
          "metadata": {},
          "execution_count": 146
        }
      ],
      "source": [
        "len(df)"
      ]
    },
    {
      "cell_type": "code",
      "execution_count": 147,
      "metadata": {
        "colab": {
          "base_uri": "https://localhost:8080/"
        },
        "id": "2WuZLSBA7huv",
        "outputId": "07ef1529-50f0-4458-89e6-35304db1916b"
      },
      "outputs": [
        {
          "output_type": "execute_result",
          "data": {
            "text/plain": [
              "193908"
            ]
          },
          "metadata": {},
          "execution_count": 147
        }
      ],
      "source": [
        "violations = pd.merge(\n",
        "    inspection,\n",
        "    df[ ['CAMIS', 'INSPECTION_DATE', 'VIOLATION_CODE' ] ],\n",
        "    on= ['CAMIS', 'INSPECTION_DATE'],\n",
        "    how = 'inner'\n",
        ")\n",
        "violations = violations[ ['INSPECTION_ID', 'VIOLATION_CODE'] ].drop_duplicates()\n",
        "len(violations)"
      ]
    },
    {
      "cell_type": "code",
      "execution_count": 148,
      "metadata": {
        "colab": {
          "base_uri": "https://localhost:8080/"
        },
        "id": "fQm8ERgi7huv",
        "outputId": "9136177e-5636-487a-edc9-33d570ca7fe9"
      },
      "outputs": [
        {
          "output_type": "stream",
          "name": "stdout",
          "text": [
            "Violations: 193908\n",
            "Inspections: 64093\n",
            "Restaurants: 18819\n",
            "Violation Codes: 68\n"
          ]
        }
      ],
      "source": [
        "print(f\"Violations: {len(violations)}\")\n",
        "print(f\"Inspections: {len(inspection)}\")\n",
        "print(f\"Restaurants: {len(restaurants)}\")\n",
        "print(f\"Violation Codes: {len(violation_codes)}\")"
      ]
    },
    {
      "cell_type": "code",
      "execution_count": 148,
      "metadata": {
        "id": "skBkhYUI7huw"
      },
      "outputs": [],
      "source": [
        ""
      ]
    },
    {
      "cell_type": "markdown",
      "source": [
        "## Storing in MySQL\n"
      ],
      "metadata": {
        "id": "zAp8WgoP_U6T"
      }
    },
    {
      "cell_type": "markdown",
      "source": [
        ""
      ],
      "metadata": {
        "id": "N3LHIKlH7wuD"
      }
    },
    {
      "cell_type": "code",
      "source": [
        "!sudo pip3 install -U -q PyMySQL sqlalchemy sql_magic"
      ],
      "metadata": {
        "colab": {
          "base_uri": "https://localhost:8080/"
        },
        "id": "ZnnVs3t1_ZeG",
        "outputId": "97b69100-e88d-4e47-dc94-89b7d39c16b1"
      },
      "execution_count": 149,
      "outputs": [
        {
          "output_type": "stream",
          "name": "stdout",
          "text": [
            "\u001b[K     |████████████████████████████████| 43 kB 1.1 MB/s \n",
            "\u001b[K     |████████████████████████████████| 1.6 MB 8.9 MB/s \n",
            "\u001b[?25h"
          ]
        }
      ]
    },
    {
      "cell_type": "code",
      "source": [
        "import os\n",
        "from sqlalchemy import create_engine\n",
        "\n",
        "conn_string = 'mysql+pymysql://{user}:{password}@{host}/?charset=utf8mb4'.format(\n",
        "    host = 'db.ipeirotis.org', \n",
        "    user = 'root',\n",
        "    password = 'ae6jQniBS5muV27', #os.environ['MYSQL_PASSWORD'],\n",
        "    encoding = 'utf8mb4')\n",
        "\n",
        "engine = create_engine(conn_string)\n",
        "con = engine.connect()"
      ],
      "metadata": {
        "id": "XF85ORv5_bSa"
      },
      "execution_count": 150,
      "outputs": []
    },
    {
      "cell_type": "code",
      "source": [
        "# Query to create a database\n",
        "db_name = 'doh_restaurants'\n",
        "\n",
        "sql = f\"DROP DATABASE IF EXISTS {db_name}\"\n",
        "engine.execute(sql)\n",
        "\n",
        "# Create a database\n",
        "sql = f\"CREATE DATABASE IF NOT EXISTS {db_name} DEFAULT CHARACTER SET 'utf8mb4'\"\n",
        "engine.execute(sql)\n",
        "\n",
        "# And lets switch to the database\n",
        "sql = f\"USE {db_name}\"\n",
        "engine.execute(sql)"
      ],
      "metadata": {
        "colab": {
          "base_uri": "https://localhost:8080/"
        },
        "id": "QyoxDe_T_gs-",
        "outputId": "4030641f-0d5e-41f7-cba6-564778d00df2"
      },
      "execution_count": 156,
      "outputs": [
        {
          "output_type": "execute_result",
          "data": {
            "text/plain": [
              "<sqlalchemy.engine.cursor.LegacyCursorResult at 0x7f536befce50>"
            ]
          },
          "metadata": {},
          "execution_count": 156
        }
      ]
    },
    {
      "cell_type": "code",
      "source": [
        "create_table_sql = '''\n",
        "CREATE TABLE restaurants (\n",
        "    CAMIS                      char(8),\n",
        "    DBA varchar(90), \n",
        "    BUILDING varchar(10), \n",
        "    STREET varchar(40), \n",
        "    ZIPCODE char(5), \n",
        "    BORO ENUM('Bronx', 'Brooklyn', 'Manhattan', 'Queens', 'Staten Island')  ,\n",
        "    PHONE char(10), \n",
        "    CUISINE_DESCRIPTION    varchar(30),\n",
        "LATITUDE                float,\n",
        "LONGITUDE               float,\n",
        "COMMUNITY_BOARD          char(3),\n",
        "COUNCIL_DISTRICT         char(2),\n",
        "CENSUS_TRACT             char(6),\n",
        "BIN                      char(7),\n",
        "BBL                      char(10),\n",
        "NTA                      char(4), \n",
        "PRIMARY KEY(CAMIS)   \n",
        ") ENGINE=InnoDB DEFAULT CHARSET=utf8mb4;\n",
        "'''\n",
        "engine.execute(create_table_sql)\n",
        "\n",
        "create_table_sql = '''\n",
        "CREATE TABLE inspections (\n",
        "    INSPECTION_ID               char(8),\n",
        "    CAMIS                      char(8),\n",
        "    INSPECTION_DATE    datetime,\n",
        "    ACTION                   ENUM('Violations found','Establishment closed','No violations'),\n",
        "    SCORE                     smallint,\n",
        "    GRADE                    char(1),\n",
        "    INSPECTION_TYPE          ENUM('Initial Inspection','Re-inspection'),\n",
        "    FOREIGN KEY(CAMIS) REFERENCES restaurants(CAMIS),\n",
        "    PRIMARY KEY(INSPECTION_ID) \n",
        ") ENGINE=InnoDB DEFAULT CHARSET=utf8mb4;\n",
        "'''\n",
        "engine.execute(create_table_sql)\n",
        "\n",
        "create_table_sql = '''\n",
        "CREATE TABLE violation_codes (\n",
        "  VIOLATION_CODE     char(4),\n",
        "  DESCRIPTION varchar(300),\n",
        "  CRITICAL ENUM('Critical', 'Not Applicable', 'Not Critical'),\n",
        "  PRIMARY KEY(VIOLATION_CODE) \n",
        "\n",
        ") ENGINE=InnoDB DEFAULT CHARSET=utf8mb4;\n",
        "'''\n",
        "engine.execute(create_table_sql)\n",
        "\n",
        "\n",
        "create_table_sql = '''\n",
        "CREATE TABLE violations (\n",
        "  INSPECTION_ID         char(8),\n",
        "  VIOLATION_CODE     char(4),\n",
        "  FOREIGN KEY(INSPECTION_ID) REFERENCES inspections(INSPECTION_ID),\n",
        "FOREIGN KEY(VIOLATION_CODE) REFERENCES violation_codes(VIOLATION_CODE)\n",
        ") ENGINE=InnoDB DEFAULT CHARSET=utf8mb4;\n",
        "'''\n",
        "engine.execute(create_table_sql)"
      ],
      "metadata": {
        "colab": {
          "base_uri": "https://localhost:8080/"
        },
        "id": "ah7hOCzfSMx_",
        "outputId": "240f604c-adf9-4eb9-c30a-0efd8c72586f"
      },
      "execution_count": 157,
      "outputs": [
        {
          "output_type": "execute_result",
          "data": {
            "text/plain": [
              "<sqlalchemy.engine.cursor.LegacyCursorResult at 0x7f536be8b090>"
            ]
          },
          "metadata": {},
          "execution_count": 157
        }
      ]
    },
    {
      "cell_type": "code",
      "source": [
        "violation_codes.reset_index().to_sql(\n",
        "        name = 'violation_codes', \n",
        "        schema = db_name, \n",
        "        con = engine,\n",
        "        if_exists = 'append',\n",
        "        index = False, \n",
        "        chunksize = 1000)"
      ],
      "metadata": {
        "id": "hPNt2T69EaPu"
      },
      "execution_count": 158,
      "outputs": []
    },
    {
      "cell_type": "code",
      "source": [
        "restaurants.to_sql(\n",
        "        name = 'restaurants', \n",
        "        schema = db_name, \n",
        "        con = engine,\n",
        "        if_exists = 'append',\n",
        "        index = False, \n",
        "        chunksize = 1000)"
      ],
      "metadata": {
        "id": "XcSwdNSbl9F6"
      },
      "execution_count": 159,
      "outputs": []
    },
    {
      "cell_type": "code",
      "source": [
        "inspection.to_sql(\n",
        "        name = 'inspections', \n",
        "        schema = db_name, \n",
        "        con = engine,\n",
        "        if_exists = 'append',\n",
        "        index = False, \n",
        "        chunksize = 1000)"
      ],
      "metadata": {
        "id": "IV2WmeI2mBxJ"
      },
      "execution_count": 160,
      "outputs": []
    },
    {
      "cell_type": "code",
      "source": [
        "violations.to_sql(\n",
        "        name = 'violations', \n",
        "        schema = db_name, \n",
        "        con = engine,\n",
        "        if_exists = 'append',\n",
        "        index = False, \n",
        "        chunksize = 1000)"
      ],
      "metadata": {
        "id": "5O3w940SmJf3"
      },
      "execution_count": 161,
      "outputs": []
    },
    {
      "cell_type": "code",
      "source": [
        "sql = '''\n",
        "GRANT SELECT ON doh_restaurants.* TO 'student'@'%%'\n",
        "'''\n",
        "engine.execute(sql)"
      ],
      "metadata": {
        "id": "JJ8drPUVI4BL",
        "outputId": "c92865fe-bdb4-4c8e-a59f-55bf3025f988",
        "colab": {
          "base_uri": "https://localhost:8080/"
        }
      },
      "execution_count": 162,
      "outputs": [
        {
          "output_type": "execute_result",
          "data": {
            "text/plain": [
              "<sqlalchemy.engine.cursor.LegacyCursorResult at 0x7f536c45d2d0>"
            ]
          },
          "metadata": {},
          "execution_count": 162
        }
      ]
    },
    {
      "cell_type": "code",
      "source": [
        "\n",
        "\n",
        "sql = '''\n",
        "CREATE VIEW restaurant_inspection_latest AS \n",
        "\tWITH latest_inspection AS (\n",
        "\t\tSELECT CAMIS, MAX(INSPECTION_DATE) AS INSPECTION_DATE FROM inspections\n",
        "\t\tGROUP BY CAMIS\n",
        "\t)\n",
        "\tSELECT R.CAMIS, R.DBA, R.BUILDING, R.STREET, R.ZIPCODE, R.BORO, R.CUISINE_DESCRIPTION, R.LATITUDE, R.LONGITUDE, I.INSPECTION_DATE, I.INSPECTION_ID, I.INSPECTION_TYPE, V.VIOLATION_CODE, I.SCORE, I.GRADE\n",
        "\t\tFROM restaurants R\n",
        "\t\t\tJOIN latest_inspection L ON R.CAMIS = L.CAMIS\n",
        "\t\t\tJOIN inspections I ON I.CAMIS = L.CAMIS AND L.INSPECTION_DATE = I.INSPECTION_DATE\n",
        "\t\t\tJOIN violations V ON I.INSPECTION_ID = V.INSPECTION_ID\n",
        "      '''\n",
        "\n",
        "engine.execute(sql)"
      ],
      "metadata": {
        "id": "5XgnNr3MSzVJ"
      },
      "execution_count": null,
      "outputs": []
    }
  ],
  "metadata": {
    "kernelspec": {
      "display_name": "Python 3",
      "language": "python",
      "name": "python3"
    },
    "language_info": {
      "codemirror_mode": {
        "name": "ipython",
        "version": 3
      },
      "file_extension": ".py",
      "mimetype": "text/x-python",
      "name": "python",
      "nbconvert_exporter": "python",
      "pygments_lexer": "ipython3",
      "version": "3.8.2"
    },
    "colab": {
      "name": "DOH_Restaurant_Inspections.ipynb",
      "provenance": [],
      "include_colab_link": true
    }
  },
  "nbformat": 4,
  "nbformat_minor": 0
}