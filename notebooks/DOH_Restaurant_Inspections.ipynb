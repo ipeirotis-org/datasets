{
  "cells": [
    {
      "cell_type": "markdown",
      "metadata": {
        "id": "T70qRb5S7huK"
      },
      "source": [
        "https://www1.nyc.gov/site/doh/business/food-operators/the-inspection-process.page\n",
        "\n",
        "See https://www1.nyc.gov/assets/doh/downloads/pdf/rii/blue-book.pdf "
      ]
    },
    {
      "cell_type": "code",
      "execution_count": 2,
      "metadata": {
        "id": "o2CD1ad97huN",
        "outputId": "bc70fbf7-f135-45c9-d65d-8ac1a201d5ad",
        "colab": {
          "base_uri": "https://localhost:8080/"
        }
      },
      "outputs": [
        {
          "output_type": "stream",
          "name": "stdout",
          "text": [
            "Looking in indexes: https://pypi.org/simple, https://us-python.pkg.dev/colab-wheels/public/simple/\n",
            "Requirement already satisfied: pandas-profiling[notebook] in /usr/local/lib/python3.7/dist-packages (1.4.1)\n",
            "\u001b[33mWARNING: pandas-profiling 1.4.1 does not provide the extra 'notebook'\u001b[0m\n",
            "Requirement already satisfied: six>=1.9 in /usr/local/lib/python3.7/dist-packages (from pandas-profiling[notebook]) (1.15.0)\n",
            "Requirement already satisfied: matplotlib>=1.4 in /usr/local/lib/python3.7/dist-packages (from pandas-profiling[notebook]) (3.2.2)\n",
            "Requirement already satisfied: pandas>=0.19 in /usr/local/lib/python3.7/dist-packages (from pandas-profiling[notebook]) (1.3.5)\n",
            "Requirement already satisfied: jinja2>=2.8 in /usr/local/lib/python3.7/dist-packages (from pandas-profiling[notebook]) (2.11.3)\n",
            "Requirement already satisfied: MarkupSafe>=0.23 in /usr/local/lib/python3.7/dist-packages (from jinja2>=2.8->pandas-profiling[notebook]) (2.0.1)\n",
            "Requirement already satisfied: python-dateutil>=2.1 in /usr/local/lib/python3.7/dist-packages (from matplotlib>=1.4->pandas-profiling[notebook]) (2.8.2)\n",
            "Requirement already satisfied: kiwisolver>=1.0.1 in /usr/local/lib/python3.7/dist-packages (from matplotlib>=1.4->pandas-profiling[notebook]) (1.4.2)\n",
            "Requirement already satisfied: numpy>=1.11 in /usr/local/lib/python3.7/dist-packages (from matplotlib>=1.4->pandas-profiling[notebook]) (1.21.6)\n",
            "Requirement already satisfied: pyparsing!=2.0.4,!=2.1.2,!=2.1.6,>=2.0.1 in /usr/local/lib/python3.7/dist-packages (from matplotlib>=1.4->pandas-profiling[notebook]) (3.0.9)\n",
            "Requirement already satisfied: cycler>=0.10 in /usr/local/lib/python3.7/dist-packages (from matplotlib>=1.4->pandas-profiling[notebook]) (0.11.0)\n",
            "Requirement already satisfied: typing-extensions in /usr/local/lib/python3.7/dist-packages (from kiwisolver>=1.0.1->matplotlib>=1.4->pandas-profiling[notebook]) (4.2.0)\n",
            "Requirement already satisfied: pytz>=2017.3 in /usr/local/lib/python3.7/dist-packages (from pandas>=0.19->pandas-profiling[notebook]) (2022.1)\n"
          ]
        }
      ],
      "source": [
        "!sudo pip install pandas-profiling[notebook]"
      ]
    },
    {
      "cell_type": "markdown",
      "metadata": {
        "id": "iZk8TxBV7huP"
      },
      "source": [
        "## Download Latest Dataset"
      ]
    },
    {
      "cell_type": "code",
      "execution_count": 3,
      "metadata": {
        "id": "7XMOonFl7huP"
      },
      "outputs": [],
      "source": [
        "# !curl 'https://data.cityofnewyork.us/api/views/43nn-pn8j/rows.csv?accessType=DOWNLOAD' -o restaurants.csv"
      ]
    },
    {
      "cell_type": "code",
      "execution_count": 4,
      "metadata": {
        "id": "0gEDjE-67huP"
      },
      "outputs": [],
      "source": [
        "import pandas as pd\n",
        "import numpy as np\n",
        "df = pd.read_csv(\"restaurants.csv\", dtype = 'object')"
      ]
    },
    {
      "cell_type": "code",
      "execution_count": 5,
      "metadata": {
        "id": "AK1gZZt97huQ",
        "outputId": "4ce40842-7ebc-42ba-f73c-82486b20cb51",
        "colab": {
          "base_uri": "https://localhost:8080/"
        }
      },
      "outputs": [
        {
          "output_type": "execute_result",
          "data": {
            "text/plain": [
              "288505"
            ]
          },
          "metadata": {},
          "execution_count": 5
        }
      ],
      "source": [
        "initial_size = len(df)\n",
        "initial_size"
      ]
    },
    {
      "cell_type": "code",
      "execution_count": 6,
      "metadata": {
        "id": "kr5XxtQ47huQ"
      },
      "outputs": [],
      "source": [
        "# Render our plots inline\n",
        "%matplotlib inline\n",
        "%config InlineBackend.figure_format = 'retina'"
      ]
    },
    {
      "cell_type": "code",
      "execution_count": 7,
      "metadata": {
        "id": "PCMF_AAr7huR",
        "outputId": "5ddaad9c-27b6-4da9-f0a9-a7d972fab769",
        "colab": {
          "base_uri": "https://localhost:8080/"
        }
      },
      "outputs": [
        {
          "output_type": "execute_result",
          "data": {
            "text/plain": [
              "CAMIS                    object\n",
              "DBA                      object\n",
              "BORO                     object\n",
              "BUILDING                 object\n",
              "STREET                   object\n",
              "ZIPCODE                  object\n",
              "PHONE                    object\n",
              "CUISINE DESCRIPTION      object\n",
              "INSPECTION DATE          object\n",
              "ACTION                   object\n",
              "VIOLATION CODE           object\n",
              "VIOLATION DESCRIPTION    object\n",
              "CRITICAL FLAG            object\n",
              "SCORE                    object\n",
              "GRADE                    object\n",
              "GRADE DATE               object\n",
              "RECORD DATE              object\n",
              "INSPECTION TYPE          object\n",
              "Latitude                 object\n",
              "Longitude                object\n",
              "Community Board          object\n",
              "Council District         object\n",
              "Census Tract             object\n",
              "BIN                      object\n",
              "BBL                      object\n",
              "NTA                      object\n",
              "dtype: object"
            ]
          },
          "metadata": {},
          "execution_count": 7
        }
      ],
      "source": [
        "df.dtypes"
      ]
    },
    {
      "cell_type": "code",
      "execution_count": 8,
      "metadata": {
        "id": "VVgZEbCE7huS"
      },
      "outputs": [],
      "source": [
        "# Adding underscores in all column names\n",
        "cols = df.columns\n",
        "cols = cols.map(lambda x: x.replace(' ', '_').upper())\n",
        "df.columns = cols"
      ]
    },
    {
      "cell_type": "code",
      "execution_count": 9,
      "metadata": {
        "id": "CQAswNec7huS",
        "outputId": "2b737b2b-cb7b-4bc2-8593-58941f9148a6",
        "colab": {
          "base_uri": "https://localhost:8080/"
        }
      },
      "outputs": [
        {
          "output_type": "execute_result",
          "data": {
            "text/plain": [
              "CAMIS                    object\n",
              "DBA                      object\n",
              "BORO                     object\n",
              "BUILDING                 object\n",
              "STREET                   object\n",
              "ZIPCODE                  object\n",
              "PHONE                    object\n",
              "CUISINE_DESCRIPTION      object\n",
              "INSPECTION_DATE          object\n",
              "ACTION                   object\n",
              "VIOLATION_CODE           object\n",
              "VIOLATION_DESCRIPTION    object\n",
              "CRITICAL_FLAG            object\n",
              "SCORE                    object\n",
              "GRADE                    object\n",
              "GRADE_DATE               object\n",
              "RECORD_DATE              object\n",
              "INSPECTION_TYPE          object\n",
              "LATITUDE                 object\n",
              "LONGITUDE                object\n",
              "COMMUNITY_BOARD          object\n",
              "COUNCIL_DISTRICT         object\n",
              "CENSUS_TRACT             object\n",
              "BIN                      object\n",
              "BBL                      object\n",
              "NTA                      object\n",
              "dtype: object"
            ]
          },
          "metadata": {},
          "execution_count": 9
        }
      ],
      "source": [
        "df.dtypes"
      ]
    },
    {
      "cell_type": "markdown",
      "metadata": {
        "id": "eoF9TUCX7huT"
      },
      "source": [
        "## Cleaning Individual Columns"
      ]
    },
    {
      "cell_type": "code",
      "execution_count": 10,
      "metadata": {
        "id": "6efdvJkD7huT",
        "outputId": "303ad47e-3115-4c11-c6cd-a8ffbb129bbf",
        "colab": {
          "base_uri": "https://localhost:8080/"
        }
      },
      "outputs": [
        {
          "output_type": "execute_result",
          "data": {
            "text/plain": [
              "0"
            ]
          },
          "metadata": {},
          "execution_count": 10
        }
      ],
      "source": [
        "df.CAMIS.isnull().sum()"
      ]
    },
    {
      "cell_type": "code",
      "execution_count": 11,
      "metadata": {
        "id": "k-z6hIHa7huT",
        "outputId": "bb51e511-bf10-4ba8-c14c-c5acad65b074",
        "colab": {
          "base_uri": "https://localhost:8080/"
        }
      },
      "outputs": [
        {
          "output_type": "execute_result",
          "data": {
            "text/plain": [
              "1431"
            ]
          },
          "metadata": {},
          "execution_count": 11
        }
      ],
      "source": [
        "df.DBA.isnull().sum()"
      ]
    },
    {
      "cell_type": "code",
      "execution_count": 12,
      "metadata": {
        "id": "4R9lXjVS7huU"
      },
      "outputs": [],
      "source": [
        "# Checks that all CAMIS values correpond to a unique DBA value\n",
        "# ie the same CAMIS always has the same DBA\n",
        "max_cardinality = df[['DBA','CAMIS']].pivot_table(\n",
        "    index='CAMIS',\n",
        "    values='DBA',\n",
        "    aggfunc=pd.Series.nunique\n",
        ").DBA.max()\n",
        "\n",
        "assert(max_cardinality==1)"
      ]
    },
    {
      "cell_type": "markdown",
      "metadata": {
        "id": "1IprF2ZM7huU"
      },
      "source": [
        "### INSPECTION_TYPE"
      ]
    },
    {
      "cell_type": "code",
      "execution_count": 13,
      "metadata": {
        "id": "2XMaAv9f7huU",
        "outputId": "3539461d-38f6-49a7-9f11-e1bafc99fde1",
        "colab": {
          "base_uri": "https://localhost:8080/"
        }
      },
      "outputs": [
        {
          "output_type": "execute_result",
          "data": {
            "text/plain": [
              "Cycle Inspection / Initial Inspection                          166340\n",
              "Cycle Inspection / Re-inspection                                58731\n",
              "Pre-permit (Operational) / Initial Inspection                   29650\n",
              "Pre-permit (Operational) / Re-inspection                        11226\n",
              "Administrative Miscellaneous / Initial Inspection                5255\n",
              "Pre-permit (Non-operational) / Initial Inspection                2734\n",
              "Cycle Inspection / Reopening Inspection                          2623\n",
              "Smoke-Free Air Act / Initial Inspection                          1201\n",
              "Pre-permit (Operational) / Compliance Inspection                 1129\n",
              "Administrative Miscellaneous / Re-inspection                     1115\n",
              "Pre-permit (Operational) / Reopening Inspection                  1002\n",
              "Inter-Agency Task Force / Initial Inspection                      862\n",
              "Trans Fat / Initial Inspection                                    844\n",
              "Calorie Posting / Initial Inspection                              413\n",
              "Cycle Inspection / Compliance Inspection                          391\n",
              "Smoke-Free Air Act / Re-inspection                                251\n",
              "Pre-permit (Non-operational) / Re-inspection                      233\n",
              "Trans Fat / Re-inspection                                         161\n",
              "Pre-permit (Operational) / Second Compliance Inspection            69\n",
              "Calorie Posting / Re-inspection                                    66\n",
              "Administrative Miscellaneous / Compliance Inspection               63\n",
              "Administrative Miscellaneous / Reopening Inspection                48\n",
              "Smoke-Free Air Act / Limited Inspection                            29\n",
              "Pre-permit (Non-operational) / Compliance Inspection               22\n",
              "Trans Fat / Compliance Inspection                                   9\n",
              "Administrative Miscellaneous / Second Compliance Inspection         7\n",
              "Smoke-Free Air Act / Compliance Inspection                          5\n",
              "Cycle Inspection / Second Compliance Inspection                     4\n",
              "Calorie Posting / Compliance Inspection                             4\n",
              "Trans Fat / Second Compliance Inspection                            1\n",
              "Name: INSPECTION_TYPE, dtype: int64"
            ]
          },
          "metadata": {},
          "execution_count": 13
        }
      ],
      "source": [
        "df.INSPECTION_TYPE.value_counts()"
      ]
    },
    {
      "cell_type": "code",
      "execution_count": 14,
      "metadata": {
        "id": "h6rZutnX7huV",
        "outputId": "c10a7088-4400-468d-9de9-6d1b5fd489d4",
        "colab": {
          "base_uri": "https://localhost:8080/"
        }
      },
      "outputs": [
        {
          "output_type": "execute_result",
          "data": {
            "text/plain": [
              "4017"
            ]
          },
          "metadata": {},
          "execution_count": 14
        }
      ],
      "source": [
        "sum(df.INSPECTION_TYPE.isnull())"
      ]
    },
    {
      "cell_type": "code",
      "execution_count": 15,
      "metadata": {
        "id": "D3jQrAWR7huW"
      },
      "outputs": [],
      "source": [
        "# We create a column \"TO_DELETE\" to mark the entries that we are not interested in.\n",
        "# We will perform first the inspection/analysis on all the attributes, and then delete the rows\n",
        "\n",
        "# Drop all cases where inspection is NULL\n",
        "df['TO_DELETE'] = df.INSPECTION_TYPE.isnull()"
      ]
    },
    {
      "cell_type": "code",
      "execution_count": 16,
      "metadata": {
        "id": "8KjyCir27huW",
        "outputId": "2db8c1e8-ed9b-4b1f-c5a2-7ec1775e0f56",
        "colab": {
          "base_uri": "https://localhost:8080/"
        }
      },
      "outputs": [
        {
          "output_type": "execute_result",
          "data": {
            "text/plain": [
              "4017"
            ]
          },
          "metadata": {},
          "execution_count": 16
        }
      ],
      "source": [
        "sum(df['TO_DELETE'])"
      ]
    },
    {
      "cell_type": "code",
      "execution_count": 17,
      "metadata": {
        "id": "vxZMd7fp7huW"
      },
      "outputs": [],
      "source": [
        "# Break INSPECTION_TYPE into two columns, and also delete some inspection types\n",
        "\n",
        "# Create a new column that contains the results of the split on the '/'' character\n",
        "lst = df.INSPECTION_TYPE.str.split(' / ').values.tolist()\n",
        "lst = [ l if type(l)==type(list()) else ['',''] for l in lst ]\n",
        "t = pd.DataFrame(lst)\n"
      ]
    },
    {
      "cell_type": "code",
      "execution_count": 18,
      "metadata": {
        "id": "kcFPoiEt7huX",
        "outputId": "52e0b27c-873f-48bb-d246-55de5dad9d6e",
        "colab": {
          "base_uri": "https://localhost:8080/"
        }
      },
      "outputs": [
        {
          "output_type": "execute_result",
          "data": {
            "text/plain": [
              "Cycle Inspection                228089\n",
              "Pre-permit (Operational)         43076\n",
              "Administrative Miscellaneous      6488\n",
              "                                  4017\n",
              "Pre-permit (Non-operational)      2989\n",
              "Smoke-Free Air Act                1486\n",
              "Trans Fat                         1015\n",
              "Inter-Agency Task Force            862\n",
              "Calorie Posting                    483\n",
              "Name: 0, dtype: int64"
            ]
          },
          "metadata": {},
          "execution_count": 18
        }
      ],
      "source": [
        "t[0].value_counts()"
      ]
    },
    {
      "cell_type": "code",
      "execution_count": 19,
      "metadata": {
        "id": "rbTovcLJ7huX",
        "outputId": "19e95ca3-2e79-41dc-807e-ecab4d67cbce",
        "colab": {
          "base_uri": "https://localhost:8080/"
        }
      },
      "outputs": [
        {
          "output_type": "execute_result",
          "data": {
            "text/plain": [
              "Initial Inspection              207299\n",
              "Re-inspection                    71783\n",
              "                                  4017\n",
              "Reopening Inspection              3673\n",
              "Compliance Inspection             1623\n",
              "Second Compliance Inspection        81\n",
              "Limited Inspection                  29\n",
              "Name: 1, dtype: int64"
            ]
          },
          "metadata": {},
          "execution_count": 19
        }
      ],
      "source": [
        "t[1].value_counts()"
      ]
    },
    {
      "cell_type": "code",
      "execution_count": 20,
      "metadata": {
        "id": "eY0Ba3AJ7huX"
      },
      "outputs": [],
      "source": [
        "# Keep only cycle inspections. Ignore admin, pre-permit, transfat, and calorie posting inspections\n",
        "# We will only keep the initial inspections and the re-inspections. The other types are border cases\n",
        "\n",
        "keep = df.INSPECTION_TYPE.isin( ['Cycle Inspection / Initial Inspection', 'Cycle Inspection / Re-inspection'])\n"
      ]
    },
    {
      "cell_type": "code",
      "execution_count": 21,
      "metadata": {
        "id": "_Ssa0cnt7huX",
        "outputId": "aa2e7dea-df44-41c1-c84a-74cd28b423e8",
        "colab": {
          "base_uri": "https://localhost:8080/"
        }
      },
      "outputs": [
        {
          "output_type": "execute_result",
          "data": {
            "text/plain": [
              "63434"
            ]
          },
          "metadata": {},
          "execution_count": 21
        }
      ],
      "source": [
        "# Check how many we will drop: ~keep means negation on the keep and summing up adds up the 'True'\n",
        "sum(~keep)"
      ]
    },
    {
      "cell_type": "code",
      "execution_count": 22,
      "metadata": {
        "id": "pApwM2zQ7huX"
      },
      "outputs": [],
      "source": [
        "# Adding the \"not keep\" entries into the TO_DELETE\n",
        "\n",
        "# The |= operator is a shortcut for df['TO_DELETE'] = df['TO_DELETE'] | ~keep\n",
        "# We use the bit-OR operator (|), as we want to keep the existing deletions, and add the ones from the \n",
        "# additional condition\n",
        "df['TO_DELETE'] |= ~keep"
      ]
    },
    {
      "cell_type": "code",
      "execution_count": 23,
      "metadata": {
        "id": "EcO8IlJ77huY"
      },
      "outputs": [],
      "source": [
        "# Rename the two entries that we will keep into simpler values\n",
        "\n",
        "df[\"INSPECTION_TYPE\"].replace(\n",
        "    to_replace='Cycle Inspection / Initial Inspection',\n",
        "    value = 'Initial Inspection',\n",
        "    inplace=True\n",
        ")\n",
        "df[\"INSPECTION_TYPE\"].replace(\n",
        "    to_replace='Cycle Inspection / Re-inspection',\n",
        "    value = 'Re-inspection',\n",
        "    inplace=True\n",
        ")"
      ]
    },
    {
      "cell_type": "code",
      "execution_count": 24,
      "metadata": {
        "id": "KP9P6n1z7huY",
        "outputId": "5b25bf1e-6cda-4222-c547-901046fd8d73",
        "colab": {
          "base_uri": "https://localhost:8080/"
        }
      },
      "outputs": [
        {
          "output_type": "execute_result",
          "data": {
            "text/plain": [
              "63434"
            ]
          },
          "metadata": {},
          "execution_count": 24
        }
      ],
      "source": [
        "sum(df['TO_DELETE'])"
      ]
    },
    {
      "cell_type": "markdown",
      "metadata": {
        "id": "CAsBDpJa7huY"
      },
      "source": [
        "### BORO"
      ]
    },
    {
      "cell_type": "code",
      "execution_count": 25,
      "metadata": {
        "id": "0SS6VR3W7huY",
        "outputId": "0d3344ce-8866-41b5-d731-d2bc09f02dcc",
        "colab": {
          "base_uri": "https://localhost:8080/"
        }
      },
      "outputs": [
        {
          "output_type": "execute_result",
          "data": {
            "text/plain": [
              "Manhattan        111188\n",
              "Brooklyn          71059\n",
              "Queens            68536\n",
              "Bronx             28394\n",
              "Staten Island      9236\n",
              "0                    92\n",
              "Name: BORO, dtype: int64"
            ]
          },
          "metadata": {},
          "execution_count": 25
        }
      ],
      "source": [
        "df.BORO.value_counts()"
      ]
    },
    {
      "cell_type": "code",
      "execution_count": 26,
      "metadata": {
        "id": "9Nlpfi0K7huY",
        "outputId": "a2274a98-85c6-4426-93ed-fc9173d0d30d",
        "colab": {
          "base_uri": "https://localhost:8080/"
        }
      },
      "outputs": [
        {
          "output_type": "execute_result",
          "data": {
            "text/plain": [
              "0"
            ]
          },
          "metadata": {},
          "execution_count": 26
        }
      ],
      "source": [
        "sum(df.BORO.isnull())"
      ]
    },
    {
      "cell_type": "code",
      "execution_count": 27,
      "metadata": {
        "id": "VFh5uhLe7huZ"
      },
      "outputs": [],
      "source": [
        "# Replace the \"Missing\" in BORO with null\n",
        "# df.BORO = df.BORO.replace('Missing', np.NaN)"
      ]
    },
    {
      "cell_type": "code",
      "execution_count": 28,
      "metadata": {
        "id": "zchlSkbn7huZ"
      },
      "outputs": [],
      "source": [
        "missing = set(df[df.BORO.isnull()].CAMIS)\n",
        "# missing"
      ]
    },
    {
      "cell_type": "code",
      "execution_count": 29,
      "metadata": {
        "id": "mQflr8dy7huZ",
        "outputId": "771cd434-fec6-4472-bed3-560e0605cb8a",
        "colab": {
          "base_uri": "https://localhost:8080/"
        }
      },
      "outputs": [
        {
          "output_type": "execute_result",
          "data": {
            "text/plain": [
              "92"
            ]
          },
          "metadata": {},
          "execution_count": 29
        }
      ],
      "source": [
        "sum(df.BORO == '0')"
      ]
    },
    {
      "cell_type": "code",
      "execution_count": 30,
      "metadata": {
        "id": "oFSs5QCx7huZ"
      },
      "outputs": [],
      "source": [
        "# Remove the entries with null/missing BORO value\n",
        "# Not worth trying to fix.\n",
        "df['TO_DELETE'] |= (df.BORO == '0')"
      ]
    },
    {
      "cell_type": "code",
      "execution_count": 31,
      "metadata": {
        "id": "QPOCbcnj7huZ",
        "outputId": "4f584d94-03f6-4439-a4d1-9e3fcda0879f",
        "colab": {
          "base_uri": "https://localhost:8080/"
        }
      },
      "outputs": [
        {
          "output_type": "execute_result",
          "data": {
            "text/plain": [
              "63497"
            ]
          },
          "metadata": {},
          "execution_count": 31
        }
      ],
      "source": [
        "sum(df['TO_DELETE'])"
      ]
    },
    {
      "cell_type": "markdown",
      "metadata": {
        "id": "PFl2byK37huZ"
      },
      "source": [
        "### BUILDING"
      ]
    },
    {
      "cell_type": "code",
      "execution_count": 32,
      "metadata": {
        "id": "M4MkcVzt7hua",
        "outputId": "1af659e4-8d70-483a-921c-009f443f9653",
        "colab": {
          "base_uri": "https://localhost:8080/"
        }
      },
      "outputs": [
        {
          "output_type": "execute_result",
          "data": {
            "text/plain": [
              "405"
            ]
          },
          "metadata": {},
          "execution_count": 32
        }
      ],
      "source": [
        "sum(df.BUILDING.isnull())"
      ]
    },
    {
      "cell_type": "code",
      "execution_count": 33,
      "metadata": {
        "id": "Jp3zKK6B7hua"
      },
      "outputs": [],
      "source": [
        "# Inspect the entries with missing street number\n",
        "# df[df.BUILDING.isnull()]"
      ]
    },
    {
      "cell_type": "code",
      "execution_count": 34,
      "metadata": {
        "id": "MCa8rSXd7hua"
      },
      "outputs": [],
      "source": [
        "# Dropping the violations listed without street number\n",
        "# Most are in train stations and in airports, but there\n",
        "# are a few others in 'regular' locations\n",
        "\n",
        "df['TO_DELETE'] |= df.BUILDING.isnull()"
      ]
    },
    {
      "cell_type": "code",
      "execution_count": 35,
      "metadata": {
        "id": "avGVuoCT7hua",
        "outputId": "390b8b3b-93b9-40df-d98d-f5ab78d4d017",
        "colab": {
          "base_uri": "https://localhost:8080/"
        }
      },
      "outputs": [
        {
          "output_type": "execute_result",
          "data": {
            "text/plain": [
              "63818"
            ]
          },
          "metadata": {},
          "execution_count": 35
        }
      ],
      "source": [
        "sum(df['TO_DELETE'])"
      ]
    },
    {
      "cell_type": "markdown",
      "metadata": {
        "id": "sgjIS0ph7hua"
      },
      "source": [
        "### STREET"
      ]
    },
    {
      "cell_type": "code",
      "execution_count": 36,
      "metadata": {
        "id": "3NJFHvHA7hua",
        "outputId": "61371fec-f58b-4915-fbb6-c9b12bc79954",
        "colab": {
          "base_uri": "https://localhost:8080/"
        }
      },
      "outputs": [
        {
          "output_type": "execute_result",
          "data": {
            "text/plain": [
              "21"
            ]
          },
          "metadata": {},
          "execution_count": 36
        }
      ],
      "source": [
        "# Check that no street values are empty\n",
        "sum(df.STREET.isnull())"
      ]
    },
    {
      "cell_type": "code",
      "execution_count": 37,
      "metadata": {
        "id": "ATpOqlqm7hua"
      },
      "outputs": [],
      "source": [
        "df['TO_DELETE'] |= df.STREET.isnull()"
      ]
    },
    {
      "cell_type": "code",
      "execution_count": 38,
      "metadata": {
        "id": "XZPu1Jla7hub",
        "outputId": "12f11893-9a38-4d0c-99dd-3e67dc02f7fa",
        "colab": {
          "base_uri": "https://localhost:8080/"
        }
      },
      "outputs": [
        {
          "output_type": "execute_result",
          "data": {
            "text/plain": [
              "63818"
            ]
          },
          "metadata": {},
          "execution_count": 38
        }
      ],
      "source": [
        "sum(df['TO_DELETE'])"
      ]
    },
    {
      "cell_type": "markdown",
      "metadata": {
        "id": "Anh2a8qn7hub"
      },
      "source": [
        "### ZIPCODE"
      ]
    },
    {
      "cell_type": "code",
      "execution_count": 39,
      "metadata": {
        "id": "E-EET8vP7hub",
        "outputId": "69875f2d-d415-4e05-f042-edbf2a2cb5e7",
        "colab": {
          "base_uri": "https://localhost:8080/"
        }
      },
      "outputs": [
        {
          "output_type": "execute_result",
          "data": {
            "text/plain": [
              "4137"
            ]
          },
          "metadata": {},
          "execution_count": 39
        }
      ],
      "source": [
        "sum(df.ZIPCODE.isnull())"
      ]
    },
    {
      "cell_type": "code",
      "execution_count": 40,
      "metadata": {
        "id": "PWQf4uIu7hub",
        "outputId": "557b39b8-15d9-486e-80f0-3da0801e538c",
        "colab": {
          "base_uri": "https://localhost:8080/"
        }
      },
      "outputs": [
        {
          "output_type": "execute_result",
          "data": {
            "text/plain": [
              "469"
            ]
          },
          "metadata": {},
          "execution_count": 40
        }
      ],
      "source": [
        "len(set(df[df.ZIPCODE.isnull()].CAMIS))"
      ]
    },
    {
      "cell_type": "code",
      "execution_count": 41,
      "metadata": {
        "id": "X9MHWRZs7hub"
      },
      "outputs": [],
      "source": [
        "df['TO_DELETE'] |= df.ZIPCODE.isnull()"
      ]
    },
    {
      "cell_type": "code",
      "execution_count": 42,
      "metadata": {
        "id": "nmevPilF7hub"
      },
      "outputs": [],
      "source": [
        "# TODO: Fill in the missing zip codes, perhaps with geocoding of the addresses\n",
        "# For now, we just drop the cases without ZIPCODE"
      ]
    },
    {
      "cell_type": "markdown",
      "metadata": {
        "id": "WwQXJ_Sx7hub"
      },
      "source": [
        "### CUISINE DESCRIPTION"
      ]
    },
    {
      "cell_type": "code",
      "execution_count": 43,
      "metadata": {
        "id": "DtlrlXic7hub",
        "outputId": "462c56e9-6f92-4144-b1ce-1c914db37a08",
        "colab": {
          "base_uri": "https://localhost:8080/"
        }
      },
      "outputs": [
        {
          "output_type": "execute_result",
          "data": {
            "text/plain": [
              "American          53500\n",
              "Chinese           29459\n",
              "Pizza             17418\n",
              "Coffee/Tea        13943\n",
              "Latin American    12269\n",
              "                  ...  \n",
              "Czech                18\n",
              "Basque               10\n",
              "Lebanese             10\n",
              "New French            6\n",
              "Armenian              3\n",
              "Name: CUISINE_DESCRIPTION, Length: 87, dtype: int64"
            ]
          },
          "metadata": {},
          "execution_count": 43
        }
      ],
      "source": [
        "df.CUISINE_DESCRIPTION.value_counts()"
      ]
    },
    {
      "cell_type": "code",
      "execution_count": 44,
      "metadata": {
        "id": "aj9tAxom7huc",
        "outputId": "0f110605-b0e2-4a77-bbce-eaa13c54fd0e",
        "colab": {
          "base_uri": "https://localhost:8080/"
        }
      },
      "outputs": [
        {
          "output_type": "execute_result",
          "data": {
            "text/plain": [
              "87"
            ]
          },
          "metadata": {},
          "execution_count": 44
        }
      ],
      "source": [
        "len(df.CUISINE_DESCRIPTION.value_counts())"
      ]
    },
    {
      "cell_type": "code",
      "execution_count": 45,
      "metadata": {
        "id": "2Gj1vAeJ7hud",
        "outputId": "fa8d1f1b-1da9-4178-aab3-b7ca2a47b1c1",
        "colab": {
          "base_uri": "https://localhost:8080/"
        }
      },
      "outputs": [
        {
          "output_type": "execute_result",
          "data": {
            "text/plain": [
              "4017"
            ]
          },
          "metadata": {},
          "execution_count": 45
        }
      ],
      "source": [
        "sum(df.CUISINE_DESCRIPTION.isnull())"
      ]
    },
    {
      "cell_type": "code",
      "execution_count": 46,
      "metadata": {
        "id": "RtLYb0Fx7hud",
        "outputId": "919e28dc-1319-49be-afe0-54753268c840",
        "colab": {
          "base_uri": "https://localhost:8080/",
          "height": 54
        }
      },
      "outputs": [
        {
          "output_type": "execute_result",
          "data": {
            "text/plain": [
              "\"\\ndf.CUISINE_DESCRIPTION.replace(\\n    to_replace='Café/Coffee/Tea',\\n    value = 'Cafe',\\n    inplace=True\\n)\\n\\ndf.CUISINE_DESCRIPTION.replace(\\n    to_replace='Latin (Cuban, Dominican, Puerto Rican, South & Central American)',\\n    value = 'Latin',\\n    inplace=True\\n)\\n\""
            ],
            "application/vnd.google.colaboratory.intrinsic+json": {
              "type": "string"
            }
          },
          "metadata": {},
          "execution_count": 46
        }
      ],
      "source": [
        "'''\n",
        "df.CUISINE_DESCRIPTION.replace(\n",
        "    to_replace='Café/Coffee/Tea',\n",
        "    value = 'Cafe',\n",
        "    inplace=True\n",
        ")\n",
        "\n",
        "df.CUISINE_DESCRIPTION.replace(\n",
        "    to_replace='Latin (Cuban, Dominican, Puerto Rican, South & Central American)',\n",
        "    value = 'Latin',\n",
        "    inplace=True\n",
        ")\n",
        "'''"
      ]
    },
    {
      "cell_type": "markdown",
      "metadata": {
        "id": "2X43fWCP7hud"
      },
      "source": [
        "### INSPECTION_DATE"
      ]
    },
    {
      "cell_type": "code",
      "execution_count": 47,
      "metadata": {
        "id": "hKe9BlTp7hud"
      },
      "outputs": [],
      "source": [
        "df[\"INSPECTION_DATE\"] = pd.to_datetime(df[\"INSPECTION_DATE\"], format=\"%m/%d/%Y\")"
      ]
    },
    {
      "cell_type": "code",
      "execution_count": 48,
      "metadata": {
        "id": "MLq3GB1I7hud",
        "outputId": "b51a9c1e-0593-47b7-d94c-d44f67e4f3b5",
        "colab": {
          "base_uri": "https://localhost:8080/"
        }
      },
      "outputs": [
        {
          "output_type": "execute_result",
          "data": {
            "text/plain": [
              "count                           288505\n",
              "mean     2018-02-28 01:25:32.101003520\n",
              "min                1900-01-01 00:00:00\n",
              "25%                2018-11-27 00:00:00\n",
              "50%                2019-08-12 00:00:00\n",
              "75%                2020-03-07 00:00:00\n",
              "max                2022-05-20 00:00:00\n",
              "Name: INSPECTION_DATE, dtype: object"
            ]
          },
          "metadata": {},
          "execution_count": 48
        }
      ],
      "source": [
        "df.INSPECTION_DATE.describe(datetime_is_numeric=True)"
      ]
    },
    {
      "cell_type": "code",
      "execution_count": 49,
      "metadata": {
        "id": "8R5jFOCF7hue",
        "outputId": "61bfd4c7-d00c-442b-929c-1c433b9bda0e",
        "colab": {
          "base_uri": "https://localhost:8080/"
        }
      },
      "outputs": [
        {
          "output_type": "execute_result",
          "data": {
            "text/plain": [
              "0"
            ]
          },
          "metadata": {},
          "execution_count": 49
        }
      ],
      "source": [
        "sum(df.INSPECTION_DATE.isnull())"
      ]
    },
    {
      "cell_type": "code",
      "execution_count": 50,
      "metadata": {
        "id": "-uqR3Qy07hue",
        "outputId": "2f6dc703-f197-4aa0-8fc4-e41a6bf54386",
        "colab": {
          "base_uri": "https://localhost:8080/",
          "height": 283
        }
      },
      "outputs": [
        {
          "output_type": "execute_result",
          "data": {
            "text/plain": [
              "<matplotlib.axes._subplots.AxesSubplot at 0x7f523619e9d0>"
            ]
          },
          "metadata": {},
          "execution_count": 50
        },
        {
          "output_type": "display_data",
          "data": {
            "text/plain": [
              "<Figure size 432x288 with 1 Axes>"
            ],
            "image/png": "[encoded data removed]"
          },
          "metadata": {
            "image/png": {
              "width": 372,
              "height": 248
            },
            "needs_background": "light"
          }
        }
      ],
      "source": [
        "df.INSPECTION_DATE.hist(range=(pd.to_datetime('2010-01-01'),pd.to_datetime('2014-12-31')))"
      ]
    },
    {
      "cell_type": "code",
      "execution_count": 51,
      "metadata": {
        "id": "fh1QJw7o7hue"
      },
      "outputs": [],
      "source": [
        "# Drop the 1900-01-01 inspections. These are all incorrect and we cannot fix them\n",
        "df['TO_DELETE'] |= (df['INSPECTION_DATE'] == '1900-01-01')"
      ]
    },
    {
      "cell_type": "code",
      "execution_count": 52,
      "metadata": {
        "id": "48EiuFLT7hue"
      },
      "outputs": [],
      "source": [
        "# After analysis, it seems that we have minimal number of inspections before 2015\n",
        "df['TO_DELETE'] |=  (df['INSPECTION_DATE'] < '2015-01-01')"
      ]
    },
    {
      "cell_type": "code",
      "execution_count": 53,
      "metadata": {
        "id": "Hg3vO4MJ7hue",
        "outputId": "6141fb30-4166-4e97-c291-13ae305f1b4d",
        "colab": {
          "base_uri": "https://localhost:8080/"
        }
      },
      "outputs": [
        {
          "output_type": "execute_result",
          "data": {
            "text/plain": [
              "67283"
            ]
          },
          "metadata": {},
          "execution_count": 53
        }
      ],
      "source": [
        "sum(df['TO_DELETE'])"
      ]
    },
    {
      "cell_type": "markdown",
      "metadata": {
        "id": "lcu3LsTs7hue"
      },
      "source": [
        "### ACTION"
      ]
    },
    {
      "cell_type": "code",
      "execution_count": 54,
      "metadata": {
        "id": "_40DoGCF7huf",
        "outputId": "70af064e-4055-47eb-fba6-439e9e34fe1a",
        "colab": {
          "base_uri": "https://localhost:8080/"
        }
      },
      "outputs": [
        {
          "output_type": "execute_result",
          "data": {
            "text/plain": [
              "4017"
            ]
          },
          "metadata": {},
          "execution_count": 54
        }
      ],
      "source": [
        "sum(df.ACTION.isnull())"
      ]
    },
    {
      "cell_type": "code",
      "execution_count": 55,
      "metadata": {
        "id": "kWpYN6Vb7huf",
        "outputId": "b2e11e1e-1a70-45cc-bb7e-8670516ab2a8",
        "colab": {
          "base_uri": "https://localhost:8080/"
        }
      },
      "outputs": [
        {
          "output_type": "execute_result",
          "data": {
            "text/plain": [
              "Violations were cited in the following area(s).                                                                                       267619\n",
              "Establishment Closed by DOHMH. Violations were cited in the following area(s) and those requiring immediate action were addressed.     10860\n",
              "Establishment re-opened by DOHMH.                                                                                                       3019\n",
              "No violations were recorded at the time of this inspection.                                                                             2934\n",
              "Establishment re-closed by DOHMH.                                                                                                         56\n",
              "Name: ACTION, dtype: int64"
            ]
          },
          "metadata": {},
          "execution_count": 55
        }
      ],
      "source": [
        "df[\"ACTION\"].value_counts()"
      ]
    },
    {
      "cell_type": "code",
      "execution_count": 56,
      "metadata": {
        "id": "V97p7THp7huf"
      },
      "outputs": [],
      "source": [
        "df[\"ACTION\"].replace(\n",
        "    to_replace='Violations were cited in the following area(s).',\n",
        "    value = 'Violations found',\n",
        "    inplace=True\n",
        ")"
      ]
    },
    {
      "cell_type": "code",
      "execution_count": 57,
      "metadata": {
        "id": "ZOAOtWnA7huf"
      },
      "outputs": [],
      "source": [
        "df[\"ACTION\"].replace(\n",
        "    to_replace='No violations were recorded at the time of this inspection.',\n",
        "    value = 'No violations',\n",
        "    inplace=True\n",
        ")"
      ]
    },
    {
      "cell_type": "code",
      "execution_count": 58,
      "metadata": {
        "id": "tSQ_90Wg7huf"
      },
      "outputs": [],
      "source": [
        "df[\"ACTION\"].replace(\n",
        "    to_replace='Establishment Closed by DOHMH. Violations were cited in the following area(s) and those requiring immediate action were addressed.',\n",
        "    value = 'Establishment closed',\n",
        "    inplace=True\n",
        ")"
      ]
    },
    {
      "cell_type": "code",
      "execution_count": 59,
      "metadata": {
        "id": "92dRzpXq7huf"
      },
      "outputs": [],
      "source": [
        "df[\"ACTION\"].replace(\n",
        "    to_replace='Establishment re-opened by DOHMH.',\n",
        "    value = 'Establishment re-opened',\n",
        "    inplace=True\n",
        ")"
      ]
    },
    {
      "cell_type": "code",
      "execution_count": 60,
      "metadata": {
        "id": "0Mwu12VK7huf"
      },
      "outputs": [],
      "source": [
        "df[\"ACTION\"].replace(\n",
        "    to_replace='Establishment re-closed by DOHMH.',\n",
        "    value = 'Establishment re-closed',\n",
        "    inplace=True\n",
        ")"
      ]
    },
    {
      "cell_type": "code",
      "execution_count": 61,
      "metadata": {
        "id": "lnQv6kIq7huf",
        "outputId": "ee7f5b99-c0a4-4de0-a249-3763aa866cb3",
        "colab": {
          "base_uri": "https://localhost:8080/"
        }
      },
      "outputs": [
        {
          "output_type": "execute_result",
          "data": {
            "text/plain": [
              "Violations found           267619\n",
              "Establishment closed        10860\n",
              "Establishment re-opened      3019\n",
              "No violations                2934\n",
              "Establishment re-closed        56\n",
              "Name: ACTION, dtype: int64"
            ]
          },
          "metadata": {},
          "execution_count": 61
        }
      ],
      "source": [
        "df[\"ACTION\"].value_counts()"
      ]
    },
    {
      "cell_type": "code",
      "execution_count": 62,
      "metadata": {
        "id": "5zTccJNH7hug"
      },
      "outputs": [],
      "source": [
        "# Drop the Establishment re-opened and re-closed cases\n",
        "# as the inspection scores for these can be misleading\n",
        "df['TO_DELETE'] |=  (df.ACTION == 'Establishment re-closed')\n",
        "df['TO_DELETE'] |=  (df.ACTION == 'Establishment re-opened')\n",
        "df['TO_DELETE'] |=  df.ACTION.isnull()"
      ]
    },
    {
      "cell_type": "code",
      "execution_count": 63,
      "metadata": {
        "scrolled": true,
        "id": "gwEOO7qV7hug",
        "outputId": "e79a7746-3633-4d31-e42a-80243cb8d8b4",
        "colab": {
          "base_uri": "https://localhost:8080/"
        }
      },
      "outputs": [
        {
          "output_type": "execute_result",
          "data": {
            "text/plain": [
              "67283"
            ]
          },
          "metadata": {},
          "execution_count": 63
        }
      ],
      "source": [
        "sum(df['TO_DELETE'])"
      ]
    },
    {
      "cell_type": "markdown",
      "metadata": {
        "id": "3Ud65ck87hug"
      },
      "source": [
        "### SCORE"
      ]
    },
    {
      "cell_type": "code",
      "execution_count": 64,
      "metadata": {
        "id": "IL15v7LZ7hug"
      },
      "outputs": [],
      "source": [
        "df[\"SCORE\"] = pd.to_numeric(df[\"SCORE\"])"
      ]
    },
    {
      "cell_type": "code",
      "execution_count": 65,
      "metadata": {
        "id": "KAEoXrGb7hug",
        "outputId": "dc333ee3-32bc-4e96-a6c4-1484dd719167",
        "colab": {
          "base_uri": "https://localhost:8080/"
        }
      },
      "outputs": [
        {
          "output_type": "execute_result",
          "data": {
            "text/plain": [
              "count    275016.000000\n",
              "mean         21.081493\n",
              "std          15.312783\n",
              "min           0.000000\n",
              "25%          11.000000\n",
              "50%          16.000000\n",
              "75%          27.000000\n",
              "max         157.000000\n",
              "Name: SCORE, dtype: float64"
            ]
          },
          "metadata": {},
          "execution_count": 65
        }
      ],
      "source": [
        "df.SCORE.describe()"
      ]
    },
    {
      "cell_type": "code",
      "execution_count": 66,
      "metadata": {
        "id": "4tWt6Mmt7hug",
        "outputId": "c2cd0053-8d58-4f3d-87f8-e61d04f747ee",
        "colab": {
          "base_uri": "https://localhost:8080/"
        }
      },
      "outputs": [
        {
          "output_type": "execute_result",
          "data": {
            "text/plain": [
              "288505"
            ]
          },
          "metadata": {},
          "execution_count": 66
        }
      ],
      "source": [
        "len(df)"
      ]
    },
    {
      "cell_type": "code",
      "execution_count": 67,
      "metadata": {
        "id": "S5YIIcHC7hug",
        "outputId": "06f1e065-6776-4677-b074-46f2ee5590b8",
        "colab": {
          "base_uri": "https://localhost:8080/"
        }
      },
      "outputs": [
        {
          "output_type": "execute_result",
          "data": {
            "text/plain": [
              "0"
            ]
          },
          "metadata": {},
          "execution_count": 67
        }
      ],
      "source": [
        "len( df[ df.SCORE < 0 ] )"
      ]
    },
    {
      "cell_type": "code",
      "execution_count": 68,
      "metadata": {
        "id": "EETxYPe_7hug"
      },
      "outputs": [],
      "source": [
        "df['TO_DELETE'] |= (df.SCORE < 0)"
      ]
    },
    {
      "cell_type": "code",
      "execution_count": 69,
      "metadata": {
        "id": "-V2-GgF_7huh",
        "outputId": "dc71cefe-a4c5-4e21-f5dc-8f7f8201675d",
        "colab": {
          "base_uri": "https://localhost:8080/"
        }
      },
      "outputs": [
        {
          "output_type": "execute_result",
          "data": {
            "text/plain": [
              "67283"
            ]
          },
          "metadata": {},
          "execution_count": 69
        }
      ],
      "source": [
        "sum(df['TO_DELETE'])"
      ]
    },
    {
      "cell_type": "code",
      "execution_count": 70,
      "metadata": {
        "id": "GQN7NNH_7huh"
      },
      "outputs": [],
      "source": [
        "# Drop cases reported as \"no violations but with positive score\"\n",
        "df['TO_DELETE'] |= ((df.SCORE > 0)  & (df.ACTION == 'No violations'))\n",
        "\n",
        "# Drop cases with zero score but with violations found\n",
        "df['TO_DELETE'] |= ((df.SCORE == 0)  & (df.ACTION == 'Violations found'))"
      ]
    },
    {
      "cell_type": "code",
      "execution_count": 71,
      "metadata": {
        "id": "Cy2-9jue7huh"
      },
      "outputs": [],
      "source": [
        "# Drop incorrectly scored inspections\n",
        "df['TO_DELETE'] |=  (df.GRADE=='A') & (df.SCORE>13)\n",
        "\n",
        "df['TO_DELETE'] |=  (df.GRADE=='B') & ( (df.SCORE<14) | (df.SCORE>27) )\n",
        "\n",
        "# Drop incorrectly scored inspections\n",
        "df['TO_DELETE'] |=  (df.GRADE=='C') & (df.SCORE<28)\n"
      ]
    },
    {
      "cell_type": "code",
      "execution_count": 72,
      "metadata": {
        "id": "gMec_fnF7huh",
        "outputId": "794f7c57-6c17-48f2-b8c8-f15d8d5c83a1",
        "colab": {
          "base_uri": "https://localhost:8080/"
        }
      },
      "outputs": [
        {
          "output_type": "execute_result",
          "data": {
            "text/plain": [
              "67375"
            ]
          },
          "metadata": {},
          "execution_count": 72
        }
      ],
      "source": [
        "sum(df['TO_DELETE'])"
      ]
    },
    {
      "cell_type": "markdown",
      "metadata": {
        "id": "dfm8FdW87huh"
      },
      "source": [
        "### RECORD_DATE"
      ]
    },
    {
      "cell_type": "code",
      "execution_count": 73,
      "metadata": {
        "id": "M3_voJ1r7huh"
      },
      "outputs": [],
      "source": [
        "df[\"RECORD_DATE\"] = pd.to_datetime(df[\"RECORD_DATE\"], format=\"%m/%d/%Y\")"
      ]
    },
    {
      "cell_type": "code",
      "execution_count": 74,
      "metadata": {
        "id": "sMgUFCK97huh"
      },
      "outputs": [],
      "source": [
        "# Drop record date field, as it only contains a single value\n",
        "df = df.drop( 'RECORD_DATE', axis = 'columns')"
      ]
    },
    {
      "cell_type": "markdown",
      "metadata": {
        "id": "7psVURc27huh"
      },
      "source": [
        "### GRADE"
      ]
    },
    {
      "cell_type": "code",
      "execution_count": 75,
      "metadata": {
        "id": "NFNpK24R7hui",
        "outputId": "3fffe9fb-2bba-419b-f9e5-2af87f458061",
        "colab": {
          "base_uri": "https://localhost:8080/"
        }
      },
      "outputs": [
        {
          "output_type": "execute_result",
          "data": {
            "text/plain": [
              "A    110443\n",
              "B     16388\n",
              "C      6904\n",
              "N      5938\n",
              "Z      2660\n",
              "P      1541\n",
              "G         1\n",
              "Name: GRADE, dtype: int64"
            ]
          },
          "metadata": {},
          "execution_count": 75
        }
      ],
      "source": [
        "df.GRADE.value_counts()"
      ]
    },
    {
      "cell_type": "code",
      "execution_count": 76,
      "metadata": {
        "id": "xAYPd7Mi7hui",
        "outputId": "a71f07e9-f54e-4dba-9127-2deea6496f04",
        "colab": {
          "base_uri": "https://localhost:8080/"
        }
      },
      "outputs": [
        {
          "output_type": "execute_result",
          "data": {
            "text/plain": [
              "144630"
            ]
          },
          "metadata": {},
          "execution_count": 76
        }
      ],
      "source": [
        "sum(df.GRADE.isnull())"
      ]
    },
    {
      "cell_type": "code",
      "execution_count": 77,
      "metadata": {
        "id": "X6w-881R7huj",
        "outputId": "07258c05-db9b-4d3f-b211-1da9478b8e05",
        "colab": {
          "base_uri": "https://localhost:8080/",
          "height": 209
        }
      },
      "outputs": [
        {
          "output_type": "execute_result",
          "data": {
            "text/plain": [
              "           CAMIS                DBA      BORO BUILDING    STREET ZIPCODE  \\\n",
              "222070  50043665  MEXICO EN LA PIEL  Brooklyn     5904  5 AVENUE   11220   \n",
              "\n",
              "             PHONE CUISINE_DESCRIPTION INSPECTION_DATE  \\\n",
              "222070  7187650001             Mexican      2019-11-08   \n",
              "\n",
              "                         ACTION  ...                          INSPECTION_TYPE  \\\n",
              "222070  Establishment re-opened  ...  Cycle Inspection / Reopening Inspection   \n",
              "\n",
              "               LATITUDE         LONGITUDE  COMMUNITY_BOARD COUNCIL_DISTRICT  \\\n",
              "222070  40.639960133856  -74.015677529764              307               38   \n",
              "\n",
              "       CENSUS_TRACT      BIN         BBL   NTA TO_DELETE  \n",
              "222070       007400  3324492  3008630040  BK32      True  \n",
              "\n",
              "[1 rows x 26 columns]"
            ],
            "text/html": [
              "\n",
              "  <div id=\"df-ab84d45b-2894-41cb-ab5e-205fcdd89e7d\">\n",
              "    <div class=\"colab-df-container\">\n",
              "      <div>\n",
              "<style scoped>\n",
              "    .dataframe tbody tr th:only-of-type {\n",
              "        vertical-align: middle;\n",
              "    }\n",
              "\n",
              "    .dataframe tbody tr th {\n",
              "        vertical-align: top;\n",
              "    }\n",
              "\n",
              "    .dataframe thead th {\n",
              "        text-align: right;\n",
              "    }\n",
              "</style>\n",
              "<table border=\"1\" class=\"dataframe\">\n",
              "  <thead>\n",
              "    <tr style=\"text-align: right;\">\n",
              "      <th></th>\n",
              "      <th>CAMIS</th>\n",
              "      <th>DBA</th>\n",
              "      <th>BORO</th>\n",
              "      <th>BUILDING</th>\n",
              "      <th>STREET</th>\n",
              "      <th>ZIPCODE</th>\n",
              "      <th>PHONE</th>\n",
              "      <th>CUISINE_DESCRIPTION</th>\n",
              "      <th>INSPECTION_DATE</th>\n",
              "      <th>ACTION</th>\n",
              "      <th>...</th>\n",
              "      <th>INSPECTION_TYPE</th>\n",
              "      <th>LATITUDE</th>\n",
              "      <th>LONGITUDE</th>\n",
              "      <th>COMMUNITY_BOARD</th>\n",
              "      <th>COUNCIL_DISTRICT</th>\n",
              "      <th>CENSUS_TRACT</th>\n",
              "      <th>BIN</th>\n",
              "      <th>BBL</th>\n",
              "      <th>NTA</th>\n",
              "      <th>TO_DELETE</th>\n",
              "    </tr>\n",
              "  </thead>\n",
              "  <tbody>\n",
              "    <tr>\n",
              "      <th>222070</th>\n",
              "      <td>50043665</td>\n",
              "      <td>MEXICO EN LA PIEL</td>\n",
              "      <td>Brooklyn</td>\n",
              "      <td>5904</td>\n",
              "      <td>5 AVENUE</td>\n",
              "      <td>11220</td>\n",
              "      <td>7187650001</td>\n",
              "      <td>Mexican</td>\n",
              "      <td>2019-11-08</td>\n",
              "      <td>Establishment re-opened</td>\n",
              "      <td>...</td>\n",
              "      <td>Cycle Inspection / Reopening Inspection</td>\n",
              "      <td>40.639960133856</td>\n",
              "      <td>-74.015677529764</td>\n",
              "      <td>307</td>\n",
              "      <td>38</td>\n",
              "      <td>007400</td>\n",
              "      <td>3324492</td>\n",
              "      <td>3008630040</td>\n",
              "      <td>BK32</td>\n",
              "      <td>True</td>\n",
              "    </tr>\n",
              "  </tbody>\n",
              "</table>\n",
              "<p>1 rows × 26 columns</p>\n",
              "</div>\n",
              "      <button class=\"colab-df-convert\" onclick=\"convertToInteractive('df-ab84d45b-2894-41cb-ab5e-205fcdd89e7d')\"\n",
              "              title=\"Convert this dataframe to an interactive table.\"\n",
              "              style=\"display:none;\">\n",
              "        \n",
              "  <svg xmlns=\"http://www.w3.org/2000/svg\" height=\"24px\"viewBox=\"0 0 24 24\"\n",
              "       width=\"24px\">\n",
              "    <path d=\"M0 0h24v24H0V0z\" fill=\"none\"/>\n",
              "    <path d=\"M18.56 5.44l.94 2.06.94-2.06 2.06-.94-2.06-.94-.94-2.06-.94 2.06-2.06.94zm-11 1L8.5 8.5l.94-2.06 2.06-.94-2.06-.94L8.5 2.5l-.94 2.06-2.06.94zm10 10l.94 2.06.94-2.06 2.06-.94-2.06-.94-.94-2.06-.94 2.06-2.06.94z\"/><path d=\"M17.41 7.96l-1.37-1.37c-.4-.4-.92-.59-1.43-.59-.52 0-1.04.2-1.43.59L10.3 9.45l-7.72 7.72c-.78.78-.78 2.05 0 2.83L4 21.41c.39.39.9.59 1.41.59.51 0 1.02-.2 1.41-.59l7.78-7.78 2.81-2.81c.8-.78.8-2.07 0-2.86zM5.41 20L4 18.59l7.72-7.72 1.47 1.35L5.41 20z\"/>\n",
              "  </svg>\n",
              "      </button>\n",
              "      \n",
              "  <style>\n",
              "    .colab-df-container {\n",
              "      display:flex;\n",
              "      flex-wrap:wrap;\n",
              "      gap: 12px;\n",
              "    }\n",
              "\n",
              "    .colab-df-convert {\n",
              "      background-color: #E8F0FE;\n",
              "      border: none;\n",
              "      border-radius: 50%;\n",
              "      cursor: pointer;\n",
              "      display: none;\n",
              "      fill: #1967D2;\n",
              "      height: 32px;\n",
              "      padding: 0 0 0 0;\n",
              "      width: 32px;\n",
              "    }\n",
              "\n",
              "    .colab-df-convert:hover {\n",
              "      background-color: #E2EBFA;\n",
              "      box-shadow: 0px 1px 2px rgba(60, 64, 67, 0.3), 0px 1px 3px 1px rgba(60, 64, 67, 0.15);\n",
              "      fill: #174EA6;\n",
              "    }\n",
              "\n",
              "    [theme=dark] .colab-df-convert {\n",
              "      background-color: #3B4455;\n",
              "      fill: #D2E3FC;\n",
              "    }\n",
              "\n",
              "    [theme=dark] .colab-df-convert:hover {\n",
              "      background-color: #434B5C;\n",
              "      box-shadow: 0px 1px 3px 1px rgba(0, 0, 0, 0.15);\n",
              "      filter: drop-shadow(0px 1px 2px rgba(0, 0, 0, 0.3));\n",
              "      fill: #FFFFFF;\n",
              "    }\n",
              "  </style>\n",
              "\n",
              "      <script>\n",
              "        const buttonEl =\n",
              "          document.querySelector('#df-ab84d45b-2894-41cb-ab5e-205fcdd89e7d button.colab-df-convert');\n",
              "        buttonEl.style.display =\n",
              "          google.colab.kernel.accessAllowed ? 'block' : 'none';\n",
              "\n",
              "        async function convertToInteractive(key) {\n",
              "          const element = document.querySelector('#df-ab84d45b-2894-41cb-ab5e-205fcdd89e7d');\n",
              "          const dataTable =\n",
              "            await google.colab.kernel.invokeFunction('convertToInteractive',\n",
              "                                                     [key], {});\n",
              "          if (!dataTable) return;\n",
              "\n",
              "          const docLinkHtml = 'Like what you see? Visit the ' +\n",
              "            '<a target=\"_blank\" href=https://colab.research.google.com/notebooks/data_table.ipynb>data table notebook</a>'\n",
              "            + ' to learn more about interactive tables.';\n",
              "          element.innerHTML = '';\n",
              "          dataTable['output_type'] = 'display_data';\n",
              "          await google.colab.output.renderOutput(dataTable, element);\n",
              "          const docLink = document.createElement('div');\n",
              "          docLink.innerHTML = docLinkHtml;\n",
              "          element.appendChild(docLink);\n",
              "        }\n",
              "      </script>\n",
              "    </div>\n",
              "  </div>\n",
              "  "
            ]
          },
          "metadata": {},
          "execution_count": 77
        }
      ],
      "source": [
        "df.query(\" GRADE == 'G' \")"
      ]
    },
    {
      "cell_type": "code",
      "execution_count": 78,
      "metadata": {
        "id": "sb9FkiW_7huj"
      },
      "outputs": [],
      "source": [
        "# Seems that all the \"G\" correspond to \"A\"\n",
        "df.GRADE.replace('G', 'A', inplace=True)"
      ]
    },
    {
      "cell_type": "code",
      "execution_count": 79,
      "metadata": {
        "id": "eDa3JvYL7huj",
        "outputId": "9033a970-e17b-4f69-ba0e-a1dffedd71ce",
        "colab": {
          "base_uri": "https://localhost:8080/",
          "height": 904
        }
      },
      "outputs": [
        {
          "output_type": "execute_result",
          "data": {
            "text/plain": [
              "           CAMIS                          DBA           BORO BUILDING  \\\n",
              "33      50082407  GRANDMA'S ORIGINAL PIZZERIA       Brooklyn     6918   \n",
              "209     50067646               BREAD & BUTTER      Manhattan       25   \n",
              "320     50018603                  SPICY PIZZA         Queens     4322   \n",
              "1524    41703394        PIONEERS BAR & LOUNGE      Manhattan      134   \n",
              "1683    41443460                    CASA NOVA  Staten Island     3555   \n",
              "...          ...                          ...            ...      ...   \n",
              "287180  50118279                       IPIZZA      Manhattan      707   \n",
              "287393  50071617          BELLA PIZZA & GRILL         Queens     8917   \n",
              "287499  41352974    SAKURA 6 JAPANESE CUISINE       Brooklyn      837   \n",
              "287508  50091489                   AVOCADERIA       Brooklyn       55   \n",
              "287745  50101381         LAS CARRETAS LATINAS         Queens     4008   \n",
              "\n",
              "                   STREET ZIPCODE       PHONE CUISINE_DESCRIPTION  \\\n",
              "33               3 AVENUE   11209  7188334646               Pizza   \n",
              "209      WEST   56 STREET   10019  2127670444          Sandwiches   \n",
              "320              43RD AVE   11104  7187066655               Pizza   \n",
              "1524     WEST   29 STREET   10001  2127142222            American   \n",
              "1683    VICTORY BOULEVARD   10314  7186821331             Italian   \n",
              "...                   ...     ...         ...                 ...   \n",
              "287180           9 AVENUE   10019  2122456260               Pizza   \n",
              "287393           165TH ST   11432  7188802740               Pizza   \n",
              "287499   MANHATTAN AVENUE   11222  7183497888            Japanese   \n",
              "287508       WATER STREET   11201  9177437388            American   \n",
              "287745         HAMPTON ST   11373  9178326761             Spanish   \n",
              "\n",
              "       INSPECTION_DATE                   ACTION  ...  \\\n",
              "33          2018-11-19  Establishment re-opened  ...   \n",
              "209         2019-10-15  Establishment re-opened  ...   \n",
              "320         2018-11-07  Establishment re-opened  ...   \n",
              "1524        2019-07-22  Establishment re-opened  ...   \n",
              "1683        2018-08-03  Establishment re-opened  ...   \n",
              "...                ...                      ...  ...   \n",
              "287180      2022-02-24  Establishment re-opened  ...   \n",
              "287393      2018-06-13  Establishment re-opened  ...   \n",
              "287499      2019-01-04  Establishment re-opened  ...   \n",
              "287508      2019-07-20  Establishment re-opened  ...   \n",
              "287745      2020-01-24  Establishment re-opened  ...   \n",
              "\n",
              "                                        INSPECTION_TYPE         LATITUDE  \\\n",
              "33      Pre-permit (Operational) / Reopening Inspection   40.63549246291   \n",
              "209             Cycle Inspection / Reopening Inspection  40.762729442799   \n",
              "320             Cycle Inspection / Reopening Inspection  40.745176721685   \n",
              "1524            Cycle Inspection / Reopening Inspection  40.747114039331   \n",
              "1683            Cycle Inspection / Reopening Inspection  40.601115596831   \n",
              "...                                                 ...              ...   \n",
              "287180  Pre-permit (Operational) / Reopening Inspection  40.762470846186   \n",
              "287393          Cycle Inspection / Reopening Inspection  40.707367266488   \n",
              "287499          Cycle Inspection / Reopening Inspection  40.728709591496   \n",
              "287508  Pre-permit (Operational) / Reopening Inspection  40.703293906326   \n",
              "287745  Pre-permit (Operational) / Reopening Inspection  40.746776923066   \n",
              "\n",
              "               LONGITUDE  COMMUNITY_BOARD COUNCIL_DISTRICT CENSUS_TRACT  \\\n",
              "33      -74.026143073284              310               43       006800   \n",
              "209     -73.975488991143              105               04       011201   \n",
              "320     -73.920849288169              402               26       018300   \n",
              "1524    -73.991190383844              105               03       009500   \n",
              "1683    -74.176410664865              502               50       029103   \n",
              "...                  ...              ...              ...          ...   \n",
              "287180   -73.98970108469              104               03       012700   \n",
              "287393  -73.796086035078              412               27       046000   \n",
              "287499  -73.953611701125              301               33       056100   \n",
              "287508  -73.992047363499              302               33       002100   \n",
              "287745  -73.882433148527              404               25       026901   \n",
              "\n",
              "            BIN         BBL   NTA TO_DELETE  \n",
              "33      3145626  3058710052  BK31      True  \n",
              "209     1081136  1012720020  MN17      True  \n",
              "320     4001931  4001620023  QN31      True  \n",
              "1524    1015129  1008040059  MN17      True  \n",
              "1683    5036682  5021620192  SI05      True  \n",
              "...         ...         ...   ...       ...  \n",
              "287180  1026604  1010580032  MN15      True  \n",
              "287393  4209605  4097950065  QN61      True  \n",
              "287499  3065102  3025730013  BK76      True  \n",
              "287508  3000019  3000260050  BK38      True  \n",
              "287745  4037154  4015050005  QN29      True  \n",
              "\n",
              "[1541 rows x 26 columns]"
            ],
            "text/html": [
              "\n",
              "  <div id=\"df-ad5c46f8-c48c-4592-b06d-c7ef6219da94\">\n",
              "    <div class=\"colab-df-container\">\n",
              "      <div>\n",
              "<style scoped>\n",
              "    .dataframe tbody tr th:only-of-type {\n",
              "        vertical-align: middle;\n",
              "    }\n",
              "\n",
              "    .dataframe tbody tr th {\n",
              "        vertical-align: top;\n",
              "    }\n",
              "\n",
              "    .dataframe thead th {\n",
              "        text-align: right;\n",
              "    }\n",
              "</style>\n",
              "<table border=\"1\" class=\"dataframe\">\n",
              "  <thead>\n",
              "    <tr style=\"text-align: right;\">\n",
              "      <th></th>\n",
              "      <th>CAMIS</th>\n",
              "      <th>DBA</th>\n",
              "      <th>BORO</th>\n",
              "      <th>BUILDING</th>\n",
              "      <th>STREET</th>\n",
              "      <th>ZIPCODE</th>\n",
              "      <th>PHONE</th>\n",
              "      <th>CUISINE_DESCRIPTION</th>\n",
              "      <th>INSPECTION_DATE</th>\n",
              "      <th>ACTION</th>\n",
              "      <th>...</th>\n",
              "      <th>INSPECTION_TYPE</th>\n",
              "      <th>LATITUDE</th>\n",
              "      <th>LONGITUDE</th>\n",
              "      <th>COMMUNITY_BOARD</th>\n",
              "      <th>COUNCIL_DISTRICT</th>\n",
              "      <th>CENSUS_TRACT</th>\n",
              "      <th>BIN</th>\n",
              "      <th>BBL</th>\n",
              "      <th>NTA</th>\n",
              "      <th>TO_DELETE</th>\n",
              "    </tr>\n",
              "  </thead>\n",
              "  <tbody>\n",
              "    <tr>\n",
              "      <th>33</th>\n",
              "      <td>50082407</td>\n",
              "      <td>GRANDMA'S ORIGINAL PIZZERIA</td>\n",
              "      <td>Brooklyn</td>\n",
              "      <td>6918</td>\n",
              "      <td>3 AVENUE</td>\n",
              "      <td>11209</td>\n",
              "      <td>7188334646</td>\n",
              "      <td>Pizza</td>\n",
              "      <td>2018-11-19</td>\n",
              "      <td>Establishment re-opened</td>\n",
              "      <td>...</td>\n",
              "      <td>Pre-permit (Operational) / Reopening Inspection</td>\n",
              "      <td>40.63549246291</td>\n",
              "      <td>-74.026143073284</td>\n",
              "      <td>310</td>\n",
              "      <td>43</td>\n",
              "      <td>006800</td>\n",
              "      <td>3145626</td>\n",
              "      <td>3058710052</td>\n",
              "      <td>BK31</td>\n",
              "      <td>True</td>\n",
              "    </tr>\n",
              "    <tr>\n",
              "      <th>209</th>\n",
              "      <td>50067646</td>\n",
              "      <td>BREAD &amp; BUTTER</td>\n",
              "      <td>Manhattan</td>\n",
              "      <td>25</td>\n",
              "      <td>WEST   56 STREET</td>\n",
              "      <td>10019</td>\n",
              "      <td>2127670444</td>\n",
              "      <td>Sandwiches</td>\n",
              "      <td>2019-10-15</td>\n",
              "      <td>Establishment re-opened</td>\n",
              "      <td>...</td>\n",
              "      <td>Cycle Inspection / Reopening Inspection</td>\n",
              "      <td>40.762729442799</td>\n",
              "      <td>-73.975488991143</td>\n",
              "      <td>105</td>\n",
              "      <td>04</td>\n",
              "      <td>011201</td>\n",
              "      <td>1081136</td>\n",
              "      <td>1012720020</td>\n",
              "      <td>MN17</td>\n",
              "      <td>True</td>\n",
              "    </tr>\n",
              "    <tr>\n",
              "      <th>320</th>\n",
              "      <td>50018603</td>\n",
              "      <td>SPICY PIZZA</td>\n",
              "      <td>Queens</td>\n",
              "      <td>4322</td>\n",
              "      <td>43RD AVE</td>\n",
              "      <td>11104</td>\n",
              "      <td>7187066655</td>\n",
              "      <td>Pizza</td>\n",
              "      <td>2018-11-07</td>\n",
              "      <td>Establishment re-opened</td>\n",
              "      <td>...</td>\n",
              "      <td>Cycle Inspection / Reopening Inspection</td>\n",
              "      <td>40.745176721685</td>\n",
              "      <td>-73.920849288169</td>\n",
              "      <td>402</td>\n",
              "      <td>26</td>\n",
              "      <td>018300</td>\n",
              "      <td>4001931</td>\n",
              "      <td>4001620023</td>\n",
              "      <td>QN31</td>\n",
              "      <td>True</td>\n",
              "    </tr>\n",
              "    <tr>\n",
              "      <th>1524</th>\n",
              "      <td>41703394</td>\n",
              "      <td>PIONEERS BAR &amp; LOUNGE</td>\n",
              "      <td>Manhattan</td>\n",
              "      <td>134</td>\n",
              "      <td>WEST   29 STREET</td>\n",
              "      <td>10001</td>\n",
              "      <td>2127142222</td>\n",
              "      <td>American</td>\n",
              "      <td>2019-07-22</td>\n",
              "      <td>Establishment re-opened</td>\n",
              "      <td>...</td>\n",
              "      <td>Cycle Inspection / Reopening Inspection</td>\n",
              "      <td>40.747114039331</td>\n",
              "      <td>-73.991190383844</td>\n",
              "      <td>105</td>\n",
              "      <td>03</td>\n",
              "      <td>009500</td>\n",
              "      <td>1015129</td>\n",
              "      <td>1008040059</td>\n",
              "      <td>MN17</td>\n",
              "      <td>True</td>\n",
              "    </tr>\n",
              "    <tr>\n",
              "      <th>1683</th>\n",
              "      <td>41443460</td>\n",
              "      <td>CASA NOVA</td>\n",
              "      <td>Staten Island</td>\n",
              "      <td>3555</td>\n",
              "      <td>VICTORY BOULEVARD</td>\n",
              "      <td>10314</td>\n",
              "      <td>7186821331</td>\n",
              "      <td>Italian</td>\n",
              "      <td>2018-08-03</td>\n",
              "      <td>Establishment re-opened</td>\n",
              "      <td>...</td>\n",
              "      <td>Cycle Inspection / Reopening Inspection</td>\n",
              "      <td>40.601115596831</td>\n",
              "      <td>-74.176410664865</td>\n",
              "      <td>502</td>\n",
              "      <td>50</td>\n",
              "      <td>029103</td>\n",
              "      <td>5036682</td>\n",
              "      <td>5021620192</td>\n",
              "      <td>SI05</td>\n",
              "      <td>True</td>\n",
              "    </tr>\n",
              "    <tr>\n",
              "      <th>...</th>\n",
              "      <td>...</td>\n",
              "      <td>...</td>\n",
              "      <td>...</td>\n",
              "      <td>...</td>\n",
              "      <td>...</td>\n",
              "      <td>...</td>\n",
              "      <td>...</td>\n",
              "      <td>...</td>\n",
              "      <td>...</td>\n",
              "      <td>...</td>\n",
              "      <td>...</td>\n",
              "      <td>...</td>\n",
              "      <td>...</td>\n",
              "      <td>...</td>\n",
              "      <td>...</td>\n",
              "      <td>...</td>\n",
              "      <td>...</td>\n",
              "      <td>...</td>\n",
              "      <td>...</td>\n",
              "      <td>...</td>\n",
              "      <td>...</td>\n",
              "    </tr>\n",
              "    <tr>\n",
              "      <th>287180</th>\n",
              "      <td>50118279</td>\n",
              "      <td>IPIZZA</td>\n",
              "      <td>Manhattan</td>\n",
              "      <td>707</td>\n",
              "      <td>9 AVENUE</td>\n",
              "      <td>10019</td>\n",
              "      <td>2122456260</td>\n",
              "      <td>Pizza</td>\n",
              "      <td>2022-02-24</td>\n",
              "      <td>Establishment re-opened</td>\n",
              "      <td>...</td>\n",
              "      <td>Pre-permit (Operational) / Reopening Inspection</td>\n",
              "      <td>40.762470846186</td>\n",
              "      <td>-73.98970108469</td>\n",
              "      <td>104</td>\n",
              "      <td>03</td>\n",
              "      <td>012700</td>\n",
              "      <td>1026604</td>\n",
              "      <td>1010580032</td>\n",
              "      <td>MN15</td>\n",
              "      <td>True</td>\n",
              "    </tr>\n",
              "    <tr>\n",
              "      <th>287393</th>\n",
              "      <td>50071617</td>\n",
              "      <td>BELLA PIZZA &amp; GRILL</td>\n",
              "      <td>Queens</td>\n",
              "      <td>8917</td>\n",
              "      <td>165TH ST</td>\n",
              "      <td>11432</td>\n",
              "      <td>7188802740</td>\n",
              "      <td>Pizza</td>\n",
              "      <td>2018-06-13</td>\n",
              "      <td>Establishment re-opened</td>\n",
              "      <td>...</td>\n",
              "      <td>Cycle Inspection / Reopening Inspection</td>\n",
              "      <td>40.707367266488</td>\n",
              "      <td>-73.796086035078</td>\n",
              "      <td>412</td>\n",
              "      <td>27</td>\n",
              "      <td>046000</td>\n",
              "      <td>4209605</td>\n",
              "      <td>4097950065</td>\n",
              "      <td>QN61</td>\n",
              "      <td>True</td>\n",
              "    </tr>\n",
              "    <tr>\n",
              "      <th>287499</th>\n",
              "      <td>41352974</td>\n",
              "      <td>SAKURA 6 JAPANESE CUISINE</td>\n",
              "      <td>Brooklyn</td>\n",
              "      <td>837</td>\n",
              "      <td>MANHATTAN AVENUE</td>\n",
              "      <td>11222</td>\n",
              "      <td>7183497888</td>\n",
              "      <td>Japanese</td>\n",
              "      <td>2019-01-04</td>\n",
              "      <td>Establishment re-opened</td>\n",
              "      <td>...</td>\n",
              "      <td>Cycle Inspection / Reopening Inspection</td>\n",
              "      <td>40.728709591496</td>\n",
              "      <td>-73.953611701125</td>\n",
              "      <td>301</td>\n",
              "      <td>33</td>\n",
              "      <td>056100</td>\n",
              "      <td>3065102</td>\n",
              "      <td>3025730013</td>\n",
              "      <td>BK76</td>\n",
              "      <td>True</td>\n",
              "    </tr>\n",
              "    <tr>\n",
              "      <th>287508</th>\n",
              "      <td>50091489</td>\n",
              "      <td>AVOCADERIA</td>\n",
              "      <td>Brooklyn</td>\n",
              "      <td>55</td>\n",
              "      <td>WATER STREET</td>\n",
              "      <td>11201</td>\n",
              "      <td>9177437388</td>\n",
              "      <td>American</td>\n",
              "      <td>2019-07-20</td>\n",
              "      <td>Establishment re-opened</td>\n",
              "      <td>...</td>\n",
              "      <td>Pre-permit (Operational) / Reopening Inspection</td>\n",
              "      <td>40.703293906326</td>\n",
              "      <td>-73.992047363499</td>\n",
              "      <td>302</td>\n",
              "      <td>33</td>\n",
              "      <td>002100</td>\n",
              "      <td>3000019</td>\n",
              "      <td>3000260050</td>\n",
              "      <td>BK38</td>\n",
              "      <td>True</td>\n",
              "    </tr>\n",
              "    <tr>\n",
              "      <th>287745</th>\n",
              "      <td>50101381</td>\n",
              "      <td>LAS CARRETAS LATINAS</td>\n",
              "      <td>Queens</td>\n",
              "      <td>4008</td>\n",
              "      <td>HAMPTON ST</td>\n",
              "      <td>11373</td>\n",
              "      <td>9178326761</td>\n",
              "      <td>Spanish</td>\n",
              "      <td>2020-01-24</td>\n",
              "      <td>Establishment re-opened</td>\n",
              "      <td>...</td>\n",
              "      <td>Pre-permit (Operational) / Reopening Inspection</td>\n",
              "      <td>40.746776923066</td>\n",
              "      <td>-73.882433148527</td>\n",
              "      <td>404</td>\n",
              "      <td>25</td>\n",
              "      <td>026901</td>\n",
              "      <td>4037154</td>\n",
              "      <td>4015050005</td>\n",
              "      <td>QN29</td>\n",
              "      <td>True</td>\n",
              "    </tr>\n",
              "  </tbody>\n",
              "</table>\n",
              "<p>1541 rows × 26 columns</p>\n",
              "</div>\n",
              "      <button class=\"colab-df-convert\" onclick=\"convertToInteractive('df-ad5c46f8-c48c-4592-b06d-c7ef6219da94')\"\n",
              "              title=\"Convert this dataframe to an interactive table.\"\n",
              "              style=\"display:none;\">\n",
              "        \n",
              "  <svg xmlns=\"http://www.w3.org/2000/svg\" height=\"24px\"viewBox=\"0 0 24 24\"\n",
              "       width=\"24px\">\n",
              "    <path d=\"M0 0h24v24H0V0z\" fill=\"none\"/>\n",
              "    <path d=\"M18.56 5.44l.94 2.06.94-2.06 2.06-.94-2.06-.94-.94-2.06-.94 2.06-2.06.94zm-11 1L8.5 8.5l.94-2.06 2.06-.94-2.06-.94L8.5 2.5l-.94 2.06-2.06.94zm10 10l.94 2.06.94-2.06 2.06-.94-2.06-.94-.94-2.06-.94 2.06-2.06.94z\"/><path d=\"M17.41 7.96l-1.37-1.37c-.4-.4-.92-.59-1.43-.59-.52 0-1.04.2-1.43.59L10.3 9.45l-7.72 7.72c-.78.78-.78 2.05 0 2.83L4 21.41c.39.39.9.59 1.41.59.51 0 1.02-.2 1.41-.59l7.78-7.78 2.81-2.81c.8-.78.8-2.07 0-2.86zM5.41 20L4 18.59l7.72-7.72 1.47 1.35L5.41 20z\"/>\n",
              "  </svg>\n",
              "      </button>\n",
              "      \n",
              "  <style>\n",
              "    .colab-df-container {\n",
              "      display:flex;\n",
              "      flex-wrap:wrap;\n",
              "      gap: 12px;\n",
              "    }\n",
              "\n",
              "    .colab-df-convert {\n",
              "      background-color: #E8F0FE;\n",
              "      border: none;\n",
              "      border-radius: 50%;\n",
              "      cursor: pointer;\n",
              "      display: none;\n",
              "      fill: #1967D2;\n",
              "      height: 32px;\n",
              "      padding: 0 0 0 0;\n",
              "      width: 32px;\n",
              "    }\n",
              "\n",
              "    .colab-df-convert:hover {\n",
              "      background-color: #E2EBFA;\n",
              "      box-shadow: 0px 1px 2px rgba(60, 64, 67, 0.3), 0px 1px 3px 1px rgba(60, 64, 67, 0.15);\n",
              "      fill: #174EA6;\n",
              "    }\n",
              "\n",
              "    [theme=dark] .colab-df-convert {\n",
              "      background-color: #3B4455;\n",
              "      fill: #D2E3FC;\n",
              "    }\n",
              "\n",
              "    [theme=dark] .colab-df-convert:hover {\n",
              "      background-color: #434B5C;\n",
              "      box-shadow: 0px 1px 3px 1px rgba(0, 0, 0, 0.15);\n",
              "      filter: drop-shadow(0px 1px 2px rgba(0, 0, 0, 0.3));\n",
              "      fill: #FFFFFF;\n",
              "    }\n",
              "  </style>\n",
              "\n",
              "      <script>\n",
              "        const buttonEl =\n",
              "          document.querySelector('#df-ad5c46f8-c48c-4592-b06d-c7ef6219da94 button.colab-df-convert');\n",
              "        buttonEl.style.display =\n",
              "          google.colab.kernel.accessAllowed ? 'block' : 'none';\n",
              "\n",
              "        async function convertToInteractive(key) {\n",
              "          const element = document.querySelector('#df-ad5c46f8-c48c-4592-b06d-c7ef6219da94');\n",
              "          const dataTable =\n",
              "            await google.colab.kernel.invokeFunction('convertToInteractive',\n",
              "                                                     [key], {});\n",
              "          if (!dataTable) return;\n",
              "\n",
              "          const docLinkHtml = 'Like what you see? Visit the ' +\n",
              "            '<a target=\"_blank\" href=https://colab.research.google.com/notebooks/data_table.ipynb>data table notebook</a>'\n",
              "            + ' to learn more about interactive tables.';\n",
              "          element.innerHTML = '';\n",
              "          dataTable['output_type'] = 'display_data';\n",
              "          await google.colab.output.renderOutput(dataTable, element);\n",
              "          const docLink = document.createElement('div');\n",
              "          docLink.innerHTML = docLinkHtml;\n",
              "          element.appendChild(docLink);\n",
              "        }\n",
              "      </script>\n",
              "    </div>\n",
              "  </div>\n",
              "  "
            ]
          },
          "metadata": {},
          "execution_count": 79
        }
      ],
      "source": [
        "# P assigned to 'Establishment re-opened' actions\n",
        "df.query(\" GRADE == 'P' \")"
      ]
    },
    {
      "cell_type": "code",
      "execution_count": 80,
      "metadata": {
        "id": "xie57cwO7huj",
        "outputId": "dd8ee069-8c67-45b6-e131-644955bc61bc",
        "colab": {
          "base_uri": "https://localhost:8080/"
        }
      },
      "outputs": [
        {
          "output_type": "execute_result",
          "data": {
            "text/plain": [
              "Establishment re-opened    1541\n",
              "Name: ACTION, dtype: int64"
            ]
          },
          "metadata": {},
          "execution_count": 80
        }
      ],
      "source": [
        "# P assigned to 'Establishment re-opened' actions\n",
        "df.query(\" GRADE == 'P' \").ACTION.value_counts()"
      ]
    },
    {
      "cell_type": "code",
      "execution_count": 81,
      "metadata": {
        "id": "iPYvaipU7huj",
        "outputId": "737243ca-25b2-4e1f-d635-02959408b60a",
        "colab": {
          "base_uri": "https://localhost:8080/"
        }
      },
      "outputs": [
        {
          "output_type": "execute_result",
          "data": {
            "text/plain": [
              "Cycle Inspection / Reopening Inspection            1249\n",
              "Pre-permit (Operational) / Reopening Inspection     292\n",
              "Name: INSPECTION_TYPE, dtype: int64"
            ]
          },
          "metadata": {},
          "execution_count": 81
        }
      ],
      "source": [
        "# P assigned to 'Reopening Inspection' inspection types\n",
        "df.query(\" GRADE == 'P' \").INSPECTION_TYPE.value_counts()"
      ]
    },
    {
      "cell_type": "code",
      "execution_count": 82,
      "metadata": {
        "id": "mYo58n_I7huj"
      },
      "outputs": [],
      "source": [
        "# df.query(\" GRADE == 'Z' \").SCORE.hist(bins=100)"
      ]
    },
    {
      "cell_type": "code",
      "execution_count": 83,
      "metadata": {
        "id": "e3ON_QPE7huk",
        "outputId": "5233d3dd-85d5-409a-fe81-5726b8a4a27d",
        "colab": {
          "base_uri": "https://localhost:8080/"
        }
      },
      "outputs": [
        {
          "output_type": "execute_result",
          "data": {
            "text/plain": [
              "A    110444\n",
              "B     16388\n",
              "C      6904\n",
              "N      5938\n",
              "Z      2660\n",
              "P      1541\n",
              "Name: GRADE, dtype: int64"
            ]
          },
          "metadata": {},
          "execution_count": 83
        }
      ],
      "source": [
        "# TODO: Figure out what Z, and Not Yet Graded means in GRADE\n",
        "# Until then, we just replace these values with NULL, keeping only the A, B, C grades\n",
        "\n",
        "# \n",
        "df.GRADE.value_counts()"
      ]
    },
    {
      "cell_type": "code",
      "execution_count": 84,
      "metadata": {
        "id": "2GdMxqpj7huk"
      },
      "outputs": [],
      "source": [
        "df['TO_DELETE'] |=  (df.GRADE=='Z')\n",
        "df['TO_DELETE'] |=  (df.GRADE=='P')\n",
        "df['TO_DELETE'] |=  (df.GRADE=='N') # Not Yet Graded\n",
        "df['TO_DELETE'] |=  (df.GRADE=='Not Yet Graded')"
      ]
    },
    {
      "cell_type": "markdown",
      "metadata": {
        "id": "AyejLLa57huk"
      },
      "source": [
        "### GRADE_DATE"
      ]
    },
    {
      "cell_type": "code",
      "execution_count": 85,
      "metadata": {
        "id": "Np46cuoT7huk"
      },
      "outputs": [],
      "source": [
        "df[\"GRADE_DATE\"] = pd.to_datetime(df[\"GRADE_DATE\"], format=\"%m/%d/%Y\")\n"
      ]
    },
    {
      "cell_type": "code",
      "execution_count": 86,
      "metadata": {
        "id": "Q2sLR9Wo7huk"
      },
      "outputs": [],
      "source": [
        "# Grade date and inspection date should be the same. \n",
        "assert np.abs((df.GRADE_DATE - df.INSPECTION_DATE).dropna()).sum().days == 0"
      ]
    },
    {
      "cell_type": "code",
      "execution_count": 87,
      "metadata": {
        "id": "q4ndg-dx7huk"
      },
      "outputs": [],
      "source": [
        "# Check that is there is a grade date, a grade is also assigned\n",
        "assert sum ( ~df.GRADE_DATE.isnull() & df.GRADE.isnull() )  == 0"
      ]
    },
    {
      "cell_type": "code",
      "execution_count": 88,
      "metadata": {
        "id": "FJp6Yz9a7huk"
      },
      "outputs": [],
      "source": [
        "# We do not need GRADE DATE if we have INSPECTION DATE\n",
        "df = df.drop(\"GRADE_DATE\", axis='columns')"
      ]
    },
    {
      "cell_type": "markdown",
      "metadata": {
        "id": "u3MyODWT7hul"
      },
      "source": [
        "### VIOLATION_CODE and VIOLATION_DESCRIPTION"
      ]
    },
    {
      "cell_type": "code",
      "execution_count": 89,
      "metadata": {
        "id": "B_8tyfr57hul",
        "outputId": "b54b8fad-8020-46a8-d361-5f323192c789",
        "colab": {
          "base_uri": "https://localhost:8080/"
        }
      },
      "outputs": [
        {
          "output_type": "execute_result",
          "data": {
            "text/plain": [
              "6974"
            ]
          },
          "metadata": {},
          "execution_count": 89
        }
      ],
      "source": [
        "df.VIOLATION_CODE.isnull().sum()"
      ]
    },
    {
      "cell_type": "code",
      "execution_count": 90,
      "metadata": {
        "id": "ZalBL3Fx7hul"
      },
      "outputs": [],
      "source": [
        "# All the cases where violation code is NULL should be either cases that we delete\n",
        "# or a \"No violations\" case\n",
        "check = df[df.VIOLATION_CODE.isnull() & ~df.TO_DELETE & (df.ACTION!='No violations')]\n",
        "\n",
        "assert( len(check) == 0 )\n"
      ]
    },
    {
      "cell_type": "code",
      "execution_count": 91,
      "metadata": {
        "id": "-c7JFdfi7hul",
        "outputId": "df99db6c-83bb-47c9-eddf-cdb061f02f9d",
        "colab": {
          "base_uri": "https://localhost:8080/"
        }
      },
      "outputs": [
        {
          "output_type": "execute_result",
          "data": {
            "text/plain": [
              "5378"
            ]
          },
          "metadata": {},
          "execution_count": 91
        }
      ],
      "source": [
        "df.VIOLATION_DESCRIPTION.isnull().sum()"
      ]
    },
    {
      "cell_type": "code",
      "execution_count": 92,
      "metadata": {
        "id": "EkaYq1St7hul",
        "outputId": "1c1f4ff9-0035-4b22-b5d3-eab02431293c",
        "colab": {
          "base_uri": "https://localhost:8080/",
          "height": 332
        }
      },
      "outputs": [
        {
          "output_type": "execute_result",
          "data": {
            "text/plain": [
              "                VIOLATION_DESCRIPTION\n",
              "VIOLATION_CODE                       \n",
              "16C                                 2\n",
              "02A                                 1\n",
              "15L                                 1\n",
              "15J                                 1\n",
              "15I                                 1\n",
              "...                               ...\n",
              "04O                                 1\n",
              "04N                                 1\n",
              "04M                                 1\n",
              "04L                                 1\n",
              "22G                                 1\n",
              "\n",
              "[102 rows x 1 columns]"
            ],
            "text/html": [
              "\n",
              "  <div id=\"df-84a2998d-58ad-493c-a9b1-78f7dd2dcfe0\">\n",
              "    <div class=\"colab-df-container\">\n",
              "      <div>\n",
              "<style scoped>\n",
              "    .dataframe tbody tr th:only-of-type {\n",
              "        vertical-align: middle;\n",
              "    }\n",
              "\n",
              "    .dataframe tbody tr th {\n",
              "        vertical-align: top;\n",
              "    }\n",
              "\n",
              "    .dataframe thead th {\n",
              "        text-align: right;\n",
              "    }\n",
              "</style>\n",
              "<table border=\"1\" class=\"dataframe\">\n",
              "  <thead>\n",
              "    <tr style=\"text-align: right;\">\n",
              "      <th></th>\n",
              "      <th>VIOLATION_DESCRIPTION</th>\n",
              "    </tr>\n",
              "    <tr>\n",
              "      <th>VIOLATION_CODE</th>\n",
              "      <th></th>\n",
              "    </tr>\n",
              "  </thead>\n",
              "  <tbody>\n",
              "    <tr>\n",
              "      <th>16C</th>\n",
              "      <td>2</td>\n",
              "    </tr>\n",
              "    <tr>\n",
              "      <th>02A</th>\n",
              "      <td>1</td>\n",
              "    </tr>\n",
              "    <tr>\n",
              "      <th>15L</th>\n",
              "      <td>1</td>\n",
              "    </tr>\n",
              "    <tr>\n",
              "      <th>15J</th>\n",
              "      <td>1</td>\n",
              "    </tr>\n",
              "    <tr>\n",
              "      <th>15I</th>\n",
              "      <td>1</td>\n",
              "    </tr>\n",
              "    <tr>\n",
              "      <th>...</th>\n",
              "      <td>...</td>\n",
              "    </tr>\n",
              "    <tr>\n",
              "      <th>04O</th>\n",
              "      <td>1</td>\n",
              "    </tr>\n",
              "    <tr>\n",
              "      <th>04N</th>\n",
              "      <td>1</td>\n",
              "    </tr>\n",
              "    <tr>\n",
              "      <th>04M</th>\n",
              "      <td>1</td>\n",
              "    </tr>\n",
              "    <tr>\n",
              "      <th>04L</th>\n",
              "      <td>1</td>\n",
              "    </tr>\n",
              "    <tr>\n",
              "      <th>22G</th>\n",
              "      <td>1</td>\n",
              "    </tr>\n",
              "  </tbody>\n",
              "</table>\n",
              "<p>102 rows × 1 columns</p>\n",
              "</div>\n",
              "      <button class=\"colab-df-convert\" onclick=\"convertToInteractive('df-84a2998d-58ad-493c-a9b1-78f7dd2dcfe0')\"\n",
              "              title=\"Convert this dataframe to an interactive table.\"\n",
              "              style=\"display:none;\">\n",
              "        \n",
              "  <svg xmlns=\"http://www.w3.org/2000/svg\" height=\"24px\"viewBox=\"0 0 24 24\"\n",
              "       width=\"24px\">\n",
              "    <path d=\"M0 0h24v24H0V0z\" fill=\"none\"/>\n",
              "    <path d=\"M18.56 5.44l.94 2.06.94-2.06 2.06-.94-2.06-.94-.94-2.06-.94 2.06-2.06.94zm-11 1L8.5 8.5l.94-2.06 2.06-.94-2.06-.94L8.5 2.5l-.94 2.06-2.06.94zm10 10l.94 2.06.94-2.06 2.06-.94-2.06-.94-.94-2.06-.94 2.06-2.06.94z\"/><path d=\"M17.41 7.96l-1.37-1.37c-.4-.4-.92-.59-1.43-.59-.52 0-1.04.2-1.43.59L10.3 9.45l-7.72 7.72c-.78.78-.78 2.05 0 2.83L4 21.41c.39.39.9.59 1.41.59.51 0 1.02-.2 1.41-.59l7.78-7.78 2.81-2.81c.8-.78.8-2.07 0-2.86zM5.41 20L4 18.59l7.72-7.72 1.47 1.35L5.41 20z\"/>\n",
              "  </svg>\n",
              "      </button>\n",
              "      \n",
              "  <style>\n",
              "    .colab-df-container {\n",
              "      display:flex;\n",
              "      flex-wrap:wrap;\n",
              "      gap: 12px;\n",
              "    }\n",
              "\n",
              "    .colab-df-convert {\n",
              "      background-color: #E8F0FE;\n",
              "      border: none;\n",
              "      border-radius: 50%;\n",
              "      cursor: pointer;\n",
              "      display: none;\n",
              "      fill: #1967D2;\n",
              "      height: 32px;\n",
              "      padding: 0 0 0 0;\n",
              "      width: 32px;\n",
              "    }\n",
              "\n",
              "    .colab-df-convert:hover {\n",
              "      background-color: #E2EBFA;\n",
              "      box-shadow: 0px 1px 2px rgba(60, 64, 67, 0.3), 0px 1px 3px 1px rgba(60, 64, 67, 0.15);\n",
              "      fill: #174EA6;\n",
              "    }\n",
              "\n",
              "    [theme=dark] .colab-df-convert {\n",
              "      background-color: #3B4455;\n",
              "      fill: #D2E3FC;\n",
              "    }\n",
              "\n",
              "    [theme=dark] .colab-df-convert:hover {\n",
              "      background-color: #434B5C;\n",
              "      box-shadow: 0px 1px 3px 1px rgba(0, 0, 0, 0.15);\n",
              "      filter: drop-shadow(0px 1px 2px rgba(0, 0, 0, 0.3));\n",
              "      fill: #FFFFFF;\n",
              "    }\n",
              "  </style>\n",
              "\n",
              "      <script>\n",
              "        const buttonEl =\n",
              "          document.querySelector('#df-84a2998d-58ad-493c-a9b1-78f7dd2dcfe0 button.colab-df-convert');\n",
              "        buttonEl.style.display =\n",
              "          google.colab.kernel.accessAllowed ? 'block' : 'none';\n",
              "\n",
              "        async function convertToInteractive(key) {\n",
              "          const element = document.querySelector('#df-84a2998d-58ad-493c-a9b1-78f7dd2dcfe0');\n",
              "          const dataTable =\n",
              "            await google.colab.kernel.invokeFunction('convertToInteractive',\n",
              "                                                     [key], {});\n",
              "          if (!dataTable) return;\n",
              "\n",
              "          const docLinkHtml = 'Like what you see? Visit the ' +\n",
              "            '<a target=\"_blank\" href=https://colab.research.google.com/notebooks/data_table.ipynb>data table notebook</a>'\n",
              "            + ' to learn more about interactive tables.';\n",
              "          element.innerHTML = '';\n",
              "          dataTable['output_type'] = 'display_data';\n",
              "          await google.colab.output.renderOutput(dataTable, element);\n",
              "          const docLink = document.createElement('div');\n",
              "          docLink.innerHTML = docLinkHtml;\n",
              "          element.appendChild(docLink);\n",
              "        }\n",
              "      </script>\n",
              "    </div>\n",
              "  </div>\n",
              "  "
            ]
          },
          "metadata": {},
          "execution_count": 92
        }
      ],
      "source": [
        "# Checks that all VIOLATION_CODE has unique VIOLATION_DESCRIPTION\n",
        "df[['VIOLATION_CODE','VIOLATION_DESCRIPTION']].drop_duplicates().pivot_table(\n",
        "    index='VIOLATION_CODE',\n",
        "    values='VIOLATION_DESCRIPTION',\n",
        "    aggfunc=pd.Series.nunique\n",
        ").sort_values('VIOLATION_DESCRIPTION', ascending=False)\n"
      ]
    },
    {
      "cell_type": "code",
      "source": [
        "df['TO_DELETE'] |=  (df.VIOLATION_DESCRIPTION == 'Caloric content not posted on menus, menu boards or food tags, in a food service establishment that is 1 of 15 or more outlets operating the same type of business nationally under common ownership or control, or as a franchise or doing business under the same name, for each menu item that is served in portions, the size and content of which are standardized.')"
      ],
      "metadata": {
        "id": "EimlOZPhBtAX"
      },
      "execution_count": 93,
      "outputs": []
    },
    {
      "cell_type": "code",
      "execution_count": 265,
      "metadata": {
        "id": "MK_OOkg-7hul"
      },
      "outputs": [],
      "source": [
        "# In the dataset we have a NULL violation, when there is no violation\n",
        "# To make this more explicit, we replace NULL with 000\n",
        "# df.VIOLATION_CODE.fillna('000', inplace=True)"
      ]
    },
    {
      "cell_type": "code",
      "execution_count": 490,
      "metadata": {
        "id": "Hz1Jf_A97hul",
        "outputId": "3c324d15-c4b3-4bad-fd54-634a4fea4125",
        "colab": {
          "base_uri": "https://localhost:8080/"
        }
      },
      "outputs": [
        {
          "output_type": "execute_result",
          "data": {
            "text/plain": [
              "861"
            ]
          },
          "metadata": {},
          "execution_count": 490
        }
      ],
      "source": [
        "df.VIOLATION_CODE.isnull().sum()"
      ]
    },
    {
      "cell_type": "code",
      "execution_count": 110,
      "metadata": {
        "id": "OwRQRczG7hul"
      },
      "outputs": [],
      "source": [
        "## LATITUDE and LONGITUDE"
      ]
    },
    {
      "cell_type": "code",
      "execution_count": 485,
      "metadata": {
        "id": "swMage4I7hum"
      },
      "outputs": [],
      "source": [
        "df['LONGITUDE'] = pd.to_numeric(df['LONGITUDE'])\n",
        "df['LATITUDE'] = pd.to_numeric(df['LATITUDE'])"
      ]
    },
    {
      "cell_type": "code",
      "execution_count": 95,
      "metadata": {
        "id": "W_I6hE5n7hum",
        "outputId": "6e8ef125-4781-4778-d3cf-b594a747a0bb",
        "colab": {
          "base_uri": "https://localhost:8080/"
        }
      },
      "outputs": [
        {
          "output_type": "execute_result",
          "data": {
            "text/plain": [
              "{'Establishment re-opened', 'No violations', 'Violations found', nan}"
            ]
          },
          "metadata": {},
          "execution_count": 95
        }
      ],
      "source": [
        ""
      ]
    },
    {
      "cell_type": "code",
      "execution_count": 111,
      "metadata": {
        "id": "QfQa-2Mg7hum"
      },
      "outputs": [],
      "source": [
        ""
      ]
    },
    {
      "cell_type": "code",
      "execution_count": 111,
      "metadata": {
        "id": "OvAOX7f_7hum"
      },
      "outputs": [],
      "source": [
        ""
      ]
    },
    {
      "cell_type": "markdown",
      "metadata": {
        "id": "hEIrMdva7hum"
      },
      "source": [
        "### MISC analysis"
      ]
    },
    {
      "cell_type": "code",
      "execution_count": 111,
      "metadata": {
        "id": "ZeF8cokn7hum"
      },
      "outputs": [],
      "source": [
        ""
      ]
    },
    {
      "cell_type": "code",
      "execution_count": 112,
      "metadata": {
        "id": "IE1gnLnl7hum",
        "outputId": "55817ae5-c808-4129-de8a-b173ba78cfed",
        "colab": {
          "base_uri": "https://localhost:8080/"
        }
      },
      "outputs": [
        {
          "output_type": "stream",
          "name": "stderr",
          "text": [
            "/usr/local/lib/python3.7/dist-packages/ipykernel_launcher.py:4: FutureWarning: Treating datetime data as categorical rather than numeric in `.describe` is deprecated and will be removed in a future version of pandas. Specify `datetime_is_numeric=True` to silence this warning and adopt the future behavior now.\n",
            "  after removing the cwd from sys.path.\n"
          ]
        },
        {
          "output_type": "stream",
          "name": "stdout",
          "text": [
            "False    218118\n",
            "True      70387\n",
            "Name: TO_DELETE, dtype: int64\n",
            "=====\n",
            "Critical          151472\n",
            "Not Critical      131655\n",
            "Not Applicable      5378\n",
            "Name: CRITICAL_FLAG, dtype: int64\n",
            "=====\n",
            "Violations found           267619\n",
            "Establishment closed        10860\n",
            "Establishment re-opened      3019\n",
            "No violations                2934\n",
            "Establishment re-closed        56\n",
            "Name: ACTION, dtype: int64\n",
            "=====\n",
            "Manhattan        111188\n",
            "Brooklyn          71059\n",
            "Queens            68536\n",
            "Bronx             28394\n",
            "Staten Island      9236\n",
            "0                    92\n",
            "Name: BORO, dtype: int64\n",
            "=====\n",
            "A    110444\n",
            "B     16388\n",
            "C      6904\n",
            "N      5938\n",
            "Z      2660\n",
            "P      1541\n",
            "Name: GRADE, dtype: int64\n",
            "=====\n",
            "Initial Inspection                                             166340\n",
            "Re-inspection                                                   58731\n",
            "Pre-permit (Operational) / Initial Inspection                   29650\n",
            "Pre-permit (Operational) / Re-inspection                        11226\n",
            "Administrative Miscellaneous / Initial Inspection                5255\n",
            "Pre-permit (Non-operational) / Initial Inspection                2734\n",
            "Cycle Inspection / Reopening Inspection                          2623\n",
            "Smoke-Free Air Act / Initial Inspection                          1201\n",
            "Pre-permit (Operational) / Compliance Inspection                 1129\n",
            "Administrative Miscellaneous / Re-inspection                     1115\n",
            "Pre-permit (Operational) / Reopening Inspection                  1002\n",
            "Inter-Agency Task Force / Initial Inspection                      862\n",
            "Trans Fat / Initial Inspection                                    844\n",
            "Calorie Posting / Initial Inspection                              413\n",
            "Cycle Inspection / Compliance Inspection                          391\n",
            "Smoke-Free Air Act / Re-inspection                                251\n",
            "Pre-permit (Non-operational) / Re-inspection                      233\n",
            "Trans Fat / Re-inspection                                         161\n",
            "Pre-permit (Operational) / Second Compliance Inspection            69\n",
            "Calorie Posting / Re-inspection                                    66\n",
            "Administrative Miscellaneous / Compliance Inspection               63\n",
            "Administrative Miscellaneous / Reopening Inspection                48\n",
            "Smoke-Free Air Act / Limited Inspection                            29\n",
            "Pre-permit (Non-operational) / Compliance Inspection               22\n",
            "Trans Fat / Compliance Inspection                                   9\n",
            "Administrative Miscellaneous / Second Compliance Inspection         7\n",
            "Smoke-Free Air Act / Compliance Inspection                          5\n",
            "Cycle Inspection / Second Compliance Inspection                     4\n",
            "Calorie Posting / Compliance Inspection                             4\n",
            "Trans Fat / Second Compliance Inspection                            1\n",
            "Name: INSPECTION_TYPE, dtype: int64\n",
            "=====\n",
            "03    25388\n",
            "01    20758\n",
            "04    20580\n",
            "02    14457\n",
            "33     8735\n",
            "20     8599\n",
            "26     8138\n",
            "34     7827\n",
            "38     7197\n",
            "05     6939\n",
            "39     6894\n",
            "22     6784\n",
            "35     6358\n",
            "25     6138\n",
            "21     5618\n",
            "08     5308\n",
            "07     5114\n",
            "43     4998\n",
            "10     4861\n",
            "06     4674\n",
            "19     4568\n",
            "29     4537\n",
            "28     4228\n",
            "40     4041\n",
            "11     3971\n",
            "47     3905\n",
            "13     3855\n",
            "15     3820\n",
            "36     3748\n",
            "32     3623\n",
            "48     3563\n",
            "37     3490\n",
            "49     3466\n",
            "09     3419\n",
            "24     3322\n",
            "17     3288\n",
            "30     3164\n",
            "50     2855\n",
            "12     2802\n",
            "51     2800\n",
            "14     2797\n",
            "27     2723\n",
            "23     2691\n",
            "45     2507\n",
            "41     2370\n",
            "16     2349\n",
            "18     2347\n",
            "46     2305\n",
            "44     2243\n",
            "42     1946\n",
            "31     1680\n",
            "Name: COUNCIL_DISTRICT, dtype: int64\n",
            "=====\n",
            "105    22033\n",
            "103    14144\n",
            "102    13488\n",
            "104    11700\n",
            "407    10592\n",
            "       ...  \n",
            "164       30\n",
            "227       17\n",
            "226       15\n",
            "595       11\n",
            "482        4\n",
            "Name: COMMUNITY_BOARD, Length: 69, dtype: int64\n",
            "=====\n",
            "American          53500\n",
            "Chinese           29459\n",
            "Pizza             17418\n",
            "Coffee/Tea        13943\n",
            "Latin American    12269\n",
            "                  ...  \n",
            "Czech                18\n",
            "Basque               10\n",
            "Lebanese             10\n",
            "New French            6\n",
            "Armenian              3\n",
            "Name: CUISINE_DESCRIPTION, Length: 87, dtype: int64\n",
            "=====\n",
            "Non-food contact surface improperly constructed. Unacceptable material used. Non-food contact surface or equipment improperly maintained and/or not properly sealed, raised, spaced or movable to allow accessibility for cleaning on all sides, above and underneath the unit.    49157\n",
            "Facility not vermin proof. Harborage or conditions conducive to attracting vermin to the premises and/or allowing vermin to exist.                                                                                                                                                 29954\n",
            "Evidence of mice or live mice present in facility's food and/or non-food areas.                                                                                                                                                                                                    19878\n",
            "Food contact surface not properly washed, rinsed and sanitized after each use and following any activity when contamination may have occurred.                                                                                                                                     18605\n",
            "Food not protected from potential source of contamination during storage, preparation, transportation, display or service.                                                                                                                                                         17695\n",
            "                                                                                                                                                                                                                                                                                   ...  \n",
            "Unprotected food re-served.                                                                                                                                                                                                                                                            1\n",
            "Food allergy poster does not contain text provided or approved by Department.                                                                                                                                                                                                          1\n",
            "Failure to post signage in organics collection areas                                                                                                                                                                                                                                   1\n",
            "Organics containers not provided                                                                                                                                                                                                                                                       1\n",
            "Dogs allowed sign not posted at  or near the entrance                                                                                                                                                                                                                                  1\n",
            "Name: VIOLATION_DESCRIPTION, Length: 102, dtype: int64\n",
            "=====\n",
            "10F     49072\n",
            "08A     29902\n",
            "04L     19844\n",
            "06D     18548\n",
            "06C     17633\n",
            "        ...  \n",
            "04I         1\n",
            "20C         1\n",
            "19A3        1\n",
            "19A1        1\n",
            "17A1        1\n",
            "Name: VIOLATION_CODE, Length: 103, dtype: int64\n",
            "=====\n",
            "MN17    16272\n",
            "MN23     8627\n",
            "MN13     8291\n",
            "MN24     7642\n",
            "MN27     6400\n",
            "        ...  \n",
            "SI25      109\n",
            "MN50       88\n",
            "SI48       66\n",
            "MN99       52\n",
            "SI08       51\n",
            "Name: NTA, Length: 193, dtype: int64\n",
            "=====\n"
          ]
        }
      ],
      "source": [
        "# Find the unique values in each column\n",
        "# \n",
        "# df.describe(include = [np.object, 'category']).T['unique']\n",
        "unique = df.describe(include = 'all').T['unique'].sort_values()\n",
        "\n",
        "for column in unique.index:\n",
        "    if unique[column] < 200:\n",
        "        print(df[column].value_counts())\n",
        "        print(\"=====\")"
      ]
    },
    {
      "cell_type": "code",
      "execution_count": null,
      "metadata": {
        "id": "75eLQgPV7hum"
      },
      "outputs": [],
      "source": [
        "df.dtypes"
      ]
    },
    {
      "cell_type": "markdown",
      "metadata": {
        "id": "TWzSy9MD7hun"
      },
      "source": [
        "## Deleting Entries"
      ]
    },
    {
      "cell_type": "markdown",
      "metadata": {
        "id": "PK9p5-0H7hun"
      },
      "source": [
        "In this section, we use the results of the analysis above, and delete (additional) entries that will not be useful in our analysis. (Note that it is important to document this, as others may want to go back to the original source, if the entries that we leave are not sufficient.)"
      ]
    },
    {
      "cell_type": "code",
      "execution_count": 96,
      "metadata": {
        "id": "6RuMD1ME7hun",
        "outputId": "f75ce14d-1c00-4d7b-a945-403fe9f158ac",
        "colab": {
          "base_uri": "https://localhost:8080/"
        }
      },
      "outputs": [
        {
          "output_type": "execute_result",
          "data": {
            "text/plain": [
              "288505"
            ]
          },
          "metadata": {},
          "execution_count": 96
        }
      ],
      "source": [
        "len(df)"
      ]
    },
    {
      "cell_type": "code",
      "execution_count": 97,
      "metadata": {
        "id": "y926HOop7hun"
      },
      "outputs": [],
      "source": [
        "assert len(df) == initial_size"
      ]
    },
    {
      "cell_type": "code",
      "execution_count": 98,
      "metadata": {
        "id": "h8PGHqOC7hun"
      },
      "outputs": [],
      "source": [
        "df = df[ df.TO_DELETE == False].copy()"
      ]
    },
    {
      "cell_type": "code",
      "execution_count": 99,
      "metadata": {
        "id": "kS-cLf-Z7hun",
        "outputId": "38dba04d-8e3c-449b-937a-4846061cbe5d",
        "colab": {
          "base_uri": "https://localhost:8080/"
        }
      },
      "outputs": [
        {
          "output_type": "execute_result",
          "data": {
            "text/plain": [
              "218118"
            ]
          },
          "metadata": {},
          "execution_count": 99
        }
      ],
      "source": [
        "len(df)"
      ]
    },
    {
      "cell_type": "code",
      "source": [
        ""
      ],
      "metadata": {
        "id": "AtUmMLIUjZJn",
        "outputId": "515b7630-f3af-4eff-eb63-02b1364e65e6",
        "colab": {
          "base_uri": "https://localhost:8080/"
        }
      },
      "execution_count": 105,
      "outputs": [
        {
          "output_type": "stream",
          "name": "stderr",
          "text": [
            "/usr/local/lib/python3.7/dist-packages/pandas/core/generic.py:5516: SettingWithCopyWarning: \n",
            "A value is trying to be set on a copy of a slice from a DataFrame.\n",
            "Try using .loc[row_indexer,col_indexer] = value instead\n",
            "\n",
            "See the caveats in the documentation: https://pandas.pydata.org/pandas-docs/stable/user_guide/indexing.html#returning-a-view-versus-a-copy\n",
            "  self[name] = value\n"
          ]
        }
      ]
    },
    {
      "cell_type": "code",
      "source": [
        "df[df.VIOLATION_CODE.isnull()].VIOLATION_DESCRIPTION"
      ],
      "metadata": {
        "id": "CXYAb1_LlYWK",
        "outputId": "190126eb-1446-4f28-868b-034c6af4f9c8",
        "colab": {
          "base_uri": "https://localhost:8080/"
        }
      },
      "execution_count": 106,
      "outputs": [
        {
          "output_type": "execute_result",
          "data": {
            "text/plain": [
              "229       Facility not vermin proof. Harborage or condit...\n",
              "415                                                     NaN\n",
              "2222             Hot food item not held at or above 140º F.\n",
              "2883      Cold food item held above 41º F (smoked fish a...\n",
              "3041      Food not protected from potential source of co...\n",
              "                                ...                        \n",
              "286545    Evidence of mice or live mice present in facil...\n",
              "286633                                                  NaN\n",
              "286721    Facility not vermin proof. Harborage or condit...\n",
              "288198                                                  NaN\n",
              "288390    Food contact surface not properly washed, rins...\n",
              "Name: VIOLATION_DESCRIPTION, Length: 861, dtype: object"
            ]
          },
          "metadata": {},
          "execution_count": 106
        }
      ]
    },
    {
      "cell_type": "code",
      "execution_count": null,
      "metadata": {
        "id": "wwnrlkFP7hun"
      },
      "outputs": [],
      "source": [
        "from pandas_profiling import ProfileReport\n",
        "profile = ProfileReport(df, title=\"Pandas Profiling Report\", explorative=True)"
      ]
    },
    {
      "cell_type": "code",
      "execution_count": null,
      "metadata": {
        "id": "H4dxEupA7huo"
      },
      "outputs": [],
      "source": [
        "profile"
      ]
    },
    {
      "cell_type": "markdown",
      "metadata": {
        "id": "PnUgthvI7huo"
      },
      "source": [
        "## Additional Data Quality Checks"
      ]
    },
    {
      "cell_type": "code",
      "execution_count": 496,
      "metadata": {
        "id": "3cyfDjZo7huo"
      },
      "outputs": [],
      "source": [
        "\n",
        "\n",
        "assert sum(df.INSPECTION_TYPE.isnull()) == 0\n",
        "\n",
        "assert len(set(df.INSPECTION_TYPE.values)) == 2\n",
        "\n",
        "df[\"INSPECTION_TYPE\"] =  pd.Categorical(df[\"INSPECTION_TYPE\"], ordered=False)"
      ]
    },
    {
      "cell_type": "code",
      "execution_count": 497,
      "metadata": {
        "id": "k157caf_7hup"
      },
      "outputs": [],
      "source": [
        "# Check that no borough entries are empty\n",
        "assert sum(df.BORO.isnull()) == 0\n",
        "\n",
        "df[\"BORO\"] =  pd.Categorical(df[\"BORO\"], ordered=False)"
      ]
    },
    {
      "cell_type": "code",
      "execution_count": 498,
      "metadata": {
        "id": "hLTycuLg7hup"
      },
      "outputs": [],
      "source": [
        "# Check that no street numbers are empty\n",
        "assert sum(df.BUILDING.isnull()) == 0"
      ]
    },
    {
      "cell_type": "code",
      "execution_count": 499,
      "metadata": {
        "id": "pZJS6udG7hup"
      },
      "outputs": [],
      "source": [
        "assert sum(df.STREET.isnull()) == 0"
      ]
    },
    {
      "cell_type": "code",
      "execution_count": 276,
      "metadata": {
        "id": "BpD6_PoQ7hup"
      },
      "outputs": [],
      "source": [
        "\n",
        "assert sum(df.CUISINE_DESCRIPTION.isnull()) == 0\n",
        "\n",
        "df[\"CUISINE_DESCRIPTION\"] =  pd.Categorical(df[\"CUISINE_DESCRIPTION\"], ordered=False)"
      ]
    },
    {
      "cell_type": "code",
      "execution_count": 277,
      "metadata": {
        "id": "Wv0nnqzP7hup"
      },
      "outputs": [],
      "source": [
        "# We only keep three different actions\n",
        "assert len(set(df.ACTION.values)) == 3\n",
        "\n",
        "# No action is empty\n",
        "assert sum(df.ACTION.isnull()) == 0\n",
        "\n",
        "df[\"ACTION\"] =  pd.Categorical(df[\"ACTION\"], ordered=False)"
      ]
    },
    {
      "cell_type": "code",
      "execution_count": null,
      "metadata": {
        "id": "Jpubdfl77huq"
      },
      "outputs": [],
      "source": [
        ""
      ]
    },
    {
      "cell_type": "code",
      "execution_count": null,
      "metadata": {
        "id": "DKjGwZzl7huq"
      },
      "outputs": [],
      "source": [
        ""
      ]
    },
    {
      "cell_type": "code",
      "execution_count": 500,
      "metadata": {
        "id": "JyXjlxFI7huq"
      },
      "outputs": [],
      "source": [
        "# The below drops any grade values other than A, B, C, and converts the remaining entries to null\n",
        "df[\"GRADE\"] =  pd.Categorical(df[\"GRADE\"], categories = ['A', 'B', 'C'], ordered=True)\n",
        "\n",
        "# https://www1.nyc.gov/assets/doh/downloads/pdf/rii/how-we-score-grade.pdf\n",
        "# 0-13 get an A\n",
        "assert sum( (df.GRADE=='A') & (df.SCORE>13)) == 0\n",
        "\n",
        "# 14-27 get a B\n",
        "assert sum( (df.GRADE=='B') & ( (df.SCORE<14) | (df.SCORE>27) ) ) == 0\n",
        "\n",
        "# 28- get a C\n",
        "assert sum( (df.GRADE=='C') & (df.SCORE<28) ) == 0\n",
        "\n",
        "# TODO: In principle, a NULL grade is only when the score is above 14, and it was an initial inspection"
      ]
    },
    {
      "cell_type": "code",
      "execution_count": 124,
      "metadata": {
        "id": "3v5M-vyM7huq"
      },
      "outputs": [],
      "source": [
        "# Check that is there is a grade date, a grade is also assigned\n",
        "# assert sum ( ~df.GRADE_DATE.isnull() & df.GRADE.isnull() ) == 0"
      ]
    },
    {
      "cell_type": "code",
      "execution_count": 502,
      "metadata": {
        "id": "Afj_mO1f7huq"
      },
      "outputs": [],
      "source": [
        "df[\"VIOLATION_CODE\"] =  pd.Categorical(df[\"VIOLATION_CODE\"], ordered=False)\n",
        "df[\"CRITICAL_FLAG\"] =  pd.Categorical(df[\"CRITICAL_FLAG\"], ordered=False)\n"
      ]
    },
    {
      "cell_type": "code",
      "execution_count": 507,
      "metadata": {
        "id": "lYT2MagN7huq",
        "outputId": "e05b6974-0326-4a83-cac7-eb0858b796ec",
        "colab": {
          "base_uri": "https://localhost:8080/"
        }
      },
      "outputs": [
        {
          "output_type": "execute_result",
          "data": {
            "text/plain": [
              "229       Facility not vermin proof. Harborage or condit...\n",
              "415                                                     NaN\n",
              "2222             Hot food item not held at or above 140º F.\n",
              "2883      Cold food item held above 41º F (smoked fish a...\n",
              "3041      Food not protected from potential source of co...\n",
              "                                ...                        \n",
              "286545    Evidence of mice or live mice present in facil...\n",
              "286633                                                  NaN\n",
              "286721    Facility not vermin proof. Harborage or condit...\n",
              "288198                                                  NaN\n",
              "288390    Food contact surface not properly washed, rins...\n",
              "Name: VIOLATION_DESCRIPTION, Length: 861, dtype: object"
            ]
          },
          "metadata": {},
          "execution_count": 507
        }
      ],
      "source": [
        "df [ df.VIOLATION_CODE.isnull() ].VIOLATION_DESCRIPTION"
      ]
    },
    {
      "cell_type": "markdown",
      "metadata": {
        "id": "oncdHcaK7huq"
      },
      "source": [
        "## Normalization"
      ]
    },
    {
      "cell_type": "markdown",
      "metadata": {
        "id": "6tcBS-Pl7hur"
      },
      "source": [
        "### Violation Codes"
      ]
    },
    {
      "cell_type": "code",
      "execution_count": 109,
      "metadata": {
        "id": "CkoPrSYw7hur",
        "outputId": "319cef2a-af52-4aa5-e1fb-a51113ad4bb2",
        "colab": {
          "base_uri": "https://localhost:8080/",
          "height": 455
        }
      },
      "outputs": [
        {
          "output_type": "execute_result",
          "data": {
            "text/plain": [
              "                                                      DESCRIPTION  \\\n",
              "VIOLATION_CODE                                                      \n",
              "02A              Food not cooked to required minimum temperature.   \n",
              "02B                    Hot food item not held at or above 140º F.   \n",
              "02C             Hot food item that has been cooked and refrige...   \n",
              "02D             Precooked potentially hazardous food from comm...   \n",
              "02E             Whole frozen poultry or poultry breasts, other...   \n",
              "...                                                           ...   \n",
              "10J                                     Hand wash sign not posted   \n",
              "17A1            Dogs allowed sign not posted at  or near the e...   \n",
              "19A1                             Organics containers not provided   \n",
              "22F                                       MISBRANDED AND LABELING   \n",
              "22G             Sale or use of certain expanded polystyrene it...   \n",
              "\n",
              "                    CRITICAL  \n",
              "VIOLATION_CODE                \n",
              "02A                 Critical  \n",
              "02B                 Critical  \n",
              "02C                 Critical  \n",
              "02D                 Critical  \n",
              "02E                 Critical  \n",
              "...                      ...  \n",
              "10J             Not Critical  \n",
              "17A1            Not Critical  \n",
              "19A1            Not Critical  \n",
              "22F             Not Critical  \n",
              "22G             Not Critical  \n",
              "\n",
              "[68 rows x 2 columns]"
            ],
            "text/html": [
              "\n",
              "  <div id=\"df-278f374d-e365-4f1b-8f0b-0c906ebc3864\">\n",
              "    <div class=\"colab-df-container\">\n",
              "      <div>\n",
              "<style scoped>\n",
              "    .dataframe tbody tr th:only-of-type {\n",
              "        vertical-align: middle;\n",
              "    }\n",
              "\n",
              "    .dataframe tbody tr th {\n",
              "        vertical-align: top;\n",
              "    }\n",
              "\n",
              "    .dataframe thead th {\n",
              "        text-align: right;\n",
              "    }\n",
              "</style>\n",
              "<table border=\"1\" class=\"dataframe\">\n",
              "  <thead>\n",
              "    <tr style=\"text-align: right;\">\n",
              "      <th></th>\n",
              "      <th>DESCRIPTION</th>\n",
              "      <th>CRITICAL</th>\n",
              "    </tr>\n",
              "    <tr>\n",
              "      <th>VIOLATION_CODE</th>\n",
              "      <th></th>\n",
              "      <th></th>\n",
              "    </tr>\n",
              "  </thead>\n",
              "  <tbody>\n",
              "    <tr>\n",
              "      <th>02A</th>\n",
              "      <td>Food not cooked to required minimum temperature.</td>\n",
              "      <td>Critical</td>\n",
              "    </tr>\n",
              "    <tr>\n",
              "      <th>02B</th>\n",
              "      <td>Hot food item not held at or above 140º F.</td>\n",
              "      <td>Critical</td>\n",
              "    </tr>\n",
              "    <tr>\n",
              "      <th>02C</th>\n",
              "      <td>Hot food item that has been cooked and refrige...</td>\n",
              "      <td>Critical</td>\n",
              "    </tr>\n",
              "    <tr>\n",
              "      <th>02D</th>\n",
              "      <td>Precooked potentially hazardous food from comm...</td>\n",
              "      <td>Critical</td>\n",
              "    </tr>\n",
              "    <tr>\n",
              "      <th>02E</th>\n",
              "      <td>Whole frozen poultry or poultry breasts, other...</td>\n",
              "      <td>Critical</td>\n",
              "    </tr>\n",
              "    <tr>\n",
              "      <th>...</th>\n",
              "      <td>...</td>\n",
              "      <td>...</td>\n",
              "    </tr>\n",
              "    <tr>\n",
              "      <th>10J</th>\n",
              "      <td>Hand wash sign not posted</td>\n",
              "      <td>Not Critical</td>\n",
              "    </tr>\n",
              "    <tr>\n",
              "      <th>17A1</th>\n",
              "      <td>Dogs allowed sign not posted at  or near the e...</td>\n",
              "      <td>Not Critical</td>\n",
              "    </tr>\n",
              "    <tr>\n",
              "      <th>19A1</th>\n",
              "      <td>Organics containers not provided</td>\n",
              "      <td>Not Critical</td>\n",
              "    </tr>\n",
              "    <tr>\n",
              "      <th>22F</th>\n",
              "      <td>MISBRANDED AND LABELING</td>\n",
              "      <td>Not Critical</td>\n",
              "    </tr>\n",
              "    <tr>\n",
              "      <th>22G</th>\n",
              "      <td>Sale or use of certain expanded polystyrene it...</td>\n",
              "      <td>Not Critical</td>\n",
              "    </tr>\n",
              "  </tbody>\n",
              "</table>\n",
              "<p>68 rows × 2 columns</p>\n",
              "</div>\n",
              "      <button class=\"colab-df-convert\" onclick=\"convertToInteractive('df-278f374d-e365-4f1b-8f0b-0c906ebc3864')\"\n",
              "              title=\"Convert this dataframe to an interactive table.\"\n",
              "              style=\"display:none;\">\n",
              "        \n",
              "  <svg xmlns=\"http://www.w3.org/2000/svg\" height=\"24px\"viewBox=\"0 0 24 24\"\n",
              "       width=\"24px\">\n",
              "    <path d=\"M0 0h24v24H0V0z\" fill=\"none\"/>\n",
              "    <path d=\"M18.56 5.44l.94 2.06.94-2.06 2.06-.94-2.06-.94-.94-2.06-.94 2.06-2.06.94zm-11 1L8.5 8.5l.94-2.06 2.06-.94-2.06-.94L8.5 2.5l-.94 2.06-2.06.94zm10 10l.94 2.06.94-2.06 2.06-.94-2.06-.94-.94-2.06-.94 2.06-2.06.94z\"/><path d=\"M17.41 7.96l-1.37-1.37c-.4-.4-.92-.59-1.43-.59-.52 0-1.04.2-1.43.59L10.3 9.45l-7.72 7.72c-.78.78-.78 2.05 0 2.83L4 21.41c.39.39.9.59 1.41.59.51 0 1.02-.2 1.41-.59l7.78-7.78 2.81-2.81c.8-.78.8-2.07 0-2.86zM5.41 20L4 18.59l7.72-7.72 1.47 1.35L5.41 20z\"/>\n",
              "  </svg>\n",
              "      </button>\n",
              "      \n",
              "  <style>\n",
              "    .colab-df-container {\n",
              "      display:flex;\n",
              "      flex-wrap:wrap;\n",
              "      gap: 12px;\n",
              "    }\n",
              "\n",
              "    .colab-df-convert {\n",
              "      background-color: #E8F0FE;\n",
              "      border: none;\n",
              "      border-radius: 50%;\n",
              "      cursor: pointer;\n",
              "      display: none;\n",
              "      fill: #1967D2;\n",
              "      height: 32px;\n",
              "      padding: 0 0 0 0;\n",
              "      width: 32px;\n",
              "    }\n",
              "\n",
              "    .colab-df-convert:hover {\n",
              "      background-color: #E2EBFA;\n",
              "      box-shadow: 0px 1px 2px rgba(60, 64, 67, 0.3), 0px 1px 3px 1px rgba(60, 64, 67, 0.15);\n",
              "      fill: #174EA6;\n",
              "    }\n",
              "\n",
              "    [theme=dark] .colab-df-convert {\n",
              "      background-color: #3B4455;\n",
              "      fill: #D2E3FC;\n",
              "    }\n",
              "\n",
              "    [theme=dark] .colab-df-convert:hover {\n",
              "      background-color: #434B5C;\n",
              "      box-shadow: 0px 1px 3px 1px rgba(0, 0, 0, 0.15);\n",
              "      filter: drop-shadow(0px 1px 2px rgba(0, 0, 0, 0.3));\n",
              "      fill: #FFFFFF;\n",
              "    }\n",
              "  </style>\n",
              "\n",
              "      <script>\n",
              "        const buttonEl =\n",
              "          document.querySelector('#df-278f374d-e365-4f1b-8f0b-0c906ebc3864 button.colab-df-convert');\n",
              "        buttonEl.style.display =\n",
              "          google.colab.kernel.accessAllowed ? 'block' : 'none';\n",
              "\n",
              "        async function convertToInteractive(key) {\n",
              "          const element = document.querySelector('#df-278f374d-e365-4f1b-8f0b-0c906ebc3864');\n",
              "          const dataTable =\n",
              "            await google.colab.kernel.invokeFunction('convertToInteractive',\n",
              "                                                     [key], {});\n",
              "          if (!dataTable) return;\n",
              "\n",
              "          const docLinkHtml = 'Like what you see? Visit the ' +\n",
              "            '<a target=\"_blank\" href=https://colab.research.google.com/notebooks/data_table.ipynb>data table notebook</a>'\n",
              "            + ' to learn more about interactive tables.';\n",
              "          element.innerHTML = '';\n",
              "          dataTable['output_type'] = 'display_data';\n",
              "          await google.colab.output.renderOutput(dataTable, element);\n",
              "          const docLink = document.createElement('div');\n",
              "          docLink.innerHTML = docLinkHtml;\n",
              "          element.appendChild(docLink);\n",
              "        }\n",
              "      </script>\n",
              "    </div>\n",
              "  </div>\n",
              "  "
            ]
          },
          "metadata": {},
          "execution_count": 109
        }
      ],
      "source": [
        "# Recreating the table at https://www1.nyc.gov/assets/doh/downloads/pdf/rii/ri-violation-penalty.pdf\n",
        "\n",
        "violation_codes = df [ ['VIOLATION_CODE', 'VIOLATION_DESCRIPTION', 'CRITICAL_FLAG'] ].drop_duplicates()\n",
        "violation_codes = violation_codes.rename( {\n",
        "    'VIOLATION_DESCRIPTION' : 'DESCRIPTION',\n",
        "    'CRITICAL_FLAG' : 'CRITICAL'\n",
        "},  axis = 'columns').sort_values('VIOLATION_CODE').dropna().set_index('VIOLATION_CODE')\n",
        "violation_codes"
      ]
    },
    {
      "cell_type": "code",
      "source": [
        "violation_codes"
      ],
      "metadata": {
        "id": "xTHIoM_eACk1",
        "outputId": "211b00c8-03a3-42a3-fb8a-8e09a5622da8",
        "colab": {
          "base_uri": "https://localhost:8080/",
          "height": 455
        }
      },
      "execution_count": 110,
      "outputs": [
        {
          "output_type": "execute_result",
          "data": {
            "text/plain": [
              "                                                      DESCRIPTION  \\\n",
              "VIOLATION_CODE                                                      \n",
              "02A              Food not cooked to required minimum temperature.   \n",
              "02B                    Hot food item not held at or above 140º F.   \n",
              "02C             Hot food item that has been cooked and refrige...   \n",
              "02D             Precooked potentially hazardous food from comm...   \n",
              "02E             Whole frozen poultry or poultry breasts, other...   \n",
              "...                                                           ...   \n",
              "10J                                     Hand wash sign not posted   \n",
              "17A1            Dogs allowed sign not posted at  or near the e...   \n",
              "19A1                             Organics containers not provided   \n",
              "22F                                       MISBRANDED AND LABELING   \n",
              "22G             Sale or use of certain expanded polystyrene it...   \n",
              "\n",
              "                    CRITICAL  \n",
              "VIOLATION_CODE                \n",
              "02A                 Critical  \n",
              "02B                 Critical  \n",
              "02C                 Critical  \n",
              "02D                 Critical  \n",
              "02E                 Critical  \n",
              "...                      ...  \n",
              "10J             Not Critical  \n",
              "17A1            Not Critical  \n",
              "19A1            Not Critical  \n",
              "22F             Not Critical  \n",
              "22G             Not Critical  \n",
              "\n",
              "[68 rows x 2 columns]"
            ],
            "text/html": [
              "\n",
              "  <div id=\"df-32c61d56-0a50-41ab-b656-11888483310d\">\n",
              "    <div class=\"colab-df-container\">\n",
              "      <div>\n",
              "<style scoped>\n",
              "    .dataframe tbody tr th:only-of-type {\n",
              "        vertical-align: middle;\n",
              "    }\n",
              "\n",
              "    .dataframe tbody tr th {\n",
              "        vertical-align: top;\n",
              "    }\n",
              "\n",
              "    .dataframe thead th {\n",
              "        text-align: right;\n",
              "    }\n",
              "</style>\n",
              "<table border=\"1\" class=\"dataframe\">\n",
              "  <thead>\n",
              "    <tr style=\"text-align: right;\">\n",
              "      <th></th>\n",
              "      <th>DESCRIPTION</th>\n",
              "      <th>CRITICAL</th>\n",
              "    </tr>\n",
              "    <tr>\n",
              "      <th>VIOLATION_CODE</th>\n",
              "      <th></th>\n",
              "      <th></th>\n",
              "    </tr>\n",
              "  </thead>\n",
              "  <tbody>\n",
              "    <tr>\n",
              "      <th>02A</th>\n",
              "      <td>Food not cooked to required minimum temperature.</td>\n",
              "      <td>Critical</td>\n",
              "    </tr>\n",
              "    <tr>\n",
              "      <th>02B</th>\n",
              "      <td>Hot food item not held at or above 140º F.</td>\n",
              "      <td>Critical</td>\n",
              "    </tr>\n",
              "    <tr>\n",
              "      <th>02C</th>\n",
              "      <td>Hot food item that has been cooked and refrige...</td>\n",
              "      <td>Critical</td>\n",
              "    </tr>\n",
              "    <tr>\n",
              "      <th>02D</th>\n",
              "      <td>Precooked potentially hazardous food from comm...</td>\n",
              "      <td>Critical</td>\n",
              "    </tr>\n",
              "    <tr>\n",
              "      <th>02E</th>\n",
              "      <td>Whole frozen poultry or poultry breasts, other...</td>\n",
              "      <td>Critical</td>\n",
              "    </tr>\n",
              "    <tr>\n",
              "      <th>...</th>\n",
              "      <td>...</td>\n",
              "      <td>...</td>\n",
              "    </tr>\n",
              "    <tr>\n",
              "      <th>10J</th>\n",
              "      <td>Hand wash sign not posted</td>\n",
              "      <td>Not Critical</td>\n",
              "    </tr>\n",
              "    <tr>\n",
              "      <th>17A1</th>\n",
              "      <td>Dogs allowed sign not posted at  or near the e...</td>\n",
              "      <td>Not Critical</td>\n",
              "    </tr>\n",
              "    <tr>\n",
              "      <th>19A1</th>\n",
              "      <td>Organics containers not provided</td>\n",
              "      <td>Not Critical</td>\n",
              "    </tr>\n",
              "    <tr>\n",
              "      <th>22F</th>\n",
              "      <td>MISBRANDED AND LABELING</td>\n",
              "      <td>Not Critical</td>\n",
              "    </tr>\n",
              "    <tr>\n",
              "      <th>22G</th>\n",
              "      <td>Sale or use of certain expanded polystyrene it...</td>\n",
              "      <td>Not Critical</td>\n",
              "    </tr>\n",
              "  </tbody>\n",
              "</table>\n",
              "<p>68 rows × 2 columns</p>\n",
              "</div>\n",
              "      <button class=\"colab-df-convert\" onclick=\"convertToInteractive('df-32c61d56-0a50-41ab-b656-11888483310d')\"\n",
              "              title=\"Convert this dataframe to an interactive table.\"\n",
              "              style=\"display:none;\">\n",
              "        \n",
              "  <svg xmlns=\"http://www.w3.org/2000/svg\" height=\"24px\"viewBox=\"0 0 24 24\"\n",
              "       width=\"24px\">\n",
              "    <path d=\"M0 0h24v24H0V0z\" fill=\"none\"/>\n",
              "    <path d=\"M18.56 5.44l.94 2.06.94-2.06 2.06-.94-2.06-.94-.94-2.06-.94 2.06-2.06.94zm-11 1L8.5 8.5l.94-2.06 2.06-.94-2.06-.94L8.5 2.5l-.94 2.06-2.06.94zm10 10l.94 2.06.94-2.06 2.06-.94-2.06-.94-.94-2.06-.94 2.06-2.06.94z\"/><path d=\"M17.41 7.96l-1.37-1.37c-.4-.4-.92-.59-1.43-.59-.52 0-1.04.2-1.43.59L10.3 9.45l-7.72 7.72c-.78.78-.78 2.05 0 2.83L4 21.41c.39.39.9.59 1.41.59.51 0 1.02-.2 1.41-.59l7.78-7.78 2.81-2.81c.8-.78.8-2.07 0-2.86zM5.41 20L4 18.59l7.72-7.72 1.47 1.35L5.41 20z\"/>\n",
              "  </svg>\n",
              "      </button>\n",
              "      \n",
              "  <style>\n",
              "    .colab-df-container {\n",
              "      display:flex;\n",
              "      flex-wrap:wrap;\n",
              "      gap: 12px;\n",
              "    }\n",
              "\n",
              "    .colab-df-convert {\n",
              "      background-color: #E8F0FE;\n",
              "      border: none;\n",
              "      border-radius: 50%;\n",
              "      cursor: pointer;\n",
              "      display: none;\n",
              "      fill: #1967D2;\n",
              "      height: 32px;\n",
              "      padding: 0 0 0 0;\n",
              "      width: 32px;\n",
              "    }\n",
              "\n",
              "    .colab-df-convert:hover {\n",
              "      background-color: #E2EBFA;\n",
              "      box-shadow: 0px 1px 2px rgba(60, 64, 67, 0.3), 0px 1px 3px 1px rgba(60, 64, 67, 0.15);\n",
              "      fill: #174EA6;\n",
              "    }\n",
              "\n",
              "    [theme=dark] .colab-df-convert {\n",
              "      background-color: #3B4455;\n",
              "      fill: #D2E3FC;\n",
              "    }\n",
              "\n",
              "    [theme=dark] .colab-df-convert:hover {\n",
              "      background-color: #434B5C;\n",
              "      box-shadow: 0px 1px 3px 1px rgba(0, 0, 0, 0.15);\n",
              "      filter: drop-shadow(0px 1px 2px rgba(0, 0, 0, 0.3));\n",
              "      fill: #FFFFFF;\n",
              "    }\n",
              "  </style>\n",
              "\n",
              "      <script>\n",
              "        const buttonEl =\n",
              "          document.querySelector('#df-32c61d56-0a50-41ab-b656-11888483310d button.colab-df-convert');\n",
              "        buttonEl.style.display =\n",
              "          google.colab.kernel.accessAllowed ? 'block' : 'none';\n",
              "\n",
              "        async function convertToInteractive(key) {\n",
              "          const element = document.querySelector('#df-32c61d56-0a50-41ab-b656-11888483310d');\n",
              "          const dataTable =\n",
              "            await google.colab.kernel.invokeFunction('convertToInteractive',\n",
              "                                                     [key], {});\n",
              "          if (!dataTable) return;\n",
              "\n",
              "          const docLinkHtml = 'Like what you see? Visit the ' +\n",
              "            '<a target=\"_blank\" href=https://colab.research.google.com/notebooks/data_table.ipynb>data table notebook</a>'\n",
              "            + ' to learn more about interactive tables.';\n",
              "          element.innerHTML = '';\n",
              "          dataTable['output_type'] = 'display_data';\n",
              "          await google.colab.output.renderOutput(dataTable, element);\n",
              "          const docLink = document.createElement('div');\n",
              "          docLink.innerHTML = docLinkHtml;\n",
              "          element.appendChild(docLink);\n",
              "        }\n",
              "      </script>\n",
              "    </div>\n",
              "  </div>\n",
              "  "
            ]
          },
          "metadata": {},
          "execution_count": 110
        }
      ]
    },
    {
      "cell_type": "code",
      "execution_count": 111,
      "metadata": {
        "id": "DQWMHrT87hur"
      },
      "outputs": [],
      "source": [
        "# Drop the description and critical part from the main dataframe\n",
        "df = df.drop(['VIOLATION_DESCRIPTION' ,  'CRITICAL_FLAG'], axis='columns')"
      ]
    },
    {
      "cell_type": "code",
      "execution_count": 112,
      "metadata": {
        "id": "JJ5_4rDn7hur",
        "outputId": "335b311f-b6bf-44bc-eb6c-5fb7a44ecb1e",
        "colab": {
          "base_uri": "https://localhost:8080/",
          "height": 783
        }
      },
      "outputs": [
        {
          "output_type": "execute_result",
          "data": {
            "text/plain": [
              "           CAMIS                              DBA       BORO BUILDING  \\\n",
              "2       41090082       THE POUR HOUSE OF BAYRIDGE   Brooklyn     7901   \n",
              "3       41374597                           DUNKIN     Queens     3015   \n",
              "4       50043786   CIENEGA LAS TLAYUDAS DE OAXACA     Queens    10432   \n",
              "5       50063273  MAD DOG & BEANS MEXICAN CANTINA  Manhattan        5   \n",
              "6       41142196                             UKUS     Queens     4208   \n",
              "...          ...                              ...        ...      ...   \n",
              "288499  50007157                        BAR PRIMI  Manhattan      325   \n",
              "288500  50017748  HOME CHEF INTERNATIONAL FLAVORS     Queens    23114   \n",
              "288501  50008239        NEW YORK YANKEES MVP CLUB      Bronx        1   \n",
              "288502  50038787                       TWO SAINTS   Brooklyn      753   \n",
              "288504  41158614               GOLDEN STAR GARDEN      Bronx     1384   \n",
              "\n",
              "                   STREET ZIPCODE       PHONE CUISINE_DESCRIPTION  \\\n",
              "2                3 AVENUE   11209  7184916658            American   \n",
              "3         STRATTON STREET   11354  7183210567              Donuts   \n",
              "4              CORONA AVE   11368  3473532366             Mexican   \n",
              "5        EAST   38 STREET   10016  6469985722             Mexican   \n",
              "6               30 AVENUE   11103  7182678587    Eastern European   \n",
              "...                   ...     ...         ...                 ...   \n",
              "288499             BOWERY   10003  6464427860             Italian   \n",
              "288500       MERRICK BLVD   11413  7187495745           Caribbean   \n",
              "288501   EAST  161 STREET   10451  6469778510            American   \n",
              "288502    NOSTRAND AVENUE   11216  3476278444            American   \n",
              "288504  EAST GUNHILL ROAD   10469  7185479699             Chinese   \n",
              "\n",
              "       INSPECTION_DATE            ACTION  ...     INSPECTION_TYPE  \\\n",
              "2           2021-08-10  Violations found  ...       Re-inspection   \n",
              "3           2019-08-29  Violations found  ...       Re-inspection   \n",
              "4           2019-09-06  Violations found  ...       Re-inspection   \n",
              "5           2018-12-03  Violations found  ...  Initial Inspection   \n",
              "6           2022-02-15  Violations found  ...  Initial Inspection   \n",
              "...                ...               ...  ...                 ...   \n",
              "288499      2019-06-19  Violations found  ...  Initial Inspection   \n",
              "288500      2019-10-15  Violations found  ...  Initial Inspection   \n",
              "288501      2018-08-16  Violations found  ...  Initial Inspection   \n",
              "288502      2022-05-06  Violations found  ...  Initial Inspection   \n",
              "288504      2022-03-03  Violations found  ...       Re-inspection   \n",
              "\n",
              "               LATITUDE         LONGITUDE COMMUNITY_BOARD COUNCIL_DISTRICT  \\\n",
              "2       40.628445914396  -74.029011556766             310               43   \n",
              "3       40.769752205055  -73.834744279195             407               20   \n",
              "4       40.743938291242  -73.857713941371             404               21   \n",
              "5        40.75073882625  -73.982199344364             105               04   \n",
              "6       40.763047847319  -73.913236374905             401               22   \n",
              "...                 ...               ...             ...              ...   \n",
              "288499   40.72574885656  -73.992012202805             103               02   \n",
              "288500  40.675623464484  -73.739038257589             413               31   \n",
              "288501  40.829028434834  -73.928496459645             204               16   \n",
              "288502  40.671496193998  -73.950335128033             308               35   \n",
              "288504    40.8700877211  -73.845540005798             211               12   \n",
              "\n",
              "       CENSUS_TRACT      BIN         BBL   NTA TO_DELETE  \n",
              "2            006400  3150849  3059790011  BK31     False  \n",
              "3            086900  4100747  4043690001  QN22     False  \n",
              "4            043900  4537585  4019357501  QN25     False  \n",
              "5            008200  1017227  1008680008  MN20     False  \n",
              "6            014900  4011927  4006960037  QN70     False  \n",
              "...             ...      ...         ...   ...       ...  \n",
              "288499       003602  1079109  1004580001  MN22     False  \n",
              "288500       063200  4282638  4131580035  QN66     False  \n",
              "288501       006300  2114490  2024930001  BX63     False  \n",
              "288502       031702  3032273  3012550004  BK61     False  \n",
              "288504       035000  2055372  2045640075  BX31     False  \n",
              "\n",
              "[218118 rows x 23 columns]"
            ],
            "text/html": [
              "\n",
              "  <div id=\"df-56f7018f-851b-44ec-ada9-abee01d710d2\">\n",
              "    <div class=\"colab-df-container\">\n",
              "      <div>\n",
              "<style scoped>\n",
              "    .dataframe tbody tr th:only-of-type {\n",
              "        vertical-align: middle;\n",
              "    }\n",
              "\n",
              "    .dataframe tbody tr th {\n",
              "        vertical-align: top;\n",
              "    }\n",
              "\n",
              "    .dataframe thead th {\n",
              "        text-align: right;\n",
              "    }\n",
              "</style>\n",
              "<table border=\"1\" class=\"dataframe\">\n",
              "  <thead>\n",
              "    <tr style=\"text-align: right;\">\n",
              "      <th></th>\n",
              "      <th>CAMIS</th>\n",
              "      <th>DBA</th>\n",
              "      <th>BORO</th>\n",
              "      <th>BUILDING</th>\n",
              "      <th>STREET</th>\n",
              "      <th>ZIPCODE</th>\n",
              "      <th>PHONE</th>\n",
              "      <th>CUISINE_DESCRIPTION</th>\n",
              "      <th>INSPECTION_DATE</th>\n",
              "      <th>ACTION</th>\n",
              "      <th>...</th>\n",
              "      <th>INSPECTION_TYPE</th>\n",
              "      <th>LATITUDE</th>\n",
              "      <th>LONGITUDE</th>\n",
              "      <th>COMMUNITY_BOARD</th>\n",
              "      <th>COUNCIL_DISTRICT</th>\n",
              "      <th>CENSUS_TRACT</th>\n",
              "      <th>BIN</th>\n",
              "      <th>BBL</th>\n",
              "      <th>NTA</th>\n",
              "      <th>TO_DELETE</th>\n",
              "    </tr>\n",
              "  </thead>\n",
              "  <tbody>\n",
              "    <tr>\n",
              "      <th>2</th>\n",
              "      <td>41090082</td>\n",
              "      <td>THE POUR HOUSE OF BAYRIDGE</td>\n",
              "      <td>Brooklyn</td>\n",
              "      <td>7901</td>\n",
              "      <td>3 AVENUE</td>\n",
              "      <td>11209</td>\n",
              "      <td>7184916658</td>\n",
              "      <td>American</td>\n",
              "      <td>2021-08-10</td>\n",
              "      <td>Violations found</td>\n",
              "      <td>...</td>\n",
              "      <td>Re-inspection</td>\n",
              "      <td>40.628445914396</td>\n",
              "      <td>-74.029011556766</td>\n",
              "      <td>310</td>\n",
              "      <td>43</td>\n",
              "      <td>006400</td>\n",
              "      <td>3150849</td>\n",
              "      <td>3059790011</td>\n",
              "      <td>BK31</td>\n",
              "      <td>False</td>\n",
              "    </tr>\n",
              "    <tr>\n",
              "      <th>3</th>\n",
              "      <td>41374597</td>\n",
              "      <td>DUNKIN</td>\n",
              "      <td>Queens</td>\n",
              "      <td>3015</td>\n",
              "      <td>STRATTON STREET</td>\n",
              "      <td>11354</td>\n",
              "      <td>7183210567</td>\n",
              "      <td>Donuts</td>\n",
              "      <td>2019-08-29</td>\n",
              "      <td>Violations found</td>\n",
              "      <td>...</td>\n",
              "      <td>Re-inspection</td>\n",
              "      <td>40.769752205055</td>\n",
              "      <td>-73.834744279195</td>\n",
              "      <td>407</td>\n",
              "      <td>20</td>\n",
              "      <td>086900</td>\n",
              "      <td>4100747</td>\n",
              "      <td>4043690001</td>\n",
              "      <td>QN22</td>\n",
              "      <td>False</td>\n",
              "    </tr>\n",
              "    <tr>\n",
              "      <th>4</th>\n",
              "      <td>50043786</td>\n",
              "      <td>CIENEGA LAS TLAYUDAS DE OAXACA</td>\n",
              "      <td>Queens</td>\n",
              "      <td>10432</td>\n",
              "      <td>CORONA AVE</td>\n",
              "      <td>11368</td>\n",
              "      <td>3473532366</td>\n",
              "      <td>Mexican</td>\n",
              "      <td>2019-09-06</td>\n",
              "      <td>Violations found</td>\n",
              "      <td>...</td>\n",
              "      <td>Re-inspection</td>\n",
              "      <td>40.743938291242</td>\n",
              "      <td>-73.857713941371</td>\n",
              "      <td>404</td>\n",
              "      <td>21</td>\n",
              "      <td>043900</td>\n",
              "      <td>4537585</td>\n",
              "      <td>4019357501</td>\n",
              "      <td>QN25</td>\n",
              "      <td>False</td>\n",
              "    </tr>\n",
              "    <tr>\n",
              "      <th>5</th>\n",
              "      <td>50063273</td>\n",
              "      <td>MAD DOG &amp; BEANS MEXICAN CANTINA</td>\n",
              "      <td>Manhattan</td>\n",
              "      <td>5</td>\n",
              "      <td>EAST   38 STREET</td>\n",
              "      <td>10016</td>\n",
              "      <td>6469985722</td>\n",
              "      <td>Mexican</td>\n",
              "      <td>2018-12-03</td>\n",
              "      <td>Violations found</td>\n",
              "      <td>...</td>\n",
              "      <td>Initial Inspection</td>\n",
              "      <td>40.75073882625</td>\n",
              "      <td>-73.982199344364</td>\n",
              "      <td>105</td>\n",
              "      <td>04</td>\n",
              "      <td>008200</td>\n",
              "      <td>1017227</td>\n",
              "      <td>1008680008</td>\n",
              "      <td>MN20</td>\n",
              "      <td>False</td>\n",
              "    </tr>\n",
              "    <tr>\n",
              "      <th>6</th>\n",
              "      <td>41142196</td>\n",
              "      <td>UKUS</td>\n",
              "      <td>Queens</td>\n",
              "      <td>4208</td>\n",
              "      <td>30 AVENUE</td>\n",
              "      <td>11103</td>\n",
              "      <td>7182678587</td>\n",
              "      <td>Eastern European</td>\n",
              "      <td>2022-02-15</td>\n",
              "      <td>Violations found</td>\n",
              "      <td>...</td>\n",
              "      <td>Initial Inspection</td>\n",
              "      <td>40.763047847319</td>\n",
              "      <td>-73.913236374905</td>\n",
              "      <td>401</td>\n",
              "      <td>22</td>\n",
              "      <td>014900</td>\n",
              "      <td>4011927</td>\n",
              "      <td>4006960037</td>\n",
              "      <td>QN70</td>\n",
              "      <td>False</td>\n",
              "    </tr>\n",
              "    <tr>\n",
              "      <th>...</th>\n",
              "      <td>...</td>\n",
              "      <td>...</td>\n",
              "      <td>...</td>\n",
              "      <td>...</td>\n",
              "      <td>...</td>\n",
              "      <td>...</td>\n",
              "      <td>...</td>\n",
              "      <td>...</td>\n",
              "      <td>...</td>\n",
              "      <td>...</td>\n",
              "      <td>...</td>\n",
              "      <td>...</td>\n",
              "      <td>...</td>\n",
              "      <td>...</td>\n",
              "      <td>...</td>\n",
              "      <td>...</td>\n",
              "      <td>...</td>\n",
              "      <td>...</td>\n",
              "      <td>...</td>\n",
              "      <td>...</td>\n",
              "      <td>...</td>\n",
              "    </tr>\n",
              "    <tr>\n",
              "      <th>288499</th>\n",
              "      <td>50007157</td>\n",
              "      <td>BAR PRIMI</td>\n",
              "      <td>Manhattan</td>\n",
              "      <td>325</td>\n",
              "      <td>BOWERY</td>\n",
              "      <td>10003</td>\n",
              "      <td>6464427860</td>\n",
              "      <td>Italian</td>\n",
              "      <td>2019-06-19</td>\n",
              "      <td>Violations found</td>\n",
              "      <td>...</td>\n",
              "      <td>Initial Inspection</td>\n",
              "      <td>40.72574885656</td>\n",
              "      <td>-73.992012202805</td>\n",
              "      <td>103</td>\n",
              "      <td>02</td>\n",
              "      <td>003602</td>\n",
              "      <td>1079109</td>\n",
              "      <td>1004580001</td>\n",
              "      <td>MN22</td>\n",
              "      <td>False</td>\n",
              "    </tr>\n",
              "    <tr>\n",
              "      <th>288500</th>\n",
              "      <td>50017748</td>\n",
              "      <td>HOME CHEF INTERNATIONAL FLAVORS</td>\n",
              "      <td>Queens</td>\n",
              "      <td>23114</td>\n",
              "      <td>MERRICK BLVD</td>\n",
              "      <td>11413</td>\n",
              "      <td>7187495745</td>\n",
              "      <td>Caribbean</td>\n",
              "      <td>2019-10-15</td>\n",
              "      <td>Violations found</td>\n",
              "      <td>...</td>\n",
              "      <td>Initial Inspection</td>\n",
              "      <td>40.675623464484</td>\n",
              "      <td>-73.739038257589</td>\n",
              "      <td>413</td>\n",
              "      <td>31</td>\n",
              "      <td>063200</td>\n",
              "      <td>4282638</td>\n",
              "      <td>4131580035</td>\n",
              "      <td>QN66</td>\n",
              "      <td>False</td>\n",
              "    </tr>\n",
              "    <tr>\n",
              "      <th>288501</th>\n",
              "      <td>50008239</td>\n",
              "      <td>NEW YORK YANKEES MVP CLUB</td>\n",
              "      <td>Bronx</td>\n",
              "      <td>1</td>\n",
              "      <td>EAST  161 STREET</td>\n",
              "      <td>10451</td>\n",
              "      <td>6469778510</td>\n",
              "      <td>American</td>\n",
              "      <td>2018-08-16</td>\n",
              "      <td>Violations found</td>\n",
              "      <td>...</td>\n",
              "      <td>Initial Inspection</td>\n",
              "      <td>40.829028434834</td>\n",
              "      <td>-73.928496459645</td>\n",
              "      <td>204</td>\n",
              "      <td>16</td>\n",
              "      <td>006300</td>\n",
              "      <td>2114490</td>\n",
              "      <td>2024930001</td>\n",
              "      <td>BX63</td>\n",
              "      <td>False</td>\n",
              "    </tr>\n",
              "    <tr>\n",
              "      <th>288502</th>\n",
              "      <td>50038787</td>\n",
              "      <td>TWO SAINTS</td>\n",
              "      <td>Brooklyn</td>\n",
              "      <td>753</td>\n",
              "      <td>NOSTRAND AVENUE</td>\n",
              "      <td>11216</td>\n",
              "      <td>3476278444</td>\n",
              "      <td>American</td>\n",
              "      <td>2022-05-06</td>\n",
              "      <td>Violations found</td>\n",
              "      <td>...</td>\n",
              "      <td>Initial Inspection</td>\n",
              "      <td>40.671496193998</td>\n",
              "      <td>-73.950335128033</td>\n",
              "      <td>308</td>\n",
              "      <td>35</td>\n",
              "      <td>031702</td>\n",
              "      <td>3032273</td>\n",
              "      <td>3012550004</td>\n",
              "      <td>BK61</td>\n",
              "      <td>False</td>\n",
              "    </tr>\n",
              "    <tr>\n",
              "      <th>288504</th>\n",
              "      <td>41158614</td>\n",
              "      <td>GOLDEN STAR GARDEN</td>\n",
              "      <td>Bronx</td>\n",
              "      <td>1384</td>\n",
              "      <td>EAST GUNHILL ROAD</td>\n",
              "      <td>10469</td>\n",
              "      <td>7185479699</td>\n",
              "      <td>Chinese</td>\n",
              "      <td>2022-03-03</td>\n",
              "      <td>Violations found</td>\n",
              "      <td>...</td>\n",
              "      <td>Re-inspection</td>\n",
              "      <td>40.8700877211</td>\n",
              "      <td>-73.845540005798</td>\n",
              "      <td>211</td>\n",
              "      <td>12</td>\n",
              "      <td>035000</td>\n",
              "      <td>2055372</td>\n",
              "      <td>2045640075</td>\n",
              "      <td>BX31</td>\n",
              "      <td>False</td>\n",
              "    </tr>\n",
              "  </tbody>\n",
              "</table>\n",
              "<p>218118 rows × 23 columns</p>\n",
              "</div>\n",
              "      <button class=\"colab-df-convert\" onclick=\"convertToInteractive('df-56f7018f-851b-44ec-ada9-abee01d710d2')\"\n",
              "              title=\"Convert this dataframe to an interactive table.\"\n",
              "              style=\"display:none;\">\n",
              "        \n",
              "  <svg xmlns=\"http://www.w3.org/2000/svg\" height=\"24px\"viewBox=\"0 0 24 24\"\n",
              "       width=\"24px\">\n",
              "    <path d=\"M0 0h24v24H0V0z\" fill=\"none\"/>\n",
              "    <path d=\"M18.56 5.44l.94 2.06.94-2.06 2.06-.94-2.06-.94-.94-2.06-.94 2.06-2.06.94zm-11 1L8.5 8.5l.94-2.06 2.06-.94-2.06-.94L8.5 2.5l-.94 2.06-2.06.94zm10 10l.94 2.06.94-2.06 2.06-.94-2.06-.94-.94-2.06-.94 2.06-2.06.94z\"/><path d=\"M17.41 7.96l-1.37-1.37c-.4-.4-.92-.59-1.43-.59-.52 0-1.04.2-1.43.59L10.3 9.45l-7.72 7.72c-.78.78-.78 2.05 0 2.83L4 21.41c.39.39.9.59 1.41.59.51 0 1.02-.2 1.41-.59l7.78-7.78 2.81-2.81c.8-.78.8-2.07 0-2.86zM5.41 20L4 18.59l7.72-7.72 1.47 1.35L5.41 20z\"/>\n",
              "  </svg>\n",
              "      </button>\n",
              "      \n",
              "  <style>\n",
              "    .colab-df-container {\n",
              "      display:flex;\n",
              "      flex-wrap:wrap;\n",
              "      gap: 12px;\n",
              "    }\n",
              "\n",
              "    .colab-df-convert {\n",
              "      background-color: #E8F0FE;\n",
              "      border: none;\n",
              "      border-radius: 50%;\n",
              "      cursor: pointer;\n",
              "      display: none;\n",
              "      fill: #1967D2;\n",
              "      height: 32px;\n",
              "      padding: 0 0 0 0;\n",
              "      width: 32px;\n",
              "    }\n",
              "\n",
              "    .colab-df-convert:hover {\n",
              "      background-color: #E2EBFA;\n",
              "      box-shadow: 0px 1px 2px rgba(60, 64, 67, 0.3), 0px 1px 3px 1px rgba(60, 64, 67, 0.15);\n",
              "      fill: #174EA6;\n",
              "    }\n",
              "\n",
              "    [theme=dark] .colab-df-convert {\n",
              "      background-color: #3B4455;\n",
              "      fill: #D2E3FC;\n",
              "    }\n",
              "\n",
              "    [theme=dark] .colab-df-convert:hover {\n",
              "      background-color: #434B5C;\n",
              "      box-shadow: 0px 1px 3px 1px rgba(0, 0, 0, 0.15);\n",
              "      filter: drop-shadow(0px 1px 2px rgba(0, 0, 0, 0.3));\n",
              "      fill: #FFFFFF;\n",
              "    }\n",
              "  </style>\n",
              "\n",
              "      <script>\n",
              "        const buttonEl =\n",
              "          document.querySelector('#df-56f7018f-851b-44ec-ada9-abee01d710d2 button.colab-df-convert');\n",
              "        buttonEl.style.display =\n",
              "          google.colab.kernel.accessAllowed ? 'block' : 'none';\n",
              "\n",
              "        async function convertToInteractive(key) {\n",
              "          const element = document.querySelector('#df-56f7018f-851b-44ec-ada9-abee01d710d2');\n",
              "          const dataTable =\n",
              "            await google.colab.kernel.invokeFunction('convertToInteractive',\n",
              "                                                     [key], {});\n",
              "          if (!dataTable) return;\n",
              "\n",
              "          const docLinkHtml = 'Like what you see? Visit the ' +\n",
              "            '<a target=\"_blank\" href=https://colab.research.google.com/notebooks/data_table.ipynb>data table notebook</a>'\n",
              "            + ' to learn more about interactive tables.';\n",
              "          element.innerHTML = '';\n",
              "          dataTable['output_type'] = 'display_data';\n",
              "          await google.colab.output.renderOutput(dataTable, element);\n",
              "          const docLink = document.createElement('div');\n",
              "          docLink.innerHTML = docLinkHtml;\n",
              "          element.appendChild(docLink);\n",
              "        }\n",
              "      </script>\n",
              "    </div>\n",
              "  </div>\n",
              "  "
            ]
          },
          "metadata": {},
          "execution_count": 112
        }
      ],
      "source": [
        "df"
      ]
    },
    {
      "cell_type": "markdown",
      "metadata": {
        "id": "MrUI18e37hur"
      },
      "source": [
        "### Restaurants"
      ]
    },
    {
      "cell_type": "code",
      "source": [
        "df.columns.values"
      ],
      "metadata": {
        "id": "lKw4wp4T-D67",
        "outputId": "3d165b6a-ebba-4e72-b625-943006db7251",
        "colab": {
          "base_uri": "https://localhost:8080/"
        }
      },
      "execution_count": 113,
      "outputs": [
        {
          "output_type": "execute_result",
          "data": {
            "text/plain": [
              "array(['CAMIS', 'DBA', 'BORO', 'BUILDING', 'STREET', 'ZIPCODE', 'PHONE',\n",
              "       'CUISINE_DESCRIPTION', 'INSPECTION_DATE', 'ACTION',\n",
              "       'VIOLATION_CODE', 'SCORE', 'GRADE', 'INSPECTION_TYPE', 'LATITUDE',\n",
              "       'LONGITUDE', 'COMMUNITY_BOARD', 'COUNCIL_DISTRICT', 'CENSUS_TRACT',\n",
              "       'BIN', 'BBL', 'NTA', 'TO_DELETE'], dtype=object)"
            ]
          },
          "metadata": {},
          "execution_count": 113
        }
      ]
    },
    {
      "cell_type": "code",
      "execution_count": 114,
      "metadata": {
        "id": "ikNiszYg7hur"
      },
      "outputs": [],
      "source": [
        "columns = ['CAMIS', 'DBA', 'BUILDING', 'STREET', 'ZIPCODE', 'BORO', 'PHONE', \n",
        "           'CUISINE_DESCRIPTION', 'LATITUDE', 'LONGITUDE',\n",
        "       'COMMUNITY_BOARD', 'COUNCIL_DISTRICT', 'CENSUS_TRACT', 'BIN',\n",
        "       'BBL', 'NTA']\n",
        "restaurants =  df [ columns ].drop_duplicates()"
      ]
    },
    {
      "cell_type": "code",
      "execution_count": 115,
      "metadata": {
        "id": "cvc0BJm77hur"
      },
      "outputs": [],
      "source": [
        "# Check that we have the same attributes for a given CAMIS\n",
        "# and the we do not have duplicate CAMIS values\n",
        "assert len(restaurants) == len(set(restaurants.CAMIS.values))"
      ]
    },
    {
      "cell_type": "code",
      "execution_count": 288,
      "metadata": {
        "id": "rlfKBA8c7hur",
        "outputId": "2154577f-cbaa-45cd-e84f-b5ae27c53b79",
        "colab": {
          "base_uri": "https://localhost:8080/",
          "height": 354
        }
      },
      "outputs": [
        {
          "output_type": "execute_result",
          "data": {
            "text/plain": [
              "      CAMIS                              DBA BUILDING            STREET  \\\n",
              "2  41090082       THE POUR HOUSE OF BAYRIDGE     7901          3 AVENUE   \n",
              "3  41374597                           DUNKIN     3015   STRATTON STREET   \n",
              "4  50043786   CIENEGA LAS TLAYUDAS DE OAXACA    10432        CORONA AVE   \n",
              "5  50063273  MAD DOG & BEANS MEXICAN CANTINA        5  EAST   38 STREET   \n",
              "6  41142196                             UKUS     4208         30 AVENUE   \n",
              "\n",
              "  ZIPCODE       BORO       PHONE CUISINE_DESCRIPTION   LATITUDE  LONGITUDE  \\\n",
              "2   11209   Brooklyn  7184916658            American  40.628446 -74.029012   \n",
              "3   11354     Queens  7183210567              Donuts  40.769752 -73.834744   \n",
              "4   11368     Queens  3473532366             Mexican  40.743938 -73.857714   \n",
              "5   10016  Manhattan  6469985722             Mexican  40.750739 -73.982199   \n",
              "6   11103     Queens  7182678587    Eastern European  40.763048 -73.913236   \n",
              "\n",
              "  COMMUNITY_BOARD COUNCIL_DISTRICT CENSUS_TRACT      BIN         BBL   NTA  \n",
              "2             310               43       006400  3150849  3059790011  BK31  \n",
              "3             407               20       086900  4100747  4043690001  QN22  \n",
              "4             404               21       043900  4537585  4019357501  QN25  \n",
              "5             105               04       008200  1017227  1008680008  MN20  \n",
              "6             401               22       014900  4011927  4006960037  QN70  "
            ],
            "text/html": [
              "\n",
              "  <div id=\"df-96e38295-2267-4af6-9080-13c3a4cfbe6a\">\n",
              "    <div class=\"colab-df-container\">\n",
              "      <div>\n",
              "<style scoped>\n",
              "    .dataframe tbody tr th:only-of-type {\n",
              "        vertical-align: middle;\n",
              "    }\n",
              "\n",
              "    .dataframe tbody tr th {\n",
              "        vertical-align: top;\n",
              "    }\n",
              "\n",
              "    .dataframe thead th {\n",
              "        text-align: right;\n",
              "    }\n",
              "</style>\n",
              "<table border=\"1\" class=\"dataframe\">\n",
              "  <thead>\n",
              "    <tr style=\"text-align: right;\">\n",
              "      <th></th>\n",
              "      <th>CAMIS</th>\n",
              "      <th>DBA</th>\n",
              "      <th>BUILDING</th>\n",
              "      <th>STREET</th>\n",
              "      <th>ZIPCODE</th>\n",
              "      <th>BORO</th>\n",
              "      <th>PHONE</th>\n",
              "      <th>CUISINE_DESCRIPTION</th>\n",
              "      <th>LATITUDE</th>\n",
              "      <th>LONGITUDE</th>\n",
              "      <th>COMMUNITY_BOARD</th>\n",
              "      <th>COUNCIL_DISTRICT</th>\n",
              "      <th>CENSUS_TRACT</th>\n",
              "      <th>BIN</th>\n",
              "      <th>BBL</th>\n",
              "      <th>NTA</th>\n",
              "    </tr>\n",
              "  </thead>\n",
              "  <tbody>\n",
              "    <tr>\n",
              "      <th>2</th>\n",
              "      <td>41090082</td>\n",
              "      <td>THE POUR HOUSE OF BAYRIDGE</td>\n",
              "      <td>7901</td>\n",
              "      <td>3 AVENUE</td>\n",
              "      <td>11209</td>\n",
              "      <td>Brooklyn</td>\n",
              "      <td>7184916658</td>\n",
              "      <td>American</td>\n",
              "      <td>40.628446</td>\n",
              "      <td>-74.029012</td>\n",
              "      <td>310</td>\n",
              "      <td>43</td>\n",
              "      <td>006400</td>\n",
              "      <td>3150849</td>\n",
              "      <td>3059790011</td>\n",
              "      <td>BK31</td>\n",
              "    </tr>\n",
              "    <tr>\n",
              "      <th>3</th>\n",
              "      <td>41374597</td>\n",
              "      <td>DUNKIN</td>\n",
              "      <td>3015</td>\n",
              "      <td>STRATTON STREET</td>\n",
              "      <td>11354</td>\n",
              "      <td>Queens</td>\n",
              "      <td>7183210567</td>\n",
              "      <td>Donuts</td>\n",
              "      <td>40.769752</td>\n",
              "      <td>-73.834744</td>\n",
              "      <td>407</td>\n",
              "      <td>20</td>\n",
              "      <td>086900</td>\n",
              "      <td>4100747</td>\n",
              "      <td>4043690001</td>\n",
              "      <td>QN22</td>\n",
              "    </tr>\n",
              "    <tr>\n",
              "      <th>4</th>\n",
              "      <td>50043786</td>\n",
              "      <td>CIENEGA LAS TLAYUDAS DE OAXACA</td>\n",
              "      <td>10432</td>\n",
              "      <td>CORONA AVE</td>\n",
              "      <td>11368</td>\n",
              "      <td>Queens</td>\n",
              "      <td>3473532366</td>\n",
              "      <td>Mexican</td>\n",
              "      <td>40.743938</td>\n",
              "      <td>-73.857714</td>\n",
              "      <td>404</td>\n",
              "      <td>21</td>\n",
              "      <td>043900</td>\n",
              "      <td>4537585</td>\n",
              "      <td>4019357501</td>\n",
              "      <td>QN25</td>\n",
              "    </tr>\n",
              "    <tr>\n",
              "      <th>5</th>\n",
              "      <td>50063273</td>\n",
              "      <td>MAD DOG &amp; BEANS MEXICAN CANTINA</td>\n",
              "      <td>5</td>\n",
              "      <td>EAST   38 STREET</td>\n",
              "      <td>10016</td>\n",
              "      <td>Manhattan</td>\n",
              "      <td>6469985722</td>\n",
              "      <td>Mexican</td>\n",
              "      <td>40.750739</td>\n",
              "      <td>-73.982199</td>\n",
              "      <td>105</td>\n",
              "      <td>04</td>\n",
              "      <td>008200</td>\n",
              "      <td>1017227</td>\n",
              "      <td>1008680008</td>\n",
              "      <td>MN20</td>\n",
              "    </tr>\n",
              "    <tr>\n",
              "      <th>6</th>\n",
              "      <td>41142196</td>\n",
              "      <td>UKUS</td>\n",
              "      <td>4208</td>\n",
              "      <td>30 AVENUE</td>\n",
              "      <td>11103</td>\n",
              "      <td>Queens</td>\n",
              "      <td>7182678587</td>\n",
              "      <td>Eastern European</td>\n",
              "      <td>40.763048</td>\n",
              "      <td>-73.913236</td>\n",
              "      <td>401</td>\n",
              "      <td>22</td>\n",
              "      <td>014900</td>\n",
              "      <td>4011927</td>\n",
              "      <td>4006960037</td>\n",
              "      <td>QN70</td>\n",
              "    </tr>\n",
              "  </tbody>\n",
              "</table>\n",
              "</div>\n",
              "      <button class=\"colab-df-convert\" onclick=\"convertToInteractive('df-96e38295-2267-4af6-9080-13c3a4cfbe6a')\"\n",
              "              title=\"Convert this dataframe to an interactive table.\"\n",
              "              style=\"display:none;\">\n",
              "        \n",
              "  <svg xmlns=\"http://www.w3.org/2000/svg\" height=\"24px\"viewBox=\"0 0 24 24\"\n",
              "       width=\"24px\">\n",
              "    <path d=\"M0 0h24v24H0V0z\" fill=\"none\"/>\n",
              "    <path d=\"M18.56 5.44l.94 2.06.94-2.06 2.06-.94-2.06-.94-.94-2.06-.94 2.06-2.06.94zm-11 1L8.5 8.5l.94-2.06 2.06-.94-2.06-.94L8.5 2.5l-.94 2.06-2.06.94zm10 10l.94 2.06.94-2.06 2.06-.94-2.06-.94-.94-2.06-.94 2.06-2.06.94z\"/><path d=\"M17.41 7.96l-1.37-1.37c-.4-.4-.92-.59-1.43-.59-.52 0-1.04.2-1.43.59L10.3 9.45l-7.72 7.72c-.78.78-.78 2.05 0 2.83L4 21.41c.39.39.9.59 1.41.59.51 0 1.02-.2 1.41-.59l7.78-7.78 2.81-2.81c.8-.78.8-2.07 0-2.86zM5.41 20L4 18.59l7.72-7.72 1.47 1.35L5.41 20z\"/>\n",
              "  </svg>\n",
              "      </button>\n",
              "      \n",
              "  <style>\n",
              "    .colab-df-container {\n",
              "      display:flex;\n",
              "      flex-wrap:wrap;\n",
              "      gap: 12px;\n",
              "    }\n",
              "\n",
              "    .colab-df-convert {\n",
              "      background-color: #E8F0FE;\n",
              "      border: none;\n",
              "      border-radius: 50%;\n",
              "      cursor: pointer;\n",
              "      display: none;\n",
              "      fill: #1967D2;\n",
              "      height: 32px;\n",
              "      padding: 0 0 0 0;\n",
              "      width: 32px;\n",
              "    }\n",
              "\n",
              "    .colab-df-convert:hover {\n",
              "      background-color: #E2EBFA;\n",
              "      box-shadow: 0px 1px 2px rgba(60, 64, 67, 0.3), 0px 1px 3px 1px rgba(60, 64, 67, 0.15);\n",
              "      fill: #174EA6;\n",
              "    }\n",
              "\n",
              "    [theme=dark] .colab-df-convert {\n",
              "      background-color: #3B4455;\n",
              "      fill: #D2E3FC;\n",
              "    }\n",
              "\n",
              "    [theme=dark] .colab-df-convert:hover {\n",
              "      background-color: #434B5C;\n",
              "      box-shadow: 0px 1px 3px 1px rgba(0, 0, 0, 0.15);\n",
              "      filter: drop-shadow(0px 1px 2px rgba(0, 0, 0, 0.3));\n",
              "      fill: #FFFFFF;\n",
              "    }\n",
              "  </style>\n",
              "\n",
              "      <script>\n",
              "        const buttonEl =\n",
              "          document.querySelector('#df-96e38295-2267-4af6-9080-13c3a4cfbe6a button.colab-df-convert');\n",
              "        buttonEl.style.display =\n",
              "          google.colab.kernel.accessAllowed ? 'block' : 'none';\n",
              "\n",
              "        async function convertToInteractive(key) {\n",
              "          const element = document.querySelector('#df-96e38295-2267-4af6-9080-13c3a4cfbe6a');\n",
              "          const dataTable =\n",
              "            await google.colab.kernel.invokeFunction('convertToInteractive',\n",
              "                                                     [key], {});\n",
              "          if (!dataTable) return;\n",
              "\n",
              "          const docLinkHtml = 'Like what you see? Visit the ' +\n",
              "            '<a target=\"_blank\" href=https://colab.research.google.com/notebooks/data_table.ipynb>data table notebook</a>'\n",
              "            + ' to learn more about interactive tables.';\n",
              "          element.innerHTML = '';\n",
              "          dataTable['output_type'] = 'display_data';\n",
              "          await google.colab.output.renderOutput(dataTable, element);\n",
              "          const docLink = document.createElement('div');\n",
              "          docLink.innerHTML = docLinkHtml;\n",
              "          element.appendChild(docLink);\n",
              "        }\n",
              "      </script>\n",
              "    </div>\n",
              "  </div>\n",
              "  "
            ]
          },
          "metadata": {},
          "execution_count": 288
        }
      ],
      "source": [
        "restaurants.head(5)"
      ]
    },
    {
      "cell_type": "code",
      "execution_count": 116,
      "metadata": {
        "id": "BGPNYPFe7hus",
        "outputId": "07da9994-69df-4033-d4a4-5261c2a7d2b7",
        "colab": {
          "base_uri": "https://localhost:8080/"
        }
      },
      "outputs": [
        {
          "output_type": "execute_result",
          "data": {
            "text/plain": [
              "2124656273    43\n",
              "9176186310    33\n",
              "9172843260    29\n",
              "2126159700    19\n",
              "7182153308    15\n",
              "2125867610    15\n",
              "2125825472    14\n",
              "__________    14\n",
              "2124656302    14\n",
              "7186566210    13\n",
              "9178863304     8\n",
              "7182246030     8\n",
              "7187011630     8\n",
              "2125325003     8\n",
              "9175665727     7\n",
              "5166038816     7\n",
              "2129818588     7\n",
              "6465881074     7\n",
              "2123959280     7\n",
              "2123544624     7\n",
              "Name: PHONE, dtype: int64"
            ]
          },
          "metadata": {},
          "execution_count": 116
        }
      ],
      "source": [
        "restaurants.PHONE.value_counts().head(20)"
      ]
    },
    {
      "cell_type": "code",
      "execution_count": null,
      "metadata": {
        "id": "yp58wsk27hus"
      },
      "outputs": [],
      "source": [
        "# __ = restaurants.PHONE.value_counts().head(10).index.values[7]"
      ]
    },
    {
      "cell_type": "code",
      "execution_count": null,
      "metadata": {
        "id": "sBCfrsTJ7hus"
      },
      "outputs": [],
      "source": [
        "# restaurants.PHONE.replace(to_replace=__, value=np.nan, inplace=True)"
      ]
    },
    {
      "cell_type": "code",
      "execution_count": null,
      "metadata": {
        "id": "Q3l3iVRd7hus"
      },
      "outputs": [],
      "source": [
        "# Citi Field concessions\n",
        "# restaurants.query(\"PHONE == '7185958100'\").head(5)"
      ]
    },
    {
      "cell_type": "code",
      "execution_count": null,
      "metadata": {
        "scrolled": true,
        "id": "srWH0cyp7hus"
      },
      "outputs": [],
      "source": [
        "# Madison Square Garden concession stands\n",
        "# restaurants.query(\"PHONE == '2124656273'\").head(5)"
      ]
    },
    {
      "cell_type": "code",
      "execution_count": 155,
      "metadata": {
        "id": "q-5ciQBH7hus",
        "outputId": "7f337394-2407-496e-c5cf-2b3c3ff68588",
        "colab": {
          "base_uri": "https://localhost:8080/",
          "height": 894
        }
      },
      "outputs": [
        {
          "output_type": "execute_result",
          "data": {
            "text/plain": [
              "<matplotlib.axes._subplots.AxesSubplot at 0x7fb978de0f90>"
            ]
          },
          "metadata": {},
          "execution_count": 155
        },
        {
          "output_type": "display_data",
          "data": {
            "text/plain": [
              "<Figure size 1080x1080 with 1 Axes>"
            ],
            "image/png": "[encoded data removed]"
          },
          "metadata": {
            "image/png": {
              "width": 900,
              "height": 859
            },
            "needs_background": "light"
          }
        }
      ],
      "source": [
        "# restaurants.plot(kind='scatter', x='LONGITUDE', y='LATITUDE', alpha=0.2, s=1, figsize=(15,15))"
      ]
    },
    {
      "cell_type": "code",
      "execution_count": 117,
      "metadata": {
        "id": "TKSsNwyB7hus"
      },
      "outputs": [],
      "source": [
        "df = df.drop (columns[1:], axis='columns')"
      ]
    },
    {
      "cell_type": "code",
      "source": [
        "df"
      ],
      "metadata": {
        "id": "49tmzz00-yBZ",
        "outputId": "9a100ebf-f0ff-45e7-fa96-d7f4eace7c99",
        "colab": {
          "base_uri": "https://localhost:8080/",
          "height": 423
        }
      },
      "execution_count": 118,
      "outputs": [
        {
          "output_type": "execute_result",
          "data": {
            "text/plain": [
              "           CAMIS INSPECTION_DATE            ACTION VIOLATION_CODE  SCORE  \\\n",
              "2       41090082      2021-08-10  Violations found            04N   11.0   \n",
              "3       41374597      2019-08-29  Violations found            02G    7.0   \n",
              "4       50043786      2019-09-06  Violations found            02H   12.0   \n",
              "5       50063273      2018-12-03  Violations found            08A    9.0   \n",
              "6       41142196      2022-02-15  Violations found            08A   21.0   \n",
              "...          ...             ...               ...            ...    ...   \n",
              "288499  50007157      2019-06-19  Violations found            04H   25.0   \n",
              "288500  50017748      2019-10-15  Violations found            02G   27.0   \n",
              "288501  50008239      2018-08-16  Violations found            02B   13.0   \n",
              "288502  50038787      2022-05-06  Violations found            08A   18.0   \n",
              "288504  41158614      2022-03-03  Violations found            06A    5.0   \n",
              "\n",
              "       GRADE     INSPECTION_TYPE  TO_DELETE  \n",
              "2          A       Re-inspection      False  \n",
              "3          A       Re-inspection      False  \n",
              "4          A       Re-inspection      False  \n",
              "5          A  Initial Inspection      False  \n",
              "6        NaN  Initial Inspection      False  \n",
              "...      ...                 ...        ...  \n",
              "288499   NaN  Initial Inspection      False  \n",
              "288500   NaN  Initial Inspection      False  \n",
              "288501     A  Initial Inspection      False  \n",
              "288502   NaN  Initial Inspection      False  \n",
              "288504     A       Re-inspection      False  \n",
              "\n",
              "[218118 rows x 8 columns]"
            ],
            "text/html": [
              "\n",
              "  <div id=\"df-ad9c4e7e-cc73-44c2-acaa-0e743a1781e0\">\n",
              "    <div class=\"colab-df-container\">\n",
              "      <div>\n",
              "<style scoped>\n",
              "    .dataframe tbody tr th:only-of-type {\n",
              "        vertical-align: middle;\n",
              "    }\n",
              "\n",
              "    .dataframe tbody tr th {\n",
              "        vertical-align: top;\n",
              "    }\n",
              "\n",
              "    .dataframe thead th {\n",
              "        text-align: right;\n",
              "    }\n",
              "</style>\n",
              "<table border=\"1\" class=\"dataframe\">\n",
              "  <thead>\n",
              "    <tr style=\"text-align: right;\">\n",
              "      <th></th>\n",
              "      <th>CAMIS</th>\n",
              "      <th>INSPECTION_DATE</th>\n",
              "      <th>ACTION</th>\n",
              "      <th>VIOLATION_CODE</th>\n",
              "      <th>SCORE</th>\n",
              "      <th>GRADE</th>\n",
              "      <th>INSPECTION_TYPE</th>\n",
              "      <th>TO_DELETE</th>\n",
              "    </tr>\n",
              "  </thead>\n",
              "  <tbody>\n",
              "    <tr>\n",
              "      <th>2</th>\n",
              "      <td>41090082</td>\n",
              "      <td>2021-08-10</td>\n",
              "      <td>Violations found</td>\n",
              "      <td>04N</td>\n",
              "      <td>11.0</td>\n",
              "      <td>A</td>\n",
              "      <td>Re-inspection</td>\n",
              "      <td>False</td>\n",
              "    </tr>\n",
              "    <tr>\n",
              "      <th>3</th>\n",
              "      <td>41374597</td>\n",
              "      <td>2019-08-29</td>\n",
              "      <td>Violations found</td>\n",
              "      <td>02G</td>\n",
              "      <td>7.0</td>\n",
              "      <td>A</td>\n",
              "      <td>Re-inspection</td>\n",
              "      <td>False</td>\n",
              "    </tr>\n",
              "    <tr>\n",
              "      <th>4</th>\n",
              "      <td>50043786</td>\n",
              "      <td>2019-09-06</td>\n",
              "      <td>Violations found</td>\n",
              "      <td>02H</td>\n",
              "      <td>12.0</td>\n",
              "      <td>A</td>\n",
              "      <td>Re-inspection</td>\n",
              "      <td>False</td>\n",
              "    </tr>\n",
              "    <tr>\n",
              "      <th>5</th>\n",
              "      <td>50063273</td>\n",
              "      <td>2018-12-03</td>\n",
              "      <td>Violations found</td>\n",
              "      <td>08A</td>\n",
              "      <td>9.0</td>\n",
              "      <td>A</td>\n",
              "      <td>Initial Inspection</td>\n",
              "      <td>False</td>\n",
              "    </tr>\n",
              "    <tr>\n",
              "      <th>6</th>\n",
              "      <td>41142196</td>\n",
              "      <td>2022-02-15</td>\n",
              "      <td>Violations found</td>\n",
              "      <td>08A</td>\n",
              "      <td>21.0</td>\n",
              "      <td>NaN</td>\n",
              "      <td>Initial Inspection</td>\n",
              "      <td>False</td>\n",
              "    </tr>\n",
              "    <tr>\n",
              "      <th>...</th>\n",
              "      <td>...</td>\n",
              "      <td>...</td>\n",
              "      <td>...</td>\n",
              "      <td>...</td>\n",
              "      <td>...</td>\n",
              "      <td>...</td>\n",
              "      <td>...</td>\n",
              "      <td>...</td>\n",
              "    </tr>\n",
              "    <tr>\n",
              "      <th>288499</th>\n",
              "      <td>50007157</td>\n",
              "      <td>2019-06-19</td>\n",
              "      <td>Violations found</td>\n",
              "      <td>04H</td>\n",
              "      <td>25.0</td>\n",
              "      <td>NaN</td>\n",
              "      <td>Initial Inspection</td>\n",
              "      <td>False</td>\n",
              "    </tr>\n",
              "    <tr>\n",
              "      <th>288500</th>\n",
              "      <td>50017748</td>\n",
              "      <td>2019-10-15</td>\n",
              "      <td>Violations found</td>\n",
              "      <td>02G</td>\n",
              "      <td>27.0</td>\n",
              "      <td>NaN</td>\n",
              "      <td>Initial Inspection</td>\n",
              "      <td>False</td>\n",
              "    </tr>\n",
              "    <tr>\n",
              "      <th>288501</th>\n",
              "      <td>50008239</td>\n",
              "      <td>2018-08-16</td>\n",
              "      <td>Violations found</td>\n",
              "      <td>02B</td>\n",
              "      <td>13.0</td>\n",
              "      <td>A</td>\n",
              "      <td>Initial Inspection</td>\n",
              "      <td>False</td>\n",
              "    </tr>\n",
              "    <tr>\n",
              "      <th>288502</th>\n",
              "      <td>50038787</td>\n",
              "      <td>2022-05-06</td>\n",
              "      <td>Violations found</td>\n",
              "      <td>08A</td>\n",
              "      <td>18.0</td>\n",
              "      <td>NaN</td>\n",
              "      <td>Initial Inspection</td>\n",
              "      <td>False</td>\n",
              "    </tr>\n",
              "    <tr>\n",
              "      <th>288504</th>\n",
              "      <td>41158614</td>\n",
              "      <td>2022-03-03</td>\n",
              "      <td>Violations found</td>\n",
              "      <td>06A</td>\n",
              "      <td>5.0</td>\n",
              "      <td>A</td>\n",
              "      <td>Re-inspection</td>\n",
              "      <td>False</td>\n",
              "    </tr>\n",
              "  </tbody>\n",
              "</table>\n",
              "<p>218118 rows × 8 columns</p>\n",
              "</div>\n",
              "      <button class=\"colab-df-convert\" onclick=\"convertToInteractive('df-ad9c4e7e-cc73-44c2-acaa-0e743a1781e0')\"\n",
              "              title=\"Convert this dataframe to an interactive table.\"\n",
              "              style=\"display:none;\">\n",
              "        \n",
              "  <svg xmlns=\"http://www.w3.org/2000/svg\" height=\"24px\"viewBox=\"0 0 24 24\"\n",
              "       width=\"24px\">\n",
              "    <path d=\"M0 0h24v24H0V0z\" fill=\"none\"/>\n",
              "    <path d=\"M18.56 5.44l.94 2.06.94-2.06 2.06-.94-2.06-.94-.94-2.06-.94 2.06-2.06.94zm-11 1L8.5 8.5l.94-2.06 2.06-.94-2.06-.94L8.5 2.5l-.94 2.06-2.06.94zm10 10l.94 2.06.94-2.06 2.06-.94-2.06-.94-.94-2.06-.94 2.06-2.06.94z\"/><path d=\"M17.41 7.96l-1.37-1.37c-.4-.4-.92-.59-1.43-.59-.52 0-1.04.2-1.43.59L10.3 9.45l-7.72 7.72c-.78.78-.78 2.05 0 2.83L4 21.41c.39.39.9.59 1.41.59.51 0 1.02-.2 1.41-.59l7.78-7.78 2.81-2.81c.8-.78.8-2.07 0-2.86zM5.41 20L4 18.59l7.72-7.72 1.47 1.35L5.41 20z\"/>\n",
              "  </svg>\n",
              "      </button>\n",
              "      \n",
              "  <style>\n",
              "    .colab-df-container {\n",
              "      display:flex;\n",
              "      flex-wrap:wrap;\n",
              "      gap: 12px;\n",
              "    }\n",
              "\n",
              "    .colab-df-convert {\n",
              "      background-color: #E8F0FE;\n",
              "      border: none;\n",
              "      border-radius: 50%;\n",
              "      cursor: pointer;\n",
              "      display: none;\n",
              "      fill: #1967D2;\n",
              "      height: 32px;\n",
              "      padding: 0 0 0 0;\n",
              "      width: 32px;\n",
              "    }\n",
              "\n",
              "    .colab-df-convert:hover {\n",
              "      background-color: #E2EBFA;\n",
              "      box-shadow: 0px 1px 2px rgba(60, 64, 67, 0.3), 0px 1px 3px 1px rgba(60, 64, 67, 0.15);\n",
              "      fill: #174EA6;\n",
              "    }\n",
              "\n",
              "    [theme=dark] .colab-df-convert {\n",
              "      background-color: #3B4455;\n",
              "      fill: #D2E3FC;\n",
              "    }\n",
              "\n",
              "    [theme=dark] .colab-df-convert:hover {\n",
              "      background-color: #434B5C;\n",
              "      box-shadow: 0px 1px 3px 1px rgba(0, 0, 0, 0.15);\n",
              "      filter: drop-shadow(0px 1px 2px rgba(0, 0, 0, 0.3));\n",
              "      fill: #FFFFFF;\n",
              "    }\n",
              "  </style>\n",
              "\n",
              "      <script>\n",
              "        const buttonEl =\n",
              "          document.querySelector('#df-ad9c4e7e-cc73-44c2-acaa-0e743a1781e0 button.colab-df-convert');\n",
              "        buttonEl.style.display =\n",
              "          google.colab.kernel.accessAllowed ? 'block' : 'none';\n",
              "\n",
              "        async function convertToInteractive(key) {\n",
              "          const element = document.querySelector('#df-ad9c4e7e-cc73-44c2-acaa-0e743a1781e0');\n",
              "          const dataTable =\n",
              "            await google.colab.kernel.invokeFunction('convertToInteractive',\n",
              "                                                     [key], {});\n",
              "          if (!dataTable) return;\n",
              "\n",
              "          const docLinkHtml = 'Like what you see? Visit the ' +\n",
              "            '<a target=\"_blank\" href=https://colab.research.google.com/notebooks/data_table.ipynb>data table notebook</a>'\n",
              "            + ' to learn more about interactive tables.';\n",
              "          element.innerHTML = '';\n",
              "          dataTable['output_type'] = 'display_data';\n",
              "          await google.colab.output.renderOutput(dataTable, element);\n",
              "          const docLink = document.createElement('div');\n",
              "          docLink.innerHTML = docLinkHtml;\n",
              "          element.appendChild(docLink);\n",
              "        }\n",
              "      </script>\n",
              "    </div>\n",
              "  </div>\n",
              "  "
            ]
          },
          "metadata": {},
          "execution_count": 118
        }
      ]
    },
    {
      "cell_type": "markdown",
      "metadata": {
        "id": "_dW28Hgj7hut"
      },
      "source": [
        "### Inspections"
      ]
    },
    {
      "cell_type": "code",
      "execution_count": 119,
      "metadata": {
        "id": "z5SDo-BW7hut"
      },
      "outputs": [],
      "source": [
        "# Each inspection has multiple violations. We want to keep just the inspections for now\n",
        "inspection = df.drop('VIOLATION_CODE', axis='columns').drop_duplicates().sort_values(['INSPECTION_DATE', 'CAMIS'])"
      ]
    },
    {
      "cell_type": "code",
      "source": [
        "inspection"
      ],
      "metadata": {
        "id": "Sh2iuGKX_wkz",
        "outputId": "cb3cf6e3-e05e-4914-f899-5bf6c334c5a1",
        "colab": {
          "base_uri": "https://localhost:8080/",
          "height": 423
        }
      },
      "execution_count": 120,
      "outputs": [
        {
          "output_type": "execute_result",
          "data": {
            "text/plain": [
              "           CAMIS INSPECTION_DATE                ACTION  SCORE GRADE  \\\n",
              "50934   41030982      2015-04-03      Violations found   34.0   NaN   \n",
              "42729   41030982      2015-05-14      Violations found    9.0     A   \n",
              "49699   50000233      2015-07-29      Violations found   11.0     A   \n",
              "93480   41412172      2015-10-03      Violations found   10.0     A   \n",
              "11154   40944945      2015-10-14      Violations found    5.0     A   \n",
              "...          ...             ...                   ...    ...   ...   \n",
              "13646   50096064      2022-05-20      Violations found   23.0   NaN   \n",
              "43241   50098171      2022-05-20      Violations found   10.0     A   \n",
              "67194   50100241      2022-05-20  Establishment closed   13.0   NaN   \n",
              "52323   50100302      2022-05-20      Violations found   54.0   NaN   \n",
              "257726  50113369      2022-05-20      Violations found   12.0     A   \n",
              "\n",
              "           INSPECTION_TYPE  TO_DELETE  \n",
              "50934   Initial Inspection      False  \n",
              "42729        Re-inspection      False  \n",
              "49699        Re-inspection      False  \n",
              "93480   Initial Inspection      False  \n",
              "11154        Re-inspection      False  \n",
              "...                    ...        ...  \n",
              "13646   Initial Inspection      False  \n",
              "43241   Initial Inspection      False  \n",
              "67194   Initial Inspection      False  \n",
              "52323   Initial Inspection      False  \n",
              "257726  Initial Inspection      False  \n",
              "\n",
              "[68079 rows x 7 columns]"
            ],
            "text/html": [
              "\n",
              "  <div id=\"df-86febb92-79b1-4655-a7f3-cd2b466227b2\">\n",
              "    <div class=\"colab-df-container\">\n",
              "      <div>\n",
              "<style scoped>\n",
              "    .dataframe tbody tr th:only-of-type {\n",
              "        vertical-align: middle;\n",
              "    }\n",
              "\n",
              "    .dataframe tbody tr th {\n",
              "        vertical-align: top;\n",
              "    }\n",
              "\n",
              "    .dataframe thead th {\n",
              "        text-align: right;\n",
              "    }\n",
              "</style>\n",
              "<table border=\"1\" class=\"dataframe\">\n",
              "  <thead>\n",
              "    <tr style=\"text-align: right;\">\n",
              "      <th></th>\n",
              "      <th>CAMIS</th>\n",
              "      <th>INSPECTION_DATE</th>\n",
              "      <th>ACTION</th>\n",
              "      <th>SCORE</th>\n",
              "      <th>GRADE</th>\n",
              "      <th>INSPECTION_TYPE</th>\n",
              "      <th>TO_DELETE</th>\n",
              "    </tr>\n",
              "  </thead>\n",
              "  <tbody>\n",
              "    <tr>\n",
              "      <th>50934</th>\n",
              "      <td>41030982</td>\n",
              "      <td>2015-04-03</td>\n",
              "      <td>Violations found</td>\n",
              "      <td>34.0</td>\n",
              "      <td>NaN</td>\n",
              "      <td>Initial Inspection</td>\n",
              "      <td>False</td>\n",
              "    </tr>\n",
              "    <tr>\n",
              "      <th>42729</th>\n",
              "      <td>41030982</td>\n",
              "      <td>2015-05-14</td>\n",
              "      <td>Violations found</td>\n",
              "      <td>9.0</td>\n",
              "      <td>A</td>\n",
              "      <td>Re-inspection</td>\n",
              "      <td>False</td>\n",
              "    </tr>\n",
              "    <tr>\n",
              "      <th>49699</th>\n",
              "      <td>50000233</td>\n",
              "      <td>2015-07-29</td>\n",
              "      <td>Violations found</td>\n",
              "      <td>11.0</td>\n",
              "      <td>A</td>\n",
              "      <td>Re-inspection</td>\n",
              "      <td>False</td>\n",
              "    </tr>\n",
              "    <tr>\n",
              "      <th>93480</th>\n",
              "      <td>41412172</td>\n",
              "      <td>2015-10-03</td>\n",
              "      <td>Violations found</td>\n",
              "      <td>10.0</td>\n",
              "      <td>A</td>\n",
              "      <td>Initial Inspection</td>\n",
              "      <td>False</td>\n",
              "    </tr>\n",
              "    <tr>\n",
              "      <th>11154</th>\n",
              "      <td>40944945</td>\n",
              "      <td>2015-10-14</td>\n",
              "      <td>Violations found</td>\n",
              "      <td>5.0</td>\n",
              "      <td>A</td>\n",
              "      <td>Re-inspection</td>\n",
              "      <td>False</td>\n",
              "    </tr>\n",
              "    <tr>\n",
              "      <th>...</th>\n",
              "      <td>...</td>\n",
              "      <td>...</td>\n",
              "      <td>...</td>\n",
              "      <td>...</td>\n",
              "      <td>...</td>\n",
              "      <td>...</td>\n",
              "      <td>...</td>\n",
              "    </tr>\n",
              "    <tr>\n",
              "      <th>13646</th>\n",
              "      <td>50096064</td>\n",
              "      <td>2022-05-20</td>\n",
              "      <td>Violations found</td>\n",
              "      <td>23.0</td>\n",
              "      <td>NaN</td>\n",
              "      <td>Initial Inspection</td>\n",
              "      <td>False</td>\n",
              "    </tr>\n",
              "    <tr>\n",
              "      <th>43241</th>\n",
              "      <td>50098171</td>\n",
              "      <td>2022-05-20</td>\n",
              "      <td>Violations found</td>\n",
              "      <td>10.0</td>\n",
              "      <td>A</td>\n",
              "      <td>Initial Inspection</td>\n",
              "      <td>False</td>\n",
              "    </tr>\n",
              "    <tr>\n",
              "      <th>67194</th>\n",
              "      <td>50100241</td>\n",
              "      <td>2022-05-20</td>\n",
              "      <td>Establishment closed</td>\n",
              "      <td>13.0</td>\n",
              "      <td>NaN</td>\n",
              "      <td>Initial Inspection</td>\n",
              "      <td>False</td>\n",
              "    </tr>\n",
              "    <tr>\n",
              "      <th>52323</th>\n",
              "      <td>50100302</td>\n",
              "      <td>2022-05-20</td>\n",
              "      <td>Violations found</td>\n",
              "      <td>54.0</td>\n",
              "      <td>NaN</td>\n",
              "      <td>Initial Inspection</td>\n",
              "      <td>False</td>\n",
              "    </tr>\n",
              "    <tr>\n",
              "      <th>257726</th>\n",
              "      <td>50113369</td>\n",
              "      <td>2022-05-20</td>\n",
              "      <td>Violations found</td>\n",
              "      <td>12.0</td>\n",
              "      <td>A</td>\n",
              "      <td>Initial Inspection</td>\n",
              "      <td>False</td>\n",
              "    </tr>\n",
              "  </tbody>\n",
              "</table>\n",
              "<p>68079 rows × 7 columns</p>\n",
              "</div>\n",
              "      <button class=\"colab-df-convert\" onclick=\"convertToInteractive('df-86febb92-79b1-4655-a7f3-cd2b466227b2')\"\n",
              "              title=\"Convert this dataframe to an interactive table.\"\n",
              "              style=\"display:none;\">\n",
              "        \n",
              "  <svg xmlns=\"http://www.w3.org/2000/svg\" height=\"24px\"viewBox=\"0 0 24 24\"\n",
              "       width=\"24px\">\n",
              "    <path d=\"M0 0h24v24H0V0z\" fill=\"none\"/>\n",
              "    <path d=\"M18.56 5.44l.94 2.06.94-2.06 2.06-.94-2.06-.94-.94-2.06-.94 2.06-2.06.94zm-11 1L8.5 8.5l.94-2.06 2.06-.94-2.06-.94L8.5 2.5l-.94 2.06-2.06.94zm10 10l.94 2.06.94-2.06 2.06-.94-2.06-.94-.94-2.06-.94 2.06-2.06.94z\"/><path d=\"M17.41 7.96l-1.37-1.37c-.4-.4-.92-.59-1.43-.59-.52 0-1.04.2-1.43.59L10.3 9.45l-7.72 7.72c-.78.78-.78 2.05 0 2.83L4 21.41c.39.39.9.59 1.41.59.51 0 1.02-.2 1.41-.59l7.78-7.78 2.81-2.81c.8-.78.8-2.07 0-2.86zM5.41 20L4 18.59l7.72-7.72 1.47 1.35L5.41 20z\"/>\n",
              "  </svg>\n",
              "      </button>\n",
              "      \n",
              "  <style>\n",
              "    .colab-df-container {\n",
              "      display:flex;\n",
              "      flex-wrap:wrap;\n",
              "      gap: 12px;\n",
              "    }\n",
              "\n",
              "    .colab-df-convert {\n",
              "      background-color: #E8F0FE;\n",
              "      border: none;\n",
              "      border-radius: 50%;\n",
              "      cursor: pointer;\n",
              "      display: none;\n",
              "      fill: #1967D2;\n",
              "      height: 32px;\n",
              "      padding: 0 0 0 0;\n",
              "      width: 32px;\n",
              "    }\n",
              "\n",
              "    .colab-df-convert:hover {\n",
              "      background-color: #E2EBFA;\n",
              "      box-shadow: 0px 1px 2px rgba(60, 64, 67, 0.3), 0px 1px 3px 1px rgba(60, 64, 67, 0.15);\n",
              "      fill: #174EA6;\n",
              "    }\n",
              "\n",
              "    [theme=dark] .colab-df-convert {\n",
              "      background-color: #3B4455;\n",
              "      fill: #D2E3FC;\n",
              "    }\n",
              "\n",
              "    [theme=dark] .colab-df-convert:hover {\n",
              "      background-color: #434B5C;\n",
              "      box-shadow: 0px 1px 3px 1px rgba(0, 0, 0, 0.15);\n",
              "      filter: drop-shadow(0px 1px 2px rgba(0, 0, 0, 0.3));\n",
              "      fill: #FFFFFF;\n",
              "    }\n",
              "  </style>\n",
              "\n",
              "      <script>\n",
              "        const buttonEl =\n",
              "          document.querySelector('#df-86febb92-79b1-4655-a7f3-cd2b466227b2 button.colab-df-convert');\n",
              "        buttonEl.style.display =\n",
              "          google.colab.kernel.accessAllowed ? 'block' : 'none';\n",
              "\n",
              "        async function convertToInteractive(key) {\n",
              "          const element = document.querySelector('#df-86febb92-79b1-4655-a7f3-cd2b466227b2');\n",
              "          const dataTable =\n",
              "            await google.colab.kernel.invokeFunction('convertToInteractive',\n",
              "                                                     [key], {});\n",
              "          if (!dataTable) return;\n",
              "\n",
              "          const docLinkHtml = 'Like what you see? Visit the ' +\n",
              "            '<a target=\"_blank\" href=https://colab.research.google.com/notebooks/data_table.ipynb>data table notebook</a>'\n",
              "            + ' to learn more about interactive tables.';\n",
              "          element.innerHTML = '';\n",
              "          dataTable['output_type'] = 'display_data';\n",
              "          await google.colab.output.renderOutput(dataTable, element);\n",
              "          const docLink = document.createElement('div');\n",
              "          docLink.innerHTML = docLinkHtml;\n",
              "          element.appendChild(docLink);\n",
              "        }\n",
              "      </script>\n",
              "    </div>\n",
              "  </div>\n",
              "  "
            ]
          },
          "metadata": {},
          "execution_count": 120
        }
      ]
    },
    {
      "cell_type": "code",
      "execution_count": 121,
      "metadata": {
        "id": "ltuLy_aP7hut"
      },
      "outputs": [],
      "source": [
        "# We create an ID for each inspection here\n",
        "inspection = inspection.reset_index().drop('index', axis='columns').reset_index().rename({'index': 'INSPECTION_ID'}, axis='columns')"
      ]
    },
    {
      "cell_type": "code",
      "execution_count": 122,
      "metadata": {
        "id": "Aq30kh7f7hut",
        "outputId": "376c5e55-8fdf-415a-c64e-d97602808e87",
        "colab": {
          "base_uri": "https://localhost:8080/"
        }
      },
      "outputs": [
        {
          "output_type": "execute_result",
          "data": {
            "text/plain": [
              "Violations found        66372\n",
              "Establishment closed     1261\n",
              "No violations             446\n",
              "Name: ACTION, dtype: int64"
            ]
          },
          "metadata": {},
          "execution_count": 122
        }
      ],
      "source": [
        "inspection.ACTION.value_counts()"
      ]
    },
    {
      "cell_type": "code",
      "execution_count": 123,
      "metadata": {
        "id": "buVPmBBH7hut",
        "outputId": "5e2de4eb-d379-4876-d627-bc8a831536be",
        "colab": {
          "base_uri": "https://localhost:8080/",
          "height": 143
        }
      },
      "outputs": [
        {
          "output_type": "execute_result",
          "data": {
            "text/plain": [
              "                          INSPECTION_ID\n",
              "INSPECTION_DATE CAMIS                  \n",
              "2017-11-04      40911114              2\n",
              "2019-09-11      50051092              2"
            ],
            "text/html": [
              "\n",
              "  <div id=\"df-bbfb6222-7356-4a8f-8631-1aff416c4073\">\n",
              "    <div class=\"colab-df-container\">\n",
              "      <div>\n",
              "<style scoped>\n",
              "    .dataframe tbody tr th:only-of-type {\n",
              "        vertical-align: middle;\n",
              "    }\n",
              "\n",
              "    .dataframe tbody tr th {\n",
              "        vertical-align: top;\n",
              "    }\n",
              "\n",
              "    .dataframe thead th {\n",
              "        text-align: right;\n",
              "    }\n",
              "</style>\n",
              "<table border=\"1\" class=\"dataframe\">\n",
              "  <thead>\n",
              "    <tr style=\"text-align: right;\">\n",
              "      <th></th>\n",
              "      <th></th>\n",
              "      <th>INSPECTION_ID</th>\n",
              "    </tr>\n",
              "    <tr>\n",
              "      <th>INSPECTION_DATE</th>\n",
              "      <th>CAMIS</th>\n",
              "      <th></th>\n",
              "    </tr>\n",
              "  </thead>\n",
              "  <tbody>\n",
              "    <tr>\n",
              "      <th>2017-11-04</th>\n",
              "      <th>40911114</th>\n",
              "      <td>2</td>\n",
              "    </tr>\n",
              "    <tr>\n",
              "      <th>2019-09-11</th>\n",
              "      <th>50051092</th>\n",
              "      <td>2</td>\n",
              "    </tr>\n",
              "  </tbody>\n",
              "</table>\n",
              "</div>\n",
              "      <button class=\"colab-df-convert\" onclick=\"convertToInteractive('df-bbfb6222-7356-4a8f-8631-1aff416c4073')\"\n",
              "              title=\"Convert this dataframe to an interactive table.\"\n",
              "              style=\"display:none;\">\n",
              "        \n",
              "  <svg xmlns=\"http://www.w3.org/2000/svg\" height=\"24px\"viewBox=\"0 0 24 24\"\n",
              "       width=\"24px\">\n",
              "    <path d=\"M0 0h24v24H0V0z\" fill=\"none\"/>\n",
              "    <path d=\"M18.56 5.44l.94 2.06.94-2.06 2.06-.94-2.06-.94-.94-2.06-.94 2.06-2.06.94zm-11 1L8.5 8.5l.94-2.06 2.06-.94-2.06-.94L8.5 2.5l-.94 2.06-2.06.94zm10 10l.94 2.06.94-2.06 2.06-.94-2.06-.94-.94-2.06-.94 2.06-2.06.94z\"/><path d=\"M17.41 7.96l-1.37-1.37c-.4-.4-.92-.59-1.43-.59-.52 0-1.04.2-1.43.59L10.3 9.45l-7.72 7.72c-.78.78-.78 2.05 0 2.83L4 21.41c.39.39.9.59 1.41.59.51 0 1.02-.2 1.41-.59l7.78-7.78 2.81-2.81c.8-.78.8-2.07 0-2.86zM5.41 20L4 18.59l7.72-7.72 1.47 1.35L5.41 20z\"/>\n",
              "  </svg>\n",
              "      </button>\n",
              "      \n",
              "  <style>\n",
              "    .colab-df-container {\n",
              "      display:flex;\n",
              "      flex-wrap:wrap;\n",
              "      gap: 12px;\n",
              "    }\n",
              "\n",
              "    .colab-df-convert {\n",
              "      background-color: #E8F0FE;\n",
              "      border: none;\n",
              "      border-radius: 50%;\n",
              "      cursor: pointer;\n",
              "      display: none;\n",
              "      fill: #1967D2;\n",
              "      height: 32px;\n",
              "      padding: 0 0 0 0;\n",
              "      width: 32px;\n",
              "    }\n",
              "\n",
              "    .colab-df-convert:hover {\n",
              "      background-color: #E2EBFA;\n",
              "      box-shadow: 0px 1px 2px rgba(60, 64, 67, 0.3), 0px 1px 3px 1px rgba(60, 64, 67, 0.15);\n",
              "      fill: #174EA6;\n",
              "    }\n",
              "\n",
              "    [theme=dark] .colab-df-convert {\n",
              "      background-color: #3B4455;\n",
              "      fill: #D2E3FC;\n",
              "    }\n",
              "\n",
              "    [theme=dark] .colab-df-convert:hover {\n",
              "      background-color: #434B5C;\n",
              "      box-shadow: 0px 1px 3px 1px rgba(0, 0, 0, 0.15);\n",
              "      filter: drop-shadow(0px 1px 2px rgba(0, 0, 0, 0.3));\n",
              "      fill: #FFFFFF;\n",
              "    }\n",
              "  </style>\n",
              "\n",
              "      <script>\n",
              "        const buttonEl =\n",
              "          document.querySelector('#df-bbfb6222-7356-4a8f-8631-1aff416c4073 button.colab-df-convert');\n",
              "        buttonEl.style.display =\n",
              "          google.colab.kernel.accessAllowed ? 'block' : 'none';\n",
              "\n",
              "        async function convertToInteractive(key) {\n",
              "          const element = document.querySelector('#df-bbfb6222-7356-4a8f-8631-1aff416c4073');\n",
              "          const dataTable =\n",
              "            await google.colab.kernel.invokeFunction('convertToInteractive',\n",
              "                                                     [key], {});\n",
              "          if (!dataTable) return;\n",
              "\n",
              "          const docLinkHtml = 'Like what you see? Visit the ' +\n",
              "            '<a target=\"_blank\" href=https://colab.research.google.com/notebooks/data_table.ipynb>data table notebook</a>'\n",
              "            + ' to learn more about interactive tables.';\n",
              "          element.innerHTML = '';\n",
              "          dataTable['output_type'] = 'display_data';\n",
              "          await google.colab.output.renderOutput(dataTable, element);\n",
              "          const docLink = document.createElement('div');\n",
              "          docLink.innerHTML = docLinkHtml;\n",
              "          element.appendChild(docLink);\n",
              "        }\n",
              "      </script>\n",
              "    </div>\n",
              "  </div>\n",
              "  "
            ]
          },
          "metadata": {},
          "execution_count": 123
        }
      ],
      "source": [
        "# Ensure that the inspection table contains \n",
        "# no duplicate pairs for 'INSPECTION_DATE', 'CAMIS'\n",
        "pvt = inspection.pivot_table(\n",
        "    index = ['INSPECTION_DATE', 'CAMIS'],\n",
        "    values = 'INSPECTION_ID',\n",
        "    aggfunc = 'count'\n",
        ")\n",
        "pvt [ pvt.INSPECTION_ID > 1 ]\n",
        "\n",
        "# assert len(pvt [ pvt.INSPECTION_ID > 1 ]) == 0 "
      ]
    },
    {
      "cell_type": "code",
      "execution_count": null,
      "metadata": {
        "id": "u1tvDeGA7hut"
      },
      "outputs": [],
      "source": [
        "# df[ (df.CAMIS =='41007054') & (df.INSPECTION_DATE == '2017-03-03')  ].sort_values('VIOLATION_CODE')"
      ]
    },
    {
      "cell_type": "code",
      "execution_count": 124,
      "metadata": {
        "id": "fzr3sv_f7hut"
      },
      "outputs": [],
      "source": [
        "to_drop = inspection.query(\" CAMIS =='50051092' and  INSPECTION_DATE == '2019-09-11' \").index.values[1]\n",
        "\n",
        "inspection = inspection.drop(to_drop, axis='index')"
      ]
    },
    {
      "cell_type": "code",
      "source": [
        "to_drop = inspection.query(\" CAMIS =='40911114' and  INSPECTION_DATE == '2017-11-04' \").index.values[1]\n",
        "\n",
        "inspection = inspection.drop(to_drop, axis='index')"
      ],
      "metadata": {
        "id": "fe_uah4zEDHU"
      },
      "execution_count": 125,
      "outputs": []
    },
    {
      "cell_type": "code",
      "source": [
        "inspection.drop('TO_DELETE', axis='columns', inplace=True)"
      ],
      "metadata": {
        "id": "dU5ReJL0hc_W"
      },
      "execution_count": 126,
      "outputs": []
    },
    {
      "cell_type": "code",
      "execution_count": 127,
      "metadata": {
        "id": "YNyo-QPG7hut"
      },
      "outputs": [],
      "source": [
        "# Ensure that the inspection table contains \n",
        "# no duplicate pairs for 'INSPECTION_DATE', 'CAMIS'\n",
        "pvt = inspection.pivot_table(\n",
        "    index = ['INSPECTION_DATE', 'CAMIS'],\n",
        "    values = 'INSPECTION_ID',\n",
        "    aggfunc = 'count'\n",
        ")\n",
        "assert len(pvt [ pvt.INSPECTION_ID > 1 ]) == 0 "
      ]
    },
    {
      "cell_type": "code",
      "execution_count": 128,
      "metadata": {
        "id": "Yva24CbP7huv",
        "outputId": "f0195e54-1ddd-4cd3-c284-a1f43c9497df",
        "colab": {
          "base_uri": "https://localhost:8080/"
        }
      },
      "outputs": [
        {
          "output_type": "execute_result",
          "data": {
            "text/plain": [
              "Initial Inspection    48356\n",
              "Re-inspection         19721\n",
              "Name: INSPECTION_TYPE, dtype: int64"
            ]
          },
          "metadata": {},
          "execution_count": 128
        }
      ],
      "source": [
        "inspection.INSPECTION_TYPE.value_counts()"
      ]
    },
    {
      "cell_type": "code",
      "execution_count": 129,
      "metadata": {
        "id": "8Q9tnmEL7huv"
      },
      "outputs": [],
      "source": [
        "inspection_stats = inspection.pivot_table(\n",
        "    index = 'CAMIS',\n",
        "    aggfunc = ['min', 'max', 'count'],\n",
        "    values = 'INSPECTION_DATE'\n",
        ")"
      ]
    },
    {
      "cell_type": "code",
      "source": [
        ""
      ],
      "metadata": {
        "id": "7eKs6Sd8_f18"
      },
      "execution_count": null,
      "outputs": []
    },
    {
      "cell_type": "code",
      "execution_count": 130,
      "metadata": {
        "id": "2UGMl7ZK7huv",
        "outputId": "0c6d491b-7a5c-4a80-d257-38bdd6021590",
        "colab": {
          "base_uri": "https://localhost:8080/",
          "height": 296
        }
      },
      "outputs": [
        {
          "output_type": "execute_result",
          "data": {
            "text/plain": [
              "<matplotlib.axes._subplots.AxesSubplot at 0x7f5233647f50>"
            ]
          },
          "metadata": {},
          "execution_count": 130
        },
        {
          "output_type": "display_data",
          "data": {
            "text/plain": [
              "<Figure size 432x288 with 1 Axes>"
            ],
            "image/png": "[encoded data removed]"
          },
          "metadata": {
            "image/png": {
              "width": 375,
              "height": 261
            },
            "needs_background": "light"
          }
        }
      ],
      "source": [
        "# Distribution of last inspection across all restaurants\n",
        "inspection_stats['max'].sort_values('INSPECTION_DATE').reset_index().pivot_table(\n",
        "    index='INSPECTION_DATE',\n",
        "    aggfunc='count'\n",
        ").resample('1W').sum().plot()"
      ]
    },
    {
      "cell_type": "code",
      "execution_count": null,
      "metadata": {
        "id": "K3mwJMYc7huv"
      },
      "outputs": [],
      "source": [
        "# Longevity \n",
        "# (inspection_stats['max'] - inspection_stats['min'])['INSPECTION DATE'].sort_values()"
      ]
    },
    {
      "cell_type": "code",
      "execution_count": 131,
      "metadata": {
        "id": "LElB919o7huv",
        "outputId": "ecb2bf64-189e-4137-b307-1ce65a31019a",
        "colab": {
          "base_uri": "https://localhost:8080/",
          "height": 283
        }
      },
      "outputs": [
        {
          "output_type": "execute_result",
          "data": {
            "text/plain": [
              "<matplotlib.axes._subplots.AxesSubplot at 0x7f52335481d0>"
            ]
          },
          "metadata": {},
          "execution_count": 131
        },
        {
          "output_type": "display_data",
          "data": {
            "text/plain": [
              "<Figure size 432x288 with 1 Axes>"
            ],
            "image/png": "[encoded data removed]"
          },
          "metadata": {
            "image/png": {
              "width": 375,
              "height": 248
            },
            "needs_background": "light"
          }
        }
      ],
      "source": [
        "# Distribution of all inspections\n",
        "inspection['INSPECTION_DATE'].value_counts().sort_index().resample('1W').sum().plot()"
      ]
    },
    {
      "cell_type": "code",
      "execution_count": 132,
      "metadata": {
        "id": "8RDOAgxx7huv",
        "outputId": "78beeca3-465b-4ff6-b8d6-546004575098",
        "colab": {
          "base_uri": "https://localhost:8080/"
        }
      },
      "outputs": [
        {
          "output_type": "execute_result",
          "data": {
            "text/plain": [
              "218118"
            ]
          },
          "metadata": {},
          "execution_count": 132
        }
      ],
      "source": [
        "len(df)"
      ]
    },
    {
      "cell_type": "code",
      "execution_count": 133,
      "metadata": {
        "id": "2WuZLSBA7huv",
        "outputId": "463c349c-96b3-4562-de84-04c9865b7b91",
        "colab": {
          "base_uri": "https://localhost:8080/"
        }
      },
      "outputs": [
        {
          "output_type": "execute_result",
          "data": {
            "text/plain": [
              "204358"
            ]
          },
          "metadata": {},
          "execution_count": 133
        }
      ],
      "source": [
        "violations = pd.merge(\n",
        "    inspection,\n",
        "    df[ ['CAMIS', 'INSPECTION_DATE', 'VIOLATION_CODE' ] ],\n",
        "    on= ['CAMIS', 'INSPECTION_DATE'],\n",
        "    how = 'inner'\n",
        ")\n",
        "violations = violations[ ['INSPECTION_ID', 'VIOLATION_CODE'] ].drop_duplicates()\n",
        "len(violations)"
      ]
    },
    {
      "cell_type": "code",
      "execution_count": 134,
      "metadata": {
        "id": "fQm8ERgi7huv",
        "outputId": "d64a2835-3d24-4d36-c63b-b96f417d9157",
        "colab": {
          "base_uri": "https://localhost:8080/"
        }
      },
      "outputs": [
        {
          "output_type": "stream",
          "name": "stdout",
          "text": [
            "Violations: 204358\n",
            "Inspections: 68077\n",
            "Restaurants: 18905\n",
            "Violation Codes: 68\n"
          ]
        }
      ],
      "source": [
        "print(f\"Violations: {len(violations)}\")\n",
        "print(f\"Inspections: {len(inspection)}\")\n",
        "print(f\"Restaurants: {len(restaurants)}\")\n",
        "print(f\"Violation Codes: {len(violation_codes)}\")"
      ]
    },
    {
      "cell_type": "code",
      "execution_count": null,
      "metadata": {
        "id": "skBkhYUI7huw"
      },
      "outputs": [],
      "source": [
        ""
      ]
    },
    {
      "cell_type": "markdown",
      "source": [
        "## Storing in MySQL\n"
      ],
      "metadata": {
        "id": "zAp8WgoP_U6T"
      }
    },
    {
      "cell_type": "markdown",
      "source": [
        ""
      ],
      "metadata": {
        "id": "N3LHIKlH7wuD"
      }
    },
    {
      "cell_type": "code",
      "source": [
        "!sudo pip3 install -U -q PyMySQL sqlalchemy sql_magic"
      ],
      "metadata": {
        "id": "ZnnVs3t1_ZeG",
        "outputId": "0e19bbeb-5091-49bd-be84-b8f791faadce",
        "colab": {
          "base_uri": "https://localhost:8080/"
        }
      },
      "execution_count": 156,
      "outputs": [
        {
          "output_type": "stream",
          "name": "stdout",
          "text": [
            "\u001b[?25l\r\u001b[K     |███████▌                        | 10 kB 22.8 MB/s eta 0:00:01\r\u001b[K     |███████████████                 | 20 kB 12.2 MB/s eta 0:00:01\r\u001b[K     |██████████████████████▍         | 30 kB 9.1 MB/s eta 0:00:01\r\u001b[K     |██████████████████████████████  | 40 kB 8.3 MB/s eta 0:00:01\r\u001b[K     |████████████████████████████████| 43 kB 1.1 MB/s \n",
            "\u001b[?25h"
          ]
        }
      ]
    },
    {
      "cell_type": "code",
      "source": [
        "import os\n",
        "from sqlalchemy import create_engine\n",
        "\n",
        "conn_string = 'mysql+pymysql://{user}:{password}@{host}/?charset=utf8mb4'.format(\n",
        "    host = 'db.ipeirotis.org', \n",
        "    user = 'root',\n",
        "    password = 'ae6jQniBS5muV27', #os.environ['MYSQL_PASSWORD'],\n",
        "    encoding = 'utf8mb4')\n",
        "\n",
        "engine = create_engine(conn_string)\n",
        "con = engine.connect()"
      ],
      "metadata": {
        "id": "XF85ORv5_bSa"
      },
      "execution_count": 135,
      "outputs": []
    },
    {
      "cell_type": "code",
      "source": [
        "# Query to create a database\n",
        "db_name = 'doh_restaurants'\n",
        "\n",
        "sql = f\"DROP DATABASE IF EXISTS {db_name}\"\n",
        "engine.execute(sql)\n",
        "\n",
        "# Create a database\n",
        "sql = f\"CREATE DATABASE IF NOT EXISTS {db_name} DEFAULT CHARACTER SET 'utf8mb4'\"\n",
        "engine.execute(sql)\n",
        "\n",
        "# And lets switch to the database\n",
        "sql = f\"USE {db_name}\"\n",
        "engine.execute(sql)"
      ],
      "metadata": {
        "id": "QyoxDe_T_gs-",
        "outputId": "e5fa9761-5fcd-4ba7-906e-96d36b9e41ca",
        "colab": {
          "base_uri": "https://localhost:8080/"
        }
      },
      "execution_count": 136,
      "outputs": [
        {
          "output_type": "execute_result",
          "data": {
            "text/plain": [
              "<sqlalchemy.engine.cursor.LegacyCursorResult at 0x7f52375d05d0>"
            ]
          },
          "metadata": {},
          "execution_count": 136
        }
      ]
    },
    {
      "cell_type": "code",
      "source": [
        "create_table_sql = '''\n",
        "CREATE TABLE restaurants (\n",
        "    CAMIS                      char(8),\n",
        "    DBA varchar(80), \n",
        "    BUILDING varchar(10), \n",
        "    STREET varchar(40), \n",
        "    ZIPCODE char(5), \n",
        "    BORO ENUM('Bronx', 'Brooklyn', 'Manhattan', 'Queens', 'Staten Island')  ,\n",
        "    PHONE char(10), \n",
        "    CUISINE_DESCRIPTION    varchar(30),\n",
        "LATITUDE                float,\n",
        "LONGITUDE               float,\n",
        "COMMUNITY_BOARD          char(3),\n",
        "COUNCIL_DISTRICT         char(2),\n",
        "CENSUS_TRACT             char(6),\n",
        "BIN                      char(7),\n",
        "BBL                      char(10),\n",
        "NTA                      char(4), \n",
        "PRIMARY KEY(CAMIS)   \n",
        ") ENGINE=InnoDB DEFAULT CHARSET=utf8mb4;\n",
        "'''\n",
        "engine.execute(create_table_sql)\n",
        "\n",
        "create_table_sql = '''\n",
        "CREATE TABLE inspections (\n",
        "    INSPECTION_ID               int,\n",
        "    CAMIS                      char(8),\n",
        "    INSPECTION_DATE    date,\n",
        "    ACTION                   ENUM('Violations found','Establishment closed','No violations'),\n",
        "    SCORE                     smallint,\n",
        "    GRADE                    char(1),\n",
        "    INSPECTION_TYPE          ENUM('Initial Inspection','Re-inspection'),\n",
        "    FOREIGN KEY(CAMIS) REFERENCES restaurants(CAMIS),\n",
        "    PRIMARY KEY(INSPECTION_ID) \n",
        ") ENGINE=InnoDB DEFAULT CHARSET=utf8mb4;\n",
        "'''\n",
        "engine.execute(create_table_sql)\n",
        "\n",
        "create_table_sql = '''\n",
        "CREATE TABLE violation_codes (\n",
        "  VIOLATION_CODE     char(4),\n",
        "  DESCRIPTION varchar(300),\n",
        "  CRITICAL ENUM('Critical', 'Not Applicable', 'Not Critical'),\n",
        "  PRIMARY KEY(VIOLATION_CODE) \n",
        "\n",
        ") ENGINE=InnoDB DEFAULT CHARSET=utf8mb4;\n",
        "'''\n",
        "engine.execute(create_table_sql)\n",
        "\n",
        "\n",
        "create_table_sql = '''\n",
        "CREATE TABLE violations (\n",
        "  INSPECTION_ID         int,\n",
        "  VIOLATION_CODE     char(4),\n",
        "  FOREIGN KEY(INSPECTION_ID) REFERENCES inspections(INSPECTION_ID),\n",
        "FOREIGN KEY(VIOLATION_CODE) REFERENCES violation_codes(VIOLATION_CODE)\n",
        ") ENGINE=InnoDB DEFAULT CHARSET=utf8mb4;\n",
        "'''\n",
        "engine.execute(create_table_sql)"
      ],
      "metadata": {
        "id": "ah7hOCzfSMx_",
        "outputId": "5a6443d1-07bb-427f-8ead-d652c14adce0",
        "colab": {
          "base_uri": "https://localhost:8080/"
        }
      },
      "execution_count": 137,
      "outputs": [
        {
          "output_type": "execute_result",
          "data": {
            "text/plain": [
              "<sqlalchemy.engine.cursor.LegacyCursorResult at 0x7f523347e210>"
            ]
          },
          "metadata": {},
          "execution_count": 137
        }
      ]
    },
    {
      "cell_type": "code",
      "source": [
        "violation_codes.reset_index().to_sql(\n",
        "        name = 'violation_codes', \n",
        "        schema = db_name, \n",
        "        con = engine,\n",
        "        if_exists = 'append',\n",
        "        index = False, \n",
        "        chunksize = 1000)"
      ],
      "metadata": {
        "id": "hPNt2T69EaPu"
      },
      "execution_count": 138,
      "outputs": []
    },
    {
      "cell_type": "code",
      "source": [
        "restaurants.to_sql(\n",
        "        name = 'restaurants', \n",
        "        schema = db_name, \n",
        "        con = engine,\n",
        "        if_exists = 'append',\n",
        "        index = False, \n",
        "        chunksize = 1000)"
      ],
      "metadata": {
        "id": "XcSwdNSbl9F6"
      },
      "execution_count": 139,
      "outputs": []
    },
    {
      "cell_type": "code",
      "source": [
        "inspection.to_sql(\n",
        "        name = 'inspections', \n",
        "        schema = db_name, \n",
        "        con = engine,\n",
        "        if_exists = 'append',\n",
        "        index = False, \n",
        "        chunksize = 1000)"
      ],
      "metadata": {
        "id": "IV2WmeI2mBxJ"
      },
      "execution_count": 141,
      "outputs": []
    },
    {
      "cell_type": "code",
      "source": [
        "violations.to_sql(\n",
        "        name = 'violations', \n",
        "        schema = db_name, \n",
        "        con = engine,\n",
        "        if_exists = 'append',\n",
        "        index = False, \n",
        "        chunksize = 1000)"
      ],
      "metadata": {
        "id": "5O3w940SmJf3"
      },
      "execution_count": 142,
      "outputs": []
    },
    {
      "cell_type": "code",
      "source": [
        ""
      ],
      "metadata": {
        "id": "5XgnNr3MSzVJ",
        "outputId": "a471b71d-2fcb-498a-f574-6598945deada",
        "colab": {
          "base_uri": "https://localhost:8080/"
        }
      },
      "execution_count": 385,
      "outputs": [
        {
          "output_type": "execute_result",
          "data": {
            "text/plain": [
              "<sqlalchemy.engine.cursor.LegacyCursorResult at 0x7fb97febf9d0>"
            ]
          },
          "metadata": {},
          "execution_count": 385
        }
      ]
    }
  ],
  "metadata": {
    "kernelspec": {
      "display_name": "Python 3",
      "language": "python",
      "name": "python3"
    },
    "language_info": {
      "codemirror_mode": {
        "name": "ipython",
        "version": 3
      },
      "file_extension": ".py",
      "mimetype": "text/x-python",
      "name": "python",
      "nbconvert_exporter": "python",
      "pygments_lexer": "ipython3",
      "version": "3.8.2"
    },
    "colab": {
      "name": "DOH_Restaurant_Inspections.ipynb",
      "provenance": []
    }
  },
  "nbformat": 4,
  "nbformat_minor": 0
}