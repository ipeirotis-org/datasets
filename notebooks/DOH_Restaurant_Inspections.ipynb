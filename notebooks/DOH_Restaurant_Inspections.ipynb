{
  "cells": [
    {
      "cell_type": "markdown",
      "metadata": {
        "id": "view-in-github",
        "colab_type": "text"
      },
      "source": [
        "<a href=\"https://colab.research.google.com/github/ipeirotis/datasets/blob/master/notebooks/DOH_Restaurant_Inspections.ipynb\" target=\"_parent\"><img src=\"https://colab.research.google.com/assets/colab-badge.svg\" alt=\"Open In Colab\"/></a>"
      ]
    },
    {
      "cell_type": "markdown",
      "metadata": {
        "id": "T70qRb5S7huK"
      },
      "source": [
        "https://www1.nyc.gov/site/doh/business/food-operators/the-inspection-process.page\n",
        "\n",
        "See https://www1.nyc.gov/assets/doh/downloads/pdf/rii/blue-book.pdf "
      ]
    },
    {
      "cell_type": "markdown",
      "metadata": {
        "id": "iZk8TxBV7huP"
      },
      "source": [
        "## Download Latest Dataset"
      ]
    },
    {
      "cell_type": "code",
      "execution_count": 1,
      "metadata": {
        "id": "7XMOonFl7huP",
        "outputId": "1013a7e5-c80f-451e-a8cb-80569f2c9ad0",
        "colab": {
          "base_uri": "https://localhost:8080/"
        }
      },
      "outputs": [
        {
          "output_type": "stream",
          "name": "stdout",
          "text": [
            "  % Total    % Received % Xferd  Average Speed   Time    Time     Time  Current\n",
            "                                 Dload  Upload   Total   Spent    Left  Speed\n",
            "100 82.4M    0 82.4M    0     0  6243k      0 --:--:--  0:00:13 --:--:-- 7039k\n"
          ]
        }
      ],
      "source": [
        "!curl 'https://data.cityofnewyork.us/api/views/43nn-pn8j/rows.csv?accessType=DOWNLOAD' -o restaurants.csv"
      ]
    },
    {
      "cell_type": "code",
      "execution_count": 2,
      "metadata": {
        "id": "0gEDjE-67huP"
      },
      "outputs": [],
      "source": [
        "import pandas as pd\n",
        "import numpy as np\n",
        "df = pd.read_csv(\"restaurants.csv\", dtype = 'object')"
      ]
    },
    {
      "cell_type": "code",
      "execution_count": 3,
      "metadata": {
        "colab": {
          "base_uri": "https://localhost:8080/"
        },
        "id": "AK1gZZt97huQ",
        "outputId": "c39c87c6-f534-4347-f04d-3f467f033497"
      },
      "outputs": [
        {
          "output_type": "execute_result",
          "data": {
            "text/plain": [
              "198582"
            ]
          },
          "metadata": {},
          "execution_count": 3
        }
      ],
      "source": [
        "initial_size = len(df)\n",
        "initial_size"
      ]
    },
    {
      "cell_type": "code",
      "execution_count": 4,
      "metadata": {
        "id": "kr5XxtQ47huQ"
      },
      "outputs": [],
      "source": [
        "# Render our plots inline\n",
        "%matplotlib inline\n",
        "%config InlineBackend.figure_format = 'retina'"
      ]
    },
    {
      "cell_type": "code",
      "execution_count": 5,
      "metadata": {
        "colab": {
          "base_uri": "https://localhost:8080/"
        },
        "id": "PCMF_AAr7huR",
        "outputId": "440fa995-8b69-4d29-d2ea-e364afb148c1"
      },
      "outputs": [
        {
          "output_type": "execute_result",
          "data": {
            "text/plain": [
              "CAMIS                    object\n",
              "DBA                      object\n",
              "BORO                     object\n",
              "BUILDING                 object\n",
              "STREET                   object\n",
              "ZIPCODE                  object\n",
              "PHONE                    object\n",
              "CUISINE DESCRIPTION      object\n",
              "INSPECTION DATE          object\n",
              "ACTION                   object\n",
              "VIOLATION CODE           object\n",
              "VIOLATION DESCRIPTION    object\n",
              "CRITICAL FLAG            object\n",
              "SCORE                    object\n",
              "GRADE                    object\n",
              "GRADE DATE               object\n",
              "RECORD DATE              object\n",
              "INSPECTION TYPE          object\n",
              "Latitude                 object\n",
              "Longitude                object\n",
              "Community Board          object\n",
              "Council District         object\n",
              "Census Tract             object\n",
              "BIN                      object\n",
              "BBL                      object\n",
              "NTA                      object\n",
              "Location Point1          object\n",
              "dtype: object"
            ]
          },
          "metadata": {},
          "execution_count": 5
        }
      ],
      "source": [
        "df.dtypes"
      ]
    },
    {
      "cell_type": "code",
      "execution_count": 6,
      "metadata": {
        "id": "VVgZEbCE7huS"
      },
      "outputs": [],
      "source": [
        "# Adding underscores in all column names\n",
        "cols = df.columns\n",
        "cols = cols.map(lambda x: x.replace(' ', '_').upper())\n",
        "df.columns = cols"
      ]
    },
    {
      "cell_type": "code",
      "execution_count": 7,
      "metadata": {
        "colab": {
          "base_uri": "https://localhost:8080/"
        },
        "id": "CQAswNec7huS",
        "outputId": "03277d4d-14f8-4f70-b85e-c97ce83ae1ef"
      },
      "outputs": [
        {
          "output_type": "execute_result",
          "data": {
            "text/plain": [
              "CAMIS                    object\n",
              "DBA                      object\n",
              "BORO                     object\n",
              "BUILDING                 object\n",
              "STREET                   object\n",
              "ZIPCODE                  object\n",
              "PHONE                    object\n",
              "CUISINE_DESCRIPTION      object\n",
              "INSPECTION_DATE          object\n",
              "ACTION                   object\n",
              "VIOLATION_CODE           object\n",
              "VIOLATION_DESCRIPTION    object\n",
              "CRITICAL_FLAG            object\n",
              "SCORE                    object\n",
              "GRADE                    object\n",
              "GRADE_DATE               object\n",
              "RECORD_DATE              object\n",
              "INSPECTION_TYPE          object\n",
              "LATITUDE                 object\n",
              "LONGITUDE                object\n",
              "COMMUNITY_BOARD          object\n",
              "COUNCIL_DISTRICT         object\n",
              "CENSUS_TRACT             object\n",
              "BIN                      object\n",
              "BBL                      object\n",
              "NTA                      object\n",
              "LOCATION_POINT1          object\n",
              "dtype: object"
            ]
          },
          "metadata": {},
          "execution_count": 7
        }
      ],
      "source": [
        "df.dtypes"
      ]
    },
    {
      "cell_type": "code",
      "source": [
        "df.drop('LOCATION_POINT1', axis=1, inplace=True)   "
      ],
      "metadata": {
        "id": "e97ruqHge6gi"
      },
      "execution_count": 9,
      "outputs": []
    },
    {
      "cell_type": "markdown",
      "metadata": {
        "id": "eoF9TUCX7huT"
      },
      "source": [
        "## Cleaning Individual Columns"
      ]
    },
    {
      "cell_type": "code",
      "execution_count": 10,
      "metadata": {
        "colab": {
          "base_uri": "https://localhost:8080/"
        },
        "id": "6efdvJkD7huT",
        "outputId": "6c6458a5-0eff-443b-a827-e799be297913"
      },
      "outputs": [
        {
          "output_type": "execute_result",
          "data": {
            "text/plain": [
              "0"
            ]
          },
          "metadata": {},
          "execution_count": 10
        }
      ],
      "source": [
        "df.CAMIS.isnull().sum()"
      ]
    },
    {
      "cell_type": "code",
      "execution_count": 11,
      "metadata": {
        "colab": {
          "base_uri": "https://localhost:8080/"
        },
        "id": "k-z6hIHa7huT",
        "outputId": "f49465b3-627a-4a93-a772-c384b1dc5135"
      },
      "outputs": [
        {
          "output_type": "execute_result",
          "data": {
            "text/plain": [
              "1764"
            ]
          },
          "metadata": {},
          "execution_count": 11
        }
      ],
      "source": [
        "df.DBA.isnull().sum()"
      ]
    },
    {
      "cell_type": "code",
      "execution_count": 12,
      "metadata": {
        "id": "4R9lXjVS7huU"
      },
      "outputs": [],
      "source": [
        "# Checks that all CAMIS values correpond to a unique DBA value\n",
        "# ie the same CAMIS always has the same DBA\n",
        "max_cardinality = df[['DBA','CAMIS']].pivot_table(\n",
        "    index='CAMIS',\n",
        "    values='DBA',\n",
        "    aggfunc=pd.Series.nunique\n",
        ").DBA.max()\n",
        "\n",
        "assert(max_cardinality==1)"
      ]
    },
    {
      "cell_type": "markdown",
      "metadata": {
        "id": "1IprF2ZM7huU"
      },
      "source": [
        "### INSPECTION_TYPE"
      ]
    },
    {
      "cell_type": "code",
      "execution_count": 13,
      "metadata": {
        "colab": {
          "base_uri": "https://localhost:8080/"
        },
        "id": "2XMaAv9f7huU",
        "outputId": "42bb51d8-bbbc-4f69-9e51-c2bd710c1231"
      },
      "outputs": [
        {
          "output_type": "execute_result",
          "data": {
            "text/plain": [
              "Cycle Inspection / Initial Inspection                          113056\n",
              "Cycle Inspection / Re-inspection                                36685\n",
              "Pre-permit (Operational) / Initial Inspection                   23331\n",
              "Pre-permit (Operational) / Re-inspection                         7444\n",
              "Administrative Miscellaneous / Initial Inspection                4311\n",
              "Pre-permit (Non-operational) / Initial Inspection                2289\n",
              "Cycle Inspection / Reopening Inspection                          1394\n",
              "Pre-permit (Operational) / Compliance Inspection                 1334\n",
              "Administrative Miscellaneous / Re-inspection                      863\n",
              "Cycle Inspection / Compliance Inspection                          669\n",
              "Pre-permit (Operational) / Reopening Inspection                   587\n",
              "Smoke-Free Air Act / Initial Inspection                           528\n",
              "Trans Fat / Initial Inspection                                    380\n",
              "Inter-Agency Task Force / Initial Inspection                      374\n",
              "Calorie Posting / Initial Inspection                              285\n",
              "Pre-permit (Operational) / Second Compliance Inspection           194\n",
              "Pre-permit (Non-operational) / Re-inspection                      162\n",
              "Administrative Miscellaneous / Compliance Inspection               80\n",
              "Trans Fat / Re-inspection                                          57\n",
              "Smoke-Free Air Act / Re-inspection                                 50\n",
              "Calorie Posting / Re-inspection                                    46\n",
              "Administrative Miscellaneous / Reopening Inspection                32\n",
              "Pre-permit (Non-operational) / Compliance Inspection               23\n",
              "Cycle Inspection / Second Compliance Inspection                    23\n",
              "Administrative Miscellaneous / Second Compliance Inspection        11\n",
              "Smoke-Free Air Act / Limited Inspection                            10\n",
              "Calorie Posting / Compliance Inspection                             4\n",
              "Pre-permit (Non-operational) / Second Compliance Inspection         4\n",
              "Trans Fat / Compliance Inspection                                   3\n",
              "Inter-Agency Task Force / Re-inspection                             1\n",
              "Smoke-Free Air Act / Compliance Inspection                          1\n",
              "Name: INSPECTION_TYPE, dtype: int64"
            ]
          },
          "metadata": {},
          "execution_count": 13
        }
      ],
      "source": [
        "df.INSPECTION_TYPE.value_counts()"
      ]
    },
    {
      "cell_type": "code",
      "execution_count": 14,
      "metadata": {
        "colab": {
          "base_uri": "https://localhost:8080/"
        },
        "id": "h6rZutnX7huV",
        "outputId": "d1fae52b-f5fa-4c8f-fbc1-72e92c974335"
      },
      "outputs": [
        {
          "output_type": "execute_result",
          "data": {
            "text/plain": [
              "4351"
            ]
          },
          "metadata": {},
          "execution_count": 14
        }
      ],
      "source": [
        "sum(df.INSPECTION_TYPE.isnull())"
      ]
    },
    {
      "cell_type": "code",
      "execution_count": 15,
      "metadata": {
        "id": "D3jQrAWR7huW"
      },
      "outputs": [],
      "source": [
        "# We create a column \"TO_DELETE\" to mark the entries that we are not interested in.\n",
        "# We will perform first the inspection/analysis on all the attributes, and then delete the rows\n",
        "\n",
        "# Drop all cases where inspection is NULL\n",
        "df['TO_DELETE'] = df.INSPECTION_TYPE.isnull()"
      ]
    },
    {
      "cell_type": "code",
      "execution_count": 16,
      "metadata": {
        "colab": {
          "base_uri": "https://localhost:8080/"
        },
        "id": "8KjyCir27huW",
        "outputId": "d4e20e44-523b-463d-f115-389d01f444c8"
      },
      "outputs": [
        {
          "output_type": "execute_result",
          "data": {
            "text/plain": [
              "4351"
            ]
          },
          "metadata": {},
          "execution_count": 16
        }
      ],
      "source": [
        "sum(df['TO_DELETE'])"
      ]
    },
    {
      "cell_type": "code",
      "execution_count": 17,
      "metadata": {
        "id": "vxZMd7fp7huW"
      },
      "outputs": [],
      "source": [
        "# Break INSPECTION_TYPE into two columns, and also delete some inspection types\n",
        "\n",
        "# Create a new column that contains the results of the split on the '/'' character\n",
        "lst = df.INSPECTION_TYPE.str.split(' / ').values.tolist()\n",
        "lst = [ l if type(l)==type(list()) else ['',''] for l in lst ]\n",
        "t = pd.DataFrame(lst)\n"
      ]
    },
    {
      "cell_type": "code",
      "execution_count": 18,
      "metadata": {
        "colab": {
          "base_uri": "https://localhost:8080/"
        },
        "id": "kcFPoiEt7huX",
        "outputId": "f9088168-5b2d-4cda-df23-b792e6ab534f"
      },
      "outputs": [
        {
          "output_type": "execute_result",
          "data": {
            "text/plain": [
              "Cycle Inspection                151827\n",
              "Pre-permit (Operational)         32890\n",
              "Administrative Miscellaneous      5297\n",
              "                                  4351\n",
              "Pre-permit (Non-operational)      2478\n",
              "Smoke-Free Air Act                 589\n",
              "Trans Fat                          440\n",
              "Inter-Agency Task Force            375\n",
              "Calorie Posting                    335\n",
              "Name: 0, dtype: int64"
            ]
          },
          "metadata": {},
          "execution_count": 18
        }
      ],
      "source": [
        "t[0].value_counts()"
      ]
    },
    {
      "cell_type": "code",
      "execution_count": 19,
      "metadata": {
        "colab": {
          "base_uri": "https://localhost:8080/"
        },
        "id": "rbTovcLJ7huX",
        "outputId": "194936ad-cedd-44c6-c4bc-ef9f1f673a34"
      },
      "outputs": [
        {
          "output_type": "execute_result",
          "data": {
            "text/plain": [
              "Initial Inspection              144554\n",
              "Re-inspection                    45308\n",
              "                                  4351\n",
              "Compliance Inspection             2114\n",
              "Reopening Inspection              2013\n",
              "Second Compliance Inspection       232\n",
              "Limited Inspection                  10\n",
              "Name: 1, dtype: int64"
            ]
          },
          "metadata": {},
          "execution_count": 19
        }
      ],
      "source": [
        "t[1].value_counts()"
      ]
    },
    {
      "cell_type": "code",
      "execution_count": 20,
      "metadata": {
        "id": "eY0Ba3AJ7huX"
      },
      "outputs": [],
      "source": [
        "# Keep only cycle inspections. Ignore admin, pre-permit, transfat, and calorie posting inspections\n",
        "# We will only keep the initial inspections and the re-inspections. The other types are border cases\n",
        "\n",
        "keep = df.INSPECTION_TYPE.isin( ['Cycle Inspection / Initial Inspection', 'Cycle Inspection / Re-inspection'])\n"
      ]
    },
    {
      "cell_type": "code",
      "execution_count": 21,
      "metadata": {
        "colab": {
          "base_uri": "https://localhost:8080/"
        },
        "id": "_Ssa0cnt7huX",
        "outputId": "49460810-6933-4046-cc4f-0cf434f9901c"
      },
      "outputs": [
        {
          "output_type": "execute_result",
          "data": {
            "text/plain": [
              "48841"
            ]
          },
          "metadata": {},
          "execution_count": 21
        }
      ],
      "source": [
        "# Check how many we will drop: ~keep means negation on the keep and summing up adds up the 'True'\n",
        "sum(~keep)"
      ]
    },
    {
      "cell_type": "code",
      "execution_count": 22,
      "metadata": {
        "id": "pApwM2zQ7huX"
      },
      "outputs": [],
      "source": [
        "# Adding the \"not keep\" entries into the TO_DELETE\n",
        "\n",
        "# The |= operator is a shortcut for df['TO_DELETE'] = df['TO_DELETE'] | ~keep\n",
        "# We use the bit-OR operator (|), as we want to keep the existing deletions, and add the ones from the \n",
        "# additional condition\n",
        "df['TO_DELETE'] |= ~keep"
      ]
    },
    {
      "cell_type": "code",
      "execution_count": 23,
      "metadata": {
        "id": "EcO8IlJ77huY"
      },
      "outputs": [],
      "source": [
        "# Rename the two entries that we will keep into simpler values\n",
        "\n",
        "df[\"INSPECTION_TYPE\"].replace(\n",
        "    to_replace='Cycle Inspection / Initial Inspection',\n",
        "    value = 'Initial Inspection',\n",
        "    inplace=True\n",
        ")\n",
        "df[\"INSPECTION_TYPE\"].replace(\n",
        "    to_replace='Cycle Inspection / Re-inspection',\n",
        "    value = 'Re-inspection',\n",
        "    inplace=True\n",
        ")"
      ]
    },
    {
      "cell_type": "code",
      "execution_count": 24,
      "metadata": {
        "colab": {
          "base_uri": "https://localhost:8080/"
        },
        "id": "KP9P6n1z7huY",
        "outputId": "a1f31c9f-fc9a-49c3-e79f-68a496fbaf3b"
      },
      "outputs": [
        {
          "output_type": "execute_result",
          "data": {
            "text/plain": [
              "48841"
            ]
          },
          "metadata": {},
          "execution_count": 24
        }
      ],
      "source": [
        "sum(df['TO_DELETE'])"
      ]
    },
    {
      "cell_type": "markdown",
      "metadata": {
        "id": "CAsBDpJa7huY"
      },
      "source": [
        "### BORO"
      ]
    },
    {
      "cell_type": "code",
      "execution_count": 25,
      "metadata": {
        "colab": {
          "base_uri": "https://localhost:8080/"
        },
        "id": "0SS6VR3W7huY",
        "outputId": "802010f3-9b6d-4091-d696-bb61fae7f508"
      },
      "outputs": [
        {
          "output_type": "execute_result",
          "data": {
            "text/plain": [
              "Manhattan        73335\n",
              "Brooklyn         53102\n",
              "Queens           47253\n",
              "Bronx            18269\n",
              "Staten Island     6559\n",
              "0                   64\n",
              "Name: BORO, dtype: int64"
            ]
          },
          "metadata": {},
          "execution_count": 25
        }
      ],
      "source": [
        "df.BORO.value_counts()"
      ]
    },
    {
      "cell_type": "code",
      "execution_count": 26,
      "metadata": {
        "colab": {
          "base_uri": "https://localhost:8080/"
        },
        "id": "9Nlpfi0K7huY",
        "outputId": "57222469-840a-4a5d-febe-c55d36c785d9"
      },
      "outputs": [
        {
          "output_type": "execute_result",
          "data": {
            "text/plain": [
              "0"
            ]
          },
          "metadata": {},
          "execution_count": 26
        }
      ],
      "source": [
        "sum(df.BORO.isnull())"
      ]
    },
    {
      "cell_type": "code",
      "execution_count": 27,
      "metadata": {
        "id": "VFh5uhLe7huZ"
      },
      "outputs": [],
      "source": [
        "# Replace the \"Missing\" in BORO with null\n",
        "# df.BORO = df.BORO.replace('Missing', np.NaN)"
      ]
    },
    {
      "cell_type": "code",
      "execution_count": 28,
      "metadata": {
        "id": "zchlSkbn7huZ"
      },
      "outputs": [],
      "source": [
        "missing = set(df[df.BORO.isnull()].CAMIS)\n",
        "# missing"
      ]
    },
    {
      "cell_type": "code",
      "execution_count": 29,
      "metadata": {
        "colab": {
          "base_uri": "https://localhost:8080/"
        },
        "id": "mQflr8dy7huZ",
        "outputId": "2c9aab7e-cfd6-48bd-866d-d9a909174b43"
      },
      "outputs": [
        {
          "output_type": "execute_result",
          "data": {
            "text/plain": [
              "64"
            ]
          },
          "metadata": {},
          "execution_count": 29
        }
      ],
      "source": [
        "sum(df.BORO == '0')"
      ]
    },
    {
      "cell_type": "code",
      "execution_count": 30,
      "metadata": {
        "id": "oFSs5QCx7huZ"
      },
      "outputs": [],
      "source": [
        "# Remove the entries with null/missing BORO value\n",
        "# Not worth trying to fix.\n",
        "df['TO_DELETE'] |= (df.BORO == '0')"
      ]
    },
    {
      "cell_type": "code",
      "execution_count": 31,
      "metadata": {
        "colab": {
          "base_uri": "https://localhost:8080/"
        },
        "id": "QPOCbcnj7huZ",
        "outputId": "2e109cb0-0f2c-4189-884f-2486ef228995"
      },
      "outputs": [
        {
          "output_type": "execute_result",
          "data": {
            "text/plain": [
              "48863"
            ]
          },
          "metadata": {},
          "execution_count": 31
        }
      ],
      "source": [
        "sum(df['TO_DELETE'])"
      ]
    },
    {
      "cell_type": "markdown",
      "metadata": {
        "id": "PFl2byK37huZ"
      },
      "source": [
        "### BUILDING"
      ]
    },
    {
      "cell_type": "code",
      "execution_count": 32,
      "metadata": {
        "colab": {
          "base_uri": "https://localhost:8080/"
        },
        "id": "M4MkcVzt7hua",
        "outputId": "c869eacb-7862-4c63-a9ee-7658c682aa47"
      },
      "outputs": [
        {
          "output_type": "execute_result",
          "data": {
            "text/plain": [
              "367"
            ]
          },
          "metadata": {},
          "execution_count": 32
        }
      ],
      "source": [
        "sum(df.BUILDING.isnull())"
      ]
    },
    {
      "cell_type": "code",
      "execution_count": null,
      "metadata": {
        "id": "Jp3zKK6B7hua"
      },
      "outputs": [],
      "source": [
        "# Inspect the entries with missing street number\n",
        "# df[df.BUILDING.isnull()]"
      ]
    },
    {
      "cell_type": "code",
      "execution_count": 33,
      "metadata": {
        "id": "MCa8rSXd7hua"
      },
      "outputs": [],
      "source": [
        "# Dropping the violations listed without street number\n",
        "# Most are in train stations and in airports, but there\n",
        "# are a few others in 'regular' locations\n",
        "\n",
        "df['TO_DELETE'] |= df.BUILDING.isnull()"
      ]
    },
    {
      "cell_type": "code",
      "execution_count": 34,
      "metadata": {
        "colab": {
          "base_uri": "https://localhost:8080/"
        },
        "id": "avGVuoCT7hua",
        "outputId": "fec4c823-29d7-47dc-af34-f3734419f094"
      },
      "outputs": [
        {
          "output_type": "execute_result",
          "data": {
            "text/plain": [
              "49125"
            ]
          },
          "metadata": {},
          "execution_count": 34
        }
      ],
      "source": [
        "sum(df['TO_DELETE'])"
      ]
    },
    {
      "cell_type": "markdown",
      "metadata": {
        "id": "sgjIS0ph7hua"
      },
      "source": [
        "### STREET"
      ]
    },
    {
      "cell_type": "code",
      "execution_count": 35,
      "metadata": {
        "colab": {
          "base_uri": "https://localhost:8080/"
        },
        "id": "3NJFHvHA7hua",
        "outputId": "1dd785f5-8885-447a-a2e0-169e5e3a84d3"
      },
      "outputs": [
        {
          "output_type": "execute_result",
          "data": {
            "text/plain": [
              "27"
            ]
          },
          "metadata": {},
          "execution_count": 35
        }
      ],
      "source": [
        "# Check that no street values are empty\n",
        "sum(df.STREET.isnull())"
      ]
    },
    {
      "cell_type": "code",
      "execution_count": 36,
      "metadata": {
        "id": "ATpOqlqm7hua"
      },
      "outputs": [],
      "source": [
        "df['TO_DELETE'] |= df.STREET.isnull()"
      ]
    },
    {
      "cell_type": "code",
      "execution_count": 37,
      "metadata": {
        "colab": {
          "base_uri": "https://localhost:8080/"
        },
        "id": "XZPu1Jla7hub",
        "outputId": "ca9c5a7f-ee1c-44fa-c2f0-21708093945f"
      },
      "outputs": [
        {
          "output_type": "execute_result",
          "data": {
            "text/plain": [
              "49125"
            ]
          },
          "metadata": {},
          "execution_count": 37
        }
      ],
      "source": [
        "sum(df['TO_DELETE'])"
      ]
    },
    {
      "cell_type": "markdown",
      "metadata": {
        "id": "Anh2a8qn7hub"
      },
      "source": [
        "### ZIPCODE"
      ]
    },
    {
      "cell_type": "code",
      "execution_count": 38,
      "metadata": {
        "colab": {
          "base_uri": "https://localhost:8080/"
        },
        "id": "E-EET8vP7hub",
        "outputId": "20c2030c-8192-470d-de37-e8c52a34703e"
      },
      "outputs": [
        {
          "output_type": "execute_result",
          "data": {
            "text/plain": [
              "2699"
            ]
          },
          "metadata": {},
          "execution_count": 38
        }
      ],
      "source": [
        "sum(df.ZIPCODE.isnull())"
      ]
    },
    {
      "cell_type": "code",
      "execution_count": 39,
      "metadata": {
        "colab": {
          "base_uri": "https://localhost:8080/"
        },
        "id": "PWQf4uIu7hub",
        "outputId": "34405b69-4f97-44e5-85fd-ddcf2675fe20"
      },
      "outputs": [
        {
          "output_type": "execute_result",
          "data": {
            "text/plain": [
              "459"
            ]
          },
          "metadata": {},
          "execution_count": 39
        }
      ],
      "source": [
        "len(set(df[df.ZIPCODE.isnull()].CAMIS))"
      ]
    },
    {
      "cell_type": "code",
      "execution_count": 40,
      "metadata": {
        "id": "X9MHWRZs7hub"
      },
      "outputs": [],
      "source": [
        "df['TO_DELETE'] |= df.ZIPCODE.isnull()"
      ]
    },
    {
      "cell_type": "code",
      "execution_count": null,
      "metadata": {
        "id": "nmevPilF7hub"
      },
      "outputs": [],
      "source": [
        "# TODO: Fill in the missing zip codes, perhaps with geocoding of the addresses\n",
        "# For now, we just drop the cases without ZIPCODE"
      ]
    },
    {
      "cell_type": "markdown",
      "metadata": {
        "id": "WwQXJ_Sx7hub"
      },
      "source": [
        "### CUISINE DESCRIPTION"
      ]
    },
    {
      "cell_type": "code",
      "execution_count": 41,
      "metadata": {
        "colab": {
          "base_uri": "https://localhost:8080/"
        },
        "id": "DtlrlXic7hub",
        "outputId": "0ce96501-3ef0-4caf-cdb2-4cef0b909b09"
      },
      "outputs": [
        {
          "output_type": "execute_result",
          "data": {
            "text/plain": [
              "American             33450\n",
              "Chinese              19238\n",
              "Coffee/Tea           12274\n",
              "Pizza                12052\n",
              "Latin American        7949\n",
              "                     ...  \n",
              "Fruits/Vegetables       22\n",
              "New French              19\n",
              "Czech                   12\n",
              "Armenian                10\n",
              "Basque                   9\n",
              "Name: CUISINE_DESCRIPTION, Length: 87, dtype: int64"
            ]
          },
          "metadata": {},
          "execution_count": 41
        }
      ],
      "source": [
        "df.CUISINE_DESCRIPTION.value_counts()"
      ]
    },
    {
      "cell_type": "code",
      "execution_count": 42,
      "metadata": {
        "colab": {
          "base_uri": "https://localhost:8080/"
        },
        "id": "aj9tAxom7huc",
        "outputId": "d875da61-a6cd-4bb2-f2bc-1e023461b37d"
      },
      "outputs": [
        {
          "output_type": "execute_result",
          "data": {
            "text/plain": [
              "87"
            ]
          },
          "metadata": {},
          "execution_count": 42
        }
      ],
      "source": [
        "len(df.CUISINE_DESCRIPTION.value_counts())"
      ]
    },
    {
      "cell_type": "code",
      "execution_count": 43,
      "metadata": {
        "colab": {
          "base_uri": "https://localhost:8080/"
        },
        "id": "2Gj1vAeJ7hud",
        "outputId": "aeb255cd-c28c-4c29-a3b7-cd1c13863555"
      },
      "outputs": [
        {
          "output_type": "execute_result",
          "data": {
            "text/plain": [
              "4351"
            ]
          },
          "metadata": {},
          "execution_count": 43
        }
      ],
      "source": [
        "sum(df.CUISINE_DESCRIPTION.isnull())"
      ]
    },
    {
      "cell_type": "code",
      "execution_count": null,
      "metadata": {
        "colab": {
          "base_uri": "https://localhost:8080/"
        },
        "id": "RtLYb0Fx7hud",
        "outputId": "49be60ba-9379-4809-ba57-e43d3fcfeeba"
      },
      "outputs": [
        {
          "output_type": "execute_result",
          "data": {
            "text/plain": [
              "\"\\ndf.CUISINE_DESCRIPTION.replace(\\n    to_replace='Café/Coffee/Tea',\\n    value = 'Cafe',\\n    inplace=True\\n)\\n\\ndf.CUISINE_DESCRIPTION.replace(\\n    to_replace='Latin (Cuban, Dominican, Puerto Rican, South & Central American)',\\n    value = 'Latin',\\n    inplace=True\\n)\\n\""
            ],
            "application/vnd.google.colaboratory.intrinsic+json": {
              "type": "string"
            }
          },
          "metadata": {},
          "execution_count": 45
        }
      ],
      "source": [
        "'''\n",
        "df.CUISINE_DESCRIPTION.replace(\n",
        "    to_replace='Café/Coffee/Tea',\n",
        "    value = 'Cafe',\n",
        "    inplace=True\n",
        ")\n",
        "\n",
        "df.CUISINE_DESCRIPTION.replace(\n",
        "    to_replace='Latin (Cuban, Dominican, Puerto Rican, South & Central American)',\n",
        "    value = 'Latin',\n",
        "    inplace=True\n",
        ")\n",
        "'''"
      ]
    },
    {
      "cell_type": "markdown",
      "metadata": {
        "id": "2X43fWCP7hud"
      },
      "source": [
        "### INSPECTION_DATE"
      ]
    },
    {
      "cell_type": "code",
      "execution_count": 44,
      "metadata": {
        "id": "hKe9BlTp7hud"
      },
      "outputs": [],
      "source": [
        "df[\"INSPECTION_DATE\"] = pd.to_datetime(df[\"INSPECTION_DATE\"], format=\"%m/%d/%Y\")"
      ]
    },
    {
      "cell_type": "code",
      "execution_count": 45,
      "metadata": {
        "colab": {
          "base_uri": "https://localhost:8080/"
        },
        "id": "MLq3GB1I7hud",
        "outputId": "4533cfb2-8b06-45d8-c294-9dfc38911012"
      },
      "outputs": [
        {
          "output_type": "execute_result",
          "data": {
            "text/plain": [
              "count                           198582\n",
              "mean     2019-05-23 00:53:10.041393152\n",
              "min                1900-01-01 00:00:00\n",
              "25%                2021-08-31 00:00:00\n",
              "50%                2022-06-06 00:00:00\n",
              "75%                2022-12-19 00:00:00\n",
              "max                2023-06-03 00:00:00\n",
              "Name: INSPECTION_DATE, dtype: object"
            ]
          },
          "metadata": {},
          "execution_count": 45
        }
      ],
      "source": [
        "df.INSPECTION_DATE.describe(datetime_is_numeric=True)"
      ]
    },
    {
      "cell_type": "code",
      "execution_count": 46,
      "metadata": {
        "colab": {
          "base_uri": "https://localhost:8080/"
        },
        "id": "8R5jFOCF7hue",
        "outputId": "2e042df8-033d-418c-8b62-5712d007c0e0"
      },
      "outputs": [
        {
          "output_type": "execute_result",
          "data": {
            "text/plain": [
              "0"
            ]
          },
          "metadata": {},
          "execution_count": 46
        }
      ],
      "source": [
        "sum(df.INSPECTION_DATE.isnull())"
      ]
    },
    {
      "cell_type": "code",
      "execution_count": 51,
      "metadata": {
        "colab": {
          "base_uri": "https://localhost:8080/",
          "height": 448
        },
        "id": "-uqR3Qy07hue",
        "outputId": "1b3e3f87-5951-4d0d-daee-e9722a2d2bc0"
      },
      "outputs": [
        {
          "output_type": "execute_result",
          "data": {
            "text/plain": [
              "<Axes: >"
            ]
          },
          "metadata": {},
          "execution_count": 51
        },
        {
          "output_type": "display_data",
          "data": {
            "text/plain": [
              "<Figure size 640x480 with 1 Axes>"
            ],
            "image/png": "[encoded data removed]"
          },
          "metadata": {
            "image/png": {
              "width": 556,
              "height": 413
            }
          }
        }
      ],
      "source": [
        "df.INSPECTION_DATE.hist(range=(pd.to_datetime('2010-01-01'),pd.to_datetime('2015-12-31')))"
      ]
    },
    {
      "cell_type": "code",
      "execution_count": 52,
      "metadata": {
        "id": "fh1QJw7o7hue"
      },
      "outputs": [],
      "source": [
        "# Drop the 1900-01-01 inspections. These are all incorrect and we cannot fix them\n",
        "df['TO_DELETE'] |= (df['INSPECTION_DATE'] == '1900-01-01')"
      ]
    },
    {
      "cell_type": "code",
      "execution_count": 53,
      "metadata": {
        "id": "48EiuFLT7hue"
      },
      "outputs": [],
      "source": [
        "# After analysis, it seems that we have minimal number of inspections before 2015\n",
        "df['TO_DELETE'] |=  (df['INSPECTION_DATE'] < '2015-01-01')"
      ]
    },
    {
      "cell_type": "code",
      "execution_count": 54,
      "metadata": {
        "colab": {
          "base_uri": "https://localhost:8080/"
        },
        "id": "Hg3vO4MJ7hue",
        "outputId": "64968f1c-01e9-4dec-d67c-5f5ff901e37c"
      },
      "outputs": [
        {
          "output_type": "execute_result",
          "data": {
            "text/plain": [
              "51340"
            ]
          },
          "metadata": {},
          "execution_count": 54
        }
      ],
      "source": [
        "sum(df['TO_DELETE'])"
      ]
    },
    {
      "cell_type": "markdown",
      "metadata": {
        "id": "lcu3LsTs7hue"
      },
      "source": [
        "### ACTION"
      ]
    },
    {
      "cell_type": "code",
      "execution_count": 55,
      "metadata": {
        "colab": {
          "base_uri": "https://localhost:8080/"
        },
        "id": "_40DoGCF7huf",
        "outputId": "121c9fe8-bdc4-4250-f9ca-0f191cf40d74"
      },
      "outputs": [
        {
          "output_type": "execute_result",
          "data": {
            "text/plain": [
              "4351"
            ]
          },
          "metadata": {},
          "execution_count": 55
        }
      ],
      "source": [
        "sum(df.ACTION.isnull())"
      ]
    },
    {
      "cell_type": "code",
      "execution_count": 56,
      "metadata": {
        "colab": {
          "base_uri": "https://localhost:8080/"
        },
        "id": "kWpYN6Vb7huf",
        "outputId": "a076b100-f58e-4136-fd97-854a1145da31"
      },
      "outputs": [
        {
          "output_type": "execute_result",
          "data": {
            "text/plain": [
              "Violations were cited in the following area(s).                                                                                       184089\n",
              "Establishment Closed by DOHMH. Violations were cited in the following area(s) and those requiring immediate action were addressed.      7287\n",
              "Establishment re-opened by DOHMH.                                                                                                       1762\n",
              "No violations were recorded at the time of this inspection.                                                                             1089\n",
              "Establishment re-closed by DOHMH.                                                                                                          4\n",
              "Name: ACTION, dtype: int64"
            ]
          },
          "metadata": {},
          "execution_count": 56
        }
      ],
      "source": [
        "df[\"ACTION\"].value_counts()"
      ]
    },
    {
      "cell_type": "code",
      "execution_count": 57,
      "metadata": {
        "id": "V97p7THp7huf"
      },
      "outputs": [],
      "source": [
        "df[\"ACTION\"].replace(\n",
        "    to_replace='Violations were cited in the following area(s).',\n",
        "    value = 'Violations found',\n",
        "    inplace=True\n",
        ")"
      ]
    },
    {
      "cell_type": "code",
      "execution_count": 58,
      "metadata": {
        "id": "ZOAOtWnA7huf"
      },
      "outputs": [],
      "source": [
        "df[\"ACTION\"].replace(\n",
        "    to_replace='No violations were recorded at the time of this inspection.',\n",
        "    value = 'No violations',\n",
        "    inplace=True\n",
        ")"
      ]
    },
    {
      "cell_type": "code",
      "execution_count": 59,
      "metadata": {
        "id": "tSQ_90Wg7huf"
      },
      "outputs": [],
      "source": [
        "df[\"ACTION\"].replace(\n",
        "    to_replace='Establishment Closed by DOHMH. Violations were cited in the following area(s) and those requiring immediate action were addressed.',\n",
        "    value = 'Establishment closed',\n",
        "    inplace=True\n",
        ")"
      ]
    },
    {
      "cell_type": "code",
      "execution_count": 60,
      "metadata": {
        "id": "92dRzpXq7huf"
      },
      "outputs": [],
      "source": [
        "df[\"ACTION\"].replace(\n",
        "    to_replace='Establishment re-opened by DOHMH.',\n",
        "    value = 'Establishment re-opened',\n",
        "    inplace=True\n",
        ")"
      ]
    },
    {
      "cell_type": "code",
      "execution_count": 61,
      "metadata": {
        "id": "0Mwu12VK7huf"
      },
      "outputs": [],
      "source": [
        "df[\"ACTION\"].replace(\n",
        "    to_replace='Establishment re-closed by DOHMH.',\n",
        "    value = 'Establishment re-closed',\n",
        "    inplace=True\n",
        ")"
      ]
    },
    {
      "cell_type": "code",
      "execution_count": 62,
      "metadata": {
        "colab": {
          "base_uri": "https://localhost:8080/"
        },
        "id": "lnQv6kIq7huf",
        "outputId": "f7f0b151-0c6f-4279-b091-632182c0eb51"
      },
      "outputs": [
        {
          "output_type": "execute_result",
          "data": {
            "text/plain": [
              "Violations found           184089\n",
              "Establishment closed         7287\n",
              "Establishment re-opened      1762\n",
              "No violations                1089\n",
              "Establishment re-closed         4\n",
              "Name: ACTION, dtype: int64"
            ]
          },
          "metadata": {},
          "execution_count": 62
        }
      ],
      "source": [
        "df[\"ACTION\"].value_counts()"
      ]
    },
    {
      "cell_type": "code",
      "execution_count": 63,
      "metadata": {
        "id": "5zTccJNH7hug"
      },
      "outputs": [],
      "source": [
        "# Drop the Establishment re-opened and re-closed cases\n",
        "# as the inspection scores for these can be misleading\n",
        "df['TO_DELETE'] |=  (df.ACTION == 'Establishment re-closed')\n",
        "df['TO_DELETE'] |=  (df.ACTION == 'Establishment re-opened')\n",
        "df['TO_DELETE'] |=  df.ACTION.isnull()"
      ]
    },
    {
      "cell_type": "code",
      "execution_count": 64,
      "metadata": {
        "scrolled": true,
        "colab": {
          "base_uri": "https://localhost:8080/"
        },
        "id": "gwEOO7qV7hug",
        "outputId": "5abc8664-12ac-4d48-fa62-617b5a849a7c"
      },
      "outputs": [
        {
          "output_type": "execute_result",
          "data": {
            "text/plain": [
              "51340"
            ]
          },
          "metadata": {},
          "execution_count": 64
        }
      ],
      "source": [
        "sum(df['TO_DELETE'])"
      ]
    },
    {
      "cell_type": "markdown",
      "metadata": {
        "id": "3Ud65ck87hug"
      },
      "source": [
        "### SCORE"
      ]
    },
    {
      "cell_type": "code",
      "execution_count": 65,
      "metadata": {
        "id": "IL15v7LZ7hug"
      },
      "outputs": [],
      "source": [
        "df[\"SCORE\"] = pd.to_numeric(df[\"SCORE\"])"
      ]
    },
    {
      "cell_type": "code",
      "execution_count": 66,
      "metadata": {
        "colab": {
          "base_uri": "https://localhost:8080/"
        },
        "id": "KAEoXrGb7hug",
        "outputId": "d64ce30b-0d82-4ad8-f986-7dfd6f71482f"
      },
      "outputs": [
        {
          "output_type": "execute_result",
          "data": {
            "text/plain": [
              "count    187570.000000\n",
              "mean         22.104233\n",
              "std          17.031039\n",
              "min           0.000000\n",
              "25%          11.000000\n",
              "50%          18.000000\n",
              "75%          30.000000\n",
              "max         157.000000\n",
              "Name: SCORE, dtype: float64"
            ]
          },
          "metadata": {},
          "execution_count": 66
        }
      ],
      "source": [
        "df.SCORE.describe()"
      ]
    },
    {
      "cell_type": "code",
      "execution_count": 67,
      "metadata": {
        "colab": {
          "base_uri": "https://localhost:8080/"
        },
        "id": "4tWt6Mmt7hug",
        "outputId": "ff08e131-28ee-444a-cdd4-44922c0e0637"
      },
      "outputs": [
        {
          "output_type": "execute_result",
          "data": {
            "text/plain": [
              "198582"
            ]
          },
          "metadata": {},
          "execution_count": 67
        }
      ],
      "source": [
        "len(df)"
      ]
    },
    {
      "cell_type": "code",
      "execution_count": 68,
      "metadata": {
        "colab": {
          "base_uri": "https://localhost:8080/"
        },
        "id": "S5YIIcHC7hug",
        "outputId": "9a09af23-e07e-4a07-e778-4fcfd221ea11"
      },
      "outputs": [
        {
          "output_type": "execute_result",
          "data": {
            "text/plain": [
              "0"
            ]
          },
          "metadata": {},
          "execution_count": 68
        }
      ],
      "source": [
        "len( df[ df.SCORE < 0 ] )"
      ]
    },
    {
      "cell_type": "code",
      "execution_count": 69,
      "metadata": {
        "id": "EETxYPe_7hug"
      },
      "outputs": [],
      "source": [
        "df['TO_DELETE'] |= (df.SCORE < 0)"
      ]
    },
    {
      "cell_type": "code",
      "execution_count": 70,
      "metadata": {
        "colab": {
          "base_uri": "https://localhost:8080/"
        },
        "id": "-V2-GgF_7huh",
        "outputId": "d0ae1eb4-b737-428d-d252-53c2e5df5b5e"
      },
      "outputs": [
        {
          "output_type": "execute_result",
          "data": {
            "text/plain": [
              "51340"
            ]
          },
          "metadata": {},
          "execution_count": 70
        }
      ],
      "source": [
        "sum(df['TO_DELETE'])"
      ]
    },
    {
      "cell_type": "code",
      "execution_count": 71,
      "metadata": {
        "id": "GQN7NNH_7huh"
      },
      "outputs": [],
      "source": [
        "# Drop cases reported as \"no violations but with positive score\"\n",
        "df['TO_DELETE'] |= ((df.SCORE > 0)  & (df.ACTION == 'No violations'))\n",
        "\n",
        "# Drop cases with zero score but with violations found\n",
        "df['TO_DELETE'] |= ((df.SCORE == 0)  & (df.ACTION == 'Violations found'))"
      ]
    },
    {
      "cell_type": "code",
      "execution_count": 72,
      "metadata": {
        "id": "Cy2-9jue7huh"
      },
      "outputs": [],
      "source": [
        "# Drop incorrectly scored inspections\n",
        "df['TO_DELETE'] |=  (df.GRADE=='A') & (df.SCORE>13)\n",
        "\n",
        "df['TO_DELETE'] |=  (df.GRADE=='B') & ( (df.SCORE<14) | (df.SCORE>27) )\n",
        "\n",
        "# Drop incorrectly scored inspections\n",
        "df['TO_DELETE'] |=  (df.GRADE=='C') & (df.SCORE<28)\n"
      ]
    },
    {
      "cell_type": "code",
      "execution_count": 73,
      "metadata": {
        "colab": {
          "base_uri": "https://localhost:8080/"
        },
        "id": "gMec_fnF7huh",
        "outputId": "eae25afe-24e1-4c56-8c05-18b9f32188b4"
      },
      "outputs": [
        {
          "output_type": "execute_result",
          "data": {
            "text/plain": [
              "58522"
            ]
          },
          "metadata": {},
          "execution_count": 73
        }
      ],
      "source": [
        "sum(df['TO_DELETE'])"
      ]
    },
    {
      "cell_type": "markdown",
      "metadata": {
        "id": "dfm8FdW87huh"
      },
      "source": [
        "### RECORD_DATE"
      ]
    },
    {
      "cell_type": "code",
      "execution_count": 74,
      "metadata": {
        "id": "M3_voJ1r7huh"
      },
      "outputs": [],
      "source": [
        "df[\"RECORD_DATE\"] = pd.to_datetime(df[\"RECORD_DATE\"], format=\"%m/%d/%Y\")"
      ]
    },
    {
      "cell_type": "code",
      "execution_count": 75,
      "metadata": {
        "id": "sMgUFCK97huh"
      },
      "outputs": [],
      "source": [
        "# Drop record date field, as it only contains a single value\n",
        "df = df.drop( 'RECORD_DATE', axis = 'columns')"
      ]
    },
    {
      "cell_type": "markdown",
      "metadata": {
        "id": "7psVURc27huh"
      },
      "source": [
        "### GRADE"
      ]
    },
    {
      "cell_type": "code",
      "execution_count": 76,
      "metadata": {
        "colab": {
          "base_uri": "https://localhost:8080/"
        },
        "id": "NFNpK24R7hui",
        "outputId": "e5a6c726-49d1-4e63-841c-fe9a029c2269"
      },
      "outputs": [
        {
          "output_type": "execute_result",
          "data": {
            "text/plain": [
              "A    68892\n",
              "B    10045\n",
              "N     7390\n",
              "C     5297\n",
              "Z     4701\n",
              "P      568\n",
              "Name: GRADE, dtype: int64"
            ]
          },
          "metadata": {},
          "execution_count": 76
        }
      ],
      "source": [
        "df.GRADE.value_counts()"
      ]
    },
    {
      "cell_type": "code",
      "execution_count": 77,
      "metadata": {
        "colab": {
          "base_uri": "https://localhost:8080/"
        },
        "id": "xAYPd7Mi7hui",
        "outputId": "01ad374a-0f77-4c4c-d44d-a04e9293eab5"
      },
      "outputs": [
        {
          "output_type": "execute_result",
          "data": {
            "text/plain": [
              "101689"
            ]
          },
          "metadata": {},
          "execution_count": 77
        }
      ],
      "source": [
        "sum(df.GRADE.isnull())"
      ]
    },
    {
      "cell_type": "code",
      "execution_count": 78,
      "metadata": {
        "colab": {
          "base_uri": "https://localhost:8080/",
          "height": 143
        },
        "id": "X6w-881R7huj",
        "outputId": "1e314c6b-4581-4f2f-9e8f-0c87ceb5908f"
      },
      "outputs": [
        {
          "output_type": "execute_result",
          "data": {
            "text/plain": [
              "Empty DataFrame\n",
              "Columns: [CAMIS, DBA, BORO, BUILDING, STREET, ZIPCODE, PHONE, CUISINE_DESCRIPTION, INSPECTION_DATE, ACTION, VIOLATION_CODE, VIOLATION_DESCRIPTION, CRITICAL_FLAG, SCORE, GRADE, GRADE_DATE, INSPECTION_TYPE, LATITUDE, LONGITUDE, COMMUNITY_BOARD, COUNCIL_DISTRICT, CENSUS_TRACT, BIN, BBL, NTA, TO_DELETE]\n",
              "Index: []\n",
              "\n",
              "[0 rows x 26 columns]"
            ],
            "text/html": [
              "\n",
              "  <div id=\"df-eab671b0-b247-481a-a06e-ac44695c05d8\">\n",
              "    <div class=\"colab-df-container\">\n",
              "      <div>\n",
              "<style scoped>\n",
              "    .dataframe tbody tr th:only-of-type {\n",
              "        vertical-align: middle;\n",
              "    }\n",
              "\n",
              "    .dataframe tbody tr th {\n",
              "        vertical-align: top;\n",
              "    }\n",
              "\n",
              "    .dataframe thead th {\n",
              "        text-align: right;\n",
              "    }\n",
              "</style>\n",
              "<table border=\"1\" class=\"dataframe\">\n",
              "  <thead>\n",
              "    <tr style=\"text-align: right;\">\n",
              "      <th></th>\n",
              "      <th>CAMIS</th>\n",
              "      <th>DBA</th>\n",
              "      <th>BORO</th>\n",
              "      <th>BUILDING</th>\n",
              "      <th>STREET</th>\n",
              "      <th>ZIPCODE</th>\n",
              "      <th>PHONE</th>\n",
              "      <th>CUISINE_DESCRIPTION</th>\n",
              "      <th>INSPECTION_DATE</th>\n",
              "      <th>ACTION</th>\n",
              "      <th>...</th>\n",
              "      <th>INSPECTION_TYPE</th>\n",
              "      <th>LATITUDE</th>\n",
              "      <th>LONGITUDE</th>\n",
              "      <th>COMMUNITY_BOARD</th>\n",
              "      <th>COUNCIL_DISTRICT</th>\n",
              "      <th>CENSUS_TRACT</th>\n",
              "      <th>BIN</th>\n",
              "      <th>BBL</th>\n",
              "      <th>NTA</th>\n",
              "      <th>TO_DELETE</th>\n",
              "    </tr>\n",
              "  </thead>\n",
              "  <tbody>\n",
              "  </tbody>\n",
              "</table>\n",
              "<p>0 rows × 26 columns</p>\n",
              "</div>\n",
              "      <button class=\"colab-df-convert\" onclick=\"convertToInteractive('df-eab671b0-b247-481a-a06e-ac44695c05d8')\"\n",
              "              title=\"Convert this dataframe to an interactive table.\"\n",
              "              style=\"display:none;\">\n",
              "        \n",
              "  <svg xmlns=\"http://www.w3.org/2000/svg\" height=\"24px\"viewBox=\"0 0 24 24\"\n",
              "       width=\"24px\">\n",
              "    <path d=\"M0 0h24v24H0V0z\" fill=\"none\"/>\n",
              "    <path d=\"M18.56 5.44l.94 2.06.94-2.06 2.06-.94-2.06-.94-.94-2.06-.94 2.06-2.06.94zm-11 1L8.5 8.5l.94-2.06 2.06-.94-2.06-.94L8.5 2.5l-.94 2.06-2.06.94zm10 10l.94 2.06.94-2.06 2.06-.94-2.06-.94-.94-2.06-.94 2.06-2.06.94z\"/><path d=\"M17.41 7.96l-1.37-1.37c-.4-.4-.92-.59-1.43-.59-.52 0-1.04.2-1.43.59L10.3 9.45l-7.72 7.72c-.78.78-.78 2.05 0 2.83L4 21.41c.39.39.9.59 1.41.59.51 0 1.02-.2 1.41-.59l7.78-7.78 2.81-2.81c.8-.78.8-2.07 0-2.86zM5.41 20L4 18.59l7.72-7.72 1.47 1.35L5.41 20z\"/>\n",
              "  </svg>\n",
              "      </button>\n",
              "      \n",
              "  <style>\n",
              "    .colab-df-container {\n",
              "      display:flex;\n",
              "      flex-wrap:wrap;\n",
              "      gap: 12px;\n",
              "    }\n",
              "\n",
              "    .colab-df-convert {\n",
              "      background-color: #E8F0FE;\n",
              "      border: none;\n",
              "      border-radius: 50%;\n",
              "      cursor: pointer;\n",
              "      display: none;\n",
              "      fill: #1967D2;\n",
              "      height: 32px;\n",
              "      padding: 0 0 0 0;\n",
              "      width: 32px;\n",
              "    }\n",
              "\n",
              "    .colab-df-convert:hover {\n",
              "      background-color: #E2EBFA;\n",
              "      box-shadow: 0px 1px 2px rgba(60, 64, 67, 0.3), 0px 1px 3px 1px rgba(60, 64, 67, 0.15);\n",
              "      fill: #174EA6;\n",
              "    }\n",
              "\n",
              "    [theme=dark] .colab-df-convert {\n",
              "      background-color: #3B4455;\n",
              "      fill: #D2E3FC;\n",
              "    }\n",
              "\n",
              "    [theme=dark] .colab-df-convert:hover {\n",
              "      background-color: #434B5C;\n",
              "      box-shadow: 0px 1px 3px 1px rgba(0, 0, 0, 0.15);\n",
              "      filter: drop-shadow(0px 1px 2px rgba(0, 0, 0, 0.3));\n",
              "      fill: #FFFFFF;\n",
              "    }\n",
              "  </style>\n",
              "\n",
              "      <script>\n",
              "        const buttonEl =\n",
              "          document.querySelector('#df-eab671b0-b247-481a-a06e-ac44695c05d8 button.colab-df-convert');\n",
              "        buttonEl.style.display =\n",
              "          google.colab.kernel.accessAllowed ? 'block' : 'none';\n",
              "\n",
              "        async function convertToInteractive(key) {\n",
              "          const element = document.querySelector('#df-eab671b0-b247-481a-a06e-ac44695c05d8');\n",
              "          const dataTable =\n",
              "            await google.colab.kernel.invokeFunction('convertToInteractive',\n",
              "                                                     [key], {});\n",
              "          if (!dataTable) return;\n",
              "\n",
              "          const docLinkHtml = 'Like what you see? Visit the ' +\n",
              "            '<a target=\"_blank\" href=https://colab.research.google.com/notebooks/data_table.ipynb>data table notebook</a>'\n",
              "            + ' to learn more about interactive tables.';\n",
              "          element.innerHTML = '';\n",
              "          dataTable['output_type'] = 'display_data';\n",
              "          await google.colab.output.renderOutput(dataTable, element);\n",
              "          const docLink = document.createElement('div');\n",
              "          docLink.innerHTML = docLinkHtml;\n",
              "          element.appendChild(docLink);\n",
              "        }\n",
              "      </script>\n",
              "    </div>\n",
              "  </div>\n",
              "  "
            ]
          },
          "metadata": {},
          "execution_count": 78
        }
      ],
      "source": [
        "df.query(\" GRADE == 'G' \")"
      ]
    },
    {
      "cell_type": "code",
      "execution_count": 79,
      "metadata": {
        "id": "sb9FkiW_7huj"
      },
      "outputs": [],
      "source": [
        "# Seems that all the \"G\" correspond to \"A\"\n",
        "df.GRADE.replace('G', 'A', inplace=True)"
      ]
    },
    {
      "cell_type": "code",
      "execution_count": 80,
      "metadata": {
        "colab": {
          "base_uri": "https://localhost:8080/",
          "height": 904
        },
        "id": "eDa3JvYL7huj",
        "outputId": "3154a088-f0a4-4a2f-b5f2-d07f45a36faf"
      },
      "outputs": [
        {
          "output_type": "execute_result",
          "data": {
            "text/plain": [
              "           CAMIS                      DBA       BORO BUILDING  \\\n",
              "483     50033660           RUSTY'S FLAVOR  Manhattan     2261   \n",
              "551     50127840         PAPA JOHNS PIZZA   Brooklyn      189   \n",
              "868     40931583       CONNECTICUT MUFFIN   Brooklyn      423   \n",
              "2460    50118971        EL POLLO SABROSON     Queens     6635   \n",
              "2669    50002106  PYRAMIDS HOOKAH AND BAR     Queens    40-19   \n",
              "...          ...                      ...        ...      ...   \n",
              "195807  50085772                 MX BREAD   Brooklyn     5414   \n",
              "195940  50108172             NARUTO RAMEN   Brooklyn      276   \n",
              "196707  50103408      ASTORIA COFFEE SHOP     Queens     3410   \n",
              "197454  41672897               YUMMY TACO     Queens    11404   \n",
              "198175  50063233   FRESNO II GOURMET DELI  Manhattan       31   \n",
              "\n",
              "                                  STREET ZIPCODE       PHONE  \\\n",
              "483     ADAM CLAYTON POWELL JR BOULEVARD     NaN  2123683403   \n",
              "551                             AVENUE U   11223  9173026461   \n",
              "868                        MYRTLE AVENUE   11205  7189350087   \n",
              "2460                           GRAND AVE   11378  7184069717   \n",
              "2669                      BELL BOULEVARD   11361  7187466524   \n",
              "...                                  ...     ...         ...   \n",
              "195807                          7 AVENUE   11220  3478895228   \n",
              "195940                          5 AVENUE   11215  3472497683   \n",
              "196707                       STEINWAY ST   11101  7183617770   \n",
              "197454                      SUTPHIN BLVD   11434  7188482227   \n",
              "198175                          AVENUE C   10009  2122531500   \n",
              "\n",
              "             CUISINE_DESCRIPTION INSPECTION_DATE                   ACTION  \\\n",
              "483                    Caribbean      2022-04-21  Establishment re-opened   \n",
              "551                        Pizza      2022-09-29  Establishment re-opened   \n",
              "868                   Coffee/Tea      2021-08-19  Establishment re-opened   \n",
              "2460              Latin American      2022-07-11  Establishment re-opened   \n",
              "2669                    American      2018-12-13  Establishment re-opened   \n",
              "...                          ...             ...                      ...   \n",
              "195807  Bakery Products/Desserts      2022-01-31  Establishment re-opened   \n",
              "195940        Asian/Asian Fusion      2021-09-17  Establishment re-opened   \n",
              "196707                Coffee/Tea      2021-10-05  Establishment re-opened   \n",
              "197454                   Tex-Mex      2021-09-03  Establishment re-opened   \n",
              "198175                Sandwiches      2021-09-10  Establishment re-opened   \n",
              "\n",
              "        ...                                  INSPECTION_TYPE         LATITUDE  \\\n",
              "483     ...          Cycle Inspection / Reopening Inspection                0   \n",
              "551     ...  Pre-permit (Operational) / Reopening Inspection  40.596552893604   \n",
              "868     ...          Cycle Inspection / Reopening Inspection  40.693136988863   \n",
              "2460    ...  Pre-permit (Operational) / Reopening Inspection  40.724627620642   \n",
              "2669    ...          Cycle Inspection / Reopening Inspection   40.76407402447   \n",
              "...     ...                                              ...              ...   \n",
              "195807  ...          Cycle Inspection / Reopening Inspection  40.640062455944   \n",
              "195940  ...          Cycle Inspection / Reopening Inspection  40.674299729901   \n",
              "196707  ...  Pre-permit (Operational) / Reopening Inspection  40.756334385567   \n",
              "197454  ...          Cycle Inspection / Reopening Inspection  40.686077327043   \n",
              "198175  ...          Cycle Inspection / Reopening Inspection  40.721630352016   \n",
              "\n",
              "               LONGITUDE  COMMUNITY_BOARD COUNCIL_DISTRICT CENSUS_TRACT  \\\n",
              "483                    0              NaN              NaN          NaN   \n",
              "551     -73.977102194092              311               47       040000   \n",
              "868     -73.968666715239              302               35       019100   \n",
              "2460    -73.897762228849              405               30       051700   \n",
              "2669    -73.771216062182              411               19       112300   \n",
              "...                  ...              ...              ...          ...   \n",
              "195807  -74.008395472406              307               43       010000   \n",
              "195940  -73.982035966568              306               39       013300   \n",
              "196707  -73.921150007333              401               26       015700   \n",
              "197454  -73.793753592136              412               28       019000   \n",
              "198175  -73.980648651104              103               02       002202   \n",
              "\n",
              "            BIN         BBL   NTA TO_DELETE  \n",
              "483         NaN           1   NaN      True  \n",
              "551     3191212  3071000045  BK29      True  \n",
              "868     3054300  3018880001  BK69      True  \n",
              "2460    4435555  4027240163  QN30      True  \n",
              "2669    4438269  4062880001  QN46      True  \n",
              "...         ...         ...   ...       ...  \n",
              "195807  3014755  3008250045  BK34      True  \n",
              "195940  3020594  3009640041  BK37      True  \n",
              "196707  4010902  4006720025  QN70      True  \n",
              "197454  4259572  4119800003  QN76      True  \n",
              "198175  1004598  1003850034  MN28      True  \n",
              "\n",
              "[568 rows x 26 columns]"
            ],
            "text/html": [
              "\n",
              "  <div id=\"df-c9203028-faec-4c9c-9dcb-1ceed38607da\">\n",
              "    <div class=\"colab-df-container\">\n",
              "      <div>\n",
              "<style scoped>\n",
              "    .dataframe tbody tr th:only-of-type {\n",
              "        vertical-align: middle;\n",
              "    }\n",
              "\n",
              "    .dataframe tbody tr th {\n",
              "        vertical-align: top;\n",
              "    }\n",
              "\n",
              "    .dataframe thead th {\n",
              "        text-align: right;\n",
              "    }\n",
              "</style>\n",
              "<table border=\"1\" class=\"dataframe\">\n",
              "  <thead>\n",
              "    <tr style=\"text-align: right;\">\n",
              "      <th></th>\n",
              "      <th>CAMIS</th>\n",
              "      <th>DBA</th>\n",
              "      <th>BORO</th>\n",
              "      <th>BUILDING</th>\n",
              "      <th>STREET</th>\n",
              "      <th>ZIPCODE</th>\n",
              "      <th>PHONE</th>\n",
              "      <th>CUISINE_DESCRIPTION</th>\n",
              "      <th>INSPECTION_DATE</th>\n",
              "      <th>ACTION</th>\n",
              "      <th>...</th>\n",
              "      <th>INSPECTION_TYPE</th>\n",
              "      <th>LATITUDE</th>\n",
              "      <th>LONGITUDE</th>\n",
              "      <th>COMMUNITY_BOARD</th>\n",
              "      <th>COUNCIL_DISTRICT</th>\n",
              "      <th>CENSUS_TRACT</th>\n",
              "      <th>BIN</th>\n",
              "      <th>BBL</th>\n",
              "      <th>NTA</th>\n",
              "      <th>TO_DELETE</th>\n",
              "    </tr>\n",
              "  </thead>\n",
              "  <tbody>\n",
              "    <tr>\n",
              "      <th>483</th>\n",
              "      <td>50033660</td>\n",
              "      <td>RUSTY'S FLAVOR</td>\n",
              "      <td>Manhattan</td>\n",
              "      <td>2261</td>\n",
              "      <td>ADAM CLAYTON POWELL JR BOULEVARD</td>\n",
              "      <td>NaN</td>\n",
              "      <td>2123683403</td>\n",
              "      <td>Caribbean</td>\n",
              "      <td>2022-04-21</td>\n",
              "      <td>Establishment re-opened</td>\n",
              "      <td>...</td>\n",
              "      <td>Cycle Inspection / Reopening Inspection</td>\n",
              "      <td>0</td>\n",
              "      <td>0</td>\n",
              "      <td>NaN</td>\n",
              "      <td>NaN</td>\n",
              "      <td>NaN</td>\n",
              "      <td>NaN</td>\n",
              "      <td>1</td>\n",
              "      <td>NaN</td>\n",
              "      <td>True</td>\n",
              "    </tr>\n",
              "    <tr>\n",
              "      <th>551</th>\n",
              "      <td>50127840</td>\n",
              "      <td>PAPA JOHNS PIZZA</td>\n",
              "      <td>Brooklyn</td>\n",
              "      <td>189</td>\n",
              "      <td>AVENUE U</td>\n",
              "      <td>11223</td>\n",
              "      <td>9173026461</td>\n",
              "      <td>Pizza</td>\n",
              "      <td>2022-09-29</td>\n",
              "      <td>Establishment re-opened</td>\n",
              "      <td>...</td>\n",
              "      <td>Pre-permit (Operational) / Reopening Inspection</td>\n",
              "      <td>40.596552893604</td>\n",
              "      <td>-73.977102194092</td>\n",
              "      <td>311</td>\n",
              "      <td>47</td>\n",
              "      <td>040000</td>\n",
              "      <td>3191212</td>\n",
              "      <td>3071000045</td>\n",
              "      <td>BK29</td>\n",
              "      <td>True</td>\n",
              "    </tr>\n",
              "    <tr>\n",
              "      <th>868</th>\n",
              "      <td>40931583</td>\n",
              "      <td>CONNECTICUT MUFFIN</td>\n",
              "      <td>Brooklyn</td>\n",
              "      <td>423</td>\n",
              "      <td>MYRTLE AVENUE</td>\n",
              "      <td>11205</td>\n",
              "      <td>7189350087</td>\n",
              "      <td>Coffee/Tea</td>\n",
              "      <td>2021-08-19</td>\n",
              "      <td>Establishment re-opened</td>\n",
              "      <td>...</td>\n",
              "      <td>Cycle Inspection / Reopening Inspection</td>\n",
              "      <td>40.693136988863</td>\n",
              "      <td>-73.968666715239</td>\n",
              "      <td>302</td>\n",
              "      <td>35</td>\n",
              "      <td>019100</td>\n",
              "      <td>3054300</td>\n",
              "      <td>3018880001</td>\n",
              "      <td>BK69</td>\n",
              "      <td>True</td>\n",
              "    </tr>\n",
              "    <tr>\n",
              "      <th>2460</th>\n",
              "      <td>50118971</td>\n",
              "      <td>EL POLLO SABROSON</td>\n",
              "      <td>Queens</td>\n",
              "      <td>6635</td>\n",
              "      <td>GRAND AVE</td>\n",
              "      <td>11378</td>\n",
              "      <td>7184069717</td>\n",
              "      <td>Latin American</td>\n",
              "      <td>2022-07-11</td>\n",
              "      <td>Establishment re-opened</td>\n",
              "      <td>...</td>\n",
              "      <td>Pre-permit (Operational) / Reopening Inspection</td>\n",
              "      <td>40.724627620642</td>\n",
              "      <td>-73.897762228849</td>\n",
              "      <td>405</td>\n",
              "      <td>30</td>\n",
              "      <td>051700</td>\n",
              "      <td>4435555</td>\n",
              "      <td>4027240163</td>\n",
              "      <td>QN30</td>\n",
              "      <td>True</td>\n",
              "    </tr>\n",
              "    <tr>\n",
              "      <th>2669</th>\n",
              "      <td>50002106</td>\n",
              "      <td>PYRAMIDS HOOKAH AND BAR</td>\n",
              "      <td>Queens</td>\n",
              "      <td>40-19</td>\n",
              "      <td>BELL BOULEVARD</td>\n",
              "      <td>11361</td>\n",
              "      <td>7187466524</td>\n",
              "      <td>American</td>\n",
              "      <td>2018-12-13</td>\n",
              "      <td>Establishment re-opened</td>\n",
              "      <td>...</td>\n",
              "      <td>Cycle Inspection / Reopening Inspection</td>\n",
              "      <td>40.76407402447</td>\n",
              "      <td>-73.771216062182</td>\n",
              "      <td>411</td>\n",
              "      <td>19</td>\n",
              "      <td>112300</td>\n",
              "      <td>4438269</td>\n",
              "      <td>4062880001</td>\n",
              "      <td>QN46</td>\n",
              "      <td>True</td>\n",
              "    </tr>\n",
              "    <tr>\n",
              "      <th>...</th>\n",
              "      <td>...</td>\n",
              "      <td>...</td>\n",
              "      <td>...</td>\n",
              "      <td>...</td>\n",
              "      <td>...</td>\n",
              "      <td>...</td>\n",
              "      <td>...</td>\n",
              "      <td>...</td>\n",
              "      <td>...</td>\n",
              "      <td>...</td>\n",
              "      <td>...</td>\n",
              "      <td>...</td>\n",
              "      <td>...</td>\n",
              "      <td>...</td>\n",
              "      <td>...</td>\n",
              "      <td>...</td>\n",
              "      <td>...</td>\n",
              "      <td>...</td>\n",
              "      <td>...</td>\n",
              "      <td>...</td>\n",
              "      <td>...</td>\n",
              "    </tr>\n",
              "    <tr>\n",
              "      <th>195807</th>\n",
              "      <td>50085772</td>\n",
              "      <td>MX BREAD</td>\n",
              "      <td>Brooklyn</td>\n",
              "      <td>5414</td>\n",
              "      <td>7 AVENUE</td>\n",
              "      <td>11220</td>\n",
              "      <td>3478895228</td>\n",
              "      <td>Bakery Products/Desserts</td>\n",
              "      <td>2022-01-31</td>\n",
              "      <td>Establishment re-opened</td>\n",
              "      <td>...</td>\n",
              "      <td>Cycle Inspection / Reopening Inspection</td>\n",
              "      <td>40.640062455944</td>\n",
              "      <td>-74.008395472406</td>\n",
              "      <td>307</td>\n",
              "      <td>43</td>\n",
              "      <td>010000</td>\n",
              "      <td>3014755</td>\n",
              "      <td>3008250045</td>\n",
              "      <td>BK34</td>\n",
              "      <td>True</td>\n",
              "    </tr>\n",
              "    <tr>\n",
              "      <th>195940</th>\n",
              "      <td>50108172</td>\n",
              "      <td>NARUTO RAMEN</td>\n",
              "      <td>Brooklyn</td>\n",
              "      <td>276</td>\n",
              "      <td>5 AVENUE</td>\n",
              "      <td>11215</td>\n",
              "      <td>3472497683</td>\n",
              "      <td>Asian/Asian Fusion</td>\n",
              "      <td>2021-09-17</td>\n",
              "      <td>Establishment re-opened</td>\n",
              "      <td>...</td>\n",
              "      <td>Cycle Inspection / Reopening Inspection</td>\n",
              "      <td>40.674299729901</td>\n",
              "      <td>-73.982035966568</td>\n",
              "      <td>306</td>\n",
              "      <td>39</td>\n",
              "      <td>013300</td>\n",
              "      <td>3020594</td>\n",
              "      <td>3009640041</td>\n",
              "      <td>BK37</td>\n",
              "      <td>True</td>\n",
              "    </tr>\n",
              "    <tr>\n",
              "      <th>196707</th>\n",
              "      <td>50103408</td>\n",
              "      <td>ASTORIA COFFEE SHOP</td>\n",
              "      <td>Queens</td>\n",
              "      <td>3410</td>\n",
              "      <td>STEINWAY ST</td>\n",
              "      <td>11101</td>\n",
              "      <td>7183617770</td>\n",
              "      <td>Coffee/Tea</td>\n",
              "      <td>2021-10-05</td>\n",
              "      <td>Establishment re-opened</td>\n",
              "      <td>...</td>\n",
              "      <td>Pre-permit (Operational) / Reopening Inspection</td>\n",
              "      <td>40.756334385567</td>\n",
              "      <td>-73.921150007333</td>\n",
              "      <td>401</td>\n",
              "      <td>26</td>\n",
              "      <td>015700</td>\n",
              "      <td>4010902</td>\n",
              "      <td>4006720025</td>\n",
              "      <td>QN70</td>\n",
              "      <td>True</td>\n",
              "    </tr>\n",
              "    <tr>\n",
              "      <th>197454</th>\n",
              "      <td>41672897</td>\n",
              "      <td>YUMMY TACO</td>\n",
              "      <td>Queens</td>\n",
              "      <td>11404</td>\n",
              "      <td>SUTPHIN BLVD</td>\n",
              "      <td>11434</td>\n",
              "      <td>7188482227</td>\n",
              "      <td>Tex-Mex</td>\n",
              "      <td>2021-09-03</td>\n",
              "      <td>Establishment re-opened</td>\n",
              "      <td>...</td>\n",
              "      <td>Cycle Inspection / Reopening Inspection</td>\n",
              "      <td>40.686077327043</td>\n",
              "      <td>-73.793753592136</td>\n",
              "      <td>412</td>\n",
              "      <td>28</td>\n",
              "      <td>019000</td>\n",
              "      <td>4259572</td>\n",
              "      <td>4119800003</td>\n",
              "      <td>QN76</td>\n",
              "      <td>True</td>\n",
              "    </tr>\n",
              "    <tr>\n",
              "      <th>198175</th>\n",
              "      <td>50063233</td>\n",
              "      <td>FRESNO II GOURMET DELI</td>\n",
              "      <td>Manhattan</td>\n",
              "      <td>31</td>\n",
              "      <td>AVENUE C</td>\n",
              "      <td>10009</td>\n",
              "      <td>2122531500</td>\n",
              "      <td>Sandwiches</td>\n",
              "      <td>2021-09-10</td>\n",
              "      <td>Establishment re-opened</td>\n",
              "      <td>...</td>\n",
              "      <td>Cycle Inspection / Reopening Inspection</td>\n",
              "      <td>40.721630352016</td>\n",
              "      <td>-73.980648651104</td>\n",
              "      <td>103</td>\n",
              "      <td>02</td>\n",
              "      <td>002202</td>\n",
              "      <td>1004598</td>\n",
              "      <td>1003850034</td>\n",
              "      <td>MN28</td>\n",
              "      <td>True</td>\n",
              "    </tr>\n",
              "  </tbody>\n",
              "</table>\n",
              "<p>568 rows × 26 columns</p>\n",
              "</div>\n",
              "      <button class=\"colab-df-convert\" onclick=\"convertToInteractive('df-c9203028-faec-4c9c-9dcb-1ceed38607da')\"\n",
              "              title=\"Convert this dataframe to an interactive table.\"\n",
              "              style=\"display:none;\">\n",
              "        \n",
              "  <svg xmlns=\"http://www.w3.org/2000/svg\" height=\"24px\"viewBox=\"0 0 24 24\"\n",
              "       width=\"24px\">\n",
              "    <path d=\"M0 0h24v24H0V0z\" fill=\"none\"/>\n",
              "    <path d=\"M18.56 5.44l.94 2.06.94-2.06 2.06-.94-2.06-.94-.94-2.06-.94 2.06-2.06.94zm-11 1L8.5 8.5l.94-2.06 2.06-.94-2.06-.94L8.5 2.5l-.94 2.06-2.06.94zm10 10l.94 2.06.94-2.06 2.06-.94-2.06-.94-.94-2.06-.94 2.06-2.06.94z\"/><path d=\"M17.41 7.96l-1.37-1.37c-.4-.4-.92-.59-1.43-.59-.52 0-1.04.2-1.43.59L10.3 9.45l-7.72 7.72c-.78.78-.78 2.05 0 2.83L4 21.41c.39.39.9.59 1.41.59.51 0 1.02-.2 1.41-.59l7.78-7.78 2.81-2.81c.8-.78.8-2.07 0-2.86zM5.41 20L4 18.59l7.72-7.72 1.47 1.35L5.41 20z\"/>\n",
              "  </svg>\n",
              "      </button>\n",
              "      \n",
              "  <style>\n",
              "    .colab-df-container {\n",
              "      display:flex;\n",
              "      flex-wrap:wrap;\n",
              "      gap: 12px;\n",
              "    }\n",
              "\n",
              "    .colab-df-convert {\n",
              "      background-color: #E8F0FE;\n",
              "      border: none;\n",
              "      border-radius: 50%;\n",
              "      cursor: pointer;\n",
              "      display: none;\n",
              "      fill: #1967D2;\n",
              "      height: 32px;\n",
              "      padding: 0 0 0 0;\n",
              "      width: 32px;\n",
              "    }\n",
              "\n",
              "    .colab-df-convert:hover {\n",
              "      background-color: #E2EBFA;\n",
              "      box-shadow: 0px 1px 2px rgba(60, 64, 67, 0.3), 0px 1px 3px 1px rgba(60, 64, 67, 0.15);\n",
              "      fill: #174EA6;\n",
              "    }\n",
              "\n",
              "    [theme=dark] .colab-df-convert {\n",
              "      background-color: #3B4455;\n",
              "      fill: #D2E3FC;\n",
              "    }\n",
              "\n",
              "    [theme=dark] .colab-df-convert:hover {\n",
              "      background-color: #434B5C;\n",
              "      box-shadow: 0px 1px 3px 1px rgba(0, 0, 0, 0.15);\n",
              "      filter: drop-shadow(0px 1px 2px rgba(0, 0, 0, 0.3));\n",
              "      fill: #FFFFFF;\n",
              "    }\n",
              "  </style>\n",
              "\n",
              "      <script>\n",
              "        const buttonEl =\n",
              "          document.querySelector('#df-c9203028-faec-4c9c-9dcb-1ceed38607da button.colab-df-convert');\n",
              "        buttonEl.style.display =\n",
              "          google.colab.kernel.accessAllowed ? 'block' : 'none';\n",
              "\n",
              "        async function convertToInteractive(key) {\n",
              "          const element = document.querySelector('#df-c9203028-faec-4c9c-9dcb-1ceed38607da');\n",
              "          const dataTable =\n",
              "            await google.colab.kernel.invokeFunction('convertToInteractive',\n",
              "                                                     [key], {});\n",
              "          if (!dataTable) return;\n",
              "\n",
              "          const docLinkHtml = 'Like what you see? Visit the ' +\n",
              "            '<a target=\"_blank\" href=https://colab.research.google.com/notebooks/data_table.ipynb>data table notebook</a>'\n",
              "            + ' to learn more about interactive tables.';\n",
              "          element.innerHTML = '';\n",
              "          dataTable['output_type'] = 'display_data';\n",
              "          await google.colab.output.renderOutput(dataTable, element);\n",
              "          const docLink = document.createElement('div');\n",
              "          docLink.innerHTML = docLinkHtml;\n",
              "          element.appendChild(docLink);\n",
              "        }\n",
              "      </script>\n",
              "    </div>\n",
              "  </div>\n",
              "  "
            ]
          },
          "metadata": {},
          "execution_count": 80
        }
      ],
      "source": [
        "# P assigned to 'Establishment re-opened' actions\n",
        "df.query(\" GRADE == 'P' \")"
      ]
    },
    {
      "cell_type": "code",
      "execution_count": 81,
      "metadata": {
        "colab": {
          "base_uri": "https://localhost:8080/"
        },
        "id": "xie57cwO7huj",
        "outputId": "3a7c1270-46b3-47d6-923c-225b2b634024"
      },
      "outputs": [
        {
          "output_type": "execute_result",
          "data": {
            "text/plain": [
              "Establishment re-opened    568\n",
              "Name: ACTION, dtype: int64"
            ]
          },
          "metadata": {},
          "execution_count": 81
        }
      ],
      "source": [
        "# P assigned to 'Establishment re-opened' actions\n",
        "df.query(\" GRADE == 'P' \").ACTION.value_counts()"
      ]
    },
    {
      "cell_type": "code",
      "execution_count": 82,
      "metadata": {
        "colab": {
          "base_uri": "https://localhost:8080/"
        },
        "id": "iPYvaipU7huj",
        "outputId": "9ef9b3aa-014f-4e25-db31-e2d40db3b1c4"
      },
      "outputs": [
        {
          "output_type": "execute_result",
          "data": {
            "text/plain": [
              "Cycle Inspection / Reopening Inspection            397\n",
              "Pre-permit (Operational) / Reopening Inspection    171\n",
              "Name: INSPECTION_TYPE, dtype: int64"
            ]
          },
          "metadata": {},
          "execution_count": 82
        }
      ],
      "source": [
        "# P assigned to 'Reopening Inspection' inspection types\n",
        "df.query(\" GRADE == 'P' \").INSPECTION_TYPE.value_counts()"
      ]
    },
    {
      "cell_type": "code",
      "execution_count": null,
      "metadata": {
        "id": "mYo58n_I7huj"
      },
      "outputs": [],
      "source": [
        "# df.query(\" GRADE == 'Z' \").SCORE.hist(bins=100)"
      ]
    },
    {
      "cell_type": "code",
      "execution_count": 83,
      "metadata": {
        "colab": {
          "base_uri": "https://localhost:8080/"
        },
        "id": "e3ON_QPE7huk",
        "outputId": "8e1caec8-dd26-434a-a0ed-f3981e89c174"
      },
      "outputs": [
        {
          "output_type": "execute_result",
          "data": {
            "text/plain": [
              "A    68892\n",
              "B    10045\n",
              "N     7390\n",
              "C     5297\n",
              "Z     4701\n",
              "P      568\n",
              "Name: GRADE, dtype: int64"
            ]
          },
          "metadata": {},
          "execution_count": 83
        }
      ],
      "source": [
        "# TODO: Figure out what Z, and Not Yet Graded means in GRADE\n",
        "# Until then, we just replace these values with NULL, keeping only the A, B, C grades\n",
        "\n",
        "# \n",
        "df.GRADE.value_counts()"
      ]
    },
    {
      "cell_type": "code",
      "execution_count": 84,
      "metadata": {
        "id": "2GdMxqpj7huk"
      },
      "outputs": [],
      "source": [
        "df['TO_DELETE'] |=  (df.GRADE=='Z')\n",
        "df['TO_DELETE'] |=  (df.GRADE=='P')\n",
        "df['TO_DELETE'] |=  (df.GRADE=='N') # Not Yet Graded\n",
        "df['TO_DELETE'] |=  (df.GRADE=='Not Yet Graded')"
      ]
    },
    {
      "cell_type": "markdown",
      "metadata": {
        "id": "AyejLLa57huk"
      },
      "source": [
        "### GRADE_DATE"
      ]
    },
    {
      "cell_type": "code",
      "execution_count": 85,
      "metadata": {
        "id": "Np46cuoT7huk"
      },
      "outputs": [],
      "source": [
        "df[\"GRADE_DATE\"] = pd.to_datetime(df[\"GRADE_DATE\"], format=\"%m/%d/%Y\")\n"
      ]
    },
    {
      "cell_type": "code",
      "execution_count": 86,
      "metadata": {
        "id": "Q2sLR9Wo7huk"
      },
      "outputs": [],
      "source": [
        "# Grade date and inspection date should be the same. \n",
        "assert np.abs((df.GRADE_DATE - df.INSPECTION_DATE).dropna()).sum().days == 0"
      ]
    },
    {
      "cell_type": "code",
      "execution_count": 87,
      "metadata": {
        "id": "q4ndg-dx7huk"
      },
      "outputs": [],
      "source": [
        "# Check that is there is a grade date, a grade is also assigned\n",
        "assert sum ( ~df.GRADE_DATE.isnull() & df.GRADE.isnull() )  == 0"
      ]
    },
    {
      "cell_type": "code",
      "execution_count": 88,
      "metadata": {
        "id": "FJp6Yz9a7huk"
      },
      "outputs": [],
      "source": [
        "# We do not need GRADE DATE if we have INSPECTION DATE\n",
        "df = df.drop(\"GRADE_DATE\", axis='columns')"
      ]
    },
    {
      "cell_type": "markdown",
      "metadata": {
        "id": "u3MyODWT7hul"
      },
      "source": [
        "### VIOLATION_CODE and VIOLATION_DESCRIPTION"
      ]
    },
    {
      "cell_type": "code",
      "execution_count": 89,
      "metadata": {
        "colab": {
          "base_uri": "https://localhost:8080/"
        },
        "id": "B_8tyfr57hul",
        "outputId": "78984761-d96c-4461-b287-156a6f3d9dd7"
      },
      "outputs": [
        {
          "output_type": "execute_result",
          "data": {
            "text/plain": [
              "5441"
            ]
          },
          "metadata": {},
          "execution_count": 89
        }
      ],
      "source": [
        "df.VIOLATION_CODE.isnull().sum()"
      ]
    },
    {
      "cell_type": "code",
      "execution_count": 90,
      "metadata": {
        "id": "ZalBL3Fx7hul"
      },
      "outputs": [],
      "source": [
        "# All the cases where violation code is NULL should be either cases that we delete\n",
        "# or a \"No violations\" case\n",
        "check = df[df.VIOLATION_CODE.isnull() & ~df.TO_DELETE & (df.ACTION!='No violations')]\n",
        "\n",
        "assert( len(check) == 0 )\n"
      ]
    },
    {
      "cell_type": "code",
      "execution_count": 91,
      "metadata": {
        "colab": {
          "base_uri": "https://localhost:8080/"
        },
        "id": "-c7JFdfi7hul",
        "outputId": "11d670b3-bcd5-47fd-945a-37ea5cd74540"
      },
      "outputs": [
        {
          "output_type": "execute_result",
          "data": {
            "text/plain": [
              "5441"
            ]
          },
          "metadata": {},
          "execution_count": 91
        }
      ],
      "source": [
        "df.VIOLATION_DESCRIPTION.isnull().sum()"
      ]
    },
    {
      "cell_type": "code",
      "execution_count": 96,
      "metadata": {
        "colab": {
          "base_uri": "https://localhost:8080/",
          "height": 708
        },
        "id": "EkaYq1St7hul",
        "outputId": "423933b8-c775-42ea-acdf-f328f68d7962"
      },
      "outputs": [
        {
          "output_type": "execute_result",
          "data": {
            "text/plain": [
              "                VIOLATION_DESCRIPTION\n",
              "VIOLATION_CODE                       \n",
              "06C                                 4\n",
              "05C                                 4\n",
              "06A                                 4\n",
              "02A                                 3\n",
              "10H                                 3\n",
              "05D                                 3\n",
              "05B                                 3\n",
              "04N                                 3\n",
              "08C                                 3\n",
              "09C                                 3\n",
              "04F                                 3\n",
              "10G                                 3\n",
              "04D                                 3\n",
              "03E                                 3\n",
              "03A                                 3\n",
              "02C                                 3\n",
              "02H                                 3\n",
              "03D                                 3\n",
              "05H                                 3\n",
              "10J                                 2"
            ],
            "text/html": [
              "\n",
              "  <div id=\"df-8ffb685e-a3c5-4053-addc-6ba94782cb7b\">\n",
              "    <div class=\"colab-df-container\">\n",
              "      <div>\n",
              "<style scoped>\n",
              "    .dataframe tbody tr th:only-of-type {\n",
              "        vertical-align: middle;\n",
              "    }\n",
              "\n",
              "    .dataframe tbody tr th {\n",
              "        vertical-align: top;\n",
              "    }\n",
              "\n",
              "    .dataframe thead th {\n",
              "        text-align: right;\n",
              "    }\n",
              "</style>\n",
              "<table border=\"1\" class=\"dataframe\">\n",
              "  <thead>\n",
              "    <tr style=\"text-align: right;\">\n",
              "      <th></th>\n",
              "      <th>VIOLATION_DESCRIPTION</th>\n",
              "    </tr>\n",
              "    <tr>\n",
              "      <th>VIOLATION_CODE</th>\n",
              "      <th></th>\n",
              "    </tr>\n",
              "  </thead>\n",
              "  <tbody>\n",
              "    <tr>\n",
              "      <th>06C</th>\n",
              "      <td>4</td>\n",
              "    </tr>\n",
              "    <tr>\n",
              "      <th>05C</th>\n",
              "      <td>4</td>\n",
              "    </tr>\n",
              "    <tr>\n",
              "      <th>06A</th>\n",
              "      <td>4</td>\n",
              "    </tr>\n",
              "    <tr>\n",
              "      <th>02A</th>\n",
              "      <td>3</td>\n",
              "    </tr>\n",
              "    <tr>\n",
              "      <th>10H</th>\n",
              "      <td>3</td>\n",
              "    </tr>\n",
              "    <tr>\n",
              "      <th>05D</th>\n",
              "      <td>3</td>\n",
              "    </tr>\n",
              "    <tr>\n",
              "      <th>05B</th>\n",
              "      <td>3</td>\n",
              "    </tr>\n",
              "    <tr>\n",
              "      <th>04N</th>\n",
              "      <td>3</td>\n",
              "    </tr>\n",
              "    <tr>\n",
              "      <th>08C</th>\n",
              "      <td>3</td>\n",
              "    </tr>\n",
              "    <tr>\n",
              "      <th>09C</th>\n",
              "      <td>3</td>\n",
              "    </tr>\n",
              "    <tr>\n",
              "      <th>04F</th>\n",
              "      <td>3</td>\n",
              "    </tr>\n",
              "    <tr>\n",
              "      <th>10G</th>\n",
              "      <td>3</td>\n",
              "    </tr>\n",
              "    <tr>\n",
              "      <th>04D</th>\n",
              "      <td>3</td>\n",
              "    </tr>\n",
              "    <tr>\n",
              "      <th>03E</th>\n",
              "      <td>3</td>\n",
              "    </tr>\n",
              "    <tr>\n",
              "      <th>03A</th>\n",
              "      <td>3</td>\n",
              "    </tr>\n",
              "    <tr>\n",
              "      <th>02C</th>\n",
              "      <td>3</td>\n",
              "    </tr>\n",
              "    <tr>\n",
              "      <th>02H</th>\n",
              "      <td>3</td>\n",
              "    </tr>\n",
              "    <tr>\n",
              "      <th>03D</th>\n",
              "      <td>3</td>\n",
              "    </tr>\n",
              "    <tr>\n",
              "      <th>05H</th>\n",
              "      <td>3</td>\n",
              "    </tr>\n",
              "    <tr>\n",
              "      <th>10J</th>\n",
              "      <td>2</td>\n",
              "    </tr>\n",
              "  </tbody>\n",
              "</table>\n",
              "</div>\n",
              "      <button class=\"colab-df-convert\" onclick=\"convertToInteractive('df-8ffb685e-a3c5-4053-addc-6ba94782cb7b')\"\n",
              "              title=\"Convert this dataframe to an interactive table.\"\n",
              "              style=\"display:none;\">\n",
              "        \n",
              "  <svg xmlns=\"http://www.w3.org/2000/svg\" height=\"24px\"viewBox=\"0 0 24 24\"\n",
              "       width=\"24px\">\n",
              "    <path d=\"M0 0h24v24H0V0z\" fill=\"none\"/>\n",
              "    <path d=\"M18.56 5.44l.94 2.06.94-2.06 2.06-.94-2.06-.94-.94-2.06-.94 2.06-2.06.94zm-11 1L8.5 8.5l.94-2.06 2.06-.94-2.06-.94L8.5 2.5l-.94 2.06-2.06.94zm10 10l.94 2.06.94-2.06 2.06-.94-2.06-.94-.94-2.06-.94 2.06-2.06.94z\"/><path d=\"M17.41 7.96l-1.37-1.37c-.4-.4-.92-.59-1.43-.59-.52 0-1.04.2-1.43.59L10.3 9.45l-7.72 7.72c-.78.78-.78 2.05 0 2.83L4 21.41c.39.39.9.59 1.41.59.51 0 1.02-.2 1.41-.59l7.78-7.78 2.81-2.81c.8-.78.8-2.07 0-2.86zM5.41 20L4 18.59l7.72-7.72 1.47 1.35L5.41 20z\"/>\n",
              "  </svg>\n",
              "      </button>\n",
              "      \n",
              "  <style>\n",
              "    .colab-df-container {\n",
              "      display:flex;\n",
              "      flex-wrap:wrap;\n",
              "      gap: 12px;\n",
              "    }\n",
              "\n",
              "    .colab-df-convert {\n",
              "      background-color: #E8F0FE;\n",
              "      border: none;\n",
              "      border-radius: 50%;\n",
              "      cursor: pointer;\n",
              "      display: none;\n",
              "      fill: #1967D2;\n",
              "      height: 32px;\n",
              "      padding: 0 0 0 0;\n",
              "      width: 32px;\n",
              "    }\n",
              "\n",
              "    .colab-df-convert:hover {\n",
              "      background-color: #E2EBFA;\n",
              "      box-shadow: 0px 1px 2px rgba(60, 64, 67, 0.3), 0px 1px 3px 1px rgba(60, 64, 67, 0.15);\n",
              "      fill: #174EA6;\n",
              "    }\n",
              "\n",
              "    [theme=dark] .colab-df-convert {\n",
              "      background-color: #3B4455;\n",
              "      fill: #D2E3FC;\n",
              "    }\n",
              "\n",
              "    [theme=dark] .colab-df-convert:hover {\n",
              "      background-color: #434B5C;\n",
              "      box-shadow: 0px 1px 3px 1px rgba(0, 0, 0, 0.15);\n",
              "      filter: drop-shadow(0px 1px 2px rgba(0, 0, 0, 0.3));\n",
              "      fill: #FFFFFF;\n",
              "    }\n",
              "  </style>\n",
              "\n",
              "      <script>\n",
              "        const buttonEl =\n",
              "          document.querySelector('#df-8ffb685e-a3c5-4053-addc-6ba94782cb7b button.colab-df-convert');\n",
              "        buttonEl.style.display =\n",
              "          google.colab.kernel.accessAllowed ? 'block' : 'none';\n",
              "\n",
              "        async function convertToInteractive(key) {\n",
              "          const element = document.querySelector('#df-8ffb685e-a3c5-4053-addc-6ba94782cb7b');\n",
              "          const dataTable =\n",
              "            await google.colab.kernel.invokeFunction('convertToInteractive',\n",
              "                                                     [key], {});\n",
              "          if (!dataTable) return;\n",
              "\n",
              "          const docLinkHtml = 'Like what you see? Visit the ' +\n",
              "            '<a target=\"_blank\" href=https://colab.research.google.com/notebooks/data_table.ipynb>data table notebook</a>'\n",
              "            + ' to learn more about interactive tables.';\n",
              "          element.innerHTML = '';\n",
              "          dataTable['output_type'] = 'display_data';\n",
              "          await google.colab.output.renderOutput(dataTable, element);\n",
              "          const docLink = document.createElement('div');\n",
              "          docLink.innerHTML = docLinkHtml;\n",
              "          element.appendChild(docLink);\n",
              "        }\n",
              "      </script>\n",
              "    </div>\n",
              "  </div>\n",
              "  "
            ]
          },
          "metadata": {},
          "execution_count": 96
        }
      ],
      "source": [
        "# Checks that all VIOLATION_CODE has unique VIOLATION_DESCRIPTION\n",
        "df[['VIOLATION_CODE','VIOLATION_DESCRIPTION']].drop_duplicates().pivot_table(\n",
        "    index='VIOLATION_CODE',\n",
        "    values='VIOLATION_DESCRIPTION',\n",
        "    aggfunc=pd.Series.nunique\n",
        ").sort_values('VIOLATION_DESCRIPTION', ascending=False).head(20)"
      ]
    },
    {
      "cell_type": "code",
      "source": [
        "df['TO_DELETE'] |=  (df.VIOLATION_DESCRIPTION == 'Caloric content not posted on menus, menu boards or food tags, in a food service establishment that is 1 of 15 or more outlets operating the same type of business nationally under common ownership or control, or as a franchise or doing business under the same name, for each menu item that is served in portions, the size and content of which are standardized.')"
      ],
      "metadata": {
        "id": "EimlOZPhBtAX"
      },
      "execution_count": 93,
      "outputs": []
    },
    {
      "cell_type": "code",
      "execution_count": null,
      "metadata": {
        "id": "MK_OOkg-7hul"
      },
      "outputs": [],
      "source": [
        "# In the dataset we have a NULL violation, when there is no violation\n",
        "# To make this more explicit, we replace NULL with 000\n",
        "# df.VIOLATION_CODE.fillna('000', inplace=True)"
      ]
    },
    {
      "cell_type": "code",
      "execution_count": 94,
      "metadata": {
        "colab": {
          "base_uri": "https://localhost:8080/"
        },
        "id": "Hz1Jf_A97hul",
        "outputId": "8206cc3d-855f-4a38-82b8-38ab73389954"
      },
      "outputs": [
        {
          "output_type": "execute_result",
          "data": {
            "text/plain": [
              "5441"
            ]
          },
          "metadata": {},
          "execution_count": 94
        }
      ],
      "source": [
        "df.VIOLATION_CODE.isnull().sum()"
      ]
    },
    {
      "cell_type": "code",
      "execution_count": null,
      "metadata": {
        "id": "OwRQRczG7hul"
      },
      "outputs": [],
      "source": [
        "## LATITUDE and LONGITUDE"
      ]
    },
    {
      "cell_type": "code",
      "execution_count": 95,
      "metadata": {
        "id": "swMage4I7hum"
      },
      "outputs": [],
      "source": [
        "df['LONGITUDE'] = pd.to_numeric(df['LONGITUDE'])\n",
        "df['LATITUDE'] = pd.to_numeric(df['LATITUDE'])"
      ]
    },
    {
      "cell_type": "code",
      "execution_count": null,
      "metadata": {
        "id": "W_I6hE5n7hum"
      },
      "outputs": [],
      "source": []
    },
    {
      "cell_type": "code",
      "execution_count": null,
      "metadata": {
        "id": "QfQa-2Mg7hum"
      },
      "outputs": [],
      "source": []
    },
    {
      "cell_type": "code",
      "execution_count": null,
      "metadata": {
        "id": "OvAOX7f_7hum"
      },
      "outputs": [],
      "source": []
    },
    {
      "cell_type": "markdown",
      "metadata": {
        "id": "hEIrMdva7hum"
      },
      "source": [
        "### MISC analysis"
      ]
    },
    {
      "cell_type": "code",
      "execution_count": null,
      "metadata": {
        "id": "ZeF8cokn7hum"
      },
      "outputs": [],
      "source": []
    },
    {
      "cell_type": "code",
      "execution_count": 97,
      "metadata": {
        "colab": {
          "base_uri": "https://localhost:8080/"
        },
        "id": "IE1gnLnl7hum",
        "outputId": "e48a45c1-d19c-445c-e932-85be1e7300ea"
      },
      "outputs": [
        {
          "output_type": "stream",
          "name": "stderr",
          "text": [
            "<ipython-input-97-c484cf3850a3>:4: FutureWarning: Treating datetime data as categorical rather than numeric in `.describe` is deprecated and will be removed in a future version of pandas. Specify `datetime_is_numeric=True` to silence this warning and adopt the future behavior now.\n",
            "  unique = df.describe(include = 'all').T['unique'].sort_values()\n"
          ]
        },
        {
          "output_type": "stream",
          "name": "stdout",
          "text": [
            "False    133595\n",
            "True      64987\n",
            "Name: TO_DELETE, dtype: int64\n",
            "=====\n",
            "Critical          107287\n",
            "Not Critical       84633\n",
            "Not Applicable      6662\n",
            "Name: CRITICAL_FLAG, dtype: int64\n",
            "=====\n",
            "Violations found           184089\n",
            "Establishment closed         7287\n",
            "Establishment re-opened      1762\n",
            "No violations                1089\n",
            "Establishment re-closed         4\n",
            "Name: ACTION, dtype: int64\n",
            "=====\n",
            "Manhattan        73335\n",
            "Brooklyn         53102\n",
            "Queens           47253\n",
            "Bronx            18269\n",
            "Staten Island     6559\n",
            "0                   64\n",
            "Name: BORO, dtype: int64\n",
            "=====\n",
            "A    68892\n",
            "B    10045\n",
            "N     7390\n",
            "C     5297\n",
            "Z     4701\n",
            "P      568\n",
            "Name: GRADE, dtype: int64\n",
            "=====\n",
            "Initial Inspection                                             113056\n",
            "Re-inspection                                                   36685\n",
            "Pre-permit (Operational) / Initial Inspection                   23331\n",
            "Pre-permit (Operational) / Re-inspection                         7444\n",
            "Administrative Miscellaneous / Initial Inspection                4311\n",
            "Pre-permit (Non-operational) / Initial Inspection                2289\n",
            "Cycle Inspection / Reopening Inspection                          1394\n",
            "Pre-permit (Operational) / Compliance Inspection                 1334\n",
            "Administrative Miscellaneous / Re-inspection                      863\n",
            "Cycle Inspection / Compliance Inspection                          669\n",
            "Pre-permit (Operational) / Reopening Inspection                   587\n",
            "Smoke-Free Air Act / Initial Inspection                           528\n",
            "Trans Fat / Initial Inspection                                    380\n",
            "Inter-Agency Task Force / Initial Inspection                      374\n",
            "Calorie Posting / Initial Inspection                              285\n",
            "Pre-permit (Operational) / Second Compliance Inspection           194\n",
            "Pre-permit (Non-operational) / Re-inspection                      162\n",
            "Administrative Miscellaneous / Compliance Inspection               80\n",
            "Trans Fat / Re-inspection                                          57\n",
            "Smoke-Free Air Act / Re-inspection                                 50\n",
            "Calorie Posting / Re-inspection                                    46\n",
            "Administrative Miscellaneous / Reopening Inspection                32\n",
            "Pre-permit (Non-operational) / Compliance Inspection               23\n",
            "Cycle Inspection / Second Compliance Inspection                    23\n",
            "Administrative Miscellaneous / Second Compliance Inspection        11\n",
            "Smoke-Free Air Act / Limited Inspection                            10\n",
            "Calorie Posting / Compliance Inspection                             4\n",
            "Pre-permit (Non-operational) / Second Compliance Inspection         4\n",
            "Trans Fat / Compliance Inspection                                   3\n",
            "Inter-Agency Task Force / Re-inspection                             1\n",
            "Smoke-Free Air Act / Compliance Inspection                          1\n",
            "Name: INSPECTION_TYPE, dtype: int64\n",
            "=====\n",
            "03    16430\n",
            "01    14487\n",
            "04    12814\n",
            "02    10014\n",
            "33     6478\n",
            "26     5900\n",
            "20     5800\n",
            "34     5353\n",
            "39     4870\n",
            "43     4526\n",
            "35     4429\n",
            "22     4336\n",
            "38     4285\n",
            "05     4143\n",
            "06     3971\n",
            "25     3880\n",
            "21     3811\n",
            "47     3313\n",
            "19     3231\n",
            "10     3185\n",
            "08     3074\n",
            "40     3018\n",
            "29     2986\n",
            "07     2937\n",
            "36     2811\n",
            "28     2807\n",
            "13     2714\n",
            "37     2676\n",
            "32     2676\n",
            "48     2595\n",
            "24     2410\n",
            "11     2396\n",
            "49     2389\n",
            "17     2376\n",
            "15     2373\n",
            "30     2344\n",
            "45     2220\n",
            "09     2132\n",
            "46     2113\n",
            "23     2062\n",
            "51     2052\n",
            "50     2048\n",
            "27     1996\n",
            "41     1985\n",
            "12     1793\n",
            "14     1648\n",
            "18     1636\n",
            "16     1600\n",
            "44     1585\n",
            "42     1392\n",
            "31     1201\n",
            "Name: COUNCIL_DISTRICT, dtype: int64\n",
            "=====\n",
            "105    14368\n",
            "103     9635\n",
            "102     9137\n",
            "104     7547\n",
            "407     7274\n",
            "       ...  \n",
            "164       33\n",
            "227       19\n",
            "226       16\n",
            "595        5\n",
            "482        3\n",
            "Name: COMMUNITY_BOARD, Length: 69, dtype: int64\n",
            "=====\n",
            "American             33450\n",
            "Chinese              19238\n",
            "Coffee/Tea           12274\n",
            "Pizza                12052\n",
            "Latin American        7949\n",
            "                     ...  \n",
            "Fruits/Vegetables       22\n",
            "New French              19\n",
            "Czech                   12\n",
            "Armenian                10\n",
            "Basque                   9\n",
            "Name: CUISINE_DESCRIPTION, Length: 87, dtype: int64\n",
            "=====\n",
            "10F      27358\n",
            "08A      21568\n",
            "04L      13659\n",
            "06D      13562\n",
            "02G      11600\n",
            "         ...  \n",
            "19-01        1\n",
            "15-36        1\n",
            "22B          1\n",
            "15-29        1\n",
            "19-03        1\n",
            "Name: VIOLATION_CODE, Length: 145, dtype: int64\n",
            "=====\n",
            "MN17    10696\n",
            "MN23     5731\n",
            "MN13     5486\n",
            "MN24     5477\n",
            "MN27     4384\n",
            "        ...  \n",
            "MN50       76\n",
            "BK93       70\n",
            "MN99       59\n",
            "SI08       50\n",
            "SI48       33\n",
            "Name: NTA, Length: 193, dtype: int64\n",
            "=====\n"
          ]
        }
      ],
      "source": [
        "# Find the unique values in each column\n",
        "# \n",
        "# df.describe(include = [np.object, 'category']).T['unique']\n",
        "unique = df.describe(include = 'all').T['unique'].sort_values()\n",
        "\n",
        "for column in unique.index:\n",
        "    if unique[column] < 200:\n",
        "        print(df[column].value_counts())\n",
        "        print(\"=====\")"
      ]
    },
    {
      "cell_type": "code",
      "execution_count": 98,
      "metadata": {
        "id": "75eLQgPV7hum",
        "outputId": "e7b5a801-aa1b-4f23-a4af-bcd30f8f7d7b",
        "colab": {
          "base_uri": "https://localhost:8080/"
        }
      },
      "outputs": [
        {
          "output_type": "execute_result",
          "data": {
            "text/plain": [
              "CAMIS                            object\n",
              "DBA                              object\n",
              "BORO                             object\n",
              "BUILDING                         object\n",
              "STREET                           object\n",
              "ZIPCODE                          object\n",
              "PHONE                            object\n",
              "CUISINE_DESCRIPTION              object\n",
              "INSPECTION_DATE          datetime64[ns]\n",
              "ACTION                           object\n",
              "VIOLATION_CODE                   object\n",
              "VIOLATION_DESCRIPTION            object\n",
              "CRITICAL_FLAG                    object\n",
              "SCORE                           float64\n",
              "GRADE                            object\n",
              "INSPECTION_TYPE                  object\n",
              "LATITUDE                        float64\n",
              "LONGITUDE                       float64\n",
              "COMMUNITY_BOARD                  object\n",
              "COUNCIL_DISTRICT                 object\n",
              "CENSUS_TRACT                     object\n",
              "BIN                              object\n",
              "BBL                              object\n",
              "NTA                              object\n",
              "TO_DELETE                          bool\n",
              "dtype: object"
            ]
          },
          "metadata": {},
          "execution_count": 98
        }
      ],
      "source": [
        "df.dtypes"
      ]
    },
    {
      "cell_type": "markdown",
      "metadata": {
        "id": "TWzSy9MD7hun"
      },
      "source": [
        "## Deleting Entries"
      ]
    },
    {
      "cell_type": "markdown",
      "metadata": {
        "id": "PK9p5-0H7hun"
      },
      "source": [
        "In this section, we use the results of the analysis above, and delete (additional) entries that will not be useful in our analysis. (Note that it is important to document this, as others may want to go back to the original source, if the entries that we leave are not sufficient.)"
      ]
    },
    {
      "cell_type": "code",
      "execution_count": 99,
      "metadata": {
        "colab": {
          "base_uri": "https://localhost:8080/"
        },
        "id": "6RuMD1ME7hun",
        "outputId": "06a866b3-8aff-40bc-ad03-77d95d0cb34d"
      },
      "outputs": [
        {
          "output_type": "execute_result",
          "data": {
            "text/plain": [
              "198582"
            ]
          },
          "metadata": {},
          "execution_count": 99
        }
      ],
      "source": [
        "len(df)"
      ]
    },
    {
      "cell_type": "code",
      "execution_count": 100,
      "metadata": {
        "id": "y926HOop7hun"
      },
      "outputs": [],
      "source": [
        "assert len(df) == initial_size"
      ]
    },
    {
      "cell_type": "code",
      "execution_count": 101,
      "metadata": {
        "id": "h8PGHqOC7hun"
      },
      "outputs": [],
      "source": [
        "df = df[ df.TO_DELETE == False].copy()"
      ]
    },
    {
      "cell_type": "code",
      "execution_count": 102,
      "metadata": {
        "colab": {
          "base_uri": "https://localhost:8080/"
        },
        "id": "kS-cLf-Z7hun",
        "outputId": "fda42785-88a7-49c0-984c-b41bdbe91813"
      },
      "outputs": [
        {
          "output_type": "execute_result",
          "data": {
            "text/plain": [
              "133595"
            ]
          },
          "metadata": {},
          "execution_count": 102
        }
      ],
      "source": [
        "len(df)"
      ]
    },
    {
      "cell_type": "code",
      "source": [],
      "metadata": {
        "id": "AtUmMLIUjZJn"
      },
      "execution_count": 102,
      "outputs": []
    },
    {
      "cell_type": "code",
      "source": [
        "df[df.VIOLATION_CODE.isnull()].VIOLATION_DESCRIPTION"
      ],
      "metadata": {
        "colab": {
          "base_uri": "https://localhost:8080/"
        },
        "id": "CXYAb1_LlYWK",
        "outputId": "29681e1a-6c66-4448-be6e-944e7af15772"
      },
      "execution_count": 103,
      "outputs": [
        {
          "output_type": "execute_result",
          "data": {
            "text/plain": [
              "158       NaN\n",
              "338       NaN\n",
              "436       NaN\n",
              "443       NaN\n",
              "513       NaN\n",
              "         ... \n",
              "195260    NaN\n",
              "196134    NaN\n",
              "196552    NaN\n",
              "196778    NaN\n",
              "198565    NaN\n",
              "Name: VIOLATION_DESCRIPTION, Length: 278, dtype: object"
            ]
          },
          "metadata": {},
          "execution_count": 103
        }
      ]
    },
    {
      "cell_type": "markdown",
      "metadata": {
        "id": "PnUgthvI7huo"
      },
      "source": [
        "## Additional Data Quality Checks"
      ]
    },
    {
      "cell_type": "code",
      "execution_count": 104,
      "metadata": {
        "id": "3cyfDjZo7huo"
      },
      "outputs": [],
      "source": [
        "\n",
        "\n",
        "assert sum(df.INSPECTION_TYPE.isnull()) == 0\n",
        "\n",
        "assert len(set(df.INSPECTION_TYPE.values)) == 2\n",
        "\n",
        "df[\"INSPECTION_TYPE\"] =  pd.Categorical(df[\"INSPECTION_TYPE\"], ordered=False)"
      ]
    },
    {
      "cell_type": "code",
      "execution_count": 105,
      "metadata": {
        "id": "k157caf_7hup"
      },
      "outputs": [],
      "source": [
        "# Check that no borough entries are empty\n",
        "assert sum(df.BORO.isnull()) == 0\n",
        "\n",
        "df[\"BORO\"] =  pd.Categorical(df[\"BORO\"], ordered=False)"
      ]
    },
    {
      "cell_type": "code",
      "execution_count": 106,
      "metadata": {
        "id": "hLTycuLg7hup"
      },
      "outputs": [],
      "source": [
        "# Check that no street numbers are empty\n",
        "assert sum(df.BUILDING.isnull()) == 0"
      ]
    },
    {
      "cell_type": "code",
      "execution_count": 107,
      "metadata": {
        "id": "pZJS6udG7hup"
      },
      "outputs": [],
      "source": [
        "assert sum(df.STREET.isnull()) == 0"
      ]
    },
    {
      "cell_type": "code",
      "execution_count": 108,
      "metadata": {
        "id": "BpD6_PoQ7hup"
      },
      "outputs": [],
      "source": [
        "\n",
        "assert sum(df.CUISINE_DESCRIPTION.isnull()) == 0\n",
        "\n",
        "df[\"CUISINE_DESCRIPTION\"] =  pd.Categorical(df[\"CUISINE_DESCRIPTION\"], ordered=False)"
      ]
    },
    {
      "cell_type": "code",
      "execution_count": 109,
      "metadata": {
        "id": "Wv0nnqzP7hup"
      },
      "outputs": [],
      "source": [
        "# We only keep three different actions\n",
        "assert len(set(df.ACTION.values)) == 3\n",
        "\n",
        "# No action is empty\n",
        "assert sum(df.ACTION.isnull()) == 0\n",
        "\n",
        "df[\"ACTION\"] =  pd.Categorical(df[\"ACTION\"], ordered=False)"
      ]
    },
    {
      "cell_type": "code",
      "execution_count": null,
      "metadata": {
        "id": "Jpubdfl77huq"
      },
      "outputs": [],
      "source": []
    },
    {
      "cell_type": "code",
      "execution_count": null,
      "metadata": {
        "id": "DKjGwZzl7huq"
      },
      "outputs": [],
      "source": []
    },
    {
      "cell_type": "code",
      "execution_count": 110,
      "metadata": {
        "id": "JyXjlxFI7huq"
      },
      "outputs": [],
      "source": [
        "# The below drops any grade values other than A, B, C, and converts the remaining entries to null\n",
        "df[\"GRADE\"] =  pd.Categorical(df[\"GRADE\"], categories = ['A', 'B', 'C'], ordered=True)\n",
        "\n",
        "# https://www1.nyc.gov/assets/doh/downloads/pdf/rii/how-we-score-grade.pdf\n",
        "# 0-13 get an A\n",
        "assert sum( (df.GRADE=='A') & (df.SCORE>13)) == 0\n",
        "\n",
        "# 14-27 get a B\n",
        "assert sum( (df.GRADE=='B') & ( (df.SCORE<14) | (df.SCORE>27) ) ) == 0\n",
        "\n",
        "# 28- get a C\n",
        "assert sum( (df.GRADE=='C') & (df.SCORE<28) ) == 0\n",
        "\n",
        "# TODO: In principle, a NULL grade is only when the score is above 14, and it was an initial inspection"
      ]
    },
    {
      "cell_type": "code",
      "execution_count": null,
      "metadata": {
        "id": "3v5M-vyM7huq"
      },
      "outputs": [],
      "source": [
        "# Check that is there is a grade date, a grade is also assigned\n",
        "# assert sum ( ~df.GRADE_DATE.isnull() & df.GRADE.isnull() ) == 0"
      ]
    },
    {
      "cell_type": "code",
      "execution_count": 111,
      "metadata": {
        "id": "Afj_mO1f7huq"
      },
      "outputs": [],
      "source": [
        "df[\"VIOLATION_CODE\"] =  pd.Categorical(df[\"VIOLATION_CODE\"], ordered=False)\n",
        "df[\"CRITICAL_FLAG\"] =  pd.Categorical(df[\"CRITICAL_FLAG\"], ordered=False)\n"
      ]
    },
    {
      "cell_type": "code",
      "execution_count": 112,
      "metadata": {
        "colab": {
          "base_uri": "https://localhost:8080/"
        },
        "id": "lYT2MagN7huq",
        "outputId": "0a37f49a-1563-417f-d03b-b97241e741c5"
      },
      "outputs": [
        {
          "output_type": "execute_result",
          "data": {
            "text/plain": [
              "158       NaN\n",
              "338       NaN\n",
              "436       NaN\n",
              "443       NaN\n",
              "513       NaN\n",
              "         ... \n",
              "195260    NaN\n",
              "196134    NaN\n",
              "196552    NaN\n",
              "196778    NaN\n",
              "198565    NaN\n",
              "Name: VIOLATION_DESCRIPTION, Length: 278, dtype: object"
            ]
          },
          "metadata": {},
          "execution_count": 112
        }
      ],
      "source": [
        "df [ df.VIOLATION_CODE.isnull() ].VIOLATION_DESCRIPTION"
      ]
    },
    {
      "cell_type": "markdown",
      "metadata": {
        "id": "oncdHcaK7huq"
      },
      "source": [
        "## Normalization"
      ]
    },
    {
      "cell_type": "markdown",
      "metadata": {
        "id": "6tcBS-Pl7hur"
      },
      "source": [
        "### Violation Codes"
      ]
    },
    {
      "cell_type": "code",
      "execution_count": 113,
      "metadata": {
        "colab": {
          "base_uri": "https://localhost:8080/",
          "height": 455
        },
        "id": "CkoPrSYw7hur",
        "outputId": "c8883011-b1ca-4446-e5d3-2ba898a4bbf0"
      },
      "outputs": [
        {
          "output_type": "execute_result",
          "data": {
            "text/plain": [
              "                                                      DESCRIPTION  \\\n",
              "VIOLATION_CODE                                                      \n",
              "02A             Time/Temperature Control for Safety (TCS) food...   \n",
              "02A              Food not cooked to required minimum temperature.   \n",
              "02A             Time/Temperature Control for Safety (TCS) food...   \n",
              "02B                    Hot food item not held at or above 140º F.   \n",
              "02B                Hot TCS food item not held at or above 140 °F.   \n",
              "...                                                           ...   \n",
              "28-05           Food adulterated or misbranded.  Adulterated o...   \n",
              "28-05           Food adulterated or misbranded. Adulterated or...   \n",
              "28-06           Contract with a pest management professional n...   \n",
              "28-06           Contract with a pest management professional n...   \n",
              "28-07             Unapproved outdoor, street or sidewalk cooking.   \n",
              "\n",
              "                    CRITICAL  \n",
              "VIOLATION_CODE                \n",
              "02A                 Critical  \n",
              "02A                 Critical  \n",
              "02A                 Critical  \n",
              "02B                 Critical  \n",
              "02B                 Critical  \n",
              "...                      ...  \n",
              "28-05           Not Critical  \n",
              "28-05           Not Critical  \n",
              "28-06           Not Critical  \n",
              "28-06           Not Critical  \n",
              "28-07           Not Critical  \n",
              "\n",
              "[149 rows x 2 columns]"
            ],
            "text/html": [
              "\n",
              "  <div id=\"df-582a89f4-6d21-4575-89e6-46a66c38a49f\">\n",
              "    <div class=\"colab-df-container\">\n",
              "      <div>\n",
              "<style scoped>\n",
              "    .dataframe tbody tr th:only-of-type {\n",
              "        vertical-align: middle;\n",
              "    }\n",
              "\n",
              "    .dataframe tbody tr th {\n",
              "        vertical-align: top;\n",
              "    }\n",
              "\n",
              "    .dataframe thead th {\n",
              "        text-align: right;\n",
              "    }\n",
              "</style>\n",
              "<table border=\"1\" class=\"dataframe\">\n",
              "  <thead>\n",
              "    <tr style=\"text-align: right;\">\n",
              "      <th></th>\n",
              "      <th>DESCRIPTION</th>\n",
              "      <th>CRITICAL</th>\n",
              "    </tr>\n",
              "    <tr>\n",
              "      <th>VIOLATION_CODE</th>\n",
              "      <th></th>\n",
              "      <th></th>\n",
              "    </tr>\n",
              "  </thead>\n",
              "  <tbody>\n",
              "    <tr>\n",
              "      <th>02A</th>\n",
              "      <td>Time/Temperature Control for Safety (TCS) food...</td>\n",
              "      <td>Critical</td>\n",
              "    </tr>\n",
              "    <tr>\n",
              "      <th>02A</th>\n",
              "      <td>Food not cooked to required minimum temperature.</td>\n",
              "      <td>Critical</td>\n",
              "    </tr>\n",
              "    <tr>\n",
              "      <th>02A</th>\n",
              "      <td>Time/Temperature Control for Safety (TCS) food...</td>\n",
              "      <td>Critical</td>\n",
              "    </tr>\n",
              "    <tr>\n",
              "      <th>02B</th>\n",
              "      <td>Hot food item not held at or above 140º F.</td>\n",
              "      <td>Critical</td>\n",
              "    </tr>\n",
              "    <tr>\n",
              "      <th>02B</th>\n",
              "      <td>Hot TCS food item not held at or above 140 °F.</td>\n",
              "      <td>Critical</td>\n",
              "    </tr>\n",
              "    <tr>\n",
              "      <th>...</th>\n",
              "      <td>...</td>\n",
              "      <td>...</td>\n",
              "    </tr>\n",
              "    <tr>\n",
              "      <th>28-05</th>\n",
              "      <td>Food adulterated or misbranded.  Adulterated o...</td>\n",
              "      <td>Not Critical</td>\n",
              "    </tr>\n",
              "    <tr>\n",
              "      <th>28-05</th>\n",
              "      <td>Food adulterated or misbranded. Adulterated or...</td>\n",
              "      <td>Not Critical</td>\n",
              "    </tr>\n",
              "    <tr>\n",
              "      <th>28-06</th>\n",
              "      <td>Contract with a pest management professional n...</td>\n",
              "      <td>Not Critical</td>\n",
              "    </tr>\n",
              "    <tr>\n",
              "      <th>28-06</th>\n",
              "      <td>Contract with a pest management professional n...</td>\n",
              "      <td>Not Critical</td>\n",
              "    </tr>\n",
              "    <tr>\n",
              "      <th>28-07</th>\n",
              "      <td>Unapproved outdoor, street or sidewalk cooking.</td>\n",
              "      <td>Not Critical</td>\n",
              "    </tr>\n",
              "  </tbody>\n",
              "</table>\n",
              "<p>149 rows × 2 columns</p>\n",
              "</div>\n",
              "      <button class=\"colab-df-convert\" onclick=\"convertToInteractive('df-582a89f4-6d21-4575-89e6-46a66c38a49f')\"\n",
              "              title=\"Convert this dataframe to an interactive table.\"\n",
              "              style=\"display:none;\">\n",
              "        \n",
              "  <svg xmlns=\"http://www.w3.org/2000/svg\" height=\"24px\"viewBox=\"0 0 24 24\"\n",
              "       width=\"24px\">\n",
              "    <path d=\"M0 0h24v24H0V0z\" fill=\"none\"/>\n",
              "    <path d=\"M18.56 5.44l.94 2.06.94-2.06 2.06-.94-2.06-.94-.94-2.06-.94 2.06-2.06.94zm-11 1L8.5 8.5l.94-2.06 2.06-.94-2.06-.94L8.5 2.5l-.94 2.06-2.06.94zm10 10l.94 2.06.94-2.06 2.06-.94-2.06-.94-.94-2.06-.94 2.06-2.06.94z\"/><path d=\"M17.41 7.96l-1.37-1.37c-.4-.4-.92-.59-1.43-.59-.52 0-1.04.2-1.43.59L10.3 9.45l-7.72 7.72c-.78.78-.78 2.05 0 2.83L4 21.41c.39.39.9.59 1.41.59.51 0 1.02-.2 1.41-.59l7.78-7.78 2.81-2.81c.8-.78.8-2.07 0-2.86zM5.41 20L4 18.59l7.72-7.72 1.47 1.35L5.41 20z\"/>\n",
              "  </svg>\n",
              "      </button>\n",
              "      \n",
              "  <style>\n",
              "    .colab-df-container {\n",
              "      display:flex;\n",
              "      flex-wrap:wrap;\n",
              "      gap: 12px;\n",
              "    }\n",
              "\n",
              "    .colab-df-convert {\n",
              "      background-color: #E8F0FE;\n",
              "      border: none;\n",
              "      border-radius: 50%;\n",
              "      cursor: pointer;\n",
              "      display: none;\n",
              "      fill: #1967D2;\n",
              "      height: 32px;\n",
              "      padding: 0 0 0 0;\n",
              "      width: 32px;\n",
              "    }\n",
              "\n",
              "    .colab-df-convert:hover {\n",
              "      background-color: #E2EBFA;\n",
              "      box-shadow: 0px 1px 2px rgba(60, 64, 67, 0.3), 0px 1px 3px 1px rgba(60, 64, 67, 0.15);\n",
              "      fill: #174EA6;\n",
              "    }\n",
              "\n",
              "    [theme=dark] .colab-df-convert {\n",
              "      background-color: #3B4455;\n",
              "      fill: #D2E3FC;\n",
              "    }\n",
              "\n",
              "    [theme=dark] .colab-df-convert:hover {\n",
              "      background-color: #434B5C;\n",
              "      box-shadow: 0px 1px 3px 1px rgba(0, 0, 0, 0.15);\n",
              "      filter: drop-shadow(0px 1px 2px rgba(0, 0, 0, 0.3));\n",
              "      fill: #FFFFFF;\n",
              "    }\n",
              "  </style>\n",
              "\n",
              "      <script>\n",
              "        const buttonEl =\n",
              "          document.querySelector('#df-582a89f4-6d21-4575-89e6-46a66c38a49f button.colab-df-convert');\n",
              "        buttonEl.style.display =\n",
              "          google.colab.kernel.accessAllowed ? 'block' : 'none';\n",
              "\n",
              "        async function convertToInteractive(key) {\n",
              "          const element = document.querySelector('#df-582a89f4-6d21-4575-89e6-46a66c38a49f');\n",
              "          const dataTable =\n",
              "            await google.colab.kernel.invokeFunction('convertToInteractive',\n",
              "                                                     [key], {});\n",
              "          if (!dataTable) return;\n",
              "\n",
              "          const docLinkHtml = 'Like what you see? Visit the ' +\n",
              "            '<a target=\"_blank\" href=https://colab.research.google.com/notebooks/data_table.ipynb>data table notebook</a>'\n",
              "            + ' to learn more about interactive tables.';\n",
              "          element.innerHTML = '';\n",
              "          dataTable['output_type'] = 'display_data';\n",
              "          await google.colab.output.renderOutput(dataTable, element);\n",
              "          const docLink = document.createElement('div');\n",
              "          docLink.innerHTML = docLinkHtml;\n",
              "          element.appendChild(docLink);\n",
              "        }\n",
              "      </script>\n",
              "    </div>\n",
              "  </div>\n",
              "  "
            ]
          },
          "metadata": {},
          "execution_count": 113
        }
      ],
      "source": [
        "# Recreating the table at https://www1.nyc.gov/assets/doh/downloads/pdf/rii/ri-violation-penalty.pdf\n",
        "\n",
        "violation_codes = df [ ['VIOLATION_CODE', 'VIOLATION_DESCRIPTION', 'CRITICAL_FLAG'] ].drop_duplicates()\n",
        "violation_codes = violation_codes.rename( {\n",
        "    'VIOLATION_DESCRIPTION' : 'DESCRIPTION',\n",
        "    'CRITICAL_FLAG' : 'CRITICAL'\n",
        "},  axis = 'columns').sort_values('VIOLATION_CODE').dropna().set_index('VIOLATION_CODE')\n",
        "violation_codes"
      ]
    },
    {
      "cell_type": "code",
      "source": [
        "violation_codes"
      ],
      "metadata": {
        "colab": {
          "base_uri": "https://localhost:8080/",
          "height": 455
        },
        "id": "xTHIoM_eACk1",
        "outputId": "ecc5dfab-f8e3-4b00-dd41-7600a5dc0483"
      },
      "execution_count": 114,
      "outputs": [
        {
          "output_type": "execute_result",
          "data": {
            "text/plain": [
              "                                                      DESCRIPTION  \\\n",
              "VIOLATION_CODE                                                      \n",
              "02A             Time/Temperature Control for Safety (TCS) food...   \n",
              "02A              Food not cooked to required minimum temperature.   \n",
              "02A             Time/Temperature Control for Safety (TCS) food...   \n",
              "02B                    Hot food item not held at or above 140º F.   \n",
              "02B                Hot TCS food item not held at or above 140 °F.   \n",
              "...                                                           ...   \n",
              "28-05           Food adulterated or misbranded.  Adulterated o...   \n",
              "28-05           Food adulterated or misbranded. Adulterated or...   \n",
              "28-06           Contract with a pest management professional n...   \n",
              "28-06           Contract with a pest management professional n...   \n",
              "28-07             Unapproved outdoor, street or sidewalk cooking.   \n",
              "\n",
              "                    CRITICAL  \n",
              "VIOLATION_CODE                \n",
              "02A                 Critical  \n",
              "02A                 Critical  \n",
              "02A                 Critical  \n",
              "02B                 Critical  \n",
              "02B                 Critical  \n",
              "...                      ...  \n",
              "28-05           Not Critical  \n",
              "28-05           Not Critical  \n",
              "28-06           Not Critical  \n",
              "28-06           Not Critical  \n",
              "28-07           Not Critical  \n",
              "\n",
              "[149 rows x 2 columns]"
            ],
            "text/html": [
              "\n",
              "  <div id=\"df-07a56693-f1e8-4c0f-9d76-01838fd1ba98\">\n",
              "    <div class=\"colab-df-container\">\n",
              "      <div>\n",
              "<style scoped>\n",
              "    .dataframe tbody tr th:only-of-type {\n",
              "        vertical-align: middle;\n",
              "    }\n",
              "\n",
              "    .dataframe tbody tr th {\n",
              "        vertical-align: top;\n",
              "    }\n",
              "\n",
              "    .dataframe thead th {\n",
              "        text-align: right;\n",
              "    }\n",
              "</style>\n",
              "<table border=\"1\" class=\"dataframe\">\n",
              "  <thead>\n",
              "    <tr style=\"text-align: right;\">\n",
              "      <th></th>\n",
              "      <th>DESCRIPTION</th>\n",
              "      <th>CRITICAL</th>\n",
              "    </tr>\n",
              "    <tr>\n",
              "      <th>VIOLATION_CODE</th>\n",
              "      <th></th>\n",
              "      <th></th>\n",
              "    </tr>\n",
              "  </thead>\n",
              "  <tbody>\n",
              "    <tr>\n",
              "      <th>02A</th>\n",
              "      <td>Time/Temperature Control for Safety (TCS) food...</td>\n",
              "      <td>Critical</td>\n",
              "    </tr>\n",
              "    <tr>\n",
              "      <th>02A</th>\n",
              "      <td>Food not cooked to required minimum temperature.</td>\n",
              "      <td>Critical</td>\n",
              "    </tr>\n",
              "    <tr>\n",
              "      <th>02A</th>\n",
              "      <td>Time/Temperature Control for Safety (TCS) food...</td>\n",
              "      <td>Critical</td>\n",
              "    </tr>\n",
              "    <tr>\n",
              "      <th>02B</th>\n",
              "      <td>Hot food item not held at or above 140º F.</td>\n",
              "      <td>Critical</td>\n",
              "    </tr>\n",
              "    <tr>\n",
              "      <th>02B</th>\n",
              "      <td>Hot TCS food item not held at or above 140 °F.</td>\n",
              "      <td>Critical</td>\n",
              "    </tr>\n",
              "    <tr>\n",
              "      <th>...</th>\n",
              "      <td>...</td>\n",
              "      <td>...</td>\n",
              "    </tr>\n",
              "    <tr>\n",
              "      <th>28-05</th>\n",
              "      <td>Food adulterated or misbranded.  Adulterated o...</td>\n",
              "      <td>Not Critical</td>\n",
              "    </tr>\n",
              "    <tr>\n",
              "      <th>28-05</th>\n",
              "      <td>Food adulterated or misbranded. Adulterated or...</td>\n",
              "      <td>Not Critical</td>\n",
              "    </tr>\n",
              "    <tr>\n",
              "      <th>28-06</th>\n",
              "      <td>Contract with a pest management professional n...</td>\n",
              "      <td>Not Critical</td>\n",
              "    </tr>\n",
              "    <tr>\n",
              "      <th>28-06</th>\n",
              "      <td>Contract with a pest management professional n...</td>\n",
              "      <td>Not Critical</td>\n",
              "    </tr>\n",
              "    <tr>\n",
              "      <th>28-07</th>\n",
              "      <td>Unapproved outdoor, street or sidewalk cooking.</td>\n",
              "      <td>Not Critical</td>\n",
              "    </tr>\n",
              "  </tbody>\n",
              "</table>\n",
              "<p>149 rows × 2 columns</p>\n",
              "</div>\n",
              "      <button class=\"colab-df-convert\" onclick=\"convertToInteractive('df-07a56693-f1e8-4c0f-9d76-01838fd1ba98')\"\n",
              "              title=\"Convert this dataframe to an interactive table.\"\n",
              "              style=\"display:none;\">\n",
              "        \n",
              "  <svg xmlns=\"http://www.w3.org/2000/svg\" height=\"24px\"viewBox=\"0 0 24 24\"\n",
              "       width=\"24px\">\n",
              "    <path d=\"M0 0h24v24H0V0z\" fill=\"none\"/>\n",
              "    <path d=\"M18.56 5.44l.94 2.06.94-2.06 2.06-.94-2.06-.94-.94-2.06-.94 2.06-2.06.94zm-11 1L8.5 8.5l.94-2.06 2.06-.94-2.06-.94L8.5 2.5l-.94 2.06-2.06.94zm10 10l.94 2.06.94-2.06 2.06-.94-2.06-.94-.94-2.06-.94 2.06-2.06.94z\"/><path d=\"M17.41 7.96l-1.37-1.37c-.4-.4-.92-.59-1.43-.59-.52 0-1.04.2-1.43.59L10.3 9.45l-7.72 7.72c-.78.78-.78 2.05 0 2.83L4 21.41c.39.39.9.59 1.41.59.51 0 1.02-.2 1.41-.59l7.78-7.78 2.81-2.81c.8-.78.8-2.07 0-2.86zM5.41 20L4 18.59l7.72-7.72 1.47 1.35L5.41 20z\"/>\n",
              "  </svg>\n",
              "      </button>\n",
              "      \n",
              "  <style>\n",
              "    .colab-df-container {\n",
              "      display:flex;\n",
              "      flex-wrap:wrap;\n",
              "      gap: 12px;\n",
              "    }\n",
              "\n",
              "    .colab-df-convert {\n",
              "      background-color: #E8F0FE;\n",
              "      border: none;\n",
              "      border-radius: 50%;\n",
              "      cursor: pointer;\n",
              "      display: none;\n",
              "      fill: #1967D2;\n",
              "      height: 32px;\n",
              "      padding: 0 0 0 0;\n",
              "      width: 32px;\n",
              "    }\n",
              "\n",
              "    .colab-df-convert:hover {\n",
              "      background-color: #E2EBFA;\n",
              "      box-shadow: 0px 1px 2px rgba(60, 64, 67, 0.3), 0px 1px 3px 1px rgba(60, 64, 67, 0.15);\n",
              "      fill: #174EA6;\n",
              "    }\n",
              "\n",
              "    [theme=dark] .colab-df-convert {\n",
              "      background-color: #3B4455;\n",
              "      fill: #D2E3FC;\n",
              "    }\n",
              "\n",
              "    [theme=dark] .colab-df-convert:hover {\n",
              "      background-color: #434B5C;\n",
              "      box-shadow: 0px 1px 3px 1px rgba(0, 0, 0, 0.15);\n",
              "      filter: drop-shadow(0px 1px 2px rgba(0, 0, 0, 0.3));\n",
              "      fill: #FFFFFF;\n",
              "    }\n",
              "  </style>\n",
              "\n",
              "      <script>\n",
              "        const buttonEl =\n",
              "          document.querySelector('#df-07a56693-f1e8-4c0f-9d76-01838fd1ba98 button.colab-df-convert');\n",
              "        buttonEl.style.display =\n",
              "          google.colab.kernel.accessAllowed ? 'block' : 'none';\n",
              "\n",
              "        async function convertToInteractive(key) {\n",
              "          const element = document.querySelector('#df-07a56693-f1e8-4c0f-9d76-01838fd1ba98');\n",
              "          const dataTable =\n",
              "            await google.colab.kernel.invokeFunction('convertToInteractive',\n",
              "                                                     [key], {});\n",
              "          if (!dataTable) return;\n",
              "\n",
              "          const docLinkHtml = 'Like what you see? Visit the ' +\n",
              "            '<a target=\"_blank\" href=https://colab.research.google.com/notebooks/data_table.ipynb>data table notebook</a>'\n",
              "            + ' to learn more about interactive tables.';\n",
              "          element.innerHTML = '';\n",
              "          dataTable['output_type'] = 'display_data';\n",
              "          await google.colab.output.renderOutput(dataTable, element);\n",
              "          const docLink = document.createElement('div');\n",
              "          docLink.innerHTML = docLinkHtml;\n",
              "          element.appendChild(docLink);\n",
              "        }\n",
              "      </script>\n",
              "    </div>\n",
              "  </div>\n",
              "  "
            ]
          },
          "metadata": {},
          "execution_count": 114
        }
      ]
    },
    {
      "cell_type": "code",
      "execution_count": 115,
      "metadata": {
        "id": "DQWMHrT87hur"
      },
      "outputs": [],
      "source": [
        "# Drop the description and critical part from the main dataframe\n",
        "df = df.drop(['VIOLATION_DESCRIPTION' ,  'CRITICAL_FLAG'], axis='columns')"
      ]
    },
    {
      "cell_type": "code",
      "execution_count": 116,
      "metadata": {
        "colab": {
          "base_uri": "https://localhost:8080/",
          "height": 765
        },
        "id": "JJ5_4rDn7hur",
        "outputId": "d1209ac1-e045-4443-a1cd-d1b5efdc7fb4"
      },
      "outputs": [
        {
          "output_type": "execute_result",
          "data": {
            "text/plain": [
              "           CAMIS                                  DBA           BORO BUILDING  \\\n",
              "1       50091019                        NEW CHINA ONE       Brooklyn      677   \n",
              "4       40401887             SPORTS MANIA BAR & GRILL         Queens   143-67   \n",
              "8       50093750             OUT LATIN FOOD BREAKFAST         Queens    10002   \n",
              "10      50038249                       TOUS LES JOURS         Queens     3902   \n",
              "15      40672603                               FAILTE      Manhattan      531   \n",
              "...          ...                                  ...            ...      ...   \n",
              "198575  41257059  PANADERIA LA MIXTECA POBLANA & DELI  Staten Island      104   \n",
              "198577  40513609                       SKYLIGHT DINER      Manhattan      402   \n",
              "198578  40482586                        BOOTH THEATER      Manhattan      220   \n",
              "198579  50043453                       RICKY'S HARDEE       Brooklyn      429   \n",
              "198580  50012841                   LITTLENECK OUTPOST       Brooklyn      128   \n",
              "\n",
              "                         STREET ZIPCODE       PHONE       CUISINE_DESCRIPTION  \\\n",
              "1                      5 AVENUE   11215  7187881166                   Chinese   \n",
              "4                    243 STREET   11422  7185259521                  American   \n",
              "8                     103RD AVE   11417  7188454770                   Spanish   \n",
              "10                     UNION ST   11354  7187626557  Bakery Products/Desserts   \n",
              "15                     2 AVENUE   10016  9172658687                     Irish   \n",
              "...                         ...     ...         ...                       ...   \n",
              "198575        VICTORY BOULEVARD   10301  7187201221                   Mexican   \n",
              "198577         WEST   34 STREET   10001  2122440395                  American   \n",
              "198578         WEST   45 STREET   10036  2125867610                  American   \n",
              "198579  MOTHER GASTON BOULEVARD   11212  7184848896                   Chinese   \n",
              "198580          FRANKLIN STREET   11222  7183833080                  American   \n",
              "\n",
              "       INSPECTION_DATE                ACTION  ...     INSPECTION_TYPE  \\\n",
              "1           2022-05-11      Violations found  ...  Initial Inspection   \n",
              "4           2022-01-04      Violations found  ...  Initial Inspection   \n",
              "8           2019-12-11      Violations found  ...  Initial Inspection   \n",
              "10          2020-02-05      Violations found  ...       Re-inspection   \n",
              "15          2022-04-14      Violations found  ...  Initial Inspection   \n",
              "...                ...                   ...  ...                 ...   \n",
              "198575      2020-02-26      Violations found  ...  Initial Inspection   \n",
              "198577      2021-07-28      Violations found  ...  Initial Inspection   \n",
              "198578      2019-06-13      Violations found  ...  Initial Inspection   \n",
              "198579      2023-04-24      Violations found  ...  Initial Inspection   \n",
              "198580      2019-11-19  Establishment closed  ...       Re-inspection   \n",
              "\n",
              "         LATITUDE  LONGITUDE COMMUNITY_BOARD  COUNCIL_DISTRICT  CENSUS_TRACT  \\\n",
              "1       40.661716 -73.993018             307                38        014500   \n",
              "4       40.660686 -73.739054             413                31        065400   \n",
              "8       40.683364 -73.841099             410                32        011200   \n",
              "10      40.760979 -73.826825             407                20        087100   \n",
              "15      40.741947 -73.977933             106                02        007000   \n",
              "...           ...        ...             ...               ...           ...   \n",
              "198575  40.637617 -74.080003             501                49        001700   \n",
              "198577  40.753479 -73.996560             104                03        010300   \n",
              "198578  40.758557 -73.986962             105                03        011900   \n",
              "198579  40.668472 -73.906536             316                41        090800   \n",
              "198580  40.729271 -73.957486             301                33        056500   \n",
              "\n",
              "            BIN         BBL   NTA TO_DELETE  \n",
              "1       3017374  3008910008  BK32     False  \n",
              "4       4448956  4135700060  QN05     False  \n",
              "8       4448744  4095040001  QN54     False  \n",
              "10      4112499  4049800041  QN22     False  \n",
              "15      1019926  1009100031  MN20     False  \n",
              "...         ...         ...   ...       ...  \n",
              "198575  5014589  5005690412  SI37     False  \n",
              "198577  1012849  1007310048  MN13     False  \n",
              "198578  1080841  1010160015  MN17     False  \n",
              "198579  3084008  3037430011  BK81     False  \n",
              "198580  3064804  3025630001  BK76     False  \n",
              "\n",
              "[133595 rows x 23 columns]"
            ],
            "text/html": [
              "\n",
              "  <div id=\"df-22f2013f-90a5-4abe-bb32-0a8677159810\">\n",
              "    <div class=\"colab-df-container\">\n",
              "      <div>\n",
              "<style scoped>\n",
              "    .dataframe tbody tr th:only-of-type {\n",
              "        vertical-align: middle;\n",
              "    }\n",
              "\n",
              "    .dataframe tbody tr th {\n",
              "        vertical-align: top;\n",
              "    }\n",
              "\n",
              "    .dataframe thead th {\n",
              "        text-align: right;\n",
              "    }\n",
              "</style>\n",
              "<table border=\"1\" class=\"dataframe\">\n",
              "  <thead>\n",
              "    <tr style=\"text-align: right;\">\n",
              "      <th></th>\n",
              "      <th>CAMIS</th>\n",
              "      <th>DBA</th>\n",
              "      <th>BORO</th>\n",
              "      <th>BUILDING</th>\n",
              "      <th>STREET</th>\n",
              "      <th>ZIPCODE</th>\n",
              "      <th>PHONE</th>\n",
              "      <th>CUISINE_DESCRIPTION</th>\n",
              "      <th>INSPECTION_DATE</th>\n",
              "      <th>ACTION</th>\n",
              "      <th>...</th>\n",
              "      <th>INSPECTION_TYPE</th>\n",
              "      <th>LATITUDE</th>\n",
              "      <th>LONGITUDE</th>\n",
              "      <th>COMMUNITY_BOARD</th>\n",
              "      <th>COUNCIL_DISTRICT</th>\n",
              "      <th>CENSUS_TRACT</th>\n",
              "      <th>BIN</th>\n",
              "      <th>BBL</th>\n",
              "      <th>NTA</th>\n",
              "      <th>TO_DELETE</th>\n",
              "    </tr>\n",
              "  </thead>\n",
              "  <tbody>\n",
              "    <tr>\n",
              "      <th>1</th>\n",
              "      <td>50091019</td>\n",
              "      <td>NEW CHINA ONE</td>\n",
              "      <td>Brooklyn</td>\n",
              "      <td>677</td>\n",
              "      <td>5 AVENUE</td>\n",
              "      <td>11215</td>\n",
              "      <td>7187881166</td>\n",
              "      <td>Chinese</td>\n",
              "      <td>2022-05-11</td>\n",
              "      <td>Violations found</td>\n",
              "      <td>...</td>\n",
              "      <td>Initial Inspection</td>\n",
              "      <td>40.661716</td>\n",
              "      <td>-73.993018</td>\n",
              "      <td>307</td>\n",
              "      <td>38</td>\n",
              "      <td>014500</td>\n",
              "      <td>3017374</td>\n",
              "      <td>3008910008</td>\n",
              "      <td>BK32</td>\n",
              "      <td>False</td>\n",
              "    </tr>\n",
              "    <tr>\n",
              "      <th>4</th>\n",
              "      <td>40401887</td>\n",
              "      <td>SPORTS MANIA BAR &amp; GRILL</td>\n",
              "      <td>Queens</td>\n",
              "      <td>143-67</td>\n",
              "      <td>243 STREET</td>\n",
              "      <td>11422</td>\n",
              "      <td>7185259521</td>\n",
              "      <td>American</td>\n",
              "      <td>2022-01-04</td>\n",
              "      <td>Violations found</td>\n",
              "      <td>...</td>\n",
              "      <td>Initial Inspection</td>\n",
              "      <td>40.660686</td>\n",
              "      <td>-73.739054</td>\n",
              "      <td>413</td>\n",
              "      <td>31</td>\n",
              "      <td>065400</td>\n",
              "      <td>4448956</td>\n",
              "      <td>4135700060</td>\n",
              "      <td>QN05</td>\n",
              "      <td>False</td>\n",
              "    </tr>\n",
              "    <tr>\n",
              "      <th>8</th>\n",
              "      <td>50093750</td>\n",
              "      <td>OUT LATIN FOOD BREAKFAST</td>\n",
              "      <td>Queens</td>\n",
              "      <td>10002</td>\n",
              "      <td>103RD AVE</td>\n",
              "      <td>11417</td>\n",
              "      <td>7188454770</td>\n",
              "      <td>Spanish</td>\n",
              "      <td>2019-12-11</td>\n",
              "      <td>Violations found</td>\n",
              "      <td>...</td>\n",
              "      <td>Initial Inspection</td>\n",
              "      <td>40.683364</td>\n",
              "      <td>-73.841099</td>\n",
              "      <td>410</td>\n",
              "      <td>32</td>\n",
              "      <td>011200</td>\n",
              "      <td>4448744</td>\n",
              "      <td>4095040001</td>\n",
              "      <td>QN54</td>\n",
              "      <td>False</td>\n",
              "    </tr>\n",
              "    <tr>\n",
              "      <th>10</th>\n",
              "      <td>50038249</td>\n",
              "      <td>TOUS LES JOURS</td>\n",
              "      <td>Queens</td>\n",
              "      <td>3902</td>\n",
              "      <td>UNION ST</td>\n",
              "      <td>11354</td>\n",
              "      <td>7187626557</td>\n",
              "      <td>Bakery Products/Desserts</td>\n",
              "      <td>2020-02-05</td>\n",
              "      <td>Violations found</td>\n",
              "      <td>...</td>\n",
              "      <td>Re-inspection</td>\n",
              "      <td>40.760979</td>\n",
              "      <td>-73.826825</td>\n",
              "      <td>407</td>\n",
              "      <td>20</td>\n",
              "      <td>087100</td>\n",
              "      <td>4112499</td>\n",
              "      <td>4049800041</td>\n",
              "      <td>QN22</td>\n",
              "      <td>False</td>\n",
              "    </tr>\n",
              "    <tr>\n",
              "      <th>15</th>\n",
              "      <td>40672603</td>\n",
              "      <td>FAILTE</td>\n",
              "      <td>Manhattan</td>\n",
              "      <td>531</td>\n",
              "      <td>2 AVENUE</td>\n",
              "      <td>10016</td>\n",
              "      <td>9172658687</td>\n",
              "      <td>Irish</td>\n",
              "      <td>2022-04-14</td>\n",
              "      <td>Violations found</td>\n",
              "      <td>...</td>\n",
              "      <td>Initial Inspection</td>\n",
              "      <td>40.741947</td>\n",
              "      <td>-73.977933</td>\n",
              "      <td>106</td>\n",
              "      <td>02</td>\n",
              "      <td>007000</td>\n",
              "      <td>1019926</td>\n",
              "      <td>1009100031</td>\n",
              "      <td>MN20</td>\n",
              "      <td>False</td>\n",
              "    </tr>\n",
              "    <tr>\n",
              "      <th>...</th>\n",
              "      <td>...</td>\n",
              "      <td>...</td>\n",
              "      <td>...</td>\n",
              "      <td>...</td>\n",
              "      <td>...</td>\n",
              "      <td>...</td>\n",
              "      <td>...</td>\n",
              "      <td>...</td>\n",
              "      <td>...</td>\n",
              "      <td>...</td>\n",
              "      <td>...</td>\n",
              "      <td>...</td>\n",
              "      <td>...</td>\n",
              "      <td>...</td>\n",
              "      <td>...</td>\n",
              "      <td>...</td>\n",
              "      <td>...</td>\n",
              "      <td>...</td>\n",
              "      <td>...</td>\n",
              "      <td>...</td>\n",
              "      <td>...</td>\n",
              "    </tr>\n",
              "    <tr>\n",
              "      <th>198575</th>\n",
              "      <td>41257059</td>\n",
              "      <td>PANADERIA LA MIXTECA POBLANA &amp; DELI</td>\n",
              "      <td>Staten Island</td>\n",
              "      <td>104</td>\n",
              "      <td>VICTORY BOULEVARD</td>\n",
              "      <td>10301</td>\n",
              "      <td>7187201221</td>\n",
              "      <td>Mexican</td>\n",
              "      <td>2020-02-26</td>\n",
              "      <td>Violations found</td>\n",
              "      <td>...</td>\n",
              "      <td>Initial Inspection</td>\n",
              "      <td>40.637617</td>\n",
              "      <td>-74.080003</td>\n",
              "      <td>501</td>\n",
              "      <td>49</td>\n",
              "      <td>001700</td>\n",
              "      <td>5014589</td>\n",
              "      <td>5005690412</td>\n",
              "      <td>SI37</td>\n",
              "      <td>False</td>\n",
              "    </tr>\n",
              "    <tr>\n",
              "      <th>198577</th>\n",
              "      <td>40513609</td>\n",
              "      <td>SKYLIGHT DINER</td>\n",
              "      <td>Manhattan</td>\n",
              "      <td>402</td>\n",
              "      <td>WEST   34 STREET</td>\n",
              "      <td>10001</td>\n",
              "      <td>2122440395</td>\n",
              "      <td>American</td>\n",
              "      <td>2021-07-28</td>\n",
              "      <td>Violations found</td>\n",
              "      <td>...</td>\n",
              "      <td>Initial Inspection</td>\n",
              "      <td>40.753479</td>\n",
              "      <td>-73.996560</td>\n",
              "      <td>104</td>\n",
              "      <td>03</td>\n",
              "      <td>010300</td>\n",
              "      <td>1012849</td>\n",
              "      <td>1007310048</td>\n",
              "      <td>MN13</td>\n",
              "      <td>False</td>\n",
              "    </tr>\n",
              "    <tr>\n",
              "      <th>198578</th>\n",
              "      <td>40482586</td>\n",
              "      <td>BOOTH THEATER</td>\n",
              "      <td>Manhattan</td>\n",
              "      <td>220</td>\n",
              "      <td>WEST   45 STREET</td>\n",
              "      <td>10036</td>\n",
              "      <td>2125867610</td>\n",
              "      <td>American</td>\n",
              "      <td>2019-06-13</td>\n",
              "      <td>Violations found</td>\n",
              "      <td>...</td>\n",
              "      <td>Initial Inspection</td>\n",
              "      <td>40.758557</td>\n",
              "      <td>-73.986962</td>\n",
              "      <td>105</td>\n",
              "      <td>03</td>\n",
              "      <td>011900</td>\n",
              "      <td>1080841</td>\n",
              "      <td>1010160015</td>\n",
              "      <td>MN17</td>\n",
              "      <td>False</td>\n",
              "    </tr>\n",
              "    <tr>\n",
              "      <th>198579</th>\n",
              "      <td>50043453</td>\n",
              "      <td>RICKY'S HARDEE</td>\n",
              "      <td>Brooklyn</td>\n",
              "      <td>429</td>\n",
              "      <td>MOTHER GASTON BOULEVARD</td>\n",
              "      <td>11212</td>\n",
              "      <td>7184848896</td>\n",
              "      <td>Chinese</td>\n",
              "      <td>2023-04-24</td>\n",
              "      <td>Violations found</td>\n",
              "      <td>...</td>\n",
              "      <td>Initial Inspection</td>\n",
              "      <td>40.668472</td>\n",
              "      <td>-73.906536</td>\n",
              "      <td>316</td>\n",
              "      <td>41</td>\n",
              "      <td>090800</td>\n",
              "      <td>3084008</td>\n",
              "      <td>3037430011</td>\n",
              "      <td>BK81</td>\n",
              "      <td>False</td>\n",
              "    </tr>\n",
              "    <tr>\n",
              "      <th>198580</th>\n",
              "      <td>50012841</td>\n",
              "      <td>LITTLENECK OUTPOST</td>\n",
              "      <td>Brooklyn</td>\n",
              "      <td>128</td>\n",
              "      <td>FRANKLIN STREET</td>\n",
              "      <td>11222</td>\n",
              "      <td>7183833080</td>\n",
              "      <td>American</td>\n",
              "      <td>2019-11-19</td>\n",
              "      <td>Establishment closed</td>\n",
              "      <td>...</td>\n",
              "      <td>Re-inspection</td>\n",
              "      <td>40.729271</td>\n",
              "      <td>-73.957486</td>\n",
              "      <td>301</td>\n",
              "      <td>33</td>\n",
              "      <td>056500</td>\n",
              "      <td>3064804</td>\n",
              "      <td>3025630001</td>\n",
              "      <td>BK76</td>\n",
              "      <td>False</td>\n",
              "    </tr>\n",
              "  </tbody>\n",
              "</table>\n",
              "<p>133595 rows × 23 columns</p>\n",
              "</div>\n",
              "      <button class=\"colab-df-convert\" onclick=\"convertToInteractive('df-22f2013f-90a5-4abe-bb32-0a8677159810')\"\n",
              "              title=\"Convert this dataframe to an interactive table.\"\n",
              "              style=\"display:none;\">\n",
              "        \n",
              "  <svg xmlns=\"http://www.w3.org/2000/svg\" height=\"24px\"viewBox=\"0 0 24 24\"\n",
              "       width=\"24px\">\n",
              "    <path d=\"M0 0h24v24H0V0z\" fill=\"none\"/>\n",
              "    <path d=\"M18.56 5.44l.94 2.06.94-2.06 2.06-.94-2.06-.94-.94-2.06-.94 2.06-2.06.94zm-11 1L8.5 8.5l.94-2.06 2.06-.94-2.06-.94L8.5 2.5l-.94 2.06-2.06.94zm10 10l.94 2.06.94-2.06 2.06-.94-2.06-.94-.94-2.06-.94 2.06-2.06.94z\"/><path d=\"M17.41 7.96l-1.37-1.37c-.4-.4-.92-.59-1.43-.59-.52 0-1.04.2-1.43.59L10.3 9.45l-7.72 7.72c-.78.78-.78 2.05 0 2.83L4 21.41c.39.39.9.59 1.41.59.51 0 1.02-.2 1.41-.59l7.78-7.78 2.81-2.81c.8-.78.8-2.07 0-2.86zM5.41 20L4 18.59l7.72-7.72 1.47 1.35L5.41 20z\"/>\n",
              "  </svg>\n",
              "      </button>\n",
              "      \n",
              "  <style>\n",
              "    .colab-df-container {\n",
              "      display:flex;\n",
              "      flex-wrap:wrap;\n",
              "      gap: 12px;\n",
              "    }\n",
              "\n",
              "    .colab-df-convert {\n",
              "      background-color: #E8F0FE;\n",
              "      border: none;\n",
              "      border-radius: 50%;\n",
              "      cursor: pointer;\n",
              "      display: none;\n",
              "      fill: #1967D2;\n",
              "      height: 32px;\n",
              "      padding: 0 0 0 0;\n",
              "      width: 32px;\n",
              "    }\n",
              "\n",
              "    .colab-df-convert:hover {\n",
              "      background-color: #E2EBFA;\n",
              "      box-shadow: 0px 1px 2px rgba(60, 64, 67, 0.3), 0px 1px 3px 1px rgba(60, 64, 67, 0.15);\n",
              "      fill: #174EA6;\n",
              "    }\n",
              "\n",
              "    [theme=dark] .colab-df-convert {\n",
              "      background-color: #3B4455;\n",
              "      fill: #D2E3FC;\n",
              "    }\n",
              "\n",
              "    [theme=dark] .colab-df-convert:hover {\n",
              "      background-color: #434B5C;\n",
              "      box-shadow: 0px 1px 3px 1px rgba(0, 0, 0, 0.15);\n",
              "      filter: drop-shadow(0px 1px 2px rgba(0, 0, 0, 0.3));\n",
              "      fill: #FFFFFF;\n",
              "    }\n",
              "  </style>\n",
              "\n",
              "      <script>\n",
              "        const buttonEl =\n",
              "          document.querySelector('#df-22f2013f-90a5-4abe-bb32-0a8677159810 button.colab-df-convert');\n",
              "        buttonEl.style.display =\n",
              "          google.colab.kernel.accessAllowed ? 'block' : 'none';\n",
              "\n",
              "        async function convertToInteractive(key) {\n",
              "          const element = document.querySelector('#df-22f2013f-90a5-4abe-bb32-0a8677159810');\n",
              "          const dataTable =\n",
              "            await google.colab.kernel.invokeFunction('convertToInteractive',\n",
              "                                                     [key], {});\n",
              "          if (!dataTable) return;\n",
              "\n",
              "          const docLinkHtml = 'Like what you see? Visit the ' +\n",
              "            '<a target=\"_blank\" href=https://colab.research.google.com/notebooks/data_table.ipynb>data table notebook</a>'\n",
              "            + ' to learn more about interactive tables.';\n",
              "          element.innerHTML = '';\n",
              "          dataTable['output_type'] = 'display_data';\n",
              "          await google.colab.output.renderOutput(dataTable, element);\n",
              "          const docLink = document.createElement('div');\n",
              "          docLink.innerHTML = docLinkHtml;\n",
              "          element.appendChild(docLink);\n",
              "        }\n",
              "      </script>\n",
              "    </div>\n",
              "  </div>\n",
              "  "
            ]
          },
          "metadata": {},
          "execution_count": 116
        }
      ],
      "source": [
        "df"
      ]
    },
    {
      "cell_type": "markdown",
      "metadata": {
        "id": "MrUI18e37hur"
      },
      "source": [
        "### Restaurants"
      ]
    },
    {
      "cell_type": "code",
      "source": [
        "df.columns.values"
      ],
      "metadata": {
        "colab": {
          "base_uri": "https://localhost:8080/"
        },
        "id": "lKw4wp4T-D67",
        "outputId": "bca81e0c-d0c4-4426-8a86-ec508d27f148"
      },
      "execution_count": 117,
      "outputs": [
        {
          "output_type": "execute_result",
          "data": {
            "text/plain": [
              "array(['CAMIS', 'DBA', 'BORO', 'BUILDING', 'STREET', 'ZIPCODE', 'PHONE',\n",
              "       'CUISINE_DESCRIPTION', 'INSPECTION_DATE', 'ACTION',\n",
              "       'VIOLATION_CODE', 'SCORE', 'GRADE', 'INSPECTION_TYPE', 'LATITUDE',\n",
              "       'LONGITUDE', 'COMMUNITY_BOARD', 'COUNCIL_DISTRICT', 'CENSUS_TRACT',\n",
              "       'BIN', 'BBL', 'NTA', 'TO_DELETE'], dtype=object)"
            ]
          },
          "metadata": {},
          "execution_count": 117
        }
      ]
    },
    {
      "cell_type": "code",
      "execution_count": 118,
      "metadata": {
        "id": "ikNiszYg7hur"
      },
      "outputs": [],
      "source": [
        "columns = ['CAMIS', 'DBA', 'BUILDING', 'STREET', 'ZIPCODE', 'BORO', 'PHONE', \n",
        "           'CUISINE_DESCRIPTION', 'LATITUDE', 'LONGITUDE',\n",
        "       'COMMUNITY_BOARD', 'COUNCIL_DISTRICT', 'CENSUS_TRACT', 'BIN',\n",
        "       'BBL', 'NTA']\n",
        "restaurants =  df [ columns ].drop_duplicates()"
      ]
    },
    {
      "cell_type": "code",
      "execution_count": 119,
      "metadata": {
        "id": "cvc0BJm77hur"
      },
      "outputs": [],
      "source": [
        "# Check that we have the same attributes for a given CAMIS\n",
        "# and the we do not have duplicate CAMIS values\n",
        "assert len(restaurants) == len(set(restaurants.CAMIS.values))"
      ]
    },
    {
      "cell_type": "code",
      "execution_count": 120,
      "metadata": {
        "colab": {
          "base_uri": "https://localhost:8080/",
          "height": 302
        },
        "id": "rlfKBA8c7hur",
        "outputId": "6269e7e0-e8ae-4e23-e570-7405ec61ed75"
      },
      "outputs": [
        {
          "output_type": "execute_result",
          "data": {
            "text/plain": [
              "       CAMIS                       DBA BUILDING      STREET ZIPCODE  \\\n",
              "1   50091019             NEW CHINA ONE      677    5 AVENUE   11215   \n",
              "4   40401887  SPORTS MANIA BAR & GRILL   143-67  243 STREET   11422   \n",
              "8   50093750  OUT LATIN FOOD BREAKFAST    10002   103RD AVE   11417   \n",
              "10  50038249            TOUS LES JOURS     3902    UNION ST   11354   \n",
              "15  40672603                    FAILTE      531    2 AVENUE   10016   \n",
              "\n",
              "         BORO       PHONE       CUISINE_DESCRIPTION   LATITUDE  LONGITUDE  \\\n",
              "1    Brooklyn  7187881166                   Chinese  40.661716 -73.993018   \n",
              "4      Queens  7185259521                  American  40.660686 -73.739054   \n",
              "8      Queens  7188454770                   Spanish  40.683364 -73.841099   \n",
              "10     Queens  7187626557  Bakery Products/Desserts  40.760979 -73.826825   \n",
              "15  Manhattan  9172658687                     Irish  40.741947 -73.977933   \n",
              "\n",
              "   COMMUNITY_BOARD COUNCIL_DISTRICT CENSUS_TRACT      BIN         BBL   NTA  \n",
              "1              307               38       014500  3017374  3008910008  BK32  \n",
              "4              413               31       065400  4448956  4135700060  QN05  \n",
              "8              410               32       011200  4448744  4095040001  QN54  \n",
              "10             407               20       087100  4112499  4049800041  QN22  \n",
              "15             106               02       007000  1019926  1009100031  MN20  "
            ],
            "text/html": [
              "\n",
              "  <div id=\"df-3127cde3-6d09-403a-a72d-72dced1dcffd\">\n",
              "    <div class=\"colab-df-container\">\n",
              "      <div>\n",
              "<style scoped>\n",
              "    .dataframe tbody tr th:only-of-type {\n",
              "        vertical-align: middle;\n",
              "    }\n",
              "\n",
              "    .dataframe tbody tr th {\n",
              "        vertical-align: top;\n",
              "    }\n",
              "\n",
              "    .dataframe thead th {\n",
              "        text-align: right;\n",
              "    }\n",
              "</style>\n",
              "<table border=\"1\" class=\"dataframe\">\n",
              "  <thead>\n",
              "    <tr style=\"text-align: right;\">\n",
              "      <th></th>\n",
              "      <th>CAMIS</th>\n",
              "      <th>DBA</th>\n",
              "      <th>BUILDING</th>\n",
              "      <th>STREET</th>\n",
              "      <th>ZIPCODE</th>\n",
              "      <th>BORO</th>\n",
              "      <th>PHONE</th>\n",
              "      <th>CUISINE_DESCRIPTION</th>\n",
              "      <th>LATITUDE</th>\n",
              "      <th>LONGITUDE</th>\n",
              "      <th>COMMUNITY_BOARD</th>\n",
              "      <th>COUNCIL_DISTRICT</th>\n",
              "      <th>CENSUS_TRACT</th>\n",
              "      <th>BIN</th>\n",
              "      <th>BBL</th>\n",
              "      <th>NTA</th>\n",
              "    </tr>\n",
              "  </thead>\n",
              "  <tbody>\n",
              "    <tr>\n",
              "      <th>1</th>\n",
              "      <td>50091019</td>\n",
              "      <td>NEW CHINA ONE</td>\n",
              "      <td>677</td>\n",
              "      <td>5 AVENUE</td>\n",
              "      <td>11215</td>\n",
              "      <td>Brooklyn</td>\n",
              "      <td>7187881166</td>\n",
              "      <td>Chinese</td>\n",
              "      <td>40.661716</td>\n",
              "      <td>-73.993018</td>\n",
              "      <td>307</td>\n",
              "      <td>38</td>\n",
              "      <td>014500</td>\n",
              "      <td>3017374</td>\n",
              "      <td>3008910008</td>\n",
              "      <td>BK32</td>\n",
              "    </tr>\n",
              "    <tr>\n",
              "      <th>4</th>\n",
              "      <td>40401887</td>\n",
              "      <td>SPORTS MANIA BAR &amp; GRILL</td>\n",
              "      <td>143-67</td>\n",
              "      <td>243 STREET</td>\n",
              "      <td>11422</td>\n",
              "      <td>Queens</td>\n",
              "      <td>7185259521</td>\n",
              "      <td>American</td>\n",
              "      <td>40.660686</td>\n",
              "      <td>-73.739054</td>\n",
              "      <td>413</td>\n",
              "      <td>31</td>\n",
              "      <td>065400</td>\n",
              "      <td>4448956</td>\n",
              "      <td>4135700060</td>\n",
              "      <td>QN05</td>\n",
              "    </tr>\n",
              "    <tr>\n",
              "      <th>8</th>\n",
              "      <td>50093750</td>\n",
              "      <td>OUT LATIN FOOD BREAKFAST</td>\n",
              "      <td>10002</td>\n",
              "      <td>103RD AVE</td>\n",
              "      <td>11417</td>\n",
              "      <td>Queens</td>\n",
              "      <td>7188454770</td>\n",
              "      <td>Spanish</td>\n",
              "      <td>40.683364</td>\n",
              "      <td>-73.841099</td>\n",
              "      <td>410</td>\n",
              "      <td>32</td>\n",
              "      <td>011200</td>\n",
              "      <td>4448744</td>\n",
              "      <td>4095040001</td>\n",
              "      <td>QN54</td>\n",
              "    </tr>\n",
              "    <tr>\n",
              "      <th>10</th>\n",
              "      <td>50038249</td>\n",
              "      <td>TOUS LES JOURS</td>\n",
              "      <td>3902</td>\n",
              "      <td>UNION ST</td>\n",
              "      <td>11354</td>\n",
              "      <td>Queens</td>\n",
              "      <td>7187626557</td>\n",
              "      <td>Bakery Products/Desserts</td>\n",
              "      <td>40.760979</td>\n",
              "      <td>-73.826825</td>\n",
              "      <td>407</td>\n",
              "      <td>20</td>\n",
              "      <td>087100</td>\n",
              "      <td>4112499</td>\n",
              "      <td>4049800041</td>\n",
              "      <td>QN22</td>\n",
              "    </tr>\n",
              "    <tr>\n",
              "      <th>15</th>\n",
              "      <td>40672603</td>\n",
              "      <td>FAILTE</td>\n",
              "      <td>531</td>\n",
              "      <td>2 AVENUE</td>\n",
              "      <td>10016</td>\n",
              "      <td>Manhattan</td>\n",
              "      <td>9172658687</td>\n",
              "      <td>Irish</td>\n",
              "      <td>40.741947</td>\n",
              "      <td>-73.977933</td>\n",
              "      <td>106</td>\n",
              "      <td>02</td>\n",
              "      <td>007000</td>\n",
              "      <td>1019926</td>\n",
              "      <td>1009100031</td>\n",
              "      <td>MN20</td>\n",
              "    </tr>\n",
              "  </tbody>\n",
              "</table>\n",
              "</div>\n",
              "      <button class=\"colab-df-convert\" onclick=\"convertToInteractive('df-3127cde3-6d09-403a-a72d-72dced1dcffd')\"\n",
              "              title=\"Convert this dataframe to an interactive table.\"\n",
              "              style=\"display:none;\">\n",
              "        \n",
              "  <svg xmlns=\"http://www.w3.org/2000/svg\" height=\"24px\"viewBox=\"0 0 24 24\"\n",
              "       width=\"24px\">\n",
              "    <path d=\"M0 0h24v24H0V0z\" fill=\"none\"/>\n",
              "    <path d=\"M18.56 5.44l.94 2.06.94-2.06 2.06-.94-2.06-.94-.94-2.06-.94 2.06-2.06.94zm-11 1L8.5 8.5l.94-2.06 2.06-.94-2.06-.94L8.5 2.5l-.94 2.06-2.06.94zm10 10l.94 2.06.94-2.06 2.06-.94-2.06-.94-.94-2.06-.94 2.06-2.06.94z\"/><path d=\"M17.41 7.96l-1.37-1.37c-.4-.4-.92-.59-1.43-.59-.52 0-1.04.2-1.43.59L10.3 9.45l-7.72 7.72c-.78.78-.78 2.05 0 2.83L4 21.41c.39.39.9.59 1.41.59.51 0 1.02-.2 1.41-.59l7.78-7.78 2.81-2.81c.8-.78.8-2.07 0-2.86zM5.41 20L4 18.59l7.72-7.72 1.47 1.35L5.41 20z\"/>\n",
              "  </svg>\n",
              "      </button>\n",
              "      \n",
              "  <style>\n",
              "    .colab-df-container {\n",
              "      display:flex;\n",
              "      flex-wrap:wrap;\n",
              "      gap: 12px;\n",
              "    }\n",
              "\n",
              "    .colab-df-convert {\n",
              "      background-color: #E8F0FE;\n",
              "      border: none;\n",
              "      border-radius: 50%;\n",
              "      cursor: pointer;\n",
              "      display: none;\n",
              "      fill: #1967D2;\n",
              "      height: 32px;\n",
              "      padding: 0 0 0 0;\n",
              "      width: 32px;\n",
              "    }\n",
              "\n",
              "    .colab-df-convert:hover {\n",
              "      background-color: #E2EBFA;\n",
              "      box-shadow: 0px 1px 2px rgba(60, 64, 67, 0.3), 0px 1px 3px 1px rgba(60, 64, 67, 0.15);\n",
              "      fill: #174EA6;\n",
              "    }\n",
              "\n",
              "    [theme=dark] .colab-df-convert {\n",
              "      background-color: #3B4455;\n",
              "      fill: #D2E3FC;\n",
              "    }\n",
              "\n",
              "    [theme=dark] .colab-df-convert:hover {\n",
              "      background-color: #434B5C;\n",
              "      box-shadow: 0px 1px 3px 1px rgba(0, 0, 0, 0.15);\n",
              "      filter: drop-shadow(0px 1px 2px rgba(0, 0, 0, 0.3));\n",
              "      fill: #FFFFFF;\n",
              "    }\n",
              "  </style>\n",
              "\n",
              "      <script>\n",
              "        const buttonEl =\n",
              "          document.querySelector('#df-3127cde3-6d09-403a-a72d-72dced1dcffd button.colab-df-convert');\n",
              "        buttonEl.style.display =\n",
              "          google.colab.kernel.accessAllowed ? 'block' : 'none';\n",
              "\n",
              "        async function convertToInteractive(key) {\n",
              "          const element = document.querySelector('#df-3127cde3-6d09-403a-a72d-72dced1dcffd');\n",
              "          const dataTable =\n",
              "            await google.colab.kernel.invokeFunction('convertToInteractive',\n",
              "                                                     [key], {});\n",
              "          if (!dataTable) return;\n",
              "\n",
              "          const docLinkHtml = 'Like what you see? Visit the ' +\n",
              "            '<a target=\"_blank\" href=https://colab.research.google.com/notebooks/data_table.ipynb>data table notebook</a>'\n",
              "            + ' to learn more about interactive tables.';\n",
              "          element.innerHTML = '';\n",
              "          dataTable['output_type'] = 'display_data';\n",
              "          await google.colab.output.renderOutput(dataTable, element);\n",
              "          const docLink = document.createElement('div');\n",
              "          docLink.innerHTML = docLinkHtml;\n",
              "          element.appendChild(docLink);\n",
              "        }\n",
              "      </script>\n",
              "    </div>\n",
              "  </div>\n",
              "  "
            ]
          },
          "metadata": {},
          "execution_count": 120
        }
      ],
      "source": [
        "restaurants.head(5)"
      ]
    },
    {
      "cell_type": "code",
      "execution_count": 121,
      "metadata": {
        "colab": {
          "base_uri": "https://localhost:8080/"
        },
        "id": "BGPNYPFe7hus",
        "outputId": "b17790ed-dc34-40d8-8934-b01e1265fbf6"
      },
      "outputs": [
        {
          "output_type": "execute_result",
          "data": {
            "text/plain": [
              "2124656273    43\n",
              "9176186310    33\n",
              "9172843260    29\n",
              "2126159700    18\n",
              "2125867610    17\n",
              "7182153308    15\n",
              "2124656302    14\n",
              "2125825472    14\n",
              "__________    12\n",
              "7182246030    10\n",
              "9178863304    10\n",
              "9177437388    10\n",
              "7186566210     9\n",
              "2122441111     9\n",
              "2125325003     8\n",
              "9177965620     8\n",
              "2129818588     8\n",
              "2123959280     8\n",
              "7043285090     8\n",
              "6143187413     8\n",
              "Name: PHONE, dtype: int64"
            ]
          },
          "metadata": {},
          "execution_count": 121
        }
      ],
      "source": [
        "restaurants.PHONE.value_counts().head(20)"
      ]
    },
    {
      "cell_type": "code",
      "execution_count": null,
      "metadata": {
        "id": "yp58wsk27hus"
      },
      "outputs": [],
      "source": [
        "# __ = restaurants.PHONE.value_counts().head(10).index.values[7]"
      ]
    },
    {
      "cell_type": "code",
      "execution_count": null,
      "metadata": {
        "id": "sBCfrsTJ7hus"
      },
      "outputs": [],
      "source": [
        "# restaurants.PHONE.replace(to_replace=__, value=np.nan, inplace=True)"
      ]
    },
    {
      "cell_type": "code",
      "execution_count": null,
      "metadata": {
        "id": "Q3l3iVRd7hus"
      },
      "outputs": [],
      "source": [
        "# Citi Field concessions\n",
        "# restaurants.query(\"PHONE == '7185958100'\").head(5)"
      ]
    },
    {
      "cell_type": "code",
      "execution_count": null,
      "metadata": {
        "scrolled": true,
        "id": "srWH0cyp7hus"
      },
      "outputs": [],
      "source": [
        "# Madison Square Garden concession stands\n",
        "# restaurants.query(\"PHONE == '2124656273'\").head(5)"
      ]
    },
    {
      "cell_type": "code",
      "execution_count": null,
      "metadata": {
        "id": "q-5ciQBH7hus"
      },
      "outputs": [],
      "source": [
        "# restaurants.plot(kind='scatter', x='LONGITUDE', y='LATITUDE', alpha=0.2, s=1, figsize=(15,15))"
      ]
    },
    {
      "cell_type": "code",
      "execution_count": 122,
      "metadata": {
        "id": "TKSsNwyB7hus"
      },
      "outputs": [],
      "source": [
        "df = df.drop (columns[1:], axis='columns')"
      ]
    },
    {
      "cell_type": "code",
      "source": [
        "df"
      ],
      "metadata": {
        "colab": {
          "base_uri": "https://localhost:8080/",
          "height": 423
        },
        "id": "49tmzz00-yBZ",
        "outputId": "7f43c350-8d78-4910-c6bc-5305622f8c0b"
      },
      "execution_count": 123,
      "outputs": [
        {
          "output_type": "execute_result",
          "data": {
            "text/plain": [
              "           CAMIS INSPECTION_DATE                ACTION VIOLATION_CODE  SCORE  \\\n",
              "1       50091019      2022-05-11      Violations found            02B   28.0   \n",
              "4       40401887      2022-01-04      Violations found            04L   22.0   \n",
              "8       50093750      2019-12-11      Violations found            04A   24.0   \n",
              "10      50038249      2020-02-05      Violations found            02B   12.0   \n",
              "15      40672603      2022-04-14      Violations found            04L   59.0   \n",
              "...          ...             ...                   ...            ...    ...   \n",
              "198575  41257059      2020-02-26      Violations found            04N   36.0   \n",
              "198577  40513609      2021-07-28      Violations found            10D   12.0   \n",
              "198578  40482586      2019-06-13      Violations found            06D    9.0   \n",
              "198579  50043453      2023-04-24      Violations found            06D   40.0   \n",
              "198580  50012841      2019-11-19  Establishment closed            04N   56.0   \n",
              "\n",
              "       GRADE     INSPECTION_TYPE  TO_DELETE  \n",
              "1        NaN  Initial Inspection      False  \n",
              "4        NaN  Initial Inspection      False  \n",
              "8        NaN  Initial Inspection      False  \n",
              "10         A       Re-inspection      False  \n",
              "15       NaN  Initial Inspection      False  \n",
              "...      ...                 ...        ...  \n",
              "198575   NaN  Initial Inspection      False  \n",
              "198577     A  Initial Inspection      False  \n",
              "198578     A  Initial Inspection      False  \n",
              "198579   NaN  Initial Inspection      False  \n",
              "198580   NaN       Re-inspection      False  \n",
              "\n",
              "[133595 rows x 8 columns]"
            ],
            "text/html": [
              "\n",
              "  <div id=\"df-9aef2c22-55a1-4f05-8022-bf689cdd4ca6\">\n",
              "    <div class=\"colab-df-container\">\n",
              "      <div>\n",
              "<style scoped>\n",
              "    .dataframe tbody tr th:only-of-type {\n",
              "        vertical-align: middle;\n",
              "    }\n",
              "\n",
              "    .dataframe tbody tr th {\n",
              "        vertical-align: top;\n",
              "    }\n",
              "\n",
              "    .dataframe thead th {\n",
              "        text-align: right;\n",
              "    }\n",
              "</style>\n",
              "<table border=\"1\" class=\"dataframe\">\n",
              "  <thead>\n",
              "    <tr style=\"text-align: right;\">\n",
              "      <th></th>\n",
              "      <th>CAMIS</th>\n",
              "      <th>INSPECTION_DATE</th>\n",
              "      <th>ACTION</th>\n",
              "      <th>VIOLATION_CODE</th>\n",
              "      <th>SCORE</th>\n",
              "      <th>GRADE</th>\n",
              "      <th>INSPECTION_TYPE</th>\n",
              "      <th>TO_DELETE</th>\n",
              "    </tr>\n",
              "  </thead>\n",
              "  <tbody>\n",
              "    <tr>\n",
              "      <th>1</th>\n",
              "      <td>50091019</td>\n",
              "      <td>2022-05-11</td>\n",
              "      <td>Violations found</td>\n",
              "      <td>02B</td>\n",
              "      <td>28.0</td>\n",
              "      <td>NaN</td>\n",
              "      <td>Initial Inspection</td>\n",
              "      <td>False</td>\n",
              "    </tr>\n",
              "    <tr>\n",
              "      <th>4</th>\n",
              "      <td>40401887</td>\n",
              "      <td>2022-01-04</td>\n",
              "      <td>Violations found</td>\n",
              "      <td>04L</td>\n",
              "      <td>22.0</td>\n",
              "      <td>NaN</td>\n",
              "      <td>Initial Inspection</td>\n",
              "      <td>False</td>\n",
              "    </tr>\n",
              "    <tr>\n",
              "      <th>8</th>\n",
              "      <td>50093750</td>\n",
              "      <td>2019-12-11</td>\n",
              "      <td>Violations found</td>\n",
              "      <td>04A</td>\n",
              "      <td>24.0</td>\n",
              "      <td>NaN</td>\n",
              "      <td>Initial Inspection</td>\n",
              "      <td>False</td>\n",
              "    </tr>\n",
              "    <tr>\n",
              "      <th>10</th>\n",
              "      <td>50038249</td>\n",
              "      <td>2020-02-05</td>\n",
              "      <td>Violations found</td>\n",
              "      <td>02B</td>\n",
              "      <td>12.0</td>\n",
              "      <td>A</td>\n",
              "      <td>Re-inspection</td>\n",
              "      <td>False</td>\n",
              "    </tr>\n",
              "    <tr>\n",
              "      <th>15</th>\n",
              "      <td>40672603</td>\n",
              "      <td>2022-04-14</td>\n",
              "      <td>Violations found</td>\n",
              "      <td>04L</td>\n",
              "      <td>59.0</td>\n",
              "      <td>NaN</td>\n",
              "      <td>Initial Inspection</td>\n",
              "      <td>False</td>\n",
              "    </tr>\n",
              "    <tr>\n",
              "      <th>...</th>\n",
              "      <td>...</td>\n",
              "      <td>...</td>\n",
              "      <td>...</td>\n",
              "      <td>...</td>\n",
              "      <td>...</td>\n",
              "      <td>...</td>\n",
              "      <td>...</td>\n",
              "      <td>...</td>\n",
              "    </tr>\n",
              "    <tr>\n",
              "      <th>198575</th>\n",
              "      <td>41257059</td>\n",
              "      <td>2020-02-26</td>\n",
              "      <td>Violations found</td>\n",
              "      <td>04N</td>\n",
              "      <td>36.0</td>\n",
              "      <td>NaN</td>\n",
              "      <td>Initial Inspection</td>\n",
              "      <td>False</td>\n",
              "    </tr>\n",
              "    <tr>\n",
              "      <th>198577</th>\n",
              "      <td>40513609</td>\n",
              "      <td>2021-07-28</td>\n",
              "      <td>Violations found</td>\n",
              "      <td>10D</td>\n",
              "      <td>12.0</td>\n",
              "      <td>A</td>\n",
              "      <td>Initial Inspection</td>\n",
              "      <td>False</td>\n",
              "    </tr>\n",
              "    <tr>\n",
              "      <th>198578</th>\n",
              "      <td>40482586</td>\n",
              "      <td>2019-06-13</td>\n",
              "      <td>Violations found</td>\n",
              "      <td>06D</td>\n",
              "      <td>9.0</td>\n",
              "      <td>A</td>\n",
              "      <td>Initial Inspection</td>\n",
              "      <td>False</td>\n",
              "    </tr>\n",
              "    <tr>\n",
              "      <th>198579</th>\n",
              "      <td>50043453</td>\n",
              "      <td>2023-04-24</td>\n",
              "      <td>Violations found</td>\n",
              "      <td>06D</td>\n",
              "      <td>40.0</td>\n",
              "      <td>NaN</td>\n",
              "      <td>Initial Inspection</td>\n",
              "      <td>False</td>\n",
              "    </tr>\n",
              "    <tr>\n",
              "      <th>198580</th>\n",
              "      <td>50012841</td>\n",
              "      <td>2019-11-19</td>\n",
              "      <td>Establishment closed</td>\n",
              "      <td>04N</td>\n",
              "      <td>56.0</td>\n",
              "      <td>NaN</td>\n",
              "      <td>Re-inspection</td>\n",
              "      <td>False</td>\n",
              "    </tr>\n",
              "  </tbody>\n",
              "</table>\n",
              "<p>133595 rows × 8 columns</p>\n",
              "</div>\n",
              "      <button class=\"colab-df-convert\" onclick=\"convertToInteractive('df-9aef2c22-55a1-4f05-8022-bf689cdd4ca6')\"\n",
              "              title=\"Convert this dataframe to an interactive table.\"\n",
              "              style=\"display:none;\">\n",
              "        \n",
              "  <svg xmlns=\"http://www.w3.org/2000/svg\" height=\"24px\"viewBox=\"0 0 24 24\"\n",
              "       width=\"24px\">\n",
              "    <path d=\"M0 0h24v24H0V0z\" fill=\"none\"/>\n",
              "    <path d=\"M18.56 5.44l.94 2.06.94-2.06 2.06-.94-2.06-.94-.94-2.06-.94 2.06-2.06.94zm-11 1L8.5 8.5l.94-2.06 2.06-.94-2.06-.94L8.5 2.5l-.94 2.06-2.06.94zm10 10l.94 2.06.94-2.06 2.06-.94-2.06-.94-.94-2.06-.94 2.06-2.06.94z\"/><path d=\"M17.41 7.96l-1.37-1.37c-.4-.4-.92-.59-1.43-.59-.52 0-1.04.2-1.43.59L10.3 9.45l-7.72 7.72c-.78.78-.78 2.05 0 2.83L4 21.41c.39.39.9.59 1.41.59.51 0 1.02-.2 1.41-.59l7.78-7.78 2.81-2.81c.8-.78.8-2.07 0-2.86zM5.41 20L4 18.59l7.72-7.72 1.47 1.35L5.41 20z\"/>\n",
              "  </svg>\n",
              "      </button>\n",
              "      \n",
              "  <style>\n",
              "    .colab-df-container {\n",
              "      display:flex;\n",
              "      flex-wrap:wrap;\n",
              "      gap: 12px;\n",
              "    }\n",
              "\n",
              "    .colab-df-convert {\n",
              "      background-color: #E8F0FE;\n",
              "      border: none;\n",
              "      border-radius: 50%;\n",
              "      cursor: pointer;\n",
              "      display: none;\n",
              "      fill: #1967D2;\n",
              "      height: 32px;\n",
              "      padding: 0 0 0 0;\n",
              "      width: 32px;\n",
              "    }\n",
              "\n",
              "    .colab-df-convert:hover {\n",
              "      background-color: #E2EBFA;\n",
              "      box-shadow: 0px 1px 2px rgba(60, 64, 67, 0.3), 0px 1px 3px 1px rgba(60, 64, 67, 0.15);\n",
              "      fill: #174EA6;\n",
              "    }\n",
              "\n",
              "    [theme=dark] .colab-df-convert {\n",
              "      background-color: #3B4455;\n",
              "      fill: #D2E3FC;\n",
              "    }\n",
              "\n",
              "    [theme=dark] .colab-df-convert:hover {\n",
              "      background-color: #434B5C;\n",
              "      box-shadow: 0px 1px 3px 1px rgba(0, 0, 0, 0.15);\n",
              "      filter: drop-shadow(0px 1px 2px rgba(0, 0, 0, 0.3));\n",
              "      fill: #FFFFFF;\n",
              "    }\n",
              "  </style>\n",
              "\n",
              "      <script>\n",
              "        const buttonEl =\n",
              "          document.querySelector('#df-9aef2c22-55a1-4f05-8022-bf689cdd4ca6 button.colab-df-convert');\n",
              "        buttonEl.style.display =\n",
              "          google.colab.kernel.accessAllowed ? 'block' : 'none';\n",
              "\n",
              "        async function convertToInteractive(key) {\n",
              "          const element = document.querySelector('#df-9aef2c22-55a1-4f05-8022-bf689cdd4ca6');\n",
              "          const dataTable =\n",
              "            await google.colab.kernel.invokeFunction('convertToInteractive',\n",
              "                                                     [key], {});\n",
              "          if (!dataTable) return;\n",
              "\n",
              "          const docLinkHtml = 'Like what you see? Visit the ' +\n",
              "            '<a target=\"_blank\" href=https://colab.research.google.com/notebooks/data_table.ipynb>data table notebook</a>'\n",
              "            + ' to learn more about interactive tables.';\n",
              "          element.innerHTML = '';\n",
              "          dataTable['output_type'] = 'display_data';\n",
              "          await google.colab.output.renderOutput(dataTable, element);\n",
              "          const docLink = document.createElement('div');\n",
              "          docLink.innerHTML = docLinkHtml;\n",
              "          element.appendChild(docLink);\n",
              "        }\n",
              "      </script>\n",
              "    </div>\n",
              "  </div>\n",
              "  "
            ]
          },
          "metadata": {},
          "execution_count": 123
        }
      ]
    },
    {
      "cell_type": "markdown",
      "metadata": {
        "id": "_dW28Hgj7hut"
      },
      "source": [
        "### Inspections"
      ]
    },
    {
      "cell_type": "code",
      "execution_count": 124,
      "metadata": {
        "id": "z5SDo-BW7hut"
      },
      "outputs": [],
      "source": [
        "# Each inspection has multiple violations. We want to keep just the inspections for now\n",
        "inspection = df.drop('VIOLATION_CODE', axis='columns').drop_duplicates().sort_values(['INSPECTION_DATE', 'CAMIS'])"
      ]
    },
    {
      "cell_type": "code",
      "source": [
        "inspection"
      ],
      "metadata": {
        "colab": {
          "base_uri": "https://localhost:8080/",
          "height": 423
        },
        "id": "Sh2iuGKX_wkz",
        "outputId": "6027f7e3-c872-40f7-8c66-b540e94b8459"
      },
      "execution_count": 125,
      "outputs": [
        {
          "output_type": "execute_result",
          "data": {
            "text/plain": [
              "           CAMIS INSPECTION_DATE            ACTION  SCORE GRADE  \\\n",
              "48875   40944945      2015-10-14  Violations found    5.0     A   \n",
              "104859  50015538      2015-11-19  Violations found   12.0     A   \n",
              "7506    50015171      2015-11-20  Violations found   10.0     A   \n",
              "101048  40560949      2015-12-01  Violations found    4.0     A   \n",
              "71389   41611709      2015-12-12  Violations found   21.0   NaN   \n",
              "...          ...             ...               ...    ...   ...   \n",
              "93284   40737436      2023-06-03  Violations found    2.0     A   \n",
              "87812   41588320      2023-06-03  Violations found    2.0     A   \n",
              "195175  50000795      2023-06-03  Violations found    2.0     A   \n",
              "46191   50088871      2023-06-03  Violations found   22.0   NaN   \n",
              "89139   50109619      2023-06-03  Violations found   12.0     A   \n",
              "\n",
              "           INSPECTION_TYPE  TO_DELETE  \n",
              "48875        Re-inspection      False  \n",
              "104859  Initial Inspection      False  \n",
              "7506    Initial Inspection      False  \n",
              "101048  Initial Inspection      False  \n",
              "71389   Initial Inspection      False  \n",
              "...                    ...        ...  \n",
              "93284   Initial Inspection      False  \n",
              "87812   Initial Inspection      False  \n",
              "195175  Initial Inspection      False  \n",
              "46191   Initial Inspection      False  \n",
              "89139   Initial Inspection      False  \n",
              "\n",
              "[42837 rows x 7 columns]"
            ],
            "text/html": [
              "\n",
              "  <div id=\"df-a2596d79-867e-41a6-b339-99806e5cdcf2\">\n",
              "    <div class=\"colab-df-container\">\n",
              "      <div>\n",
              "<style scoped>\n",
              "    .dataframe tbody tr th:only-of-type {\n",
              "        vertical-align: middle;\n",
              "    }\n",
              "\n",
              "    .dataframe tbody tr th {\n",
              "        vertical-align: top;\n",
              "    }\n",
              "\n",
              "    .dataframe thead th {\n",
              "        text-align: right;\n",
              "    }\n",
              "</style>\n",
              "<table border=\"1\" class=\"dataframe\">\n",
              "  <thead>\n",
              "    <tr style=\"text-align: right;\">\n",
              "      <th></th>\n",
              "      <th>CAMIS</th>\n",
              "      <th>INSPECTION_DATE</th>\n",
              "      <th>ACTION</th>\n",
              "      <th>SCORE</th>\n",
              "      <th>GRADE</th>\n",
              "      <th>INSPECTION_TYPE</th>\n",
              "      <th>TO_DELETE</th>\n",
              "    </tr>\n",
              "  </thead>\n",
              "  <tbody>\n",
              "    <tr>\n",
              "      <th>48875</th>\n",
              "      <td>40944945</td>\n",
              "      <td>2015-10-14</td>\n",
              "      <td>Violations found</td>\n",
              "      <td>5.0</td>\n",
              "      <td>A</td>\n",
              "      <td>Re-inspection</td>\n",
              "      <td>False</td>\n",
              "    </tr>\n",
              "    <tr>\n",
              "      <th>104859</th>\n",
              "      <td>50015538</td>\n",
              "      <td>2015-11-19</td>\n",
              "      <td>Violations found</td>\n",
              "      <td>12.0</td>\n",
              "      <td>A</td>\n",
              "      <td>Initial Inspection</td>\n",
              "      <td>False</td>\n",
              "    </tr>\n",
              "    <tr>\n",
              "      <th>7506</th>\n",
              "      <td>50015171</td>\n",
              "      <td>2015-11-20</td>\n",
              "      <td>Violations found</td>\n",
              "      <td>10.0</td>\n",
              "      <td>A</td>\n",
              "      <td>Initial Inspection</td>\n",
              "      <td>False</td>\n",
              "    </tr>\n",
              "    <tr>\n",
              "      <th>101048</th>\n",
              "      <td>40560949</td>\n",
              "      <td>2015-12-01</td>\n",
              "      <td>Violations found</td>\n",
              "      <td>4.0</td>\n",
              "      <td>A</td>\n",
              "      <td>Initial Inspection</td>\n",
              "      <td>False</td>\n",
              "    </tr>\n",
              "    <tr>\n",
              "      <th>71389</th>\n",
              "      <td>41611709</td>\n",
              "      <td>2015-12-12</td>\n",
              "      <td>Violations found</td>\n",
              "      <td>21.0</td>\n",
              "      <td>NaN</td>\n",
              "      <td>Initial Inspection</td>\n",
              "      <td>False</td>\n",
              "    </tr>\n",
              "    <tr>\n",
              "      <th>...</th>\n",
              "      <td>...</td>\n",
              "      <td>...</td>\n",
              "      <td>...</td>\n",
              "      <td>...</td>\n",
              "      <td>...</td>\n",
              "      <td>...</td>\n",
              "      <td>...</td>\n",
              "    </tr>\n",
              "    <tr>\n",
              "      <th>93284</th>\n",
              "      <td>40737436</td>\n",
              "      <td>2023-06-03</td>\n",
              "      <td>Violations found</td>\n",
              "      <td>2.0</td>\n",
              "      <td>A</td>\n",
              "      <td>Initial Inspection</td>\n",
              "      <td>False</td>\n",
              "    </tr>\n",
              "    <tr>\n",
              "      <th>87812</th>\n",
              "      <td>41588320</td>\n",
              "      <td>2023-06-03</td>\n",
              "      <td>Violations found</td>\n",
              "      <td>2.0</td>\n",
              "      <td>A</td>\n",
              "      <td>Initial Inspection</td>\n",
              "      <td>False</td>\n",
              "    </tr>\n",
              "    <tr>\n",
              "      <th>195175</th>\n",
              "      <td>50000795</td>\n",
              "      <td>2023-06-03</td>\n",
              "      <td>Violations found</td>\n",
              "      <td>2.0</td>\n",
              "      <td>A</td>\n",
              "      <td>Initial Inspection</td>\n",
              "      <td>False</td>\n",
              "    </tr>\n",
              "    <tr>\n",
              "      <th>46191</th>\n",
              "      <td>50088871</td>\n",
              "      <td>2023-06-03</td>\n",
              "      <td>Violations found</td>\n",
              "      <td>22.0</td>\n",
              "      <td>NaN</td>\n",
              "      <td>Initial Inspection</td>\n",
              "      <td>False</td>\n",
              "    </tr>\n",
              "    <tr>\n",
              "      <th>89139</th>\n",
              "      <td>50109619</td>\n",
              "      <td>2023-06-03</td>\n",
              "      <td>Violations found</td>\n",
              "      <td>12.0</td>\n",
              "      <td>A</td>\n",
              "      <td>Initial Inspection</td>\n",
              "      <td>False</td>\n",
              "    </tr>\n",
              "  </tbody>\n",
              "</table>\n",
              "<p>42837 rows × 7 columns</p>\n",
              "</div>\n",
              "      <button class=\"colab-df-convert\" onclick=\"convertToInteractive('df-a2596d79-867e-41a6-b339-99806e5cdcf2')\"\n",
              "              title=\"Convert this dataframe to an interactive table.\"\n",
              "              style=\"display:none;\">\n",
              "        \n",
              "  <svg xmlns=\"http://www.w3.org/2000/svg\" height=\"24px\"viewBox=\"0 0 24 24\"\n",
              "       width=\"24px\">\n",
              "    <path d=\"M0 0h24v24H0V0z\" fill=\"none\"/>\n",
              "    <path d=\"M18.56 5.44l.94 2.06.94-2.06 2.06-.94-2.06-.94-.94-2.06-.94 2.06-2.06.94zm-11 1L8.5 8.5l.94-2.06 2.06-.94-2.06-.94L8.5 2.5l-.94 2.06-2.06.94zm10 10l.94 2.06.94-2.06 2.06-.94-2.06-.94-.94-2.06-.94 2.06-2.06.94z\"/><path d=\"M17.41 7.96l-1.37-1.37c-.4-.4-.92-.59-1.43-.59-.52 0-1.04.2-1.43.59L10.3 9.45l-7.72 7.72c-.78.78-.78 2.05 0 2.83L4 21.41c.39.39.9.59 1.41.59.51 0 1.02-.2 1.41-.59l7.78-7.78 2.81-2.81c.8-.78.8-2.07 0-2.86zM5.41 20L4 18.59l7.72-7.72 1.47 1.35L5.41 20z\"/>\n",
              "  </svg>\n",
              "      </button>\n",
              "      \n",
              "  <style>\n",
              "    .colab-df-container {\n",
              "      display:flex;\n",
              "      flex-wrap:wrap;\n",
              "      gap: 12px;\n",
              "    }\n",
              "\n",
              "    .colab-df-convert {\n",
              "      background-color: #E8F0FE;\n",
              "      border: none;\n",
              "      border-radius: 50%;\n",
              "      cursor: pointer;\n",
              "      display: none;\n",
              "      fill: #1967D2;\n",
              "      height: 32px;\n",
              "      padding: 0 0 0 0;\n",
              "      width: 32px;\n",
              "    }\n",
              "\n",
              "    .colab-df-convert:hover {\n",
              "      background-color: #E2EBFA;\n",
              "      box-shadow: 0px 1px 2px rgba(60, 64, 67, 0.3), 0px 1px 3px 1px rgba(60, 64, 67, 0.15);\n",
              "      fill: #174EA6;\n",
              "    }\n",
              "\n",
              "    [theme=dark] .colab-df-convert {\n",
              "      background-color: #3B4455;\n",
              "      fill: #D2E3FC;\n",
              "    }\n",
              "\n",
              "    [theme=dark] .colab-df-convert:hover {\n",
              "      background-color: #434B5C;\n",
              "      box-shadow: 0px 1px 3px 1px rgba(0, 0, 0, 0.15);\n",
              "      filter: drop-shadow(0px 1px 2px rgba(0, 0, 0, 0.3));\n",
              "      fill: #FFFFFF;\n",
              "    }\n",
              "  </style>\n",
              "\n",
              "      <script>\n",
              "        const buttonEl =\n",
              "          document.querySelector('#df-a2596d79-867e-41a6-b339-99806e5cdcf2 button.colab-df-convert');\n",
              "        buttonEl.style.display =\n",
              "          google.colab.kernel.accessAllowed ? 'block' : 'none';\n",
              "\n",
              "        async function convertToInteractive(key) {\n",
              "          const element = document.querySelector('#df-a2596d79-867e-41a6-b339-99806e5cdcf2');\n",
              "          const dataTable =\n",
              "            await google.colab.kernel.invokeFunction('convertToInteractive',\n",
              "                                                     [key], {});\n",
              "          if (!dataTable) return;\n",
              "\n",
              "          const docLinkHtml = 'Like what you see? Visit the ' +\n",
              "            '<a target=\"_blank\" href=https://colab.research.google.com/notebooks/data_table.ipynb>data table notebook</a>'\n",
              "            + ' to learn more about interactive tables.';\n",
              "          element.innerHTML = '';\n",
              "          dataTable['output_type'] = 'display_data';\n",
              "          await google.colab.output.renderOutput(dataTable, element);\n",
              "          const docLink = document.createElement('div');\n",
              "          docLink.innerHTML = docLinkHtml;\n",
              "          element.appendChild(docLink);\n",
              "        }\n",
              "      </script>\n",
              "    </div>\n",
              "  </div>\n",
              "  "
            ]
          },
          "metadata": {},
          "execution_count": 125
        }
      ]
    },
    {
      "cell_type": "code",
      "execution_count": 126,
      "metadata": {
        "id": "ltuLy_aP7hut"
      },
      "outputs": [],
      "source": [
        "# We create an ID for each inspection here\n",
        "inspection = inspection.reset_index().drop('index', axis='columns').reset_index().rename({'index': 'INSPECTION_ID'}, axis='columns')"
      ]
    },
    {
      "cell_type": "code",
      "execution_count": 127,
      "metadata": {
        "colab": {
          "base_uri": "https://localhost:8080/"
        },
        "id": "Aq30kh7f7hut",
        "outputId": "93c93ca6-1786-4a72-9f96-e8be37a58a6b"
      },
      "outputs": [
        {
          "output_type": "execute_result",
          "data": {
            "text/plain": [
              "Violations found        41806\n",
              "Establishment closed      752\n",
              "No violations             279\n",
              "Name: ACTION, dtype: int64"
            ]
          },
          "metadata": {},
          "execution_count": 127
        }
      ],
      "source": [
        "inspection.ACTION.value_counts()"
      ]
    },
    {
      "cell_type": "code",
      "execution_count": 128,
      "metadata": {
        "colab": {
          "base_uri": "https://localhost:8080/",
          "height": 112
        },
        "id": "buVPmBBH7hut",
        "outputId": "ccfd2c29-d340-4a2d-b07f-f2368e31d413"
      },
      "outputs": [
        {
          "output_type": "execute_result",
          "data": {
            "text/plain": [
              "                          INSPECTION_ID\n",
              "INSPECTION_DATE CAMIS                  \n",
              "2017-11-04      40911114              2"
            ],
            "text/html": [
              "\n",
              "  <div id=\"df-f3159280-4974-4605-9799-5ae852afa46c\">\n",
              "    <div class=\"colab-df-container\">\n",
              "      <div>\n",
              "<style scoped>\n",
              "    .dataframe tbody tr th:only-of-type {\n",
              "        vertical-align: middle;\n",
              "    }\n",
              "\n",
              "    .dataframe tbody tr th {\n",
              "        vertical-align: top;\n",
              "    }\n",
              "\n",
              "    .dataframe thead th {\n",
              "        text-align: right;\n",
              "    }\n",
              "</style>\n",
              "<table border=\"1\" class=\"dataframe\">\n",
              "  <thead>\n",
              "    <tr style=\"text-align: right;\">\n",
              "      <th></th>\n",
              "      <th></th>\n",
              "      <th>INSPECTION_ID</th>\n",
              "    </tr>\n",
              "    <tr>\n",
              "      <th>INSPECTION_DATE</th>\n",
              "      <th>CAMIS</th>\n",
              "      <th></th>\n",
              "    </tr>\n",
              "  </thead>\n",
              "  <tbody>\n",
              "    <tr>\n",
              "      <th>2017-11-04</th>\n",
              "      <th>40911114</th>\n",
              "      <td>2</td>\n",
              "    </tr>\n",
              "  </tbody>\n",
              "</table>\n",
              "</div>\n",
              "      <button class=\"colab-df-convert\" onclick=\"convertToInteractive('df-f3159280-4974-4605-9799-5ae852afa46c')\"\n",
              "              title=\"Convert this dataframe to an interactive table.\"\n",
              "              style=\"display:none;\">\n",
              "        \n",
              "  <svg xmlns=\"http://www.w3.org/2000/svg\" height=\"24px\"viewBox=\"0 0 24 24\"\n",
              "       width=\"24px\">\n",
              "    <path d=\"M0 0h24v24H0V0z\" fill=\"none\"/>\n",
              "    <path d=\"M18.56 5.44l.94 2.06.94-2.06 2.06-.94-2.06-.94-.94-2.06-.94 2.06-2.06.94zm-11 1L8.5 8.5l.94-2.06 2.06-.94-2.06-.94L8.5 2.5l-.94 2.06-2.06.94zm10 10l.94 2.06.94-2.06 2.06-.94-2.06-.94-.94-2.06-.94 2.06-2.06.94z\"/><path d=\"M17.41 7.96l-1.37-1.37c-.4-.4-.92-.59-1.43-.59-.52 0-1.04.2-1.43.59L10.3 9.45l-7.72 7.72c-.78.78-.78 2.05 0 2.83L4 21.41c.39.39.9.59 1.41.59.51 0 1.02-.2 1.41-.59l7.78-7.78 2.81-2.81c.8-.78.8-2.07 0-2.86zM5.41 20L4 18.59l7.72-7.72 1.47 1.35L5.41 20z\"/>\n",
              "  </svg>\n",
              "      </button>\n",
              "      \n",
              "  <style>\n",
              "    .colab-df-container {\n",
              "      display:flex;\n",
              "      flex-wrap:wrap;\n",
              "      gap: 12px;\n",
              "    }\n",
              "\n",
              "    .colab-df-convert {\n",
              "      background-color: #E8F0FE;\n",
              "      border: none;\n",
              "      border-radius: 50%;\n",
              "      cursor: pointer;\n",
              "      display: none;\n",
              "      fill: #1967D2;\n",
              "      height: 32px;\n",
              "      padding: 0 0 0 0;\n",
              "      width: 32px;\n",
              "    }\n",
              "\n",
              "    .colab-df-convert:hover {\n",
              "      background-color: #E2EBFA;\n",
              "      box-shadow: 0px 1px 2px rgba(60, 64, 67, 0.3), 0px 1px 3px 1px rgba(60, 64, 67, 0.15);\n",
              "      fill: #174EA6;\n",
              "    }\n",
              "\n",
              "    [theme=dark] .colab-df-convert {\n",
              "      background-color: #3B4455;\n",
              "      fill: #D2E3FC;\n",
              "    }\n",
              "\n",
              "    [theme=dark] .colab-df-convert:hover {\n",
              "      background-color: #434B5C;\n",
              "      box-shadow: 0px 1px 3px 1px rgba(0, 0, 0, 0.15);\n",
              "      filter: drop-shadow(0px 1px 2px rgba(0, 0, 0, 0.3));\n",
              "      fill: #FFFFFF;\n",
              "    }\n",
              "  </style>\n",
              "\n",
              "      <script>\n",
              "        const buttonEl =\n",
              "          document.querySelector('#df-f3159280-4974-4605-9799-5ae852afa46c button.colab-df-convert');\n",
              "        buttonEl.style.display =\n",
              "          google.colab.kernel.accessAllowed ? 'block' : 'none';\n",
              "\n",
              "        async function convertToInteractive(key) {\n",
              "          const element = document.querySelector('#df-f3159280-4974-4605-9799-5ae852afa46c');\n",
              "          const dataTable =\n",
              "            await google.colab.kernel.invokeFunction('convertToInteractive',\n",
              "                                                     [key], {});\n",
              "          if (!dataTable) return;\n",
              "\n",
              "          const docLinkHtml = 'Like what you see? Visit the ' +\n",
              "            '<a target=\"_blank\" href=https://colab.research.google.com/notebooks/data_table.ipynb>data table notebook</a>'\n",
              "            + ' to learn more about interactive tables.';\n",
              "          element.innerHTML = '';\n",
              "          dataTable['output_type'] = 'display_data';\n",
              "          await google.colab.output.renderOutput(dataTable, element);\n",
              "          const docLink = document.createElement('div');\n",
              "          docLink.innerHTML = docLinkHtml;\n",
              "          element.appendChild(docLink);\n",
              "        }\n",
              "      </script>\n",
              "    </div>\n",
              "  </div>\n",
              "  "
            ]
          },
          "metadata": {},
          "execution_count": 128
        }
      ],
      "source": [
        "# Ensure that the inspection table contains \n",
        "# no duplicate pairs for 'INSPECTION_DATE', 'CAMIS'\n",
        "pvt = inspection.pivot_table(\n",
        "    index = ['INSPECTION_DATE', 'CAMIS'],\n",
        "    values = 'INSPECTION_ID',\n",
        "    aggfunc = 'count'\n",
        ")\n",
        "pvt [ pvt.INSPECTION_ID > 1 ]\n",
        "\n",
        "# assert len(pvt [ pvt.INSPECTION_ID > 1 ]) == 0 "
      ]
    },
    {
      "cell_type": "code",
      "execution_count": null,
      "metadata": {
        "id": "u1tvDeGA7hut"
      },
      "outputs": [],
      "source": [
        "# df[ (df.CAMIS =='41007054') & (df.INSPECTION_DATE == '2017-03-03')  ].sort_values('VIOLATION_CODE')"
      ]
    },
    {
      "cell_type": "code",
      "execution_count": null,
      "metadata": {
        "id": "fzr3sv_f7hut"
      },
      "outputs": [],
      "source": [
        "# to_drop = inspection.query(\" CAMIS =='50051092' and  INSPECTION_DATE == '2019-09-11' \").index.values[1]\n",
        "# inspection = inspection.drop(to_drop, axis='index')"
      ]
    },
    {
      "cell_type": "code",
      "source": [
        "to_drop = inspection.query(\" CAMIS =='40911114' and  INSPECTION_DATE == '2017-11-04' \").index.values[1]\n",
        "\n",
        "inspection = inspection.drop(to_drop, axis='index')"
      ],
      "metadata": {
        "id": "fe_uah4zEDHU"
      },
      "execution_count": 129,
      "outputs": []
    },
    {
      "cell_type": "code",
      "source": [
        "inspection.drop('TO_DELETE', axis='columns', inplace=True)"
      ],
      "metadata": {
        "id": "dU5ReJL0hc_W"
      },
      "execution_count": 130,
      "outputs": []
    },
    {
      "cell_type": "code",
      "execution_count": 131,
      "metadata": {
        "id": "YNyo-QPG7hut"
      },
      "outputs": [],
      "source": [
        "# Ensure that the inspection table contains \n",
        "# no duplicate pairs for 'INSPECTION_DATE', 'CAMIS'\n",
        "pvt = inspection.pivot_table(\n",
        "    index = ['INSPECTION_DATE', 'CAMIS'],\n",
        "    values = 'INSPECTION_ID',\n",
        "    aggfunc = 'count'\n",
        ")\n",
        "assert len(pvt [ pvt.INSPECTION_ID > 1 ]) == 0 "
      ]
    },
    {
      "cell_type": "code",
      "execution_count": 132,
      "metadata": {
        "colab": {
          "base_uri": "https://localhost:8080/"
        },
        "id": "Yva24CbP7huv",
        "outputId": "ec47b064-88ef-4720-fd00-a08fecdf6873"
      },
      "outputs": [
        {
          "output_type": "execute_result",
          "data": {
            "text/plain": [
              "Initial Inspection    32210\n",
              "Re-inspection         10626\n",
              "Name: INSPECTION_TYPE, dtype: int64"
            ]
          },
          "metadata": {},
          "execution_count": 132
        }
      ],
      "source": [
        "inspection.INSPECTION_TYPE.value_counts()"
      ]
    },
    {
      "cell_type": "code",
      "execution_count": 133,
      "metadata": {
        "id": "8Q9tnmEL7huv"
      },
      "outputs": [],
      "source": [
        "inspection_stats = inspection.pivot_table(\n",
        "    index = 'CAMIS',\n",
        "    aggfunc = ['min', 'max', 'count'],\n",
        "    values = 'INSPECTION_DATE'\n",
        ")"
      ]
    },
    {
      "cell_type": "code",
      "source": [],
      "metadata": {
        "id": "7eKs6Sd8_f18"
      },
      "execution_count": null,
      "outputs": []
    },
    {
      "cell_type": "code",
      "execution_count": 134,
      "metadata": {
        "colab": {
          "base_uri": "https://localhost:8080/",
          "height": 467
        },
        "id": "2UGMl7ZK7huv",
        "outputId": "5092cbdd-9944-4572-d9ad-a97b0d90e64d"
      },
      "outputs": [
        {
          "output_type": "execute_result",
          "data": {
            "text/plain": [
              "<Axes: xlabel='INSPECTION_DATE'>"
            ]
          },
          "metadata": {},
          "execution_count": 134
        },
        {
          "output_type": "display_data",
          "data": {
            "text/plain": [
              "<Figure size 640x480 with 1 Axes>"
            ],
            "image/png": "[encoded data removed]"
          },
          "metadata": {
            "image/png": {
              "width": 552,
              "height": 432
            }
          }
        }
      ],
      "source": [
        "# Distribution of last inspection across all restaurants\n",
        "inspection_stats['max'].sort_values('INSPECTION_DATE').reset_index().pivot_table(\n",
        "    index='INSPECTION_DATE',\n",
        "    aggfunc='count'\n",
        ").resample('1W').sum().plot()"
      ]
    },
    {
      "cell_type": "code",
      "execution_count": null,
      "metadata": {
        "id": "K3mwJMYc7huv"
      },
      "outputs": [],
      "source": [
        "# Longevity \n",
        "# (inspection_stats['max'] - inspection_stats['min'])['INSPECTION DATE'].sort_values()"
      ]
    },
    {
      "cell_type": "code",
      "execution_count": 135,
      "metadata": {
        "colab": {
          "base_uri": "https://localhost:8080/",
          "height": 448
        },
        "id": "LElB919o7huv",
        "outputId": "8488f8b1-059b-4e8b-eb13-351d0a21626d"
      },
      "outputs": [
        {
          "output_type": "execute_result",
          "data": {
            "text/plain": [
              "<Axes: >"
            ]
          },
          "metadata": {},
          "execution_count": 135
        },
        {
          "output_type": "display_data",
          "data": {
            "text/plain": [
              "<Figure size 640x480 with 1 Axes>"
            ],
            "image/png": "[encoded data removed]"
          },
          "metadata": {
            "image/png": {
              "width": 552,
              "height": 413
            }
          }
        }
      ],
      "source": [
        "# Distribution of all inspections\n",
        "inspection['INSPECTION_DATE'].value_counts().sort_index().resample('1W').sum().plot()"
      ]
    },
    {
      "cell_type": "code",
      "execution_count": 136,
      "metadata": {
        "colab": {
          "base_uri": "https://localhost:8080/"
        },
        "id": "8RDOAgxx7huv",
        "outputId": "eab8bcfb-498d-4ce8-cb16-21051efc5ca7"
      },
      "outputs": [
        {
          "output_type": "execute_result",
          "data": {
            "text/plain": [
              "133595"
            ]
          },
          "metadata": {},
          "execution_count": 136
        }
      ],
      "source": [
        "len(df)"
      ]
    },
    {
      "cell_type": "code",
      "execution_count": 137,
      "metadata": {
        "colab": {
          "base_uri": "https://localhost:8080/"
        },
        "id": "2WuZLSBA7huv",
        "outputId": "c210779a-9182-4733-d38a-63907fbe405c"
      },
      "outputs": [
        {
          "output_type": "execute_result",
          "data": {
            "text/plain": [
              "133591"
            ]
          },
          "metadata": {},
          "execution_count": 137
        }
      ],
      "source": [
        "violations = pd.merge(\n",
        "    inspection,\n",
        "    df[ ['CAMIS', 'INSPECTION_DATE', 'VIOLATION_CODE' ] ],\n",
        "    on= ['CAMIS', 'INSPECTION_DATE'],\n",
        "    how = 'inner'\n",
        ")\n",
        "violations = violations[ ['INSPECTION_ID', 'VIOLATION_CODE'] ].drop_duplicates()\n",
        "len(violations)"
      ]
    },
    {
      "cell_type": "code",
      "execution_count": 138,
      "metadata": {
        "colab": {
          "base_uri": "https://localhost:8080/"
        },
        "id": "fQm8ERgi7huv",
        "outputId": "fd31d330-988c-4608-c143-57a7fd03e763"
      },
      "outputs": [
        {
          "output_type": "stream",
          "name": "stdout",
          "text": [
            "Violations: 133591\n",
            "Inspections: 42836\n",
            "Restaurants: 19221\n",
            "Violation Codes: 149\n"
          ]
        }
      ],
      "source": [
        "print(f\"Violations: {len(violations)}\")\n",
        "print(f\"Inspections: {len(inspection)}\")\n",
        "print(f\"Restaurants: {len(restaurants)}\")\n",
        "print(f\"Violation Codes: {len(violation_codes)}\")"
      ]
    },
    {
      "cell_type": "code",
      "execution_count": null,
      "metadata": {
        "id": "skBkhYUI7huw"
      },
      "outputs": [],
      "source": []
    },
    {
      "cell_type": "markdown",
      "source": [
        "## Storing in MySQL\n"
      ],
      "metadata": {
        "id": "zAp8WgoP_U6T"
      }
    },
    {
      "cell_type": "markdown",
      "source": [],
      "metadata": {
        "id": "N3LHIKlH7wuD"
      }
    },
    {
      "cell_type": "code",
      "source": [
        "!sudo pip3 install -U -q PyMySQL sqlalchemy sql_magic"
      ],
      "metadata": {
        "id": "ZnnVs3t1_ZeG",
        "outputId": "f37434f1-2cfb-4628-a856-f7c03754da9a",
        "colab": {
          "base_uri": "https://localhost:8080/"
        }
      },
      "execution_count": 140,
      "outputs": [
        {
          "output_type": "stream",
          "name": "stdout",
          "text": [
            "\u001b[2K     \u001b[90m━━━━━━━━━━━━━━━━━━━━━━━━━━━━━━━━━━━━━━━━\u001b[0m \u001b[32m43.7/43.7 kB\u001b[0m \u001b[31m1.9 MB/s\u001b[0m eta \u001b[36m0:00:00\u001b[0m\n",
            "\u001b[2K     \u001b[90m━━━━━━━━━━━━━━━━━━━━━━━━━━━━━━━━━━━━━━━━\u001b[0m \u001b[32m2.7/2.7 MB\u001b[0m \u001b[31m30.5 MB/s\u001b[0m eta \u001b[36m0:00:00\u001b[0m\n",
            "\u001b[2K     \u001b[90m━━━━━━━━━━━━━━━━━━━━━━━━━━━━━━━━━━━━━━━━\u001b[0m \u001b[32m1.6/1.6 MB\u001b[0m \u001b[31m58.7 MB/s\u001b[0m eta \u001b[36m0:00:00\u001b[0m\n",
            "\u001b[2K     \u001b[90m━━━━━━━━━━━━━━━━━━━━━━━━━━━━━━━━━━━━━━\u001b[0m \u001b[32m121.9/121.9 kB\u001b[0m \u001b[31m13.0 MB/s\u001b[0m eta \u001b[36m0:00:00\u001b[0m\n",
            "\u001b[2K     \u001b[90m━━━━━━━━━━━━━━━━━━━━━━━━━━━━━━━━━━━━━━━━\u001b[0m \u001b[32m84.9/84.9 kB\u001b[0m \u001b[31m9.0 MB/s\u001b[0m eta \u001b[36m0:00:00\u001b[0m\n",
            "\u001b[?25h"
          ]
        }
      ]
    },
    {
      "cell_type": "code",
      "source": [
        "import os\n",
        "from sqlalchemy import create_engine\n",
        "from sqlalchemy import text\n",
        "\n",
        "conn_string = 'mysql+pymysql://{user}:{password}@{host}/?charset=utf8mb4'.format(\n",
        "    host = 'db.ipeirotis.org', \n",
        "    user = 'root',\n",
        "    password = 'ae6jQniBS5muV27', #os.environ['MYSQL_PASSWORD'],\n",
        "    encoding = 'utf8mb4')\n",
        "\n",
        "engine = create_engine(conn_string)\n",
        "con = engine.connect()"
      ],
      "metadata": {
        "id": "XF85ORv5_bSa"
      },
      "execution_count": 145,
      "outputs": []
    },
    {
      "cell_type": "code",
      "source": [
        "# Query to create a database\n",
        "db_name = 'doh_restaurants'\n",
        "\n",
        "sql = f\"DROP DATABASE IF EXISTS {db_name}\"\n",
        "with engine.connect() as connection:\n",
        "  connection.execute(text(sql))\n",
        "\n",
        "# Create a database\n",
        "sql = f\"CREATE DATABASE IF NOT EXISTS {db_name} DEFAULT CHARACTER SET 'utf8mb4'\"\n",
        "with engine.connect() as connection:\n",
        "  connection.execute(text(sql))\n",
        "\n",
        "# And lets switch to the database\n",
        "sql = f\"USE {db_name}\"\n",
        "with engine.connect() as connection:\n",
        "  connection.execute(text(sql))"
      ],
      "metadata": {
        "id": "QyoxDe_T_gs-"
      },
      "execution_count": 147,
      "outputs": []
    },
    {
      "cell_type": "code",
      "source": [
        "create_table_sql = '''\n",
        "CREATE TABLE restaurants (\n",
        "    CAMIS                      char(8),\n",
        "    DBA varchar(90), \n",
        "    BUILDING varchar(10), \n",
        "    STREET varchar(40), \n",
        "    ZIPCODE char(5), \n",
        "    BORO ENUM('Bronx', 'Brooklyn', 'Manhattan', 'Queens', 'Staten Island')  ,\n",
        "    PHONE char(10), \n",
        "    CUISINE_DESCRIPTION    varchar(30),\n",
        "LATITUDE                float,\n",
        "LONGITUDE               float,\n",
        "COMMUNITY_BOARD          char(3),\n",
        "COUNCIL_DISTRICT         char(2),\n",
        "CENSUS_TRACT             char(6),\n",
        "BIN                      char(7),\n",
        "BBL                      char(10),\n",
        "NTA                      char(4), \n",
        "PRIMARY KEY(CAMIS)   \n",
        ") ENGINE=InnoDB DEFAULT CHARSET=utf8mb4;\n",
        "'''\n",
        "with engine.connect() as connection:\n",
        "  connection.execute(text(create_table_sql))\n",
        "\n",
        "\n",
        "create_table_sql = '''\n",
        "CREATE TABLE inspections (\n",
        "    INSPECTION_ID               char(8),\n",
        "    CAMIS                      char(8),\n",
        "    INSPECTION_DATE    datetime,\n",
        "    ACTION                   ENUM('Violations found','Establishment closed','No violations'),\n",
        "    SCORE                     smallint,\n",
        "    GRADE                    char(1),\n",
        "    INSPECTION_TYPE          ENUM('Initial Inspection','Re-inspection'),\n",
        "    FOREIGN KEY(CAMIS) REFERENCES restaurants(CAMIS),\n",
        "    PRIMARY KEY(INSPECTION_ID) \n",
        ") ENGINE=InnoDB DEFAULT CHARSET=utf8mb4;\n",
        "'''\n",
        "with engine.connect() as connection:\n",
        "  connection.execute(text(create_table_sql))\n",
        "\n",
        "create_table_sql = '''\n",
        "CREATE TABLE violation_codes (\n",
        "  VIOLATION_CODE     char(5),\n",
        "  DESCRIPTION varchar(1000),\n",
        "  CRITICAL ENUM('Critical', 'Not Applicable', 'Not Critical')\n",
        "  -- PRIMARY KEY(VIOLATION_CODE)\n",
        "\n",
        ") ENGINE=InnoDB DEFAULT CHARSET=utf8mb4;\n",
        "'''\n",
        "with engine.connect() as connection:\n",
        "  connection.execute(text(create_table_sql))\n",
        "\n",
        "\n",
        "create_table_sql = '''\n",
        "CREATE TABLE violations (\n",
        "  INSPECTION_ID         char(8),\n",
        "  VIOLATION_CODE     char(5),\n",
        "  FOREIGN KEY(INSPECTION_ID) REFERENCES inspections(INSPECTION_ID)\n",
        "  -- FOREIGN KEY(VIOLATION_CODE) REFERENCES violation_codes(VIOLATION_CODE)\n",
        ") ENGINE=InnoDB DEFAULT CHARSET=utf8mb4;\n",
        "'''\n",
        "with engine.connect() as connection:\n",
        "  connection.execute(text(create_table_sql))"
      ],
      "metadata": {
        "id": "ah7hOCzfSMx_"
      },
      "execution_count": 148,
      "outputs": []
    },
    {
      "cell_type": "code",
      "source": [
        "violation_codes.reset_index().VIOLATION_CODE.str.len().max()"
      ],
      "metadata": {
        "id": "NLifpFSTdPxG",
        "outputId": "c1d569ee-bb38-40d7-8022-879d7f838180",
        "colab": {
          "base_uri": "https://localhost:8080/"
        }
      },
      "execution_count": 149,
      "outputs": [
        {
          "output_type": "execute_result",
          "data": {
            "text/plain": [
              "5"
            ]
          },
          "metadata": {},
          "execution_count": 149
        }
      ]
    },
    {
      "cell_type": "code",
      "source": [
        "violation_codes.reset_index().to_sql(\n",
        "        name = 'violation_codes', \n",
        "        schema = db_name, \n",
        "        con = engine,\n",
        "        if_exists = 'append',\n",
        "        index = False, \n",
        "        chunksize = 1000)"
      ],
      "metadata": {
        "id": "hPNt2T69EaPu",
        "outputId": "12d19656-436b-4137-e70d-0ef39cae6283",
        "colab": {
          "base_uri": "https://localhost:8080/"
        }
      },
      "execution_count": 150,
      "outputs": [
        {
          "output_type": "execute_result",
          "data": {
            "text/plain": [
              "149"
            ]
          },
          "metadata": {},
          "execution_count": 150
        }
      ]
    },
    {
      "cell_type": "code",
      "source": [
        "restaurants.to_sql(\n",
        "        name = 'restaurants', \n",
        "        schema = db_name, \n",
        "        con = engine,\n",
        "        if_exists = 'append',\n",
        "        index = False, \n",
        "        chunksize = 1000)"
      ],
      "metadata": {
        "id": "XcSwdNSbl9F6",
        "outputId": "72498790-6349-4623-87ef-258e7e4444d3",
        "colab": {
          "base_uri": "https://localhost:8080/"
        }
      },
      "execution_count": 151,
      "outputs": [
        {
          "output_type": "execute_result",
          "data": {
            "text/plain": [
              "19221"
            ]
          },
          "metadata": {},
          "execution_count": 151
        }
      ]
    },
    {
      "cell_type": "code",
      "source": [
        "inspection.to_sql(\n",
        "        name = 'inspections', \n",
        "        schema = db_name, \n",
        "        con = engine,\n",
        "        if_exists = 'append',\n",
        "        index = False, \n",
        "        chunksize = 1000)"
      ],
      "metadata": {
        "id": "IV2WmeI2mBxJ",
        "outputId": "0b10eb2b-7f12-4dd8-fd1f-97e5a24309f6",
        "colab": {
          "base_uri": "https://localhost:8080/"
        }
      },
      "execution_count": 152,
      "outputs": [
        {
          "output_type": "execute_result",
          "data": {
            "text/plain": [
              "42836"
            ]
          },
          "metadata": {},
          "execution_count": 152
        }
      ]
    },
    {
      "cell_type": "code",
      "source": [
        "violations.to_sql(\n",
        "        name = 'violations', \n",
        "        schema = db_name, \n",
        "        con = engine,\n",
        "        if_exists = 'append',\n",
        "        index = False, \n",
        "        chunksize = 1000)"
      ],
      "metadata": {
        "id": "5O3w940SmJf3",
        "outputId": "f9e36ff7-f9c3-42b2-d204-7a32d8c16081",
        "colab": {
          "base_uri": "https://localhost:8080/"
        }
      },
      "execution_count": 153,
      "outputs": [
        {
          "output_type": "execute_result",
          "data": {
            "text/plain": [
              "133591"
            ]
          },
          "metadata": {},
          "execution_count": 153
        }
      ]
    },
    {
      "cell_type": "code",
      "source": [
        "sql = '''\n",
        "GRANT SELECT ON doh_restaurants.* TO 'student'@'%'\n",
        "'''\n",
        "with engine.connect() as connection:\n",
        "  connection.execute(text(sql))"
      ],
      "metadata": {
        "id": "JJ8drPUVI4BL"
      },
      "execution_count": 155,
      "outputs": []
    },
    {
      "cell_type": "code",
      "source": [
        "\n",
        "\n",
        "sql = '''\n",
        "CREATE VIEW restaurant_inspection_latest AS \n",
        "\tWITH latest_inspection AS (\n",
        "\t\tSELECT CAMIS, MAX(INSPECTION_DATE) AS INSPECTION_DATE FROM inspections\n",
        "\t\tGROUP BY CAMIS\n",
        "\t)\n",
        "\tSELECT R.CAMIS, R.DBA, R.BUILDING, R.STREET, R.ZIPCODE, R.BORO, R.CUISINE_DESCRIPTION, R.LATITUDE, R.LONGITUDE, I.INSPECTION_DATE, I.INSPECTION_ID, I.INSPECTION_TYPE, V.VIOLATION_CODE, I.SCORE, I.GRADE\n",
        "\t\tFROM restaurants R\n",
        "\t\t\tJOIN latest_inspection L ON R.CAMIS = L.CAMIS\n",
        "\t\t\tJOIN inspections I ON I.CAMIS = L.CAMIS AND L.INSPECTION_DATE = I.INSPECTION_DATE\n",
        "\t\t\tJOIN violations V ON I.INSPECTION_ID = V.INSPECTION_ID\n",
        "      '''\n",
        "\n",
        "with engine.connect() as connection:\n",
        "  connection.execute(text(sql))"
      ],
      "metadata": {
        "id": "5XgnNr3MSzVJ"
      },
      "execution_count": 156,
      "outputs": []
    }
  ],
  "metadata": {
    "kernelspec": {
      "display_name": "Python 3",
      "language": "python",
      "name": "python3"
    },
    "language_info": {
      "codemirror_mode": {
        "name": "ipython",
        "version": 3
      },
      "file_extension": ".py",
      "mimetype": "text/x-python",
      "name": "python",
      "nbconvert_exporter": "python",
      "pygments_lexer": "ipython3",
      "version": "3.8.2"
    },
    "colab": {
      "name": "DOH_Restaurant_Inspections.ipynb",
      "provenance": [],
      "include_colab_link": true
    }
  },
  "nbformat": 4,
  "nbformat_minor": 0
}