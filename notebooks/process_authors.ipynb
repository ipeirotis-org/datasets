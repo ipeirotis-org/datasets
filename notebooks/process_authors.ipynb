{
  "nbformat": 4,
  "nbformat_minor": 0,
  "metadata": {
    "colab": {
      "private_outputs": true,
      "provenance": [],
      "authorship_tag": "ABX9TyOKWkY493dvUTGTdGaXMzwA",
      "include_colab_link": true
    },
    "kernelspec": {
      "name": "python3",
      "display_name": "Python 3"
    },
    "language_info": {
      "name": "python"
    }
  },
  "cells": [
    {
      "cell_type": "markdown",
      "metadata": {
        "id": "view-in-github",
        "colab_type": "text"
      },
      "source": [
        "<a href=\"https://colab.research.google.com/github/ipeirotis-org/datasets/blob/main/notebooks/process_authors.ipynb\" target=\"_parent\"><img src=\"https://colab.research.google.com/assets/colab-badge.svg\" alt=\"Open In Colab\"/></a>"
      ]
    },
    {
      "cell_type": "code",
      "source": [
        "!pip install google-cloud-tasks"
      ],
      "metadata": {
        "id": "bktvKMp0eoM1"
      },
      "execution_count": null,
      "outputs": []
    },
    {
      "cell_type": "code",
      "execution_count": null,
      "metadata": {
        "id": "LexnU7crVZ-D"
      },
      "outputs": [],
      "source": [
        "import pandas as pd\n",
        "from tqdm import tqdm\n",
        "\n",
        "url = 'https://media.githubusercontent.com/media/sentian/SciImpactRanking/master/data/raw/authors.csv'\n",
        "\n",
        "benchmark_df = pd.read_csv(url)\n",
        "\n",
        "benchmark_df"
      ]
    },
    {
      "cell_type": "code",
      "source": [
        "from google.colab import auth\n",
        "auth.authenticate_user()"
      ],
      "metadata": {
        "id": "detg7_fBfYfS"
      },
      "execution_count": null,
      "outputs": []
    },
    {
      "cell_type": "code",
      "source": [
        "from google.cloud import tasks_v2\n",
        "from google.protobuf import timestamp_pb2\n",
        "import datetime\n",
        "\n",
        "# Create a client for Cloud Tasks\n",
        "client = tasks_v2.CloudTasksClient()\n",
        "\n",
        "# Your Google Cloud project ID and location\n",
        "project = 'scholar-version2'\n",
        "location = 'northamerica-northeast1'\n",
        "queue = 'process-authors'\n",
        "\n",
        "# Construct the fully qualified queue name\n",
        "parent = client.queue_path(project, location, queue)\n",
        "\n",
        "scholar_ids = benchmark_df['gs.id'].tolist()\n",
        "\n",
        "for scholar_id in tqdm(scholar_ids):\n",
        "    # The URL to your Cloud Function or Cloud Run service\n",
        "    url = f'https://scholar.ipeirotis.org/api/author_stats/{scholar_id}'\n",
        "    # Construct the request body\n",
        "    task = {\n",
        "        'http_request': {\n",
        "            'http_method': tasks_v2.HttpMethod.GET,\n",
        "            'url': url,\n",
        "            'headers': {'Content-type': 'application/json'},\n",
        "        }\n",
        "    }\n",
        "    # Add the task to the queue\n",
        "    response = client.create_task(request={\"parent\": parent, \"task\": task})\n",
        "    # print('Task created:', response.name)\n"
      ],
      "metadata": {
        "id": "fJ67gtpVel8n"
      },
      "execution_count": null,
      "outputs": []
    }
  ]
}