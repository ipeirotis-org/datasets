{
 "cells": [
  {
   "cell_type": "markdown",
   "metadata": {},
   "source": [
    "## Citibike Dataset\n",
    "\n"
   ]
  },
  {
   "cell_type": "markdown",
   "metadata": {},
   "source": [
    "We have deployed the code below as a \"Cloud Function\" on Google cloud (under the `nyu-datasets` project) and we store the data as parquet files in a Google Bucket."
   ]
  },
  {
   "cell_type": "code",
   "execution_count": null,
   "metadata": {},
   "outputs": [],
   "source": [
    "import functions_framework\n",
    "\n",
    "import pandas as pd\n",
    "from datetime import datetime\n",
    "import requests\n",
    "import gcsfs\n",
    "\n",
    "def store_api_call_to_google_bucket(call_name):\n",
    "    station_status_url = f'https://gbfs.citibikenyc.com/gbfs/en/{call_name}.json'\n",
    "    resp = requests.get(station_status_url)\n",
    "    data = resp.json()\n",
    "\n",
    "    partition = datetime.fromtimestamp(data['last_updated']).strftime(\"%Y-%m-%d\")\n",
    "\n",
    "    df = pd.DataFrame(data['data']['stations'])\n",
    "    df['last_updated_date'] = partition\n",
    "\n",
    "    df.to_parquet(\n",
    "        path=f\"gs://citibike-archive/{call_name}/\",\n",
    "        storage_options={\"token\": \"nyu-datasets-f47ad7afeb13.json\"},\n",
    "        engine=\"pyarrow\",\n",
    "        compression=\"snappy\",\n",
    "        partition_cols=[\"last_updated_date\"],\n",
    "    )\n",
    "\n",
    "\n",
    "@functions_framework.http\n",
    "def citibike(request):\n",
    "    store_api_call_to_google_bucket('station_information')\n",
    "    store_api_call_to_google_bucket('station_status')\n",
    "    return \"Success\"\n",
    "\n"
   ]
  },
  {
   "cell_type": "code",
   "execution_count": null,
   "metadata": {},
   "outputs": [],
   "source": []
  }
 ],
 "metadata": {
  "kernelspec": {
   "display_name": "Python 3 (ipykernel)",
   "language": "python",
   "name": "python3"
  },
  "language_info": {
   "codemirror_mode": {
    "name": "ipython",
    "version": 3
   },
   "file_extension": ".py",
   "mimetype": "text/x-python",
   "name": "python",
   "nbconvert_exporter": "python",
   "pygments_lexer": "ipython3",
   "version": "3.10.6"
  }
 },
 "nbformat": 4,
 "nbformat_minor": 1
}
