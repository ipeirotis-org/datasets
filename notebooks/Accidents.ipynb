{
 "cells": [
  {
   "cell_type": "code",
   "execution_count": 1,
   "metadata": {},
   "outputs": [
    {
     "name": "stdout",
     "output_type": "stream",
     "text": [
      "Hit:1 http://us-east-1.ec2.archive.ubuntu.com/ubuntu bionic InRelease\n",
      "Get:2 http://us-east-1.ec2.archive.ubuntu.com/ubuntu bionic-updates InRelease [88.7 kB]\n",
      "Get:3 http://us-east-1.ec2.archive.ubuntu.com/ubuntu bionic-backports InRelease [74.6 kB]\n",
      "Get:4 http://security.ubuntu.com/ubuntu bionic-security InRelease [83.2 kB]    \n",
      "Fetched 247 kB in 0s (519 kB/s)                                                \n",
      "Reading package lists... Done\n",
      "Reading package lists... Done\n",
      "Building dependency tree       \n",
      "Reading state information... Done\n",
      "python3-rtree is already the newest version (0.8.3+ds-1).\n",
      "The following packages were automatically installed and are no longer required:\n",
      "  avahi-daemon geoclue-2.0 gstreamer1.0-plugins-base iio-sensor-proxy\n",
      "  libavahi-core7 libavahi-glib1 libbrotli1 libcdparanoia0 libdaemon0\n",
      "  libgeoclue-2-0 libgstreamer-plugins-base1.0-0 libgstreamer1.0-0 libhyphen0\n",
      "  libmbim-glib4 libmbim-proxy libmm-glib0 libnss-mdns libopus0 liborc-0.4-0\n",
      "  libqmi-glib5 libqmi-proxy libqt5positioning5 libqt5printsupport5 libqt5qml5\n",
      "  libqt5quick5 libqt5sensors5 libqt5webchannel5 libqt5webkit5 libtheora0\n",
      "  libvisual-0.4-0 libvorbisenc2 libwoff1 modemmanager usb-modeswitch\n",
      "  usb-modeswitch-data\n",
      "Use 'sudo apt autoremove' to remove them.\n",
      "0 upgraded, 0 newly installed, 0 to remove and 64 not upgraded.\n"
     ]
    }
   ],
   "source": [
    "!sudo apt-get update\n",
    "!sudo apt-get install python3-rtree"
   ]
  },
  {
   "cell_type": "code",
   "execution_count": null,
   "metadata": {},
   "outputs": [],
   "source": [
    "# https://geoffboeing.com/2016/10/r-tree-spatial-index-python/"
   ]
  },
  {
   "cell_type": "code",
   "execution_count": null,
   "metadata": {},
   "outputs": [],
   "source": [
    "# Code for limiting \n",
    "\n",
    "from shapely.geometry import Point\n",
    "normalized_score['Coordinates'] = list(zip(normalized_score.Longitude, normalized_score.Latitude))\n",
    "normalized_score['Coordinates'] = normalized_score['Coordinates'].apply(Point)\n",
    "geo_restaurants = gpd.GeoDataFrame(normalized_score, geometry='Coordinates')\n",
    "\n",
    "# Perhaps use the UNIQUE KEY from the accidents data to limit results only to accidents with proper coordinates\n",
    "\n",
    "newdf = gpd.sjoin(df_manhattan, geo_restaurants)\n",
    "ddf = pd.DataFrame(newdf[['Longitude','Latitude']])\n",
    "type(ddf)"
   ]
  }
 ],
 "metadata": {
  "kernelspec": {
   "display_name": "Python 3",
   "language": "python",
   "name": "python3"
  },
  "language_info": {
   "codemirror_mode": {
    "name": "ipython",
    "version": 3
   },
   "file_extension": ".py",
   "mimetype": "text/x-python",
   "name": "python",
   "nbconvert_exporter": "python",
   "pygments_lexer": "ipython3",
   "version": "3.6.6"
  }
 },
 "nbformat": 4,
 "nbformat_minor": 2
}
