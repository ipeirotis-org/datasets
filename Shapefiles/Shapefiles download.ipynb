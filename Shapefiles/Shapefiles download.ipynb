{
 "cells": [
  {
   "cell_type": "code",
   "execution_count": null,
   "id": "597bb974",
   "metadata": {},
   "outputs": [],
   "source": [
    "!pip install -U -q pip tensorflow geopandas folium mapclassify google-cloud-storage google-cloud-bigquery[pandas] db-dtypes"
   ]
  },
  {
   "cell_type": "code",
   "execution_count": null,
   "id": "58acfa61",
   "metadata": {},
   "outputs": [],
   "source": [
    "import folium\n",
    "import os\n",
    "import requests\n",
    "import zipfile\n",
    "import geopandas as gpd\n",
    "from tqdm import tqdm\n",
    "\n",
    "import os\n",
    "import zipfile\n",
    "from google.cloud import storage, bigquery\n",
    "import geopandas as gpd\n",
    "import pandas as pd\n"
   ]
  },
  {
   "cell_type": "markdown",
   "id": "5d006dec",
   "metadata": {},
   "source": [
    "The shapefiles are available at https://www2.census.gov/geo/tiger/TIGER2019/"
   ]
  },
  {
   "cell_type": "code",
   "execution_count": null,
   "id": "e5801e07",
   "metadata": {},
   "outputs": [],
   "source": [
    "# Path to your service account JSON file\n",
    "service_account_json = 'nyu-datasets-77d8cc8e92d6.json'\n",
    "\n",
    "# Set the environment variable\n",
    "os.environ['GOOGLE_APPLICATION_CREDENTIALS'] = service_account_json"
   ]
  },
  {
   "cell_type": "markdown",
   "id": "83e26908",
   "metadata": {},
   "source": [
    "# US States and US Counties"
   ]
  },
  {
   "cell_type": "code",
   "execution_count": null,
   "id": "10d2b9c1",
   "metadata": {},
   "outputs": [],
   "source": [
    "state_url = 'https://www2.census.gov/geo/tiger/TIGER2019/STATE/tl_2019_us_state.zip'\n",
    "states_gdf = gpd.GeoDataFrame.from_file(state_url)"
   ]
  },
  {
   "cell_type": "code",
   "execution_count": null,
   "id": "c549f2da",
   "metadata": {},
   "outputs": [],
   "source": [
    "counties_url = 'https://www2.census.gov/geo/tiger/TIGER2019/COUNTY/tl_2019_us_county.zip'\n",
    "counties_gdf = gpd.GeoDataFrame.from_file(counties_url)"
   ]
  },
  {
   "cell_type": "code",
   "execution_count": null,
   "id": "acc521ef",
   "metadata": {},
   "outputs": [],
   "source": [
    "states = states_gdf['STATEFP'].values"
   ]
  },
  {
   "cell_type": "code",
   "execution_count": null,
   "id": "5ec056b4",
   "metadata": {},
   "outputs": [],
   "source": [
    "counties = counties_gdf.filter(['STATEFP', 'COUNTYFP']).values"
   ]
  },
  {
   "cell_type": "markdown",
   "id": "9326c14e",
   "metadata": {},
   "source": [
    "# Download state, county, tract, water data to Google Bucket\n"
   ]
  },
  {
   "cell_type": "code",
   "execution_count": null,
   "id": "b74f0746",
   "metadata": {},
   "outputs": [],
   "source": [
    "def download_file_and_upload_to_gcs(url, local_path, bucket_name, destination_blob_name):\n",
    "    \"\"\"\n",
    "    Downloads a file from a URL and uploads it to Google Cloud Storage.\n",
    "\n",
    "    Args:\n",
    "    url (str): URL of the file to download.\n",
    "    local_path (str): Local path to save the file.\n",
    "    bucket_name (str): Name of the GCS bucket.\n",
    "    destination_blob_name (str): Destination blob name in the GCS bucket.\n",
    "    \"\"\"\n",
    "    # Download file\n",
    "    response = requests.get(url)\n",
    "    with open(local_path, 'wb') as file:\n",
    "        file.write(response.content)\n",
    "\n",
    "    # Upload to Google Cloud Storage\n",
    "    storage_client = storage.Client()\n",
    "    bucket = storage_client.bucket(bucket_name)\n",
    "    blob = bucket.blob(destination_blob_name)\n",
    "\n",
    "    blob.upload_from_filename(local_path)"
   ]
  },
  {
   "cell_type": "code",
   "execution_count": null,
   "id": "371f1d9d",
   "metadata": {},
   "outputs": [],
   "source": [
    "# Download states\n",
    "download_file_and_upload_to_gcs(state_url, 'maps/tl_2019_us_state.zip', 'census_shapefiles', 'states/tl_2019_us_state.zip')"
   ]
  },
  {
   "cell_type": "code",
   "execution_count": null,
   "id": "426dc172",
   "metadata": {},
   "outputs": [],
   "source": [
    "# Download counties\n",
    "download_file_and_upload_to_gcs(counties_url, 'maps/tl_2019_us_county.zip', 'census_shapefiles', 'counties/tl_2019_us_county.zip')"
   ]
  },
  {
   "cell_type": "code",
   "execution_count": null,
   "id": "b02bc9ba",
   "metadata": {},
   "outputs": [],
   "source": [
    "# Download tracts\n",
    "for STATEFP in tqdm(states):\n",
    "    filename = f\"tl_2019_{STATEFP}_tract.zip\"\n",
    "    tract_url = f\"https://www2.census.gov/geo/tiger/TIGER2019/TRACT/{filename}\"\n",
    "    download_file_and_upload_to_gcs(tract_url, f'maps/{filename}', 'census_shapefiles', f'tracts/{filename}')\n"
   ]
  },
  {
   "cell_type": "code",
   "execution_count": null,
   "id": "78f2aaef",
   "metadata": {},
   "outputs": [],
   "source": [
    "# Download blockgroups\n",
    "for STATEFP in tqdm(states):\n",
    "    filename = f\"tl_2019_{STATEFP}_bg.zip\"\n",
    "    tract_url = f\"https://www2.census.gov/geo/tiger/TIGER2019/BG/{filename}\"\n",
    "    download_file_and_upload_to_gcs(tract_url, f'maps/{filename}', 'census_shapefiles', f'blockgroups/{filename}')"
   ]
  },
  {
   "cell_type": "code",
   "execution_count": null,
   "id": "22b7a8f4",
   "metadata": {},
   "outputs": [],
   "source": [
    "# Download blocks\n",
    "for STATEFP in tqdm(states):\n",
    "    filename = f\"tl_2019_{STATEFP}_tabblock10.zip\"\n",
    "    tract_url = f\"https://www2.census.gov/geo/tiger/TIGER2019/TABBLOCK/{filename}\"\n",
    "    download_file_and_upload_to_gcs(tract_url, f'maps/{filename}', 'census_shapefiles', f'blocks/{filename}')\n"
   ]
  },
  {
   "cell_type": "code",
   "execution_count": null,
   "id": "23c77a58",
   "metadata": {},
   "outputs": [],
   "source": [
    "# Download water areas\n",
    "for STATEFP, COUNTYFP in tqdm(counties):\n",
    "    filename = f\"tl_2019_{STATEFP+COUNTYFP}_areawater.zip\"\n",
    "    tract_url = f\"https://www2.census.gov/geo/tiger/TIGER2019/AREAWATER/{filename}\"\n",
    "    download_file_and_upload_to_gcs(tract_url, f'maps/{filename}', 'census_shapefiles', f'areawater/{filename}')"
   ]
  },
  {
   "cell_type": "markdown",
   "id": "52a305ae",
   "metadata": {},
   "source": [
    "#  Import shapes to Bigquery"
   ]
  },
  {
   "cell_type": "code",
   "execution_count": null,
   "id": "7df4e735",
   "metadata": {},
   "outputs": [],
   "source": [
    "def upload_shapefile_to_bigquery(bucket_name, shapefile_blob_name, bigquery_dataset_id, bigquery_table_id, temp_dir='temp'):\n",
    "    # Initialize Google Cloud clients\n",
    "    storage_client = storage.Client()\n",
    "    bigquery_client = bigquery.Client()\n",
    "\n",
    "    # Create the temporary directory if it does not exist\n",
    "    os.makedirs(temp_dir, exist_ok=True)\n",
    "\n",
    "    # Download the shapefile ZIP from the bucket\n",
    "    bucket = storage_client.bucket(bucket_name)\n",
    "    blob = bucket.blob(shapefile_blob_name)\n",
    "\n",
    "    # Create the full path for the zip file, ensuring all subdirectories exist\n",
    "    zip_path = os.path.join(temp_dir, shapefile_blob_name)\n",
    "    os.makedirs(os.path.dirname(zip_path), exist_ok=True)\n",
    "\n",
    "    blob.download_to_filename(zip_path)\n",
    "\n",
    "    # Extract the ZIP file\n",
    "    with zipfile.ZipFile(zip_path, 'r') as zip_ref:\n",
    "        zip_ref.extractall(temp_dir)\n",
    "\n",
    "    # Find the .shp file inside the extracted folder\n",
    "    shp_path = None\n",
    "    for root, dirs, files in os.walk(temp_dir):\n",
    "        for filename in files:\n",
    "            if filename.endswith('.shp'):\n",
    "                shp_path = os.path.join(root, filename)\n",
    "                break\n",
    "        if shp_path:\n",
    "            break\n",
    "\n",
    "    if not shp_path:\n",
    "        raise FileNotFoundError(\"No .shp file found in the extracted ZIP.\")\n",
    "\n",
    "    # Read the shapefile into a GeoDataFrame\n",
    "    gdf = gpd.read_file(shp_path)\n",
    "\n",
    "    # Convert the geometries to a BigQuery-friendly format (e.g., WKT)\n",
    "    gdf['geometry'] = gdf['geometry'].apply(lambda x: x.wkt)\n",
    "\n",
    "    # Convert the GeoDataFrame to a Pandas DataFrame\n",
    "    df = pd.DataFrame(gdf)\n",
    "\n",
    "    # Create a BigQuery table and upload the DataFrame\n",
    "    table_id = f\"{bigquery_dataset_id}.{bigquery_table_id}\"\n",
    "    job = bigquery_client.load_table_from_dataframe(df, table_id)\n",
    "    job.result()  # Wait for the job to complete \n",
    "    \n",
    "    # Clean up: remove temporary files and directories\n",
    "    for root, dirs, files in os.walk(temp_dir, topdown=False):\n",
    "        for name in files:\n",
    "            os.remove(os.path.join(root, name))\n",
    "        for name in dirs:\n",
    "            os.rmdir(os.path.join(root, name))\n",
    "\n",
    "            \n",
    "def convert_wkt_to_geograpphy(tablename):\n",
    "    \n",
    "    bigquery_client = bigquery.Client()\n",
    "    # Convert the WKT column to a GEOGRAPHY column and drop the original WKT column\n",
    "    sql = f\"\"\"\n",
    "        CREATE OR REPLACE TABLE `{tablename} AS\n",
    "        SELECT *, ST_GeogFromText(geometry) AS geography\n",
    "        FROM `{tablename}`;\n",
    "        ALTER TABLE `{tablename}\n",
    "        DROP COLUMN geometry;\n",
    "    \"\"\"\n",
    "    query_job = bigquery_client.query(sql)\n",
    "    query_job.result()  # Wait for the query to complete   "
   ]
  },
  {
   "cell_type": "code",
   "execution_count": null,
   "id": "9abf2959",
   "metadata": {},
   "outputs": [],
   "source": [
    "upload_shapefile_to_bigquery('census_shapefiles', 'states/tl_2019_us_state.zip', 'nyu-datasets.shapefiles', 'us_states')"
   ]
  },
  {
   "cell_type": "code",
   "execution_count": null,
   "id": "906153ee",
   "metadata": {},
   "outputs": [],
   "source": [
    "upload_shapefile_to_bigquery('census_shapefiles', 'counties/tl_2019_us_county.zip', 'nyu-datasets.shapefiles', 'us_counties')"
   ]
  },
  {
   "cell_type": "code",
   "execution_count": null,
   "id": "402fad79",
   "metadata": {},
   "outputs": [],
   "source": [
    "for STATEFP in tqdm(states):\n",
    "    filename = f\"tl_2019_{STATEFP}_tract.zip\"\n",
    "    upload_shapefile_to_bigquery('census_shapefiles', f'tracts/{filename}', 'nyu-datasets.shapefiles', 'us_tracts')\n",
    "\n",
    "convert_wkt_to_geograpphy('nyu-datasets.shapefiles.us_tracts')"
   ]
  },
  {
   "cell_type": "code",
   "execution_count": null,
   "id": "422740fc",
   "metadata": {},
   "outputs": [],
   "source": [
    "for STATEFP in tqdm(states):\n",
    "    filename = f\"tl_2019_{STATEFP}_bg.zip\"\n",
    "    upload_shapefile_to_bigquery('census_shapefiles', f'blockgroups/{filename}', 'nyu-datasets.shapefiles', 'us_blockgroups')\n",
    "\n",
    "convert_wkt_to_geograpphy('nyu-datasets.shapefiles.us_blockgroups')"
   ]
  },
  {
   "cell_type": "code",
   "execution_count": null,
   "id": "85a5a585",
   "metadata": {},
   "outputs": [],
   "source": [
    "for STATEFP in tqdm(states):\n",
    "    filename = f\"tl_2019_{STATEFP}_tabblock10.zip\"\n",
    "    upload_shapefile_to_bigquery('census_shapefiles', f'blocks/{filename}', 'nyu-datasets.shapefiles', 'us_blocks')\n",
    "\n",
    "convert_wkt_to_geograpphy('nyu-datasets.shapefiles.us_blocks')"
   ]
  },
  {
   "cell_type": "code",
   "execution_count": null,
   "id": "e09fc150",
   "metadata": {},
   "outputs": [],
   "source": [
    "# Download water areas\n",
    "for STATEFP, COUNTYFP in tqdm(counties):\n",
    "    filename = f\"tl_2019_{STATEFP+COUNTYFP}_areawater.zip\"\n",
    "    tract_url = f\"https://www2.census.gov/geo/tiger/TIGER2019/AREAWATER/{filename}\"\n",
    "    download_file_and_upload_to_gcs(tract_url, f'maps/{filename}', 'census_shapefiles', f'areawater/{filename}')"
   ]
  },
  {
   "cell_type": "markdown",
   "id": "1e33b1a7",
   "metadata": {},
   "source": [
    "# Area Water"
   ]
  },
  {
   "cell_type": "code",
   "execution_count": null,
   "id": "4a7402bf",
   "metadata": {},
   "outputs": [],
   "source": [
    "def download_and_process_geodata(STATEFP, COUNTYFP, YEAR=2019):\n",
    "    \"\"\"\n",
    "    Downloads and processes geospatial data for a specified state and county.\n",
    "\n",
    "    Args:\n",
    "    STATEFP (str): State FIPS code.\n",
    "    COUNTYFP (str): County FIPS code.\n",
    "    YEAR (int, optional): Year for the dataset. Defaults to 2019.\n",
    "\n",
    "    Returns:\n",
    "    GeoDataFrame: A GeoDataFrame containing the processed geospatial data.\n",
    "    \"\"\"\n",
    "\n",
    "\n",
    "\n",
    "    # Creating directory for maps\n",
    "    os.makedirs('maps', exist_ok=True)\n",
    "\n",
    "    # Download the boundaries of tracts\n",
    "    filename = f\"tl_{YEAR}_{STATEFP}_tract.zip\"\n",
    "    tract_url = f\"https://www2.census.gov/geo/tiger/TIGER{YEAR}/TRACT/{filename}\"\n",
    "    download_file(tract_url, f'maps/{filename}')\n",
    "\n",
    "    # Extracting the ZIP file\n",
    "    with zipfile.ZipFile(f'maps/{filename}', 'r') as zip_ref:\n",
    "        zip_ref.extractall('maps')\n",
    "\n",
    "    shapefile = f\"maps/{filename[:-4]}.shp\"\n",
    "    geo_df = gpd.read_file(shapefile)\n",
    "    # Keep only the data for the county of interest\n",
    "    geo_df = geo_df.query(f\"COUNTYFP == '{COUNTYFP}'\")\n",
    "\n",
    "    # Download water areas to avoid including them in maps\n",
    "    water_filename = f\"tl_{YEAR}_{STATEFP+COUNTYFP}_areawater.zip\"\n",
    "    water_url = f\"https://www2.census.gov/geo/tiger/TIGER{YEAR}/AREAWATER/{water_filename}\"\n",
    "    download_file(water_url, f'maps/{water_filename}')\n",
    "\n",
    "    # Extracting the water ZIP file\n",
    "    with zipfile.ZipFile(f'maps/{water_filename}', 'r') as zip_ref:\n",
    "        zip_ref.extractall('maps')\n",
    "\n",
    "    water_shapefile = f\"maps/{water_filename[:-4]}.shp\"\n",
    "    water_geodf = gpd.read_file(water_shapefile)\n",
    "\n",
    "    # Remove water areas from the tracts\n",
    "    geo_df = gpd.overlay(geo_df, water_geodf, how=\"difference\")\n",
    "\n",
    "    # Keep only variables of interest\n",
    "    geo_df = geo_df.filter(['STATEFP', 'COUNTYFP', 'TRACTCE', 'GEOID', 'NAMELSAD', 'ALAND', 'geometry'])\n",
    "\n",
    "    return geo_df\n"
   ]
  },
  {
   "cell_type": "code",
   "execution_count": null,
   "id": "cdb96dc7",
   "metadata": {},
   "outputs": [],
   "source": [
    "\n",
    "# Example usage:\n",
    "geo_df = download_and_process_geodata(\"36\", \"061\") # For New York, Manhattan\n",
    "\n",
    "# Plot the tract boundaries\n",
    "geo_df.plot(\n",
    "    figsize=(10, 10),\n",
    "    color=\"white\",\n",
    "    edgecolor=\"black\",\n",
    "    linewidth=0.5,\n",
    "    zorder=0,\n",
    "    facecolor=\"white\",\n",
    ")"
   ]
  }
 ],
 "metadata": {
  "kernelspec": {
   "display_name": "Python 3 (ipykernel)",
   "language": "python",
   "name": "python3"
  },
  "language_info": {
   "codemirror_mode": {
    "name": "ipython",
    "version": 3
   },
   "file_extension": ".py",
   "mimetype": "text/x-python",
   "name": "python",
   "nbconvert_exporter": "python",
   "pygments_lexer": "ipython3",
   "version": "3.10.6"
  }
 },
 "nbformat": 4,
 "nbformat_minor": 5
}
