{
 "cells": [
  {
   "cell_type": "markdown",
   "metadata": {},
   "source": [
    "## Citibike Dataset\n",
    "\n"
   ]
  },
  {
   "cell_type": "code",
   "execution_count": null,
   "metadata": {},
   "outputs": [],
   "source": [
    "%matplotlib inline\n",
    "import pandas as pd\n",
    "import MySQLdb as mdb\n",
    "import matplotlib \n",
    "matplotlib.style.use(['seaborn-talk', 'seaborn-ticks', 'seaborn-whitegrid'])\n",
    "matplotlib.rcParams['figure.figsize'] = (20,10)"
   ]
  },
  {
   "cell_type": "code",
   "execution_count": null,
   "metadata": {},
   "outputs": [],
   "source": [
    "from sqlalchemy import create_engine\n",
    "\n",
    "conn_string_read = 'mysql://{user}:{password}@{host}/{db}?charset=utf8mb4'.format(\n",
    "    host = 'localhost', \n",
    "    user = 'root',\n",
    "    password = 'dwdstudent2015',\n",
    "    encoding = 'utf8mb4', db='citibike_new')\n",
    "engine_read = create_engine(conn_string_read)\n",
    "\n"
   ]
  },
  {
   "cell_type": "code",
   "execution_count": null,
   "metadata": {},
   "outputs": [],
   "source": [
    "query = '''\n",
    "SELECT station_id AS id, \n",
    "       AVG(num_bikes_available) AS available_bikes,\n",
    "       AVG(num_docks_available) AS available_docks,\n",
    "       AVG(num_bikes_disabled) AS disabled_bikes,\n",
    "       AVG(num_docks_disabled) AS disabled_docks,\n",
    "       AVG(num_bikes_available/(num_bikes_available+num_docks_available+num_bikes_disabled+num_docks_disabled)) AS percent_full, \n",
    "       DATE_FORMAT(last_reported, '%%Y-%%m-%%d %%H:00:00') AS communication_time \n",
    "FROM citibike_new.Status\n",
    "WHERE  is_renting=1 AND is_installed=1 AND num_bikes_available+num_docks_available+num_bikes_disabled+num_docks_disabled>0\n",
    "GROUP BY station_id, communication_time\n",
    "'''\n",
    "df = pd.read_sql(query, con=engine_read)"
   ]
  },
  {
   "cell_type": "code",
   "execution_count": null,
   "metadata": {},
   "outputs": [],
   "source": [
    "len(df)"
   ]
  },
  {
   "cell_type": "code",
   "execution_count": null,
   "metadata": {},
   "outputs": [],
   "source": [
    "df.head(10)"
   ]
  },
  {
   "cell_type": "code",
   "execution_count": null,
   "metadata": {},
   "outputs": [],
   "source": [
    "df['communication_time'] = pd.to_datetime(df['communication_time'], format='%Y-%m-%d %H:%M:%S')"
   ]
  },
  {
   "cell_type": "code",
   "execution_count": null,
   "metadata": {},
   "outputs": [],
   "source": [
    "df['total_docks'] =  df.available_bikes + df.available_docks + df.disabled_bikes + df.disabled_docks"
   ]
  },
  {
   "cell_type": "code",
   "execution_count": null,
   "metadata": {},
   "outputs": [],
   "source": [
    "df.dtypes"
   ]
  },
  {
   "cell_type": "code",
   "execution_count": null,
   "metadata": {},
   "outputs": [],
   "source": [
    "df.total_docks = df.total_docks.astype(int)"
   ]
  },
  {
   "cell_type": "code",
   "execution_count": null,
   "metadata": {},
   "outputs": [],
   "source": [
    "df = df[ ['id', 'communication_time', 'available_bikes', 'available_docks', 'disabled_bikes', 'disabled_docks', 'total_docks', 'percent_full' ] ]"
   ]
  },
  {
   "cell_type": "code",
   "execution_count": null,
   "metadata": {},
   "outputs": [],
   "source": [
    "df.sort_values(by = ['id', 'communication_time'], inplace=True)"
   ]
  },
  {
   "cell_type": "code",
   "execution_count": null,
   "metadata": {},
   "outputs": [],
   "source": [
    "df"
   ]
  },
  {
   "cell_type": "markdown",
   "metadata": {},
   "source": [
    "### Writing a Pandas Dataframe in a MySQL Table"
   ]
  },
  {
   "cell_type": "markdown",
   "metadata": {},
   "source": [
    "Now we will connect to our MySQL server. We will use the SQLAlchemy library of Python.\n",
    "\n",
    "If you do not have the library, you need to install it by typing in the shell:"
   ]
  },
  {
   "cell_type": "code",
   "execution_count": null,
   "metadata": {},
   "outputs": [],
   "source": [
    "conn_string_write = 'mysql://{user}:{password}@{host}/?charset=utf8mb4'.format(\n",
    "    host = 'db.ipeirotis.org', \n",
    "    user = 'root',\n",
    "    password = 'krjniJm6OuIyhEoo',\n",
    "    encoding = 'utf8mb4')\n",
    "engine_write = create_engine(conn_string_write)\n"
   ]
  },
  {
   "cell_type": "markdown",
   "metadata": {},
   "source": [
    "Once we have connected successfully, we need to create our database:"
   ]
  },
  {
   "cell_type": "code",
   "execution_count": null,
   "metadata": {},
   "outputs": [],
   "source": [
    "# Query to create a database\n",
    "db_name = 'citibike'\n",
    "create_db_query = \"CREATE DATABASE IF NOT EXISTS {db} DEFAULT CHARACTER SET 'utf8mb4'\".format(db=db_name)\n",
    "\n",
    "# Create a database\n",
    "engine_write.execute(create_db_query)\n",
    "# And lets switch to the database\n",
    "engine_write.execute(\"USE {db}\".format(db=db_name))"
   ]
  },
  {
   "cell_type": "code",
   "execution_count": null,
   "metadata": {},
   "outputs": [],
   "source": [
    "table_name = 'stations'\n",
    "\n",
    "df.to_sql(\n",
    "    name = table_name, \n",
    "    schema = db_name, \n",
    "    con = engine_write,\n",
    "    if_exists = 'replace',\n",
    "    index = False, \n",
    "    chunksize = 1000)"
   ]
  },
  {
   "cell_type": "code",
   "execution_count": null,
   "metadata": {},
   "outputs": [],
   "source": [
    "# Once we have the data in the table, we also specify a primary key\n",
    "# If we had FOREIGN KEYS we can add them in the same way\n",
    "# add_key_query = 'ALTER TABLE nypd ADD PRIMARY KEY(CMPLNT_NUM)'\n",
    "# engine.execute(add_key_query)"
   ]
  },
  {
   "cell_type": "code",
   "execution_count": null,
   "metadata": {},
   "outputs": [],
   "source": []
  }
 ],
 "metadata": {
  "kernelspec": {
   "display_name": "Python 3",
   "language": "python",
   "name": "python3"
  },
  "language_info": {
   "codemirror_mode": {
    "name": "ipython",
    "version": 3
   },
   "file_extension": ".py",
   "mimetype": "text/x-python",
   "name": "python",
   "nbconvert_exporter": "python",
   "pygments_lexer": "ipython3",
   "version": "3.6.6"
  }
 },
 "nbformat": 4,
 "nbformat_minor": 1
}
