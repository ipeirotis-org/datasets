{
  "nbformat": 4,
  "nbformat_minor": 0,
  "metadata": {
    "colab": {
      "private_outputs": true,
      "provenance": [],
      "authorship_tag": "ABX9TyOlOpt4DNRSErPMqQu1ToRM",
      "include_colab_link": true
    },
    "kernelspec": {
      "name": "python3",
      "display_name": "Python 3"
    },
    "language_info": {
      "name": "python"
    }
  },
  "cells": [
    {
      "cell_type": "markdown",
      "metadata": {
        "id": "view-in-github",
        "colab_type": "text"
      },
      "source": [
        "<a href=\"https://colab.research.google.com/github/ipeirotis-org/datasets/blob/main/NYC_Traffic_Data.ipynb\" target=\"_parent\"><img src=\"https://colab.research.google.com/assets/colab-badge.svg\" alt=\"Open In Colab\"/></a>"
      ]
    },
    {
      "cell_type": "code",
      "execution_count": null,
      "metadata": {
        "id": "YFJBYCdC-tnZ"
      },
      "outputs": [],
      "source": [
        "import pandas as pd\n",
        "import geopandas as gpd\n",
        "from shapely import wkt"
      ]
    },
    {
      "cell_type": "code",
      "source": [
        "!curl 'https://data.cityofnewyork.us/api/views/7ym2-wayt/rows.csv?accessType=DOWNLOAD' -o traffic.csv"
      ],
      "metadata": {
        "id": "ODR_UCgO-5kg"
      },
      "execution_count": null,
      "outputs": []
    },
    {
      "cell_type": "code",
      "source": [
        "# Load the dataset\n",
        "df = pd.read_csv(\"traffic.csv\")\n",
        "\n",
        "# Combine the date and time columns into a single datetime column\n",
        "df['DateTime'] = pd.to_datetime(df[['Yr', 'M', 'D', 'HH', 'MM']].astype(str).agg('-'.join, axis=1), format='%Y-%m-%d-%H-%M')\n",
        "\n",
        "# Drop the original date and time columns if you no longer need them\n",
        "df = df.drop(columns=['Yr', 'M', 'D', 'HH', 'MM'])"
      ],
      "metadata": {
        "id": "ID0N2KBx_Es2"
      },
      "execution_count": null,
      "outputs": []
    },
    {
      "cell_type": "code",
      "source": [],
      "metadata": {
        "id": "ZnYKTnghKlCI"
      },
      "execution_count": null,
      "outputs": []
    },
    {
      "cell_type": "code",
      "source": [],
      "metadata": {
        "id": "WtLVbY6iBITo"
      },
      "execution_count": null,
      "outputs": []
    },
    {
      "cell_type": "code",
      "source": [
        "# Convert WktGeom to geometry object\n",
        "df['geometry'] = df['WktGeom'].apply(wkt.loads)\n",
        "\n",
        "# Convert the DataFrame to a GeoDataFrame\n",
        "gdf = gpd.GeoDataFrame(df, geometry='geometry', crs='EPSG:2263')\n",
        "\n",
        "# Drop the original WktGeom column if you no longer need it\n",
        "gdf = gdf.drop(columns=['WktGeom'])\n"
      ],
      "metadata": {
        "id": "cM9HxyzW_Uz1"
      },
      "execution_count": null,
      "outputs": []
    },
    {
      "cell_type": "code",
      "source": [
        "gdf_wgs84 = gdf.to_crs('EPSG:4326')\n",
        "gdf_wgs84"
      ],
      "metadata": {
        "id": "OexSioO4Fwmp"
      },
      "execution_count": null,
      "outputs": []
    },
    {
      "cell_type": "code",
      "source": [
        "gdf_wgs84"
      ],
      "metadata": {
        "id": "b1y8wNs3IWTq"
      },
      "execution_count": null,
      "outputs": []
    },
    {
      "cell_type": "code",
      "source": [
        "pvt = gdf.pivot_table(\n",
        "    index='DateTime',\n",
        "    values='Vol',\n",
        "    columns='SegmentID',\n",
        "    aggfunc='mean'\n",
        ").resample('1Y').mean()\n",
        "\n"
      ],
      "metadata": {
        "id": "BG32Q-_BCFpL"
      },
      "execution_count": null,
      "outputs": []
    }
  ]
}